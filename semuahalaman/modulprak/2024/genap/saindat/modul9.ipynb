{
  "cells": [
    {
      "cell_type": "markdown",
      "metadata": {
        "id": "Zq4o-JIxwfDd"
      },
      "source": [
        "# Modul 9 Praktikum Sains Data: Pengantar PyTorch"
      ]
    },
    {
      "cell_type": "markdown",
      "metadata": {
        "id": "Wg6X2WwTwfDh"
      },
      "source": [
        "Kembali ke [Sains Data](./saindat2024genap.qmd)"
      ]
    },
    {
      "cell_type": "markdown",
      "metadata": {
        "id": "tVlBJE3ywfDj"
      },
      "source": [
        "Ini adalah pertemuan terakhir praktikum Sains Data tahun ini."
      ]
    },
    {
      "cell_type": "markdown",
      "metadata": {
        "id": "4JUwMwVkwfDk"
      },
      "source": [
        "Di dua pertemuan sebelumnya, kita sudah membahas tentang *neural network* dan *deep learning* dengan TensorFlow dan Keras. Dari segi materi mata kuliah Sains Data, sebenarnya kita sudah selesai.\n",
        "\n",
        "Namun, di awal [Modul 7](./modul7.ipynb), telah disebutkan bahwa ada dua *framework* utama yang umum digunakan untuk *deep learning* di Python, yaitu TensorFlow (dengan Keras) dan PyTorch.\n",
        "\n",
        "Agar wawasan kita lebih luas dan tidak terbatas satu *framework* saja, tidak ada salahnya kita coba mempelajari PyTorch juga :)"
      ]
    },
    {
      "cell_type": "markdown",
      "metadata": {
        "id": "gEU19KZqwfDo"
      },
      "source": [
        "Lagipula, untuk riset/penelitian di dunia *deep learning*, saat ini PyTorch jauh lebih sering digunakan dibandingkan TensorFlow:"
      ]
    },
    {
      "cell_type": "markdown",
      "metadata": {
        "id": "7lgs4eSuwfDp"
      },
      "source": [
        "![(Gambar tren November 2014 hingga April 2024: dari semua implementasi atau kode yang telah dibuat untuk paper *deep learning*, berapa persen menggunakan *framework* tertentu. Pada April 2024, persentase PyTorch lebih dari 50%, sedangkan persentase TensorFlow kurang dari 10%.)](./gambar/paperswithcode_nov14_apr24.png)\n",
        "\n",
        "Gambar tren November 2014 hingga April 2024: dari semua implementasi atau kode yang telah dibuat untuk paper *deep learning*, berapa persen menggunakan *framework* tertentu. Pada April 2024, persentase PyTorch lebih dari 50%, sedangkan persentase TensorFlow kurang dari 10%."
      ]
    },
    {
      "cell_type": "markdown",
      "metadata": {
        "id": "J6jLwujswfDp"
      },
      "source": [
        "Kalian bisa *explore* di *link* berikut: <https://paperswithcode.com/trends>"
      ]
    },
    {
      "cell_type": "markdown",
      "metadata": {
        "id": "FWuLpGf7wfDr"
      },
      "source": [
        "Apabila sewaktu-waktu kalian ingin menjalani skripsi atau semacamnya di dunia *deep learning*, atau setidaknya ingin membaca riset terbaru, kami harap wawasan tentang PyTorch ini bermanfaat."
      ]
    },
    {
      "cell_type": "markdown",
      "metadata": {
        "id": "lIORRLuiwfDs"
      },
      "source": [
        "::: {.callout-note}\n",
        "## Tentang urutan materi\n",
        "\n",
        "Kami sengaja mengajarkan TensorFlow dan Keras terlebih dahulu, baru mengajarkan PyTorch, karena penyusunan model di PyTorch mirip dengan penggunaan *subclassing API* di Keras.\n",
        "\n",
        ":::"
      ]
    },
    {
      "cell_type": "markdown",
      "metadata": {
        "id": "jFZ5fSU5wfDu"
      },
      "source": [
        "Sebelum kita mulai, instal terlebih dahulu PyTorch, dengan menginstal `torch` dan `torchvision`"
      ]
    },
    {
      "cell_type": "code",
      "execution_count": null,
      "metadata": {
        "id": "p51p0GrPwfDu"
      },
      "outputs": [],
      "source": [
        "pip install torch torchvision"
      ]
    },
    {
      "cell_type": "markdown",
      "metadata": {
        "id": "KER_4lz9wfDw"
      },
      "source": [
        "- `torch` adalah PyTorch.\n",
        "- `torchvision` menyediakan fitur-fitur yang membantu ketika berurusan dengan gambar, bahkan seperti sudah menjadi bagian yang tidak terpisahkan dari `torch`.\n",
        "- Sebenarnya ada juga `torchaudio` yang membantu ketika berurusan dengan data suara. Boleh saja kalian instal juga:\n",
        "\n",
        "    `pip install torch torchvision torchaudio`\n",
        "\n",
        "Terkait penginstalan PyTorch, kalian bisa membaca lebih lanjut di sini: <https://pytorch.org/get-started/locally/>"
      ]
    },
    {
      "cell_type": "markdown",
      "metadata": {
        "id": "eIhXUjivwfDx"
      },
      "source": [
        "Kalau sudah instal, jangan lupa *import*:"
      ]
    },
    {
      "cell_type": "code",
      "execution_count": 2,
      "metadata": {
        "id": "mkg0z0ZTwfD0"
      },
      "outputs": [],
      "source": [
        "import torch, torchvision"
      ]
    },
    {
      "cell_type": "markdown",
      "metadata": {
        "id": "fISQuwTKwfD1"
      },
      "source": [
        "Kita bisa lihat versinya (mungkin di kalian akan lebih baru):"
      ]
    },
    {
      "cell_type": "code",
      "execution_count": null,
      "metadata": {
        "id": "XJv71gG4wfD1",
        "outputId": "143ca846-6711-471d-986c-8cb41f541f7f"
      },
      "outputs": [
        {
          "name": "stdout",
          "output_type": "stream",
          "text": [
            "2.1.0\n"
          ]
        }
      ],
      "source": [
        "print(torch.__version__)"
      ]
    },
    {
      "cell_type": "code",
      "execution_count": null,
      "metadata": {
        "id": "G_q2Ara7wfD2",
        "outputId": "d2920ce8-af8e-4b2f-c574-58190635fafc"
      },
      "outputs": [
        {
          "name": "stdout",
          "output_type": "stream",
          "text": [
            "0.16.0\n"
          ]
        }
      ],
      "source": [
        "print(torchvision.__version__)"
      ]
    },
    {
      "cell_type": "markdown",
      "metadata": {
        "id": "ZqH17kz2wfD3"
      },
      "source": [
        "Jangan lupa *import* juga *library* yang biasa kita gunakan:"
      ]
    },
    {
      "cell_type": "code",
      "execution_count": 3,
      "metadata": {
        "id": "ooRsESJ2wfD5"
      },
      "outputs": [],
      "source": [
        "import numpy as np\n",
        "import pandas as pd\n",
        "import matplotlib.pyplot as plt"
      ]
    },
    {
      "cell_type": "markdown",
      "metadata": {
        "id": "DZZtPEcpwfD6"
      },
      "source": [
        "## Mengenal PyTorch"
      ]
    },
    {
      "cell_type": "markdown",
      "metadata": {
        "id": "7CQUlUdNwfD7"
      },
      "source": [
        "### CPU, GPU, dan *device-agnostic code*"
      ]
    },
    {
      "cell_type": "markdown",
      "metadata": {
        "id": "JCGm1WGTwfD7"
      },
      "source": [
        "Tiap komputer bisa memiliki kekuatan yang berbeda, termasuk ada/tiadanya komponen yang bernama GPU.\n",
        "\n",
        "Tiap komputer pasti punya yang namanya CPU atau *Central Processing Unit*, yang biasanya menjadi pusat segala komputasi di komputer itu, sesuai namanya.\n",
        "\n",
        "Namun, untuk perhitungan dengan matriks, tensor atau semacamnya, GPU atau *Graphics Processing Unit* lebih cepat. Perhitungan seperti itu biasa dilakukan untuk tampilan atau *graphics* ketika sedang bermain *game*, dan juga biasa dilakukan ketika berurusan dengan *neural network*."
      ]
    },
    {
      "cell_type": "markdown",
      "metadata": {
        "id": "dIvEBrpnwfD7"
      },
      "source": [
        "Sehingga, daripada menggunakan CPU, ada baiknya menggunakan GPU, **kalau ada**."
      ]
    },
    {
      "cell_type": "markdown",
      "metadata": {
        "id": "Df798kWnwfD8"
      },
      "source": [
        "Di Google Colaboratory, di menu `Runtime > Change runtime type`, di bagian *hardware accelerator*, kalian bisa mengubah *setting*, apakah ingin menggunakan CPU atau GPU. (Bahkan, ada juga TPU atau *tensor processing unit* yang sepertinya lebih dikhususkan lagi untuk komputasi dengan tensor.)"
      ]
    },
    {
      "cell_type": "markdown",
      "metadata": {
        "id": "tqMILgzFwfD8"
      },
      "source": [
        "![](./gambar/colabgpu_runtime.png)"
      ]
    },
    {
      "cell_type": "markdown",
      "metadata": {
        "id": "4JTTCfU7wfD8"
      },
      "source": [
        "![](./gambar/colabgpu_hardware_accelerator.png)"
      ]
    },
    {
      "cell_type": "markdown",
      "metadata": {
        "id": "smAT1-s8wfD9"
      },
      "source": [
        "Apapun yang tersedia, **tiap kali kita ingin menggunakan PyTorch,** sebaiknya kita beritahu, mana yang ingin kita gunakan. Agar tidak berantakan, caranya bisa dengan kode berikut:"
      ]
    },
    {
      "cell_type": "code",
      "execution_count": 4,
      "metadata": {
        "colab": {
          "base_uri": "https://localhost:8080/"
        },
        "id": "rbkYi48fwfD9",
        "outputId": "8f055b8d-af10-460e-a4a9-8ffed5907f06"
      },
      "outputs": [
        {
          "name": "stdout",
          "output_type": "stream",
          "text": [
            "Using device: cuda\n"
          ]
        }
      ],
      "source": [
        "# Setup device-agnostic code\n",
        "if torch.cuda.is_available():\n",
        "    device = \"cuda\" # NVIDIA GPU\n",
        "elif torch.backends.mps.is_available():\n",
        "    device = \"mps\" # Apple GPU\n",
        "else:\n",
        "    device = \"cpu\" # Defaults to CPU if NVIDIA GPU/Apple GPU aren't available\n",
        "\n",
        "print(f\"Using device: {device}\")"
      ]
    },
    {
      "cell_type": "markdown",
      "metadata": {
        "id": "g3P7s4CbwfD-"
      },
      "source": [
        "Sumber kode: <https://www.learnpytorch.io/pytorch_cheatsheet/#device-agnostic-code-using-pytorch-on-cpu-gpu-or-mps>"
      ]
    },
    {
      "cell_type": "markdown",
      "metadata": {
        "id": "DYp_mmw-wfD_"
      },
      "source": [
        "*Output* nya akan sesuai dengan pilihan terbaik yang ada, antara CPU atau GPU."
      ]
    },
    {
      "cell_type": "markdown",
      "metadata": {
        "id": "DWOsdBzawfD_"
      },
      "source": [
        "Kode di atas sebenarnya hanya menyimpan pilihan tersebut sebagai *string* ke dalam variabel `device`. Namun, variabel ini nantinya akan digunakan selama berurusan dengan PyTorch.\n",
        "\n",
        "Sehingga, apabila kita ingin ganti dari CPU ke GPU atau sebaliknya, kita tinggal mengubah isi variabel `device` ini (misalnya menggunakan kode di atas), tidak perlu mengubah kode PyTorch yang sudah kita buat.\n",
        "\n",
        "Dengan demikian, kode PyTorch yang sudah kita buat menjadi tidak tergantung *device* yang digunakan (apakah CPU atau GPU), atau disebut *device-agnostic*."
      ]
    },
    {
      "cell_type": "markdown",
      "metadata": {
        "id": "SFUifXnMwfD_"
      },
      "source": [
        "### Tensor"
      ]
    },
    {
      "cell_type": "markdown",
      "metadata": {
        "id": "TkFDRgXawfEB"
      },
      "source": [
        "Seperti di TensorFlow, di PyTorch juga ada tensor. Cara membuatnya adalah dengan `torch.tensor`"
      ]
    },
    {
      "cell_type": "markdown",
      "metadata": {
        "id": "LH4rcQy5wfEB"
      },
      "source": [
        "Contohnya, skalar:"
      ]
    },
    {
      "cell_type": "code",
      "execution_count": null,
      "metadata": {
        "id": "f4CoPdAvwfEC"
      },
      "outputs": [],
      "source": [
        "tensor0 = torch.tensor(1.5)"
      ]
    },
    {
      "cell_type": "code",
      "execution_count": null,
      "metadata": {
        "id": "XPrpxFmlwfEC",
        "outputId": "0b65dc40-6930-4c6f-ec93-3922eb4d4302"
      },
      "outputs": [
        {
          "name": "stdout",
          "output_type": "stream",
          "text": [
            "tensor(1.5000)\n"
          ]
        }
      ],
      "source": [
        "print(tensor0)"
      ]
    },
    {
      "cell_type": "code",
      "execution_count": null,
      "metadata": {
        "id": "F20FT5hvwfEE",
        "outputId": "7c840372-4606-4a68-da71-877701afc45b"
      },
      "outputs": [
        {
          "name": "stdout",
          "output_type": "stream",
          "text": [
            "<class 'torch.Tensor'>\n"
          ]
        }
      ],
      "source": [
        "print(type(tensor0))"
      ]
    },
    {
      "cell_type": "markdown",
      "metadata": {
        "id": "HY22hq_vwfEF"
      },
      "source": [
        "Kita bisa melihat dimensinya (rank/dimensi tensor) melalui `.ndim`"
      ]
    },
    {
      "cell_type": "code",
      "execution_count": null,
      "metadata": {
        "id": "zxcUEYMdwfEF",
        "outputId": "46477c85-6790-4407-984f-f698d245a86e"
      },
      "outputs": [
        {
          "name": "stdout",
          "output_type": "stream",
          "text": [
            "0\n"
          ]
        }
      ],
      "source": [
        "print(tensor0.ndim)"
      ]
    },
    {
      "cell_type": "markdown",
      "metadata": {
        "id": "dEsisP3RwfEG"
      },
      "source": [
        "Tipe datanya berupa `torch.tensor` tapi kita bisa memperoleh nilai skalarnya dengan `.item()`"
      ]
    },
    {
      "cell_type": "code",
      "execution_count": null,
      "metadata": {
        "id": "ZjBhyszowfEH",
        "outputId": "7065dd6c-5ff7-4865-c475-49f4db5248d6"
      },
      "outputs": [
        {
          "data": {
            "text/plain": [
              "1.5"
            ]
          },
          "execution_count": 15,
          "metadata": {},
          "output_type": "execute_result"
        }
      ],
      "source": [
        "tensor0.item()"
      ]
    },
    {
      "cell_type": "code",
      "execution_count": null,
      "metadata": {
        "id": "8ZQmHd8vwfEI",
        "outputId": "76c03aed-37c9-48d9-b3e4-6d89d39bed45"
      },
      "outputs": [
        {
          "data": {
            "text/plain": [
              "float"
            ]
          },
          "execution_count": 16,
          "metadata": {},
          "output_type": "execute_result"
        }
      ],
      "source": [
        "type(tensor0.item())"
      ]
    },
    {
      "cell_type": "markdown",
      "metadata": {
        "id": "OAOj4jTswfEJ"
      },
      "source": [
        "Contoh lain, array/vektor:"
      ]
    },
    {
      "cell_type": "code",
      "execution_count": null,
      "metadata": {
        "id": "lw4qZuIMwfEK"
      },
      "outputs": [],
      "source": [
        "tensor1 = torch.tensor([2.31, 4.567, 8.9])"
      ]
    },
    {
      "cell_type": "code",
      "execution_count": null,
      "metadata": {
        "id": "QMvmfz5uwfEK",
        "outputId": "24c0cb45-e620-4cdc-94b5-5dfbd1e4534d"
      },
      "outputs": [
        {
          "name": "stdout",
          "output_type": "stream",
          "text": [
            "tensor([2.3100, 4.5670, 8.9000])\n"
          ]
        }
      ],
      "source": [
        "print(tensor1)"
      ]
    },
    {
      "cell_type": "code",
      "execution_count": null,
      "metadata": {
        "id": "2TwcghPVwfEL",
        "outputId": "68dbc7cd-3d2e-4891-c04a-73f2c79909f6"
      },
      "outputs": [
        {
          "name": "stdout",
          "output_type": "stream",
          "text": [
            "1\n"
          ]
        }
      ],
      "source": [
        "print(tensor1.ndim)"
      ]
    },
    {
      "cell_type": "markdown",
      "metadata": {
        "id": "q-K0L7nDwfEL"
      },
      "source": [
        "Selain dimensi tensor, ada juga `.shape` yang di sini melambangkan ukuran array/vektor, seperti `.shape` di numpy"
      ]
    },
    {
      "cell_type": "code",
      "execution_count": null,
      "metadata": {
        "id": "tfh848KcwfEM",
        "outputId": "c91e0d0f-9fa0-4680-9201-8222124adda9"
      },
      "outputs": [
        {
          "name": "stdout",
          "output_type": "stream",
          "text": [
            "torch.Size([3])\n"
          ]
        }
      ],
      "source": [
        "print(tensor1.shape)"
      ]
    },
    {
      "cell_type": "markdown",
      "metadata": {
        "id": "txBbf6H_wfEN"
      },
      "source": [
        "Nilai suatu elemen di tensor juga bisa diubah:"
      ]
    },
    {
      "cell_type": "code",
      "execution_count": null,
      "metadata": {
        "id": "FkG88wkAwfEO"
      },
      "outputs": [],
      "source": [
        "tensor1[0] = 52.5"
      ]
    },
    {
      "cell_type": "code",
      "execution_count": null,
      "metadata": {
        "id": "u2god9XxwfEO",
        "outputId": "89e002c9-770a-43ff-91a0-26f9b5f4cddf"
      },
      "outputs": [
        {
          "name": "stdout",
          "output_type": "stream",
          "text": [
            "tensor([52.5000,  4.5670,  8.9000])\n"
          ]
        }
      ],
      "source": [
        "print(tensor1)"
      ]
    },
    {
      "cell_type": "markdown",
      "metadata": {
        "id": "ijR4nCKswfEP"
      },
      "source": [
        "Ada juga tipe data:"
      ]
    },
    {
      "cell_type": "code",
      "execution_count": null,
      "metadata": {
        "id": "ShID7zk9wfEQ",
        "outputId": "a94c72ff-8f96-4715-9a51-c85469b49363"
      },
      "outputs": [
        {
          "name": "stdout",
          "output_type": "stream",
          "text": [
            "torch.float32\n"
          ]
        }
      ],
      "source": [
        "print(tensor1.dtype)"
      ]
    },
    {
      "cell_type": "markdown",
      "metadata": {
        "id": "iUx-5Mk8wfEQ"
      },
      "source": [
        "Seperti tensor di TensorFlow, tensor di PyTorch juga biasanya menggunakan bilangan *float* yang 32-bit daripada 64-bit."
      ]
    },
    {
      "cell_type": "markdown",
      "metadata": {
        "id": "P8n2G_l6wfER"
      },
      "source": [
        "Contoh lagi, matriks:"
      ]
    },
    {
      "cell_type": "code",
      "execution_count": null,
      "metadata": {
        "id": "hPWt6SH9wfER"
      },
      "outputs": [],
      "source": [
        "mat1 = torch.tensor([\n",
        "    [1, 2.718, 3.14],\n",
        "    [4, 5, 6.28]\n",
        "])"
      ]
    },
    {
      "cell_type": "code",
      "execution_count": null,
      "metadata": {
        "id": "HO1pzj6wwfES",
        "outputId": "be3264a5-951f-4df3-bf50-431281dc610a"
      },
      "outputs": [
        {
          "name": "stdout",
          "output_type": "stream",
          "text": [
            "tensor([[1.0000, 2.7180, 3.1400],\n",
            "        [4.0000, 5.0000, 6.2800]])\n"
          ]
        }
      ],
      "source": [
        "print(mat1)"
      ]
    },
    {
      "cell_type": "code",
      "execution_count": null,
      "metadata": {
        "id": "KvMkSgf4wfES",
        "outputId": "8a512711-48ad-4e89-eb87-538fc86ff6dd"
      },
      "outputs": [
        {
          "name": "stdout",
          "output_type": "stream",
          "text": [
            "2\n"
          ]
        }
      ],
      "source": [
        "print(mat1.ndim)"
      ]
    },
    {
      "cell_type": "code",
      "execution_count": null,
      "metadata": {
        "id": "Wxnn1Co7wfET",
        "outputId": "0128d95a-ea32-4e09-b3cd-91b093aa5ae1"
      },
      "outputs": [
        {
          "name": "stdout",
          "output_type": "stream",
          "text": [
            "torch.Size([2, 3])\n"
          ]
        }
      ],
      "source": [
        "print(mat1.shape)"
      ]
    },
    {
      "cell_type": "markdown",
      "metadata": {
        "id": "2hLDizSowfET"
      },
      "source": [
        "Kita bisa buat matriks kedua, lalu mengalikannya dengan perkalian matriks menggunakan `torch.matmul`"
      ]
    },
    {
      "cell_type": "code",
      "execution_count": null,
      "metadata": {
        "id": "RTICyLlawfEU"
      },
      "outputs": [],
      "source": [
        "mat2 = torch.tensor([\n",
        "    [9, 8],\n",
        "    [7, 6],\n",
        "    [5, 4.3]\n",
        "])"
      ]
    },
    {
      "cell_type": "code",
      "execution_count": null,
      "metadata": {
        "id": "0zcpwkLEwfEU",
        "outputId": "0f19c9b8-7468-4145-bfa1-075a081db47e"
      },
      "outputs": [
        {
          "name": "stdout",
          "output_type": "stream",
          "text": [
            "2\n",
            "torch.Size([3, 2])\n",
            "torch.float32\n"
          ]
        }
      ],
      "source": [
        "print(mat2.ndim)\n",
        "print(mat2.shape)\n",
        "print(mat2.dtype)"
      ]
    },
    {
      "cell_type": "code",
      "execution_count": null,
      "metadata": {
        "id": "A2haeu92wfEW"
      },
      "outputs": [],
      "source": [
        "mat3 = torch.matmul(mat1, mat2)"
      ]
    },
    {
      "cell_type": "code",
      "execution_count": null,
      "metadata": {
        "id": "7jbwrQFxwfEW",
        "outputId": "f84ce07e-9ed9-4731-c9fd-eacdc2455ef0"
      },
      "outputs": [
        {
          "name": "stdout",
          "output_type": "stream",
          "text": [
            "tensor([[ 43.7260,  37.8100],\n",
            "        [102.4000,  89.0040]])\n"
          ]
        }
      ],
      "source": [
        "print(mat3)"
      ]
    },
    {
      "cell_type": "markdown",
      "metadata": {
        "id": "P2aMbSVMwfEX"
      },
      "source": [
        "Matriks juga bisa ditranspos dengan `.T`"
      ]
    },
    {
      "cell_type": "code",
      "execution_count": null,
      "metadata": {
        "id": "1RsHT-_-wfEY",
        "outputId": "45f042cb-7afb-4569-e483-80c10b124c3d"
      },
      "outputs": [
        {
          "name": "stdout",
          "output_type": "stream",
          "text": [
            "tensor([[ 43.7260, 102.4000],\n",
            "        [ 37.8100,  89.0040]])\n"
          ]
        }
      ],
      "source": [
        "mat4 = mat3.T\n",
        "print(mat4)"
      ]
    },
    {
      "cell_type": "markdown",
      "metadata": {
        "id": "D6HIcCNBwfEZ"
      },
      "source": [
        "### Konversi dari/ke numpy"
      ]
    },
    {
      "cell_type": "markdown",
      "metadata": {
        "id": "sG_JvnkIwfEZ"
      },
      "source": [
        "Kita bisa mengonversi tensor PyTorch menjadi array numpy dan sebaliknya:\n",
        "\n",
        "- `.numpy()` untuk mengubah suatu tensor PyTorch menjadi array numpy\n",
        "\n",
        "- `torch.from_numpy(...)` untuk mengubah suatu array numpy menjadi tensor PyTorch"
      ]
    },
    {
      "cell_type": "code",
      "execution_count": null,
      "metadata": {
        "id": "zNpbVhGSwfEa",
        "outputId": "7eec04bb-b682-488c-9d70-b4d872209f65"
      },
      "outputs": [
        {
          "name": "stdout",
          "output_type": "stream",
          "text": [
            "[[ 43.725998 102.4     ]\n",
            " [ 37.809998  89.004   ]]\n",
            "<class 'numpy.ndarray'>\n",
            "float32\n"
          ]
        }
      ],
      "source": [
        "arr5 = mat4.numpy()\n",
        "print(arr5)\n",
        "print(type(arr5))\n",
        "print(arr5.dtype)"
      ]
    },
    {
      "cell_type": "code",
      "execution_count": null,
      "metadata": {
        "id": "T406lGkmwfEa",
        "outputId": "6bca0a55-5098-41f9-c0d6-0c77103b12aa"
      },
      "outputs": [
        {
          "name": "stdout",
          "output_type": "stream",
          "text": [
            "tensor([[ 43.7260, 102.4000],\n",
            "        [ 37.8100,  89.0040]])\n",
            "<class 'torch.Tensor'>\n",
            "torch.float32\n"
          ]
        }
      ],
      "source": [
        "mat6 = torch.from_numpy(arr5)\n",
        "print(mat6)\n",
        "print(type(mat6))\n",
        "print(mat6.dtype)"
      ]
    },
    {
      "cell_type": "markdown",
      "metadata": {
        "id": "YVyO8SbgwfEb"
      },
      "source": [
        "### ones, zeros, rand, randn"
      ]
    },
    {
      "cell_type": "markdown",
      "metadata": {
        "id": "SaKUA7WdwfEd"
      },
      "source": [
        "Kita bisa membuat tensor berisi satu semua, atau nol semua, atau nilai random, dengan ukuran `size` yang bisa kita tentukan"
      ]
    },
    {
      "cell_type": "code",
      "execution_count": null,
      "metadata": {
        "id": "EQD5_RTawfEd",
        "outputId": "902e1cd0-0437-4ab1-c689-6ffaf07cde3c"
      },
      "outputs": [
        {
          "name": "stdout",
          "output_type": "stream",
          "text": [
            "tensor([[1., 1., 1., 1.],\n",
            "        [1., 1., 1., 1.],\n",
            "        [1., 1., 1., 1.]])\n"
          ]
        }
      ],
      "source": [
        "x = torch.ones(size = (3,4))\n",
        "print(x)"
      ]
    },
    {
      "cell_type": "code",
      "execution_count": null,
      "metadata": {
        "id": "n3EOs9LdwfEe",
        "outputId": "e58cada9-3945-40b8-e7ff-9f34c1e244b4"
      },
      "outputs": [
        {
          "name": "stdout",
          "output_type": "stream",
          "text": [
            "tensor([[0., 0., 0., 0.],\n",
            "        [0., 0., 0., 0.],\n",
            "        [0., 0., 0., 0.]])\n"
          ]
        }
      ],
      "source": [
        "x = torch.zeros(size = (3,4))\n",
        "print(x)"
      ]
    },
    {
      "cell_type": "code",
      "execution_count": null,
      "metadata": {
        "id": "a7tPcA_wwfEf",
        "outputId": "410531d9-b949-4cd7-cb1a-424b624481df"
      },
      "outputs": [
        {
          "name": "stdout",
          "output_type": "stream",
          "text": [
            "tensor([[0.0698, 0.2004, 0.3279, 0.2525],\n",
            "        [0.2461, 0.4263, 0.4870, 0.4371],\n",
            "        [0.9545, 0.7487, 0.3990, 0.0412]])\n"
          ]
        }
      ],
      "source": [
        "x = torch.rand(size = (3,4))\n",
        "print(x)"
      ]
    },
    {
      "cell_type": "markdown",
      "metadata": {
        "id": "o9nO7SyYwfEg"
      },
      "source": [
        "`torch.rand` memilih nilai secara random dari distribusi uniform pada interval $[0,1)$"
      ]
    },
    {
      "cell_type": "markdown",
      "metadata": {
        "id": "YIdDgoxKwfEy"
      },
      "source": [
        "Untuk memilih nilai secara random dari distribusi normal (dengan $\\mu = 0$ dan $\\sigma = 1$), gunakan `torch.randn`"
      ]
    },
    {
      "cell_type": "code",
      "execution_count": null,
      "metadata": {
        "id": "dp7dbIDHwfEy",
        "outputId": "0071890c-9846-4526-e053-80e8b179adb0"
      },
      "outputs": [
        {
          "name": "stdout",
          "output_type": "stream",
          "text": [
            "tensor([[ 1.5820, -0.1806,  0.1820, -0.6891],\n",
            "        [ 1.2161, -0.5755, -0.5172, -0.7454],\n",
            "        [ 0.3047, -0.5932, -0.3343, -1.1461]])\n"
          ]
        }
      ],
      "source": [
        "x = torch.randn(size = (3,4))\n",
        "print(x)"
      ]
    },
    {
      "cell_type": "markdown",
      "metadata": {
        "id": "C5ae09qtwfEz"
      },
      "source": [
        "### Operasi tensor seperti numpy"
      ]
    },
    {
      "cell_type": "markdown",
      "metadata": {
        "id": "4kqOzpyLwfE0"
      },
      "source": [
        "Secara umum, operasi tensor di PyTorch memang mirip dengan array di numpy, sebagaimana operasi tensor di TensorFlow juga mirip dengan array di numpy."
      ]
    },
    {
      "cell_type": "code",
      "execution_count": null,
      "metadata": {
        "id": "wkn3nGn6wfE0",
        "outputId": "c8f9d1de-eb90-4751-f56b-1673eeb1e10f"
      },
      "outputs": [
        {
          "name": "stdout",
          "output_type": "stream",
          "text": [
            "tensor([[4., 4.],\n",
            "        [4., 4.]])\n"
          ]
        }
      ],
      "source": [
        "a = 4 * torch.ones((2, 2))\n",
        "print(a)"
      ]
    },
    {
      "cell_type": "code",
      "execution_count": null,
      "metadata": {
        "id": "ewDvkp5RwfE1",
        "outputId": "a6bd3d66-7faa-4022-dd42-8744a24381b3"
      },
      "outputs": [
        {
          "name": "stdout",
          "output_type": "stream",
          "text": [
            "tensor([[16., 16.],\n",
            "        [16., 16.]])\n"
          ]
        }
      ],
      "source": [
        "b = torch.square(a)\n",
        "print(b)"
      ]
    },
    {
      "cell_type": "code",
      "execution_count": null,
      "metadata": {
        "id": "Rxw_fB1jwfE2",
        "outputId": "e5230c11-9a0c-46ef-8ff6-e1de5d0cedc0"
      },
      "outputs": [
        {
          "name": "stdout",
          "output_type": "stream",
          "text": [
            "tensor([[2., 2.],\n",
            "        [2., 2.]])\n"
          ]
        }
      ],
      "source": [
        "c = torch.sqrt(a)\n",
        "print(c)"
      ]
    },
    {
      "cell_type": "code",
      "execution_count": null,
      "metadata": {
        "id": "CUFoPQyGwfE3",
        "outputId": "5f070781-d75c-45cc-fb7a-d804fe7dedaf"
      },
      "outputs": [
        {
          "name": "stdout",
          "output_type": "stream",
          "text": [
            "tensor([[18., 18.],\n",
            "        [18., 18.]])\n"
          ]
        }
      ],
      "source": [
        "d = b + c\n",
        "print(d)"
      ]
    },
    {
      "cell_type": "code",
      "execution_count": null,
      "metadata": {
        "id": "1BJeMKzIwfE4",
        "outputId": "715da42e-07ef-4e13-80d1-60a5c529dcfe"
      },
      "outputs": [
        {
          "name": "stdout",
          "output_type": "stream",
          "text": [
            "tensor([[16., 16.],\n",
            "        [16., 16.]])\n"
          ]
        }
      ],
      "source": [
        "# perkalian matriks\n",
        "e = torch.matmul(a, c)\n",
        "print(e)"
      ]
    },
    {
      "cell_type": "code",
      "execution_count": null,
      "metadata": {
        "id": "VJKtH34XwfE5",
        "outputId": "2103b67a-c6f6-4101-d6ce-b45194466b6b"
      },
      "outputs": [
        {
          "name": "stdout",
          "output_type": "stream",
          "text": [
            "tensor([[288., 288.],\n",
            "        [288., 288.]])\n"
          ]
        }
      ],
      "source": [
        "# perkalian per elemen\n",
        "e *= d\n",
        "print(e)"
      ]
    },
    {
      "cell_type": "code",
      "execution_count": null,
      "metadata": {
        "id": "5SM_2kPowfE6",
        "outputId": "04b5b48d-8a11-4c60-87a4-2150c65b01ad"
      },
      "outputs": [
        {
          "name": "stdout",
          "output_type": "stream",
          "text": [
            "tensor([[290., 290.],\n",
            "        [290., 290.]])\n"
          ]
        }
      ],
      "source": [
        "# penjumlahan per elemen\n",
        "f = e + 2\n",
        "print(f)"
      ]
    },
    {
      "cell_type": "markdown",
      "metadata": {
        "id": "_eOpCTdSwfE6"
      },
      "source": [
        "### *Autograd* dengan `.backward()`"
      ]
    },
    {
      "cell_type": "markdown",
      "metadata": {
        "id": "xCRFQ_FQwfE7"
      },
      "source": [
        "Sebagaimana ada *automatic differentiation* atau *autodiff* di TensorFlow, ada juga autograd di PyTorch. Namun, *syntax* nya cukup berbeda."
      ]
    },
    {
      "cell_type": "markdown",
      "metadata": {
        "id": "YJ_8pUcpwfE7"
      },
      "source": [
        "Caranya, inputnya kita jadikan tensor dengan parameter `requires_grad=True`, lalu kita operasikan (misal dengan fungsi f) dan menghasilkan tensor baru, lalu di tensor baru ini kita panggil `.backward()` agar turunan f dihitung dan disimpan di variabel input `.grad`"
      ]
    },
    {
      "cell_type": "markdown",
      "metadata": {
        "id": "CTgxQMR3wfE8"
      },
      "source": [
        "Contohnya, turunan $x^3$ terhadap $x$ di $x=4$ adalah $3(4)^2 = 48$."
      ]
    },
    {
      "cell_type": "code",
      "execution_count": null,
      "metadata": {
        "id": "mKD6EDdMwfE8",
        "outputId": "dc7b3606-9f38-486f-91cd-b06b8d7cb0cb"
      },
      "outputs": [
        {
          "name": "stdout",
          "output_type": "stream",
          "text": [
            "tensor(48.)\n"
          ]
        }
      ],
      "source": [
        "# siapkan input, dengan requires_grad=True\n",
        "x = torch.tensor(4.0, requires_grad=True)\n",
        "\n",
        "# hitung fungsi F\n",
        "F = x**3\n",
        "\n",
        "# jalankan perhitungan turunan F (terhadap input)\n",
        "F.backward()\n",
        "\n",
        "# tampilkan turunan yang tersimpan di input .grad\n",
        "print(x.grad)"
      ]
    },
    {
      "cell_type": "markdown",
      "metadata": {
        "id": "7qIQQHezwfE8"
      },
      "source": [
        "Nama *method* nya adalah `.backward()` dan memang digunakan di *backward pass* (akan kita lihat nanti)."
      ]
    },
    {
      "cell_type": "markdown",
      "metadata": {
        "id": "H228jfwzwfE9"
      },
      "source": [
        "Contoh lain, turunan $3x^3 - y^2$ terhadap $x$ dengan $x=2$ adalah $9(2)^2 = 36$, dan turunannya terhadap $y$ dengan $y=6$ adalah $-2(6) = -12$"
      ]
    },
    {
      "cell_type": "code",
      "execution_count": null,
      "metadata": {
        "id": "3gxtH9mrwfE9",
        "outputId": "4e17e0d7-affe-44c3-fe6b-9d26a409e930"
      },
      "outputs": [
        {
          "name": "stdout",
          "output_type": "stream",
          "text": [
            "tensor(36.)\n",
            "tensor(-12.)\n"
          ]
        }
      ],
      "source": [
        "x = torch.tensor(2.0, requires_grad=True)\n",
        "y = torch.tensor(6.0, requires_grad=True)\n",
        "\n",
        "F = 3 * x**3 - y**2\n",
        "\n",
        "F.backward()\n",
        "\n",
        "print(x.grad)\n",
        "print(y.grad)"
      ]
    },
    {
      "cell_type": "markdown",
      "metadata": {
        "id": "L2yq63WUwfE-"
      },
      "source": [
        "## Klasifikasi biner dengan *perceptron*"
      ]
    },
    {
      "cell_type": "markdown",
      "metadata": {
        "id": "9tlJ1ggDwfE-"
      },
      "source": [
        "### Persiapan data, `TensorData`, `DataLoader`"
      ]
    },
    {
      "cell_type": "markdown",
      "metadata": {
        "id": "ax8Jyo6CwfE_"
      },
      "source": [
        "Untuk model pertama kita, mari kita coba buat kembali model *perceptron* untuk klasifikasi biner yang pernah kita buat di [Modul 7](./modul7.ipynb), dengan dataset `titik_negatif_positif.csv` yang sama, bisa kalian *download* dari GitHub Pages ini: [titik_negatif_positif.csv](./titik_negatif_positif.csv)"
      ]
    },
    {
      "cell_type": "markdown",
      "metadata": {
        "id": "mngOj9-UwfFD"
      },
      "source": [
        "Kita buka datasetnya, jangan lupa dengan `dtype=\"float32\"` karena itulah tipe data yang biasa digunakan oleh PyTorch, seperti TensorFlow:"
      ]
    },
    {
      "cell_type": "code",
      "execution_count": null,
      "metadata": {
        "id": "dfTHvU3owfFE"
      },
      "outputs": [],
      "source": [
        "titik_df = pd.read_csv(\"./titik_negatif_positif.csv\", dtype=\"float32\")"
      ]
    },
    {
      "cell_type": "code",
      "execution_count": null,
      "metadata": {
        "id": "KgKCB6ChwfFG",
        "outputId": "ad574446-3227-4474-c936-8ce5c3a30377"
      },
      "outputs": [
        {
          "data": {
            "text/html": [
              "<div>\n",
              "<style scoped>\n",
              "    .dataframe tbody tr th:only-of-type {\n",
              "        vertical-align: middle;\n",
              "    }\n",
              "\n",
              "    .dataframe tbody tr th {\n",
              "        vertical-align: top;\n",
              "    }\n",
              "\n",
              "    .dataframe thead th {\n",
              "        text-align: right;\n",
              "    }\n",
              "</style>\n",
              "<table border=\"1\" class=\"dataframe\">\n",
              "  <thead>\n",
              "    <tr style=\"text-align: right;\">\n",
              "      <th></th>\n",
              "      <th>x</th>\n",
              "      <th>y</th>\n",
              "      <th>kelas</th>\n",
              "    </tr>\n",
              "  </thead>\n",
              "  <tbody>\n",
              "    <tr>\n",
              "      <th>0</th>\n",
              "      <td>1.173375</td>\n",
              "      <td>4.570637</td>\n",
              "      <td>0.0</td>\n",
              "    </tr>\n",
              "    <tr>\n",
              "      <th>1</th>\n",
              "      <td>0.195961</td>\n",
              "      <td>3.504604</td>\n",
              "      <td>0.0</td>\n",
              "    </tr>\n",
              "    <tr>\n",
              "      <th>2</th>\n",
              "      <td>0.121400</td>\n",
              "      <td>2.163783</td>\n",
              "      <td>0.0</td>\n",
              "    </tr>\n",
              "    <tr>\n",
              "      <th>3</th>\n",
              "      <td>-1.170182</td>\n",
              "      <td>3.882771</td>\n",
              "      <td>0.0</td>\n",
              "    </tr>\n",
              "    <tr>\n",
              "      <th>4</th>\n",
              "      <td>-0.424403</td>\n",
              "      <td>0.534641</td>\n",
              "      <td>0.0</td>\n",
              "    </tr>\n",
              "    <tr>\n",
              "      <th>...</th>\n",
              "      <td>...</td>\n",
              "      <td>...</td>\n",
              "      <td>...</td>\n",
              "    </tr>\n",
              "    <tr>\n",
              "      <th>1995</th>\n",
              "      <td>2.423160</td>\n",
              "      <td>-0.337196</td>\n",
              "      <td>1.0</td>\n",
              "    </tr>\n",
              "    <tr>\n",
              "      <th>1996</th>\n",
              "      <td>1.949836</td>\n",
              "      <td>-0.627813</td>\n",
              "      <td>1.0</td>\n",
              "    </tr>\n",
              "    <tr>\n",
              "      <th>1997</th>\n",
              "      <td>2.109928</td>\n",
              "      <td>-0.382492</td>\n",
              "      <td>1.0</td>\n",
              "    </tr>\n",
              "    <tr>\n",
              "      <th>1998</th>\n",
              "      <td>4.178664</td>\n",
              "      <td>0.486168</td>\n",
              "      <td>1.0</td>\n",
              "    </tr>\n",
              "    <tr>\n",
              "      <th>1999</th>\n",
              "      <td>2.326363</td>\n",
              "      <td>1.228249</td>\n",
              "      <td>1.0</td>\n",
              "    </tr>\n",
              "  </tbody>\n",
              "</table>\n",
              "<p>2000 rows × 3 columns</p>\n",
              "</div>"
            ],
            "text/plain": [
              "             x         y  kelas\n",
              "0     1.173375  4.570637    0.0\n",
              "1     0.195961  3.504604    0.0\n",
              "2     0.121400  2.163783    0.0\n",
              "3    -1.170182  3.882771    0.0\n",
              "4    -0.424403  0.534641    0.0\n",
              "...        ...       ...    ...\n",
              "1995  2.423160 -0.337196    1.0\n",
              "1996  1.949836 -0.627813    1.0\n",
              "1997  2.109928 -0.382492    1.0\n",
              "1998  4.178664  0.486168    1.0\n",
              "1999  2.326363  1.228249    1.0\n",
              "\n",
              "[2000 rows x 3 columns]"
            ]
          },
          "execution_count": 82,
          "metadata": {},
          "output_type": "execute_result"
        }
      ],
      "source": [
        "titik_df"
      ]
    },
    {
      "cell_type": "markdown",
      "metadata": {
        "id": "8e_7m1Q_wfFH"
      },
      "source": [
        "Memisahkan antara inputs (prediktor) dan targets (variabel target):"
      ]
    },
    {
      "cell_type": "code",
      "execution_count": null,
      "metadata": {
        "id": "wwHYZkqEwfFH"
      },
      "outputs": [],
      "source": [
        "titik_inputs_df = titik_df.drop(columns=[\"kelas\"])\n",
        "titik_targets_df = titik_df[[\"kelas\"]]"
      ]
    },
    {
      "cell_type": "code",
      "execution_count": null,
      "metadata": {
        "id": "LNp5CRL-wfFI",
        "outputId": "5e058e53-050a-420c-ed09-37e6a632a308"
      },
      "outputs": [
        {
          "data": {
            "text/html": [
              "<div>\n",
              "<style scoped>\n",
              "    .dataframe tbody tr th:only-of-type {\n",
              "        vertical-align: middle;\n",
              "    }\n",
              "\n",
              "    .dataframe tbody tr th {\n",
              "        vertical-align: top;\n",
              "    }\n",
              "\n",
              "    .dataframe thead th {\n",
              "        text-align: right;\n",
              "    }\n",
              "</style>\n",
              "<table border=\"1\" class=\"dataframe\">\n",
              "  <thead>\n",
              "    <tr style=\"text-align: right;\">\n",
              "      <th></th>\n",
              "      <th>x</th>\n",
              "      <th>y</th>\n",
              "    </tr>\n",
              "  </thead>\n",
              "  <tbody>\n",
              "    <tr>\n",
              "      <th>0</th>\n",
              "      <td>1.173375</td>\n",
              "      <td>4.570637</td>\n",
              "    </tr>\n",
              "    <tr>\n",
              "      <th>1</th>\n",
              "      <td>0.195961</td>\n",
              "      <td>3.504604</td>\n",
              "    </tr>\n",
              "    <tr>\n",
              "      <th>2</th>\n",
              "      <td>0.121400</td>\n",
              "      <td>2.163783</td>\n",
              "    </tr>\n",
              "    <tr>\n",
              "      <th>3</th>\n",
              "      <td>-1.170182</td>\n",
              "      <td>3.882771</td>\n",
              "    </tr>\n",
              "    <tr>\n",
              "      <th>4</th>\n",
              "      <td>-0.424403</td>\n",
              "      <td>0.534641</td>\n",
              "    </tr>\n",
              "    <tr>\n",
              "      <th>...</th>\n",
              "      <td>...</td>\n",
              "      <td>...</td>\n",
              "    </tr>\n",
              "    <tr>\n",
              "      <th>1995</th>\n",
              "      <td>2.423160</td>\n",
              "      <td>-0.337196</td>\n",
              "    </tr>\n",
              "    <tr>\n",
              "      <th>1996</th>\n",
              "      <td>1.949836</td>\n",
              "      <td>-0.627813</td>\n",
              "    </tr>\n",
              "    <tr>\n",
              "      <th>1997</th>\n",
              "      <td>2.109928</td>\n",
              "      <td>-0.382492</td>\n",
              "    </tr>\n",
              "    <tr>\n",
              "      <th>1998</th>\n",
              "      <td>4.178664</td>\n",
              "      <td>0.486168</td>\n",
              "    </tr>\n",
              "    <tr>\n",
              "      <th>1999</th>\n",
              "      <td>2.326363</td>\n",
              "      <td>1.228249</td>\n",
              "    </tr>\n",
              "  </tbody>\n",
              "</table>\n",
              "<p>2000 rows × 2 columns</p>\n",
              "</div>"
            ],
            "text/plain": [
              "             x         y\n",
              "0     1.173375  4.570637\n",
              "1     0.195961  3.504604\n",
              "2     0.121400  2.163783\n",
              "3    -1.170182  3.882771\n",
              "4    -0.424403  0.534641\n",
              "...        ...       ...\n",
              "1995  2.423160 -0.337196\n",
              "1996  1.949836 -0.627813\n",
              "1997  2.109928 -0.382492\n",
              "1998  4.178664  0.486168\n",
              "1999  2.326363  1.228249\n",
              "\n",
              "[2000 rows x 2 columns]"
            ]
          },
          "execution_count": 84,
          "metadata": {},
          "output_type": "execute_result"
        }
      ],
      "source": [
        "titik_inputs_df"
      ]
    },
    {
      "cell_type": "code",
      "execution_count": null,
      "metadata": {
        "id": "L-3ZfIL1wfFJ",
        "outputId": "b405362b-3e80-44da-a4f5-6e467b0be436"
      },
      "outputs": [
        {
          "data": {
            "text/html": [
              "<div>\n",
              "<style scoped>\n",
              "    .dataframe tbody tr th:only-of-type {\n",
              "        vertical-align: middle;\n",
              "    }\n",
              "\n",
              "    .dataframe tbody tr th {\n",
              "        vertical-align: top;\n",
              "    }\n",
              "\n",
              "    .dataframe thead th {\n",
              "        text-align: right;\n",
              "    }\n",
              "</style>\n",
              "<table border=\"1\" class=\"dataframe\">\n",
              "  <thead>\n",
              "    <tr style=\"text-align: right;\">\n",
              "      <th></th>\n",
              "      <th>kelas</th>\n",
              "    </tr>\n",
              "  </thead>\n",
              "  <tbody>\n",
              "    <tr>\n",
              "      <th>0</th>\n",
              "      <td>0.0</td>\n",
              "    </tr>\n",
              "    <tr>\n",
              "      <th>1</th>\n",
              "      <td>0.0</td>\n",
              "    </tr>\n",
              "    <tr>\n",
              "      <th>2</th>\n",
              "      <td>0.0</td>\n",
              "    </tr>\n",
              "    <tr>\n",
              "      <th>3</th>\n",
              "      <td>0.0</td>\n",
              "    </tr>\n",
              "    <tr>\n",
              "      <th>4</th>\n",
              "      <td>0.0</td>\n",
              "    </tr>\n",
              "    <tr>\n",
              "      <th>...</th>\n",
              "      <td>...</td>\n",
              "    </tr>\n",
              "    <tr>\n",
              "      <th>1995</th>\n",
              "      <td>1.0</td>\n",
              "    </tr>\n",
              "    <tr>\n",
              "      <th>1996</th>\n",
              "      <td>1.0</td>\n",
              "    </tr>\n",
              "    <tr>\n",
              "      <th>1997</th>\n",
              "      <td>1.0</td>\n",
              "    </tr>\n",
              "    <tr>\n",
              "      <th>1998</th>\n",
              "      <td>1.0</td>\n",
              "    </tr>\n",
              "    <tr>\n",
              "      <th>1999</th>\n",
              "      <td>1.0</td>\n",
              "    </tr>\n",
              "  </tbody>\n",
              "</table>\n",
              "<p>2000 rows × 1 columns</p>\n",
              "</div>"
            ],
            "text/plain": [
              "      kelas\n",
              "0       0.0\n",
              "1       0.0\n",
              "2       0.0\n",
              "3       0.0\n",
              "4       0.0\n",
              "...     ...\n",
              "1995    1.0\n",
              "1996    1.0\n",
              "1997    1.0\n",
              "1998    1.0\n",
              "1999    1.0\n",
              "\n",
              "[2000 rows x 1 columns]"
            ]
          },
          "execution_count": 85,
          "metadata": {},
          "output_type": "execute_result"
        }
      ],
      "source": [
        "titik_targets_df"
      ]
    },
    {
      "cell_type": "markdown",
      "metadata": {
        "id": "bx5fKgyFwfFJ"
      },
      "source": [
        "Mengubahnya menjadi *array* numpy:"
      ]
    },
    {
      "cell_type": "code",
      "execution_count": null,
      "metadata": {
        "id": "LR1K6pAfwfFK"
      },
      "outputs": [],
      "source": [
        "titik_inputs_arr = titik_inputs_df.to_numpy()\n",
        "titik_targets_arr = titik_targets_df.to_numpy()"
      ]
    },
    {
      "cell_type": "markdown",
      "metadata": {
        "id": "fOXHVf7WwfFL"
      },
      "source": [
        "Kemudian mengubahnya menjadi tensor PyTorch:"
      ]
    },
    {
      "cell_type": "code",
      "execution_count": null,
      "metadata": {
        "id": "7FopzRDUwfFL"
      },
      "outputs": [],
      "source": [
        "titik_inputs_tensor = torch.from_numpy(titik_inputs_arr)\n",
        "titik_targets_tensor = torch.from_numpy(titik_targets_arr)"
      ]
    },
    {
      "cell_type": "markdown",
      "metadata": {
        "id": "ZG6UrImKwfFL"
      },
      "source": [
        "Tujuan mengubah dari DataFrame menjadi tensor, tentunya supaya bisa diproses dengan PyTorch."
      ]
    },
    {
      "cell_type": "markdown",
      "metadata": {
        "id": "-e79eabtwfFM"
      },
      "source": [
        "Kita bisa periksa, bentuknya sesuai:"
      ]
    },
    {
      "cell_type": "code",
      "execution_count": null,
      "metadata": {
        "id": "3qjr5O_qwfFM",
        "outputId": "53e7e60d-3981-411e-f888-2d7ec9b5a83d"
      },
      "outputs": [
        {
          "name": "stdout",
          "output_type": "stream",
          "text": [
            "tensor([[ 1.1734,  4.5706],\n",
            "        [ 0.1960,  3.5046],\n",
            "        [ 0.1214,  2.1638],\n",
            "        ...,\n",
            "        [ 2.1099, -0.3825],\n",
            "        [ 4.1787,  0.4862],\n",
            "        [ 2.3264,  1.2282]])\n"
          ]
        }
      ],
      "source": [
        "print(titik_inputs_tensor)"
      ]
    },
    {
      "cell_type": "code",
      "execution_count": null,
      "metadata": {
        "id": "aGPbFh2AwfFN",
        "outputId": "4ba7849b-fbfe-43c2-d345-f2276659f689"
      },
      "outputs": [
        {
          "name": "stdout",
          "output_type": "stream",
          "text": [
            "tensor([[0.],\n",
            "        [0.],\n",
            "        [0.],\n",
            "        ...,\n",
            "        [1.],\n",
            "        [1.],\n",
            "        [1.]])\n"
          ]
        }
      ],
      "source": [
        "print(titik_targets_tensor)"
      ]
    },
    {
      "cell_type": "markdown",
      "metadata": {
        "id": "TwQkUBmSwfFO"
      },
      "source": [
        "Kemudian, kita bisa melakukan *train-validation-test split*, misalnya dengan rasio 80:10:10"
      ]
    },
    {
      "cell_type": "code",
      "execution_count": 8,
      "metadata": {
        "id": "BkXAg7QcwfFb"
      },
      "outputs": [],
      "source": [
        "from sklearn.model_selection import train_test_split"
      ]
    },
    {
      "cell_type": "code",
      "execution_count": null,
      "metadata": {
        "id": "EaAdIlZtwfFc"
      },
      "outputs": [],
      "source": [
        "# data utuh menjadi data train 80% dan data \"test\" 20%\n",
        "titik_X_train, titik_X_test, titik_y_train, titik_y_test = train_test_split(\n",
        "    titik_inputs_tensor, titik_targets_tensor, test_size=0.2, random_state=42\n",
        ")\n",
        "\n",
        "# data \"test\" dibagi dua, menjadi data validation dan data test sesungguhnya\n",
        "titik_X_val, titik_X_test, titik_y_val, titik_y_test = train_test_split(\n",
        "    titik_X_test, titik_y_test, test_size=0.5, random_state=42\n",
        ")"
      ]
    },
    {
      "cell_type": "markdown",
      "metadata": {
        "id": "slcl8amfwfFd"
      },
      "source": [
        "Kita bisa periksa ukurannya, rasionya sudah sesuai yang kita tetapkan:"
      ]
    },
    {
      "cell_type": "code",
      "execution_count": null,
      "metadata": {
        "id": "EIG867diwfFe",
        "outputId": "3143aa4a-2cae-4363-824a-d418d9a75b04"
      },
      "outputs": [
        {
          "name": "stdout",
          "output_type": "stream",
          "text": [
            "torch.Size([1600, 2])\n",
            "torch.Size([200, 2])\n",
            "torch.Size([200, 2])\n"
          ]
        }
      ],
      "source": [
        "print(titik_X_train.shape)\n",
        "print(titik_X_val.shape)\n",
        "print(titik_X_test.shape)"
      ]
    },
    {
      "cell_type": "markdown",
      "metadata": {
        "id": "9anZYUf-wfFe"
      },
      "source": [
        "Sebelum dataset kita benar-benar siap untuk diproses dengan PyTorch, ada dua hal yang perlu kita lakukan:\n",
        "\n",
        "1. mengubahnya menjadi objek `Dataset` dengan `TensorDataset`\n",
        "\n",
        "    `Dataset` di sini adalah format dataset umum yang dikenal oleh PyTorch.\n",
        "\n",
        "2. mengubah objek `Dataset` menjadi objek `DataLoader`\n",
        "\n",
        "    `DataLoader` membuat objek `Dataset` menjadi *\"iterable\"* yaitu bisa diiterasikan dengan *for loop*, agar bisa digunakan dalam proses *training* maupun *testing*."
      ]
    },
    {
      "cell_type": "markdown",
      "metadata": {
        "id": "dR4ZbOwuwfFf"
      },
      "source": [
        "Baik `TensorDataset` maupun `DataLoader` bisa kita import dari `torch.utils.data`"
      ]
    },
    {
      "cell_type": "code",
      "execution_count": 9,
      "metadata": {
        "id": "ow9wR-41wfFf"
      },
      "outputs": [],
      "source": [
        "from torch.utils.data import TensorDataset, DataLoader"
      ]
    },
    {
      "cell_type": "markdown",
      "metadata": {
        "id": "aRuiXzF3wfFg"
      },
      "source": [
        "Masing-masing dari data train, data validation, dan data test bisa kita ubah menjadi objek `Dataset` dengan menentukan mana prediktor dan mana target:"
      ]
    },
    {
      "cell_type": "code",
      "execution_count": null,
      "metadata": {
        "id": "cFKOa5YWwfFg"
      },
      "outputs": [],
      "source": [
        "titik_train_dataset = TensorDataset(titik_X_train, titik_y_train)\n",
        "titik_val_dataset = TensorDataset(titik_X_val, titik_y_val)\n",
        "titik_test_dataset = TensorDataset(titik_X_test, titik_y_test)"
      ]
    },
    {
      "cell_type": "markdown",
      "metadata": {
        "id": "yMXsKiLCwfFh"
      },
      "source": [
        "Kemudian, masing-masing bisa kita ubah menjadi `DataLoader`, sekasligus menentukan *batch size*, dan juga menentukan apakah perlu ada *shuffling* di tiap epoch (biasanya dilakukan di data *train* untuk mengurangi *overfitting*):"
      ]
    },
    {
      "cell_type": "code",
      "execution_count": null,
      "metadata": {
        "id": "FElteyTZwfFh"
      },
      "outputs": [],
      "source": [
        "titik_train_dataloader = DataLoader(titik_train_dataset, batch_size=32, shuffle=True)\n",
        "titik_val_dataloader = DataLoader(titik_val_dataset, batch_size=32, shuffle=False)\n",
        "titik_test_dataloader = DataLoader(titik_test_dataset, batch_size=32, shuffle=False)"
      ]
    },
    {
      "cell_type": "markdown",
      "metadata": {
        "id": "RaOqJkgTwfFi"
      },
      "source": [
        "### Menyusun model"
      ]
    },
    {
      "cell_type": "markdown",
      "metadata": {
        "id": "245VqGX-wfFi"
      },
      "source": [
        "Ingat bahwa *perceptron* yang ingin kita susun hanya terdiri dari\n",
        "\n",
        "- *input layer* dengan dua *neuron*,\n",
        "\n",
        "- tidak ada *hidden layer*,\n",
        "\n",
        "- *output layer* dengan satu *neuron* dan fungsi aktivasi sigmoid\n",
        "\n",
        "Sehingga matriks bobot yang sesuai berukuran $2 \\times 1$, dan vektor bias yang sesuai berukuran $1 \\times 1$."
      ]
    },
    {
      "cell_type": "markdown",
      "metadata": {
        "id": "tzvo4YgNwfFj"
      },
      "source": [
        "Di PyTorch, tiap model berupa *class* dengan ketentuan:\n",
        "\n",
        "- meng-*inherit* dari `torch.nn.Module` (yaitu *base class* untuk semua model PyTorch)\n",
        "\n",
        "- baris pertama di *constructor* `__init__` adalah\n",
        "\n",
        "    `super().__init__()`\n",
        "\n",
        "- harus mendefinisikan `forward()` untuk *forward pass*\n",
        "\n",
        "- komponen/variabel/atribut/parameter yang diperlukan biasanya didefinisikan di *constructor*\n",
        "\n",
        "    Catatan: parameter biasa didefinisikan dengan `torch.nn.Parameter` daripada `torch.tensor`"
      ]
    },
    {
      "cell_type": "markdown",
      "metadata": {
        "id": "LXxx-4aiwfFk"
      },
      "source": [
        "Ini cukup mirip dengan *subclassing API* di Keras, yang meng-*inherit* dari `keras.Model` dan harus mendefinisikan `call()` untuk *forward pass*."
      ]
    },
    {
      "cell_type": "markdown",
      "metadata": {
        "id": "4IGtzRH9wfFk"
      },
      "source": [
        "Mari kita susun *perceptron* kita, yang memiliki matriks bobot, vektor bias, dan fungsi aktivasi sigmoid:"
      ]
    },
    {
      "cell_type": "code",
      "execution_count": null,
      "metadata": {
        "id": "6_BGj5rUwfFl"
      },
      "outputs": [],
      "source": [
        "class MyPerceptron(torch.nn.Module):\n",
        "    def __init__(self):\n",
        "        super().__init__()\n",
        "\n",
        "        self.weights = torch.nn.Parameter(\n",
        "            torch.randn(size = (2, 1), dtype = torch.float32),\n",
        "            requires_grad=True # agar autgrad aktif\n",
        "        )\n",
        "\n",
        "        self.bias = torch.nn.Parameter(\n",
        "            torch.randn(size = (1,), dtype = torch.float32),\n",
        "            requires_grad=True\n",
        "        )\n",
        "\n",
        "    def forward(self, x):\n",
        "        return torch.sigmoid(\n",
        "            torch.matmul(x, self.weights) + self.bias\n",
        "        )"
      ]
    },
    {
      "cell_type": "markdown",
      "metadata": {
        "id": "63wOycaAwfFn"
      },
      "source": [
        "Kita bisa buat suatu *instance* atau objek dari *class* di atas:"
      ]
    },
    {
      "cell_type": "code",
      "execution_count": null,
      "metadata": {
        "id": "zb1EXlY5wfFp"
      },
      "outputs": [],
      "source": [
        "pisah_titik = MyPerceptron()"
      ]
    },
    {
      "cell_type": "markdown",
      "metadata": {
        "id": "lBQbbR3UwfFp"
      },
      "source": [
        "Ini adalah model yang siap di-*train*. Sebelum *training*, kita bisa memeriksa parameter model (saat ini masih random sesuai `torch.randn`):"
      ]
    },
    {
      "cell_type": "code",
      "execution_count": null,
      "metadata": {
        "id": "77mCAvouwfFq",
        "outputId": "f3678135-562e-4170-f265-97d7da5bc991"
      },
      "outputs": [
        {
          "data": {
            "text/plain": [
              "[Parameter containing:\n",
              " tensor([[-0.8412],\n",
              "         [-1.1300]], requires_grad=True),\n",
              " Parameter containing:\n",
              " tensor([-0.0640], requires_grad=True)]"
            ]
          },
          "execution_count": 98,
          "metadata": {},
          "output_type": "execute_result"
        }
      ],
      "source": [
        "list(pisah_titik.parameters())"
      ]
    },
    {
      "cell_type": "markdown",
      "metadata": {
        "id": "NPAsiJIDwfFq"
      },
      "source": [
        "Mirip, ada juga yang namanya `.state_dict()`"
      ]
    },
    {
      "cell_type": "code",
      "execution_count": null,
      "metadata": {
        "id": "9oij8iTHwfFr",
        "outputId": "916966e4-ecab-44d2-c590-484105a62dd6"
      },
      "outputs": [
        {
          "data": {
            "text/plain": [
              "OrderedDict([('weights',\n",
              "              tensor([[-0.8412],\n",
              "                      [-1.1300]])),\n",
              "             ('bias', tensor([-0.0640]))])"
            ]
          },
          "execution_count": 99,
          "metadata": {},
          "output_type": "execute_result"
        }
      ],
      "source": [
        "pisah_titik.state_dict()"
      ]
    },
    {
      "cell_type": "markdown",
      "metadata": {
        "id": "qbelcLQ5wfFs"
      },
      "source": [
        "### Menyiapkan *hyperparameter*"
      ]
    },
    {
      "cell_type": "markdown",
      "metadata": {
        "id": "44QU7wOawfFs"
      },
      "source": [
        "Untuk klasifikasi, *loss function* yang biasa digunakan adalah *crossentropy loss*, atau mungkin lebih spesifiknya *binary crossentropy loss*, yang disebut `torch.nn.BCELoss` di PyTorch. Kita bisa menyiapkannya sebagai objek."
      ]
    },
    {
      "cell_type": "code",
      "execution_count": null,
      "metadata": {
        "id": "PMJwlQQLwfFt"
      },
      "outputs": [],
      "source": [
        "titik_loss_fn = torch.nn.BCELoss()"
      ]
    },
    {
      "cell_type": "markdown",
      "metadata": {
        "id": "ZiOh3fhMwfFu"
      },
      "source": [
        "Serupa, *optimizer* juga disiapkan sebagai objek, misalnya `torch.optim.SGD` untuk SGD *(stochastic gradient descent)*:"
      ]
    },
    {
      "cell_type": "code",
      "execution_count": null,
      "metadata": {
        "id": "lD0rektjwfFu"
      },
      "outputs": [],
      "source": [
        "titik_opt = torch.optim.SGD(params=pisah_titik.parameters(), # merujuk ke parameter model\n",
        "                            lr=0.01) # learning rate"
      ]
    },
    {
      "cell_type": "markdown",
      "metadata": {
        "id": "G18BpgNLwfFv"
      },
      "source": [
        "### *Training loop*"
      ]
    },
    {
      "cell_type": "markdown",
      "metadata": {
        "id": "rsaIx8Y5wfFv"
      },
      "source": [
        "Mungkin agak mengejutkan: di PyTorch, kita dibebaskan untuk membuat *training loop* sendiri. Artinya, tidak ada fungsi `.fit()` yang tinggal kita panggil; kita perlu menyusun *for loop* sendiri, seperti di [Modul 7](./modul7.ipynb) :)"
      ]
    },
    {
      "cell_type": "markdown",
      "metadata": {
        "id": "kIm-NLDZwfFv"
      },
      "source": [
        "Ingat kembali, tiap iterasi (yaitu per *batch*) di proses *training* melibatkan:\n",
        "\n",
        "1. *Forward pass*: menghitung nilai *output* (hasil prediksi) dari *input* (*batch*).\n",
        "\n",
        "2. Menghitung *loss* antara hasil prediksi dan nilai sebenarnya\n",
        "\n",
        "3. *Backpropagation*: menghitung gradien dari *loss* terhadap tiap parameter\n",
        "\n",
        "4. *Update optimizer*: memperbarui nilai parameter berdasarkan gradien dari *loss*, menggunakan rumus atau *optimizer* yang dipilih"
      ]
    },
    {
      "cell_type": "markdown",
      "metadata": {
        "id": "ihKA-5WKwfFw"
      },
      "source": [
        "Ingat juga, selain *training*, ada juga yang namanya *validation* (atau terkadang disebut *testing* di beberapa sumber). Tahap *validation* ini menguji model di akhir tiap *epoch*, setelah semua *batch* melalui proses *training*. Langkahnya terdiri dari:\n",
        "\n",
        "1. *Forward pass*\n",
        "\n",
        "2. Menghitung *loss* dan/atau *accuracy* antara hasil prediksi dan nilai sebenarnya\n",
        "\n",
        "Perhatikan bahwa *validation* juga bisa dilakukan per *batch*, sehingga kedua langkah di atas dilakukan per *batch*. Kalau begitu, nilai akhir untuk *loss* dan/atau *accuracy* menjadi rata-rata dari nilainya di tiap *batch*."
      ]
    },
    {
      "cell_type": "markdown",
      "metadata": {
        "id": "-rj3PowawfFw"
      },
      "source": [
        "Penjelasan di atas menjadi kode PyTorch sebagai berikut:"
      ]
    },
    {
      "cell_type": "code",
      "execution_count": null,
      "metadata": {
        "id": "vJvASV_swfFw",
        "outputId": "82ea6c12-9db3-458b-afac-8c44b1d32843"
      },
      "outputs": [
        {
          "name": "stdout",
          "output_type": "stream",
          "text": [
            "Epoch: 0 | avg train loss: 1.0023550987243652 | avg val loss: 0.6549612879753113\n",
            "Epoch: 1 | avg train loss: 0.424757719039917 | avg val loss: 0.3022421300411224\n",
            "Epoch: 2 | avg train loss: 0.2212503552436828 | avg val loss: 0.1808699667453766\n",
            "Epoch: 3 | avg train loss: 0.1497089713811874 | avg val loss: 0.1308697611093521\n",
            "Epoch: 4 | avg train loss: 0.1175468564033508 | avg val loss: 0.1053687334060669\n",
            "Epoch: 5 | avg train loss: 0.0995666906237602 | avg val loss: 0.0898655503988266\n",
            "Epoch: 6 | avg train loss: 0.0879358351230621 | avg val loss: 0.0794256925582885\n",
            "Epoch: 7 | avg train loss: 0.0796592533588409 | avg val loss: 0.0717914551496505\n",
            "Epoch: 8 | avg train loss: 0.0733261257410049 | avg val loss: 0.0658656656742096\n",
            "Epoch: 9 | avg train loss: 0.0682612806558609 | avg val loss: 0.061109509319067\n"
          ]
        }
      ],
      "source": [
        "epochs = 10\n",
        "\n",
        "train_loss_list = []\n",
        "val_loss_list = []\n",
        "\n",
        "# untuk tiap epoch,\n",
        "for epoch in range(epochs):\n",
        "    # siapkan model untuk tahap training\n",
        "    pisah_titik.to(device)\n",
        "    pisah_titik.train()\n",
        "    sum_train_loss = 0\n",
        "\n",
        "    # untuk tiap batch,\n",
        "    for X, y in titik_train_dataloader:\n",
        "        X = X.to(device)\n",
        "        y = y.to(device)\n",
        "\n",
        "        # Forward pass\n",
        "        y_pred = pisah_titik(X)\n",
        "\n",
        "        # Hitung loss\n",
        "        loss = titik_loss_fn(y_pred, y)\n",
        "        sum_train_loss += loss\n",
        "\n",
        "        # \"Optimizer zero grad\": nolkan dulu hasil hitung gradien\n",
        "        titik_opt.zero_grad()\n",
        "\n",
        "        # Backpropagation\n",
        "        loss.backward()\n",
        "\n",
        "        # Update optimizer, juga disebut \"optimizer step\"\n",
        "        titik_opt.step()\n",
        "\n",
        "    # hitung rata-rata train loss berdasarkan banyaknya batch\n",
        "    avg_train_loss = sum_train_loss / len(titik_train_dataloader)\n",
        "\n",
        "    # simpan train loss\n",
        "    train_loss_list.append(avg_train_loss)\n",
        "\n",
        "    # siapkan model untuk tahap validaion\n",
        "    pisah_titik.to(device)\n",
        "    pisah_titik.eval()\n",
        "    sum_val_loss = 0\n",
        "\n",
        "    # selalu digunakan ketika hendak testing\n",
        "    with torch.inference_mode():\n",
        "        # untuk tiap batch,\n",
        "        for X, y in titik_val_dataloader:\n",
        "            X = X.to(device)\n",
        "            y = y.to(device)\n",
        "\n",
        "            # Forward pass\n",
        "            y_pred = pisah_titik(X)\n",
        "\n",
        "            # Hitung loss\n",
        "            sum_val_loss += titik_loss_fn(y_pred, y)\n",
        "\n",
        "        # hitung rata-rata val loss berdasarkan banyaknya batch\n",
        "        avg_val_loss = sum_val_loss / len(titik_val_dataloader)\n",
        "\n",
        "        # simpan val loss\n",
        "        val_loss_list.append(avg_val_loss)\n",
        "\n",
        "    # tampilkan train loss dan val loss untuk epoch ini\n",
        "    print(f\"Epoch: {epoch} | avg train loss: {avg_train_loss} | avg val loss: {avg_val_loss}\")"
      ]
    },
    {
      "cell_type": "markdown",
      "metadata": {
        "id": "HoBDj7yKwfFx"
      },
      "source": [
        "Perhatikan bahwa hasil *loss* di tiap *epoch* sudah kita simpan ke dalam list."
      ]
    },
    {
      "cell_type": "code",
      "execution_count": null,
      "metadata": {
        "id": "LAFX2dxBwfFx",
        "outputId": "293fbe56-483e-441c-da5d-1ae46be9e9c1"
      },
      "outputs": [
        {
          "name": "stdout",
          "output_type": "stream",
          "text": [
            "[tensor(1.0024, grad_fn=<DivBackward0>), tensor(0.4248, grad_fn=<DivBackward0>), tensor(0.2213, grad_fn=<DivBackward0>), tensor(0.1497, grad_fn=<DivBackward0>), tensor(0.1175, grad_fn=<DivBackward0>), tensor(0.0996, grad_fn=<DivBackward0>), tensor(0.0879, grad_fn=<DivBackward0>), tensor(0.0797, grad_fn=<DivBackward0>), tensor(0.0733, grad_fn=<DivBackward0>), tensor(0.0683, grad_fn=<DivBackward0>)]\n",
            "[tensor(0.6550), tensor(0.3022), tensor(0.1809), tensor(0.1309), tensor(0.1054), tensor(0.0899), tensor(0.0794), tensor(0.0718), tensor(0.0659), tensor(0.0611)]\n"
          ]
        }
      ],
      "source": [
        "print(train_loss_list)\n",
        "print(val_loss_list)"
      ]
    },
    {
      "cell_type": "markdown",
      "metadata": {
        "id": "RVyrZuo4wfFy"
      },
      "source": [
        "Maka, kita bisa ubah jadi DataFrame lalu menyimpannya sebagai CSV:"
      ]
    },
    {
      "cell_type": "code",
      "execution_count": null,
      "metadata": {
        "id": "56uP6Sd6wfFz"
      },
      "outputs": [],
      "source": [
        "titik_loss_df = pd.DataFrame(\n",
        "    [\n",
        "        [loss.item() for loss in train_loss_list],\n",
        "        [loss.item() for loss in val_loss_list]\n",
        "    ],\n",
        ").transpose().rename(columns={0: \"train_loss\", 1: \"val_loss\"})"
      ]
    },
    {
      "cell_type": "code",
      "execution_count": null,
      "metadata": {
        "id": "yRjYGZ5OwfFz",
        "outputId": "24aa30b2-ad39-4875-8729-0209f55ceeaa"
      },
      "outputs": [
        {
          "data": {
            "text/html": [
              "<div>\n",
              "<style scoped>\n",
              "    .dataframe tbody tr th:only-of-type {\n",
              "        vertical-align: middle;\n",
              "    }\n",
              "\n",
              "    .dataframe tbody tr th {\n",
              "        vertical-align: top;\n",
              "    }\n",
              "\n",
              "    .dataframe thead th {\n",
              "        text-align: right;\n",
              "    }\n",
              "</style>\n",
              "<table border=\"1\" class=\"dataframe\">\n",
              "  <thead>\n",
              "    <tr style=\"text-align: right;\">\n",
              "      <th></th>\n",
              "      <th>train_loss</th>\n",
              "      <th>val_loss</th>\n",
              "    </tr>\n",
              "  </thead>\n",
              "  <tbody>\n",
              "    <tr>\n",
              "      <th>0</th>\n",
              "      <td>1.002355</td>\n",
              "      <td>0.654961</td>\n",
              "    </tr>\n",
              "    <tr>\n",
              "      <th>1</th>\n",
              "      <td>0.424758</td>\n",
              "      <td>0.302242</td>\n",
              "    </tr>\n",
              "    <tr>\n",
              "      <th>2</th>\n",
              "      <td>0.221250</td>\n",
              "      <td>0.180870</td>\n",
              "    </tr>\n",
              "    <tr>\n",
              "      <th>3</th>\n",
              "      <td>0.149709</td>\n",
              "      <td>0.130870</td>\n",
              "    </tr>\n",
              "    <tr>\n",
              "      <th>4</th>\n",
              "      <td>0.117547</td>\n",
              "      <td>0.105369</td>\n",
              "    </tr>\n",
              "    <tr>\n",
              "      <th>5</th>\n",
              "      <td>0.099567</td>\n",
              "      <td>0.089866</td>\n",
              "    </tr>\n",
              "    <tr>\n",
              "      <th>6</th>\n",
              "      <td>0.087936</td>\n",
              "      <td>0.079426</td>\n",
              "    </tr>\n",
              "    <tr>\n",
              "      <th>7</th>\n",
              "      <td>0.079659</td>\n",
              "      <td>0.071791</td>\n",
              "    </tr>\n",
              "    <tr>\n",
              "      <th>8</th>\n",
              "      <td>0.073326</td>\n",
              "      <td>0.065866</td>\n",
              "    </tr>\n",
              "    <tr>\n",
              "      <th>9</th>\n",
              "      <td>0.068261</td>\n",
              "      <td>0.061110</td>\n",
              "    </tr>\n",
              "  </tbody>\n",
              "</table>\n",
              "</div>"
            ],
            "text/plain": [
              "   train_loss  val_loss\n",
              "0    1.002355  0.654961\n",
              "1    0.424758  0.302242\n",
              "2    0.221250  0.180870\n",
              "3    0.149709  0.130870\n",
              "4    0.117547  0.105369\n",
              "5    0.099567  0.089866\n",
              "6    0.087936  0.079426\n",
              "7    0.079659  0.071791\n",
              "8    0.073326  0.065866\n",
              "9    0.068261  0.061110"
            ]
          },
          "execution_count": 115,
          "metadata": {},
          "output_type": "execute_result"
        }
      ],
      "source": [
        "titik_loss_df"
      ]
    },
    {
      "cell_type": "code",
      "execution_count": null,
      "metadata": {
        "id": "R3VOHwv5wfF0"
      },
      "outputs": [],
      "source": [
        "titik_loss_df.to_csv(\"./pytorch_titik_loss_df.csv\", index=False)"
      ]
    },
    {
      "cell_type": "markdown",
      "metadata": {
        "id": "TKEdd_EMwfF0"
      },
      "source": [
        "Kalau mau menyamakan dengan modul, kalian bisa *download* melalui GitHub Pages ini: [pytorch_titik_loss_df.csv](./pytorch_titik_loss_df.csv)"
      ]
    },
    {
      "cell_type": "markdown",
      "metadata": {
        "id": "7GkvmcKWwfF1"
      },
      "source": [
        "Kita bisa import kembali:"
      ]
    },
    {
      "cell_type": "code",
      "execution_count": null,
      "metadata": {
        "id": "LlHiLiWAwfF1"
      },
      "outputs": [],
      "source": [
        "pytorch_titik_loss_df = pd.read_csv(\"./pytorch_titik_loss_df.csv\")"
      ]
    },
    {
      "cell_type": "markdown",
      "metadata": {
        "id": "0PeQ9qBTwfF2"
      },
      "source": [
        "Lalu kita bisa plot:"
      ]
    },
    {
      "cell_type": "code",
      "execution_count": null,
      "metadata": {
        "id": "sZxU1nJNwfF2",
        "outputId": "d12eead8-0c75-4a69-aef3-252ce92e19d5"
      },
      "outputs": [
        {
          "data": {
            "image/png": "[encoded data removed]",
            "text/plain": [
              "<Figure size 640x480 with 1 Axes>"
            ]
          },
          "metadata": {},
          "output_type": "display_data"
        }
      ],
      "source": [
        "plt.plot(pytorch_titik_loss_df[\"train_loss\"], label = \"training loss\")\n",
        "plt.plot(pytorch_titik_loss_df[\"val_loss\"], label = \"validation loss\")\n",
        "plt.xlabel(\"epoch\")\n",
        "plt.legend()\n",
        "plt.show()"
      ]
    },
    {
      "cell_type": "markdown",
      "metadata": {
        "id": "z42xRqYxwfF3"
      },
      "source": [
        "### Prediksi"
      ]
    },
    {
      "cell_type": "markdown",
      "metadata": {
        "id": "Mrg4aMHBwfF3"
      },
      "source": [
        "### Menyimpan parameter model (saja)"
      ]
    },
    {
      "cell_type": "markdown",
      "metadata": {
        "id": "a1wpgX5LwfF4"
      },
      "source": [
        "Ingat kembali, kita bisa melihat parameter model dengan `.state_dict()`"
      ]
    },
    {
      "cell_type": "code",
      "execution_count": null,
      "metadata": {
        "id": "2St7CAUXwfF4",
        "outputId": "bbc87cb5-174c-412a-9d30-e2a7606e9fe9"
      },
      "outputs": [
        {
          "data": {
            "text/plain": [
              "OrderedDict([('weights',\n",
              "              tensor([[ 0.9372],\n",
              "                      [-1.2340]])),\n",
              "             ('bias', tensor([0.3439]))])"
            ]
          },
          "execution_count": 122,
          "metadata": {},
          "output_type": "execute_result"
        }
      ],
      "source": [
        "pisah_titik.state_dict()"
      ]
    },
    {
      "cell_type": "markdown",
      "metadata": {
        "id": "yKj-H0mlwfF5"
      },
      "source": [
        "Kita bisa menyimpan parameter model ke dalam *file* berakhiran `.pth` menggunakan `torch.save`"
      ]
    },
    {
      "cell_type": "code",
      "execution_count": null,
      "metadata": {
        "id": "4FBlJJzlwfF6"
      },
      "outputs": [],
      "source": [
        "torch.save(pisah_titik.state_dict(), \"./pisah_titik_state.pth\")"
      ]
    },
    {
      "cell_type": "markdown",
      "metadata": {
        "id": "wmCgL0hIwfF6"
      },
      "source": [
        "Apabila ingin *load* kembali, kita perlu membuat *instance* terlebih dahulu..."
      ]
    },
    {
      "cell_type": "code",
      "execution_count": null,
      "metadata": {
        "id": "0FMWWRpYwfF7"
      },
      "outputs": [],
      "source": [
        "pisah_titik2 = MyPerceptron()"
      ]
    },
    {
      "cell_type": "markdown",
      "metadata": {
        "id": "1ZYTh3o6wfF9"
      },
      "source": [
        "Barulah kita panggil `.load_state_dict(torch.load(PATH))` seperti berikut:"
      ]
    },
    {
      "cell_type": "code",
      "execution_count": null,
      "metadata": {
        "id": "-MyASIGfwfF9",
        "outputId": "c716d68a-53d3-45ce-c6a8-3f17583c2270"
      },
      "outputs": [
        {
          "data": {
            "text/plain": [
              "<All keys matched successfully>"
            ]
          },
          "execution_count": 125,
          "metadata": {},
          "output_type": "execute_result"
        }
      ],
      "source": [
        "pisah_titik2.load_state_dict(torch.load(\"./pisah_titik_state.pth\"))"
      ]
    },
    {
      "cell_type": "markdown",
      "metadata": {
        "id": "4IUeN9UIwfF-"
      },
      "source": [
        "Parameternya akan sama:"
      ]
    },
    {
      "cell_type": "code",
      "execution_count": null,
      "metadata": {
        "id": "YMVHINVdwfF_",
        "outputId": "4700a91a-5dd8-426a-94b7-8c9f0d9a5e3b"
      },
      "outputs": [
        {
          "data": {
            "text/plain": [
              "OrderedDict([('weights',\n",
              "              tensor([[ 0.9372],\n",
              "                      [-1.2340]])),\n",
              "             ('bias', tensor([0.3439]))])"
            ]
          },
          "execution_count": 126,
          "metadata": {},
          "output_type": "execute_result"
        }
      ],
      "source": [
        "pisah_titik2.state_dict()"
      ]
    },
    {
      "cell_type": "markdown",
      "metadata": {
        "id": "bxlBZeNwwfGC"
      },
      "source": [
        "### `torch.nn.Linear` dan `torch.nn.Sequential`"
      ]
    },
    {
      "cell_type": "code",
      "execution_count": null,
      "metadata": {
        "id": "JA6fi9e-wfGD"
      },
      "outputs": [],
      "source": [
        "class MyPerceptron_v2(torch.nn.Module):\n",
        "    def __init__(self):\n",
        "        super().__init__()\n",
        "\n",
        "        # satu dense layer dengan fungsi aktivasi linier\n",
        "        self.linear_layer = torch.nn.Linear(in_features=2, out_features=1)\n",
        "\n",
        "        # fungsi aktivasi sigmoid\n",
        "        self.sigmoid = torch.nn.Sigmoid()\n",
        "\n",
        "    def forward(self, x):\n",
        "        x = self.linear_layer(x)\n",
        "        x = self.sigmoid(x)\n",
        "        return x"
      ]
    },
    {
      "cell_type": "code",
      "execution_count": null,
      "metadata": {
        "id": "wNZ9nf-7wfGE"
      },
      "outputs": [],
      "source": [
        "class MyPerceptron_v3(torch.nn.Module):\n",
        "    def __init__(self):\n",
        "        super().__init__()\n",
        "\n",
        "        # perhatikan: inputnya bukan berupa list, langsung saja tiap layer\n",
        "        self.layer = torch.nn.Sequential(\n",
        "            torch.nn.Linear(in_features=2, out_features=1),\n",
        "            torch.nn.Sigmoid()\n",
        "        )\n",
        "\n",
        "    def forward(self, x):\n",
        "        x = self.layer(x)\n",
        "        return x"
      ]
    },
    {
      "cell_type": "markdown",
      "metadata": {
        "id": "FK8v5yWtwfGG"
      },
      "source": [
        "## Fungsi *train step* dan *val step*"
      ]
    },
    {
      "cell_type": "markdown",
      "metadata": {
        "id": "p5v2XwNcwfGG"
      },
      "source": [
        "*Training loop* kita terdiri dari dua bagian utama, yaitu tahap *training* dan tahap *validation*. Kita bisa menyusun *training loop* yang telah kita buat dengan lebih rapi, dengan memasukkan tiap tahap ke dalam fungsi yang nantinya tinggal dipanggil. Modifikasi yang dilakukan:\n",
        "\n",
        "- `pisah_titik` menjadi `model`\n",
        "\n",
        "- `titik_train_dataloader` menjadi `train_dataloader`\n",
        "\n",
        "- `titik_val_dataloader` menjadi `val_dataloader`\n",
        "\n",
        "- `titik_loss_fn` menjadi `loss_fn`\n",
        "\n",
        "- `titik_opt` menjadi `optimizer`"
      ]
    },
    {
      "cell_type": "code",
      "execution_count": 5,
      "metadata": {
        "id": "E3ec8nGDwfGH"
      },
      "outputs": [],
      "source": [
        "def train_step(model, train_dataloader, loss_fn, optimizer, device=device):\n",
        "    # siapkan model untuk tahap training\n",
        "    model.to(device)\n",
        "    model.train()\n",
        "    sum_train_loss = 0\n",
        "\n",
        "    # untuk tiap batch,\n",
        "    for X, y in train_dataloader:\n",
        "        X = X.to(device)\n",
        "        y = y.to(device)\n",
        "\n",
        "        # Forward pass\n",
        "        y_pred = model(X)\n",
        "\n",
        "        # Hitung loss\n",
        "        loss = loss_fn(y_pred, y)\n",
        "        sum_train_loss += loss\n",
        "\n",
        "        # \"Optimizer zero grad\": nolkan dulu hasil hitung gradien\n",
        "        optimizer.zero_grad()\n",
        "\n",
        "        # Backpropagation\n",
        "        loss.backward()\n",
        "\n",
        "        # Update optimizer, juga disebut \"optimizer step\"\n",
        "        optimizer.step()\n",
        "\n",
        "    # hitung rata-rata train loss berdasarkan banyaknya batch\n",
        "    avg_train_loss = sum_train_loss / len(train_dataloader)\n",
        "\n",
        "    # sedikit modifikasi: return train loss\n",
        "    return avg_train_loss"
      ]
    },
    {
      "cell_type": "code",
      "execution_count": 6,
      "metadata": {
        "id": "v6Lx5YSDwfGI"
      },
      "outputs": [],
      "source": [
        "def val_step(model, val_dataloader, loss_fn, device=device):\n",
        "    # siapkan model untuk tahap validaion\n",
        "    model.to(device)\n",
        "    model.eval()\n",
        "    sum_val_loss = 0\n",
        "\n",
        "    # selalu digunakan ketika hendak testing\n",
        "    with torch.inference_mode():\n",
        "        # untuk tiap batch,\n",
        "        for X, y in val_dataloader:\n",
        "            X = X.to(device)\n",
        "            y = y.to(device)\n",
        "\n",
        "            # Forward pass\n",
        "            y_pred = model(X)\n",
        "\n",
        "            # Hitung loss\n",
        "            sum_val_loss += loss_fn(y_pred, y)\n",
        "\n",
        "        # hitung rata-rata val loss berdasarkan banyaknya batch\n",
        "        avg_val_loss = sum_val_loss / len(val_dataloader)\n",
        "\n",
        "        # sedikit modifikasi: return val loss\n",
        "        return avg_val_loss"
      ]
    },
    {
      "cell_type": "markdown",
      "metadata": {
        "id": "EOScHiUxwfGI"
      },
      "source": [
        "Setelah mendefinisikan kedua fungsi di atas, *training loop* menjadi lebih sederhana:"
      ]
    },
    {
      "cell_type": "code",
      "execution_count": null,
      "metadata": {
        "id": "ix7GQkWywfGI"
      },
      "outputs": [],
      "source": [
        "epochs = 10\n",
        "\n",
        "train_loss_list = []\n",
        "val_loss_list = []\n",
        "\n",
        "# untuk tiap epoch,\n",
        "for epoch in range(epochs):\n",
        "    # training step\n",
        "    avg_train_loss = train_step(\n",
        "        model = pisah_titik,\n",
        "        train_dataloader = titik_train_dataloader,\n",
        "        loss_fn = titik_loss_fn,\n",
        "        optimizer = titik_opt,\n",
        "        device = device\n",
        "    )\n",
        "    train_loss_list.append(avg_train_loss)\n",
        "\n",
        "    # validation step\n",
        "    avg_val_loss = val_step(\n",
        "        model = pisah_titik,\n",
        "        val_dataloader = titik_val_dataloader,\n",
        "        loss_fn = titik_loss_fn,\n",
        "        device = device\n",
        "    )\n",
        "    val_loss_list.append(avg_val_loss)\n",
        "\n",
        "    # tampilkan train loss dan val loss untuk epoch ini\n",
        "    print(f\"Epoch: {epoch} | avg train loss: {avg_train_loss} | avg val loss: {avg_val_loss}\")"
      ]
    },
    {
      "cell_type": "markdown",
      "metadata": {
        "id": "zRSzXt36wfGJ"
      },
      "source": [
        "Bahkan, *training loop* secara keseluruhan bisa kita jadikan fungsi juga."
      ]
    },
    {
      "cell_type": "code",
      "execution_count": 7,
      "metadata": {
        "id": "Oyqq3FbMwfGK"
      },
      "outputs": [],
      "source": [
        "def training_loop(\n",
        "        model, train_dataloader, val_dataloader,\n",
        "        loss_fn, optimizer, epochs, device = device\n",
        "    ):\n",
        "\n",
        "    train_loss_list = []\n",
        "    val_loss_list = []\n",
        "\n",
        "    # untuk tiap epoch,\n",
        "    for epoch in range(epochs):\n",
        "        # training step\n",
        "        avg_train_loss = train_step(\n",
        "            model, train_dataloader,\n",
        "            loss_fn, optimizer, device=device\n",
        "        )\n",
        "        train_loss_list.append(avg_train_loss)\n",
        "\n",
        "        # validation step\n",
        "        avg_val_loss = val_step(\n",
        "            model, val_dataloader,\n",
        "            loss_fn, device=device\n",
        "        )\n",
        "        val_loss_list.append(avg_val_loss)\n",
        "\n",
        "        # tampilkan train loss dan val loss untuk epoch ini\n",
        "        print(f\"Epoch: {epoch} | avg train loss: {avg_train_loss} | avg val loss: {avg_val_loss}\")\n",
        "\n",
        "    # menyimpan kedua list ke dalam dictionary yang kemudian di-return\n",
        "    results_dict = {\n",
        "        \"train_loss\": [loss.item() for loss in train_loss_list],\n",
        "        \"val_loss\": [loss.item() for loss in val_loss_list]\n",
        "    }\n",
        "    return results_dict"
      ]
    },
    {
      "cell_type": "markdown",
      "metadata": {
        "id": "UuKpt5SZwfGL"
      },
      "source": [
        "## Klasifikasi Gambar"
      ]
    },
    {
      "cell_type": "markdown",
      "metadata": {
        "id": "jucBsO1WwfGL"
      },
      "source": [
        "Sekarang kita akan mencoba melakukan klasifikasi gambar dengan dataset Fashion MNIST seperti di pertemuan sebelumnya."
      ]
    },
    {
      "cell_type": "markdown",
      "metadata": {
        "id": "q2okAtn3wfGM"
      },
      "source": [
        "### Persiapan data"
      ]
    },
    {
      "cell_type": "markdown",
      "metadata": {
        "id": "s9-bHOYewfGO"
      },
      "source": [
        "Langkah pertama adalah menyiapkan data, yaitu menyiapkan objek `Dataset`, yang kemudian diubah menjadi `DataLoader`. Untungnya, objek `Dataset` untuk Fashion MNIST sudah tersedia di `torchvision.datasets.FashionMNIST` sehingga tinggal kita *download* seperti berikut."
      ]
    },
    {
      "cell_type": "markdown",
      "metadata": {
        "id": "uppwZgh2wfGP"
      },
      "source": [
        "Perkiraan *storage* yang dibutuhkan: 90 MB"
      ]
    },
    {
      "cell_type": "markdown",
      "metadata": {
        "id": "m3f3W44VwfGP"
      },
      "source": [
        "Apabila *download* di laptop kalian terlalu pelan, silakan gunakan Google Colaboratory saja, selesai kurang dari 30 detik"
      ]
    },
    {
      "cell_type": "code",
      "execution_count": 11,
      "metadata": {
        "colab": {
          "base_uri": "https://localhost:8080/"
        },
        "id": "BiMjtnMgwfGP",
        "outputId": "76cc5911-b48d-44e2-8e39-0454433682c7"
      },
      "outputs": [
        {
          "name": "stdout",
          "output_type": "stream",
          "text": [
            "Downloading http://fashion-mnist.s3-website.eu-central-1.amazonaws.com/train-images-idx3-ubyte.gz\n",
            "Downloading http://fashion-mnist.s3-website.eu-central-1.amazonaws.com/train-images-idx3-ubyte.gz to ./fashion_data/FashionMNIST/raw/train-images-idx3-ubyte.gz\n"
          ]
        },
        {
          "name": "stderr",
          "output_type": "stream",
          "text": [
            "100%|██████████| 26421880/26421880 [00:06<00:00, 3856770.39it/s]\n"
          ]
        },
        {
          "name": "stdout",
          "output_type": "stream",
          "text": [
            "Extracting ./fashion_data/FashionMNIST/raw/train-images-idx3-ubyte.gz to ./fashion_data/FashionMNIST/raw\n",
            "\n",
            "Downloading http://fashion-mnist.s3-website.eu-central-1.amazonaws.com/train-labels-idx1-ubyte.gz\n",
            "Downloading http://fashion-mnist.s3-website.eu-central-1.amazonaws.com/train-labels-idx1-ubyte.gz to ./fashion_data/FashionMNIST/raw/train-labels-idx1-ubyte.gz\n"
          ]
        },
        {
          "name": "stderr",
          "output_type": "stream",
          "text": [
            "100%|██████████| 29515/29515 [00:00<00:00, 147617.02it/s]\n"
          ]
        },
        {
          "name": "stdout",
          "output_type": "stream",
          "text": [
            "Extracting ./fashion_data/FashionMNIST/raw/train-labels-idx1-ubyte.gz to ./fashion_data/FashionMNIST/raw\n",
            "\n",
            "Downloading http://fashion-mnist.s3-website.eu-central-1.amazonaws.com/t10k-images-idx3-ubyte.gz\n",
            "Downloading http://fashion-mnist.s3-website.eu-central-1.amazonaws.com/t10k-images-idx3-ubyte.gz to ./fashion_data/FashionMNIST/raw/t10k-images-idx3-ubyte.gz\n"
          ]
        },
        {
          "name": "stderr",
          "output_type": "stream",
          "text": [
            "100%|██████████| 4422102/4422102 [00:01<00:00, 2747505.87it/s]\n"
          ]
        },
        {
          "name": "stdout",
          "output_type": "stream",
          "text": [
            "Extracting ./fashion_data/FashionMNIST/raw/t10k-images-idx3-ubyte.gz to ./fashion_data/FashionMNIST/raw\n",
            "\n",
            "Downloading http://fashion-mnist.s3-website.eu-central-1.amazonaws.com/t10k-labels-idx1-ubyte.gz\n",
            "Downloading http://fashion-mnist.s3-website.eu-central-1.amazonaws.com/t10k-labels-idx1-ubyte.gz to ./fashion_data/FashionMNIST/raw/t10k-labels-idx1-ubyte.gz\n"
          ]
        },
        {
          "name": "stderr",
          "output_type": "stream",
          "text": [
            "100%|██████████| 5148/5148 [00:00<00:00, 5877048.72it/s]"
          ]
        },
        {
          "name": "stdout",
          "output_type": "stream",
          "text": [
            "Extracting ./fashion_data/FashionMNIST/raw/t10k-labels-idx1-ubyte.gz to ./fashion_data/FashionMNIST/raw\n",
            "\n"
          ]
        },
        {
          "name": "stderr",
          "output_type": "stream",
          "text": [
            "\n"
          ]
        }
      ],
      "source": [
        "fashion_train = torchvision.datasets.FashionMNIST(\n",
        "    root = \"./fashion_data\", # folder tempat download\n",
        "    train = True, # data training\n",
        "    download = True, # karena belum ada\n",
        "    # agar file gambar otomatis diubah menjadi tensor\n",
        "    transform = torchvision.transforms.ToTensor()\n",
        ")"
      ]
    },
    {
      "cell_type": "code",
      "execution_count": 12,
      "metadata": {
        "id": "C89TtYlSwfGQ"
      },
      "outputs": [],
      "source": [
        "fashion_val = torchvision.datasets.FashionMNIST(\n",
        "    root = \"./fashion_data\", # folder yang sama untuk tempat download\n",
        "    train = False, # bukan data training\n",
        "    download = True,\n",
        "    transform = torchvision.transforms.ToTensor()\n",
        ")"
      ]
    },
    {
      "cell_type": "markdown",
      "metadata": {
        "id": "GsadmZyHxJ-g"
      },
      "source": [
        "Banyaknya baris di data *training* dan data *validation*"
      ]
    },
    {
      "cell_type": "code",
      "execution_count": 5,
      "metadata": {
        "colab": {
          "base_uri": "https://localhost:8080/"
        },
        "id": "yUi8SVtvxEXC",
        "outputId": "8e06457d-1b36-4750-a564-e9a617928ff1"
      },
      "outputs": [
        {
          "name": "stdout",
          "output_type": "stream",
          "text": [
            "60000 60000\n"
          ]
        }
      ],
      "source": [
        "print(len(fashion_train.data), len(fashion_train.targets))"
      ]
    },
    {
      "cell_type": "code",
      "execution_count": 4,
      "metadata": {
        "colab": {
          "base_uri": "https://localhost:8080/"
        },
        "id": "zg8I6tK8xNXK",
        "outputId": "04c08175-9ea8-4f4c-b611-4c5d0cb3af3a"
      },
      "outputs": [
        {
          "name": "stdout",
          "output_type": "stream",
          "text": [
            "10000 10000\n"
          ]
        }
      ],
      "source": [
        "print(len(fashion_val.data), len(fashion_val.targets))"
      ]
    },
    {
      "cell_type": "markdown",
      "metadata": {
        "id": "2ktdfv83xex3"
      },
      "source": [
        "Kelas-kelas:"
      ]
    },
    {
      "cell_type": "code",
      "execution_count": 45,
      "metadata": {
        "colab": {
          "base_uri": "https://localhost:8080/"
        },
        "id": "iMu8-R4XxgIA",
        "outputId": "18098def-bba2-4ceb-da44-e92d305030cc"
      },
      "outputs": [
        {
          "name": "stdout",
          "output_type": "stream",
          "text": [
            "['T-shirt/top', 'Trouser', 'Pullover', 'Dress', 'Coat', 'Sandal', 'Shirt', 'Sneaker', 'Bag', 'Ankle boot']\n"
          ]
        }
      ],
      "source": [
        "nama_kelas = fashion_train.classes\n",
        "print(nama_kelas)"
      ]
    },
    {
      "cell_type": "markdown",
      "metadata": {
        "id": "oqsgX2b6xnQH"
      },
      "source": [
        "Kita bisa lihat salah satu gambarnya:"
      ]
    },
    {
      "cell_type": "code",
      "execution_count": 11,
      "metadata": {
        "colab": {
          "base_uri": "https://localhost:8080/",
          "height": 428
        },
        "id": "Aue-LIR9xoei",
        "outputId": "95217700-710a-44c4-ed9f-be41a35d0dc4"
      },
      "outputs": [
        {
          "data": {
            "image/png": "[encoded data removed]",
            "text/plain": [
              "<Figure size 640x480 with 1 Axes>"
            ]
          },
          "metadata": {},
          "output_type": "display_data"
        }
      ],
      "source": [
        "#@title Slider to look for some image examples {run: \"auto\"}\n",
        "idx = 21402 #@param {type:\"slider\", min:0, max:49999, step:1}\n",
        "\n",
        "image, label = fashion_train[idx]\n",
        "plt.imshow(image.squeeze(), cmap='gray')\n",
        "plt.title(nama_kelas[label])\n",
        "plt.axis('OFF')\n",
        "plt.show()"
      ]
    },
    {
      "cell_type": "markdown",
      "metadata": {
        "id": "uLeXVN51yRr2"
      },
      "source": [
        "Sedikit berbeda dengan pertemuan sebelumnya, kali ini kita gunakan `.squeeze()` karena gambar yang diberikan berukuran 1 x 28 x 28 (yaitu dengan satu *color channel:* hitam-putih) daripada 28 x 28, sehingga perlu diubah menjadi 28 x 28."
      ]
    },
    {
      "cell_type": "markdown",
      "metadata": {
        "id": "n9c_jE-Kz6ry"
      },
      "source": [
        "Jangan lupa menyiapkan `DataLoader`"
      ]
    },
    {
      "cell_type": "code",
      "execution_count": 13,
      "metadata": {
        "id": "8Yj0Lnah0A9l"
      },
      "outputs": [],
      "source": [
        "BATCH_SIZE = 32\n",
        "\n",
        "fashion_train_dataloader = DataLoader(\n",
        "    fashion_train,\n",
        "    batch_size = BATCH_SIZE,\n",
        "    shuffle = True\n",
        ")\n",
        "\n",
        "fashion_val_dataloader = DataLoader(\n",
        "    fashion_val,\n",
        "    batch_size = BATCH_SIZE,\n",
        "    shuffle = False\n",
        ")"
      ]
    },
    {
      "cell_type": "markdown",
      "metadata": {
        "id": "v7oQwyMfwfGQ"
      },
      "source": [
        "### Menyusun model"
      ]
    },
    {
      "cell_type": "code",
      "execution_count": 14,
      "metadata": {
        "id": "1wE_ZQFg3CHF"
      },
      "outputs": [],
      "source": [
        "class ModelFashionMNIST(torch.nn.Module):\n",
        "    def __init__(self):\n",
        "        super().__init__()\n",
        "\n",
        "        self.layer_stack = torch.nn.Sequential(\n",
        "            torch.nn.Flatten(),\n",
        "            torch.nn.Linear(in_features=784, out_features=15),\n",
        "            torch.nn.ReLU(),\n",
        "            torch.nn.Linear(in_features=15, out_features=10),\n",
        "            torch.nn.Softmax(dim=1)\n",
        "        )\n",
        "\n",
        "    def forward(self, x):\n",
        "        x = self.layer_stack(x)\n",
        "        return x"
      ]
    },
    {
      "cell_type": "code",
      "execution_count": 15,
      "metadata": {
        "id": "ElUGpTMq33Nm"
      },
      "outputs": [],
      "source": [
        "fashion_model = ModelFashionMNIST()"
      ]
    },
    {
      "cell_type": "markdown",
      "metadata": {
        "id": "VeLD_Cf34UMv"
      },
      "source": [
        "### Menyiapkan *hyperparameter*"
      ]
    },
    {
      "cell_type": "code",
      "execution_count": 16,
      "metadata": {
        "id": "-0wp32I64cq-"
      },
      "outputs": [],
      "source": [
        "fashion_loss_fn = torch.nn.CrossEntropyLoss()\n",
        "fashion_opt = torch.optim.Adam(params=fashion_model.parameters(),\n",
        "                               lr=0.01)"
      ]
    },
    {
      "cell_type": "markdown",
      "metadata": {
        "id": "6sPRFledwfGR"
      },
      "source": [
        "### *Training*"
      ]
    },
    {
      "cell_type": "code",
      "execution_count": 20,
      "metadata": {
        "colab": {
          "base_uri": "https://localhost:8080/"
        },
        "id": "FpvlXt5O8b27",
        "outputId": "6a08bb63-ae0b-4edf-c664-ad00d81a8b19"
      },
      "outputs": [
        {
          "name": "stdout",
          "output_type": "stream",
          "text": [
            "Epoch: 0 | avg train loss: 1.9308573007583618 | avg val loss: 1.9090994596481323\n",
            "Epoch: 1 | avg train loss: 1.9126436710357666 | avg val loss: 1.9180550575256348\n",
            "Epoch: 2 | avg train loss: 1.8876198530197144 | avg val loss: 1.8480236530303955\n",
            "Epoch: 3 | avg train loss: 1.7515285015106201 | avg val loss: 1.722522497177124\n",
            "Epoch: 4 | avg train loss: 1.7178850173950195 | avg val loss: 1.715074062347412\n",
            "Epoch: 5 | avg train loss: 1.6621224880218506 | avg val loss: 1.6644155979156494\n",
            "Epoch: 6 | avg train loss: 1.6579434871673584 | avg val loss: 1.6573517322540283\n",
            "Epoch: 7 | avg train loss: 1.6579766273498535 | avg val loss: 1.675686240196228\n",
            "Epoch: 8 | avg train loss: 1.6498321294784546 | avg val loss: 1.6481648683547974\n",
            "Epoch: 9 | avg train loss: 1.6487261056900024 | avg val loss: 1.692258358001709\n"
          ]
        }
      ],
      "source": [
        "fashion_results = training_loop(\n",
        "    fashion_model, fashion_train_dataloader, fashion_val_dataloader,\n",
        "    fashion_loss_fn, fashion_opt,\n",
        "    epochs = 10,\n",
        "    device = device\n",
        ")"
      ]
    },
    {
      "cell_type": "code",
      "execution_count": null,
      "metadata": {
        "id": "PR37pDpj8rAy"
      },
      "outputs": [],
      "source": [
        "fashion_loss_df = pd.DataFrame(\n",
        "    [\n",
        "        [loss.item() for loss in fashion_results[\"train_loss\"]],\n",
        "        [loss.item() for loss in fashion_results[\"val_loss\"]]\n",
        "    ],\n",
        ").transpose().rename(columns={0: \"train_loss\", 1: \"val_loss\"})"
      ]
    },
    {
      "cell_type": "code",
      "execution_count": 24,
      "metadata": {
        "colab": {
          "base_uri": "https://localhost:8080/",
          "height": 363
        },
        "id": "y5RlXBub8vws",
        "outputId": "773fb025-4b19-49dd-e8c4-e6b4e9b1fcfc"
      },
      "outputs": [
        {
          "data": {
            "application/vnd.google.colaboratory.intrinsic+json": {
              "summary": "{\n  \"name\": \"fashion_loss_df\",\n  \"rows\": 10,\n  \"fields\": [\n    {\n      \"column\": \"train_loss\",\n      \"properties\": {\n        \"dtype\": \"number\",\n        \"std\": 0.11739683086595415,\n        \"min\": 1.6487261056900024,\n        \"max\": 1.9308573007583618,\n        \"num_unique_values\": 10,\n        \"samples\": [\n          1.6498321294784546,\n          1.9126436710357666,\n          1.6621224880218506\n        ],\n        \"semantic_type\": \"\",\n        \"description\": \"\"\n      }\n    },\n    {\n      \"column\": \"val_loss\",\n      \"properties\": {\n        \"dtype\": \"number\",\n        \"std\": 0.10542532987976785,\n        \"min\": 1.6481648683547974,\n        \"max\": 1.9180550575256348,\n        \"num_unique_values\": 10,\n        \"samples\": [\n          1.6481648683547974,\n          1.9180550575256348,\n          1.6644155979156494\n        ],\n        \"semantic_type\": \"\",\n        \"description\": \"\"\n      }\n    }\n  ]\n}",
              "type": "dataframe",
              "variable_name": "fashion_loss_df"
            },
            "text/html": [
              "\n",
              "  <div id=\"df-9dee5741-a853-43c0-a391-5245131d3705\" class=\"colab-df-container\">\n",
              "    <div>\n",
              "<style scoped>\n",
              "    .dataframe tbody tr th:only-of-type {\n",
              "        vertical-align: middle;\n",
              "    }\n",
              "\n",
              "    .dataframe tbody tr th {\n",
              "        vertical-align: top;\n",
              "    }\n",
              "\n",
              "    .dataframe thead th {\n",
              "        text-align: right;\n",
              "    }\n",
              "</style>\n",
              "<table border=\"1\" class=\"dataframe\">\n",
              "  <thead>\n",
              "    <tr style=\"text-align: right;\">\n",
              "      <th></th>\n",
              "      <th>train_loss</th>\n",
              "      <th>val_loss</th>\n",
              "    </tr>\n",
              "  </thead>\n",
              "  <tbody>\n",
              "    <tr>\n",
              "      <th>0</th>\n",
              "      <td>1.930857</td>\n",
              "      <td>1.909099</td>\n",
              "    </tr>\n",
              "    <tr>\n",
              "      <th>1</th>\n",
              "      <td>1.912644</td>\n",
              "      <td>1.918055</td>\n",
              "    </tr>\n",
              "    <tr>\n",
              "      <th>2</th>\n",
              "      <td>1.887620</td>\n",
              "      <td>1.848024</td>\n",
              "    </tr>\n",
              "    <tr>\n",
              "      <th>3</th>\n",
              "      <td>1.751529</td>\n",
              "      <td>1.722522</td>\n",
              "    </tr>\n",
              "    <tr>\n",
              "      <th>4</th>\n",
              "      <td>1.717885</td>\n",
              "      <td>1.715074</td>\n",
              "    </tr>\n",
              "    <tr>\n",
              "      <th>5</th>\n",
              "      <td>1.662122</td>\n",
              "      <td>1.664416</td>\n",
              "    </tr>\n",
              "    <tr>\n",
              "      <th>6</th>\n",
              "      <td>1.657943</td>\n",
              "      <td>1.657352</td>\n",
              "    </tr>\n",
              "    <tr>\n",
              "      <th>7</th>\n",
              "      <td>1.657977</td>\n",
              "      <td>1.675686</td>\n",
              "    </tr>\n",
              "    <tr>\n",
              "      <th>8</th>\n",
              "      <td>1.649832</td>\n",
              "      <td>1.648165</td>\n",
              "    </tr>\n",
              "    <tr>\n",
              "      <th>9</th>\n",
              "      <td>1.648726</td>\n",
              "      <td>1.692258</td>\n",
              "    </tr>\n",
              "  </tbody>\n",
              "</table>\n",
              "</div>\n",
              "    <div class=\"colab-df-buttons\">\n",
              "\n",
              "  <div class=\"colab-df-container\">\n",
              "    <button class=\"colab-df-convert\" onclick=\"convertToInteractive('df-9dee5741-a853-43c0-a391-5245131d3705')\"\n",
              "            title=\"Convert this dataframe to an interactive table.\"\n",
              "            style=\"display:none;\">\n",
              "\n",
              "  <svg xmlns=\"http://www.w3.org/2000/svg\" height=\"24px\" viewBox=\"0 -960 960 960\">\n",
              "    <path d=\"M120-120v-720h720v720H120Zm60-500h600v-160H180v160Zm220 220h160v-160H400v160Zm0 220h160v-160H400v160ZM180-400h160v-160H180v160Zm440 0h160v-160H620v160ZM180-180h160v-160H180v160Zm440 0h160v-160H620v160Z\"/>\n",
              "  </svg>\n",
              "    </button>\n",
              "\n",
              "  <style>\n",
              "    .colab-df-container {\n",
              "      display:flex;\n",
              "      gap: 12px;\n",
              "    }\n",
              "\n",
              "    .colab-df-convert {\n",
              "      background-color: #E8F0FE;\n",
              "      border: none;\n",
              "      border-radius: 50%;\n",
              "      cursor: pointer;\n",
              "      display: none;\n",
              "      fill: #1967D2;\n",
              "      height: 32px;\n",
              "      padding: 0 0 0 0;\n",
              "      width: 32px;\n",
              "    }\n",
              "\n",
              "    .colab-df-convert:hover {\n",
              "      background-color: #E2EBFA;\n",
              "      box-shadow: 0px 1px 2px rgba(60, 64, 67, 0.3), 0px 1px 3px 1px rgba(60, 64, 67, 0.15);\n",
              "      fill: #174EA6;\n",
              "    }\n",
              "\n",
              "    .colab-df-buttons div {\n",
              "      margin-bottom: 4px;\n",
              "    }\n",
              "\n",
              "    [theme=dark] .colab-df-convert {\n",
              "      background-color: #3B4455;\n",
              "      fill: #D2E3FC;\n",
              "    }\n",
              "\n",
              "    [theme=dark] .colab-df-convert:hover {\n",
              "      background-color: #434B5C;\n",
              "      box-shadow: 0px 1px 3px 1px rgba(0, 0, 0, 0.15);\n",
              "      filter: drop-shadow(0px 1px 2px rgba(0, 0, 0, 0.3));\n",
              "      fill: #FFFFFF;\n",
              "    }\n",
              "  </style>\n",
              "\n",
              "    <script>\n",
              "      const buttonEl =\n",
              "        document.querySelector('#df-9dee5741-a853-43c0-a391-5245131d3705 button.colab-df-convert');\n",
              "      buttonEl.style.display =\n",
              "        google.colab.kernel.accessAllowed ? 'block' : 'none';\n",
              "\n",
              "      async function convertToInteractive(key) {\n",
              "        const element = document.querySelector('#df-9dee5741-a853-43c0-a391-5245131d3705');\n",
              "        const dataTable =\n",
              "          await google.colab.kernel.invokeFunction('convertToInteractive',\n",
              "                                                    [key], {});\n",
              "        if (!dataTable) return;\n",
              "\n",
              "        const docLinkHtml = 'Like what you see? Visit the ' +\n",
              "          '<a target=\"_blank\" href=https://colab.research.google.com/notebooks/data_table.ipynb>data table notebook</a>'\n",
              "          + ' to learn more about interactive tables.';\n",
              "        element.innerHTML = '';\n",
              "        dataTable['output_type'] = 'display_data';\n",
              "        await google.colab.output.renderOutput(dataTable, element);\n",
              "        const docLink = document.createElement('div');\n",
              "        docLink.innerHTML = docLinkHtml;\n",
              "        element.appendChild(docLink);\n",
              "      }\n",
              "    </script>\n",
              "  </div>\n",
              "\n",
              "\n",
              "<div id=\"df-ec3fb7d9-db43-4e88-b55d-2ee024dbc96c\">\n",
              "  <button class=\"colab-df-quickchart\" onclick=\"quickchart('df-ec3fb7d9-db43-4e88-b55d-2ee024dbc96c')\"\n",
              "            title=\"Suggest charts\"\n",
              "            style=\"display:none;\">\n",
              "\n",
              "<svg xmlns=\"http://www.w3.org/2000/svg\" height=\"24px\"viewBox=\"0 0 24 24\"\n",
              "     width=\"24px\">\n",
              "    <g>\n",
              "        <path d=\"M19 3H5c-1.1 0-2 .9-2 2v14c0 1.1.9 2 2 2h14c1.1 0 2-.9 2-2V5c0-1.1-.9-2-2-2zM9 17H7v-7h2v7zm4 0h-2V7h2v10zm4 0h-2v-4h2v4z\"/>\n",
              "    </g>\n",
              "</svg>\n",
              "  </button>\n",
              "\n",
              "<style>\n",
              "  .colab-df-quickchart {\n",
              "      --bg-color: #E8F0FE;\n",
              "      --fill-color: #1967D2;\n",
              "      --hover-bg-color: #E2EBFA;\n",
              "      --hover-fill-color: #174EA6;\n",
              "      --disabled-fill-color: #AAA;\n",
              "      --disabled-bg-color: #DDD;\n",
              "  }\n",
              "\n",
              "  [theme=dark] .colab-df-quickchart {\n",
              "      --bg-color: #3B4455;\n",
              "      --fill-color: #D2E3FC;\n",
              "      --hover-bg-color: #434B5C;\n",
              "      --hover-fill-color: #FFFFFF;\n",
              "      --disabled-bg-color: #3B4455;\n",
              "      --disabled-fill-color: #666;\n",
              "  }\n",
              "\n",
              "  .colab-df-quickchart {\n",
              "    background-color: var(--bg-color);\n",
              "    border: none;\n",
              "    border-radius: 50%;\n",
              "    cursor: pointer;\n",
              "    display: none;\n",
              "    fill: var(--fill-color);\n",
              "    height: 32px;\n",
              "    padding: 0;\n",
              "    width: 32px;\n",
              "  }\n",
              "\n",
              "  .colab-df-quickchart:hover {\n",
              "    background-color: var(--hover-bg-color);\n",
              "    box-shadow: 0 1px 2px rgba(60, 64, 67, 0.3), 0 1px 3px 1px rgba(60, 64, 67, 0.15);\n",
              "    fill: var(--button-hover-fill-color);\n",
              "  }\n",
              "\n",
              "  .colab-df-quickchart-complete:disabled,\n",
              "  .colab-df-quickchart-complete:disabled:hover {\n",
              "    background-color: var(--disabled-bg-color);\n",
              "    fill: var(--disabled-fill-color);\n",
              "    box-shadow: none;\n",
              "  }\n",
              "\n",
              "  .colab-df-spinner {\n",
              "    border: 2px solid var(--fill-color);\n",
              "    border-color: transparent;\n",
              "    border-bottom-color: var(--fill-color);\n",
              "    animation:\n",
              "      spin 1s steps(1) infinite;\n",
              "  }\n",
              "\n",
              "  @keyframes spin {\n",
              "    0% {\n",
              "      border-color: transparent;\n",
              "      border-bottom-color: var(--fill-color);\n",
              "      border-left-color: var(--fill-color);\n",
              "    }\n",
              "    20% {\n",
              "      border-color: transparent;\n",
              "      border-left-color: var(--fill-color);\n",
              "      border-top-color: var(--fill-color);\n",
              "    }\n",
              "    30% {\n",
              "      border-color: transparent;\n",
              "      border-left-color: var(--fill-color);\n",
              "      border-top-color: var(--fill-color);\n",
              "      border-right-color: var(--fill-color);\n",
              "    }\n",
              "    40% {\n",
              "      border-color: transparent;\n",
              "      border-right-color: var(--fill-color);\n",
              "      border-top-color: var(--fill-color);\n",
              "    }\n",
              "    60% {\n",
              "      border-color: transparent;\n",
              "      border-right-color: var(--fill-color);\n",
              "    }\n",
              "    80% {\n",
              "      border-color: transparent;\n",
              "      border-right-color: var(--fill-color);\n",
              "      border-bottom-color: var(--fill-color);\n",
              "    }\n",
              "    90% {\n",
              "      border-color: transparent;\n",
              "      border-bottom-color: var(--fill-color);\n",
              "    }\n",
              "  }\n",
              "</style>\n",
              "\n",
              "  <script>\n",
              "    async function quickchart(key) {\n",
              "      const quickchartButtonEl =\n",
              "        document.querySelector('#' + key + ' button');\n",
              "      quickchartButtonEl.disabled = true;  // To prevent multiple clicks.\n",
              "      quickchartButtonEl.classList.add('colab-df-spinner');\n",
              "      try {\n",
              "        const charts = await google.colab.kernel.invokeFunction(\n",
              "            'suggestCharts', [key], {});\n",
              "      } catch (error) {\n",
              "        console.error('Error during call to suggestCharts:', error);\n",
              "      }\n",
              "      quickchartButtonEl.classList.remove('colab-df-spinner');\n",
              "      quickchartButtonEl.classList.add('colab-df-quickchart-complete');\n",
              "    }\n",
              "    (() => {\n",
              "      let quickchartButtonEl =\n",
              "        document.querySelector('#df-ec3fb7d9-db43-4e88-b55d-2ee024dbc96c button');\n",
              "      quickchartButtonEl.style.display =\n",
              "        google.colab.kernel.accessAllowed ? 'block' : 'none';\n",
              "    })();\n",
              "  </script>\n",
              "</div>\n",
              "    </div>\n",
              "  </div>\n"
            ],
            "text/plain": [
              "   train_loss  val_loss\n",
              "0    1.930857  1.909099\n",
              "1    1.912644  1.918055\n",
              "2    1.887620  1.848024\n",
              "3    1.751529  1.722522\n",
              "4    1.717885  1.715074\n",
              "5    1.662122  1.664416\n",
              "6    1.657943  1.657352\n",
              "7    1.657977  1.675686\n",
              "8    1.649832  1.648165\n",
              "9    1.648726  1.692258"
            ]
          },
          "execution_count": 24,
          "metadata": {},
          "output_type": "execute_result"
        }
      ],
      "source": [
        "fashion_loss_df"
      ]
    },
    {
      "cell_type": "code",
      "execution_count": 27,
      "metadata": {
        "id": "mkLreE9c9Xd1"
      },
      "outputs": [],
      "source": [
        "fashion_loss_df.to_csv(\"./pytorch_fashion_loss_df.csv\", index=False)"
      ]
    },
    {
      "cell_type": "markdown",
      "metadata": {},
      "source": [
        "Kalau mau menyamakan dengan modul, bisa *download* dari GitHub Pages ini: [pytorch_fashion_loss_df.csv](./pytorch_fashion_loss_df.csv)"
      ]
    },
    {
      "cell_type": "code",
      "execution_count": 28,
      "metadata": {
        "id": "e5Y_Xxym9b2j"
      },
      "outputs": [],
      "source": [
        "pytorch_fashion_loss_df = pd.read_csv(\"./pytorch_fashion_loss_df.csv\")"
      ]
    },
    {
      "cell_type": "code",
      "execution_count": 29,
      "metadata": {
        "colab": {
          "base_uri": "https://localhost:8080/",
          "height": 363
        },
        "id": "Q6ip2C999eyL",
        "outputId": "6c1a05cc-9779-412c-f191-561fab96c25e"
      },
      "outputs": [
        {
          "data": {
            "application/vnd.google.colaboratory.intrinsic+json": {
              "summary": "{\n  \"name\": \"pytorch_fashion_loss_df\",\n  \"rows\": 10,\n  \"fields\": [\n    {\n      \"column\": \"train_loss\",\n      \"properties\": {\n        \"dtype\": \"number\",\n        \"std\": 0.1173968308659541,\n        \"min\": 1.6487261056900024,\n        \"max\": 1.9308573007583616,\n        \"num_unique_values\": 10,\n        \"samples\": [\n          1.6498321294784546,\n          1.9126436710357664,\n          1.6621224880218506\n        ],\n        \"semantic_type\": \"\",\n        \"description\": \"\"\n      }\n    },\n    {\n      \"column\": \"val_loss\",\n      \"properties\": {\n        \"dtype\": \"number\",\n        \"std\": 0.10542532987976785,\n        \"min\": 1.6481648683547974,\n        \"max\": 1.9180550575256348,\n        \"num_unique_values\": 10,\n        \"samples\": [\n          1.6481648683547974,\n          1.9180550575256348,\n          1.6644155979156494\n        ],\n        \"semantic_type\": \"\",\n        \"description\": \"\"\n      }\n    }\n  ]\n}",
              "type": "dataframe",
              "variable_name": "pytorch_fashion_loss_df"
            },
            "text/html": [
              "\n",
              "  <div id=\"df-b861cd43-c776-4962-9016-f6fbb4274a76\" class=\"colab-df-container\">\n",
              "    <div>\n",
              "<style scoped>\n",
              "    .dataframe tbody tr th:only-of-type {\n",
              "        vertical-align: middle;\n",
              "    }\n",
              "\n",
              "    .dataframe tbody tr th {\n",
              "        vertical-align: top;\n",
              "    }\n",
              "\n",
              "    .dataframe thead th {\n",
              "        text-align: right;\n",
              "    }\n",
              "</style>\n",
              "<table border=\"1\" class=\"dataframe\">\n",
              "  <thead>\n",
              "    <tr style=\"text-align: right;\">\n",
              "      <th></th>\n",
              "      <th>train_loss</th>\n",
              "      <th>val_loss</th>\n",
              "    </tr>\n",
              "  </thead>\n",
              "  <tbody>\n",
              "    <tr>\n",
              "      <th>0</th>\n",
              "      <td>1.930857</td>\n",
              "      <td>1.909099</td>\n",
              "    </tr>\n",
              "    <tr>\n",
              "      <th>1</th>\n",
              "      <td>1.912644</td>\n",
              "      <td>1.918055</td>\n",
              "    </tr>\n",
              "    <tr>\n",
              "      <th>2</th>\n",
              "      <td>1.887620</td>\n",
              "      <td>1.848024</td>\n",
              "    </tr>\n",
              "    <tr>\n",
              "      <th>3</th>\n",
              "      <td>1.751529</td>\n",
              "      <td>1.722522</td>\n",
              "    </tr>\n",
              "    <tr>\n",
              "      <th>4</th>\n",
              "      <td>1.717885</td>\n",
              "      <td>1.715074</td>\n",
              "    </tr>\n",
              "    <tr>\n",
              "      <th>5</th>\n",
              "      <td>1.662122</td>\n",
              "      <td>1.664416</td>\n",
              "    </tr>\n",
              "    <tr>\n",
              "      <th>6</th>\n",
              "      <td>1.657943</td>\n",
              "      <td>1.657352</td>\n",
              "    </tr>\n",
              "    <tr>\n",
              "      <th>7</th>\n",
              "      <td>1.657977</td>\n",
              "      <td>1.675686</td>\n",
              "    </tr>\n",
              "    <tr>\n",
              "      <th>8</th>\n",
              "      <td>1.649832</td>\n",
              "      <td>1.648165</td>\n",
              "    </tr>\n",
              "    <tr>\n",
              "      <th>9</th>\n",
              "      <td>1.648726</td>\n",
              "      <td>1.692258</td>\n",
              "    </tr>\n",
              "  </tbody>\n",
              "</table>\n",
              "</div>\n",
              "    <div class=\"colab-df-buttons\">\n",
              "\n",
              "  <div class=\"colab-df-container\">\n",
              "    <button class=\"colab-df-convert\" onclick=\"convertToInteractive('df-b861cd43-c776-4962-9016-f6fbb4274a76')\"\n",
              "            title=\"Convert this dataframe to an interactive table.\"\n",
              "            style=\"display:none;\">\n",
              "\n",
              "  <svg xmlns=\"http://www.w3.org/2000/svg\" height=\"24px\" viewBox=\"0 -960 960 960\">\n",
              "    <path d=\"M120-120v-720h720v720H120Zm60-500h600v-160H180v160Zm220 220h160v-160H400v160Zm0 220h160v-160H400v160ZM180-400h160v-160H180v160Zm440 0h160v-160H620v160ZM180-180h160v-160H180v160Zm440 0h160v-160H620v160Z\"/>\n",
              "  </svg>\n",
              "    </button>\n",
              "\n",
              "  <style>\n",
              "    .colab-df-container {\n",
              "      display:flex;\n",
              "      gap: 12px;\n",
              "    }\n",
              "\n",
              "    .colab-df-convert {\n",
              "      background-color: #E8F0FE;\n",
              "      border: none;\n",
              "      border-radius: 50%;\n",
              "      cursor: pointer;\n",
              "      display: none;\n",
              "      fill: #1967D2;\n",
              "      height: 32px;\n",
              "      padding: 0 0 0 0;\n",
              "      width: 32px;\n",
              "    }\n",
              "\n",
              "    .colab-df-convert:hover {\n",
              "      background-color: #E2EBFA;\n",
              "      box-shadow: 0px 1px 2px rgba(60, 64, 67, 0.3), 0px 1px 3px 1px rgba(60, 64, 67, 0.15);\n",
              "      fill: #174EA6;\n",
              "    }\n",
              "\n",
              "    .colab-df-buttons div {\n",
              "      margin-bottom: 4px;\n",
              "    }\n",
              "\n",
              "    [theme=dark] .colab-df-convert {\n",
              "      background-color: #3B4455;\n",
              "      fill: #D2E3FC;\n",
              "    }\n",
              "\n",
              "    [theme=dark] .colab-df-convert:hover {\n",
              "      background-color: #434B5C;\n",
              "      box-shadow: 0px 1px 3px 1px rgba(0, 0, 0, 0.15);\n",
              "      filter: drop-shadow(0px 1px 2px rgba(0, 0, 0, 0.3));\n",
              "      fill: #FFFFFF;\n",
              "    }\n",
              "  </style>\n",
              "\n",
              "    <script>\n",
              "      const buttonEl =\n",
              "        document.querySelector('#df-b861cd43-c776-4962-9016-f6fbb4274a76 button.colab-df-convert');\n",
              "      buttonEl.style.display =\n",
              "        google.colab.kernel.accessAllowed ? 'block' : 'none';\n",
              "\n",
              "      async function convertToInteractive(key) {\n",
              "        const element = document.querySelector('#df-b861cd43-c776-4962-9016-f6fbb4274a76');\n",
              "        const dataTable =\n",
              "          await google.colab.kernel.invokeFunction('convertToInteractive',\n",
              "                                                    [key], {});\n",
              "        if (!dataTable) return;\n",
              "\n",
              "        const docLinkHtml = 'Like what you see? Visit the ' +\n",
              "          '<a target=\"_blank\" href=https://colab.research.google.com/notebooks/data_table.ipynb>data table notebook</a>'\n",
              "          + ' to learn more about interactive tables.';\n",
              "        element.innerHTML = '';\n",
              "        dataTable['output_type'] = 'display_data';\n",
              "        await google.colab.output.renderOutput(dataTable, element);\n",
              "        const docLink = document.createElement('div');\n",
              "        docLink.innerHTML = docLinkHtml;\n",
              "        element.appendChild(docLink);\n",
              "      }\n",
              "    </script>\n",
              "  </div>\n",
              "\n",
              "\n",
              "<div id=\"df-5ef3124d-0aec-4682-bf51-88ebd5fff5e1\">\n",
              "  <button class=\"colab-df-quickchart\" onclick=\"quickchart('df-5ef3124d-0aec-4682-bf51-88ebd5fff5e1')\"\n",
              "            title=\"Suggest charts\"\n",
              "            style=\"display:none;\">\n",
              "\n",
              "<svg xmlns=\"http://www.w3.org/2000/svg\" height=\"24px\"viewBox=\"0 0 24 24\"\n",
              "     width=\"24px\">\n",
              "    <g>\n",
              "        <path d=\"M19 3H5c-1.1 0-2 .9-2 2v14c0 1.1.9 2 2 2h14c1.1 0 2-.9 2-2V5c0-1.1-.9-2-2-2zM9 17H7v-7h2v7zm4 0h-2V7h2v10zm4 0h-2v-4h2v4z\"/>\n",
              "    </g>\n",
              "</svg>\n",
              "  </button>\n",
              "\n",
              "<style>\n",
              "  .colab-df-quickchart {\n",
              "      --bg-color: #E8F0FE;\n",
              "      --fill-color: #1967D2;\n",
              "      --hover-bg-color: #E2EBFA;\n",
              "      --hover-fill-color: #174EA6;\n",
              "      --disabled-fill-color: #AAA;\n",
              "      --disabled-bg-color: #DDD;\n",
              "  }\n",
              "\n",
              "  [theme=dark] .colab-df-quickchart {\n",
              "      --bg-color: #3B4455;\n",
              "      --fill-color: #D2E3FC;\n",
              "      --hover-bg-color: #434B5C;\n",
              "      --hover-fill-color: #FFFFFF;\n",
              "      --disabled-bg-color: #3B4455;\n",
              "      --disabled-fill-color: #666;\n",
              "  }\n",
              "\n",
              "  .colab-df-quickchart {\n",
              "    background-color: var(--bg-color);\n",
              "    border: none;\n",
              "    border-radius: 50%;\n",
              "    cursor: pointer;\n",
              "    display: none;\n",
              "    fill: var(--fill-color);\n",
              "    height: 32px;\n",
              "    padding: 0;\n",
              "    width: 32px;\n",
              "  }\n",
              "\n",
              "  .colab-df-quickchart:hover {\n",
              "    background-color: var(--hover-bg-color);\n",
              "    box-shadow: 0 1px 2px rgba(60, 64, 67, 0.3), 0 1px 3px 1px rgba(60, 64, 67, 0.15);\n",
              "    fill: var(--button-hover-fill-color);\n",
              "  }\n",
              "\n",
              "  .colab-df-quickchart-complete:disabled,\n",
              "  .colab-df-quickchart-complete:disabled:hover {\n",
              "    background-color: var(--disabled-bg-color);\n",
              "    fill: var(--disabled-fill-color);\n",
              "    box-shadow: none;\n",
              "  }\n",
              "\n",
              "  .colab-df-spinner {\n",
              "    border: 2px solid var(--fill-color);\n",
              "    border-color: transparent;\n",
              "    border-bottom-color: var(--fill-color);\n",
              "    animation:\n",
              "      spin 1s steps(1) infinite;\n",
              "  }\n",
              "\n",
              "  @keyframes spin {\n",
              "    0% {\n",
              "      border-color: transparent;\n",
              "      border-bottom-color: var(--fill-color);\n",
              "      border-left-color: var(--fill-color);\n",
              "    }\n",
              "    20% {\n",
              "      border-color: transparent;\n",
              "      border-left-color: var(--fill-color);\n",
              "      border-top-color: var(--fill-color);\n",
              "    }\n",
              "    30% {\n",
              "      border-color: transparent;\n",
              "      border-left-color: var(--fill-color);\n",
              "      border-top-color: var(--fill-color);\n",
              "      border-right-color: var(--fill-color);\n",
              "    }\n",
              "    40% {\n",
              "      border-color: transparent;\n",
              "      border-right-color: var(--fill-color);\n",
              "      border-top-color: var(--fill-color);\n",
              "    }\n",
              "    60% {\n",
              "      border-color: transparent;\n",
              "      border-right-color: var(--fill-color);\n",
              "    }\n",
              "    80% {\n",
              "      border-color: transparent;\n",
              "      border-right-color: var(--fill-color);\n",
              "      border-bottom-color: var(--fill-color);\n",
              "    }\n",
              "    90% {\n",
              "      border-color: transparent;\n",
              "      border-bottom-color: var(--fill-color);\n",
              "    }\n",
              "  }\n",
              "</style>\n",
              "\n",
              "  <script>\n",
              "    async function quickchart(key) {\n",
              "      const quickchartButtonEl =\n",
              "        document.querySelector('#' + key + ' button');\n",
              "      quickchartButtonEl.disabled = true;  // To prevent multiple clicks.\n",
              "      quickchartButtonEl.classList.add('colab-df-spinner');\n",
              "      try {\n",
              "        const charts = await google.colab.kernel.invokeFunction(\n",
              "            'suggestCharts', [key], {});\n",
              "      } catch (error) {\n",
              "        console.error('Error during call to suggestCharts:', error);\n",
              "      }\n",
              "      quickchartButtonEl.classList.remove('colab-df-spinner');\n",
              "      quickchartButtonEl.classList.add('colab-df-quickchart-complete');\n",
              "    }\n",
              "    (() => {\n",
              "      let quickchartButtonEl =\n",
              "        document.querySelector('#df-5ef3124d-0aec-4682-bf51-88ebd5fff5e1 button');\n",
              "      quickchartButtonEl.style.display =\n",
              "        google.colab.kernel.accessAllowed ? 'block' : 'none';\n",
              "    })();\n",
              "  </script>\n",
              "</div>\n",
              "    </div>\n",
              "  </div>\n"
            ],
            "text/plain": [
              "   train_loss  val_loss\n",
              "0    1.930857  1.909099\n",
              "1    1.912644  1.918055\n",
              "2    1.887620  1.848024\n",
              "3    1.751529  1.722522\n",
              "4    1.717885  1.715074\n",
              "5    1.662122  1.664416\n",
              "6    1.657943  1.657352\n",
              "7    1.657977  1.675686\n",
              "8    1.649832  1.648165\n",
              "9    1.648726  1.692258"
            ]
          },
          "execution_count": 29,
          "metadata": {},
          "output_type": "execute_result"
        }
      ],
      "source": [
        "pytorch_fashion_loss_df"
      ]
    },
    {
      "cell_type": "code",
      "execution_count": 30,
      "metadata": {
        "colab": {
          "base_uri": "https://localhost:8080/",
          "height": 449
        },
        "id": "7Dq192Vv9pmZ",
        "outputId": "1f9aba61-43dd-437c-d465-4d92e6615911"
      },
      "outputs": [
        {
          "data": {
            "image/png": "[encoded data removed]",
            "text/plain": [
              "<Figure size 640x480 with 1 Axes>"
            ]
          },
          "metadata": {},
          "output_type": "display_data"
        }
      ],
      "source": [
        "plt.plot(pytorch_fashion_loss_df[\"train_loss\"], label = \"training loss\")\n",
        "plt.plot(pytorch_fashion_loss_df[\"val_loss\"], label = \"validation loss\")\n",
        "plt.xlabel(\"epoch\")\n",
        "plt.legend()\n",
        "plt.show()"
      ]
    },
    {
      "cell_type": "markdown",
      "metadata": {
        "id": "Wc-AbTerwfGR"
      },
      "source": [
        "### Prediksi"
      ]
    },
    {
      "cell_type": "code",
      "execution_count": 32,
      "metadata": {
        "id": "AcjAZgzF_dWn"
      },
      "outputs": [],
      "source": [
        "fashion_val_list = list(fashion_val_dataloader)"
      ]
    },
    {
      "cell_type": "code",
      "execution_count": 39,
      "metadata": {
        "id": "pHDlz51y_SV7"
      },
      "outputs": [],
      "source": [
        "tes_batch_gambar, tes_batch_label = fashion_val_list[123]"
      ]
    },
    {
      "cell_type": "code",
      "execution_count": 40,
      "metadata": {
        "colab": {
          "base_uri": "https://localhost:8080/"
        },
        "id": "SlFPgr6v_8s_",
        "outputId": "4736466f-492d-42fe-c7ff-37e51884f9e8"
      },
      "outputs": [
        {
          "name": "stdout",
          "output_type": "stream",
          "text": [
            "torch.Size([32, 1, 28, 28])\n"
          ]
        }
      ],
      "source": [
        "print(tes_batch_gambar.shape)"
      ]
    },
    {
      "cell_type": "code",
      "execution_count": 41,
      "metadata": {
        "colab": {
          "base_uri": "https://localhost:8080/"
        },
        "id": "u3szj_OS_naP",
        "outputId": "2731b6cd-045f-429f-9e6a-198edbf23697"
      },
      "outputs": [
        {
          "name": "stdout",
          "output_type": "stream",
          "text": [
            "torch.Size([32])\n"
          ]
        }
      ],
      "source": [
        "print(tes_batch_label.shape)"
      ]
    },
    {
      "cell_type": "code",
      "execution_count": 48,
      "metadata": {
        "id": "IIP9TPolAN0P"
      },
      "outputs": [],
      "source": [
        "tes_gambar = tes_batch_gambar[0, :, :, :].to(device)"
      ]
    },
    {
      "cell_type": "code",
      "execution_count": 43,
      "metadata": {
        "colab": {
          "base_uri": "https://localhost:8080/"
        },
        "id": "48ANcSDcAVkt",
        "outputId": "300e5647-6037-48b6-e470-e17dde8f5ecd"
      },
      "outputs": [
        {
          "name": "stdout",
          "output_type": "stream",
          "text": [
            "torch.Size([1, 28, 28])\n"
          ]
        }
      ],
      "source": [
        "print(tes_gambar.shape)"
      ]
    },
    {
      "cell_type": "code",
      "execution_count": 44,
      "metadata": {
        "id": "qylE52uwAX6w"
      },
      "outputs": [],
      "source": [
        "tes_label = tes_batch_label[0]"
      ]
    },
    {
      "cell_type": "code",
      "execution_count": 46,
      "metadata": {
        "colab": {
          "base_uri": "https://localhost:8080/"
        },
        "id": "_a8muJWxAb1f",
        "outputId": "9cb72b71-53c3-448d-9f9e-2201affc9db0"
      },
      "outputs": [
        {
          "name": "stdout",
          "output_type": "stream",
          "text": [
            "tensor(3)\n",
            "Dress\n"
          ]
        }
      ],
      "source": [
        "print(tes_label)\n",
        "print(nama_kelas[tes_label])"
      ]
    },
    {
      "cell_type": "code",
      "execution_count": 49,
      "metadata": {
        "id": "pCHrs9Gb-Oxc"
      },
      "outputs": [],
      "source": [
        "y_pred = fashion_model(tes_gambar)"
      ]
    },
    {
      "cell_type": "code",
      "execution_count": 51,
      "metadata": {
        "colab": {
          "base_uri": "https://localhost:8080/"
        },
        "id": "EfJGKQr-AysN",
        "outputId": "59c1dd6e-455a-4caa-986b-1b7a28663814"
      },
      "outputs": [
        {
          "name": "stdout",
          "output_type": "stream",
          "text": [
            "tensor([[4.4959e-07, 0.0000e+00, 0.0000e+00, 1.0000e+00, 0.0000e+00, 0.0000e+00,\n",
            "         0.0000e+00, 0.0000e+00, 0.0000e+00, 0.0000e+00]], device='cuda:0',\n",
            "       grad_fn=<SoftmaxBackward0>)\n"
          ]
        }
      ],
      "source": [
        "print(y_pred)"
      ]
    },
    {
      "cell_type": "code",
      "execution_count": 52,
      "metadata": {
        "colab": {
          "base_uri": "https://localhost:8080/"
        },
        "id": "kG6exVSkA3yw",
        "outputId": "46b2bcfa-d1e5-4266-ab21-64f276ae8ba7"
      },
      "outputs": [
        {
          "name": "stdout",
          "output_type": "stream",
          "text": [
            "3\n"
          ]
        }
      ],
      "source": [
        "print(torch.argmax(y_pred).item())"
      ]
    },
    {
      "cell_type": "code",
      "execution_count": 58,
      "metadata": {
        "colab": {
          "base_uri": "https://localhost:8080/",
          "height": 449
        },
        "id": "pYBWBjIWA_dw",
        "outputId": "98589a8a-b2f5-441a-9751-9f47049d12e3"
      },
      "outputs": [
        {
          "data": {
            "image/png": "[encoded data removed]",
            "text/plain": [
              "<Figure size 640x480 with 1 Axes>"
            ]
          },
          "metadata": {},
          "output_type": "display_data"
        }
      ],
      "source": [
        "#@title Slider to look for some prediction examples {run: \"auto\"}\n",
        "batch_idx = 123 #@param {type:\"slider\", min:0, max:9999, step:1}\n",
        "pic_idx = 0 #@param {type:\"slider\", min:0, max:31, step:1}\n",
        "\n",
        "batch_gambar, batch_label = fashion_val_list[batch_idx]\n",
        "\n",
        "satu_gambar = batch_gambar[pic_idx].to(device)\n",
        "label_true_idx = batch_label[pic_idx].item()\n",
        "label_pred_idx = torch.argmax(fashion_model(satu_gambar)).item()\n",
        "\n",
        "plt.imshow(satu_gambar.cpu().squeeze(), cmap='gray')\n",
        "plt.title(\n",
        "    f\"Predicted class: {nama_kelas[label_pred_idx]}\\n\" +\n",
        "    f\"True class: {nama_kelas[label_true_idx]}\"\n",
        ")\n",
        "plt.axis('OFF')\n",
        "plt.show()"
      ]
    },
    {
      "cell_type": "markdown",
      "metadata": {
        "id": "BLWOogzOwfGl"
      },
      "source": [
        "### Menyimpan parameter model"
      ]
    },
    {
      "cell_type": "code",
      "execution_count": 26,
      "metadata": {
        "id": "8C2OKH3d9Fvo"
      },
      "outputs": [],
      "source": [
        "torch.save(fashion_model.state_dict(), \"./fashion_model_state.pth\")"
      ]
    },
    {
      "cell_type": "markdown",
      "metadata": {
        "id": "1J2w7EV4wfGl"
      },
      "source": [
        "## Referensi"
      ]
    },
    {
      "cell_type": "markdown",
      "metadata": {
        "id": "C9uqEJZYwfGl"
      },
      "source": [
        "Internet\n",
        "\n",
        "- <https://paperswithcode.com/trends>\n",
        "\n",
        "- <https://pytorch.org/docs/stable/index.html>"
      ]
    },
    {
      "cell_type": "markdown",
      "metadata": {
        "id": "tPZZRaLfwfGl"
      },
      "source": [
        "Sumber belajar PyTorch, *deep learning*, atau semacamnya, untuk belajar lebih lanjut\n",
        "\n",
        "- <https://www.learnpytorch.io/>\n",
        "\n",
        "- Buku *Dive into Deep Learning* (biasa disebut D2L), utamanya menggunakan PyTorch: <https://d2l.ai/>\n",
        "\n",
        "- Situs bernama *\"weights and biases\"* (wandb) menyediakan layanan pemantauan proses *training*: <https://wandb.ai/site>"
      ]
    },
    {
      "cell_type": "markdown",
      "metadata": {
        "id": "Njth2pwLwfGm"
      },
      "source": []
    }
  ],
  "metadata": {
    "accelerator": "GPU",
    "colab": {
      "gpuType": "T4",
      "provenance": [],
      "toc_visible": true
    },
    "kernelspec": {
      "display_name": "Python 3",
      "name": "python3"
    },
    "language_info": {
      "codemirror_mode": {
        "name": "ipython",
        "version": 3
      },
      "file_extension": ".py",
      "mimetype": "text/x-python",
      "name": "python",
      "nbconvert_exporter": "python",
      "pygments_lexer": "ipython3",
      "version": "3.10.11"
    }
  },
  "nbformat": 4,
  "nbformat_minor": 0
}
