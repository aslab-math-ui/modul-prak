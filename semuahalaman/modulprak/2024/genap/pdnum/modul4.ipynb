{
 "cells": [
  {
   "cell_type": "markdown",
   "metadata": {},
   "source": [
    "# Modul 4 Persamaan Diferensial Numerik: Metode Multistep"
   ]
  },
  {
   "cell_type": "markdown",
   "metadata": {},
   "source": [
    "Kembali ke [Persamaan Diferensial Numerik](./pdnum2024genap.qmd)"
   ]
  },
  {
   "cell_type": "markdown",
   "metadata": {},
   "source": [
    "Metode-metode sebelumnya, seperi metode Euler, Runge-Kutta, dan kawan-kawannya adalah metode jenis one-step, karena di tiap iterasinya kita hanya menggunakan informasi dari satu nilai $t_{i}$. Berikut kita akan mulai membahas mengenai metode multistep, di mana kita menggunakan lebih dari satu nilai $t_{i}$ untuk membuat aproksimasi.\n",
    "\n",
    "Terdapat dua jenis metode multistep, yaitu:\n",
    "\n",
    "- Multistep eksplisit, di mana kita mengaproksimasi nilai pada $t_{i+1}$ menggunakan nilai $t$ sebelumnya.\n",
    "\n",
    "- Multistep implisit, di mana kita mengaproksimasi nilai pada $t_{i+1}$ menggunakan nilai pada $t$ sebelumnya, sekaligus menggunakan nilai pada $t_{i+1}$ itu sendiri."
   ]
  },
  {
   "cell_type": "markdown",
   "metadata": {},
   "source": [
    "## Metode Multistep Eksplisit: Metode $n$-step Adams-Bashforth"
   ]
  },
  {
   "cell_type": "markdown",
   "metadata": {},
   "source": [
    "Metode multistep eksplisit yang akan kita bahas adalah **metode $n$-step Adams-Bashforth.**\n",
    "\n",
    "Metode $n$-step Adams-Bashforth menggunakan $n$ titik sebelumnya untuk mengaproksimasi nilai. Karena metode ini adalah metode multistep, maka $n$ nilai awalnya pun harus diperoleh terlebih dahulu. Misal kita ingin menggunakan metode three-step Adams-Bashforth, maka $w_{1}, w_{2}$, dan $w_{3}$ harus ada terlebih dahulu sebelum dilanjutkan ke metode Adams-Bashforth. Nilai-nilai awal tersebut dapat diperoleh dari metode-metode one-step sebelumnya, seperti metode Runge-Kutta (biasanya digunakan metode Runge-Kutta orde 4)."
   ]
  },
  {
   "cell_type": "markdown",
   "metadata": {},
   "source": [
    "Bentuk umum rumus untuk metode $n$-step Adams-Bashforth bisa ditulis sebagai berikut."
   ]
  },
  {
   "cell_type": "markdown",
   "metadata": {},
   "source": [
    "$$w_{i+1} = w_i + \\frac{h}{\\text{pembagi}} \\left[ c_0 f\\left(t_i,w_i\\right) + c_{-1} f\\left(t_{i-1},w_{i-1}\\right) + \\dots + c_{-n+1} f\\left(t_{i-n+1},w_{i-n+1}\\right) \\right]$$"
   ]
  },
  {
   "cell_type": "markdown",
   "metadata": {},
   "source": [
    "\\begin{array}{cc|ccccc}\n",
    "    \\text{pembagi} & c_1 & c_0 & c_{-1} & c_{-2} & c_{-3} & c_{-4} \\\\\n",
    "    1 & \\hspace{0.5cm} & 1 &&&& \\\\\n",
    "    2 & \\hspace{0.5cm} & 3 & -1 &&& \\\\\n",
    "    12 & \\hspace{0.5cm} & 23 & -16 & 5 && \\\\\n",
    "    24 & \\hspace{0.5cm} & 55 & -59 & 37 & -9 & \\\\\n",
    "    720 & \\hspace{0.5cm} & 1901 & -2774 & 2616 & -1274 & 251\n",
    "\\end{array}"
   ]
  },
  {
   "cell_type": "markdown",
   "metadata": {},
   "source": [
    "* Orde: banyaknya koefisien taknol yang mengkali $f$\n",
    "* $n$-step, $n$: banyaknya koefisien taknol yang mengkali $f$, kecuali koefisien yang mengkali $f\\left(t_{i+1},w_{i+1}\\right)$ kalau ada"
   ]
  },
  {
   "cell_type": "markdown",
   "metadata": {},
   "source": [
    "Untuk metode Adams-Bashforth, tidak muncul suku $f\\left(t_{i+1},w_{i+1}\\right)$, yaitu tidak ada koefisien yang mengkali $f\\left(t_{i+1},w_{i+1}\\right)$ (atau bisa dibilang ada tapi nilainya nol). Sehingga, ukuran orde menjadi sama persis dengan step. "
   ]
  },
  {
   "cell_type": "markdown",
   "metadata": {},
   "source": [
    "Catatan: one-step Adams-Bashforth ialah metode Euler, sehingga tidak dibahas."
   ]
  },
  {
   "cell_type": "markdown",
   "metadata": {},
   "source": [
    "### Two-step Adams-Bashforth (orde 2)"
   ]
  },
  {
   "cell_type": "markdown",
   "metadata": {},
   "source": [
    "\\begin{array}{cc|ccccc}\n",
    "    \\text{pembagi} & c_1 & c_0 & c_{-1} & c_{-2} & c_{-3} & c_{-4} \\\\\n",
    "    1 & \\hspace{0.5cm} & 1 &&&& \\\\\n",
    "    \\textcolor{red}{2} & \\hspace{0.5cm} & \\textcolor{red}{3} & \\textcolor{red}{-1} &&& \\\\\n",
    "    12 & \\hspace{0.5cm} & 23 & -16 & 5 && \\\\\n",
    "    24 & \\hspace{0.5cm} & 55 & -59 & 37 & -9 & \\\\\n",
    "    720 & \\hspace{0.5cm} & 1901 & -2774 & 2616 & -1274 & 251\n",
    "\\end{array}"
   ]
  },
  {
   "cell_type": "markdown",
   "metadata": {},
   "source": [
    "$$\n",
    "\\begin{gathered}\n",
    "w_{0}=\\alpha, \\quad w_{1}=\\alpha_{1}, \\\\\n",
    "w_{i+1}=w_{i}+\\frac{h}{2}\\left[3 f\\left(t_{i}, w_{i}\\right)-f\\left(t_{i-1}, w_{i-1}\\right)\\right]\n",
    "\\end{gathered}\n",
    "$$"
   ]
  },
  {
   "cell_type": "markdown",
   "metadata": {},
   "source": [
    "Bisa ditulis:\n",
    "\n",
    "$$\n",
    "\\begin{gathered}\n",
    "w_{1}=\\alpha, \\\\\n",
    "w_{2}=\\alpha_1 \\hspace{0.2cm} \\text{(hitung dengan metode Runge-Kutta orde 4)}, \\\\\n",
    "m_1 = f\\left(t_{i}, w_{i}\\right) \\\\\n",
    "m_2 = f\\left(t_{i-1}, w_{i-1}\\right) \\\\\n",
    "w_{i+1}=w_{i}+\\frac{h}{2}\\left[3 m_1-m_2\\right]\n",
    "\\end{gathered}\n",
    "$$"
   ]
  },
  {
   "cell_type": "raw",
   "metadata": {},
   "source": [
    "::: {.panel-tabset}\n",
    "\n",
    "### *Function file* `adams_bashforth_orde2.m` - nama *file* harus sama dengan nama fungsi"
   ]
  },
  {
   "cell_type": "code",
   "execution_count": 1,
   "metadata": {},
   "outputs": [],
   "source": [
    "function [t, w] = adams_bashforth_orde2(f, a, b, N, alpha)\n",
    "  % Inisiasi variabel awal\n",
    "  h = (b - a) / N;\n",
    "  t = zeros(N + 1, 1);\n",
    "  w = zeros(N + 1, 1);\n",
    "  t(1) = a;\n",
    "  w(1) = alpha;\n",
    "  \n",
    "  % Hitung w(2) menggunakan metode Runge-Kutta orde 4\n",
    "  i = 1;\n",
    "  t(i + 1) = t(i) + h;\n",
    "  k1 = h * f(t(i), w(i));\n",
    "  k2 = h * f(t(i) + (h/2), w(i) + (k1/2));\n",
    "  k3 = h * f(t(i) + (h/2), w(i) + (k2/2));\n",
    "  k4 = h * f(t(i + 1), w(i) + k3);\n",
    "  w(i+1) = w(i) + (k1 + 2*k2 + 2*k3 + k4) / 6;\n",
    "  \n",
    "  % Algoritma utama Adams-Bashforth orde 2\n",
    "  for i = 2 : N\n",
    "    t(i + 1) = t(i) + h;\n",
    "    m1 = f(t(i), w(i));\n",
    "    m2 = f(t(i-1), w(i-1));\n",
    "    w(i+1) = w(i) + (h/2) * (3*m1 - m2);\n",
    "  endfor\n",
    "endfunction"
   ]
  },
  {
   "cell_type": "raw",
   "metadata": {},
   "source": [
    ":::"
   ]
  },
  {
   "cell_type": "markdown",
   "metadata": {},
   "source": [
    "Misalkan diberikan MNA sebagai berikut, yang ingin diselesaikan secara numerik dengan $N = 10$:\n",
    "\n",
    "$$y' = y - t^2 + 1$$\n",
    "$$0 \\le t \\le 2$$\n",
    "$$y(0) = 0.5$$\n",
    "\n",
    "yang kebetulan memiliki solusi eksak:\n",
    "\n",
    "$$y\\left(t\\right) = \\left( t + 1 \\right)^2 - 0.5 e^t$$"
   ]
  },
  {
   "cell_type": "markdown",
   "metadata": {},
   "source": [
    "Contoh penggunaan:"
   ]
  },
  {
   "cell_type": "raw",
   "metadata": {},
   "source": [
    "::: {.panel-tabset}\n",
    "\n",
    "### *Script file* `coba_ab2.m` - nama *file* bebas"
   ]
  },
  {
   "cell_type": "code",
   "execution_count": 2,
   "metadata": {},
   "outputs": [
    {
     "name": "stdout",
     "output_type": "stream",
     "text": [
      "Tabel aproksimasi w, solusi eksak y, dan error:\n",
      "ans =\n",
      "\n",
      "        0   0.5000   0.5000        0\n",
      "   0.2000   0.8293   0.8293   0.0000\n",
      "   0.4000   1.2161   1.2141   0.0020\n",
      "   0.6000   1.6540   1.6489   0.0050\n",
      "   0.8000   2.1366   2.1272   0.0093\n",
      "   1.0000   2.6561   2.6409   0.0153\n",
      "   1.2000   3.2033   3.1799   0.0234\n",
      "   1.4000   3.7667   3.7324   0.0343\n",
      "   1.6000   4.3324   4.2835   0.0489\n",
      "   1.8000   4.8834   4.8152   0.0682\n",
      "   2.0000   5.3992   5.3055   0.0937\n",
      "\n",
      "Error total (norm L1):\n",
      "0.3002\n"
     ]
    },
    {
     "data": {
      "image/png": "[encoded data removed]",
      "text/plain": [
       "<IPython.core.display.Image object>"
      ]
     },
     "metadata": {},
     "output_type": "display_data"
    }
   ],
   "source": [
    "f = @(t, y) y - t .^ 2 + 1;\n",
    "a = 0;\n",
    "b = 2;\n",
    "N = 10;\n",
    "alpha = 0.5;\n",
    "\n",
    "[t, w] = adams_bashforth_orde2(f, a, b, N, alpha);\n",
    "\n",
    "sln = @(t) (t + 1) .^ 2 - 0.5 * exp(t);\n",
    "y_eksak = sln(t);\n",
    "\n",
    "err_ab2 = abs(y_eksak - w);\n",
    "err_ab2_total = sum(err_ab2); % norm L1 (taxicab/Manhattan)\n",
    "\n",
    "disp(\"Tabel aproksimasi w, solusi eksak y, dan error:\");\n",
    "[t, w, y_eksak, err_ab2]\n",
    "disp(\"Error total (norm L1):\");\n",
    "disp(err_ab2_total);\n",
    "\n",
    "hold on;\n",
    "fplot(sln, [a, b], 'b');\n",
    "scatter(t, w, 'r');\n",
    "legend(\"Solusi Eksak\", \"Adams-Bashforth orde 2\")"
   ]
  },
  {
   "cell_type": "raw",
   "metadata": {},
   "source": [
    ":::"
   ]
  },
  {
   "cell_type": "markdown",
   "metadata": {},
   "source": [
    "### Three-step Adams-Bashforth (orde 3)"
   ]
  },
  {
   "cell_type": "markdown",
   "metadata": {},
   "source": [
    "\\begin{array}{cc|ccccc}\n",
    "    \\text{pembagi} & c_1 & c_0 & c_{-1} & c_{-2} & c_{-3} & c_{-4} \\\\\n",
    "    1 & \\hspace{0.5cm} & 1 &&&& \\\\\n",
    "    2 & \\hspace{0.5cm} & 3 & -1 &&& \\\\\n",
    "    \\textcolor{red}{12} & \\hspace{0.5cm} & \\textcolor{red}{23} & \\textcolor{red}{-16} & \\textcolor{red}{5} && \\\\\n",
    "    24 & \\hspace{0.5cm} & 55 & -59 & 37 & -9 & \\\\\n",
    "    720 & \\hspace{0.5cm} & 1901 & -2774 & 2616 & -1274 & 251\n",
    "\\end{array}"
   ]
  },
  {
   "cell_type": "markdown",
   "metadata": {},
   "source": [
    "$$\n",
    "\\begin{gathered}\n",
    "w_{0}=\\alpha, \\quad w_{1}=\\alpha_{1}, \\quad w_{2}=\\alpha_{2}, \\\\\n",
    "w_{i+1}=w_{i}+\\frac{h}{12}\\left[23 f\\left(t_{i}, w_{i}\\right)-16 f\\left(t_{i-1}, w_{i-1}\\right)+5 f\\left(t_{i-2}, w_{i-2}\\right)\\right]\n",
    "\\end{gathered}\n",
    "$$"
   ]
  },
  {
   "cell_type": "markdown",
   "metadata": {},
   "source": [
    "Bisa ditulis:\n",
    "\n",
    "$$\n",
    "\\begin{gathered}\n",
    "w_{1}=\\alpha, \\\\\n",
    "w_{2}=\\alpha_{1}, \\quad w_{3}=\\alpha_{2}, \\\\\n",
    "m_1 = f\\left(t_{i}, w_{i}\\right) \\\\\n",
    "m_2 = f\\left(t_{i-1}, w_{i-1}\\right) \\\\\n",
    "m_3 = f\\left(t_{i-2}, w_{i-2}\\right) \\\\\n",
    "w_{i+1}=w_{i}+\\frac{h}{12}\\left[23 m_1-16 m_2+5 m_3\\right]\n",
    "\\end{gathered}\n",
    "$$"
   ]
  },
  {
   "cell_type": "raw",
   "metadata": {},
   "source": [
    "::: {.panel-tabset}\n",
    "\n",
    "### *Function file* `adams_bashforth_orde3.m` - nama *file* harus sama dengan nama fungsi"
   ]
  },
  {
   "cell_type": "code",
   "execution_count": 8,
   "metadata": {},
   "outputs": [],
   "source": [
    "function [t, w] = adams_bashforth_orde3(f, a, b, N, alpha)\n",
    "  % Inisiasi variabel awal\n",
    "  h = (b - a) / N;\n",
    "  t = zeros(N + 1, 1);\n",
    "  w = zeros(N + 1, 1);\n",
    "  t(1) = a;\n",
    "  w(1) = alpha;\n",
    "  \n",
    "  % Hitung w(2), w(3) menggunakan metode Runge-Kutta orde 4\n",
    "  for i = 1 : 2\n",
    "      t(i + 1) = t(i) + h;\n",
    "      k1 = h * f(t(i), w(i));\n",
    "      k2 = h * f(t(i) + (h/2), w(i) + (k1/2));\n",
    "      k3 = h * f(t(i) + (h/2), w(i) + (k2/2));\n",
    "      k4 = h * f(t(i + 1), w(i) + k3);\n",
    "      w(i+1) = w(i) + (k1 + 2*k2 + 2*k3 + k4) / 6;\n",
    "  endfor\n",
    "  \n",
    "  % Algoritma utama Adams-Bashforth orde 3\n",
    "  for i = 3 : N\n",
    "    t(i + 1) = t(i) + h;\n",
    "    m1 = f(t(i), w(i));\n",
    "    m2 = f(t(i-1), w(i-1));\n",
    "    m3 = f(t(i-2), w(i-2));\n",
    "    w(i+1) = w(i) + (h/12) * (23*m1 - 16*m2 + 5*m3);\n",
    "  endfor\n",
    "endfunction"
   ]
  },
  {
   "cell_type": "raw",
   "metadata": {},
   "source": [
    ":::"
   ]
  },
  {
   "cell_type": "markdown",
   "metadata": {},
   "source": [
    "### Four-step Adams-Bashforth (orde 4)"
   ]
  },
  {
   "cell_type": "markdown",
   "metadata": {},
   "source": [
    "\\begin{array}{cc|ccccc}\n",
    "    \\text{pembagi} & c_1 & c_0 & c_{-1} & c_{-2} & c_{-3} & c_{-4} \\\\\n",
    "    1 & \\hspace{0.5cm} & 1 &&&& \\\\\n",
    "    2 & \\hspace{0.5cm} & 3 & -1 &&& \\\\\n",
    "    12 & \\hspace{0.5cm} & 23 & -16 & 5 && \\\\\n",
    "    \\textcolor{red}{24} & \\hspace{0.5cm} & \\textcolor{red}{55} & \\textcolor{red}{-59} & \\textcolor{red}{37} & \\textcolor{red}{-9} & \\\\\n",
    "    720 & \\hspace{0.5cm} & 1901 & -2774 & 2616 & -1274 & 251\n",
    "\\end{array}"
   ]
  },
  {
   "cell_type": "markdown",
   "metadata": {},
   "source": [
    "$$\n",
    "\\begin{gathered}\n",
    "w_{0}=\\alpha, \\quad w_{1}=\\alpha_{1}, \\quad w_{2}=\\alpha_{2}, \\quad w_{3}=\\alpha_{3} \\\\\n",
    "w_{i+1}=w_{i}+\\frac{h}{24}\\left[55 f\\left(t_{i}, w_{i}\\right)-59 f\\left(t_{i-1}, w_{i-1}\\right)+37 f\\left(t_{i-2}, w_{i-2}\\right)-9 f\\left(t_{i-3}, w_{i-3}\\right)\\right]\n",
    "\\end{gathered}\n",
    "$$"
   ]
  },
  {
   "cell_type": "markdown",
   "metadata": {},
   "source": [
    "Bisa ditulis:\n",
    "\n",
    "$$\n",
    "\\begin{gathered}\n",
    "w_{1}=\\alpha, \\\\\n",
    "w_{2}=\\alpha_{1}, \\quad w_{3}=\\alpha_{2}, \\quad w_{4}=\\alpha_{3} \\\\\n",
    "m_1 = f\\left(t_{i}, w_{i}\\right) \\\\\n",
    "m_2 = f\\left(t_{i-1}, w_{i-1}\\right) \\\\\n",
    "m_3 = f\\left(t_{i-2}, w_{i-2}\\right) \\\\\n",
    "m_4 = f\\left(t_{i-3}, w_{i-3}\\right) \\\\\n",
    "w_{i+1}=w_{i}+\\frac{h}{24}\\left[55 m_1-59 m_2+37 m_3-9 m_4\\right]\n",
    "\\end{gathered}\n",
    "$$"
   ]
  },
  {
   "cell_type": "raw",
   "metadata": {},
   "source": [
    "::: {.panel-tabset}\n",
    "\n",
    "### *Function file* `adams_bashforth_orde4.m` - nama *file* harus sama dengan nama fungsi"
   ]
  },
  {
   "cell_type": "code",
   "execution_count": 9,
   "metadata": {},
   "outputs": [],
   "source": [
    "function [t, w] = adams_bashforth_orde4(f, a, b, N, alpha)\n",
    "  % Inisiasi variabel awal\n",
    "  h = (b - a) / N;\n",
    "  t = zeros(N + 1, 1);\n",
    "  w = zeros(N + 1, 1);\n",
    "  t(1) = a;\n",
    "  w(1) = alpha;\n",
    "  \n",
    "  % Hitung w(2), w(3), w(4) menggunakan metode Runge-Kutta orde 4\n",
    "  for i = 1 : 3\n",
    "      t(i + 1) = t(i) + h;\n",
    "      k1 = h * f(t(i), w(i));\n",
    "      k2 = h * f(t(i) + (h/2), w(i) + (k1/2));\n",
    "      k3 = h * f(t(i) + (h/2), w(i) + (k2/2));\n",
    "      k4 = h * f(t(i + 1), w(i) + k3);\n",
    "      w(i+1) = w(i) + (k1 + 2*k2 + 2*k3 + k4) / 6;\n",
    "  endfor\n",
    "  \n",
    "  % Algoritma utama Adams-Bashforth orde 4\n",
    "  for i = 4 : N\n",
    "    t(i + 1) = t(i) + h;\n",
    "    m1 = f(t(i), w(i));\n",
    "    m2 = f(t(i-1), w(i-1));\n",
    "    m3 = f(t(i-2), w(i-2));\n",
    "    m4 = f(t(i-3), w(i-3));\n",
    "    w(i+1) = w(i) + (h/24) * (55*m1 - 59*m2 + 37*m3 - 9*m4);\n",
    "  endfor\n",
    "endfunction"
   ]
  },
  {
   "cell_type": "raw",
   "metadata": {},
   "source": [
    ":::"
   ]
  },
  {
   "cell_type": "markdown",
   "metadata": {},
   "source": [
    "### Five-step Adams-Bashforth (orde 5)"
   ]
  },
  {
   "cell_type": "markdown",
   "metadata": {},
   "source": [
    "\\begin{array}{cc|ccccc}\n",
    "    \\text{pembagi} & c_1 & c_0 & c_{-1} & c_{-2} & c_{-3} & c_{-4} \\\\\n",
    "    1 & \\hspace{0.5cm} & 1 &&&& \\\\\n",
    "    2 & \\hspace{0.5cm} & 3 & -1 &&& \\\\\n",
    "    12 & \\hspace{0.5cm} & 23 & -16 & 5 && \\\\\n",
    "    24 & \\hspace{0.5cm} & 55 & -59 & 37 & -9 & \\\\\n",
    "    \\textcolor{red}{720} & \\hspace{0.5cm} & \\textcolor{red}{1901} & \\textcolor{red}{-2774} & \\textcolor{red}{2616} & \\textcolor{red}{-1274} & \\textcolor{red}{251}\n",
    "\\end{array}"
   ]
  },
  {
   "cell_type": "markdown",
   "metadata": {},
   "source": [
    "$$\n",
    "\\begin{gathered}\n",
    "w_{0}=\\alpha, \\quad w_{1}=\\alpha_{1}, \\quad w_{2}=\\alpha_{2}, \\quad w_{3}=\\alpha_{3}, \\quad w_{4}=\\alpha_{4}, \\\\\n",
    "w_{i+1}=w_{i}+\\frac{h}{720}\\left[1901 f\\left(t_{i}, w_{i}\\right)-2774 f\\left(t_{i-1}, w_{i-1}\\right)+2616 f\\left(t_{i-2}, w_{i-2}\\right)\\right. \\\\\n",
    "\\left.-1274 f\\left(t_{i-3}, w_{i-3}\\right)+251 f\\left(t_{i-4}, w_{i-4}\\right)\\right]\n",
    "\\end{gathered}\n",
    "$$"
   ]
  },
  {
   "cell_type": "markdown",
   "metadata": {},
   "source": [
    "Bisa ditulis:\n",
    "\n",
    "$$\n",
    "\\begin{gathered}\n",
    "w_{1}=\\alpha, \\\\\n",
    "w_{2}=\\alpha_{1}, \\quad w_{3}=\\alpha_{2}, \\quad w_{4}=\\alpha_{3}, \\quad w_{5}=\\alpha_{4}, \\\\\n",
    "m_1 = f\\left(t_{i}, w_{i}\\right) \\\\\n",
    "m_2 = f\\left(t_{i-1}, w_{i-1}\\right) \\\\\n",
    "m_3 = f\\left(t_{i-2}, w_{i-2}\\right) \\\\\n",
    "m_4 = f\\left(t_{i-3}, w_{i-3}\\right) \\\\\n",
    "m_5 = f\\left(t_{i-4}, w_{i-4}\\right) \\\\\n",
    "w_{i+1}=w_{i}+\\frac{h}{720}\\left[1901 m_1-2774 m_2+2616 m_3\\right. \\\\\n",
    "\\left.-1274 m_4+251 m_5\\right]\n",
    "\\end{gathered}\n",
    "$$"
   ]
  },
  {
   "cell_type": "raw",
   "metadata": {},
   "source": [
    "::: {.panel-tabset}\n",
    "\n",
    "### *Function file* `adams_bashforth_orde5.m` - nama *file* harus sama dengan nama fungsi"
   ]
  },
  {
   "cell_type": "code",
   "execution_count": 10,
   "metadata": {},
   "outputs": [],
   "source": [
    "function [t, w] = adams_bashforth_orde5(f, a, b, N, alpha)\n",
    "  % Inisiasi variabel awal\n",
    "  h = (b - a) / N;\n",
    "  t = zeros(N + 1, 1);\n",
    "  w = zeros(N + 1, 1);\n",
    "  t(1) = a;\n",
    "  w(1) = alpha;\n",
    "  \n",
    "  % Hitung w(2), ..., w(5) menggunakan metode Runge-Kutta orde 4\n",
    "  for i = 1 : 4\n",
    "      t(i + 1) = t(i) + h;\n",
    "      k1 = h * f(t(i), w(i));\n",
    "      k2 = h * f(t(i) + (h/2), w(i) + (k1/2));\n",
    "      k3 = h * f(t(i) + (h/2), w(i) + (k2/2));\n",
    "      k4 = h * f(t(i + 1), w(i) + k3);\n",
    "      w(i+1) = w(i) + (k1 + 2*k2 + 2*k3 + k4) / 6;\n",
    "  endfor\n",
    "  \n",
    "  % Algoritma utama Adams-Bashforth orde 5\n",
    "  for i = 5 : N\n",
    "    t(i + 1) = t(i) + h;\n",
    "    m1 = f(t(i), w(i));\n",
    "    m2 = f(t(i-1), w(i-1));\n",
    "    m3 = f(t(i-2), w(i-2));\n",
    "    m4 = f(t(i-3), w(i-3));\n",
    "    m5 = f(t(i-4), w(i-4));\n",
    "    w(i+1) = w(i) + (h/720) * (1901*m1 - 2774*m2 + 2616*m3 -1274*m4 +251*m5);\n",
    "  endfor\n",
    "endfunction"
   ]
  },
  {
   "cell_type": "raw",
   "metadata": {},
   "source": [
    ":::"
   ]
  },
  {
   "cell_type": "markdown",
   "metadata": {},
   "source": [
    "## Perbandingan Metode Adams-Bashforth"
   ]
  },
  {
   "cell_type": "markdown",
   "metadata": {},
   "source": [
    "Misalkan diberikan MNA sebagai berikut, yang ingin diselesaikan secara numerik dengan $N = 10$:\n",
    "\n",
    "$$y' = y - t^2 + 1$$\n",
    "$$0 \\le t \\le 2$$\n",
    "$$y(0) = 0.5$$\n",
    "\n",
    "yang kebetulan memiliki solusi eksak:\n",
    "\n",
    "$$y\\left(t\\right) = \\left( t + 1 \\right)^2 - 0.5 e^t$$"
   ]
  },
  {
   "cell_type": "markdown",
   "metadata": {},
   "source": [
    "Kita bisa membandingkan orde-orde metode Adams-Bashforth dengan menyelesaikan MNA tersebut."
   ]
  },
  {
   "cell_type": "raw",
   "metadata": {},
   "source": [
    "::: {.panel-tabset}\n",
    "\n",
    "### *Script file* `bandingkan_ab.m` - nama *file* bebas"
   ]
  },
  {
   "cell_type": "code",
   "execution_count": 12,
   "metadata": {},
   "outputs": [
    {
     "name": "stdout",
     "output_type": "stream",
     "text": [
      "ans =\n",
      "\n",
      "        0   0.5000   0.5000   0.5000   0.5000   0.5000\n",
      "   0.2000   0.8293   0.8293   0.8293   0.8293   0.8293\n",
      "   0.4000   1.2141   1.2161   1.2141   1.2141   1.2141\n",
      "   0.6000   1.6489   1.6540   1.6493   1.6489   1.6489\n",
      "   0.8000   2.1272   2.1366   2.1283   2.1273   2.1272\n",
      "   1.0000   2.6409   2.6561   2.6428   2.6411   2.6408\n",
      "   1.2000   3.1799   3.2033   3.1831   3.1803   3.1799\n",
      "   1.4000   3.7324   3.7667   3.7372   3.7330   3.7324\n",
      "   1.6000   4.2835   4.3324   4.2905   4.2844   4.2836\n",
      "   1.8000   4.8152   4.8834   4.8253   4.8166   4.8153\n",
      "   2.0000   5.3055   5.3992   5.3196   5.3075   5.3057\n",
      "\n"
     ]
    },
    {
     "data": {
      "image/png": "[encoded data removed]",
      "text/plain": [
       "<IPython.core.display.Image object>"
      ]
     },
     "metadata": {},
     "output_type": "display_data"
    }
   ],
   "source": [
    "f = @(t, y) y - t .^ 2 + 1;\n",
    "a = 0;\n",
    "b = 2;\n",
    "alpha = 0.5;\n",
    "N = 10;\n",
    "\n",
    "[t_orde2, w_orde2] = adams_bashforth_orde2(f, a, b, N, alpha);\n",
    "[t_orde3, w_orde3] = adams_bashforth_orde3(f, a, b, N, alpha);\n",
    "[t_orde4, w_orde4] = adams_bashforth_orde4(f, a, b, N, alpha);\n",
    "[t_orde5, w_orde5] = adams_bashforth_orde5(f, a, b, N, alpha);\n",
    "\n",
    "sln = @(t) (t + 1) .^ 2 - 0.5 * exp(t);\n",
    "y_eksak = sln(t);\n",
    "\n",
    "[t, y_eksak, w_orde2, w_orde3, w_orde4, w_orde5]\n",
    "\n",
    "hold on;\n",
    "fplot(sln, [a, b], 'b');\n",
    "scatter(t_orde2, w_orde2, 'r');\n",
    "scatter(t_orde3, w_orde3, 'g');\n",
    "scatter(t_orde4, w_orde4, 'm');\n",
    "scatter(t_orde5, w_orde5, 'c');\n",
    "legend(\"Eksak\", \"orde 2\", \"orde 3\", \"orde 4\", \"orde 5\")\n",
    "legend('location', 'northwest') % agar kotak keterangan di atas kiri"
   ]
  },
  {
   "cell_type": "raw",
   "metadata": {},
   "source": [
    ":::"
   ]
  },
  {
   "cell_type": "markdown",
   "metadata": {},
   "source": [
    "## (penjelasan tanpa kode) Metode Multistep Implisit: Metode Adams-Moulton"
   ]
  },
  {
   "cell_type": "markdown",
   "metadata": {},
   "source": [
    "Metode implisit lebih sulit digunakan daripada metode eksplisit. Metode implisit dengan sendirinya tidak bisa langsung digunakan, sehingga tidak bisa langsung dimasukkan ke dalam program.\n",
    "\n",
    "Biasanya, apabila suatu MNA PDB orde 1 (dengan fungsi $f\\left(t,y\\right)$ yang diketahui) ingin diselesaikan denegan metode implisit, maka rumus metode implisit harus dimanipulasi aljabar terlebih dahulu, hingga diperoleh bentuk $w_{i+1} = \\dots$ **tanpa ada suku $w_{i+1}$ sama sekali di ruas kanan.**\n",
    "\n",
    "Hasil manipulasi aljabar bisa berbeda-beda untuk fungsi $f\\left(t,y\\right)$ yang berbeda. Sehingga, apabila metode Adams-Moulton ingin dibuat programnya, maka kode programnya akan sedikit berbeda (yaitu berbeda di hasil manipulasi aljabar) untuk tiap MNA, dan hasil manipulasi aljabar harus dibuat kodenya secara manual untuk tiap MNA."
   ]
  },
  {
   "cell_type": "markdown",
   "metadata": {},
   "source": [
    "Oleh karena itu, metode Adams-Moulton itu sendiri sangat tidak praktis apabila ingin dibuat programnya."
   ]
  },
  {
   "cell_type": "markdown",
   "metadata": {},
   "source": [
    "Namun, ada metode Adams yang tetap memanfaatkan metode Adams-Moulton tetapi cenderung lebih baik daripada metode Adams-Bashforth, yaitu metode predictor-corrector yang akan dibahas selanjutnya. Karena itulah, metode Adams-Moulton masih dipaparkan di sini."
   ]
  },
  {
   "cell_type": "markdown",
   "metadata": {},
   "source": [
    "Bentuk umum rumus untuk metode $n$-step Adams-Moulton bisa ditulis sebagai berikut."
   ]
  },
  {
   "cell_type": "markdown",
   "metadata": {},
   "source": [
    "$$w_{i+1} = w_i + \\frac{h}{\\text{pembagi}} \\left[ c_1 f\\left(t_{i+1},w_{i+1}\\right) + c_0 f\\left(t_i,w_i\\right) + \\dots + c_{-n+1} f\\left(t_{i-n+1},w_{i-n+1}\\right) \\right]$$"
   ]
  },
  {
   "cell_type": "markdown",
   "metadata": {},
   "source": [
    "\\begin{array}{cc|ccccc}\n",
    "    \\text{pembagi} & c_1 & c_0 & c_{-1} & c_{-2} & c_{-3} \\\\\n",
    "    1 & 1 &&&&& \\\\\n",
    "    2 & 1 & 1 &&&& \\\\\n",
    "    12 & 5 & 8 & -1 &&& \\\\\n",
    "    24 & 9 & 19 & -5 & 1 && \\\\\n",
    "    720 & 251 & 646 & -264 & 106 & -19\n",
    "\\end{array}"
   ]
  },
  {
   "cell_type": "markdown",
   "metadata": {},
   "source": [
    "* Orde: banyaknya koefisien taknol yang mengkali $f$\n",
    "* $n$-step, $n$: banyaknya koefisien taknol yang mengkali $f$, kecuali koefisien yang mengkali $f\\left(t_{i+1},w_{i+1}\\right)$ kalau ada"
   ]
  },
  {
   "cell_type": "markdown",
   "metadata": {},
   "source": [
    "Untuk metode Adams-Moulton, berlaku: orde = $n+1$."
   ]
  },
  {
   "cell_type": "markdown",
   "metadata": {},
   "source": [
    "Kedua ini tidak dibahas:\n",
    "\n",
    "* metode Adams-Moulton orde 1, yaitu metode backward Euler.\n",
    "* metode Adams-Moulton orde 2, yaitu metode trapezoidal (integrasi numerik)."
   ]
  },
  {
   "cell_type": "markdown",
   "metadata": {},
   "source": [
    "### Two-step Adams-Moulton (orde 3)"
   ]
  },
  {
   "cell_type": "markdown",
   "metadata": {},
   "source": [
    "\\begin{array}{cc|ccccc}\n",
    "    \\text{pembagi} & c_1 & c_0 & c_{-1} & c_{-2} & c_{-3} \\\\\n",
    "    1 & 1 &&&&& \\\\\n",
    "    2 & 1 & 1 &&&& \\\\\n",
    "    \\textcolor{red}{12} & \\textcolor{red}{5} & \\textcolor{red}{8} & \\textcolor{red}{-1} &&& \\\\\n",
    "    24 & 9 & 19 & -5 & 1 && \\\\\n",
    "    720 & 251 & 646 & -264 & 106 & -19\n",
    "\\end{array}"
   ]
  },
  {
   "cell_type": "markdown",
   "metadata": {},
   "source": [
    "$$\n",
    "\\begin{aligned}\n",
    "w_0 & =\\alpha, \\quad w_1=\\alpha_1, \\\\\n",
    "w_{i+1} & =w_i+\\frac{h}{12}\\left[5 f\\left(t_{i+1}, w_{i+1}\\right)+8 f\\left(t_i, w_i\\right)-f\\left(t_{i-1}, w_{i-1}\\right)\\right]\n",
    "\\end{aligned}\n",
    "$$"
   ]
  },
  {
   "cell_type": "markdown",
   "metadata": {},
   "source": [
    "Bisa ditulis:\n",
    "\n",
    "$$\n",
    "\\begin{aligned}\n",
    "w_0 &= \\alpha, \\\\\n",
    "w_1 &= \\alpha_1, \\\\\n",
    "m_0 &= f\\left(t_{i+1}, w_{i+1}\\right) \\\\\n",
    "m_1 &= f\\left(t_i, w_i\\right) \\\\\n",
    "m_2 &= f\\left(t_{i-1}, w_{i-1}\\right) \\\\\n",
    "w_{i+1} &=w_i+\\frac{h}{12}\\left[5 m_0+8 m_1-m_2\\right]\n",
    "\\end{aligned}\n",
    "$$"
   ]
  },
  {
   "cell_type": "markdown",
   "metadata": {},
   "source": [
    "### Three-step Adams-Moulton (orde 4)"
   ]
  },
  {
   "cell_type": "markdown",
   "metadata": {},
   "source": [
    "\\begin{array}{cc|ccccc}\n",
    "    \\text{pembagi} & c_1 & c_0 & c_{-1} & c_{-2} & c_{-3} \\\\\n",
    "    1 & 1 &&&&& \\\\\n",
    "    2 & 1 & 1 &&&& \\\\\n",
    "    12 & 5 & 8 & -1 &&& \\\\\n",
    "    \\textcolor{red}{24} & \\textcolor{red}{9} & \\textcolor{red}{19} & \\textcolor{red}{-5} & \\textcolor{red}{1} && \\\\\n",
    "    720 & 251 & 646 & -264 & 106 & -19\n",
    "\\end{array}"
   ]
  },
  {
   "cell_type": "markdown",
   "metadata": {},
   "source": [
    "$$\n",
    "\\begin{aligned}\n",
    "w_0 & =\\alpha, \\quad w_1=\\alpha_1, \\quad w_2=\\alpha_2, \\\\\n",
    "w_{i+1} & =w_i+\\frac{h}{24}\\left[9 f\\left(t_{i+1}, w_{i+1}\\right)+19 f\\left(t_i, w_i\\right)-5 f\\left(t_{i-1}, w_{i-1}\\right)+f\\left(t_{i-2}, w_{i-2}\\right)\\right]\n",
    "\\end{aligned}\n",
    "$$"
   ]
  },
  {
   "cell_type": "markdown",
   "metadata": {},
   "source": [
    "Bisa ditulis:\n",
    "\n",
    "$$\n",
    "\\begin{aligned}\n",
    "w_0 &= \\alpha, \\\\\n",
    "w_1 &= \\alpha_1, \\quad w_2=\\alpha_2, \\\\\n",
    "m_0 &= f\\left(t_{i+1}, w_{i+1}\\right) \\\\\n",
    "m_1 &= f\\left(t_i, w_i\\right) \\\\\n",
    "m_2 &= f\\left(t_{i-1}, w_{i-1}\\right) \\\\\n",
    "m_3 &= f\\left(t_{i-2}, w_{i-2}\\right) \\\\\n",
    "w_{i+1} &= w_i+\\frac{h}{24}\\left[9 m_0+19 m_1-5 m_2+m_3\\right]\n",
    "\\end{aligned}\n",
    "$$"
   ]
  },
  {
   "cell_type": "markdown",
   "metadata": {},
   "source": [
    "### Four-step Adams-Moulton (orde 5)"
   ]
  },
  {
   "cell_type": "markdown",
   "metadata": {},
   "source": [
    "\\begin{array}{cc|ccccc}\n",
    "    \\text{pembagi} & c_1 & c_0 & c_{-1} & c_{-2} & c_{-3} \\\\\n",
    "    1 & 1 &&&&& \\\\\n",
    "    2 & 1 & 1 &&&& \\\\\n",
    "    12 & 5 & 8 & -1 &&& \\\\\n",
    "    24 & 9 & 19 & -5 & 1 && \\\\\n",
    "    \\textcolor{red}{720} & \\textcolor{red}{251} & \\textcolor{red}{646} & \\textcolor{red}{-264} & \\textcolor{red}{106} & \\textcolor{red}{-19}\n",
    "\\end{array}"
   ]
  },
  {
   "cell_type": "markdown",
   "metadata": {},
   "source": [
    "$$\n",
    "\\begin{aligned}\n",
    "w_0= & \\alpha, \\quad w_1=\\alpha_1, \\quad w_2=\\alpha_2, \\quad w_3=\\alpha_3, \\\\\n",
    "w_{i+1}= & w_i+\\frac{h}{720}\\left[251 f\\left(t_{i+1}, w_{i+1}\\right)+646 f\\left(t_i, w_i\\right)\\right. \\\\\n",
    "& \\left.-264 f\\left(t_{i-1}, w_{i-1}\\right)+106 f\\left(t_{i-2}, w_{i-2}\\right)-19 f\\left(t_{i-3}, w_{i-3}\\right)\\right]\n",
    "\\end{aligned}\n",
    "$$"
   ]
  },
  {
   "cell_type": "markdown",
   "metadata": {},
   "source": [
    "Bisa ditulis:\n",
    "\n",
    "$$\n",
    "\\begin{aligned}\n",
    "w_0 &= \\alpha, \\\\\n",
    "w_1 &= \\alpha_1, \\quad w_2=\\alpha_2, \\quad w_3=\\alpha_3, \\\\\n",
    "m_0 &= f\\left(t_{i+1}, w_{i+1}\\right) \\\\\n",
    "m_1 &= f\\left(t_i, w_i\\right) \\\\\n",
    "m_2 &= f\\left(t_{i-1}, w_{i-1}\\right) \\\\\n",
    "m_3 &= f\\left(t_{i-2}, w_{i-2}\\right) \\\\\n",
    "m_4 &= f\\left(t_{i-3}, w_{i-3}\\right) \\\\\n",
    "w_{i+1} &= w_i+\\frac{h}{720}\\left[251 m_0+646 m_1\\right. \\\\\n",
    "& \\left.-264 m_2+106 m_3-19 m_4\\right]\n",
    "\\end{aligned}\n",
    "$$"
   ]
  },
  {
   "cell_type": "markdown",
   "metadata": {},
   "source": [
    "## Metode Adams *Predictor-Corrector* orde $n$"
   ]
  },
  {
   "cell_type": "markdown",
   "metadata": {},
   "source": [
    "Metode implisit tidak praktis digunakan dengan sendirinya. Namun, metode implisit pada umumnya lebih akurat daripada metode eksplisit dengan orde yang sama."
   ]
  },
  {
   "cell_type": "markdown",
   "metadata": {},
   "source": [
    "Rumus metode implisit seolah-olah merupakan persamaan yang harus dipenuhi oleh $w_{i+1}$ (yang muncul di ruas kiri serta ruas kanan)."
   ]
  },
  {
   "cell_type": "markdown",
   "metadata": {},
   "source": [
    "Sehingga, kita bisa saja mencoba memodifikasi metode multistep eksplisit: di tiap iterasi, setelah menghitung nilai $w_{i+1}$ menggunakan metode Adams-Bashforth orde $n$, kita bisa memasukkan nilai $w_{i+1}$ tersebut ke dalam ruas kanan rumus metode Adams-Moulton orde $n$ untuk memperoleh aproksimasi $w_{i+1}$ yang lebih baik (toh metode Adams-Moulton orde $n$ umumnya lebih akurat daripada metode Adams-Bashforth orde $n$)."
   ]
  },
  {
   "cell_type": "markdown",
   "metadata": {},
   "source": [
    "Ide ini disebut **metode Adams *predictor-corrector* orde $n$:** metode Adams-Bashforth orde $n$ memprediksi (menghitung, mengaproksimasi) nilai $w_{i+1}$ yang kemudian dikoreksi (diperbaiiki) oleh metode Adams-Moulton orde $n$ (yang lebih akurat)."
   ]
  },
  {
   "cell_type": "markdown",
   "metadata": {},
   "source": [
    "Secara kode program, modifikasi ini hanya menambahkan satu/dua baris saja ke program metode Adams-Bashforth orde $n$, yaitu rumus metode Adams-Moulton orde $n$ di dalam *for loop* yang sama."
   ]
  },
  {
   "cell_type": "markdown",
   "metadata": {},
   "source": [
    "Note: antara metode Adams-Bashforth dan metode Adams-Moulton, ordenya sama = pembaginya sama."
   ]
  },
  {
   "cell_type": "markdown",
   "metadata": {},
   "source": [
    "### Metode Adams *predictor-corrector* orde 3"
   ]
  },
  {
   "cell_type": "markdown",
   "metadata": {},
   "source": [
    "Metode Adams-Bashforth orde 3 (three-step) diikuti metode Adams-Moulton orde 3 (two-step)."
   ]
  },
  {
   "cell_type": "markdown",
   "metadata": {},
   "source": [
    "\\begin{array}{cc|ccccc}\n",
    "    \\text{pembagi} & c_1 & c_0 & c_{-1} & c_{-2} & c_{-3} & c_{-4} \\\\\n",
    "    1 & \\hspace{0.5cm} & 1 &&&& \\\\\n",
    "    2 & \\hspace{0.5cm} & 3 & -1 &&& \\\\\n",
    "    \\textcolor{red}{12} & \\hspace{0.5cm} & \\textcolor{red}{23} & \\textcolor{red}{-16} & \\textcolor{red}{5} && \\\\\n",
    "    24 & \\hspace{0.5cm} & 55 & -59 & 37 & -9 & \\\\\n",
    "    720 & \\hspace{0.5cm} & 1901 & -2774 & 2616 & -1274 & 251\n",
    "\\end{array}"
   ]
  },
  {
   "cell_type": "markdown",
   "metadata": {},
   "source": [
    "\\begin{array}{cc|ccccc}\n",
    "    \\text{pembagi} & c_1 & c_0 & c_{-1} & c_{-2} & c_{-3} \\\\\n",
    "    1 & 1 &&&&& \\\\\n",
    "    2 & 1 & 1 &&&& \\\\\n",
    "    \\textcolor{red}{12} & \\textcolor{red}{5} & \\textcolor{red}{8} & \\textcolor{red}{-1} &&& \\\\\n",
    "    24 & 9 & 19 & -5 & 1 && \\\\\n",
    "    720 & 251 & 646 & -264 & 106 & -19\n",
    "\\end{array}"
   ]
  },
  {
   "cell_type": "markdown",
   "metadata": {},
   "source": [
    "Bisa ditulis:\n",
    "\n",
    "$$\n",
    "\\begin{aligned}\n",
    "w_{1}&=\\alpha, \\\\\n",
    "w_{2}&=\\alpha_{1}, \\quad w_{3}=\\alpha_{2}, \\\\\n",
    "m_1 &= f\\left(t_{i}, w_{i}\\right) \\\\\n",
    "m_2 &= f\\left(t_{i-1}, w_{i-1}\\right) \\\\\n",
    "m_3 &= f\\left(t_{i-2}, w_{i-2}\\right) \\\\\n",
    "w_{i+1}&=w_{i}+\\frac{h}{12}\\left[23 m_1-16 m_2+5 m_3\\right] \\\\\n",
    "m_0 &= f\\left(t_{i+1}, w_{i+1}\\right) \\\\\n",
    "w_{i+1} &=w_i+\\frac{h}{12}\\left[5 m_0+8 m_1-m_2\\right]\n",
    "\\end{aligned}\n",
    "$$"
   ]
  },
  {
   "cell_type": "raw",
   "metadata": {},
   "source": [
    "::: {.panel-tabset}\n",
    "\n",
    "### *Function file* `adams_pc_orde3.m` - nama *file* harus sama dengan nama fungsi"
   ]
  },
  {
   "cell_type": "code",
   "execution_count": 3,
   "metadata": {},
   "outputs": [],
   "source": [
    "function [t, w] = adams_pc_orde3(f, a, b, N, alpha)\n",
    "  % Inisiasi variabel awal\n",
    "  h = (b - a) / N;\n",
    "  t = zeros(N + 1, 1);\n",
    "  w = zeros(N + 1, 1);\n",
    "  t(1) = a;\n",
    "  w(1) = alpha;\n",
    "  \n",
    "  % Hitung w(2), w(3) menggunakan metode Runge-Kutta orde 4\n",
    "  for i = 1 : 2\n",
    "      t(i + 1) = t(i) + h;\n",
    "      k1 = h * f(t(i), w(i));\n",
    "      k2 = h * f(t(i) + (h/2), w(i) + (k1/2));\n",
    "      k3 = h * f(t(i) + (h/2), w(i) + (k2/2));\n",
    "      k4 = h * f(t(i + 1), w(i) + k3);\n",
    "      w(i+1) = w(i) + (k1 + 2*k2 + 2*k3 + k4) / 6;\n",
    "  endfor\n",
    "  \n",
    "  % Algoritma utama Adams Predictor-Corrector orde 3\n",
    "  for i = 3 : N\n",
    "    t(i + 1) = t(i) + h;\n",
    "    m1 = f(t(i), w(i));\n",
    "    m2 = f(t(i-1), w(i-1));\n",
    "    m3 = f(t(i-2), w(i-2));\n",
    "    % Adams-Bashforth orde 3 (three-step)\n",
    "    w(i+1) = w(i) + (h/12) * (23*m1 - 16*m2 + 5*m3);\n",
    "    % Adams-Moulton orde 3 (two-step)\n",
    "    m0 = f(t(i+1), w(i+1));\n",
    "    w(i+1) = w(i) + (h/12) * (5*m0 + 8*m1 - m2);\n",
    "  endfor\n",
    "endfunction"
   ]
  },
  {
   "cell_type": "raw",
   "metadata": {},
   "source": [
    ":::"
   ]
  },
  {
   "cell_type": "markdown",
   "metadata": {},
   "source": [
    "Misalkan diberikan MNA sebagai berikut, yang ingin diselesaikan secara numerik dengan $N = 10$:\n",
    "\n",
    "$$y' = y - t^2 + 1$$\n",
    "$$0 \\le t \\le 2$$\n",
    "$$y(0) = 0.5$$\n",
    "\n",
    "yang kebetulan memiliki solusi eksak:\n",
    "\n",
    "$$y\\left(t\\right) = \\left( t + 1 \\right)^2 - 0.5 e^t$$"
   ]
  },
  {
   "cell_type": "raw",
   "metadata": {},
   "source": [
    "::: {.panel-tabset}\n",
    "\n",
    "### *Script file* `coba_adams_pc_orde3.m` - nama *file* bebas"
   ]
  },
  {
   "cell_type": "code",
   "execution_count": 4,
   "metadata": {},
   "outputs": [
    {
     "name": "stdout",
     "output_type": "stream",
     "text": [
      "Tabel aproksimasi w, solusi eksak y, dan error:\n",
      "ans =\n",
      "\n",
      "        0   0.5000   0.5000        0\n",
      "   0.2000   0.8293   0.8293   0.0000\n",
      "   0.4000   1.2141   1.2141   0.0000\n",
      "   0.6000   1.6489   1.6489   0.0000\n",
      "   0.8000   2.1272   2.1272   0.0001\n",
      "   1.0000   2.6408   2.6409   0.0001\n",
      "   1.2000   3.1798   3.1799   0.0002\n",
      "   1.4000   3.7322   3.7324   0.0002\n",
      "   1.6000   4.2832   4.2835   0.0003\n",
      "   1.8000   4.8147   4.8152   0.0005\n",
      "   2.0000   5.3048   5.3055   0.0006\n",
      "\n",
      "Error total (norm L1):\n",
      "2.0431e-03\n"
     ]
    },
    {
     "data": {
      "image/png": "[encoded data removed]",
      "text/plain": [
       "<IPython.core.display.Image object>"
      ]
     },
     "metadata": {},
     "output_type": "display_data"
    }
   ],
   "source": [
    "f = @(t, y) y - t .^ 2 + 1;\n",
    "a = 0;\n",
    "b = 2;\n",
    "alpha = 0.5;\n",
    "N = 10;\n",
    "\n",
    "[t, w] = adams_pc_orde3(f, a, b, N, alpha);\n",
    "\n",
    "sln = @(t) (t + 1) .^ 2 - 0.5 * exp(t);\n",
    "y_eksak = sln(t);\n",
    "\n",
    "err_pc3 = abs(y_eksak - w);\n",
    "err_pc3_total = sum(err_pc3); % norm L1 (taxicab/Manhattan)\n",
    "\n",
    "disp(\"Tabel aproksimasi w, solusi eksak y, dan error:\");\n",
    "[t, w, y_eksak, err_pc3]\n",
    "disp(\"Error total (norm L1):\");\n",
    "disp(err_pc3_total);\n",
    "\n",
    "hold on;\n",
    "fplot(sln, [a, b], 'b');\n",
    "scatter(t, w, 'r');\n",
    "legend(\"Solusi Eksak\", \"Adams Predictor-Corrector orde 3\")\n",
    "legend('location', 'northwest')"
   ]
  },
  {
   "cell_type": "raw",
   "metadata": {},
   "source": [
    ":::"
   ]
  },
  {
   "cell_type": "markdown",
   "metadata": {},
   "source": [
    "### Metode Adams *predictor-corrector* orde 4"
   ]
  },
  {
   "cell_type": "markdown",
   "metadata": {},
   "source": [
    "Metode Adams-Bashforth orde 4 (four-step) diikuti metode Adams-Moulton orde 4 (three-step)."
   ]
  },
  {
   "cell_type": "markdown",
   "metadata": {},
   "source": [
    "\\begin{array}{cc|ccccc}\n",
    "    \\text{pembagi} & c_1 & c_0 & c_{-1} & c_{-2} & c_{-3} & c_{-4} \\\\\n",
    "    1 & \\hspace{0.5cm} & 1 &&&& \\\\\n",
    "    2 & \\hspace{0.5cm} & 3 & -1 &&& \\\\\n",
    "    12 & \\hspace{0.5cm} & 23 & -16 & 5 && \\\\\n",
    "    \\textcolor{red}{24} & \\hspace{0.5cm} & \\textcolor{red}{55} & \\textcolor{red}{-59} & \\textcolor{red}{37} & \\textcolor{red}{-9} & \\\\\n",
    "    720 & \\hspace{0.5cm} & 1901 & -2774 & 2616 & -1274 & 251\n",
    "\\end{array}"
   ]
  },
  {
   "cell_type": "markdown",
   "metadata": {},
   "source": [
    "\\begin{array}{cc|ccccc}\n",
    "    \\text{pembagi} & c_1 & c_0 & c_{-1} & c_{-2} & c_{-3} \\\\\n",
    "    1 & 1 &&&&& \\\\\n",
    "    2 & 1 & 1 &&&& \\\\\n",
    "    12 & 5 & 8 & -1 &&& \\\\\n",
    "    \\textcolor{red}{24} & \\textcolor{red}{9} & \\textcolor{red}{19} & \\textcolor{red}{-5} & \\textcolor{red}{1} && \\\\\n",
    "    720 & 251 & 646 & -264 & 106 & -19\n",
    "\\end{array}"
   ]
  },
  {
   "cell_type": "markdown",
   "metadata": {},
   "source": [
    "Bisa ditulis:\n",
    "\n",
    "$$\n",
    "\\begin{aligned}\n",
    "w_{1}&=\\alpha, \\\\\n",
    "w_{2}&=\\alpha_{1}, \\quad w_{3}=\\alpha_{2}, \\quad w_{4}=\\alpha_{3} \\\\\n",
    "m_1 &= f\\left(t_{i}, w_{i}\\right) \\\\\n",
    "m_2 &= f\\left(t_{i-1}, w_{i-1}\\right) \\\\\n",
    "m_3 &= f\\left(t_{i-2}, w_{i-2}\\right) \\\\\n",
    "m_4 &= f\\left(t_{i-3}, w_{i-3}\\right) \\\\\n",
    "w_{i+1}&=w_{i}+\\frac{h}{24}\\left[55 m_1-59 m_2+37 m_3-9 m_4\\right] \\\\\n",
    "m_0 &= f\\left(t_{i+1}, w_{i+1}\\right) \\\\\n",
    "w_{i+1} &= w_i+\\frac{h}{24}\\left[9 m_0+19 m_1-5 m_2+m_3\\right]\n",
    "\\end{aligned}\n",
    "$$"
   ]
  },
  {
   "cell_type": "raw",
   "metadata": {},
   "source": [
    "::: {.panel-tabset}\n",
    "\n",
    "### *Function file* `adams_pc_orde4.m` - nama *file* harus sama dengan nama fungsi"
   ]
  },
  {
   "cell_type": "code",
   "execution_count": 5,
   "metadata": {},
   "outputs": [],
   "source": [
    "function [t, w] = adams_pc_orde4(f, a, b, N, alpha)\n",
    "  % Inisiasi variabel awal\n",
    "  h = (b - a) / N;\n",
    "  t = zeros(N + 1, 1);\n",
    "  w = zeros(N + 1, 1);\n",
    "  t(1) = a;\n",
    "  w(1) = alpha;\n",
    "  \n",
    "  % Hitung w(2), w(3), w(4) menggunakan metode Runge-Kutta orde 4\n",
    "  for i = 1 : 3\n",
    "      t(i + 1) = t(i) + h;\n",
    "      k1 = h * f(t(i), w(i));\n",
    "      k2 = h * f(t(i) + (h/2), w(i) + (k1/2));\n",
    "      k3 = h * f(t(i) + (h/2), w(i) + (k2/2));\n",
    "      k4 = h * f(t(i + 1), w(i) + k3);\n",
    "      w(i+1) = w(i) + (k1 + 2*k2 + 2*k3 + k4) / 6;\n",
    "  endfor\n",
    "  \n",
    "  % Algoritma utama Adams Predictor-Corrector orde 4\n",
    "  for i = 4 : N\n",
    "    t(i + 1) = t(i) + h;\n",
    "    m1 = f(t(i), w(i));\n",
    "    m2 = f(t(i-1), w(i-1));\n",
    "    m3 = f(t(i-2), w(i-2));\n",
    "    m4 = f(t(i-3), w(i-3));\n",
    "    % Adams-Bashforth orde 4 (four-step)\n",
    "    w(i+1) = w(i) + (h/24) * (55*m1 - 59*m2 + 37*m3 - 9*m4);\n",
    "    % Adams-Moulton orde 4 (three-step)\n",
    "    m0 = f(t(i+1), w(i+1));\n",
    "    w(i+1) = w(i) + (h/24) * (9*m0 + 19*m1 - 5*m2 + m3);\n",
    "  endfor\n",
    "endfunction"
   ]
  },
  {
   "cell_type": "raw",
   "metadata": {},
   "source": [
    ":::"
   ]
  },
  {
   "cell_type": "markdown",
   "metadata": {},
   "source": [
    "Misalkan diberikan MNA sebagai berikut, yang ingin diselesaikan secara numerik dengan $N = 10$:\n",
    "\n",
    "$$y' = y - t^2 + 1$$\n",
    "$$0 \\le t \\le 2$$\n",
    "$$y(0) = 0.5$$\n",
    "\n",
    "yang kebetulan memiliki solusi eksak:\n",
    "\n",
    "$$y\\left(t\\right) = \\left( t + 1 \\right)^2 - 0.5 e^t$$"
   ]
  },
  {
   "cell_type": "markdown",
   "metadata": {},
   "source": [
    "Kita bisa membandingkan orde-orde metode Adams Predictor-Corrector dengan menyelesaikan MNA tersebut."
   ]
  },
  {
   "cell_type": "raw",
   "metadata": {},
   "source": [
    "::: {.panel-tabset}\n",
    "\n",
    "### *Script file* `bandingkan_adams_pc.m` - nama *file* bebas"
   ]
  },
  {
   "cell_type": "code",
   "execution_count": 6,
   "metadata": {},
   "outputs": [
    {
     "name": "stdout",
     "output_type": "stream",
     "text": [
      "ans =\n",
      "\n",
      "        0   0.5000   0.5000        0   0.5000        0\n",
      "   0.2000   0.8293   0.8293   0.0000   0.8293   0.0000\n",
      "   0.4000   1.2141   1.2141   0.0000   1.2141   0.0000\n",
      "   0.6000   1.6489   1.6489   0.0000   1.6489   0.0000\n",
      "   0.8000   2.1272   2.1272   0.0001   2.1272   0.0000\n",
      "   1.0000   2.6409   2.6408   0.0001   2.6408   0.0000\n",
      "   1.2000   3.1799   3.1798   0.0002   3.1799   0.0000\n",
      "   1.4000   3.7324   3.7322   0.0002   3.7324   0.0000\n",
      "   1.6000   4.2835   4.2832   0.0003   4.2834   0.0001\n",
      "   1.8000   4.8152   4.8147   0.0005   4.8151   0.0001\n",
      "   2.0000   5.3055   5.3048   0.0006   5.3054   0.0001\n",
      "\n"
     ]
    },
    {
     "data": {
      "image/png": "[encoded data removed]",
      "text/plain": [
       "<IPython.core.display.Image object>"
      ]
     },
     "metadata": {},
     "output_type": "display_data"
    }
   ],
   "source": [
    "f = @(t, y) y - t .^ 2 + 1;\n",
    "a = 0;\n",
    "b = 2;\n",
    "alpha = 0.5;\n",
    "N = 10;\n",
    "\n",
    "[t_pc3, w_pc3] = adams_pc_orde3(f, a, b, N, alpha);\n",
    "[t_pc4, w_pc4] = adams_pc_orde4(f, a, b, N, alpha);\n",
    "\n",
    "sln = @(t) (t + 1) .^ 2 - 0.5 * exp(t);\n",
    "y_eksak = sln(t);\n",
    "\n",
    "err_pc3 = abs(y_eksak - w_pc3);\n",
    "err_pc4 = abs(y_eksak - w_pc4);\n",
    "\n",
    "[t, y_eksak, w_pc3, err_pc3, w_pc4, err_pc4]\n",
    "\n",
    "hold on;\n",
    "fplot(sln, [a, b], 'b');\n",
    "scatter(t_pc3, w_pc3, 'r');\n",
    "scatter(t_pc4, w_pc4, 'g');\n",
    "legend(\"Solusi Eksak\", \"orde 3\", \"orde 4\")\n",
    "legend('location', 'northwest')"
   ]
  },
  {
   "cell_type": "raw",
   "metadata": {},
   "source": [
    ":::"
   ]
  },
  {
   "cell_type": "code",
   "execution_count": null,
   "metadata": {},
   "outputs": [],
   "source": []
  }
 ],
 "metadata": {
  "kernelspec": {
   "display_name": "Octave",
   "language": "octave",
   "name": "octave"
  },
  "language_info": {
   "file_extension": ".m",
   "help_links": [
    {
     "text": "GNU Octave",
     "url": "https://www.gnu.org/software/octave/support.html"
    },
    {
     "text": "Octave Kernel",
     "url": "https://github.com/Calysto/octave_kernel"
    },
    {
     "text": "MetaKernel Magics",
     "url": "https://metakernel.readthedocs.io/en/latest/source/README.html"
    }
   ],
   "mimetype": "text/x-octave",
   "name": "octave",
   "version": "6.2.0"
  }
 },
 "nbformat": 4,
 "nbformat_minor": 2
}
