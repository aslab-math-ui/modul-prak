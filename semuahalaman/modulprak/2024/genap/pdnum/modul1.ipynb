{
 "cells": [
  {
   "cell_type": "markdown",
   "metadata": {},
   "source": [
    "# Modul 1 Persamaan Diferensial Numerik: Pengenalan GNU Octave"
   ]
  },
  {
   "cell_type": "markdown",
   "metadata": {},
   "source": [
    "Kembali ke [Persamaan Diferensial Numerik](./pdnum2024genap.qmd)"
   ]
  },
  {
   "cell_type": "markdown",
   "metadata": {},
   "source": [
    "Octave adalah software dan bahasa pemrograman yang umum digunakan dalam analisis numerik. Syntax pada Octave kompatibel dengan MATLAB, bahkan script file dari Octave juga menggunakan ekstensi yang sama (.m). Pada praktikum ini, akan dijelaskan tentang penggunaan Octave dan pengaplikasiannya dalam Persamaan Diferensial Numerik.\n",
    "\n",
    "Pastikan Octave telah terinstal pada computer kalian. Kalian dapat mengunduh Octave di [https://www.gnu.org/software/octave/download](https://www.gnu.org/software/octave/download)\n",
    "\n",
    "Alternatif untuk macOS: <https://octave-app.org/>"
   ]
  },
  {
   "cell_type": "markdown",
   "metadata": {},
   "source": [
    "## Operasi, Variabel, Matriks"
   ]
  },
  {
   "cell_type": "markdown",
   "metadata": {},
   "source": [
    "Setelah terinstal, akan ada dua jenis launcher, yaitu “Octave (GUI)” dan “Octave (CLI)”. Jalankan “Octave (GUI)”, lalu akan muncul jendela seperti ini:"
   ]
  },
  {
   "cell_type": "markdown",
   "metadata": {},
   "source": [
    "![](pdnum1_Picture1.jpg)"
   ]
  },
  {
   "cell_type": "markdown",
   "metadata": {},
   "source": [
    "Secara default, Terdapat 4 sub-jendela, yaitu File Explorer, Workspace, Command History, dan Command Window (dll.)\n",
    "\n",
    "* File Explorer berisi path yang dituju pada address bar. File Explorer berguna untuk membuka file .m ataupun file-file lain tanpa harus membuka Windows Explorer.\n",
    "* Workspace berisi data tentang variabel yang didefinisikan saat menjalankan pemrograman nantinya. Data-data yang disajikan berupa identitas dari tiap variabel, seperti nama, kelas, dimensi, value, dan atribut.\n",
    "* Command History berisi Riwayat dari semua command yang dijalankan pada Command Window.\n",
    "* Command Window sebenarnya mempunyai 3 sub-jendela lain yang dapat ditukar ataupun ditumpuk.\n",
    "    * Command Window adalah command line utama dari Octave dan digunakan untuk menjalankan semua kode maupun program dari Octave. Untuk menjalankan kode dari Command Window, ketikkan kode yang diinginkan, lalu tekan Enter.\n",
    "    * Documentation berisi dokumentasi dari Octave, seperti tutorial, detail dari fungsi-fungsi built-in, penerapan, dll.\n",
    "    * Variable Editor berguna untuk mengubah variabel yang ada di Workspace. Variable Editor berbentuk baris dan kolom sehingga memudahkan untuk membuat matriks.\n",
    "    * Editor adalah jendela scripting utama dari Octave. Script yang dibuat di Editor dapat disimpan dalam file ekstensi .m dan dijalankan dengan Command Window ataupun dengan menekan F5.\n"
   ]
  },
  {
   "cell_type": "markdown",
   "metadata": {},
   "source": [
    "### Aritmatika Standar"
   ]
  },
  {
   "cell_type": "markdown",
   "metadata": {},
   "source": [
    "Octave dapat digunakan untuk kalkulasi numerik dasar. Octave mengenal operator aritmatika (+, -, *, /), operator pangkat (^) (berbeda dengan kebanyakan Bahasa pemrograman), fungsi eksponen dan logaritma (exp, log), dan fungsi trigonometri (sin, cos, …). Kalkulasi pada Octave juga bekerja pada bilangan real ataupun imajiner (I, j). Beberapa konstanta, seperti bilangan Euler (e) dan bilangan pi (pi), sudah pre-defined pada Octave. Anda juga dapat menambahkan komentar pada kode dengan menggunakan persen (%)."
   ]
  },
  {
   "cell_type": "code",
   "execution_count": 1,
   "metadata": {
    "tags": []
   },
   "outputs": [
    {
     "name": "stdout",
     "output_type": "stream",
     "text": [
      "ans = 3\r\n"
     ]
    }
   ],
   "source": [
    "1 + 2 %Operasi Aritmatika Standar"
   ]
  },
  {
   "cell_type": "markdown",
   "metadata": {},
   "source": [
    "Terlihat bahwa value hasil running disimpan dalam suatu variabel yang bernama ans. Variabel ini akan menyimpan seluruh hasil dari ekspresi yang di\\-input dan akan ditimpa jika ada ekspresi baru yang menyimpan hasil.\n",
    "\n",
    "Ekspresi tersebut juga dapat disimpan ke suatu variabel.\n"
   ]
  },
  {
   "cell_type": "code",
   "execution_count": 4,
   "metadata": {},
   "outputs": [
    {
     "data": {
      "text/plain": [
       "a = 5\n"
      ]
     },
     "execution_count": 4,
     "metadata": {},
     "output_type": "execute_result"
    }
   ],
   "source": [
    "a = 2 + 3"
   ]
  },
  {
   "cell_type": "markdown",
   "metadata": {},
   "source": [
    "Terlihat bahwa output menunjukkan variabel a, bukan ans.\n",
    "\n",
    "Jika tidak ingin print hasilnya, beri titik koma \\(;\\) pada akhir line…\n",
    "\n"
   ]
  },
  {
   "cell_type": "code",
   "execution_count": 5,
   "metadata": {},
   "outputs": [],
   "source": [
    "a = 1 + 3;"
   ]
  },
  {
   "cell_type": "markdown",
   "metadata": {},
   "source": [
    "… dan jika ingin menampilkan lagi outputnya, cukup memanggil variabelnya.\n"
   ]
  },
  {
   "cell_type": "code",
   "execution_count": 6,
   "metadata": {},
   "outputs": [
    {
     "data": {
      "text/plain": [
       "a = 4\n"
      ]
     },
     "execution_count": 6,
     "metadata": {},
     "output_type": "execute_result"
    }
   ],
   "source": [
    "a"
   ]
  },
  {
   "cell_type": "markdown",
   "metadata": {},
   "source": [
    "Untuk update variabel, dapat menggunakan cara ini:\n"
   ]
  },
  {
   "cell_type": "code",
   "execution_count": 7,
   "metadata": {},
   "outputs": [
    {
     "data": {
      "text/plain": [
       "a = 10\n"
      ]
     },
     "execution_count": 7,
     "metadata": {},
     "output_type": "execute_result"
    }
   ],
   "source": [
    "a = a + 6 %Variabel a ditambah 6"
   ]
  },
  {
   "cell_type": "code",
   "execution_count": 8,
   "metadata": {},
   "outputs": [
    {
     "data": {
      "text/plain": [
       "a = 2\n"
      ]
     },
     "execution_count": 8,
     "metadata": {},
     "output_type": "execute_result"
    }
   ],
   "source": [
    "a = a / 5 %Dapat disesuaikan dengan operator lainnya"
   ]
  },
  {
   "cell_type": "code",
   "execution_count": 9,
   "metadata": {},
   "outputs": [
    {
     "data": {
      "text/plain": [
       "a = -4\n"
      ]
     },
     "execution_count": 9,
     "metadata": {},
     "output_type": "execute_result"
    }
   ],
   "source": [
    "a -= 6 %Idem"
   ]
  },
  {
   "cell_type": "code",
   "execution_count": 10,
   "metadata": {},
   "outputs": [
    {
     "data": {
      "text/plain": [
       "a = 20\n"
      ]
     },
     "execution_count": 10,
     "metadata": {},
     "output_type": "execute_result"
    }
   ],
   "source": [
    "a *= -5 %Idem"
   ]
  },
  {
   "cell_type": "code",
   "execution_count": 11,
   "metadata": {},
   "outputs": [
    {
     "data": {
      "text/plain": [
       "a = ayam\n"
      ]
     },
     "execution_count": 11,
     "metadata": {},
     "output_type": "execute_result"
    }
   ],
   "source": [
    "a = \"ayam\" %Update variabel a dengan nilai baru"
   ]
  },
  {
   "cell_type": "markdown",
   "metadata": {},
   "source": [
    "Sebagai tambahan, tidak seperti Mathematica, value pada Octave menggunakan presisi mesin \\(machine precision\\), sehingga beberapa hasil yang ditampilkan mungkin saja tidak bulat. Sebagai contoh, akan ditampilkan hasil dari $e^{i \\pi}$ \\(Identitas Euler\\)\n",
    "\n"
   ]
  },
  {
   "cell_type": "code",
   "execution_count": 13,
   "metadata": {},
   "outputs": [
    {
     "data": {
      "text/plain": [
       "ans = -1.0000e+00 + 1.2246e-16i\n"
      ]
     },
     "execution_count": 13,
     "metadata": {},
     "output_type": "execute_result"
    }
   ],
   "source": [
    "e^(i*pi)"
   ]
  },
  {
   "cell_type": "markdown",
   "metadata": {},
   "source": [
    "Harusnya tepat \\-1, tetapi ternyata ada sedikit error $10^{-16}$.\n",
    "\n"
   ]
  },
  {
   "cell_type": "markdown",
   "metadata": {},
   "source": [
    "### Pendefinisian dan Pemanggilan Matriks"
   ]
  },
  {
   "cell_type": "markdown",
   "metadata": {},
   "source": [
    "Matriks ataupun vektor akan menjadi hal esensial untuk analisis numerik. Untuk mendefinisikan matriks, gunakan kurung siku \\(\\[\\]\\) untuk membuat matriks. Elemen pada baris dipisahkan dengan koma \\(,\\), dan elemen pada kolom dipisahkan dengan titik koma \\(;\\)\n",
    "\n"
   ]
  },
  {
   "cell_type": "markdown",
   "metadata": {},
   "source": [
    "Contoh:\n"
   ]
  },
  {
   "cell_type": "code",
   "execution_count": 2,
   "metadata": {},
   "outputs": [
    {
     "name": "stdout",
     "output_type": "stream",
     "text": [
      "A =\r\n",
      "\r\n",
      "   1   2   3\r\n",
      "   4   5   6\r\n",
      "   7   8   9\r\n",
      "\r\n"
     ]
    }
   ],
   "source": [
    "A = [1, 2, 3; 4, 5, 6; 7, 8, 9]"
   ]
  },
  {
   "cell_type": "markdown",
   "metadata": {},
   "source": [
    "Catatan: Sebenarnya kita dapat mendefinisikan kode untuk matriks tanpa menggunakan koma ataupun titik koma. Cukup dengan menggunakan spasi dan Enter…\n"
   ]
  },
  {
   "cell_type": "code",
   "execution_count": 3,
   "metadata": {},
   "outputs": [
    {
     "name": "stdout",
     "output_type": "stream",
     "text": [
      "B =\r\n",
      "\r\n",
      "   1   2   3\r\n",
      "   4   5   6\r\n",
      "   7   8   9\r\n",
      "\r\n"
     ]
    }
   ],
   "source": [
    "B = [1 2 3\n",
    "4 5 6\n",
    "7 8 9]"
   ]
  },
  {
   "cell_type": "markdown",
   "metadata": {},
   "source": [
    "… namun hal ini dapat menyebabkan beberapa ambiguitas dalam pendefinisian beberapa elemen dalam matriks. Disarankan tetap menggunakan titik dan titik koma, kecuali untuk matriks yang isinya simpel.\n"
   ]
  },
  {
   "cell_type": "markdown",
   "metadata": {},
   "source": [
    "Selanjutnya, untuk memanggil elemen dari matriks, gunakan tanda kurung \\(\\(a, b\\)\\) dengan a adalah indeks baris dan b adalah indeks kolom. Catatan: Indeks pada Octave dimulai dari 1.\n"
   ]
  },
  {
   "cell_type": "code",
   "execution_count": 4,
   "metadata": {},
   "outputs": [
    {
     "name": "stdout",
     "output_type": "stream",
     "text": [
      "ans = 6\r\n"
     ]
    }
   ],
   "source": [
    "A(2, 3)"
   ]
  },
  {
   "cell_type": "markdown",
   "metadata": {},
   "source": [
    "Jika ingin memanggil lebih dari satu elemen, kalian dapat menggunakan titik dua \\(a:b\\) ataupun kurung siku \\(\\[a,b\\]\\). Titik dua \\(a:b\\) akan memanggil elemen baris/kolom dari a hingga b…\n"
   ]
  },
  {
   "cell_type": "markdown",
   "metadata": {},
   "source": [
    "Contoh: Memanggil elemen baris ke\\-2 dan kolom dari 2 hingga 3:\n"
   ]
  },
  {
   "cell_type": "code",
   "execution_count": 5,
   "metadata": {},
   "outputs": [
    {
     "name": "stdout",
     "output_type": "stream",
     "text": [
      "ans =\r\n",
      "\r\n",
      "   5   6\r\n",
      "\r\n"
     ]
    }
   ],
   "source": [
    "A(2, 2:3)"
   ]
  },
  {
   "cell_type": "markdown",
   "metadata": {},
   "source": [
    "… dan kurung siku \\(\\[a,b\\]\\) akan memanggil elemen baris/kolom ke\\-a dan ke\\-b. \n"
   ]
  },
  {
   "cell_type": "markdown",
   "metadata": {},
   "source": [
    "Contoh: Memanggil elemen baris ke\\-1 dan kolom ke\\-1 dan ke\\-3:\n"
   ]
  },
  {
   "cell_type": "code",
   "execution_count": 6,
   "metadata": {},
   "outputs": [
    {
     "name": "stdout",
     "output_type": "stream",
     "text": [
      "ans =\r\n",
      "\r\n",
      "   1   3\r\n",
      "\r\n"
     ]
    }
   ],
   "source": [
    "A(1, [1,3])"
   ]
  },
  {
   "cell_type": "markdown",
   "metadata": {},
   "source": [
    "Contoh: Memanggil elemen baris ke\\-1 dan ke\\-3, dan kolom dari 2 hingga 3:\n"
   ]
  },
  {
   "cell_type": "code",
   "execution_count": 7,
   "metadata": {},
   "outputs": [
    {
     "name": "stdout",
     "output_type": "stream",
     "text": [
      "ans =\r\n",
      "\r\n",
      "   2   3\r\n",
      "   8   9\r\n",
      "\r\n"
     ]
    }
   ],
   "source": [
    "A([1,3], 2:3)"
   ]
  },
  {
   "cell_type": "markdown",
   "metadata": {},
   "source": [
    "### Operasi Matriks\n",
    "\n"
   ]
  },
  {
   "cell_type": "markdown",
   "metadata": {},
   "source": [
    "Matriks yang telah dibuat dapat diubah isinya, ditranspos, diinvers, dll. Untuk mengubah isi dari matriks, dapat menggunakan pemanggilan indeks.\n"
   ]
  },
  {
   "cell_type": "code",
   "execution_count": 8,
   "metadata": {},
   "outputs": [
    {
     "name": "stdout",
     "output_type": "stream",
     "text": [
      "A =\r\n",
      "\r\n",
      "   1   2   3\r\n",
      "   4   5   6\r\n",
      "   7   8   9\r\n",
      "\r\n"
     ]
    }
   ],
   "source": [
    "A"
   ]
  },
  {
   "cell_type": "code",
   "execution_count": 9,
   "metadata": {},
   "outputs": [
    {
     "name": "stdout",
     "output_type": "stream",
     "text": [
      "A =\r\n",
      "\r\n",
      "   1   2   3\r\n",
      "   4   5   5\r\n",
      "   7   8   9\r\n",
      "\r\n"
     ]
    }
   ],
   "source": [
    "A(2, 3) = 5 %Mengubah satu elemen"
   ]
  },
  {
   "cell_type": "code",
   "execution_count": 10,
   "metadata": {},
   "outputs": [
    {
     "name": "stdout",
     "output_type": "stream",
     "text": [
      "A =\r\n",
      "\r\n",
      "   1   2   3\r\n",
      "   3   5   3\r\n",
      "   7   8   9\r\n",
      "\r\n"
     ]
    }
   ],
   "source": [
    "A(2, [1,3]) = 3 %Mengubah banyak elemen dengan 1 nilai "
   ]
  },
  {
   "cell_type": "markdown",
   "metadata": {},
   "source": [
    "Mengubah banyak elemen dengan nilai yang bersesuaian dengan tempat:\n"
   ]
  },
  {
   "cell_type": "code",
   "execution_count": 11,
   "metadata": {},
   "outputs": [
    {
     "name": "stdout",
     "output_type": "stream",
     "text": [
      "A =\r\n",
      "\r\n",
      "   2   2   3\r\n",
      "   4   5   3\r\n",
      "   8   8   9\r\n",
      "\r\n"
     ]
    }
   ],
   "source": [
    "A(1:3, 1) = [2; 4; 8]"
   ]
  },
  {
   "cell_type": "markdown",
   "metadata": {},
   "source": [
    "Jika posisi salah, akan dicoba dengan transpose nya:\n"
   ]
  },
  {
   "cell_type": "code",
   "execution_count": 12,
   "metadata": {},
   "outputs": [
    {
     "name": "stdout",
     "output_type": "stream",
     "text": [
      "A =\r\n",
      "\r\n",
      "   2   2   2\r\n",
      "   4   5   4\r\n",
      "   8   8   8\r\n",
      "\r\n"
     ]
    }
   ],
   "source": [
    "A(1:3, 3) = [2, 4, 8] "
   ]
  },
  {
   "cell_type": "markdown",
   "metadata": {},
   "source": [
    "Jika masih tidak bisa dengan transpose nya, akan ada pesan error\n"
   ]
  },
  {
   "cell_type": "code",
   "execution_count": 13,
   "metadata": {},
   "outputs": [
    {
     "name": "stdout",
     "output_type": "stream",
     "text": [
      "error: =: nonconformant arguments (op1 is 1x3, op2 is 1x2)\r\n"
     ]
    }
   ],
   "source": [
    "A(2, 1:3) = [2, 4]"
   ]
  },
  {
   "cell_type": "markdown",
   "metadata": {},
   "source": [
    "Operasi matriks pada Octave mengikuti operasi pada aljabar linear biasa, dimana perkalian matriks harus mengikuti baris dan kolom yang sesuai.\n"
   ]
  },
  {
   "cell_type": "code",
   "execution_count": 14,
   "metadata": {},
   "outputs": [
    {
     "name": "stdout",
     "output_type": "stream",
     "text": [
      "ans =\r\n",
      "\r\n",
      "    4    4    4\r\n",
      "    8   10    8\r\n",
      "   16   16   16\r\n",
      "\r\n"
     ]
    }
   ],
   "source": [
    "A * 2 %Perkalian scalar"
   ]
  },
  {
   "cell_type": "code",
   "execution_count": 15,
   "metadata": {},
   "outputs": [
    {
     "name": "stdout",
     "output_type": "stream",
     "text": [
      "ans =\r\n",
      "\r\n",
      "    3    4    5\r\n",
      "    8   10   10\r\n",
      "   15   16   17\r\n",
      "\r\n"
     ]
    }
   ],
   "source": [
    "A + B %Penjumlahan matriks "
   ]
  },
  {
   "cell_type": "code",
   "execution_count": 16,
   "metadata": {},
   "outputs": [
    {
     "name": "stdout",
     "output_type": "stream",
     "text": [
      "ans =\r\n",
      "\r\n",
      "    24    30    36\r\n",
      "    52    65    78\r\n",
      "    96   120   144\r\n",
      "\r\n"
     ]
    }
   ],
   "source": [
    "A * B %Perkalian matriks "
   ]
  },
  {
   "cell_type": "markdown",
   "metadata": {},
   "source": [
    "Untuk memanggil transpos dari matriks, gunakan tanda petik satu \\(‘\\), dan untuk memanggil invers dari matriks, gunakan fungsi inv. Jika matriks yang diinvers singular \\(det = 0\\), maka akan muncul pesan peringatan dan elemennya akan menjadi Inf.\n"
   ]
  },
  {
   "cell_type": "code",
   "execution_count": 17,
   "metadata": {},
   "outputs": [
    {
     "name": "stdout",
     "output_type": "stream",
     "text": [
      "D =\r\n",
      "\r\n",
      "   1   2   3\r\n",
      "   4   5   6\r\n",
      "\r\n"
     ]
    }
   ],
   "source": [
    "D = [1, 2, 3; 4, 5, 6]"
   ]
  },
  {
   "cell_type": "code",
   "execution_count": 18,
   "metadata": {},
   "outputs": [
    {
     "name": "stdout",
     "output_type": "stream",
     "text": [
      "ans =\r\n",
      "\r\n",
      "   1   4\r\n",
      "   2   5\r\n",
      "   3   6\r\n",
      "\r\n"
     ]
    }
   ],
   "source": [
    "D' %Transpos dari matriks "
   ]
  },
  {
   "cell_type": "code",
   "execution_count": 19,
   "metadata": {},
   "outputs": [
    {
     "name": "stdout",
     "output_type": "stream",
     "text": [
      "E =\r\n",
      "\r\n",
      "   1   2\r\n",
      "   5   7\r\n",
      "\r\n"
     ]
    }
   ],
   "source": [
    "E = [1, 2; 5, 7]"
   ]
  },
  {
   "cell_type": "code",
   "execution_count": 20,
   "metadata": {},
   "outputs": [
    {
     "name": "stdout",
     "output_type": "stream",
     "text": [
      "ans =\r\n",
      "\r\n",
      "  -2.3333   0.6667\r\n",
      "   1.6667  -0.3333\r\n",
      "\r\n"
     ]
    }
   ],
   "source": [
    "inv(E) %Invers dari matriks"
   ]
  },
  {
   "cell_type": "code",
   "execution_count": 21,
   "metadata": {},
   "outputs": [
    {
     "name": "stdout",
     "output_type": "stream",
     "text": [
      "F =\r\n",
      "\r\n",
      "   1   2\r\n",
      "   4   8\r\n",
      "\r\n"
     ]
    }
   ],
   "source": [
    "F = [1, 2; 4, 8]"
   ]
  },
  {
   "cell_type": "code",
   "execution_count": 22,
   "metadata": {},
   "outputs": [
    {
     "name": "stdout",
     "output_type": "stream",
     "text": [
      "warning: matrix singular to machine precision\r\n",
      "ans =\r\n",
      "\r\n",
      "   Inf   Inf\r\n",
      "   Inf   Inf\r\n",
      "\r\n"
     ]
    }
   ],
   "source": [
    "inv(F) %Contoh invers untuk matriks singular"
   ]
  },
  {
   "cell_type": "markdown",
   "metadata": {},
   "source": [
    "Octave juga mempunyai operator khusus, yaitu \\(\\\\\\). Operator ini adalah operator “pembagian” matriks. Pendefinisian untuk A \\\\ b ekuivalen dengan inv\\(A\\) \\* b. Operasi ini sangat berguna untuk penyelesaian sistem linear. Sebagai contoh, misalkan kita mempunyai sistem linear berikut:\n"
   ]
  },
  {
   "cell_type": "markdown",
   "metadata": {},
   "source": [
    "$$4x_1 - 2x_2 = 20$$\n",
    "$$-5x_1 - 5x_2 = -10$$"
   ]
  },
  {
   "cell_type": "markdown",
   "metadata": {},
   "source": [
    "Jika kita ubah dalam bentuk perkalian matriks $Ax=b$ (dengan penyelesaian $x = A^{-1} b$), diperoleh:\n"
   ]
  },
  {
   "cell_type": "markdown",
   "metadata": {},
   "source": [
    "$$A = \\begin{pmatrix}\n",
    "\t4 & -2 \\\\\n",
    "    -5 & -5\n",
    "\\end{pmatrix}$$\n",
    "\n",
    "$$x = \\begin{pmatrix}\n",
    "\tx_1 \\\\\n",
    "    x_2\n",
    "\\end{pmatrix}$$\n",
    "\n",
    "$$b = \\begin{pmatrix}\n",
    "\t20 \\\\\n",
    "    -10\n",
    "\\end{pmatrix}$$"
   ]
  },
  {
   "cell_type": "markdown",
   "metadata": {},
   "source": [
    "Jika dimasukkan ke Octave, kita akan memperoleh:\n"
   ]
  },
  {
   "cell_type": "code",
   "execution_count": 23,
   "metadata": {},
   "outputs": [
    {
     "name": "stdout",
     "output_type": "stream",
     "text": [
      "A =\r\n",
      "\r\n",
      "   4  -2\r\n",
      "  -5  -5\r\n",
      "\r\n"
     ]
    }
   ],
   "source": [
    "A = [4, -2; -5, -5]"
   ]
  },
  {
   "cell_type": "code",
   "execution_count": 24,
   "metadata": {},
   "outputs": [
    {
     "name": "stdout",
     "output_type": "stream",
     "text": [
      "b =\r\n",
      "\r\n",
      "   20\r\n",
      "  -10\r\n",
      "\r\n"
     ]
    }
   ],
   "source": [
    "b = [20; -10]"
   ]
  },
  {
   "cell_type": "code",
   "execution_count": 25,
   "metadata": {},
   "outputs": [
    {
     "name": "stdout",
     "output_type": "stream",
     "text": [
      "x =\r\n",
      "\r\n",
      "   4.0000\r\n",
      "  -2.0000\r\n",
      "\r\n"
     ]
    }
   ],
   "source": [
    "x = inv(A) * b"
   ]
  },
  {
   "cell_type": "code",
   "execution_count": 26,
   "metadata": {},
   "outputs": [
    {
     "name": "stdout",
     "output_type": "stream",
     "text": [
      "x =\r\n",
      "\r\n",
      "   4\r\n",
      "  -2\r\n",
      "\r\n"
     ]
    }
   ],
   "source": [
    "x = A \\ b"
   ]
  },
  {
   "cell_type": "markdown",
   "metadata": {},
   "source": [
    "Diproleh $x_1 = 4$ dan $x_2 = -2$."
   ]
  },
  {
   "cell_type": "markdown",
   "metadata": {},
   "source": [
    "### *Variable Editor*"
   ]
  },
  {
   "cell_type": "markdown",
   "metadata": {},
   "source": [
    "Sesuai namanya, Variable Editor digunakan untuk mengubah nilai dari suatu variabel. Untuk menggunakannya, double\\-click variabel yang ingin diubah pada workspace. Variabel tersebut akan muncul pada tab Variable Editor \\(atau tekan Ctrl\\+6\\).\n"
   ]
  },
  {
   "cell_type": "markdown",
   "metadata": {},
   "source": [
    "![](./pdnum1_Picture2.jpg)"
   ]
  },
  {
   "cell_type": "markdown",
   "metadata": {},
   "source": [
    "Antarmuka dari Variable Editor mirip seperti Excel, sehingga kalian bisa langsung mengubah nilai matriks yang ada dengan memilih kotak yang berisi elemen yang ingin diubah, lalu mengetik nilai yang baru.\n",
    "\n",
    "Jika kalian memberi nilai baru pada kotak kosong di Variable Editor, matriks tersebut akan mengalami perubahan bentuk, menyesuaikan dengan posisi elemen nilai baru tersebut.\n"
   ]
  },
  {
   "cell_type": "markdown",
   "metadata": {},
   "source": [
    "![](./pdnum1_Picture3.png)"
   ]
  },
  {
   "cell_type": "markdown",
   "metadata": {},
   "source": [
    "Pada gambar di atas, nilai baru dimasukkan pada baris 5 kolom 5, sehingga matriks tersebut berubah menjadi 5x5.\n",
    "\n",
    "Untuk menghapus suatu baris/kolom, klik kanan angka baris/kolom \\(atau pilih lebih dari satu baris/kolom dengan Ctrl/Shift\\), lalu klik Delete rows/Delete columns.\n"
   ]
  },
  {
   "cell_type": "markdown",
   "metadata": {},
   "source": [
    "![](pdnum1_Picture4.png)"
   ]
  },
  {
   "cell_type": "markdown",
   "metadata": {},
   "source": [
    "### *File* dan *Editor* untuk kode"
   ]
  },
  {
   "cell_type": "markdown",
   "metadata": {},
   "source": [
    "Sejauh ini, kita menggunakan command line untuk menjalankan kode. Namun, kalian juga bisa melakukan scripting seperti pemrograman pada umumnya dengan menggunakan Editor. Untuk memunculkan Editor, klik Tab Editor \\(atau tekan Ctrl\\+4\\).\n"
   ]
  },
  {
   "cell_type": "markdown",
   "metadata": {},
   "source": [
    "![](./pdnum1_Picture5.jpg)"
   ]
  },
  {
   "cell_type": "markdown",
   "metadata": {},
   "source": [
    "Untuk membuat file baru, klik New Script \\(ikon kertas\\). Kalian juga dapat membuka file .m \\(file MATLAB\\) yang tersimpan dengan double\\-click file tersebut di File Explorer pada Octave ataupun di Windows Explorer \\(atau /root atau lainnya\\).\n",
    "\n",
    "Script bekerja layaknya Bahasa pemrograman biasa. Kalian dapat menjalankan script yang telah dibuat dengan menekan F5 \\(jika file belum di\\-save, akan muncul kotak dialog untuk save\\). Output dari script tersebut akan muncul pada Command Window.\n",
    "\n",
    "Catatan: Jika kalian menggunakan Editor, disarankan mengubah layout dari Editor dan Command Window untuk mempermudah melihat output \\(tidak perlu ganti tab\\). Untuk memindahkan layout, klik dan drag tulisan Editor pada bagian atas jendela Editor ke tempat yang diinginkan. Contohnya seperti gambar berikut:\n"
   ]
  },
  {
   "cell_type": "markdown",
   "metadata": {},
   "source": [
    "![](./pdnum1_Picture6.jpg)"
   ]
  },
  {
   "cell_type": "markdown",
   "metadata": {},
   "source": [
    "## Pemrograman dan Fungsi\n",
    "\n"
   ]
  },
  {
   "cell_type": "markdown",
   "metadata": {},
   "source": [
    "### I/O"
   ]
  },
  {
   "cell_type": "markdown",
   "metadata": {},
   "source": [
    "Dalam pemrograman, seringkali pengguna diminta memberi suatu input, entah suatu nilai, string, dll., ke program, lalu program tersebut akan menggunakan input tersebut sebagai nilai dari suatu variabel. Hal ini juga dapat dilakukan pada Octave. Untuk membuat Octave meminta input dari user, gunakan syntax input\\(prompt\\), dengan prompt adalah string yang berisi pesan dalam input.\n"
   ]
  },
  {
   "cell_type": "code",
   "execution_count": 39,
   "metadata": {
    "cocalc": {
     "outputs": {
      "0": {
       "name": "input",
       "opts": {
        "password": false,
        "prompt": "Masukkan suatu angka: "
       },
       "output_type": "stream",
       "value": "135"
      }
     }
    }
   },
   "outputs": [
    {
     "name": "stdout",
     "output_type": "stream",
     "text": [
      "Masukkan suatu angka:  135"
     ]
    },
    {
     "data": {
      "text/plain": [
       "A = 135\n"
      ]
     },
     "execution_count": 39,
     "metadata": {},
     "output_type": "execute_result"
    }
   ],
   "source": [
    "A = input(\"Masukkan suatu angka: \")"
   ]
  },
  {
   "cell_type": "markdown",
   "metadata": {},
   "source": [
    "Jika tidak ingin membuat pesan input, cukup isi “” sebagai prompt.\n"
   ]
  },
  {
   "cell_type": "code",
   "execution_count": 40,
   "metadata": {
    "cocalc": {
     "outputs": {
      "0": {
       "name": "input",
       "opts": {
        "password": false,
        "prompt": ""
       },
       "output_type": "stream",
       "value": "100"
      }
     }
    }
   },
   "outputs": [
    {
     "name": "stdout",
     "output_type": "stream",
     "text": [
      " 100"
     ]
    },
    {
     "data": {
      "text/plain": [
       "A = 100\n"
      ]
     },
     "execution_count": 40,
     "metadata": {},
     "output_type": "execute_result"
    }
   ],
   "source": [
    "A = input(\"\")"
   ]
  },
  {
   "cell_type": "markdown",
   "metadata": {},
   "source": [
    "Perlu diketahui bahwa input yang diberikan pengguna akan dievaluasi sebagai ekspresi. Jadi, bisa saja input yang diberikan akan dievaluasi sebagai kode Octave \\(sebagaimana `eval(input(...))` pada Python\\). Sebagai contoh, jika kita memasukkan operasi bilangan pada input…\n",
    "\n"
   ]
  },
  {
   "cell_type": "code",
   "execution_count": 41,
   "metadata": {
    "cocalc": {
     "outputs": {
      "0": {
       "name": "input",
       "opts": {
        "password": false,
        "prompt": "Operasi bilangan: "
       },
       "output_type": "stream",
       "value": "2 + 3"
      }
     }
    }
   },
   "outputs": [
    {
     "name": "stdout",
     "output_type": "stream",
     "text": [
      "Operasi bilangan:  2 + 3"
     ]
    },
    {
     "data": {
      "text/plain": [
       "B = 5\n"
      ]
     },
     "execution_count": 41,
     "metadata": {},
     "output_type": "execute_result"
    }
   ],
   "source": [
    "B = input(\"Operasi bilangan: \")"
   ]
  },
  {
   "cell_type": "markdown",
   "metadata": {},
   "source": [
    "…, maka operasi tersebut akan dievaluasi dan memberikan hasil operasinya. Jika kita memasukkan kode Octave, seperti meng\\-assign suatu variabel…\n"
   ]
  },
  {
   "cell_type": "code",
   "execution_count": 42,
   "metadata": {
    "cocalc": {
     "outputs": {
      "0": {
       "name": "input",
       "opts": {
        "password": false,
        "prompt": "Assign variabel: "
       },
       "output_type": "stream",
       "value": "x = 25"
      }
     }
    }
   },
   "outputs": [
    {
     "name": "stdout",
     "output_type": "stream",
     "text": [
      "Assign variabel:  x = 25"
     ]
    },
    {
     "data": {
      "text/plain": [
       "C = 25\n"
      ]
     },
     "execution_count": 42,
     "metadata": {},
     "output_type": "execute_result"
    }
   ],
   "source": [
    "C = input(\"Assign variabel: \")"
   ]
  },
  {
   "cell_type": "markdown",
   "metadata": {},
   "source": [
    "…, maka nilai dari variabel yagn di\\-assign akan masuk ke variabel input…\n"
   ]
  },
  {
   "cell_type": "code",
   "execution_count": 43,
   "metadata": {},
   "outputs": [
    {
     "data": {
      "text/plain": [
       "x = 25\n"
      ]
     },
     "execution_count": 43,
     "metadata": {},
     "output_type": "execute_result"
    }
   ],
   "source": [
    "x"
   ]
  },
  {
   "cell_type": "markdown",
   "metadata": {},
   "source": [
    "… sekaligus variabel yang di\\-assign di dalam input. Jika kalian ingin agar input yang dimasukkan tidak dievaluasi, input tersebut dapat diubah terlebih dahulu menjadi string.\n"
   ]
  },
  {
   "cell_type": "code",
   "execution_count": 44,
   "metadata": {
    "cocalc": {
     "outputs": {
      "0": {
       "name": "input",
       "opts": {
        "password": false,
        "prompt": "Masukkan string: "
       },
       "output_type": "stream",
       "value": "\"x + 25\""
      }
     }
    }
   },
   "outputs": [
    {
     "name": "stdout",
     "output_type": "stream",
     "text": [
      "Masukkan string:  \"x + 25\""
     ]
    },
    {
     "data": {
      "text/plain": [
       "D = x + 25\n"
      ]
     },
     "execution_count": 44,
     "metadata": {},
     "output_type": "execute_result"
    }
   ],
   "source": [
    "D = input(\"Masukkan string: \")"
   ]
  },
  {
   "cell_type": "code",
   "execution_count": 45,
   "metadata": {},
   "outputs": [
    {
     "data": {
      "text/plain": [
       "ans = string\n"
      ]
     },
     "execution_count": 45,
     "metadata": {},
     "output_type": "execute_result"
    }
   ],
   "source": [
    "typeinfo(D) % untuk menanyakan tipe data variabel"
   ]
  },
  {
   "cell_type": "markdown",
   "metadata": {},
   "source": [
    "Ternyata tipe data string, sesuai yang kita harapkan.\n"
   ]
  },
  {
   "cell_type": "markdown",
   "metadata": {},
   "source": [
    "Cara lain, bisa juga dengan menambah argumen pada input\\(\\) menjadi input\\(prompt, “s”\\). Jika menambahkan argumen, maka apapun input yang kalian masukkan akan menjadi string tanpa perlu menggunakan tanda petik.\n"
   ]
  },
  {
   "cell_type": "code",
   "execution_count": 46,
   "metadata": {
    "cocalc": {
     "outputs": {
      "0": {
       "name": "input",
       "opts": {
        "password": false,
        "prompt": "Masukkan string: "
       },
       "output_type": "stream",
       "value": "x + 25"
      }
     }
    }
   },
   "outputs": [
    {
     "name": "stdout",
     "output_type": "stream",
     "text": [
      "Masukkan string:  x + 25"
     ]
    },
    {
     "data": {
      "text/plain": [
       "E = x + 25\n"
      ]
     },
     "execution_count": 46,
     "metadata": {},
     "output_type": "execute_result"
    }
   ],
   "source": [
    "E = input(\"Masukkan string: \", \"s\")"
   ]
  },
  {
   "cell_type": "code",
   "execution_count": 47,
   "metadata": {},
   "outputs": [
    {
     "data": {
      "text/plain": [
       "ans = sq_string\n"
      ]
     },
     "execution_count": 47,
     "metadata": {},
     "output_type": "execute_result"
    }
   ],
   "source": [
    "typeinfo(E)"
   ]
  },
  {
   "cell_type": "markdown",
   "metadata": {},
   "source": [
    "Note: Syntax input\\(\\) sebaiknya digunakan sebagai nilai dari suatu variabel.\n",
    "\n",
    "Selain menggunakan input\\(\\), kita juga bisa menggunakan syntax menu\\(title, op1, op2, ...\\). Syntax tersebut akan memunculkan kotak dialog dengan judul title dan pilihan op1, op2, dst. \\(sesuai yang dimasukkan\\). Syntax ini sangat berguna untuk program-program interaktif karena mempunyai GUI sendiri.\n"
   ]
  },
  {
   "cell_type": "markdown",
   "metadata": {},
   "source": [
    "```octave\n",
    "F = menu(\"Pilih buah favorit.\", \"Apel\", \"Jeruk\", \"Pisang\")\n",
    "```"
   ]
  },
  {
   "cell_type": "markdown",
   "metadata": {},
   "source": [
    "![](./pdnum1_Picture7.png)"
   ]
  },
  {
   "cell_type": "markdown",
   "metadata": {},
   "source": [
    "```octave\n",
    "F = 1\n",
    "```"
   ]
  },
  {
   "cell_type": "markdown",
   "metadata": {},
   "source": [
    "Tergantung pilihan kalian, variabel yang mengandung menu\\(\\) akan diisi bilangan dari 1 hingga n tergantung banyaknya pilihan. Dalam contoh di atas, pilihan “Apel” akan memberi nilai 1, “Jeruk” akan memberi nilai 2, dan “Pisang” akan memberi nilai 3. Jika kalian memilih Cancel atau membuat pilihan yang tidak valid, maka variabelnya akan diberi nilai 0.\n",
    "\n"
   ]
  },
  {
   "cell_type": "markdown",
   "metadata": {},
   "source": [
    "Untuk output, mungkin cukup untuk memanggil variabel itu sendiri, seperti...\n"
   ]
  },
  {
   "cell_type": "code",
   "execution_count": 49,
   "metadata": {},
   "outputs": [
    {
     "data": {
      "text/plain": [
       "C = 25\n"
      ]
     },
     "execution_count": 49,
     "metadata": {},
     "output_type": "execute_result"
    }
   ],
   "source": [
    "C"
   ]
  },
  {
   "cell_type": "markdown",
   "metadata": {},
   "source": [
    "..., namun kalian juga bisa hanya memunculkan nilai dari variabelnya tanpa sekaligus memunculkan variabel tersebut dengan menggunakan syntax disp\\(\\). Syntax ini digunakan jika yang di\\-output hanya suatu variabel atau string simpel, dll.\n"
   ]
  },
  {
   "cell_type": "code",
   "execution_count": 50,
   "metadata": {},
   "outputs": [
    {
     "name": "stdout",
     "output_type": "stream",
     "text": [
      "25\n"
     ]
    }
   ],
   "source": [
    "disp(C)"
   ]
  },
  {
   "cell_type": "code",
   "execution_count": 51,
   "metadata": {},
   "outputs": [
    {
     "name": "stdout",
     "output_type": "stream",
     "text": [
      "Simple string\n"
     ]
    }
   ],
   "source": [
    "disp(\"Simple string\")"
   ]
  },
  {
   "cell_type": "markdown",
   "metadata": {},
   "source": [
    "Jika yang ingin dimunculkan adalah pesan yang membutuhkan banyak formatting, kalian bisa menggunakan syntax printf\\(\\). Syntax tersebut dapat melakukan formatting pesan agar dapat menerima variabel selain string.\n",
    "\n",
    "Note: Gunakan \\\\n pada akhir string di printf\\(\\) agar program memasukkan “Enter”.\n"
   ]
  },
  {
   "cell_type": "code",
   "execution_count": 53,
   "metadata": {
    "cocalc": {
     "outputs": {
      "0": {
       "name": "input",
       "opts": {
        "password": false,
        "prompt": "Masukkan angka: "
       },
       "output_type": "stream",
       "value": "25"
      }
     }
    }
   },
   "outputs": [
    {
     "name": "stdout",
     "output_type": "stream",
     "text": [
      "Masukkan angka:  25Anda memasukkan angka 25\n"
     ]
    }
   ],
   "source": [
    "x = input(\"Masukkan angka: \"); printf(\"Anda memasukkan angka %d\\n\", x)"
   ]
  },
  {
   "cell_type": "markdown",
   "metadata": {},
   "source": [
    "Pada contoh di atas, kita ingin agar variabel x dapat di\\-output bersama dengan pesan string. Kita menggunakan %d agar nilai x dapat di\\-print sebagai bilangan desimal. Jika variabelnya berisi string, maka gunakan %s. Jika variabelnya berisi float, gunakan %f untuk print dalam bentuk desimal, atau %.nf untuk sekaligus mengatur angka di belakang koma sebanyak n.\n"
   ]
  },
  {
   "cell_type": "code",
   "execution_count": 55,
   "metadata": {},
   "outputs": [
    {
     "name": "stdout",
     "output_type": "stream",
     "text": [
      "pi = 3.141593\n"
     ]
    }
   ],
   "source": [
    "printf(\"pi = %f\\n\", pi)"
   ]
  },
  {
   "cell_type": "code",
   "execution_count": 56,
   "metadata": {},
   "outputs": [
    {
     "name": "stdout",
     "output_type": "stream",
     "text": [
      "pi = 3.141592653590\n"
     ]
    }
   ],
   "source": [
    "printf(\"pi = %.12f\\n\", pi)"
   ]
  },
  {
   "cell_type": "markdown",
   "metadata": {},
   "source": [
    "Jika float tersebut ingin di\\-print dalam notasi saintifik, gunakan %e atau %E. Keduanya hanya berbeda di hasil output yang berupa E \\(besar\\) ataupun e \\(kecil\\).\n"
   ]
  },
  {
   "cell_type": "code",
   "execution_count": 57,
   "metadata": {},
   "outputs": [
    {
     "name": "stdout",
     "output_type": "stream",
     "text": [
      "euler = 2.718282e+00\n"
     ]
    }
   ],
   "source": [
    "printf(\"euler = %e\\n\", e)"
   ]
  },
  {
   "cell_type": "code",
   "execution_count": 58,
   "metadata": {},
   "outputs": [
    {
     "name": "stdout",
     "output_type": "stream",
     "text": [
      "euler = 2.718282E+00\n"
     ]
    }
   ],
   "source": [
    "printf(\"euler = %E\\n\", e)"
   ]
  },
  {
   "cell_type": "markdown",
   "metadata": {},
   "source": [
    "Jika ingin print karakter persen itu sendiri \\(%\\), gunakan %%.\n",
    "\n",
    "Jika ada lebih dari satu formatting di satu printf\\(\\), maka variabelnya juga harus dimasukkan secara berurutan.\n",
    "\n"
   ]
  },
  {
   "cell_type": "code",
   "execution_count": 63,
   "metadata": {
    "cocalc": {
     "outputs": {
      "0": {
       "name": "input",
       "opts": {
        "password": false,
        "prompt": "Masukkan nama: "
       },
       "output_type": "stream",
       "value": "Burden"
      }
     }
    }
   },
   "outputs": [
    {
     "name": "stdout",
     "output_type": "stream",
     "text": [
      "Masukkan nama:  Burden"
     ]
    }
   ],
   "source": [
    "nama = input(\"Masukkan nama: \", \"s\");"
   ]
  },
  {
   "cell_type": "code",
   "execution_count": 64,
   "metadata": {
    "cocalc": {
     "outputs": {
      "0": {
       "name": "input",
       "opts": {
        "password": false,
        "prompt": "Minuman favorit: "
       },
       "output_type": "stream",
       "value": "Kopi"
      }
     }
    }
   },
   "outputs": [
    {
     "name": "stdout",
     "output_type": "stream",
     "text": [
      "Minuman favorit:  Kopi"
     ]
    }
   ],
   "source": [
    "minuman_fav = input(\"Minuman favorit: \", \"s\");"
   ]
  },
  {
   "cell_type": "code",
   "execution_count": 69,
   "metadata": {
    "cocalc": {
     "outputs": {
      "0": {
       "name": "input",
       "opts": {
        "password": false,
        "prompt": "Harga Kopi: "
       },
       "output_type": "stream",
       "value": "25000"
      }
     }
    }
   },
   "outputs": [
    {
     "name": "stdout",
     "output_type": "stream",
     "text": [
      "Harga Kopi:  25000"
     ]
    }
   ],
   "source": [
    "harga = input([\"Harga \" minuman_fav \": \"]);"
   ]
  },
  {
   "cell_type": "code",
   "execution_count": 71,
   "metadata": {},
   "outputs": [
    {
     "name": "stdout",
     "output_type": "stream",
     "text": [
      "Burden suka Kopi seharga Rp25000"
     ]
    }
   ],
   "source": [
    "printf(\"%s suka %s seharga Rp%d\", nama, minuman_fav, harga);"
   ]
  },
  {
   "cell_type": "markdown",
   "metadata": {},
   "source": [
    "### Struktur Bersyarat: If-Else-Elseif, Switch-Case\n",
    "\n"
   ]
  },
  {
   "cell_type": "markdown",
   "metadata": {},
   "source": [
    "Seperti halnya bahas pemrograman, Octave pun juga memiliki conditional statements \\(pernyataan kondisional, pernyataan bersyarat, atau struktur bersyarat\\). Secara umum, conditional statement pada Octave berbentuk:\n"
   ]
  },
  {
   "cell_type": "markdown",
   "metadata": {},
   "source": [
    "```default\n",
    "cond\n",
    "  body\n",
    "endcond\n",
    "```"
   ]
  },
  {
   "cell_type": "markdown",
   "metadata": {},
   "source": [
    "Pada potongan kode di atas, cond adalah jenis conditional statement yagn digunakan, bisa berupa if, for, dan lainnya, body berisi kode yang dijalankan ketika cond terpenuhi, dan endcond adalah bagian penutup dari conditional statement, bisa berupa endif, endfor, dan lainnya tergantung cond apa yang digunakan.\n",
    "\n",
    "Operasi dasar yang digunakan pada conditional statements adalah operasi perbandingan, dimana pada dasarnya, dua atau lebih nilai dibandingkan dengan operator dan dicek apakah memenuhi atau tidak. Jika memenuhi, maka nilainya 1, dan jika tidak, maka nilainya 0. Ada 6 operator dasar untuk perbandingan:\n"
   ]
  },
  {
   "cell_type": "markdown",
   "metadata": {},
   "source": [
    "* sama dengan (==)\n",
    "* lebih dari (>)\n",
    "* kurang dari (<)\n",
    "* lebih dari atau sama dengan (>=)\n",
    "* kurang dari atau sama dengan (<=)\n",
    "* tidak sama dengan (!= atau ~=)\n"
   ]
  },
  {
   "cell_type": "code",
   "execution_count": 72,
   "metadata": {},
   "outputs": [
    {
     "data": {
      "text/plain": [
       "ans = 1\n"
      ]
     },
     "execution_count": 72,
     "metadata": {},
     "output_type": "execute_result"
    }
   ],
   "source": [
    "2 < 3"
   ]
  },
  {
   "cell_type": "code",
   "execution_count": 73,
   "metadata": {},
   "outputs": [
    {
     "data": {
      "text/plain": [
       "ans = 0\n"
      ]
     },
     "execution_count": 73,
     "metadata": {},
     "output_type": "execute_result"
    }
   ],
   "source": [
    "4 == 5"
   ]
  },
  {
   "cell_type": "markdown",
   "metadata": {},
   "source": [
    "Selain operator di atas, ada juga syntax untuk perbandingan:\n",
    "\n",
    "* isequal(a, b, c, ...)\n",
    "\n",
    "    mengecek apakah a, b, dan c semuanya sama.\n",
    "\n",
    "* strcmp(s1, s2)\n",
    "\n",
    "    mengecek apakah s1 dan s2 adalah string yang sama.\n",
    "\n",
    "* strncmp(s1, s2, n)\n",
    "\n",
    "    mengecek apakah n karakter pertama pada s1 dan s2 sama.\n",
    "\n",
    "* strcmpi(s1, s2)\n",
    "\n",
    "    mirip strcmp(), namun tidak case-sensitive.\n",
    "\n",
    "* strncmpi(s1, s2, n)\n",
    "\n",
    "    mirip strncmp(), namun tidak case-sensitive.\n"
   ]
  },
  {
   "cell_type": "code",
   "execution_count": 74,
   "metadata": {},
   "outputs": [
    {
     "data": {
      "text/plain": [
       "ans = 0\n"
      ]
     },
     "execution_count": 74,
     "metadata": {},
     "output_type": "execute_result"
    }
   ],
   "source": [
    "isequal(1, 3, 5)"
   ]
  },
  {
   "cell_type": "code",
   "execution_count": 75,
   "metadata": {},
   "outputs": [
    {
     "data": {
      "text/plain": [
       "ans = 0\n"
      ]
     },
     "execution_count": 75,
     "metadata": {},
     "output_type": "execute_result"
    }
   ],
   "source": [
    "strcmp(\"ayam\", \"Ayam\")"
   ]
  },
  {
   "cell_type": "code",
   "execution_count": 76,
   "metadata": {},
   "outputs": [
    {
     "data": {
      "text/plain": [
       "ans = 1\n"
      ]
     },
     "execution_count": 76,
     "metadata": {},
     "output_type": "execute_result"
    }
   ],
   "source": [
    "strcmpi(\"ayam\", \"Ayam\")"
   ]
  },
  {
   "cell_type": "code",
   "execution_count": 77,
   "metadata": {},
   "outputs": [
    {
     "data": {
      "text/plain": [
       "ans = 1\n"
      ]
     },
     "execution_count": 77,
     "metadata": {},
     "output_type": "execute_result"
    }
   ],
   "source": [
    "strncmp(\"sayamakan\", \"saya makan\", 4)"
   ]
  },
  {
   "cell_type": "markdown",
   "metadata": {},
   "source": [
    "Berikut beberapa jenis conditional statement pada Octave. Kode\\-kode ini akan ditulis di editor dan output akan dipisahkan oleh &gt;&gt;\n"
   ]
  },
  {
   "cell_type": "markdown",
   "metadata": {},
   "source": [
    "#### If, Elseif, Else\n",
    "\n"
   ]
  },
  {
   "cell_type": "markdown",
   "metadata": {},
   "source": [
    "If adalah conditional statement dasar dalam decision\\-making melalui perbandingan nilai. If memiliki 3 bentuk. Bentuk pertama:\n",
    "\n",
    "```\n",
    "if (cond)\n",
    "  body\n",
    "endif\n",
    "```"
   ]
  },
  {
   "cell_type": "markdown",
   "metadata": {},
   "source": [
    "Bentuk ini adalah bentuk paling simpel dalam menggunakan if. Jika cond bernilai 1, maka body dieksekusi, dan sebaliknya. Contoh:\n"
   ]
  },
  {
   "cell_type": "code",
   "execution_count": 80,
   "metadata": {
    "cocalc": {
     "outputs": {
      "0": {
       "name": "input",
       "opts": {
        "password": false,
        "prompt": "Masukkan nilai x: "
       },
       "output_type": "stream",
       "value": "25"
      }
     }
    }
   },
   "outputs": [
    {
     "name": "stdout",
     "output_type": "stream",
     "text": [
      "Masukkan nilai x:  2525 adalah bilangan positif\n"
     ]
    }
   ],
   "source": [
    "x = input(\"Masukkan nilai x: \");\n",
    "if (x > 0)\n",
    "  printf(\"%d adalah bilangan positif\\n\", x);\n",
    "endif"
   ]
  },
  {
   "cell_type": "markdown",
   "metadata": {},
   "source": [
    "Seringkali if dipasangkan dengan else. Untuk itu, cukup menyelipkan bagian else layaknya if, sehingga menjadi:\n",
    "\n",
    "```\n",
    "if (cond)\n",
    "  body1;\n",
    "else\n",
    "  body2;\n",
    "endif\n",
    "```"
   ]
  },
  {
   "cell_type": "markdown",
   "metadata": {},
   "source": [
    "Contoh:\n"
   ]
  },
  {
   "cell_type": "code",
   "execution_count": 82,
   "metadata": {
    "cocalc": {
     "outputs": {
      "0": {
       "name": "input",
       "opts": {
        "password": false,
        "prompt": "Masukkan x: "
       },
       "output_type": "stream",
       "value": "5"
      }
     }
    }
   },
   "outputs": [
    {
     "name": "stdout",
     "output_type": "stream",
     "text": [
      "Masukkan x:  5x ganjil\n"
     ]
    }
   ],
   "source": [
    "x = input(\"Masukkan x: \");\n",
    "if mod(x, 2) == 0\n",
    "  printf(\"x genap\\n\");\n",
    "else\n",
    "  printf(\"x ganjil\\n\");\n",
    "endif"
   ]
  },
  {
   "cell_type": "markdown",
   "metadata": {},
   "source": [
    "Kita pun juga dapat membuat lebih dari 2 condition selain if dan else. Cukup tambahkan bagian elseif. Kita dapat menambahkan berapapun banyaknya elseif sesuka hati, selama bagian akhirnya adalah else.\n",
    "\n",
    "```\n",
    "if (cond1)\n",
    "  body1;\n",
    "elseif (cond2)\n",
    "  body2;\n",
    "else\n",
    "  body3;\n",
    "endif\n",
    "```"
   ]
  },
  {
   "cell_type": "markdown",
   "metadata": {},
   "source": [
    "#### Switch-Case"
   ]
  },
  {
   "cell_type": "markdown",
   "metadata": {},
   "source": [
    "Untuk beberapa kasus, sudah jelas jika kita menggunakan model kode seperti di atas. Namun, terkadang kita ingin membuat program berjalan sesuai input, dan jika menggunakan if\\-else, kodenya akan terlihat jelek. Maka, kita juga bisa menggantinya dengan kode switch. Bentuk umum dari switch adalah:\n",
    "\n",
    "```\n",
    "switch (var)\n",
    "  case nilai1\n",
    "    body1;\n",
    "  case nilai2\n",
    "    body2;\n",
    "  otherwise\n",
    "    body3;\n",
    "endswitch\n",
    "```"
   ]
  },
  {
   "cell_type": "markdown",
   "metadata": {},
   "source": [
    "Pada kode di atas, var akan dicocokkan dengan nilai1, nilai2, dst. yang sesuai. Jika tidak ada yang sesuai, kode akan masuk ke bagian otherwise. Layaknya elseif, kita juga dapat menambahkan berapapun banyaknya case sesuka hati, selama terdapat paling tidak satu case \\(bahkan bagian otherwise opsional\\).\n"
   ]
  },
  {
   "cell_type": "markdown",
   "metadata": {},
   "source": [
    "Contoh:\n"
   ]
  },
  {
   "cell_type": "code",
   "execution_count": 85,
   "metadata": {
    "cocalc": {
     "outputs": {
      "0": {
       "name": "input",
       "opts": {
        "password": false,
        "prompt": "Masukkan pilihan warna (1-4): "
       },
       "output_type": "stream",
       "value": "4"
      }
     }
    }
   },
   "outputs": [
    {
     "name": "stdout",
     "output_type": "stream",
     "text": [
      "Masukkan pilihan warna (1-4):  4Warna kuning"
     ]
    }
   ],
   "source": [
    "pilihan = input(\"Masukkan pilihan warna (1-4): \");\n",
    "switch (pilihan)\n",
    "  case 1\n",
    "    printf(\"Warna merah\")\n",
    "  case 2\n",
    "    printf(\"Warna hijau\")\n",
    "  case 3\n",
    "    printf(\"Warna biru\")\n",
    "  case 4\n",
    "    printf(\"Warna kuning\")\n",
    "  otherwise\n",
    "    printf(\"Input tidak valid\")\n",
    "endswitch"
   ]
  },
  {
   "cell_type": "markdown",
   "metadata": {},
   "source": [
    "Jika case berisi array, kode akan masuk case tersebut jika var sesuai dengan salah satu elemen di array tersebut.\n"
   ]
  },
  {
   "cell_type": "markdown",
   "metadata": {},
   "source": [
    "### Struktur Berulang: For, While-Do, Do-Until\n",
    "\n"
   ]
  },
  {
   "cell_type": "markdown",
   "metadata": {},
   "source": [
    "#### For Loop"
   ]
  },
  {
   "cell_type": "markdown",
   "metadata": {},
   "source": [
    "Bentuk umum dari for adalah:\n",
    "\n",
    "```\n",
    "for var = expr\n",
    "  body;\n",
    "endfor\n",
    "```"
   ]
  },
  {
   "cell_type": "markdown",
   "metadata": {},
   "source": [
    "Biasanya isi dari expr adalah a:b, yang menyebabkan var diiterasi dari a hingga b. Secara umum, for akan meng\\-assign tiap kolom pada expr ke var \\(bentuk range a:b secara umum adalah vektor baris, sehingga iterasi kolom pada a:b adalah dari a hingga b\\). Contoh:\n"
   ]
  },
  {
   "cell_type": "code",
   "execution_count": 86,
   "metadata": {},
   "outputs": [
    {
     "name": "stdout",
     "output_type": "stream",
     "text": [
      "    1    1    2    3    5    8   13   21   34   55\n"
     ]
    }
   ],
   "source": [
    "fib = ones(1, 10); % matriks 1x10 berisi nilai 1 semua\n",
    "for i = 3:10\n",
    "  fib(i) = fib(i-1) + fib(i-2);\n",
    "endfor\n",
    "disp(fib)"
   ]
  },
  {
   "cell_type": "markdown",
   "metadata": {},
   "source": [
    "Karena iterasinya antar kolom, maka jika expr adalah suatu matriks, maka var akan diiterasi sebagai vektor kolom.\n",
    "\n"
   ]
  },
  {
   "cell_type": "code",
   "execution_count": 87,
   "metadata": {},
   "outputs": [
    {
     "name": "stdout",
     "output_type": "stream",
     "text": [
      "   1\n",
      "   4\n",
      "   7\n",
      "   2\n",
      "   5\n",
      "   8\n",
      "   3\n",
      "   6\n",
      "   9\n"
     ]
    }
   ],
   "source": [
    "for i = [1, 2, 3; 4, 5, 6; 7, 8, 9]\n",
    "  disp(i)\n",
    "endfor"
   ]
  },
  {
   "cell_type": "markdown",
   "metadata": {},
   "source": [
    "#### While Loop"
   ]
  },
  {
   "cell_type": "markdown",
   "metadata": {},
   "source": [
    "Bentuk umum dari while adalah:\n",
    "\n",
    "```\n",
    "while (cond)\n",
    "  body;\n",
    "endwhile\n",
    "```"
   ]
  },
  {
   "cell_type": "markdown",
   "metadata": {},
   "source": [
    "Serupa dengan if, while akan menjalankan body jika cond bernilai taknol. Namun, akan diulang terus hingga cond bernilai nol, baru berhenti.\n",
    "\n",
    "Contoh:\n"
   ]
  },
  {
   "cell_type": "code",
   "execution_count": 88,
   "metadata": {},
   "outputs": [
    {
     "name": "stdout",
     "output_type": "stream",
     "text": [
      "    1    1    2    3    5    8   13   21   34   55\n"
     ]
    }
   ],
   "source": [
    "fib = ones(1, 10);\n",
    "i = 3;\n",
    "while (i <= 10)\n",
    "  fib(i) = fib(i-1) + fib(i-2);\n",
    "  i++;\n",
    "endwhile\n",
    "disp(fib)"
   ]
  },
  {
   "cell_type": "markdown",
   "metadata": {},
   "source": [
    "Pada contoh di atas, penting untuk memasukkan bagian i\\+\\+ agar suatu saat nilai i akan lebih dari 10. Hati\\-hati menggunakan while, karena dapat mengakibatkan infinite loop.\n"
   ]
  },
  {
   "cell_type": "markdown",
   "metadata": {},
   "source": [
    "#### Do-Until"
   ]
  },
  {
   "cell_type": "markdown",
   "metadata": {},
   "source": [
    "Bentuk umum dari do\\-until adalah:\n",
    "\n",
    "```\n",
    "do\n",
    "  body\n",
    "until (cond)\n",
    "```"
   ]
  },
  {
   "cell_type": "markdown",
   "metadata": {},
   "source": [
    "Sekilas, do terlihat serupa dengan while. Yang membedakannya adalah do akan terus menjalankan body ketika cond bernilai 0 dan berhenti ketika cond bernilai taknol. Kondisi cond pada do juga berada di akhir, sehingga body pasti akan dijalankan paling tidak sekali. Perbedaan kecil selanjutnya adalah do tidak memakai enddo seperti layaknya endif, endwhile, dan sejenisnya.\n",
    "\n",
    "Contoh:\n"
   ]
  },
  {
   "cell_type": "code",
   "execution_count": 3,
   "metadata": {},
   "outputs": [
    {
     "name": "stdout",
     "output_type": "stream",
     "text": [
      "    1    1    2    3    5    8   13   21   34   55\n"
     ]
    }
   ],
   "source": [
    "fib = ones(1, 10);\n",
    "i = 2;\n",
    "do\n",
    "  i++;\n",
    "  fib(i) = fib(i-1) + fib(i-2);\n",
    "until (i == 10)\n",
    "disp(fib)"
   ]
  },
  {
   "cell_type": "markdown",
   "metadata": {},
   "source": [
    "#### Break, Continue"
   ]
  },
  {
   "cell_type": "markdown",
   "metadata": {},
   "source": [
    "break dan continue adalah dua statement yang digunakan dan hanya digunakan dalam loop. Statement break akan langsung mengeluarkan program dari loop, sedangkan continue akan langsung menuju iterasi selanjutnya tanpa menyelesaikan sisa kode pada badan loop.\n",
    "\n",
    "Contoh perbedaan break dan continue:\n"
   ]
  },
  {
   "cell_type": "code",
   "execution_count": 4,
   "metadata": {},
   "outputs": [
    {
     "name": "stdout",
     "output_type": "stream",
     "text": [
      "   1   2   3   4\n"
     ]
    }
   ],
   "source": [
    "a = [];\n",
    "for i = 1:10\n",
    "  if mod(i, 5) == 0\n",
    "    break;\n",
    "  endif\n",
    "  a = [a, i];\n",
    "endfor\n",
    "disp(a)"
   ]
  },
  {
   "cell_type": "code",
   "execution_count": 5,
   "metadata": {},
   "outputs": [
    {
     "name": "stdout",
     "output_type": "stream",
     "text": [
      "   1   2   3   4   6   7   8   9\n"
     ]
    }
   ],
   "source": [
    "a = [];\n",
    "for i = 1:10\n",
    "  if mod(i, 5) == 0\n",
    "    continue;\n",
    "  endif\n",
    "  a = [a, i];\n",
    "endfor\n",
    "disp(a)"
   ]
  },
  {
   "cell_type": "markdown",
   "metadata": {},
   "source": [
    "## *Function File* dan *Script File*"
   ]
  },
  {
   "cell_type": "markdown",
   "metadata": {},
   "source": [
    "Sebelum kita lanjutkan, kita harus terlebih dahulu mengetahui tentang function file dan script file.\n",
    "\n",
    "Function file adalah file yang dapat digunakan oleh Octave untuk memanggil fungsi yang telah didefinisikan di dalamnya. Function file ini berguna jika kalian ingin menggunakan fungsi tersebut secara berkala.\n",
    "\n",
    "Script file adalah file yang berisi kumpulan perintah Octave, layaknya script pemrograman. Script file berguna untuk pemrograman dan menjalankan/menyimpan suatu urutan perintah, sehingga bisa dijalankan kembali nantinya. Untuk selanjutnya, script file akan disebut “program”.\n",
    "\n",
    "Permasalahannya, kedua jenis file tersebut mempunyai ekstensi yang serupa \\(.m\\), namun function file tidak dapat dijalankan layaknya program.\n",
    "\n",
    "Misal kita mempunyai fungsi yang ingin disimpan dalam program bernama testfile.m \\(untuk sekarang kita akan abaikan dulu maksud dari tiap bagian dari fungsi ini. Intinya fungsi ini akan menampilkan variabel message yang kita masukkan.\n"
   ]
  },
  {
   "cell_type": "code",
   "execution_count": 35,
   "metadata": {},
   "outputs": [
    {
     "name": "stdout",
     "output_type": "stream",
     "text": [
      "PDNum\r\n"
     ]
    }
   ],
   "source": [
    "function test(message)\n",
    "  printf(\"%s\\n\", message);\n",
    "endfunction\n",
    "\n",
    "test(\"PDNum\");"
   ]
  },
  {
   "cell_type": "markdown",
   "metadata": {},
   "source": [
    "Jika program tersebut dijalankan, akan muncul pesan peringatan...\n",
    "\n",
    "`warning: function name 'test' does not agree with function filename...`"
   ]
  },
  {
   "cell_type": "markdown",
   "metadata": {},
   "source": [
    "…dan mungkin saja akan diikuti error lain. Jika kalian ingin membuat program, jangan gunakan function di line pertama yang dieksekusi.\n",
    "\n",
    "Sekarang kita modifikasi testfile.m di atas.\n"
   ]
  },
  {
   "cell_type": "code",
   "execution_count": 30,
   "metadata": {},
   "outputs": [
    {
     "name": "stdout",
     "output_type": "stream",
     "text": [
      "PDNum\r\n"
     ]
    }
   ],
   "source": [
    "1;\n",
    "function test(message)\n",
    "  printf(\"%s\\n\", message);\n",
    "endfunction\n",
    "\n",
    "test(\"PDNum\");"
   ]
  },
  {
   "cell_type": "markdown",
   "metadata": {},
   "source": [
    "Di sini, kita menambahkan line yang tidak berpengaruh apa\\-apa dalam program kita sebelum line pendefinisian fungsi. Untuk membedakan function file dengan program, Octave mengecek perintah pertama yang dieksekusi. Jika perintah tersebut adalah pendefinisian fungsi, maka file tersebut akan dianggap sebagai function file, dan jika bukan, maka file tersebut akan dianggap sebagai program.\n",
    "\n",
    "Sekarang kita masuk ke fungsi, pendefinisian, dan embel\\-embelnya. Fungsi adalah suatu bagian dari program yang nantinya akan dipanggil. Fungsi sangat berguna jika bagian program tersebut nantinya akan digunakan berkali\\-kali. Fungsi juga berguna agar pengorganisasian kode program lebih bagus. Syntax untuk pendefinisian fungsi adalah:\n",
    "\n",
    "```\n",
    "function name\n",
    "  body\n",
    "endfunction\n",
    "```"
   ]
  },
  {
   "cell_type": "markdown",
   "metadata": {},
   "source": [
    "Potongan kode di atas akan membuat fungsi name dengan body adalah isi dari fungsi tersebut. Untuk memanggil fungsi tersebut, cukup dengan memanggil name. Contoh:\n"
   ]
  },
  {
   "cell_type": "code",
   "execution_count": 31,
   "metadata": {},
   "outputs": [
    {
     "name": "stdout",
     "output_type": "stream",
     "text": [
      "BANGUN!!!\r\n"
     ]
    }
   ],
   "source": [
    "function bangun\n",
    "  printf(\"BANGUN!!!\\n\");\n",
    "endfunction\n",
    "\n",
    "bangun;"
   ]
  },
  {
   "cell_type": "markdown",
   "metadata": {},
   "source": [
    "Kalian juga bisa menambahkan argumen \\(biasanya berupa variabel\\), ke fungsinya.\n"
   ]
  },
  {
   "cell_type": "code",
   "execution_count": 32,
   "metadata": {},
   "outputs": [
    {
     "name": "stdout",
     "output_type": "stream",
     "text": [
      "BANGUN WOY!!!\r\n"
     ]
    }
   ],
   "source": [
    "function bangun(message)\n",
    "  printf(\"%s\\n\", message);\n",
    "endfunction\n",
    "\n",
    "bangun(\"BANGUN WOY!!!\");"
   ]
  },
  {
   "cell_type": "markdown",
   "metadata": {},
   "source": [
    "Pada kedua contoh di atas, fungsinya tidak benar\\-benar memberikan suatu value, melainkan hanya sekedar output. Dalam kebanyakan kasus, kita menggunakan fungsi agar bisa mendapatkan suatu nilai yang dapat di\\-assign ke suatu variabel. Agar kita bisa mendapatkan value, maka kita harus meng\\-assign variabel untuk return. Strukturnya menjadi:\n",
    "\n",
    "```\n",
    "function retval = name (args)\n",
    "  body\n",
    "endfunction\n",
    "```\n",
    "\n"
   ]
  },
  {
   "cell_type": "markdown",
   "metadata": {},
   "source": [
    "retval adalah variabel lokal \\(namanya tidak harus retval\\) yang akan digunakan sebagai return value sehingga dapat di\\-assign. retval bisa berupa variabel, jika kita ingin me\\-return satu value, ataupun bisa berupa list dari variabel jika ingin me\\-return lebih dari satu value.\n",
    "\n",
    "Contoh return satu nilai:\n"
   ]
  },
  {
   "cell_type": "code",
   "execution_count": 33,
   "metadata": {},
   "outputs": [
    {
     "name": "stdout",
     "output_type": "stream",
     "text": [
      "25\r\n"
     ]
    }
   ],
   "source": [
    "function x = kuadratkan(a)\n",
    "  x = a^2;\n",
    "endfunction\n",
    "\n",
    "y = kuadratkan(5);\n",
    "disp(y);"
   ]
  },
  {
   "cell_type": "markdown",
   "metadata": {},
   "source": [
    "Contoh return lebih dari satu nilai:\n"
   ]
  },
  {
   "cell_type": "code",
   "execution_count": 39,
   "metadata": {},
   "outputs": [
    {
     "name": "stdout",
     "output_type": "stream",
     "text": [
      "12\n",
      "35\n"
     ]
    }
   ],
   "source": [
    "function [y1, y2] = jumlah_kali(x1, x2)\n",
    "  y1 = x1 + x2;\n",
    "  y2 = x1 * x2;\n",
    "endfunction\n",
    "\n",
    "[z1, z2] = jumlah_kali(5, 7);\n",
    "disp(z1);\n",
    "disp(z2);"
   ]
  },
  {
   "cell_type": "markdown",
   "metadata": {},
   "source": [
    "## Tambahan: mencari nilai di *array*"
   ]
  },
  {
   "cell_type": "markdown",
   "metadata": {},
   "source": [
    "Misalkan kita punya *array*"
   ]
  },
  {
   "cell_type": "code",
   "execution_count": 4,
   "metadata": {},
   "outputs": [
    {
     "name": "stdout",
     "output_type": "stream",
     "text": [
      "x_arr =\n",
      "\n",
      "   9   8   7   6\n",
      "\n"
     ]
    }
   ],
   "source": [
    "x_arr = [9, 8, 7, 6]"
   ]
  },
  {
   "cell_type": "markdown",
   "metadata": {},
   "source": [
    "Apabila kita menerapkan kondisional tertentu pada *array*, kondisionalnya akan diterapkan per elemen. Misalnya, kita bisa memeriksa, elemen mana saja yang lebih besar dari 7.5"
   ]
  },
  {
   "cell_type": "code",
   "execution_count": 7,
   "metadata": {},
   "outputs": [
    {
     "name": "stdout",
     "output_type": "stream",
     "text": [
      "ans =\n",
      "\n",
      "  1  1  0  0\n",
      "\n"
     ]
    }
   ],
   "source": [
    "x_arr > 7.5"
   ]
  },
  {
   "cell_type": "markdown",
   "metadata": {},
   "source": [
    "Nilai 9 dan 8 memenuhi, sehingga menjadi 1 (artinya true/benar). Sedangkan, nilai 7 dan 6 tidak memenuhi, sehingga menjadi 0 (artinya false/salah)."
   ]
  },
  {
   "cell_type": "markdown",
   "metadata": {},
   "source": [
    "Ada fungsi `find` yang menerima suatu *array*/matriks dan memberikan *output* berupa indeks-indeks yang nilainya taknol."
   ]
  },
  {
   "cell_type": "code",
   "execution_count": 8,
   "metadata": {},
   "outputs": [
    {
     "name": "stdout",
     "output_type": "stream",
     "text": [
      "ans =\n",
      "\n",
      "   1   2\n",
      "\n"
     ]
    }
   ],
   "source": [
    "find([1, 1, 0, 0])"
   ]
  },
  {
   "cell_type": "markdown",
   "metadata": {},
   "source": [
    "Kalau digunakan seperti ini, mungkin kelihatannya agak aneh. Namun, kita bisa gabungkan dengan penggunaan kondisional..."
   ]
  },
  {
   "cell_type": "code",
   "execution_count": 9,
   "metadata": {},
   "outputs": [
    {
     "name": "stdout",
     "output_type": "stream",
     "text": [
      "ans =\n",
      "\n",
      "   1   2\n",
      "\n"
     ]
    }
   ],
   "source": [
    "find(x_arr > 7.5)"
   ]
  },
  {
   "cell_type": "markdown",
   "metadata": {},
   "source": [
    "Sehingga fungsi `find` seolah-olah mencari, indeks mana saja yang memenuhi kondisional."
   ]
  },
  {
   "cell_type": "markdown",
   "metadata": {},
   "source": [
    "Contoh lain, kondisional kesamaan:"
   ]
  },
  {
   "cell_type": "code",
   "execution_count": 10,
   "metadata": {},
   "outputs": [
    {
     "name": "stdout",
     "output_type": "stream",
     "text": [
      "ans =\n",
      "\n",
      "  0  0  1  0\n",
      "\n"
     ]
    }
   ],
   "source": [
    "x_arr == 7"
   ]
  },
  {
   "cell_type": "markdown",
   "metadata": {},
   "source": [
    "Hanya nilai 7 (yaitu di posisi ketiga) yang menjadi true, karena memang hanya itu yang sama dengan 7."
   ]
  },
  {
   "cell_type": "markdown",
   "metadata": {},
   "source": [
    "Apabila kita gunakan bersama fungsi `find`, maka sama saja seperti melakukan *linear search*"
   ]
  },
  {
   "cell_type": "code",
   "execution_count": 11,
   "metadata": {},
   "outputs": [
    {
     "name": "stdout",
     "output_type": "stream",
     "text": [
      "ans = 3\n"
     ]
    }
   ],
   "source": [
    "find(x_arr == 7)"
   ]
  },
  {
   "cell_type": "markdown",
   "metadata": {},
   "source": [
    "Yaitu, nilai 7 di *array* berada pada indeks 3"
   ]
  },
  {
   "cell_type": "code",
   "execution_count": 12,
   "metadata": {},
   "outputs": [
    {
     "name": "stdout",
     "output_type": "stream",
     "text": [
      "ans = 7\n"
     ]
    }
   ],
   "source": [
    "x_arr(3)"
   ]
  },
  {
   "cell_type": "markdown",
   "metadata": {},
   "source": [
    "Apabila kita coba cari sesuatu yang tidak ada (misalnya nilai 5), hasilnya kosong:"
   ]
  },
  {
   "cell_type": "code",
   "execution_count": 16,
   "metadata": {},
   "outputs": [
    {
     "name": "stdout",
     "output_type": "stream",
     "text": [
      "ans = [](1x0)\n"
     ]
    }
   ],
   "source": [
    "find(x_arr == 5)"
   ]
  },
  {
   "cell_type": "code",
   "execution_count": null,
   "metadata": {},
   "outputs": [],
   "source": []
  }
 ],
 "metadata": {
  "kernelspec": {
   "display_name": "Octave",
   "language": "octave",
   "name": "octave"
  },
  "language_info": {
   "file_extension": ".m",
   "help_links": [
    {
     "text": "GNU Octave",
     "url": "https://www.gnu.org/software/octave/support.html"
    },
    {
     "text": "Octave Kernel",
     "url": "https://github.com/Calysto/octave_kernel"
    },
    {
     "text": "MetaKernel Magics",
     "url": "https://metakernel.readthedocs.io/en/latest/source/README.html"
    }
   ],
   "mimetype": "text/x-octave",
   "name": "octave",
   "version": "6.2.0"
  }
 },
 "nbformat": 4,
 "nbformat_minor": 4
}
