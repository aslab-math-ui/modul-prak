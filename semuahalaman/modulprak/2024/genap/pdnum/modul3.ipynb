{
 "cells": [
  {
   "cell_type": "markdown",
   "metadata": {
    "collapsed": false
   },
   "source": [
    "# Modul 3 Persamaan Diferensial Numerik: Metode Runge-Kutta dan variasinya"
   ]
  },
  {
   "cell_type": "markdown",
   "metadata": {
    "collapsed": false
   },
   "source": [
    "Kembali ke [Persamaan Diferensial Numerik](./pdnum2024genap.qmd)"
   ]
  },
  {
   "cell_type": "markdown",
   "metadata": {
    "collapsed": false
   },
   "source": [
    "## Format long"
   ]
  },
  {
   "cell_type": "code",
   "execution_count": 26,
   "metadata": {
    "collapsed": false
   },
   "outputs": [
    {
     "name": "stdout",
     "output_type": "stream",
     "text": [
      "ans = 0.7071\r\n"
     ]
    }
   ],
   "source": [
    "sin(pi/4)"
   ]
  },
  {
   "cell_type": "code",
   "execution_count": 27,
   "metadata": {
    "collapsed": false
   },
   "outputs": [],
   "source": [
    "format long"
   ]
  },
  {
   "cell_type": "code",
   "execution_count": 28,
   "metadata": {
    "collapsed": false
   },
   "outputs": [
    {
     "name": "stdout",
     "output_type": "stream",
     "text": [
      "ans = 0.707106781186547\r\n"
     ]
    }
   ],
   "source": [
    "sin(pi/4)"
   ]
  },
  {
   "cell_type": "markdown",
   "metadata": {
    "collapsed": false
   },
   "source": [
    "Kembali ke default:"
   ]
  },
  {
   "cell_type": "code",
   "execution_count": 30,
   "metadata": {
    "collapsed": false
   },
   "outputs": [],
   "source": [
    "format"
   ]
  },
  {
   "cell_type": "code",
   "execution_count": 31,
   "metadata": {
    "collapsed": false
   },
   "outputs": [
    {
     "name": "stdout",
     "output_type": "stream",
     "text": [
      "ans = 0.7071\r\n"
     ]
    }
   ],
   "source": [
    "sin(pi/4)"
   ]
  },
  {
   "cell_type": "markdown",
   "metadata": {
    "collapsed": false
   },
   "source": [
    "## Metode Runge-Kutta dan variasinya"
   ]
  },
  {
   "cell_type": "markdown",
   "metadata": {
    "collapsed": false
   },
   "source": [
    "### Orde 2: Metode Midpoint"
   ]
  },
  {
   "cell_type": "markdown",
   "metadata": {
    "collapsed": false
   },
   "source": [
    "$$w_1=\\alpha$$\n",
    "$$w_{i+1}=w_i+h f\\left(t_i+\\frac{h}{2}, w_i+\\frac{h}{2} f\\left(t_i, w_i\\right)\\right)$$"
   ]
  },
  {
   "cell_type": "markdown",
   "metadata": {
    "collapsed": false
   },
   "source": [
    "bisa juga ditulis,\n",
    "\n",
    "$$w_1=\\alpha$$\n",
    "$$m_1 = f\\left(t_i, w_i\\right)$$\n",
    "$$w_{i+1}=w_i+h f\\left(t_i+\\frac{h}{2}, w_i+\\frac{h}{2} m_1\\right)$$\n",
    "\n",
    "atau bahkan,\n",
    "\n",
    "$$w_1=\\alpha$$\n",
    "$$m_1 = f\\left(t_i, w_i\\right)$$\n",
    "$$m_2 = f\\left(t_i+\\frac{h}{2}, w_i+\\frac{h}{2} m_1\\right)$$\n",
    "$$w_{i+1}=w_i+h m_2$$"
   ]
  },
  {
   "cell_type": "raw",
   "metadata": {},
   "source": [
    "::: {.panel-tabset}\n",
    "\n",
    "### *Function file* `midpoint.m` - nama *file* harus sama dengan nama fungsi"
   ]
  },
  {
   "cell_type": "code",
   "execution_count": 1,
   "metadata": {
    "collapsed": false
   },
   "outputs": [],
   "source": [
    "function [t, w] = midpoint(f, a, b, N, alpha)\n",
    "  h = (b - a) / N;\n",
    "  t = zeros(N + 1, 1);\n",
    "  w = zeros(N + 1, 1);\n",
    "  t(1) = a;\n",
    "  w(1) = alpha;\n",
    "  for i = 1 : N\n",
    "    t(i + 1) = t(i) + h;\n",
    "    m1 = f(t(i), w(i));\n",
    "    m2 = f(t(i) + (h / 2), w(i) + (h / 2) * m1);\n",
    "    w(i + 1) = w(i) + h * m2;\n",
    "  endfor\n",
    "endfunction"
   ]
  },
  {
   "cell_type": "raw",
   "metadata": {},
   "source": [
    ":::"
   ]
  },
  {
   "cell_type": "markdown",
   "metadata": {
    "collapsed": false
   },
   "source": [
    "Misalkan diberikan MNA sebagai berikut, yang ingin diselesaikan secara numerik dengan $N = 10$:\n",
    "\n",
    "$$y' = y - t^2 + 1$$\n",
    "$$0 \\le t \\le 2$$\n",
    "$$y(0) = 0.5$$\n",
    "\n",
    "yang kebetulan memiliki solusi eksak:\n",
    "\n",
    "$$y\\left(t\\right) = \\left( t + 1 \\right)^2 - 0.5 e^t$$"
   ]
  },
  {
   "cell_type": "markdown",
   "metadata": {
    "collapsed": false
   },
   "source": [
    "Contoh penggunaan:"
   ]
  },
  {
   "cell_type": "raw",
   "metadata": {},
   "source": [
    "::: {.panel-tabset}\n",
    "\n",
    "### *Script file* `coba_midpoint.m` - nama *file* bebas"
   ]
  },
  {
   "cell_type": "code",
   "execution_count": 2,
   "metadata": {
    "collapsed": false
   },
   "outputs": [
    {
     "name": "stdout",
     "output_type": "stream",
     "text": [
      "Tabel aproksimasi w, solusi eksak y, dan error:\n",
      "ans =\n",
      "\n",
      "        0   0.5000   0.5000        0\n",
      "   0.2000   0.8280   0.8293   0.0013\n",
      "   0.4000   1.2114   1.2141   0.0027\n",
      "   0.6000   1.6447   1.6489   0.0043\n",
      "   0.8000   2.1213   2.1272   0.0059\n",
      "   1.0000   2.6332   2.6409   0.0077\n",
      "   1.2000   3.1705   3.1799   0.0095\n",
      "   1.4000   3.7212   3.7324   0.0112\n",
      "   1.6000   4.2706   4.2835   0.0129\n",
      "   1.8000   4.8010   4.8152   0.0142\n",
      "   2.0000   5.2904   5.3055   0.0151\n",
      "\n",
      "Error total (norm L1):\n",
      "0.084840\n"
     ]
    },
    {
     "data": {
      "image/png": "[encoded data removed]",
      "text/plain": [
       "<IPython.core.display.Image object>"
      ]
     },
     "metadata": {},
     "output_type": "display_data"
    }
   ],
   "source": [
    "f = @(t, y) (y - t .^ 2 + 1);\n",
    "a = 0;\n",
    "b = 2;\n",
    "N = 10;\n",
    "alpha = 0.5;\n",
    "\n",
    "[t, w] = midpoint(f, a, b, N, alpha);\n",
    "\n",
    "sln = @(t) (t + 1) .^ 2 - 0.5 * exp(t);\n",
    "y_eksak = sln(t);\n",
    "\n",
    "err_midpoint = abs(w - y_eksak);\n",
    "err_midpoint_total = sum(err_midpoint); % norm L1 (taxicab/Manhattan)\n",
    "\n",
    "disp(\"Tabel aproksimasi w, solusi eksak y, dan error:\");\n",
    "[t, w, y_eksak, err_midpoint]\n",
    "disp(\"Error total (norm L1):\");\n",
    "disp(err_midpoint_total);\n",
    "\n",
    "hold on;\n",
    "fplot(sln, [a, b], 'b');\n",
    "scatter(t, w, 'r');\n",
    "legend(\"Solusi Eksak\", \"Metode Midpoint\");"
   ]
  },
  {
   "cell_type": "raw",
   "metadata": {},
   "source": [
    ":::"
   ]
  },
  {
   "cell_type": "markdown",
   "metadata": {
    "collapsed": false
   },
   "source": [
    "### Orde 2: Metode *Modified Euler*"
   ]
  },
  {
   "cell_type": "markdown",
   "metadata": {
    "collapsed": false
   },
   "source": [
    "$$w_1=\\alpha$$\n",
    "$$w_{i+1}=w_i+\\frac{h}{2}\\left(f\\left(t_i, w_i\\right)+f\\left(t_{i+1}, w_i+h f\\left(t_i, w_i\\right)\\right)\\right)$$"
   ]
  },
  {
   "cell_type": "markdown",
   "metadata": {
    "collapsed": false
   },
   "source": [
    "bisa juga ditulis,\n",
    "\n",
    "$$w_1=\\alpha$$\n",
    "$$m_1 = f\\left(t_i, w_i\\right)$$\n",
    "$$w_{i+1}=w_i+\\frac{h}{2}\\left(m_1+f\\left(t_{i+1}, w_i+h m_1\\right)\\right)$$\n",
    "\n",
    "atau bahkan,\n",
    "\n",
    "$$w_1=\\alpha$$\n",
    "$$m_1 = f\\left(t_i, w_i\\right)$$\n",
    "$$m_2 = f\\left(t_{i+1}, w_i+h m_1\\right)$$\n",
    "$$w_{i+1}=w_i+\\frac{h}{2}\\left(m_1+m_2\\right)$$"
   ]
  },
  {
   "cell_type": "raw",
   "metadata": {},
   "source": [
    "::: {.panel-tabset}\n",
    "\n",
    "### *Function file* `modified_euler.m` - nama *file* harus sama dengan nama fungsi"
   ]
  },
  {
   "cell_type": "code",
   "execution_count": 3,
   "metadata": {
    "collapsed": false
   },
   "outputs": [],
   "source": [
    "function [t, w] = modified_euler(f, a, b, N, alpha)\n",
    "  h = (b - a) / N;\n",
    "  t = zeros(N + 1, 1);\n",
    "  w = zeros(N + 1, 1);\n",
    "  t(1) = a;\n",
    "  w(1) = alpha;\n",
    "  for i = 1 : N\n",
    "    t(i + 1) = t(i) + h;\n",
    "    m1 = f(t(i), w(i));\n",
    "    m2 = f(t(i + 1), w(i) + h * m1);\n",
    "    w(i + 1) = w(i) + h * (m1 + m2) / 2;\n",
    "  endfor\n",
    "endfunction"
   ]
  },
  {
   "cell_type": "raw",
   "metadata": {},
   "source": [
    ":::"
   ]
  },
  {
   "cell_type": "markdown",
   "metadata": {
    "collapsed": false
   },
   "source": [
    "Misalkan diberikan MNA sebagai berikut, yang ingin diselesaikan secara numerik dengan $N = 10$:\n",
    "\n",
    "$$y' = y - t^2 + 1$$\n",
    "$$0 \\le t \\le 2$$\n",
    "$$y(0) = 0.5$$\n",
    "\n",
    "dan misalkan solusi eksak tidak diketahui."
   ]
  },
  {
   "cell_type": "markdown",
   "metadata": {
    "collapsed": false
   },
   "source": [
    "Contoh penggunaan (perbandingan metode Runge-Kutta orde 2):"
   ]
  },
  {
   "cell_type": "raw",
   "metadata": {},
   "source": [
    "::: {.panel-tabset}\n",
    "\n",
    "### *Script file* `bandingkan_rko2.m` - nama *file* bebas"
   ]
  },
  {
   "cell_type": "code",
   "execution_count": 8,
   "metadata": {
    "collapsed": false
   },
   "outputs": [
    {
     "name": "stdout",
     "output_type": "stream",
     "text": [
      "ans =\n",
      "\n",
      "        0   0.5000   0.5000\n",
      "   0.2000   0.8280   0.8260\n",
      "   0.4000   1.2114   1.2069\n",
      "   0.6000   1.6447   1.6372\n",
      "   0.8000   2.1213   2.1102\n",
      "   1.0000   2.6332   2.6177\n",
      "   1.2000   3.1705   3.1496\n",
      "   1.4000   3.7212   3.6937\n",
      "   1.6000   4.2706   4.2351\n",
      "   1.8000   4.8010   4.7556\n",
      "   2.0000   5.2904   5.2331\n",
      "\n"
     ]
    },
    {
     "data": {
      "image/png": "[encoded data removed]",
      "text/plain": [
       "<IPython.core.display.Image object>"
      ]
     },
     "metadata": {},
     "output_type": "display_data"
    }
   ],
   "source": [
    "f = @(t, y) (y - t .^ 2 + 1);\n",
    "a = 0;\n",
    "b = 2;\n",
    "N = 10;\n",
    "alpha = 0.5;\n",
    "\n",
    "[t1, w1] = midpoint(f, a, b, N, alpha);\n",
    "[t2, w2] = modified_euler(f, a, b, N, alpha);\n",
    "\n",
    "[t1, w1, w2]\n",
    "\n",
    "hold on;\n",
    "scatter(t1, w1, 'r');\n",
    "scatter(t2, w2, 'g');\n",
    "legend(\"Midpoint\", \"Modified Euler\");"
   ]
  },
  {
   "cell_type": "raw",
   "metadata": {},
   "source": [
    ":::"
   ]
  },
  {
   "cell_type": "markdown",
   "metadata": {
    "collapsed": false
   },
   "source": [
    "Misalkan diketahui solusi eksak:\n",
    "\n",
    "$$y\\left(t\\right) = \\left( t + 1 \\right)^2 - 0.5 e^t$$\n",
    "\n",
    "Maka kita juga bisa menghitung *error* dari masing-masing metode."
   ]
  },
  {
   "cell_type": "raw",
   "metadata": {},
   "source": [
    "::: {.panel-tabset}\n",
    "\n",
    "### *Script file* `bandingkan2_rko2.m` - nama *file* bebas"
   ]
  },
  {
   "cell_type": "code",
   "execution_count": 9,
   "metadata": {
    "collapsed": false
   },
   "outputs": [
    {
     "name": "stdout",
     "output_type": "stream",
     "text": [
      "ans =\n",
      "\n",
      "        0   0.5000   0.5000        0   0.5000        0\n",
      "   0.2000   0.8293   0.8280   0.0013   0.8260   0.0033\n",
      "   0.4000   1.2141   1.2114   0.0027   1.2069   0.0072\n",
      "   0.6000   1.6489   1.6447   0.0043   1.6372   0.0117\n",
      "   0.8000   2.1272   2.1213   0.0059   2.1102   0.0170\n",
      "   1.0000   2.6409   2.6332   0.0077   2.6177   0.0232\n",
      "   1.2000   3.1799   3.1705   0.0095   3.1496   0.0304\n",
      "   1.4000   3.7324   3.7212   0.0112   3.6937   0.0387\n",
      "   1.6000   4.2835   4.2706   0.0129   4.2351   0.0484\n",
      "   1.8000   4.8152   4.8010   0.0142   4.7556   0.0596\n",
      "   2.0000   5.3055   5.2904   0.0151   5.2331   0.0724\n",
      "\n"
     ]
    },
    {
     "data": {
      "image/png": "[encoded data removed]",
      "text/plain": [
       "<IPython.core.display.Image object>"
      ]
     },
     "metadata": {},
     "output_type": "display_data"
    }
   ],
   "source": [
    "f = @(t, y) (y - t .^ 2 + 1);\n",
    "a = 0;\n",
    "b = 2;\n",
    "N = 10;\n",
    "alpha = 0.5;\n",
    "\n",
    "[t1, w1] = midpoint(f, a, b, N, alpha);\n",
    "[t2, w2] = modified_euler(f, a, b, N, alpha);\n",
    "\n",
    "sln = @(t) (t + 1) .^ 2 - 0.5 * exp(t);\n",
    "y_eksak = sln(t1);\n",
    "\n",
    "err1 = abs(y_eksak - w1);\n",
    "err2 = abs(y_eksak - w2);\n",
    "\n",
    "[t1, y_eksak, w1, err1, w2, err2]\n",
    "\n",
    "hold on;\n",
    "fplot(sln, [a, b], 'b');\n",
    "scatter(t1, w1, 'r');\n",
    "scatter(t2, w2, 'g');\n",
    "legend(\"Solusi Eksak\", \"Midpoint\", \"Modified Euler\");"
   ]
  },
  {
   "cell_type": "raw",
   "metadata": {},
   "source": [
    ":::"
   ]
  },
  {
   "cell_type": "markdown",
   "metadata": {
    "collapsed": false
   },
   "source": [
    "### Orde 3: Metode Heun"
   ]
  },
  {
   "cell_type": "markdown",
   "metadata": {
    "collapsed": false
   },
   "source": [
    "$$w_1=\\alpha$$\n",
    "$$w_{i+1}=w_i+\\frac{h}{4}\\left(f\\left(t_i, w_i\\right)+3 f\\left(t_i+\\frac{2 h}{3}, w_i+\\frac{2 h}{3} f\\left(t_i+\\frac{h}{3}, w_i+\\frac{h}{3} f\\left(t_i, w_i\\right)\\right)\\right)\\right)$$"
   ]
  },
  {
   "cell_type": "markdown",
   "metadata": {
    "collapsed": false
   },
   "source": [
    "bisa juga ditulis,\n",
    "\n",
    "$$w_1=\\alpha$$\n",
    "$$m_1 = f\\left(t_i, w_i\\right)$$\n",
    "$$w_{i+1}=w_i+\\frac{h}{4}\\left(m_1+3 f\\left(t_i+\\frac{2 h}{3}, w_i+\\frac{2 h}{3} f\\left(t_i+\\frac{h}{3}, w_i+\\frac{h}{3} m_1\\right)\\right)\\right)$$\n",
    "\n",
    "atau,\n",
    "\n",
    "$$w_1=\\alpha$$\n",
    "$$m_1 = f\\left(t_i, w_i\\right)$$\n",
    "$$m_2 = f\\left(t_i+\\frac{h}{3}, w_i+\\frac{h}{3} m_1\\right)$$\n",
    "$$w_{i+1}=w_i+\\frac{h}{4}\\left(m_1+3 f\\left(t_i+\\frac{2 h}{3}, w_i+\\frac{2 h}{3} m_2\\right)\\right)$$\n",
    "\n",
    "atau bahkan,\n",
    "\n",
    "$$w_1=\\alpha$$\n",
    "$$m_1 = f\\left(t_i, w_i\\right)$$\n",
    "$$m_2 = f\\left(t_i+\\frac{h}{3}, w_i+\\frac{h}{3} m_1\\right)$$\n",
    "$$m_3 = f\\left(t_i+\\frac{2 h}{3}, w_i+\\frac{2 h}{3} m_2\\right)$$\n",
    "$$w_{i+1}=w_i+\\frac{h}{4}\\left(m_1+3 m_3\\right)$$"
   ]
  },
  {
   "cell_type": "raw",
   "metadata": {},
   "source": [
    "::: {.panel-tabset}\n",
    "\n",
    "### *Function file* `heun.m` - nama *file* harus sama dengan nama fungsi"
   ]
  },
  {
   "cell_type": "code",
   "execution_count": 4,
   "metadata": {
    "collapsed": false
   },
   "outputs": [],
   "source": [
    "function [t, w] = heun(f, a, b, N, alpha)\n",
    "  h = (b - a) / N;\n",
    "  t = zeros(N + 1, 1);\n",
    "  w = zeros(N + 1, 1);\n",
    "  t(1) = a;\n",
    "  w(1) = alpha;\n",
    "  for i = 1 : N\n",
    "    t(i + 1) = t(i) + h;\n",
    "    m1 = f(t(i), w(i));\n",
    "    m2 = f(t(i) + (h / 3), w(i) + (h / 3) * m1);\n",
    "    m3 = f(t(i) + (2 * h / 3), w(i) + (2 * h / 3) * m2);\n",
    "    w(i + 1) = w(i) + (h / 4) * (m1 + 3 * m3);\n",
    "  endfor\n",
    "endfunction"
   ]
  },
  {
   "cell_type": "raw",
   "metadata": {},
   "source": [
    ":::"
   ]
  },
  {
   "cell_type": "markdown",
   "metadata": {
    "collapsed": false
   },
   "source": [
    "Misalkan diberikan MNA sebagai berikut, yang ingin diselesaikan secara numerik dengan $N = 10$:\n",
    "\n",
    "$$y' = y - t^2 + 1$$\n",
    "$$0 \\le t \\le 2$$\n",
    "$$y(0) = 0.5$$\n",
    "\n",
    "yang kebetulan memiliki solusi eksak:\n",
    "\n",
    "$$y\\left(t\\right) = \\left( t + 1 \\right)^2 - 0.5 e^t$$"
   ]
  },
  {
   "cell_type": "markdown",
   "metadata": {
    "collapsed": false
   },
   "source": [
    "Contoh penggunaan:"
   ]
  },
  {
   "cell_type": "raw",
   "metadata": {},
   "source": [
    "::: {.panel-tabset}\n",
    "\n",
    "### *Script file* `coba_heun.m` - nama *file* bebas"
   ]
  },
  {
   "cell_type": "code",
   "execution_count": 5,
   "metadata": {
    "collapsed": false
   },
   "outputs": [
    {
     "name": "stdout",
     "output_type": "stream",
     "text": [
      "Tabel aproksimasi w, solusi y, dan error:\n",
      "ans =\n",
      "\n",
      "        0   0.5000   0.5000        0\n",
      "   0.2000   0.8292   0.8293   0.0001\n",
      "   0.4000   1.2140   1.2141   0.0001\n",
      "   0.6000   1.6488   1.6489   0.0002\n",
      "   0.8000   2.1270   2.1272   0.0002\n",
      "   1.0000   2.6406   2.6409   0.0003\n",
      "   1.2000   3.1796   3.1799   0.0004\n",
      "   1.4000   3.7320   3.7324   0.0004\n",
      "   1.6000   4.2830   4.2835   0.0005\n",
      "   1.8000   4.8147   4.8152   0.0005\n",
      "   2.0000   5.3050   5.3055   0.0005\n",
      "\n",
      "Error total (norm L1):\n",
      "3.0743e-03\n"
     ]
    },
    {
     "data": {
      "image/png": "[encoded data removed]",
      "text/plain": [
       "<IPython.core.display.Image object>"
      ]
     },
     "metadata": {},
     "output_type": "display_data"
    }
   ],
   "source": [
    "f = @(t, y) (y - t .^ 2 + 1);\n",
    "a = 0;\n",
    "b = 2;\n",
    "N = 10;\n",
    "alpha = 0.5;\n",
    "\n",
    "[t, w] = heun(f, a, b, N, alpha);\n",
    "\n",
    "sln = @(t) (t + 1) .^ 2 - 0.5 * exp(t);\n",
    "y_eksak = sln(t);\n",
    "\n",
    "err_heun = abs(w - y_eksak);\n",
    "err_heun_total = sum(err_heun); % norm L1 (taxicab/Manhattan)\n",
    "\n",
    "disp(\"Tabel aproksimasi w, solusi y, dan error:\");\n",
    "[t, w, y_eksak, err_heun]\n",
    "disp(\"Error total (norm L1):\");\n",
    "disp(err_heun_total);\n",
    "\n",
    "hold on;\n",
    "fplot(sln, [a, b], 'b');\n",
    "scatter(t, w, 'r');\n",
    "legend(\"Solusi Eksak\", \"Metode Heun\");"
   ]
  },
  {
   "cell_type": "raw",
   "metadata": {},
   "source": [
    ":::"
   ]
  },
  {
   "cell_type": "markdown",
   "metadata": {
    "collapsed": false
   },
   "source": [
    "Ternyata errornya sangat kecil! KIta bisa melihat errornya dengan lebih detail/presisi, dengan menggunakan `format long`"
   ]
  },
  {
   "cell_type": "raw",
   "metadata": {},
   "source": [
    "::: {.panel-tabset}\n",
    "\n",
    "### *Script file* `coba2_heun.m` - nama *file* bebas"
   ]
  },
  {
   "cell_type": "code",
   "execution_count": 6,
   "metadata": {
    "collapsed": false
   },
   "outputs": [
    {
     "name": "stdout",
     "output_type": "stream",
     "text": [
      "Tabel aproksimasi w, solusi y, dan error:\n",
      "ans =\n",
      "\n",
      "                   0   0.500000000000000   0.500000000000000                   0\n",
      "   0.200000000000000   0.829244444444444   0.829298620919915   0.000054176475471\n",
      "   0.400000000000000   1.213974992592593   1.214087651179365   0.000112658586772\n",
      "   0.600000000000000   1.648765902064198   1.648940599804746   0.000174697740548\n",
      "   0.800000000000000   2.126990532832184   2.127229535753766   0.000239002921582\n",
      "   1.000000000000000   2.640555548543485   2.640859085770478   0.000303537226992\n",
      "   1.200000000000000   3.179576287732221   3.179941538631727   0.000365250899506\n",
      "   1.400000000000000   3.731980283861397   3.732400016577663   0.000419732716265\n",
      "   1.600000000000000   4.283023031133831   4.283483787802441   0.000460756668610\n",
      "   1.800000000000000   4.814696573135897   4.815176267793527   0.000479694657630\n",
      "   2.000000000000000   5.305007192434419   5.305471950534676   0.000464758100256\n",
      "\n",
      "Error total (norm L1):\n",
      "3.074265993633474e-03\n"
     ]
    },
    {
     "data": {
      "image/png": "[encoded data removed]",
      "text/plain": [
       "<IPython.core.display.Image object>"
      ]
     },
     "metadata": {},
     "output_type": "display_data"
    }
   ],
   "source": [
    "f = @(t, y) (y - t .^ 2 + 1);\n",
    "a = 0;\n",
    "b = 2;\n",
    "N = 10;\n",
    "alpha = 0.5;\n",
    "\n",
    "[t, w] = heun(f, a, b, N, alpha);\n",
    "\n",
    "sln = @(t) (t + 1) .^ 2 - 0.5 * exp(t);\n",
    "y_eksak = sln(t);\n",
    "\n",
    "err_heun = abs(w - y_eksak);\n",
    "err_heun_total = sum(err_heun); % norm L1 (taxicab/Manhattan)\n",
    "\n",
    "format long; % pasang format output menjadi panjang (lebih presisi)\n",
    "disp(\"Tabel aproksimasi w, solusi y, dan error:\");\n",
    "[t, w, y_eksak, err_heun]\n",
    "disp(\"Error total (norm L1):\");\n",
    "disp(err_heun_total);\n",
    "format; % kembali ke ukuran default\n",
    "\n",
    "hold on;\n",
    "fplot(sln, [a, b], 'b');\n",
    "scatter(t, w, 'r');\n",
    "legend(\"Solusi Eksak\", \"Metode Heun\");"
   ]
  },
  {
   "cell_type": "raw",
   "metadata": {},
   "source": [
    ":::"
   ]
  },
  {
   "cell_type": "markdown",
   "metadata": {
    "collapsed": false
   },
   "source": [
    "### Metode Runge-Kutta orde 4"
   ]
  },
  {
   "cell_type": "markdown",
   "metadata": {
    "collapsed": false
   },
   "source": [
    "$$w_1=\\alpha$$\n",
    "$$k_1=h f\\left(t_i, w_i\\right)$$\n",
    "$$k_2=h f\\left(t_i+\\frac{h}{2}, w_i+\\frac{k_1}{2}\\right)$$\n",
    "$$k_3=h f\\left(t_i+\\frac{h}{2}, w_i+\\frac{k_2}{2}\\right)$$\n",
    "$$k_4=h f\\left(t_{i+1}, w_i+k_3\\right)$$\n",
    "$$w_{i+1}=w_i+\\frac{1}{6}\\left(k_1+2 k_2+2 k_3+k_4\\right)$$"
   ]
  },
  {
   "cell_type": "raw",
   "metadata": {},
   "source": [
    "::: {.panel-tabset}\n",
    "\n",
    "### *Function file* `rko4.m` - nama *file* harus sama dengan nama fungsi"
   ]
  },
  {
   "cell_type": "code",
   "execution_count": 7,
   "metadata": {
    "collapsed": false
   },
   "outputs": [],
   "source": [
    "function [t, w] = rko4(f, a, b, N, alpha)\n",
    "  h = (b - a) / N;\n",
    "  t = zeros(N + 1, 1);\n",
    "  w = zeros(N + 1, 1);\n",
    "  t(1) = a;\n",
    "  w(1) = alpha;\n",
    "  for i = 1 : N\n",
    "    t(i + 1) = t(i) + h;\n",
    "    k1 = h * f(t(i), w(i));\n",
    "    k2 = h * f(t(i) + (h / 2), w(i) + (k1 / 2));\n",
    "    k3 = h * f(t(i) + (h / 2), w(i) + (k2 / 2));\n",
    "    k4 = h * f(t(i + 1), w(i) + k3);\n",
    "    w(i + 1) = w(i) + (k1 + 2 * k2 + 2 * k3 + k4) / 6;\n",
    "  endfor\n",
    "endfunction"
   ]
  },
  {
   "cell_type": "raw",
   "metadata": {},
   "source": [
    ":::"
   ]
  },
  {
   "cell_type": "markdown",
   "metadata": {
    "collapsed": false
   },
   "source": [
    "Misalkan diberikan MNA sebagai berikut, yang ingin diselesaikan secara numerik dengan $N = 10$:\n",
    "\n",
    "$$y' = y - t^2 + 1$$\n",
    "$$0 \\le t \\le 2$$\n",
    "$$y(0) = 0.5$$\n",
    "\n",
    "yang kebetulan memiliki solusi eksak:\n",
    "\n",
    "$$y\\left(t\\right) = \\left( t + 1 \\right)^2 - 0.5 e^t$$"
   ]
  },
  {
   "cell_type": "raw",
   "metadata": {},
   "source": [
    "::: {.panel-tabset}\n",
    "\n",
    "### *Script file* `coba_rko4.m` - nama *file* bebas"
   ]
  },
  {
   "cell_type": "code",
   "execution_count": 8,
   "metadata": {
    "collapsed": false
   },
   "outputs": [
    {
     "name": "stdout",
     "output_type": "stream",
     "text": [
      "Tabel aproksimasi w, solusi y, dan error:\n",
      "ans =\n",
      "\n",
      "                   0   0.500000000000000   0.500000000000000                   0\n",
      "   0.200000000000000   0.829293333333333   0.829298620919915   0.000005287586582\n",
      "   0.400000000000000   1.214076210666667   1.214087651179365   0.000011440512698\n",
      "   0.600000000000000   1.648922017041600   1.648940599804746   0.000018582763146\n",
      "   0.800000000000000   2.127202684947944   2.127229535753766   0.000026850805823\n",
      "   1.000000000000000   2.640822692728752   2.640859085770478   0.000036393041726\n",
      "   1.200000000000000   3.179894170232231   3.179941538631727   0.000047368399497\n",
      "   1.400000000000000   3.732340072854980   3.732400016577663   0.000059943722683\n",
      "   1.600000000000000   4.283409498318406   4.283483787802441   0.000074289484035\n",
      "   1.800000000000000   4.815085694579435   4.815176267793527   0.000090573214092\n",
      "   2.000000000000000   5.305363000692655   5.305471950534676   0.000108949842021\n",
      "\n",
      "Error total (norm L1):\n",
      "4.796793723015336e-04\n"
     ]
    },
    {
     "data": {
      "image/png": "[encoded data removed]",
      "text/plain": [
       "<IPython.core.display.Image object>"
      ]
     },
     "metadata": {},
     "output_type": "display_data"
    }
   ],
   "source": [
    "f = @(t, y) (y - t .^ 2 + 1);\n",
    "a = 0;\n",
    "b = 2;\n",
    "N = 10;\n",
    "alpha = 0.5;\n",
    "\n",
    "[t, w] = rko4(f, a, b, N, alpha);\n",
    "\n",
    "sln = @(t) (t + 1) .^ 2 - 0.5 * exp(t);\n",
    "y_eksak = sln(t);\n",
    "\n",
    "err_rko4 = abs(w - y_eksak);\n",
    "err_rko4_total = sum(err_rko4); % norm L1 (taxicab/Manhattan)\n",
    "\n",
    "format long; % pasang format output menjadi panjang (lebih presisi)\n",
    "disp(\"Tabel aproksimasi w, solusi y, dan error:\");\n",
    "[t, w, y_eksak, err_rko4]\n",
    "disp(\"Error total (norm L1):\");\n",
    "disp(err_rko4_total);\n",
    "format; % kembali ke ukuran default\n",
    "\n",
    "hold on;\n",
    "fplot(sln, [a, b], 'b');\n",
    "scatter(t, w, 'r');\n",
    "legend(\"Solusi Eksak\", \"Metode Runge-Kutta orde 4\");"
   ]
  },
  {
   "cell_type": "raw",
   "metadata": {},
   "source": [
    ":::"
   ]
  },
  {
   "cell_type": "markdown",
   "metadata": {
    "collapsed": false
   },
   "source": [
    "### Perbandingan metode Runge-Kutta orde 2, 3, 4"
   ]
  },
  {
   "cell_type": "markdown",
   "metadata": {
    "collapsed": false
   },
   "source": [
    "Misalkan diberikan MNA sebagai berikut, yang ingin diselesaikan secara numerik dengan $N = 10$:\n",
    "\n",
    "$$y' = y - t^2 + 1$$\n",
    "$$0 \\le t \\le 2$$\n",
    "$$y(0) = 0.5$$\n",
    "\n",
    "yang kebetulan memiliki solusi eksak:\n",
    "\n",
    "$$y\\left(t\\right) = \\left( t + 1 \\right)^2 - 0.5 e^t$$"
   ]
  },
  {
   "cell_type": "raw",
   "metadata": {},
   "source": [
    "::: {.panel-tabset}\n",
    "\n",
    "### *Script file* `bandingkan_rk234.m` - nama *file* bebas"
   ]
  },
  {
   "cell_type": "code",
   "execution_count": 16,
   "metadata": {},
   "outputs": [
    {
     "name": "stdout",
     "output_type": "stream",
     "text": [
      "ans =\n",
      "\n",
      "        0   0.5000   0.5000   0.5000   0.5000   0.5000\n",
      "   0.2000   0.8280   0.8260   0.8292   0.8293   0.8293\n",
      "   0.4000   1.2114   1.2069   1.2140   1.2141   1.2141\n",
      "   0.6000   1.6447   1.6372   1.6488   1.6489   1.6489\n",
      "   0.8000   2.1213   2.1102   2.1270   2.1272   2.1272\n",
      "   1.0000   2.6332   2.6177   2.6406   2.6408   2.6409\n",
      "   1.2000   3.1705   3.1496   3.1796   3.1799   3.1799\n",
      "   1.4000   3.7212   3.6937   3.7320   3.7323   3.7324\n",
      "   1.6000   4.2706   4.2351   4.2830   4.2834   4.2835\n",
      "   1.8000   4.8010   4.7556   4.8147   4.8151   4.8152\n",
      "   2.0000   5.2904   5.2331   5.3050   5.3054   5.3055\n",
      "\n"
     ]
    },
    {
     "data": {
      "image/png": "[encoded data removed]",
      "text/plain": [
       "<IPython.core.display.Image object>"
      ]
     },
     "metadata": {},
     "output_type": "display_data"
    }
   ],
   "source": [
    "f = @(t, y) (y - t .^ 2 + 1);\n",
    "a = 0;\n",
    "b = 2;\n",
    "N = 10;\n",
    "alpha = 0.5;\n",
    "\n",
    "[t1, w1] = midpoint(f, a, b, N, alpha);\n",
    "[t2, w2] = modified_euler(f, a, b, N, alpha);\n",
    "[t3, w3] = heun(f, a, b, N, alpha);\n",
    "[t4, w4] = rko4(f, a, b, N, alpha);\n",
    "\n",
    "sln = @(t) (t + 1) .^ 2 - 0.5 * exp(t);\n",
    "y_eksak = sln(t1);\n",
    "\n",
    "[t1, w1, w2, w3, w4, y_eksak]\n",
    "\n",
    "hold on;\n",
    "fplot(sln, [a, b], 'k');\n",
    "scatter(t1, w1, 'r');\n",
    "scatter(t2, w2, 'g');\n",
    "scatter(t3, w3, 'b');\n",
    "scatter(t4, w4, 'm');\n",
    "legend('Fungsi eksak', 'Midpoint', 'Modified Euler', 'Heun', 'Runge-Kutta orde 4');\n",
    "legend(\"location\", \"northwest\");\n",
    "title('Perbandingan metode Runge-Kutta orde 2, 3, 4');"
   ]
  },
  {
   "cell_type": "raw",
   "metadata": {},
   "source": [
    ":::"
   ]
  }
 ],
 "metadata": {
  "kernelspec": {
   "argv": [
    "python3",
    "-E",
    "-m",
    "octave_kernel",
    "-f",
    "{connection_file}"
   ],
   "display_name": "Octave",
   "env": {},
   "language": "octave",
   "name": "octave",
   "resource_dir": "/ext/jupyter/kernels/octave-8.2"
  },
  "language_info": {
   "file_extension": ".m",
   "help_links": [
    {
     "text": "GNU Octave",
     "url": "https://www.gnu.org/software/octave/support.html"
    },
    {
     "text": "Octave Kernel",
     "url": "https://github.com/Calysto/octave_kernel"
    },
    {
     "text": "MetaKernel Magics",
     "url": "https://metakernel.readthedocs.io/en/latest/source/README.html"
    }
   ],
   "mimetype": "text/x-octave",
   "name": "octave",
   "version": "6.2.0"
  }
 },
 "nbformat": 4,
 "nbformat_minor": 4
}
