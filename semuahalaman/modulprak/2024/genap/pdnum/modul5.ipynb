{
 "cells": [
  {
   "cell_type": "markdown",
   "id": "553187d2",
   "metadata": {},
   "source": [
    "# Modul 5 Persamaan Diferensial Numerik: Sistem PDB orde 1 dan PDB orde tinggi"
   ]
  },
  {
   "cell_type": "markdown",
   "id": "855fb8b8",
   "metadata": {},
   "source": [
    "Kembali ke [Persamaan Diferensial Numerik](./pdnum2024genap.qmd)"
   ]
  },
  {
   "cell_type": "markdown",
   "id": "d749d4be",
   "metadata": {},
   "source": [
    "## Sistem Persamaan Diferensial: *(fourth-order) Runge-Kutta for Systems*"
   ]
  },
  {
   "cell_type": "markdown",
   "id": "e11beea3",
   "metadata": {},
   "source": [
    "### Bentuk umum"
   ]
  },
  {
   "cell_type": "markdown",
   "id": "b991d8aa",
   "metadata": {},
   "source": [
    "Bentuk umum sistem Persamaan Diferensial:\n",
    "\n",
    "$u'_1 = f_1(t,u_1,u_2,...,u_m)$\n",
    "\n",
    "$u'_2 = f_2(t,u_1,u_2,...,u_m)$\n",
    "\n",
    "$...$\n",
    "\n",
    "$u'_m = f_m(t,u_1,u_2,...,u_m)$\n",
    "\n",
    "dengan:\n",
    "\n",
    "$a \\leq t \\leq b$\n",
    "\n",
    "$u_1(a)=a_1, u_2(a)=a_2, ..., u_m(a)=a_m$ (initial value)"
   ]
  },
  {
   "cell_type": "markdown",
   "id": "8e7be02b",
   "metadata": {},
   "source": [
    "Bentuk umum algoritma metode untuk sistem PDB orde 1"
   ]
  },
  {
   "cell_type": "markdown",
   "id": "1810b255",
   "metadata": {},
   "source": [
    "```\n",
    "for i = 1 : N do\n",
    "    for R in (rumus-rumus untuk iterasi ke-i) do\n",
    "        for j = 1 : m do\n",
    "            Hitung R dengan f_j\n",
    "        endfor\n",
    "    endfor\n",
    "endfor\n",
    "```"
   ]
  },
  {
   "cell_type": "markdown",
   "id": "8c5fb9cd",
   "metadata": {},
   "source": [
    "Misalnya, apabila ada lima rumus (seperti dalam metode Runge-Kutta orde 4), algoritma untuk sistem menjadi:"
   ]
  },
  {
   "cell_type": "markdown",
   "id": "4bffa948",
   "metadata": {},
   "source": [
    "```\n",
    "for i = 1 : N do\n",
    "    for j = 1 : m do\n",
    "        Hitung Rumus1 dengan f_j\n",
    "    endfor\n",
    "\n",
    "    for j = 1 : m do\n",
    "        Hitung Rumus2 dengan f_j\n",
    "    endfor\n",
    "\n",
    "    for j = 1 : m do\n",
    "        Hitung Rumus3 dengan f_j\n",
    "    endfor\n",
    "\n",
    "    for j = 1 : m do\n",
    "        Hitung Rumus4 dengan f_j\n",
    "    endfor\n",
    "\n",
    "    for j = 1 : m do\n",
    "        Hitung Rumus5 dengan f_j\n",
    "    endfor\n",
    "endfor\n",
    "```"
   ]
  },
  {
   "cell_type": "markdown",
   "id": "09b0a81c",
   "metadata": {},
   "source": [
    "Apabila misalnya rumus pada iterasi 1, 2, 3 berbeda dengan rumus pada iterasi 4+ (seperti untuk metode Adams predictor-corrector orde 4), algoritma untuk sistem bisa seperti berikut:"
   ]
  },
  {
   "cell_type": "markdown",
   "id": "ce53f09b",
   "metadata": {},
   "source": [
    "```\n",
    "for i = 1 : 3 do\n",
    "    for j = 1 : m do\n",
    "        Hitung Rumus1 dengan f_j\n",
    "    endfor\n",
    "\n",
    "    for j = 1 : m do\n",
    "        Hitung Rumus2 dengan f_j\n",
    "    endfor\n",
    "\n",
    "    for j = 1 : m do\n",
    "        Hitung Rumus3 dengan f_j\n",
    "    endfor\n",
    "\n",
    "    for j = 1 : m do\n",
    "        Hitung Rumus4 dengan f_j\n",
    "    endfor\n",
    "\n",
    "    for j = 1 : m do\n",
    "        Hitung Rumus5 dengan f_j\n",
    "    endfor \n",
    "endfor\n",
    "\n",
    "for i = 4 : N do\n",
    "    for j = 1 : m do\n",
    "        Hitung Rumus1 dengan f_j\n",
    "    endfor\n",
    "\n",
    "    for j = 1 : m do\n",
    "        Hitung Rumus2 dengan f_j\n",
    "    endfor\n",
    "endfor\n",
    "```"
   ]
  },
  {
   "attachments": {},
   "cell_type": "markdown",
   "id": "b7a1e915",
   "metadata": {},
   "source": [
    "### Function file: (fourth-order) Runge-Kutta for systems"
   ]
  },
  {
   "cell_type": "markdown",
   "id": "e70ed32a",
   "metadata": {},
   "source": [
    "Pada modul ini, akan dibahas mengenai metode Runge-Kutta orde 4 untuk menyelesaikan sistem persamaan diferensial. Berikut merupakan code dari metode Runge-Kutta untuk sistem persamaan diferensial pada Octave yang perlu disimpan pada function file."
   ]
  },
  {
   "cell_type": "markdown",
   "id": "ea65837c",
   "metadata": {},
   "source": [
    "Untuk dua PDB:"
   ]
  },
  {
   "cell_type": "raw",
   "id": "262c1a47",
   "metadata": {},
   "source": [
    "::: {.panel-tabset}\n",
    "\n",
    "### *Function file* `rko4_sys2.m` - nama *file* harus sama dengan nama fungsi"
   ]
  },
  {
   "cell_type": "code",
   "execution_count": null,
   "id": "28b472ae",
   "metadata": {},
   "outputs": [],
   "source": [
    "function [t, w1, w2] = rko4_sys2(f1, f2, a, b, N, alph1, alph2)\n",
    "  h = (b - a)/N;\n",
    "  t = w1 = w2 = [];\n",
    "  t(1) = a;\n",
    "  w1(1) = alph1;\n",
    "  w2(1) = alph2;\n",
    "  for i = 1:N\n",
    "    k11 = h * f1(t(i), w1(i), w2(i));\n",
    "    k12 = h * f2(t(i), w1(i), w2(i));\n",
    "\n",
    "    k21 = h * f1((t(i)+(h/2)), (w1(i)+(k11/2)), (w2(i)+(k12/2)));\n",
    "    k22 = h * f2((t(i)+(h/2)), (w1(i)+(k11/2)), (w2(i)+(k12/2)));\n",
    "\n",
    "    k31 = h * f1((t(i)+(h/2)), (w1(i)+(k21/2)), (w2(i)+(k22/2)));\n",
    "    k32 = h * f2((t(i)+(h/2)), (w1(i)+(k21/2)), (w2(i)+(k22/2)));\n",
    "\n",
    "    k41 = h * f1((t(i)+h), (w1(i)+k31), (w2(i)+k32));\n",
    "    k42 = h * f2((t(i)+h), (w1(i)+k31), (w2(i)+k32));\n",
    "\n",
    "    w1(i+1) = w1(i) + (k11 + 2*k21 + 2*k31 + k41)/6;\n",
    "    w2(i+1) = w2(i) + (k12 + 2*k22 + 2*k32 + k42)/6;\n",
    "    t(i+1) = a + i*h;\n",
    "  endfor\n",
    "endfunction"
   ]
  },
  {
   "cell_type": "raw",
   "id": "f8583663",
   "metadata": {},
   "source": [
    ":::"
   ]
  },
  {
   "cell_type": "markdown",
   "id": "2877edf3",
   "metadata": {},
   "source": [
    "Untuk m PDB:"
   ]
  },
  {
   "cell_type": "raw",
   "id": "2c0bd485",
   "metadata": {},
   "source": [
    "::: {.panel-tabset}\n",
    "\n",
    "### *Function file* `rko4_sysm.m` - nama *file* harus sama dengan nama fungsi"
   ]
  },
  {
   "cell_type": "code",
   "execution_count": 1,
   "id": "c7217818",
   "metadata": {},
   "outputs": [],
   "source": [
    "function [t, w] = rko4_sysm(cell_f, a, b, N, alphas)\n",
    "  m = length(cell_f);\n",
    "\n",
    "  h = (b - a) / N;\n",
    "  t = zeros(N + 1, 1);\n",
    "  w = zeros(m, N + 1);\n",
    "  t(1) = a;\n",
    "  w(:, 1) = alphas;\n",
    "\n",
    "  k1 = zeros(m, 1);\n",
    "  k2 = zeros(m, 1);\n",
    "  k3 = zeros(m, 1);\n",
    "  k4 = zeros(m, 1);\n",
    "  for i = 1 : N\n",
    "    t(i + 1) = t(i) + h;\n",
    "\n",
    "    for j = 1 : m\n",
    "      k1(j) = h * cell_f{j}(t(i), w(:, i));\n",
    "    endfor\n",
    "\n",
    "    for j = 1 : m\n",
    "      k2(j) = h * cell_f{j}(t(i) + (h / 2), w(:, i) + (k1 / 2));\n",
    "    endfor\n",
    "\n",
    "    for j = 1 : m\n",
    "      k3(j) = h * cell_f{j}(t(i) + (h / 2), w(:, i) + (k2 / 2));\n",
    "    endfor\n",
    "\n",
    "    for j = 1 : m\n",
    "      k4(j) = h * cell_f{j}(t(i + 1), w(:, i) + k3);\n",
    "    endfor\n",
    "\n",
    "    for j = 1 : m\n",
    "      w(j, i + 1) = w(j, i) + (k1(j) + 2 * k2(j) + 2 * k3(j) + k4(j)) / 6;\n",
    "    endfor\n",
    "  endfor\n",
    "endfunction"
   ]
  },
  {
   "cell_type": "raw",
   "id": "347e578e",
   "metadata": {},
   "source": [
    ":::"
   ]
  },
  {
   "cell_type": "markdown",
   "id": "b9626b74",
   "metadata": {},
   "source": [
    "### Contoh sistem PD"
   ]
  },
  {
   "cell_type": "markdown",
   "id": "92d49126",
   "metadata": {},
   "source": [
    "$u'_1 = -4u_1+3u_2+6, \\;u_1(0)=0$\n",
    "\n",
    "$u'_2 = -2.4u_1+1.6u_2+3.6, \\;u_2(0)=0$\n",
    "\n",
    "Akan diuji dengan $h=0.1$ dan $0\\leq t \\leq 0.5$\n",
    "\n",
    "Solusi eksak:\n",
    "\n",
    "$u_1(t)=-3.375e^{-2t}+1.875e^{-0.4t}+1.5$\n",
    "\n",
    "$u_2(t) = -2.25e^{-2t}+2.25e^{-0.4t}$"
   ]
  },
  {
   "cell_type": "markdown",
   "id": "f1687c55",
   "metadata": {},
   "source": [
    "Berikut adalah code script file untuk menjalankan function metode Runge-Kutta untuk sistem PD di atas (menggunakan yang khusus dua persamaan):"
   ]
  },
  {
   "cell_type": "raw",
   "id": "bbf9a051",
   "metadata": {},
   "source": [
    "::: {.panel-tabset}\n",
    "\n",
    "### *Script file* `coba_rko4_sys2.m` - nama *file* bebas"
   ]
  },
  {
   "cell_type": "code",
   "execution_count": null,
   "id": "ee5e5b89",
   "metadata": {},
   "outputs": [],
   "source": [
    "f1 = @(t, y1, y2) (-4*y1 + 3*y2 + 6);\n",
    "f2 = @(t, y1, y2) (-2.4*y1 + 1.6*y2 + 3.6);\n",
    "\n",
    "a = 0;\n",
    "b = 0.5;\n",
    "N = 5;\n",
    "alph1 = 0;\n",
    "alph2 = 0;\n",
    "\n",
    "[t, w1, w2] = rko4_sys2(f1, f2, a, b, N, alph1, alph2);\n",
    "\n",
    "sln1 = @(t) (-3.375*exp(-2*t) + 1.875*exp(-0.4*t) + 1.5);\n",
    "sln2 = @(t) (-2.25*exp(-2*t) + 2.25*exp(-0.4*t));\n",
    "\n",
    "w1ex = w2ex = [];\n",
    "for i = 1:length(t)\n",
    "  w1ex(i) = sln1(t(i));\n",
    "  w2ex(i) = sln2(t(i));\n",
    "endfor\n",
    "\n",
    "[t', w1', w2', w1ex', w2ex']\n",
    "\n",
    "hold on;\n",
    "fplot(sln1, [a, b], 'r');\n",
    "fplot(sln2, [a, b], 'b');\n",
    "scatter(t, w1, 'r');\n",
    "scatter(t, w2, 'b');\n",
    "legend('u1', 'u2');\n",
    "legend('location', 'northwest');"
   ]
  },
  {
   "cell_type": "raw",
   "id": "18c99107",
   "metadata": {},
   "source": [
    ":::"
   ]
  },
  {
   "attachments": {
    "image-3.png": {
     "image/png": "[encoded data removed]"
    },
    "image.png": {
     "image/png": "[encoded data removed]"
    }
   },
   "cell_type": "markdown",
   "id": "8a9a91df",
   "metadata": {},
   "source": [
    "Jika kita run script file tersebut, maka program akan mengeluarkan dua macam output, yaitu tabel serta plot perbandingan solusi eksak dan aproksimasi seperti di bawah ini:\n",
    "\n",
    "![image.png](attachment:image.png)\n",
    "\n",
    "![image-3.png](attachment:image-3.png)"
   ]
  },
  {
   "cell_type": "markdown",
   "id": "69b4a65e",
   "metadata": {},
   "source": [
    "Berikut conoth script file menggunakan kode yang untuk m persamaan."
   ]
  },
  {
   "cell_type": "raw",
   "id": "ed6b0531",
   "metadata": {},
   "source": [
    "::: {.panel-tabset}\n",
    "\n",
    "### *Script file* `coba_rko4_sysm.m` - nama *file* bebas"
   ]
  },
  {
   "cell_type": "code",
   "execution_count": 4,
   "id": "cacaa6c1",
   "metadata": {},
   "outputs": [
    {
     "name": "stdout",
     "output_type": "stream",
     "text": [
      "ans =\n",
      "\n",
      "        0        0        0        0        0\n",
      "   0.1000   0.5383   0.3196   0.5383   0.3196\n",
      "   0.2000   0.9685   0.5688   0.9685   0.5688\n",
      "   0.3000   1.3107   0.7607   1.3107   0.7607\n",
      "   0.4000   1.5813   0.9063   1.5813   0.9063\n",
      "   0.5000   1.7935   1.0144   1.7935   1.0144\n",
      "\n"
     ]
    },
    {
     "data": {
      "image/png": "[encoded data removed]",
      "text/plain": [
       "<IPython.core.display.Image object>"
      ]
     },
     "metadata": {},
     "output_type": "display_data"
    }
   ],
   "source": [
    "f1 = @(t, u) (-4*u(1) + 3*u(2) + 6);\n",
    "f2 = @(t, u) (-2.4*u(1) + 1.6*u(2) + 3.6);\n",
    "\n",
    "a = 0;\n",
    "b = 0.5;\n",
    "N = 5;\n",
    "alpha1 = 0;\n",
    "alpha2 = 0;\n",
    "\n",
    "[t, w] = rko4_sysm({f1, f2}, a, b, N, [alpha1, alpha2]);\n",
    "\n",
    "sln1 = @(t) (-3.375*exp(-2*t) + 1.875*exp(-0.4*t) + 1.5);\n",
    "sln2 = @(t) (-2.25*exp(-2*t) + 2.25*exp(-0.4*t));\n",
    "\n",
    "u1_eksak = sln1(t);\n",
    "u2_eksak = sln2(t);\n",
    "\n",
    "[t, w', u1_eksak, u2_eksak]\n",
    "\n",
    "hold on;\n",
    "fplot(sln1, [a, b], 'r');\n",
    "scatter(t, w(1, :), 'r'); % ambil baris pertama yaitu solusi u1\n",
    "fplot(sln2, [a, b], 'b');\n",
    "scatter(t, w(2, :), 'b'); % ambil baris kedua yaitu solusi u2\n",
    "legend('u1 (eksak)', 'w1,i', 'u2 (eksak)', 'w2,i');\n",
    "legend('location', 'northwest');"
   ]
  },
  {
   "cell_type": "raw",
   "id": "5061854b",
   "metadata": {},
   "source": [
    ":::"
   ]
  },
  {
   "cell_type": "markdown",
   "id": "bbcad4d4",
   "metadata": {},
   "source": [
    "Sebenarnya, kita bisa saja menampilkan dua plot yang terpisah, menggunakan perintah `figure`. Selain itu, tabelnya juga bisa dipisah antara tabel untuk $u_1$ dan tabel untuk $u_2$, sekaligus menghitung dan menampilkan *error*."
   ]
  },
  {
   "cell_type": "raw",
   "id": "bac3201a",
   "metadata": {},
   "source": [
    "::: {.panel-tabset}\n",
    "\n",
    "### *Script file* `coba2_rko4_sysm.m` - nama *file* bebas"
   ]
  },
  {
   "cell_type": "code",
   "execution_count": 3,
   "id": "f522418f",
   "metadata": {},
   "outputs": [
    {
     "name": "stdout",
     "output_type": "stream",
     "text": [
      "Tabel aproksimasi w1,i, solusi eksak u1(t), dan error:\n",
      "ans =\n",
      "\n",
      "                   0                   0                   0                   0\n",
      "   0.100000000000000   0.538255200000000   0.538263906772417   0.000008706772417\n",
      "   0.200000000000000   0.968498737529088   0.968512994104659   0.000014256575571\n",
      "   0.300000000000000   1.310719039205257   1.310736547027331   0.000017507822074\n",
      "   0.400000000000000   1.581265238963142   1.581284350416023   0.000019111452881\n",
      "   0.500000000000000   1.793507490120283   1.793527048067598   0.000019557947315\n",
      "\n",
      "Tabel aproksimasi w2,i, solusi eksak u2(t), dan error:\n",
      "ans =\n",
      "\n",
      "                   0                   0                   0                   0\n",
      "   0.100000000000000   0.319626240000000   0.319632043667268   0.000005803667268\n",
      "   0.200000000000000   0.568782173034906   0.568791675789742   0.000009502754836\n",
      "   0.300000000000000   0.760733131868175   0.760744801402045   0.000011669533870\n",
      "   0.400000000000000   0.906320617948927   0.906333355910227   0.000012737961300\n",
      "   0.500000000000000   1.014402416769883   1.014415451789714   0.000013035019830\n",
      "\n",
      "Error total (norm L1) untuk w1,i:\n",
      "7.914057025892873e-05\n",
      "Error total (norm L1) untuk w2,i:\n",
      "5.274893710444095e-05\n"
     ]
    },
    {
     "data": {
      "image/png": "[encoded data removed]",
      "text/plain": [
       "<IPython.core.display.Image object>"
      ]
     },
     "metadata": {},
     "output_type": "display_data"
    },
    {
     "data": {
      "image/png": "[encoded data removed]",
      "text/plain": [
       "<IPython.core.display.Image object>"
      ]
     },
     "metadata": {},
     "output_type": "display_data"
    }
   ],
   "source": [
    "f1 = @(t, u) (-4*u(1) + 3*u(2) + 6);\n",
    "f2 = @(t, u) (-2.4*u(1) + 1.6*u(2) + 3.6);\n",
    "\n",
    "a = 0;\n",
    "b = 0.5;\n",
    "N = 5;\n",
    "alpha1 = 0;\n",
    "alpha2 = 0;\n",
    "\n",
    "[t, w] = rko4_sysm({f1, f2}, a, b, N, [alpha1, alpha2]);\n",
    "\n",
    "sln1 = @(t) (-3.375*exp(-2*t) + 1.875*exp(-0.4*t) + 1.5);\n",
    "sln2 = @(t) (-2.25*exp(-2*t) + 2.25*exp(-0.4*t));\n",
    "\n",
    "u1_eksak = sln1(t);\n",
    "u2_eksak = sln2(t);\n",
    "\n",
    "% menghitung error\n",
    "err_w1 = abs(w(1, :)' - u1_eksak);\n",
    "err_w2 = abs(w(2, :)' - u2_eksak);\n",
    "err_w1_total = sum(err_w1); % norm L1 (taxicab/Manhattan)\n",
    "err_w2_total = sum(err_w2); % norm L1 (taxicab/Manhattan)\n",
    "\n",
    "% menampilkan tabel, termasuk error\n",
    "format long;\n",
    "disp(\"Tabel aproksimasi w1,i, solusi eksak u1(t), dan error:\");\n",
    "[t, w(1, :)', u1_eksak, err_w1]\n",
    "disp(\"Tabel aproksimasi w2,i, solusi eksak u2(t), dan error:\");\n",
    "[t, w(2, :)', u2_eksak, err_w2]\n",
    "disp(\"Error total (norm L1) untuk w1,i:\");\n",
    "disp(err_w1_total);\n",
    "disp(\"Error total (norm L1) untuk w2,i:\");\n",
    "disp(err_w2_total);\n",
    "format;\n",
    "\n",
    "figure;\n",
    "hold on;\n",
    "fplot(sln1, [a, b], 'g');\n",
    "scatter(t, w(1, :), 'r'); % ambil baris pertama yaitu solusi u1\n",
    "title(\"Aproksimasi u1\");\n",
    "legend(\"u1 (eksak)\", \"w1,i (aproksimasi)\")\n",
    "legend('location', 'northwest');\n",
    "\n",
    "figure;\n",
    "hold on;\n",
    "fplot(sln2, [a, b], 'g');\n",
    "scatter(t, w(2, :), 'b'); % ambil baris kedua yaitu solusi u2\n",
    "title(\"Aproksimasi u2\");\n",
    "legend(\"u2 (eksak)\", \"w2,i (aproksimasi)\")\n",
    "legend('location', 'northwest');"
   ]
  },
  {
   "cell_type": "raw",
   "id": "4518921a",
   "metadata": {},
   "source": [
    ":::"
   ]
  },
  {
   "cell_type": "markdown",
   "id": "a4bfc9b4",
   "metadata": {},
   "source": [
    "## Contoh lain: untuk metode Taylor orde $n$"
   ]
  },
  {
   "cell_type": "raw",
   "id": "36e54382",
   "metadata": {},
   "source": [
    "::: {.panel-tabset}\n",
    "\n",
    "### *Function file* `taylor_sysm.m` - nama *file* harus sama dengan nama fungsi"
   ]
  },
  {
   "cell_type": "code",
   "execution_count": 4,
   "id": "1701a12a",
   "metadata": {},
   "outputs": [],
   "source": [
    "function [t, w] = taylor_sysm(cell_f, cell_fp, a, b, N, alphas)\n",
    "  m = length(cell_f);\n",
    "  \n",
    "  h = (b - a) / N;\n",
    "  n = length(cell_fp{1}) + 1;\n",
    "  t = zeros(N + 1, 1);\n",
    "  w = zeros(m, N + 1);\n",
    "  t(1) = a;\n",
    "  w(:, 1) = alphas;\n",
    "  for i = 1 : N\n",
    "    t(i + 1) = t(i) + h;\n",
    "    \n",
    "    for j = 1 : m\n",
    "      T = cell_f{j}(t(i), w(:, i));\n",
    "      for p = 2 : n\n",
    "        T += h^(p-1) * cell_fp{j}{p-1}(t(i), w(:, i)) / factorial(p);\n",
    "      endfor\n",
    "      w(j, i + 1) = w(j, i) + h * T;\n",
    "    endfor\n",
    "  endfor\n",
    "endfunction"
   ]
  },
  {
   "cell_type": "raw",
   "id": "0aa81555",
   "metadata": {},
   "source": [
    ":::"
   ]
  },
  {
   "cell_type": "markdown",
   "id": "f7d8cb43",
   "metadata": {},
   "source": [
    "Mencoba masalah yang sama,"
   ]
  },
  {
   "cell_type": "markdown",
   "id": "96e66838",
   "metadata": {},
   "source": [
    "$u'_1 = -4u_1+3u_2+6, \\;u_1(0)=0$\n",
    "\n",
    "$u'_2 = -2.4u_1+1.6u_2+3.6, \\;u_2(0)=0$\n",
    "\n",
    "Akan diuji dengan $h=0.1$ dan $0\\leq t \\leq 0.5$\n",
    "\n",
    "Solusi eksak:\n",
    "\n",
    "$u_1(t)=-3.375e^{-2t}+1.875e^{-0.4t}+1.5$\n",
    "\n",
    "$u_2(t) = -2.25e^{-2t}+2.25e^{-0.4t}$"
   ]
  },
  {
   "cell_type": "markdown",
   "id": "19e816d4",
   "metadata": {},
   "source": [
    "Perhatikan bahwa\n",
    "\n",
    "$$u_1' = f_1(t, u_1, u_2) = -4u_1+3u_2+6$$\n",
    "\n",
    "$$u_2' = f_2(t, u_1, u_2) = -2.4u_1+1.6u_2+3.6$$"
   ]
  },
  {
   "cell_type": "markdown",
   "id": "c44c7995",
   "metadata": {},
   "source": [
    "### Contoh $n=1$ (metode Euler)"
   ]
  },
  {
   "cell_type": "markdown",
   "id": "4cafa418",
   "metadata": {},
   "source": [
    "Apabila kita tidak menyediakan turunan (terhadap $t$) dari $f_1$ maupun dari $f_2$, maka $n=1$, yaitu metode Taylor orde $n$ menjadi metode Euler."
   ]
  },
  {
   "cell_type": "raw",
   "id": "4c1ea1a4",
   "metadata": {},
   "source": [
    "::: {.panel-tabset}\n",
    "\n",
    "### *Script file* `coba1_taylor_sysm.m` - nama *file* bebas"
   ]
  },
  {
   "cell_type": "code",
   "execution_count": 5,
   "id": "cb1267ed",
   "metadata": {},
   "outputs": [
    {
     "name": "stdout",
     "output_type": "stream",
     "text": [
      "Tabel aproksimasi w1,i, solusi eksak u1(t), dan error:\n",
      "ans =\n",
      "\n",
      "                   0                   0                   0                   0\n",
      "   0.100000000000000   0.600000000000000   0.538263906772417   0.061736093227583\n",
      "   0.200000000000000   1.068000000000000   0.968512994104659   0.099487005895341\n",
      "   0.300000000000000   1.430880000000000   1.310736547027331   0.120143452972669\n",
      "   0.400000000000000   1.710124800000000   1.581284350416023   0.128840449583977\n",
      "   0.500000000000000   1.922903808000000   1.793527048067598   0.129376759932402\n",
      "\n",
      "Tabel aproksimasi w2,i, solusi eksak u2(t), dan error:\n",
      "ans =\n",
      "\n",
      "                   0                   0                   0                   0\n",
      "   0.100000000000000   0.360000000000000   0.319632043667268   0.040367956332732\n",
      "   0.200000000000000   0.633600000000000   0.568791675789742   0.064808324210258\n",
      "   0.300000000000000   0.838656000000000   0.760744801402045   0.077911198597955\n",
      "   0.400000000000000   0.989429760000000   0.906333355910227   0.083096404089773\n",
      "   0.500000000000000   1.097308569600000   1.014415451789714   0.082893117810286\n",
      "\n",
      "Error total (norm L1) untuk w1,i:\n",
      "0.539583761611971\n",
      "Error total (norm L1) untuk w2,i:\n",
      "0.349077001041004\n"
     ]
    },
    {
     "data": {
      "image/png": "[encoded data removed]",
      "text/plain": [
       "<IPython.core.display.Image object>"
      ]
     },
     "metadata": {},
     "output_type": "display_data"
    },
    {
     "data": {
      "image/png": "[encoded data removed]",
      "text/plain": [
       "<IPython.core.display.Image object>"
      ]
     },
     "metadata": {},
     "output_type": "display_data"
    }
   ],
   "source": [
    "f1 = @(t, u) (-4*u(1) +3*u(2) + 6);\n",
    "turunan_f1 = {}; % tidak menyediakan turunan f1 terhadap t\n",
    "\n",
    "f2 = @(t, u) (-2.4*u(1) + 1.6*u(2) + 3.6);\n",
    "turunan_f2 = {}; % tidak menyediakan turunan f2 terhadap t\n",
    "\n",
    "a = 0;\n",
    "b = 0.5;\n",
    "h = 0.1;\n",
    "N = (b - a) / h;\n",
    "alpha1 = 0;\n",
    "alpha2 = 0;\n",
    "\n",
    "[t, w] = taylor_sysm({f1, f2}, {turunan_f1, turunan_f2}, a, b, N, [alpha1, alpha2]);\n",
    "\n",
    "sln1 = @(t) (-3.375*exp(-2*t) + 1.875*exp(-0.4*t) + 1.5);\n",
    "sln2 = @(t) (-2.25*exp(-2*t) + 2.25*exp(-0.4*t));\n",
    "\n",
    "u1_eksak = sln1(t);\n",
    "u2_eksak = sln2(t);\n",
    "\n",
    "% menghitung error\n",
    "err_w1 = abs(w(1, :)' - u1_eksak);\n",
    "err_w2 = abs(w(2, :)' - u2_eksak);\n",
    "err_w1_total = sum(err_w1); % norm L1 (taxicab/Manhattan)\n",
    "err_w2_total = sum(err_w2); % norm L1 (taxicab/Manhattan)\n",
    "\n",
    "% menampilkan tabel, termasuk error\n",
    "format long;\n",
    "disp(\"Tabel aproksimasi w1,i, solusi eksak u1(t), dan error:\");\n",
    "[t, w(1, :)', u1_eksak, err_w1]\n",
    "disp(\"Tabel aproksimasi w2,i, solusi eksak u2(t), dan error:\");\n",
    "[t, w(2, :)', u2_eksak, err_w2]\n",
    "disp(\"Error total (norm L1) untuk w1,i:\");\n",
    "disp(err_w1_total);\n",
    "disp(\"Error total (norm L1) untuk w2,i:\");\n",
    "disp(err_w2_total);\n",
    "format;\n",
    "\n",
    "figure;\n",
    "hold on;\n",
    "fplot(sln1, [a,b], 'r');\n",
    "scatter(t, w(1, :), 'r');\n",
    "title(\"u1\");\n",
    "legend(\"u1 (eksak)\", \"w1,i (aproksimasi)\")\n",
    "legend('location', 'northwest')\n",
    "\n",
    "figure;\n",
    "hold on;\n",
    "fplot(sln2, [a,b], 'b');\n",
    "scatter(t, w(2, :), 'b');\n",
    "title(\"u2\");\n",
    "legend(\"u2 (eksak)\", \"w2,i (aproksimasi)\")\n",
    "legend('location', 'northwest')"
   ]
  },
  {
   "cell_type": "raw",
   "id": "3e4cabf5",
   "metadata": {},
   "source": [
    ":::"
   ]
  },
  {
   "cell_type": "markdown",
   "id": "503f6415",
   "metadata": {},
   "source": [
    "### Contoh $n=4$ (metode Taylor orde 4)"
   ]
  },
  {
   "cell_type": "markdown",
   "id": "80d260bc",
   "metadata": {},
   "source": [
    "Dengan contoh yang sama,\n",
    "\n",
    "$$u_1' = f_1(t, u_1, u_2) = -4u_1+3u_2+6$$\n",
    "\n",
    "$$u_2' = f_2(t, u_1, u_2) = -2.4u_1+1.6u_2+3.6$$"
   ]
  },
  {
   "cell_type": "markdown",
   "id": "fb095145",
   "metadata": {},
   "source": [
    "Apabila ingin menggunakan metode Taylor orde 4, kita perlu memiliki turunan (terhadap $t$) dari $f_1$ maupun dari $f_2$ hingga turunan ketiga ($n-1=4-1=3$)."
   ]
  },
  {
   "cell_type": "markdown",
   "id": "5ac48d07",
   "metadata": {},
   "source": [
    "Untuk $f_1$,\n",
    "\n",
    "$$\\begin{align*}\n",
    "    f_1(t, u_1, u_2) &= -4u_1 + 3u_2 + 6 \\\\[1em]\n",
    "\n",
    "    f_1'(t, u_1, u_2) &= \\frac{d}{dt} f_1(t, u_1, u_2) \\\\\n",
    "    &= \\frac{d}{dt} \\left(-4u_1 + 3u_2 + 6\\right) \\\\\n",
    "    &= -4u'_1 + 3u'_2 \\\\\n",
    "    &= -4\\left(-4u_1 + 3u_2 + 6\\right)\n",
    "    + 3\\left(-2.4u_1 + 1.6u_2 + 3.6\\right) \\\\\n",
    "    &= 16u_1 - 12u_2 - 24 - 7.2u_1 + 4.8u_2 + 10.8 \\\\\n",
    "    &= 8.8u_1 - 7.2u_2 - 13.2 \\\\[1em]\n",
    "\n",
    "    f_1''(t, u_1, u_2) &= \\frac{d}{dt} f_1'(t, u_1, u_2) \\\\\n",
    "    &= \\frac{d}{dt} \\left(8.8u_1 - 7.2u_2 - 13.2\\right) \\\\\n",
    "    &= 8.8u_1' - 7.2u_2' \\\\\n",
    "    &= 8.8\\left(-4u_1 + 3u_2 + 6\\right)\n",
    "    - 7.2\\left(-2.4u_1 + 1.6u_2 + 3.6\\right) \\\\\n",
    "    &= -35.2u_1 + 26.4u_2 + 52.8 + 17.28u_1 - 11.52u_2 - 25.92 \\\\\n",
    "    &= -17.92u_1 + 14.88u_2 + 26.8 \\\\[1em]\n",
    "\n",
    "    f_1'''(t, u_1, u_2) &= \\frac{d}{dt} f_1''(t, u_1, u_2) \\\\\n",
    "    &= \\frac{d}{dt} \\left(-17.92u_1 + 14.88u_2 + 26.8\\right) \\\\\n",
    "    &= -17.92u_1' + 14.88u_2' \\\\\n",
    "    &= -17.92\\left(-4u_1 + 3u_2 + 6\\right)\n",
    "    + 14.88\\left(-2.4u_1 + 1.6u_2 + 3.6\\right) \\\\\n",
    "    &= 71.68u_1 - 53.76u_2 -107.52 - 35.712u_1 + 23.808u_2 + 53.568 \\\\\n",
    "    &= 35.968u_1 - 29.952u_2 - 53.952\n",
    "\\end{align*}$$"
   ]
  },
  {
   "cell_type": "markdown",
   "id": "368ade14",
   "metadata": {},
   "source": [
    "Untuk $f_2$,\n",
    "\n",
    "$$\\begin{align*}\n",
    "    f_2(t, u_1, u_2) &= -2.4u_1 + 1.6u_2 + 3.6 \\\\[1em]\n",
    "\n",
    "    f_2'(t, u_1, u_2) &= \\frac{d}{dt} f_2(t, u_1, u_2) \\\\\n",
    "    &= \\frac{d}{dt} \\left(-2.4u_1 + 1.6u_2 + 3.6\\right) \\\\\n",
    "    &= -2.4u_1' + 1.6u_2' \\\\\n",
    "    &= -2.4\\left(-4u_1 + 3u_2 + 6\\right)\n",
    "    + 1.6\\left(-2.4u_1 + 1.6u_2 + 3.6\\right) \\\\\n",
    "    &= 9.6u_1 - 7.2u_2 - 14.4 + -3.84u_1 + 2.56u_2 + 5.76 \\\\\n",
    "    &= 5.76u_1 - 4.64u_2 - 8.64 \\\\[1em]\n",
    "\n",
    "    f_2''(t, u_1, u_2) &= \\frac{d}{dt} f_2'(t, u_1, u_2) \\\\\n",
    "    &= \\frac{d}{dt} \\left(5.76u_1 - 4.64u_2 - 8.64\\right) \\\\\n",
    "    &= 5.76u_1' - 4.64u_2' \\\\\n",
    "    &= 5.76\\left(-4u_1 + 3u_2 + 6\\right)\n",
    "    -4.64\\left(-2.4u_1 + 1.6u_2 + 3.6\\right) \\\\\n",
    "    &= -23.04u_1 + 17.28u_2 + 34.56 + 11.136u_1 - 7.424u_2 - 16.704 \\\\\n",
    "    &= -11.904u_1 + 9.856u_2 + 17.856 \\\\[1em]\n",
    "\n",
    "    f_2'''(t, u_1, u_2) &= \\frac{d}{dt} f_2''(t, u_!, u_2) \\\\\n",
    "    &= \\frac{d}{dt} \\left(-11.904u_1 + 9.856u_2 + 17.856\\right) \\\\\n",
    "    &= -11.904u_1' + 9.856u_2' \\\\\n",
    "    &= -11.904\\left(-4u_1 + 3u_2 + 6\\right)\n",
    "    + 9.856\\left(-2.4u_1 + 1.6u_2 + 3.6\\right) \\\\\n",
    "    &= 47.616u_1 - 35.712u_2 - 71.424 - 23.6544u_1 + 15.7696u_2 + 35.4816 \\\\\n",
    "    &= 23.9616u_1 - 19.9424u_2 - 35.9424\n",
    "\\end{align*}$$"
   ]
  },
  {
   "cell_type": "markdown",
   "id": "f09ee53f",
   "metadata": {},
   "source": [
    "Sehingga, untuk $f_1$,\n",
    "\n",
    "$$\\begin{align*}\n",
    "    f_1(t, u_1, u_2) &= -4u_1 + 3u_2 + 6 \\\\[1em]\n",
    "\n",
    "    f_1'(t, u_1, u_2) &= 8.8u_1 - 7.2u_2 - 13.2 \\\\[1em]\n",
    "\n",
    "    f_1''(t, u_1, u_2) &= -17.92u_1 + 14.88u_2 + 26.8 \\\\[1em]\n",
    "\n",
    "    f_1'''(t, u_1, u_2) &= 35.968u_1 - 29.952u_2 - 53.952\n",
    "\\end{align*}$$\n",
    "\n",
    "dan untuk $f_2$,\n",
    "\n",
    "$$\\begin{align*}\n",
    "    f_2(t, u_1, u_2) &= -2.4u_1 + 1.6u_2 + 3.6 \\\\[1em]\n",
    "\n",
    "    f_2'(t, u_1, u_2) &= 5.76u_1 - 4.64u_2 - 8.64 \\\\[1em]\n",
    "\n",
    "    f_2''(t, u_1, u_2) &= -11.904u_1 + 9.856u_2 + 17.856 \\\\[1em]\n",
    "\n",
    "    f_2'''(t, u_1, u_2) &= 23.9616u_1 - 19.9424u_2 - 35.9424\n",
    "\\end{align*}$$"
   ]
  },
  {
   "cell_type": "markdown",
   "id": "17ad87a2",
   "metadata": {},
   "source": [
    "Fungsi $f_1$ dan $f_2$ serta turunan-turunannya bisa kita gunakan sebagai berikut."
   ]
  },
  {
   "cell_type": "raw",
   "id": "b6602d10",
   "metadata": {},
   "source": [
    "::: {.panel-tabset}\n",
    "\n",
    "### *Script file* `coba2_taylor_sysm.m` - nama *file* bebas"
   ]
  },
  {
   "cell_type": "code",
   "execution_count": 6,
   "id": "0255820d",
   "metadata": {},
   "outputs": [
    {
     "name": "stdout",
     "output_type": "stream",
     "text": [
      "Tabel aproksimasi w1,i, solusi eksak u1(t), dan error:\n",
      "ans =\n",
      "\n",
      "                   0                   0                   0                   0\n",
      "   0.100000000000000   0.538241866666667   0.538263906772417   0.000022040105751\n",
      "   0.200000000000000   0.968476855353088   0.968512994104659   0.000036138751571\n",
      "   0.300000000000000   1.310692432573591   1.310736547027331   0.000044114453740\n",
      "   0.400000000000000   1.581236949834047   1.581284350416023   0.000047400581977\n",
      "   0.500000000000000   1.793479923348867   1.793527048067598   0.000047124718731\n",
      "\n",
      "Tabel aproksimasi w2,i, solusi eksak u2(t), dan error:\n",
      "ans =\n",
      "\n",
      "                   0                   0                   0                   0\n",
      "   0.100000000000000   0.319626240000000   0.319632043667268   0.000005803667268\n",
      "   0.200000000000000   0.568785014157039   0.568791675789742   0.000006661632703\n",
      "   0.300000000000000   0.760741028831847   0.760744801402045   0.000003772570198\n",
      "   0.400000000000000   0.906335276984882   0.906333355910227   0.000001921074655\n",
      "   0.500000000000000   1.014425131989109   1.014415451789714   0.000009680199395\n",
      "\n",
      "Error total (norm L1) untuk w1,i:\n",
      "1.968186117699000e-04\n",
      "Error total (norm L1) untuk w2,i:\n",
      "2.783914421899958e-05\n"
     ]
    },
    {
     "data": {
      "image/png": "[encoded data removed]",
      "text/plain": [
       "<IPython.core.display.Image object>"
      ]
     },
     "metadata": {},
     "output_type": "display_data"
    },
    {
     "data": {
      "image/png": "[encoded data removed]",
      "text/plain": [
       "<IPython.core.display.Image object>"
      ]
     },
     "metadata": {},
     "output_type": "display_data"
    }
   ],
   "source": [
    "f1    = @(t, u) (-4*u(1) +3*u(2) + 6);\n",
    "f1p   = @(t, u) (8.8*u(1) - 7.2*u(2) - 13.2);\n",
    "f1pp  = @(t, u) (-17.92*u(1) + 14.88*u(2) + 26.8);\n",
    "f1ppp = @(t, u) (35.968*u(1) - 29.952*u(2) - 53.952);\n",
    "turunan_f1 = {f1p, f1pp, f1ppp};\n",
    "\n",
    "f2    = @(t, u) (-2.4*u(1) + 1.6*u(2) + 3.6);\n",
    "f2p   = @(t, u) (5.76*u(1) - 4.64*u(2) - 8.64);\n",
    "f2pp  = @(t, u) (-11.904*u(1) + 9.856*u(2) + 17.856);\n",
    "f2ppp = @(t, u) (23.9616*u(1) - 19.9424*u(2) - 35.9424);\n",
    "turunan_f2 = {f2p, f2pp, f2ppp};\n",
    "\n",
    "a = 0;\n",
    "b = 0.5;\n",
    "h = 0.1;\n",
    "N = (b - a) / h;\n",
    "alpha1 = 0;\n",
    "alpha2 = 0;\n",
    "\n",
    "[t, w] = taylor_sysm({f1, f2}, {turunan_f1, turunan_f2}, a, b, N, [alpha1, alpha2]);\n",
    "\n",
    "sln1 = @(t) (-3.375*exp(-2*t) + 1.875*exp(-0.4*t) + 1.5);\n",
    "sln2 = @(t) (-2.25*exp(-2*t) + 2.25*exp(-0.4*t));\n",
    "\n",
    "u1_eksak = sln1(t);\n",
    "u2_eksak = sln2(t);\n",
    "\n",
    "% menghitung error\n",
    "err_w1 = abs(w(1, :)' - u1_eksak);\n",
    "err_w2 = abs(w(2, :)' - u2_eksak);\n",
    "err_w1_total = sum(err_w1); % norm L1 (taxicab/Manhattan)\n",
    "err_w2_total = sum(err_w2); % norm L1 (taxicab/Manhattan)\n",
    "\n",
    "% menampilkan tabel, termasuk error\n",
    "format long;\n",
    "disp(\"Tabel aproksimasi w1,i, solusi eksak u1(t), dan error:\");\n",
    "[t, w(1, :)', u1_eksak, err_w1]\n",
    "disp(\"Tabel aproksimasi w2,i, solusi eksak u2(t), dan error:\");\n",
    "[t, w(2, :)', u2_eksak, err_w2]\n",
    "disp(\"Error total (norm L1) untuk w1,i:\");\n",
    "disp(err_w1_total);\n",
    "disp(\"Error total (norm L1) untuk w2,i:\");\n",
    "disp(err_w2_total);\n",
    "format;\n",
    "\n",
    "figure;\n",
    "hold on;\n",
    "fplot(sln1, [a,b], 'r');\n",
    "scatter(t, w(1, :), 'r');\n",
    "title(\"u1\");\n",
    "legend(\"u1 (eksak)\", \"w1,i (aproksimasi)\")\n",
    "legend('location', 'northwest')\n",
    "\n",
    "figure;\n",
    "hold on;\n",
    "fplot(sln2, [a,b], 'b');\n",
    "scatter(t, w(2, :), 'b');\n",
    "title(\"u2\");\n",
    "legend(\"u2 (eksak)\", \"w2,i (aproksimasi)\")\n",
    "legend('location', 'northwest')"
   ]
  },
  {
   "cell_type": "raw",
   "id": "6fdc1bec",
   "metadata": {},
   "source": [
    ":::"
   ]
  },
  {
   "cell_type": "markdown",
   "id": "1bb85653",
   "metadata": {},
   "source": [
    "## Contoh lain: untuk metode Adams *predictor-corrector* orde 4"
   ]
  },
  {
   "cell_type": "raw",
   "id": "1d09cfdd",
   "metadata": {},
   "source": [
    "::: {.panel-tabset}\n",
    "\n",
    "### *Function file* `adams_pc_orde4_sysm.m` - nama *file* harus sama dengan nama fungsi"
   ]
  },
  {
   "cell_type": "code",
   "execution_count": 7,
   "id": "eeac0316",
   "metadata": {},
   "outputs": [],
   "source": [
    "function [t, w] = adams_pc_orde4_sysm(cell_f, a, b, N, alphas)\n",
    "  m = length(cell_f);\n",
    "  \n",
    "  % Inisiasi variabel awal\n",
    "  h = (b - a) / N;\n",
    "  t = zeros(N + 1, 1);\n",
    "  w = zeros(m, N + 1);\n",
    "  t(1) = a;\n",
    "  w(:, 1) = alphas;\n",
    "  \n",
    "  % Hitung w(2), w(3), w(4) menggunakan metode Runge-Kutta orde 4\n",
    "  k1 = zeros(m, 1);\n",
    "  k2 = zeros(m, 1);\n",
    "  k3 = zeros(m, 1);\n",
    "  k4 = zeros(m, 1);\n",
    "  for i = 1 : 3\n",
    "      t(i + 1) = t(i) + h;\n",
    "      \n",
    "      for j = 1 : m\n",
    "        k1(j) = h * cell_f{j}(t(i), w(:,i));\n",
    "      endfor\n",
    "      \n",
    "      for j = 1 : m\n",
    "        k2(j) = h * cell_f{j}(t(i) + (h/2), w(:,i) + (k1/2));\n",
    "      endfor\n",
    "      \n",
    "      for j = 1 : m\n",
    "        k3(j) = h * cell_f{j}(t(i) + (h/2), w(:,i) + (k2/2));\n",
    "      endfor\n",
    "      \n",
    "      for j = 1 : m\n",
    "        k4(j) = h * cell_f{j}(t(i + 1), w(:,i) + k3);\n",
    "      endfor\n",
    "      \n",
    "      for j = 1 : m\n",
    "        w(j,i+1) = w(j,i) + (k1(j) + 2*k2(j) + 2*k3(j) + k4(j)) / 6;\n",
    "      endfor\n",
    "  endfor\n",
    "  \n",
    "  % Algoritma utama Adams Predictor-Corrector orde 4\n",
    "  m0 = zeros(m, 1);\n",
    "  m1 = zeros(m, 1);\n",
    "  m2 = zeros(m, 1);\n",
    "  m3 = zeros(m, 1);\n",
    "  m4 = zeros(m, 1);\n",
    "  for i = 4 : N\n",
    "    t(i + 1) = t(i) + h;\n",
    "    \n",
    "    for j = 1 : m\n",
    "      m1(j) = cell_f{j}(t(i), w(:,i));\n",
    "    endfor\n",
    "    \n",
    "    for j = 1 : m\n",
    "      m2(j) = cell_f{j}(t(i-1), w(:,i-1));\n",
    "    endfor \n",
    "    \n",
    "    for j = 1 : m\n",
    "      m3(j) = cell_f{j}(t(i-2), w(:,i-2));\n",
    "    endfor\n",
    "    \n",
    "    for j = 1 : m\n",
    "      m4(j) = cell_f{j}(t(i-3), w(:,i-3));\n",
    "    endfor\n",
    "    \n",
    "    % Adams-Bashforth orde 4 (four-step)\n",
    "    for j = 1 : m\n",
    "      w(j,i+1) = w(j,i) + (h/24) * (55*m1(j) - 59*m2(j) + 37*m3(j) - 9*m4(j));\n",
    "    endfor\n",
    "    % Adams-Moulton orde 4 (three-step)\n",
    "    for j = 1 : m\n",
    "      m0(j) = cell_f{j}(t(i+1), w(:,i+1));\n",
    "    endfor\n",
    "    for j = 1 : m\n",
    "      w(j,i+1) = w(j,i) + (h/24) * (9*m0(j) + 19*m1(j) - 5*m2(j) + m3(j));\n",
    "    endfor\n",
    "  endfor\n",
    "endfunction"
   ]
  },
  {
   "cell_type": "raw",
   "id": "060f1029",
   "metadata": {},
   "source": [
    ":::"
   ]
  },
  {
   "cell_type": "markdown",
   "id": "2f24266b",
   "metadata": {},
   "source": [
    "Mencoba untuk masalah yang sama, yaitu"
   ]
  },
  {
   "cell_type": "markdown",
   "id": "1709ec90",
   "metadata": {},
   "source": [
    "$u'_1 = -4u_1+3u_2+6, \\;u_1(0)=0$\n",
    "\n",
    "$u'_2 = -2.4u_1+1.6u_2+3.6, \\;u_2(0)=0$\n",
    "\n",
    "Akan diuji dengan $h=0.1$ dan $0\\leq t \\leq 0.5$\n",
    "\n",
    "Solusi eksak:\n",
    "\n",
    "$u_1(t)=-3.375e^{-2t}+1.875e^{-0.4t}+1.5$\n",
    "\n",
    "$u_2(t) = -2.25e^{-2t}+2.25e^{-0.4t}$"
   ]
  },
  {
   "cell_type": "raw",
   "id": "fe963c85",
   "metadata": {},
   "source": [
    "::: {.panel-tabset}\n",
    "\n",
    "### *Script file* `coba_adams_pc_orde4_sysm.m` - nama *file* bebas"
   ]
  },
  {
   "cell_type": "code",
   "execution_count": 8,
   "id": "13d7b648",
   "metadata": {},
   "outputs": [
    {
     "name": "stdout",
     "output_type": "stream",
     "text": [
      "Tabel aproksimasi w1,i, solusi eksak u1(t), dan error:\n",
      "ans =\n",
      "\n",
      "                   0                   0                   0                   0\n",
      "   0.100000000000000   0.538255200000000   0.538263906772417   0.000008706772417\n",
      "   0.200000000000000   0.968498737529088   0.968512994104659   0.000014256575571\n",
      "   0.300000000000000   1.310719039205257   1.310736547027331   0.000017507822074\n",
      "   0.400000000000000   1.581306013228106   1.581284350416023   0.000021662812083\n",
      "   0.500000000000000   1.793573533217050   1.793527048067598   0.000046485149452\n",
      "\n",
      "Tabel aproksimasi w2,i, solusi eksak u2(t), dan error:\n",
      "ans =\n",
      "\n",
      "                   0                   0                   0                   0\n",
      "   0.100000000000000   0.319626240000000   0.319632043667268   0.000005803667268\n",
      "   0.200000000000000   0.568782173034906   0.568791675789742   0.000009502754836\n",
      "   0.300000000000000   0.760733131868175   0.760744801402045   0.000011669533870\n",
      "   0.400000000000000   0.906347797116244   0.906333355910227   0.000014441206017\n",
      "   0.500000000000000   1.014446438459705   1.014415451789714   0.000030986669992\n",
      "\n",
      "Error total (norm L1) untuk w1,i:\n",
      "1.086191315975427e-04\n",
      "Error total (norm L1) untuk w2,i:\n",
      "7.240383198242606e-05\n"
     ]
    },
    {
     "data": {
      "image/png": "[encoded data removed]",
      "text/plain": [
       "<IPython.core.display.Image object>"
      ]
     },
     "metadata": {},
     "output_type": "display_data"
    },
    {
     "data": {
      "image/png": "[encoded data removed]",
      "text/plain": [
       "<IPython.core.display.Image object>"
      ]
     },
     "metadata": {},
     "output_type": "display_data"
    }
   ],
   "source": [
    "f1 = @(t, u) (-4*u(1) +3*u(2) + 6);\n",
    "f2 = @(t, u) (-2.4*u(1) + 1.6*u(2) + 3.6);\n",
    "\n",
    "a = 0;\n",
    "b = 0.5;\n",
    "h = 0.1;\n",
    "N = (b - a) / h;\n",
    "alpha1 = 0;\n",
    "alpha2 = 0;\n",
    "\n",
    "[t, w] = adams_pc_orde4_sysm({f1, f2}, a, b, N, [alpha1, alpha2]);\n",
    "\n",
    "sln1 = @(t) (-3.375*exp(-2*t) + 1.875*exp(-0.4*t) + 1.5);\n",
    "sln2 = @(t) (-2.25*exp(-2*t) + 2.25*exp(-0.4*t));\n",
    "\n",
    "u1_eksak = sln1(t);\n",
    "u2_eksak = sln2(t);\n",
    "\n",
    "% menghitung error\n",
    "err_w1 = abs(w(1, :)' - u1_eksak);\n",
    "err_w2 = abs(w(2, :)' - u2_eksak);\n",
    "err_w1_total = sum(err_w1); % norm L1 (taxicab/Manhattan)\n",
    "err_w2_total = sum(err_w2); % norm L1 (taxicab/Manhattan)\n",
    "\n",
    "% menampilkan tabel, termasuk error\n",
    "format long;\n",
    "disp(\"Tabel aproksimasi w1,i, solusi eksak u1(t), dan error:\");\n",
    "[t, w(1, :)', u1_eksak, err_w1]\n",
    "disp(\"Tabel aproksimasi w2,i, solusi eksak u2(t), dan error:\");\n",
    "[t, w(2, :)', u2_eksak, err_w2]\n",
    "disp(\"Error total (norm L1) untuk w1,i:\");\n",
    "disp(err_w1_total);\n",
    "disp(\"Error total (norm L1) untuk w2,i:\");\n",
    "disp(err_w2_total);\n",
    "format;\n",
    "\n",
    "figure;\n",
    "hold on;\n",
    "fplot(sln1, [a,b], 'r');\n",
    "scatter(t, w(1, :), 'r');\n",
    "title(\"u1\");\n",
    "legend(\"u1 (eksak)\", \"w1,i (aproksimasi)\")\n",
    "legend('location', 'northwest')\n",
    "\n",
    "figure;\n",
    "hold on;\n",
    "fplot(sln2, [a,b], 'b');\n",
    "scatter(t, w(2, :), 'b');\n",
    "title(\"u2\");\n",
    "legend(\"u2 (eksak)\", \"w2,i (aproksimasi)\")\n",
    "legend('location', 'northwest')"
   ]
  },
  {
   "cell_type": "raw",
   "id": "a063118b",
   "metadata": {},
   "source": [
    ":::"
   ]
  },
  {
   "cell_type": "markdown",
   "id": "1dd60be9",
   "metadata": {},
   "source": [
    "## PDB orde tinggi"
   ]
  },
  {
   "cell_type": "markdown",
   "id": "4bcf53c1",
   "metadata": {},
   "source": [
    "### (penjelasan tanpa kode) Mengubah PDB orde tinggi menjadi sistem PDB orde 1"
   ]
  },
  {
   "cell_type": "markdown",
   "id": "922560ec",
   "metadata": {},
   "source": [
    "Misalkan ada PDB orde $m$ (tidak harus linier),\n",
    "\n",
    "$$\\dots y^{\\left(m\\right)}\\left(t\\right) + \\dots y^{\\left(m-1\\right)}\\left(t\\right) + \\dots + \\dots y''\\left(t\\right) + \\dots y'\\left(t\\right) + \\dots y\\left(t\\right) + \\dots = 0$$\n",
    "\n",
    "yang bisa dipindah ruas dsb, untuk memperoleh bentuk:\n",
    "\n",
    "$$y^{\\left(m\\right)}\\left(t\\right) = \\left[\\text{sisanya}\\right]$$\n",
    "\n",
    "atau biasa ditulis\n",
    "\n",
    "$$y^{\\left(m\\right)}\\left(t\\right) = f\\left(t, y, y', y'', \\dots, y^{\\left(m-1\\right)}\\right)$$"
   ]
  },
  {
   "cell_type": "markdown",
   "id": "0958b4b6",
   "metadata": {},
   "source": [
    "Kita bisa mendefinisikan fungsi $u_1 \\left(t\\right), u_2 \\left(t\\right), \\dots, u_m \\left(t\\right)$ sebagai berikut,\n",
    "\n",
    "$$\\begin{align*}\n",
    "    u_1 \\left(t\\right) &= y\\left(t\\right) \\\\\n",
    "    u_2 \\left(t\\right) &= y'\\left(t\\right) \\\\\n",
    "    &\\vdots \\\\\n",
    "    u_j \\left(t\\right) &= y^{\\left(j-1\\right)}\\left(t\\right) \\\\\n",
    "    &\\vdots \\\\\n",
    "    u_{m-1} \\left(t\\right) &= y^{\\left(m-2\\right)}\\left(t\\right) \\\\\n",
    "    u_m \\left(t\\right) &= y^{\\left(m-1\\right)}\\left(t\\right)\n",
    "\\end{align*}$$"
   ]
  },
  {
   "cell_type": "markdown",
   "id": "10a33738",
   "metadata": {},
   "source": [
    "Sehingga turunannya terhadap $t$ adalah,\n",
    "\n",
    "$$\\begin{align*}\n",
    "    \\frac{du_1}{dt} &= y'\\left(t\\right) \\\\\n",
    "    \\frac{du_2}{dt} &= y''\\left(t\\right) \\\\\n",
    "    &\\vdots \\\\\n",
    "    \\frac{du_j}{dt} &= y^{\\left(j\\right)}\\left(t\\right) \\\\\n",
    "    &\\vdots \\\\\n",
    "    \\frac{du_{m-1}}{dt} &= y^{\\left(m-1\\right)}\\left(t\\right) \\\\\n",
    "    \\frac{du_m}{dt} &= y^{\\left(m\\right)}\\left(t\\right)\n",
    "\\end{align*}$$"
   ]
  },
  {
   "cell_type": "markdown",
   "id": "ab4d333e",
   "metadata": {},
   "source": [
    "Ternyata, $u_1'\\left(t\\right) = y'\\left(t\\right) = u_2\\left(t\\right)$, lalu $u_2'\\left(t\\right) = y''\\left(t\\right) = u_3\\left(t\\right)$, dan seterusnya. Untuk yang terakhir, sebelumnya kita sudah menuliskan\n",
    "\n",
    "$$y^{\\left(m\\right)}\\left(t\\right) = f\\left(t, y, y', y'', \\dots, y^{\\left(m-1\\right)}\\right)$$\n",
    "\n",
    "sedangkan $\\frac{du_m}{dt} = y^{\\left(m\\right)}\\left(t\\right)$."
   ]
  },
  {
   "cell_type": "markdown",
   "id": "576a9f94",
   "metadata": {},
   "source": [
    "Sehingga, bisa ditulis:\n",
    "\n",
    "$$\\begin{align*}\n",
    "    \\frac{du_1}{dt} &= u_2\\left(t\\right) \\\\\n",
    "    \\frac{du_2}{dt} &= u_3\\left(t\\right) \\\\\n",
    "    &\\vdots \\\\\n",
    "    \\frac{du_j}{dt} &= u_{j+1}\\left(t\\right) \\\\\n",
    "    &\\vdots \\\\\n",
    "    \\frac{du_{m-1}}{dt} &= u_m\\left(t\\right) \\\\\n",
    "    \\frac{du_m}{dt} &= f\\left(t, y, y', y'', \\dots, y^{\\left(m-1\\right)}\\right) \\\\\n",
    "\\end{align*}$$\n",
    "\n",
    "yaitu sistem PDB orde 1 dalam $u_1 \\left(t\\right), u_2 \\left(t\\right), \\dots, u_m \\left(t\\right)$."
   ]
  },
  {
   "cell_type": "markdown",
   "id": "ded93ead",
   "metadata": {},
   "source": [
    "Solusi $y\\left(t\\right)$ bisa diperoleh dari $u_1 \\left(t\\right)$. Apabila ditanya $y'\\left(t\\right)$, maka bisa diperoleh dari $u_2 \\left(t\\right)$. Apabila ditanya $y''\\left(t\\right)$, maka bisa diperoleh dari $u_3 \\left(t\\right)$, dan seterusnya."
   ]
  },
  {
   "cell_type": "markdown",
   "id": "f3bc005a",
   "metadata": {},
   "source": [
    "### Contoh: mengubah PDB orde 3 menjadi sistem PDB"
   ]
  },
  {
   "cell_type": "markdown",
   "id": "e3a89ee9",
   "metadata": {},
   "source": [
    "Menggunakan soal Exercise Set 5.9 no. 3d dari buku,"
   ]
  },
  {
   "cell_type": "markdown",
   "id": "76574d3c",
   "metadata": {},
   "source": [
    "$$t^3 y''' - t^2 y'' + 3ty' - 4y = 5t^3 \\ln{t} + 9t^3, \\quad 1 \\le t \\le 2$$\n",
    "\n",
    "$$y(1) = 0, \\quad y'(1) = 1, \\quad y''(1) = 3$$\n",
    "\n",
    "dengan $h=0.1$, dan diketahui solusi eksak\n",
    "\n",
    "$$y(t) = -t^2 + t\\cos{\\left(\\ln{t}\\right)} + t\\sin{\\left(\\ln{t}\\right)} + t^3 \\ln{t}$$\n",
    "\n",
    "$$y'(t) = -2t + 2\\cos{\\left(\\ln{t}\\right)} + t^2 + 3t^2 \\ln{t}$$\n",
    "\n",
    "$$y''(t) = -2 - \\frac{2}{t}\\sin{\\left(\\ln{t}\\right)} + 5t + 6t \\ln{t}$$"
   ]
  },
  {
   "cell_type": "markdown",
   "id": "17c67838",
   "metadata": {},
   "source": [
    "Perhatikan bahwa turunan tertinggi adalah turunan ketiga, sehingga PDB yang diberikan adalah PDB orde 3, yaitu PDB orde $m$ dengan $m=3$."
   ]
  },
  {
   "cell_type": "markdown",
   "id": "7b9907c8",
   "metadata": {},
   "source": [
    "Kita bisa melakukan pindah ruas agar memperoleh bentuk\n",
    "\n",
    "$$y''' = \\left[\\text{sisanya}\\right]$$\n",
    "\n",
    "atau bisa ditulis\n",
    "\n",
    "$$y''' = f\\left(t, y, y', y''\\right)$$\n",
    "\n",
    "seperti berikut:"
   ]
  },
  {
   "cell_type": "markdown",
   "id": "645049be",
   "metadata": {},
   "source": [
    "$$t^3 y''' - t^2 y'' + 3ty' - 4y = 5t^3 \\ln{t} + 9t^3$$\n",
    "\n",
    "$$t^3 y''' = t^2 y'' - 3ty' + 4y + 5t^3 \\ln{t} + 9t^3$$\n",
    "\n",
    "$$y''' = \\frac{1}{t^3}\\left(t^2 y'' - 3ty' + 4y + 5t^3 \\ln{t} + 9t^3\\right)$$\n",
    "\n",
    "$$y''' = \\frac{1}{t} y'' - \\frac{3}{t^2}y' + \\frac{4}{t^3}y + 5 \\ln{t} + 9$$"
   ]
  },
  {
   "cell_type": "markdown",
   "id": "111be93a",
   "metadata": {},
   "source": [
    "Sehingga bisa ditulis\n",
    "\n",
    "$$y''' = f\\left(t, y, y', y''\\right) = \\frac{1}{t} y'' - \\frac{3}{t^2}y' + \\frac{4}{t^3}y + 5 \\ln{t} + 9, \\quad 1 \\le t \\le 2$$\n",
    "\n",
    "$$y(1) = 0, \\quad y'(1) = 1, \\quad y''(1) = 3$$"
   ]
  },
  {
   "cell_type": "markdown",
   "id": "1807bdca",
   "metadata": {},
   "source": [
    "PDB orde $m=3$ bisa diubah menjadi sistem PDB orde 1 yang terdiri dari $m=3$ persamaan, dengan permisalan\n",
    "\n",
    "$$u_1(t) = y(t)$$\n",
    "\n",
    "$$u_2(t) = y'(t)$$\n",
    "\n",
    "$$u_3(t) = y''(t)$$\n",
    "\n",
    "sehingga\n",
    "\n",
    "$$\\begin{align*}\n",
    "    u_1'(t) &= y'(t) = u_2(t) \\\\\n",
    "    u_2'(t) &= y''(t) = u_3(t) \\\\\n",
    "    u_3'(t) &= y'''(t) = f\\left(t, y, y', y''\\right) = \\frac{1}{t} y'' - \\frac{3}{t^2}y' + \\frac{4}{t^3}y + 5 \\ln{t} + 9\n",
    "\\end{align*}$$\n",
    "\n",
    "atau bisa ditulis\n",
    "\n",
    "$$\\begin{align*}\n",
    "    u_1'(t) &= u_2(t) \\\\\n",
    "    u_2'(t) &= u_3(t) \\\\\n",
    "    u_3'(t) &= f\\left(t, u_1, u_2, u_3\\right) = \\frac{1}{t} u_3(t) - \\frac{3}{t^2}u_2(t) + \\frac{4}{t^3}u_1(t) + 5 \\ln{t} + 9\n",
    "\\end{align*}$$"
   ]
  },
  {
   "cell_type": "markdown",
   "id": "4b1b6af0",
   "metadata": {},
   "source": [
    "Berdasarkan permisalan, nilai-nilai awal\n",
    "\n",
    "$$y(1) = 0, \\quad y'(1) = 1, \\quad y''(1) = 3$$\n",
    "\n",
    "menjadi\n",
    "\n",
    "$$u_1(1) = 0, \\quad u_2(1) = 1, \\quad u_3(1) = 3$$"
   ]
  },
  {
   "cell_type": "markdown",
   "id": "47259bed",
   "metadata": {},
   "source": [
    "Sehingga, diperoleh sistem PDB orde 3 sebagai berikut:"
   ]
  },
  {
   "cell_type": "markdown",
   "id": "7a7cdab4",
   "metadata": {},
   "source": [
    "$$\\begin{align*}\n",
    "    u_1' &= u_2, \\quad u_1(1) = 0 \\\\\n",
    "    u_2' &= u_3, \\quad u_2(1) = 1 \\\\\n",
    "    u_3' &= \\frac{1}{t} u_3 - \\frac{3}{t^2}u_2 + \\frac{4}{t^3}u_1 + 5 \\ln{t} + 9,\n",
    "    \\quad u_3(1) = 3\n",
    "\\end{align*}$$"
   ]
  },
  {
   "cell_type": "markdown",
   "id": "ee66dfcd",
   "metadata": {},
   "source": [
    "Kita dapat memisalkan\n",
    "\n",
    "$$\\begin{align*}\n",
    "    f_1\\left(t, u_1, u_2, u_3\\right) &= u_1' \\\\\n",
    "    f_2\\left(t, u_1, u_2, u_3\\right) &= u_2' \\\\\n",
    "    f_3\\left(t, u_1, u_2, u_3\\right) &= u_3'\n",
    "\\end{align*}$$\n",
    "\n",
    "yaitu\n",
    "\n",
    "$$\\begin{align*}\n",
    "    f_1\\left(t, u_1, u_2, u_3\\right) &= u_2 \\\\\n",
    "    f_2\\left(t, u_1, u_2, u_3\\right) &= u_3 \\\\\n",
    "    f_3\\left(t, u_1, u_2, u_3\\right) &= \\frac{1}{t} u_3 - \\frac{3}{t^2}u_2 + \\frac{4}{t^3}u_1 + 5 \\ln{t} + 9\n",
    "\\end{align*}$$"
   ]
  },
  {
   "cell_type": "markdown",
   "id": "95b58f2d",
   "metadata": {},
   "source": [
    "agar sistem PDB orde 3 di atas bisa ditulis dalam bentuk umum sistem PDB orde 1, yaitu\n",
    "\n",
    "$$\\begin{align*}\n",
    "    u_1' &= f_1\\left(t, u_1, u_2, u_3\\right) \\\\\n",
    "    u_2' &= f_2\\left(t, u_1, u_2, u_3\\right) \\\\\n",
    "    u_3' &= f_3\\left(t, u_1, u_2, u_3\\right)\n",
    "\\end{align*}$$\n",
    "\n",
    "masih dengan nilai-nilai awal\n",
    "\n",
    "$$u_1(1) = 0, \\quad u_2(1) = 1, \\quad u_3(1) = 3$$"
   ]
  },
  {
   "cell_type": "markdown",
   "id": "aa051ac8",
   "metadata": {},
   "source": [
    "Setelah bentuknya diubah menjadi sistem PDB orde 1, kita dapat menyelesaikannya menggunakan algoritma-algoritma sistem PDB orde 1 seperti biasa. Berdasarkan permisalan yang telah dilakukan,\n",
    "\n",
    "- solusi $u_1(t)$ akan menjadi solusi $y(t)$, biasanya ini yang diminta\n",
    "\n",
    "- solusi $u_2(t)$ akan menjadi solusi $y'(t)$\n",
    "\n",
    "- solusi $u_3(t)$ akan menjadi solusi $y''(t)$\n",
    "\n",
    "Walaupun mungkin kita hanya memerlukan solusi $y(t)$, algoritma yang tersedia mengharuskan semua nilai dihitung di tiap iterasi. Tidak ada salahnya juga; siapa tahu, misalnya solusi $y'(t)$ atau solusi $y''(t)$ diperlukan nantinya.\n",
    "\n",
    "(Apabila diperlukan, nilai $y^{\\left(m\\right)}(t)$, yaitu nilai $y'''(t)$, bisa dihitung menggunakan $f\\left(t, y, y', y'', \\dots, y^{\\left(m-1\\right)}\\right)$, yaitu menggunakan $f\\left(t, y, y', y''\\right) = \\frac{1}{t} y'' - \\frac{3}{t^2}y' + \\frac{4}{t^3}y + 5 \\ln{t} + 9$.)"
   ]
  },
  {
   "cell_type": "markdown",
   "id": "5e3ca6c7",
   "metadata": {},
   "source": [
    "### Contoh metode Runge-Kutta orde 4"
   ]
  },
  {
   "cell_type": "markdown",
   "id": "1044653c",
   "metadata": {},
   "source": [
    "Sistem kita adalah\n",
    "\n",
    "$$\\begin{align*}\n",
    "    u_1' &= f_1\\left(t, u_1, u_2, u_3\\right) = u_2 \\\\\n",
    "    u_2' &= f_2\\left(t, u_1, u_2, u_3\\right) = u_3 \\\\\n",
    "    u_3' &= f_3\\left(t, u_1, u_2, u_3\\right) = \\frac{1}{t} u_3 - \\frac{3}{t^2}u_2 + \\frac{4}{t^3}u_1 + 5 \\ln{t} + 9\n",
    "\\end{align*}$$\n",
    "\n",
    "$$1 \\le t \\le 2$$\n",
    "\n",
    "$$u_1(1) = 0, \\quad u_2(1) = 1, \\quad u_3(1) = 3$$\n",
    "\n",
    "dengan $h=0.1$, dan diketahui solusi eksak\n",
    "\n",
    "$$y(t) = -t^2 + t\\cos{\\left(\\ln{t}\\right)} + t\\sin{\\left(\\ln{t}\\right)} + t^3 \\ln{t}$$\n",
    "\n",
    "$$y'(t) = -2t + 2\\cos{\\left(\\ln{t}\\right)} + t^2 + 3t^2 \\ln{t}$$\n",
    "\n",
    "$$y''(t) = -2 - \\frac{2}{t}\\sin{\\left(\\ln{t}\\right)} + 5t + 6t \\ln{t}$$\n",
    "\n",
    "(yang bisa dianggap solusi eksak untuk $u_1$, $u_2$, dan $u_3$, sesuai permisalan)"
   ]
  },
  {
   "cell_type": "markdown",
   "id": "d3863796",
   "metadata": {},
   "source": [
    "Kita bisa menggunakan metode Runge-Kutta orde 4 untuk sistem, seperti berikut."
   ]
  },
  {
   "cell_type": "raw",
   "id": "562068d4",
   "metadata": {},
   "source": [
    "::: {.panel-tabset}\n",
    "\n",
    "### *Script file* `pdb3_coba_rko4_sysm.m` - nama *file* bebas"
   ]
  },
  {
   "cell_type": "code",
   "execution_count": 10,
   "id": "27433d27",
   "metadata": {},
   "outputs": [
    {
     "name": "stdout",
     "output_type": "stream",
     "text": [
      "ans =\n",
      "\n",
      "    1.0000         0    1.0000    3.0000         0    1.0000    3.0000\n",
      "    1.1000    0.1165    1.3469    3.9560    0.1165    1.3469    3.9560\n",
      "    1.2000    0.2727    1.7945    5.0105    0.2727    1.7945    5.0105\n",
      "    1.3000    0.4791    2.3517    6.1474    0.4791    2.3517    6.1474\n",
      "    1.4000    0.7470    3.0263    7.3547    0.7470    3.0263    7.3547\n",
      "    1.5000    1.0885    3.8247    8.6232    1.0885    3.8247    8.6233\n",
      "    1.6000    1.5163    4.7527    9.9459    1.5163    4.7528    9.9459\n",
      "    1.7000    2.0435    5.8155   11.3170    2.0435    5.8155   11.3170\n",
      "    1.8000    2.6840    7.0176   12.7319    2.6840    7.0176   12.7320\n",
      "    1.9000    3.4518    8.3632   14.1869    3.4518    8.3633   14.1869\n",
      "    2.0000    4.3616    9.8562   15.6788    4.3616    9.8562   15.6788\n",
      "\n"
     ]
    },
    {
     "data": {
      "image/png": "[encoded data removed]",
      "text/plain": [
       "<IPython.core.display.Image object>"
      ]
     },
     "metadata": {},
     "output_type": "display_data"
    },
    {
     "data": {
      "image/png": "[encoded data removed]",
      "text/plain": [
       "<IPython.core.display.Image object>"
      ]
     },
     "metadata": {},
     "output_type": "display_data"
    },
    {
     "data": {
      "image/png": "[encoded data removed]",
      "text/plain": [
       "<IPython.core.display.Image object>"
      ]
     },
     "metadata": {},
     "output_type": "display_data"
    }
   ],
   "source": [
    "f1 = @(t, u) u(2);\n",
    "f2 = @(t, u) u(3);\n",
    "f3 = @(t, u) (1/t .* u(3) - 3/(t.^2) .* u(2) + 4/(t.^3) .* u(1) + 5*log(t) + 9);\n",
    "\n",
    "a = 1;\n",
    "b = 2;\n",
    "h = 0.1;\n",
    "N = (b - a) / h;\n",
    "alpha1 = 0;\n",
    "alpha2 = 1;\n",
    "alpha3 = 3;\n",
    "\n",
    "[t, w] = rko4_sysm({f1, f2, f3}, a, b, N, [alpha1, alpha2, alpha3]);\n",
    "\n",
    "% solusi eksak\n",
    "sln1 = @(t) (-t.^2 + t .* cos(log(t)) + t .* sin(log(t)) + t.^3 .* log(t));\n",
    "sln2 = @(t) (-2*t + 2 * cos(log(t)) + t.^2 + 3 * t.^2 .* log(t));\n",
    "sln3 = @(t) (-2 - 2./t .* sin(log(t)) + 5*t + 6 * t .* log(t));\n",
    "\n",
    "u1_eksak = sln1(t);\n",
    "u2_eksak = sln2(t);\n",
    "u3_eksak = sln3(t);\n",
    "\n",
    "[t, w', u1_eksak, u2_eksak, u3_eksak]\n",
    "\n",
    "figure;\n",
    "hold on;\n",
    "fplot(sln1, [a, b], 'r');\n",
    "scatter(t, w(1, :), 'r'); % ambil baris pertama yaitu solusi u1\n",
    "title(\"Solusi u1(t) atau y(t)\");\n",
    "legend(\"Solusi eksak\", \"w1,i (aproksimasi)\");\n",
    "legend('location', 'northwest');\n",
    "\n",
    "figure;\n",
    "hold on;\n",
    "fplot(sln2, [a, b], 'g');\n",
    "scatter(t, w(2, :), 'g'); % ambil baris kedua yaitu solusi u2\n",
    "title(\"Solusi u2(t) atau y'(t)\");\n",
    "legend(\"Solusi eksak\", \"w2,i (aproksimasi)\");\n",
    "legend('location', 'northwest');\n",
    "\n",
    "figure;\n",
    "hold on;\n",
    "fplot(sln3, [a, b], 'b');\n",
    "scatter(t, w(3, :), 'b'); % ambil baris ketiga yaitu solusi u3\n",
    "title(\"Solusi u3(t) atau y''(t)\");\n",
    "legend(\"Solusi eksak\", \"w3,i (aproksimasi)\");\n",
    "legend('location', 'northwest');"
   ]
  },
  {
   "cell_type": "raw",
   "id": "d4767733",
   "metadata": {},
   "source": [
    ":::"
   ]
  },
  {
   "cell_type": "markdown",
   "id": "45ac269c",
   "metadata": {},
   "source": [
    "Apabila perlu dihitung errornya, kodenya bisa menjadi seperti berikut:"
   ]
  },
  {
   "cell_type": "raw",
   "id": "d8ae4d19",
   "metadata": {},
   "source": [
    "::: {.panel-tabset}\n",
    "\n",
    "### *Script file* `pdb3_coba2_rko4_sysm.m` - nama *file* bebas"
   ]
  },
  {
   "cell_type": "code",
   "execution_count": 11,
   "id": "f40d120f",
   "metadata": {},
   "outputs": [
    {
     "name": "stdout",
     "output_type": "stream",
     "text": [
      "Tabel aproksimasi w1,i, solusi eksak u1(t), dan error:\n",
      "ans =\n",
      "\n",
      "   1.000000000000000                   0                   0                   0\n",
      "   1.100000000000000   0.116547765077132   0.116547953377741   0.000000188300609\n",
      "   1.200000000000000   0.272737593417178   0.272737913137213   0.000000319720036\n",
      "   1.300000000000000   0.479101055922200   0.479101624357037   0.000000568434836\n",
      "   1.400000000000000   0.746997034090164   0.746998073629463   0.000001039539299\n",
      "   1.500000000000000   1.088490794798314   1.088492594095847   0.000001799297533\n",
      "   1.600000000000001   1.516261839314915   1.516264730431065   0.000002891116151\n",
      "   1.700000000000001   2.043532071845456   2.043536416215900   0.000004344370444\n",
      "   1.800000000000001   2.684008671952472   2.684014851438298   0.000006179485825\n",
      "   1.900000000000001   3.451837841224076   3.451846252199066   0.000008410974990\n",
      "   2.000000000000001   4.361566750517713   4.361577799834785   0.000011049317072\n",
      "\n",
      "Tabel aproksimasi w2,i, solusi eksak u2(t), dan error:\n",
      "ans =\n",
      "\n",
      "   1.000000000000000   1.000000000000000   1.000000000000000                   0\n",
      "   1.100000000000000   1.346897244698541   1.346898796867440   0.000001552168898\n",
      "   1.200000000000000   1.794476400848503   1.794479954480695   0.000003553632192\n",
      "   1.300000000000000   2.351739790653634   2.351745763551004   0.000005972897370\n",
      "   1.400000000000000   3.026298521404629   3.026307271933378   0.000008750528749\n",
      "   1.500000000000000   3.824715727217527   3.824727552609112   0.000011825391586\n",
      "   1.600000000000001   4.752746018651163   4.752761161714929   0.000015143063766\n",
      "   1.700000000000001   5.815506875823461   5.815525533513762   0.000018657690301\n",
      "   1.800000000000001   7.017604163612482   7.017626495142349   0.000022331529867\n",
      "   1.900000000000001   8.363225949009005   8.363252082824820   0.000026133815815\n",
      "   2.000000000000001   9.856213929909213   9.856243969447302   0.000030039538089\n",
      "\n",
      "Tabel aproksimasi w3,i, solusi eksak u3(t), dan error:\n",
      "ans =\n",
      "\n",
      " Columns 1 through 3:\n",
      "\n",
      "   1.000000000000000e+00   3.000000000000000e+00   3.000000000000000e+00\n",
      "   1.100000000000000e+00   3.956010469157951e+00   3.956018195368995e+00\n",
      "   1.200000000000000e+00   5.010512494112985e+00   5.010526645695958e+00\n",
      "   1.300000000000000e+00   6.147399365577646e+00   6.147418750933507e+00\n",
      "   1.400000000000000e+00   7.354687155068509e+00   7.354710775454516e+00\n",
      "   1.500000000000000e+00   8.623230661511867e+00   8.623257706687671e+00\n",
      "   1.600000000000001e+00   9.945893119295571e+00   9.945922939388453e+00\n",
      "   1.700000000000001e+00   1.131699337911594e+01   1.131702545393904e+01\n",
      "   1.800000000000001e+00   1.273192816711290e+01   1.273196207929798e+01\n",
      "   1.900000000000001e+00   1.418690793287085e+01   1.418694334605300e+01\n",
      "   2.000000000000001e+00   1.567876824876296e+01   1.567880489040572e+01\n",
      "\n",
      " Column 4:\n",
      "\n",
      "                       0\n",
      "   7.726211044278841e-06\n",
      "   1.415158297302099e-05\n",
      "   1.938535586099022e-05\n",
      "   2.362038600622896e-05\n",
      "   2.704517580376375e-05\n",
      "   2.982009288210463e-05\n",
      "   3.207482310685350e-05\n",
      "   3.391218507609040e-05\n",
      "   3.541318215205536e-05\n",
      "   3.664164275640758e-05\n",
      "\n",
      "Error total (norm L1) untuk w1,i:\n",
      "3.679055679502163e-05\n",
      "Error total (norm L1) untuk w2,i:\n",
      "1.439602566337683e-04\n",
      "Error total (norm L1) untuk w3,i:\n",
      "2.597906376617942e-04\n"
     ]
    },
    {
     "data": {
      "image/png": "[encoded data removed]",
      "text/plain": [
       "<IPython.core.display.Image object>"
      ]
     },
     "metadata": {},
     "output_type": "display_data"
    },
    {
     "data": {
      "image/png": "[encoded data removed]",
      "text/plain": [
       "<IPython.core.display.Image object>"
      ]
     },
     "metadata": {},
     "output_type": "display_data"
    },
    {
     "data": {
      "image/png": "[encoded data removed]",
      "text/plain": [
       "<IPython.core.display.Image object>"
      ]
     },
     "metadata": {},
     "output_type": "display_data"
    }
   ],
   "source": [
    "f1 = @(t, u) u(2);\n",
    "f2 = @(t, u) u(3);\n",
    "f3 = @(t, u) (1/t .* u(3) - 3/(t.^2) .* u(2) + 4/(t.^3) .* u(1) + 5*log(t) + 9);\n",
    "\n",
    "a = 1;\n",
    "b = 2;\n",
    "h = 0.1;\n",
    "N = (b - a) / h;\n",
    "alpha1 = 0;\n",
    "alpha2 = 1;\n",
    "alpha3 = 3;\n",
    "\n",
    "[t, w] = rko4_sysm({f1, f2, f3}, a, b, N, [alpha1, alpha2, alpha3]);\n",
    "\n",
    "% solusi eksak\n",
    "sln1 = @(t) (-t.^2 + t .* cos(log(t)) + t .* sin(log(t)) + t.^3 .* log(t));\n",
    "sln2 = @(t) (-2*t + 2 * cos(log(t)) + t.^2 + 3 * t.^2 .* log(t));\n",
    "sln3 = @(t) (-2 - 2./t .* sin(log(t)) + 5*t + 6 * t .* log(t));\n",
    "\n",
    "u1_eksak = sln1(t);\n",
    "u2_eksak = sln2(t);\n",
    "u3_eksak = sln3(t);\n",
    "\n",
    "% menghitung error\n",
    "err_w1 = abs(w(1, :)' - u1_eksak);\n",
    "err_w2 = abs(w(2, :)' - u2_eksak);\n",
    "err_w3 = abs(w(3, :)' - u3_eksak);\n",
    "err_w1_total = sum(err_w1); % norm L1 (taxicab/Manhattan)\n",
    "err_w2_total = sum(err_w2); % norm L1 (taxicab/Manhattan)\n",
    "err_w3_total = sum(err_w3); % norm L1 (taxicab/Manhattan)\n",
    "\n",
    "% menampilkan tabel, termasuk error\n",
    "format long;\n",
    "disp(\"Tabel aproksimasi w1,i, solusi eksak u1(t), dan error:\");\n",
    "[t, w(1, :)', u1_eksak, err_w1]\n",
    "disp(\"Tabel aproksimasi w2,i, solusi eksak u2(t), dan error:\");\n",
    "[t, w(2, :)', u2_eksak, err_w2]\n",
    "disp(\"Tabel aproksimasi w3,i, solusi eksak u3(t), dan error:\");\n",
    "[t, w(3, :)', u3_eksak, err_w3]\n",
    "disp(\"Error total (norm L1) untuk w1,i:\");\n",
    "disp(err_w1_total);\n",
    "disp(\"Error total (norm L1) untuk w2,i:\");\n",
    "disp(err_w2_total);\n",
    "disp(\"Error total (norm L1) untuk w3,i:\");\n",
    "disp(err_w3_total);\n",
    "format;\n",
    "\n",
    "figure;\n",
    "hold on;\n",
    "fplot(sln1, [a, b], 'r');\n",
    "scatter(t, w(1, :), 'r'); % ambil baris pertama yaitu solusi u1\n",
    "title(\"Solusi u1(t) atau y(t)\");\n",
    "legend(\"Solusi eksak\", \"w1,i (aproksimasi)\");\n",
    "legend('location', 'northwest');\n",
    "\n",
    "figure;\n",
    "hold on;\n",
    "fplot(sln2, [a, b], 'g');\n",
    "scatter(t, w(2, :), 'g'); % ambil baris kedua yaitu solusi u2\n",
    "title(\"Solusi u2(t) atau y'(t)\");\n",
    "legend(\"Solusi eksak\", \"w2,i (aproksimasi)\");\n",
    "legend('location', 'northwest');\n",
    "\n",
    "figure;\n",
    "hold on;\n",
    "fplot(sln3, [a, b], 'b');\n",
    "scatter(t, w(3, :), 'b'); % ambil baris ketiga yaitu solusi u3\n",
    "title(\"Solusi u3(t) atau y''(t)\");\n",
    "legend(\"Solusi eksak\", \"w3,i (aproksimasi)\");\n",
    "legend('location', 'northwest');"
   ]
  },
  {
   "cell_type": "raw",
   "id": "7ed73a5a",
   "metadata": {},
   "source": [
    ":::"
   ]
  },
  {
   "cell_type": "markdown",
   "id": "f4070202",
   "metadata": {},
   "source": [
    "### Contoh metode Adams Predictor-Corrector orde 4"
   ]
  },
  {
   "cell_type": "markdown",
   "id": "f8160a14",
   "metadata": {},
   "source": [
    "Kita bisa menggunakan kode di atas, tinggal menukar fungsi `rko4_sysm` dengan `adams_pc_orde4_sysm`"
   ]
  },
  {
   "cell_type": "raw",
   "id": "bd6c724c",
   "metadata": {},
   "source": [
    "::: {.panel-tabset}\n",
    "\n",
    "### *Script file* `pdb3_coba_adams_pc_orde4_sysm.m` - nama *file* bebas"
   ]
  },
  {
   "cell_type": "code",
   "execution_count": 13,
   "id": "cce3803e",
   "metadata": {},
   "outputs": [
    {
     "name": "stdout",
     "output_type": "stream",
     "text": [
      "ans =\n",
      "\n",
      "    1.0000         0    1.0000    3.0000         0    1.0000    3.0000\n",
      "    1.1000    0.1165    1.3469    3.9560    0.1165    1.3469    3.9560\n",
      "    1.2000    0.2727    1.7945    5.0105    0.2727    1.7945    5.0105\n",
      "    1.3000    0.4791    2.3517    6.1474    0.4791    2.3517    6.1474\n",
      "    1.4000    0.7470    3.0263    7.3547    0.7470    3.0263    7.3547\n",
      "    1.5000    1.0885    3.8248    8.6232    1.0885    3.8247    8.6233\n",
      "    1.6000    1.5163    4.7528    9.9459    1.5163    4.7528    9.9459\n",
      "    1.7000    2.0435    5.8156   11.3170    2.0435    5.8155   11.3170\n",
      "    1.8000    2.6840    7.0177   12.7319    2.6840    7.0176   12.7320\n",
      "    1.9000    3.4518    8.3633   14.1869    3.4518    8.3633   14.1869\n",
      "    2.0000    4.3616    9.8563   15.6787    4.3616    9.8562   15.6788\n",
      "\n"
     ]
    },
    {
     "data": {
      "image/png": "[encoded data removed]",
      "text/plain": [
       "<IPython.core.display.Image object>"
      ]
     },
     "metadata": {},
     "output_type": "display_data"
    },
    {
     "data": {
      "image/png": "[encoded data removed]",
      "text/plain": [
       "<IPython.core.display.Image object>"
      ]
     },
     "metadata": {},
     "output_type": "display_data"
    },
    {
     "data": {
      "image/png": "[encoded data removed]",
      "text/plain": [
       "<IPython.core.display.Image object>"
      ]
     },
     "metadata": {},
     "output_type": "display_data"
    }
   ],
   "source": [
    "f1 = @(t, u) u(2);\n",
    "f2 = @(t, u) u(3);\n",
    "f3 = @(t, u) (1/t .* u(3) - 3/(t.^2) .* u(2) + 4/(t.^3) .* u(1) + 5*log(t) + 9);\n",
    "\n",
    "a = 1;\n",
    "b = 2;\n",
    "h = 0.1;\n",
    "N = (b - a) / h;\n",
    "alpha1 = 0;\n",
    "alpha2 = 1;\n",
    "alpha3 = 3;\n",
    "\n",
    "[t, w] = adams_pc_orde4_sysm({f1, f2, f3}, a, b, N, [alpha1, alpha2, alpha3]);\n",
    "\n",
    "% solusi eksak\n",
    "sln1 = @(t) (-t.^2 + t .* cos(log(t)) + t .* sin(log(t)) + t.^3 .* log(t));\n",
    "sln2 = @(t) (-2*t + 2 * cos(log(t)) + t.^2 + 3 * t.^2 .* log(t));\n",
    "sln3 = @(t) (-2 - 2./t .* sin(log(t)) + 5*t + 6 * t .* log(t));\n",
    "\n",
    "u1_eksak = sln1(t);\n",
    "u2_eksak = sln2(t);\n",
    "u3_eksak = sln3(t);\n",
    "\n",
    "[t, w', u1_eksak, u2_eksak, u3_eksak]\n",
    "\n",
    "figure;\n",
    "hold on;\n",
    "fplot(sln1, [a, b], 'r');\n",
    "scatter(t, w(1, :), 'r'); % ambil baris pertama yaitu solusi u1\n",
    "title(\"Solusi u1(t) atau y(t)\");\n",
    "legend(\"Solusi eksak\", \"w1,i (aproksimasi)\");\n",
    "legend('location', 'northwest');\n",
    "\n",
    "figure;\n",
    "hold on;\n",
    "fplot(sln2, [a, b], 'g');\n",
    "scatter(t, w(2, :), 'g'); % ambil baris kedua yaitu solusi u2\n",
    "title(\"Solusi u2(t) atau y'(t)\");\n",
    "legend(\"Solusi eksak\", \"w2,i (aproksimasi)\");\n",
    "legend('location', 'northwest');\n",
    "\n",
    "figure;\n",
    "hold on;\n",
    "fplot(sln3, [a, b], 'b');\n",
    "scatter(t, w(3, :), 'b'); % ambil baris ketiga yaitu solusi u3\n",
    "title(\"Solusi u3(t) atau y''(t)\");\n",
    "legend(\"Solusi eksak\", \"w3,i (aproksimasi)\");\n",
    "legend('location', 'northwest');"
   ]
  },
  {
   "cell_type": "raw",
   "id": "b808bd90",
   "metadata": {},
   "source": [
    ":::"
   ]
  },
  {
   "cell_type": "markdown",
   "id": "6f13eff6",
   "metadata": {},
   "source": [
    "Apabila perlu dihitung errornya:"
   ]
  },
  {
   "cell_type": "raw",
   "id": "4dc297d2",
   "metadata": {},
   "source": [
    "::: {.panel-tabset}\n",
    "\n",
    "### *Script file* `pdb3_coba2_adams_pc_orde4_sysm.m` - nama *file* bebas"
   ]
  },
  {
   "cell_type": "code",
   "execution_count": 12,
   "id": "e7ec17ca",
   "metadata": {},
   "outputs": [
    {
     "name": "stdout",
     "output_type": "stream",
     "text": [
      "Tabel aproksimasi w1,i, solusi eksak u1(t), dan error:\n",
      "ans =\n",
      "\n",
      "   1.000000000000000                   0                   0                   0\n",
      "   1.100000000000000   0.116547765077132   0.116547953377741   0.000000188300609\n",
      "   1.200000000000000   0.272737593417178   0.272737913137213   0.000000319720036\n",
      "   1.300000000000000   0.479101055922200   0.479101624357037   0.000000568434836\n",
      "   1.400000000000000   0.746988331768006   0.746998073629463   0.000009741861457\n",
      "   1.500000000000000   1.088479331032411   1.088492594095847   0.000013263063436\n",
      "   1.600000000000001   1.516250804091531   1.516264730431065   0.000013926339534\n",
      "   1.700000000000001   2.043523756922286   2.043536416215900   0.000012659293614\n",
      "   1.800000000000001   2.684004508018369   2.684014851438298   0.000010343419929\n",
      "   1.900000000000001   3.451838703918476   3.451846252199066   0.000007548280589\n",
      "   2.000000000000001   4.361573101909957   4.361577799834785   0.000004697924828\n",
      "\n",
      "Tabel aproksimasi w2,i, solusi eksak u2(t), dan error:\n",
      "ans =\n",
      "\n",
      "   1.000000000000000   1.000000000000000   1.000000000000000                   0\n",
      "   1.100000000000000   1.346897244698541   1.346898796867440   0.000001552168898\n",
      "   1.200000000000000   1.794476400848503   1.794479954480695   0.000003553632192\n",
      "   1.300000000000000   2.351739790653634   2.351745763551004   0.000005972897370\n",
      "   1.400000000000000   3.026328879302920   3.026307271933378   0.000021607369542\n",
      "   1.500000000000000   3.824765611199535   3.824727552609112   0.000038058590423\n",
      "   1.600000000000001   4.752808495899515   4.752761161714929   0.000047334184586\n",
      "   1.700000000000001   5.815576770936465   5.815525533513762   0.000051237422703\n",
      "   1.800000000000001   7.017677812981450   7.017626495142349   0.000051317839101\n",
      "   1.900000000000001   8.363300595016490   8.363252082824820   0.000048512191670\n",
      "   2.000000000000001   9.856287435428921   9.856243969447302   0.000043465981619\n",
      "\n",
      "Tabel aproksimasi w3,i, solusi eksak u3(t), dan error:\n",
      "ans =\n",
      "\n",
      " Columns 1 through 3:\n",
      "\n",
      "   1.000000000000000e+00   3.000000000000000e+00   3.000000000000000e+00\n",
      "   1.100000000000000e+00   3.956010469157951e+00   3.956018195368995e+00\n",
      "   1.200000000000000e+00   5.010512494112985e+00   5.010526645695958e+00\n",
      "   1.300000000000000e+00   6.147399365577646e+00   6.147418750933507e+00\n",
      "   1.400000000000000e+00   7.354687175512593e+00   7.354710775454516e+00\n",
      "   1.500000000000000e+00   8.623223151179934e+00   8.623257706687671e+00\n",
      "   1.600000000000001e+00   9.945876374658745e+00   9.945922939388453e+00\n",
      "   1.700000000000001e+00   1.131696670232371e+01   1.131702545393904e+01\n",
      "   1.800000000000001e+00   1.273189177401384e+01   1.273196207929798e+01\n",
      "   1.900000000000001e+00   1.418686238954817e+01   1.418694334605300e+01\n",
      "   2.000000000000001e+00   1.567871426475001e+01   1.567880489040572e+01\n",
      "\n",
      " Column 4:\n",
      "\n",
      "                       0\n",
      "   7.726211044278841e-06\n",
      "   1.415158297302099e-05\n",
      "   1.938535586099022e-05\n",
      "   2.359994192246972e-05\n",
      "   3.455550773701077e-05\n",
      "   4.656472970765435e-05\n",
      "   5.875161532742368e-05\n",
      "   7.030528413842774e-05\n",
      "   8.095650483497252e-05\n",
      "   9.062565571049674e-05\n",
      "\n",
      "Error total (norm L1) untuk w1,i:\n",
      "7.325663886766087e-05\n",
      "Error total (norm L1) untuk w2,i:\n",
      "3.126122781038632e-04\n",
      "Error total (norm L1) untuk w3,i:\n",
      "4.466223892567456e-04\n"
     ]
    },
    {
     "data": {
      "image/png": "[encoded data removed]",
      "text/plain": [
       "<IPython.core.display.Image object>"
      ]
     },
     "metadata": {},
     "output_type": "display_data"
    },
    {
     "data": {
      "image/png": "[encoded data removed]",
      "text/plain": [
       "<IPython.core.display.Image object>"
      ]
     },
     "metadata": {},
     "output_type": "display_data"
    },
    {
     "data": {
      "image/png": "[encoded data removed]",
      "text/plain": [
       "<IPython.core.display.Image object>"
      ]
     },
     "metadata": {},
     "output_type": "display_data"
    }
   ],
   "source": [
    "f1 = @(t, u) u(2);\n",
    "f2 = @(t, u) u(3);\n",
    "f3 = @(t, u) (1/t .* u(3) - 3/(t.^2) .* u(2) + 4/(t.^3) .* u(1) + 5*log(t) + 9);\n",
    "\n",
    "a = 1;\n",
    "b = 2;\n",
    "h = 0.1;\n",
    "N = (b - a) / h;\n",
    "alpha1 = 0;\n",
    "alpha2 = 1;\n",
    "alpha3 = 3;\n",
    "\n",
    "[t, w] = adams_pc_orde4_sysm({f1, f2, f3}, a, b, N, [alpha1, alpha2, alpha3]);\n",
    "\n",
    "% solusi eksak\n",
    "sln1 = @(t) (-t.^2 + t .* cos(log(t)) + t .* sin(log(t)) + t.^3 .* log(t));\n",
    "sln2 = @(t) (-2*t + 2 * cos(log(t)) + t.^2 + 3 * t.^2 .* log(t));\n",
    "sln3 = @(t) (-2 - 2./t .* sin(log(t)) + 5*t + 6 * t .* log(t));\n",
    "\n",
    "u1_eksak = sln1(t);\n",
    "u2_eksak = sln2(t);\n",
    "u3_eksak = sln3(t);\n",
    "\n",
    "% menghitung error\n",
    "err_w1 = abs(w(1, :)' - u1_eksak);\n",
    "err_w2 = abs(w(2, :)' - u2_eksak);\n",
    "err_w3 = abs(w(3, :)' - u3_eksak);\n",
    "err_w1_total = sum(err_w1); % norm L1 (taxicab/Manhattan)\n",
    "err_w2_total = sum(err_w2); % norm L1 (taxicab/Manhattan)\n",
    "err_w3_total = sum(err_w3); % norm L1 (taxicab/Manhattan)\n",
    "\n",
    "% menampilkan tabel, termasuk error\n",
    "format long;\n",
    "disp(\"Tabel aproksimasi w1,i, solusi eksak u1(t), dan error:\");\n",
    "[t, w(1, :)', u1_eksak, err_w1]\n",
    "disp(\"Tabel aproksimasi w2,i, solusi eksak u2(t), dan error:\");\n",
    "[t, w(2, :)', u2_eksak, err_w2]\n",
    "disp(\"Tabel aproksimasi w3,i, solusi eksak u3(t), dan error:\");\n",
    "[t, w(3, :)', u3_eksak, err_w3]\n",
    "disp(\"Error total (norm L1) untuk w1,i:\");\n",
    "disp(err_w1_total);\n",
    "disp(\"Error total (norm L1) untuk w2,i:\");\n",
    "disp(err_w2_total);\n",
    "disp(\"Error total (norm L1) untuk w3,i:\");\n",
    "disp(err_w3_total);\n",
    "format;\n",
    "\n",
    "figure;\n",
    "hold on;\n",
    "fplot(sln1, [a, b], 'r');\n",
    "scatter(t, w(1, :), 'r'); % ambil baris pertama yaitu solusi u1\n",
    "title(\"Solusi u1(t) atau y(t)\");\n",
    "legend(\"Solusi eksak\", \"w1,i (aproksimasi)\");\n",
    "legend('location', 'northwest');\n",
    "\n",
    "figure;\n",
    "hold on;\n",
    "fplot(sln2, [a, b], 'g');\n",
    "scatter(t, w(2, :), 'g'); % ambil baris kedua yaitu solusi u2\n",
    "title(\"Solusi u2(t) atau y'(t)\");\n",
    "legend(\"Solusi eksak\", \"w2,i (aproksimasi)\");\n",
    "legend('location', 'northwest');\n",
    "\n",
    "figure;\n",
    "hold on;\n",
    "fplot(sln3, [a, b], 'b');\n",
    "scatter(t, w(3, :), 'b'); % ambil baris ketiga yaitu solusi u3\n",
    "title(\"Solusi u3(t) atau y''(t)\");\n",
    "legend(\"Solusi eksak\", \"w3,i (aproksimasi)\");\n",
    "legend('location', 'northwest');"
   ]
  },
  {
   "cell_type": "raw",
   "id": "7f8d4314",
   "metadata": {},
   "source": [
    ":::"
   ]
  },
  {
   "cell_type": "code",
   "execution_count": null,
   "id": "47f33560",
   "metadata": {},
   "outputs": [],
   "source": []
  }
 ],
 "metadata": {
  "kernelspec": {
   "display_name": "Octave",
   "language": "octave",
   "name": "octave"
  },
  "language_info": {
   "file_extension": ".m",
   "help_links": [
    {
     "text": "GNU Octave",
     "url": "https://www.gnu.org/software/octave/support.html"
    },
    {
     "text": "Octave Kernel",
     "url": "https://github.com/Calysto/octave_kernel"
    },
    {
     "text": "MetaKernel Magics",
     "url": "https://metakernel.readthedocs.io/en/latest/source/README.html"
    }
   ],
   "mimetype": "text/x-octave",
   "name": "octave",
   "version": "6.2.0"
  }
 },
 "nbformat": 4,
 "nbformat_minor": 5
}
