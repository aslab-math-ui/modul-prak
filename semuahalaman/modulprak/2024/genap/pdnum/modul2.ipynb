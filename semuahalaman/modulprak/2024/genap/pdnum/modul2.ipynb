{
 "cells": [
  {
   "cell_type": "markdown",
   "metadata": {
    "collapsed": false
   },
   "source": [
    "# Modul 2 Persamaan Diferensial Numerik: Plotting Fungsi, Metode Euler, Metode Taylor"
   ]
  },
  {
   "cell_type": "markdown",
   "metadata": {
    "collapsed": false
   },
   "source": [
    "Kembali ke [Persamaan Diferensial Numerik](./pdnum2024genap.qmd)"
   ]
  },
  {
   "cell_type": "markdown",
   "metadata": {
    "collapsed": false
   },
   "source": [
    "## Plotting Fungsi"
   ]
  },
  {
   "cell_type": "markdown",
   "metadata": {
    "collapsed": false
   },
   "source": [
    "Sebelum mulai mempelajari metode-metode untuk menyelesaikan persamaan diferensial secara numerik, kita akan membahas terlebih dahulu tentang teknis *plotting* fungsi, juga sedikit tambahan materi mengenai fungsi."
   ]
  },
  {
   "cell_type": "markdown",
   "metadata": {
    "collapsed": false
   },
   "source": [
    "Misalnya kita punya fungsi $g(x)=2x$, suatu fungsi matematis (terkadang disebut \"pure function\" di dunia pemrograman). Ada dua cara untuk mendefinisikannya di Octave."
   ]
  },
  {
   "cell_type": "markdown",
   "metadata": {
    "collapsed": false
   },
   "source": [
    "Cara pertama, yang sudah dibahas di pertemuan sebelumnya, adalah menggunakan keyword `function`:"
   ]
  },
  {
   "cell_type": "code",
   "execution_count": 9,
   "metadata": {
    "collapsed": false
   },
   "outputs": [],
   "source": [
    "function y = g(x)\n",
    "  y = 2*x;\n",
    "endfunction"
   ]
  },
  {
   "cell_type": "markdown",
   "metadata": {
    "collapsed": false
   },
   "source": [
    "Sehingga bisa dipanggil:"
   ]
  },
  {
   "cell_type": "code",
   "execution_count": 10,
   "metadata": {
    "collapsed": false
   },
   "outputs": [
    {
     "name": "stdout",
     "output_type": "stream",
     "text": [
      "ans = 6\r\n"
     ]
    }
   ],
   "source": [
    "g(3)"
   ]
  },
  {
   "cell_type": "markdown",
   "metadata": {
    "collapsed": false
   },
   "source": [
    "Cara kedua, yang lebih praktis, adalah dengan membuat yang namanya ***anonymous function***. Perhatikan *syntax* berikut:"
   ]
  },
  {
   "cell_type": "code",
   "execution_count": 12,
   "metadata": {
    "collapsed": false
   },
   "outputs": [
    {
     "name": "stdout",
     "output_type": "stream",
     "text": [
      "ans = 6\r\n"
     ]
    }
   ],
   "source": [
    "g = @(x) 2*x;\n",
    "g(3)"
   ]
  },
  {
   "cell_type": "markdown",
   "metadata": {
    "collapsed": false
   },
   "source": [
    "Terlihat lebih sederhana, dan cukup mirip dengan penulisan matematis $g(x)=2x$. Sebutannya *anonymous function* karena sebenarnya fungsinya tidak memiliki nama yang tetap, kebetulan saja kali ini bisa diakses melalui variabel `g` yang menyimpannya. Secara umum, penulisannya adalah seperti berikut: \n",
    "\n",
    "```octave\n",
    "nama_fungsi = @(input1, input2, ..., input_terakhir) rumus;\n",
    "```"
   ]
  },
  {
   "cell_type": "markdown",
   "metadata": {
    "collapsed": false
   },
   "source": [
    "Sehingga misalnya kita bisa menuliskan fungsi $h(x,y) = x^2 + y^3$, lalu menghitung $h(4,5)$, sebagai berikut:"
   ]
  },
  {
   "cell_type": "code",
   "execution_count": 13,
   "metadata": {
    "collapsed": false
   },
   "outputs": [
    {
     "name": "stdout",
     "output_type": "stream",
     "text": [
      "ans = 141\r\n"
     ]
    }
   ],
   "source": [
    "h = @(x,y) x^2 + y^3;\n",
    "h(4,5)"
   ]
  },
  {
   "cell_type": "markdown",
   "metadata": {
    "collapsed": false
   },
   "source": [
    "Selanjutnya, kita akan membahas tentang *plotting*.\n",
    "\n",
    "Misalkan kita memiliki titik-titik $(0,0)$, $(\\frac{\\pi}{2},1)$, $(\\pi,0)$, dan $(\\frac{3\\pi}{2},-1)$. Kita bisa membuat dua *array*, yaitu satu *array* yang menyimpan tiap nilai x, dan satu lagi untuk menyimpan tiap nilai y.\n",
    "\n",
    "Kemudian, kita bisa menggambar *plot* yang menyambung titik-titik tersebut dengan fungsi `plot`:"
   ]
  },
  {
   "cell_type": "code",
   "execution_count": 1,
   "metadata": {
    "collapsed": false
   },
   "outputs": [
    {
     "data": {
      "image/png": "[encoded data removed]",
      "text/plain": [
       "<IPython.core.display.Image object>"
      ]
     },
     "metadata": {},
     "output_type": "display_data"
    }
   ],
   "source": [
    "x = [0, pi/2, pi, 3*pi/2];\n",
    "y = [0, 1, 0, -1];\n",
    "plot(x,y)"
   ]
  },
  {
   "cell_type": "markdown",
   "metadata": {
    "collapsed": false
   },
   "source": [
    "Titik-titik tersebut sebenarnya adalah hasil dari fungsi $\\sin(x)$ yang diterapkan pada nilai $x=0, \\frac{\\pi}{2}, \\pi, \\frac{3\\pi}{2}$.\n",
    "\n",
    "Sebenarnya, kita bisa saja hanya membuat *array* nilai x, kemudian memperoleh *array* nilai y dengan memasukkan *array* x ke dalam fungsi $\\sin(x)$, agar tiap nilai pada *array* x diterapkan fungsi $\\sin(x)$. Penerapan fungsi pada tiap elemen *array* seperti itu sering disebut ***broadcasting***."
   ]
  },
  {
   "cell_type": "code",
   "execution_count": 2,
   "metadata": {
    "collapsed": false
   },
   "outputs": [
    {
     "data": {
      "image/png": "[encoded data removed]",
      "text/plain": [
       "<IPython.core.display.Image object>"
      ]
     },
     "metadata": {},
     "output_type": "display_data"
    }
   ],
   "source": [
    "x = [0, pi/2, pi, 3*pi/2];\n",
    "y = sin(x);\n",
    "plot(x,y)"
   ]
  },
  {
   "cell_type": "markdown",
   "metadata": {
    "collapsed": false
   },
   "source": [
    "Untuk plot yang menyambung-nyambung titik-titik, plotnya sudah bagus. Namun, bagaimana kalau misalnya kita ingin membuat *plot* fungsi $\\sin(x)$ itu sendiri, misalnya pada interval $[0,5]$?"
   ]
  },
  {
   "cell_type": "markdown",
   "metadata": {
    "collapsed": false
   },
   "source": [
    "Caranya, kita tinggal memperbanyak titik di *array* x tersebut, agar lebih presisi. Makin banyak titiknya, makin akurat gambarnya.\n",
    "\n",
    "Tenang saja, kita tidak perlu pegal-pegal mengetik titik-titik $[0, 0.1, 0.2, ..., 4.9, 5]$. Di Octave, ada *syntax* untuk membuat *array* dari titik-titik pada interval $[a,b]$ dengan *step size* $h$, yaitu sebagai berikut:\n",
    "\n",
    "```octave\n",
    "nama_array = a : h : b\n",
    "```"
   ]
  },
  {
   "cell_type": "markdown",
   "metadata": {
    "collapsed": false
   },
   "source": [
    "Misalnya, untuk menyimpan titik-titik pada interval $[0,5]$ dengan *step size* 0.1, ketik:"
   ]
  },
  {
   "cell_type": "code",
   "execution_count": 22,
   "metadata": {
    "collapsed": false
   },
   "outputs": [
    {
     "name": "stdout",
     "output_type": "stream",
     "text": [
      "x =\r\n",
      "\r\n",
      " Columns 1 through 8:\r\n",
      "\r\n",
      "         0    0.1000    0.2000    0.3000    0.4000    0.5000    0.6000    0.7000\r\n",
      "\r\n",
      " Columns 9 through 16:\r\n",
      "\r\n",
      "    0.8000    0.9000    1.0000    1.1000    1.2000    1.3000    1.4000    1.5000\r\n",
      "\r\n",
      " Columns 17 through 24:\r\n",
      "\r\n",
      "    1.6000    1.7000    1.8000    1.9000    2.0000    2.1000    2.2000    2.3000\r\n",
      "\r\n",
      " Columns 25 through 32:\r\n",
      "\r\n",
      "    2.4000    2.5000    2.6000    2.7000    2.8000    2.9000    3.0000    3.1000\r\n",
      "\r\n",
      " Columns 33 through 40:\r\n",
      "\r\n",
      "    3.2000    3.3000    3.4000    3.5000    3.6000    3.7000    3.8000    3.9000\r\n",
      "\r\n",
      " Columns 41 through 48:\r\n",
      "\r\n",
      "    4.0000    4.1000    4.2000    4.3000    4.4000    4.5000    4.6000    4.7000\r\n",
      "\r\n",
      " Columns 49 through 51:\r\n",
      "\r\n",
      "    4.8000    4.9000    5.0000\r\n",
      "\r\n"
     ]
    }
   ],
   "source": [
    "x = 0 : 0.1 : 5"
   ]
  },
  {
   "cell_type": "markdown",
   "metadata": {
    "collapsed": false
   },
   "source": [
    "Sehingga, kita bisa membuat *plot* $\\sin(x)$ pada interval $[0,5]$ seperti berikut:"
   ]
  },
  {
   "cell_type": "code",
   "execution_count": 3,
   "metadata": {
    "collapsed": false
   },
   "outputs": [
    {
     "data": {
      "image/png": "[encoded data removed]",
      "text/plain": [
       "<IPython.core.display.Image object>"
      ]
     },
     "metadata": {},
     "output_type": "display_data"
    }
   ],
   "source": [
    "x = 0 : 0.1 : 5;\n",
    "y = sin(x);\n",
    "plot(x,y)"
   ]
  },
  {
   "cell_type": "markdown",
   "metadata": {
    "collapsed": false
   },
   "source": [
    "Kita bisa menambahkan judul pada *plot* dengan `title`"
   ]
  },
  {
   "cell_type": "code",
   "execution_count": 4,
   "metadata": {
    "collapsed": false
   },
   "outputs": [
    {
     "data": {
      "image/png": "[encoded data removed]",
      "text/plain": [
       "<IPython.core.display.Image object>"
      ]
     },
     "metadata": {},
     "output_type": "display_data"
    }
   ],
   "source": [
    "x = 0 : 0.1 : 5;\n",
    "y = sin(x);\n",
    "plot(x,y);\n",
    "title(\"Sinus pada [0,5]\");"
   ]
  },
  {
   "cell_type": "markdown",
   "metadata": {
    "collapsed": false
   },
   "source": [
    "Warnanya bisa ditentukan, misal menjadi merah ('r'), hijau ('g'), atau biru ('b'), dengan menambah keterangan di `plot`"
   ]
  },
  {
   "cell_type": "code",
   "execution_count": 5,
   "metadata": {
    "collapsed": false
   },
   "outputs": [
    {
     "data": {
      "image/png": "[encoded data removed]",
      "text/plain": [
       "<IPython.core.display.Image object>"
      ]
     },
     "metadata": {},
     "output_type": "display_data"
    }
   ],
   "source": [
    "x = 0 : 0.1 : 5;\n",
    "y = sin(x);\n",
    "plot(x, y, 'r');\n",
    "title(\"Sinus pada [0,5]\");"
   ]
  },
  {
   "cell_type": "markdown",
   "metadata": {},
   "source": [
    "Pilihan warna lainnya bisa dilihat di link berikut: <https://docs.octave.org/latest/Colors.html>"
   ]
  },
  {
   "cell_type": "markdown",
   "metadata": {
    "collapsed": false
   },
   "source": [
    "Kalau mau, kita bisa mem-*plot* titik-titiknya saja (tanpa disambung-sambung), menggunakan `scatter`:"
   ]
  },
  {
   "cell_type": "code",
   "execution_count": 6,
   "metadata": {
    "collapsed": false,
    "scrolled": true
   },
   "outputs": [
    {
     "data": {
      "image/png": "[encoded data removed]",
      "text/plain": [
       "<IPython.core.display.Image object>"
      ]
     },
     "metadata": {},
     "output_type": "display_data"
    }
   ],
   "source": [
    "x = 0 : 0.1 : 5;\n",
    "y = sin(x);\n",
    "scatter(x,y)"
   ]
  },
  {
   "cell_type": "markdown",
   "metadata": {
    "collapsed": false
   },
   "source": [
    "Seperti di `plot`, kita juga bisa menentukan warna di `scatter`:"
   ]
  },
  {
   "cell_type": "code",
   "execution_count": 7,
   "metadata": {
    "collapsed": false
   },
   "outputs": [
    {
     "data": {
      "image/png": "[encoded data removed]",
      "text/plain": [
       "<IPython.core.display.Image object>"
      ]
     },
     "metadata": {},
     "output_type": "display_data"
    }
   ],
   "source": [
    "x = 0 : 0.1 : 5;\n",
    "y = sin(x);\n",
    "scatter(x, y, 'g')"
   ]
  },
  {
   "cell_type": "markdown",
   "metadata": {
    "collapsed": false
   },
   "source": [
    "Sebenarnya, ada cara yang lebih otomatis untuk mem-*plot* fungsi, yaitu menggunakan `fplot`. Kita tinggal memberikan:\n",
    "\n",
    "- fungsi yang ingin dibuat gambarnya\n",
    "- interval $[a,b]$ yang kita inginkan\n",
    "- (opsional) warna yang kita inginkan"
   ]
  },
  {
   "cell_type": "code",
   "execution_count": 8,
   "metadata": {
    "collapsed": false
   },
   "outputs": [
    {
     "data": {
      "image/png": "[encoded data removed]",
      "text/plain": [
       "<IPython.core.display.Image object>"
      ]
     },
     "metadata": {},
     "output_type": "display_data"
    }
   ],
   "source": [
    "f = @(x) sin(x);\n",
    "fplot(f, [0, 5], 'r')"
   ]
  },
  {
   "cell_type": "markdown",
   "metadata": {
    "collapsed": false
   },
   "source": [
    "Namun, cara ini khusus fungsi kontinu, bahkan langsung menambahkan keterangan yang belum tentu sesuai dengan yang kita inginkan. Agar lebih fleksibel, kita akan lebih sering menggunakan cara manual saja, yaitu dengan membuat *array* x, menghitung *array* y, dan memanggil `plot`."
   ]
  },
  {
   "cell_type": "markdown",
   "metadata": {
    "collapsed": false
   },
   "source": [
    "Kita coba contoh lain yuk! Misalnya kita ingin membuat *plot* dari fungsi $f(x) = x^3$ pada interval $[-1,1]$. Kita bisa coba definisikan fungsinya dulu, lalu buat *array* x dan y nya:"
   ]
  },
  {
   "cell_type": "code",
   "execution_count": 26,
   "metadata": {
    "collapsed": false
   },
   "outputs": [
    {
     "name": "stdout",
     "output_type": "stream",
     "text": [
      "error: for x^y, only square matrix arguments are permitted and one argument must be scalar.  Use .^ for elementwise power.\r\n",
      "error: called from\r\n",
      "    @<anonymous> at line 1 column 11\r\n"
     ]
    }
   ],
   "source": [
    "f = @(x) x^3;\n",
    "x = 0 : 0.1 : 5;\n",
    "y = f(x);"
   ]
  },
  {
   "cell_type": "markdown",
   "metadata": {
    "collapsed": false
   },
   "source": [
    "Lho, kok error?\n",
    "\n",
    "Perhatikan bahwa kita memasukkan *array* x ke dalam fungsi $f(x) = x^3$. Untuk contoh yang tadi, fungsi $\\sin(x)$, ketika kita memasukkan *array* x, Octave paham bahwa tiap nilai pada *array* perlu diterapkan fungsi $\\sin$.\n",
    "\n",
    "Namun, kali ini, Octave melihat bahwa ada *array* yang dipangkatkan tiga. Octave memandang *array* sebagai matriks dengan satu baris saja (atau satu kolom saja), sehingga Octave mencoba melakukan parpangkatan matriks. Padahal, syarat perpangkatan matriks adalah matriksnya harus persegi. *Array* ini bukanlah matriks persegi, sehingga jadilah *error*."
   ]
  },
  {
   "cell_type": "markdown",
   "metadata": {
    "collapsed": false
   },
   "source": [
    "Lalu, bagaimana cara memberi tahu Octave bahwa perpangkatan yang kita maksud adalah perpangkatan per elemen (*elementwise*)?\n",
    "\n",
    "Ada *syntax* khusus untuk itu, yaitu menggunakan `.^` daripada `^`\n",
    "\n",
    "Mari kita coba lagi, kali ini membuat *plot* dengan *step size* 0.05:"
   ]
  },
  {
   "cell_type": "code",
   "execution_count": 9,
   "metadata": {
    "collapsed": false
   },
   "outputs": [
    {
     "data": {
      "image/png": "[encoded data removed]",
      "text/plain": [
       "<IPython.core.display.Image object>"
      ]
     },
     "metadata": {},
     "output_type": "display_data"
    }
   ],
   "source": [
    "f = @(x) x.^3;\n",
    "x = -1 : 0.05 : 1;\n",
    "y = f(x);\n",
    "plot(x,y)"
   ]
  },
  {
   "cell_type": "markdown",
   "metadata": {
    "collapsed": false
   },
   "source": [
    "*Fun fact:* apabila ingin menggunakan `fplot` (daripada `plot`) untuk mem-*plot* suatu fungsi, dan apabila ada perpangkatan di dalam definisi fungsi tersebut, maka penulisannya juga harus menggunakan `.^` daripada `^`"
   ]
  },
  {
   "cell_type": "markdown",
   "metadata": {
    "collapsed": false
   },
   "source": [
    "Bagaimana kalau kita mau *plot* lebih dari satu fungsi? Kita tetap membuat satu *array* x saja, lalu membuat *array* y untuk tiap fungsi, seperti berikut:"
   ]
  },
  {
   "cell_type": "code",
   "execution_count": 10,
   "metadata": {
    "collapsed": false
   },
   "outputs": [
    {
     "data": {
      "image/png": "[encoded data removed]",
      "text/plain": [
       "<IPython.core.display.Image object>"
      ]
     },
     "metadata": {},
     "output_type": "display_data"
    }
   ],
   "source": [
    "x = -1 : 0.05 : 1;\n",
    "y1 = sin(x);\n",
    "y2 = cos(x);\n",
    "y3 = tan(x);\n",
    "hold on;\n",
    "plot(x, y1, 'r');\n",
    "plot(x, y2, 'g');\n",
    "plot(x, y3, 'b');"
   ]
  },
  {
   "cell_type": "markdown",
   "metadata": {
    "collapsed": false
   },
   "source": [
    "Ada baris `hold on`. Apa itu?\n",
    "\n",
    "~~Baris itu memastikan bahwa semua plot tetap di satu window yang sama, sehingga di satu gambar yang sama (daripada terpisah-pisah).~~\n",
    "\n",
    "~~(Kalian bisa coba, kalau tidak ada baris `hold on`, maka plot fungsi $\\sin$, $\\cos$, dan $\\tan$ akan terpisah semua)~~\n",
    "\n",
    "~~Nantinya, kalian juga bisa menambahkan baris `hold off` kalau kalian ingin plot selanjutnya buka di window yang baru lagi.~~\n",
    "\n",
    "Baris itu memastikan bahwa semua plot muncul secara bersamaan. Seandainya tidak ada baris `hold on`, hanya plot terakhir yang akan muncul. Kalian bisa coba hilangkan baris tersebut, maka hanya plot $\\tan$ yang akan terlihat.\n",
    "\n",
    "(*Fun fact:* `hold on` nantinya bisa saja dimatikan dengan `hold off`.)"
   ]
  },
  {
   "cell_type": "markdown",
   "metadata": {
    "collapsed": false
   },
   "source": [
    "Kita juga bisa menambahkan legenda (*legend*) atau keterangan, seperti berikut. Tuliskan keterangannya secara berurutan, sesuai dengan urutan mem-*plot* fungsi."
   ]
  },
  {
   "cell_type": "code",
   "execution_count": 11,
   "metadata": {
    "collapsed": false
   },
   "outputs": [
    {
     "data": {
      "image/png": "[encoded data removed]",
      "text/plain": [
       "<IPython.core.display.Image object>"
      ]
     },
     "metadata": {},
     "output_type": "display_data"
    }
   ],
   "source": [
    "x = -1 : 0.05 : 1;\n",
    "y1 = sin(x);\n",
    "y2 = cos(x);\n",
    "y3 = tan(x);\n",
    "hold on;\n",
    "plot(x, y1, 'r');\n",
    "plot(x, y2, 'g');\n",
    "plot(x, y3, 'b');\n",
    "legend(\"Sinus\", \"Kosinus\", \"Tangen\");"
   ]
  },
  {
   "cell_type": "markdown",
   "metadata": {
    "collapsed": false
   },
   "source": [
    "Sedikit tambahan, kita bisa menyimpan fungsi ke dalam sejenis *array* yang khusus (sehingga bisa diakses melalui indeks), yang bernama ***cell array***.\n",
    "\n",
    "Misalnya kita ingin menyimpan fungsi $f(x)=3x^2$, $g(x)=6$ (fungsi konstan), dan $h(x,y) = \\sin(x) + \\cos(y)$, di dalam satu *cell array* bernama `array_fungsi`. Penulisannya menggunakan kurung kurawal `{` `}` dan indeksnya juga menggunakan kurung kurawal, seperti berikut:"
   ]
  },
  {
   "cell_type": "code",
   "execution_count": 40,
   "metadata": {
    "collapsed": false
   },
   "outputs": [
    {
     "name": "stdout",
     "output_type": "stream",
     "text": [
      "ans = 2\r\n"
     ]
    }
   ],
   "source": [
    "f = @(x) 3 * x.^2;\n",
    "g = @(x) 6;\n",
    "h = @(x,y) sin(x) + cos(y);\n",
    "array_fungsi = {f, g, h};\n",
    "\n",
    "array_fungsi{3}(pi/2, 0)"
   ]
  },
  {
   "cell_type": "markdown",
   "metadata": {
    "collapsed": false
   },
   "source": [
    "Perhatikan bahwa kita bisa mengindeks *cell array* tersebut untuk memperoleh suatu fungsi yang kemudian langsung bisa dipanggil. Misalnya, dipilih indeks ketiga yaitu fungsi $h(x,y)$, kemudian langsung dipanggil dengan $x=\\frac{\\pi}{2}$ dan $y=0$."
   ]
  },
  {
   "cell_type": "markdown",
   "metadata": {
    "collapsed": false
   },
   "source": [
    "Sebenarnya, *cell array* ini adalah sejenis *array* yang bisa menyimpan apapun (tidak seperti *array* biasa yang hanya bisa menyimpan nilai numerik)."
   ]
  },
  {
   "cell_type": "code",
   "execution_count": 41,
   "metadata": {
    "collapsed": false
   },
   "outputs": [
    {
     "name": "stdout",
     "output_type": "stream",
     "text": [
      "ans = 24\r\n"
     ]
    }
   ],
   "source": [
    "test_cell = {9, 8, 7};\n",
    "test_cell{2} * 3"
   ]
  },
  {
   "cell_type": "markdown",
   "metadata": {
    "collapsed": false
   },
   "source": [
    "Namun, *broadcasting* tidak berlaku pada *cell array*, sehingga *cell array* jarang digunakan (toh Octave paling sering digunakan untuk perhitungan numerik).\n",
    "\n",
    "*Array* biasa dan *cell array* di Octave, bagaikan *array* numpy dan *list* di Python."
   ]
  },
  {
   "cell_type": "markdown",
   "metadata": {
    "collapsed": false
   },
   "source": [
    "## Metode Euler"
   ]
  },
  {
   "cell_type": "markdown",
   "metadata": {
    "collapsed": false
   },
   "source": [
    "Metode Euler adalah metode paling dasar dalam mencari solusi dari permasalahan nilai awal dari suatu PD."
   ]
  },
  {
   "cell_type": "markdown",
   "metadata": {
    "collapsed": false
   },
   "source": [
    "Misalkan kita mempunyai suatu persamaan diferensial dengan nilai awal:\n",
    "\n",
    "$$y^{\\prime}=f(t, y), a \\leq t \\leq b$$\n",
    "$$y(a)=\\alpha$$\n",
    "\n",
    "\n",
    "maka solusi secara numeriknya adalah $w_i= y(t_i)$, dengan:\n",
    "\n",
    "$$w_1=\\alpha$$\n",
    "$$w_{i+1}=w_i+h f\\left(t_i, w_i\\right), \\quad i=1,2, \\ldots, N$$\n",
    "\n",
    "dengan $N+1\\in \\mathbb{N}$ menyatakan banyaknya titik nantinya.\n",
    "\n",
    "Solusi kita akan berupa titik (yang nantinya dapat menggunakan interpolasi untuk nilai yang tidak dimuat di $w_i$)"
   ]
  },
  {
   "cell_type": "markdown",
   "metadata": {
    "collapsed": false
   },
   "source": [
    "Metode Euler juga bisa ditulis:\n",
    "\n",
    "$$w_1=\\alpha$$\n",
    "\n",
    "diikuti iterasi untuk $i=1,2, \\ldots, N$,\n",
    "\n",
    "$$m_1 = f\\left(t_i, w_i\\right)$$\n",
    "$$w_{i+1}=w_i+h m_1$$"
   ]
  },
  {
   "cell_type": "markdown",
   "metadata": {
    "collapsed": false
   },
   "source": [
    "Metode Euler membutuhkan\n",
    "\n",
    "- fungsi $f\\left(t,y\\right)$ dalam MNA $y' = f\\left(t,y\\right)$\n",
    "- interval $[a,b]$\n",
    "- niali $N$, agar digunakan $N+1$ titik, yaitu sebagai pembagi dalam perhitungan *step size* $h = \\frac{b-a}{N}$\n",
    "- $\\alpha$ (alpha) sebagai nilai awal dalam $y(a) = \\alpha$\n",
    "\n",
    "sehingga programnya (fungsi metode Euler) bisa ditulis sebagai berikut:"
   ]
  },
  {
   "cell_type": "raw",
   "metadata": {},
   "source": [
    "::: {.panel-tabset}\n",
    "\n",
    "### *Function file* `euler.m` - nama *file* harus sama dengan nama fungsi"
   ]
  },
  {
   "cell_type": "code",
   "execution_count": 2,
   "metadata": {
    "collapsed": false
   },
   "outputs": [],
   "source": [
    "function [t, w] = euler(f, a, b, N, alpha)\n",
    "  h = (b - a) / N;\n",
    "  t = zeros(N + 1, 1);\n",
    "  w = zeros(N + 1, 1);\n",
    "  t(1) = a;\n",
    "  w(1) = alpha;\n",
    "  for i = 1 : N\n",
    "    t(i + 1) = t(i) + h;\n",
    "    m1 = f(t(i), w(i));\n",
    "    w(i + 1) = w(i) + h * m1;\n",
    "  endfor\n",
    "endfunction"
   ]
  },
  {
   "cell_type": "raw",
   "metadata": {},
   "source": [
    ":::"
   ]
  },
  {
   "cell_type": "markdown",
   "metadata": {},
   "source": [
    "Perhatikan: kode di atas berupa fungsi (lebih tepatnya diawali dengan `function`), sehingga\n",
    "\n",
    "- lazimnya di simpan sebagai satu *file* tersendiri, yaitu sebagai ***function file***, agar nantinya bisa dipanggil dari *file lain*\n",
    "\n",
    "- sebagai *function file*, nama *file* nya harus sama persis dengan nama fungsinya; di sini, nama *file* nya harus `euler.m`"
   ]
  },
  {
   "cell_type": "markdown",
   "metadata": {
    "collapsed": false
   },
   "source": [
    "Sekarang akan kita coba gunakan untuk menyelesaikan suatu MNA (masalah nilai awal) PDB orde 1. Misal diberikan MNA sebagai berikut:\n",
    "\n",
    "$$y^{\\prime}=y-t^2+1$$\n",
    "$$0 \\leq t \\leq 2$$\n",
    "$$y(0)=0.5$$\n",
    "\n",
    "maka kita dapat mendefinisikan\n",
    "\n",
    "- `f = @(t, y) y-t^2+1`,\n",
    "- a=0,\n",
    "- b=2, dan\n",
    "- alpha $=0.5$\n",
    "\n",
    "sehingga untuk $N=10$, diperoleh kode dan hasil sebagai berikut:"
   ]
  },
  {
   "cell_type": "code",
   "execution_count": 2,
   "metadata": {
    "collapsed": false
   },
   "outputs": [],
   "source": [
    "f = @(t, y) (y-t^2 + 1);\n",
    "a = 0;\n",
    "b = 2;\n",
    "N = 10;\n",
    "alpha= 0.5;\n",
    "[t_euler, w_euler] = euler(f, a, b, N, alpha);"
   ]
  },
  {
   "cell_type": "code",
   "execution_count": 3,
   "metadata": {
    "collapsed": false
   },
   "outputs": [
    {
     "name": "stdout",
     "output_type": "stream",
     "text": [
      "ans =\n",
      "\n",
      "        0   0.5000\n",
      "   0.2000   0.8000\n",
      "   0.4000   1.1520\n",
      "   0.6000   1.5504\n",
      "   0.8000   1.9885\n",
      "   1.0000   2.4582\n",
      "   1.2000   2.9498\n",
      "   1.4000   3.4518\n",
      "   1.6000   3.9501\n",
      "   1.8000   4.4282\n",
      "   2.0000   4.8658\n",
      "\n"
     ]
    }
   ],
   "source": [
    "[t_euler, w_euler]"
   ]
  },
  {
   "cell_type": "markdown",
   "metadata": {
    "collapsed": false
   },
   "source": [
    "Sebenarnya, MNA tersebut bisa dihitung solusi eksaknya, yaitu\n",
    "\n",
    "$$y(t)=(t+1)^2- 0.5 e^t$$\n",
    "\n",
    "sehingga kita bisa menghitung *error* metode Euler:\n",
    "\n",
    "1. Tulis fungsi solusi eksak sebagai *anonymous function*\n",
    "\n",
    "2. Terapkan fungsi tersebut pada *array* t untuk memperoleh *array* y (yaitu nilai solusi eksak pada tiap nilai t)\n",
    "\n",
    "3. Hitung mutlak dari selisih antara *array* w (hasil aproksimasi metode Euler) dengan *array* y, untuk memperoleh *array* baru yaitu *error* metode Euler"
   ]
  },
  {
   "cell_type": "code",
   "execution_count": 4,
   "metadata": {
    "collapsed": false
   },
   "outputs": [],
   "source": [
    "sln = @(t) (t + 1).^2 - 0.5 * exp(t);\n",
    "y_eksak = sln(t_euler);\n",
    "err_euler = abs(y_eksak - w_euler);"
   ]
  },
  {
   "cell_type": "markdown",
   "metadata": {
    "collapsed": false
   },
   "source": [
    "Sekarang, kita bisa menampilkan empat kolom berdampingan (membentuk tabel): nilai t, nilai w, nilai y (eksak), dan error."
   ]
  },
  {
   "cell_type": "code",
   "execution_count": 5,
   "metadata": {
    "collapsed": false
   },
   "outputs": [
    {
     "name": "stdout",
     "output_type": "stream",
     "text": [
      "ans =\n",
      "\n",
      "        0   0.5000   0.5000        0\n",
      "   0.2000   0.8000   0.8293   0.0293\n",
      "   0.4000   1.1520   1.2141   0.0621\n",
      "   0.6000   1.5504   1.6489   0.0985\n",
      "   0.8000   1.9885   2.1272   0.1387\n",
      "   1.0000   2.4582   2.6409   0.1827\n",
      "   1.2000   2.9498   3.1799   0.2301\n",
      "   1.4000   3.4518   3.7324   0.2806\n",
      "   1.6000   3.9501   4.2835   0.3334\n",
      "   1.8000   4.4282   4.8152   0.3870\n",
      "   2.0000   4.8658   5.3055   0.4397\n",
      "\n"
     ]
    }
   ],
   "source": [
    "[t_euler, w_euler, y_eksak, err_euler]"
   ]
  },
  {
   "cell_type": "markdown",
   "metadata": {
    "collapsed": false
   },
   "source": [
    "Untuk visualisasinya, kita akan membuat plot dari hasil yang kita peroleh."
   ]
  },
  {
   "cell_type": "markdown",
   "metadata": {
    "collapsed": false
   },
   "source": [
    "Kita tambahkan kode berikut pada file, untuk membandingkan *plot* solusi eksak dengan *plot* dari titik-titik hasil algoritma."
   ]
  },
  {
   "cell_type": "code",
   "execution_count": 6,
   "metadata": {
    "collapsed": false
   },
   "outputs": [
    {
     "data": {
      "image/png": "[encoded data removed]",
      "text/plain": [
       "<IPython.core.display.Image object>"
      ]
     },
     "metadata": {},
     "output_type": "display_data"
    }
   ],
   "source": [
    "hold on;\n",
    "fplot(sln, [a, b], 'b');\n",
    "scatter(t_euler, w_euler, 'r');\n",
    "legend('Solusi eksak', 'Metode Euler');\n",
    "title(\"Metode Euler\");"
   ]
  },
  {
   "cell_type": "markdown",
   "metadata": {
    "collapsed": false
   },
   "source": [
    "Saat dijalankan, akan muncul jendela pop-up yang berisi plot yang telah dibuat."
   ]
  },
  {
   "cell_type": "markdown",
   "metadata": {
    "collapsed": false
   },
   "source": [
    "![](./pdnum2_Picture1.png)"
   ]
  },
  {
   "cell_type": "markdown",
   "metadata": {
    "collapsed": false
   },
   "source": [
    "Penjelasan:\n",
    "\n",
    "* sln berisi fungsi referensi kita untuk di-plot dan dibandingkan.\n",
    "\n",
    "* fplot(f, [a, b]) akan menampilkan plot dari suatu fungsi f dengan domain [a, b]. Argumen tambahan ‘b’ memberi warna biru pada plot.\n",
    "\n",
    "* hold on akan menahan plot yang ada agar kita bisa menampilkan banyak plot sekaligus.\n",
    "\n",
    "* scatter(x, y) akan menampilkan x-y scatter plot.\n",
    "\n",
    "* legend memberi legenda/keterangan pada plot yang telah dibuat. Legenda tersebut dimasukkan berurutan mulai dari plot yang didefinsikan terlebih dahulu\n",
    "\n",
    "* title memberi judul pada plot"
   ]
  },
  {
   "cell_type": "markdown",
   "metadata": {
    "collapsed": false
   },
   "source": [
    "Secara keseluruhan, kodenya menjadi seperti berikut."
   ]
  },
  {
   "cell_type": "raw",
   "metadata": {},
   "source": [
    "::: {.panel-tabset}\n",
    "\n",
    "### *Script file* `coba_euler.m` - nama *file* bebas"
   ]
  },
  {
   "cell_type": "code",
   "execution_count": 3,
   "metadata": {
    "collapsed": false
   },
   "outputs": [
    {
     "name": "stdout",
     "output_type": "stream",
     "text": [
      "Tabel aproksimasi w, solusi eksak y, dan error:\n",
      "ans =\n",
      "\n",
      "        0   0.5000   0.5000        0\n",
      "   0.2000   0.8000   0.8293   0.0293\n",
      "   0.4000   1.1520   1.2141   0.0621\n",
      "   0.6000   1.5504   1.6489   0.0985\n",
      "   0.8000   1.9885   2.1272   0.1387\n",
      "   1.0000   2.4582   2.6409   0.1827\n",
      "   1.2000   2.9498   3.1799   0.2301\n",
      "   1.4000   3.4518   3.7324   0.2806\n",
      "   1.6000   3.9501   4.2835   0.3334\n",
      "   1.8000   4.4282   4.8152   0.3870\n",
      "   2.0000   4.8658   5.3055   0.4397\n",
      "\n",
      "Error total (norm L1):\n",
      "2.1822\n"
     ]
    },
    {
     "data": {
      "image/png": "[encoded data removed]",
      "text/plain": [
       "<IPython.core.display.Image object>"
      ]
     },
     "metadata": {},
     "output_type": "display_data"
    }
   ],
   "source": [
    "% setup\n",
    "f = @(t, y) (y-t^2 + 1);\n",
    "a = 0;\n",
    "b = 2;\n",
    "N = 10;\n",
    "alpha= 0.5;\n",
    "\n",
    "% hitung metode Euler\n",
    "[t_euler, w_euler] = euler(f, a, b, N, alpha);\n",
    "\n",
    "% solusi eksak\n",
    "sln = @(t) (t + 1).^2 - 0.5 * exp(t);\n",
    "y_eksak = sln(t_euler); % hitung solusi eksak di tiap titik t\n",
    "\n",
    "% error: nilai mutlak dari selisih\n",
    "err_euler = abs(y_eksak - w_euler);\n",
    "\n",
    "% error total: jumlahan dari nilai mutlak dari selisih\n",
    "% menghitung error seperti ini disebut norm L1 (juga disebut taxicab/Manhattan)\n",
    "err_euler_total = sum(err_euler);\n",
    "\n",
    "% tampilkan sejumlah kolom menjadi seperti tabel\n",
    "disp(\"Tabel aproksimasi w, solusi eksak y, dan error:\");\n",
    "[t_euler, w_euler, y_eksak, err_euler]\n",
    "\n",
    "% tampilkan juga error total\n",
    "disp(\"Error total (norm L1):\");\n",
    "disp(err_euler_total);\n",
    "\n",
    "% plotting\n",
    "hold on;\n",
    "fplot(sln, [a, b], 'b');\n",
    "scatter(t_euler, w_euler, 'r');\n",
    "legend('Solusi eksak', 'Metode Euler');\n",
    "title(\"Metode Euler\");"
   ]
  },
  {
   "cell_type": "raw",
   "metadata": {},
   "source": [
    ":::"
   ]
  },
  {
   "cell_type": "markdown",
   "metadata": {},
   "source": [
    "Kode ini tidak diawali dengan `function`, sehingga tidak tergolong *function file*, melainkan tergolong *script file*. Sesuai istilahnya, *script file* bisa berisi apapun yang ingin kita *run* dengan Octave."
   ]
  },
  {
   "cell_type": "markdown",
   "metadata": {
    "collapsed": false
   },
   "source": [
    "## Metode Taylor orde $n$"
   ]
  },
  {
   "cell_type": "markdown",
   "metadata": {
    "collapsed": false
   },
   "source": [
    "Metode Taylor orde $n$ adalah perluasan dari metode Euler (di mana metode Taylor orde 1 sama saja dengan metode Euler). Rumus iterasinya bisa ditulis sebagai berikut:"
   ]
  },
  {
   "cell_type": "markdown",
   "metadata": {
    "collapsed": false
   },
   "source": [
    "$$w_1 = \\alpha$$\n",
    "\n",
    "\\begin{align*}\n",
    "T^{(n)} \\left(t_i, w_i\\right) &= f\\left(t_i, w_i\\right) + \\frac{h}{2}f'\\left(t_i, w_i\\right) + \\cdots + \\frac{h^{n-1}}{n!} f^{\\left(n-1\\right)} \\left(t_i,w_i\\right) \\\\\n",
    "\\end{align*}\n",
    "\n",
    "$$w_{i+1} = w_i + hT^{(n)} \\left(t_i, w_i\\right) $$"
   ]
  },
  {
   "cell_type": "markdown",
   "metadata": {
    "collapsed": false
   },
   "source": [
    "Perhatikan bahwa, dengan metode Taylor orde $n$, kita perlu memperoleh terlebih dahulu rumus analitik untuk sejumlah turunan (terhadap $t$) dari $f\\left(t_i, w_i\\right)$ yaitu $f', f'', \\dots, f^{(n-1)}$.\n",
    "\n",
    "Kebetulan, untuk metode Euler, yaitu metode Taylor orde 1 ($n=1$), kita tidak perlu menghitung turunan fungsinya sama sekali."
   ]
  },
  {
   "cell_type": "markdown",
   "metadata": {
    "collapsed": false
   },
   "source": [
    "Untuk mempermudah pemrograman, kita coba tulis ulang rumus $T^{(n)} \\left(t_i, w_i\\right)$ dengan sumasi:\n",
    "\n",
    "\\begin{align*}\n",
    "T^{(n)} \\left(t_i, w_i\\right) &= f\\left(t_i, w_i\\right) + \\frac{h}{2}f'\\left(t_i, w_i\\right) + \\cdots + \\frac{h^{n-1}}{n!} f^{\\left(n-1\\right)} \\left(t_i,w_i\\right) \\\\\n",
    "&= \\sum_{j=1}^{n} \\frac{h^{j-1}}{j!} f^{\\left(j-1\\right)} \\left(t_i,w_i\\right) \\\\\n",
    "&= f\\left(t_i,w_i\\right) + \\sum_{j=2}^{n} \\frac{h^{j-1}}{j!} f^{\\left(j-1\\right)} \\left(t_i,w_i\\right)\n",
    "\\end{align*}"
   ]
  },
  {
   "cell_type": "markdown",
   "metadata": {
    "collapsed": false
   },
   "source": [
    "Dengan demikian, kita bisa menyimpan fungsi-fungsi $f', f'', \\dots, f^{(n-1)}$ di dalam suatu *cell array*, misal dinamakan `fp`, sehingga\n",
    "\n",
    "- kita bisa mengakses turunan ke-$i$ dengan menulis `fp{i}`\n",
    "- orde $n$ untuk metode Taylor bisa ditentukan menggunakan panjang *cell array* tersebut, yaitu `n = length(fp) + 1;`\n",
    "- jika *cell array* kosong (tidak ada fungsi turunan), otomatis $n=1$ dan algoritmanya menjadi sama saja dengan metode Euler (sesuai harapan)\n",
    "- penjumlahannya bisa menggunakan *for loop* sederhana\n",
    "- kita cukup mendefinisikan fungsi metode Taylor ini sekali saja di Octave, daripada harus membuat definisi terpisah untuk orde 2, orde 3, orde 4, dan seterusnya (di mana banyaknya fungsi turunan memang berbeda)"
   ]
  },
  {
   "cell_type": "markdown",
   "metadata": {
    "collapsed": false
   },
   "source": [
    "Setelah manipulasi tersebut, secara keseluruhan, metode Taylor orde $n$ bisa ditulis:\n",
    "\n",
    "$$w_1 = \\alpha$$\n",
    "\n",
    "\\begin{align*}\n",
    "T^{(n)} \\left(t_i, w_i\\right) &= f\\left(t_i, w_i\\right) + \\frac{h}{2}f'\\left(t_i, w_i\\right) + \\cdots + \\frac{h^{n-1}}{n!} f^{\\left(n-1\\right)} \\left(t_i,w_i\\right) \\\\\n",
    "&= \\sum_{j=1}^{n} \\frac{h^{j-1}}{j!} f^{\\left(j-1\\right)} \\left(t_i,w_i\\right) \\\\\n",
    "&= f\\left(t_i,w_i\\right) + \\sum_{j=2}^{n} \\frac{h^{j-1}}{j!} f^{\\left(j-1\\right)} \\left(t_i,w_i\\right)\n",
    "\\end{align*}\n",
    "\n",
    "$$w_{i+1} = w_i + hT^{(n)} \\left(t_i, w_i\\right) $$"
   ]
  },
  {
   "cell_type": "markdown",
   "metadata": {
    "collapsed": false
   },
   "source": [
    "Atau lebih singkatnya:\n",
    "\n",
    "$$w_1 = \\alpha$$\n",
    "\n",
    "$$T^{(n)} \\left(t_i, w_i\\right) = f\\left(t_i,w_i\\right) + \\sum_{j=2}^{n} \\frac{h^{j-1}}{j!} f^{\\left(j-1\\right)} \\left(t_i,w_i\\right)$$\n",
    "\n",
    "$$w_{i+1} = w_i + hT^{(n)} \\left(t_i, w_i\\right) $$"
   ]
  },
  {
   "cell_type": "raw",
   "metadata": {},
   "source": [
    "::: {.panel-tabset}\n",
    "\n",
    "### *Function file* `taylor.m` - nama *file* harus sama dengan nama fungsi"
   ]
  },
  {
   "cell_type": "code",
   "execution_count": 8,
   "metadata": {
    "collapsed": false
   },
   "outputs": [],
   "source": [
    "function [t, w] = taylor(f, fp, a, b, N, alpha)\n",
    "  h = (b - a) / N;\n",
    "  n = length(fp) + 1;\n",
    "  t = zeros(n + 1, 1);\n",
    "  w = zeros(n + 1, 1);\n",
    "  t(1) = a;\n",
    "  w(1) = alpha;\n",
    "  for i = 1 : N\n",
    "    t(i + 1) = t(i) + h;\n",
    "    \n",
    "    T = f(t(i), w(i));\n",
    "    for j = 2 : n\n",
    "      T += h^(j-1) * fp{j-1}(t(i),w(i)) / factorial(j);\n",
    "    endfor\n",
    "    \n",
    "    w(i + 1) = w(i) + h * T;\n",
    "  endfor\n",
    "endfunction"
   ]
  },
  {
   "cell_type": "raw",
   "metadata": {},
   "source": [
    ":::"
   ]
  },
  {
   "cell_type": "markdown",
   "metadata": {
    "collapsed": false
   },
   "source": [
    "Contoh penggunaan:"
   ]
  },
  {
   "cell_type": "markdown",
   "metadata": {
    "collapsed": false
   },
   "source": [
    "Misalkan diberikan MNA sebagai berikut, yang diminta untuk diselesaikan secara numerik dengan metode Taylor orde 4:\n",
    "\n",
    "$$y' = y - t^2 + 1$$\n",
    "$$0 \\le t \\le 2$$\n",
    "$$y(0) = 0.5$$"
   ]
  },
  {
   "cell_type": "markdown",
   "metadata": {
    "collapsed": false
   },
   "source": [
    "Maka, dengan $y' = f\\left(t, y\\right) = y - t^2 + 1$, bisa dihitung:\n",
    "\n",
    "$$f'\\left(t, y\\right) = y - t^2 + 1 - 2t$$\n",
    "\n",
    "$$f''\\left(t, y\\right) = y - t^2 - 2t - 1$$\n",
    "\n",
    "$$f^{(3)}\\left(t, y\\right) = y - t^2 - 2t - 1, \\hspace{0.2cm} \\text{kebetulan sama persis dengan} \\hspace{0.2cm} f''\\left(t, y\\right)$$"
   ]
  },
  {
   "cell_type": "raw",
   "metadata": {},
   "source": [
    "::: {.panel-tabset}\n",
    "\n",
    "### *Script file* `coba_taylor4.m` - nama *file* bebas"
   ]
  },
  {
   "cell_type": "code",
   "execution_count": 9,
   "metadata": {
    "collapsed": false
   },
   "outputs": [
    {
     "name": "stdout",
     "output_type": "stream",
     "text": [
      "ans =\n",
      "\n",
      "        0   0.5000\n",
      "   0.2000   0.8293\n",
      "   0.4000   1.2141\n",
      "   0.6000   1.6489\n",
      "   0.8000   2.1272\n",
      "   1.0000   2.6409\n",
      "   1.2000   3.1800\n",
      "   1.4000   3.7324\n",
      "   1.6000   4.2835\n",
      "   1.8000   4.8152\n",
      "   2.0000   5.3056\n",
      "\n"
     ]
    }
   ],
   "source": [
    "% contoh pakai: subbab 5.3 example 1b (orde 4)\n",
    "\n",
    "% f(t_i, w_i)\n",
    "f0 = @(t,y) y - t^2 + 1;\n",
    "\n",
    "% f'(t_i, w_i)\n",
    "f1 = @(t,y) y - t^2 + 1 - 2*t;\n",
    "\n",
    "% f''(t_i, w_i)\n",
    "f2 = @(t,y) y - t^2 - 2*t - 1;\n",
    "\n",
    "% f'''(t_i, w_i)\n",
    "f3 = @(t,y) y - t^2 - 2*t - 1;\n",
    "\n",
    "% hitung pada interval [0,2], N=10, y(0)=alpha=0.5\n",
    "[t, w] = taylor(f0, {f1, f2, f3}, 0, 2, 10, 0.5);\n",
    "% otomatis Taylor orde 4 karena\n",
    "% ada tiga fungsi turunan f1, f2, f3\n",
    "% yang diinput di cell array\n",
    "\n",
    "% bandingkan dengan Tabel 5.4\n",
    "[t, w]"
   ]
  },
  {
   "cell_type": "raw",
   "metadata": {},
   "source": [
    ":::"
   ]
  },
  {
   "cell_type": "markdown",
   "metadata": {
    "collapsed": false
   },
   "source": [
    "Kita bisa membandingkan antara solusi eksak, metode Euler, dan metode Taylor orde 4, baik dalam menampilkan tabel iterasi maupun menampilkan *plot*:"
   ]
  },
  {
   "cell_type": "raw",
   "metadata": {},
   "source": [
    "::: {.panel-tabset}\n",
    "\n",
    "### *Script file* `bandingkan_taylor.m` - nama *file* bebas"
   ]
  },
  {
   "cell_type": "code",
   "execution_count": 11,
   "metadata": {
    "collapsed": false
   },
   "outputs": [
    {
     "name": "stdout",
     "output_type": "stream",
     "text": [
      "ans =\n",
      "\n",
      "        0   0.5000   0.5000   0.5000\n",
      "   0.2000   0.8000   0.8293   0.8293\n",
      "   0.4000   1.1520   1.2141   1.2141\n",
      "   0.6000   1.5504   1.6489   1.6489\n",
      "   0.8000   1.9885   2.1272   2.1272\n",
      "   1.0000   2.4582   2.6409   2.6409\n",
      "   1.2000   2.9498   3.1800   3.1799\n",
      "   1.4000   3.4518   3.7324   3.7324\n",
      "   1.6000   3.9501   4.2835   4.2835\n",
      "   1.8000   4.4282   4.8152   4.8152\n",
      "   2.0000   4.8658   5.3056   5.3055\n",
      "\n"
     ]
    },
    {
     "data": {
      "image/png": "[encoded data removed]",
      "text/plain": [
       "<IPython.core.display.Image object>"
      ]
     },
     "metadata": {},
     "output_type": "display_data"
    }
   ],
   "source": [
    "% fungsi f(t,y) dan turunan pertama, kedua, ketiga\n",
    "f0 = @(t,y) y - t^2 + 1;\n",
    "f1 = @(t,y) y - t^2 + 1 - 2*t;\n",
    "f2 = @(t,y) y - t^2 - 2*t - 1;\n",
    "f3 = @(t,y) y - t^2 - 2*t - 1;\n",
    "\n",
    "a = 0;\n",
    "b = 2;\n",
    "N = 10;\n",
    "alpha = 0.5;\n",
    "\n",
    "% menghitung metode Euler dan metode Taylor orde 4\n",
    "[t_euler, w_euler] = euler(f0, a, b, N, alpha);\n",
    "[t_taylor, w_taylor] = taylor(f0, {f1,f2,f3}, a, b, N, alpha);\n",
    "\n",
    "% solusi eksak\n",
    "sln = @(t) (t + 1).^2 - 0.5 * exp(t);\n",
    "y_eksak = sln(t_euler);\n",
    "\n",
    "% tampilkan tabel\n",
    "[t_euler, w_euler, w_taylor, y_eksak]\n",
    "\n",
    "% plotting\n",
    "hold on;\n",
    "fplot(sln, [a, b], 'b');\n",
    "scatter(t_euler, w_euler, 'r');\n",
    "scatter(t_taylor, w_taylor, 'g');\n",
    "legend(\"Solusi Eksak\", \"Metode Euler\", \"Metode Taylor orde 4\");\n"
   ]
  },
  {
   "cell_type": "raw",
   "metadata": {
    "collapsed": false
   },
   "source": [
    ":::"
   ]
  },
  {
   "cell_type": "code",
   "execution_count": null,
   "metadata": {},
   "outputs": [],
   "source": []
  }
 ],
 "metadata": {
  "kernelspec": {
   "argv": [
    "python3",
    "-E",
    "-m",
    "octave_kernel",
    "-f",
    "{connection_file}"
   ],
   "display_name": "Octave",
   "env": {},
   "language": "octave",
   "name": "octave",
   "resource_dir": "/ext/jupyter/kernels/octave-8.2"
  },
  "language_info": {
   "file_extension": ".m",
   "help_links": [
    {
     "text": "GNU Octave",
     "url": "https://www.gnu.org/software/octave/support.html"
    },
    {
     "text": "Octave Kernel",
     "url": "https://github.com/Calysto/octave_kernel"
    },
    {
     "text": "MetaKernel Magics",
     "url": "https://metakernel.readthedocs.io/en/latest/source/README.html"
    }
   ],
   "mimetype": "text/x-octave",
   "name": "octave",
   "version": "6.2.0"
  }
 },
 "nbformat": 4,
 "nbformat_minor": 4
}
