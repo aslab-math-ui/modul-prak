{
 "cells": [
  {
   "cell_type": "markdown",
   "metadata": {
    "id": "EI-XDI9up9wZ"
   },
   "source": [
    "# Modul 0 Metode Numerik: *Review* Python, NumPy, Matplotlib"
   ]
  },
  {
   "cell_type": "markdown",
   "metadata": {},
   "source": [
    "Kembali ke [Metode Numerik](./metnum2024genap.qmd)"
   ]
  },
  {
   "cell_type": "markdown",
   "metadata": {
    "id": "stIhIsLzqWHB"
   },
   "source": [
    "Catatan: Modul 0 ini adalah modul pengantar/*review* yang tidak dibahas ketika sesi praktikum."
   ]
  },
  {
   "cell_type": "markdown",
   "metadata": {
    "id": "OlzT06vDqEVK"
   },
   "source": [
    "Berikut topik-topik yang akan dibahas pada Modul 0 ini:\n",
    "\n",
    "* Review Python\n",
    "    + Operasi, Variabel, dan *Comment*\n",
    "    + *String* dan *Formatting*\n",
    "    + Input nilai\n",
    "    + List\n",
    "    + Pernyataan Kondisional\n",
    "    + *Looping*\n",
    "* *Error Handling*\n",
    "* NumPy\n",
    "* Review matplotlib"
   ]
  },
  {
   "cell_type": "markdown",
   "metadata": {
    "id": "oBy4j1o5qTU7"
   },
   "source": [
    "## Review Python"
   ]
  },
  {
   "cell_type": "markdown",
   "metadata": {
    "id": "g7zgjSDwsK3w"
   },
   "source": [
    "### Operasi, Variabel, dan *Comment*"
   ]
  },
  {
   "cell_type": "markdown",
   "metadata": {
    "id": "UOy8f8lAqh2R"
   },
   "source": [
    "Di Python, kita bisa melakukan beberapa operasi aritmetika, menggunakan simbol sebagai berikut:\n",
    "\n",
    "(+) untuk penjumlahan\n",
    "\n",
    "(-) untuk pengurangan\n",
    "\n",
    "(*) untuk perkalian\n",
    "\n",
    "(/) untuk pembagian\n",
    "\n",
    "(**) untuk pangkat\n",
    "\n",
    "(%) untuk operasi mod atau modulo (sisa pembagian)\n",
    "\n",
    "(//) untuk operasi div (hasil bagi tanpa sisa)"
   ]
  },
  {
   "cell_type": "code",
   "execution_count": 1,
   "metadata": {
    "colab": {
     "base_uri": "https://localhost:8080/"
    },
    "id": "5VdOGzHBww5s",
    "outputId": "4e2e00eb-b56c-48ad-82db-0b3727d1e1f7"
   },
   "outputs": [
    {
     "name": "stdout",
     "output_type": "stream",
     "text": [
      "7\n",
      "3\n",
      "10\n",
      "2.5\n",
      "25\n",
      "1\n",
      "2\n"
     ]
    }
   ],
   "source": [
    "print(5 + 2)\n",
    "print(5 - 2)\n",
    "print(5 * 2)\n",
    "print(5 / 2)\n",
    "print(5 ** 2)\n",
    "print(5 % 2)\n",
    "print(5 // 2)"
   ]
  },
  {
   "cell_type": "markdown",
   "metadata": {
    "id": "KST3DMDbi-Tb"
   },
   "source": [
    "Seandainya kita tidak menggunakan print untuk menampilkan hasil perhitungan,"
   ]
  },
  {
   "cell_type": "code",
   "execution_count": 2,
   "metadata": {
    "colab": {
     "base_uri": "https://localhost:8080/"
    },
    "id": "erqyd0wyi9xH",
    "outputId": "ac4f78ab-8999-48d1-8eeb-faeec302b077"
   },
   "outputs": [
    {
     "data": {
      "text/plain": [
       "7"
      ]
     },
     "execution_count": 2,
     "metadata": {},
     "output_type": "execute_result"
    }
   ],
   "source": [
    "5 + 2"
   ]
  },
  {
   "cell_type": "code",
   "execution_count": 3,
   "metadata": {
    "colab": {
     "base_uri": "https://localhost:8080/"
    },
    "id": "bBvvY-ogjMmJ",
    "outputId": "2ab37169-fe72-47c7-9d20-feba7c9eb00d"
   },
   "outputs": [
    {
     "data": {
      "text/plain": [
       "10"
      ]
     },
     "execution_count": 3,
     "metadata": {},
     "output_type": "execute_result"
    }
   ],
   "source": [
    "5 - 2\n",
    "5 * 2"
   ]
  },
  {
   "cell_type": "markdown",
   "metadata": {
    "id": "Ol52zMirjJ6c"
   },
   "source": [
    "maka hanya hasil dari baris terakhir yang akan ditampilkan. Oleh karena itu, sangat disarankan untuk SELALU menuliskan print, termasuk untuk baris terakhir, agar modifikasi program menjadi lebih mudah dan cepat, apalagi ketika ingin menambah baris baru."
   ]
  },
  {
   "cell_type": "markdown",
   "metadata": {
    "id": "r4A_sPXyMrgi"
   },
   "source": [
    "Perhatikan bahwa tanda % sudah dikhususkan untuk modulo, sehingga artinya BUKAN PERSEN, ya! Persen dalam Python bisa dituliskan sebagai pembagian dengan 100 (sesuai definisi persen), misalnya untuk 50% atau 21%:"
   ]
  },
  {
   "cell_type": "code",
   "execution_count": 4,
   "metadata": {
    "colab": {
     "base_uri": "https://localhost:8080/"
    },
    "id": "3XjbjoE0OHSa",
    "outputId": "0b7c51d8-8c6f-4192-8f4f-c86e93718134"
   },
   "outputs": [
    {
     "name": "stdout",
     "output_type": "stream",
     "text": [
      "0.5\n",
      "0.21\n"
     ]
    }
   ],
   "source": [
    "print(50/100)\n",
    "print(21/100)"
   ]
  },
  {
   "cell_type": "markdown",
   "metadata": {
    "id": "Sijl-OcCmDVB"
   },
   "source": [
    "Kita bisa menyimpan nilai (termasuk hasil perhitungan) ke suatu tempat penyimpanan yang disebut variabel. Tiap variabel memiliki nama tersendiri, yang kita definisikan sendiri. Proses penyimpanan nilai ke suatu variabel disebut proses *assignment*, yang memiliki syntax (cara penulisan) sebagai berikut:\n",
    "\n",
    "`contoh_variabel = 23`\n",
    "\n",
    "di mana 23 adalah contoh nilai yang ingin dipasang ke contoh variabel yang kita beri nama \"contoh_variabel\". Untuk *assignment*, tanda = cukup ditulis sekali saja, ya!\n",
    "\n",
    "Kemudian, kita bisa menggunakan print untuk menampilkan isi variabel tersebut."
   ]
  },
  {
   "cell_type": "code",
   "execution_count": 5,
   "metadata": {
    "colab": {
     "base_uri": "https://localhost:8080/"
    },
    "id": "MkxGS35ynJqc",
    "outputId": "4701460d-4269-4696-a080-ca7892f04439"
   },
   "outputs": [
    {
     "name": "stdout",
     "output_type": "stream",
     "text": [
      "23\n"
     ]
    }
   ],
   "source": [
    "contoh_variabel = 23\n",
    "print(contoh_variabel)"
   ]
  },
  {
   "cell_type": "markdown",
   "metadata": {
    "id": "R1DTpzc0tosG"
   },
   "source": [
    "Jangan sampai salah ketik, ya! Penggunaan huruf besar/kecil perlu diperhatikan, jangan sampai tertukar."
   ]
  },
  {
   "cell_type": "code",
   "execution_count": 6,
   "metadata": {
    "colab": {
     "base_uri": "https://localhost:8080/",
     "height": 171
    },
    "id": "7U0FU-YgtoJ7",
    "outputId": "619f178c-d2f4-4520-a124-d86be04b0cd4"
   },
   "outputs": [
    {
     "ename": "NameError",
     "evalue": "name 'contoh_Variabel' is not defined",
     "output_type": "error",
     "traceback": [
      "\u001b[0;31m---------------------------------------------------------------------------\u001b[0m",
      "\u001b[0;31mNameError\u001b[0m                                 Traceback (most recent call last)",
      "Cell \u001b[0;32mIn[6], line 1\u001b[0m\n\u001b[0;32m----> 1\u001b[0m \u001b[38;5;28mprint\u001b[39m(\u001b[43mcontoh_Variabel\u001b[49m)\n",
      "\u001b[0;31mNameError\u001b[0m: name 'contoh_Variabel' is not defined"
     ]
    }
   ],
   "source": [
    "print(contoh_Variabel)"
   ]
  },
  {
   "cell_type": "markdown",
   "metadata": {
    "id": "Ltkate5pt3Ut"
   },
   "source": [
    "Kita mendapat error \"name 'contoh_Variabel' is not defined\", artinya 'contoh_Variabel' itu tidak didefinisikan, karena Python menganggap itu berbeda dengan `contoh_variabel` yang memang sudah kita definisikan. Tentu kita tetap bisa mendefinisikannya:"
   ]
  },
  {
   "cell_type": "code",
   "execution_count": 7,
   "metadata": {
    "colab": {
     "base_uri": "https://localhost:8080/"
    },
    "id": "zbRn80FcuP-J",
    "outputId": "c7245c15-90e7-43cf-a817-92b0a738c04d"
   },
   "outputs": [
    {
     "name": "stdout",
     "output_type": "stream",
     "text": [
      "23\n",
      "45\n"
     ]
    }
   ],
   "source": [
    "contoh_variabel = 23\n",
    "contoh_Variabel = 45\n",
    "print(contoh_variabel)\n",
    "print(contoh_Variabel)"
   ]
  },
  {
   "cell_type": "markdown",
   "metadata": {
    "id": "5nldTN5indd3"
   },
   "source": [
    "Ada beberapa hal yang dilarang dalam penamaan variabel.\n",
    "\n",
    "1. Nama variabel hanya boleh terdiri dari huruf, angka, dan tanda _\n",
    "2. Nama variabel tidak boleh diawali angka\n",
    "\n",
    "Contoh penamaan yang valid (boleh, bisa diterima):"
   ]
  },
  {
   "cell_type": "code",
   "execution_count": 8,
   "metadata": {
    "colab": {
     "base_uri": "https://localhost:8080/"
    },
    "id": "gnYBhknkn8z9",
    "outputId": "35284052-984f-4482-ed55-7ce498e41849"
   },
   "outputs": [],
   "source": [
    "abc1 = 21\n",
    "xyz9000 = 3"
   ]
  },
  {
   "cell_type": "markdown",
   "metadata": {
    "id": "w35n4SZ5pYxI"
   },
   "source": [
    "Karena valid, variabel berhasil tersimpan dengan baik, sehingga bisa dilihat isinya:"
   ]
  },
  {
   "cell_type": "code",
   "execution_count": 9,
   "metadata": {
    "colab": {
     "base_uri": "https://localhost:8080/"
    },
    "id": "oCTntUqdpbhk",
    "outputId": "ed43a206-bb8a-4ded-c222-975bd6b7bd91"
   },
   "outputs": [
    {
     "name": "stdout",
     "output_type": "stream",
     "text": [
      "21\n",
      "3\n"
     ]
    }
   ],
   "source": [
    "print(abc1)\n",
    "print(xyz9000)"
   ]
  },
  {
   "cell_type": "markdown",
   "metadata": {
    "id": "LZqsn3CZoFIW"
   },
   "source": [
    "Contoh penamaan yang dilarang (akan menghasilkan error):"
   ]
  },
  {
   "cell_type": "code",
   "execution_count": 10,
   "metadata": {
    "colab": {
     "base_uri": "https://localhost:8080/",
     "height": 134
    },
    "id": "1VelvSAPoCSw",
    "outputId": "8af325fa-3ba5-49a9-b0d9-757e676b8225"
   },
   "outputs": [
    {
     "ename": "SyntaxError",
     "evalue": "invalid decimal literal (678666226.py, line 1)",
     "output_type": "error",
     "traceback": [
      "\u001b[0;36m  Cell \u001b[0;32mIn[10], line 1\u001b[0;36m\u001b[0m\n\u001b[0;31m    999nama = 10\u001b[0m\n\u001b[0m      ^\u001b[0m\n\u001b[0;31mSyntaxError\u001b[0m\u001b[0;31m:\u001b[0m invalid decimal literal\n"
     ]
    }
   ],
   "source": [
    "999nama = 10"
   ]
  },
  {
   "cell_type": "markdown",
   "metadata": {
    "id": "0NxTZmRCoqCq"
   },
   "source": [
    "Selain keterangan spesifik seperti \"invalid decimal literal\", kita juga bisa mendapatkan keterangan error yang lebih umum yaitu \"invalid syntax\" atau \"syntax tidak valid\". Karena terjadi error, proses *assignment* tidak berhasil, sehingga kita tidak bisa melihat isinya karena variabel tersebut memang gagal didefinisikan:"
   ]
  },
  {
   "cell_type": "code",
   "execution_count": 11,
   "metadata": {
    "colab": {
     "base_uri": "https://localhost:8080/",
     "height": 134
    },
    "id": "k-uPZc82pok5",
    "outputId": "3645811d-93ba-4f6f-abf9-eee8eb93ba92"
   },
   "outputs": [
    {
     "ename": "SyntaxError",
     "evalue": "invalid decimal literal (4165728206.py, line 1)",
     "output_type": "error",
     "traceback": [
      "\u001b[0;36m  Cell \u001b[0;32mIn[11], line 1\u001b[0;36m\u001b[0m\n\u001b[0;31m    print(999nama)\u001b[0m\n\u001b[0m            ^\u001b[0m\n\u001b[0;31mSyntaxError\u001b[0m\u001b[0;31m:\u001b[0m invalid decimal literal\n"
     ]
    }
   ],
   "source": [
    "print(999nama)"
   ]
  },
  {
   "cell_type": "markdown",
   "metadata": {
    "id": "QwBmFhptpw5U"
   },
   "source": [
    "Kita juga bisa menggunakan variabel, seperti mengoperasikan variabel untuk menghasilkan nilai baru:"
   ]
  },
  {
   "cell_type": "code",
   "execution_count": 12,
   "metadata": {
    "colab": {
     "base_uri": "https://localhost:8080/"
    },
    "id": "UeNEtIk2qQX3",
    "outputId": "6afbfed4-fc8b-41d6-92d0-9812d22d37a6"
   },
   "outputs": [
    {
     "name": "stdout",
     "output_type": "stream",
     "text": [
      "210\n",
      "7.0\n"
     ]
    }
   ],
   "source": [
    "print(abc1 * 10)\n",
    "print(abc1 / xyz9000)"
   ]
  },
  {
   "cell_type": "markdown",
   "metadata": {
    "id": "tF96UzlNqXkr"
   },
   "source": [
    "Bahkan, kita bisa memasang hasil operasi tersebut ke variabel lain:"
   ]
  },
  {
   "cell_type": "code",
   "execution_count": 13,
   "metadata": {
    "colab": {
     "base_uri": "https://localhost:8080/"
    },
    "id": "pEzon4HgqegJ",
    "outputId": "82727008-1bae-4bec-ddfd-ccd0f068e9a4"
   },
   "outputs": [
    {
     "name": "stdout",
     "output_type": "stream",
     "text": [
      "7.0\n"
     ]
    }
   ],
   "source": [
    "hasil_bagi = abc1 / xyz9000\n",
    "print(hasil_bagi)"
   ]
  },
  {
   "cell_type": "markdown",
   "metadata": {
    "id": "i9owDzo2rU6H"
   },
   "source": [
    "Perhatikan potongan kode berikut."
   ]
  },
  {
   "cell_type": "code",
   "execution_count": 14,
   "metadata": {
    "colab": {
     "base_uri": "https://localhost:8080/"
    },
    "id": "PdQjbOEXrSe2",
    "outputId": "6eaeff5e-8cad-49f0-db7c-6259a3749318"
   },
   "outputs": [
    {
     "name": "stdout",
     "output_type": "stream",
     "text": [
      "2.0\n",
      "0.5\n"
     ]
    }
   ],
   "source": [
    "a = 6\n",
    "b = 3\n",
    "print(a / b)\n",
    "a, b = b, a\n",
    "print(a / b)"
   ]
  },
  {
   "cell_type": "markdown",
   "metadata": {
    "id": "VDbp3Yz3rYxv"
   },
   "source": [
    "Pada baris 4, kita menukar nilai pada variabel `a` dan `b`. Python bisa meng-*assign* lebih dari 1 variabel dalam 1 baris, cukup dengan memisahkan tiap variabel dan nilai dengan , (tanda koma)."
   ]
  },
  {
   "cell_type": "code",
   "execution_count": 15,
   "metadata": {
    "colab": {
     "base_uri": "https://localhost:8080/"
    },
    "id": "lBYV2fiPrX_r",
    "outputId": "d29564f1-6fe1-4396-ab32-ff7fe4f3743a"
   },
   "outputs": [
    {
     "name": "stdout",
     "output_type": "stream",
     "text": [
      "0\n",
      "1\n",
      "2\n"
     ]
    }
   ],
   "source": [
    "x, y, z = 0, 1, 2\n",
    "print(x)\n",
    "print(y)\n",
    "print(z)"
   ]
  },
  {
   "cell_type": "markdown",
   "metadata": {
    "id": "96hk0G3RaNgT"
   },
   "source": [
    "Walaupun cara tersebut berlaku untuk sebanyak-banyaknya variabel, pada umumnya lebih baik melakukan *assignment* satu variabel per baris saja agar kode tetap mudah dibaca, apalagi fitur tersebut hanya ada di bahasa pemrograman Python.\n",
    "\n",
    "Penukaran variabel tetap bisa dilakukan sesuai cara yang dipelajari di mata kuliah Algortma dan Pemrograman, yaitu dengan bantuan variabel yang bisa dinamakan `temp` atau semacamnya (variabel *dummy* yang \"tidak penting\" dan hanya digunakan untuk bantuan sementara saja):"
   ]
  },
  {
   "cell_type": "code",
   "execution_count": 16,
   "metadata": {
    "colab": {
     "base_uri": "https://localhost:8080/"
    },
    "id": "i36PZn90ak43",
    "outputId": "c46f9f77-ca85-4dda-8966-43f94cbbeb63"
   },
   "outputs": [
    {
     "name": "stdout",
     "output_type": "stream",
     "text": [
      "2.0\n",
      "0.5\n"
     ]
    }
   ],
   "source": [
    "c = 10\n",
    "d = 5\n",
    "print(c/d)\n",
    "temp = d\n",
    "d = c\n",
    "c = temp\n",
    "print(c/d)"
   ]
  },
  {
   "cell_type": "markdown",
   "metadata": {
    "id": "3f43VubSa_h2"
   },
   "source": [
    "atau sama saja,"
   ]
  },
  {
   "cell_type": "code",
   "execution_count": 17,
   "metadata": {
    "colab": {
     "base_uri": "https://localhost:8080/"
    },
    "id": "Vu2j-V3obAce",
    "outputId": "b75afbcf-7d12-411e-97d7-2e73f0669b83"
   },
   "outputs": [
    {
     "name": "stdout",
     "output_type": "stream",
     "text": [
      "2.0\n",
      "0.5\n"
     ]
    }
   ],
   "source": [
    "c = 10\n",
    "d = 5\n",
    "print(c/d)\n",
    "temp = c\n",
    "c = d\n",
    "d = temp\n",
    "print(c/d)"
   ]
  },
  {
   "cell_type": "markdown",
   "metadata": {
    "id": "uru3jcRhUF5_"
   },
   "source": [
    "Terkadang, program yang kita buat bisa menjadi rumit, sehingga kita perlu menambahkan semacam penjelasan atau catatan supaya orang lain bisa lebih memahami kode kita. Di Python, kita bisa menambahkan *comment* atau semacam catatan di samping kanan tiap baris (atau pada baris tersendiri), dimulai dengan tanda #"
   ]
  },
  {
   "cell_type": "code",
   "execution_count": 18,
   "metadata": {
    "colab": {
     "base_uri": "https://localhost:8080/"
    },
    "id": "elqPSTv9Ugjr",
    "outputId": "16cd8fb1-6680-46a5-d491-d4be297eb0c5"
   },
   "outputs": [
    {
     "name": "stdout",
     "output_type": "stream",
     "text": [
      "Selamat pagi\n",
      "Selamat sore\n"
     ]
    }
   ],
   "source": [
    "print(\"Selamat pagi\") # buat apa? gapapa iseng aja\n",
    "# print(\"Selamat siang\")\n",
    "print(\"Selamat sore\") # wah dari pagi langsung sore"
   ]
  },
  {
   "cell_type": "markdown",
   "metadata": {
    "id": "puqzVykVU2eF"
   },
   "source": [
    "Python tidak memperhatikan comment sama sekali. Adanya fitur comment hanyalah untuk membantu kita sebagai *programmer*."
   ]
  },
  {
   "cell_type": "markdown",
   "metadata": {
    "id": "M4iCweCRsNtv"
   },
   "source": [
    "### *String* dan *Formatting*"
   ]
  },
  {
   "cell_type": "markdown",
   "metadata": {
    "id": "baVecp0Yre_B"
   },
   "source": [
    "Di Python, selain tipe data numerik/angka, ada juga yang dinamakan \"string\", yaitu kumpulan huruf/karakter/kata, yang bisa diawali dan diakhiri dengan tanda petik ' atau tanda kutip \""
   ]
  },
  {
   "cell_type": "code",
   "execution_count": 19,
   "metadata": {
    "colab": {
     "base_uri": "https://localhost:8080/"
    },
    "id": "22Q7uq7trrhZ",
    "outputId": "f9595c45-2840-47b9-ac15-eb84c7c87d7d"
   },
   "outputs": [
    {
     "name": "stdout",
     "output_type": "stream",
     "text": [
      "Metode Numerik\n",
      "matematika\n",
      "S1\n"
     ]
    }
   ],
   "source": [
    "mata_kuliah = \"Metode Numerik\"\n",
    "departemen = 'matematika'\n",
    "gelar = 'S1'\n",
    "print(mata_kuliah)\n",
    "print(departemen)\n",
    "print(gelar)"
   ]
  },
  {
   "cell_type": "markdown",
   "metadata": {
    "id": "4mU53hc5sTIn"
   },
   "source": [
    "Penggunaan tanda petik ataupun tanda kutip itu sama-sama valid, **yang penting konsisten**."
   ]
  },
  {
   "cell_type": "markdown",
   "metadata": {
    "id": "H_hXYexdwvej"
   },
   "source": [
    "Suatu string bisa dicek \"panjang\"nya, atau jumlah karakter di dalam string (termasuk spasi, koma, dan sebagainya), dengan `len` (artinya *length*):"
   ]
  },
  {
   "cell_type": "code",
   "execution_count": 20,
   "metadata": {
    "colab": {
     "base_uri": "https://localhost:8080/"
    },
    "id": "Mpv9cio7wzuW",
    "outputId": "15926be0-fd14-46bc-82e2-05934085adef"
   },
   "outputs": [
    {
     "name": "stdout",
     "output_type": "stream",
     "text": [
      "14\n",
      "10\n",
      "2\n"
     ]
    }
   ],
   "source": [
    "panjang1 = len(mata_kuliah)\n",
    "panjang2 = len(departemen)\n",
    "panjang3 = len(gelar)\n",
    "print(panjang1)\n",
    "print(panjang2)\n",
    "print(panjang3)"
   ]
  },
  {
   "cell_type": "markdown",
   "metadata": {
    "id": "GbN5za17wuAU"
   },
   "source": [
    "String juga bisa digabung dengan semacam \"penjumlahan\" atau penggabungan (juga disebut *string concatenation*):"
   ]
  },
  {
   "cell_type": "code",
   "execution_count": 21,
   "metadata": {
    "colab": {
     "base_uri": "https://localhost:8080/"
    },
    "id": "OTOtaHAmtGHj",
    "outputId": "efc63183-72ae-448a-edb1-04faf0227203"
   },
   "outputs": [
    {
     "name": "stdout",
     "output_type": "stream",
     "text": [
      "JohanSteffensen\n",
      "JohanFrederikSteffensen\n"
     ]
    }
   ],
   "source": [
    "nama_depan = \"Johan\"\n",
    "nama_tengah = \"Frederik\"\n",
    "nama_belakang = \"Steffensen\"\n",
    "print(nama_depan + nama_belakang)\n",
    "print(nama_depan + nama_tengah + nama_belakang)"
   ]
  },
  {
   "cell_type": "markdown",
   "metadata": {
    "id": "STqk9QUmutIP"
   },
   "source": [
    "Perhatikan bahwa, pada ketiga string yang kita definisikan, tidak ada spasi, sehingga dalam penggabungannya itu juga tidak ada spasi.\n",
    "\n",
    "Penggabungan string tidak harus antar variabel, bisa juga antar nilai, atau bahkan antara variabel dengan nilai."
   ]
  },
  {
   "cell_type": "code",
   "execution_count": 22,
   "metadata": {
    "colab": {
     "base_uri": "https://localhost:8080/"
    },
    "id": "U8PXniZ5wCm4",
    "outputId": "4b7e0fb3-247e-4d90-e718-9e7c6bc2c5d7"
   },
   "outputs": [
    {
     "name": "stdout",
     "output_type": "stream",
     "text": [
      "Halo! Nama saya Johan\n"
     ]
    }
   ],
   "source": [
    "print(\"Halo! Nama saya \" + nama_depan)"
   ]
  },
  {
   "cell_type": "markdown",
   "metadata": {
    "id": "5M1fezlcwF_c"
   },
   "source": [
    "Kita telah menggabungkan string \"Halo! Nama saya \" dengan variabel `nama_depan` (perhatikan bahwa string tersebut diakhiri satu spasi)."
   ]
  },
  {
   "cell_type": "code",
   "execution_count": 23,
   "metadata": {
    "colab": {
     "base_uri": "https://localhost:8080/"
    },
    "id": "u6DgtruAva3u",
    "outputId": "1ccc3979-3cff-454f-af03-b6ddb6d70666"
   },
   "outputs": [
    {
     "name": "stdout",
     "output_type": "stream",
     "text": [
      "Steffensen, Johan Frederik\n"
     ]
    }
   ],
   "source": [
    "print(nama_belakang + \", \" + nama_depan + \" \" + nama_tengah)"
   ]
  },
  {
   "cell_type": "markdown",
   "metadata": {
    "id": "Lj2D7rDXvZot"
   },
   "source": [
    "Di sini, kita telah menggabungkan variabel `nama_belakang` dengan suatu string yang tediri dari dua karakter (yaitu koma dan spasi), yang kemudian digabungkan dengan variabel `nama_depan`, kemudian suatu string yang terdiri dari spasi saja, dan akhirnya dengan variabel `nama_tengah`."
   ]
  },
  {
   "cell_type": "markdown",
   "metadata": {
    "id": "aK9ij5ZY5IQN"
   },
   "source": [
    "Penjumlahan yang dilakukan secara berulang kali adalah perkalian. Begitu juga untuk string:"
   ]
  },
  {
   "cell_type": "code",
   "execution_count": 24,
   "metadata": {
    "colab": {
     "base_uri": "https://localhost:8080/"
    },
    "id": "ai2gzHfI5M93",
    "outputId": "52b78ad8-46d6-4b7c-ca3b-1c213f8d3f3a"
   },
   "outputs": [
    {
     "name": "stdout",
     "output_type": "stream",
     "text": [
      "BelajarBelajarBelajar\n",
      "PanikPanikPanikPanikPanik\n"
     ]
    }
   ],
   "source": [
    "print(3 * \"Belajar\")\n",
    "print(\"Panik\" * 5)"
   ]
  },
  {
   "cell_type": "markdown",
   "metadata": {
    "id": "X6w5XXz8xMsH"
   },
   "source": [
    "Kita juga bisa mengubah atau mengkonversi nilai selain string (seperti angka) agar menjadi string dan bisa digabungkan juga, menggunakan `str`. Contohnya,"
   ]
  },
  {
   "cell_type": "code",
   "execution_count": 25,
   "metadata": {
    "colab": {
     "base_uri": "https://localhost:8080/"
    },
    "id": "z_lPB04g0OlF",
    "outputId": "2d3c3902-34e8-44bb-a270-855ba99c37cc"
   },
   "outputs": [
    {
     "name": "stdout",
     "output_type": "stream",
     "text": [
      "Saya masih semester 2\n"
     ]
    }
   ],
   "source": [
    "nilai_semester = 2\n",
    "string_semester = str(nilai_semester)\n",
    "print(\"Saya masih semester \" + string_semester)"
   ]
  },
  {
   "cell_type": "markdown",
   "metadata": {
    "id": "_XIVlzV80YP5"
   },
   "source": [
    "Seandainya kita tidak mengkonversi nilai tersebut, akan terjadi error:"
   ]
  },
  {
   "cell_type": "code",
   "execution_count": 26,
   "metadata": {
    "colab": {
     "base_uri": "https://localhost:8080/",
     "height": 190
    },
    "id": "GdSb--X00fJt",
    "outputId": "258249e7-b6e5-4d8f-81b8-359f58325727"
   },
   "outputs": [
    {
     "ename": "TypeError",
     "evalue": "can only concatenate str (not \"int\") to str",
     "output_type": "error",
     "traceback": [
      "\u001b[0;31m---------------------------------------------------------------------------\u001b[0m",
      "\u001b[0;31mTypeError\u001b[0m                                 Traceback (most recent call last)",
      "Cell \u001b[0;32mIn[26], line 2\u001b[0m\n\u001b[1;32m      1\u001b[0m nilai_semester \u001b[38;5;241m=\u001b[39m \u001b[38;5;241m2\u001b[39m\n\u001b[0;32m----> 2\u001b[0m \u001b[38;5;28mprint\u001b[39m(\u001b[38;5;124;43m\"\u001b[39;49m\u001b[38;5;124;43mSaya masih semester \u001b[39;49m\u001b[38;5;124;43m\"\u001b[39;49m\u001b[43m \u001b[49m\u001b[38;5;241;43m+\u001b[39;49m\u001b[43m \u001b[49m\u001b[43mnilai_semester\u001b[49m)\n",
      "\u001b[0;31mTypeError\u001b[0m: can only concatenate str (not \"int\") to str"
     ]
    }
   ],
   "source": [
    "nilai_semester = 2\n",
    "print(\"Saya masih semester \" + nilai_semester)"
   ]
  },
  {
   "cell_type": "markdown",
   "metadata": {
    "id": "GTnlXDCu0y9Z"
   },
   "source": [
    "Python hanya paham cara menggabungkan string dengan string, bukan string dengan selain string, sehingga kita harus mengkonversi nilai tersebut menjadi string terlebih dahulu."
   ]
  },
  {
   "cell_type": "markdown",
   "metadata": {
    "id": "bE9ULpjC1I9F"
   },
   "source": [
    "Sebaliknya, kita juga bisa \"menghilangkan tanda petik/kutip\" dari suatu string (misalnya untuk mengkonversi kembali menjadi angka), dengan `eval`."
   ]
  },
  {
   "cell_type": "code",
   "execution_count": 27,
   "metadata": {
    "colab": {
     "base_uri": "https://localhost:8080/"
    },
    "id": "cQv_tJpa1Lbn",
    "outputId": "064d5672-6e05-44d4-bbae-447eb79b45ed"
   },
   "outputs": [
    {
     "name": "stdout",
     "output_type": "stream",
     "text": [
      "Dia sudah semester 4\n"
     ]
    }
   ],
   "source": [
    "angka_semester = eval(string_semester)\n",
    "semester_atas = 2 + angka_semester\n",
    "string_atas = str(semester_atas)\n",
    "print(\"Dia sudah semester \" + string_atas)"
   ]
  },
  {
   "cell_type": "markdown",
   "metadata": {
    "id": "ZpHzmIyG164e"
   },
   "source": [
    "Seandainya tidak digunakan eval,"
   ]
  },
  {
   "cell_type": "code",
   "execution_count": 28,
   "metadata": {
    "colab": {
     "base_uri": "https://localhost:8080/",
     "height": 171
    },
    "id": "LP2_ypwd1-PG",
    "outputId": "e92d556b-98c5-4353-b1c5-501a77818465"
   },
   "outputs": [
    {
     "ename": "TypeError",
     "evalue": "unsupported operand type(s) for +: 'int' and 'str'",
     "output_type": "error",
     "traceback": [
      "\u001b[0;31m---------------------------------------------------------------------------\u001b[0m",
      "\u001b[0;31mTypeError\u001b[0m                                 Traceback (most recent call last)",
      "Cell \u001b[0;32mIn[28], line 1\u001b[0m\n\u001b[0;32m----> 1\u001b[0m semester_atas \u001b[38;5;241m=\u001b[39m  \u001b[38;5;241;43m2\u001b[39;49m\u001b[43m \u001b[49m\u001b[38;5;241;43m+\u001b[39;49m\u001b[43m \u001b[49m\u001b[43mstring_semester\u001b[49m\n",
      "\u001b[0;31mTypeError\u001b[0m: unsupported operand type(s) for +: 'int' and 'str'"
     ]
    }
   ],
   "source": [
    "semester_atas =  2 + string_semester"
   ]
  },
  {
   "cell_type": "markdown",
   "metadata": {
    "id": "sqkB4qrC2J58"
   },
   "source": [
    "Lagi-lagi, Python tidak paham penjumlahan antara bilangan dengan string."
   ]
  },
  {
   "cell_type": "markdown",
   "metadata": {
    "id": "4ihBDjbOwhOO"
   },
   "source": [
    "Ada cara lain untuk memadukan nilai string dengan variabel yang berisi string, yaitu dengan yang namanya *string formatting*. Sejak Python 3.6, ada yang namanya *f-strings*, yang diawali dengan huruf \"f\" tepat sebelum penulisan string. Pada suatu *f-string*, kita bisa menggunakan kurung kurawal yaitu { dan } untuk menggantikan isi string dengan suatu variabel, yang nama variabelnya kita masukkan ke dalam kurung kurawal tersebut.\n",
    "\n",
    "Misalnya, kita bisa memasukkan nilai variabel `mata_kuliah` di dalam suatu *f-string*, seperti berikut:"
   ]
  },
  {
   "cell_type": "code",
   "execution_count": 29,
   "metadata": {
    "colab": {
     "base_uri": "https://localhost:8080/"
    },
    "id": "XrB3uvmExxuQ",
    "outputId": "5580dbf1-cf2a-43f5-9b19-fbcf461be1b0"
   },
   "outputs": [
    {
     "name": "stdout",
     "output_type": "stream",
     "text": [
      "Saya sedang mengikuti praktikum Metode Numerik.\n"
     ]
    }
   ],
   "source": [
    "print(f\"Saya sedang mengikuti praktikum {mata_kuliah}.\")"
   ]
  },
  {
   "cell_type": "markdown",
   "metadata": {
    "id": "JFvfrEPHym0m"
   },
   "source": [
    "Tentu, kita bisa menyisipkan lebih dari satu variabel."
   ]
  },
  {
   "cell_type": "code",
   "execution_count": 30,
   "metadata": {
    "colab": {
     "base_uri": "https://localhost:8080/"
    },
    "id": "rEabPAUQypm8",
    "outputId": "65e84db6-c538-4adb-c956-dc71b8b419ca"
   },
   "outputs": [
    {
     "name": "stdout",
     "output_type": "stream",
     "text": [
      "Saya sedang mengikuti praktikum Metode Numerik untuk mendapatkan gelar S1.\n"
     ]
    }
   ],
   "source": [
    "print(f\"Saya sedang mengikuti praktikum {mata_kuliah} untuk mendapatkan gelar {gelar}.\")"
   ]
  },
  {
   "cell_type": "markdown",
   "metadata": {
    "id": "7oM66Fn7yz2L"
   },
   "source": [
    "Selain menggunakan *f-string*, kita juga bisa menggunakan `.format()` pada akhir string (fitur ini sudah ada sejak Python 3.0), dengan syntax sebagai berikut:\n",
    "\n",
    "\n",
    "\n"
   ]
  },
  {
   "cell_type": "code",
   "execution_count": 31,
   "metadata": {
    "colab": {
     "base_uri": "https://localhost:8080/"
    },
    "id": "wYGm4tI5y9VF",
    "outputId": "337adb39-a52b-40c4-e6d4-39de810c6e06"
   },
   "outputs": [
    {
     "name": "stdout",
     "output_type": "stream",
     "text": [
      "Saya sedang mengikuti praktikum Metode Numerik untuk mendapatkan gelar S1\n"
     ]
    }
   ],
   "source": [
    "print(\"Saya sedang mengikuti praktikum {0} untuk mendapatkan gelar {1}\".format(mata_kuliah, gelar))"
   ]
  },
  {
   "cell_type": "markdown",
   "metadata": {
    "id": "IwsTaimizLVG"
   },
   "source": [
    "Agar kode lebih mudah dibaca,"
   ]
  },
  {
   "cell_type": "code",
   "execution_count": 32,
   "metadata": {
    "colab": {
     "base_uri": "https://localhost:8080/"
    },
    "id": "hNlec1DCzMbL",
    "outputId": "90ba623b-c860-449f-cf50-d8c304f17fdd"
   },
   "outputs": [
    {
     "name": "stdout",
     "output_type": "stream",
     "text": [
      "Saya sedang mengikuti praktikum Metode Numerik untuk mendapatkan gelar S1\n"
     ]
    }
   ],
   "source": [
    "kalimat = \"Saya sedang mengikuti praktikum {0} untuk mendapatkan gelar {1}\".format(mata_kuliah, gelar)\n",
    "print(kalimat)"
   ]
  },
  {
   "cell_type": "markdown",
   "metadata": {
    "id": "zf5PtZDpzRh9"
   },
   "source": [
    "Perhatikan bahwa, dengan cara `.format()`, kita harus mengisi tempat penyisipan dengan {0}, {1}, {2}, dan seterusnya tergantung banyaknya penyisipan, kemudian variabel-variabel yang ingin disisipkan itu baru ditempel di akhir, yaitu di dalam kurung `.format()`.\n",
    "\n",
    "Lagi-lagi, kedua cara sama-sama valid, **yang penting konsisten.** Ketika hendak menggunakan *f-string*, jangan tiba-tiba mengetik `.format()` pada akhir *f-string*."
   ]
  },
  {
   "cell_type": "markdown",
   "metadata": {
    "id": "Mf0ffzwgOJu5"
   },
   "source": [
    "Sebagai tambahan, kita bisa menyisipkan angka, dan kita juga bisa mempersingkat penulisannya menjadi beberapa angka di belakang koma, misalnya cukup 7 angka di belakang koma:"
   ]
  },
  {
   "cell_type": "code",
   "execution_count": 33,
   "metadata": {
    "colab": {
     "base_uri": "https://localhost:8080/"
    },
    "id": "kPXAeKAqOL4x",
    "outputId": "593d9a64-aaa9-46c1-d4ff-46ae5c023706"
   },
   "outputs": [
    {
     "name": "stdout",
     "output_type": "stream",
     "text": [
      "Akar dua bernilai kurang lebih 1.4142136\n",
      "atau lebih tepatnya 1.4142135623730951\n"
     ]
    }
   ],
   "source": [
    "akar_dua = 2**(1/2)\n",
    "print(\"Akar dua bernilai kurang lebih {0:.7f}\".format(akar_dua))\n",
    "print(\"atau lebih tepatnya {0}\".format(akar_dua))"
   ]
  },
  {
   "cell_type": "markdown",
   "metadata": {
    "id": "Cya_-XUkOooA"
   },
   "source": [
    "Beberapa link (pengayaan, tidak wajib) untuk mempelajari *string formatting* lebih lanjut:\n",
    "\n",
    "* <https://www.w3schools.com/python/ref_string_format.asp>\n",
    "* <https://realpython.com/python-string-formatting/>"
   ]
  },
  {
   "cell_type": "markdown",
   "metadata": {
    "id": "VVEnOmC_unDs"
   },
   "source": [
    "### Input nilai"
   ]
  },
  {
   "cell_type": "markdown",
   "metadata": {
    "id": "xKPKS_sWrS3Y"
   },
   "source": [
    "Selain mengeluarkan *output* atau menampilkan nilai, Python juga bisa menerima nilai (yang kemudian dipasangkan ke variabel), menggunakan `input(pesan)`, di mana pesan yang ada di dalam kurung itu bisa berisi pertanyaan yang ingin ditanyakan, atau keterangan yang diminta:"
   ]
  },
  {
   "cell_type": "code",
   "execution_count": 34,
   "metadata": {
    "colab": {
     "base_uri": "https://localhost:8080/"
    },
    "id": "2aIn8tZw3_R1",
    "outputId": "b5613d9b-cc5b-46fe-8d7c-227e7bf95f08"
   },
   "outputs": [
    {
     "name": "stdout",
     "output_type": "stream",
     "text": [
      "Masukkan angkatan: 2022\n",
      "Anda angkatan 2022\n"
     ]
    }
   ],
   "source": [
    "angkatan = input(\"Masukkan angkatan: \")\n",
    "print(\"Anda angkatan \" + angkatan)"
   ]
  },
  {
   "cell_type": "markdown",
   "metadata": {
    "id": "vWFfaQ_G4rPD"
   },
   "source": [
    "Perhatikan bahwa input telah masuk dalam bentuk string, sehingga bisa langsung digabungkan dengan string lainnya. Karena masih berbentuk string, operasi aritmetika tidak sesuai harapan:"
   ]
  },
  {
   "cell_type": "code",
   "execution_count": 35,
   "metadata": {
    "colab": {
     "base_uri": "https://localhost:8080/",
     "height": 226
    },
    "id": "enWsLwE241tX",
    "outputId": "6070da97-5efc-40e4-f1a2-12f7614b97e9"
   },
   "outputs": [
    {
     "name": "stdout",
     "output_type": "stream",
     "text": [
      "Masukkan angka: 24\n"
     ]
    },
    {
     "ename": "TypeError",
     "evalue": "unsupported operand type(s) for /: 'str' and 'int'",
     "output_type": "error",
     "traceback": [
      "\u001b[0;31m---------------------------------------------------------------------------\u001b[0m",
      "\u001b[0;31mTypeError\u001b[0m                                 Traceback (most recent call last)",
      "Cell \u001b[0;32mIn[35], line 2\u001b[0m\n\u001b[1;32m      1\u001b[0m angka \u001b[38;5;241m=\u001b[39m \u001b[38;5;28minput\u001b[39m(\u001b[38;5;124m\"\u001b[39m\u001b[38;5;124mMasukkan angka: \u001b[39m\u001b[38;5;124m\"\u001b[39m)\n\u001b[0;32m----> 2\u001b[0m dobel \u001b[38;5;241m=\u001b[39m \u001b[43mangka\u001b[49m\u001b[43m \u001b[49m\u001b[38;5;241;43m/\u001b[39;49m\u001b[43m \u001b[49m\u001b[38;5;241;43m2\u001b[39;49m\n\u001b[1;32m      3\u001b[0m \u001b[38;5;28mprint\u001b[39m(\u001b[38;5;124m\"\u001b[39m\u001b[38;5;124mSetelah dibagi dua, angka tersebut menjadi \u001b[39m\u001b[38;5;124m\"\u001b[39m \u001b[38;5;241m+\u001b[39m \u001b[38;5;28mstr\u001b[39m(dobel))\n",
      "\u001b[0;31mTypeError\u001b[0m: unsupported operand type(s) for /: 'str' and 'int'"
     ]
    }
   ],
   "source": [
    "angka = input(\"Masukkan angka: \")\n",
    "dobel = angka / 2\n",
    "print(\"Setelah dibagi dua, angka tersebut menjadi \" + str(dobel))"
   ]
  },
  {
   "cell_type": "markdown",
   "metadata": {
    "id": "tQoAybND5msD"
   },
   "source": [
    "Terjadi error karena operasi pembagian tidak bisa dilakukan pada string. Oleh karena itu, kita juga perlu `eval` agar nilai yang masuk itu dihilangkan tanda petik/kutipnya agar tidak lagi berbentuk string."
   ]
  },
  {
   "cell_type": "code",
   "execution_count": 36,
   "metadata": {
    "colab": {
     "base_uri": "https://localhost:8080/"
    },
    "id": "wv5hZLf351ns",
    "outputId": "2a6dcc71-1c1c-4428-ccad-d7951ea5ca3b"
   },
   "outputs": [
    {
     "name": "stdout",
     "output_type": "stream",
     "text": [
      "Masukkan angka: 24\n",
      "Setelah dibagi dua, angka tersebut menjadi 12.0\n"
     ]
    }
   ],
   "source": [
    "angka = eval(input(\"Masukkan angka: \"))\n",
    "dobel = angka / 2\n",
    "print(\"Setelah dibagi dua, angka tersebut menjadi \" + str(dobel))"
   ]
  },
  {
   "cell_type": "markdown",
   "metadata": {
    "id": "4j8jJnBx54ov"
   },
   "source": [
    "Kombinasi `eval(input(pesan))` akan sering digunakan selama praktikum Metode Numerik."
   ]
  },
  {
   "cell_type": "markdown",
   "metadata": {
    "id": "Sioc5ay8QWhC"
   },
   "source": [
    "### List"
   ]
  },
  {
   "cell_type": "markdown",
   "metadata": {
    "id": "K004P13SQXXn"
   },
   "source": [
    "Suatu *list* bisa menyimpan beberapa nilai sekaligus, yang masing-masing disebut elemen dari list tersebut. Pendefinisiannya menggunakan kurung siku, di mana tiap elemen dituliskan di dalamnya, saling dipisahkan dengan koma:"
   ]
  },
  {
   "cell_type": "code",
   "execution_count": 37,
   "metadata": {
    "colab": {
     "base_uri": "https://localhost:8080/"
    },
    "id": "REdWyzIjQ2g7",
    "outputId": "62f209ff-fb18-4408-bc51-a77e9dd34b80"
   },
   "outputs": [
    {
     "name": "stdout",
     "output_type": "stream",
     "text": [
      "['apel', 'pisang', 'jeruk']\n"
     ]
    }
   ],
   "source": [
    "buah = [\"apel\", \"pisang\", \"jeruk\"]\n",
    "print(buah)"
   ]
  },
  {
   "cell_type": "markdown",
   "metadata": {
    "id": "n9AkfezqRHIt"
   },
   "source": [
    "Tiap elemen memiliki posisi atau indeks (*index*). Di Python, indeks dimulai dari 0 (nol). Kita bisa memeriksa elemen pada indeks ke-sekian di list, dengan menuliskan nama list tersebut, diikuti dengan kurung siku yang berisi indeks ke berapa yang ingin dilihat nilainya."
   ]
  },
  {
   "cell_type": "code",
   "execution_count": 38,
   "metadata": {
    "colab": {
     "base_uri": "https://localhost:8080/"
    },
    "id": "L3EyRSCIRb7y",
    "outputId": "573edf03-4ad1-4031-c2e5-4c6c2e997383"
   },
   "outputs": [
    {
     "name": "stdout",
     "output_type": "stream",
     "text": [
      "apel\n",
      "pisang\n",
      "jeruk\n"
     ]
    }
   ],
   "source": [
    "print(buah[0])\n",
    "print(buah[1])\n",
    "print(buah[2])"
   ]
  },
  {
   "cell_type": "markdown",
   "metadata": {
    "id": "i28xpZx-Rmpa"
   },
   "source": [
    "Suatu list bisa berisi beragam tipe data, tidak hanya string tetapi juga angka, atau bahkan keduanya sekaligus."
   ]
  },
  {
   "cell_type": "code",
   "execution_count": 39,
   "metadata": {
    "colab": {
     "base_uri": "https://localhost:8080/"
    },
    "id": "pJ75CDJ5Rl_d",
    "outputId": "9cb1ff5f-0113-40a9-9875-d108a8b7fbda"
   },
   "outputs": [
    {
     "name": "stdout",
     "output_type": "stream",
     "text": [
      "Nama: Guido van Rossum\n",
      "Tahun kelahiran: 1956\n",
      "Kewarganegaraan: Belanda\n",
      "Dikenal sebagai: Pembuat bahasa pemrograman Python\n"
     ]
    }
   ],
   "source": [
    "data_diri = [\"Guido van Rossum\", 1956, \"Belanda\", \"Pembuat bahasa pemrograman Python\"]\n",
    "print(\"Nama: \" + data_diri[0])\n",
    "print(\"Tahun kelahiran: \" + str(data_diri[1]))\n",
    "print(\"Kewarganegaraan: \" + data_diri[2])\n",
    "print(\"Dikenal sebagai: \" + data_diri[3])"
   ]
  },
  {
   "cell_type": "markdown",
   "metadata": {
    "id": "24c_FCxBS1Vx"
   },
   "source": [
    "Kita dapat menambahkan elemen baru pada akhir list menggunakan `.append()`"
   ]
  },
  {
   "cell_type": "code",
   "execution_count": 40,
   "metadata": {
    "colab": {
     "base_uri": "https://localhost:8080/"
    },
    "id": "QleVrDQ-S7vU",
    "outputId": "68bfede0-0923-413b-af91-111ab707563f"
   },
   "outputs": [
    {
     "name": "stdout",
     "output_type": "stream",
     "text": [
      "[2, 3, 5]\n",
      "[2, 3, 5, 7]\n"
     ]
    }
   ],
   "source": [
    "prima = [2, 3, 5]\n",
    "print(prima)\n",
    "prima.append(7)\n",
    "print(prima)"
   ]
  },
  {
   "cell_type": "markdown",
   "metadata": {
    "id": "7oPo52FSulKW"
   },
   "source": [
    "### Pernyataan Kondisional"
   ]
  },
  {
   "cell_type": "markdown",
   "metadata": {
    "id": "hQB_YUPIric4"
   },
   "source": [
    "Seringkali kita dihadapi oleh beberapa kondisi. Misalkan pada metode Bisection, kalian perlu mengecek apakah nilai fungsi di ujung-ujung intervalnya berbeda tanda atau tidak. Jika tidak, metode tidak bisa berjalan. Maka, kita perlu menggunakan pernyataan kondisional.\n",
    "\n",
    "Terdapat tiga pernyataan kondisional:\n",
    "* If...else berguna jika hanya ada satu kondisi yang perlu dicek, dan perlu ada aksi yang dijalankan jika kondisi tidak terpenuhi.\n",
    "* If...elif berguna jika ada lebih dari satu kondisi yang perlu dicek, dan tidak ada aksi yang dijalankan apabila semua kondisi tidak terpenuhi.\n",
    "* If...elif...else berguna jika ada lebih dari satu kondisi yang perlu dicek, dan perlu ada aksi yang dijalankan jika kondisi tidak\n",
    "terpenuhi.\n",
    "\n",
    "Advanced note: Ada pernyataan kondisional lain, yaitu try...except, naum akan dijelaskan pada bagian selanjutnya"
   ]
  },
  {
   "cell_type": "code",
   "execution_count": 41,
   "metadata": {
    "colab": {
     "base_uri": "https://localhost:8080/"
    },
    "id": "kJ1AwVr8rcSH",
    "outputId": "3f0ea890-5d1e-4086-9987-9c7953dea022"
   },
   "outputs": [
    {
     "name": "stdout",
     "output_type": "stream",
     "text": [
      "Masukkan bilangan: 2\n",
      "Hehe\n"
     ]
    }
   ],
   "source": [
    "x = eval(input('Masukkan bilangan: '))\n",
    "if x < 0:\n",
    "    print('Haha')\n",
    "elif x >= 0 and x <= 4:\n",
    "    print('Hehe')\n",
    "else:\n",
    "    print('Hoho')"
   ]
  },
  {
   "cell_type": "markdown",
   "metadata": {
    "id": "-1I7AE5Suphb"
   },
   "source": [
    "### Looping"
   ]
  },
  {
   "cell_type": "markdown",
   "metadata": {
    "id": "FHPIFNDdr1Qd"
   },
   "source": [
    "Kebanyakan metode pada Metnum bersifat iteratif, artinya algoritmanya dijalankan berulang hingga tercapai batas tertentu (biasanya\n",
    "terdapat nilai toleransi antara aproksimasi dengan nilai eksaknya). Looping pada Python biasanya menggunakan for loop dan while\n",
    "loop.\n",
    "\n",
    "for loop digunakan ketika kita mengetahui berapa kali kita harus mengulang perintah. Beberapa cara untuk for loop:\n",
    "\n",
    "* for i in range(a, b, n) : Loop ini akan membuat for loop berjalan mulai dari a hingga b - 1 dengan step sebesar n. Argumen n bersifat opsional dengan nilai default 1. Jika menggunakan range(b), maka bisa dianggap a = 0.\n",
    "* for i in list atau for i in string : Loop ini akan membuat for loop mengiterasikan tiap elemen list atau karakter string yang akan disimpan pada i. while loop digunakan ketika ada syarat tertentu yang harus dipenuhi untuk mengulang perintah tersebut.\n",
    "* while cond : Loop ini akan membuat while loop berjalan selama cond bernilai True . Berhati-hatilah dalam menggunakan\n",
    "while loop. Pastikan kondisi yang dimasukkan akan bisa bernilai False . Jika tidak, maka kode akan stuck di infinite loop.\n",
    "\n",
    "Advanced note: range() sejatinya adalah fungsi yang mengoutput list angka dengan aturan seperti di atas."
   ]
  },
  {
   "cell_type": "code",
   "execution_count": 42,
   "metadata": {
    "colab": {
     "base_uri": "https://localhost:8080/"
    },
    "id": "zW7LQ9eqrtRm",
    "outputId": "9ece9a90-cd53-4023-cad6-dba385c2831e"
   },
   "outputs": [
    {
     "name": "stdout",
     "output_type": "stream",
     "text": [
      "FOR LOOP EXAMPLE 1\n",
      "Print 3 kali\n",
      "Print 3 kali\n",
      "Print 3 kali\n",
      "FOR LOOP EXAMPLE 2\n",
      "2\n",
      "4\n",
      "6\n",
      "FOR LOOP EXAMPLE 3\n",
      "Angka sekarang: 1\n",
      "Angka sekarang: 4\n",
      "Angka sekarang: 7\n",
      "FOR LOOP EXAMPLE 4\n",
      "1\n",
      "4\n",
      "8\n",
      "2\n",
      "FOR LOOP EXAMPLE 5\n",
      "d\n",
      "d\n",
      "WHILE LOOP EXAMPLE\n",
      "Hati-hati while\n",
      "Hati-hati while\n",
      "Hati-hati while\n",
      "Hati-hati while\n",
      "Hati-hati while\n",
      "Hati-hati while\n",
      "While iteration DONE\n"
     ]
    }
   ],
   "source": [
    "print('FOR LOOP EXAMPLE 1')\n",
    "for i in range(3):\n",
    "    print('Print 3 kali')\n",
    "print('FOR LOOP EXAMPLE 2')\n",
    "for i in range(1, 4):\n",
    "    print(2 * i)\n",
    "print('FOR LOOP EXAMPLE 3')\n",
    "for i in range(1, 10, 3):\n",
    "    print('Angka sekarang:', i)\n",
    "print('FOR LOOP EXAMPLE 4')\n",
    "for i in [1, 4, 8, 2]:\n",
    "    print(i)\n",
    "print('FOR LOOP EXAMPLE 5')\n",
    "for i in 'mondstad':\n",
    "    if i == 'd':\n",
    "        print(i)\n",
    "print('WHILE LOOP EXAMPLE')\n",
    "i = 0\n",
    "while i <= 5:\n",
    "    print('Hati-hati while')\n",
    "    i += 1\n",
    "print('While iteration DONE')"
   ]
  },
  {
   "cell_type": "markdown",
   "metadata": {
    "id": "EAFIbKIxsZ7R"
   },
   "source": [
    "## *Error Handling*"
   ]
  },
  {
   "cell_type": "markdown",
   "metadata": {
    "id": "pKReZvqrsyXb"
   },
   "source": [
    "Misalkan kalian membuat program tentang menghitung kebalikan dari suatu bilangan bulat. Tentu bilangan selain nol memiliki kebalikan.\n",
    "Namun, apa yang terjadi jika kalian memasukkan 0 sebagai input?\n",
    "Pasti error.\n",
    "\n",
    "Error pada program mengakibatkan program terhenti di tengah-tengah, sehingga belum semua baris dieksekusi. Mungkin tidak\n",
    "berpengaruh banyak jika programnya digunakan untuk sendiri, namun seandainya kalian membuat program yang digunakan untuk\n",
    "mengatur server perusahaan, entah apa jadinya kalau programnya error.\n",
    "\n",
    "Untuk itu, terdapat cara untuk mengatasi error tersebut. Di Python, kalian dapat menggunakan try...except . Ini adalah penyataan\n",
    "kondisional serupa dengan if...else , namun pengecekan dilakukan pada bagian try . Jika pada bagian tersebut tidak ada masalah\n",
    "yang menyebabkab error, maka bagian except tidak dijalankan. Sebaliknya, jika error, maka bagian except akan dijalankan.\n",
    "Ada beberapa macam error di Python:\n",
    "\n",
    "* ZeroDivisionError : Error ini keluar jika terdapat pembagian dengan nol.\n",
    "* ValueError : Error ini keluar jika tipe data yang dimasukkan tidak bisa diproses karena tidak sesuai.\n",
    "dll. Silahkan cari di Google :)\n",
    "\n",
    "Advanced note: Kalian dapat mengecek tipe data pada python dengan fungsi type() ."
   ]
  },
  {
   "cell_type": "code",
   "execution_count": 43,
   "metadata": {
    "colab": {
     "base_uri": "https://localhost:8080/"
    },
    "id": "dFTAXFqds-0w",
    "outputId": "092c40b5-2e96-4d1b-f88e-e74f825e4a8a"
   },
   "outputs": [
    {
     "name": "stdout",
     "output_type": "stream",
     "text": [
      "Masukkan integer taknol: 0\n",
      "Yhaa programnya error :(\n"
     ]
    }
   ],
   "source": [
    "try:\n",
    "    x = int(input('Masukkan integer taknol: '))\n",
    "    print(1 / x)\n",
    "except:\n",
    "    print('Yhaa programnya error :(')"
   ]
  },
  {
   "cell_type": "markdown",
   "metadata": {
    "id": "w-AjHxONtD1f"
   },
   "source": [
    "## NumPy"
   ]
  },
  {
   "cell_type": "markdown",
   "metadata": {
    "id": "fU_FmyuhtKX1"
   },
   "source": [
    "NumPy adalah package Python yng sangat multifungsi. Kita akan menggunakan NumPy untuk membuat array yang elemennya hanya mempunyai satu tipe data. NumPy juga mempunyai fungsi fungsi seperti sin, cos, log, dll.\n",
    "\n",
    "Mula-mula, kita perlu meng-import package NumPy."
   ]
  },
  {
   "cell_type": "code",
   "execution_count": 44,
   "metadata": {
    "id": "04-zL9pitBW9"
   },
   "outputs": [],
   "source": [
    "import numpy as np"
   ]
  },
  {
   "cell_type": "markdown",
   "metadata": {
    "id": "6oImHHj9tQ5B"
   },
   "source": [
    "Jika pada langkah ini kalian menemukan error, kemungkinan besar kalian belum mempunyai package NumPy terinstal. Jika kalian menggunakan Jupyter Notebook atau Spyder melalui Anaconda, kalian bisa mencoba mengikuti langkah ini:\n",
    "\n",
    "* Buka Anaconda Prompt\n",
    "* Ketik conda install numpy (Jika tidak berhasil gunakan pip install numpy )\n",
    "* Tunggu hingga proses mengunduh selesai."
   ]
  },
  {
   "cell_type": "markdown",
   "metadata": {
    "id": "oo74bK3f6pGt"
   },
   "source": [
    "Alternatif yang lebih mudah adalah langsung mengetik `pip install numpy` (atau `!pip install numpy` dengan tanda seru) pada Jupyter Notebook (bisa juga pada Google Colaboratory), kemudian menutup dan membuka kembali Jupyter Notebook:"
   ]
  },
  {
   "cell_type": "code",
   "execution_count": 45,
   "metadata": {
    "colab": {
     "base_uri": "https://localhost:8080/"
    },
    "id": "Df_erXQ264DS",
    "outputId": "f93bced3-7a52-4a50-b558-cc37c706cf4e"
   },
   "outputs": [
    {
     "name": "stdout",
     "output_type": "stream",
     "text": [
      "Requirement already satisfied: numpy in /Library/Frameworks/Python.framework/Versions/3.11/lib/python3.11/site-packages (1.24.2)\n",
      "Note: you may need to restart the kernel to use updated packages.\n"
     ]
    }
   ],
   "source": [
    "pip install numpy"
   ]
  },
  {
   "cell_type": "code",
   "execution_count": 46,
   "metadata": {
    "colab": {
     "base_uri": "https://localhost:8080/"
    },
    "id": "5fgOuc8d6_sq",
    "outputId": "5c6b9132-87a7-4d24-e853-1cdd66f59dc7"
   },
   "outputs": [
    {
     "name": "stdout",
     "output_type": "stream",
     "text": [
      "Requirement already satisfied: numpy in /Library/Frameworks/Python.framework/Versions/3.11/lib/python3.11/site-packages (1.24.2)\r\n"
     ]
    }
   ],
   "source": [
    "!pip install numpy"
   ]
  },
  {
   "cell_type": "markdown",
   "metadata": {
    "id": "Yz2DH1axtXws"
   },
   "source": [
    "**Numpy Array**\n",
    "\n",
    "Seperti yang sudah dikatakan sebelumnya, list bukan array karena dapat diisi dengan berbagai tipe data. Kalau begitu, bagaimana array\n",
    "yang benar? Di NumPy, ada fungsi bernama array yang berfungsi mengubah list menjadi array."
   ]
  },
  {
   "cell_type": "code",
   "execution_count": 47,
   "metadata": {
    "colab": {
     "base_uri": "https://localhost:8080/"
    },
    "id": "M2-cI9_otP9t",
    "outputId": "3ca527d0-50df-44a1-d082-1a1253587d80"
   },
   "outputs": [
    {
     "data": {
      "text/plain": [
       "numpy.ndarray"
      ]
     },
     "execution_count": 47,
     "metadata": {},
     "output_type": "execute_result"
    }
   ],
   "source": [
    "A = np.array([True, 4, 7.5, 'Jean'])\n",
    "B = np.array([5, 6.2])\n",
    "C = np.array([4, 2, -1, -3])\n",
    "type(A)"
   ]
  },
  {
   "cell_type": "markdown",
   "metadata": {
    "id": "ohK4jX-ktico"
   },
   "source": [
    "Terlihat tipe data dari A bukan list, melainkan numpy.ndarray. Perhatikan juga bahwa kita mengisi list yang akan dijadikan array A dan B\n",
    "dengan beragam tipe data..."
   ]
  },
  {
   "cell_type": "code",
   "execution_count": 48,
   "metadata": {
    "colab": {
     "base_uri": "https://localhost:8080/"
    },
    "id": "HM9fLeQatPAs",
    "outputId": "142d89e9-23ad-46f4-f673-d6e6c0043edd"
   },
   "outputs": [
    {
     "name": "stdout",
     "output_type": "stream",
     "text": [
      "['True' '4' '7.5' 'Jean']\n",
      "[5.  6.2]\n",
      "[ 4  2 -1 -3]\n"
     ]
    }
   ],
   "source": [
    "print(A)\n",
    "print(B)\n",
    "print(C)"
   ]
  },
  {
   "cell_type": "markdown",
   "metadata": {
    "id": "AFtkFsIYtnS4"
   },
   "source": [
    "...maka tipe datanya akan berubah menjadi sama. Karena NumPy array hanya bisa menyimpan satu tipe data, maka jika tipenya berbeda\n",
    "akan berubah. Urutan pengecekannya adalah string , float , integer , boolean (tipe data boolean menyimpan nilai 1 jika\n",
    "True dan 0 jika False ).\n",
    "\n",
    "Kita juga dapat membuat array 2 dimensi seperti matriks, dan jika di-_print_, maka outputnya juga seperti matriks."
   ]
  },
  {
   "cell_type": "code",
   "execution_count": 49,
   "metadata": {
    "id": "y1rXPJMltlr9"
   },
   "outputs": [],
   "source": [
    "P = np.array([[1, 2],[-1, 0]])\n",
    "Q = np.array([[4, -1],[5, 0]])\n",
    "R = np.array([[1, 2, 4, 5], [-1, -8, 9, 11], [3, -2, -4, 6]])"
   ]
  },
  {
   "cell_type": "markdown",
   "metadata": {
    "id": "iZgDqrCgtvZs"
   },
   "source": [
    "Di sini kalian juga bisa melakukan indexing dan slicing seperti halnya pada liat."
   ]
  },
  {
   "cell_type": "code",
   "execution_count": 50,
   "metadata": {
    "colab": {
     "base_uri": "https://localhost:8080/"
    },
    "id": "6K3lGcuvttKH",
    "outputId": "b6b8d444-24d5-4325-c30b-7e18505af97b"
   },
   "outputs": [
    {
     "name": "stdout",
     "output_type": "stream",
     "text": [
      "True\n",
      "6.2\n",
      "[1 2]\n",
      "-1\n",
      "\n",
      "['7.5' 'Jean']\n",
      "[[-1 -8  9 11]\n",
      " [ 3 -2 -4  6]]\n",
      "[ 9 11]\n",
      "[ 2 -8 -2]\n"
     ]
    }
   ],
   "source": [
    "print(A[0])\n",
    "print(B[-1])\n",
    "print(P[0])\n",
    "print(Q[0,1])\n",
    "print()\n",
    "print(A[2:])\n",
    "print(R[1:])\n",
    "print(R[1, 2:])\n",
    "print(R[:, 1])"
   ]
  },
  {
   "cell_type": "markdown",
   "metadata": {
    "id": "-rhCIHsAt1Gg"
   },
   "source": [
    "Operasi aritmatika juga dapat diterapkan pada NumPy array. Operasi aritmatika antar dua NumPy array akan dilakukan secara _element-\n",
    "wise_, artinya operasinya dilakukan tiap elemen (bukan seperti dot product pada aljabar linear)."
   ]
  },
  {
   "cell_type": "code",
   "execution_count": 51,
   "metadata": {
    "colab": {
     "base_uri": "https://localhost:8080/"
    },
    "id": "57_0FDPStyUW",
    "outputId": "5559ad8f-a03a-4092-bd4c-95c70d9adf49"
   },
   "outputs": [
    {
     "name": "stdout",
     "output_type": "stream",
     "text": [
      "[ 2  6 10 14]\n",
      "[0 2 4 6]\n",
      "[ 1  8 21 40]\n",
      "[1.         2.         2.33333333 2.5       ]\n",
      "[0 0 1 2]\n",
      "[1 2 2 2]\n",
      "[    1    16   343 10000]\n"
     ]
    }
   ],
   "source": [
    "A = np.array([1, 4, 7, 10])\n",
    "B = np.array([1, 2, 3, 4])\n",
    "#operasi pada array\n",
    "print(A + B)\n",
    "print(A - B)\n",
    "print(A * B)\n",
    "print(A / B)\n",
    "print(A % B)\n",
    "print(A // B)\n",
    "print(A ** B)"
   ]
  },
  {
   "cell_type": "markdown",
   "metadata": {
    "id": "U0kNyJ1Et7M5"
   },
   "source": [
    "Selain itu, operasi aritmatika juga bisa dilakukan dengan skalar. Operasi aritmatika antara NumPy array dengan suatu skalar akan\n",
    "dilakukan seolah-olah skalar tersebut adalah NumPy array berukuran sama yang isinya skalar tersebut. Istilahnya biasanya disebut\n",
    "***Broadcasting***"
   ]
  },
  {
   "cell_type": "code",
   "execution_count": 52,
   "metadata": {
    "colab": {
     "base_uri": "https://localhost:8080/"
    },
    "id": "nx3soWF5t6Qr",
    "outputId": "35c8abf7-8a85-4522-829a-ad7efb7dc04a"
   },
   "outputs": [
    {
     "name": "stdout",
     "output_type": "stream",
     "text": [
      "[ 3  6  9 12]\n",
      "[12  6 -3 -9]\n",
      "[[1 4]\n",
      " [1 0]]\n",
      "[[ 1.          0.5         0.25        0.2       ]\n",
      " [-1.         -0.125       0.11111111  0.09090909]\n",
      " [ 0.33333333 -0.5        -0.25        0.16666667]]\n"
     ]
    }
   ],
   "source": [
    "print(A + 2)\n",
    "print(C * 3)\n",
    "print(P ** 2)\n",
    "print(1 / R)"
   ]
  },
  {
   "cell_type": "markdown",
   "metadata": {},
   "source": [
    "# Review matplotlib"
   ]
  },
  {
   "cell_type": "markdown",
   "metadata": {},
   "source": [
    "Anda pernah mempelajari cara memplot fungsi dengan menggunakan *package* **matplotlib**. Di modul ini, Anda akan mengingat kembali apa yang sudah Anda pelajari.\n",
    "\n",
    "Untuk menggunakan matplotlib, Anda harus meng-import package matplotlib terlebih dulu.\n",
    "\n",
    "Setelah itu, definisikan nilai-nilai x dan y. Ukuran list untuk nilai-nilai x dan y harus sama.\n",
    "\n",
    "Untuk membuat plot y vs x, gunakan plt.plot(x,y). Untuk memunculkan hasil plot, gunakan plt.show().\n",
    "\n",
    "(Jika pada run pertama plot tidak muncul, silakan run ulang.)"
   ]
  },
  {
   "cell_type": "code",
   "execution_count": null,
   "metadata": {},
   "outputs": [
    {
     "data": {
      "image/png": "[encoded data removed]",
      "text/plain": [
       "<Figure size 640x480 with 1 Axes>"
      ]
     },
     "metadata": {},
     "output_type": "display_data"
    }
   ],
   "source": [
    "#import matplotlib.pyplot\n",
    "import matplotlib.pyplot as plt\n",
    "\n",
    "#syntax standar untuk mengeluarkan plot\n",
    "x = [1,2,3,4]\n",
    "y = [1,3,5,7]\n",
    "plt.plot(x,y)\n",
    "plt.show()"
   ]
  },
  {
   "cell_type": "markdown",
   "metadata": {},
   "source": [
    "Terlihat x = 1 dipetakan ke y = 1, x = 3 dipetakan ke y = 5, dst. Setiap titik dihubungkan oleh garis lurus. Sehingga, untuk banyak titik yang sedikit, matplotlib kurang bagus untuk membuat plot fungsi selain linear. Sehingga untuk membuat plot fungsi selain linear, perlu lebih banyak titik.\n",
    "\n",
    "Contoh berikut adalah membuat plot y = 2 dengan menggunakan empat titik. x"
   ]
  },
  {
   "cell_type": "code",
   "execution_count": null,
   "metadata": {},
   "outputs": [
    {
     "data": {
      "image/png": "[encoded data removed]",
      "text/plain": [
       "<Figure size 640x480 with 1 Axes>"
      ]
     },
     "metadata": {},
     "output_type": "display_data"
    }
   ],
   "source": [
    "x = [1,2,3,4]\n",
    "y = [2,4,8,16]\n",
    "plt.plot(x,y)\n",
    "plt.show()"
   ]
  },
  {
   "cell_type": "markdown",
   "metadata": {},
   "source": [
    "Anda juga dapat menginput fungsi sendiri. Perhatikan syntax di bawah."
   ]
  },
  {
   "cell_type": "code",
   "execution_count": null,
   "metadata": {},
   "outputs": [
    {
     "name": "stdout",
     "output_type": "stream",
     "text": [
      "Masukkan formula fungsi: np.exp(x)\n"
     ]
    },
    {
     "data": {
      "image/png": "[encoded data removed]",
      "text/plain": [
       "<Figure size 640x480 with 1 Axes>"
      ]
     },
     "metadata": {},
     "output_type": "display_data"
    }
   ],
   "source": [
    "#plot fungsi\n",
    "import numpy as np\n",
    "fungsi = input('Masukkan formula fungsi: ')\n",
    "def f(x):\n",
    "    return eval(fungsi)\n",
    "\n",
    "x = np.linspace(0,1,10)\n",
    "y = f(x)\n",
    "plt.plot(x,y,'r-') #garisnya merah\n",
    "plt.show()"
   ]
  },
  {
   "cell_type": "markdown",
   "metadata": {},
   "source": [
    "(Berapa titik yang digunakan untuk membuat plot di atas?)"
   ]
  },
  {
   "cell_type": "markdown",
   "metadata": {},
   "source": [
    "Anda juga dapat membuat plot dari lebih dari satu fungsi pada satu gambar. Contoh di bawah adalah plot fungsi $f(x) = \\text{exp}(x)$ (didefinisikan pada cell sebelumnya) dan $g(x) = 1 + x + \\frac{x^2}{2}$."
   ]
  },
  {
   "cell_type": "code",
   "execution_count": null,
   "metadata": {},
   "outputs": [
    {
     "name": "stdout",
     "output_type": "stream",
     "text": [
      "Masukkan formula fungsi: 1 + x + (x**2)/2\n"
     ]
    },
    {
     "data": {
      "image/png": "[encoded data removed]",
      "text/plain": [
       "<Figure size 640x480 with 1 Axes>"
      ]
     },
     "metadata": {},
     "output_type": "display_data"
    }
   ],
   "source": [
    "#plot dua fungsi\n",
    "fungsi2 = input('Masukkan formula fungsi: ')\n",
    "def g(x):\n",
    "    return eval(fungsi2)\n",
    "\n",
    "x = np.linspace(0,1,10)\n",
    "y2 = g(x)\n",
    "plt.plot(x,y,'r-x')\n",
    "plt.plot(x,y2,'g-o')\n",
    "plt.xlabel('Nilai x')\n",
    "plt.ylabel('Nilai y')\n",
    "plt.legend([fungsi,fungsi2])\n",
    "plt.title('Grafik Lalala')\n",
    "plt.show()"
   ]
  },
  {
   "cell_type": "markdown",
   "metadata": {},
   "source": [
    "Ada beberapa syntax tambahan pada kode di atas, yaitu :\n",
    "- plt.xlabel('Nilai x') membuat label 'Nilai x' pada sumbu x.\n",
    "- plt.ylabel('Nilai y') membuat label 'Nilai y' pada sumbu y.\n",
    "- plt.legend([fungsi1,fungsi2]) membuat legenda/keterangan mengenai plot. Argumennya berupa list.\n",
    "- plt.title('Grafik Lalala') untuk membuat judul.\n",
    "\n",
    "*Style* pada plot bisa ditambahkan di sebelah y pada perintah plt.plot(x,y). 'r-' artinya garis merah solid. 'g-o' artinya garis hijau dengan dot di setiap titik. Terdapat beberapa macam warna dan gaya garis yang bisa Anda gunakan dan bisa Anda cari sendiri di internet. ;>"
   ]
  }
 ],
 "metadata": {
  "colab": {
   "collapsed_sections": [
    "oBy4j1o5qTU7",
    "EAFIbKIxsZ7R",
    "w-AjHxONtD1f",
    "p7WGSWtMuDBr"
   ],
   "provenance": []
  },
  "kernelspec": {
   "display_name": "Python 3 (ipykernel)",
   "language": "python",
   "name": "python3"
  },
  "language_info": {
   "codemirror_mode": {
    "name": "ipython",
    "version": 3
   },
   "file_extension": ".py",
   "mimetype": "text/x-python",
   "name": "python",
   "nbconvert_exporter": "python",
   "pygments_lexer": "ipython3",
   "version": "3.11.0"
  }
 },
 "nbformat": 4,
 "nbformat_minor": 1
}
