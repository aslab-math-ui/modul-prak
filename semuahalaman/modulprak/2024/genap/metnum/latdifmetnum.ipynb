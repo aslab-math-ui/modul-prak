{
 "cells": [
  {
   "cell_type": "markdown",
   "metadata": {},
   "source": [
    "# Latihan (Wajib) Diferensiasi Numerik"
   ]
  },
  {
   "cell_type": "markdown",
   "metadata": {},
   "source": [
    "Kembali ke [Metode Numerik](./metnum2024genap.qmd)"
   ]
  },
  {
   "cell_type": "markdown",
   "metadata": {},
   "source": [
    "Diberikan: Senin/Selasa, 22/23 April 2024 (ketika praktikum Diferensiasi Numerik & Ekstrapolasi Richardson)\n",
    "\n",
    "*Deadline*: Rabu, 24 April 2024, 23.59 WIB"
   ]
  },
  {
   "cell_type": "markdown",
   "metadata": {},
   "source": [
    "Secara pemrograman, kerjakan empat soal berikut (yang ada di buku Burden):\n",
    "\n",
    "Exercise Set 4.1\n",
    "\n",
    "- no. 1a\n",
    "- no. 1b\n",
    "- no. 9a\n",
    "- no. 9b"
   ]
  },
  {
   "cell_type": "markdown",
   "metadata": {},
   "source": [
    "Anda dipersilakan memanfaatkan modul praktikum, terutama [Modul 3](./modul3.ipynb) tentang Diferensiasi Numerik dan Ekstrapolasi Richardson."
   ]
  },
  {
   "cell_type": "markdown",
   "metadata": {},
   "source": [
    "Setelah selesai, kumpulkan *file* .ipynb nya di link berikut (sesuai kelas):\n",
    "\n",
    "- (Kelas A): <https://bit.ly/LatDifMetnumA>\n",
    "- (Kelas B): <https://bit.ly/LatDifMetnumB>\n",
    "- (Kelas C): <https://bit.ly/LatDifMetnumC>\n",
    "- (Kelas D): <https://bit.ly/LatDifMetnumD>\n",
    "- (Kelas E): <https://bit.ly/LatDifMetnumE>\n",
    "- (Kelas F): <https://bit.ly/LatDifMetnumF>"
   ]
  },
  {
   "cell_type": "markdown",
   "metadata": {},
   "source": []
  }
 ],
 "metadata": {
  "language_info": {
   "name": "python"
  }
 },
 "nbformat": 4,
 "nbformat_minor": 2
}
