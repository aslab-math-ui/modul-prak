{
 "cells": [
  {
   "cell_type": "markdown",
   "metadata": {
    "id": "Jk8j_eI4oVjD"
   },
   "source": [
    "# Modul 1 Metode Numerik: Tabulate, SymPy, *Root-finding*"
   ]
  },
  {
   "cell_type": "markdown",
   "metadata": {},
   "source": [
    "Kembali ke [Metode Numerik](./metnum2024genap.qmd)"
   ]
  },
  {
   "cell_type": "markdown",
   "metadata": {},
   "source": [
    "**Selamat datang di praktikum Metode Numerik!**\n",
    "\n",
    "Pada praktikum ini, kalian akan diajarkan esensial-esensial yang dibutuhkan dan algoritma dasar untuk metode-metode pada Metnum.\n",
    "\n",
    "Semua modul telah diuji menggunakan Jupyter Notebook dengan Python 3.11, serta Google Colaboratory yang menggunakan Python 3.9. Semua kode pada modul masih bisa digunakan untuk semua Python versi 3.6 ke atas.\n",
    "\n",
    "Kalian juga bisa menggunakan aplikasi/IDE (*Integrated Development Environment*) lainnya seperti PyCharm, Spyder, atau bahkan IDLE (IDLE adalah IDE bawaan Python yang diinstal dari python.org), namun kalian disarankan menggunakan Jupyter Notebook atau Google Colaboratory karena file tugas menggunakan *file format* .ipynb."
   ]
  },
  {
   "cell_type": "markdown",
   "metadata": {
    "id": "xrc1OfLyttry"
   },
   "source": [
    "OUTLINE\n",
    "\n",
    "* Tabulate\n",
    "* SymPy\n",
    "* Metode Bisection\n",
    "* Metode Fixed Point\n",
    "* Metode Newton biasa (dengan turunan analitik)\n",
    "* Metode Newton dengan Beda Hingga (*Finite-Difference Newton's Method*)\n",
    "* Tambahan\n",
    "    - Contoh Tabel Faktorial\n",
    "    - Metode Secant\n",
    "    - Metode Regula Falsi (penjelasan tanpa kode)\n",
    "    - Apa itu barisan? (penjelasan tanpa kode)\n",
    "    - Metode Aitken\n",
    "    - Metode Steffensen: Penerapan Metode Aitken pada Metode Fixed Point"
   ]
  },
  {
   "cell_type": "markdown",
   "metadata": {},
   "source": [
    "## Tabulate"
   ]
  },
  {
   "cell_type": "markdown",
   "metadata": {},
   "source": [
    "Untuk menyajikan hasil iterasi, tabel sering digunakan karena akan mudah membacanya. Di Python, terdapat package untuk membuat tabel dengan cara sederhana. Package tersebut bernama tabulate.\n",
    "\n",
    "Seperti package umumnya, pertama kita import terlebih dahulu."
   ]
  },
  {
   "cell_type": "code",
   "execution_count": null,
   "metadata": {},
   "outputs": [],
   "source": [
    "from tabulate import tabulate"
   ]
  },
  {
   "cell_type": "markdown",
   "metadata": {},
   "source": [
    "Apabila terjadi error (karena tabulate belum terinstall), kalian bisa mengetik `pip install tabulate` (atau `!pip install tabulate` dengan tanda seru)"
   ]
  },
  {
   "cell_type": "code",
   "execution_count": null,
   "metadata": {},
   "outputs": [
    {
     "name": "stdout",
     "output_type": "stream",
     "text": [
      "Requirement already satisfied: tabulate in /Library/Frameworks/Python.framework/Versions/3.11/lib/python3.11/site-packages (0.9.0)\n",
      "Note: you may need to restart the kernel to use updated packages.\n"
     ]
    }
   ],
   "source": [
    "pip install tabulate"
   ]
  },
  {
   "cell_type": "code",
   "execution_count": null,
   "metadata": {},
   "outputs": [],
   "source": [
    "!pip install tabulate"
   ]
  },
  {
   "cell_type": "markdown",
   "metadata": {},
   "source": [
    "dan seperti biasa, setelah instalasi selesai, mungkin kalian perlu menutup kemudian membuka kembali Jupyter Notebook sebelum bisa menggunakan tabulate."
   ]
  },
  {
   "cell_type": "markdown",
   "metadata": {},
   "source": [
    "Sekarang, buat konten tabel. Konten tabel disimpan dalam list/array 2-D dimana setiap array di dalamnya adalah baris.\n",
    "\n",
    "Headers dari tabel dapat kita buat sendiri. Jumlah dari headers harus sama dengan jumlah elemen pada setiap array.\n",
    "\n",
    "'tablefmt' adalah format bentuk tabel. Format yang biasa digunakan adalah \"orgtbl\", dan ada macam-macam format tabel yang bisa dicari di <https://pypi.org/project/tabulate/>"
   ]
  },
  {
   "cell_type": "code",
   "execution_count": null,
   "metadata": {},
   "outputs": [
    {
     "name": "stdout",
     "output_type": "stream",
     "text": [
      "| Buah   |   Kuantitas |\n",
      "|--------+-------------|\n",
      "| Jeruk  |           1 |\n",
      "| Nanas  |           2 |\n"
     ]
    }
   ],
   "source": [
    "table = [[\"Jeruk\", 1], [\"Nanas\", 2]]\n",
    "print(tabulate(table, headers = [\"Buah\", \"Kuantitas\"], tablefmt = \"orgtbl\"))"
   ]
  },
  {
   "cell_type": "markdown",
   "metadata": {},
   "source": [
    "Dalam membuat konten tabel, panjang dari setiap list harus sama dengan banyak headers. Apabila ada baris yang banyak elemennya\n",
    "melebihi banyak headers, maka elemen yang diambil adalah elemen sebanyak headers yang pertama. Kolom paling kiri diisi terlebih\n",
    "dahulu.\n",
    "\n",
    "Perhatikan contoh berikut."
   ]
  },
  {
   "cell_type": "code",
   "execution_count": null,
   "metadata": {},
   "outputs": [
    {
     "name": "stdout",
     "output_type": "stream",
     "text": [
      "| Buah   |   Kuantitas |   Harga |\n",
      "|--------+-------------+---------|\n",
      "| Jeruk  |           1 |       4 |\n",
      "| Nanas  |           2 |       3 |\n",
      "| Mangga |           3 |         |\n"
     ]
    }
   ],
   "source": [
    "table = [[\"Jeruk\", 1, 4], [\"Nanas\", 2, 3, 5], [\"Mangga\", 3]]\n",
    "print(tabulate(table, headers = [\"Buah\", \"Kuantitas\", \"Harga\"], tablefmt = \"orgtbl\"))"
   ]
  },
  {
   "cell_type": "markdown",
   "metadata": {},
   "source": [
    "Apabila baris pertama digunakan sebagai header, banyak kolom akan sama dengan banyak elemen yang paling banyak di antara semua\n",
    "baris tabel. Penamaan kolom dimulai dari kanan.\n",
    "\n",
    "Perhatikan contoh berikut."
   ]
  },
  {
   "cell_type": "code",
   "execution_count": null,
   "metadata": {},
   "outputs": [
    {
     "name": "stdout",
     "output_type": "stream",
     "text": [
      "|        |   Saya |   1 |   4 |\n",
      "|--------+--------+-----+-----|\n",
      "| Tampan |      2 |   3 |   5 |\n",
      "| Banget |      3 |   5 |     |\n"
     ]
    }
   ],
   "source": [
    "table = [[\"Saya\", 1, 4], [\"Tampan\", 2, 3, 5], [\"Banget\", 3, 5]]\n",
    "print(tabulate(table, headers = \"firstrow\", tablefmt = \"orgtbl\"))"
   ]
  },
  {
   "cell_type": "markdown",
   "metadata": {},
   "source": [
    "Tabulate sangat berguna untuk membentuk tabel secara \"otomatis\" atau secara pemrograman. Misalnya, kita bisa memanfaatkan *looping* dan pernyataan kondisional untuk membuat beberapa baris yang mengikuti pola dan syarat tertentu."
   ]
  },
  {
   "cell_type": "markdown",
   "metadata": {},
   "source": [
    "Sebagai contoh, misalnya kita punya *function* yang menghitung bilangan kuadrat ke-i"
   ]
  },
  {
   "cell_type": "code",
   "execution_count": null,
   "metadata": {},
   "outputs": [],
   "source": [
    "def kuadrat(i):\n",
    "    return i**2"
   ]
  },
  {
   "cell_type": "code",
   "execution_count": null,
   "metadata": {},
   "outputs": [
    {
     "name": "stdout",
     "output_type": "stream",
     "text": [
      "25\n"
     ]
    }
   ],
   "source": [
    "print(kuadrat(5))"
   ]
  },
  {
   "cell_type": "markdown",
   "metadata": {},
   "source": [
    "Kita bisa membuat tabel, misalnya, yang menjabarkan bilangan kuadrat ke-1 sampai ke-5. Perhatikan struktur tabel apabila dibuat secara manual:"
   ]
  },
  {
   "cell_type": "code",
   "execution_count": null,
   "metadata": {},
   "outputs": [
    {
     "name": "stdout",
     "output_type": "stream",
     "text": [
      "  i    kuadrat\n",
      "---  ---------\n",
      "  1          1\n",
      "  2          4\n",
      "  3          9\n",
      "  4         16\n",
      "  5         15\n"
     ]
    }
   ],
   "source": [
    "tabel_kuadrat = [\n",
    "    [1, 1],\n",
    "    [2, 4],\n",
    "    [3, 9],\n",
    "    [4, 16],\n",
    "    [5, 15]\n",
    "]\n",
    "print(tabulate(tabel_kuadrat, headers=[\"i\", \"kuadrat\"]))"
   ]
  },
  {
   "cell_type": "markdown",
   "metadata": {},
   "source": [
    "Terlihat bahwa tabel tersebut memiliki lima baris, dan tiap baris berupa list yang merupakan elemen dari list besar `tabel_kuadrat`. Kita bisa membuatnya secara \"otomatis\" atau secara pemrograman:"
   ]
  },
  {
   "cell_type": "code",
   "execution_count": null,
   "metadata": {},
   "outputs": [
    {
     "name": "stdout",
     "output_type": "stream",
     "text": [
      "  i    kuadrat\n",
      "---  ---------\n",
      "  1          1\n",
      "  2          4\n",
      "  3          9\n",
      "  4         16\n",
      "  5         25\n"
     ]
    }
   ],
   "source": [
    "tabel_mentah = []\n",
    "for i in range(1, 6): # mulai dari 1, lanjut selama kurang dari 6\n",
    "    calon_baris = [i, kuadrat(i)] # baris baru\n",
    "    tabel_mentah.append(calon_baris) # menambahkan baris baru ke list besar\n",
    "\n",
    "print(tabulate(tabel_mentah, headers=[\"i\", \"kuadrat\"]))"
   ]
  },
  {
   "cell_type": "markdown",
   "metadata": {},
   "source": [
    "Tentu saja, `calon_baris` tidak harus langsung jadi ketika baru didefinisikan. Tiap bagian dari suatu baris bisa saja ditambahkan secara berangsur-angsur:"
   ]
  },
  {
   "cell_type": "code",
   "execution_count": null,
   "metadata": {},
   "outputs": [
    {
     "name": "stdout",
     "output_type": "stream",
     "text": [
      "  i    kuadrat\n",
      "---  ---------\n",
      "  1          1\n",
      "  2          4\n",
      "  3          9\n",
      "  4         16\n",
      "  5         25\n"
     ]
    }
   ],
   "source": [
    "tabel_mentah = []\n",
    "for i in range(1, 6): # mulai dari 1, lanjut selama kurang dari 6\n",
    "    calon_baris = [] # baris baru\n",
    "    calon_baris.append(i) # bagian pertama pada baris\n",
    "\n",
    "    # bagian kedua pada baris\n",
    "    nilai_kedua = kuadrat(i)\n",
    "    calon_baris.append(nilai_kedua)\n",
    "\n",
    "    tabel_mentah.append(calon_baris) # menambahkan baris baru ke list besar\n",
    "\n",
    "print(tabulate(tabel_mentah, headers=[\"i\", \"kuadrat\"]))"
   ]
  },
  {
   "cell_type": "markdown",
   "metadata": {},
   "source": [
    "Adanya lebih dari dua kolom juga sangat memungkinkan, tinggal ditambahkan ke `calon_baris`:"
   ]
  },
  {
   "cell_type": "code",
   "execution_count": null,
   "metadata": {},
   "outputs": [
    {
     "name": "stdout",
     "output_type": "stream",
     "text": [
      "  i    kuadrat    pangkat tiga    pangkat empat\n",
      "---  ---------  --------------  ---------------\n",
      "  1          1               1                1\n",
      "  2          4               8               16\n",
      "  3          9              27               81\n",
      "  4         16              64              256\n",
      "  5         25             125              625\n"
     ]
    }
   ],
   "source": [
    "tabel_mentah = []\n",
    "for i in range(1, 6): # mulai dari 1, lanjut selama kurang dari 6\n",
    "    calon_baris = [] # baris baru\n",
    "\n",
    "    # bagian pertama pada baris\n",
    "    calon_baris.append(i)\n",
    "\n",
    "    # bagian kedua pada baris\n",
    "    nilai_kedua = kuadrat(i)\n",
    "    calon_baris.append(nilai_kedua)\n",
    "\n",
    "    # bagian ketiga\n",
    "    calon_baris.append(i**3)\n",
    "\n",
    "    # bagian keempat\n",
    "    calon_baris.append(i**4)\n",
    "\n",
    "    tabel_mentah.append(calon_baris) # menambahkan baris baru ke list besar\n",
    "\n",
    "print(tabulate(tabel_mentah, headers=[\"i\", \"kuadrat\", \"pangkat tiga\",\"pangkat empat\"]))"
   ]
  },
  {
   "cell_type": "markdown",
   "metadata": {},
   "source": [
    "Apabila kita sudah memiliki data tiap kolom dalam bentuk list, kita bisa membentuk `calon_baris` pada tiap iterasi for loop dengan mengakses elemen ke-i dari tiap list."
   ]
  },
  {
   "cell_type": "code",
   "execution_count": null,
   "metadata": {},
   "outputs": [
    {
     "name": "stdout",
     "output_type": "stream",
     "text": [
      "  i    kuadrat    pangkat tiga    pangkat empat\n",
      "---  ---------  --------------  ---------------\n",
      "  1          1               1                1\n",
      "  2          4               8               16\n",
      "  3          9              27               81\n",
      "  4         16              64              256\n",
      "  5         25             125              625\n"
     ]
    }
   ],
   "source": [
    "# misalnya data ini sudah ada, atau sudah diolah sebelumnya\n",
    "kolom_awal = [1, 2, 3, 4, 5]\n",
    "kolom_kuadrat = [1, 4, 9, 16, 25]\n",
    "kolom_tiga = [1, 8, 27, 64, 125]\n",
    "kolom_empat = [1, 16, 81, 256, 625]\n",
    "\n",
    "# mari kita buat tabel\n",
    "tabel_mentah = []\n",
    "for i in range(0, 5): # indeks list dimulai dari nol, lanjut selama i < 5\n",
    "    calon_baris = []\n",
    "\n",
    "    # elemen ke-i dari tiap list kolom\n",
    "    calon_baris.append(kolom_awal[i])\n",
    "    calon_baris.append(kolom_kuadrat[i])\n",
    "    calon_baris.append(kolom_tiga[i])\n",
    "    calon_baris.append(kolom_empat[i])\n",
    "\n",
    "    tabel_mentah.append(calon_baris)\n",
    "\n",
    "print(tabulate(tabel_mentah, headers=[\"i\", \"kuadrat\", \"pangkat tiga\",\"pangkat empat\"]))"
   ]
  },
  {
   "cell_type": "markdown",
   "metadata": {},
   "source": [
    "Bagaimana kalau misalnya ada data yang tidak lengkap? Kita bisa saja menggunakan try-except, untuk memasukkan \"X\" ketika ada data yang tidak lengkap, sekaligus menghindari error:"
   ]
  },
  {
   "cell_type": "code",
   "execution_count": null,
   "metadata": {},
   "outputs": [
    {
     "name": "stdout",
     "output_type": "stream",
     "text": [
      "  i  kuadrat\n",
      "---  ---------\n",
      "  1  1\n",
      "  2  4\n",
      "  3  9\n",
      "  4  16\n",
      "  5  25\n",
      "  6  X\n",
      "  7  X\n",
      "  8  X\n",
      "  9  X\n",
      " 10  X\n"
     ]
    }
   ],
   "source": [
    "# contoh data\n",
    "kolom_awal = [1, 2, 3, 4, 5, 6, 7, 8, 9, 10]\n",
    "kolom_kuadrat = [1, 4, 9, 16, 25]\n",
    "\n",
    "tabel_mentah = []\n",
    "for i in range(0, 10): # indeks list dimulai dari nol, lanjut selama i < 10\n",
    "    calon_baris = []\n",
    "\n",
    "    # elemen ke-i dari tiap list kolom\n",
    "    calon_baris.append(kolom_awal[i])\n",
    "    \n",
    "    try:\n",
    "        calon_baris.append(kolom_kuadrat[i])\n",
    "    except IndexError:\n",
    "        calon_baris.append(\"X\")\n",
    "\n",
    "    tabel_mentah.append(calon_baris)\n",
    "\n",
    "print(tabulate(tabel_mentah, headers=[\"i\", \"kuadrat\"]))"
   ]
  },
  {
   "cell_type": "markdown",
   "metadata": {},
   "source": [
    "NumPy juga memiliki semacam tipe data atau nilai yang standar untuk menandakan data yang hilang atau tidak tersedia, yaitu NaN (*Not a Number*), melalui `numpy.nan`. Sehingga, `\"X\"` pada kode di atas bisa diganti dengan `numpy.nan`:"
   ]
  },
  {
   "cell_type": "code",
   "execution_count": null,
   "metadata": {},
   "outputs": [
    {
     "name": "stdout",
     "output_type": "stream",
     "text": [
      "  i    kuadrat\n",
      "---  ---------\n",
      "  1          1\n",
      "  2          4\n",
      "  3          9\n",
      "  4         16\n",
      "  5         25\n",
      "  6        nan\n",
      "  7        nan\n",
      "  8        nan\n",
      "  9        nan\n",
      " 10        nan\n"
     ]
    }
   ],
   "source": [
    "# contoh data\n",
    "kolom_awal = [1, 2, 3, 4, 5, 6, 7, 8, 9, 10]\n",
    "kolom_kuadrat = [1, 4, 9, 16, 25]\n",
    "\n",
    "tabel_mentah = []\n",
    "for i in range(0, 10): # indeks list dimulai dari nol, lanjut selama i < 10\n",
    "    calon_baris = []\n",
    "\n",
    "    # elemen ke-i dari tiap list kolom\n",
    "    calon_baris.append(kolom_awal[i])\n",
    "    \n",
    "    try:\n",
    "        calon_baris.append(kolom_kuadrat[i])\n",
    "    except IndexError:\n",
    "        calon_baris.append(np.nan)\n",
    "\n",
    "    tabel_mentah.append(calon_baris)\n",
    "\n",
    "print(tabulate(tabel_mentah, headers=[\"i\", \"kuadrat\"]))"
   ]
  },
  {
   "cell_type": "markdown",
   "metadata": {},
   "source": [
    "## SymPy"
   ]
  },
  {
   "cell_type": "markdown",
   "metadata": {
    "id": "JHtq_JzKD5ZP"
   },
   "source": [
    "Dalam pembelajaran metode numerik, seringkali kita perlu membandingkan hasil aproksimasi kita dengan nilai yang sesungguhnya. Seringkali pula, sebenarnya nilai yang sesungguhnya itu dapat kita peroleh (karena kita masih dalam tahap belajar; penerapan metode numerik di dunia nyata adalah pada kasus di mana nilai eksak tidak dapat diperoleh).\n",
    "\n",
    "Hasil perhitungan eksak (seperti perhitungan menggunakan aljabar biasa atau ilmu kalkulus) juga disebut hasil perhitungan analitik atau simbolik. Istilah \"analitik\" bisa dianggap antonim dari istilah \"numerik\".\n",
    "\n",
    "Di Python, ada module/package bernama SymPy (*symbolic Python*) yang dapat melakukan perhitungan simbolik, seperti menghitung turunan, yang misalnya digunakan di metode Newton.\n",
    "\n",
    "(Fun fact: aplikasi/package di komputer yang dapat melakukan perhitungan simbolik disebut *Computer Algebra System* (CAS). Beberapa contoh CAS adalah SymPy, Wolfram Mathematica, dan Maple.)"
   ]
  },
  {
   "cell_type": "markdown",
   "metadata": {
    "id": "aDizWFjYIrhl"
   },
   "source": [
    "Mari kita import sympy:"
   ]
  },
  {
   "cell_type": "code",
   "execution_count": 1,
   "metadata": {
    "id": "7OFOMNQPF5zn"
   },
   "outputs": [],
   "source": [
    "import sympy"
   ]
  },
  {
   "cell_type": "markdown",
   "metadata": {
    "id": "iI2yTjQnK96N"
   },
   "source": [
    "Seperti untuk NumPy dan tabulate, apabila terjadi error karena sympy tidak ditemukan, artinya package sympy belum terinstall, dan bisa di-install menggunakan `pip install sympy` (atau dengan tanda seru: `!pip install sympy`)"
   ]
  },
  {
   "cell_type": "code",
   "execution_count": 2,
   "metadata": {
    "colab": {
     "base_uri": "https://localhost:8080/"
    },
    "id": "LmsrWEZLLFfb",
    "outputId": "e02f0634-926a-400f-e357-7f55d5fdbeea"
   },
   "outputs": [
    {
     "name": "stdout",
     "output_type": "stream",
     "text": [
      "Requirement already satisfied: sympy in /Library/Frameworks/Python.framework/Versions/3.11/lib/python3.11/site-packages (1.11.1)\n",
      "Requirement already satisfied: mpmath>=0.19 in /Library/Frameworks/Python.framework/Versions/3.11/lib/python3.11/site-packages (from sympy) (1.2.1)\n",
      "Note: you may need to restart the kernel to use updated packages.\n"
     ]
    }
   ],
   "source": [
    "pip install sympy"
   ]
  },
  {
   "cell_type": "markdown",
   "metadata": {
    "id": "ik_3Jz-5F6a-"
   },
   "source": [
    "Tentunya, penggunaan SymPy melibatkan variabel. Misalnya, kita ingin melakukan perhitungan simbolik dengan variabel $x$. Kita perlu memberitahu SymPy, dengan syntax seperti berikut:"
   ]
  },
  {
   "cell_type": "code",
   "execution_count": 3,
   "metadata": {
    "id": "7e2oILJ3Hel1"
   },
   "outputs": [],
   "source": [
    "x = sympy.symbols(\"x\")"
   ]
  },
  {
   "cell_type": "markdown",
   "metadata": {
    "id": "6-g-LmOcH2Fw"
   },
   "source": [
    "Artinya, kita baru saja memberitahu SymPy bahwa, pada string apapun yang dijumpai oleh SymPy, huruf \"x\" perlu dianggap sebagai simbol, atau lebih tepatnya sebagai variabel.\n",
    "\n",
    "Perhatikan pula bahwa kode di atas adalah *assignment* ke variabel pemrograman yang juga bernama `x`. Dengan demikian, untuk ke depannya, variabel `x` yang kita ketik di mana saja pada program kita akan dianggap sebagai variabel \"x\" oleh SymPy."
   ]
  },
  {
   "cell_type": "markdown",
   "metadata": {
    "id": "1_jyrAnXIvKc"
   },
   "source": [
    "Dengan variabel `x` tersebut, kita dapat mendefinisikan suatu *expression* (ekspresi atau kalimat matematika), misal $5x^4$, seperti berikut:"
   ]
  },
  {
   "cell_type": "code",
   "execution_count": 4,
   "metadata": {
    "colab": {
     "base_uri": "https://localhost:8080/"
    },
    "id": "D7hBo-3OIuwg",
    "outputId": "eee4bf1d-5b54-4298-af97-cf5ecb604ed0"
   },
   "outputs": [
    {
     "name": "stdout",
     "output_type": "stream",
     "text": [
      "5*x**4/2\n"
     ]
    }
   ],
   "source": [
    "polinom = 5 * (x ** 4) / 2\n",
    "print(polinom)"
   ]
  },
  {
   "cell_type": "markdown",
   "metadata": {
    "id": "Q4-Sa7R6JCyx"
   },
   "source": [
    "SymPy memiliki fitur `pprint` (*pretty print*), yaitu menampilkan suatu ekspresi secara cantik atau indah, layaknya seperti kita tulis di kertas:"
   ]
  },
  {
   "cell_type": "code",
   "execution_count": 5,
   "metadata": {
    "colab": {
     "base_uri": "https://localhost:8080/"
    },
    "id": "JFzOHzI1I88e",
    "outputId": "99662fef-797f-416d-cd25-67c37352f568"
   },
   "outputs": [
    {
     "name": "stdout",
     "output_type": "stream",
     "text": [
      "   4\n",
      "5⋅x \n",
      "────\n",
      " 2  \n"
     ]
    }
   ],
   "source": [
    "sympy.pprint(polinom)"
   ]
  },
  {
   "cell_type": "markdown",
   "metadata": {
    "id": "TNlcXk_iKWh0"
   },
   "source": [
    "Untuk melakukan diferensiasi atau menghitung turunan (dalam hal ini secara simbolik/analitik), gunakan ``sympy.diff``:"
   ]
  },
  {
   "cell_type": "code",
   "execution_count": 6,
   "metadata": {
    "colab": {
     "base_uri": "https://localhost:8080/"
    },
    "id": "9xvAohJYKZxM",
    "outputId": "619b90bc-6184-4505-c5fc-3534a0d3e43e"
   },
   "outputs": [
    {
     "name": "stdout",
     "output_type": "stream",
     "text": [
      "    3\n",
      "10⋅x \n"
     ]
    }
   ],
   "source": [
    "turunan = sympy.diff(polinom, x)\n",
    "sympy.pprint(turunan)"
   ]
  },
  {
   "cell_type": "markdown",
   "metadata": {
    "id": "jEGYUE8NoAUB"
   },
   "source": [
    "dengan begitu, SymPy menghitung turunan dari ekspresi `polinom` yang kita berikan itu, terhadap variabel `x`. Sebenarnya, mengetik `sympy.diff(polinom)` saja sudah cukup, tapi lebih lengkap lebih baik.\n",
    "\n"
   ]
  },
  {
   "cell_type": "markdown",
   "metadata": {
    "id": "tjsLLukGMAPu"
   },
   "source": [
    "Sejauh ini, semua ekspresi yang kita jumpai masih berbentuk simbol/tulisan, sehingga kita belum bisa men-substitusi variabel x dengan sembarang nilai. Misalnya kita ingin menjadikan ekspresi di atas sebagai suatu fungsi `func(x)`, di mana kita bisa memasukkan nilai `x` apapun dan mendapatkan hasil. Caranya adalah menggunakan `sympy.lambdify`:"
   ]
  },
  {
   "cell_type": "code",
   "execution_count": 7,
   "metadata": {
    "colab": {
     "base_uri": "https://localhost:8080/"
    },
    "id": "nOPT15vNNACK",
    "outputId": "3069d3fc-beef-4721-d604-807c8c78fda3"
   },
   "outputs": [
    {
     "name": "stdout",
     "output_type": "stream",
     "text": [
      "1250\n"
     ]
    }
   ],
   "source": [
    "func = sympy.lambdify(x, turunan)\n",
    "print(func(5))"
   ]
  },
  {
   "cell_type": "markdown",
   "metadata": {
    "id": "aVlCOs7yNMl8"
   },
   "source": [
    "Pada syntax `lambdify` di atas, kita perlu memberitahu SymPy terlebih dahulu, variabel apa yang digunakan pada ekspresi tersebut; barulah kita tuliskan ekspresinya. Dalam hal ini, kita mengetik `sympy.lambdify(x, turunan)` karena sedang menggunakan variabel `x` untuk ekspresi `turunan` yang ingin kita ubah menjadi fungsi yang bisa di-substitusi nilai x nya."
   ]
  },
  {
   "cell_type": "markdown",
   "metadata": {
    "id": "Gu0LIf_ZNqoC"
   },
   "source": [
    "Fungsi hasil `lambdify` sudah bisa digunakan seperti fungsi lainnya pada Python. Bahkan, kita bisa mencampur penggunaan SymPy dengan NumPy (maupun *package* lainnya). Contohnya, setelah tadi memperoleh `func(x)` dari SymPy:"
   ]
  },
  {
   "cell_type": "code",
   "execution_count": 8,
   "metadata": {
    "id": "PLUPYl0XN0Yh"
   },
   "outputs": [],
   "source": [
    "import numpy as np"
   ]
  },
  {
   "cell_type": "code",
   "execution_count": 9,
   "metadata": {
    "colab": {
     "base_uri": "https://localhost:8080/"
    },
    "id": "aDdBdfZ3N1Dm",
    "outputId": "f2f9871e-7a07-4d18-9f3f-b95685afa64a"
   },
   "outputs": [
    {
     "name": "stdout",
     "output_type": "stream",
     "text": [
      "[   80   270  1250 10000]\n"
     ]
    }
   ],
   "source": [
    "arr = np.array([2, 3, 5, 10])\n",
    "print(func(arr))"
   ]
  },
  {
   "cell_type": "markdown",
   "metadata": {
    "id": "jR7DikyoOif9"
   },
   "source": [
    "Seperti NumPy, SymPy juga memiliki fungsi `sin`, `cos`, `log`, `exp` dll, sehingga kita bisa melakukan perhitungan analitik yang melibatkan fungsi-fungsi tersebut."
   ]
  },
  {
   "cell_type": "code",
   "execution_count": 10,
   "metadata": {
    "colab": {
     "base_uri": "https://localhost:8080/"
    },
    "id": "WOBvWkqEOyiO",
    "outputId": "838fcd4b-cc60-44d3-df57-a08f314db048",
    "scrolled": true
   },
   "outputs": [
    {
     "name": "stdout",
     "output_type": "stream",
     "text": [
      "Fungsinya:\n",
      " 2           -5⋅x\n",
      "x ⋅cos(x) + ℯ    \n",
      "Turunannya:\n",
      "   2                          -5⋅x\n",
      "- x ⋅sin(x) + 2⋅x⋅cos(x) - 5⋅ℯ    \n"
     ]
    }
   ],
   "source": [
    "g = x**2 * sympy.cos(x) + sympy.exp(-5*x)\n",
    "print(\"Fungsinya:\")\n",
    "sympy.pprint(g)\n",
    "\n",
    "gp = sympy.diff(g, x)\n",
    "print(\"Turunannya:\")\n",
    "sympy.pprint(gp)"
   ]
  },
  {
   "cell_type": "markdown",
   "metadata": {
    "id": "847brsJrPPlD"
   },
   "source": [
    "Meskipun kita bisa saja melakukan, misalnya, `from sympy import cos`, hal tersebut tidak disarankan, apalagi ketika program kita juga menggunkaan NumPy dengan `from numpy import cos` atau bahkan `from numpy import *`. Alasannya, dengan begitu, program bisa menjadi membingungkan, karena tidak ada pembeda antara `cos` dari NumPy (numerik) dengan `cos` dari SymPy (analitik/simbolik).\n",
    "\n",
    "Namun, kalau Anda berhati-hati dan hanya melakukan hal tersebut untuk salah satu package saja, silakan."
   ]
  },
  {
   "cell_type": "markdown",
   "metadata": {
    "id": "BrGeLCPMsh0y"
   },
   "source": [
    "Menariknya, SymPy bisa jadi lebih unggul daripada NumPy untuk beberapa perhitungan yang melibatkan akurasi tinggi, terutama untuk perhitungan yang sebenarnya bersifat analitik. Misalnya, kita tahu bahwa $\\sin(\\pi) = 0$. Menurut SymPy,"
   ]
  },
  {
   "cell_type": "code",
   "execution_count": 11,
   "metadata": {
    "colab": {
     "base_uri": "https://localhost:8080/"
    },
    "id": "Sw2do1iOs0pF",
    "outputId": "e94d48c2-dabc-4bd6-ced8-9063904b1747"
   },
   "outputs": [
    {
     "name": "stdout",
     "output_type": "stream",
     "text": [
      "Menurut SymPy, sin(pi) = 0\n"
     ]
    }
   ],
   "source": [
    "print(\"Menurut SymPy, sin(pi) = \" + str(sympy.sin(sympy.pi)))"
   ]
  },
  {
   "cell_type": "markdown",
   "metadata": {
    "id": "07jIejmctE1E"
   },
   "source": [
    "karena SumPy menghitung nilai sin dari $\\pi$ secara analitik, yaitu tanpa perlu menghitung nilai $\\pi$ (karena nilainya sudah jelas nol berdasarkan sifat fungsi sin). Sedangkan, NumPy mengaproksimasi nilai $\\pi$ terlebih dahulu, barulah hasil aproksimasi tersebut yang masuk ke fungsi sin. Hasil perhitungan fungsi sin tersebut pun juga aproksimasi, sehingga didapatkan hasil seperti berikut, yaitu sangat kecil tetapi bukan nol:"
   ]
  },
  {
   "cell_type": "code",
   "execution_count": 12,
   "metadata": {
    "colab": {
     "base_uri": "https://localhost:8080/"
    },
    "id": "2Qw4LqBZtcLz",
    "outputId": "ccc77ade-7cec-4300-e8be-632cb7439608"
   },
   "outputs": [
    {
     "name": "stdout",
     "output_type": "stream",
     "text": [
      "Menurut NumPy, sin(pi) = 1.2246467991473532e-16\n"
     ]
    }
   ],
   "source": [
    "print(\"Menurut NumPy, sin(pi) = \" + str(np.sin(np.pi)))"
   ]
  },
  {
   "cell_type": "markdown",
   "metadata": {
    "id": "QPV8202stya2"
   },
   "source": [
    "di mana \"e-16\" artinya \"dikali 10 pangkat -16\"."
   ]
  },
  {
   "cell_type": "markdown",
   "metadata": {
    "id": "C29H0QaLtEo8"
   },
   "source": [
    "## Metode Bisection"
   ]
  },
  {
   "cell_type": "markdown",
   "metadata": {
    "id": "yKf_WkhsuDxG"
   },
   "source": [
    "Metode Bisection adalah salah satu metode yang dapat kita gunakan dalam masalah pencarian akar (**root finding**). Akar dari suatu persamaan didefinisikan sebagai nilai $x$ yang memenuhi $f(x) = 0$. Misalkan $f$ adalah suatu fungsi kontinu terdefinisi di $[a,b]$, di mana $f(a)$ dan $f(b)$ berlawanan tanda (sehingga pasti ada akar pada interval tersebut, menurut Teorema Nilai Antara / *Intermediate Value Theorem*).\n",
    "\n",
    "Inti sari dari metode Bisection adalah\n",
    "\n",
    "1. menebak bahwa akar suatu persamaan ada di dalam interval tertentu $[a, b]$;\n",
    "2. menelusuri nilai fungsi pada nilai tengah atau rata-rata dari interval tersebut;\n",
    "3. mempersempit interval dengan memanfaatkan hasil rata-rata tersebut; dan\n",
    "4. terus mencari nilai tengah dari interval yang baru, yang kemudian dipersempit lalu dicari nilai tengahnya, dan seterusnya hingga akar ditemukan, atau hingga ukuran interval sudah cukup kecil sehingga memuaskan (yaitu sudah lebih kecil dari toleransi).\n",
    "\n",
    "Didefinisikan nilai tengah dari interval:\n",
    "\n",
    "$$p=\\frac{(a+b)}{2}$$\n",
    "\n",
    "Akan dicari $f(p)$ dengan syarat sebagai berikut:\n",
    "\n",
    "* jika $f(p) = 0$, maka $p$ adalah akar dari $f$\n",
    "* jika $f(p)f(a) > 0$, maka $\\text{sign}(f(p)) = \\text{sign}(f(a))$. Sehingga, kita dapat mempersempit interval dengan memilih batasan baru yaitu a = p dan b tidak berubah.\n",
    "* jika $f(p)f(a) < 0$, maka $\\text{sign}(f(p)) \\neq \\text{sign} (f(a))$, atau $\\text{sign}(f(p)) = \\text{sign}(f(b))$. Sehingga, kita dapat mempersempit interval dengan memilih batasan baru yaitu a tidak berubah dan b = p.\n",
    "\n",
    "Metode Bisection memiliki *order of convergence* = 1, atau disebut memiliki kekonvergenan linier (*linear convergence*). Artinya, dalam proses menemukan akar persamaan (konvergen menuju jawabannya), metode Bisection tidak secepat beberapa metode lainnya yang memiliki *order of convergence* yang lebih tinggi."
   ]
  },
  {
   "cell_type": "code",
   "execution_count": 12,
   "metadata": {
    "colab": {
     "base_uri": "https://localhost:8080/"
    },
    "id": "mMyYYNR_ylFz",
    "outputId": "ae6cf364-ab0a-43dd-eeda-15b6b2d6d656"
   },
   "outputs": [],
   "source": [
    "def Bisection(f, lower, upper, tol):\n",
    "    if f(lower)*f(upper)<0:\n",
    "        p0=lower\n",
    "        p=(lower+upper)/2\n",
    "\n",
    "        if f(p)==0:\n",
    "            return p\n",
    "        elif f(p)*f(lower)>0:\n",
    "            lower=p\n",
    "        elif f(p)*f(lower)<0:\n",
    "            upper=p\n",
    " \n",
    "        abs_error=abs(p0-p)\n",
    "        p0=p\n",
    " \n",
    "        while abs_error > tol:\n",
    "            p=(lower+upper)/2\n",
    "            \n",
    "            if f(p)==0:\n",
    "                break\n",
    "            elif f(p)*f(lower)>0:\n",
    "                lower=p\n",
    "            elif f(p)*f(lower)<0:\n",
    "                upper=p\n",
    "        \n",
    "            abs_error=abs(p0-p)\n",
    "            p0=p\n",
    " \n",
    "        return p\n",
    " \n",
    "    elif f(lower)*f(upper)>0:\n",
    "        return \"Metode gagal mengaproksimasi akar. Silakan ubah batas atas atau batas bawah\"\n",
    "    elif f(lower)==0:\n",
    "        return lower\n",
    "    else: #f(upper)==0\n",
    "        return upper"
   ]
  },
  {
   "cell_type": "code",
   "execution_count": 13,
   "metadata": {},
   "outputs": [
    {
     "name": "stdout",
     "output_type": "stream",
     "text": [
      "Masukkan formula fungsi: 2*x - 3*cos(x) + exp(-5*x) - 9\n",
      "Masukkan batas bawah interval: -3\n",
      "Masukkan batas atas interval: 2\n",
      "Masukkan toleransi aproksimasi: 10**(-7)\n",
      "Akar persamaan 2*x - 3*cos(x) + exp(-5*x) - 9 = 0 adalah x = -0.5073225051164627\n"
     ]
    }
   ],
   "source": [
    "from numpy import sin, cos, tan, log, exp, sqrt, pi\n",
    "\n",
    "formula = input('Masukkan formula fungsi: ')\n",
    "\n",
    "def f(x):\n",
    "    return eval(formula)\n",
    "\n",
    "low_bound = eval(input(\"Masukkan batas bawah interval: \"))\n",
    "up_bound = eval(input(\"Masukkan batas atas interval: \"))\n",
    "toleransi = eval(input(\"Masukkan toleransi aproksimasi: \"))\n",
    "\n",
    "akar_bisection=Bisection(f, low_bound, up_bound, toleransi)\n",
    "\n",
    "try:\n",
    "    print(f\"Akar persamaan {formula} = 0 adalah x = {akar_bisection}\")\n",
    "except ValueError:\n",
    "    print(akar_bisection)"
   ]
  },
  {
   "cell_type": "markdown",
   "metadata": {
    "id": "69NiwrDn2E0B"
   },
   "source": [
    "## Metode Fixed-Point"
   ]
  },
  {
   "cell_type": "markdown",
   "metadata": {
    "id": "NKw1NPlm2J62"
   },
   "source": [
    "Inti sari dari Metode Fixed-Point adalah mencari *fixed-point* (titik tetap) dari suatu fungsi (misal fungsi $g(x)$), yaitu suatu nilai $p$ sehingga $p = g(p)$, atau $p - g(p) = 0$. Titik $p$ disebut titik tetap, karena ketika nilai $p$ dimasukkan ke fungsi $g(x)$, hasilnya tetaplah $p$. Untuk nilai $x$ yang dekat dengan $p$, biasanya ada kecenderungan nilai $g(x)$ menjadi semakin mendekati $p$.\n",
    "\n",
    "Perhatikan bahwa, sembarang persamaan $f(x) = 0$ bisa diubah bentuknya dengan mendefinisikan fungsi $g(x) = x - f(x)$ (sehingga $f(x) = x - g(x)$). Dengan demikian, permasalahan mencari akar berubah menjadi permasalahan mencari fixed-point, yaitu mencari nilai $p$ sehingga $p = g(p)$ atau $p - g(p) = 0$ (sehingga nilai $p$ tersebut juga menyebabkan $f(p) = 0$).\n",
    "\n",
    "(Tentu saja, itu bukanlah satu-satunya cara untuk mengubah permasalahan mencari akar menjadi permasalahan mencari fixed-point. Bahkan, tidak semua pilihan $g(x)$ yang memungkinkan itu dijamin memiliki fixed-point.)\n",
    "\n",
    "Misalkan $g$ adalah fungsi **kontinu** dan memiliki **fixed-point** $p$ pada interval $[a,b]$ (dan diasumsikan bahwa $g$ memenuhi persyaratan untuk kekonvergenan metode fixed-point). Artinya, ada $p \\in [a,b]$ sehingga $g(x) = x$. Untuk mengaproksimasi penyelesaian dari persamaan $g(x) = x$, diperlukan suatu tebakan awal $p_0$, kemudian iterasinya adalah:\n",
    "\n",
    "$$p_n = g(p_{n-1})$$\n",
    "\n",
    "Nilai tersebut terus dimasukkan ke dalam $g$ sehingga, diharapkan, nilai $p_n$ menjadi semakin mendekati suatu nilai $p$ yang membuat $g(p) = p$.\n",
    "\n",
    "Pada umumnya, metode fixed-point memiliki kekonvergenan linier. Ketika $g(x)$ dijamin memliki tepat satu fixed-point (atau fixed-point yang unik) pada suatu interval $[a,b]$, maka Metode Fixed-Point dengan $p_0$ pada interval tersebut pasti memiliki kekonvergenan linier. Terkadang Metode Fixed-Point lebih cepat daripada Metode Bisection, dan terkadang Metode Bisection lebih cepat daripada Metode Fixed-Point.\n",
    "\n",
    "Hati-hati, ada kemungkinan bahwa $g(p_n)$ malah menjauhi $p$, contohnya untuk $g(x) = x^2$ dan $p_0 > 1$ (padahal $g(1) = 1$). Pada kasus seperti itu, metode fixed-point tidak dijamin konvergen (artinya tidak dijamin bisa menemukan fixed-point)."
   ]
  },
  {
   "cell_type": "markdown",
   "metadata": {
    "id": "vGlrRBuOWoNf"
   },
   "source": [
    "Sebagai contoh penggunaan metode fixed-point, kalian bisa mencoba untuk menyelesaikan persamaan (masalah mencari akar) berikut ini,\n",
    "\n",
    "$$f(x) = x^2 - x - 1 = 0$$\n",
    "\n",
    "dengan sedikit manipulasi aljabar (dibagi $x$, pindah ruas) agar mendapatkan bentuk $x = g(x)$,\n",
    "\n",
    "$$x = 1 + \\frac{1}{x}$$\n",
    "\n",
    "sehingga, dengan $g(x) = 1 + \\frac{1}{x}$ bisa digunakan metode fixed-point, misal dengan tebakan awal $x = 2$ atau $x = -3$.\n",
    "\n",
    "(Jelas metode ini akan gagal untuk $g(x)$ tersebut apabila dipilih tebakan awal seperti $x=0$, $x=-1$, atau bahkan $x=-\\frac{1}{2}$ karena akan terjadi pembagian nol. Kemungkinan terjadinya pembagian nol itu bukan hanya dari metodenya seperti metode Newton, tetapi juga dari fungsi $f(x)$ atau $g(x)$ yang digunakan.)\n",
    "\n",
    "Silakan coba dengan kode di bawah ini!\n",
    "\n",
    "Sebagai pembanding, kalian bisa menyelesaikan persamaan kuadrat $f(x) = x^2 - x - 1 = 0$ di atas, dan mendapatkan solusi\n",
    "\n",
    "$$x_1 = \\frac{1+\\sqrt{5}}{2} \\approx 1.618$$\n",
    "\n",
    "$$x_2 = \\frac{1-\\sqrt{5}}{2} \\approx -0.618$$\n",
    "\n",
    "Kebetulan, konstanta berikut ini yang berlambang phi kecil ($\\phi$),\n",
    "\n",
    "$$\\phi = \\frac{1+\\sqrt{5}}{2}$$\n",
    "\n",
    "adalah konstanta istimewa yang bernama *golden ratio*."
   ]
  },
  {
   "cell_type": "code",
   "execution_count": 14,
   "metadata": {
    "colab": {
     "base_uri": "https://localhost:8080/"
    },
    "id": "1MbTJI_A3AbY",
    "outputId": "1d44dfb6-a6c7-439d-ffe5-e192c6f24ac1"
   },
   "outputs": [],
   "source": [
    "from tabulate import tabulate\n",
    "\n",
    "def FixedPoint(g, p0, tol):\n",
    "    table = [[\"iterasi\",\"Aproksimasi\"]]\n",
    "    iterasi = []\n",
    "    \n",
    "    i = 1\n",
    "    p = g(p0)\n",
    "    abs_error = abs(p-p0)\n",
    "    p0 = p\n",
    "    iterasi.append(i)\n",
    "    iterasi.append(p)\n",
    "    table.append(iterasi)\n",
    "\n",
    "    while abs_error > tol:\n",
    "        iterasi = []\n",
    "        i += 1\n",
    "        p = g(p0)\n",
    "        abs_error = abs(p-p0)\n",
    "        p0 = p\n",
    "        iterasi.append(i)\n",
    "        iterasi.append(p)\n",
    "        table.append(iterasi)\n",
    "    \n",
    "    tabel_siap_print = tabulate(table,headers = 'firstrow',tablefmt=\"pretty\")\n",
    "    return p0, tabel_siap_print"
   ]
  },
  {
   "cell_type": "code",
   "execution_count": 15,
   "metadata": {},
   "outputs": [
    {
     "name": "stdout",
     "output_type": "stream",
     "text": [
      "Masukkan formula g(x): 1 + 1/x\n",
      "Masukkan titik awal iterasi: 2\n",
      "Masukkan batas toleransi: 10**(-7)\n",
      "+---------+--------------------+\n",
      "| iterasi |    Aproksimasi     |\n",
      "+---------+--------------------+\n",
      "|    1    |        1.5         |\n",
      "|    2    | 1.6666666666666665 |\n",
      "|    3    |        1.6         |\n",
      "|    4    |       1.625        |\n",
      "|    5    | 1.6153846153846154 |\n",
      "|    6    | 1.619047619047619  |\n",
      "|    7    | 1.6176470588235294 |\n",
      "|    8    | 1.6181818181818182 |\n",
      "|    9    | 1.6179775280898876 |\n",
      "|   10    | 1.6180555555555556 |\n",
      "|   11    | 1.6180257510729614 |\n",
      "|   12    | 1.6180371352785146 |\n",
      "|   13    | 1.6180327868852458 |\n",
      "|   14    | 1.618034447821682  |\n",
      "|   15    | 1.618033813400125  |\n",
      "|   16    | 1.6180340557275543 |\n",
      "|   17    | 1.6180339631667064 |\n",
      "+---------+--------------------+\n",
      "Ditemukan fixed point dari g(x) = 1 + 1/x yaitu x = 1.6180339631667064\n"
     ]
    }
   ],
   "source": [
    "from numpy import cos, sin, tan, log, exp, sqrt\n",
    "\n",
    "formula = input(\"Masukkan formula g(x): \")\n",
    "\n",
    "def g(x):\n",
    "    return eval(formula)\n",
    "\n",
    "tebakan_awal = eval(input(\"Masukkan titik awal iterasi: \"))\n",
    "toleransi = eval(input(\"Masukkan batas toleransi: \"))\n",
    "\n",
    "fixed_point, tabel = FixedPoint(g, tebakan_awal, toleransi)\n",
    "\n",
    "print(tabel)\n",
    "print(f\"Ditemukan fixed point dari g(x) = {formula} yaitu x = {fixed_point}\")"
   ]
  },
  {
   "cell_type": "markdown",
   "metadata": {
    "id": "cXAgtNhoLN9T"
   },
   "source": [
    "## Metode Newton biasa (dengan turunan analitik)"
   ]
  },
  {
   "cell_type": "markdown",
   "metadata": {
    "id": "Ym6AZp6uLSU4"
   },
   "source": [
    "Misalkan $f$ kontinu dan terturunkan (memiliki turunan) di $[a,b]$ dan ada tebakan awal $p_0 \\in$ $[a,b]$ sedemikian sehingga $f'(p_0) \\neq 0$. Iterasi pada metode Newton untuk menyelesaian $f(x) = 0$ adalah sebagai berikut:\n",
    "\n",
    "$$p_n = p_{n-1} - \\frac{f(p_{n-1})}{f'(p_{n-1})}$$\n",
    "\n",
    "Diharapkan bahwa, setelah banyak iterasi, nilai $p_n$ yang diperoleh akan membuat $f(p) = 0$ atau setidaknya sangat dekat dengan nol (lebih kecil dari batas toleransi yang kita anggap sudah memuaskan).\n",
    "\n",
    "Metode Newton juga dapat dipandang sebagai metode fixed-point dengan $g(x) = x - \\frac{f(x)}{f'(x)}$\n",
    "\n",
    "Metode Newton gagal apabila, pada suatu iterasi, tiba-tiba $f'(p_n) = 0$.\n",
    "\n",
    "Pada umumnya, Metode Newton memiliki *order of convergence* = 2, atau juga disebut memiliki kekonvergenan kuadratik (*quadratic convergence*). Artinya, selama berhasil, Metode Newton lebih cepat daripada Metode Bisection maupun Metode Fixed-Point."
   ]
  },
  {
   "cell_type": "code",
   "execution_count": 6,
   "metadata": {
    "colab": {
     "base_uri": "https://localhost:8080/"
    },
    "id": "HVbsGM--LRWp",
    "outputId": "387cad9f-b6a7-4ab6-918d-86450c871bb3"
   },
   "outputs": [],
   "source": [
    "def NewtonAnalitik(f,fp,p0,tolerance):\n",
    "    p = p0 - f(p0)/fp(p0)\n",
    "    abs_error = abs(p-p0)\n",
    "    p0 = p\n",
    "\n",
    "    while abs_error > tolerance:\n",
    "\n",
    "        try:\n",
    "            p = p0 - f(p0)/fp(p0)\n",
    "        except ZeroDivisionError:\n",
    "            return \"Metode gagal mengaproksimasi akar. Silakan pilih tebakan awal lain\"\n",
    "        \n",
    "        abs_error = abs(p-p0)\n",
    "        p0 = p\n",
    "    return p"
   ]
  },
  {
   "cell_type": "code",
   "execution_count": 16,
   "metadata": {},
   "outputs": [
    {
     "name": "stdout",
     "output_type": "stream",
     "text": [
      "Masukkan fungsi: 2*x - 3*cos(x) + exp(-5*x) - 9\n",
      "Masukkan tebakan awal / titik awal iterasi: -1\n",
      "Masukkan toleransi aproksimasi: 10**(-7)\n",
      "Akar dari persamaan f(x) = 2*x - 3*cos(x) + exp(-5*x) - 9 adalah x = -0.5073224866379573\n"
     ]
    }
   ],
   "source": [
    "import sympy\n",
    "from numpy import sin, cos, tan, log, exp, sqrt\n",
    "\n",
    "formula = input(\"Masukkan fungsi: \")\n",
    "def f(x):\n",
    "    return eval(formula)\n",
    "\n",
    "x = sympy.symbols(\"x\")\n",
    "\n",
    "df_string = str(sympy.diff(formula, x))\n",
    "def fp(x): # turunan f\n",
    "    return eval(df_string)\n",
    "\n",
    "tebakan_awal = eval(input(\"Masukkan tebakan awal / titik awal iterasi: \"))\n",
    "tolerance = eval(input(\"Masukkan toleransi aproksimasi: \"))\n",
    "\n",
    "akar_newton = NewtonAnalitik(f, fp, tebakan_awal, tolerance)\n",
    "\n",
    "print(f\"Akar dari persamaan f(x) = {formula} adalah x = {akar_newton}\")"
   ]
  },
  {
   "cell_type": "markdown",
   "metadata": {
    "id": "ITmGJUunJVYG"
   },
   "source": [
    "## Metode Newton dengan Beda Hingga (*Finite-Difference Newton's Method*)"
   ]
  },
  {
   "cell_type": "markdown",
   "metadata": {
    "id": "mtgOXNBWJbWK"
   },
   "source": [
    "Salah satu kekurangan Metode Newton yang biasa adalah harus mengetahui rumus turunannya secara analitik. Sebelum adanya CAS seperti SymPy, turunan analitik harus dihitung secara manual dengan kalkulus. Kalau bentuk rumus untuk $f(x)$ sangat rumit, perhitungan turunan menjadi jauh lebih rumit. Untuk menghindari menghitung turunan secara analitik, kita dapat menggunakan definisi turunan (yang menggunakan limit):\n",
    "\n",
    "$$f'(x) = \\lim_{h \\rightarrow 0} \\frac{f(x+h) - f(x)}{h}$$\n",
    "\n",
    "dengan memilih nilai $h$ yang cukup kecil (sayangnya, kita tidak bisa membuat limit $h$ menuju nol). Nilai $h$ yang cukup kecil itu disebut suatu beda hingga (*finite difference*).\n",
    "\n",
    "Sehingga, modifikasi metode Newton ini bisa disebut Metode Newton dengan Beda Hingga (*Finite-Difference Newton's Method*). Untuk fungsi $f$ yang kontinu, akar persamaan $f(x) = 0$ bisa ditentukan dengan iterasi sebagai berikut:\n",
    "\n",
    "\\begin{align*}\n",
    "p_n &= p_{n-1} - \\frac{f(p_{n-1})}{\\left(\\frac{f\\left(p_{n-1}+h\\right)-f(p_{n-1})}{h}\\right)} \\\\\n",
    "&= p_{n-1} - \\frac{f(p_{n-1})h}{f(p_{n-1}+h)-f(p_{n-1})}\n",
    "\\end{align*}\n",
    "\n",
    "dengan tebakan awal $p_0$. Perhatikan bahwa $f'(p_{n-1})$ pada metode Newton yang biasa itu telah digantikan dengan\n",
    "\n",
    "$$f'(p_{n-1}) \\approx \\frac{f(p_{n-1}+h) - f(p_{n-1})}{h}$$\n",
    "\n",
    "Tujuan modifikasi tersebut adalah agar iterasi dapat dilakukan pada titik di mana turunannya tidak ada, atau ketika turunan analitik sulit diperoleh."
   ]
  },
  {
   "cell_type": "code",
   "execution_count": 8,
   "metadata": {},
   "outputs": [],
   "source": [
    "def FiniteDifferenceNewton(f,fp,p0,tolerance):\n",
    "    p = p0 - f(p0)/fp(p0)\n",
    "    abs_error = abs(p-p0)\n",
    "    p0 = p\n",
    "\n",
    "    while abs_error > tolerance:\n",
    "        p = p0 - f(p0)/fp(p0)\n",
    "        abs_error = abs(p-p0)\n",
    "        p0 = p\n",
    "    return p"
   ]
  },
  {
   "cell_type": "code",
   "execution_count": 17,
   "metadata": {
    "colab": {
     "base_uri": "https://localhost:8080/"
    },
    "id": "uhckTUOpKBym",
    "outputId": "bd10a9c3-0485-4029-e174-d5b4f8ab141f"
   },
   "outputs": [
    {
     "name": "stdout",
     "output_type": "stream",
     "text": [
      "Masukkan fungsi: 2*x - 3*cos(x) + exp(-5*x) - 9\n",
      "Masukkan titik awal iterasi: -1\n",
      "Masukkan toleransi aproksimasi: 10**(-7)\n",
      "Akar dari persamaan f(x) = 2*x - 3*cos(x) + exp(-5*x) - 9 adalah x = -0.5073224866379543\n"
     ]
    }
   ],
   "source": [
    "from numpy import sin, cos, tan, log, exp, sqrt\n",
    "\n",
    "formula = input(\"Masukkan fungsi: \")\n",
    "def f(x):\n",
    "    return eval(formula)\n",
    "\n",
    "def fp(x, h=10**(-12)):\n",
    "    return (f(x+h)-f(x))/h\n",
    "\n",
    "starting_point = eval(input(\"Masukkan titik awal iterasi: \"))\n",
    "tolerance = eval(input(\"Masukkan toleransi aproksimasi: \"))\n",
    "\n",
    "akar_fd = FiniteDifferenceNewton(f,fp,starting_point,tolerance)\n",
    "\n",
    "print(f\"Akar dari persamaan f(x) = {formula} adalah x = {akar_fd}\")"
   ]
  },
  {
   "cell_type": "markdown",
   "metadata": {},
   "source": [
    "## Tambahan"
   ]
  },
  {
   "cell_type": "markdown",
   "metadata": {},
   "source": [
    "### Contoh Tabel Faktorial"
   ]
  },
  {
   "cell_type": "markdown",
   "metadata": {},
   "source": [
    "Bagaimana kalau misalnya kita sudah punya suatu fungsi yang melakukan perhitungan secara iteratif dan hanya menampilkan hasil akhirnya, tetapi kita ingin memperoleh tiap hasil iterasi, bukan hasil akhirnya saja? Contohnya, fungsi menghitung faktorial $n! = n * (n-1) * \\dots * 3 * 2 * 1$ berikut ini,"
   ]
  },
  {
   "cell_type": "code",
   "execution_count": null,
   "metadata": {},
   "outputs": [
    {
     "name": "stdout",
     "output_type": "stream",
     "text": [
      "120\n"
     ]
    }
   ],
   "source": [
    "def faktorial(n):\n",
    "    \n",
    "    # nilai awal\n",
    "    hasil = 1\n",
    "\n",
    "    # iterasi\n",
    "    for i in range(2, n+1):\n",
    "        # mulai dari 2, lanjut selama i < n + 1\n",
    "        # sehingga iterasi terakhir adalah untuk i = n\n",
    "\n",
    "        hasil = hasil * i\n",
    "    \n",
    "    # mengembalikan hasil akhir setelah semua iterasi selesai\n",
    "    return hasil\n",
    "\n",
    "# peroleh hasil akhir dari fungsi faktorial, kemudian print\n",
    "print(faktorial(5))"
   ]
  },
  {
   "cell_type": "markdown",
   "metadata": {},
   "source": [
    "Kita bisa saja melakukan print (di dalam fungsinya) tiap kali nilai `hasil` diperbarui."
   ]
  },
  {
   "cell_type": "code",
   "execution_count": null,
   "metadata": {},
   "outputs": [
    {
     "name": "stdout",
     "output_type": "stream",
     "text": [
      "1\n",
      "2\n",
      "6\n",
      "24\n",
      "120\n"
     ]
    }
   ],
   "source": [
    "def faktorial(n):\n",
    "    \n",
    "    # nilai awal\n",
    "    hasil = 1\n",
    "    print(hasil) # tampilkan hasil\n",
    "\n",
    "    # iterasi\n",
    "    for i in range(2, n+1):\n",
    "        # mulai dari 2, lanjut selama i < n + 1\n",
    "        # sehingga iterasi terakhir adalah untuk i = n\n",
    "\n",
    "        hasil = hasil * i\n",
    "        print(hasil) # tampilkan hasil yang baru\n",
    "    \n",
    "    # tidak perlu return karena sudah menggunakan print\n",
    "\n",
    "# fungsi cukup dipanggil saja,\n",
    "# karena print sudah ada di dalam fungsi\n",
    "faktorial(5)"
   ]
  },
  {
   "cell_type": "markdown",
   "metadata": {},
   "source": [
    "Alternatifnya, kita bisa memasukkan tiap hasil baru ke dalam suatu list, yang kemudian dikembalikan oleh fungsi, lalu kita bisa print list tersebut."
   ]
  },
  {
   "cell_type": "code",
   "execution_count": null,
   "metadata": {},
   "outputs": [
    {
     "name": "stdout",
     "output_type": "stream",
     "text": [
      "[1, 2, 6, 24, 120]\n"
     ]
    }
   ],
   "source": [
    "def ListFaktorial(n):\n",
    "    list_baru = []\n",
    "    \n",
    "    # nilai awal\n",
    "    hasil = 1\n",
    "    list_baru.append(hasil) # tambahkan ke list\n",
    "\n",
    "    # iterasi\n",
    "    for i in range(2, n+1):\n",
    "        # mulai dari 2, lanjut selama i < n + 1\n",
    "        # sehingga iterasi terakhir adalah untuk i = n\n",
    "\n",
    "        hasil = hasil * i\n",
    "        list_baru.append(hasil) # tambahkan tiap hasil baru ke list\n",
    "    \n",
    "    # kembalikan list semua hasil\n",
    "    return list_baru\n",
    "\n",
    "# peroleh list dari fungsi di atas, kemudian print\n",
    "print(ListFaktorial(5))"
   ]
  },
  {
   "cell_type": "markdown",
   "metadata": {},
   "source": [
    "Bahkan, list ini bisa diubah menjadi tabel!"
   ]
  },
  {
   "cell_type": "code",
   "execution_count": null,
   "metadata": {},
   "outputs": [
    {
     "name": "stdout",
     "output_type": "stream",
     "text": [
      "  i    faktorial\n",
      "---  -----------\n",
      "  1            1\n",
      "  2            2\n",
      "  3            6\n",
      "  4           24\n",
      "  5          120\n"
     ]
    }
   ],
   "source": [
    "def ListFaktorial(n):\n",
    "    list_baru = []\n",
    "    \n",
    "    # nilai awal\n",
    "    hasil = 1\n",
    "    list_baru.append(hasil) # tambahkan ke list\n",
    "\n",
    "    # iterasi\n",
    "    for i in range(2, n+1):\n",
    "        # mulai dari 2, lanjut selama i < n + 1\n",
    "        # sehingga iterasi terakhir adalah untuk i = n\n",
    "\n",
    "        hasil = hasil * i\n",
    "        list_baru.append(hasil) # tambahkan tiap hasil baru ke list\n",
    "    \n",
    "    # kembalikan list semua hasil\n",
    "    return list_baru\n",
    "\n",
    "# kolom nilai i\n",
    "kolom_kiri = [1, 2, 3, 4, 5]\n",
    "# bisa juga dibuat dengan for loop dengan range(1,6) append i\n",
    "\n",
    "# peroleh list dari fungsi di atas\n",
    "kolom_kanan = ListFaktorial(5)\n",
    "\n",
    "# \"gabung\" kedua kolom menjadi satu tabel, seperti biasa\n",
    "tabel_mentah = []\n",
    "for i in range(0,5):\n",
    "    calon_baris = []\n",
    "    calon_baris.append(kolom_kiri[i])\n",
    "    calon_baris.append(kolom_kanan[i])\n",
    "    tabel_mentah.append(calon_baris)\n",
    "\n",
    "tabel_olahan = tabulate(tabel_mentah, headers=[\"i\", \"faktorial\"])\n",
    "print(tabel_olahan)"
   ]
  },
  {
   "cell_type": "markdown",
   "metadata": {},
   "source": [
    "Perhatikan bahwa kita memerlukan dua list untuk membentuk tabel di atas. Bisa saja, kita membentuk kedua list sepenuhnya di dalam fungsi. Dengan begitu, setelah menggunakan fungsi, kita tinggal membentuk tabel dari kedua list."
   ]
  },
  {
   "cell_type": "code",
   "execution_count": null,
   "metadata": {},
   "outputs": [
    {
     "name": "stdout",
     "output_type": "stream",
     "text": [
      "  i    faktorial\n",
      "---  -----------\n",
      "  1            1\n",
      "  2            2\n",
      "  3            6\n",
      "  4           24\n",
      "  5          120\n"
     ]
    }
   ],
   "source": [
    "def DuaListFaktorial(n):\n",
    "    kolom_kiri = [] # berisi i\n",
    "    kolom_kanan = [] # berisi faktorial atau i!\n",
    "    \n",
    "    # nilai awal\n",
    "    hasil = 1\n",
    "\n",
    "    # tambahkan ke list\n",
    "    kolom_kiri.append(1)\n",
    "    kolom_kanan.append(hasil)\n",
    "\n",
    "    # iterasi\n",
    "    for i in range(2, n+1):\n",
    "        # mulai dari 2, lanjut selama i < n + 1\n",
    "        # sehingga iterasi terakhir adalah untuk i = n\n",
    "\n",
    "        hasil = hasil * i\n",
    "\n",
    "        # tambahkan tiap hasil baru ke list\n",
    "        kolom_kiri.append(i)\n",
    "        kolom_kanan.append(hasil)\n",
    "    \n",
    "    # kembalikan kedua list\n",
    "    return kolom_kiri, kolom_kanan\n",
    "\n",
    "# peroleh kedua list dari fungsi\n",
    "kolom_kiri, kolom_kanan = DuaListFaktorial(5)\n",
    "\n",
    "# \"gabung\" kedua kolom menjadi satu tabel, seperti biasa\n",
    "tabel_mentah = []\n",
    "for i in range(0,5):\n",
    "    calon_baris = []\n",
    "    calon_baris.append(kolom_kiri[i])\n",
    "    calon_baris.append(kolom_kanan[i])\n",
    "    tabel_mentah.append(calon_baris)\n",
    "\n",
    "tabel_olahan = tabulate(tabel_mentah, headers=[\"i\", \"faktorial\"])\n",
    "print(tabel_olahan)"
   ]
  },
  {
   "cell_type": "markdown",
   "metadata": {},
   "source": [
    "Kalau mau, bahkan proses pembentukan tabel juga bisa dilakkukan di dalam fungsi, sehingga fungsi memberikan *output* berupa tabel yang siap diolah tabulate."
   ]
  },
  {
   "cell_type": "code",
   "execution_count": null,
   "metadata": {},
   "outputs": [
    {
     "name": "stdout",
     "output_type": "stream",
     "text": [
      "  i    faktorial\n",
      "---  -----------\n",
      "  1            1\n",
      "  2            2\n",
      "  3            6\n",
      "  4           24\n",
      "  5          120\n"
     ]
    }
   ],
   "source": [
    "def TabelFaktorial(n):\n",
    "    kolom_kiri = [] # berisi i\n",
    "    kolom_kanan = [] # berisi faktorial atau i!\n",
    "    \n",
    "    # nilai awal\n",
    "    hasil = 1\n",
    "\n",
    "    # tambahkan ke list\n",
    "    kolom_kiri.append(1)\n",
    "    kolom_kanan.append(hasil)\n",
    "\n",
    "    # iterasi\n",
    "    for i in range(2, n+1):\n",
    "        # mulai dari 2, lanjut selama i < n + 1\n",
    "        # sehingga iterasi terakhir adalah untuk i = n\n",
    "\n",
    "        hasil = hasil * i\n",
    "\n",
    "        # tambahkan tiap hasil baru ke list\n",
    "        kolom_kiri.append(i)\n",
    "        kolom_kanan.append(hasil)\n",
    "    \n",
    "    tabel_mentah = []\n",
    "    for i in range(0,n):\n",
    "        # sampai indeks (n-1)\n",
    "        # nilai n tergantung banyaknya iterasi\n",
    "\n",
    "        calon_baris = []\n",
    "        calon_baris.append(kolom_kiri[i])\n",
    "        calon_baris.append(kolom_kanan[i])\n",
    "        tabel_mentah.append(calon_baris)\n",
    "    \n",
    "    return tabel_mentah\n",
    "\n",
    "tabel_mentah = TabelFaktorial(5)\n",
    "\n",
    "tabel_olahan = tabulate(tabel_mentah, headers=[\"i\", \"faktorial\"])\n",
    "print(tabel_olahan)"
   ]
  },
  {
   "cell_type": "markdown",
   "metadata": {},
   "source": [
    "Bahkan, pengolahan tabel bisa dilakukan di dalam fungsi..."
   ]
  },
  {
   "cell_type": "code",
   "execution_count": null,
   "metadata": {},
   "outputs": [
    {
     "name": "stdout",
     "output_type": "stream",
     "text": [
      "  i    faktorial\n",
      "---  -----------\n",
      "  1            1\n",
      "  2            2\n",
      "  3            6\n",
      "  4           24\n",
      "  5          120\n"
     ]
    }
   ],
   "source": [
    "def TabelFaktorial(n):\n",
    "    kolom_kiri = [] # berisi i\n",
    "    kolom_kanan = [] # berisi faktorial atau i!\n",
    "    \n",
    "    # nilai awal\n",
    "    hasil = 1\n",
    "\n",
    "    # tambahkan ke list\n",
    "    kolom_kiri.append(1)\n",
    "    kolom_kanan.append(hasil)\n",
    "\n",
    "    # iterasi\n",
    "    for i in range(2, n+1):\n",
    "        # mulai dari 2, lanjut selama i < n + 1\n",
    "        # sehingga iterasi terakhir adalah untuk i = n\n",
    "\n",
    "        hasil = hasil * i\n",
    "\n",
    "        # tambahkan tiap hasil baru ke list\n",
    "        kolom_kiri.append(i)\n",
    "        kolom_kanan.append(hasil)\n",
    "    \n",
    "    tabel_mentah = []\n",
    "    for i in range(0,n):\n",
    "        # sampai indeks (n-1)\n",
    "        # nilai n tergantung banyaknya iterasi\n",
    "\n",
    "        calon_baris = []\n",
    "        calon_baris.append(kolom_kiri[i])\n",
    "        calon_baris.append(kolom_kanan[i])\n",
    "        tabel_mentah.append(calon_baris)\n",
    "    \n",
    "    # mengolah tabel di dalam fungsi\n",
    "    tabel_olahan = tabulate(tabel_mentah, headers=[\"i\", \"faktorial\"])\n",
    "    return tabel_olahan\n",
    "\n",
    "tabel_jadi = TabelFaktorial(5)\n",
    "print(tabel_jadi)"
   ]
  },
  {
   "cell_type": "markdown",
   "metadata": {},
   "source": [
    "Tentu saja, nilai 5 itu selalu bisa diganti menjadi sembarang bilangan bulat positif, seperti 7, 10, 15, 22, atau bahkan lebih besar lagi, dan banyaknya baris akan menyesuaikan, karena pembentukan tabel dilakukan secara otomatis."
   ]
  },
  {
   "cell_type": "code",
   "execution_count": null,
   "metadata": {},
   "outputs": [
    {
     "name": "stdout",
     "output_type": "stream",
     "text": [
      "  i               faktorial\n",
      "---  ----------------------\n",
      "  1                       1\n",
      "  2                       2\n",
      "  3                       6\n",
      "  4                      24\n",
      "  5                     120\n",
      "  6                     720\n",
      "  7                    5040\n",
      "  8                   40320\n",
      "  9                  362880\n",
      " 10                 3628800\n",
      " 11                39916800\n",
      " 12               479001600\n",
      " 13              6227020800\n",
      " 14             87178291200\n",
      " 15           1307674368000\n",
      " 16          20922789888000\n",
      " 17         355687428096000\n",
      " 18        6402373705728000\n",
      " 19      121645100408832000\n",
      " 20     2432902008176640000\n",
      " 21    51090942171709440000\n",
      " 22  1124000727777607680000\n"
     ]
    }
   ],
   "source": [
    "tabel_jadi = TabelFaktorial(22)\n",
    "print(tabel_jadi)"
   ]
  },
  {
   "cell_type": "markdown",
   "metadata": {
    "id": "c66Ka0e4BIgF"
   },
   "source": [
    "### Metode Secant"
   ]
  },
  {
   "cell_type": "markdown",
   "metadata": {
    "id": "lZ_cBCh7Eoil"
   },
   "source": [
    "Pada Metode Newton dengan Beda Hingga, nilai $h$ konstan. Kalau kita punya dua tebakan awal yang saling dekat, misal $p_0$ dan $p_1$, kita bisa saja memanfaatkannya dengan memasang $h = p_1 - p_0$. Bahkan, ketika iterasi $p_n$ sudah semakin dekat menuju akar, jarak antara $p_{n-1}$ dan $p_{n-2}$ menjadi semakin kecil. Sehingga, dengan memasang nilai $h = p_{n-2} - p_{n-1}$ atau $h = p_{n-1} - p_{n-2}$, kita berhasil membuat limit $h$ menuju nol.\n",
    "\n",
    "Modifikasi ini disebut Metode Secant, dengan iterasi sebagai berikut untuk menentukan penyelesaian $f(x) = 0$ dengan fungsi $f$ yang kontinu:\n",
    "\n",
    "\\begin{align*}\n",
    "p_n &= p_{n-1} - \\frac{f(p_{n-1})}{\\left(\\frac{f(p_{n-1})-f(p_{n-2})}{p_{n-1}-p_{n-2}}\\right)} \\\\\n",
    "&= p_{n-1} - \\frac{f(p_{n-1})(p_{n-1} - p_{n-2})}{f(p_{n-1}) - f(p_{n-2})}\n",
    "\\end{align*}\n",
    "\n",
    "Dibandingkan Metode Newton yang biasa, Metode Secant menggantikan $f'(p_{n-1})$ dengan\n",
    "\n",
    "$$f'(p_{n-1}) \\approx \\frac{f(p_{n-1}) - f(p_{n-2})}{p_{n-1} - p_{n-2}}$$\n",
    "\n",
    "sehingga, tidak seperti Metode Newton yang hanya memerlukan satu tebakan awal, Metode Secant membutuhkan dua tebakan awal, yaitu $p_0$ dan $p_1$. Namun, dibandingkan dengan Metode Newton dengan Beda Hingga, nilai $h$ atau beda hingga tersebut tidak perlu ditentukan secara manual.\n",
    "\n",
    "Menariknya, Metode Secant memiliki *order of convergence = $\\phi \\approx 1.618$.*"
   ]
  },
  {
   "cell_type": "code",
   "execution_count": 10,
   "metadata": {},
   "outputs": [],
   "source": [
    "def Secant(f,p0,p1,tolerance):\n",
    "    p = p1 - (f(p1)*(p1-p0))/(f(p1)-f(p0))\n",
    "    abs_error = abs(p-p1)\n",
    "    p0 = p1\n",
    "    p1 = p\n",
    "\n",
    "    while abs_error > tolerance:\n",
    "        p = p1 - (f(p1)*(p1-p0))/(f(p1)-f(p0))\n",
    "        abs_error = abs(p-p1)\n",
    "        p0 = p1\n",
    "        p1 = p\n",
    "    return p"
   ]
  },
  {
   "cell_type": "code",
   "execution_count": 18,
   "metadata": {
    "colab": {
     "base_uri": "https://localhost:8080/"
    },
    "id": "Pmn-doK4GWvB",
    "outputId": "7cb488cd-20e7-4972-b370-0105b2e9ed82"
   },
   "outputs": [
    {
     "name": "stdout",
     "output_type": "stream",
     "text": [
      "Masukkan formula fungsi: 2*x - 3*cos(x) + exp(-5*x) - 9\n",
      "Masukkan titik awal pertama: -1\n",
      "Masukkan titik awal kedua: -2\n",
      "Masukkan toleransi aproksimasi: 10**(-7)\n",
      "Akar dari persamaan f(x) = 2*x - 3*cos(x) + exp(-5*x) - 9 adalah x = -0.5073224866425831\n"
     ]
    }
   ],
   "source": [
    "from numpy import sin, cos, tan, log, exp, sqrt\n",
    "formula = input(\"Masukkan formula fungsi: \")\n",
    "\n",
    "def f(x):\n",
    "    return eval(formula)\n",
    "\n",
    "titik_1 = eval(input(\"Masukkan titik awal pertama: \"))\n",
    "titik_2 = eval(input(\"Masukkan titik awal kedua: \"))\n",
    "tolerance = eval(input(\"Masukkan toleransi aproksimasi: \"))\n",
    "\n",
    "akar_secant = Secant(f,titik_1,titik_2,tolerance)\n",
    "\n",
    "print(f\"Akar dari persamaan f(x) = {formula} adalah x = {akar_secant}\")"
   ]
  },
  {
   "cell_type": "markdown",
   "metadata": {
    "id": "16YblU9VWO_u"
   },
   "source": [
    "### Metode Regula Falsi (penjelasan tanpa kode)"
   ]
  },
  {
   "cell_type": "markdown",
   "metadata": {
    "id": "XvZFJuDuWQb6"
   },
   "source": [
    "Sejauh ini, kita sudah membahas beberapa metode *root-finding* atau aproksimasi akar, yaitu:\n",
    "\n",
    "* Metode Bisection\n",
    "* Metode Fixed-Point\n",
    "* Metode Newton biasa (dengan turunan analitik)\n",
    "* Metode Newton dengan Beda Hingga (*finite-difference Newton's method*)\n",
    "* Metode Secant\n",
    "\n",
    "Di antara semua metode tersebut, hanya Metode Bisection yang dijamin konvergen menuju akar di interval yang diberikan; semua metode lain ada kemungkinan divergen (menjauh dari akar, seperti metode fixed-point) atau gagal karena terjadi pembagian nol. Sayangnya, Metode Bisection termasuk metode yang pelan di antara metode numerik lainnya.\n",
    "\n",
    "Untuk menjaga jaminan kekonvergenan oleh Metode Bisection tetapi memperbaiki kecepatan kekonvergenannya, kita bisa memodifikasi Metode Bisection, yaitu memodifikasi cara menentukan $p$ yang baru yang akan mempersempit interval. Perhatikan bahwa Metode Bisection membutuhkan dua \"tebakan awal\" (lebih tepatnya dua batasan interval), sedangkan metode di atas yang juga membutuhkan dua tebakan awal hanyalah Metode Secant.\n",
    "\n",
    "Apakah kita bisa menggunakan Metode Bisection, tetapi dengan modifikasi menentukan $p$ seperti Metode Secant, agar mendapatkan *order of convergence* seperti Metode Secant?\n",
    "\n",
    "Jawabannya adalah bisa, dan modifikasi tersebut dinamakan Metode Regula Falsi. Sehingga, Metode Regula Falsi bisa disebut perpaduan antara Metode Bisection dan Metode Secant.\n",
    "\n",
    "Sebenarnya, perbedaan algoritma Metode Bisection dan Metode Regula Falsi hanya di satu baris saja, yaitu mengubah baris\n",
    "\n",
    "$$p=\\frac{a+b}{2}$$\n",
    "\n",
    "menjadi\n",
    "\n",
    "$$p = b - \\frac{f(b)(b-a)}{f(b) - f(a)}$$\n",
    "\n",
    "sesuai Metode Secant. Perhatikan bahwa Metode Secant biasanya membutuhkan dua tebakan awal yang tidak harus sama dengan batasan interval, sedangkan Metode Regula Falsi secara otomatis menggunakan kedua batasan interval $[a,b]$ sebagai dua tebakan awal.\n",
    "\n",
    "Untuk pembuatan kode Metode Regula Falsi, kami serahkan ke kalian. Gampang, kok! Tinggal mengubah beberapa baris saja (baris yang menentukan nilai $p$ yang baru) pada kode Metode Bisection, yaitu mengambil baris tersebut dari kode Metode Secant, kemudian menyesuaikan kedua tebakan awal menjadi kedua batasan interval.\n",
    "\n",
    "Seperti Metode Secant, Metode Regula Falsi juga memiliki *order of convergence = $\\phi \\approx 1.618$.*"
   ]
  },
  {
   "cell_type": "markdown",
   "metadata": {
    "id": "BQcz7A8SumF2"
   },
   "source": [
    "### Apa itu barisan? (penjelasan tanpa kode)"
   ]
  },
  {
   "cell_type": "markdown",
   "metadata": {
    "id": "eBsiN2enuoXx"
   },
   "source": [
    "Suatu \"barisan\" (*sequence*) adalah sekumpulan angka yang berurut. Artinya, pada suatu barisan, ada yang bisa disebut angka pertama (atau suku pertama), angka kedua (suku kedua), angka ketiga (suku ketiga), dan sebagainya. Banyaknya suku bisa berhingga maupun tak terhingga.\n",
    "\n",
    "Suku-suku pada suatu barisan itu bisa saja ditentukan secara manual atau sesuka hati, atau bisa juga menggunakan rumus. Intinya, suku-suku suatu barisan itu bisa diperoleh dari manapun, bahkan dari hasil iterasi metode numerik ($p_0$, $p_1$, $p_2$, $p_3$, ...) juga bisa.\n",
    "\n",
    "Oleh karena itu, contoh barisan berhingga adalah hasil iterasi fixed-point, misalnya dengan $g(x) = 1 + \\frac{1}{x}$, tebakan awal $p_0 = 2$, dan batas toleransi $10^{-7}$:\n",
    "\n",
    "\\begin{align*}\n",
    "(& 1.5, 1.6666666666666665, 1.6, \\\\\n",
    "& 1.625, 1.6153846153846154, \\\\\n",
    "& 1.619047619047619, \\dots, \\\\\n",
    "& 1.6180339631667064)\n",
    "\\end{align*}\n",
    "\n",
    "Proses tersebut berakhir setelah 17 iterasi, sehingga barisan tersebut memiliki 17 suku.\n",
    "\n",
    "Barisan tersebut bisa diberi nama, seperti $p_n$ dengan $n = 1, 2, 3, \\dots, 17$, yang bisa dituliskan $\\left\\{p_n\\right\\}_{n=1}^{17}$ dengan kurung kurawal.\n",
    "\n",
    "Contoh barisan tak berhingga adalah barisan aritmetika dan barisan geometri, seperti:\n",
    "\n",
    "$$(-5, -2, 1, 4, 7, 10, 13, 16, 19, \\dots)$$\n",
    "\n",
    "$$\\left(16, 8, 4, 2, 1, \\frac{1}{2}, \\frac{1}{4}, \\frac{1}{8}, \\dots\\right)$$\n",
    "\n",
    "Barisan tak berhingga dengan nama $p_n$ yang mulai dari suku $n=1$ bisa ditulis $\\left\\{p_n\\right\\}_{n=1}^{\\infty}$ dengan kurung kurawal, atau singkatnya $(p_n)$ saja dengan kurung biasa (dengan begitu, biasanya ada asumsi bahwa barisan tersebut tak berhingga)."
   ]
  },
  {
   "cell_type": "markdown",
   "metadata": {
    "id": "GPi2kbG2WVf-"
   },
   "source": [
    "### Metode Aitken\n"
   ]
  },
  {
   "cell_type": "markdown",
   "metadata": {
    "id": "o7vE1edR8nyJ"
   },
   "source": [
    "Alexander Aitken menemukan bahwa, untuk sembarang barisan (termasuk sembarang metode numerik) yang memiliki kekonvergenan linier, untuk nilai $n$ yang besar, berlaku\n",
    "\n",
    "$$\\frac{p_{n+1} - p}{p_n - p} \\approx \\frac{p_{n+2} - p}{p_{n+1} - p}$$\n",
    "\n",
    "di mana $p$ adalah nilai yang ingin dicari, sedangkan $p_n$, $p_{n+1}$, dan $p_{n+2}$ adalah tiga suku barisan (atau tiga hasil aproksimasi) berturut-turut. Artinya, perbandingan error (*error ratio*) antar dua pasang hasil iterasi (diperoleh dari tiga hasil iterasi berturut-turut) menjadi kurang lebih sama. Dengan manipulasi aljabar, diperoleh\n",
    "\n",
    "$$p \\approx p_n - \\frac{\\left(p_{n+1} - p_n\\right)^2}{p_{n+2} - 2p_{n+1} + p_n}$$\n",
    "\n",
    "seolah-olah ada jalur pintas untuk langsung mendapatkan nilai yang ingin dicari.\n",
    "\n",
    "Tentu saja, sebelum menggunakan rumus ini, kita perlu menemukan tiga hasil aproksimasi pertama, yaitu $p_0$, $p_1$, dan $p_2$. Kemudian, barulah kita tentukan $p_3$ menggunakan rumus Aitken (hasil rumus Aitken biasa disebut $\\hat{p}_n$, sehingga bisa ditulis $p_3 = \\hat{p}_0$, karena perhitungan $p_3$ memanfaatkan $p_0$, $p_1$ dan $p_2$).\n",
    "\n",
    "Variabel $\\hat{p}$ biasa disebut *p-hat* atau *p-cap* (kata \"hat\" atau \"cap\" artinya topi).\n",
    "\n",
    "Apabila kita definisikan $\\Delta p_n = p_{n+1} - p_n$ dan $\\Delta^2 p_n = p_{n+2} - 2p_{n+1} + p_n$, rumus Aitken bisa ditulis\n",
    "\n",
    "$$\\hat{p}_n = p_n - \\frac{(\\Delta p_n)^2}{\\Delta^2 p_n}$$\n",
    "\n",
    "sehingga teknik ini biasa disebut *Aitken's delta-squared ($\\Delta^2$) method*.\n",
    "\n",
    "**Catatan**: dalam pembahasan metode Aitken/Steffensen, penulisan $\\Delta^2$ BUKAN berarti $(\\Delta)^2$. Itu hanya penulisan saja.\n",
    "\n",
    "Secara umum, apabila kita punya suku-suku suatu barisan yang berturut-turut yaitu $p_1, p_2, p_3, \\dots, p_{k-3}, p_{k-2}, p_{k-1}, p_{k}$, maka rumus Aitken bisa digunakan untuk menentukan $\\hat{p}_1, \\hat{p}_2, \\hat{p}_3, \\dots, \\hat{p}_{k-3}, \\hat{p}_{k-2}$, yang semuanya merupakan aproksimasi nilai yang lebih akurat untuk hasil konvergen dari barisan tersebut (dengan asumsi kekonvergenan linier).\n",
    "\n",
    "Perhatikan:\n",
    "- Kita hanya bisa berhenti sampai $\\hat{p}_{k-2}$, karena perhitungannya membutuhkan $p_{k-2}$, $p_{k-1}$ dan $p_k$.\n",
    "- Harus ada minimal 3 suku yang diketahui, artinya $k \\ge 3$."
   ]
  },
  {
   "cell_type": "code",
   "execution_count": null,
   "metadata": {},
   "outputs": [],
   "source": [
    "def Aitken(p):\n",
    "    k = len(p)\n",
    "    if k < 3:\n",
    "        return \"Maaf, dibutuhkan minimal 3 suku yang diketahui.\"\n",
    "    \n",
    "    # kalau lanjut ke sini, artinya k >= 3\n",
    "    list_phat = []\n",
    "    for i in range(k-2):\n",
    "        Delta = p[i+1] - p[i]\n",
    "        DeltaSquared = p[i+2] - 2 * p[i+1] + p[i]\n",
    "        phat = p[i] - (Delta)**2 / DeltaSquared\n",
    "        list_phat.append(phat)\n",
    "    return list_phat"
   ]
  },
  {
   "cell_type": "code",
   "execution_count": 18,
   "metadata": {
    "colab": {
     "base_uri": "https://localhost:8080/"
    },
    "id": "VeuLUP2XCGFm",
    "outputId": "83602a68-58d8-44f9-e9c1-6d5a5426ab9c"
   },
   "outputs": [
    {
     "name": "stdout",
     "output_type": "stream",
     "text": [
      "Masukkan list suku-suku yang diketahui: [2, 1.5, 1.6666666666666665, 1.6, 1.625]\n",
      "Berikut hasil metode Aitken:\n",
      "[1.625, 1.619047619047619, 1.6181818181818182]\n"
     ]
    }
   ],
   "source": [
    "try:\n",
    "    # input suatu list\n",
    "    p = eval(input(\"Masukkan list suku-suku yang diketahui: \"))\n",
    "except:\n",
    "    print(\"Maaf, terjadi error. Harap masukkan list dengan benar.\")\n",
    "else: # kalau tidak terjadi error \n",
    "    print(\"Berikut hasil metode Aitken:\") \n",
    "    print(Aitken(p))"
   ]
  },
  {
   "cell_type": "markdown",
   "metadata": {
    "id": "CBH84y5KWdgT"
   },
   "source": [
    "### Metode Steffensen: Penerapan Metode Aitken pada Metode Fixed Point"
   ]
  },
  {
   "cell_type": "markdown",
   "metadata": {
    "id": "HwBsEjpPAXiL"
   },
   "source": [
    "Aitken hanya menemukan rumus. Johan Frederik Steffensen menemukan bahwa, karena Metode Fixed-Point memiliki kekonvergen linier, metode Aitken bisa digunakan untuk mempercepat Metode Fixed-Point.\n",
    "\n",
    "Secara umum, apabila kita berselang-seling antara menggunakan suatu metode dan rumus Aitken (misalnya setelah memperoleh tiga hasil aproksimasi), kita dapat mempercepat kekonvergenan (*accelerating convergence*), seolah-olah *order of convergence* menjadi lebih besar dari 1. Namun, bagaimana cara selang-selingnya?\n",
    "\n",
    "Menurut Steffensen, rumus Aitken bisa digunakan tiap tiga iterasi fixed-point, yaitu untuk $p_3$, $p_6$, $p_9$, dan seterusnya.\n",
    "\n",
    "Kita bisa memodifikasi rumus Aitken dengan menggeser indeks $n$, yaitu menukar $n$ dengan $n-3$, untuk mendapatkan rumus iterasi:\n",
    "\n",
    "$$\\hat{p} = p_{n-3} - \\frac{\\left(p_{n-2} - p_{n-3}\\right)^2}{p_{n-1} - 2p_{n-2} + p_{n-3}}$$\n",
    "\n",
    "dan dalam hal ini, kita juga bisa mendefinisikan $\\Delta_1 = p_{n-2} - p_{n-3}$ dan $\\Delta_2 = p_{n-1} - 2p_{n-2} + p_{n-3}$ untuk mendapatkan bentuk:\n",
    "\n",
    "$$\\hat{p} = p_{n-3} - \\frac{(\\Delta_1)^2}{(\\Delta_2)}$$"
   ]
  },
  {
   "cell_type": "code",
   "execution_count": 22,
   "metadata": {},
   "outputs": [],
   "source": [
    "def Steffensen(g, p0, tolerance):\n",
    "    # list semua nilai p agar mudah diakses\n",
    "    list_p = [p0]\n",
    "\n",
    "    # nilai sementara\n",
    "    abs_error = tolerance + 1 \n",
    "\n",
    "    iterasi = 1 # penghitung banyaknya iterasi\n",
    "    while abs_error >= tolerance:\n",
    "        if iterasi % 3 == 0: # untuk kelipatan tiga, gunakan rumus Aitken\n",
    "            pn_3 = list_p[iterasi - 3] # p_(n-3)\n",
    "            pn_2 = list_p[iterasi - 2] # p_(n-2)\n",
    "            pn_1 = list_p[iterasi - 1] # p_(n-1)\n",
    "            Delta1 = pn_2 - pn_3\n",
    "            Delta2 = pn_1 - 2 * pn_2 + pn_3\n",
    "            pn = pn_3 - (Delta1)**2 / Delta2\n",
    "        else: # selain kelipatan 3, gunakan fixed point\n",
    "            pn_1 = list_p[iterasi - 1]\n",
    "            pn = g(pn_1)\n",
    "        \n",
    "        list_p.append(pn)\n",
    "        abs_error = abs( pn - pn_1 )\n",
    "        iterasi += 1\n",
    "    \n",
    "    # return bukan hanya p, tetapi juga banyaknya iterasi\n",
    "    return pn, iterasi"
   ]
  },
  {
   "cell_type": "code",
   "execution_count": 25,
   "metadata": {
    "colab": {
     "base_uri": "https://localhost:8080/"
    },
    "id": "zhdrLaJRiUNB",
    "outputId": "ca037e0b-f371-4a1e-b0e5-655c56b83675",
    "scrolled": false
   },
   "outputs": [
    {
     "name": "stdout",
     "output_type": "stream",
     "text": [
      "Masukkan formula g(x): 1 + 1/x\n",
      "Masukkan titik awal iterasi: 2\n",
      "Masukkan batas toleransi: 10**(-7)\n",
      "Metode Steffensen\n",
      "Hasil: 1.618033988749648\n",
      "setelah banyaknya iterasi: 11\n",
      "Bandingkan banyaknya iterasi dengan Metode Fixed-Point biasa:\n",
      "+---------+--------------------+\n",
      "| iterasi |    Aproksimasi     |\n",
      "+---------+--------------------+\n",
      "|    1    |        1.5         |\n",
      "|    2    | 1.6666666666666665 |\n",
      "|    3    |        1.6         |\n",
      "|    4    |       1.625        |\n",
      "|    5    | 1.6153846153846154 |\n",
      "|    6    | 1.619047619047619  |\n",
      "|    7    | 1.6176470588235294 |\n",
      "|    8    | 1.6181818181818182 |\n",
      "|    9    | 1.6179775280898876 |\n",
      "|   10    | 1.6180555555555556 |\n",
      "|   11    | 1.6180257510729614 |\n",
      "|   12    | 1.6180371352785146 |\n",
      "|   13    | 1.6180327868852458 |\n",
      "|   14    | 1.618034447821682  |\n",
      "|   15    | 1.618033813400125  |\n",
      "|   16    | 1.6180340557275543 |\n",
      "|   17    | 1.6180339631667064 |\n",
      "+---------+--------------------+\n"
     ]
    }
   ],
   "source": [
    "from numpy import sin, cos, tan, log, exp, sqrt\n",
    "\n",
    "formula = input(\"Masukkan formula g(x): \")\n",
    "\n",
    "def g(x):\n",
    "    return eval(formula)\n",
    "\n",
    "starting_point = eval(input(\"Masukkan titik awal iterasi: \"))\n",
    "tolerance = eval(input(\"Masukkan batas toleransi: \"))\n",
    "\n",
    "p_steffensen, i_steffensen = Steffensen(g, starting_point, tolerance)\n",
    "\n",
    "print(\"Metode Steffensen\")\n",
    "print(\"Hasil: \" + str(p_steffensen))\n",
    "print(\"setelah banyaknya iterasi: \" + str(i_steffensen))\n",
    "\n",
    "print(\"Bandingkan banyaknya iterasi dengan Metode Fixed-Point biasa:\")\n",
    "\n",
    "fixpoint_hasil, fixpoint_tabel = FixedPoint(g, starting_point, tolerance)\n",
    "print(fixpoint_tabel)"
   ]
  },
  {
   "cell_type": "code",
   "execution_count": null,
   "metadata": {},
   "outputs": [],
   "source": []
  }
 ],
 "metadata": {
  "colab": {
   "provenance": []
  },
  "kernelspec": {
   "display_name": "Python 3 (ipykernel)",
   "language": "python",
   "name": "python3"
  },
  "language_info": {
   "codemirror_mode": {
    "name": "ipython",
    "version": 3
   },
   "file_extension": ".py",
   "mimetype": "text/x-python",
   "name": "python",
   "nbconvert_exporter": "python",
   "pygments_lexer": "ipython3",
   "version": "3.10.11"
  }
 },
 "nbformat": 4,
 "nbformat_minor": 1
}
