{
  "cells": [
    {
      "cell_type": "markdown",
      "metadata": {
        "id": "pJ20RpNOvLPO"
      },
      "source": [
        "# **Tugas 1 Praktikum Metode Numerik**"
      ]
    },
    {
      "cell_type": "markdown",
      "metadata": {},
      "source": [
        "Kembali ke [Metode Numerik](./metnum2024genap.qmd)"
      ]
    },
    {
      "cell_type": "markdown",
      "metadata": {},
      "source": [
        "Semester Genap Tahun Ajaran 2023/2024"
      ]
    },
    {
      "cell_type": "markdown",
      "metadata": {},
      "source": [
        "Petunjuk Umum:\n",
        "\n",
        "1. Kerjakan secara individu.\n",
        "\n",
        "2. Kerjakan tugas ini menggunakan bahasa pemrograman Python dengan file format berupa interactive Python notebook (yaitu file berbentuk **.ipynb** BUKAN .py), yang bisa dibuat misalnya menggunakan Jupyter Notebook atau Google Colaboratory.\n",
        "\n",
        "3. **Harap sertakan penjelasan untuk setiap variabel yang digunakan dan setiap proses secara singkat** di samping potongan kode (dengan comment, ‘#'). Selain itu, **sertakan juga penjelasan program** (yang bisa mencakupi idenya apa, bagaimana cara eksekusi program, atau tentang algoritma program yang digunakan) **pada cell di sebelah (atas/bawah) program**.\n",
        "\n",
        "4. Format nama file untuk Tugas 1 adalah:\n",
        "\n",
        "    **Nama Lengkap_NPM_Kelas SIAK_Tugas1PrakMetnum.ipynb**\n",
        "\n",
        "    Contoh penamaan yang benar:\n",
        "\n",
        "    Luthfi Athallah Herdita Wiryaman_2206826980_Kelas G_Tugas1PrakMetnum.ipynb\n",
        "\n",
        "5. Pengumpulan tugas dilakukan ke Google Forms berikut ini, sesuai dengan kelas Anda di SIAK NG (link akan selalu sama untuk semua tugas praktikum metode numerik):\n",
        "\n",
        "    - Kelas A: <https://forms.gle/AaWvGqEmY1nyx2d48>\n",
        "\n",
        "    - Kelas B: <https://forms.gle/f433d9oJozgkdKZv5>\n",
        "\n",
        "    - Kelas C: <https://forms.gle/iQbibikmgEacst8Z8>\n",
        "\n",
        "    - Kelas D: <https://forms.gle/8F5D9hha2yEstd6z8>\n",
        "\n",
        "    - Kelas E: <https://forms.gle/xz9fpedj9JLXHJH37>\n",
        "\n",
        "    - Kelas F: <https://forms.gle/Ho7kbabuJUopkAP78>\n",
        "\n",
        "6. Durasi pengerjaan Tugas 1 ini adalah **2 (dua) minggu**, dan tenggat waktu (deadline) pengumpulan Tugas 1 ini adalah:\n",
        "\n",
        "    **Sabtu, 23 Maret 2024, pukul 23.59 WIB**.\n",
        "\n",
        "    Mohon manfaatkan waktu Anda dengan baik (seperti mencicil pengerjaan, bahkan sudah selesai dari jauh-jauh hari) agar mengumpulkan tugas sebelum deadline. Keterlambatan pengumpulan bisa dikenakan pengurangan nilai atau bahkan dianggap tidak mengumpulkan, tergantung kesepakatan dari dosen. Meskipun demikian, lebih baik terlambat mengumpulkan daripada tidak mengumpulkan sama sekali.\n",
        "\n",
        "7. Sesuai standar Universitas Indonesia, plagiarisme dilarang keras dan bisa menyebabkan nilai tugas praktikum menjadi nol untuk semua pihak yang terlibat, tanpa peringatan apapun.\n",
        "\n",
        "8. *Module* atau *package* Python yang boleh digunakan (di-*import*) untuk Tugas 1 ini hanyalah NumPy, Tabulate, dan SymPy. Apabila Anda berniat ingin menggunakan module lain, harap konfirmasikan ke narahubung terlebih dahulu (bisa saja diperbolehkan).\n",
        "\n",
        "9. Narahubung untuk Tugas 1 Praktikum Metode Numerik adalah:\n",
        "    - Zaki - LINE: linenyazaki\n",
        "    - Pandu - LINE: pandyadaffa\n",
        "    - Dahut - LINE: narendrahutapea\n",
        "    - Dani - LINE: 123_dani"
      ]
    },
    {
      "cell_type": "markdown",
      "metadata": {
        "id": "oQSKgjswwRor"
      },
      "source": [
        "# **Soal Tugas 1 Praktikum Metode Numerik**"
      ]
    },
    {
      "cell_type": "markdown",
      "metadata": {},
      "source": [
        "## **Ketentuan Soal**"
      ]
    },
    {
      "cell_type": "markdown",
      "metadata": {},
      "source": [
        "Buatlah suatu program yang bisa menerima input untuk mengaproksimasi akar dari fungsi $f(x)$ pada interval $[0.01, 0.4+(t+1)/10]$, dengan  $t = (\\text{NPM} \\mod 3) - 1$ , dan\n",
        "\n",
        "\\begin{equation}\n",
        "    f(x) = \\frac{\\cos^3\\left(a\\right)}{\\sqrt{1+\\cos^2(t)}\\ln(x+x^2)\\cos^3\\left(b\\right)}\n",
        "\\end{equation}\n",
        "\n",
        "dengan\n",
        "\n",
        "\\begin{align*}\n",
        "    a &= \\dfrac{x^2+x-2}{(3x^3-x^2+3x-1)^t}\\\\\n",
        "    b &= \\dfrac{x}{(x^2-4x+8)^{2-t}}\n",
        "\\end{align*}\n",
        "\n",
        "**Note: pada python (NumPy dan SymPy), notasi $\\ln(x)$ dinyatakan dengan fungsi log(x)**\n",
        "\n",
        "serta batas toleransi $10^{-6}$ atau enam angka di belakang koma **(menggunakan *Absolute Error*)**, dan batasan $50$ iterasi (sehingga metode dipaksa berhenti setelah $50$ iterasi walaupun batas toleransi belum tercapai, agar tidak mungkin terjadi infinite loop). Perhatikan bahwa fungsi Anda beserta intervalnya mengandung $t$, yang berarti setiap fungsi berbeda-beda tergantung NPM Anda."
      ]
    },
    {
      "cell_type": "markdown",
      "metadata": {},
      "source": [
        "## **Metode yang Digunakan**"
      ]
    },
    {
      "cell_type": "markdown",
      "metadata": {},
      "source": [
        "Metode aproksimasi akar yang wajib Anda gunakan adalah:\n",
        "\n",
        "- **[30]** Metode Bisection (tampilkan titik tengah saja); dan\n",
        "- **[30]** Metode Fixed-Point (dengan $g(x)=x-f(x)$) dan tebakan awal = batas atas interval.\n",
        "\n",
        "Selain itu, terdapat metode aproksimasi akar yang **tidak wajib** kalian buat, namun apabila dikerjakan akan menjadi nilai tambah apabila terdapat kekurangan pada program yang telah kalian buat. Metode tambahan yang dapat digunakan adalah:\n",
        "\n",
        "- Metode Regula Falsi (tampilkan titik tengah saja); dan\n",
        "- Metode Steffensen (dengan $g(x)=x-f(x)$) dan tebakan awal = batas atas interval."
      ]
    },
    {
      "cell_type": "markdown",
      "metadata": {},
      "source": [
        "## **Tabel Iterasi**"
      ]
    },
    {
      "cell_type": "markdown",
      "metadata": {},
      "source": [
        "- **[15]** Dalam menampilkan hasil iterasi dari metode-metode yang digunakan, program diharapkan bisa menampilkan satu tabel iterasi yang membandingkan keseluruhan metode yang kalian buat.\n",
        "- **[5]** Ketika salah satu metode mencapai batas toleransi sebelum metode lainnya, diharapkan sisa data pada tabel menjadi kata “Selesai”, kata “Fin” (atau “Finished”), huruf “V” (centang), atau semacamnya (jangan lupa berikan keterangan arti kata/hurufnya) yang menandakan bahwa metode tersebut telah selesai sebelum metode lainnya."
      ]
    },
    {
      "cell_type": "markdown",
      "metadata": {},
      "source": [
        "## **Error Handling**"
      ]
    },
    {
      "cell_type": "markdown",
      "metadata": {},
      "source": [
        "- **[5]** Program diharapkan tidak menjadi error ketika ada pembagian nol, melainkan program tetap menampilkan tabel iterasi, dengan data “NaN” (dari NumPy) untuk mengisi kekosongan hasil iterasi setelah terjadinya pembagian nol atau ketika program gagal menemukan akar karena hal lain (misalkan pada bisection jika $f(a)\\cdot f(b)>0$)."
      ]
    },
    {
      "cell_type": "markdown",
      "metadata": {},
      "source": [
        "## **Kerapian Program**"
      ]
    },
    {
      "cell_type": "markdown",
      "metadata": {},
      "source": [
        "- **[5]** Keseluruhan program Anda dikemas di dalam satu subprogram atau fungsi (*function*) yang bisa menerima sembarang fungsi, batas toleransi, batas iterasi, interval dan/atau satu/dua tebakan awal (boleh melalui input user maupun melalui argumen/parameter fungsi).\n",
        "- **[5]** Program Anda bisa berjalan berulang kali (dengan beberapa kali *input* dan *output*) sesuai permintaan user, tanpa harus berhenti dan di-*run* ulang secara manual terlebih dahulu."
      ]
    },
    {
      "cell_type": "markdown",
      "metadata": {},
      "source": [
        "## **Kesimpulan**"
      ]
    },
    {
      "cell_type": "markdown",
      "metadata": {},
      "source": [
        "- **[5]** Bandingkan hasil dari tiap metode yang Anda gunakan. Analisa hasil yang Anda dapatkan pada tabel iterasi kemudian tuliskan kesimpulan dari hasil tersebut, yaitu dapat mengenai metode mana yang berhasil selesai dan memenuhi toleransi, metode mana yang paling cepat konvergen, metode mana yang gagal (jika ada), dan sebagainya."
      ]
    },
    {
      "cell_type": "markdown",
      "metadata": {
        "id": "ofk_a8cV0KGc"
      },
      "source": [
        "# **Contoh Output Program (Tanpa Metode Tambahan)**\n",
        "```\n",
        "Program ini akan menemukan akar persamaan f(x) secara numerik.\n",
        "Masukkan fungsi f(x) yang masih mengandung variabel t: (cos((x**2+x-2)/(3*x**3-x**2+3*x-1)**t)**3)\n",
        "Masukkan NPM anda: 2206039032\n",
        "maka, nilai t = -1\n",
        "\n",
        "Akan di input interval [a,b], boleh mengandung t\n",
        "Masukkan batas bawah interval (a): 0.01\n",
        "Masukkan batas atas interval (b): 0.4+(t+1)/10\n",
        "Interval yang digunakan adalah [0.01,0.4]\n",
        "Akan digunakan tebakan awal = b yaitu  0.4\n",
        "\n",
        "Masukkan toleransi aproksimasi: 10**(-6)\n",
        "Masukkan batas banyaknya iterasi: 50\n",
        "\n",
        "Hasil tabel iterasinya adalah:\n",
        "+---------+----------------------+-----------------------+\n",
        "| Iterasi |      Bisection       |      Fixed Point      |\n",
        "+---------+----------------------+-----------------------+\n",
        "|    1    | 0.20500000000000002  | -0.44313829739602917  |\n",
        "|    2    | 0.10750000000000001  |  -1.4424260895103362  |\n",
        "|    3    | 0.058750000000000004 |  -0.6209470717414348  |\n",
        "|    4    |       0.083125       | -0.010201211429113455 |\n",
        "|    5    |      0.0709375       |  0.10062011047956122  |\n",
        "|    6    |      0.06484375      |  0.08743833025632003  |\n",
        "|    7    |     0.061796875      |  0.08377133462059567  |\n",
        "|    8    |     0.0633203125     |  0.08152384817559924  |\n",
        "|    9    |    0.06408203125     |  0.07993532221389248  |\n",
        "|   10    |    0.063701171875    |  0.07872621544727694  |\n",
        "|   11    |   0.0635107421875    |  0.0777619908127115   |\n",
        "|   12    |   0.06341552734375   |  0.07696773936628871  |\n",
        "|   13    |  0.063463134765625   |  0.07629763725226675  |\n",
        "|   14    |  0.0634869384765625  |  0.07572172212774828  |\n",
        "|   15    | 0.06347503662109374  |  0.07521939930365738  |\n",
        "|   16    | 0.06348098754882812  |  0.07477594984732953  |\n",
        "|   17    | 0.06347801208496093  |  0.07438051879215093  |\n",
        "|   18    | 0.06347652435302734  |  0.07402489118428722  |\n",
        "|   19    | 0.06347578048706054  |  0.07370271375448255  |\n",
        "|   20    |          V           |  0.0734089814546904   |\n",
        "|   21    |          V           |  0.0731396880557624   |\n",
        "|   22    |          V           |  0.07289158198346714  |\n",
        "|   23    |          V           |  0.07266199171924287  |\n",
        "|   24    |          V           |  0.07244869840112196  |\n",
        "|   25    |          V           |  0.0722498411927703   |\n",
        "|   26    |          V           |  0.07206384586766701  |\n",
        "|   27    |          V           |  0.07188937014082135  |\n",
        "|   28    |          V           |  0.07172526128017487  |\n",
        "|   29    |          V           |  0.0715705228548453   |\n",
        "|   30    |          V           |  0.07142428837290485  |\n",
        "|   31    |          V           |  0.07128580017763203  |\n",
        "|   32    |          V           |  0.0711543924022303   |\n",
        "|   33    |          V           |  0.07102947708906422  |\n",
        "|   34    |          V           |  0.07091053279977598  |\n",
        "|   35    |          V           |  0.0707970952032519   |\n",
        "|   36    |          V           |  0.07068874924686823  |\n",
        "|   37    |          V           |  0.07058512260477016  |\n",
        "|   38    |          V           |  0.07048588016346201  |\n",
        "|   39    |          V           |  0.07039071935556289  |\n",
        "|   40    |          V           |  0.07029936619137478  |\n",
        "|   41    |          V           |  0.07021157186790909  |\n",
        "|   42    |          V           |  0.07012710985839757  |\n",
        "|   43    |          V           |  0.07004577340366697  |\n",
        "|   44    |          V           |  0.06996737334126438  |\n",
        "|   45    |          V           |  0.06989173621976105  |\n",
        "|   46    |          V           |  0.06981870265490095  |\n",
        "|   47    |          V           |  0.06974812589169789  |\n",
        "|   48    |          V           |  0.06967987054260602  |\n",
        "|   49    |          V           |  0.06961381147678823  |\n",
        "|   50    |          V           |  0.06954983283951428  |\n",
        "+---------+----------------------+-----------------------+\n",
        "Apakah Anda ingin menggunakan program ini lagi? (y/n) y\n",
        "Baik, program akan diulang.\n",
        "\n",
        "Program ini akan menemukan akar persamaan f(x) secara numerik.\n",
        "Masukkan fungsi f(x) yang masih mengandung variabel t: (log(x+x**2)*sqrt(1+(cos(t))**2)*(cos(x/(x**2-4*x+8)**(2-t)))**3)\n",
        "Masukkan NPM anda: 2201893835\n",
        "maka, nilai t = 1\n",
        "\n",
        "Akan di input interval [a,b], boleh mengandung t\n",
        "Masukkan batas bawah interval (a): 0.01\n",
        "Masukkan batas atas interval (b): 0.4+(t+1)/10\n",
        "Interval yang digunakan adalah [0.01,0.6000000000000001]\n",
        "Akan digunakan tebakan awal = b yaitu  0.6000000000000001\n",
        "\n",
        "Masukkan toleransi aproksimasi: 10**(-6)\n",
        "Masukkan batas banyaknya iterasi: 50\n",
        "\n",
        "Hasil tabel iterasinya adalah:\n",
        "+---------+-----------+---------------------+\n",
        "| Iterasi | Bisection |     Fixed Point     |\n",
        "+---------+-----------+---------------------+\n",
        "|    1    |    nan    | 0.6456982745559185  |\n",
        "|    2    |    nan    | 0.5779168339893419  |\n",
        "|    3    |    nan    | 0.6812964263612331  |\n",
        "|    4    |    nan    | 0.5301701706474318  |\n",
        "|    5    |    nan    | 0.7652983431663255  |\n",
        "|    6    |    nan    | 0.43309890621615643 |\n",
        "|    7    |    nan    | 0.9715634238930626  |\n",
        "|    8    |    nan    | 0.2728011958673453  |\n",
        "|    9    |    nan    | 1.4723687516368171  |\n",
        "|   10    |    nan    | 0.24726403227921012 |\n",
        "|   11    |    nan    | 1.5818837995653068  |\n",
        "|   12    |    nan    | 0.2992648256631105  |\n",
        "|   13    |    nan    | 1.3699237907874995  |\n",
        "|   14    |    nan    | 0.21557686238504137 |\n",
        "|   15    |    nan    |  1.735717804889641  |\n",
        "|   16    |    nan    | 0.3995242299592914  |\n",
        "|   17    |    nan    |  1.05663532291946   |\n",
        "|   18    |    nan    | 0.23455585637430887 |\n",
        "|   19    |    nan    | 1.6409441052939349  |\n",
        "|   20    |    nan    | 0.33431804052796776 |\n",
        "|   21    |    nan    |  1.248506262077559  |\n",
        "|   22    |    nan    | 0.20129212485417192 |\n",
        "|   23    |    nan    | 1.8129792339829307  |\n",
        "|   24    |    nan    | 0.4596537253135091  |\n",
        "|   25    |    nan    | 0.9097336044536548  |\n",
        "|   26    |    nan    | 0.3103399977285718  |\n",
        "|   27    |    nan    | 1.3299388656475428  |\n",
        "|   28    |    nan    | 0.20799527527890738 |\n",
        "|   29    |    nan    | 1.7760380384303953  |\n",
        "|   30    |    nan    | 0.4302053387620328  |\n",
        "|   31    |    nan    | 0.9785793992348167  |\n",
        "|   32    |    nan    | 0.2690701726843312  |\n",
        "|   33    |    nan    |  1.487669506585521  |\n",
        "|   34    |    nan    | 0.2534475685405051  |\n",
        "|   35    |    nan    | 1.5542966592710123  |\n",
        "|   36    |    nan    | 0.28451313945490897 |\n",
        "|   37    |    nan    | 1.4257607719874847  |\n",
        "|   38    |    nan    | 0.2307139893749448  |\n",
        "|   39    |    nan    | 1.6594641588226702  |\n",
        "|   40    |    nan    | 0.3462330493906103  |\n",
        "|   41    |    nan    | 1.2104254534327914  |\n",
        "|   42    |    nan    | 0.20230254890533117 |\n",
        "|   43    |    nan    | 1.8073298306841792  |\n",
        "|   44    |    nan    | 0.45507269831345476 |\n",
        "|   45    |    nan    | 0.9200816571177247  |\n",
        "|   46    |    nan    | 0.3034643634550732  |\n",
        "|   47    |    nan    | 1.3545744579732792  |\n",
        "|   48    |    nan    | 0.21233954428821655 |\n",
        "|   49    |    nan    |  1.752751027173883  |\n",
        "|   50    |    nan    | 0.41228930069594005 |\n",
        "+---------+-----------+---------------------+\n",
        "Apakah Anda ingin menggunakan program ini lagi? (y/n) n\n",
        "Terima kasih telah menggunakan program ini.\n",
        "\n",
        "```"
      ]
    },
    {
      "cell_type": "markdown",
      "metadata": {},
      "source": [
        "# **Contoh Output Program (Dengan Metode Tambahan)**\n",
        "```\n",
        "Program ini akan menemukan akar persamaan f(x) secara numerik.\n",
        "Masukkan fungsi f(x) yang masih mengandung variabel t: (x**2+x-2)/(3*x**3-x**2+3*x-1)\n",
        "Masukkan NPM anda: 2206099831\n",
        "maka, nilai t = 0\n",
        "\n",
        "Akan di input interval [a,b], boleh mengandung t\n",
        "Masukkan batas bawah interval (a): 0.01\n",
        "Masukkan batas atas interval (b): 0.4+(t+1)/10\n",
        "Interval yang digunakan adalah [0.01,0.5]\n",
        "Akan digunakan tebakan awal = b yaitu  0.5\n",
        "\n",
        "Masukkan toleransi aproksimasi: 10**(-6)\n",
        "Masukkan batas banyaknya iterasi: 50\n",
        "\n",
        "Hasil tabel iterasinya adalah:\n",
        "+---------+---------------------+--------------------+---------------------+--------------------+\n",
        "| Iterasi |      Bisection      |    Fixed Point     |    Regula Falsi     |     Steffensen     |\n",
        "+---------+---------------------+--------------------+---------------------+--------------------+\n",
        "|    1    |        0.255        |        2.5         | 0.25809864598658455 |        2.5         |\n",
        "|    2    |       0.3775        | 2.356763925729443  | 0.4459976725626445  | 2.356763925729443  |\n",
        "|    3    | 0.31625000000000003 | 2.208194298132219  | 0.38501111298947743 | 2.366336633663366  |\n",
        "|    4    | 0.34687500000000004 | 2.054360616009817  | 0.3162081268943068  | 2.218118504239242  |\n",
        "|    5    | 0.33156250000000004 | 1.8957621569213885 | 0.36937895044812413 | 2.0646215177430753 |\n",
        "|    6    |     0.33921875      | 1.7337003140477476 | 0.3532910403295327  | 6.5279598013629965 |\n",
        "|    7    | 0.33539062500000005 | 1.5709151561979338 | 0.3367375036902601  | 6.469797023236684  |\n",
        "|    8    |    0.3334765625     | 1.4125698888357008 |  0.319709281551605  | 6.411079176972605  |\n",
        "|    9    |    0.33251953125    | 1.2673944760965359 | 0.32319070362075275 | 12.622542662812682 |\n",
        "|   10    |   0.332998046875    | 1.147765906303001  | 0.3266524541918521  | 12.593790673749877 |\n",
        "|   11    |   0.3332373046875   | 1.0656162897157415 | 0.33009459643448025 | 12.564968743789217 |\n",
        "|   12    |  0.33335693359375   | 1.0227395293180288 | 0.3335171955178135  | 24.44219182967855  |\n",
        "|   13    |  0.333297119140625  | 1.0064959793605206 | 0.33027945293049854 | 24.427870243306565 |\n",
        "|   14    | 0.3333270263671875  | 1.001691870318942  | 0.3304642527316636  |  24.4135398953416  |\n",
        "|   15    | 0.33334197998046877 | 1.0004276066412328 | 0.33064899584837654 | 47.852071366184205 |\n",
        "|   16    | 0.3333345031738281  | 1.0001071985871681 | 0.3308336822910547  |  47.8449192469539  |\n",
        "|   17    | 0.3333307647705078  | 1.0000268183173837 | 0.3310183120701313  | 47.837766031942714 |\n",
        "|   18    | 0.33333263397216795 | 1.0000067057480326 | 0.33120288519605556 | 94.53367565836386  |\n",
        "|   19    |  0.333333568572998  | 1.000001676510079  | 0.3313874016792924  |  94.5301008610313  |\n",
        "|   20    |          V          | 1.000000419132087  | 0.3315718615303229  | 94.52652592670874  |\n",
        "|   21    |          V          | 1.0000001047833071 | 0.33175626475964376 | 187.81914408710898 |\n",
        "|   22    |          V          |         V          | 0.33194061137776754 | 187.81735686016322 |\n",
        "|   23    |          V          |         V          | 0.33212490139522255 | 187.81556961609317 |\n",
        "|   24    |          V          |         V          | 0.33230913482255287 | 374.3484675901818  |\n",
        "|   25    |          V          |         V          | 0.3324933116703182  | 374.34757399899667 |\n",
        "|   26    |          V          |         V          |  0.332677431949094  | 374.34668040567095 |\n",
        "|   27    |          V          |         V          | 0.33286149566947126 | 747.3854101202737  |\n",
        "|   28    |          V          |         V          | 0.33304550284205664 | 747.3849633274035  |\n",
        "|   29    |          V          |         V          | 0.3332294534774723  | 747.3845165342658  |\n",
        "|   30    |          V          |         V          | 0.3334133475863559  | 1493.6285550476991 |\n",
        "|   31    |          V          |         V          | 0.3333094816230831  | 1493.6283316785687 |\n",
        "|   32    |          V          |         V          | 0.33338949906604615 | 1493.6281083094048 |\n",
        "|   33    |          V          |         V          | 0.3333656495949465  | 2986.3844344035133 |\n",
        "|   34    |          V          |         V          | 0.3333417991730338  | 2986.3843227360207 |\n",
        "|   35    |          V          |         V          | 0.3333179478002847  | 2986.384211068524  |\n",
        "|   36    |          V          |         V          | 0.33332641385769063 | 6033.162647850129  |\n",
        "|   37    |          V          |         V          |  0.333334879795302  | 6033.1625925877415 |\n",
        "|   38    |          V          |         V          | 0.3333279603375448  | 6033.162537325353  |\n",
        "|   39    |          V          |         V          | 0.3333295068134016  |  9390.99585231643  |\n",
        "|   40    |          V          |         V          | 0.33333105328526114 | 9390.995816816398  |\n",
        "|   41    |          V          |         V          | 0.3333325997531233  | 9390.995781316366  |\n",
        "|   42    |          V          |         V          | 0.33333414621698815 |        nan         |\n",
        "|   43    |          V          |         V          | 0.3333334126377748  |        nan         |\n",
        "+---------+---------------------+--------------------+---------------------+--------------------+\n",
        "Apakah Anda ingin menggunakan program ini lagi? (y/n) y\n",
        "Baik, program akan diulang.\n",
        "\n",
        "Program ini akan menemukan akar persamaan f(x) secara numerik.\n",
        "Masukkan fungsi f(x) yang masih mengandung variabel t: (log(x+x**2)*sqrt(1+(cos(t))**2)*(cos(x/(x**2-4*x+8)**(2-t)))**3)\n",
        "Masukkan NPM anda: 2206099831\n",
        "maka, nilai t = 0\n",
        "\n",
        "Akan di input interval [a,b], boleh mengandung t\n",
        "Masukkan batas bawah interval (a): 0.01\n",
        "Masukkan batas atas interval (b): 0.4+(t+1)/10\n",
        "Interval yang digunakan adalah [0.01,0.5]\n",
        "Akan digunakan tebakan awal = b yaitu  0.5\n",
        "\n",
        "Masukkan toleransi aproksimasi: 10**(-6)\n",
        "Masukkan batas banyaknya iterasi: 50\n",
        "\n",
        "Hasil tabel iterasinya adalah:\n",
        "+---------+-----------+---------------------+--------------+---------------------+\n",
        "| Iterasi | Bisection |     Fixed Point     | Regula Falsi |     Steffensen      |\n",
        "+---------+-----------+---------------------+--------------+---------------------+\n",
        "|    1    |    nan    | 0.9067439121144031  |     nan      | 0.9067439121144031  |\n",
        "|    2    |    nan    | 0.13376939608543792 |     nan      | 0.13376939608543792 |\n",
        "|    3    |    nan    |  2.801080697198291  |     nan      | 0.6402373702871612  |\n",
        "|    4    |    nan    | -0.4599723691521471 |     nan      | 0.5710837540248893  |\n",
        "|    5    |    nan    |         nan         |     nan      | 0.7244041882230684  |\n",
        "|    6    |    nan    |         nan         |     nan      | 0.6187417278414383  |\n",
        "|    7    |    nan    |         nan         |     nan      |  0.616505776454439  |\n",
        "|    8    |    nan    |         nan         |     nan      | 0.6213411156888947  |\n",
        "|    9    |    nan    |         nan         |     nan      | 0.6180347170745699  |\n",
        "|   10    |    nan    |         nan         |     nan      | 0.6180324149924369  |\n",
        "|   11    |    nan    |         nan         |     nan      |  0.618037389318674  |\n",
        "|   12    |    nan    |         nan         |     nan      | 0.6180339887506665  |\n",
        "|   13    |    nan    |         nan         |     nan      | 0.6180339887482275  |\n",
        "+---------+-----------+---------------------+--------------+---------------------+\n",
        "Apakah Anda ingin menggunakan program ini lagi? (y/n) n\n",
        "Terima kasih telah menggunakan program ini.\n",
        "```"
      ]
    },
    {
      "cell_type": "markdown",
      "metadata": {},
      "source": []
    }
  ],
  "metadata": {
    "colab": {
      "provenance": []
    },
    "kernelspec": {
      "display_name": "Python 3",
      "name": "python3"
    },
    "language_info": {
      "name": "python"
    }
  },
  "nbformat": 4,
  "nbformat_minor": 0
}
