{
 "cells": [
  {
   "cell_type": "markdown",
   "metadata": {},
   "source": [
    "# Latihan (Wajib) Integrasi Numerik"
   ]
  },
  {
   "cell_type": "markdown",
   "metadata": {},
   "source": [
    "Kembali ke [Metode Numerik](./metnum2024genap.qmd)"
   ]
  },
  {
   "cell_type": "markdown",
   "metadata": {},
   "source": [
    "Diberikan: Senin/Selasa, 29/30 April 2024 (ketika praktikum Integrasi Numerik)\n",
    "\n",
    "*Deadline*: Minggu, 5 Mei 2024, 23.59 WIB"
   ]
  },
  {
   "cell_type": "markdown",
   "metadata": {},
   "source": [
    "Secara pemrograman, kerjakan lima soal berikut (yang ada di buku Burden):\n",
    "\n",
    "- Exercise Set 4.3 no 1a, 1b\n",
    "\n",
    "- Exercise Set 4.4 no 8b\n",
    "\n",
    "- Exercise Set 4.6 no 3a\n",
    "\n",
    "- Exercise Set 4.7 no 1a"
   ]
  },
  {
   "cell_type": "markdown",
   "metadata": {},
   "source": [
    "Anda dipersilakan memanfaatkan modul praktikum, terutama [Modul 4](./modul4.ipynb) tentang Integrasi Numerik."
   ]
  },
  {
   "cell_type": "markdown",
   "metadata": {},
   "source": [
    "Setelah selesai, kumpulkan *file* .ipynb nya di link berikut (sesuai kelas):\n",
    "\n",
    "- (Kelas A): <https://bit.ly/LatihanMetodeNumerikA2024>\n",
    "\n",
    "- (Kelas B): <https://bit.ly/LatihanMetodeNumerikB2024>\n",
    "\n",
    "- (Kelas C): <https://bit.ly/LatihanMetodeNumerikC2024>\n",
    "\n",
    "- (Kelas D): <https://bit.ly/LatihanMetodeNumerikD2024>\n",
    "\n",
    "- (Kelas E): <https://bit.ly/LatihanMetodeNumerikE2024>\n",
    "\n",
    "- (Kelas F): <https://bit.ly/LatihanMetodeNumerikF2024>"
   ]
  }
 ],
 "metadata": {
  "language_info": {
   "name": "python"
  }
 },
 "nbformat": 4,
 "nbformat_minor": 2
}
