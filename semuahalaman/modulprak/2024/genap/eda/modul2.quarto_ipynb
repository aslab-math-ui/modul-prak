{
  "cells": [
    {
      "cell_type": "markdown",
      "metadata": {},
      "source": [
        "---\n",
        "title: \"Pertemuan 2 : Data Cleaning with Pandas\"\n",
        "image: static\\images\\pandas.jpg\n",
        "description: \"Handling Dirty Data using Pandas\"\n",
        "date: 04/15/2024\n",
        "page-navigation: true\n",
        "jupyter: python3\n",
        "format: html\n",
        "---\n",
        "\n",
        "\n",
        "Kembali ke [EDA](./eda2024genap.qmd)\n",
        "\n",
        "# Gathering Data\n",
        "\n",
        "<div style='text-align: justify;'>\n",
        "Data yang kita terima seringkali tidak berupa 1 tabel yang lengkap berisi seluruh informasi yang dibutuhkan. Terkadang kita perlu menggabungkan 2 atau lebih data yang saling berhubungan. Pandas memiliki beberapa fungsi yang dapat kita gunakan untuk menggabungkan beberapa data tersebut.\n",
        "</div>\n",
        "\n",
        "## Concatenate & Merge\n",
        "\n",
        "### Concatenate\n",
        "\n",
        "<div style='text-align: justify;'>\n",
        "Concatenate digunakan untuk menggabungkan 2 atau lebih series/dataframe. Argumen `axis=` digunakan untuk mengatur opsi penggabungan data menurut index baris atau index kolom. Berikut contoh penggunaan pada 2 series :\n"
      ],
      "id": "334d624f"
    },
    {
      "cell_type": "code",
      "metadata": {},
      "source": [
        "import numpy as np\n",
        "import pandas as pd\n",
        "\n",
        "series1 = pd.Series(['a','b','c'])\n",
        "series2 = pd.Series(['x','y','z'])"
      ],
      "id": "9f553f5f",
      "execution_count": null,
      "outputs": []
    },
    {
      "cell_type": "markdown",
      "metadata": {},
      "source": [
        "___\n",
        "`axis=0 (default)` akan menggabungkan data pada index **baris**."
      ],
      "id": "29161f2e"
    },
    {
      "cell_type": "code",
      "metadata": {},
      "source": [
        "pd.concat([series1,series2], axis=0)"
      ],
      "id": "d78248f3",
      "execution_count": null,
      "outputs": []
    },
    {
      "cell_type": "markdown",
      "metadata": {},
      "source": [
        "___\n",
        "`axis=1` akan menggabungkan data pada index **kolom**."
      ],
      "id": "f2e4a264"
    },
    {
      "cell_type": "code",
      "metadata": {},
      "source": [
        "pd.concat([series1,series2], axis=1)"
      ],
      "id": "68babbe2",
      "execution_count": null,
      "outputs": []
    },
    {
      "cell_type": "markdown",
      "metadata": {},
      "source": [
        "___\n",
        "`ignore_index=True` akan mengabaikan index awal dari masing-masing data sehingga hasil penggabungan memiliki index baru."
      ],
      "id": "9ffbb0c6"
    },
    {
      "cell_type": "code",
      "metadata": {},
      "source": [
        "pd.concat([series1,series2], ignore_index=True)"
      ],
      "id": "1d4b680f",
      "execution_count": null,
      "outputs": []
    },
    {
      "cell_type": "markdown",
      "metadata": {},
      "source": [
        "___\n",
        "Kita dapat menambahkan `keys` sebagai penanda dari masing-masing series sebelum digabungkan."
      ],
      "id": "7a724853"
    },
    {
      "cell_type": "code",
      "metadata": {},
      "source": [
        "pd.concat([series1,series2], keys=['Series 1','Series 2'])"
      ],
      "id": "80f61561",
      "execution_count": null,
      "outputs": []
    },
    {
      "cell_type": "markdown",
      "metadata": {},
      "source": [
        ":::{.callout-tip}\n",
        "Hasil penggabungan dengan argumen `keys=` akan menambahkan keys sebagai index gabungan, sehingga pada contoh di atas, index dari masing-masing value adalah sebuah tuple yang merupakan pasangan index gabungan dan index masing-masing."
      ],
      "id": "ba4d0973"
    },
    {
      "cell_type": "code",
      "metadata": {},
      "source": [
        "pd.concat([series1,series2], keys=['Series 1','Series 2']).index"
      ],
      "id": "caa6da09",
      "execution_count": null,
      "outputs": []
    },
    {
      "cell_type": "markdown",
      "metadata": {},
      "source": [
        ":::\n",
        "___\n",
        "Berikut contoh penggunaan pada DataFrame :"
      ],
      "id": "6f5d503f"
    },
    {
      "cell_type": "code",
      "metadata": {},
      "source": [
        "df1=pd.DataFrame({'col 1':['a','b','c'],'col 2':[0,1,2]})\n",
        "df2=pd.DataFrame({'col 1':['x','y','z'],'col 2':[4,5,6]})"
      ],
      "id": "be7e7976",
      "execution_count": null,
      "outputs": []
    },
    {
      "cell_type": "code",
      "metadata": {},
      "source": [
        "df1"
      ],
      "id": "51be8ec6",
      "execution_count": null,
      "outputs": []
    },
    {
      "cell_type": "code",
      "metadata": {},
      "source": [
        "df2"
      ],
      "id": "12935321",
      "execution_count": null,
      "outputs": []
    },
    {
      "cell_type": "markdown",
      "metadata": {},
      "source": [
        "___\n",
        "`axis=0 (default)` akan menggabungkan data pada index **baris**."
      ],
      "id": "a80139ea"
    },
    {
      "cell_type": "code",
      "metadata": {},
      "source": [
        "pd.concat([df1,df2])"
      ],
      "id": "4feb7299",
      "execution_count": null,
      "outputs": []
    },
    {
      "cell_type": "markdown",
      "metadata": {},
      "source": [
        "___\n",
        "`axis=1` akan menggabungkan data pada index **kolom**."
      ],
      "id": "7adc453c"
    },
    {
      "cell_type": "code",
      "metadata": {},
      "source": [
        "pd.concat([df1,df2], axis=1)"
      ],
      "id": "a09ecca9",
      "execution_count": null,
      "outputs": []
    },
    {
      "cell_type": "markdown",
      "metadata": {},
      "source": [
        "___\n",
        "Perhatikan bahwa nama kolom `df1` dan `df2` sama. Misalkan kita menggabungkan 2 dataframe dengan nama kolom yang berbeda."
      ],
      "id": "f83af450"
    },
    {
      "cell_type": "code",
      "metadata": {},
      "source": [
        "df3=pd.DataFrame({'col 2':[3,4,5],'col 3':['m','n','o']})\n",
        "df3"
      ],
      "id": "9b068290",
      "execution_count": null,
      "outputs": []
    },
    {
      "cell_type": "markdown",
      "metadata": {},
      "source": [
        "Concatenate pada DataFrame melihat index kolom sebagai acuan untuk penggabungan pada `axis=0` (baris). "
      ],
      "id": "48de60fa"
    },
    {
      "cell_type": "code",
      "metadata": {},
      "source": [
        "pd.concat([df1,df3])"
      ],
      "id": "dc3ebd38",
      "execution_count": null,
      "outputs": []
    },
    {
      "cell_type": "markdown",
      "metadata": {},
      "source": [
        "Karena `df1` dan `df3` memiliki nama kolom yang berbeda, maka terjadi penggabungan baris sekaligus kolom. \n",
        "\n",
        "___\n",
        "Untuk kolom yang beririsan, bisa menggunakan argumen `join=` untuk mengatur bagaimana penggabungan dilakukan (pada keseluruhan data atau pada data yang beririsan saja)"
      ],
      "id": "52cf044b"
    },
    {
      "cell_type": "code",
      "metadata": {},
      "source": [
        "pd.concat([df1,df3], join='inner') # df1 ⋂ df3"
      ],
      "id": "8bef8920",
      "execution_count": null,
      "outputs": []
    },
    {
      "cell_type": "code",
      "metadata": {},
      "source": [
        "pd.concat([df1,df3], join='outer') # df1 ⋃ df3"
      ],
      "id": "a9ce62c5",
      "execution_count": null,
      "outputs": []
    },
    {
      "cell_type": "markdown",
      "metadata": {},
      "source": [
        "</div>\n",
        "\n",
        "### Merge\n",
        "\n",
        "<div style='text-align: justify;'>\n",
        "Fungsi merge pada pandas digunakan untuk menggabungkan 2 atau lebih dataframe berdasarkan index kolom tertentu.\n"
      ],
      "id": "1c21fd42"
    },
    {
      "cell_type": "code",
      "metadata": {},
      "source": [
        "karyawan = pd.DataFrame({'id':[1,2,3,4],'nama':['Joko','Alvin','Rafi','Lita']})\n",
        "karyawan"
      ],
      "id": "3bcfbfc3",
      "execution_count": null,
      "outputs": []
    },
    {
      "cell_type": "code",
      "metadata": {},
      "source": [
        "gaji = pd.DataFrame({'id':[2,1,3,5,4,6],'gaji':[100.0,200.0,300.0,400.0,500.0,600.0]})\n",
        "gaji"
      ],
      "id": "30002d0e",
      "execution_count": null,
      "outputs": []
    },
    {
      "cell_type": "code",
      "metadata": {},
      "source": [
        "pd.merge(karyawan, gaji, on='id')"
      ],
      "id": "35385736",
      "execution_count": null,
      "outputs": []
    },
    {
      "cell_type": "markdown",
      "metadata": {},
      "source": [
        "Data nama karyawan dan gaji digabungkan dalam 1 dataframe, dengan nilai-nilai pada kolom id sebagai acuan.\n",
        "\n",
        ":::{.callout-note}\n",
        "## Merge & Join\n",
        "Pada modul ini, hanya dibahas mengenai dasar penggunaan fungsi merge untuk menggabungkan dataset. Untuk penggunaan lebih spesifik dengan argumen `left=`, `right=`, `left_on=`, `right_on=` dan `how=` akan dibahas pada materi ***Data Wrangling***\n",
        ":::\n",
        "</div>\n",
        "\n",
        "# Assessing Data\n",
        "<div style='text-align: justify;'>\n",
        "Setelah memiliki data yang komplit, langkah selanjutnya adalah mengidentifikasi validitas data yang kita punya. Apakah data yang kita miliki sudah cukup baik? Apakah sudah bisa dilakukan analisis pada data yang ada? Perlukah perubahan dan perbaruan data?\n",
        "\n",
        "Pertama, kita perlu melihat keberadaan **data yang buruk** dalam kumpulan data kita.\n",
        "\n",
        "Data yang buruk dapat berupa:\n",
        "\n",
        "- Data dalam format yang salah (Data ***integer*** terbaca sebagai suatu ***string***)\n",
        "- Sel yang kosong (***Missing***)\n",
        "- Duplikat (Data yang sama muncul lebih dari 1 kali)\n",
        "- Data yang salah (Data yang tidak masuk akal. Misalnya seseorang berumur 600 tahun)\n",
        "</div>\n",
        "\n",
        "## df.info()\n",
        "<div style='text-align: justify;'>\n",
        "\n",
        "Method `.info()` dapat digunakan untuk melihat informasi dasar suatu dataframe seperti **jumlah entri keseluruhan**, **nama kolom**, **jumlah nilai non-null tiap kolom**, **tipe data tiap kolom** hingga **penggunaan memori suatu dataframe**\n",
        "\n",
        "Misalkan kita gunakan dataset pokemon pada modul sebelumnya,\n"
      ],
      "id": "f9c8970e"
    },
    {
      "cell_type": "code",
      "metadata": {},
      "source": [
        "df = pd.read_csv('https://raw.githubusercontent.com/farhanage/dataset-for-study/main/pokemon_data.csv')\n",
        "df.head()"
      ],
      "id": "01d1891e",
      "execution_count": null,
      "outputs": []
    },
    {
      "cell_type": "code",
      "metadata": {},
      "source": [
        "df.info()"
      ],
      "id": "4251a141",
      "execution_count": null,
      "outputs": []
    },
    {
      "cell_type": "markdown",
      "metadata": {},
      "source": [
        "</div>\n",
        "\n",
        "## Missing Values\n",
        "<div style='text-align: justify;'>\n",
        "Terdapat 2 tipe missing value.\n",
        "\n",
        "1. Data bernilai `NaN` (Not a Number)\n",
        "2. Data bernilai `0` (Null)\n",
        "\n",
        ":::{.callout-warning}\n",
        "## Null\n",
        "Data bernilai 0 (Null) tidak selalu bersifat sebagai data yang hilang, bisa juga data memang memiliki data yang bernilai 0. Oleh karena itu, penting bagi kita untuk mengetahui konteks dari data yang dianalisis.\n",
        ":::\n",
        "___"
      ],
      "id": "95a3fe61"
    },
    {
      "cell_type": "code",
      "metadata": {},
      "source": [
        "df = pd.DataFrame({\"Evan\" : [np.nan,100,95,94,99],\"Boy\" : [100,np.nan,95,99,94],\"Maxwell\" : [95,100,99,np.nan,94]})\n",
        "df"
      ],
      "id": "146951d5",
      "execution_count": null,
      "outputs": []
    },
    {
      "cell_type": "markdown",
      "metadata": {},
      "source": [
        "Untuk melihat data mana saja yang mengandung value `NaN` (Not a Number), kita gunakan method `.isna()` atau `.isnull()`. (Kedua method ini memiliki fungsi yang sama dan dapat digunakan secara bergantian/salah satu saja)\n"
      ],
      "id": "498a0394"
    },
    {
      "cell_type": "code",
      "metadata": {},
      "source": [
        "df.isna()"
      ],
      "id": "5e18eab6",
      "execution_count": null,
      "outputs": []
    },
    {
      "cell_type": "markdown",
      "metadata": {},
      "source": [
        "Untuk melihat jumlah value `NaN` pada data, tambahkan method `.sum()` pada kode di atas.\n"
      ],
      "id": "4405d219"
    },
    {
      "cell_type": "code",
      "metadata": {},
      "source": [
        "df.isna().sum()"
      ],
      "id": "8d83bd63",
      "execution_count": null,
      "outputs": []
    },
    {
      "cell_type": "markdown",
      "metadata": {},
      "source": [
        ":::{.callout-note}\n",
        "## Method `.sum()`\n",
        "Method `.sum()` digunakan untuk menjumlahkan nilai-nilai pada tiap kolom dataframe (Juga dalam suatu Series).\n",
        ":::\n",
        "\n",
        "Untuk melihat entri-entri yang memiliki nilai `NaN` pada kolom tertentu, lakukan *filtering* pada dataframe dengan `df['<nama-kolom>'].isna()` sebagai kondisi yang diinginkan.\n"
      ],
      "id": "c00e8698"
    },
    {
      "cell_type": "code",
      "metadata": {},
      "source": [
        "df[df['Evan'].isna()]   # Entri yang memiliki nilai `NaN` pada kolom `Evan`"
      ],
      "id": "79b23d20",
      "execution_count": null,
      "outputs": []
    },
    {
      "cell_type": "markdown",
      "metadata": {},
      "source": [
        "</div>\n",
        "\n",
        "## Duplicates\n",
        "<div style='text-align: justify;'>\n",
        "\n",
        "Data duplikat pada dataframe adalah entri yang memiliki nilai yang sama **pada setiap kolom**. Jika terdapat setidaknya 1 nilai kolom yang berbeda antara 2 entri, data tersebut bukanlah sebuah duplikat.\n"
      ],
      "id": "cd6b17fc"
    },
    {
      "cell_type": "code",
      "metadata": {},
      "source": [
        "df = pd.DataFrame({\n",
        "    \"id\" : [1,2,3,4,3,6],\n",
        "    \"Karyawan\" : ['Joko','Alvin','Rafi','Lita','Rafi','Jennie'],\n",
        "    \"Gaji\" : [100.0, 200.0, 300.0, 400.0, 300.0, 600.0]})\n",
        "df"
      ],
      "id": "fee8bd33",
      "execution_count": null,
      "outputs": []
    },
    {
      "cell_type": "markdown",
      "metadata": {},
      "source": [
        "Untuk melihat data yang memiliki duplikat pada dataframe, kita gunakan method `.duplicated()`.\n"
      ],
      "id": "3bc5e775"
    },
    {
      "cell_type": "code",
      "metadata": {},
      "source": [
        "df.duplicated()"
      ],
      "id": "1ac9f283",
      "execution_count": null,
      "outputs": []
    },
    {
      "cell_type": "markdown",
      "metadata": {},
      "source": [
        "Perhatikan bahwa data yang terbaca sebagai duplikat adalah data yang muncul setelah kemunculan data pertama kali (data duplikat pertama tidak dianggap sebagai duplikat)\n",
        "\n",
        "Dengan cara yang sama seperti pada **Missing Value**, kita bisa menggunakan method `.sum()` untuk melihat jumlah data duplikat pada suatu dataframe.\n"
      ],
      "id": "016832b8"
    },
    {
      "cell_type": "code",
      "metadata": {},
      "source": [
        "df.duplicated().sum()"
      ],
      "id": "7ba71529",
      "execution_count": null,
      "outputs": []
    },
    {
      "cell_type": "markdown",
      "metadata": {},
      "source": [
        "Untuk melihat entri-entri yang memiliki nilai duplikat pada kolom tertentu, lakukan *filtering* pada dataframe dengan `df['<nama-kolom>'].duplicated()` sebagai kondisi yang diinginkan.\n"
      ],
      "id": "26c91f01"
    },
    {
      "cell_type": "code",
      "metadata": {},
      "source": [
        "df[df['id'].duplicated()]   # Entri yang memiliki nilai `id` duplikat"
      ],
      "id": "299931d9",
      "execution_count": null,
      "outputs": []
    },
    {
      "cell_type": "markdown",
      "metadata": {},
      "source": [
        "</div>\n",
        "\n",
        "## Descriptive Statistics\n",
        "<div style='text-align: justify;'>\n",
        "\n",
        "Untuk mengidentifikasi apakah terdapat data yang salah, jika kita perlu tahu konteks data tersebut. Seperti bagaimana cara data diperoleh? Apakah ada batas-batas nilai pada variabel-variabel tertentu?\n",
        "\n",
        "Salah satu cara mudah untuk mengidentifikasi persebaran suatu data adalah dengan melihat statistik deskriptif suatu data. Kita bisa menggunakan method `.describe()` untuk melihat ukuran persebaran data dari masing-masing variabel pada suatu dataframe.\n"
      ],
      "id": "fdcb46c4"
    },
    {
      "cell_type": "code",
      "metadata": {},
      "source": [
        "df = pd.read_csv('https://raw.githubusercontent.com/farhanage/dataset-for-study/main/pokemon_data.csv')\n",
        "df.head()"
      ],
      "id": "65e78ad2",
      "execution_count": null,
      "outputs": []
    },
    {
      "cell_type": "code",
      "metadata": {},
      "source": [
        "df.describe()"
      ],
      "id": "cc60c059",
      "execution_count": null,
      "outputs": []
    },
    {
      "cell_type": "markdown",
      "metadata": {},
      "source": [
        "Namun, metode ini hanya dapat digunakan pada data numerik. Sehingga untuk data non-numerik, perlu pemahaman lebih lanjut mengenai konteks data dan metode yang digunakan untuk mengonfirmasi validitas data.\n",
        "\n",
        "</div>\n",
        "\n",
        "# Cleaning Data\n",
        "\n",
        "## Memperbaiki Format Data yang Salah\n",
        "<div style='text-align: justify;'>\n",
        "\n",
        "Terdapat lebih dari 1 cara untuk memperbaiki format data yang salah. Tidak disalahkan bagi anda untuk mencarinya di internet sendiri. Silakan merujuk pada berbagai sumber. Salah satunya adalah jawaban dari pertanyaan pada forum StackOverflow berikut : [Link](https://stackoverflow.com/questions/15891038/change-column-type-in-pandas)\n",
        "</div>\n",
        "\n",
        "## Mengimputasi sel yang kosong\n",
        "<div style='text-align: justify;'>\n"
      ],
      "id": "420b4b3a"
    },
    {
      "cell_type": "code",
      "metadata": {},
      "source": [
        "df.fillna(value='<value>', inplace=True)"
      ],
      "id": "6ac9e2b9",
      "execution_count": null,
      "outputs": []
    },
    {
      "cell_type": "markdown",
      "metadata": {},
      "source": [
        "</div>\n",
        "\n",
        "## Menghapus data duplikat\n",
        "<div style='text-align: justify;'>\n"
      ],
      "id": "a0e1be11"
    },
    {
      "cell_type": "code",
      "metadata": {},
      "source": [
        "df.drop_duplicates(inplace=True)"
      ],
      "id": "71bc1268",
      "execution_count": null,
      "outputs": []
    },
    {
      "cell_type": "markdown",
      "metadata": {},
      "source": [
        "</div>"
      ],
      "id": "b3645186"
    }
  ],
  "metadata": {
    "kernelspec": {
      "name": "python3",
      "language": "python",
      "display_name": "Python 3 (ipykernel)",
      "path": "C:\\Users\\ZakiZ\\AppData\\Local\\Programs\\Python\\Python313\\share\\jupyter\\kernels\\python3"
    }
  },
  "nbformat": 4,
  "nbformat_minor": 5
}