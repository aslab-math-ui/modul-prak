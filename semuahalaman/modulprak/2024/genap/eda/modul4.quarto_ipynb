{
  "cells": [
    {
      "cell_type": "markdown",
      "metadata": {},
      "source": [
        "---\n",
        "title: \"Pertemuan 4 : Data Visualization (seaborn)\"\n",
        "image: static\\images\\seaborn.png\n",
        "description: \"Data visualization in python using seaborn\"\n",
        "date: 04/30/2024\n",
        "page-navigation: true\n",
        "jupyter: python3\n",
        "format: html\n",
        "---\n",
        "\n",
        "\n",
        "Kembali ke [EDA](./eda2024genap.qmd)\n",
        "\n",
        "# Seaborn\n",
        "\n",
        "<div style='text-align: justify;'>\n",
        "Seaborn adalah library visualisasi data yang dibangun di atas **matplotlib**, dan menggunakan struktur data yang ada pada library **pandas**. Seaborn banyak digunakan karena penggunaannya yang cukup *simple* dibandingkan dengan matplotlib.pyplot dengan hasil visualisasi yang lebih beragam.\n",
        "\n",
        "baca dokumentasi seaborn di sini : [Seaborn](https://seaborn.pydata.org/tutorial/introduction.html)\n",
        "</div>\n",
        "___\n"
      ],
      "id": "3776310b"
    },
    {
      "cell_type": "code",
      "metadata": {},
      "source": [
        "import numpy as np\n",
        "import pandas as pd\n",
        "import matplotlib.pyplot as plt\n",
        "import seaborn as sns\n",
        "\n",
        "#load dataset yang disediakan oleh modul atau library seaborn\n",
        "iris = sns.load_dataset('iris')\n",
        "iris"
      ],
      "id": "723ea53b",
      "execution_count": null,
      "outputs": []
    },
    {
      "cell_type": "markdown",
      "metadata": {},
      "source": [
        "<div style='text-align: justify;'>\n",
        "Berikut salah satu contoh visualisasi dari data iris yang dihasilkan oleh seaborn.\n",
        "</div>\n"
      ],
      "id": "3842ff0f"
    },
    {
      "cell_type": "code",
      "metadata": {},
      "source": [
        "#| echo: false\n",
        "\n",
        "from matplotlib import pyplot as plt\n",
        "import seaborn as sns\n",
        "iris.groupby('species').size().plot(kind='barh', color=sns.palettes.mpl_palette('Dark2'))\n",
        "plt.gca().spines[['top', 'right',]].set_visible(False)\n",
        "\n",
        "plt.show()"
      ],
      "id": "71019c2c",
      "execution_count": null,
      "outputs": []
    },
    {
      "cell_type": "markdown",
      "metadata": {},
      "source": [
        "___\n",
        "\n",
        "# Inputs\n",
        "\n",
        "<div style='text-align: justify;'>\n",
        "Seaborn memiliki 3 cara untuk menginput data sebagai parameter (sumbu y dan/atau sumbu x) dari fungsi-fungsi visualisasinya.\n",
        "\n",
        "1. List/Series/Array\n",
        "2. Pandas Dataframe dan kolom\n",
        "3. Langsung masuk ke dataframenya untuk diolah\n",
        "\n",
        "</div>\n",
        "\n",
        "## List/Series/Array\n"
      ],
      "id": "a0a74e0c"
    },
    {
      "cell_type": "code",
      "metadata": {},
      "source": [
        "#Mengambil isinya saja dari kolom sepal length dan sepal width\n",
        "length = iris['sepal_length'].values\n",
        "width = iris['sepal_width'].values\n",
        "print(length, width)"
      ],
      "id": "618779bd",
      "execution_count": null,
      "outputs": []
    },
    {
      "cell_type": "code",
      "metadata": {},
      "source": [
        "sns.scatterplot(x=length, y=width)\n",
        "\n",
        "plt.show()"
      ],
      "id": "48adc08e",
      "execution_count": null,
      "outputs": []
    },
    {
      "cell_type": "markdown",
      "metadata": {},
      "source": [
        "## Dataframe dan kolomnya\n"
      ],
      "id": "bc94dc37"
    },
    {
      "cell_type": "code",
      "metadata": {},
      "source": [
        "sns.scatterplot(x=iris['sepal_length'], y=iris['sepal_width'])\n",
        "\n",
        "plt.show()"
      ],
      "id": "7409fd51",
      "execution_count": null,
      "outputs": []
    },
    {
      "cell_type": "markdown",
      "metadata": {},
      "source": [
        "atau\n"
      ],
      "id": "eccb919a"
    },
    {
      "cell_type": "code",
      "metadata": {},
      "source": [
        "sns.scatterplot(x='sepal_length', y='sepal_width', data=iris)\n",
        "\n",
        "plt.show()"
      ],
      "id": "c3551f17",
      "execution_count": null,
      "outputs": []
    },
    {
      "cell_type": "markdown",
      "metadata": {},
      "source": [
        "## Olah dataframe\n"
      ],
      "id": "fc1bf957"
    },
    {
      "cell_type": "code",
      "metadata": {},
      "source": [
        "sns.boxplot(data=iris)\n",
        "\n",
        "plt.show()"
      ],
      "id": "2bee9655",
      "execution_count": null,
      "outputs": []
    },
    {
      "cell_type": "markdown",
      "metadata": {},
      "source": [
        "# Plots\n",
        "\n",
        "<div style='text-align: justify;'>\n",
        "Seaborn memiliki banyak sekali jenis plot dengan fungsi yang berbeda-beda. 5 diantaranya yang akan dibahas pada pertemuan ini :\n",
        "\n",
        "1. Distribution Plot\n",
        "2. Count Plot\n",
        "3. Heatmap\n",
        "4. Scatter Plot\n",
        "5. Box Plot\n",
        "\n",
        "untuk plot lainnya, silakan telusuri dokumentasi seaborn berikut :\n",
        "\n",
        "[Seaborn Plots](https://seaborn.pydata.org/examples/index.html)\n",
        "</div>\n",
        "\n",
        "## Distribution Plot\n"
      ],
      "id": "43e22ff9"
    },
    {
      "cell_type": "code",
      "metadata": {},
      "source": [
        "sns.displot(iris['petal_length'])\n",
        "\n",
        "plt.show()"
      ],
      "id": "0eef2578",
      "execution_count": null,
      "outputs": []
    },
    {
      "cell_type": "code",
      "metadata": {},
      "source": [
        "iris['petal_length'].skew()"
      ],
      "id": "4360e94d",
      "execution_count": null,
      "outputs": []
    },
    {
      "cell_type": "code",
      "metadata": {},
      "source": [
        "sns.displot(iris['sepal_width'])\n",
        "\n",
        "plt.show()"
      ],
      "id": "b4baed76",
      "execution_count": null,
      "outputs": []
    },
    {
      "cell_type": "code",
      "metadata": {},
      "source": [
        "iris['sepal_width'].skew()"
      ],
      "id": "93e2d0e1",
      "execution_count": null,
      "outputs": []
    },
    {
      "cell_type": "code",
      "metadata": {},
      "source": [
        "sns.histplot(iris['sepal_length'])\n",
        "\n",
        "plt.show()"
      ],
      "id": "778a87e6",
      "execution_count": null,
      "outputs": []
    },
    {
      "cell_type": "code",
      "metadata": {},
      "source": [
        "sns.histplot(iris['sepal_width'])\n",
        "\n",
        "plt.show()"
      ],
      "id": "fabab74f",
      "execution_count": null,
      "outputs": []
    },
    {
      "cell_type": "code",
      "metadata": {},
      "source": [
        "# Histogram kumulatif dari sepal width\n",
        "sns.histplot(iris['sepal_width'], cumulative=True)\n",
        "\n",
        "plt.show()"
      ],
      "id": "e8a0ce3a",
      "execution_count": null,
      "outputs": []
    },
    {
      "cell_type": "markdown",
      "metadata": {},
      "source": [
        "## Count Plot\n"
      ],
      "id": "bd2a8eae"
    },
    {
      "cell_type": "code",
      "metadata": {},
      "source": [
        "#tips dari seaborn\n",
        "tips=sns.load_dataset('tips')\n",
        "tips"
      ],
      "id": "63d3fcf1",
      "execution_count": null,
      "outputs": []
    },
    {
      "cell_type": "markdown",
      "metadata": {},
      "source": [
        "___\n"
      ],
      "id": "12c561a7"
    },
    {
      "cell_type": "code",
      "metadata": {},
      "source": [
        "# Histogram kumulatif dari sepal width\n",
        "sns.countplot(x='day', data=tips)\n",
        "\n",
        "plt.show()"
      ],
      "id": "0794b82f",
      "execution_count": null,
      "outputs": []
    },
    {
      "cell_type": "code",
      "metadata": {},
      "source": [
        "# Histogram kumulatif dari sepal width\n",
        "sns.countplot(x=tips['day'])\n",
        "\n",
        "plt.show()"
      ],
      "id": "c0b7ae5f",
      "execution_count": null,
      "outputs": []
    },
    {
      "cell_type": "code",
      "metadata": {},
      "source": [
        "# Histogram kumulatif dari sepal width\n",
        "sns.countplot(x='sex', data=tips, palette='Accent', hue='sex')\n",
        "\n",
        "plt.show()"
      ],
      "id": "deeb4535",
      "execution_count": null,
      "outputs": []
    },
    {
      "cell_type": "code",
      "metadata": {},
      "source": [
        "# Histogram kumulatif dari sepal width\n",
        "sns.countplot(x='day', data=tips, palette='Blues', hue='sex')\n",
        "\n",
        "plt.show()"
      ],
      "id": "2a74a9ee",
      "execution_count": null,
      "outputs": []
    },
    {
      "cell_type": "code",
      "metadata": {},
      "source": [
        "# Histogram kumulatif dari sepal width\n",
        "sns.countplot(x='sex', data=tips, palette='Blues', hue='day')\n",
        "\n",
        "plt.show()"
      ],
      "id": "6b4946db",
      "execution_count": null,
      "outputs": []
    },
    {
      "cell_type": "code",
      "metadata": {},
      "source": [
        "#Jika ingin mengammbar dalam sumbu vertikal ya y=\n",
        "sns.countplot(y='day', data=tips, palette='Blues', hue='sex')\n",
        "\n",
        "plt.show()"
      ],
      "id": "6c7b7963",
      "execution_count": null,
      "outputs": []
    },
    {
      "cell_type": "code",
      "metadata": {},
      "source": [
        "sns.countplot(x='sex', data=tips, hue='smoker')\n",
        "\n",
        "plt.show()"
      ],
      "id": "ab401793",
      "execution_count": null,
      "outputs": []
    },
    {
      "cell_type": "code",
      "metadata": {},
      "source": [
        "sns.countplot(x='smoker', data=tips, hue='sex')\n",
        "\n",
        "plt.show()"
      ],
      "id": "b0078fc0",
      "execution_count": null,
      "outputs": []
    },
    {
      "cell_type": "markdown",
      "metadata": {},
      "source": [
        "## Heatmap\n"
      ],
      "id": "7d6a568a"
    },
    {
      "cell_type": "code",
      "metadata": {},
      "source": [
        "iris.drop('species', axis=1, inplace=True)\n",
        "iris"
      ],
      "id": "8d954c0e",
      "execution_count": null,
      "outputs": []
    },
    {
      "cell_type": "markdown",
      "metadata": {},
      "source": [
        "___\n"
      ],
      "id": "1684a044"
    },
    {
      "cell_type": "code",
      "metadata": {},
      "source": [
        "korelasi_iris = iris.corr()\n",
        "korelasi_iris"
      ],
      "id": "747a51f8",
      "execution_count": null,
      "outputs": []
    },
    {
      "cell_type": "code",
      "metadata": {},
      "source": [
        "sns.heatmap(iris.corr())\n",
        "\n",
        "plt.show()"
      ],
      "id": "faf162a1",
      "execution_count": null,
      "outputs": []
    },
    {
      "cell_type": "code",
      "metadata": {},
      "source": [
        "sns.heatmap(iris.corr(), cmap='YlGnBu')\n",
        "\n",
        "plt.show()"
      ],
      "id": "bf56b4ad",
      "execution_count": null,
      "outputs": []
    },
    {
      "cell_type": "code",
      "metadata": {},
      "source": [
        "sns.heatmap(iris.corr(), cmap='YlGnBu')\n",
        "\n",
        "plt.xticks(rotation=45)\n",
        "\n",
        "plt.show()"
      ],
      "id": "8dbf5ce6",
      "execution_count": null,
      "outputs": []
    },
    {
      "cell_type": "code",
      "metadata": {},
      "source": [
        "sns.heatmap(iris.corr(), cmap='YlGnBu')\n",
        "\n",
        "plt.yticks(rotation=45)\n",
        "\n",
        "plt.show()"
      ],
      "id": "0767a5ea",
      "execution_count": null,
      "outputs": []
    },
    {
      "cell_type": "code",
      "metadata": {},
      "source": [
        "sns.heatmap(iris.corr(), cmap='YlGnBu')\n",
        "\n",
        "plt.xticks(rotation=45)\n",
        "\n",
        "plt.yticks(rotation=45)\n",
        "\n",
        "plt.show()"
      ],
      "id": "e13c1050",
      "execution_count": null,
      "outputs": []
    },
    {
      "cell_type": "code",
      "metadata": {},
      "source": [
        "sns.heatmap(korelasi_iris[(korelasi_iris >= 0.5)])\n",
        "\n",
        "plt.show()"
      ],
      "id": "7880850c",
      "execution_count": null,
      "outputs": []
    },
    {
      "cell_type": "code",
      "metadata": {},
      "source": [
        "sns.heatmap(korelasi_iris[(korelasi_iris >= 0.5) | (korelasi_iris <= -0.2)])\n",
        "\n",
        "plt.show()"
      ],
      "id": "883a8d9b",
      "execution_count": null,
      "outputs": []
    },
    {
      "cell_type": "code",
      "metadata": {},
      "source": [
        "sns.heatmap(korelasi_iris[(korelasi_iris >= 0.5) | (korelasi_iris <= -0.2)], annot = True)\n",
        "\n",
        "plt.show()"
      ],
      "id": "40a827bb",
      "execution_count": null,
      "outputs": []
    },
    {
      "cell_type": "code",
      "metadata": {},
      "source": [
        "sns.heatmap(korelasi_iris[(korelasi_iris >= 0.5) | (korelasi_iris <= -0.2)], annot = True, cmap='Blues')\n",
        "\n",
        "plt.show()"
      ],
      "id": "5f70236e",
      "execution_count": null,
      "outputs": []
    },
    {
      "cell_type": "code",
      "metadata": {},
      "source": [
        "sns.heatmap(korelasi_iris[(korelasi_iris >= 0.5) | (korelasi_iris <= -0.2) ], annot = True, cmap = 'Blues', linewidth = 1, linecolor = 'black')\n",
        "\n",
        "plt.show()"
      ],
      "id": "aa487567",
      "execution_count": null,
      "outputs": []
    },
    {
      "cell_type": "markdown",
      "metadata": {},
      "source": [
        "## Scatter Plot\n"
      ],
      "id": "00a83375"
    },
    {
      "cell_type": "code",
      "metadata": {},
      "source": [
        "iris = sns.load_dataset('iris')\n",
        "iris"
      ],
      "id": "480df4e2",
      "execution_count": null,
      "outputs": []
    },
    {
      "cell_type": "markdown",
      "metadata": {},
      "source": [
        "___\n"
      ],
      "id": "b43b5418"
    },
    {
      "cell_type": "code",
      "metadata": {},
      "source": [
        "sns.scatterplot(x='sepal_length', y='sepal_width', data=iris, palette='Accent_r', hue='species')\n",
        "\n",
        "plt.show()"
      ],
      "id": "aa93fc4a",
      "execution_count": null,
      "outputs": []
    },
    {
      "cell_type": "code",
      "metadata": {},
      "source": [
        "sns.regplot(x='sepal_length', y='sepal_width', data=iris)\n",
        "\n",
        "plt.show()"
      ],
      "id": "92415507",
      "execution_count": null,
      "outputs": []
    },
    {
      "cell_type": "code",
      "metadata": {},
      "source": [
        "sns.regplot(x='petal_length', y='petal_width', data=iris)\n",
        "\n",
        "plt.show()"
      ],
      "id": "05709c97",
      "execution_count": null,
      "outputs": []
    },
    {
      "cell_type": "code",
      "metadata": {},
      "source": [
        "iris['petal_length'].corr(iris['petal_width'])"
      ],
      "id": "a1ce80d2",
      "execution_count": null,
      "outputs": []
    },
    {
      "cell_type": "markdown",
      "metadata": {},
      "source": [
        "## Box Plot\n"
      ],
      "id": "81d167b7"
    },
    {
      "cell_type": "code",
      "metadata": {},
      "source": [
        "sns.boxplot(x='petal_length', data=iris)\n",
        "\n",
        "plt.show()"
      ],
      "id": "5c4ada17",
      "execution_count": null,
      "outputs": []
    },
    {
      "cell_type": "code",
      "metadata": {},
      "source": [
        "sns.boxplot(x='sepal_width', data=iris)\n",
        "\n",
        "plt.show()"
      ],
      "id": "cf45bc2e",
      "execution_count": null,
      "outputs": []
    },
    {
      "cell_type": "code",
      "metadata": {},
      "source": [
        "# | eval: false\n",
        "?sns.countplot"
      ],
      "id": "f417044f",
      "execution_count": null,
      "outputs": []
    }
  ],
  "metadata": {
    "kernelspec": {
      "name": "python3",
      "language": "python",
      "display_name": "Python 3 (ipykernel)",
      "path": "C:\\Users\\ZakiZ\\AppData\\Local\\Programs\\Python\\Python313\\share\\jupyter\\kernels\\python3"
    }
  },
  "nbformat": 4,
  "nbformat_minor": 5
}