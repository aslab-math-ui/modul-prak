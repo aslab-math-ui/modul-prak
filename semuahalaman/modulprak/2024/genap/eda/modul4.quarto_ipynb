{
  "cells": [
    {
      "cell_type": "markdown",
      "metadata": {},
      "source": [
        "---\n",
        "title: \"Pertemuan 4 : Data Visualization (seaborn)\"\n",
        "image: static\\images\\seaborn.png\n",
        "description: \"Data visualization in python using seaborn\"\n",
        "date: 04/30/2024\n",
        "page-navigation: true\n",
        "jupyter: python3\n",
        "format: html\n",
        "---\n",
        "\n",
        "\n",
        "Kembali ke [EDA](./eda2024genap.qmd)\n",
        "\n",
        "# Seaborn\n",
        "\n",
        "<div style='text-align: justify;'>\n",
        "Seaborn adalah library visualisasi data yang dibangun di atas **matplotlib**, dan menggunakan struktur data yang ada pada library **pandas**. Seaborn banyak digunakan karena penggunaannya yang cukup *simple* dibandingkan dengan matplotlib.pyplot dengan hasil visualisasi yang lebih beragam.\n",
        "\n",
        "baca dokumentasi seaborn di sini : [Seaborn](https://seaborn.pydata.org/tutorial/introduction.html)\n",
        "</div>\n",
        "___\n"
      ],
      "id": "ad18bf5f"
    },
    {
      "cell_type": "code",
      "metadata": {},
      "source": [
        "import numpy as np\n",
        "import pandas as pd\n",
        "import matplotlib.pyplot as plt\n",
        "import seaborn as sns\n",
        "\n",
        "#load dataset yang disediakan oleh modul atau library seaborn\n",
        "iris = sns.load_dataset('iris')\n",
        "iris"
      ],
      "id": "c687e820",
      "execution_count": null,
      "outputs": []
    },
    {
      "cell_type": "markdown",
      "metadata": {},
      "source": [
        "<div style='text-align: justify;'>\n",
        "Berikut salah satu contoh visualisasi dari data iris yang dihasilkan oleh seaborn.\n",
        "</div>\n"
      ],
      "id": "38da2c71"
    },
    {
      "cell_type": "code",
      "metadata": {},
      "source": [
        "#| echo: false\n",
        "\n",
        "from matplotlib import pyplot as plt\n",
        "import seaborn as sns\n",
        "iris.groupby('species').size().plot(kind='barh', color=sns.palettes.mpl_palette('Dark2'))\n",
        "plt.gca().spines[['top', 'right',]].set_visible(False)\n",
        "\n",
        "plt.show()"
      ],
      "id": "6e79002b",
      "execution_count": null,
      "outputs": []
    },
    {
      "cell_type": "markdown",
      "metadata": {},
      "source": [
        "___\n",
        "\n",
        "# Inputs\n",
        "\n",
        "<div style='text-align: justify;'>\n",
        "Seaborn memiliki 3 cara untuk menginput data sebagai parameter (sumbu y dan/atau sumbu x) dari fungsi-fungsi visualisasinya.\n",
        "\n",
        "1. List/Series/Array\n",
        "2. Pandas Dataframe dan kolom\n",
        "3. Langsung masuk ke dataframenya untuk diolah\n",
        "\n",
        "</div>\n",
        "\n",
        "## List/Series/Array\n"
      ],
      "id": "7f0bddad"
    },
    {
      "cell_type": "code",
      "metadata": {},
      "source": [
        "#Mengambil isinya saja dari kolom sepal length dan sepal width\n",
        "length = iris['sepal_length'].values\n",
        "width = iris['sepal_width'].values\n",
        "print(length, width)"
      ],
      "id": "4473ae25",
      "execution_count": null,
      "outputs": []
    },
    {
      "cell_type": "code",
      "metadata": {},
      "source": [
        "sns.scatterplot(x=length, y=width)\n",
        "\n",
        "plt.show()"
      ],
      "id": "a62ced96",
      "execution_count": null,
      "outputs": []
    },
    {
      "cell_type": "markdown",
      "metadata": {},
      "source": [
        "## Dataframe dan kolomnya\n"
      ],
      "id": "ecf59747"
    },
    {
      "cell_type": "code",
      "metadata": {},
      "source": [
        "sns.scatterplot(x=iris['sepal_length'], y=iris['sepal_width'])\n",
        "\n",
        "plt.show()"
      ],
      "id": "244d4125",
      "execution_count": null,
      "outputs": []
    },
    {
      "cell_type": "markdown",
      "metadata": {},
      "source": [
        "atau\n"
      ],
      "id": "a58149d6"
    },
    {
      "cell_type": "code",
      "metadata": {},
      "source": [
        "sns.scatterplot(x='sepal_length', y='sepal_width', data=iris)\n",
        "\n",
        "plt.show()"
      ],
      "id": "451aeb49",
      "execution_count": null,
      "outputs": []
    },
    {
      "cell_type": "markdown",
      "metadata": {},
      "source": [
        "## Olah dataframe\n"
      ],
      "id": "a85ed41b"
    },
    {
      "cell_type": "code",
      "metadata": {},
      "source": [
        "sns.boxplot(data=iris)\n",
        "\n",
        "plt.show()"
      ],
      "id": "10098793",
      "execution_count": null,
      "outputs": []
    },
    {
      "cell_type": "markdown",
      "metadata": {},
      "source": [
        "# Plots\n",
        "\n",
        "<div style='text-align: justify;'>\n",
        "Seaborn memiliki banyak sekali jenis plot dengan fungsi yang berbeda-beda. 5 diantaranya yang akan dibahas pada pertemuan ini :\n",
        "\n",
        "1. Distribution Plot\n",
        "2. Count Plot\n",
        "3. Heatmap\n",
        "4. Scatter Plot\n",
        "5. Box Plot\n",
        "\n",
        "untuk plot lainnya, silakan telusuri dokumentasi seaborn berikut :\n",
        "\n",
        "[Seaborn Plots](https://seaborn.pydata.org/examples/index.html)\n",
        "</div>\n",
        "\n",
        "## Distribution Plot\n"
      ],
      "id": "7ca8d683"
    },
    {
      "cell_type": "code",
      "metadata": {},
      "source": [
        "sns.displot(iris['petal_length'])\n",
        "\n",
        "plt.show()"
      ],
      "id": "928488f4",
      "execution_count": null,
      "outputs": []
    },
    {
      "cell_type": "code",
      "metadata": {},
      "source": [
        "iris['petal_length'].skew()"
      ],
      "id": "7b49b830",
      "execution_count": null,
      "outputs": []
    },
    {
      "cell_type": "code",
      "metadata": {},
      "source": [
        "sns.displot(iris['sepal_width'])\n",
        "\n",
        "plt.show()"
      ],
      "id": "6ccb0320",
      "execution_count": null,
      "outputs": []
    },
    {
      "cell_type": "code",
      "metadata": {},
      "source": [
        "iris['sepal_width'].skew()"
      ],
      "id": "7dba133d",
      "execution_count": null,
      "outputs": []
    },
    {
      "cell_type": "code",
      "metadata": {},
      "source": [
        "sns.histplot(iris['sepal_length'])\n",
        "\n",
        "plt.show()"
      ],
      "id": "6c020458",
      "execution_count": null,
      "outputs": []
    },
    {
      "cell_type": "code",
      "metadata": {},
      "source": [
        "sns.histplot(iris['sepal_width'])\n",
        "\n",
        "plt.show()"
      ],
      "id": "0cee1bca",
      "execution_count": null,
      "outputs": []
    },
    {
      "cell_type": "code",
      "metadata": {},
      "source": [
        "# Histogram kumulatif dari sepal width\n",
        "sns.histplot(iris['sepal_width'], cumulative=True)\n",
        "\n",
        "plt.show()"
      ],
      "id": "7bdff031",
      "execution_count": null,
      "outputs": []
    },
    {
      "cell_type": "markdown",
      "metadata": {},
      "source": [
        "## Count Plot\n"
      ],
      "id": "c1e481ba"
    },
    {
      "cell_type": "code",
      "metadata": {},
      "source": [
        "#tips dari seaborn\n",
        "tips=sns.load_dataset('tips')\n",
        "tips"
      ],
      "id": "a6833874",
      "execution_count": null,
      "outputs": []
    },
    {
      "cell_type": "markdown",
      "metadata": {},
      "source": [
        "___\n"
      ],
      "id": "d7b2c20a"
    },
    {
      "cell_type": "code",
      "metadata": {},
      "source": [
        "# Histogram kumulatif dari sepal width\n",
        "sns.countplot(x='day', data=tips)\n",
        "\n",
        "plt.show()"
      ],
      "id": "629a53e0",
      "execution_count": null,
      "outputs": []
    },
    {
      "cell_type": "code",
      "metadata": {},
      "source": [
        "# Histogram kumulatif dari sepal width\n",
        "sns.countplot(x=tips['day'])\n",
        "\n",
        "plt.show()"
      ],
      "id": "2a10eb9f",
      "execution_count": null,
      "outputs": []
    },
    {
      "cell_type": "code",
      "metadata": {},
      "source": [
        "# Histogram kumulatif dari sepal width\n",
        "sns.countplot(x='sex', data=tips, palette='Accent', hue='sex')\n",
        "\n",
        "plt.show()"
      ],
      "id": "2acd0679",
      "execution_count": null,
      "outputs": []
    },
    {
      "cell_type": "code",
      "metadata": {},
      "source": [
        "# Histogram kumulatif dari sepal width\n",
        "sns.countplot(x='day', data=tips, palette='Blues', hue='sex')\n",
        "\n",
        "plt.show()"
      ],
      "id": "972b1b9b",
      "execution_count": null,
      "outputs": []
    },
    {
      "cell_type": "code",
      "metadata": {},
      "source": [
        "# Histogram kumulatif dari sepal width\n",
        "sns.countplot(x='sex', data=tips, palette='Blues', hue='day')\n",
        "\n",
        "plt.show()"
      ],
      "id": "9e4f96ed",
      "execution_count": null,
      "outputs": []
    },
    {
      "cell_type": "code",
      "metadata": {},
      "source": [
        "#Jika ingin mengammbar dalam sumbu vertikal ya y=\n",
        "sns.countplot(y='day', data=tips, palette='Blues', hue='sex')\n",
        "\n",
        "plt.show()"
      ],
      "id": "227bf609",
      "execution_count": null,
      "outputs": []
    },
    {
      "cell_type": "code",
      "metadata": {},
      "source": [
        "sns.countplot(x='sex', data=tips, hue='smoker')\n",
        "\n",
        "plt.show()"
      ],
      "id": "d41a883f",
      "execution_count": null,
      "outputs": []
    },
    {
      "cell_type": "code",
      "metadata": {},
      "source": [
        "sns.countplot(x='smoker', data=tips, hue='sex')\n",
        "\n",
        "plt.show()"
      ],
      "id": "dd717539",
      "execution_count": null,
      "outputs": []
    },
    {
      "cell_type": "markdown",
      "metadata": {},
      "source": [
        "## Heatmap\n"
      ],
      "id": "dfcaeacc"
    },
    {
      "cell_type": "code",
      "metadata": {},
      "source": [
        "iris.drop('species', axis=1, inplace=True)\n",
        "iris"
      ],
      "id": "f63e3655",
      "execution_count": null,
      "outputs": []
    },
    {
      "cell_type": "markdown",
      "metadata": {},
      "source": [
        "___\n"
      ],
      "id": "4cc784d7"
    },
    {
      "cell_type": "code",
      "metadata": {},
      "source": [
        "korelasi_iris = iris.corr()\n",
        "korelasi_iris"
      ],
      "id": "979d87cf",
      "execution_count": null,
      "outputs": []
    },
    {
      "cell_type": "code",
      "metadata": {},
      "source": [
        "sns.heatmap(iris.corr())\n",
        "\n",
        "plt.show()"
      ],
      "id": "01be42a3",
      "execution_count": null,
      "outputs": []
    },
    {
      "cell_type": "code",
      "metadata": {},
      "source": [
        "sns.heatmap(iris.corr(), cmap='YlGnBu')\n",
        "\n",
        "plt.show()"
      ],
      "id": "c67eb23f",
      "execution_count": null,
      "outputs": []
    },
    {
      "cell_type": "code",
      "metadata": {},
      "source": [
        "sns.heatmap(iris.corr(), cmap='YlGnBu')\n",
        "\n",
        "plt.xticks(rotation=45)\n",
        "\n",
        "plt.show()"
      ],
      "id": "3d19d322",
      "execution_count": null,
      "outputs": []
    },
    {
      "cell_type": "code",
      "metadata": {},
      "source": [
        "sns.heatmap(iris.corr(), cmap='YlGnBu')\n",
        "\n",
        "plt.yticks(rotation=45)\n",
        "\n",
        "plt.show()"
      ],
      "id": "493b64cb",
      "execution_count": null,
      "outputs": []
    },
    {
      "cell_type": "code",
      "metadata": {},
      "source": [
        "sns.heatmap(iris.corr(), cmap='YlGnBu')\n",
        "\n",
        "plt.xticks(rotation=45)\n",
        "\n",
        "plt.yticks(rotation=45)\n",
        "\n",
        "plt.show()"
      ],
      "id": "58eabb4d",
      "execution_count": null,
      "outputs": []
    },
    {
      "cell_type": "code",
      "metadata": {},
      "source": [
        "sns.heatmap(korelasi_iris[(korelasi_iris >= 0.5)])\n",
        "\n",
        "plt.show()"
      ],
      "id": "b761fa8f",
      "execution_count": null,
      "outputs": []
    },
    {
      "cell_type": "code",
      "metadata": {},
      "source": [
        "sns.heatmap(korelasi_iris[(korelasi_iris >= 0.5) | (korelasi_iris <= -0.2)])\n",
        "\n",
        "plt.show()"
      ],
      "id": "19736537",
      "execution_count": null,
      "outputs": []
    },
    {
      "cell_type": "code",
      "metadata": {},
      "source": [
        "sns.heatmap(korelasi_iris[(korelasi_iris >= 0.5) | (korelasi_iris <= -0.2)], annot = True)\n",
        "\n",
        "plt.show()"
      ],
      "id": "d3fca358",
      "execution_count": null,
      "outputs": []
    },
    {
      "cell_type": "code",
      "metadata": {},
      "source": [
        "sns.heatmap(korelasi_iris[(korelasi_iris >= 0.5) | (korelasi_iris <= -0.2)], annot = True, cmap='Blues')\n",
        "\n",
        "plt.show()"
      ],
      "id": "f51c3401",
      "execution_count": null,
      "outputs": []
    },
    {
      "cell_type": "code",
      "metadata": {},
      "source": [
        "sns.heatmap(korelasi_iris[(korelasi_iris >= 0.5) | (korelasi_iris <= -0.2) ], annot = True, cmap = 'Blues', linewidth = 1, linecolor = 'black')\n",
        "\n",
        "plt.show()"
      ],
      "id": "3aa96665",
      "execution_count": null,
      "outputs": []
    },
    {
      "cell_type": "markdown",
      "metadata": {},
      "source": [
        "## Scatter Plot\n"
      ],
      "id": "13393d98"
    },
    {
      "cell_type": "code",
      "metadata": {},
      "source": [
        "iris = sns.load_dataset('iris')\n",
        "iris"
      ],
      "id": "7d5d50f4",
      "execution_count": null,
      "outputs": []
    },
    {
      "cell_type": "markdown",
      "metadata": {},
      "source": [
        "___\n"
      ],
      "id": "f878a477"
    },
    {
      "cell_type": "code",
      "metadata": {},
      "source": [
        "sns.scatterplot(x='sepal_length', y='sepal_width', data=iris, palette='Accent_r', hue='species')\n",
        "\n",
        "plt.show()"
      ],
      "id": "6b823b6a",
      "execution_count": null,
      "outputs": []
    },
    {
      "cell_type": "code",
      "metadata": {},
      "source": [
        "sns.regplot(x='sepal_length', y='sepal_width', data=iris)\n",
        "\n",
        "plt.show()"
      ],
      "id": "04d2740d",
      "execution_count": null,
      "outputs": []
    },
    {
      "cell_type": "code",
      "metadata": {},
      "source": [
        "sns.regplot(x='petal_length', y='petal_width', data=iris)\n",
        "\n",
        "plt.show()"
      ],
      "id": "d33a200f",
      "execution_count": null,
      "outputs": []
    },
    {
      "cell_type": "code",
      "metadata": {},
      "source": [
        "iris['petal_length'].corr(iris['petal_width'])"
      ],
      "id": "b63e3536",
      "execution_count": null,
      "outputs": []
    },
    {
      "cell_type": "markdown",
      "metadata": {},
      "source": [
        "## Box Plot\n"
      ],
      "id": "174d2c94"
    },
    {
      "cell_type": "code",
      "metadata": {},
      "source": [
        "sns.boxplot(x='petal_length', data=iris)\n",
        "\n",
        "plt.show()"
      ],
      "id": "d25f78ad",
      "execution_count": null,
      "outputs": []
    },
    {
      "cell_type": "code",
      "metadata": {},
      "source": [
        "sns.boxplot(x='sepal_width', data=iris)\n",
        "\n",
        "plt.show()"
      ],
      "id": "21c1be26",
      "execution_count": null,
      "outputs": []
    },
    {
      "cell_type": "code",
      "metadata": {},
      "source": [
        "# | eval: false\n",
        "?sns.countplot"
      ],
      "id": "6d94c574",
      "execution_count": null,
      "outputs": []
    }
  ],
  "metadata": {
    "kernelspec": {
      "name": "python3",
      "language": "python",
      "display_name": "Python 3 (ipykernel)",
      "path": "C:\\Users\\ZakiZ\\AppData\\Local\\Programs\\Python\\Python313\\share\\jupyter\\kernels\\python3"
    }
  },
  "nbformat": 4,
  "nbformat_minor": 5
}