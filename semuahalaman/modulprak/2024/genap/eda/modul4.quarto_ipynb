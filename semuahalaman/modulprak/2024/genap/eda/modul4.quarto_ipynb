{
  "cells": [
    {
      "cell_type": "markdown",
      "metadata": {},
      "source": [
        "---\n",
        "title: \"Pertemuan 4 : Data Visualization (seaborn)\"\n",
        "image: static\\images\\seaborn.png\n",
        "description: \"Data visualization in python using seaborn\"\n",
        "date: 04/30/2024\n",
        "page-navigation: true\n",
        "jupyter: python3\n",
        "format: html\n",
        "---\n",
        "\n",
        "\n",
        "Kembali ke [EDA](./eda2024genap.qmd)\n",
        "\n",
        "# Seaborn\n",
        "\n",
        "<div style='text-align: justify;'>\n",
        "Seaborn adalah library visualisasi data yang dibangun di atas **matplotlib**, dan menggunakan struktur data yang ada pada library **pandas**. Seaborn banyak digunakan karena penggunaannya yang cukup *simple* dibandingkan dengan matplotlib.pyplot dengan hasil visualisasi yang lebih beragam.\n",
        "\n",
        "baca dokumentasi seaborn di sini : [Seaborn](https://seaborn.pydata.org/tutorial/introduction.html)\n",
        "</div>\n",
        "___\n"
      ],
      "id": "8e87ecb7"
    },
    {
      "cell_type": "code",
      "metadata": {},
      "source": [
        "import numpy as np\n",
        "import pandas as pd\n",
        "import matplotlib.pyplot as plt\n",
        "import seaborn as sns\n",
        "\n",
        "#load dataset yang disediakan oleh modul atau library seaborn\n",
        "iris = sns.load_dataset('iris')\n",
        "iris"
      ],
      "id": "ab108ea9",
      "execution_count": null,
      "outputs": []
    },
    {
      "cell_type": "markdown",
      "metadata": {},
      "source": [
        "<div style='text-align: justify;'>\n",
        "Berikut salah satu contoh visualisasi dari data iris yang dihasilkan oleh seaborn.\n",
        "</div>\n"
      ],
      "id": "7fae8a94"
    },
    {
      "cell_type": "code",
      "metadata": {},
      "source": [
        "#| echo: false\n",
        "\n",
        "from matplotlib import pyplot as plt\n",
        "import seaborn as sns\n",
        "iris.groupby('species').size().plot(kind='barh', color=sns.palettes.mpl_palette('Dark2'))\n",
        "plt.gca().spines[['top', 'right',]].set_visible(False)\n",
        "\n",
        "plt.show()"
      ],
      "id": "20b011c1",
      "execution_count": null,
      "outputs": []
    },
    {
      "cell_type": "markdown",
      "metadata": {},
      "source": [
        "___\n",
        "\n",
        "# Inputs\n",
        "\n",
        "<div style='text-align: justify;'>\n",
        "Seaborn memiliki 3 cara untuk menginput data sebagai parameter (sumbu y dan/atau sumbu x) dari fungsi-fungsi visualisasinya.\n",
        "\n",
        "1. List/Series/Array\n",
        "2. Pandas Dataframe dan kolom\n",
        "3. Langsung masuk ke dataframenya untuk diolah\n",
        "\n",
        "</div>\n",
        "\n",
        "## List/Series/Array\n"
      ],
      "id": "2f8b52fb"
    },
    {
      "cell_type": "code",
      "metadata": {},
      "source": [
        "#Mengambil isinya saja dari kolom sepal length dan sepal width\n",
        "length = iris['sepal_length'].values\n",
        "width = iris['sepal_width'].values\n",
        "print(length, width)"
      ],
      "id": "aa3242a0",
      "execution_count": null,
      "outputs": []
    },
    {
      "cell_type": "code",
      "metadata": {},
      "source": [
        "sns.scatterplot(x=length, y=width)\n",
        "\n",
        "plt.show()"
      ],
      "id": "9573f439",
      "execution_count": null,
      "outputs": []
    },
    {
      "cell_type": "markdown",
      "metadata": {},
      "source": [
        "## Dataframe dan kolomnya\n"
      ],
      "id": "58b4534d"
    },
    {
      "cell_type": "code",
      "metadata": {},
      "source": [
        "sns.scatterplot(x=iris['sepal_length'], y=iris['sepal_width'])\n",
        "\n",
        "plt.show()"
      ],
      "id": "77ee1073",
      "execution_count": null,
      "outputs": []
    },
    {
      "cell_type": "markdown",
      "metadata": {},
      "source": [
        "atau\n"
      ],
      "id": "d4c480bb"
    },
    {
      "cell_type": "code",
      "metadata": {},
      "source": [
        "sns.scatterplot(x='sepal_length', y='sepal_width', data=iris)\n",
        "\n",
        "plt.show()"
      ],
      "id": "2fb760ac",
      "execution_count": null,
      "outputs": []
    },
    {
      "cell_type": "markdown",
      "metadata": {},
      "source": [
        "## Olah dataframe\n"
      ],
      "id": "3897f1a2"
    },
    {
      "cell_type": "code",
      "metadata": {},
      "source": [
        "sns.boxplot(data=iris)\n",
        "\n",
        "plt.show()"
      ],
      "id": "dbe56141",
      "execution_count": null,
      "outputs": []
    },
    {
      "cell_type": "markdown",
      "metadata": {},
      "source": [
        "# Plots\n",
        "\n",
        "<div style='text-align: justify;'>\n",
        "Seaborn memiliki banyak sekali jenis plot dengan fungsi yang berbeda-beda. 5 diantaranya yang akan dibahas pada pertemuan ini :\n",
        "\n",
        "1. Distribution Plot\n",
        "2. Count Plot\n",
        "3. Heatmap\n",
        "4. Scatter Plot\n",
        "5. Box Plot\n",
        "\n",
        "untuk plot lainnya, silakan telusuri dokumentasi seaborn berikut :\n",
        "\n",
        "[Seaborn Plots](https://seaborn.pydata.org/examples/index.html)\n",
        "</div>\n",
        "\n",
        "## Distribution Plot\n"
      ],
      "id": "1ea09b2d"
    },
    {
      "cell_type": "code",
      "metadata": {},
      "source": [
        "sns.displot(iris['petal_length'])\n",
        "\n",
        "plt.show()"
      ],
      "id": "392d5d08",
      "execution_count": null,
      "outputs": []
    },
    {
      "cell_type": "code",
      "metadata": {},
      "source": [
        "iris['petal_length'].skew()"
      ],
      "id": "af20275a",
      "execution_count": null,
      "outputs": []
    },
    {
      "cell_type": "code",
      "metadata": {},
      "source": [
        "sns.displot(iris['sepal_width'])\n",
        "\n",
        "plt.show()"
      ],
      "id": "089e5e58",
      "execution_count": null,
      "outputs": []
    },
    {
      "cell_type": "code",
      "metadata": {},
      "source": [
        "iris['sepal_width'].skew()"
      ],
      "id": "09178ac4",
      "execution_count": null,
      "outputs": []
    },
    {
      "cell_type": "code",
      "metadata": {},
      "source": [
        "sns.histplot(iris['sepal_length'])\n",
        "\n",
        "plt.show()"
      ],
      "id": "2cc1244e",
      "execution_count": null,
      "outputs": []
    },
    {
      "cell_type": "code",
      "metadata": {},
      "source": [
        "sns.histplot(iris['sepal_width'])\n",
        "\n",
        "plt.show()"
      ],
      "id": "eedd9312",
      "execution_count": null,
      "outputs": []
    },
    {
      "cell_type": "code",
      "metadata": {},
      "source": [
        "# Histogram kumulatif dari sepal width\n",
        "sns.histplot(iris['sepal_width'], cumulative=True)\n",
        "\n",
        "plt.show()"
      ],
      "id": "fa6f2bdf",
      "execution_count": null,
      "outputs": []
    },
    {
      "cell_type": "markdown",
      "metadata": {},
      "source": [
        "## Count Plot\n"
      ],
      "id": "cbdb1246"
    },
    {
      "cell_type": "code",
      "metadata": {},
      "source": [
        "#tips dari seaborn\n",
        "tips=sns.load_dataset('tips')\n",
        "tips"
      ],
      "id": "4b7143e8",
      "execution_count": null,
      "outputs": []
    },
    {
      "cell_type": "markdown",
      "metadata": {},
      "source": [
        "___\n"
      ],
      "id": "70b7b712"
    },
    {
      "cell_type": "code",
      "metadata": {},
      "source": [
        "# Histogram kumulatif dari sepal width\n",
        "sns.countplot(x='day', data=tips)\n",
        "\n",
        "plt.show()"
      ],
      "id": "58465a5d",
      "execution_count": null,
      "outputs": []
    },
    {
      "cell_type": "code",
      "metadata": {},
      "source": [
        "# Histogram kumulatif dari sepal width\n",
        "sns.countplot(x=tips['day'])\n",
        "\n",
        "plt.show()"
      ],
      "id": "21bc939d",
      "execution_count": null,
      "outputs": []
    },
    {
      "cell_type": "code",
      "metadata": {},
      "source": [
        "# Histogram kumulatif dari sepal width\n",
        "sns.countplot(x='sex', data=tips, palette='Accent', hue='sex')\n",
        "\n",
        "plt.show()"
      ],
      "id": "1cf385f1",
      "execution_count": null,
      "outputs": []
    },
    {
      "cell_type": "code",
      "metadata": {},
      "source": [
        "# Histogram kumulatif dari sepal width\n",
        "sns.countplot(x='day', data=tips, palette='Blues', hue='sex')\n",
        "\n",
        "plt.show()"
      ],
      "id": "a37b7536",
      "execution_count": null,
      "outputs": []
    },
    {
      "cell_type": "code",
      "metadata": {},
      "source": [
        "# Histogram kumulatif dari sepal width\n",
        "sns.countplot(x='sex', data=tips, palette='Blues', hue='day')\n",
        "\n",
        "plt.show()"
      ],
      "id": "ce228912",
      "execution_count": null,
      "outputs": []
    },
    {
      "cell_type": "code",
      "metadata": {},
      "source": [
        "#Jika ingin mengammbar dalam sumbu vertikal ya y=\n",
        "sns.countplot(y='day', data=tips, palette='Blues', hue='sex')\n",
        "\n",
        "plt.show()"
      ],
      "id": "b147f0da",
      "execution_count": null,
      "outputs": []
    },
    {
      "cell_type": "code",
      "metadata": {},
      "source": [
        "sns.countplot(x='sex', data=tips, hue='smoker')\n",
        "\n",
        "plt.show()"
      ],
      "id": "a21b2893",
      "execution_count": null,
      "outputs": []
    },
    {
      "cell_type": "code",
      "metadata": {},
      "source": [
        "sns.countplot(x='smoker', data=tips, hue='sex')\n",
        "\n",
        "plt.show()"
      ],
      "id": "3e086f1c",
      "execution_count": null,
      "outputs": []
    },
    {
      "cell_type": "markdown",
      "metadata": {},
      "source": [
        "## Heatmap\n"
      ],
      "id": "27b9fed8"
    },
    {
      "cell_type": "code",
      "metadata": {},
      "source": [
        "iris.drop('species', axis=1, inplace=True)\n",
        "iris"
      ],
      "id": "21d1519a",
      "execution_count": null,
      "outputs": []
    },
    {
      "cell_type": "markdown",
      "metadata": {},
      "source": [
        "___\n"
      ],
      "id": "78c85220"
    },
    {
      "cell_type": "code",
      "metadata": {},
      "source": [
        "korelasi_iris = iris.corr()\n",
        "korelasi_iris"
      ],
      "id": "25f63351",
      "execution_count": null,
      "outputs": []
    },
    {
      "cell_type": "code",
      "metadata": {},
      "source": [
        "sns.heatmap(iris.corr())\n",
        "\n",
        "plt.show()"
      ],
      "id": "377c0b12",
      "execution_count": null,
      "outputs": []
    },
    {
      "cell_type": "code",
      "metadata": {},
      "source": [
        "sns.heatmap(iris.corr(), cmap='YlGnBu')\n",
        "\n",
        "plt.show()"
      ],
      "id": "080dc9bd",
      "execution_count": null,
      "outputs": []
    },
    {
      "cell_type": "code",
      "metadata": {},
      "source": [
        "sns.heatmap(iris.corr(), cmap='YlGnBu')\n",
        "\n",
        "plt.xticks(rotation=45)\n",
        "\n",
        "plt.show()"
      ],
      "id": "43a6c7f2",
      "execution_count": null,
      "outputs": []
    },
    {
      "cell_type": "code",
      "metadata": {},
      "source": [
        "sns.heatmap(iris.corr(), cmap='YlGnBu')\n",
        "\n",
        "plt.yticks(rotation=45)\n",
        "\n",
        "plt.show()"
      ],
      "id": "b6afcb6a",
      "execution_count": null,
      "outputs": []
    },
    {
      "cell_type": "code",
      "metadata": {},
      "source": [
        "sns.heatmap(iris.corr(), cmap='YlGnBu')\n",
        "\n",
        "plt.xticks(rotation=45)\n",
        "\n",
        "plt.yticks(rotation=45)\n",
        "\n",
        "plt.show()"
      ],
      "id": "9bceb232",
      "execution_count": null,
      "outputs": []
    },
    {
      "cell_type": "code",
      "metadata": {},
      "source": [
        "sns.heatmap(korelasi_iris[(korelasi_iris >= 0.5)])\n",
        "\n",
        "plt.show()"
      ],
      "id": "b6b8fcba",
      "execution_count": null,
      "outputs": []
    },
    {
      "cell_type": "code",
      "metadata": {},
      "source": [
        "sns.heatmap(korelasi_iris[(korelasi_iris >= 0.5) | (korelasi_iris <= -0.2)])\n",
        "\n",
        "plt.show()"
      ],
      "id": "5b83aab2",
      "execution_count": null,
      "outputs": []
    },
    {
      "cell_type": "code",
      "metadata": {},
      "source": [
        "sns.heatmap(korelasi_iris[(korelasi_iris >= 0.5) | (korelasi_iris <= -0.2)], annot = True)\n",
        "\n",
        "plt.show()"
      ],
      "id": "251cd54d",
      "execution_count": null,
      "outputs": []
    },
    {
      "cell_type": "code",
      "metadata": {},
      "source": [
        "sns.heatmap(korelasi_iris[(korelasi_iris >= 0.5) | (korelasi_iris <= -0.2)], annot = True, cmap='Blues')\n",
        "\n",
        "plt.show()"
      ],
      "id": "5a302013",
      "execution_count": null,
      "outputs": []
    },
    {
      "cell_type": "code",
      "metadata": {},
      "source": [
        "sns.heatmap(korelasi_iris[(korelasi_iris >= 0.5) | (korelasi_iris <= -0.2) ], annot = True, cmap = 'Blues', linewidth = 1, linecolor = 'black')\n",
        "\n",
        "plt.show()"
      ],
      "id": "807a490d",
      "execution_count": null,
      "outputs": []
    },
    {
      "cell_type": "markdown",
      "metadata": {},
      "source": [
        "## Scatter Plot\n"
      ],
      "id": "3b58776d"
    },
    {
      "cell_type": "code",
      "metadata": {},
      "source": [
        "iris = sns.load_dataset('iris')\n",
        "iris"
      ],
      "id": "41bbc97e",
      "execution_count": null,
      "outputs": []
    },
    {
      "cell_type": "markdown",
      "metadata": {},
      "source": [
        "___\n"
      ],
      "id": "2f6fa5ec"
    },
    {
      "cell_type": "code",
      "metadata": {},
      "source": [
        "sns.scatterplot(x='sepal_length', y='sepal_width', data=iris, palette='Accent_r', hue='species')\n",
        "\n",
        "plt.show()"
      ],
      "id": "ebc1f4cf",
      "execution_count": null,
      "outputs": []
    },
    {
      "cell_type": "code",
      "metadata": {},
      "source": [
        "sns.regplot(x='sepal_length', y='sepal_width', data=iris)\n",
        "\n",
        "plt.show()"
      ],
      "id": "0c43d8ac",
      "execution_count": null,
      "outputs": []
    },
    {
      "cell_type": "code",
      "metadata": {},
      "source": [
        "sns.regplot(x='petal_length', y='petal_width', data=iris)\n",
        "\n",
        "plt.show()"
      ],
      "id": "c239a071",
      "execution_count": null,
      "outputs": []
    },
    {
      "cell_type": "code",
      "metadata": {},
      "source": [
        "iris['petal_length'].corr(iris['petal_width'])"
      ],
      "id": "eee1940e",
      "execution_count": null,
      "outputs": []
    },
    {
      "cell_type": "markdown",
      "metadata": {},
      "source": [
        "## Box Plot\n"
      ],
      "id": "72200aab"
    },
    {
      "cell_type": "code",
      "metadata": {},
      "source": [
        "sns.boxplot(x='petal_length', data=iris)\n",
        "\n",
        "plt.show()"
      ],
      "id": "c2ac251b",
      "execution_count": null,
      "outputs": []
    },
    {
      "cell_type": "code",
      "metadata": {},
      "source": [
        "sns.boxplot(x='sepal_width', data=iris)\n",
        "\n",
        "plt.show()"
      ],
      "id": "0ffa93ca",
      "execution_count": null,
      "outputs": []
    },
    {
      "cell_type": "code",
      "metadata": {},
      "source": [
        "# | eval: false\n",
        "?sns.countplot"
      ],
      "id": "914a2b87",
      "execution_count": null,
      "outputs": []
    }
  ],
  "metadata": {
    "kernelspec": {
      "name": "python3",
      "language": "python",
      "display_name": "Python 3 (ipykernel)",
      "path": "C:\\Users\\ZakiZ\\AppData\\Local\\Programs\\Python\\Python313\\share\\jupyter\\kernels\\python3"
    }
  },
  "nbformat": 4,
  "nbformat_minor": 5
}