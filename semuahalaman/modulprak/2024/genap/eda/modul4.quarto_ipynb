{
  "cells": [
    {
      "cell_type": "markdown",
      "metadata": {},
      "source": [
        "---\n",
        "title: \"Pertemuan 4 : Data Visualization (seaborn)\"\n",
        "image: static\\images\\seaborn.png\n",
        "description: \"Data visualization in python using seaborn\"\n",
        "date: 04/30/2024\n",
        "page-navigation: true\n",
        "jupyter: python3\n",
        "format: html\n",
        "---\n",
        "\n",
        "\n",
        "Kembali ke [EDA](./eda2024genap.qmd)\n",
        "\n",
        "# Seaborn\n",
        "\n",
        "<div style='text-align: justify;'>\n",
        "Seaborn adalah library visualisasi data yang dibangun di atas **matplotlib**, dan menggunakan struktur data yang ada pada library **pandas**. Seaborn banyak digunakan karena penggunaannya yang cukup *simple* dibandingkan dengan matplotlib.pyplot dengan hasil visualisasi yang lebih beragam.\n",
        "\n",
        "baca dokumentasi seaborn di sini : [Seaborn](https://seaborn.pydata.org/tutorial/introduction.html)\n",
        "</div>\n",
        "___\n"
      ],
      "id": "2a8693aa"
    },
    {
      "cell_type": "code",
      "metadata": {},
      "source": [
        "import numpy as np\n",
        "import pandas as pd\n",
        "import matplotlib.pyplot as plt\n",
        "import seaborn as sns\n",
        "\n",
        "#load dataset yang disediakan oleh modul atau library seaborn\n",
        "iris = sns.load_dataset('iris')\n",
        "iris"
      ],
      "id": "3bb7b7ea",
      "execution_count": null,
      "outputs": []
    },
    {
      "cell_type": "markdown",
      "metadata": {},
      "source": [
        "<div style='text-align: justify;'>\n",
        "Berikut salah satu contoh visualisasi dari data iris yang dihasilkan oleh seaborn.\n",
        "</div>\n"
      ],
      "id": "8cac0ca9"
    },
    {
      "cell_type": "code",
      "metadata": {},
      "source": [
        "#| echo: false\n",
        "\n",
        "from matplotlib import pyplot as plt\n",
        "import seaborn as sns\n",
        "iris.groupby('species').size().plot(kind='barh', color=sns.palettes.mpl_palette('Dark2'))\n",
        "plt.gca().spines[['top', 'right',]].set_visible(False)\n",
        "\n",
        "plt.show()"
      ],
      "id": "c70b6cce",
      "execution_count": null,
      "outputs": []
    },
    {
      "cell_type": "markdown",
      "metadata": {},
      "source": [
        "___\n",
        "\n",
        "# Inputs\n",
        "\n",
        "<div style='text-align: justify;'>\n",
        "Seaborn memiliki 3 cara untuk menginput data sebagai parameter (sumbu y dan/atau sumbu x) dari fungsi-fungsi visualisasinya.\n",
        "\n",
        "1. List/Series/Array\n",
        "2. Pandas Dataframe dan kolom\n",
        "3. Langsung masuk ke dataframenya untuk diolah\n",
        "\n",
        "</div>\n",
        "\n",
        "## List/Series/Array\n"
      ],
      "id": "dc824a8b"
    },
    {
      "cell_type": "code",
      "metadata": {},
      "source": [
        "#Mengambil isinya saja dari kolom sepal length dan sepal width\n",
        "length = iris['sepal_length'].values\n",
        "width = iris['sepal_width'].values\n",
        "print(length, width)"
      ],
      "id": "5ecefca7",
      "execution_count": null,
      "outputs": []
    },
    {
      "cell_type": "code",
      "metadata": {},
      "source": [
        "sns.scatterplot(x=length, y=width)\n",
        "\n",
        "plt.show()"
      ],
      "id": "e5f113e9",
      "execution_count": null,
      "outputs": []
    },
    {
      "cell_type": "markdown",
      "metadata": {},
      "source": [
        "## Dataframe dan kolomnya\n"
      ],
      "id": "ea7464f2"
    },
    {
      "cell_type": "code",
      "metadata": {},
      "source": [
        "sns.scatterplot(x=iris['sepal_length'], y=iris['sepal_width'])\n",
        "\n",
        "plt.show()"
      ],
      "id": "636184ae",
      "execution_count": null,
      "outputs": []
    },
    {
      "cell_type": "markdown",
      "metadata": {},
      "source": [
        "atau\n"
      ],
      "id": "04915c81"
    },
    {
      "cell_type": "code",
      "metadata": {},
      "source": [
        "sns.scatterplot(x='sepal_length', y='sepal_width', data=iris)\n",
        "\n",
        "plt.show()"
      ],
      "id": "a6c760ed",
      "execution_count": null,
      "outputs": []
    },
    {
      "cell_type": "markdown",
      "metadata": {},
      "source": [
        "## Olah dataframe\n"
      ],
      "id": "a3b7b104"
    },
    {
      "cell_type": "code",
      "metadata": {},
      "source": [
        "sns.boxplot(data=iris)\n",
        "\n",
        "plt.show()"
      ],
      "id": "1163ca52",
      "execution_count": null,
      "outputs": []
    },
    {
      "cell_type": "markdown",
      "metadata": {},
      "source": [
        "# Plots\n",
        "\n",
        "<div style='text-align: justify;'>\n",
        "Seaborn memiliki banyak sekali jenis plot dengan fungsi yang berbeda-beda. 5 diantaranya yang akan dibahas pada pertemuan ini :\n",
        "\n",
        "1. Distribution Plot\n",
        "2. Count Plot\n",
        "3. Heatmap\n",
        "4. Scatter Plot\n",
        "5. Box Plot\n",
        "\n",
        "untuk plot lainnya, silakan telusuri dokumentasi seaborn berikut :\n",
        "\n",
        "[Seaborn Plots](https://seaborn.pydata.org/examples/index.html)\n",
        "</div>\n",
        "\n",
        "## Distribution Plot\n"
      ],
      "id": "4253ccd2"
    },
    {
      "cell_type": "code",
      "metadata": {},
      "source": [
        "sns.displot(iris['petal_length'])\n",
        "\n",
        "plt.show()"
      ],
      "id": "a8f20268",
      "execution_count": null,
      "outputs": []
    },
    {
      "cell_type": "code",
      "metadata": {},
      "source": [
        "iris['petal_length'].skew()"
      ],
      "id": "2995308f",
      "execution_count": null,
      "outputs": []
    },
    {
      "cell_type": "code",
      "metadata": {},
      "source": [
        "sns.displot(iris['sepal_width'])\n",
        "\n",
        "plt.show()"
      ],
      "id": "bfdc1c1b",
      "execution_count": null,
      "outputs": []
    },
    {
      "cell_type": "code",
      "metadata": {},
      "source": [
        "iris['sepal_width'].skew()"
      ],
      "id": "18788359",
      "execution_count": null,
      "outputs": []
    },
    {
      "cell_type": "code",
      "metadata": {},
      "source": [
        "sns.histplot(iris['sepal_length'])\n",
        "\n",
        "plt.show()"
      ],
      "id": "e069d77a",
      "execution_count": null,
      "outputs": []
    },
    {
      "cell_type": "code",
      "metadata": {},
      "source": [
        "sns.histplot(iris['sepal_width'])\n",
        "\n",
        "plt.show()"
      ],
      "id": "3f40ee5f",
      "execution_count": null,
      "outputs": []
    },
    {
      "cell_type": "code",
      "metadata": {},
      "source": [
        "# Histogram kumulatif dari sepal width\n",
        "sns.histplot(iris['sepal_width'], cumulative=True)\n",
        "\n",
        "plt.show()"
      ],
      "id": "a89d18c9",
      "execution_count": null,
      "outputs": []
    },
    {
      "cell_type": "markdown",
      "metadata": {},
      "source": [
        "## Count Plot\n"
      ],
      "id": "e7863f41"
    },
    {
      "cell_type": "code",
      "metadata": {},
      "source": [
        "#tips dari seaborn\n",
        "tips=sns.load_dataset('tips')\n",
        "tips"
      ],
      "id": "3e100390",
      "execution_count": null,
      "outputs": []
    },
    {
      "cell_type": "markdown",
      "metadata": {},
      "source": [
        "___\n"
      ],
      "id": "494dc473"
    },
    {
      "cell_type": "code",
      "metadata": {},
      "source": [
        "# Histogram kumulatif dari sepal width\n",
        "sns.countplot(x='day', data=tips)\n",
        "\n",
        "plt.show()"
      ],
      "id": "2d149378",
      "execution_count": null,
      "outputs": []
    },
    {
      "cell_type": "code",
      "metadata": {},
      "source": [
        "# Histogram kumulatif dari sepal width\n",
        "sns.countplot(x=tips['day'])\n",
        "\n",
        "plt.show()"
      ],
      "id": "ec07528c",
      "execution_count": null,
      "outputs": []
    },
    {
      "cell_type": "code",
      "metadata": {},
      "source": [
        "# Histogram kumulatif dari sepal width\n",
        "sns.countplot(x='sex', data=tips, palette='Accent', hue='sex')\n",
        "\n",
        "plt.show()"
      ],
      "id": "7e56a554",
      "execution_count": null,
      "outputs": []
    },
    {
      "cell_type": "code",
      "metadata": {},
      "source": [
        "# Histogram kumulatif dari sepal width\n",
        "sns.countplot(x='day', data=tips, palette='Blues', hue='sex')\n",
        "\n",
        "plt.show()"
      ],
      "id": "c5b92476",
      "execution_count": null,
      "outputs": []
    },
    {
      "cell_type": "code",
      "metadata": {},
      "source": [
        "# Histogram kumulatif dari sepal width\n",
        "sns.countplot(x='sex', data=tips, palette='Blues', hue='day')\n",
        "\n",
        "plt.show()"
      ],
      "id": "8417d7fe",
      "execution_count": null,
      "outputs": []
    },
    {
      "cell_type": "code",
      "metadata": {},
      "source": [
        "#Jika ingin mengammbar dalam sumbu vertikal ya y=\n",
        "sns.countplot(y='day', data=tips, palette='Blues', hue='sex')\n",
        "\n",
        "plt.show()"
      ],
      "id": "a166cb34",
      "execution_count": null,
      "outputs": []
    },
    {
      "cell_type": "code",
      "metadata": {},
      "source": [
        "sns.countplot(x='sex', data=tips, hue='smoker')\n",
        "\n",
        "plt.show()"
      ],
      "id": "9b9fc959",
      "execution_count": null,
      "outputs": []
    },
    {
      "cell_type": "code",
      "metadata": {},
      "source": [
        "sns.countplot(x='smoker', data=tips, hue='sex')\n",
        "\n",
        "plt.show()"
      ],
      "id": "5c6c0742",
      "execution_count": null,
      "outputs": []
    },
    {
      "cell_type": "markdown",
      "metadata": {},
      "source": [
        "## Heatmap\n"
      ],
      "id": "5a9ff2d8"
    },
    {
      "cell_type": "code",
      "metadata": {},
      "source": [
        "iris.drop('species', axis=1, inplace=True)\n",
        "iris"
      ],
      "id": "6653ade5",
      "execution_count": null,
      "outputs": []
    },
    {
      "cell_type": "markdown",
      "metadata": {},
      "source": [
        "___\n"
      ],
      "id": "c1d4324a"
    },
    {
      "cell_type": "code",
      "metadata": {},
      "source": [
        "korelasi_iris = iris.corr()\n",
        "korelasi_iris"
      ],
      "id": "37e8c935",
      "execution_count": null,
      "outputs": []
    },
    {
      "cell_type": "code",
      "metadata": {},
      "source": [
        "sns.heatmap(iris.corr())\n",
        "\n",
        "plt.show()"
      ],
      "id": "7c39899f",
      "execution_count": null,
      "outputs": []
    },
    {
      "cell_type": "code",
      "metadata": {},
      "source": [
        "sns.heatmap(iris.corr(), cmap='YlGnBu')\n",
        "\n",
        "plt.show()"
      ],
      "id": "8edd171b",
      "execution_count": null,
      "outputs": []
    },
    {
      "cell_type": "code",
      "metadata": {},
      "source": [
        "sns.heatmap(iris.corr(), cmap='YlGnBu')\n",
        "\n",
        "plt.xticks(rotation=45)\n",
        "\n",
        "plt.show()"
      ],
      "id": "35393f21",
      "execution_count": null,
      "outputs": []
    },
    {
      "cell_type": "code",
      "metadata": {},
      "source": [
        "sns.heatmap(iris.corr(), cmap='YlGnBu')\n",
        "\n",
        "plt.yticks(rotation=45)\n",
        "\n",
        "plt.show()"
      ],
      "id": "7058ffa0",
      "execution_count": null,
      "outputs": []
    },
    {
      "cell_type": "code",
      "metadata": {},
      "source": [
        "sns.heatmap(iris.corr(), cmap='YlGnBu')\n",
        "\n",
        "plt.xticks(rotation=45)\n",
        "\n",
        "plt.yticks(rotation=45)\n",
        "\n",
        "plt.show()"
      ],
      "id": "ed912a1a",
      "execution_count": null,
      "outputs": []
    },
    {
      "cell_type": "code",
      "metadata": {},
      "source": [
        "sns.heatmap(korelasi_iris[(korelasi_iris >= 0.5)])\n",
        "\n",
        "plt.show()"
      ],
      "id": "0ae7cdc9",
      "execution_count": null,
      "outputs": []
    },
    {
      "cell_type": "code",
      "metadata": {},
      "source": [
        "sns.heatmap(korelasi_iris[(korelasi_iris >= 0.5) | (korelasi_iris <= -0.2)])\n",
        "\n",
        "plt.show()"
      ],
      "id": "fefd6c01",
      "execution_count": null,
      "outputs": []
    },
    {
      "cell_type": "code",
      "metadata": {},
      "source": [
        "sns.heatmap(korelasi_iris[(korelasi_iris >= 0.5) | (korelasi_iris <= -0.2)], annot = True)\n",
        "\n",
        "plt.show()"
      ],
      "id": "29631989",
      "execution_count": null,
      "outputs": []
    },
    {
      "cell_type": "code",
      "metadata": {},
      "source": [
        "sns.heatmap(korelasi_iris[(korelasi_iris >= 0.5) | (korelasi_iris <= -0.2)], annot = True, cmap='Blues')\n",
        "\n",
        "plt.show()"
      ],
      "id": "ab046266",
      "execution_count": null,
      "outputs": []
    },
    {
      "cell_type": "code",
      "metadata": {},
      "source": [
        "sns.heatmap(korelasi_iris[(korelasi_iris >= 0.5) | (korelasi_iris <= -0.2) ], annot = True, cmap = 'Blues', linewidth = 1, linecolor = 'black')\n",
        "\n",
        "plt.show()"
      ],
      "id": "76707bd3",
      "execution_count": null,
      "outputs": []
    },
    {
      "cell_type": "markdown",
      "metadata": {},
      "source": [
        "## Scatter Plot\n"
      ],
      "id": "591f622b"
    },
    {
      "cell_type": "code",
      "metadata": {},
      "source": [
        "iris = sns.load_dataset('iris')\n",
        "iris"
      ],
      "id": "f2b16423",
      "execution_count": null,
      "outputs": []
    },
    {
      "cell_type": "markdown",
      "metadata": {},
      "source": [
        "___\n"
      ],
      "id": "c2439145"
    },
    {
      "cell_type": "code",
      "metadata": {},
      "source": [
        "sns.scatterplot(x='sepal_length', y='sepal_width', data=iris, palette='Accent_r', hue='species')\n",
        "\n",
        "plt.show()"
      ],
      "id": "6cb185ee",
      "execution_count": null,
      "outputs": []
    },
    {
      "cell_type": "code",
      "metadata": {},
      "source": [
        "sns.regplot(x='sepal_length', y='sepal_width', data=iris)\n",
        "\n",
        "plt.show()"
      ],
      "id": "dcd8391c",
      "execution_count": null,
      "outputs": []
    },
    {
      "cell_type": "code",
      "metadata": {},
      "source": [
        "sns.regplot(x='petal_length', y='petal_width', data=iris)\n",
        "\n",
        "plt.show()"
      ],
      "id": "8ca6203c",
      "execution_count": null,
      "outputs": []
    },
    {
      "cell_type": "code",
      "metadata": {},
      "source": [
        "iris['petal_length'].corr(iris['petal_width'])"
      ],
      "id": "7983b90b",
      "execution_count": null,
      "outputs": []
    },
    {
      "cell_type": "markdown",
      "metadata": {},
      "source": [
        "## Box Plot\n"
      ],
      "id": "8bf5452c"
    },
    {
      "cell_type": "code",
      "metadata": {},
      "source": [
        "sns.boxplot(x='petal_length', data=iris)\n",
        "\n",
        "plt.show()"
      ],
      "id": "2f9f4cb2",
      "execution_count": null,
      "outputs": []
    },
    {
      "cell_type": "code",
      "metadata": {},
      "source": [
        "sns.boxplot(x='sepal_width', data=iris)\n",
        "\n",
        "plt.show()"
      ],
      "id": "89be1a7a",
      "execution_count": null,
      "outputs": []
    },
    {
      "cell_type": "code",
      "metadata": {},
      "source": [
        "# | eval: false\n",
        "?sns.countplot"
      ],
      "id": "5fcc4f2b",
      "execution_count": null,
      "outputs": []
    }
  ],
  "metadata": {
    "kernelspec": {
      "name": "python3",
      "language": "python",
      "display_name": "Python 3 (ipykernel)",
      "path": "C:\\Users\\ZakiZ\\AppData\\Local\\Programs\\Python\\Python313\\share\\jupyter\\kernels\\python3"
    }
  },
  "nbformat": 4,
  "nbformat_minor": 5
}