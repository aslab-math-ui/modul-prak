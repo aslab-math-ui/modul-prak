{
  "cells": [
    {
      "cell_type": "markdown",
      "metadata": {},
      "source": [
        "---\n",
        "title: \"Pertemuan 6 : Interactive Data Visualization (plotly)\"\n",
        "image: static\\images\\plotly.png\n",
        "description: \"Interactive Data Visualization using Plotly\"\n",
        "date: 05/14/2024\n",
        "page-navigation: true\n",
        "jupyter: python3\n",
        "format: html\n",
        "---\n",
        "\n",
        "\n",
        "Kembali ke [EDA](./eda2024genap.qmd)\n",
        "\n",
        "# `plotly.express`\n",
        "\n",
        "Jika belum terinstall pada jupyter notebook anda, jalankan `pip install plotly` pada terminal.\n"
      ],
      "id": "73d8cf92"
    },
    {
      "cell_type": "code",
      "metadata": {},
      "source": [
        "import numpy as np\n",
        "import pandas as pd\n",
        "import matplotlib.pyplot as plt\n",
        "import seaborn as sns\n",
        "import plotly.express as px"
      ],
      "id": "f17e5fa0",
      "execution_count": null,
      "outputs": []
    },
    {
      "cell_type": "markdown",
      "metadata": {},
      "source": [
        "# Basic Charts\n",
        "\n",
        "## Line Chart\n"
      ],
      "id": "18384caf"
    },
    {
      "cell_type": "code",
      "metadata": {},
      "source": [
        "# using the iris dataset\n",
        "df = px.data.iris()\n",
        " \n",
        "# plotting the line chart\n",
        "fig = px.line(df, y=\"sepal_width\")\n",
        " \n",
        "# showing the plot\n",
        "fig.show()"
      ],
      "id": "2df35b8e",
      "execution_count": null,
      "outputs": []
    },
    {
      "cell_type": "markdown",
      "metadata": {},
      "source": [
        "Apa bedanya dengan line plot biasa?\n",
        "\n",
        "___"
      ],
      "id": "b443e08d"
    },
    {
      "cell_type": "code",
      "metadata": {},
      "source": [
        "import matplotlib.pyplot as plt\n",
        "import seaborn as sns\n",
        "\n",
        "# plotting the line chart\n",
        "sns.lineplot(df, y=\"sepal_width\", x=df.index)\n",
        "\n",
        "# showing the plot\n",
        "plt.show()"
      ],
      "id": "0c82eeb4",
      "execution_count": null,
      "outputs": []
    },
    {
      "cell_type": "markdown",
      "metadata": {},
      "source": [
        "### Grouping \n"
      ],
      "id": "eafd4760"
    },
    {
      "cell_type": "code",
      "metadata": {},
      "source": [
        "# plotting the line chart\n",
        "fig = px.line(df, y=\"sepal_width\", line_group='species')\n",
        " \n",
        "# showing the plot\n",
        "fig.show()"
      ],
      "id": "37304687",
      "execution_count": null,
      "outputs": []
    },
    {
      "cell_type": "code",
      "metadata": {},
      "source": [
        "# plotting the line chart\n",
        "fig = px.line(df, y=\"sepal_width\", line_dash='species',\n",
        "              color='species')\n",
        " \n",
        "# showing the plot\n",
        "fig.show()"
      ],
      "id": "f9fda38c",
      "execution_count": null,
      "outputs": []
    },
    {
      "cell_type": "markdown",
      "metadata": {},
      "source": [
        "## Bar Chart\n"
      ],
      "id": "f1532e15"
    },
    {
      "cell_type": "code",
      "metadata": {},
      "source": [
        "# Loading the data\n",
        "df = px.data.tips()\n",
        " \n",
        "# Creating the bar chart\n",
        "fig = px.bar(df, x='day', y=\"total_bill\")\n",
        " \n",
        "fig.show()"
      ],
      "id": "f0ca8332",
      "execution_count": null,
      "outputs": []
    },
    {
      "cell_type": "markdown",
      "metadata": {},
      "source": [
        "### Grouping\n"
      ],
      "id": "ca52c3b7"
    },
    {
      "cell_type": "code",
      "metadata": {},
      "source": [
        "# Creating the bar chart\n",
        "fig = px.bar(df, x='day', y=\"total_bill\", color='sex',\n",
        "             facet_row='time', facet_col='sex')\n",
        " \n",
        "fig.show()"
      ],
      "id": "b9b2ed18",
      "execution_count": null,
      "outputs": []
    },
    {
      "cell_type": "markdown",
      "metadata": {},
      "source": [
        "## Scatter Plot\n"
      ],
      "id": "e4130efa"
    },
    {
      "cell_type": "code",
      "metadata": {},
      "source": [
        "# plotting the scatter chart\n",
        "fig = px.scatter(df, x='total_bill', y=\"tip\")\n",
        " \n",
        "# showing the plot\n",
        "fig.show()"
      ],
      "id": "a2891e42",
      "execution_count": null,
      "outputs": []
    },
    {
      "cell_type": "markdown",
      "metadata": {},
      "source": [
        "### Grouping\n"
      ],
      "id": "02a7b12a"
    },
    {
      "cell_type": "code",
      "metadata": {},
      "source": [
        "# plotting the scatter chart\n",
        "fig = px.scatter(df, x='total_bill', y=\"tip\", color='time',\n",
        "                 symbol='sex', size='size', facet_row='day',\n",
        "                 facet_col='time')\n",
        " \n",
        "# showing the plot\n",
        "fig.show()"
      ],
      "id": "7fc27417",
      "execution_count": null,
      "outputs": []
    },
    {
      "cell_type": "markdown",
      "metadata": {},
      "source": [
        "## Histogram\n"
      ],
      "id": "189efec7"
    },
    {
      "cell_type": "code",
      "metadata": {},
      "source": [
        "# plotting the histogram\n",
        "fig = px.histogram(df, x=\"total_bill\")\n",
        " \n",
        "# showing the plot\n",
        "fig.show()"
      ],
      "id": "161ac176",
      "execution_count": null,
      "outputs": []
    },
    {
      "cell_type": "markdown",
      "metadata": {},
      "source": [
        "### Grouping\n"
      ],
      "id": "3a9576b5"
    },
    {
      "cell_type": "code",
      "metadata": {},
      "source": [
        "# plotting the histogram\n",
        "fig = px.histogram(df, x=\"total_bill\", color='sex',\n",
        "                   nbins=50, histnorm='percent',\n",
        "                   barmode='overlay')\n",
        " \n",
        "# showing the plot\n",
        "fig.show()"
      ],
      "id": "abe4cbee",
      "execution_count": null,
      "outputs": []
    },
    {
      "cell_type": "markdown",
      "metadata": {},
      "source": [
        "## Pie Chart\n"
      ],
      "id": "d8e49f43"
    },
    {
      "cell_type": "code",
      "metadata": {},
      "source": [
        "# plotting the pie chart\n",
        "fig = px.pie(df, values=\"total_bill\", names=\"day\")\n",
        " \n",
        "# showing the plot\n",
        "fig.show()"
      ],
      "id": "9d184eaa",
      "execution_count": null,
      "outputs": []
    },
    {
      "cell_type": "markdown",
      "metadata": {},
      "source": [
        "## Donut Chart\n"
      ],
      "id": "a342e671"
    },
    {
      "cell_type": "code",
      "metadata": {},
      "source": [
        "# plotting the donut chart\n",
        "fig = px.pie(df, values=\"total_bill\", names=\"day\",\n",
        "             color_discrete_sequence=px.colors.sequential.RdBu,\n",
        "             opacity=0.7, hole=0.5)\n",
        " \n",
        "# showing the plot\n",
        "fig.show()"
      ],
      "id": "cdda2226",
      "execution_count": null,
      "outputs": []
    },
    {
      "cell_type": "markdown",
      "metadata": {},
      "source": [
        "## Box Plot\n"
      ],
      "id": "9018f4c0"
    },
    {
      "cell_type": "code",
      "metadata": {},
      "source": [
        "# plotting the boxplot\n",
        "fig = px.box(df, x=\"day\", y=\"tip\")\n",
        " \n",
        "# showing the plot\n",
        "fig.show()"
      ],
      "id": "a1bde2fd",
      "execution_count": null,
      "outputs": []
    },
    {
      "cell_type": "markdown",
      "metadata": {},
      "source": [
        "### Grouping\n"
      ],
      "id": "331f25a9"
    },
    {
      "cell_type": "code",
      "metadata": {},
      "source": [
        "# plotting the boxplot\n",
        "fig = px.box(df, x=\"day\", y=\"tip\", color='sex',\n",
        "             facet_row='time', boxmode='group',\n",
        "             notched=True)\n",
        " \n",
        "# showing the plot\n",
        "fig.show()"
      ],
      "id": "d64c575b",
      "execution_count": null,
      "outputs": []
    },
    {
      "cell_type": "markdown",
      "metadata": {},
      "source": [
        "## Violin Plot\n"
      ],
      "id": "e7439c28"
    },
    {
      "cell_type": "code",
      "metadata": {},
      "source": [
        "# plotting the violin plot\n",
        "fig = px.violin(df, x=\"day\", y=\"tip\")\n",
        " \n",
        "# showing the plot\n",
        "fig.show()"
      ],
      "id": "71ec2771",
      "execution_count": null,
      "outputs": []
    },
    {
      "cell_type": "markdown",
      "metadata": {},
      "source": [
        "### Grouping\n"
      ],
      "id": "542558fa"
    },
    {
      "cell_type": "code",
      "metadata": {},
      "source": [
        "# plotting the violin plot\n",
        "fig = px.violin(df, x=\"day\", y=\"tip\", color='sex',\n",
        "                facet_row='time', box=True)\n",
        " \n",
        "# showing the plot\n",
        "fig.show()"
      ],
      "id": "c97f6e47",
      "execution_count": null,
      "outputs": []
    },
    {
      "cell_type": "markdown",
      "metadata": {},
      "source": [
        "## 3D Plot\n"
      ],
      "id": "3a82bb88"
    },
    {
      "cell_type": "code",
      "metadata": {},
      "source": [
        "# plotting the figure\n",
        "fig = px.scatter_3d(df, x=\"total_bill\", y=\"sex\", z=\"tip\")\n",
        " \n",
        "fig.show()"
      ],
      "id": "6751bc12",
      "execution_count": null,
      "outputs": []
    },
    {
      "cell_type": "markdown",
      "metadata": {},
      "source": [
        "### Grouping\n"
      ],
      "id": "882cccd1"
    },
    {
      "cell_type": "code",
      "metadata": {},
      "source": [
        "# plotting the figure\n",
        "fig = px.scatter_3d(df, x=\"total_bill\", y=\"sex\", z=\"tip\", color='day', \n",
        "                    size='total_bill', symbol='time')\n",
        " \n",
        "fig.show()"
      ],
      "id": "c8b76063",
      "execution_count": null,
      "outputs": []
    },
    {
      "cell_type": "markdown",
      "metadata": {},
      "source": [
        "# Adding interaction\n",
        "\n",
        "Untuk memunculkan tombol-tombol interaktif pada plot, kita menggunakan submodule dari library plotly yaitu `plotly.graph_objects`\n",
        "\n",
        "## Dropdown Menu\n"
      ],
      "id": "0439b5ed"
    },
    {
      "cell_type": "code",
      "metadata": {},
      "source": [
        "import plotly.graph_objects as go\n",
        "\n",
        "plot = go.Figure(data=[go.Scatter(\n",
        "    x=df['day'],\n",
        "    y=df['tip'],\n",
        "    mode='markers',)\n",
        "])\n",
        " \n",
        "# Add dropdown\n",
        "plot.update_layout(\n",
        "    updatemenus=[\n",
        "        dict(buttons=list([\n",
        "            dict(\n",
        "                args=[\"type\", \"scatter\"],\n",
        "                label=\"Scatter Plot\",\n",
        "                method=\"restyle\"\n",
        "            ),\n",
        "            dict(\n",
        "                args=[\"type\", \"bar\"],\n",
        "                label=\"Bar Chart\",\n",
        "                method=\"restyle\"\n",
        "            )\n",
        "        ]),\n",
        "            direction=\"down\",\n",
        "        ),\n",
        "    ]\n",
        ")\n",
        " \n",
        "plot.show()"
      ],
      "id": "aae1975f",
      "execution_count": null,
      "outputs": []
    },
    {
      "cell_type": "markdown",
      "metadata": {},
      "source": [
        ":::{.callout-note}\n",
        "# `plotly.graph_objects`\n",
        "\n",
        "Pada saat kita menggunakan `plotly.express` (px), secara tidak langsung kita menggunakan `plotly.graph_objects` untuk menghasilkan suatu plot karena `plotly.express` dibangun di atas `plotly.graph_objects`, sehingga kedua library ini pada dasarnya memiliki fungsi yang sama. Hanya saja penggunaan pada plotly.express jauh lebih simple dan bersih.\n",
        "\n",
        "Lebih lanjut silakan baca dokumentasi berikut : [Dokumentasi `plotly.express`](https://plotly.com/python/graph-objects/)\n",
        ":::\n",
        "\n",
        "## Buttons\n"
      ],
      "id": "44f4a99b"
    },
    {
      "cell_type": "code",
      "metadata": {},
      "source": [
        "plot = go.Figure(data=[go.Scatter(\n",
        "    x=df['day'],\n",
        "    y=df['tip'],\n",
        "    mode='markers',)\n",
        "])\n",
        " \n",
        "# Add dropdown\n",
        "plot.update_layout(\n",
        "    updatemenus=[\n",
        "        dict(\n",
        "            type=\"buttons\",\n",
        "            direction=\"left\",\n",
        "            buttons=list([\n",
        "                dict(\n",
        "                    args=[\"type\", \"scatter\"],\n",
        "                    label=\"Scatter Plot\",\n",
        "                    method=\"restyle\"\n",
        "                ),\n",
        "                dict(\n",
        "                    args=[\"type\", \"bar\"],\n",
        "                    label=\"Bar Chart\",\n",
        "                    method=\"restyle\"\n",
        "                )\n",
        "            ]),\n",
        "        ),\n",
        "    ]\n",
        ")\n",
        " \n",
        "plot.show()"
      ],
      "id": "1754eaca",
      "execution_count": null,
      "outputs": []
    },
    {
      "cell_type": "markdown",
      "metadata": {},
      "source": [
        "## Sliders and Selectors\n"
      ],
      "id": "a5ef6e1c"
    },
    {
      "cell_type": "code",
      "metadata": {},
      "source": [
        "x = df['total_bill']\n",
        "y = df['tip']\n",
        " \n",
        "plot = go.Figure(data=[go.Scatter(\n",
        "    x=x,\n",
        "    y=y,\n",
        "    mode='markers',)\n",
        "])\n",
        " \n",
        "plot.update_layout(\n",
        "    xaxis=dict(\n",
        "        rangeselector=dict(\n",
        "            buttons=list([\n",
        "                dict(count=1,\n",
        "                    step=\"day\",\n",
        "                    stepmode=\"backward\"),\n",
        "            ])\n",
        "        ),\n",
        "        rangeslider=dict(\n",
        "            visible=True\n",
        "        ),\n",
        "    )\n",
        ")\n",
        " \n",
        "plot.show()"
      ],
      "id": "a3be6107",
      "execution_count": null,
      "outputs": []
    },
    {
      "cell_type": "markdown",
      "metadata": {},
      "source": [
        "Lebih lanjut silakan buka dokumentasi library plotly pada link berikut : [Dokumentasi Plotly](https://plotly.com/python/)\n",
        "\n",
        "___\n",
        "\n",
        "\n",
        "Untuk memperbaiki dan meningkatkan kualitas praktikum kedepannya, silakan berikan feedback anda melalui link berikut : [Feedback Praktikum EDA 2023/2024](https://forms.gle/w48Jrx8RzGnRU7L96)"
      ],
      "id": "85b7958c"
    }
  ],
  "metadata": {
    "kernelspec": {
      "name": "python3",
      "language": "python",
      "display_name": "Python 3 (ipykernel)",
      "path": "C:\\Users\\ZakiZ\\AppData\\Local\\Programs\\Python\\Python313\\share\\jupyter\\kernels\\python3"
    }
  },
  "nbformat": 4,
  "nbformat_minor": 5
}