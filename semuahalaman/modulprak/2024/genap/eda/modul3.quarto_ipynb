{
  "cells": [
    {
      "cell_type": "markdown",
      "metadata": {},
      "source": [
        "---\n",
        "title: \"Pertemuan 3 : Simple Data Visualization (matplotlib)\"\n",
        "image: static\\images\\eda_py_img0.png\n",
        "description: \"Data visualization in python using matplotlib (pyplot)\"\n",
        "date: 04/23/2024\n",
        "page-navigation: true\n",
        "jupyter: python3\n",
        "format: html\n",
        "---\n",
        "\n",
        "\n",
        "Kembali ke [EDA](./eda2024genap.qmd)\n",
        "\n",
        "# Matplotlib (Pyplot)\n",
        "\n",
        "<div style='text-align: justify;'>\n",
        "Matplotlib adalah library yang digunakan untuk visualisasi data. Hasil visualisasi data matplotllib menyerupai hasil visualisasi pada bahasa pemrograman matlab. Library ini bukanlah cara yang paling mudah untuk menghasilkan visualisasi data, tetapi visualisasi yang dihasilkan fleksibel dan dapat digunakan untuk banyak sekali kasus.\n",
        "</div>\n",
        "\n",
        "___\n",
        "\n",
        "<div style='text-align: justify;'>\n",
        "[Download dataset](https://drive.google.com/drive/folders/1Rz53jj0SLIB0lF6MEwY34lx8oBkEyy8-?usp=sharing)\n",
        "</div>\n"
      ],
      "id": "c4677bd8"
    },
    {
      "cell_type": "code",
      "metadata": {},
      "source": [
        "import numpy as np\n",
        "import pandas as pd\n",
        "import matplotlib.pyplot as plt\n",
        "\n",
        "# Import Dataset\n",
        "df = pd.read_csv('https://raw.githubusercontent.com/farhanage/dataset-for-study/main/insurance.csv')\n",
        "\n",
        "# Cek 5 observasi pertama\n",
        "df.head()"
      ],
      "id": "aee84da6",
      "execution_count": null,
      "outputs": []
    },
    {
      "cell_type": "code",
      "metadata": {},
      "source": [
        "# melihat informasi mengenai tiap variabel\n",
        "df.info()"
      ],
      "id": "5f3cf1cc",
      "execution_count": null,
      "outputs": []
    },
    {
      "cell_type": "code",
      "metadata": {},
      "source": [
        "# statistik deskritif semua variabel numerik\n",
        "df.describe()"
      ],
      "id": "7984c76d",
      "execution_count": null,
      "outputs": []
    },
    {
      "cell_type": "markdown",
      "metadata": {},
      "source": [
        "## Box Plot\n"
      ],
      "id": "78651de3"
    },
    {
      "cell_type": "code",
      "metadata": {},
      "source": [
        "# Box Plot variabel `age`\n",
        "plt.boxplot(x='age', data=df)\n",
        "\n",
        "# Menambahkan Judul Plot\n",
        "plt.title(\"Box Plot\")\n",
        " \n",
        "# Menambahkan label sumbu X dan Y\n",
        "plt.xlabel('Age')\n",
        "plt.ylabel('Value')\n",
        "\n",
        "# Menunjukkan plot\n",
        "plt.show()"
      ],
      "id": "8ac2d320",
      "execution_count": null,
      "outputs": []
    },
    {
      "cell_type": "code",
      "metadata": {},
      "source": [
        "# Box Plot variabel `bmi`\n",
        "plt.boxplot(x='bmi', data=df)\n",
        "\n",
        "# Menambahkan Judul Plot\n",
        "plt.title(\"Box Plot\")\n",
        " \n",
        "# Menambahkan label sumbu X dan Y\n",
        "plt.xlabel('bmi')\n",
        "plt.ylabel('Value')\n",
        "\n",
        "# Menunjukkan plot\n",
        "plt.show()"
      ],
      "id": "73ead9f3",
      "execution_count": null,
      "outputs": []
    },
    {
      "cell_type": "markdown",
      "metadata": {},
      "source": [
        ":::{.callout-note}\n",
        "\n",
        "<div style='text-align: justify;'>\n",
        "Seperti halnya penggunaan syntax `?` pada bahasa pemrograman R, kita dapat mengakses dokumentasi suatu fungsi dalam suatu modul pada python dengan menggunakan function `help()`\n",
        "</div>\n"
      ],
      "id": "17a37535"
    },
    {
      "cell_type": "code",
      "metadata": {},
      "source": [
        "# Melihat dokumentasi mengenai function plt.boxplot()\n",
        "help(plt.boxplot)"
      ],
      "id": "678460a5",
      "execution_count": null,
      "outputs": []
    },
    {
      "cell_type": "markdown",
      "metadata": {},
      "source": [
        ":::\n",
        "\n",
        "## Histogram\n"
      ],
      "id": "f0c72c98"
    },
    {
      "cell_type": "code",
      "metadata": {},
      "source": [
        "# Histogram variabel `bmi`\n",
        "plt.hist(x='bmi', data=df)\n",
        "\n",
        "# Menambahkan Judul Plot\n",
        "plt.title(\"Histogram\")\n",
        " \n",
        "# Menambahkan label sumbu X dan Y\n",
        "plt.xlabel('bmi')\n",
        "plt.ylabel('Count')\n",
        "\n",
        "# Menunjukkan plot\n",
        "plt.show()"
      ],
      "id": "3301a4e4",
      "execution_count": null,
      "outputs": []
    },
    {
      "cell_type": "markdown",
      "metadata": {},
      "source": [
        "## Bar Chart\n"
      ],
      "id": "d7776ace"
    },
    {
      "cell_type": "code",
      "metadata": {},
      "source": [
        "# Hitung banyaknya responden dari masing-masing gender\n",
        "df['sex'].value_counts()"
      ],
      "id": "94c8ef87",
      "execution_count": null,
      "outputs": []
    },
    {
      "cell_type": "code",
      "metadata": {},
      "source": [
        "# Bar chart jumlah tiap jenis kelamin\n",
        "df['sex'].value_counts().plot(kind='bar')\n",
        "\n",
        "# Menambahkan Judul Plot\n",
        "plt.title(\"Bar Chart\")\n",
        " \n",
        "# Menambahkan label sumbu X dan Y\n",
        "plt.xlabel('sex')\n",
        "plt.ylabel('count')\n",
        "\n",
        "# Menunjukkan plot\n",
        "plt.show()"
      ],
      "id": "9483ce45",
      "execution_count": null,
      "outputs": []
    },
    {
      "cell_type": "markdown",
      "metadata": {},
      "source": [
        "## Horizontal Bar Chart\n"
      ],
      "id": "11f13935"
    },
    {
      "cell_type": "code",
      "metadata": {},
      "source": [
        "# Horizontal Bar chart jumlah tiap jenis kelamin\n",
        "df['sex'].value_counts().plot(kind='barh')\n",
        "\n",
        "# Menambahkan Judul Plot\n",
        "plt.title(\"Bar Chart\")\n",
        " \n",
        "# Menambahkan label sumbu X dan Y\n",
        "plt.xlabel('count')\n",
        "plt.ylabel('sex')\n",
        "\n",
        "# Menunjukkan plot\n",
        "plt.show()"
      ],
      "id": "2d7533b5",
      "execution_count": null,
      "outputs": []
    },
    {
      "cell_type": "markdown",
      "metadata": {},
      "source": [
        "## Pie Chart\n"
      ],
      "id": "107481e1"
    },
    {
      "cell_type": "code",
      "metadata": {},
      "source": [
        "# Pie chart persentase sebaran region seluruh responden\n",
        "df['region'].value_counts().plot(kind='pie', autopct='%1.1f%%')\n",
        "\n",
        "# Menambahkan Judul Plot\n",
        "plt.title(\"Pie Chart\")\n",
        "\n",
        "# Menunjukkan plot\n",
        "plt.show()"
      ],
      "id": "cd7e21ab",
      "execution_count": null,
      "outputs": []
    },
    {
      "cell_type": "markdown",
      "metadata": {},
      "source": [
        "## Scatter Plot\n"
      ],
      "id": "54fb71be"
    },
    {
      "cell_type": "code",
      "metadata": {},
      "source": [
        "# Scatter plot variabel `age` dan `charges`\n",
        "df.plot(kind='scatter', x='age', y='charges')\n",
        "\n",
        "# Menambahkan Judul Plot\n",
        "plt.title(\"Scatter Plot `Age` vs `Charges`\")\n",
        " \n",
        "# Menambahkan label sumbu X dan Y\n",
        "plt.xlabel('Age')\n",
        "plt.ylabel('Charges')\n",
        "\n",
        "# Menunjukkan plot\n",
        "plt.show()"
      ],
      "id": "0c3390b4",
      "execution_count": null,
      "outputs": []
    },
    {
      "cell_type": "markdown",
      "metadata": {},
      "source": [
        "___\n",
        "\n",
        "<div style='text-align: justify;'>\n",
        "Untuk plot lainnya, silakan telusuri dokumentasi dari library matplotlib yang dapat diakses pada link berikut : [Dokumentasi matplotlib.pyplot](https://matplotlib.org/stable/api/pyplot_summary.html)\n",
        "</div>\n",
        "\n",
        "# Subplots\n",
        "\n",
        "## Figure and Axes\n",
        "<div style='text-align: justify;'>\n",
        "\n",
        "Pembuatan suatu plot menggunakan library matplotlib akan menghasilkan suatu ***figure*** yang memiliki beberapa komponen di dalamnya.\n",
        "\n",
        "![](static\\images\\anatomy of figures.png)\n",
        "\n",
        "Berikut cara membuat suatu figure menggunakan matplotlib\n",
        "</div>\n"
      ],
      "id": "9452440a"
    },
    {
      "cell_type": "code",
      "metadata": {},
      "source": [
        "fig = plt.figure()  # an empty figure with no Axes\n",
        "\n",
        "plt.show()"
      ],
      "id": "656efad9",
      "execution_count": null,
      "outputs": []
    },
    {
      "cell_type": "markdown",
      "metadata": {},
      "source": [
        "<div style='text-align: justify;'>\n",
        "Figure kosong tidak dapat divisualisasikan. Untuk membuat suatu figure yang memiliki axes, gunakan function `plt.subplots()`\n",
        "</div>\n"
      ],
      "id": "12a71c47"
    },
    {
      "cell_type": "code",
      "metadata": {},
      "source": [
        "fig, ax = plt.subplots()  # a figure with a single Axes\n",
        "\n",
        "plt.show()"
      ],
      "id": "4230899b",
      "execution_count": null,
      "outputs": []
    },
    {
      "cell_type": "markdown",
      "metadata": {},
      "source": [
        "<div style='text-align: justify;'>\n",
        "Bagaimana jika kita ingin membuat gabungan dari beberapa Axes dalam 1 figure?\n",
        "\n",
        "function subplots menerima parameter jumlah baris dan jumlah kolom untuk membentuk suatu *grid* yang terdiri atas 1 atau lebih axes\n",
        "</div>\n"
      ],
      "id": "5068f59b"
    },
    {
      "cell_type": "code",
      "metadata": {},
      "source": [
        "fig, axs = plt.subplots(2, 2)  # a figure with a 2x2 grid of Axes\n",
        "\n",
        "plt.show()"
      ],
      "id": "4fb9eb42",
      "execution_count": null,
      "outputs": []
    },
    {
      "cell_type": "code",
      "metadata": {},
      "source": [
        "#| echo: false\n",
        "fig, axs = plt.subplots(ncols=2, nrows=2)\n",
        "# for each Axes, add an artist, in this case a nice label in the middle...\n",
        "for row in range(2):\n",
        "    for col in range(2):\n",
        "        axs[row, col].annotate(f'axs[{row}, {col}]', (0.5, 0.5),\n",
        "                            transform=axs[row, col].transAxes,\n",
        "                            ha='center', va='center', fontsize=18,\n",
        "                            color='darkgrey')\n",
        "fig.suptitle('plt.subplots()')\n",
        "\n",
        "plt.show()"
      ],
      "id": "439bde20",
      "execution_count": null,
      "outputs": []
    },
    {
      "cell_type": "markdown",
      "metadata": {},
      "source": [
        "<div style='text-align: justify;'>\n",
        "Selain dengan function subplots, ada juga function `subplot_mosaic` yang akan menghasilkan axes dengan ukuran yang lebih bervariasi.\n",
        "</div>\n"
      ],
      "id": "a7e461b9"
    },
    {
      "cell_type": "code",
      "metadata": {},
      "source": [
        "# a figure with one axes on the left, and two on the right:\n",
        "fig, axs = plt.subplot_mosaic([['left', 'right_top'],\n",
        "                               ['left', 'right_bottom']])\n",
        "\n",
        "plt.show()"
      ],
      "id": "fb2aa522",
      "execution_count": null,
      "outputs": []
    },
    {
      "cell_type": "code",
      "metadata": {},
      "source": [
        "#| echo: false\n",
        "fig, axs = plt.subplot_mosaic([['left', 'right_top'],\n",
        "                               ['left', 'right_bottom']])\n",
        "\n",
        "# for each Axes, add an artist, in this case a nice label in the middle...\n",
        "axs['left'].annotate(f\"axs['left']\", (0.5, 0.5),\n",
        "                    transform=axs['left'].transAxes,\n",
        "                    ha='center', va='center', fontsize=12,\n",
        "                    color='darkgrey')\n",
        "\n",
        "axs['right_top'].annotate(f\"axs['right_top']\", (0.5, 0.5),\n",
        "                    transform=axs['right_top'].transAxes,\n",
        "                    ha='center', va='center', fontsize=12,\n",
        "                    color='darkgrey')\n",
        "\n",
        "axs['right_bottom'].annotate(f\"axs['right_bottom']\", (0.5, 0.5),\n",
        "                    transform=axs['right_bottom'].transAxes,\n",
        "                    ha='center', va='center', fontsize=12,\n",
        "                    color='darkgrey')\n",
        "\n",
        "fig.suptitle('plt.subplots()')\n",
        "\n",
        "plt.show()"
      ],
      "id": "7ef6109c",
      "execution_count": null,
      "outputs": []
    },
    {
      "cell_type": "markdown",
      "metadata": {},
      "source": [
        "## Plots\n",
        "\n",
        "<div style='text-align: justify;'>\n",
        "Untuk menambahkan plot pada tiap axis, gunakan function-function plot pada axis dengan index yang bersesuaian.\n",
        "</div>\n"
      ],
      "id": "ea643ddc"
    },
    {
      "cell_type": "code",
      "metadata": {},
      "source": [
        "fig, axs = plt.subplots(2, 2, layout=\"constrained\")\n",
        "\n",
        "axs[0,0].hist(df['age'])\n",
        "\n",
        "axs[0,0].set_title('Variabel `Age`')\n",
        "\n",
        "axs[0,1].hist(df['bmi'])\n",
        "\n",
        "axs[0,1].set_title('Variabel `bmi`')\n",
        "\n",
        "axs[1,0].hist(df['children'])\n",
        "\n",
        "axs[1,0].set_title('Variabel `children`')\n",
        "\n",
        "axs[1,1].hist(df['charges'])\n",
        "\n",
        "axs[1,1].set_title('Variabel `charges`')\n",
        "\n",
        "fig.suptitle('Histogram Variabel Numerik')\n",
        "\n",
        "plt.show()"
      ],
      "id": "68583e12",
      "execution_count": null,
      "outputs": []
    },
    {
      "cell_type": "markdown",
      "metadata": {},
      "source": [
        "<div style='text-align: justify;'>\n",
        "Lebih lanjut, silakan baca dokumentasi dari plt.subplot pada link berikut : [Dokumentasi plt.subplots](https://matplotlib.org/stable/users/explain/axes/axes_intro.html#creating-axes)\n",
        "</div>"
      ],
      "id": "991c65f7"
    }
  ],
  "metadata": {
    "kernelspec": {
      "name": "python3",
      "language": "python",
      "display_name": "Python 3 (ipykernel)",
      "path": "C:\\Users\\ZakiZ\\AppData\\Local\\Programs\\Python\\Python313\\share\\jupyter\\kernels\\python3"
    }
  },
  "nbformat": 4,
  "nbformat_minor": 5
}