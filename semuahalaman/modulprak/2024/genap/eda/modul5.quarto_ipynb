{
  "cells": [
    {
      "cell_type": "markdown",
      "metadata": {},
      "source": [
        "---\n",
        "title: \"Pertemuan 5 : Time Series Visualization\"\n",
        "image: static\\images\\timeseries.png\n",
        "description: \"Handling time series data\"\n",
        "date: 05/07/2024\n",
        "page-navigation: true\n",
        "jupyter: python3\n",
        "format: html\n",
        "---\n",
        "\n",
        "\n",
        "Kembali ke [EDA](./eda2024genap.qmd)\n",
        "\n",
        "# `datetime` object\n"
      ],
      "id": "a74c76cb"
    },
    {
      "cell_type": "code",
      "metadata": {},
      "source": [
        "import numpy as np\n",
        "import pandas as pd\n",
        "import matplotlib.pyplot as plt\n",
        "import seaborn as sns\n",
        "import datetime\n",
        "\n",
        "df = pd.read_csv('https://raw.githubusercontent.com/farhanage/dataset-for-study/main/Electric_Production.csv', names=['date', 'electric_production'], header=0)\n",
        "\n",
        "df.head(15)"
      ],
      "id": "0c6f5aab",
      "execution_count": null,
      "outputs": []
    },
    {
      "cell_type": "code",
      "metadata": {},
      "source": [
        "# Mengecek tipe data tiap kolom\n",
        "df.info()"
      ],
      "id": "4dcaf2ce",
      "execution_count": null,
      "outputs": []
    },
    {
      "cell_type": "markdown",
      "metadata": {},
      "source": [
        "Perhatikan bahwa kolom date memiliki tipe data `object` (string). Pada pertemuan ini, kita akan membahas suatu tipe data baru yang bernama `datetime` yang digunakan untuk memanipulasi data runtun waktu (time series).\n",
        "\n",
        "## Converting `object` to `datetime`\n",
        "\n",
        "Perhatikan code cell berikut untuk mengubah data bertipe `object` menjadi `datetime`\n"
      ],
      "id": "3588f2dc"
    },
    {
      "cell_type": "code",
      "metadata": {},
      "source": [
        "# Mengubah data `object` -> `datetime`\n",
        "df['date'] = pd.to_datetime(df['date'], format='%m/%d/%Y')"
      ],
      "id": "4f9fd71c",
      "execution_count": null,
      "outputs": []
    },
    {
      "cell_type": "markdown",
      "metadata": {},
      "source": [
        ":::{.callout-note}\n",
        "# Date Format\n",
        "\n",
        "Argumen `format='%m/%d/%Y'` digunakan untuk membaca format penanggalan yang tertulis pada kolom yang ingin kita ubah. `%d` menandakan hari, `%m` untuk bulan, `%y` untuk tahun 2 digit dan `%Y` untuk tahun 4 digit.\n",
        "\n",
        "```\n",
        "e.g. : '2024-05-26' -> '%Y-%m-%d'\n",
        "```\n",
        ":::\n"
      ],
      "id": "184e7ff4"
    },
    {
      "cell_type": "code",
      "metadata": {},
      "source": [
        "df.info()"
      ],
      "id": "ba3e7191",
      "execution_count": null,
      "outputs": []
    },
    {
      "cell_type": "markdown",
      "metadata": {},
      "source": [
        "Terlihat bahwa kolom `date` kini memiliki tipe data `datetime64[ns]`.\n"
      ],
      "id": "f0341f2f"
    },
    {
      "cell_type": "code",
      "metadata": {},
      "source": [
        "df.head()"
      ],
      "id": "7bd47afd",
      "execution_count": null,
      "outputs": []
    },
    {
      "cell_type": "markdown",
      "metadata": {},
      "source": [
        "Terlihat setelah dilakukan perubahan tipe data, format penanggalan pada kolom `date` juga berubah.\n",
        "\n",
        "# Apa perbedaan `string` dan `datetime`?\n",
        "\n",
        "Object `datetime` memiliki attribut tanggal, bulan, waktu, hari, jam, menit, bahkan detik suatu observasi yang dapat kita akses melalui library datetime.\n"
      ],
      "id": "7ed79f65"
    },
    {
      "cell_type": "code",
      "metadata": {},
      "source": [
        "# Ambil tahun dari setiap observasi\n",
        "df['date'].dt.year"
      ],
      "id": "fdeeaab4",
      "execution_count": null,
      "outputs": []
    },
    {
      "cell_type": "code",
      "metadata": {},
      "source": [
        "# Ambil Bulan dari setiap observasi\n",
        "df['date'].dt.month"
      ],
      "id": "a02ebac6",
      "execution_count": null,
      "outputs": []
    },
    {
      "cell_type": "code",
      "metadata": {},
      "source": [
        "# Ambil Tanggal dari setiap observasi\n",
        "df['date'].dt.day"
      ],
      "id": "283f6cd1",
      "execution_count": null,
      "outputs": []
    },
    {
      "cell_type": "markdown",
      "metadata": {},
      "source": [
        "object `datetime` dapat digunakan sebagai nilai numerik dalam visualisasi data\n"
      ],
      "id": "5de2a88c"
    },
    {
      "cell_type": "code",
      "metadata": {},
      "source": [
        "sns.lineplot(x='date', y='electric_production', data=df)\n",
        "\n",
        "plt.title('Jumlah produksi listrik per tahun (1985-2018)')\n",
        "\n",
        "plt.show()"
      ],
      "id": "c913f33e",
      "execution_count": null,
      "outputs": []
    },
    {
      "cell_type": "markdown",
      "metadata": {},
      "source": [
        "# Grouping\n",
        "\n",
        "Bagaimana cara kita memanfaatkan attribut-attribut datetime? Gunakan grouping method (`groupby`) untuk mendapatkan insight baru dari data per satuan waktu tertentu.\n",
        "\n",
        "**Informasi jumlah total produksi energi per tahunnya**\n"
      ],
      "id": "a1edd1fb"
    },
    {
      "cell_type": "code",
      "metadata": {},
      "source": [
        "df['electric_production'].groupby(df['date'].dt.year).sum() # sum of electric_production, grouped by year"
      ],
      "id": "176f7d10",
      "execution_count": null,
      "outputs": []
    },
    {
      "cell_type": "markdown",
      "metadata": {},
      "source": [
        "**Informasi rata-rata produksi energi setiap bulan selama 33 tahun terakhir**\n"
      ],
      "id": "f0e57173"
    },
    {
      "cell_type": "code",
      "metadata": {},
      "source": [
        "df['electric_production'].groupby(df['date'].dt.month).mean() # mean of electric_production, grouped by month"
      ],
      "id": "c1f0ac79",
      "execution_count": null,
      "outputs": []
    },
    {
      "cell_type": "markdown",
      "metadata": {},
      "source": [
        "## Plots\n"
      ],
      "id": "7969828b"
    },
    {
      "cell_type": "code",
      "metadata": {},
      "source": [
        "sum_per_year = df['electric_production'].groupby(df['date'].dt.year).sum() # sum of electric_production, grouped by year\n",
        "\n",
        "sns.lineplot(sum_per_year)\n",
        "\n",
        "plt.title('Jumlah produksi listrik per tahun (1985-2018)')\n",
        "\n",
        "plt.show()"
      ],
      "id": "af20d54b",
      "execution_count": null,
      "outputs": []
    },
    {
      "cell_type": "markdown",
      "metadata": {},
      "source": [
        "kenapa tahun 2018 turun drastis? cek semua observasi pada tahun 2018\n"
      ],
      "id": "7bac6353"
    },
    {
      "cell_type": "code",
      "metadata": {},
      "source": [
        "# Ambil data dengan tahun == 2018\n",
        "df[df['date'].dt.year == 2018]"
      ],
      "id": "47919859",
      "execution_count": null,
      "outputs": []
    },
    {
      "cell_type": "markdown",
      "metadata": {},
      "source": [
        "Ternyata tahun 2018 hanya memiliki 1 observasi, sehingga tidak dapat dibandingkan dengan jumlah produksi tahun-tahun sebelumnya.\n"
      ],
      "id": "1e21cfb4"
    },
    {
      "cell_type": "code",
      "metadata": {},
      "source": [
        "# buang data tahun 2018\n",
        "df.drop(df[df['date'].dt.year == 2018].index, axis=0, inplace=True)"
      ],
      "id": "1cbd39ac",
      "execution_count": null,
      "outputs": []
    },
    {
      "cell_type": "code",
      "metadata": {},
      "source": [
        "df[df['date'].dt.year == 2018]"
      ],
      "id": "3930d0fb",
      "execution_count": null,
      "outputs": []
    },
    {
      "cell_type": "markdown",
      "metadata": {},
      "source": [
        "Data sudah berhasil dibuang, sehingga dapat dilakukan visualisasi yang lebih akurat\n"
      ],
      "id": "19b82337"
    },
    {
      "cell_type": "code",
      "metadata": {},
      "source": [
        "sum_per_year = df['electric_production'].groupby(df['date'].dt.year).sum() # sum of electric_production, grouped by year\n",
        "\n",
        "sns.lineplot(sum_per_year)\n",
        "\n",
        "plt.xlabel('year')\n",
        "\n",
        "plt.ylabel('electric production')\n",
        "\n",
        "plt.title('Jumlah produksi listrik per tahun (1985-2017)')\n",
        "\n",
        "plt.show()"
      ],
      "id": "ebf26933",
      "execution_count": null,
      "outputs": []
    },
    {
      "cell_type": "markdown",
      "metadata": {},
      "source": [
        "Interpretasinya?\n"
      ],
      "id": "0683e830"
    },
    {
      "cell_type": "code",
      "metadata": {},
      "source": [
        "avg_per_month = df['electric_production'].groupby(df['date'].dt.month).mean() # mean of electric_production, grouped by month\n",
        "\n",
        "sns.barplot(avg_per_month)\n",
        "\n",
        "plt.xlabel('month')\n",
        "\n",
        "plt.ylabel('average electric production')\n",
        "\n",
        "plt.title('Rata-rata produksi listrik per bulan (1985-2017)')\n",
        "\n",
        "plt.show()"
      ],
      "id": "944879ce",
      "execution_count": null,
      "outputs": []
    },
    {
      "cell_type": "markdown",
      "metadata": {},
      "source": [
        "Interpretasi? Kaitkan dengan musim?\n",
        "\n",
        "# Case Study\n",
        "\n",
        "Download dataset di sini : [Energy Time Series](https://drive.google.com/drive/folders/122UC_72nX8DocmqdmNfBIPXMmk3zr_EP?usp=sharing)\n",
        "\n",
        "Metadata :\n",
        "\n",
        "1. energy_reading.csv\n",
        "- `building_id` - Foreign key for the building metadata.\n",
        "- `meter` - The meter id code. Read as {0: electricity, 1: chilledwater, 2: steam, 3: hotwater}. Not every building has all meter types.\n",
        "- `timestamp` - When the measurement was taken\n",
        "- `meter_reading` - The target variable. Energy consumption in kWh (or equivalent). Note that this is real data with measurement error, which we expect will impose a baseline level of modeling error. UPDATE: as discussed here, the site 0 electric meter readings are in kBTU.\n",
        "\n",
        "2. building_metadata.csv\n",
        "- `site_id` - Foreign key for the weather files.\n",
        "- `building_id` - Foreign key for training.csv\n",
        "- `primary_use` - Indicator of the primary category of activities for the building based on EnergyStar property type definitions\n",
        "- `square_feet` - Gross floor area of the building\n",
        "- `year_built` - Year building was opened\n",
        "- `floor_count` - Number of floors of the building\n",
        "\n",
        "3. weather.csv\n",
        "Weather data from a meteorological station as close as possible to the site.\n",
        "- `site_id`\n",
        "- `air_temperature` - Degrees Celsius\n",
        "- `cloud_coverage` - Portion of the sky covered in clouds, in oktas\n",
        "- `dew_temperature` - Degrees Celsius\n",
        "- `precip_depth_1_hr` - Millimeters\n",
        "- `sea_level_pressure` - Millibar/hectopascals\n",
        "- `wind_direction` - Compass direction (0-360)\n",
        "- `wind_speed` - Meters per second\n",
        "\n",
        "Challenge : Gali informasi sebanyak-banyaknya dari data tersebut"
      ],
      "id": "24377518"
    }
  ],
  "metadata": {
    "kernelspec": {
      "name": "python3",
      "language": "python",
      "display_name": "Python 3 (ipykernel)",
      "path": "C:\\Users\\ZakiZ\\AppData\\Local\\Programs\\Python\\Python313\\share\\jupyter\\kernels\\python3"
    }
  },
  "nbformat": 4,
  "nbformat_minor": 5
}