{
 "cells": [
  {
   "cell_type": "markdown",
   "metadata": {},
   "source": [
    "---\n",
    "title: \"Modul 7 Kalkulin 2024 Genap: Transformasi Linier Umum\"\n",
    "format:\n",
    "  html: \n",
    "    css: wolframcodestyle.css\n",
    "---"
   ]
  },
  {
   "cell_type": "markdown",
   "metadata": {},
   "source": [
    "Kembali ke [Kalkulin](./kalkulin2024genap.qmd)"
   ]
  },
  {
   "cell_type": "markdown",
   "metadata": {},
   "source": [
    "## Pengantar, Komposisi, Invers"
   ]
  },
  {
   "cell_type": "markdown",
   "metadata": {},
   "source": [
    "![](https://res.cloudinary.com/tahun2025/image/upload/v1744068758/Modul_10_Kalkulin_General_Linear_Transformations_page-0001_fmhedq.jpg)"
   ]
  },
  {
   "cell_type": "markdown",
   "metadata": {},
   "source": [
    "![](https://res.cloudinary.com/tahun2025/image/upload/v1744068759/Modul_10_Kalkulin_General_Linear_Transformations_page-0002_krzw0e.jpg)"
   ]
  },
  {
   "cell_type": "markdown",
   "metadata": {},
   "source": [
    "![](https://res.cloudinary.com/tahun2025/image/upload/v1744068758/Modul_10_Kalkulin_General_Linear_Transformations_page-0003_eb3wuw.jpg)"
   ]
  },
  {
   "cell_type": "markdown",
   "metadata": {},
   "source": [
    "## Bentuk Matriks, Similaritas"
   ]
  },
  {
   "cell_type": "markdown",
   "metadata": {},
   "source": [
    "![](https://res.cloudinary.com/tahun2025/image/upload/v1744068759/Modul_10_Kalkulin_General_Linear_Transformations_page-0004_wselye.jpg)"
   ]
  },
  {
   "cell_type": "markdown",
   "metadata": {},
   "source": [
    "![](https://res.cloudinary.com/tahun2025/image/upload/v1744068765/Modul_10_Kalkulin_General_Linear_Transformations_page-0005_jihwbq.jpg)"
   ]
  },
  {
   "cell_type": "markdown",
   "metadata": {},
   "source": [
    "![](https://res.cloudinary.com/tahun2025/image/upload/v1744068760/Modul_10_Kalkulin_General_Linear_Transformations_page-0006_crop_er76ul.jpg)"
   ]
  },
  {
   "cell_type": "markdown",
   "metadata": {},
   "source": [
    "## Rank dan Nullitas"
   ]
  },
  {
   "cell_type": "markdown",
   "metadata": {},
   "source": [
    "Misalkan ada matriks berikut."
   ]
  },
  {
   "cell_type": "code",
   "execution_count": 4,
   "metadata": {
    "vscode": {
     "languageId": "plaintext"
    }
   },
   "outputs": [
    {
     "data": {
      "text/html": [
       "<div><pre style=\"&#102;&#111;&#110;&#116;&#45;&#102;&#97;&#109;&#105;&#108;&#121;&#58;&#32;&#34;&#67;&#111;&#117;&#114;&#105;&#101;&#114;&#32;&#78;&#101;&#119;&#34;&#44;&#67;&#111;&#117;&#114;&#105;&#101;&#114;&#44;&#109;&#111;&#110;&#111;&#115;&#112;&#97;&#99;&#101;&#59;\">&#123;&#123;&#49;&#44;&#32;&#50;&#44;&#32;&#51;&#125;&#44;&#32;&#123;&#50;&#44;&#32;&#52;&#44;&#32;&#54;&#125;&#125;</pre></div>"
      ],
      "text/plain": [
       "{{1, 2, 3}, {2, 4, 6}}"
      ]
     },
     "execution_count": 4,
     "metadata": {
      "text/html": [],
      "text/plain": []
     },
     "output_type": "execute_result"
    }
   ],
   "source": [
    "A = {{1, 2, 3}, {2, 4, 6}}"
   ]
  },
  {
   "cell_type": "code",
   "execution_count": 7,
   "metadata": {
    "vscode": {
     "languageId": "plaintext"
    }
   },
   "outputs": [
    {
     "data": {
      "text/html": [
       "<div><img alt=\"Output\" src=\"data:image/png;base64,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\"></div>"
      ],
      "text/plain": [
       "1   2   3\n",
       "\n",
       "2   4   6"
      ]
     },
     "execution_count": 7,
     "metadata": {
      "text/html": [],
      "text/plain": []
     },
     "output_type": "execute_result"
    }
   ],
   "source": [
    "A // MatrixForm"
   ]
  },
  {
   "cell_type": "markdown",
   "metadata": {},
   "source": [
    "(Perhatikan bahwa kedua baris di matriks A bergantung linier.)"
   ]
  },
  {
   "cell_type": "markdown",
   "metadata": {},
   "source": [
    "Matriks ini berukuran 2 x 3:"
   ]
  },
  {
   "cell_type": "code",
   "execution_count": 8,
   "metadata": {
    "vscode": {
     "languageId": "plaintext"
    }
   },
   "outputs": [
    {
     "data": {
      "text/html": [
       "<div><pre style=\"&#102;&#111;&#110;&#116;&#45;&#102;&#97;&#109;&#105;&#108;&#121;&#58;&#32;&#34;&#67;&#111;&#117;&#114;&#105;&#101;&#114;&#32;&#78;&#101;&#119;&#34;&#44;&#67;&#111;&#117;&#114;&#105;&#101;&#114;&#44;&#109;&#111;&#110;&#111;&#115;&#112;&#97;&#99;&#101;&#59;\">&#123;&#50;&#44;&#32;&#51;&#125;</pre></div>"
      ],
      "text/plain": [
       "{2, 3}"
      ]
     },
     "execution_count": 8,
     "metadata": {
      "text/html": [],
      "text/plain": []
     },
     "output_type": "execute_result"
    }
   ],
   "source": [
    "Dimensions[A]"
   ]
  },
  {
   "cell_type": "markdown",
   "metadata": {},
   "source": [
    "Sehingga banyaknya kolom adalah elemen kedua dari dimensi:"
   ]
  },
  {
   "cell_type": "code",
   "execution_count": 14,
   "metadata": {
    "vscode": {
     "languageId": "plaintext"
    }
   },
   "outputs": [
    {
     "data": {
      "text/html": [
       "<div><pre style=\"&#102;&#111;&#110;&#116;&#45;&#102;&#97;&#109;&#105;&#108;&#121;&#58;&#32;&#34;&#67;&#111;&#117;&#114;&#105;&#101;&#114;&#32;&#78;&#101;&#119;&#34;&#44;&#67;&#111;&#117;&#114;&#105;&#101;&#114;&#44;&#109;&#111;&#110;&#111;&#115;&#112;&#97;&#99;&#101;&#59;\">&#51;</pre></div>"
      ],
      "text/plain": [
       "3"
      ]
     },
     "execution_count": 14,
     "metadata": {
      "text/html": [],
      "text/plain": []
     },
     "output_type": "execute_result"
    }
   ],
   "source": [
    "Dimensions[A][[2]]"
   ]
  },
  {
   "cell_type": "markdown",
   "metadata": {},
   "source": [
    "Berdasarkan Rank-Nullity Theorem,\n",
    "\n",
    "$$\\text{Rank}(A) + \\text{Nullity}(A) = \\text{dimensi prapeta/domain; banyaknya kolom di matriks A}$$"
   ]
  },
  {
   "cell_type": "markdown",
   "metadata": {},
   "source": [
    "### Menentukan Rank dan Nullitas secara \"manual\""
   ]
  },
  {
   "cell_type": "markdown",
   "metadata": {},
   "source": [
    "Bentuk eselon baris tereduksi dari A adalah sebagai berikut."
   ]
  },
  {
   "cell_type": "code",
   "execution_count": 17,
   "metadata": {
    "vscode": {
     "languageId": "plaintext"
    }
   },
   "outputs": [
    {
     "data": {
      "text/html": [
       "<div><img alt=\"Output\" src=\"data:image/png;base64,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\"></div>"
      ],
      "text/plain": [
       "1   2   3\n",
       "\n",
       "0   0   0"
      ]
     },
     "execution_count": 17,
     "metadata": {
      "text/html": [],
      "text/plain": []
     },
     "output_type": "execute_result"
    }
   ],
   "source": [
    "RowReduce[A] // MatrixForm"
   ]
  },
  {
   "cell_type": "markdown",
   "metadata": {},
   "source": [
    "Secara definisi, *rank* adalah dimensi dari ruang kolom (yang ternyata sama dengan dimensi dari ruang baris, berdasarkan teorema). Dari bentuk eselon baris tereduksi, kita bisa menghitung *rank* sebagai banyaknya *leading ones* (satu utama), yaitu hanya ada satu."
   ]
  },
  {
   "cell_type": "markdown",
   "metadata": {},
   "source": [
    "$$\\text{Rank}(A) = 1$$"
   ]
  },
  {
   "cell_type": "markdown",
   "metadata": {},
   "source": [
    "Secara definisi, *nullity* adalah dimensi dari ruang null, yaitu ruang solusi dari $A\\textbf{x} = \\textbf{0}$. Sehingga, kita bisa menentukan solusi (nontrivial) dari $A\\textbf{x} = \\textbf{0}$ terlebih dahulu:"
   ]
  },
  {
   "cell_type": "code",
   "execution_count": 23,
   "metadata": {
    "vscode": {
     "languageId": "plaintext"
    }
   },
   "outputs": [
    {
     "data": {
      "text/html": [
       "<div><img alt=\"Output\" src=\"data:image/png;base64,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\"></div>"
      ],
      "text/plain": [
       "        1       2 x2\n",
       "x3 == -(-) x1 - ----\n",
       "        3        3"
      ]
     },
     "execution_count": 23,
     "metadata": {
      "text/html": [],
      "text/plain": []
     },
     "output_type": "execute_result"
    }
   ],
   "source": [
    "Reduce[\n",
    "    A.{x1,x2,x3} == {0,0},\n",
    "    {x1,x2,x3}\n",
    "]"
   ]
  },
  {
   "cell_type": "markdown",
   "metadata": {},
   "source": [
    "Solusinya melibatkan dua variabel bebas yaitu $x_1$ dan $x_2$, sehingga ruang null berdimensi dua. Maka, *nullity* atau nullitas dari $A$ adalah 2 (dua)."
   ]
  },
  {
   "cell_type": "markdown",
   "metadata": {},
   "source": [
    "$$\\text{Nullity}(A) = 2$$"
   ]
  },
  {
   "cell_type": "markdown",
   "metadata": {},
   "source": [
    "Hasil yang kita temukan sesuai dengan Rank-Nullity Theorem:"
   ]
  },
  {
   "cell_type": "code",
   "execution_count": 24,
   "metadata": {
    "vscode": {
     "languageId": "plaintext"
    }
   },
   "outputs": [
    {
     "data": {
      "text/html": [
       "<div><img alt=\"Output\" src=\"data:image/png;base64,iVBORw0KGgoAAAANSUhEUgAAAB8AAAARCAIAAACqxuAeAAAAz3pUWHRSYXcgcHJvZmlsZSB0eXBlIGV4aWYAAHjabU9bEgIhDPvnFB6hL1o4DqvsjDfw+AZBHRwzQ5OGtLuk/rif6TIgTMlyFK/uBFi1Kg2i0MRkpvqqsznXHe9+4negwcrfC+/LP3Y/fLKUn0UkU+j4ArTaGliLVKbPbfbHyksrZV8UtMHK59f/9xri2TkM1YQivEKXBAnyLJTDT7+6I8h+E7IruHsExjxGQtsYHJAee7onVxi38QQdx7SBMyorY5S0QGcNVFGVA068MuM5T1iKWsWrL9l6AAAACXBIWXMAAAsTAAALEwEAmpwYAAAAPHRFWHRTb2Z0d2FyZQBDcmVhdGVkIHdpdGggdGhlIFdvbGZyYW0gTGFuZ3VhZ2UgOiB3d3cud29sZnJhbS5jb21coqaFAAAAIXRFWHRDcmVhdGlvbiBUaW1lADIwMjQ6MDU6MTEgMDg6NTc6MjNPqqt5AAABpUlEQVQ4je2Uz4sBYRjHn3es6R1NTS7KhT9hLk5MDlzlQjlx4qiJI3clF2qKUP4DUZzk4EAO/gDU5EApkjnoVTJmD2+rXbstbfawtd/T93163s/7fX/0IsMw4NfE/B76r9MzmQzzJoQQNc1m8zn44/GoaZqmaT6fL5VKUX8+n41niMEYC4IgCILZbOY4jnqTyQQAiqIUCoVut+v1ejmOSyaTABCPxyuVCk02mUxEUbwG7XQ6oihaLBaXyzUajQDg5ZttbTabVqu13+/T6XQul8MYA8BisXA6nbSBEDKdTqkfj8ehUEhRFEmSqtVqMBhUVfU7OgDMZrN+vy9J0t0TLpVKsVgskUgAQD6fbzQaw+Hwzpvx+/2PoAFgPp/X63WWZVmW5Xn+cDhst9s72RnmdnmM8W63o17X9WvdbrfLslwsFj9MfyTXe7nd7l6vt1qtVFWl90wViURqtdpgMACA0+nUbrdv6QihG9bnSjgc5nne4XB4PB5Zlq8N0Wg0m80GAgGbzWa1WsvlMiEEfvaQ1+v15XL5XNd1fblcEkLoEBn/f+TXegXEjDOCQDTZOQAAAABJRU5ErkJggg==\"></div>"
      ],
      "text/plain": [
       "True"
      ]
     },
     "execution_count": 24,
     "metadata": {
      "text/html": [],
      "text/plain": []
     },
     "output_type": "execute_result"
    }
   ],
   "source": [
    "1 + 2 == Dimensions[A][[2]]"
   ]
  },
  {
   "cell_type": "markdown",
   "metadata": {},
   "source": [
    "### Menentukan Rank dan Nullitas secara otomatis"
   ]
  },
  {
   "cell_type": "markdown",
   "metadata": {},
   "source": [
    "Untuk menentukan *rank* suatu matriks, gunakan `MatrixRank`"
   ]
  },
  {
   "cell_type": "code",
   "execution_count": 9,
   "metadata": {
    "vscode": {
     "languageId": "plaintext"
    }
   },
   "outputs": [
    {
     "data": {
      "text/html": [
       "<div><pre style=\"&#102;&#111;&#110;&#116;&#45;&#102;&#97;&#109;&#105;&#108;&#121;&#58;&#32;&#34;&#67;&#111;&#117;&#114;&#105;&#101;&#114;&#32;&#78;&#101;&#119;&#34;&#44;&#67;&#111;&#117;&#114;&#105;&#101;&#114;&#44;&#109;&#111;&#110;&#111;&#115;&#112;&#97;&#99;&#101;&#59;\">&#49;</pre></div>"
      ],
      "text/plain": [
       "1"
      ]
     },
     "execution_count": 9,
     "metadata": {
      "text/html": [],
      "text/plain": []
     },
     "output_type": "execute_result"
    }
   ],
   "source": [
    "MatrixRank[A]"
   ]
  },
  {
   "cell_type": "markdown",
   "metadata": {},
   "source": [
    "Untuk menentukan *nullity*, kita bisa memanfaatkan Rank-Nullity Theorem:\n",
    "\n",
    "$$\\text{Nullity}(A) = \\text{(banyaknya kolom di matriks A)} - \\text{Rank}(A)$$"
   ]
  },
  {
   "cell_type": "code",
   "execution_count": 10,
   "metadata": {
    "vscode": {
     "languageId": "plaintext"
    }
   },
   "outputs": [
    {
     "data": {
      "text/html": [
       "<div><pre style=\"&#102;&#111;&#110;&#116;&#45;&#102;&#97;&#109;&#105;&#108;&#121;&#58;&#32;&#34;&#67;&#111;&#117;&#114;&#105;&#101;&#114;&#32;&#78;&#101;&#119;&#34;&#44;&#67;&#111;&#117;&#114;&#105;&#101;&#114;&#44;&#109;&#111;&#110;&#111;&#115;&#112;&#97;&#99;&#101;&#59;\">&#50;</pre></div>"
      ],
      "text/plain": [
       "2"
      ]
     },
     "execution_count": 10,
     "metadata": {
      "text/html": [],
      "text/plain": []
     },
     "output_type": "execute_result"
    }
   ],
   "source": [
    "Dimensions[A][[2]] - MatrixRank[A]"
   ]
  },
  {
   "cell_type": "markdown",
   "metadata": {},
   "source": [
    "Cara lain, ada `ResourceFunction` bernama `Nullity` yang bisa kita *download* dari Wolfram Function Repository (<https://reference.wolfram.com/language/guide/WolframFunctionRepository.html>) seperti berikut:"
   ]
  },
  {
   "cell_type": "code",
   "execution_count": 11,
   "metadata": {
    "vscode": {
     "languageId": "plaintext"
    }
   },
   "outputs": [
    {
     "data": {
      "text/html": [
       "<div><img alt=\"Output\" src=\"data:image/png;base64,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\"></div>"
      ],
      "text/plain": [
       "ResourceFunction[ResourceObject[<|Name -> Nullity, ShortName -> Nullity, \n",
       " \n",
       ">     UUID -> 5c508dd2-693b-40f6-8f59-06c8f05e7a13, ResourceType -> Function, \n",
       " \n",
       ">     Version -> 3.0.0, Description -> Compute the nullity of a matrix, \n",
       " \n",
       ">     RepositoryLocation -> \n",
       " \n",
       ">      URL[https://www.wolframcloud.com/obj/resourcesystem/api/1.0], \n",
       " \n",
       ">     SymbolName -> FunctionRepository`$350cc20da9914bc792aaa2f366b1333d`Nullity, \n",
       " \n",
       ">     FunctionLocation -> \n",
       " \n",
       ">      CloudObject[https://www.wolframcloud.com/obj/3c4ccf52-e81c-432f-a849-5ff72ee6dbc4]\n",
       " \n",
       ">      |>, {ResourceSystemBase -> \n",
       " \n",
       ">      https://www.wolframcloud.com/obj/resourcesystem/api/1.0}]]"
      ]
     },
     "execution_count": 11,
     "metadata": {
      "text/html": [],
      "text/plain": []
     },
     "output_type": "execute_result"
    }
   ],
   "source": [
    "Nullity = ResourceFunction[\"Nullity\"]"
   ]
  },
  {
   "cell_type": "markdown",
   "metadata": {},
   "source": [
    "(Sayangnya, apabila versi Wolfram Mathematica yang sedang digunakan terlalu kuno, akan muncul *error.* Apabila *error*, alternatif untuk mencoba hal ini adalah menggunakan Wolfram Cloud."
   ]
  },
  {
   "cell_type": "code",
   "execution_count": 12,
   "metadata": {
    "vscode": {
     "languageId": "plaintext"
    }
   },
   "outputs": [
    {
     "data": {
      "text/html": [
       "<div><pre style=\"&#102;&#111;&#110;&#116;&#45;&#102;&#97;&#109;&#105;&#108;&#121;&#58;&#32;&#34;&#67;&#111;&#117;&#114;&#105;&#101;&#114;&#32;&#78;&#101;&#119;&#34;&#44;&#67;&#111;&#117;&#114;&#105;&#101;&#114;&#44;&#109;&#111;&#110;&#111;&#115;&#112;&#97;&#99;&#101;&#59;\">&#50;</pre></div>"
      ],
      "text/plain": [
       "2"
      ]
     },
     "execution_count": 12,
     "metadata": {
      "text/html": [],
      "text/plain": []
     },
     "output_type": "execute_result"
    }
   ],
   "source": [
    "Nullity[A]"
   ]
  },
  {
   "cell_type": "markdown",
   "metadata": {},
   "source": [
    "Kita bisa lihat dengan jelas bahwa Rank-Nullity Theorem berlaku untuk matriks A ini:"
   ]
  },
  {
   "cell_type": "code",
   "execution_count": 15,
   "metadata": {
    "vscode": {
     "languageId": "plaintext"
    }
   },
   "outputs": [
    {
     "data": {
      "text/html": [
       "<div><img alt=\"Output\" src=\"data:image/png;base64,iVBORw0KGgoAAAANSUhEUgAAAB8AAAARCAIAAACqxuAeAAAA0XpUWHRSYXcgcHJvZmlsZSB0eXBlIGV4aWYAAHjabU9BbgQhDLvzij4hJMGB5zC7jNQf9Pk1C21FtZaIHeNkhjS+Pu/0MaFZkpeoaIAQ3rxpp6iysDhLe9XV3Psun37KP4FOq/xdYGz/Ov3AYq3/FokuYfML1OZ7YC8yXX7uq792Xnut56KQA15/f/19b6EoyOGsrhKBRl0TJQlFpQRuPAAGM54q/iAPRHAMMRPW5+CEjjjTI8FoPOcTbB63Ti6s2TJHxSq1WmN1g1504pWZz/kGWMJaySLEeHUAAAAJcEhZcwAACxMAAAsTAQCanBgAAAA8dEVYdFNvZnR3YXJlAENyZWF0ZWQgd2l0aCB0aGUgV29sZnJhbSBMYW5ndWFnZSA6IHd3dy53b2xmcmFtLmNvbVyipoUAAAAhdEVYdENyZWF0aW9uIFRpbWUAMjAyNDowNToxMSAwODoyOTo0NjtlU1MAAAGlSURBVDiN7ZTPiwFhGMefd6zpHU1NLsqFP2EuTkwOXOVCOXHiqIkjdyUXaopQ/gNRnOTgQA7+ANTkQCmSOehVMmYPb6tduy1t9rC139P3fXrez/t9f/QiwzDg18T8Hvqv0zOZDPMmhBA1zWbzOfjj8ahpmqZpPp8vlUpRfz6fjWeIwRgLgiAIgtls5jiOepPJBACKohQKhW636/V6OY5LJpMAEI/HK5UKTTaZTERRvAbtdDqiKFosFpfLNRqNAODlm21tNptWq7Xf79PpdC6XwxgDwGKxcDqdtIEQMp1OqR+Px6FQSFEUSZKq1WowGFRV9Ts6AMxms36/L0nS3RMulUqxWCyRSABAPp9vNBrD4fDOm/H7/Y+gAWA+n9frdZZlWZblef5wOGy32zvZGeZ2eYzxbrejXtf1a91ut8uyXCwWP0x/JNd7ud3uXq+3Wq1UVaX3TBWJRGq12mAwAIDT6dRut2/pCKEb1udKOBzmed7hcHg8HlmWrw3RaDSbzQYCAZvNZrVay+UyIQR+9pDX6/Xlcvlc13V9uVwSQugQGf9/5Nd6BcSMM4JANNk5AAAAAElFTkSuQmCC\"></div>"
      ],
      "text/plain": [
       "True"
      ]
     },
     "execution_count": 15,
     "metadata": {
      "text/html": [],
      "text/plain": []
     },
     "output_type": "execute_result"
    }
   ],
   "source": [
    "MatrixRank[A] + Nullity[A] == Dimensions[A][[2]]"
   ]
  }
 ],
 "metadata": {
  "kernelspec": {
   "display_name": "Wolfram Language 13",
   "language": "WolframLanguage"
  },
  "language_info": {
   "codemirror_mode": "mathematica",
   "file_extension": ".m",
   "mimetype": "application/vnd.wolfram.m",
   "name": "WolframLanguage",
   "pygments_lexer": "mathematica",
   "version": "12.0"
  }
 },
 "nbformat": 4,
 "nbformat_minor": 4
}
