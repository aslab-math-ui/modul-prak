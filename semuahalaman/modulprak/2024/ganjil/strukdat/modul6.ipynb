{
 "cells": [
  {
   "cell_type": "markdown",
   "metadata": {},
   "source": [
    "---\n",
    "title: \"Modul 6 Struktur Data: Queue\"\n",
    "subtitle: \"Queue\"\n",
    "image: static\\queue.png\n",
    "description: \"Offline di Departemen Matematika\"\n",
    "date: 11/15/2024\n",
    "page-navigation: true\n",
    "format: html\n",
    "---"
   ]
  },
  {
   "cell_type": "markdown",
   "metadata": {},
   "source": [
    "Kembali ke [Struktur Data](./strukdat2024.qmd)"
   ]
  },
  {
   "cell_type": "markdown",
   "metadata": {
    "id": "l27UmfMqZHDt"
   },
   "source": [
    "Di praktikum kali ini, kita akan membahas tentang struktur data *queue* serta berbagai “implementasi”nya dalam Python (yaitu berbagai cara membuat struktur data *queue* di Python), baik menggunakan array maupun *linked list*.\n",
    "\n",
    "*Queue* itu sendiri adalah suatu struktur data dengan dua ujung, di mana data bisa dimasukkan dari salah satu ujung tertentu (yang disebut *rear*) dan data bisa dikeluarkan dari ujung yang satunya lagi (yang disebut *front*). *Queue* dikatakan menganut prinsip FIFO (*First In First Out*), karena data yang pertama masuk akan menjadi data yang pertama keluar.\n",
    "\n",
    "Kita akan menggunakan *array* dari numpy, sehingga perlu melakukan import:"
   ]
  },
  {
   "cell_type": "code",
   "execution_count": 12,
   "metadata": {
    "id": "mTiU66I5ZHDv"
   },
   "outputs": [],
   "source": [
    "import numpy as np"
   ]
  },
  {
   "cell_type": "markdown",
   "metadata": {
    "id": "KAhqMUSOZHDv"
   },
   "source": [
    "# *Queue* Linear"
   ]
  },
  {
   "cell_type": "markdown",
   "metadata": {
    "id": "s7vN3i-VZHDw"
   },
   "source": [
    "## Implementasi *Queue* dengan *Array*"
   ]
  },
  {
   "cell_type": "code",
   "execution_count": null,
   "metadata": {
    "id": "PC9Bac5cZHDw"
   },
   "outputs": [],
   "source": [
    "class ArrayLinQueue:\n",
    "    # definisikan queue dengan array\n",
    "    def __init__(self, dtype, array_max):\n",
    "        self.dtype = dtype\n",
    "        self.array_max = array_max\n",
    "        self.array = np.empty(array_max, dtype = dtype)\n",
    "        self.front = -1\n",
    "        self.rear = -1\n",
    "\n",
    "    # mengetahui banyaknya elemen pada queue\n",
    "    def get_size(self):\n",
    "        # kasus saat queue kosong\n",
    "        if self.is_empty():\n",
    "            return 0\n",
    "\n",
    "        # kasus queue tidak kosong\n",
    "        else:\n",
    "            size = (self.rear - self.front) + 1\n",
    "            return size\n",
    "\n",
    "    # mengetahui kapasitas sesungguhnya dari queue\n",
    "    def get_capacity_array(self):\n",
    "        return self.array_max\n",
    "\n",
    "    # mengetahui kapasitas yang tersisa dari queue\n",
    "    def get_capacity_queue(self):\n",
    "        # kasus saat queue belum digunakan\n",
    "        if self.front == -1:\n",
    "            capacity_queue = self.array_max\n",
    "\n",
    "        # kasus saat queue sudah digunakan\n",
    "        else:\n",
    "            capacity_queue = self.array_max - self.rear - 1 #perlu debugging ketika sudah full\n",
    "        return capacity_queue\n",
    "\n",
    "    # cek apakah queue kosong\n",
    "    def is_empty(self):\n",
    "        if self.front == -1:\n",
    "            return True\n",
    "        else:\n",
    "            return False\n",
    "\n",
    "    # cek apakah queue sudah penuh\n",
    "    def is_full(self):\n",
    "        if self.rear == self.array_max - 1:\n",
    "            return True\n",
    "        else:\n",
    "            return False\n",
    "\n",
    "    # metode enqueue\n",
    "    def enqueue(self, newdata):\n",
    "        # Kondisi ketika array penuh\n",
    "        if self.is_full():\n",
    "            print(\"Error enqueue: queue sudah memenuhi batas maksimum\")\n",
    "\n",
    "        # Kasus ketika queue masih kosong di awal\n",
    "        elif self.front == -1:\n",
    "            self.front += 1\n",
    "            self.rear += 1\n",
    "            self.array[self.rear] = newdata\n",
    "\n",
    "        # kasus ketika queue sudah tidak kosong di awal\n",
    "        else:\n",
    "            self.rear += 1\n",
    "            self.array[self.rear] = newdata\n",
    "\n",
    "    # mengintip isi dari queue di awal\n",
    "    def peek(self):\n",
    "        if self.is_empty():\n",
    "            print(\"Error peek: queue sedang kosong\")\n",
    "        else:\n",
    "            return self.array[self.front]\n",
    "\n",
    "    # metode dequeue\n",
    "    def dequeue(self):\n",
    "        # kasus saat queue kosong\n",
    "        if self.is_empty():\n",
    "            print(\"Error dequeue: queue sudah kosong sebelumnya\")\n",
    "            return None\n",
    "\n",
    "        # kasus hanya satu elemen pada queue\n",
    "        elif (self.get_size() == 1):\n",
    "            # Jika di queue hanya ada satu elemen, dan ingin di-dequeue,\n",
    "            # maka queue akan kosong setelah itu\n",
    "            # kita reset queue kita jadi kosong\n",
    "            output = self.array[self.front]\n",
    "            self.front = -1\n",
    "            self.rear = -1\n",
    "            return output\n",
    "\n",
    "        # kasus umum pada queue\n",
    "        else:\n",
    "            output = self.array[self.front]\n",
    "            self.front += 1\n",
    "            return output\n",
    "\n",
    "    # mencetak semua elemen pada queue\n",
    "    def print_storage(self):\n",
    "        print(self.array)\n",
    "\n",
    "    def display(self):\n",
    "        return self.array\n",
    "\n",
    "    # mencetak queue *versi lain\n",
    "    def print_queue(self):\n",
    "        print(\"front : \", end=\"\")\n",
    "        if self.is_empty():\n",
    "            print(\"(tidak ada data) : rear\")\n",
    "        else:\n",
    "            for i in range(self.front, self.rear): # i = front, ..., rear-1\n",
    "                print(self.array[i], end=\" | \")\n",
    "            print(self.array[self.rear], end=\"\") # untuk i = rear\n",
    "            print(\" : rear\")"
   ]
  },
  {
   "cell_type": "markdown",
   "metadata": {
    "id": "bHyKLwSsZHDy"
   },
   "source": [
    "Contoh penggunaan *Queue* dengan *Array*"
   ]
  },
  {
   "cell_type": "code",
   "execution_count": null,
   "metadata": {
    "id": "pXKSvzUBZHDz"
   },
   "outputs": [],
   "source": [
    "queueLinArray = ArrayLinQueue(dtype = int, array_max=10)"
   ]
  },
  {
   "cell_type": "code",
   "execution_count": null,
   "metadata": {
    "colab": {
     "base_uri": "https://localhost:8080/"
    },
    "id": "JQfnSMwmZHDz",
    "outputId": "f31be4dd-d759-45b5-b9c9-ddc715eb02c1"
   },
   "outputs": [
    {
     "data": {
      "text/plain": [
       "10"
      ]
     },
     "execution_count": 4,
     "metadata": {},
     "output_type": "execute_result"
    }
   ],
   "source": [
    "queueLinArray.get_capacity_array()"
   ]
  },
  {
   "cell_type": "code",
   "execution_count": null,
   "metadata": {
    "colab": {
     "base_uri": "https://localhost:8080/"
    },
    "id": "CkooH_jrZHD0",
    "outputId": "0a45e0f2-1752-44b1-934a-80f79d07a738"
   },
   "outputs": [
    {
     "name": "stdout",
     "output_type": "stream",
     "text": [
      "front : (tidak ada data) : rear\n"
     ]
    }
   ],
   "source": [
    "queueLinArray.print_queue()"
   ]
  },
  {
   "cell_type": "code",
   "execution_count": null,
   "metadata": {
    "colab": {
     "base_uri": "https://localhost:8080/"
    },
    "id": "R-Fk87GqZHD0",
    "outputId": "bc544331-f11c-402c-f711-2112c144004a"
   },
   "outputs": [
    {
     "name": "stdout",
     "output_type": "stream",
     "text": [
      "front : 1 : rear\n"
     ]
    }
   ],
   "source": [
    "queueLinArray.enqueue(1)\n",
    "queueLinArray.print_queue()"
   ]
  },
  {
   "cell_type": "code",
   "execution_count": null,
   "metadata": {
    "colab": {
     "base_uri": "https://localhost:8080/"
    },
    "id": "GUl_WSszZHD1",
    "outputId": "8f723d71-47d3-4c6e-a5b8-ea6369bfb427"
   },
   "outputs": [
    {
     "name": "stdout",
     "output_type": "stream",
     "text": [
      "front : 1 | 0 | 5 | 10 : rear\n"
     ]
    }
   ],
   "source": [
    "for i in range(3):\n",
    "    queueLinArray.enqueue(i*5)\n",
    "\n",
    "queueLinArray.print_queue()"
   ]
  },
  {
   "cell_type": "code",
   "execution_count": null,
   "metadata": {
    "colab": {
     "base_uri": "https://localhost:8080/"
    },
    "id": "GIGsMqkEZHD1",
    "outputId": "9c5930b5-675c-44e5-932d-d1828d1f3656"
   },
   "outputs": [
    {
     "name": "stdout",
     "output_type": "stream",
     "text": [
      "[                  1                   0                   5\n",
      "                  10 7599578574504329216 3761739758475294518\n",
      " 3617566120052078381 3256163233075901495 4050536193999398197\n",
      " 8026364514949935924]\n"
     ]
    }
   ],
   "source": [
    "queueLinArray.print_storage()"
   ]
  },
  {
   "cell_type": "code",
   "execution_count": null,
   "metadata": {
    "colab": {
     "base_uri": "https://localhost:8080/"
    },
    "id": "wNN8VUQ7ZHD2",
    "outputId": "1f9a021e-3ee6-468e-eb7d-eb475101d170"
   },
   "outputs": [
    {
     "name": "stdout",
     "output_type": "stream",
     "text": [
      "Banyaknya elemen pada queue: 4\n",
      "Kapasitas yang tersedia: 6\n"
     ]
    }
   ],
   "source": [
    "print(f\"Banyaknya elemen pada queue: {queueLinArray.get_size()}\")\n",
    "print(f\"Kapasitas yang tersedia: {queueLinArray.get_capacity_queue()}\")"
   ]
  },
  {
   "cell_type": "code",
   "execution_count": null,
   "metadata": {
    "colab": {
     "base_uri": "https://localhost:8080/"
    },
    "id": "XS9ONeZxZHD2",
    "outputId": "b396cd0a-a3ee-41e8-f1f2-0770ecd73a05"
   },
   "outputs": [
    {
     "data": {
      "text/plain": [
       "1"
      ]
     },
     "execution_count": 10,
     "metadata": {},
     "output_type": "execute_result"
    }
   ],
   "source": [
    "queueLinArray.dequeue()"
   ]
  },
  {
   "cell_type": "code",
   "execution_count": null,
   "metadata": {
    "colab": {
     "base_uri": "https://localhost:8080/"
    },
    "id": "z8R2a93mZHD2",
    "outputId": "add4af11-606e-4773-8b8d-0933e7184d11"
   },
   "outputs": [
    {
     "name": "stdout",
     "output_type": "stream",
     "text": [
      "Banyaknya elemen pada queue: 3\n",
      "Kapasitas yang tersedia: 6\n",
      "front : 0 | 5 | 10 : rear\n"
     ]
    }
   ],
   "source": [
    "print(f\"Banyaknya elemen pada queue: {queueLinArray.get_size()}\")\n",
    "print(f\"Kapasitas yang tersedia: {queueLinArray.get_capacity_queue()}\")\n",
    "queueLinArray.print_queue()"
   ]
  },
  {
   "cell_type": "code",
   "execution_count": null,
   "metadata": {
    "id": "IKN1xkxZZHD3"
   },
   "outputs": [],
   "source": [
    "for i in range(queueLinArray.get_size()):\n",
    "    queueLinArray.dequeue()"
   ]
  },
  {
   "cell_type": "code",
   "execution_count": null,
   "metadata": {
    "colab": {
     "base_uri": "https://localhost:8080/"
    },
    "id": "G5Nk2toWZHD3",
    "outputId": "23921505-06bd-4b29-b08c-3cd481f54f56"
   },
   "outputs": [
    {
     "name": "stdout",
     "output_type": "stream",
     "text": [
      "Error dequeue: queue sudah kosong sebelumnya\n"
     ]
    }
   ],
   "source": [
    "queueLinArray.dequeue()"
   ]
  },
  {
   "cell_type": "markdown",
   "metadata": {
    "id": "VBGc5B_tZHD3"
   },
   "source": [
    "## Implementasi *Queue* dengan *Linked List*"
   ]
  },
  {
   "cell_type": "code",
   "execution_count": null,
   "metadata": {
    "id": "oX5UuuVMZHD4"
   },
   "outputs": [],
   "source": [
    "# definisikan node dari suatu linked list\n",
    "class SLNode:\n",
    "    def __init__(self, data, next=None):\n",
    "        self.data = data\n",
    "        self.next = next"
   ]
  },
  {
   "cell_type": "code",
   "execution_count": null,
   "metadata": {
    "id": "mrUiaQOoZHD4"
   },
   "outputs": [],
   "source": [
    "class SLLinQueue:\n",
    "    # definisikan queue dengan linked list\n",
    "    def __init__(self):\n",
    "        # head=front, tail=rear\n",
    "        self.front = None\n",
    "        self.rear = None\n",
    "\n",
    "    # cek apakah queue kosong\n",
    "    def is_empty(self):\n",
    "        if self.front == None:\n",
    "            return True\n",
    "        else:\n",
    "            return False\n",
    "\n",
    "    # mengetahui banyaknya elemen pada queue\n",
    "    def get_size(self):\n",
    "        size = 0\n",
    "        temp = self.front\n",
    "        while (temp != None):\n",
    "            size += 1\n",
    "            temp = temp.next\n",
    "        return size\n",
    "\n",
    "    # insert di akhir linked list\n",
    "    def enqueue(self, newdata):\n",
    "        newnode = SLNode(newdata)\n",
    "\n",
    "        # kasus saat queue kosong\n",
    "        if self.is_empty():\n",
    "            self.front = newnode\n",
    "            self.rear = newnode\n",
    "\n",
    "        # kasus saat queue tidak kosong\n",
    "        else:\n",
    "            self.rear.next = newnode\n",
    "            self.rear = newnode\n",
    "\n",
    "    # mengintip isi dari queue di awal\n",
    "    def peek(self):\n",
    "\n",
    "        # kasus saat queue kosong\n",
    "        if self.is_empty():\n",
    "            print(\"Error peek: queue sedang kosong\")\n",
    "            return None\n",
    "\n",
    "        # kasus saat queue tidak kosong\n",
    "        else:\n",
    "            return self.front.data\n",
    "\n",
    "    # hapus di awal linked list\n",
    "    def dequeue(self):\n",
    "\n",
    "        # kasus saat queue kosong\n",
    "        if self.is_empty():\n",
    "            print(\"Error dequeue: queue sudah kosong\")\n",
    "            return None\n",
    "\n",
    "        # kasus saat queue tidak kosong\n",
    "        else:\n",
    "            output = self.front.data\n",
    "            temp = self.front\n",
    "            self.front = self.front.next\n",
    "            del temp # hapus node yang tidak penting\n",
    "            return output\n",
    "\n",
    "    # cetak queue yang dimiliki\n",
    "    def print_queue(self):\n",
    "        print(\"front : \", end=\"\")\n",
    "\n",
    "        # kasus saat queue kosong\n",
    "        if self.is_empty():\n",
    "            print(\"(tidak ada data) : rear\")\n",
    "\n",
    "        # kasus queue tidak kosong\n",
    "        else:\n",
    "            temp = self.front\n",
    "            while temp != None:\n",
    "                if temp.next != None:\n",
    "                    print(temp.data, end = \" | \")\n",
    "                else:\n",
    "                    print(temp.data, end=\"\")\n",
    "                temp = temp.next\n",
    "            print(\" : rear\")\n",
    "\n",
    "    # cetak queue yang dimiliki *versi lain\n",
    "    def print_storage(self):\n",
    "        print(\"front -> \", end=\"\")\n",
    "\n",
    "        # kasus saat queue kosong\n",
    "        if self.is_empty():\n",
    "            print(\"None <- rear\")\n",
    "\n",
    "        # kasus queue tidak kosong\n",
    "        else:\n",
    "            temp = self.front\n",
    "            while temp != None:\n",
    "                if temp.next != None:\n",
    "                    print(temp.data, end = \" -> \")\n",
    "                else:\n",
    "                    print(temp.data, end = \" <- \")\n",
    "                temp = temp.next\n",
    "            print(\"rear\")"
   ]
  },
  {
   "cell_type": "markdown",
   "metadata": {
    "id": "5wznAIEgZHD4"
   },
   "source": [
    "Contoh Penggunaan *Queue* dengan *Linked List*"
   ]
  },
  {
   "cell_type": "code",
   "execution_count": null,
   "metadata": {
    "id": "ltgkfZ-eZHD4"
   },
   "outputs": [],
   "source": [
    "queueLinLinked = SLLinQueue()"
   ]
  },
  {
   "cell_type": "code",
   "execution_count": null,
   "metadata": {
    "colab": {
     "base_uri": "https://localhost:8080/"
    },
    "id": "ZtLjBG-VZHD5",
    "outputId": "10965cf4-5626-45bd-e266-cd919a2a3b7a"
   },
   "outputs": [
    {
     "name": "stdout",
     "output_type": "stream",
     "text": [
      "front : (tidak ada data) : rear\n"
     ]
    }
   ],
   "source": [
    "queueLinLinked.print_queue()"
   ]
  },
  {
   "cell_type": "code",
   "execution_count": null,
   "metadata": {
    "colab": {
     "base_uri": "https://localhost:8080/"
    },
    "id": "hySVk6LmZHD5",
    "outputId": "4ed94119-5fd1-491c-f4b4-9b9665db74dd"
   },
   "outputs": [
    {
     "name": "stdout",
     "output_type": "stream",
     "text": [
      "front : 1 : rear\n"
     ]
    }
   ],
   "source": [
    "queueLinLinked.enqueue(1)\n",
    "queueLinLinked.print_queue()"
   ]
  },
  {
   "cell_type": "code",
   "execution_count": null,
   "metadata": {
    "colab": {
     "base_uri": "https://localhost:8080/"
    },
    "id": "fxBuyFvpZHD5",
    "outputId": "6556177b-026b-4ad6-cd65-72d5adec6fbf"
   },
   "outputs": [
    {
     "name": "stdout",
     "output_type": "stream",
     "text": [
      "front : 1 | 0 | 5 | 10 : rear\n"
     ]
    }
   ],
   "source": [
    "for i in range(3):\n",
    "    queueLinLinked.enqueue(i*5)\n",
    "\n",
    "queueLinLinked.print_queue()"
   ]
  },
  {
   "cell_type": "code",
   "execution_count": null,
   "metadata": {
    "colab": {
     "base_uri": "https://localhost:8080/"
    },
    "id": "ywJhrpqSZHD5",
    "outputId": "d99aedc1-c07e-4cdf-b63d-3b02a5694fe2"
   },
   "outputs": [
    {
     "name": "stdout",
     "output_type": "stream",
     "text": [
      "front -> 1 -> 0 -> 5 -> 10 <- rear\n"
     ]
    }
   ],
   "source": [
    "queueLinLinked.print_storage()"
   ]
  },
  {
   "cell_type": "code",
   "execution_count": null,
   "metadata": {
    "colab": {
     "base_uri": "https://localhost:8080/"
    },
    "id": "0YA6uA0cZHD6",
    "outputId": "5ed06f70-3182-4bc8-db5f-9f1dc382908d"
   },
   "outputs": [
    {
     "data": {
      "text/plain": [
       "4"
      ]
     },
     "execution_count": 21,
     "metadata": {},
     "output_type": "execute_result"
    }
   ],
   "source": [
    "queueLinLinked.get_size()"
   ]
  },
  {
   "cell_type": "code",
   "execution_count": null,
   "metadata": {
    "colab": {
     "base_uri": "https://localhost:8080/"
    },
    "id": "j9G3DxUlZHD6",
    "outputId": "c307f1fe-69d3-4584-c469-75f2639370bc"
   },
   "outputs": [
    {
     "name": "stdout",
     "output_type": "stream",
     "text": [
      "front -> 0 -> 5 -> 10 <- rear\n"
     ]
    }
   ],
   "source": [
    "queueLinLinked.dequeue()\n",
    "\n",
    "queueLinLinked.print_storage()"
   ]
  },
  {
   "cell_type": "code",
   "execution_count": null,
   "metadata": {
    "colab": {
     "base_uri": "https://localhost:8080/"
    },
    "id": "olNwy8dSZHD6",
    "outputId": "ca221905-7a16-47ea-a045-fdb2c7b28dad"
   },
   "outputs": [
    {
     "name": "stdout",
     "output_type": "stream",
     "text": [
      "front -> None <- rear\n"
     ]
    }
   ],
   "source": [
    "for i in range(queueLinLinked.get_size()):\n",
    "    queueLinLinked.dequeue()\n",
    "\n",
    "queueLinLinked.print_storage()"
   ]
  },
  {
   "cell_type": "code",
   "execution_count": null,
   "metadata": {
    "colab": {
     "base_uri": "https://localhost:8080/"
    },
    "id": "TqBp9_UtZHD7",
    "outputId": "e6cdd2b3-22b3-43f4-db31-84f316c02d0e"
   },
   "outputs": [
    {
     "name": "stdout",
     "output_type": "stream",
     "text": [
      "Error dequeue: queue sudah kosong\n"
     ]
    }
   ],
   "source": [
    "queueLinLinked.dequeue()"
   ]
  },
  {
   "cell_type": "markdown",
   "metadata": {
    "id": "EkV7LK3KZHD7"
   },
   "source": [
    "# *Circular Queue*"
   ]
  },
  {
   "cell_type": "markdown",
   "metadata": {
    "id": "G-vXH8tbb1VI"
   },
   "source": [
    "Masalah utama dalam *linear queue* dengan array adalah saat melakukan *enqueue* dan *dequeue*, kedua *pointer* hanya akan berjalan ke kanan. Artinya ketika *pointer* depan telah sampai ke indeks terakhir di array, program akan menganggap *queue* telah penuh, meskipun elemen di indeks awal array sudah di *dequeue*.\n",
    "\n",
    "Untuk mengatasi hal ini, kita dapat membuat *pointer* depan kembali ke awal jika *pointer* tersebut telah melewati indeks terakhir dari array dan lanjut mengisi *queue* mulai dari indeks pertama hingga *pointer* depan bertemu dengan *pointer* belakang. Implementasi *queue* seperti ini disebut *circular queue*."
   ]
  },
  {
   "cell_type": "markdown",
   "metadata": {
    "id": "JGkPdADuZHD7"
   },
   "source": [
    "## Implementasi *Circular Queue* dengan *Array*"
   ]
  },
  {
   "cell_type": "code",
   "execution_count": 13,
   "metadata": {
    "id": "uJ4dzNjUZHD8"
   },
   "outputs": [],
   "source": [
    "# mulai dari sini, untuk memudahkan circular queue\n",
    "# akan disebut sebagai queue saja\n",
    "\n",
    "class ArrayCircQueue:\n",
    "    # definisikan queue dengan array\n",
    "    def __init__(self, dtype, max):\n",
    "        self.dtype = dtype\n",
    "        self.max = max\n",
    "        self.array = np.empty(max, dtype=dtype)\n",
    "        self.front = -1\n",
    "        self.rear = -1\n",
    "\n",
    "    # cek apakah queue kosong\n",
    "    def is_empty(self):\n",
    "        if self.front == -1:\n",
    "            return True\n",
    "        else:\n",
    "            return False\n",
    "\n",
    "    # cek apakah queue penuh\n",
    "    def is_full(self):\n",
    "        # kasus saat rear modulo max sama dengan front\n",
    "        # dapat dibayangkan sebagai rear tepat di belakang front\n",
    "        # pada diagram array lingkaran\n",
    "        if self.front == (self.rear + 1) % self.max:\n",
    "            return True\n",
    "        else:\n",
    "            return False\n",
    "\n",
    "    # mengetahui banyaknya elemen pada queue\n",
    "    def get_size(self):\n",
    "        # kasus saat kosong\n",
    "        if self.is_empty():\n",
    "            size = 0\n",
    "\n",
    "        # kasus front di belakang rear\n",
    "        elif self.front <= self.rear:\n",
    "            size = (self.rear - self.front) + 1\n",
    "\n",
    "        # kasus rear di belakang front\n",
    "        else:\n",
    "            size = self.max - (self.front - self.rear - 1)\n",
    "\n",
    "        return size\n",
    "\n",
    "    # mengetahui kapasitas queue\n",
    "    def get_capacity(self):\n",
    "        return self.max\n",
    "\n",
    "    # metode enqueue\n",
    "    def enqueue(self, newdata):\n",
    "\n",
    "        # kasus queue penuh\n",
    "        if self.is_full():\n",
    "            print(\"Error enqueue: queue sudah penuh sebelumnya\")\n",
    "\n",
    "        # kasus queue kosong\n",
    "        elif self.front == -1:\n",
    "            self.front += 1\n",
    "            self.rear += 1\n",
    "            self.array[self.rear] = newdata\n",
    "\n",
    "        # kasus ketika queue sudah tidak kosong\n",
    "        else:\n",
    "            self.rear = (self.rear + 1) % self.max # hanya berbeda di sini\n",
    "            self.array[self.rear] = newdata\n",
    "\n",
    "    # mengintip isi dari queue di awal\n",
    "    def peek(self):\n",
    "        if self.is_empty():\n",
    "            print(\"Error peek: queue sedang kosong\")\n",
    "        else:\n",
    "            return self.array[self.front]\n",
    "\n",
    "    # mnetode dequeue\n",
    "    def dequeue(self):\n",
    "\n",
    "        # kasus ketika queue kosong\n",
    "        if self.is_empty():\n",
    "            print(\"Error dequeue: queue sudah kosong sebelumnya\")\n",
    "            return None\n",
    "\n",
    "        # kasus hanya satu elemen pada queue\n",
    "        elif (self.get_size() == 1):\n",
    "            # Jika di queue hanya ada satu elemen, dan ingin di-dequeue,\n",
    "            # maka queue akan kosong setelah itu\n",
    "            output = self.array[self.front]\n",
    "            self.front = -1\n",
    "            self.rear = -1\n",
    "            return output\n",
    "\n",
    "        # kasus umum pada queue\n",
    "        else:\n",
    "            output = self.array[self.front]\n",
    "            self.front = (self.front + 1) % self.max # hanya berbeda di sini\n",
    "            return output\n",
    "\n",
    "    # mencetak semua elemen pada queue\n",
    "    def print_storage(self):\n",
    "        print(self.array)\n",
    "\n",
    "    # mencetak semua elemen pada queue *versi lain\n",
    "    def print_queue(self):\n",
    "        print(\"front : \", end=\"\")\n",
    "\n",
    "        # kasus saat queue kosong\n",
    "        if self.is_empty():\n",
    "            print(\"(tidak ada data) : rear\")\n",
    "\n",
    "        # kasus saat queue tidak kosong\n",
    "        else:\n",
    "            # i = front, ..., rear-1 (kurang lebih begitu)\n",
    "            i = self.front\n",
    "            while i != self.rear:\n",
    "                print(self.array[i], end=\" | \")\n",
    "                i = (i + 1) % self.max\n",
    "            # untuk i = rear\n",
    "            print(self.array[self.rear], end=\"\")\n",
    "            print(\" : rear\")"
   ]
  },
  {
   "cell_type": "code",
   "execution_count": null,
   "metadata": {
    "id": "q9tWEwn_ZHD8"
   },
   "outputs": [],
   "source": [
    "queueCircArray = ArrayCircQueue(dtype = int, max = 9)"
   ]
  },
  {
   "cell_type": "code",
   "execution_count": null,
   "metadata": {
    "colab": {
     "base_uri": "https://localhost:8080/"
    },
    "id": "pYDDYKChZHD8",
    "outputId": "1ee69771-9cb9-44a9-8a87-1532c4276290"
   },
   "outputs": [
    {
     "name": "stdout",
     "output_type": "stream",
     "text": [
      "front : (tidak ada data) : rear\n"
     ]
    }
   ],
   "source": [
    "queueCircArray.print_queue()"
   ]
  },
  {
   "cell_type": "code",
   "execution_count": null,
   "metadata": {
    "colab": {
     "base_uri": "https://localhost:8080/"
    },
    "id": "w3KoCR7UZHD8",
    "outputId": "4117ce8e-7557-4356-c90e-df56763f7068"
   },
   "outputs": [
    {
     "name": "stdout",
     "output_type": "stream",
     "text": [
      "[102469711431981               0               0               0\n",
      "               0               0               0               0\n",
      "               0]\n"
     ]
    }
   ],
   "source": [
    "queueCircArray.print_storage()"
   ]
  },
  {
   "cell_type": "code",
   "execution_count": null,
   "metadata": {
    "id": "macFL9xLZHD9"
   },
   "outputs": [],
   "source": [
    "queueCircArray.enqueue(65)\n",
    "queueCircArray.enqueue(-11)\n",
    "queueCircArray.enqueue(43)"
   ]
  },
  {
   "cell_type": "code",
   "execution_count": null,
   "metadata": {
    "colab": {
     "base_uri": "https://localhost:8080/"
    },
    "id": "oJOO11g7ZHD9",
    "outputId": "4d55d382-9c96-4019-d60f-7d75398e5d57"
   },
   "outputs": [
    {
     "name": "stdout",
     "output_type": "stream",
     "text": [
      "[ 65 -11  43   0   0   0   0   0   0]\n"
     ]
    }
   ],
   "source": [
    "queueCircArray.print_storage()"
   ]
  },
  {
   "cell_type": "code",
   "execution_count": null,
   "metadata": {
    "colab": {
     "base_uri": "https://localhost:8080/"
    },
    "id": "eD82BZU-ZHD-",
    "outputId": "ad9b6ab6-9404-4d23-b444-5bf4e63981ae"
   },
   "outputs": [
    {
     "name": "stdout",
     "output_type": "stream",
     "text": [
      "front : 65 | -11 | 43 : rear\n"
     ]
    }
   ],
   "source": [
    "queueCircArray.print_queue()"
   ]
  },
  {
   "cell_type": "code",
   "execution_count": null,
   "metadata": {
    "colab": {
     "base_uri": "https://localhost:8080/"
    },
    "id": "CLAh8l2QZHD-",
    "outputId": "85411099-117e-46f5-dd86-7479ccdd09de"
   },
   "outputs": [
    {
     "name": "stdout",
     "output_type": "stream",
     "text": [
      "0\n",
      "2\n"
     ]
    }
   ],
   "source": [
    "print(queueCircArray.front)\n",
    "print(queueCircArray.rear)"
   ]
  },
  {
   "cell_type": "code",
   "execution_count": null,
   "metadata": {
    "colab": {
     "base_uri": "https://localhost:8080/"
    },
    "id": "ZSBPq9GbZHD-",
    "outputId": "69482a01-5c3f-4dac-ef21-acfa59898d8e"
   },
   "outputs": [
    {
     "name": "stdout",
     "output_type": "stream",
     "text": [
      "[ 65 -11  43   1   5   9  13  17  21]\n"
     ]
    }
   ],
   "source": [
    "for i in range(6):\n",
    "    queueCircArray.enqueue(i*4 + 1)\n",
    "\n",
    "queueCircArray.print_storage()"
   ]
  },
  {
   "cell_type": "code",
   "execution_count": null,
   "metadata": {
    "colab": {
     "base_uri": "https://localhost:8080/"
    },
    "id": "PSHXvQ-_ZHD-",
    "outputId": "f4d6d5a1-fb56-42a1-eb12-a81a33a64bb7"
   },
   "outputs": [
    {
     "name": "stdout",
     "output_type": "stream",
     "text": [
      "Error enqueue: queue sudah penuh sebelumnya\n"
     ]
    }
   ],
   "source": [
    "queueCircArray.enqueue(41)"
   ]
  },
  {
   "cell_type": "code",
   "execution_count": null,
   "metadata": {
    "colab": {
     "base_uri": "https://localhost:8080/"
    },
    "id": "ck1WWqj-ZHD_",
    "outputId": "cbaea0fb-0948-432c-ef5d-49a73df9805b"
   },
   "outputs": [
    {
     "data": {
      "text/plain": [
       "65"
      ]
     },
     "execution_count": 35,
     "metadata": {},
     "output_type": "execute_result"
    }
   ],
   "source": [
    "queueCircArray.dequeue()"
   ]
  },
  {
   "cell_type": "code",
   "execution_count": null,
   "metadata": {
    "colab": {
     "base_uri": "https://localhost:8080/"
    },
    "id": "ZRk6Ua0KZHD_",
    "outputId": "424eff2e-d7cd-41b5-8155-2f367c320d6e"
   },
   "outputs": [
    {
     "name": "stdout",
     "output_type": "stream",
     "text": [
      "[ 65 -11  43   1   5   9  13  17  21]\n",
      "front : -11 | 43 | 1 | 5 | 9 | 13 | 17 | 21 : rear\n"
     ]
    }
   ],
   "source": [
    "queueCircArray.print_storage()\n",
    "queueCircArray.print_queue()"
   ]
  },
  {
   "cell_type": "code",
   "execution_count": null,
   "metadata": {
    "colab": {
     "base_uri": "https://localhost:8080/"
    },
    "id": "RyvdiS_-ZHD_",
    "outputId": "b4bfdfc8-f0f2-440f-c7e2-31ceac8afd2a"
   },
   "outputs": [
    {
     "name": "stdout",
     "output_type": "stream",
     "text": [
      "[  9 -11  43   1   5   9  13  17  21]\n",
      "front : -11 | 43 | 1 | 5 | 9 | 13 | 17 | 21 | 9 : rear\n"
     ]
    }
   ],
   "source": [
    "queueCircArray.enqueue(9)\n",
    "\n",
    "queueCircArray.print_storage()\n",
    "queueCircArray.print_queue()"
   ]
  },
  {
   "cell_type": "code",
   "execution_count": null,
   "metadata": {
    "colab": {
     "base_uri": "https://localhost:8080/"
    },
    "id": "RgjkRM5cZHEA",
    "outputId": "17da3b7f-2b37-44fb-ab5f-c40104794c18"
   },
   "outputs": [
    {
     "name": "stdout",
     "output_type": "stream",
     "text": [
      "1\n",
      "0\n"
     ]
    }
   ],
   "source": [
    "print(queueCircArray.front)\n",
    "print(queueCircArray.rear)"
   ]
  },
  {
   "cell_type": "code",
   "execution_count": null,
   "metadata": {
    "id": "episxxxWZHEA"
   },
   "outputs": [],
   "source": [
    "for i in range(3):\n",
    "    queueCircArray.dequeue()"
   ]
  },
  {
   "cell_type": "code",
   "execution_count": null,
   "metadata": {
    "colab": {
     "base_uri": "https://localhost:8080/"
    },
    "id": "grkKUHuyZHEA",
    "outputId": "2e857216-1baa-4cd2-9a13-93c880fb6bcd"
   },
   "outputs": [
    {
     "name": "stdout",
     "output_type": "stream",
     "text": [
      "[  9 -11  43   1   5   9  13  17  21]\n",
      "front : 5 | 9 | 13 | 17 | 21 | 9 : rear\n"
     ]
    }
   ],
   "source": [
    "queueCircArray.print_storage()\n",
    "queueCircArray.print_queue()"
   ]
  },
  {
   "cell_type": "code",
   "execution_count": null,
   "metadata": {
    "colab": {
     "base_uri": "https://localhost:8080/"
    },
    "id": "xSV_2UKhZHEA",
    "outputId": "32fc7b4b-dfa9-45f4-eccd-88652a544569"
   },
   "outputs": [
    {
     "name": "stdout",
     "output_type": "stream",
     "text": [
      "4\n",
      "0\n"
     ]
    }
   ],
   "source": [
    "print(queueCircArray.front)\n",
    "print(queueCircArray.rear)"
   ]
  },
  {
   "cell_type": "markdown",
   "metadata": {
    "id": "o_WxWSEdZHEB"
   },
   "source": [
    "## Implementasi *Circular Queue* dengan *Linked List*"
   ]
  },
  {
   "cell_type": "code",
   "execution_count": null,
   "metadata": {
    "id": "ziiUlkpfZHEB"
   },
   "outputs": [],
   "source": [
    "class SLNode:\n",
    "    def __init__(self, data, next=None):\n",
    "        self.data = data\n",
    "        self.next = next"
   ]
  },
  {
   "cell_type": "code",
   "execution_count": null,
   "metadata": {
    "id": "7Ou5JG2LZHEB"
   },
   "outputs": [],
   "source": [
    "class SLCircQueue:\n",
    "\n",
    "    # definisikan queue dengan linked list\n",
    "    def __init__(self):\n",
    "        # head=front, tail=rear\n",
    "        self.front = None\n",
    "        self.rear = None\n",
    "\n",
    "    # cek apakah queue kosong\n",
    "    def is_empty(self):\n",
    "        if self.front == None:\n",
    "            return True\n",
    "        else:\n",
    "            return False\n",
    "\n",
    "    # mengetahui banyaknya elemen pada queue\n",
    "    def get_size(self):\n",
    "        size = 0\n",
    "        temp = self.front\n",
    "\n",
    "        # kasus saat queue kosong\n",
    "        if temp == None:\n",
    "            return size\n",
    "\n",
    "        # kasus linked list tidak kosong\n",
    "        else:\n",
    "            size += 1\n",
    "            temp = temp.next\n",
    "        while (temp != self.front):\n",
    "            size += 1\n",
    "            temp = temp.next\n",
    "        # alasan pemisahan adalah sebagai penanda kapan traversal\n",
    "        # perlu dihentikan\n",
    "\n",
    "        return size\n",
    "\n",
    "    # metode enqueue\n",
    "    def enqueue(self, newdata):\n",
    "        newnode = SLNode(newdata)\n",
    "\n",
    "        # kasus saat queue kosong\n",
    "        if self.is_empty():\n",
    "            self.front = newnode\n",
    "            self.rear = newnode\n",
    "            newnode.next = newnode\n",
    "\n",
    "        # kasus queue tidak kosong\n",
    "        else:\n",
    "            self.rear.next = newnode\n",
    "            self.rear = newnode\n",
    "            newnode.next = self.front\n",
    "\n",
    "    # masih sama persis\n",
    "    def peek(self):\n",
    "        if self.is_empty():\n",
    "            print(\"Error peek: queue sedang kosong\")\n",
    "            return None\n",
    "        else:\n",
    "            return self.front.data\n",
    "\n",
    "    def dequeue(self):\n",
    "        if self.is_empty():\n",
    "            print(\"Error dequeue: queue sudah kosong sebelumnya\")\n",
    "            return None\n",
    "        elif (self.front == self.rear): # sama saja self.get_size() == 1\n",
    "            output = self.front.data\n",
    "            del self.front\n",
    "            self.front = None\n",
    "            self.rear = None\n",
    "            return output\n",
    "        else:\n",
    "            output = self.front.data\n",
    "            temp = self.front\n",
    "            self.front = self.front.next\n",
    "            del temp\n",
    "            self.rear.next = self.front\n",
    "            return output\n",
    "\n",
    "    def print_queue(self):\n",
    "        print(\"front : \", end=\"\")\n",
    "        if self.is_empty():\n",
    "            print(\"(tidak ada data) : rear\")\n",
    "        else:\n",
    "            temp = self.front\n",
    "            while temp.next != self.front:\n",
    "                print(temp.data, end = \" | \")\n",
    "                temp = temp.next\n",
    "            print(temp.data, end=\"\")\n",
    "            print(\" : rear\")\n",
    "\n",
    "    def print_storage(self):\n",
    "        print(\"front -> \", end=\"\")\n",
    "        if self.is_empty():\n",
    "            print(\"None (<- rear)\")\n",
    "        else:\n",
    "            temp = self.front\n",
    "            while temp.next != self.front:\n",
    "                print(temp.data, end = \" -> \")\n",
    "                temp = temp.next\n",
    "            print(temp.data, end = \"\")\n",
    "            print(\" (<- rear) -> front\")"
   ]
  },
  {
   "cell_type": "code",
   "execution_count": null,
   "metadata": {
    "id": "wG9sduUpZHEC"
   },
   "outputs": [],
   "source": [
    "queueDLinked = SLCircQueue()"
   ]
  },
  {
   "cell_type": "code",
   "execution_count": null,
   "metadata": {
    "colab": {
     "base_uri": "https://localhost:8080/"
    },
    "id": "LoX8-mmKZHEC",
    "outputId": "5e603d17-ec67-40d8-9bf3-9653dc0390a3"
   },
   "outputs": [
    {
     "name": "stdout",
     "output_type": "stream",
     "text": [
      "front : (tidak ada data) : rear\n"
     ]
    }
   ],
   "source": [
    "queueDLinked.print_queue()"
   ]
  },
  {
   "cell_type": "code",
   "execution_count": null,
   "metadata": {
    "colab": {
     "base_uri": "https://localhost:8080/"
    },
    "id": "Sw3PUwqeZHED",
    "outputId": "008ccc7f-a465-4acc-a2e8-5d42586aaa21"
   },
   "outputs": [
    {
     "name": "stdout",
     "output_type": "stream",
     "text": [
      "front -> None (<- rear)\n"
     ]
    }
   ],
   "source": [
    "queueDLinked.print_storage()"
   ]
  },
  {
   "cell_type": "code",
   "execution_count": null,
   "metadata": {
    "id": "8KGcporfZHED"
   },
   "outputs": [],
   "source": [
    "queueDLinked.enqueue(65)\n",
    "queueDLinked.enqueue(-11)\n",
    "queueDLinked.enqueue(43)"
   ]
  },
  {
   "cell_type": "code",
   "execution_count": null,
   "metadata": {
    "colab": {
     "base_uri": "https://localhost:8080/"
    },
    "id": "arsoKzBQZHEE",
    "outputId": "a440cd10-720f-4b3e-b4f0-804b4667f0f4"
   },
   "outputs": [
    {
     "name": "stdout",
     "output_type": "stream",
     "text": [
      "front : 65 | -11 | 43 : rear\n",
      "front -> 65 -> -11 -> 43 (<- rear) -> front\n"
     ]
    }
   ],
   "source": [
    "queueDLinked.print_queue()\n",
    "queueDLinked.print_storage()"
   ]
  },
  {
   "cell_type": "code",
   "execution_count": null,
   "metadata": {
    "colab": {
     "base_uri": "https://localhost:8080/"
    },
    "id": "J6cP3KRNZHEE",
    "outputId": "2eb5df18-5a8f-40fb-aee3-980117cfd944"
   },
   "outputs": [
    {
     "data": {
      "text/plain": [
       "False"
      ]
     },
     "execution_count": 49,
     "metadata": {},
     "output_type": "execute_result"
    }
   ],
   "source": [
    "queueDLinked.is_empty()"
   ]
  },
  {
   "cell_type": "code",
   "execution_count": null,
   "metadata": {
    "colab": {
     "base_uri": "https://localhost:8080/"
    },
    "id": "RY3p1698ZHEE",
    "outputId": "9092e32b-62fa-4e72-fbff-6bd9be135d56"
   },
   "outputs": [
    {
     "data": {
      "text/plain": [
       "65"
      ]
     },
     "execution_count": 50,
     "metadata": {},
     "output_type": "execute_result"
    }
   ],
   "source": [
    "queueDLinked.dequeue()"
   ]
  },
  {
   "cell_type": "code",
   "execution_count": null,
   "metadata": {
    "colab": {
     "base_uri": "https://localhost:8080/"
    },
    "id": "N2v6_Td5ZHEF",
    "outputId": "30cad62c-a854-43b7-c68e-0d38863e57ae"
   },
   "outputs": [
    {
     "name": "stdout",
     "output_type": "stream",
     "text": [
      "front : -11 | 43 : rear\n",
      "front -> -11 -> 43 (<- rear) -> front\n"
     ]
    }
   ],
   "source": [
    "queueDLinked.print_queue()\n",
    "queueDLinked.print_storage()"
   ]
  },
  {
   "cell_type": "code",
   "execution_count": null,
   "metadata": {
    "colab": {
     "base_uri": "https://localhost:8080/"
    },
    "id": "c78FDdOEZHEF",
    "outputId": "ecc2aeb4-334f-49f3-e553-8d559ce82c0f"
   },
   "outputs": [
    {
     "data": {
      "text/plain": [
       "-11"
      ]
     },
     "execution_count": 52,
     "metadata": {},
     "output_type": "execute_result"
    }
   ],
   "source": [
    "queueDLinked.peek()"
   ]
  },
  {
   "cell_type": "code",
   "execution_count": null,
   "metadata": {
    "colab": {
     "base_uri": "https://localhost:8080/"
    },
    "id": "ZAMLj6gzZHEF",
    "outputId": "9f4f658c-4268-4c33-b86f-88050908eaf5"
   },
   "outputs": [
    {
     "data": {
      "text/plain": [
       "True"
      ]
     },
     "execution_count": 53,
     "metadata": {},
     "output_type": "execute_result"
    }
   ],
   "source": [
    "for i in range(queueDLinked.get_size()):\n",
    "    queueDLinked.dequeue()\n",
    "\n",
    "queueDLinked.is_empty()"
   ]
  },
  {
   "cell_type": "markdown",
   "metadata": {
    "id": "qlYe_sCfZHEG"
   },
   "source": [
    "# Membuat *User Interface* untuk Struktur Data Queue"
   ]
  },
  {
   "cell_type": "markdown",
   "metadata": {
    "id": "C1CX0_tXZHEG"
   },
   "source": [
    "## Perkenalan Jupyter Widgets"
   ]
  },
  {
   "cell_type": "markdown",
   "metadata": {
    "id": "oFM3GSQuZHEG"
   },
   "source": [
    "Menggunakan program bagi orang yang mengerti pastilah mudah untuk melihat apa maksud dari tampilan pada sebuah file *notebook*. Namun, pada satu sisi ketika anda ingin menampilkan hasil pekerjaan anda pada rekan atau kolega, teman, atau bahkan dosen tidak harus anda menampilkan tampilan yang lumayan sulit untuk dipahami.\n",
    "\n",
    "Oleh karena itu anda bisa mnenggunakan Jupyter Widgets untuk menampilkan pekerjaan anda menjadi lebih mudah untuk dilihat.\n",
    "\n",
    "**Apa itu Jupyter Widgets?**\n",
    "\n",
    "Jupyter widgets, atau ipywidgets, adalah komponen UI (*User Interface*) interaktif dalam notebook Jupyter yang memungkinkan interaksi pengguna dengan kode, data, dan visualisasi. Widget ini dibangun di atas framework Jupyter dan memungkinkan Anda membuat kontrol interaktif seperti slider, tombol, dropdown, dan kotak teks yang bisa dihubungkan langsung dengan kode Python secara real-time.\n",
    "\n",
    "Manfaat Jupyter widget:\n",
    "\n",
    "- Interaktivitas: Widget memungkinkan pengguna untuk menyesuaikan parameter, melihat perubahan, dan memanipulasi data secara dinamis tanpa harus menjalankan ulang sel secara manual.\n",
    "\n",
    "- Eksplorasi Data: Slider, tombol, dan widget lainnya memudahkan eksplorasi data secara interaktif, seperti mengatur parameter visualisasi.\n",
    "\n",
    "- Output Langsung: Widget menampilkan output yang berubah berdasarkan input pengguna, sehingga cocok untuk membuat dashboard, aplikasi, atau laporan interaktif dalam notebook."
   ]
  },
  {
   "cell_type": "markdown",
   "metadata": {
    "id": "kj09ykRUZHEG"
   },
   "source": [
    "Install widgets dengan menggunakan kode berikut:\n",
    "\n",
    "Dengan pip:\n",
    "```python\n",
    "pip install ipywidgets\n",
    "```\n",
    "\n",
    "Dengan conda:\n",
    "```python\n",
    "conda install -c conda-forge ipywidgets\n",
    "```"
   ]
  },
  {
   "cell_type": "code",
   "execution_count": null,
   "metadata": {
    "id": "qSL7iEVFZHEG"
   },
   "outputs": [],
   "source": [
    "import ipywidgets as widgets"
   ]
  },
  {
   "cell_type": "markdown",
   "metadata": {
    "id": "scELKL2tZHEH"
   },
   "source": [
    "Widgets merupakan sebuah objek, ingat kembali pada praktikum [OOP](./modul2.ipynb) bahwa kita bisa import object tersebut dari sebuah package. Penggunaan metode pada package akan sama dengan metode biasanya.\n",
    "\n",
    "Misal kita ingin buat slider bilangan bulat, maka kita bisa membuatnya dengan cara berikut."
   ]
  },
  {
   "cell_type": "code",
   "execution_count": null,
   "metadata": {
    "colab": {
     "base_uri": "https://localhost:8080/",
     "height": 49,
     "referenced_widgets": [
      "1ae9d750c55348da97ed3e0eec1a1b54",
      "2bb7fa8726f94b0498b469d7690c2943",
      "6408f1ed40d047a390e1786d05654e4b"
     ]
    },
    "id": "r911TsORZHEH",
    "outputId": "608dd82e-ba99-4d25-c15f-9096f5f99440"
   },
   "outputs": [
    {
     "data": {
      "application/vnd.jupyter.widget-view+json": {
       "model_id": "1ae9d750c55348da97ed3e0eec1a1b54",
       "version_major": 2,
       "version_minor": 0
      },
      "text/plain": [
       "IntSlider(value=0)"
      ]
     },
     "metadata": {},
     "output_type": "display_data"
    }
   ],
   "source": [
    "widgets.IntSlider()"
   ]
  },
  {
   "cell_type": "markdown",
   "metadata": {
    "id": "02cvhLiXZHEH"
   },
   "source": [
    "Atau dengan cara yang lebih mudah yaitu kita ambil saja objeknya sebagai berikut."
   ]
  },
  {
   "cell_type": "code",
   "execution_count": 1,
   "metadata": {
    "colab": {
     "base_uri": "https://localhost:8080/",
     "height": 49,
     "referenced_widgets": [
      "ba1b8311c62a48bf8e14cfd34dde2c34",
      "3bca6e85a9b54a63b1b3587f0edc045f",
      "3be375f8848f4098a2a45daa564b5a00"
     ]
    },
    "id": "9FymFBqiZHEI",
    "outputId": "c531b427-b098-4f62-e31c-9c8e3e2eb469"
   },
   "outputs": [
    {
     "data": {
      "application/vnd.jupyter.widget-view+json": {
       "model_id": "f9743e6f4cb44c3689cf8b858b551e06",
       "version_major": 2,
       "version_minor": 0
      },
      "text/plain": [
       "IntSlider(value=0)"
      ]
     },
     "metadata": {},
     "output_type": "display_data"
    }
   ],
   "source": [
    "from ipywidgets import IntSlider\n",
    "from IPython.display import display\n",
    "\n",
    "slider = IntSlider()\n",
    "\n",
    "display(slider)"
   ]
  },
  {
   "cell_type": "code",
   "execution_count": 2,
   "metadata": {
    "colab": {
     "base_uri": "https://localhost:8080/",
     "height": 49,
     "referenced_widgets": [
      "ba1b8311c62a48bf8e14cfd34dde2c34",
      "3bca6e85a9b54a63b1b3587f0edc045f",
      "3be375f8848f4098a2a45daa564b5a00"
     ]
    },
    "id": "r6lqY1ZbZHEI",
    "outputId": "84574fa7-5406-43dd-ec82-3999a36c07fe"
   },
   "outputs": [
    {
     "data": {
      "application/vnd.jupyter.widget-view+json": {
       "model_id": "f9743e6f4cb44c3689cf8b858b551e06",
       "version_major": 2,
       "version_minor": 0
      },
      "text/plain": [
       "IntSlider(value=42)"
      ]
     },
     "metadata": {},
     "output_type": "display_data"
    }
   ],
   "source": [
    "display(slider)"
   ]
  },
  {
   "cell_type": "markdown",
   "metadata": {
    "id": "_2A7OMZ4ZHEI"
   },
   "source": [
    "Perhatikan bahwa jika kita memanggil slider pada dua cell berbeda, kedua slider bergerak secara bersamaan. Hal ini karena objek pada cell adalah objek yang sama dengan yang kita definisikan sebelumnya. Oleh karena itu, untuk menutupnya dapat digunakan metode `close()` berikut."
   ]
  },
  {
   "cell_type": "code",
   "execution_count": 3,
   "metadata": {
    "id": "K5o5WuNSZHEI"
   },
   "outputs": [],
   "source": [
    "# tutup semua slider dengan variabel \"slider\"\n",
    "slider.close()"
   ]
  },
  {
   "cell_type": "markdown",
   "metadata": {
    "id": "mOE1hZ8TZHEJ"
   },
   "source": [
    "Selain membuat slider, kita juga dapat membuat tombol atau text box dengan menggunakan ``Button``, ``ToggleButton``, ``Text``, ``FloatText``, ``IntText``"
   ]
  },
  {
   "cell_type": "code",
   "execution_count": 5,
   "metadata": {
    "id": "sK1hGRtPZHEJ"
   },
   "outputs": [],
   "source": [
    "from ipywidgets import Button, ToggleButton, Text, IntText, FloatText, Label"
   ]
  },
  {
   "cell_type": "code",
   "execution_count": null,
   "metadata": {
    "colab": {
     "base_uri": "https://localhost:8080/",
     "height": 84,
     "referenced_widgets": [
      "c911b24af4ad4a928adb4633117b03eb",
      "48bf2b47f2c6499d9a25cd637d490ec4",
      "aa66c258e3b24ec8aff7a70b833e0ded"
     ]
    },
    "id": "PXp9ui-aZHEJ",
    "outputId": "6c9d14a9-a2c3-4a2b-e332-9ccd0ecf7da2"
   },
   "outputs": [
    {
     "data": {
      "application/vnd.jupyter.widget-view+json": {
       "model_id": "307c89de73744089a28907d6c276bad8",
       "version_major": 2,
       "version_minor": 0
      },
      "text/plain": [
       "Button(description='Klik Aku', icon='clipboard', style=ButtonStyle(), tooltip='Pastikan anda yakin')"
      ]
     },
     "metadata": {},
     "output_type": "display_data"
    },
    {
     "name": "stdout",
     "output_type": "stream",
     "text": [
      "Aku telah di klik\n",
      "Aku telah di klik\n"
     ]
    }
   ],
   "source": [
    "tombol = Button(\n",
    "    description = \"Klik Aku\",\n",
    "    disabled = False,\n",
    "    button_style='', # 'success', 'info', 'warning', 'danger' or ''\n",
    "    tooltip='Pastikan anda yakin',\n",
    "    icon='clipboard' # (FontAwesome names without the `fa-` prefix)\n",
    ")\n",
    "display(tombol)\n",
    "\n",
    "def hasil_click(b):\n",
    "  print(\"Aku telah di klik\")\n",
    "\n",
    "tombol.on_click(hasil_click)"
   ]
  },
  {
   "cell_type": "code",
   "execution_count": 7,
   "metadata": {
    "colab": {
     "base_uri": "https://localhost:8080/",
     "height": 49,
     "referenced_widgets": [
      "f017d07713dc4e8e8cf1ebff0a14851b",
      "b94efe3bf7b8439eac14c6c7dda1fa13",
      "11452759fc774debbf072ec417ece89c"
     ]
    },
    "id": "PlsCd1bpZHEJ",
    "outputId": "0f79bdb9-3419-4e3a-b41b-f1dd011a4c37"
   },
   "outputs": [
    {
     "data": {
      "application/vnd.jupyter.widget-view+json": {
       "model_id": "bbf3b25d89804777950aa281ad8cad16",
       "version_major": 2,
       "version_minor": 0
      },
      "text/plain": [
       "ToggleButton(value=False, description='Click me', icon='check', tooltip='Description')"
      ]
     },
     "metadata": {},
     "output_type": "display_data"
    }
   ],
   "source": [
    "toggle = ToggleButton(\n",
    "    value=False,\n",
    "    description=\"Click me\",\n",
    "    disabled=False,\n",
    "    button_style='', # 'success', 'info', 'warning', 'danger' or ''\n",
    "    tooltip='Description',\n",
    "    icon='check' # (FontAwesome names without the `fa-` prefix)\n",
    ")\n",
    "\n",
    "\n",
    "display(toggle)"
   ]
  },
  {
   "cell_type": "code",
   "execution_count": 8,
   "metadata": {
    "colab": {
     "base_uri": "https://localhost:8080/",
     "height": 49,
     "referenced_widgets": [
      "6953fde9940d4d72bc661bf5dbcb6540",
      "1680941778ba40be82d3a69277e6df70",
      "0528bed2a2dc49eb8e482534dc2135d2"
     ]
    },
    "id": "b11KL-coZHEK",
    "outputId": "de1a0b1e-fb40-4b59-dc2b-aa8084526f47"
   },
   "outputs": [
    {
     "data": {
      "application/vnd.jupyter.widget-view+json": {
       "model_id": "991bff189a0349058c14a93a7a1fa88d",
       "version_major": 2,
       "version_minor": 0
      },
      "text/plain": [
       "Text(value='', description='String:', placeholder='Masukkan Input')"
      ]
     },
     "metadata": {},
     "output_type": "display_data"
    }
   ],
   "source": [
    "text_box = Text(\n",
    "    value= '',\n",
    "    placeholder='Masukkan Input',\n",
    "    description='String:',\n",
    "    disabled=False\n",
    ")\n",
    "\n",
    "display(text_box)"
   ]
  },
  {
   "cell_type": "code",
   "execution_count": 9,
   "metadata": {
    "colab": {
     "base_uri": "https://localhost:8080/",
     "height": 49,
     "referenced_widgets": [
      "ed80add506dd474b88e138304cecadb3",
      "0e52bc963ca94d7b87999e35e97cb14d",
      "2c763a5cbdcc45209f19131dd04d1120"
     ]
    },
    "id": "4a56KzvbZHEK",
    "outputId": "803cfc71-cd3d-4179-f028-117b15e99e7f"
   },
   "outputs": [
    {
     "data": {
      "application/vnd.jupyter.widget-view+json": {
       "model_id": "479061bc8a0e4108beee531589b4f132",
       "version_major": 2,
       "version_minor": 0
      },
      "text/plain": [
       "FloatText(value=0.0, description='Number:')"
      ]
     },
     "metadata": {},
     "output_type": "display_data"
    }
   ],
   "source": [
    "text_box_angka = FloatText(\n",
    "    value= 0,\n",
    "    description='Number:',\n",
    "    disabled=False\n",
    ")\n",
    "display(text_box_angka)"
   ]
  },
  {
   "cell_type": "markdown",
   "metadata": {
    "id": "yCkcZ6_zZHEK"
   },
   "source": [
    "Sekarang mari kita implementasikan widgets sebelumnya dengan membuat *interface* untuk memasukkan dan mengeluarkan nilai dari *queue* menggunakan tombol dan *text box*."
   ]
  },
  {
   "cell_type": "code",
   "execution_count": 10,
   "metadata": {
    "id": "oXYrznDVZHEL"
   },
   "outputs": [],
   "source": [
    "from ipywidgets import IntText, Button, Label\n",
    "from IPython.display import display"
   ]
  },
  {
   "cell_type": "code",
   "execution_count": null,
   "metadata": {
    "colab": {
     "base_uri": "https://localhost:8080/",
     "height": 440,
     "referenced_widgets": [
      "da003fe30b6549f981eeac11fb617dfa",
      "ebf2548b41de4c8288380d05174c4a14",
      "dfdd8748059c46b4916c39b898c2d1dc",
      "8e84b090f8de40c2abcceae450707941",
      "72e1f210709542d18ad7cfb484b6e6d1",
      "da4e1df954e64c83a6060ba6aa4be836",
      "3fdcc50c02e547fcb4af8e73a5277ca6",
      "6216992e95cf4ae88d61723887759c27",
      "6092116d0f3d4e21ae8fb618bb13a0cb",
      "4d2fddde5dd6468683ff4d6fb48d6ba5",
      "b7dff003b6fc446099179e097ad71559",
      "c537329d12dd4b62bf1976381cb99278"
     ]
    },
    "id": "wCy9GctcbVZL",
    "outputId": "12aaa620-5662-439b-b4ca-936656e427c3"
   },
   "outputs": [
    {
     "name": "stdout",
     "output_type": "stream",
     "text": [
      "front : (tidak ada data) : rear\n"
     ]
    },
    {
     "data": {
      "application/vnd.jupyter.widget-view+json": {
       "model_id": "8be078046d234ef2a629eb421d47ce8c",
       "version_major": 2,
       "version_minor": 0
      },
      "text/plain": [
       "IntText(value=0, description='Enqueue: ')"
      ]
     },
     "metadata": {},
     "output_type": "display_data"
    },
    {
     "data": {
      "application/vnd.jupyter.widget-view+json": {
       "model_id": "67f002f506884de497465532cf5f110c",
       "version_major": 2,
       "version_minor": 0
      },
      "text/plain": [
       "Button(description='Enqueue', style=ButtonStyle())"
      ]
     },
     "metadata": {},
     "output_type": "display_data"
    },
    {
     "data": {
      "application/vnd.jupyter.widget-view+json": {
       "model_id": "5f5b8e250d514949aa611325beaa4e03",
       "version_major": 2,
       "version_minor": 0
      },
      "text/plain": [
       "Button(description='Dequeue', style=ButtonStyle())"
      ]
     },
     "metadata": {},
     "output_type": "display_data"
    },
    {
     "data": {
      "application/vnd.jupyter.widget-view+json": {
       "model_id": "142d0b60db6f4e82963b4072454cab6a",
       "version_major": 2,
       "version_minor": 0
      },
      "text/plain": [
       "Label(value='None')"
      ]
     },
     "metadata": {},
     "output_type": "display_data"
    },
    {
     "name": "stdout",
     "output_type": "stream",
     "text": [
      "front : 1 : rear\n",
      "front : 1 | 2 : rear\n",
      "front : 1 | 2 | 3 : rear\n",
      "front : 1 | 2 | 3 | 4 : rear\n",
      "front : 1 | 2 | 3 | 4 | 5 : rear\n",
      "Error enqueue: queue sudah penuh sebelumnya\n",
      "front : 1 | 2 | 3 | 4 | 5 : rear\n",
      "front : 2 | 3 | 4 | 5 : rear\n",
      "front : 3 | 4 | 5 : rear\n",
      "front : 4 | 5 : rear\n",
      "front : 5 : rear\n",
      "front : (tidak ada data) : rear\n",
      "Error dequeue: queue sudah kosong sebelumnya\n",
      "front : (tidak ada data) : rear\n"
     ]
    }
   ],
   "source": [
    "# Mendefinisikan Queue yang digunakan dengan array circular queue\n",
    "size = 5\n",
    "queue = ArrayCircQueue(dtype = int, max = size)\n",
    "\n",
    "# Membuat text box untuk enqueue nilai baru\n",
    "enqueue_input = IntText(description='Enqueue: ')\n",
    "\n",
    "# Membuat tombol untuk enqueue dan dequeue\n",
    "enqueue_button = Button(description=\"Enqueue\")\n",
    "dequeue_button = Button(description=\"Dequeue\")\n",
    "\n",
    "# Menampilkan semua elemen pada Queue\n",
    "queue_display = Label(value=str(queue.print_queue()))\n",
    "\n",
    "# Membuat fungsi untuk melakukan enqueue\n",
    "def enqueue_handler(b):\n",
    "    value = enqueue_input.value\n",
    "    result = queue.enqueue(value)\n",
    "    queue_display.value = str(queue.print_queue())\n",
    "\n",
    "# Membuat fungsi untuk melakukan dequeue\n",
    "def dequeue_handler(b):\n",
    "    result = queue.dequeue()\n",
    "    queue_display.value = f\"Dequeued: {result} | {queue.print_queue()}\"\n",
    "\n",
    "# Ketika tombol diklik, maka fungsi sebelumnya akan dijalankan\n",
    "enqueue_button.on_click(enqueue_handler)\n",
    "dequeue_button.on_click(dequeue_handler)\n",
    "\n",
    "# Menampilkan UI\n",
    "display(enqueue_input, enqueue_button, dequeue_button, queue_display)"
   ]
  },
  {
   "cell_type": "markdown",
   "metadata": {
    "id": "ycHJLv6P3eXs"
   },
   "source": [
    "Atau jika kalian ingin melihat bagaimana cara circular queue bekerja pada array, kalian bisa menampilkan array keseluruhan yang digunakan dengan ``print_storage()``."
   ]
  },
  {
   "cell_type": "code",
   "execution_count": 15,
   "metadata": {
    "colab": {
     "base_uri": "https://localhost:8080/",
     "height": 822,
     "referenced_widgets": [
      "ea1a91ba1fc24bc08de9f761fb6bf098",
      "3d4bd8a3583e4a2cb4093f1d3d6b281b",
      "6b804c9262c24705ae2975e34cd5f7e0",
      "3e0855e78e4145cda1a734d38b82a5f8",
      "2803caee77ab4adea20a3a5b9d657d56",
      "9ae945ef1a56446e9006e436eabca43b",
      "4aa7c799d01c46a89613fb82152d3d17",
      "308bdad679ec45619d4ddb64d98c4a68",
      "dec2abc8ff274f349cd3b4a6fd402d13",
      "9ac914e3b81c417ba93e2feb75e2b20d",
      "0624a18d41114c3385f0f8e77480d236",
      "4ab764c569504571bed11767b643f9cc"
     ]
    },
    "id": "DnFqQv6MoUZc",
    "outputId": "84017b9d-3ce1-46a9-c6f8-d8688874e615"
   },
   "outputs": [
    {
     "name": "stdout",
     "output_type": "stream",
     "text": [
      "[            0 2523989131520 2523989133760 2523989131840             0]\n"
     ]
    },
    {
     "data": {
      "application/vnd.jupyter.widget-view+json": {
       "model_id": "ebc670b24f6949dd9ac6bcc5d073740e",
       "version_major": 2,
       "version_minor": 0
      },
      "text/plain": [
       "IntText(value=0, description='Enqueue: ')"
      ]
     },
     "metadata": {},
     "output_type": "display_data"
    },
    {
     "data": {
      "application/vnd.jupyter.widget-view+json": {
       "model_id": "666dab72026b4451a976d9d923e14d07",
       "version_major": 2,
       "version_minor": 0
      },
      "text/plain": [
       "Button(description='Enqueue', style=ButtonStyle())"
      ]
     },
     "metadata": {},
     "output_type": "display_data"
    },
    {
     "data": {
      "application/vnd.jupyter.widget-view+json": {
       "model_id": "44da0d1bd6b24756b29717db7a60e474",
       "version_major": 2,
       "version_minor": 0
      },
      "text/plain": [
       "Button(description='Dequeue', style=ButtonStyle())"
      ]
     },
     "metadata": {},
     "output_type": "display_data"
    },
    {
     "data": {
      "application/vnd.jupyter.widget-view+json": {
       "model_id": "907f4dc995064604b0d427903211d228",
       "version_major": 2,
       "version_minor": 0
      },
      "text/plain": [
       "Label(value='None')"
      ]
     },
     "metadata": {},
     "output_type": "display_data"
    },
    {
     "name": "stdout",
     "output_type": "stream",
     "text": [
      "[            1 2523989131520 2523989133760 2523989131840             0]\n",
      "[            1             2 2523989133760 2523989131840             0]\n",
      "[            1             2             3 2523989131840             0]\n",
      "[1 2 3 4 0]\n",
      "[1 2 3 4 5]\n",
      "Error enqueue: queue sudah penuh sebelumnya\n",
      "[1 2 3 4 5]\n",
      "[1 2 3 4 5]\n",
      "[1 2 3 4 5]\n",
      "[7 2 3 4 5]\n",
      "[7 7 3 4 5]\n",
      "Error enqueue: queue sudah penuh sebelumnya\n",
      "[7 7 3 4 5]\n",
      "[7 7 3 4 5]\n",
      "[7 7 3 4 5]\n",
      "[7 7 3 4 5]\n",
      "[7 7 3 4 5]\n",
      "[7 7 3 4 5]\n",
      "Error dequeue: queue sudah kosong sebelumnya\n",
      "[7 7 3 4 5]\n"
     ]
    }
   ],
   "source": [
    "# Mendefinisikan Queue yang digunakan dengan array circular queue\n",
    "size = 5\n",
    "queue = ArrayCircQueue(dtype = int, max = size)\n",
    "\n",
    "# Membuat text box untuk enqueue nilai baru\n",
    "enqueue_input = IntText(value=0, description='Enqueue: ')\n",
    "\n",
    "# Membuat tombol untuk enqueue dan dequeue\n",
    "enqueue_button = Button(description=\"Enqueue\")\n",
    "dequeue_button = Button(description=\"Dequeue\")\n",
    "\n",
    "# Menampilkan semua elemen pada Queue\n",
    "queue_display = Label(value=str(queue.print_storage()))\n",
    "\n",
    "# Membuat fungsi untuk melakukan enqueue\n",
    "def enqueue_handler(b):\n",
    "    value = enqueue_input.value\n",
    "    result = queue.enqueue(value)\n",
    "    queue_display.value = str(queue.print_storage())\n",
    "\n",
    "# Membuat fungsi untuk melakukan dequeue\n",
    "def dequeue_handler(b):\n",
    "    result = queue.dequeue()\n",
    "    queue_display.value = f\"Dequeued: {result} | {queue.print_storage()}\"\n",
    "\n",
    "# Ketika tombol diklik, maka fungsi sebelumnya akan dijalankan\n",
    "enqueue_button.on_click(enqueue_handler)\n",
    "dequeue_button.on_click(dequeue_handler)\n",
    "\n",
    "# Menampilkan UI\n",
    "display(enqueue_input, enqueue_button, dequeue_button, queue_display)"
   ]
  }
 ],
 "metadata": {
  "colab": {
   "provenance": []
  },
  "kernelspec": {
   "display_name": "Python 3",
   "language": "python",
   "name": "python3"
  },
  "language_info": {
   "codemirror_mode": {
    "name": "ipython",
    "version": 3
   },
   "file_extension": ".py",
   "mimetype": "text/x-python",
   "name": "python",
   "nbconvert_exporter": "python",
   "pygments_lexer": "ipython3",
   "version": "3.11.1"
  },
  "widgets": {
   "application/vnd.jupyter.widget-state+json": {
    "0528bed2a2dc49eb8e482534dc2135d2": {
     "model_module": "@jupyter-widgets/controls",
     "model_module_version": "1.5.0",
     "model_name": "DescriptionStyleModel",
     "state": {
      "_model_module": "@jupyter-widgets/controls",
      "_model_module_version": "1.5.0",
      "_model_name": "DescriptionStyleModel",
      "_view_count": null,
      "_view_module": "@jupyter-widgets/base",
      "_view_module_version": "1.2.0",
      "_view_name": "StyleView",
      "description_width": ""
     }
    },
    "0624a18d41114c3385f0f8e77480d236": {
     "model_module": "@jupyter-widgets/base",
     "model_module_version": "1.2.0",
     "model_name": "LayoutModel",
     "state": {
      "_model_module": "@jupyter-widgets/base",
      "_model_module_version": "1.2.0",
      "_model_name": "LayoutModel",
      "_view_count": null,
      "_view_module": "@jupyter-widgets/base",
      "_view_module_version": "1.2.0",
      "_view_name": "LayoutView",
      "align_content": null,
      "align_items": null,
      "align_self": null,
      "border": null,
      "bottom": null,
      "display": null,
      "flex": null,
      "flex_flow": null,
      "grid_area": null,
      "grid_auto_columns": null,
      "grid_auto_flow": null,
      "grid_auto_rows": null,
      "grid_column": null,
      "grid_gap": null,
      "grid_row": null,
      "grid_template_areas": null,
      "grid_template_columns": null,
      "grid_template_rows": null,
      "height": null,
      "justify_content": null,
      "justify_items": null,
      "left": null,
      "margin": null,
      "max_height": null,
      "max_width": null,
      "min_height": null,
      "min_width": null,
      "object_fit": null,
      "object_position": null,
      "order": null,
      "overflow": null,
      "overflow_x": null,
      "overflow_y": null,
      "padding": null,
      "right": null,
      "top": null,
      "visibility": null,
      "width": null
     }
    },
    "0e52bc963ca94d7b87999e35e97cb14d": {
     "model_module": "@jupyter-widgets/base",
     "model_module_version": "1.2.0",
     "model_name": "LayoutModel",
     "state": {
      "_model_module": "@jupyter-widgets/base",
      "_model_module_version": "1.2.0",
      "_model_name": "LayoutModel",
      "_view_count": null,
      "_view_module": "@jupyter-widgets/base",
      "_view_module_version": "1.2.0",
      "_view_name": "LayoutView",
      "align_content": null,
      "align_items": null,
      "align_self": null,
      "border": null,
      "bottom": null,
      "display": null,
      "flex": null,
      "flex_flow": null,
      "grid_area": null,
      "grid_auto_columns": null,
      "grid_auto_flow": null,
      "grid_auto_rows": null,
      "grid_column": null,
      "grid_gap": null,
      "grid_row": null,
      "grid_template_areas": null,
      "grid_template_columns": null,
      "grid_template_rows": null,
      "height": null,
      "justify_content": null,
      "justify_items": null,
      "left": null,
      "margin": null,
      "max_height": null,
      "max_width": null,
      "min_height": null,
      "min_width": null,
      "object_fit": null,
      "object_position": null,
      "order": null,
      "overflow": null,
      "overflow_x": null,
      "overflow_y": null,
      "padding": null,
      "right": null,
      "top": null,
      "visibility": null,
      "width": null
     }
    },
    "11452759fc774debbf072ec417ece89c": {
     "model_module": "@jupyter-widgets/controls",
     "model_module_version": "1.5.0",
     "model_name": "DescriptionStyleModel",
     "state": {
      "_model_module": "@jupyter-widgets/controls",
      "_model_module_version": "1.5.0",
      "_model_name": "DescriptionStyleModel",
      "_view_count": null,
      "_view_module": "@jupyter-widgets/base",
      "_view_module_version": "1.2.0",
      "_view_name": "StyleView",
      "description_width": ""
     }
    },
    "1680941778ba40be82d3a69277e6df70": {
     "model_module": "@jupyter-widgets/base",
     "model_module_version": "1.2.0",
     "model_name": "LayoutModel",
     "state": {
      "_model_module": "@jupyter-widgets/base",
      "_model_module_version": "1.2.0",
      "_model_name": "LayoutModel",
      "_view_count": null,
      "_view_module": "@jupyter-widgets/base",
      "_view_module_version": "1.2.0",
      "_view_name": "LayoutView",
      "align_content": null,
      "align_items": null,
      "align_self": null,
      "border": null,
      "bottom": null,
      "display": null,
      "flex": null,
      "flex_flow": null,
      "grid_area": null,
      "grid_auto_columns": null,
      "grid_auto_flow": null,
      "grid_auto_rows": null,
      "grid_column": null,
      "grid_gap": null,
      "grid_row": null,
      "grid_template_areas": null,
      "grid_template_columns": null,
      "grid_template_rows": null,
      "height": null,
      "justify_content": null,
      "justify_items": null,
      "left": null,
      "margin": null,
      "max_height": null,
      "max_width": null,
      "min_height": null,
      "min_width": null,
      "object_fit": null,
      "object_position": null,
      "order": null,
      "overflow": null,
      "overflow_x": null,
      "overflow_y": null,
      "padding": null,
      "right": null,
      "top": null,
      "visibility": null,
      "width": null
     }
    },
    "1ae9d750c55348da97ed3e0eec1a1b54": {
     "model_module": "@jupyter-widgets/controls",
     "model_module_version": "1.5.0",
     "model_name": "IntSliderModel",
     "state": {
      "_dom_classes": [],
      "_model_module": "@jupyter-widgets/controls",
      "_model_module_version": "1.5.0",
      "_model_name": "IntSliderModel",
      "_view_count": null,
      "_view_module": "@jupyter-widgets/controls",
      "_view_module_version": "1.5.0",
      "_view_name": "IntSliderView",
      "continuous_update": true,
      "description": "",
      "description_tooltip": null,
      "disabled": false,
      "layout": "IPY_MODEL_2bb7fa8726f94b0498b469d7690c2943",
      "max": 100,
      "min": 0,
      "orientation": "horizontal",
      "readout": true,
      "readout_format": "d",
      "step": 1,
      "style": "IPY_MODEL_6408f1ed40d047a390e1786d05654e4b",
      "value": 0
     }
    },
    "2803caee77ab4adea20a3a5b9d657d56": {
     "model_module": "@jupyter-widgets/base",
     "model_module_version": "1.2.0",
     "model_name": "LayoutModel",
     "state": {
      "_model_module": "@jupyter-widgets/base",
      "_model_module_version": "1.2.0",
      "_model_name": "LayoutModel",
      "_view_count": null,
      "_view_module": "@jupyter-widgets/base",
      "_view_module_version": "1.2.0",
      "_view_name": "LayoutView",
      "align_content": null,
      "align_items": null,
      "align_self": null,
      "border": null,
      "bottom": null,
      "display": null,
      "flex": null,
      "flex_flow": null,
      "grid_area": null,
      "grid_auto_columns": null,
      "grid_auto_flow": null,
      "grid_auto_rows": null,
      "grid_column": null,
      "grid_gap": null,
      "grid_row": null,
      "grid_template_areas": null,
      "grid_template_columns": null,
      "grid_template_rows": null,
      "height": null,
      "justify_content": null,
      "justify_items": null,
      "left": null,
      "margin": null,
      "max_height": null,
      "max_width": null,
      "min_height": null,
      "min_width": null,
      "object_fit": null,
      "object_position": null,
      "order": null,
      "overflow": null,
      "overflow_x": null,
      "overflow_y": null,
      "padding": null,
      "right": null,
      "top": null,
      "visibility": null,
      "width": null
     }
    },
    "2bb7fa8726f94b0498b469d7690c2943": {
     "model_module": "@jupyter-widgets/base",
     "model_module_version": "1.2.0",
     "model_name": "LayoutModel",
     "state": {
      "_model_module": "@jupyter-widgets/base",
      "_model_module_version": "1.2.0",
      "_model_name": "LayoutModel",
      "_view_count": null,
      "_view_module": "@jupyter-widgets/base",
      "_view_module_version": "1.2.0",
      "_view_name": "LayoutView",
      "align_content": null,
      "align_items": null,
      "align_self": null,
      "border": null,
      "bottom": null,
      "display": null,
      "flex": null,
      "flex_flow": null,
      "grid_area": null,
      "grid_auto_columns": null,
      "grid_auto_flow": null,
      "grid_auto_rows": null,
      "grid_column": null,
      "grid_gap": null,
      "grid_row": null,
      "grid_template_areas": null,
      "grid_template_columns": null,
      "grid_template_rows": null,
      "height": null,
      "justify_content": null,
      "justify_items": null,
      "left": null,
      "margin": null,
      "max_height": null,
      "max_width": null,
      "min_height": null,
      "min_width": null,
      "object_fit": null,
      "object_position": null,
      "order": null,
      "overflow": null,
      "overflow_x": null,
      "overflow_y": null,
      "padding": null,
      "right": null,
      "top": null,
      "visibility": null,
      "width": null
     }
    },
    "2c763a5cbdcc45209f19131dd04d1120": {
     "model_module": "@jupyter-widgets/controls",
     "model_module_version": "1.5.0",
     "model_name": "DescriptionStyleModel",
     "state": {
      "_model_module": "@jupyter-widgets/controls",
      "_model_module_version": "1.5.0",
      "_model_name": "DescriptionStyleModel",
      "_view_count": null,
      "_view_module": "@jupyter-widgets/base",
      "_view_module_version": "1.2.0",
      "_view_name": "StyleView",
      "description_width": ""
     }
    },
    "308bdad679ec45619d4ddb64d98c4a68": {
     "model_module": "@jupyter-widgets/base",
     "model_module_version": "1.2.0",
     "model_name": "LayoutModel",
     "state": {
      "_model_module": "@jupyter-widgets/base",
      "_model_module_version": "1.2.0",
      "_model_name": "LayoutModel",
      "_view_count": null,
      "_view_module": "@jupyter-widgets/base",
      "_view_module_version": "1.2.0",
      "_view_name": "LayoutView",
      "align_content": null,
      "align_items": null,
      "align_self": null,
      "border": null,
      "bottom": null,
      "display": null,
      "flex": null,
      "flex_flow": null,
      "grid_area": null,
      "grid_auto_columns": null,
      "grid_auto_flow": null,
      "grid_auto_rows": null,
      "grid_column": null,
      "grid_gap": null,
      "grid_row": null,
      "grid_template_areas": null,
      "grid_template_columns": null,
      "grid_template_rows": null,
      "height": null,
      "justify_content": null,
      "justify_items": null,
      "left": null,
      "margin": null,
      "max_height": null,
      "max_width": null,
      "min_height": null,
      "min_width": null,
      "object_fit": null,
      "object_position": null,
      "order": null,
      "overflow": null,
      "overflow_x": null,
      "overflow_y": null,
      "padding": null,
      "right": null,
      "top": null,
      "visibility": null,
      "width": null
     }
    },
    "3bca6e85a9b54a63b1b3587f0edc045f": {
     "model_module": "@jupyter-widgets/base",
     "model_module_version": "1.2.0",
     "model_name": "LayoutModel",
     "state": {
      "_model_module": "@jupyter-widgets/base",
      "_model_module_version": "1.2.0",
      "_model_name": "LayoutModel",
      "_view_count": null,
      "_view_module": "@jupyter-widgets/base",
      "_view_module_version": "1.2.0",
      "_view_name": "LayoutView",
      "align_content": null,
      "align_items": null,
      "align_self": null,
      "border": null,
      "bottom": null,
      "display": null,
      "flex": null,
      "flex_flow": null,
      "grid_area": null,
      "grid_auto_columns": null,
      "grid_auto_flow": null,
      "grid_auto_rows": null,
      "grid_column": null,
      "grid_gap": null,
      "grid_row": null,
      "grid_template_areas": null,
      "grid_template_columns": null,
      "grid_template_rows": null,
      "height": null,
      "justify_content": null,
      "justify_items": null,
      "left": null,
      "margin": null,
      "max_height": null,
      "max_width": null,
      "min_height": null,
      "min_width": null,
      "object_fit": null,
      "object_position": null,
      "order": null,
      "overflow": null,
      "overflow_x": null,
      "overflow_y": null,
      "padding": null,
      "right": null,
      "top": null,
      "visibility": null,
      "width": null
     }
    },
    "3be375f8848f4098a2a45daa564b5a00": {
     "model_module": "@jupyter-widgets/controls",
     "model_module_version": "1.5.0",
     "model_name": "SliderStyleModel",
     "state": {
      "_model_module": "@jupyter-widgets/controls",
      "_model_module_version": "1.5.0",
      "_model_name": "SliderStyleModel",
      "_view_count": null,
      "_view_module": "@jupyter-widgets/base",
      "_view_module_version": "1.2.0",
      "_view_name": "StyleView",
      "description_width": "",
      "handle_color": null
     }
    },
    "3d4bd8a3583e4a2cb4093f1d3d6b281b": {
     "model_module": "@jupyter-widgets/base",
     "model_module_version": "1.2.0",
     "model_name": "LayoutModel",
     "state": {
      "_model_module": "@jupyter-widgets/base",
      "_model_module_version": "1.2.0",
      "_model_name": "LayoutModel",
      "_view_count": null,
      "_view_module": "@jupyter-widgets/base",
      "_view_module_version": "1.2.0",
      "_view_name": "LayoutView",
      "align_content": null,
      "align_items": null,
      "align_self": null,
      "border": null,
      "bottom": null,
      "display": null,
      "flex": null,
      "flex_flow": null,
      "grid_area": null,
      "grid_auto_columns": null,
      "grid_auto_flow": null,
      "grid_auto_rows": null,
      "grid_column": null,
      "grid_gap": null,
      "grid_row": null,
      "grid_template_areas": null,
      "grid_template_columns": null,
      "grid_template_rows": null,
      "height": null,
      "justify_content": null,
      "justify_items": null,
      "left": null,
      "margin": null,
      "max_height": null,
      "max_width": null,
      "min_height": null,
      "min_width": null,
      "object_fit": null,
      "object_position": null,
      "order": null,
      "overflow": null,
      "overflow_x": null,
      "overflow_y": null,
      "padding": null,
      "right": null,
      "top": null,
      "visibility": null,
      "width": null
     }
    },
    "3e0855e78e4145cda1a734d38b82a5f8": {
     "model_module": "@jupyter-widgets/controls",
     "model_module_version": "1.5.0",
     "model_name": "ButtonModel",
     "state": {
      "_dom_classes": [],
      "_model_module": "@jupyter-widgets/controls",
      "_model_module_version": "1.5.0",
      "_model_name": "ButtonModel",
      "_view_count": null,
      "_view_module": "@jupyter-widgets/controls",
      "_view_module_version": "1.5.0",
      "_view_name": "ButtonView",
      "button_style": "",
      "description": "Enqueue",
      "disabled": false,
      "icon": "",
      "layout": "IPY_MODEL_2803caee77ab4adea20a3a5b9d657d56",
      "style": "IPY_MODEL_9ae945ef1a56446e9006e436eabca43b",
      "tooltip": ""
     }
    },
    "3fdcc50c02e547fcb4af8e73a5277ca6": {
     "model_module": "@jupyter-widgets/controls",
     "model_module_version": "1.5.0",
     "model_name": "ButtonModel",
     "state": {
      "_dom_classes": [],
      "_model_module": "@jupyter-widgets/controls",
      "_model_module_version": "1.5.0",
      "_model_name": "ButtonModel",
      "_view_count": null,
      "_view_module": "@jupyter-widgets/controls",
      "_view_module_version": "1.5.0",
      "_view_name": "ButtonView",
      "button_style": "",
      "description": "Dequeue",
      "disabled": false,
      "icon": "",
      "layout": "IPY_MODEL_6216992e95cf4ae88d61723887759c27",
      "style": "IPY_MODEL_6092116d0f3d4e21ae8fb618bb13a0cb",
      "tooltip": ""
     }
    },
    "48bf2b47f2c6499d9a25cd637d490ec4": {
     "model_module": "@jupyter-widgets/base",
     "model_module_version": "1.2.0",
     "model_name": "LayoutModel",
     "state": {
      "_model_module": "@jupyter-widgets/base",
      "_model_module_version": "1.2.0",
      "_model_name": "LayoutModel",
      "_view_count": null,
      "_view_module": "@jupyter-widgets/base",
      "_view_module_version": "1.2.0",
      "_view_name": "LayoutView",
      "align_content": null,
      "align_items": null,
      "align_self": null,
      "border": null,
      "bottom": null,
      "display": null,
      "flex": null,
      "flex_flow": null,
      "grid_area": null,
      "grid_auto_columns": null,
      "grid_auto_flow": null,
      "grid_auto_rows": null,
      "grid_column": null,
      "grid_gap": null,
      "grid_row": null,
      "grid_template_areas": null,
      "grid_template_columns": null,
      "grid_template_rows": null,
      "height": null,
      "justify_content": null,
      "justify_items": null,
      "left": null,
      "margin": null,
      "max_height": null,
      "max_width": null,
      "min_height": null,
      "min_width": null,
      "object_fit": null,
      "object_position": null,
      "order": null,
      "overflow": null,
      "overflow_x": null,
      "overflow_y": null,
      "padding": null,
      "right": null,
      "top": null,
      "visibility": null,
      "width": null
     }
    },
    "4aa7c799d01c46a89613fb82152d3d17": {
     "model_module": "@jupyter-widgets/controls",
     "model_module_version": "1.5.0",
     "model_name": "ButtonModel",
     "state": {
      "_dom_classes": [],
      "_model_module": "@jupyter-widgets/controls",
      "_model_module_version": "1.5.0",
      "_model_name": "ButtonModel",
      "_view_count": null,
      "_view_module": "@jupyter-widgets/controls",
      "_view_module_version": "1.5.0",
      "_view_name": "ButtonView",
      "button_style": "",
      "description": "Dequeue",
      "disabled": false,
      "icon": "",
      "layout": "IPY_MODEL_308bdad679ec45619d4ddb64d98c4a68",
      "style": "IPY_MODEL_dec2abc8ff274f349cd3b4a6fd402d13",
      "tooltip": ""
     }
    },
    "4ab764c569504571bed11767b643f9cc": {
     "model_module": "@jupyter-widgets/controls",
     "model_module_version": "1.5.0",
     "model_name": "DescriptionStyleModel",
     "state": {
      "_model_module": "@jupyter-widgets/controls",
      "_model_module_version": "1.5.0",
      "_model_name": "DescriptionStyleModel",
      "_view_count": null,
      "_view_module": "@jupyter-widgets/base",
      "_view_module_version": "1.2.0",
      "_view_name": "StyleView",
      "description_width": ""
     }
    },
    "4d2fddde5dd6468683ff4d6fb48d6ba5": {
     "model_module": "@jupyter-widgets/controls",
     "model_module_version": "1.5.0",
     "model_name": "LabelModel",
     "state": {
      "_dom_classes": [],
      "_model_module": "@jupyter-widgets/controls",
      "_model_module_version": "1.5.0",
      "_model_name": "LabelModel",
      "_view_count": null,
      "_view_module": "@jupyter-widgets/controls",
      "_view_module_version": "1.5.0",
      "_view_name": "LabelView",
      "description": "",
      "description_tooltip": null,
      "layout": "IPY_MODEL_b7dff003b6fc446099179e097ad71559",
      "placeholder": "​",
      "style": "IPY_MODEL_c537329d12dd4b62bf1976381cb99278",
      "value": "Dequeued: None | None"
     }
    },
    "6092116d0f3d4e21ae8fb618bb13a0cb": {
     "model_module": "@jupyter-widgets/controls",
     "model_module_version": "1.5.0",
     "model_name": "ButtonStyleModel",
     "state": {
      "_model_module": "@jupyter-widgets/controls",
      "_model_module_version": "1.5.0",
      "_model_name": "ButtonStyleModel",
      "_view_count": null,
      "_view_module": "@jupyter-widgets/base",
      "_view_module_version": "1.2.0",
      "_view_name": "StyleView",
      "button_color": null,
      "font_weight": ""
     }
    },
    "6216992e95cf4ae88d61723887759c27": {
     "model_module": "@jupyter-widgets/base",
     "model_module_version": "1.2.0",
     "model_name": "LayoutModel",
     "state": {
      "_model_module": "@jupyter-widgets/base",
      "_model_module_version": "1.2.0",
      "_model_name": "LayoutModel",
      "_view_count": null,
      "_view_module": "@jupyter-widgets/base",
      "_view_module_version": "1.2.0",
      "_view_name": "LayoutView",
      "align_content": null,
      "align_items": null,
      "align_self": null,
      "border": null,
      "bottom": null,
      "display": null,
      "flex": null,
      "flex_flow": null,
      "grid_area": null,
      "grid_auto_columns": null,
      "grid_auto_flow": null,
      "grid_auto_rows": null,
      "grid_column": null,
      "grid_gap": null,
      "grid_row": null,
      "grid_template_areas": null,
      "grid_template_columns": null,
      "grid_template_rows": null,
      "height": null,
      "justify_content": null,
      "justify_items": null,
      "left": null,
      "margin": null,
      "max_height": null,
      "max_width": null,
      "min_height": null,
      "min_width": null,
      "object_fit": null,
      "object_position": null,
      "order": null,
      "overflow": null,
      "overflow_x": null,
      "overflow_y": null,
      "padding": null,
      "right": null,
      "top": null,
      "visibility": null,
      "width": null
     }
    },
    "6408f1ed40d047a390e1786d05654e4b": {
     "model_module": "@jupyter-widgets/controls",
     "model_module_version": "1.5.0",
     "model_name": "SliderStyleModel",
     "state": {
      "_model_module": "@jupyter-widgets/controls",
      "_model_module_version": "1.5.0",
      "_model_name": "SliderStyleModel",
      "_view_count": null,
      "_view_module": "@jupyter-widgets/base",
      "_view_module_version": "1.2.0",
      "_view_name": "StyleView",
      "description_width": "",
      "handle_color": null
     }
    },
    "6953fde9940d4d72bc661bf5dbcb6540": {
     "model_module": "@jupyter-widgets/controls",
     "model_module_version": "1.5.0",
     "model_name": "TextModel",
     "state": {
      "_dom_classes": [],
      "_model_module": "@jupyter-widgets/controls",
      "_model_module_version": "1.5.0",
      "_model_name": "TextModel",
      "_view_count": null,
      "_view_module": "@jupyter-widgets/controls",
      "_view_module_version": "1.5.0",
      "_view_name": "TextView",
      "continuous_update": true,
      "description": "String:",
      "description_tooltip": null,
      "disabled": false,
      "layout": "IPY_MODEL_1680941778ba40be82d3a69277e6df70",
      "placeholder": "Masukkan Input",
      "style": "IPY_MODEL_0528bed2a2dc49eb8e482534dc2135d2",
      "value": "Ada String"
     }
    },
    "6b804c9262c24705ae2975e34cd5f7e0": {
     "model_module": "@jupyter-widgets/controls",
     "model_module_version": "1.5.0",
     "model_name": "DescriptionStyleModel",
     "state": {
      "_model_module": "@jupyter-widgets/controls",
      "_model_module_version": "1.5.0",
      "_model_name": "DescriptionStyleModel",
      "_view_count": null,
      "_view_module": "@jupyter-widgets/base",
      "_view_module_version": "1.2.0",
      "_view_name": "StyleView",
      "description_width": ""
     }
    },
    "72e1f210709542d18ad7cfb484b6e6d1": {
     "model_module": "@jupyter-widgets/base",
     "model_module_version": "1.2.0",
     "model_name": "LayoutModel",
     "state": {
      "_model_module": "@jupyter-widgets/base",
      "_model_module_version": "1.2.0",
      "_model_name": "LayoutModel",
      "_view_count": null,
      "_view_module": "@jupyter-widgets/base",
      "_view_module_version": "1.2.0",
      "_view_name": "LayoutView",
      "align_content": null,
      "align_items": null,
      "align_self": null,
      "border": null,
      "bottom": null,
      "display": null,
      "flex": null,
      "flex_flow": null,
      "grid_area": null,
      "grid_auto_columns": null,
      "grid_auto_flow": null,
      "grid_auto_rows": null,
      "grid_column": null,
      "grid_gap": null,
      "grid_row": null,
      "grid_template_areas": null,
      "grid_template_columns": null,
      "grid_template_rows": null,
      "height": null,
      "justify_content": null,
      "justify_items": null,
      "left": null,
      "margin": null,
      "max_height": null,
      "max_width": null,
      "min_height": null,
      "min_width": null,
      "object_fit": null,
      "object_position": null,
      "order": null,
      "overflow": null,
      "overflow_x": null,
      "overflow_y": null,
      "padding": null,
      "right": null,
      "top": null,
      "visibility": null,
      "width": null
     }
    },
    "8e84b090f8de40c2abcceae450707941": {
     "model_module": "@jupyter-widgets/controls",
     "model_module_version": "1.5.0",
     "model_name": "ButtonModel",
     "state": {
      "_dom_classes": [],
      "_model_module": "@jupyter-widgets/controls",
      "_model_module_version": "1.5.0",
      "_model_name": "ButtonModel",
      "_view_count": null,
      "_view_module": "@jupyter-widgets/controls",
      "_view_module_version": "1.5.0",
      "_view_name": "ButtonView",
      "button_style": "",
      "description": "Enqueue",
      "disabled": false,
      "icon": "",
      "layout": "IPY_MODEL_72e1f210709542d18ad7cfb484b6e6d1",
      "style": "IPY_MODEL_da4e1df954e64c83a6060ba6aa4be836",
      "tooltip": ""
     }
    },
    "9ac914e3b81c417ba93e2feb75e2b20d": {
     "model_module": "@jupyter-widgets/controls",
     "model_module_version": "1.5.0",
     "model_name": "LabelModel",
     "state": {
      "_dom_classes": [],
      "_model_module": "@jupyter-widgets/controls",
      "_model_module_version": "1.5.0",
      "_model_name": "LabelModel",
      "_view_count": null,
      "_view_module": "@jupyter-widgets/controls",
      "_view_module_version": "1.5.0",
      "_view_name": "LabelView",
      "description": "",
      "description_tooltip": null,
      "layout": "IPY_MODEL_0624a18d41114c3385f0f8e77480d236",
      "placeholder": "​",
      "style": "IPY_MODEL_4ab764c569504571bed11767b643f9cc",
      "value": "None"
     }
    },
    "9ae945ef1a56446e9006e436eabca43b": {
     "model_module": "@jupyter-widgets/controls",
     "model_module_version": "1.5.0",
     "model_name": "ButtonStyleModel",
     "state": {
      "_model_module": "@jupyter-widgets/controls",
      "_model_module_version": "1.5.0",
      "_model_name": "ButtonStyleModel",
      "_view_count": null,
      "_view_module": "@jupyter-widgets/base",
      "_view_module_version": "1.2.0",
      "_view_name": "StyleView",
      "button_color": null,
      "font_weight": ""
     }
    },
    "aa66c258e3b24ec8aff7a70b833e0ded": {
     "model_module": "@jupyter-widgets/controls",
     "model_module_version": "1.5.0",
     "model_name": "ButtonStyleModel",
     "state": {
      "_model_module": "@jupyter-widgets/controls",
      "_model_module_version": "1.5.0",
      "_model_name": "ButtonStyleModel",
      "_view_count": null,
      "_view_module": "@jupyter-widgets/base",
      "_view_module_version": "1.2.0",
      "_view_name": "StyleView",
      "button_color": null,
      "font_weight": ""
     }
    },
    "b7dff003b6fc446099179e097ad71559": {
     "model_module": "@jupyter-widgets/base",
     "model_module_version": "1.2.0",
     "model_name": "LayoutModel",
     "state": {
      "_model_module": "@jupyter-widgets/base",
      "_model_module_version": "1.2.0",
      "_model_name": "LayoutModel",
      "_view_count": null,
      "_view_module": "@jupyter-widgets/base",
      "_view_module_version": "1.2.0",
      "_view_name": "LayoutView",
      "align_content": null,
      "align_items": null,
      "align_self": null,
      "border": null,
      "bottom": null,
      "display": null,
      "flex": null,
      "flex_flow": null,
      "grid_area": null,
      "grid_auto_columns": null,
      "grid_auto_flow": null,
      "grid_auto_rows": null,
      "grid_column": null,
      "grid_gap": null,
      "grid_row": null,
      "grid_template_areas": null,
      "grid_template_columns": null,
      "grid_template_rows": null,
      "height": null,
      "justify_content": null,
      "justify_items": null,
      "left": null,
      "margin": null,
      "max_height": null,
      "max_width": null,
      "min_height": null,
      "min_width": null,
      "object_fit": null,
      "object_position": null,
      "order": null,
      "overflow": null,
      "overflow_x": null,
      "overflow_y": null,
      "padding": null,
      "right": null,
      "top": null,
      "visibility": null,
      "width": null
     }
    },
    "b94efe3bf7b8439eac14c6c7dda1fa13": {
     "model_module": "@jupyter-widgets/base",
     "model_module_version": "1.2.0",
     "model_name": "LayoutModel",
     "state": {
      "_model_module": "@jupyter-widgets/base",
      "_model_module_version": "1.2.0",
      "_model_name": "LayoutModel",
      "_view_count": null,
      "_view_module": "@jupyter-widgets/base",
      "_view_module_version": "1.2.0",
      "_view_name": "LayoutView",
      "align_content": null,
      "align_items": null,
      "align_self": null,
      "border": null,
      "bottom": null,
      "display": null,
      "flex": null,
      "flex_flow": null,
      "grid_area": null,
      "grid_auto_columns": null,
      "grid_auto_flow": null,
      "grid_auto_rows": null,
      "grid_column": null,
      "grid_gap": null,
      "grid_row": null,
      "grid_template_areas": null,
      "grid_template_columns": null,
      "grid_template_rows": null,
      "height": null,
      "justify_content": null,
      "justify_items": null,
      "left": null,
      "margin": null,
      "max_height": null,
      "max_width": null,
      "min_height": null,
      "min_width": null,
      "object_fit": null,
      "object_position": null,
      "order": null,
      "overflow": null,
      "overflow_x": null,
      "overflow_y": null,
      "padding": null,
      "right": null,
      "top": null,
      "visibility": null,
      "width": null
     }
    },
    "ba1b8311c62a48bf8e14cfd34dde2c34": {
     "model_module": "@jupyter-widgets/controls",
     "model_module_version": "1.5.0",
     "model_name": "IntSliderModel",
     "state": {
      "_dom_classes": [],
      "_model_module": "@jupyter-widgets/controls",
      "_model_module_version": "1.5.0",
      "_model_name": "IntSliderModel",
      "_view_count": null,
      "_view_module": "@jupyter-widgets/controls",
      "_view_module_version": "1.5.0",
      "_view_name": "IntSliderView",
      "continuous_update": true,
      "description": "",
      "description_tooltip": null,
      "disabled": false,
      "layout": "IPY_MODEL_3bca6e85a9b54a63b1b3587f0edc045f",
      "max": 100,
      "min": 0,
      "orientation": "horizontal",
      "readout": true,
      "readout_format": "d",
      "step": 1,
      "style": "IPY_MODEL_3be375f8848f4098a2a45daa564b5a00",
      "value": 0
     }
    },
    "c537329d12dd4b62bf1976381cb99278": {
     "model_module": "@jupyter-widgets/controls",
     "model_module_version": "1.5.0",
     "model_name": "DescriptionStyleModel",
     "state": {
      "_model_module": "@jupyter-widgets/controls",
      "_model_module_version": "1.5.0",
      "_model_name": "DescriptionStyleModel",
      "_view_count": null,
      "_view_module": "@jupyter-widgets/base",
      "_view_module_version": "1.2.0",
      "_view_name": "StyleView",
      "description_width": ""
     }
    },
    "c911b24af4ad4a928adb4633117b03eb": {
     "model_module": "@jupyter-widgets/controls",
     "model_module_version": "1.5.0",
     "model_name": "ButtonModel",
     "state": {
      "_dom_classes": [],
      "_model_module": "@jupyter-widgets/controls",
      "_model_module_version": "1.5.0",
      "_model_name": "ButtonModel",
      "_view_count": null,
      "_view_module": "@jupyter-widgets/controls",
      "_view_module_version": "1.5.0",
      "_view_name": "ButtonView",
      "button_style": "",
      "description": "Klik Aku",
      "disabled": false,
      "icon": "clipboard",
      "layout": "IPY_MODEL_48bf2b47f2c6499d9a25cd637d490ec4",
      "style": "IPY_MODEL_aa66c258e3b24ec8aff7a70b833e0ded",
      "tooltip": "Pastikan anda yakin"
     }
    },
    "da003fe30b6549f981eeac11fb617dfa": {
     "model_module": "@jupyter-widgets/controls",
     "model_module_version": "1.5.0",
     "model_name": "IntTextModel",
     "state": {
      "_dom_classes": [],
      "_model_module": "@jupyter-widgets/controls",
      "_model_module_version": "1.5.0",
      "_model_name": "IntTextModel",
      "_view_count": null,
      "_view_module": "@jupyter-widgets/controls",
      "_view_module_version": "1.5.0",
      "_view_name": "IntTextView",
      "continuous_update": false,
      "description": "Enqueue: ",
      "description_tooltip": null,
      "disabled": false,
      "layout": "IPY_MODEL_ebf2548b41de4c8288380d05174c4a14",
      "step": 1,
      "style": "IPY_MODEL_dfdd8748059c46b4916c39b898c2d1dc",
      "value": 43
     }
    },
    "da4e1df954e64c83a6060ba6aa4be836": {
     "model_module": "@jupyter-widgets/controls",
     "model_module_version": "1.5.0",
     "model_name": "ButtonStyleModel",
     "state": {
      "_model_module": "@jupyter-widgets/controls",
      "_model_module_version": "1.5.0",
      "_model_name": "ButtonStyleModel",
      "_view_count": null,
      "_view_module": "@jupyter-widgets/base",
      "_view_module_version": "1.2.0",
      "_view_name": "StyleView",
      "button_color": null,
      "font_weight": ""
     }
    },
    "dec2abc8ff274f349cd3b4a6fd402d13": {
     "model_module": "@jupyter-widgets/controls",
     "model_module_version": "1.5.0",
     "model_name": "ButtonStyleModel",
     "state": {
      "_model_module": "@jupyter-widgets/controls",
      "_model_module_version": "1.5.0",
      "_model_name": "ButtonStyleModel",
      "_view_count": null,
      "_view_module": "@jupyter-widgets/base",
      "_view_module_version": "1.2.0",
      "_view_name": "StyleView",
      "button_color": null,
      "font_weight": ""
     }
    },
    "dfdd8748059c46b4916c39b898c2d1dc": {
     "model_module": "@jupyter-widgets/controls",
     "model_module_version": "1.5.0",
     "model_name": "DescriptionStyleModel",
     "state": {
      "_model_module": "@jupyter-widgets/controls",
      "_model_module_version": "1.5.0",
      "_model_name": "DescriptionStyleModel",
      "_view_count": null,
      "_view_module": "@jupyter-widgets/base",
      "_view_module_version": "1.2.0",
      "_view_name": "StyleView",
      "description_width": ""
     }
    },
    "ea1a91ba1fc24bc08de9f761fb6bf098": {
     "model_module": "@jupyter-widgets/controls",
     "model_module_version": "1.5.0",
     "model_name": "IntTextModel",
     "state": {
      "_dom_classes": [],
      "_model_module": "@jupyter-widgets/controls",
      "_model_module_version": "1.5.0",
      "_model_name": "IntTextModel",
      "_view_count": null,
      "_view_module": "@jupyter-widgets/controls",
      "_view_module_version": "1.5.0",
      "_view_name": "IntTextView",
      "continuous_update": false,
      "description": "Enqueue: ",
      "description_tooltip": null,
      "disabled": false,
      "layout": "IPY_MODEL_3d4bd8a3583e4a2cb4093f1d3d6b281b",
      "step": 1,
      "style": "IPY_MODEL_6b804c9262c24705ae2975e34cd5f7e0",
      "value": 0
     }
    },
    "ebf2548b41de4c8288380d05174c4a14": {
     "model_module": "@jupyter-widgets/base",
     "model_module_version": "1.2.0",
     "model_name": "LayoutModel",
     "state": {
      "_model_module": "@jupyter-widgets/base",
      "_model_module_version": "1.2.0",
      "_model_name": "LayoutModel",
      "_view_count": null,
      "_view_module": "@jupyter-widgets/base",
      "_view_module_version": "1.2.0",
      "_view_name": "LayoutView",
      "align_content": null,
      "align_items": null,
      "align_self": null,
      "border": null,
      "bottom": null,
      "display": null,
      "flex": null,
      "flex_flow": null,
      "grid_area": null,
      "grid_auto_columns": null,
      "grid_auto_flow": null,
      "grid_auto_rows": null,
      "grid_column": null,
      "grid_gap": null,
      "grid_row": null,
      "grid_template_areas": null,
      "grid_template_columns": null,
      "grid_template_rows": null,
      "height": null,
      "justify_content": null,
      "justify_items": null,
      "left": null,
      "margin": null,
      "max_height": null,
      "max_width": null,
      "min_height": null,
      "min_width": null,
      "object_fit": null,
      "object_position": null,
      "order": null,
      "overflow": null,
      "overflow_x": null,
      "overflow_y": null,
      "padding": null,
      "right": null,
      "top": null,
      "visibility": null,
      "width": null
     }
    },
    "ed80add506dd474b88e138304cecadb3": {
     "model_module": "@jupyter-widgets/controls",
     "model_module_version": "1.5.0",
     "model_name": "FloatTextModel",
     "state": {
      "_dom_classes": [],
      "_model_module": "@jupyter-widgets/controls",
      "_model_module_version": "1.5.0",
      "_model_name": "FloatTextModel",
      "_view_count": null,
      "_view_module": "@jupyter-widgets/controls",
      "_view_module_version": "1.5.0",
      "_view_name": "FloatTextView",
      "continuous_update": false,
      "description": "Number:",
      "description_tooltip": null,
      "disabled": false,
      "layout": "IPY_MODEL_0e52bc963ca94d7b87999e35e97cb14d",
      "step": null,
      "style": "IPY_MODEL_2c763a5cbdcc45209f19131dd04d1120",
      "value": 45
     }
    },
    "f017d07713dc4e8e8cf1ebff0a14851b": {
     "model_module": "@jupyter-widgets/controls",
     "model_module_version": "1.5.0",
     "model_name": "ToggleButtonModel",
     "state": {
      "_dom_classes": [],
      "_model_module": "@jupyter-widgets/controls",
      "_model_module_version": "1.5.0",
      "_model_name": "ToggleButtonModel",
      "_view_count": null,
      "_view_module": "@jupyter-widgets/controls",
      "_view_module_version": "1.5.0",
      "_view_name": "ToggleButtonView",
      "button_style": "",
      "description": "Click me",
      "description_tooltip": null,
      "disabled": false,
      "icon": "check",
      "layout": "IPY_MODEL_b94efe3bf7b8439eac14c6c7dda1fa13",
      "style": "IPY_MODEL_11452759fc774debbf072ec417ece89c",
      "tooltip": "Description",
      "value": false
     }
    }
   }
  }
 },
 "nbformat": 4,
 "nbformat_minor": 0
}
