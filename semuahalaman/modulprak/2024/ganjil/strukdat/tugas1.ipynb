{
  "cells": [
    {
      "cell_type": "markdown",
      "metadata": {
        "id": "2R6x4oxCdIQG"
      },
      "source": [
        "---\n",
        "title: \"Tugas 1 Praktikum Struktur Data: Array, Linked List, OOP\"\n",
        "subtitle: \"Assignment 1: Array, Linked List, OOP\"\n",
        "description: \"Offline di Departemen Matematika\"\n",
        "date: 10/22/2024\n",
        "page-navigation: true\n",
        "format: html\n",
        "---"
      ]
    },
    {
      "cell_type": "markdown",
      "metadata": {
        "id": "R0FfXXeHdIQM"
      },
      "source": [
        "Kembali ke [Struktur Data](./strukdat2024.qmd)"
      ]
    },
    {
      "cell_type": "markdown",
      "metadata": {
        "id": "CmBcLPg_dIQN"
      },
      "source": [
        "Tugas ini diberikan pada hari dan tanggal: Selasa, 22 Oktober 2024"
      ]
    },
    {
      "cell_type": "markdown",
      "metadata": {
        "id": "gn6lzRIcdIQQ"
      },
      "source": [
        "## Petunjuk umum:"
      ]
    },
    {
      "cell_type": "markdown",
      "metadata": {
        "id": "wJ4D6jkVdIQS"
      },
      "source": [
        "1. Kerjakan secara individu.\n",
        "\n",
        "2. Kerjakan tugas ini menggunakan bahasa pemrograman Python dengan *file format* berupa *interactive Python notebook* (yaitu *file* berbentuk .ipynb BUKAN .py), yang bisa dibuat misalnya menggunakan Jupyter Notebook atau Google Colaboratory.\n",
        "\n",
        "3. **Harap sertakan penjelasan untuk setiap variabel yang digunakan dan setiap proses secara singkat** di sebelah (atas/bawah/kanan) barisnya (dengan comment, `#`). Selain itu, **sertakan juga penjelasan kode** (yang bisa mencakupi idenya apa, bagaimana cara eksekusinya, atau tentang algoritma yang digunakan) **pada *cell* di sebelah (atas/bawah) kode**.\n",
        "\n",
        "4. Format nama *file* untuk Tugas 1 ini adalah:\n",
        "\n",
        "    Kelas SIAK_Tugas1PrakStrukdat_Nama Lengkap_NPM.ipynb\n",
        "\n",
        "    Contoh penamaan yang benar:\n",
        "\n",
        "    Kelas C_Tugas1PrakStrukdat_Haikal Fikri Rabani_2206823713.ipynb\n",
        "\n",
        "5. Pengumpulan Tugas 1 dilakukan ke Google Forms berikut ini:\n",
        "\n",
        "    [https://bit.ly/KumpulTugas1PrakStrukdat2024Ganjil](https://bit.ly/KumpulTugas1PrakStrukdat2024Ganjil)\n",
        "\n",
        "6. Apabila ada yang ingin direvisi setelah pengumpulan, lakukan pengumpulan ulang di Google Forms yang sama, tambahkan keterangan bahwa ada revisi, dan tambahkan kata “revisi” pada bagian akhir nama file, contohnya menjadi\n",
        "\n",
        "    Kelas C_Tugas1PrakStrukdat_Haikal Fikri Rabani_2206823713_revisi.ipynb\n",
        "\n",
        "    Kelas C_Tugas1PrakStrukdat_Haikal Fikri Rabani_2206823713_revisi2.ipynb\n",
        "\n",
        "    Kelas C_Tugas1PrakStrukdat_Haikal Fikri Rabani_2206823713_revisi3.ipynb\n",
        "\n",
        "    (Revisi boleh dilakukan berkali-kali.)\n",
        "\n",
        "7. Dengan durasi pengerjaan sekitar **2 (dua) minggu**, tenggat waktu (*deadline*) pengumpulan Tugas 1 ini (termasuk revisi) adalah **Minggu, 3 November 2024, 23.59 WIB**.\n",
        "\n",
        "8. Sesuai standar Universitas Indonesia, **plagiarisme dilarang keras** dan bisa menyebabkan nilai tugas praktikum **menjadi nol untuk semua pihak yang terlibat, tanpa peringatan apapun.** Namun, Anda boleh langsung menggunakan kode yang ada di [modul praktikum](./strukdat2024.qmd).\n",
        "\n",
        "9. *Module* atau *package* Python yang boleh digunakan (di-*import*) untuk Tugas 1 ini hanyalah numpy dan graphviz. Apabila Anda berniat ingin menggunakan *module* lain, harap konfirmasikan ke narahubung terlebih dahulu (bisa saja diperbolehkan).\n",
        "\n",
        "10. Narahubung untuk Tugas 1 Praktikum Struktur Data adalah:\n",
        "\n",
        "    Muhammad Fasya Syaifullah (ID LINE: ifasyai)\n",
        "\n",
        "    Pandu Adjie Sukarno (ID LINE: pandyadaffa)\n",
        "    \n",
        "    Silakan hubungi narahubung di atas apabila ada yang ingin ditanyakan atau dikonfirmasikan."
      ]
    },
    {
      "cell_type": "markdown",
      "metadata": {
        "id": "bT5IijXedIQT"
      },
      "source": [
        "## Soal:"
      ]
    },
    {
      "cell_type": "markdown",
      "metadata": {},
      "source": [
        "Tugas ini terdiri dari satu soal besar yang terbagi menjadi lima nomor."
      ]
    },
    {
      "cell_type": "markdown",
      "metadata": {
        "id": "Xx21nfvdLyEZ"
      },
      "source": [
        "Suatu polinomial dalam satu variabel memiliki bentuk\n",
        "\n",
        "$$a_nx^n+a_{n-1}x^{n-1}+...+a_2x^2+a_1x+a_0$$\n",
        "\n",
        "di mana bagian $a_ix^i$ disebut sebagai *term* (suku). Setiap *term* memiliki dua komponen, yaitu $a_i$ yang merupakan koefisien dari suatu *term* dan $i$ pada $x^i$ yang merupakan derajat dari suatu *term* untuk $i=0,1,...,n$.\n",
        "\n",
        "Kita dapat merepresentasikan suatu polinomial dengan menggunakan *singly linked list* di mana satu *term* pada polinomial dapat direpresentasikan sebagai satu *node* pada *linked list*. Sehingga *node* pada *linked list* polinomial akan memiliki tiga komponen, yaitu koefisien dan derajat (yang merupakan komponen data) serta next (yang merupakan pointer).\n",
        "\n",
        "1. **[5]** Buatlah ``class NodePolynomial`` yaitu class untuk menyimpan ketiga komponen di atas dalam suatu *node*.\n",
        "\n",
        "---\n",
        "\n",
        "2. **[25]** Buat juga ``class SLLPolynomial`` (dapat berupa *child class* dari ``class SLList`` yang pernah dipelajari ataupun suatu *class* tersendiri) dengan satu *pointer* utama ``head`` dan satu operasi memasukkan node, yaitu ``insert_node``. Ketentuan memasukkan node pada linked list polinomial adalah sebagai berikut:\n",
        "\n",
        "- Nilai koefisien pada *node* baru tidak boleh nol (Pada polinomial seharusnya bisa saja memiliki koefisien yang nol, namun pada umumnya *term* dengan koefisien nol tidak ditampilkan sehingga disini juga tidak usah dimasukkan sebagai *node*),\n",
        "\n",
        "- *Node* yang ditunjuk ``head`` harus *node* dengan nilai derajat paling besar,\n",
        "\n",
        "- *Linked list* harus terurut mulai dari derajat terbesar hingga terkecil,\n",
        "\n",
        "- Jika memasukkan *node* dengan derajat yang sudah ada pada linked list, maka nilai koefisien pada *node* baru akan dijumlahkan dengan nilai koefisien *node* yang sudah ada.\n",
        "\n",
        "Kemudian representasikan polinomial berikut dalam bentuk *linked list*\n",
        "  \n",
        "$$Q_1(x) = 5x^5-10x^4+2x^2-2x+5$$\n"
      ]
    },
    {
      "cell_type": "markdown",
      "metadata": {
        "id": "SdAHZj8iDxMz"
      },
      "source": [
        "### Contoh:"
      ]
    },
    {
      "cell_type": "code",
      "execution_count": null,
      "metadata": {
        "id": "0EifAZ4lh1LN"
      },
      "outputs": [],
      "source": [
        "polinomial = SLLPolynomial()"
      ]
    },
    {
      "cell_type": "code",
      "execution_count": null,
      "metadata": {
        "id": "TidCM8zAh7IC"
      },
      "outputs": [],
      "source": [
        "polinomial.insert_node(3,4)"
      ]
    },
    {
      "cell_type": "code",
      "execution_count": null,
      "metadata": {
        "colab": {
          "base_uri": "https://localhost:8080/"
        },
        "id": "_s4aG1arrH-h",
        "outputId": "8942db8e-9df5-4970-ce96-bca1a1788c10"
      },
      "outputs": [
        {
          "name": "stdout",
          "output_type": "stream",
          "text": [
            "head -> coef = 3 , deg = 4 --> None\n"
          ]
        }
      ],
      "source": [
        "polinomial.print_all()"
      ]
    },
    {
      "cell_type": "code",
      "execution_count": null,
      "metadata": {
        "id": "-8rlBKR9ETDM"
      },
      "outputs": [],
      "source": [
        "polinomial.insert_node(1,5)"
      ]
    },
    {
      "cell_type": "code",
      "execution_count": null,
      "metadata": {
        "colab": {
          "base_uri": "https://localhost:8080/"
        },
        "id": "axg6WoE5EWnu",
        "outputId": "c8114567-ea25-4527-80a2-bc1a3ec7d717"
      },
      "outputs": [
        {
          "name": "stdout",
          "output_type": "stream",
          "text": [
            "head -> coef = 1 , deg = 5 --> coef = 3 , deg = 4 --> None\n"
          ]
        }
      ],
      "source": [
        "polinomial.print_all()"
      ]
    },
    {
      "cell_type": "code",
      "execution_count": null,
      "metadata": {
        "colab": {
          "base_uri": "https://localhost:8080/"
        },
        "id": "Cdc16AYxEWjw",
        "outputId": "b3b2b14e-9847-4d99-f7c4-d8ab487264b2"
      },
      "outputs": [
        {
          "name": "stdout",
          "output_type": "stream",
          "text": [
            "Koefisien tidak boleh nol\n"
          ]
        }
      ],
      "source": [
        "polinomial.insert_node(0,3)"
      ]
    },
    {
      "cell_type": "code",
      "execution_count": null,
      "metadata": {
        "colab": {
          "base_uri": "https://localhost:8080/"
        },
        "id": "C-HXH9_dEWfQ",
        "outputId": "c8df2ae8-7338-4d6c-fb39-1fee70a614ce"
      },
      "outputs": [
        {
          "name": "stdout",
          "output_type": "stream",
          "text": [
            "head -> coef = 1 , deg = 5 --> coef = 3 , deg = 4 --> None\n"
          ]
        }
      ],
      "source": [
        "polinomial.print_all()"
      ]
    },
    {
      "cell_type": "code",
      "execution_count": null,
      "metadata": {
        "id": "eBhODuL7EWEZ"
      },
      "outputs": [],
      "source": [
        "polinomial.insert_node(4,0)"
      ]
    },
    {
      "cell_type": "code",
      "execution_count": null,
      "metadata": {
        "colab": {
          "base_uri": "https://localhost:8080/"
        },
        "id": "r7ChdhsxEgPT",
        "outputId": "1b61b716-a060-456e-c976-b2443f270665"
      },
      "outputs": [
        {
          "name": "stdout",
          "output_type": "stream",
          "text": [
            "head -> coef = 1 , deg = 5 --> coef = 3 , deg = 4 --> coef = 4 , deg = 0 --> None\n"
          ]
        }
      ],
      "source": [
        "polinomial.print_all()"
      ]
    },
    {
      "cell_type": "code",
      "execution_count": null,
      "metadata": {
        "id": "Jts00XjOEgFE"
      },
      "outputs": [],
      "source": [
        "polinomial.insert_node(10,2)"
      ]
    },
    {
      "cell_type": "code",
      "execution_count": null,
      "metadata": {
        "colab": {
          "base_uri": "https://localhost:8080/"
        },
        "id": "EFYmUvuAEmDE",
        "outputId": "60a45753-6148-4db1-92a1-30efabe442be"
      },
      "outputs": [
        {
          "name": "stdout",
          "output_type": "stream",
          "text": [
            "head -> coef = 1 , deg = 5 --> coef = 3 , deg = 4 --> coef = 10 , deg = 2 --> coef = 4 , deg = 0 --> None\n"
          ]
        }
      ],
      "source": [
        "polinomial.print_all()"
      ]
    },
    {
      "cell_type": "code",
      "execution_count": null,
      "metadata": {
        "id": "Ibon2VJwEl8c"
      },
      "outputs": [],
      "source": [
        "polinomial.insert_node(12,2)"
      ]
    },
    {
      "cell_type": "code",
      "execution_count": null,
      "metadata": {
        "colab": {
          "base_uri": "https://localhost:8080/"
        },
        "id": "JOtmAmeqEpPK",
        "outputId": "5dff26d6-2313-4f6e-f6b7-954502f75d51"
      },
      "outputs": [
        {
          "name": "stdout",
          "output_type": "stream",
          "text": [
            "head -> coef = 1 , deg = 5 --> coef = 3 , deg = 4 --> coef = 22 , deg = 2 --> coef = 4 , deg = 0 --> None\n"
          ]
        }
      ],
      "source": [
        "polinomial.print_all()"
      ]
    },
    {
      "cell_type": "code",
      "execution_count": null,
      "metadata": {
        "colab": {
          "base_uri": "https://localhost:8080/",
          "height": 347
        },
        "id": "l1YX7R2pHOt2",
        "outputId": "183205c7-c6f0-4ade-af78-1128922a9a3f"
      },
      "outputs": [
        {
          "data": {
            "image/svg+xml": [
              "<?xml version=\"1.0\" encoding=\"UTF-8\" standalone=\"no\"?>\n",
              "<!DOCTYPE svg PUBLIC \"-//W3C//DTD SVG 1.1//EN\"\n",
              " \"http://www.w3.org/Graphics/SVG/1.1/DTD/svg11.dtd\">\n",
              "<!-- Generated by graphviz version 2.43.0 (0)\n",
              " -->\n",
              "<!-- Title: %3 Pages: 1 -->\n",
              "<svg width=\"1175pt\" height=\"229pt\"\n",
              " viewBox=\"0.00 0.00 1175.00 229.00\" xmlns=\"http://www.w3.org/2000/svg\" xmlns:xlink=\"http://www.w3.org/1999/xlink\">\n",
              "<g id=\"graph0\" class=\"graph\" transform=\"scale(1 1) rotate(0) translate(4 225)\">\n",
              "<title>%3</title>\n",
              "<polygon fill=\"white\" stroke=\"transparent\" points=\"-4,4 -4,-225 1171,-225 1171,4 -4,4\"/>\n",
              "<!-- head -->\n",
              "<g id=\"node1\" class=\"node\">\n",
              "<title>head</title>\n",
              "<polygon fill=\"none\" stroke=\"black\" points=\"8.5,-25 8.5,-46 105.5,-46 105.5,-25 8.5,-25\"/>\n",
              "<text text-anchor=\"start\" x=\"44\" y=\"-31.8\" font-family=\"Times,serif\" font-size=\"14.00\">head</text>\n",
              "<polygon fill=\"none\" stroke=\"black\" points=\"8.5,-4 8.5,-25 105.5,-25 105.5,-4 8.5,-4\"/>\n",
              "<text text-anchor=\"start\" x=\"11.5\" y=\"-10.8\" font-family=\"Times,serif\" font-size=\"14.00\">0x7ca46c4bfb80</text>\n",
              "</g>\n",
              "<!-- node0 -->\n",
              "<g id=\"node2\" class=\"node\">\n",
              "<title>node0</title>\n",
              "<polygon fill=\"none\" stroke=\"black\" points=\"157,-67 157,-88 221,-88 221,-67 157,-67\"/>\n",
              "<text text-anchor=\"start\" x=\"160\" y=\"-73.8\" font-family=\"Times,serif\" font-size=\"14.00\">coefficient</text>\n",
              "<polygon fill=\"none\" stroke=\"black\" points=\"221,-67 221,-88 264,-88 264,-67 221,-67\"/>\n",
              "<text text-anchor=\"start\" x=\"224\" y=\"-73.8\" font-family=\"Times,serif\" font-size=\"14.00\">degree</text>\n",
              "<polygon fill=\"none\" stroke=\"black\" points=\"264,-67 264,-88 361,-88 361,-67 264,-67\"/>\n",
              "<text text-anchor=\"start\" x=\"300.5\" y=\"-73.8\" font-family=\"Times,serif\" font-size=\"14.00\">next</text>\n",
              "<polygon fill=\"none\" stroke=\"black\" points=\"157,-46 157,-67 221,-67 221,-46 157,-46\"/>\n",
              "<text text-anchor=\"start\" x=\"185.5\" y=\"-52.8\" font-family=\"Times,serif\" font-size=\"14.00\">1</text>\n",
              "<polygon fill=\"none\" stroke=\"black\" points=\"221,-46 221,-67 264,-67 264,-46 221,-46\"/>\n",
              "<text text-anchor=\"start\" x=\"239\" y=\"-52.8\" font-family=\"Times,serif\" font-size=\"14.00\">5</text>\n",
              "<polygon fill=\"none\" stroke=\"black\" points=\"264,-46 264,-67 361,-67 361,-46 264,-46\"/>\n",
              "<text text-anchor=\"start\" x=\"267\" y=\"-52.8\" font-family=\"Times,serif\" font-size=\"14.00\">0x7ca46c4bf310</text>\n",
              "<polygon fill=\"none\" stroke=\"black\" points=\"157,-25 157,-46 361,-46 361,-25 157,-25\"/>\n",
              "<text text-anchor=\"start\" x=\"225.5\" y=\"-31.8\" font-family=\"Times,serif\" font-size=\"14.00\">alamat node</text>\n",
              "<polygon fill=\"none\" stroke=\"black\" points=\"157,-4 157,-25 361,-25 361,-4 157,-4\"/>\n",
              "<text text-anchor=\"start\" x=\"213.5\" y=\"-10.8\" font-family=\"Times,serif\" font-size=\"14.00\">0x7ca46c4bfb80</text>\n",
              "</g>\n",
              "<!-- head&#45;&gt;node0 -->\n",
              "<g id=\"edge1\" class=\"edge\">\n",
              "<title>head:contents&#45;&gt;node0:id</title>\n",
              "<path fill=\"none\" stroke=\"black\" d=\"M106.5,-14C124.72,-14 131.62,-14 145.95,-14\"/>\n",
              "<polygon fill=\"black\" stroke=\"black\" points=\"146,-17.5 156,-14 146,-10.5 146,-17.5\"/>\n",
              "</g>\n",
              "<!-- node1 -->\n",
              "<g id=\"node3\" class=\"node\">\n",
              "<title>node1</title>\n",
              "<polygon fill=\"none\" stroke=\"black\" points=\"413.5,-110 413.5,-131 477.5,-131 477.5,-110 413.5,-110\"/>\n",
              "<text text-anchor=\"start\" x=\"416.5\" y=\"-116.8\" font-family=\"Times,serif\" font-size=\"14.00\">coefficient</text>\n",
              "<polygon fill=\"none\" stroke=\"black\" points=\"477.5,-110 477.5,-131 520.5,-131 520.5,-110 477.5,-110\"/>\n",
              "<text text-anchor=\"start\" x=\"480.5\" y=\"-116.8\" font-family=\"Times,serif\" font-size=\"14.00\">degree</text>\n",
              "<polygon fill=\"none\" stroke=\"black\" points=\"520.5,-110 520.5,-131 618.5,-131 618.5,-110 520.5,-110\"/>\n",
              "<text text-anchor=\"start\" x=\"557.5\" y=\"-116.8\" font-family=\"Times,serif\" font-size=\"14.00\">next</text>\n",
              "<polygon fill=\"none\" stroke=\"black\" points=\"413.5,-89 413.5,-110 477.5,-110 477.5,-89 413.5,-89\"/>\n",
              "<text text-anchor=\"start\" x=\"442\" y=\"-95.8\" font-family=\"Times,serif\" font-size=\"14.00\">3</text>\n",
              "<polygon fill=\"none\" stroke=\"black\" points=\"477.5,-89 477.5,-110 520.5,-110 520.5,-89 477.5,-89\"/>\n",
              "<text text-anchor=\"start\" x=\"495.5\" y=\"-95.8\" font-family=\"Times,serif\" font-size=\"14.00\">4</text>\n",
              "<polygon fill=\"none\" stroke=\"black\" points=\"520.5,-89 520.5,-110 618.5,-110 618.5,-89 520.5,-89\"/>\n",
              "<text text-anchor=\"start\" x=\"523.5\" y=\"-95.8\" font-family=\"Times,serif\" font-size=\"14.00\">0x7ca46c4be830</text>\n",
              "<polygon fill=\"none\" stroke=\"black\" points=\"413.5,-68 413.5,-89 618.5,-89 618.5,-68 413.5,-68\"/>\n",
              "<text text-anchor=\"start\" x=\"482.5\" y=\"-74.8\" font-family=\"Times,serif\" font-size=\"14.00\">alamat node</text>\n",
              "<polygon fill=\"none\" stroke=\"black\" points=\"413.5,-47 413.5,-68 618.5,-68 618.5,-47 413.5,-47\"/>\n",
              "<text text-anchor=\"start\" x=\"470.5\" y=\"-53.8\" font-family=\"Times,serif\" font-size=\"14.00\">0x7ca46c4bf310</text>\n",
              "</g>\n",
              "<!-- node0&#45;&gt;node1 -->\n",
              "<g id=\"edge2\" class=\"edge\">\n",
              "<title>node0:next&#45;&gt;node1:id</title>\n",
              "<path fill=\"none\" stroke=\"black\" d=\"M362,-57C380.59,-57 387.63,-57 402.25,-57\"/>\n",
              "<polygon fill=\"black\" stroke=\"black\" points=\"402.5,-60.5 412.5,-57 402.5,-53.5 402.5,-60.5\"/>\n",
              "</g>\n",
              "<!-- node2 -->\n",
              "<g id=\"node4\" class=\"node\">\n",
              "<title>node2</title>\n",
              "<polygon fill=\"none\" stroke=\"black\" points=\"670,-153 670,-174 734,-174 734,-153 670,-153\"/>\n",
              "<text text-anchor=\"start\" x=\"673\" y=\"-159.8\" font-family=\"Times,serif\" font-size=\"14.00\">coefficient</text>\n",
              "<polygon fill=\"none\" stroke=\"black\" points=\"734,-153 734,-174 777,-174 777,-153 734,-153\"/>\n",
              "<text text-anchor=\"start\" x=\"737\" y=\"-159.8\" font-family=\"Times,serif\" font-size=\"14.00\">degree</text>\n",
              "<polygon fill=\"none\" stroke=\"black\" points=\"777,-153 777,-174 874,-174 874,-153 777,-153\"/>\n",
              "<text text-anchor=\"start\" x=\"813.5\" y=\"-159.8\" font-family=\"Times,serif\" font-size=\"14.00\">next</text>\n",
              "<polygon fill=\"none\" stroke=\"black\" points=\"670,-132 670,-153 734,-153 734,-132 670,-132\"/>\n",
              "<text text-anchor=\"start\" x=\"695\" y=\"-138.8\" font-family=\"Times,serif\" font-size=\"14.00\">22</text>\n",
              "<polygon fill=\"none\" stroke=\"black\" points=\"734,-132 734,-153 777,-153 777,-132 734,-132\"/>\n",
              "<text text-anchor=\"start\" x=\"752\" y=\"-138.8\" font-family=\"Times,serif\" font-size=\"14.00\">2</text>\n",
              "<polygon fill=\"none\" stroke=\"black\" points=\"777,-132 777,-153 874,-153 874,-132 777,-132\"/>\n",
              "<text text-anchor=\"start\" x=\"780\" y=\"-138.8\" font-family=\"Times,serif\" font-size=\"14.00\">0x7ca46c4bfd30</text>\n",
              "<polygon fill=\"none\" stroke=\"black\" points=\"670,-111 670,-132 874,-132 874,-111 670,-111\"/>\n",
              "<text text-anchor=\"start\" x=\"738.5\" y=\"-117.8\" font-family=\"Times,serif\" font-size=\"14.00\">alamat node</text>\n",
              "<polygon fill=\"none\" stroke=\"black\" points=\"670,-90 670,-111 874,-111 874,-90 670,-90\"/>\n",
              "<text text-anchor=\"start\" x=\"726\" y=\"-96.8\" font-family=\"Times,serif\" font-size=\"14.00\">0x7ca46c4be830</text>\n",
              "</g>\n",
              "<!-- node1&#45;&gt;node2 -->\n",
              "<g id=\"edge3\" class=\"edge\">\n",
              "<title>node1:next&#45;&gt;node2:id</title>\n",
              "<path fill=\"none\" stroke=\"black\" d=\"M619.5,-100C637.72,-100 644.62,-100 658.95,-100\"/>\n",
              "<polygon fill=\"black\" stroke=\"black\" points=\"659,-103.5 669,-100 659,-96.5 659,-103.5\"/>\n",
              "</g>\n",
              "<!-- node3 -->\n",
              "<g id=\"node5\" class=\"node\">\n",
              "<title>node3</title>\n",
              "<polygon fill=\"none\" stroke=\"black\" points=\"926.5,-196 926.5,-217 990.5,-217 990.5,-196 926.5,-196\"/>\n",
              "<text text-anchor=\"start\" x=\"929.5\" y=\"-202.8\" font-family=\"Times,serif\" font-size=\"14.00\">coefficient</text>\n",
              "<polygon fill=\"none\" stroke=\"black\" points=\"990.5,-196 990.5,-217 1033.5,-217 1033.5,-196 990.5,-196\"/>\n",
              "<text text-anchor=\"start\" x=\"993.5\" y=\"-202.8\" font-family=\"Times,serif\" font-size=\"14.00\">degree</text>\n",
              "<polygon fill=\"none\" stroke=\"black\" points=\"1033.5,-196 1033.5,-217 1069.5,-217 1069.5,-196 1033.5,-196\"/>\n",
              "<text text-anchor=\"start\" x=\"1039.5\" y=\"-202.8\" font-family=\"Times,serif\" font-size=\"14.00\">next</text>\n",
              "<polygon fill=\"none\" stroke=\"black\" points=\"926.5,-175 926.5,-196 990.5,-196 990.5,-175 926.5,-175\"/>\n",
              "<text text-anchor=\"start\" x=\"955\" y=\"-181.8\" font-family=\"Times,serif\" font-size=\"14.00\">4</text>\n",
              "<polygon fill=\"none\" stroke=\"black\" points=\"990.5,-175 990.5,-196 1033.5,-196 1033.5,-175 990.5,-175\"/>\n",
              "<text text-anchor=\"start\" x=\"1008.5\" y=\"-181.8\" font-family=\"Times,serif\" font-size=\"14.00\">0</text>\n",
              "<polygon fill=\"none\" stroke=\"black\" points=\"1033.5,-175 1033.5,-196 1069.5,-196 1069.5,-175 1033.5,-175\"/>\n",
              "<text text-anchor=\"start\" x=\"1036.5\" y=\"-181.8\" font-family=\"Times,serif\" font-size=\"14.00\">None</text>\n",
              "<polygon fill=\"none\" stroke=\"black\" points=\"926.5,-154 926.5,-175 1069.5,-175 1069.5,-154 926.5,-154\"/>\n",
              "<text text-anchor=\"start\" x=\"964.5\" y=\"-160.8\" font-family=\"Times,serif\" font-size=\"14.00\">alamat node</text>\n",
              "<polygon fill=\"none\" stroke=\"black\" points=\"926.5,-133 926.5,-154 1069.5,-154 1069.5,-133 926.5,-133\"/>\n",
              "<text text-anchor=\"start\" x=\"952.5\" y=\"-139.8\" font-family=\"Times,serif\" font-size=\"14.00\">0x7ca46c4bfd30</text>\n",
              "</g>\n",
              "<!-- node2&#45;&gt;node3 -->\n",
              "<g id=\"edge4\" class=\"edge\">\n",
              "<title>node2:next&#45;&gt;node3:id</title>\n",
              "<path fill=\"none\" stroke=\"black\" d=\"M875,-143C893.59,-143 900.63,-143 915.25,-143\"/>\n",
              "<polygon fill=\"black\" stroke=\"black\" points=\"915.5,-146.5 925.5,-143 915.5,-139.5 915.5,-146.5\"/>\n",
              "</g>\n",
              "<!-- node4 -->\n",
              "<g id=\"node6\" class=\"node\">\n",
              "<title>node4</title>\n",
              "<text text-anchor=\"middle\" x=\"1140\" y=\"-182.3\" font-family=\"Times,serif\" font-size=\"14.00\">None</text>\n",
              "</g>\n",
              "<!-- node3&#45;&gt;node4 -->\n",
              "<g id=\"edge5\" class=\"edge\">\n",
              "<title>node3:next&#45;&gt;node4</title>\n",
              "<path fill=\"none\" stroke=\"black\" d=\"M1070.5,-186C1081.02,-186 1092.46,-186 1102.92,-186\"/>\n",
              "<polygon fill=\"black\" stroke=\"black\" points=\"1102.98,-189.5 1112.98,-186 1102.98,-182.5 1102.98,-189.5\"/>\n",
              "</g>\n",
              "</g>\n",
              "</svg>\n"
            ],
            "text/plain": [
              "<graphviz.graphs.Digraph at 0x7ca46c4bebf0>"
            ]
          },
          "execution_count": 35,
          "metadata": {},
          "output_type": "execute_result"
        }
      ],
      "source": [
        "polinomial.get_digraph()"
      ]
    },
    {
      "cell_type": "markdown",
      "metadata": {
        "id": "Vi18CdlgKypQ"
      },
      "source": [
        "Hasil polinomial pada contoh di atas adalah\n",
        "$$P_1(x)=x^5+3x^4+22x^2+4$$"
      ]
    },
    {
      "cell_type": "markdown",
      "metadata": {},
      "source": [
        "---"
      ]
    },
    {
      "cell_type": "markdown",
      "metadata": {
        "id": "Jddwj8kgt2Ak"
      },
      "source": [
        "3. **[20]** Diberikan suatu array $A=[a_0, a_1, ..., a_n]$ di mana elemen $a_i$ merupakan nilai koefisien dari suatu polinomial pada *term* berderajat $i$. Buatlah fungsi ``to_linked_list`` yang mengubah array $A$ menjadi suatu *linked list* polinomial. Tentukan Big-O dari algoritma yang telah anda buat dan berikan penjelasan atas jawaban anda (secara deskriptif saja).\n",
        "\n",
        "    Kemudian tentukan array dari polinomial berikut dan ubah menjadi *linked list* polinomial menggunakan fungsi ``to_linked_list`` yang telah anda buat\n",
        "\n",
        "    $$Q_2(x) = 9x^{10}-5x^5-15x^3+4x^2$$\n"
      ]
    },
    {
      "cell_type": "markdown",
      "metadata": {
        "id": "MkBzFFPc2Ej4"
      },
      "source": [
        "### Contoh:"
      ]
    },
    {
      "cell_type": "code",
      "execution_count": null,
      "metadata": {
        "colab": {
          "base_uri": "https://localhost:8080/"
        },
        "id": "My_duO9FxJoq",
        "outputId": "6528234e-36bb-4e1b-b288-0393f6fec002"
      },
      "outputs": [
        {
          "name": "stdout",
          "output_type": "stream",
          "text": [
            "Koefisien tidak boleh nol\n",
            "Koefisien tidak boleh nol\n",
            "Koefisien tidak boleh nol\n",
            "Koefisien tidak boleh nol\n",
            "head -> coef = 8 , deg = 8 --> coef = 6 , deg = 6 --> coef = -1 , deg = 5 --> coef = 3 , deg = 3 --> coef = 2 , deg = 2 --> None\n"
          ]
        }
      ],
      "source": [
        "A = np.array([0, 0, 2, 3, 0, -1, 6, 0, 8])\n",
        "polinomial2 = to_linked_list(A)\n",
        "polinomial2.print_all()"
      ]
    },
    {
      "cell_type": "markdown",
      "metadata": {
        "id": "TU21wp3dM0ia"
      },
      "source": [
        "---"
      ]
    },
    {
      "cell_type": "markdown",
      "metadata": {},
      "source": [
        "4. **[20]** Buat fungsi atau *method* ``evaluate``, jika diberikan linked list polinomial $P(x)$ dan suatu nilai tertentu $c$, fungsi atau *method* ini akan mengembalikan hasil evaluasi polinomial tersebut pada nilai $x=c$, yaitu $P(c)$.\n",
        "\n",
        "    Kemudian evaluasi polinomial $Q_1(x)$ dan $Q_2(x)$ pada no. 2 untuk $x = 24$."
      ]
    },
    {
      "cell_type": "markdown",
      "metadata": {
        "id": "AMKXrthnPTte"
      },
      "source": [
        "### Contoh:"
      ]
    },
    {
      "cell_type": "markdown",
      "metadata": {
        "id": "JoWQTN-dPiFh"
      },
      "source": [
        "Pada polinomial di contoh sebelumnya, yaitu $P_1(x)$, jika dievaluasi pada $x=0$, $x=1$, dan $x=2$ adalah sebagai berikut:"
      ]
    },
    {
      "cell_type": "markdown",
      "metadata": {
        "id": "VjciKuPgQKu8"
      },
      "source": [
        "$$P_1(0)=(0)^5+3(0)^4+22(0)^2+4=4$$"
      ]
    },
    {
      "cell_type": "code",
      "execution_count": null,
      "metadata": {
        "colab": {
          "base_uri": "https://localhost:8080/"
        },
        "id": "Ni_iVnOrPFWD",
        "outputId": "ab5cf5dc-716e-4637-a47b-d5104eb761a3"
      },
      "outputs": [
        {
          "data": {
            "text/plain": [
              "4"
            ]
          },
          "execution_count": 37,
          "metadata": {},
          "output_type": "execute_result"
        }
      ],
      "source": [
        "polinomial.evaluate(0)"
      ]
    },
    {
      "cell_type": "markdown",
      "metadata": {
        "id": "LfGeOdgCQRnr"
      },
      "source": [
        "$$P_1(1)=(1)^5+3(1)^4+22(1)^2+4=30$$"
      ]
    },
    {
      "cell_type": "code",
      "execution_count": null,
      "metadata": {
        "colab": {
          "base_uri": "https://localhost:8080/"
        },
        "id": "xmGNM62TPNK5",
        "outputId": "7a3bad61-c055-48ec-93e5-d67fe39521f9"
      },
      "outputs": [
        {
          "data": {
            "text/plain": [
              "30"
            ]
          },
          "execution_count": 38,
          "metadata": {},
          "output_type": "execute_result"
        }
      ],
      "source": [
        "polinomial.evaluate(1)"
      ]
    },
    {
      "cell_type": "markdown",
      "metadata": {
        "id": "3Wvh-rjoQbwA"
      },
      "source": [
        "$$P_1(2)=(2)^5+3(2)^4+22(2)^2+4=172$$"
      ]
    },
    {
      "cell_type": "code",
      "execution_count": null,
      "metadata": {
        "colab": {
          "base_uri": "https://localhost:8080/"
        },
        "id": "ucO8U7u_PPSX",
        "outputId": "37625351-1cb8-4a22-d778-38212b130ecd"
      },
      "outputs": [
        {
          "data": {
            "text/plain": [
              "172"
            ]
          },
          "execution_count": 39,
          "metadata": {},
          "output_type": "execute_result"
        }
      ],
      "source": [
        "polinomial.evaluate(2)"
      ]
    },
    {
      "cell_type": "markdown",
      "metadata": {
        "id": "NX0B8OEgSdr0"
      },
      "source": [
        "---"
      ]
    },
    {
      "cell_type": "markdown",
      "metadata": {},
      "source": [
        "5. **[30]** Misalkan diberikan dua polinomial\n",
        "$$P_1(x) = a_nx^n+a_{n-1}x^{n-1}+...+a_2x^2+a_1x+a_0$$\n",
        "$$P_2(x) = b_nx^n+b_{n-1}x^{n-1}+...+b_2x^2+b_1x+b_0$$\n",
        "\n",
        "Maka penjumlahan dua polinomial didefinisikan sebagai\n",
        "\\begin{align*}\n",
        "P_1(x)+P_2(x)&=(a_nx^n+a_{n-1}x^{n-1}+...+a_2x^2+a_1x+a_0)+(b_nx^n+b_{n-1}x^{n-1}+...+b_2x^2+b_1x+b_0)\\\\\n",
        "&=(a_n+b_n)x^n+(a_{n-1}+b_{n-1})x^{n-1}+...+(a_2+b_2)x^2+(a_1+b_1)x+(a_0+b_0)\n",
        "\\end{align*}\n",
        "Masih bermain dengan `SLLPolynomial`, gunakan *operator overloading* untuk mengubah operator ``+`` agar dapat menjumlahkan dua polinomial seperti diatas. Kemudian tentukan $Q_1(x)+Q_2(x)$"
      ]
    },
    {
      "cell_type": "markdown",
      "metadata": {
        "id": "rQzUhpJ_r0xE"
      },
      "source": [
        "### Contoh:"
      ]
    },
    {
      "cell_type": "markdown",
      "metadata": {
        "id": "ls4E1b8esUMA"
      },
      "source": [
        "contoh 1: $$(x^5+3x^4+22x^2+4)+(8x^8+6x^6+-x^5+3x^3+2x^2)=8x^8+6x^6+3x^4+24x^2+4$$"
      ]
    },
    {
      "cell_type": "code",
      "execution_count": null,
      "metadata": {
        "id": "coU_b-hyaMtr"
      },
      "outputs": [],
      "source": [
        "polinomial = SLLPolynomial()\n",
        "polinomial.insert_node(3,4)\n",
        "polinomial.insert_node(1,5)\n",
        "polinomial.insert_node(4,0)\n",
        "polinomial.insert_node(10,2)\n",
        "polinomial.insert_node(12,2)"
      ]
    },
    {
      "cell_type": "code",
      "execution_count": null,
      "metadata": {
        "colab": {
          "base_uri": "https://localhost:8080/"
        },
        "id": "TTuyBoL7ah95",
        "outputId": "b66c3796-96d8-4181-d321-ff7f42d0428b"
      },
      "outputs": [
        {
          "name": "stdout",
          "output_type": "stream",
          "text": [
            "head -> coef = 1 , deg = 5 --> coef = 3 , deg = 4 --> coef = 22 , deg = 2 --> coef = 4 , deg = 0 --> None\n"
          ]
        }
      ],
      "source": [
        "polinomial.print_all()"
      ]
    },
    {
      "cell_type": "code",
      "execution_count": null,
      "metadata": {
        "colab": {
          "base_uri": "https://localhost:8080/",
          "height": 347
        },
        "id": "_-kj_4BtrPg9",
        "outputId": "13431aa9-44aa-4369-dc74-0ab79d8ba94e"
      },
      "outputs": [
        {
          "data": {
            "image/svg+xml": [
              "<?xml version=\"1.0\" encoding=\"UTF-8\" standalone=\"no\"?>\n",
              "<!DOCTYPE svg PUBLIC \"-//W3C//DTD SVG 1.1//EN\"\n",
              " \"http://www.w3.org/Graphics/SVG/1.1/DTD/svg11.dtd\">\n",
              "<!-- Generated by graphviz version 2.43.0 (0)\n",
              " -->\n",
              "<!-- Title: %3 Pages: 1 -->\n",
              "<svg width=\"1180pt\" height=\"229pt\"\n",
              " viewBox=\"0.00 0.00 1180.00 229.00\" xmlns=\"http://www.w3.org/2000/svg\" xmlns:xlink=\"http://www.w3.org/1999/xlink\">\n",
              "<g id=\"graph0\" class=\"graph\" transform=\"scale(1 1) rotate(0) translate(4 225)\">\n",
              "<title>%3</title>\n",
              "<polygon fill=\"white\" stroke=\"transparent\" points=\"-4,4 -4,-225 1176,-225 1176,4 -4,4\"/>\n",
              "<!-- head -->\n",
              "<g id=\"node1\" class=\"node\">\n",
              "<title>head</title>\n",
              "<polygon fill=\"none\" stroke=\"black\" points=\"8.5,-25 8.5,-46 105.5,-46 105.5,-25 8.5,-25\"/>\n",
              "<text text-anchor=\"start\" x=\"44\" y=\"-31.8\" font-family=\"Times,serif\" font-size=\"14.00\">head</text>\n",
              "<polygon fill=\"none\" stroke=\"black\" points=\"8.5,-4 8.5,-25 105.5,-25 105.5,-4 8.5,-4\"/>\n",
              "<text text-anchor=\"start\" x=\"11.5\" y=\"-10.8\" font-family=\"Times,serif\" font-size=\"14.00\">0x7ad70e66f040</text>\n",
              "</g>\n",
              "<!-- node0 -->\n",
              "<g id=\"node2\" class=\"node\">\n",
              "<title>node0</title>\n",
              "<polygon fill=\"none\" stroke=\"black\" points=\"157,-67 157,-88 221,-88 221,-67 157,-67\"/>\n",
              "<text text-anchor=\"start\" x=\"160\" y=\"-73.8\" font-family=\"Times,serif\" font-size=\"14.00\">coefficient</text>\n",
              "<polygon fill=\"none\" stroke=\"black\" points=\"221,-67 221,-88 264,-88 264,-67 221,-67\"/>\n",
              "<text text-anchor=\"start\" x=\"224\" y=\"-73.8\" font-family=\"Times,serif\" font-size=\"14.00\">degree</text>\n",
              "<polygon fill=\"none\" stroke=\"black\" points=\"264,-67 264,-88 363,-88 363,-67 264,-67\"/>\n",
              "<text text-anchor=\"start\" x=\"301.5\" y=\"-73.8\" font-family=\"Times,serif\" font-size=\"14.00\">next</text>\n",
              "<polygon fill=\"none\" stroke=\"black\" points=\"157,-46 157,-67 221,-67 221,-46 157,-46\"/>\n",
              "<text text-anchor=\"start\" x=\"185.5\" y=\"-52.8\" font-family=\"Times,serif\" font-size=\"14.00\">1</text>\n",
              "<polygon fill=\"none\" stroke=\"black\" points=\"221,-46 221,-67 264,-67 264,-46 221,-46\"/>\n",
              "<text text-anchor=\"start\" x=\"239\" y=\"-52.8\" font-family=\"Times,serif\" font-size=\"14.00\">5</text>\n",
              "<polygon fill=\"none\" stroke=\"black\" points=\"264,-46 264,-67 363,-67 363,-46 264,-46\"/>\n",
              "<text text-anchor=\"start\" x=\"267\" y=\"-52.8\" font-family=\"Times,serif\" font-size=\"14.00\">0x7ad70e66e3b0</text>\n",
              "<polygon fill=\"none\" stroke=\"black\" points=\"157,-25 157,-46 363,-46 363,-25 157,-25\"/>\n",
              "<text text-anchor=\"start\" x=\"226.5\" y=\"-31.8\" font-family=\"Times,serif\" font-size=\"14.00\">alamat node</text>\n",
              "<polygon fill=\"none\" stroke=\"black\" points=\"157,-4 157,-25 363,-25 363,-4 157,-4\"/>\n",
              "<text text-anchor=\"start\" x=\"214.5\" y=\"-10.8\" font-family=\"Times,serif\" font-size=\"14.00\">0x7ad70e66f040</text>\n",
              "</g>\n",
              "<!-- head&#45;&gt;node0 -->\n",
              "<g id=\"edge1\" class=\"edge\">\n",
              "<title>head:contents&#45;&gt;node0:id</title>\n",
              "<path fill=\"none\" stroke=\"black\" d=\"M106.5,-14C124.72,-14 131.62,-14 145.95,-14\"/>\n",
              "<polygon fill=\"black\" stroke=\"black\" points=\"146,-17.5 156,-14 146,-10.5 146,-17.5\"/>\n",
              "</g>\n",
              "<!-- node1 -->\n",
              "<g id=\"node3\" class=\"node\">\n",
              "<title>node1</title>\n",
              "<polygon fill=\"none\" stroke=\"black\" points=\"415.5,-110 415.5,-131 479.5,-131 479.5,-110 415.5,-110\"/>\n",
              "<text text-anchor=\"start\" x=\"418.5\" y=\"-116.8\" font-family=\"Times,serif\" font-size=\"14.00\">coefficient</text>\n",
              "<polygon fill=\"none\" stroke=\"black\" points=\"479.5,-110 479.5,-131 522.5,-131 522.5,-110 479.5,-110\"/>\n",
              "<text text-anchor=\"start\" x=\"482.5\" y=\"-116.8\" font-family=\"Times,serif\" font-size=\"14.00\">degree</text>\n",
              "<polygon fill=\"none\" stroke=\"black\" points=\"522.5,-110 522.5,-131 620.5,-131 620.5,-110 522.5,-110\"/>\n",
              "<text text-anchor=\"start\" x=\"559.5\" y=\"-116.8\" font-family=\"Times,serif\" font-size=\"14.00\">next</text>\n",
              "<polygon fill=\"none\" stroke=\"black\" points=\"415.5,-89 415.5,-110 479.5,-110 479.5,-89 415.5,-89\"/>\n",
              "<text text-anchor=\"start\" x=\"444\" y=\"-95.8\" font-family=\"Times,serif\" font-size=\"14.00\">3</text>\n",
              "<polygon fill=\"none\" stroke=\"black\" points=\"479.5,-89 479.5,-110 522.5,-110 522.5,-89 479.5,-89\"/>\n",
              "<text text-anchor=\"start\" x=\"497.5\" y=\"-95.8\" font-family=\"Times,serif\" font-size=\"14.00\">4</text>\n",
              "<polygon fill=\"none\" stroke=\"black\" points=\"522.5,-89 522.5,-110 620.5,-110 620.5,-89 522.5,-89\"/>\n",
              "<text text-anchor=\"start\" x=\"525.5\" y=\"-95.8\" font-family=\"Times,serif\" font-size=\"14.00\">0x7ad70e66cc40</text>\n",
              "<polygon fill=\"none\" stroke=\"black\" points=\"415.5,-68 415.5,-89 620.5,-89 620.5,-68 415.5,-68\"/>\n",
              "<text text-anchor=\"start\" x=\"484.5\" y=\"-74.8\" font-family=\"Times,serif\" font-size=\"14.00\">alamat node</text>\n",
              "<polygon fill=\"none\" stroke=\"black\" points=\"415.5,-47 415.5,-68 620.5,-68 620.5,-47 415.5,-47\"/>\n",
              "<text text-anchor=\"start\" x=\"471.5\" y=\"-53.8\" font-family=\"Times,serif\" font-size=\"14.00\">0x7ad70e66e3b0</text>\n",
              "</g>\n",
              "<!-- node0&#45;&gt;node1 -->\n",
              "<g id=\"edge2\" class=\"edge\">\n",
              "<title>node0:next&#45;&gt;node1:id</title>\n",
              "<path fill=\"none\" stroke=\"black\" d=\"M364,-57C382.59,-57 389.63,-57 404.25,-57\"/>\n",
              "<polygon fill=\"black\" stroke=\"black\" points=\"404.5,-60.5 414.5,-57 404.5,-53.5 404.5,-60.5\"/>\n",
              "</g>\n",
              "<!-- node2 -->\n",
              "<g id=\"node4\" class=\"node\">\n",
              "<title>node2</title>\n",
              "<polygon fill=\"none\" stroke=\"black\" points=\"672.5,-153 672.5,-174 736.5,-174 736.5,-153 672.5,-153\"/>\n",
              "<text text-anchor=\"start\" x=\"675.5\" y=\"-159.8\" font-family=\"Times,serif\" font-size=\"14.00\">coefficient</text>\n",
              "<polygon fill=\"none\" stroke=\"black\" points=\"736.5,-153 736.5,-174 779.5,-174 779.5,-153 736.5,-153\"/>\n",
              "<text text-anchor=\"start\" x=\"739.5\" y=\"-159.8\" font-family=\"Times,serif\" font-size=\"14.00\">degree</text>\n",
              "<polygon fill=\"none\" stroke=\"black\" points=\"779.5,-153 779.5,-174 879.5,-174 879.5,-153 779.5,-153\"/>\n",
              "<text text-anchor=\"start\" x=\"817.5\" y=\"-159.8\" font-family=\"Times,serif\" font-size=\"14.00\">next</text>\n",
              "<polygon fill=\"none\" stroke=\"black\" points=\"672.5,-132 672.5,-153 736.5,-153 736.5,-132 672.5,-132\"/>\n",
              "<text text-anchor=\"start\" x=\"697.5\" y=\"-138.8\" font-family=\"Times,serif\" font-size=\"14.00\">22</text>\n",
              "<polygon fill=\"none\" stroke=\"black\" points=\"736.5,-132 736.5,-153 779.5,-153 779.5,-132 736.5,-132\"/>\n",
              "<text text-anchor=\"start\" x=\"754.5\" y=\"-138.8\" font-family=\"Times,serif\" font-size=\"14.00\">2</text>\n",
              "<polygon fill=\"none\" stroke=\"black\" points=\"779.5,-132 779.5,-153 879.5,-153 879.5,-132 779.5,-132\"/>\n",
              "<text text-anchor=\"start\" x=\"782.5\" y=\"-138.8\" font-family=\"Times,serif\" font-size=\"14.00\">0x7ad70e66d990</text>\n",
              "<polygon fill=\"none\" stroke=\"black\" points=\"672.5,-111 672.5,-132 879.5,-132 879.5,-111 672.5,-111\"/>\n",
              "<text text-anchor=\"start\" x=\"742.5\" y=\"-117.8\" font-family=\"Times,serif\" font-size=\"14.00\">alamat node</text>\n",
              "<polygon fill=\"none\" stroke=\"black\" points=\"672.5,-90 672.5,-111 879.5,-111 879.5,-90 672.5,-90\"/>\n",
              "<text text-anchor=\"start\" x=\"730\" y=\"-96.8\" font-family=\"Times,serif\" font-size=\"14.00\">0x7ad70e66cc40</text>\n",
              "</g>\n",
              "<!-- node1&#45;&gt;node2 -->\n",
              "<g id=\"edge3\" class=\"edge\">\n",
              "<title>node1:next&#45;&gt;node2:id</title>\n",
              "<path fill=\"none\" stroke=\"black\" d=\"M621.5,-100C639.9,-100 646.88,-100 661.35,-100\"/>\n",
              "<polygon fill=\"black\" stroke=\"black\" points=\"661.5,-103.5 671.5,-100 661.5,-96.5 661.5,-103.5\"/>\n",
              "</g>\n",
              "<!-- node3 -->\n",
              "<g id=\"node5\" class=\"node\">\n",
              "<title>node3</title>\n",
              "<polygon fill=\"none\" stroke=\"black\" points=\"931.5,-196 931.5,-217 995.5,-217 995.5,-196 931.5,-196\"/>\n",
              "<text text-anchor=\"start\" x=\"934.5\" y=\"-202.8\" font-family=\"Times,serif\" font-size=\"14.00\">coefficient</text>\n",
              "<polygon fill=\"none\" stroke=\"black\" points=\"995.5,-196 995.5,-217 1038.5,-217 1038.5,-196 995.5,-196\"/>\n",
              "<text text-anchor=\"start\" x=\"998.5\" y=\"-202.8\" font-family=\"Times,serif\" font-size=\"14.00\">degree</text>\n",
              "<polygon fill=\"none\" stroke=\"black\" points=\"1038.5,-196 1038.5,-217 1074.5,-217 1074.5,-196 1038.5,-196\"/>\n",
              "<text text-anchor=\"start\" x=\"1044.5\" y=\"-202.8\" font-family=\"Times,serif\" font-size=\"14.00\">next</text>\n",
              "<polygon fill=\"none\" stroke=\"black\" points=\"931.5,-175 931.5,-196 995.5,-196 995.5,-175 931.5,-175\"/>\n",
              "<text text-anchor=\"start\" x=\"960\" y=\"-181.8\" font-family=\"Times,serif\" font-size=\"14.00\">4</text>\n",
              "<polygon fill=\"none\" stroke=\"black\" points=\"995.5,-175 995.5,-196 1038.5,-196 1038.5,-175 995.5,-175\"/>\n",
              "<text text-anchor=\"start\" x=\"1013.5\" y=\"-181.8\" font-family=\"Times,serif\" font-size=\"14.00\">0</text>\n",
              "<polygon fill=\"none\" stroke=\"black\" points=\"1038.5,-175 1038.5,-196 1074.5,-196 1074.5,-175 1038.5,-175\"/>\n",
              "<text text-anchor=\"start\" x=\"1041.5\" y=\"-181.8\" font-family=\"Times,serif\" font-size=\"14.00\">None</text>\n",
              "<polygon fill=\"none\" stroke=\"black\" points=\"931.5,-154 931.5,-175 1074.5,-175 1074.5,-154 931.5,-154\"/>\n",
              "<text text-anchor=\"start\" x=\"969.5\" y=\"-160.8\" font-family=\"Times,serif\" font-size=\"14.00\">alamat node</text>\n",
              "<polygon fill=\"none\" stroke=\"black\" points=\"931.5,-133 931.5,-154 1074.5,-154 1074.5,-133 931.5,-133\"/>\n",
              "<text text-anchor=\"start\" x=\"956\" y=\"-139.8\" font-family=\"Times,serif\" font-size=\"14.00\">0x7ad70e66d990</text>\n",
              "</g>\n",
              "<!-- node2&#45;&gt;node3 -->\n",
              "<g id=\"edge4\" class=\"edge\">\n",
              "<title>node2:next&#45;&gt;node3:id</title>\n",
              "<path fill=\"none\" stroke=\"black\" d=\"M880.5,-143C898.9,-143 905.88,-143 920.35,-143\"/>\n",
              "<polygon fill=\"black\" stroke=\"black\" points=\"920.5,-146.5 930.5,-143 920.5,-139.5 920.5,-146.5\"/>\n",
              "</g>\n",
              "<!-- node4 -->\n",
              "<g id=\"node6\" class=\"node\">\n",
              "<title>node4</title>\n",
              "<text text-anchor=\"middle\" x=\"1145\" y=\"-182.3\" font-family=\"Times,serif\" font-size=\"14.00\">None</text>\n",
              "</g>\n",
              "<!-- node3&#45;&gt;node4 -->\n",
              "<g id=\"edge5\" class=\"edge\">\n",
              "<title>node3:next&#45;&gt;node4</title>\n",
              "<path fill=\"none\" stroke=\"black\" d=\"M1075.5,-186C1086.02,-186 1097.46,-186 1107.92,-186\"/>\n",
              "<polygon fill=\"black\" stroke=\"black\" points=\"1107.98,-189.5 1117.98,-186 1107.98,-182.5 1107.98,-189.5\"/>\n",
              "</g>\n",
              "</g>\n",
              "</svg>\n"
            ],
            "text/plain": [
              "<graphviz.graphs.Digraph at 0x7ad70e63f610>"
            ]
          },
          "execution_count": 16,
          "metadata": {},
          "output_type": "execute_result"
        }
      ],
      "source": [
        "polinomial.get_digraph()"
      ]
    },
    {
      "cell_type": "code",
      "execution_count": null,
      "metadata": {
        "id": "-6nyxiSJvU0Y"
      },
      "outputs": [],
      "source": [
        "polinomial2 = SLLPolynomial()\n",
        "polinomial2.insert_node(8,8)\n",
        "polinomial2.insert_node(6,6)\n",
        "polinomial2.insert_node(-1,5)\n",
        "polinomial2.insert_node(3,3)\n",
        "polinomial2.insert_node(2,2)"
      ]
    },
    {
      "cell_type": "code",
      "execution_count": null,
      "metadata": {
        "colab": {
          "base_uri": "https://localhost:8080/"
        },
        "id": "3qiw910JvpNC",
        "outputId": "0f51c108-8608-4298-b710-0fa8c5913e55"
      },
      "outputs": [
        {
          "name": "stdout",
          "output_type": "stream",
          "text": [
            "head -> coef = 8 , deg = 8 --> coef = 6 , deg = 6 --> coef = -1 , deg = 5 --> coef = 3 , deg = 3 --> coef = 2 , deg = 2 --> None\n"
          ]
        }
      ],
      "source": [
        "polinomial2.print_all()"
      ]
    },
    {
      "cell_type": "code",
      "execution_count": null,
      "metadata": {
        "colab": {
          "base_uri": "https://localhost:8080/",
          "height": 404
        },
        "id": "IAAdL-YBrSoN",
        "outputId": "ae4d5f7a-3576-490e-d614-f8c72a4a4083"
      },
      "outputs": [
        {
          "data": {
            "image/svg+xml": [
              "<?xml version=\"1.0\" encoding=\"UTF-8\" standalone=\"no\"?>\n",
              "<!DOCTYPE svg PUBLIC \"-//W3C//DTD SVG 1.1//EN\"\n",
              " \"http://www.w3.org/Graphics/SVG/1.1/DTD/svg11.dtd\">\n",
              "<!-- Generated by graphviz version 2.43.0 (0)\n",
              " -->\n",
              "<!-- Title: %3 Pages: 1 -->\n",
              "<svg width=\"1436pt\" height=\"272pt\"\n",
              " viewBox=\"0.00 0.00 1436.00 272.00\" xmlns=\"http://www.w3.org/2000/svg\" xmlns:xlink=\"http://www.w3.org/1999/xlink\">\n",
              "<g id=\"graph0\" class=\"graph\" transform=\"scale(1 1) rotate(0) translate(4 268)\">\n",
              "<title>%3</title>\n",
              "<polygon fill=\"white\" stroke=\"transparent\" points=\"-4,4 -4,-268 1432,-268 1432,4 -4,4\"/>\n",
              "<!-- head -->\n",
              "<g id=\"node1\" class=\"node\">\n",
              "<title>head</title>\n",
              "<polygon fill=\"none\" stroke=\"black\" points=\"8.5,-25 8.5,-46 107.5,-46 107.5,-25 8.5,-25\"/>\n",
              "<text text-anchor=\"start\" x=\"45\" y=\"-31.8\" font-family=\"Times,serif\" font-size=\"14.00\">head</text>\n",
              "<polygon fill=\"none\" stroke=\"black\" points=\"8.5,-4 8.5,-25 107.5,-25 107.5,-4 8.5,-4\"/>\n",
              "<text text-anchor=\"start\" x=\"11.5\" y=\"-10.8\" font-family=\"Times,serif\" font-size=\"14.00\">0x7ad70e66c490</text>\n",
              "</g>\n",
              "<!-- node0 -->\n",
              "<g id=\"node2\" class=\"node\">\n",
              "<title>node0</title>\n",
              "<polygon fill=\"none\" stroke=\"black\" points=\"159,-67 159,-88 223,-88 223,-67 159,-67\"/>\n",
              "<text text-anchor=\"start\" x=\"162\" y=\"-73.8\" font-family=\"Times,serif\" font-size=\"14.00\">coefficient</text>\n",
              "<polygon fill=\"none\" stroke=\"black\" points=\"223,-67 223,-88 266,-88 266,-67 223,-67\"/>\n",
              "<text text-anchor=\"start\" x=\"226\" y=\"-73.8\" font-family=\"Times,serif\" font-size=\"14.00\">degree</text>\n",
              "<polygon fill=\"none\" stroke=\"black\" points=\"266,-67 266,-88 363,-88 363,-67 266,-67\"/>\n",
              "<text text-anchor=\"start\" x=\"302.5\" y=\"-73.8\" font-family=\"Times,serif\" font-size=\"14.00\">next</text>\n",
              "<polygon fill=\"none\" stroke=\"black\" points=\"159,-46 159,-67 223,-67 223,-46 159,-46\"/>\n",
              "<text text-anchor=\"start\" x=\"187.5\" y=\"-52.8\" font-family=\"Times,serif\" font-size=\"14.00\">8</text>\n",
              "<polygon fill=\"none\" stroke=\"black\" points=\"223,-46 223,-67 266,-67 266,-46 223,-46\"/>\n",
              "<text text-anchor=\"start\" x=\"241\" y=\"-52.8\" font-family=\"Times,serif\" font-size=\"14.00\">8</text>\n",
              "<polygon fill=\"none\" stroke=\"black\" points=\"266,-46 266,-67 363,-67 363,-46 266,-46\"/>\n",
              "<text text-anchor=\"start\" x=\"269\" y=\"-52.8\" font-family=\"Times,serif\" font-size=\"14.00\">0x7ad70e66fa30</text>\n",
              "<polygon fill=\"none\" stroke=\"black\" points=\"159,-25 159,-46 363,-46 363,-25 159,-25\"/>\n",
              "<text text-anchor=\"start\" x=\"227.5\" y=\"-31.8\" font-family=\"Times,serif\" font-size=\"14.00\">alamat node</text>\n",
              "<polygon fill=\"none\" stroke=\"black\" points=\"159,-4 159,-25 363,-25 363,-4 159,-4\"/>\n",
              "<text text-anchor=\"start\" x=\"214.5\" y=\"-10.8\" font-family=\"Times,serif\" font-size=\"14.00\">0x7ad70e66c490</text>\n",
              "</g>\n",
              "<!-- head&#45;&gt;node0 -->\n",
              "<g id=\"edge1\" class=\"edge\">\n",
              "<title>head:contents&#45;&gt;node0:id</title>\n",
              "<path fill=\"none\" stroke=\"black\" d=\"M108.5,-14C126.72,-14 133.62,-14 147.95,-14\"/>\n",
              "<polygon fill=\"black\" stroke=\"black\" points=\"148,-17.5 158,-14 148,-10.5 148,-17.5\"/>\n",
              "</g>\n",
              "<!-- node1 -->\n",
              "<g id=\"node3\" class=\"node\">\n",
              "<title>node1</title>\n",
              "<polygon fill=\"none\" stroke=\"black\" points=\"415,-110 415,-131 479,-131 479,-110 415,-110\"/>\n",
              "<text text-anchor=\"start\" x=\"418\" y=\"-116.8\" font-family=\"Times,serif\" font-size=\"14.00\">coefficient</text>\n",
              "<polygon fill=\"none\" stroke=\"black\" points=\"479,-110 479,-131 522,-131 522,-110 479,-110\"/>\n",
              "<text text-anchor=\"start\" x=\"482\" y=\"-116.8\" font-family=\"Times,serif\" font-size=\"14.00\">degree</text>\n",
              "<polygon fill=\"none\" stroke=\"black\" points=\"522,-110 522,-131 621,-131 621,-110 522,-110\"/>\n",
              "<text text-anchor=\"start\" x=\"559.5\" y=\"-116.8\" font-family=\"Times,serif\" font-size=\"14.00\">next</text>\n",
              "<polygon fill=\"none\" stroke=\"black\" points=\"415,-89 415,-110 479,-110 479,-89 415,-89\"/>\n",
              "<text text-anchor=\"start\" x=\"443.5\" y=\"-95.8\" font-family=\"Times,serif\" font-size=\"14.00\">6</text>\n",
              "<polygon fill=\"none\" stroke=\"black\" points=\"479,-89 479,-110 522,-110 522,-89 479,-89\"/>\n",
              "<text text-anchor=\"start\" x=\"497\" y=\"-95.8\" font-family=\"Times,serif\" font-size=\"14.00\">6</text>\n",
              "<polygon fill=\"none\" stroke=\"black\" points=\"522,-89 522,-110 621,-110 621,-89 522,-89\"/>\n",
              "<text text-anchor=\"start\" x=\"525\" y=\"-95.8\" font-family=\"Times,serif\" font-size=\"14.00\">0x7ad70e66dba0</text>\n",
              "<polygon fill=\"none\" stroke=\"black\" points=\"415,-68 415,-89 621,-89 621,-68 415,-68\"/>\n",
              "<text text-anchor=\"start\" x=\"484.5\" y=\"-74.8\" font-family=\"Times,serif\" font-size=\"14.00\">alamat node</text>\n",
              "<polygon fill=\"none\" stroke=\"black\" points=\"415,-47 415,-68 621,-68 621,-47 415,-47\"/>\n",
              "<text text-anchor=\"start\" x=\"472.5\" y=\"-53.8\" font-family=\"Times,serif\" font-size=\"14.00\">0x7ad70e66fa30</text>\n",
              "</g>\n",
              "<!-- node0&#45;&gt;node1 -->\n",
              "<g id=\"edge2\" class=\"edge\">\n",
              "<title>node0:next&#45;&gt;node1:id</title>\n",
              "<path fill=\"none\" stroke=\"black\" d=\"M364,-57C382.4,-57 389.38,-57 403.85,-57\"/>\n",
              "<polygon fill=\"black\" stroke=\"black\" points=\"404,-60.5 414,-57 404,-53.5 404,-60.5\"/>\n",
              "</g>\n",
              "<!-- node2 -->\n",
              "<g id=\"node4\" class=\"node\">\n",
              "<title>node2</title>\n",
              "<polygon fill=\"none\" stroke=\"black\" points=\"673,-153 673,-174 737,-174 737,-153 673,-153\"/>\n",
              "<text text-anchor=\"start\" x=\"676\" y=\"-159.8\" font-family=\"Times,serif\" font-size=\"14.00\">coefficient</text>\n",
              "<polygon fill=\"none\" stroke=\"black\" points=\"737,-153 737,-174 780,-174 780,-153 737,-153\"/>\n",
              "<text text-anchor=\"start\" x=\"740\" y=\"-159.8\" font-family=\"Times,serif\" font-size=\"14.00\">degree</text>\n",
              "<polygon fill=\"none\" stroke=\"black\" points=\"780,-153 780,-174 879,-174 879,-153 780,-153\"/>\n",
              "<text text-anchor=\"start\" x=\"817.5\" y=\"-159.8\" font-family=\"Times,serif\" font-size=\"14.00\">next</text>\n",
              "<polygon fill=\"none\" stroke=\"black\" points=\"673,-132 673,-153 737,-153 737,-132 673,-132\"/>\n",
              "<text text-anchor=\"start\" x=\"699\" y=\"-138.8\" font-family=\"Times,serif\" font-size=\"14.00\">&#45;1</text>\n",
              "<polygon fill=\"none\" stroke=\"black\" points=\"737,-132 737,-153 780,-153 780,-132 737,-132\"/>\n",
              "<text text-anchor=\"start\" x=\"755\" y=\"-138.8\" font-family=\"Times,serif\" font-size=\"14.00\">5</text>\n",
              "<polygon fill=\"none\" stroke=\"black\" points=\"780,-132 780,-153 879,-153 879,-132 780,-132\"/>\n",
              "<text text-anchor=\"start\" x=\"783\" y=\"-138.8\" font-family=\"Times,serif\" font-size=\"14.00\">0x7ad70e66d9c0</text>\n",
              "<polygon fill=\"none\" stroke=\"black\" points=\"673,-111 673,-132 879,-132 879,-111 673,-111\"/>\n",
              "<text text-anchor=\"start\" x=\"742.5\" y=\"-117.8\" font-family=\"Times,serif\" font-size=\"14.00\">alamat node</text>\n",
              "<polygon fill=\"none\" stroke=\"black\" points=\"673,-90 673,-111 879,-111 879,-90 673,-90\"/>\n",
              "<text text-anchor=\"start\" x=\"729.5\" y=\"-96.8\" font-family=\"Times,serif\" font-size=\"14.00\">0x7ad70e66dba0</text>\n",
              "</g>\n",
              "<!-- node1&#45;&gt;node2 -->\n",
              "<g id=\"edge3\" class=\"edge\">\n",
              "<title>node1:next&#45;&gt;node2:id</title>\n",
              "<path fill=\"none\" stroke=\"black\" d=\"M622,-100C640.4,-100 647.38,-100 661.85,-100\"/>\n",
              "<polygon fill=\"black\" stroke=\"black\" points=\"662,-103.5 672,-100 662,-96.5 662,-103.5\"/>\n",
              "</g>\n",
              "<!-- node3 -->\n",
              "<g id=\"node5\" class=\"node\">\n",
              "<title>node3</title>\n",
              "<polygon fill=\"none\" stroke=\"black\" points=\"931,-196 931,-217 995,-217 995,-196 931,-196\"/>\n",
              "<text text-anchor=\"start\" x=\"934\" y=\"-202.8\" font-family=\"Times,serif\" font-size=\"14.00\">coefficient</text>\n",
              "<polygon fill=\"none\" stroke=\"black\" points=\"995,-196 995,-217 1038,-217 1038,-196 995,-196\"/>\n",
              "<text text-anchor=\"start\" x=\"998\" y=\"-202.8\" font-family=\"Times,serif\" font-size=\"14.00\">degree</text>\n",
              "<polygon fill=\"none\" stroke=\"black\" points=\"1038,-196 1038,-217 1135,-217 1135,-196 1038,-196\"/>\n",
              "<text text-anchor=\"start\" x=\"1074.5\" y=\"-202.8\" font-family=\"Times,serif\" font-size=\"14.00\">next</text>\n",
              "<polygon fill=\"none\" stroke=\"black\" points=\"931,-175 931,-196 995,-196 995,-175 931,-175\"/>\n",
              "<text text-anchor=\"start\" x=\"959.5\" y=\"-181.8\" font-family=\"Times,serif\" font-size=\"14.00\">3</text>\n",
              "<polygon fill=\"none\" stroke=\"black\" points=\"995,-175 995,-196 1038,-196 1038,-175 995,-175\"/>\n",
              "<text text-anchor=\"start\" x=\"1013\" y=\"-181.8\" font-family=\"Times,serif\" font-size=\"14.00\">3</text>\n",
              "<polygon fill=\"none\" stroke=\"black\" points=\"1038,-175 1038,-196 1135,-196 1135,-175 1038,-175\"/>\n",
              "<text text-anchor=\"start\" x=\"1041\" y=\"-181.8\" font-family=\"Times,serif\" font-size=\"14.00\">0x7ad70e66fc40</text>\n",
              "<polygon fill=\"none\" stroke=\"black\" points=\"931,-154 931,-175 1135,-175 1135,-154 931,-154\"/>\n",
              "<text text-anchor=\"start\" x=\"999.5\" y=\"-160.8\" font-family=\"Times,serif\" font-size=\"14.00\">alamat node</text>\n",
              "<polygon fill=\"none\" stroke=\"black\" points=\"931,-133 931,-154 1135,-154 1135,-133 931,-133\"/>\n",
              "<text text-anchor=\"start\" x=\"986.5\" y=\"-139.8\" font-family=\"Times,serif\" font-size=\"14.00\">0x7ad70e66d9c0</text>\n",
              "</g>\n",
              "<!-- node2&#45;&gt;node3 -->\n",
              "<g id=\"edge4\" class=\"edge\">\n",
              "<title>node2:next&#45;&gt;node3:id</title>\n",
              "<path fill=\"none\" stroke=\"black\" d=\"M880,-143C898.4,-143 905.38,-143 919.85,-143\"/>\n",
              "<polygon fill=\"black\" stroke=\"black\" points=\"920,-146.5 930,-143 920,-139.5 920,-146.5\"/>\n",
              "</g>\n",
              "<!-- node4 -->\n",
              "<g id=\"node6\" class=\"node\">\n",
              "<title>node4</title>\n",
              "<polygon fill=\"none\" stroke=\"black\" points=\"1187.5,-239 1187.5,-260 1251.5,-260 1251.5,-239 1187.5,-239\"/>\n",
              "<text text-anchor=\"start\" x=\"1190.5\" y=\"-245.8\" font-family=\"Times,serif\" font-size=\"14.00\">coefficient</text>\n",
              "<polygon fill=\"none\" stroke=\"black\" points=\"1251.5,-239 1251.5,-260 1294.5,-260 1294.5,-239 1251.5,-239\"/>\n",
              "<text text-anchor=\"start\" x=\"1254.5\" y=\"-245.8\" font-family=\"Times,serif\" font-size=\"14.00\">degree</text>\n",
              "<polygon fill=\"none\" stroke=\"black\" points=\"1294.5,-239 1294.5,-260 1330.5,-260 1330.5,-239 1294.5,-239\"/>\n",
              "<text text-anchor=\"start\" x=\"1300.5\" y=\"-245.8\" font-family=\"Times,serif\" font-size=\"14.00\">next</text>\n",
              "<polygon fill=\"none\" stroke=\"black\" points=\"1187.5,-218 1187.5,-239 1251.5,-239 1251.5,-218 1187.5,-218\"/>\n",
              "<text text-anchor=\"start\" x=\"1216\" y=\"-224.8\" font-family=\"Times,serif\" font-size=\"14.00\">2</text>\n",
              "<polygon fill=\"none\" stroke=\"black\" points=\"1251.5,-218 1251.5,-239 1294.5,-239 1294.5,-218 1251.5,-218\"/>\n",
              "<text text-anchor=\"start\" x=\"1269.5\" y=\"-224.8\" font-family=\"Times,serif\" font-size=\"14.00\">2</text>\n",
              "<polygon fill=\"none\" stroke=\"black\" points=\"1294.5,-218 1294.5,-239 1330.5,-239 1330.5,-218 1294.5,-218\"/>\n",
              "<text text-anchor=\"start\" x=\"1297.5\" y=\"-224.8\" font-family=\"Times,serif\" font-size=\"14.00\">None</text>\n",
              "<polygon fill=\"none\" stroke=\"black\" points=\"1187.5,-197 1187.5,-218 1330.5,-218 1330.5,-197 1187.5,-197\"/>\n",
              "<text text-anchor=\"start\" x=\"1225.5\" y=\"-203.8\" font-family=\"Times,serif\" font-size=\"14.00\">alamat node</text>\n",
              "<polygon fill=\"none\" stroke=\"black\" points=\"1187.5,-176 1187.5,-197 1330.5,-197 1330.5,-176 1187.5,-176\"/>\n",
              "<text text-anchor=\"start\" x=\"1213.5\" y=\"-182.8\" font-family=\"Times,serif\" font-size=\"14.00\">0x7ad70e66fc40</text>\n",
              "</g>\n",
              "<!-- node3&#45;&gt;node4 -->\n",
              "<g id=\"edge5\" class=\"edge\">\n",
              "<title>node3:next&#45;&gt;node4:id</title>\n",
              "<path fill=\"none\" stroke=\"black\" d=\"M1136,-186C1154.59,-186 1161.63,-186 1176.25,-186\"/>\n",
              "<polygon fill=\"black\" stroke=\"black\" points=\"1176.5,-189.5 1186.5,-186 1176.5,-182.5 1176.5,-189.5\"/>\n",
              "</g>\n",
              "<!-- node5 -->\n",
              "<g id=\"node7\" class=\"node\">\n",
              "<title>node5</title>\n",
              "<text text-anchor=\"middle\" x=\"1401\" y=\"-225.3\" font-family=\"Times,serif\" font-size=\"14.00\">None</text>\n",
              "</g>\n",
              "<!-- node4&#45;&gt;node5 -->\n",
              "<g id=\"edge6\" class=\"edge\">\n",
              "<title>node4:next&#45;&gt;node5</title>\n",
              "<path fill=\"none\" stroke=\"black\" d=\"M1331.5,-229C1342.02,-229 1353.46,-229 1363.92,-229\"/>\n",
              "<polygon fill=\"black\" stroke=\"black\" points=\"1363.98,-232.5 1373.98,-229 1363.98,-225.5 1363.98,-232.5\"/>\n",
              "</g>\n",
              "</g>\n",
              "</svg>\n"
            ],
            "text/plain": [
              "<graphviz.graphs.Digraph at 0x7ad70e66de40>"
            ]
          },
          "execution_count": 17,
          "metadata": {},
          "output_type": "execute_result"
        }
      ],
      "source": [
        "polinomial2.get_digraph()"
      ]
    },
    {
      "cell_type": "code",
      "execution_count": null,
      "metadata": {
        "colab": {
          "base_uri": "https://localhost:8080/"
        },
        "id": "2rFEa-mSvuGv",
        "outputId": "485b75e5-8ffd-45d8-9f9e-9964e8623c39"
      },
      "outputs": [
        {
          "name": "stdout",
          "output_type": "stream",
          "text": [
            "head -> coef = 8 , deg = 8 --> coef = 6 , deg = 6 --> coef = 3 , deg = 4 --> coef = 3 , deg = 3 --> coef = 24 , deg = 2 --> coef = 4 , deg = 0 --> None\n"
          ]
        }
      ],
      "source": [
        "polinomial3 = polinomial + polinomial2\n",
        "polinomial3.print_all()"
      ]
    },
    {
      "cell_type": "code",
      "execution_count": null,
      "metadata": {
        "colab": {
          "base_uri": "https://localhost:8080/",
          "height": 462
        },
        "id": "fSYcf_gnrXVR",
        "outputId": "8f54b73f-96ea-438d-980b-dd7791780d37"
      },
      "outputs": [
        {
          "data": {
            "image/svg+xml": [
              "<?xml version=\"1.0\" encoding=\"UTF-8\" standalone=\"no\"?>\n",
              "<!DOCTYPE svg PUBLIC \"-//W3C//DTD SVG 1.1//EN\"\n",
              " \"http://www.w3.org/Graphics/SVG/1.1/DTD/svg11.dtd\">\n",
              "<!-- Generated by graphviz version 2.43.0 (0)\n",
              " -->\n",
              "<!-- Title: %3 Pages: 1 -->\n",
              "<svg width=\"1692pt\" height=\"315pt\"\n",
              " viewBox=\"0.00 0.00 1692.00 315.00\" xmlns=\"http://www.w3.org/2000/svg\" xmlns:xlink=\"http://www.w3.org/1999/xlink\">\n",
              "<g id=\"graph0\" class=\"graph\" transform=\"scale(1 1) rotate(0) translate(4 311)\">\n",
              "<title>%3</title>\n",
              "<polygon fill=\"white\" stroke=\"transparent\" points=\"-4,4 -4,-311 1688,-311 1688,4 -4,4\"/>\n",
              "<!-- head -->\n",
              "<g id=\"node1\" class=\"node\">\n",
              "<title>head</title>\n",
              "<polygon fill=\"none\" stroke=\"black\" points=\"8,-25 8,-46 106,-46 106,-25 8,-25\"/>\n",
              "<text text-anchor=\"start\" x=\"44\" y=\"-31.8\" font-family=\"Times,serif\" font-size=\"14.00\">head</text>\n",
              "<polygon fill=\"none\" stroke=\"black\" points=\"8,-4 8,-25 106,-25 106,-4 8,-4\"/>\n",
              "<text text-anchor=\"start\" x=\"11\" y=\"-10.8\" font-family=\"Times,serif\" font-size=\"14.00\">0x7ad70e66ce80</text>\n",
              "</g>\n",
              "<!-- node0 -->\n",
              "<g id=\"node2\" class=\"node\">\n",
              "<title>node0</title>\n",
              "<polygon fill=\"none\" stroke=\"black\" points=\"158,-67 158,-88 222,-88 222,-67 158,-67\"/>\n",
              "<text text-anchor=\"start\" x=\"161\" y=\"-73.8\" font-family=\"Times,serif\" font-size=\"14.00\">coefficient</text>\n",
              "<polygon fill=\"none\" stroke=\"black\" points=\"222,-67 222,-88 265,-88 265,-67 222,-67\"/>\n",
              "<text text-anchor=\"start\" x=\"225\" y=\"-73.8\" font-family=\"Times,serif\" font-size=\"14.00\">degree</text>\n",
              "<polygon fill=\"none\" stroke=\"black\" points=\"265,-67 265,-88 362,-88 362,-67 265,-67\"/>\n",
              "<text text-anchor=\"start\" x=\"301.5\" y=\"-73.8\" font-family=\"Times,serif\" font-size=\"14.00\">next</text>\n",
              "<polygon fill=\"none\" stroke=\"black\" points=\"158,-46 158,-67 222,-67 222,-46 158,-46\"/>\n",
              "<text text-anchor=\"start\" x=\"186.5\" y=\"-52.8\" font-family=\"Times,serif\" font-size=\"14.00\">8</text>\n",
              "<polygon fill=\"none\" stroke=\"black\" points=\"222,-46 222,-67 265,-67 265,-46 222,-46\"/>\n",
              "<text text-anchor=\"start\" x=\"240\" y=\"-52.8\" font-family=\"Times,serif\" font-size=\"14.00\">8</text>\n",
              "<polygon fill=\"none\" stroke=\"black\" points=\"265,-46 265,-67 362,-67 362,-46 265,-46\"/>\n",
              "<text text-anchor=\"start\" x=\"268\" y=\"-52.8\" font-family=\"Times,serif\" font-size=\"14.00\">0x7ad70e66fe20</text>\n",
              "<polygon fill=\"none\" stroke=\"black\" points=\"158,-25 158,-46 362,-46 362,-25 158,-25\"/>\n",
              "<text text-anchor=\"start\" x=\"226.5\" y=\"-31.8\" font-family=\"Times,serif\" font-size=\"14.00\">alamat node</text>\n",
              "<polygon fill=\"none\" stroke=\"black\" points=\"158,-4 158,-25 362,-25 362,-4 158,-4\"/>\n",
              "<text text-anchor=\"start\" x=\"214\" y=\"-10.8\" font-family=\"Times,serif\" font-size=\"14.00\">0x7ad70e66ce80</text>\n",
              "</g>\n",
              "<!-- head&#45;&gt;node0 -->\n",
              "<g id=\"edge1\" class=\"edge\">\n",
              "<title>head:contents&#45;&gt;node0:id</title>\n",
              "<path fill=\"none\" stroke=\"black\" d=\"M107,-14C125.4,-14 132.38,-14 146.85,-14\"/>\n",
              "<polygon fill=\"black\" stroke=\"black\" points=\"147,-17.5 157,-14 147,-10.5 147,-17.5\"/>\n",
              "</g>\n",
              "<!-- node1 -->\n",
              "<g id=\"node3\" class=\"node\">\n",
              "<title>node1</title>\n",
              "<polygon fill=\"none\" stroke=\"black\" points=\"414,-110 414,-131 478,-131 478,-110 414,-110\"/>\n",
              "<text text-anchor=\"start\" x=\"417\" y=\"-116.8\" font-family=\"Times,serif\" font-size=\"14.00\">coefficient</text>\n",
              "<polygon fill=\"none\" stroke=\"black\" points=\"478,-110 478,-131 521,-131 521,-110 478,-110\"/>\n",
              "<text text-anchor=\"start\" x=\"481\" y=\"-116.8\" font-family=\"Times,serif\" font-size=\"14.00\">degree</text>\n",
              "<polygon fill=\"none\" stroke=\"black\" points=\"521,-110 521,-131 620,-131 620,-110 521,-110\"/>\n",
              "<text text-anchor=\"start\" x=\"558.5\" y=\"-116.8\" font-family=\"Times,serif\" font-size=\"14.00\">next</text>\n",
              "<polygon fill=\"none\" stroke=\"black\" points=\"414,-89 414,-110 478,-110 478,-89 414,-89\"/>\n",
              "<text text-anchor=\"start\" x=\"442.5\" y=\"-95.8\" font-family=\"Times,serif\" font-size=\"14.00\">6</text>\n",
              "<polygon fill=\"none\" stroke=\"black\" points=\"478,-89 478,-110 521,-110 521,-89 478,-89\"/>\n",
              "<text text-anchor=\"start\" x=\"496\" y=\"-95.8\" font-family=\"Times,serif\" font-size=\"14.00\">6</text>\n",
              "<polygon fill=\"none\" stroke=\"black\" points=\"521,-89 521,-110 620,-110 620,-89 521,-89\"/>\n",
              "<text text-anchor=\"start\" x=\"524\" y=\"-95.8\" font-family=\"Times,serif\" font-size=\"14.00\">0x7ad70e66d2a0</text>\n",
              "<polygon fill=\"none\" stroke=\"black\" points=\"414,-68 414,-89 620,-89 620,-68 414,-68\"/>\n",
              "<text text-anchor=\"start\" x=\"483.5\" y=\"-74.8\" font-family=\"Times,serif\" font-size=\"14.00\">alamat node</text>\n",
              "<polygon fill=\"none\" stroke=\"black\" points=\"414,-47 414,-68 620,-68 620,-47 414,-47\"/>\n",
              "<text text-anchor=\"start\" x=\"471.5\" y=\"-53.8\" font-family=\"Times,serif\" font-size=\"14.00\">0x7ad70e66fe20</text>\n",
              "</g>\n",
              "<!-- node0&#45;&gt;node1 -->\n",
              "<g id=\"edge2\" class=\"edge\">\n",
              "<title>node0:next&#45;&gt;node1:id</title>\n",
              "<path fill=\"none\" stroke=\"black\" d=\"M363,-57C381.4,-57 388.38,-57 402.85,-57\"/>\n",
              "<polygon fill=\"black\" stroke=\"black\" points=\"403,-60.5 413,-57 403,-53.5 403,-60.5\"/>\n",
              "</g>\n",
              "<!-- node2 -->\n",
              "<g id=\"node4\" class=\"node\">\n",
              "<title>node2</title>\n",
              "<polygon fill=\"none\" stroke=\"black\" points=\"672,-153 672,-174 736,-174 736,-153 672,-153\"/>\n",
              "<text text-anchor=\"start\" x=\"675\" y=\"-159.8\" font-family=\"Times,serif\" font-size=\"14.00\">coefficient</text>\n",
              "<polygon fill=\"none\" stroke=\"black\" points=\"736,-153 736,-174 779,-174 779,-153 736,-153\"/>\n",
              "<text text-anchor=\"start\" x=\"739\" y=\"-159.8\" font-family=\"Times,serif\" font-size=\"14.00\">degree</text>\n",
              "<polygon fill=\"none\" stroke=\"black\" points=\"779,-153 779,-174 878,-174 878,-153 779,-153\"/>\n",
              "<text text-anchor=\"start\" x=\"816.5\" y=\"-159.8\" font-family=\"Times,serif\" font-size=\"14.00\">next</text>\n",
              "<polygon fill=\"none\" stroke=\"black\" points=\"672,-132 672,-153 736,-153 736,-132 672,-132\"/>\n",
              "<text text-anchor=\"start\" x=\"700.5\" y=\"-138.8\" font-family=\"Times,serif\" font-size=\"14.00\">3</text>\n",
              "<polygon fill=\"none\" stroke=\"black\" points=\"736,-132 736,-153 779,-153 779,-132 736,-132\"/>\n",
              "<text text-anchor=\"start\" x=\"754\" y=\"-138.8\" font-family=\"Times,serif\" font-size=\"14.00\">4</text>\n",
              "<polygon fill=\"none\" stroke=\"black\" points=\"779,-132 779,-153 878,-153 878,-132 779,-132\"/>\n",
              "<text text-anchor=\"start\" x=\"782\" y=\"-138.8\" font-family=\"Times,serif\" font-size=\"14.00\">0x7ad70e66eb30</text>\n",
              "<polygon fill=\"none\" stroke=\"black\" points=\"672,-111 672,-132 878,-132 878,-111 672,-111\"/>\n",
              "<text text-anchor=\"start\" x=\"741.5\" y=\"-117.8\" font-family=\"Times,serif\" font-size=\"14.00\">alamat node</text>\n",
              "<polygon fill=\"none\" stroke=\"black\" points=\"672,-90 672,-111 878,-111 878,-90 672,-90\"/>\n",
              "<text text-anchor=\"start\" x=\"728.5\" y=\"-96.8\" font-family=\"Times,serif\" font-size=\"14.00\">0x7ad70e66d2a0</text>\n",
              "</g>\n",
              "<!-- node1&#45;&gt;node2 -->\n",
              "<g id=\"edge3\" class=\"edge\">\n",
              "<title>node1:next&#45;&gt;node2:id</title>\n",
              "<path fill=\"none\" stroke=\"black\" d=\"M621,-100C639.4,-100 646.38,-100 660.85,-100\"/>\n",
              "<polygon fill=\"black\" stroke=\"black\" points=\"661,-103.5 671,-100 661,-96.5 661,-103.5\"/>\n",
              "</g>\n",
              "<!-- node3 -->\n",
              "<g id=\"node5\" class=\"node\">\n",
              "<title>node3</title>\n",
              "<polygon fill=\"none\" stroke=\"black\" points=\"930.5,-196 930.5,-217 994.5,-217 994.5,-196 930.5,-196\"/>\n",
              "<text text-anchor=\"start\" x=\"933.5\" y=\"-202.8\" font-family=\"Times,serif\" font-size=\"14.00\">coefficient</text>\n",
              "<polygon fill=\"none\" stroke=\"black\" points=\"994.5,-196 994.5,-217 1037.5,-217 1037.5,-196 994.5,-196\"/>\n",
              "<text text-anchor=\"start\" x=\"997.5\" y=\"-202.8\" font-family=\"Times,serif\" font-size=\"14.00\">degree</text>\n",
              "<polygon fill=\"none\" stroke=\"black\" points=\"1037.5,-196 1037.5,-217 1135.5,-217 1135.5,-196 1037.5,-196\"/>\n",
              "<text text-anchor=\"start\" x=\"1074.5\" y=\"-202.8\" font-family=\"Times,serif\" font-size=\"14.00\">next</text>\n",
              "<polygon fill=\"none\" stroke=\"black\" points=\"930.5,-175 930.5,-196 994.5,-196 994.5,-175 930.5,-175\"/>\n",
              "<text text-anchor=\"start\" x=\"959\" y=\"-181.8\" font-family=\"Times,serif\" font-size=\"14.00\">3</text>\n",
              "<polygon fill=\"none\" stroke=\"black\" points=\"994.5,-175 994.5,-196 1037.5,-196 1037.5,-175 994.5,-175\"/>\n",
              "<text text-anchor=\"start\" x=\"1012.5\" y=\"-181.8\" font-family=\"Times,serif\" font-size=\"14.00\">3</text>\n",
              "<polygon fill=\"none\" stroke=\"black\" points=\"1037.5,-175 1037.5,-196 1135.5,-196 1135.5,-175 1037.5,-175\"/>\n",
              "<text text-anchor=\"start\" x=\"1040.5\" y=\"-181.8\" font-family=\"Times,serif\" font-size=\"14.00\">0x7ad70e66c9a0</text>\n",
              "<polygon fill=\"none\" stroke=\"black\" points=\"930.5,-154 930.5,-175 1135.5,-175 1135.5,-154 930.5,-154\"/>\n",
              "<text text-anchor=\"start\" x=\"999.5\" y=\"-160.8\" font-family=\"Times,serif\" font-size=\"14.00\">alamat node</text>\n",
              "<polygon fill=\"none\" stroke=\"black\" points=\"930.5,-133 930.5,-154 1135.5,-154 1135.5,-133 930.5,-133\"/>\n",
              "<text text-anchor=\"start\" x=\"986.5\" y=\"-139.8\" font-family=\"Times,serif\" font-size=\"14.00\">0x7ad70e66eb30</text>\n",
              "</g>\n",
              "<!-- node2&#45;&gt;node3 -->\n",
              "<g id=\"edge4\" class=\"edge\">\n",
              "<title>node2:next&#45;&gt;node3:id</title>\n",
              "<path fill=\"none\" stroke=\"black\" d=\"M879,-143C897.59,-143 904.63,-143 919.25,-143\"/>\n",
              "<polygon fill=\"black\" stroke=\"black\" points=\"919.5,-146.5 929.5,-143 919.5,-139.5 919.5,-146.5\"/>\n",
              "</g>\n",
              "<!-- node4 -->\n",
              "<g id=\"node6\" class=\"node\">\n",
              "<title>node4</title>\n",
              "<polygon fill=\"none\" stroke=\"black\" points=\"1187,-239 1187,-260 1251,-260 1251,-239 1187,-239\"/>\n",
              "<text text-anchor=\"start\" x=\"1190\" y=\"-245.8\" font-family=\"Times,serif\" font-size=\"14.00\">coefficient</text>\n",
              "<polygon fill=\"none\" stroke=\"black\" points=\"1251,-239 1251,-260 1294,-260 1294,-239 1251,-239\"/>\n",
              "<text text-anchor=\"start\" x=\"1254\" y=\"-245.8\" font-family=\"Times,serif\" font-size=\"14.00\">degree</text>\n",
              "<polygon fill=\"none\" stroke=\"black\" points=\"1294,-239 1294,-260 1391,-260 1391,-239 1294,-239\"/>\n",
              "<text text-anchor=\"start\" x=\"1330.5\" y=\"-245.8\" font-family=\"Times,serif\" font-size=\"14.00\">next</text>\n",
              "<polygon fill=\"none\" stroke=\"black\" points=\"1187,-218 1187,-239 1251,-239 1251,-218 1187,-218\"/>\n",
              "<text text-anchor=\"start\" x=\"1212\" y=\"-224.8\" font-family=\"Times,serif\" font-size=\"14.00\">24</text>\n",
              "<polygon fill=\"none\" stroke=\"black\" points=\"1251,-218 1251,-239 1294,-239 1294,-218 1251,-218\"/>\n",
              "<text text-anchor=\"start\" x=\"1269\" y=\"-224.8\" font-family=\"Times,serif\" font-size=\"14.00\">2</text>\n",
              "<polygon fill=\"none\" stroke=\"black\" points=\"1294,-218 1294,-239 1391,-239 1391,-218 1294,-218\"/>\n",
              "<text text-anchor=\"start\" x=\"1297\" y=\"-224.8\" font-family=\"Times,serif\" font-size=\"14.00\">0x7ad70e66df60</text>\n",
              "<polygon fill=\"none\" stroke=\"black\" points=\"1187,-197 1187,-218 1391,-218 1391,-197 1187,-197\"/>\n",
              "<text text-anchor=\"start\" x=\"1255.5\" y=\"-203.8\" font-family=\"Times,serif\" font-size=\"14.00\">alamat node</text>\n",
              "<polygon fill=\"none\" stroke=\"black\" points=\"1187,-176 1187,-197 1391,-197 1391,-176 1187,-176\"/>\n",
              "<text text-anchor=\"start\" x=\"1243\" y=\"-182.8\" font-family=\"Times,serif\" font-size=\"14.00\">0x7ad70e66c9a0</text>\n",
              "</g>\n",
              "<!-- node3&#45;&gt;node4 -->\n",
              "<g id=\"edge5\" class=\"edge\">\n",
              "<title>node3:next&#45;&gt;node4:id</title>\n",
              "<path fill=\"none\" stroke=\"black\" d=\"M1136.5,-186C1154.72,-186 1161.62,-186 1175.95,-186\"/>\n",
              "<polygon fill=\"black\" stroke=\"black\" points=\"1176,-189.5 1186,-186 1176,-182.5 1176,-189.5\"/>\n",
              "</g>\n",
              "<!-- node5 -->\n",
              "<g id=\"node7\" class=\"node\">\n",
              "<title>node5</title>\n",
              "<polygon fill=\"none\" stroke=\"black\" points=\"1443.5,-282 1443.5,-303 1507.5,-303 1507.5,-282 1443.5,-282\"/>\n",
              "<text text-anchor=\"start\" x=\"1446.5\" y=\"-288.8\" font-family=\"Times,serif\" font-size=\"14.00\">coefficient</text>\n",
              "<polygon fill=\"none\" stroke=\"black\" points=\"1507.5,-282 1507.5,-303 1550.5,-303 1550.5,-282 1507.5,-282\"/>\n",
              "<text text-anchor=\"start\" x=\"1510.5\" y=\"-288.8\" font-family=\"Times,serif\" font-size=\"14.00\">degree</text>\n",
              "<polygon fill=\"none\" stroke=\"black\" points=\"1550.5,-282 1550.5,-303 1586.5,-303 1586.5,-282 1550.5,-282\"/>\n",
              "<text text-anchor=\"start\" x=\"1556.5\" y=\"-288.8\" font-family=\"Times,serif\" font-size=\"14.00\">next</text>\n",
              "<polygon fill=\"none\" stroke=\"black\" points=\"1443.5,-261 1443.5,-282 1507.5,-282 1507.5,-261 1443.5,-261\"/>\n",
              "<text text-anchor=\"start\" x=\"1472\" y=\"-267.8\" font-family=\"Times,serif\" font-size=\"14.00\">4</text>\n",
              "<polygon fill=\"none\" stroke=\"black\" points=\"1507.5,-261 1507.5,-282 1550.5,-282 1550.5,-261 1507.5,-261\"/>\n",
              "<text text-anchor=\"start\" x=\"1525.5\" y=\"-267.8\" font-family=\"Times,serif\" font-size=\"14.00\">0</text>\n",
              "<polygon fill=\"none\" stroke=\"black\" points=\"1550.5,-261 1550.5,-282 1586.5,-282 1586.5,-261 1550.5,-261\"/>\n",
              "<text text-anchor=\"start\" x=\"1553.5\" y=\"-267.8\" font-family=\"Times,serif\" font-size=\"14.00\">None</text>\n",
              "<polygon fill=\"none\" stroke=\"black\" points=\"1443.5,-240 1443.5,-261 1586.5,-261 1586.5,-240 1443.5,-240\"/>\n",
              "<text text-anchor=\"start\" x=\"1481.5\" y=\"-246.8\" font-family=\"Times,serif\" font-size=\"14.00\">alamat node</text>\n",
              "<polygon fill=\"none\" stroke=\"black\" points=\"1443.5,-219 1443.5,-240 1586.5,-240 1586.5,-219 1443.5,-219\"/>\n",
              "<text text-anchor=\"start\" x=\"1469.5\" y=\"-225.8\" font-family=\"Times,serif\" font-size=\"14.00\">0x7ad70e66df60</text>\n",
              "</g>\n",
              "<!-- node4&#45;&gt;node5 -->\n",
              "<g id=\"edge6\" class=\"edge\">\n",
              "<title>node4:next&#45;&gt;node5:id</title>\n",
              "<path fill=\"none\" stroke=\"black\" d=\"M1392,-229C1410.59,-229 1417.63,-229 1432.25,-229\"/>\n",
              "<polygon fill=\"black\" stroke=\"black\" points=\"1432.5,-232.5 1442.5,-229 1432.5,-225.5 1432.5,-232.5\"/>\n",
              "</g>\n",
              "<!-- node6 -->\n",
              "<g id=\"node8\" class=\"node\">\n",
              "<title>node6</title>\n",
              "<text text-anchor=\"middle\" x=\"1657\" y=\"-268.3\" font-family=\"Times,serif\" font-size=\"14.00\">None</text>\n",
              "</g>\n",
              "<!-- node5&#45;&gt;node6 -->\n",
              "<g id=\"edge7\" class=\"edge\">\n",
              "<title>node5:next&#45;&gt;node6</title>\n",
              "<path fill=\"none\" stroke=\"black\" d=\"M1587.5,-272C1598.02,-272 1609.46,-272 1619.92,-272\"/>\n",
              "<polygon fill=\"black\" stroke=\"black\" points=\"1619.98,-275.5 1629.98,-272 1619.98,-268.5 1619.98,-275.5\"/>\n",
              "</g>\n",
              "</g>\n",
              "</svg>\n"
            ],
            "text/plain": [
              "<graphviz.graphs.Digraph at 0x7ad70e66f9d0>"
            ]
          },
          "execution_count": 18,
          "metadata": {},
          "output_type": "execute_result"
        }
      ],
      "source": [
        "polinomial3.get_digraph()"
      ]
    },
    {
      "cell_type": "markdown",
      "metadata": {
        "id": "3i1-Ov6VtLXx"
      },
      "source": [
        "contoh 2: $$(8x^8+6x^6+3x^4+24x^2+4)+(0)=8x^8+6x^6+3x^4+24x^2+4$$"
      ]
    },
    {
      "cell_type": "code",
      "execution_count": null,
      "metadata": {
        "colab": {
          "base_uri": "https://localhost:8080/"
        },
        "id": "Orc0uJNl09C_",
        "outputId": "a9ab31fd-4eca-4998-c580-1a737e2e44f6"
      },
      "outputs": [
        {
          "name": "stdout",
          "output_type": "stream",
          "text": [
            "head -> None\n"
          ]
        }
      ],
      "source": [
        "polinomial4 = SLLPolynomial()\n",
        "polinomial4.print_all()"
      ]
    },
    {
      "cell_type": "code",
      "execution_count": null,
      "metadata": {
        "colab": {
          "base_uri": "https://localhost:8080/",
          "height": 104
        },
        "id": "oPnpLKeUrbYE",
        "outputId": "87c861d7-1495-4868-8b34-bfef3b2d2c59"
      },
      "outputs": [
        {
          "data": {
            "image/svg+xml": [
              "<?xml version=\"1.0\" encoding=\"UTF-8\" standalone=\"no\"?>\n",
              "<!DOCTYPE svg PUBLIC \"-//W3C//DTD SVG 1.1//EN\"\n",
              " \"http://www.w3.org/Graphics/SVG/1.1/DTD/svg11.dtd\">\n",
              "<!-- Generated by graphviz version 2.43.0 (0)\n",
              " -->\n",
              "<!-- Title: %3 Pages: 1 -->\n",
              "<svg width=\"152pt\" height=\"62pt\"\n",
              " viewBox=\"0.00 0.00 152.00 62.00\" xmlns=\"http://www.w3.org/2000/svg\" xmlns:xlink=\"http://www.w3.org/1999/xlink\">\n",
              "<g id=\"graph0\" class=\"graph\" transform=\"scale(1 1) rotate(0) translate(4 58)\">\n",
              "<title>%3</title>\n",
              "<polygon fill=\"white\" stroke=\"transparent\" points=\"-4,4 -4,-58 148,-58 148,4 -4,4\"/>\n",
              "<!-- head -->\n",
              "<g id=\"node1\" class=\"node\">\n",
              "<title>head</title>\n",
              "<polygon fill=\"none\" stroke=\"black\" points=\"9,-29 9,-50 45,-50 45,-29 9,-29\"/>\n",
              "<text text-anchor=\"start\" x=\"14\" y=\"-35.8\" font-family=\"Times,serif\" font-size=\"14.00\">head</text>\n",
              "<polygon fill=\"none\" stroke=\"black\" points=\"9,-8 9,-29 45,-29 45,-8 9,-8\"/>\n",
              "<text text-anchor=\"start\" x=\"12\" y=\"-14.8\" font-family=\"Times,serif\" font-size=\"14.00\">None</text>\n",
              "</g>\n",
              "<!-- node0 -->\n",
              "<g id=\"node2\" class=\"node\">\n",
              "<title>node0</title>\n",
              "<text text-anchor=\"middle\" x=\"117\" y=\"-14.3\" font-family=\"Times,serif\" font-size=\"14.00\">None</text>\n",
              "</g>\n",
              "<!-- head&#45;&gt;node0 -->\n",
              "<g id=\"edge1\" class=\"edge\">\n",
              "<title>head:contents&#45;&gt;node0</title>\n",
              "<path fill=\"none\" stroke=\"black\" d=\"M46,-18C56.96,-18 68.88,-18 79.73,-18\"/>\n",
              "<polygon fill=\"black\" stroke=\"black\" points=\"79.74,-21.5 89.74,-18 79.74,-14.5 79.74,-21.5\"/>\n",
              "</g>\n",
              "</g>\n",
              "</svg>\n"
            ],
            "text/plain": [
              "<graphviz.graphs.Digraph at 0x7ad70e66cd00>"
            ]
          },
          "execution_count": 19,
          "metadata": {},
          "output_type": "execute_result"
        }
      ],
      "source": [
        "polinomial4.get_digraph()"
      ]
    },
    {
      "cell_type": "code",
      "execution_count": null,
      "metadata": {
        "colab": {
          "base_uri": "https://localhost:8080/"
        },
        "id": "pDkEokx8qehs",
        "outputId": "94665ba4-f900-4691-87b6-560d46127f62"
      },
      "outputs": [
        {
          "name": "stdout",
          "output_type": "stream",
          "text": [
            "head -> coef = 8 , deg = 8 --> coef = 6 , deg = 6 --> coef = 3 , deg = 4 --> coef = 3 , deg = 3 --> coef = 24 , deg = 2 --> coef = 4 , deg = 0 --> None\n"
          ]
        }
      ],
      "source": [
        "polinomial5 = polinomial3  + polinomial4\n",
        "polinomial5.print_all()"
      ]
    },
    {
      "cell_type": "code",
      "execution_count": null,
      "metadata": {
        "colab": {
          "base_uri": "https://localhost:8080/",
          "height": 462
        },
        "id": "N-9tOkB9rc8l",
        "outputId": "6ec99369-955e-4ea6-866a-d47e401c974c"
      },
      "outputs": [
        {
          "data": {
            "image/svg+xml": [
              "<?xml version=\"1.0\" encoding=\"UTF-8\" standalone=\"no\"?>\n",
              "<!DOCTYPE svg PUBLIC \"-//W3C//DTD SVG 1.1//EN\"\n",
              " \"http://www.w3.org/Graphics/SVG/1.1/DTD/svg11.dtd\">\n",
              "<!-- Generated by graphviz version 2.43.0 (0)\n",
              " -->\n",
              "<!-- Title: %3 Pages: 1 -->\n",
              "<svg width=\"1692pt\" height=\"315pt\"\n",
              " viewBox=\"0.00 0.00 1692.00 315.00\" xmlns=\"http://www.w3.org/2000/svg\" xmlns:xlink=\"http://www.w3.org/1999/xlink\">\n",
              "<g id=\"graph0\" class=\"graph\" transform=\"scale(1 1) rotate(0) translate(4 311)\">\n",
              "<title>%3</title>\n",
              "<polygon fill=\"white\" stroke=\"transparent\" points=\"-4,4 -4,-311 1688,-311 1688,4 -4,4\"/>\n",
              "<!-- head -->\n",
              "<g id=\"node1\" class=\"node\">\n",
              "<title>head</title>\n",
              "<polygon fill=\"none\" stroke=\"black\" points=\"8,-25 8,-46 106,-46 106,-25 8,-25\"/>\n",
              "<text text-anchor=\"start\" x=\"44\" y=\"-31.8\" font-family=\"Times,serif\" font-size=\"14.00\">head</text>\n",
              "<polygon fill=\"none\" stroke=\"black\" points=\"8,-4 8,-25 106,-25 106,-4 8,-4\"/>\n",
              "<text text-anchor=\"start\" x=\"11\" y=\"-10.8\" font-family=\"Times,serif\" font-size=\"14.00\">0x7ad70e66ce80</text>\n",
              "</g>\n",
              "<!-- node0 -->\n",
              "<g id=\"node2\" class=\"node\">\n",
              "<title>node0</title>\n",
              "<polygon fill=\"none\" stroke=\"black\" points=\"158,-67 158,-88 222,-88 222,-67 158,-67\"/>\n",
              "<text text-anchor=\"start\" x=\"161\" y=\"-73.8\" font-family=\"Times,serif\" font-size=\"14.00\">coefficient</text>\n",
              "<polygon fill=\"none\" stroke=\"black\" points=\"222,-67 222,-88 265,-88 265,-67 222,-67\"/>\n",
              "<text text-anchor=\"start\" x=\"225\" y=\"-73.8\" font-family=\"Times,serif\" font-size=\"14.00\">degree</text>\n",
              "<polygon fill=\"none\" stroke=\"black\" points=\"265,-67 265,-88 362,-88 362,-67 265,-67\"/>\n",
              "<text text-anchor=\"start\" x=\"301.5\" y=\"-73.8\" font-family=\"Times,serif\" font-size=\"14.00\">next</text>\n",
              "<polygon fill=\"none\" stroke=\"black\" points=\"158,-46 158,-67 222,-67 222,-46 158,-46\"/>\n",
              "<text text-anchor=\"start\" x=\"186.5\" y=\"-52.8\" font-family=\"Times,serif\" font-size=\"14.00\">8</text>\n",
              "<polygon fill=\"none\" stroke=\"black\" points=\"222,-46 222,-67 265,-67 265,-46 222,-46\"/>\n",
              "<text text-anchor=\"start\" x=\"240\" y=\"-52.8\" font-family=\"Times,serif\" font-size=\"14.00\">8</text>\n",
              "<polygon fill=\"none\" stroke=\"black\" points=\"265,-46 265,-67 362,-67 362,-46 265,-46\"/>\n",
              "<text text-anchor=\"start\" x=\"268\" y=\"-52.8\" font-family=\"Times,serif\" font-size=\"14.00\">0x7ad70e66fe20</text>\n",
              "<polygon fill=\"none\" stroke=\"black\" points=\"158,-25 158,-46 362,-46 362,-25 158,-25\"/>\n",
              "<text text-anchor=\"start\" x=\"226.5\" y=\"-31.8\" font-family=\"Times,serif\" font-size=\"14.00\">alamat node</text>\n",
              "<polygon fill=\"none\" stroke=\"black\" points=\"158,-4 158,-25 362,-25 362,-4 158,-4\"/>\n",
              "<text text-anchor=\"start\" x=\"214\" y=\"-10.8\" font-family=\"Times,serif\" font-size=\"14.00\">0x7ad70e66ce80</text>\n",
              "</g>\n",
              "<!-- head&#45;&gt;node0 -->\n",
              "<g id=\"edge1\" class=\"edge\">\n",
              "<title>head:contents&#45;&gt;node0:id</title>\n",
              "<path fill=\"none\" stroke=\"black\" d=\"M107,-14C125.4,-14 132.38,-14 146.85,-14\"/>\n",
              "<polygon fill=\"black\" stroke=\"black\" points=\"147,-17.5 157,-14 147,-10.5 147,-17.5\"/>\n",
              "</g>\n",
              "<!-- node1 -->\n",
              "<g id=\"node3\" class=\"node\">\n",
              "<title>node1</title>\n",
              "<polygon fill=\"none\" stroke=\"black\" points=\"414,-110 414,-131 478,-131 478,-110 414,-110\"/>\n",
              "<text text-anchor=\"start\" x=\"417\" y=\"-116.8\" font-family=\"Times,serif\" font-size=\"14.00\">coefficient</text>\n",
              "<polygon fill=\"none\" stroke=\"black\" points=\"478,-110 478,-131 521,-131 521,-110 478,-110\"/>\n",
              "<text text-anchor=\"start\" x=\"481\" y=\"-116.8\" font-family=\"Times,serif\" font-size=\"14.00\">degree</text>\n",
              "<polygon fill=\"none\" stroke=\"black\" points=\"521,-110 521,-131 620,-131 620,-110 521,-110\"/>\n",
              "<text text-anchor=\"start\" x=\"558.5\" y=\"-116.8\" font-family=\"Times,serif\" font-size=\"14.00\">next</text>\n",
              "<polygon fill=\"none\" stroke=\"black\" points=\"414,-89 414,-110 478,-110 478,-89 414,-89\"/>\n",
              "<text text-anchor=\"start\" x=\"442.5\" y=\"-95.8\" font-family=\"Times,serif\" font-size=\"14.00\">6</text>\n",
              "<polygon fill=\"none\" stroke=\"black\" points=\"478,-89 478,-110 521,-110 521,-89 478,-89\"/>\n",
              "<text text-anchor=\"start\" x=\"496\" y=\"-95.8\" font-family=\"Times,serif\" font-size=\"14.00\">6</text>\n",
              "<polygon fill=\"none\" stroke=\"black\" points=\"521,-89 521,-110 620,-110 620,-89 521,-89\"/>\n",
              "<text text-anchor=\"start\" x=\"524\" y=\"-95.8\" font-family=\"Times,serif\" font-size=\"14.00\">0x7ad70e66d2a0</text>\n",
              "<polygon fill=\"none\" stroke=\"black\" points=\"414,-68 414,-89 620,-89 620,-68 414,-68\"/>\n",
              "<text text-anchor=\"start\" x=\"483.5\" y=\"-74.8\" font-family=\"Times,serif\" font-size=\"14.00\">alamat node</text>\n",
              "<polygon fill=\"none\" stroke=\"black\" points=\"414,-47 414,-68 620,-68 620,-47 414,-47\"/>\n",
              "<text text-anchor=\"start\" x=\"471.5\" y=\"-53.8\" font-family=\"Times,serif\" font-size=\"14.00\">0x7ad70e66fe20</text>\n",
              "</g>\n",
              "<!-- node0&#45;&gt;node1 -->\n",
              "<g id=\"edge2\" class=\"edge\">\n",
              "<title>node0:next&#45;&gt;node1:id</title>\n",
              "<path fill=\"none\" stroke=\"black\" d=\"M363,-57C381.4,-57 388.38,-57 402.85,-57\"/>\n",
              "<polygon fill=\"black\" stroke=\"black\" points=\"403,-60.5 413,-57 403,-53.5 403,-60.5\"/>\n",
              "</g>\n",
              "<!-- node2 -->\n",
              "<g id=\"node4\" class=\"node\">\n",
              "<title>node2</title>\n",
              "<polygon fill=\"none\" stroke=\"black\" points=\"672,-153 672,-174 736,-174 736,-153 672,-153\"/>\n",
              "<text text-anchor=\"start\" x=\"675\" y=\"-159.8\" font-family=\"Times,serif\" font-size=\"14.00\">coefficient</text>\n",
              "<polygon fill=\"none\" stroke=\"black\" points=\"736,-153 736,-174 779,-174 779,-153 736,-153\"/>\n",
              "<text text-anchor=\"start\" x=\"739\" y=\"-159.8\" font-family=\"Times,serif\" font-size=\"14.00\">degree</text>\n",
              "<polygon fill=\"none\" stroke=\"black\" points=\"779,-153 779,-174 878,-174 878,-153 779,-153\"/>\n",
              "<text text-anchor=\"start\" x=\"816.5\" y=\"-159.8\" font-family=\"Times,serif\" font-size=\"14.00\">next</text>\n",
              "<polygon fill=\"none\" stroke=\"black\" points=\"672,-132 672,-153 736,-153 736,-132 672,-132\"/>\n",
              "<text text-anchor=\"start\" x=\"700.5\" y=\"-138.8\" font-family=\"Times,serif\" font-size=\"14.00\">3</text>\n",
              "<polygon fill=\"none\" stroke=\"black\" points=\"736,-132 736,-153 779,-153 779,-132 736,-132\"/>\n",
              "<text text-anchor=\"start\" x=\"754\" y=\"-138.8\" font-family=\"Times,serif\" font-size=\"14.00\">4</text>\n",
              "<polygon fill=\"none\" stroke=\"black\" points=\"779,-132 779,-153 878,-153 878,-132 779,-132\"/>\n",
              "<text text-anchor=\"start\" x=\"782\" y=\"-138.8\" font-family=\"Times,serif\" font-size=\"14.00\">0x7ad70e66eb30</text>\n",
              "<polygon fill=\"none\" stroke=\"black\" points=\"672,-111 672,-132 878,-132 878,-111 672,-111\"/>\n",
              "<text text-anchor=\"start\" x=\"741.5\" y=\"-117.8\" font-family=\"Times,serif\" font-size=\"14.00\">alamat node</text>\n",
              "<polygon fill=\"none\" stroke=\"black\" points=\"672,-90 672,-111 878,-111 878,-90 672,-90\"/>\n",
              "<text text-anchor=\"start\" x=\"728.5\" y=\"-96.8\" font-family=\"Times,serif\" font-size=\"14.00\">0x7ad70e66d2a0</text>\n",
              "</g>\n",
              "<!-- node1&#45;&gt;node2 -->\n",
              "<g id=\"edge3\" class=\"edge\">\n",
              "<title>node1:next&#45;&gt;node2:id</title>\n",
              "<path fill=\"none\" stroke=\"black\" d=\"M621,-100C639.4,-100 646.38,-100 660.85,-100\"/>\n",
              "<polygon fill=\"black\" stroke=\"black\" points=\"661,-103.5 671,-100 661,-96.5 661,-103.5\"/>\n",
              "</g>\n",
              "<!-- node3 -->\n",
              "<g id=\"node5\" class=\"node\">\n",
              "<title>node3</title>\n",
              "<polygon fill=\"none\" stroke=\"black\" points=\"930.5,-196 930.5,-217 994.5,-217 994.5,-196 930.5,-196\"/>\n",
              "<text text-anchor=\"start\" x=\"933.5\" y=\"-202.8\" font-family=\"Times,serif\" font-size=\"14.00\">coefficient</text>\n",
              "<polygon fill=\"none\" stroke=\"black\" points=\"994.5,-196 994.5,-217 1037.5,-217 1037.5,-196 994.5,-196\"/>\n",
              "<text text-anchor=\"start\" x=\"997.5\" y=\"-202.8\" font-family=\"Times,serif\" font-size=\"14.00\">degree</text>\n",
              "<polygon fill=\"none\" stroke=\"black\" points=\"1037.5,-196 1037.5,-217 1135.5,-217 1135.5,-196 1037.5,-196\"/>\n",
              "<text text-anchor=\"start\" x=\"1074.5\" y=\"-202.8\" font-family=\"Times,serif\" font-size=\"14.00\">next</text>\n",
              "<polygon fill=\"none\" stroke=\"black\" points=\"930.5,-175 930.5,-196 994.5,-196 994.5,-175 930.5,-175\"/>\n",
              "<text text-anchor=\"start\" x=\"959\" y=\"-181.8\" font-family=\"Times,serif\" font-size=\"14.00\">3</text>\n",
              "<polygon fill=\"none\" stroke=\"black\" points=\"994.5,-175 994.5,-196 1037.5,-196 1037.5,-175 994.5,-175\"/>\n",
              "<text text-anchor=\"start\" x=\"1012.5\" y=\"-181.8\" font-family=\"Times,serif\" font-size=\"14.00\">3</text>\n",
              "<polygon fill=\"none\" stroke=\"black\" points=\"1037.5,-175 1037.5,-196 1135.5,-196 1135.5,-175 1037.5,-175\"/>\n",
              "<text text-anchor=\"start\" x=\"1040.5\" y=\"-181.8\" font-family=\"Times,serif\" font-size=\"14.00\">0x7ad70e66c9a0</text>\n",
              "<polygon fill=\"none\" stroke=\"black\" points=\"930.5,-154 930.5,-175 1135.5,-175 1135.5,-154 930.5,-154\"/>\n",
              "<text text-anchor=\"start\" x=\"999.5\" y=\"-160.8\" font-family=\"Times,serif\" font-size=\"14.00\">alamat node</text>\n",
              "<polygon fill=\"none\" stroke=\"black\" points=\"930.5,-133 930.5,-154 1135.5,-154 1135.5,-133 930.5,-133\"/>\n",
              "<text text-anchor=\"start\" x=\"986.5\" y=\"-139.8\" font-family=\"Times,serif\" font-size=\"14.00\">0x7ad70e66eb30</text>\n",
              "</g>\n",
              "<!-- node2&#45;&gt;node3 -->\n",
              "<g id=\"edge4\" class=\"edge\">\n",
              "<title>node2:next&#45;&gt;node3:id</title>\n",
              "<path fill=\"none\" stroke=\"black\" d=\"M879,-143C897.59,-143 904.63,-143 919.25,-143\"/>\n",
              "<polygon fill=\"black\" stroke=\"black\" points=\"919.5,-146.5 929.5,-143 919.5,-139.5 919.5,-146.5\"/>\n",
              "</g>\n",
              "<!-- node4 -->\n",
              "<g id=\"node6\" class=\"node\">\n",
              "<title>node4</title>\n",
              "<polygon fill=\"none\" stroke=\"black\" points=\"1187,-239 1187,-260 1251,-260 1251,-239 1187,-239\"/>\n",
              "<text text-anchor=\"start\" x=\"1190\" y=\"-245.8\" font-family=\"Times,serif\" font-size=\"14.00\">coefficient</text>\n",
              "<polygon fill=\"none\" stroke=\"black\" points=\"1251,-239 1251,-260 1294,-260 1294,-239 1251,-239\"/>\n",
              "<text text-anchor=\"start\" x=\"1254\" y=\"-245.8\" font-family=\"Times,serif\" font-size=\"14.00\">degree</text>\n",
              "<polygon fill=\"none\" stroke=\"black\" points=\"1294,-239 1294,-260 1391,-260 1391,-239 1294,-239\"/>\n",
              "<text text-anchor=\"start\" x=\"1330.5\" y=\"-245.8\" font-family=\"Times,serif\" font-size=\"14.00\">next</text>\n",
              "<polygon fill=\"none\" stroke=\"black\" points=\"1187,-218 1187,-239 1251,-239 1251,-218 1187,-218\"/>\n",
              "<text text-anchor=\"start\" x=\"1212\" y=\"-224.8\" font-family=\"Times,serif\" font-size=\"14.00\">24</text>\n",
              "<polygon fill=\"none\" stroke=\"black\" points=\"1251,-218 1251,-239 1294,-239 1294,-218 1251,-218\"/>\n",
              "<text text-anchor=\"start\" x=\"1269\" y=\"-224.8\" font-family=\"Times,serif\" font-size=\"14.00\">2</text>\n",
              "<polygon fill=\"none\" stroke=\"black\" points=\"1294,-218 1294,-239 1391,-239 1391,-218 1294,-218\"/>\n",
              "<text text-anchor=\"start\" x=\"1297\" y=\"-224.8\" font-family=\"Times,serif\" font-size=\"14.00\">0x7ad70e66df60</text>\n",
              "<polygon fill=\"none\" stroke=\"black\" points=\"1187,-197 1187,-218 1391,-218 1391,-197 1187,-197\"/>\n",
              "<text text-anchor=\"start\" x=\"1255.5\" y=\"-203.8\" font-family=\"Times,serif\" font-size=\"14.00\">alamat node</text>\n",
              "<polygon fill=\"none\" stroke=\"black\" points=\"1187,-176 1187,-197 1391,-197 1391,-176 1187,-176\"/>\n",
              "<text text-anchor=\"start\" x=\"1243\" y=\"-182.8\" font-family=\"Times,serif\" font-size=\"14.00\">0x7ad70e66c9a0</text>\n",
              "</g>\n",
              "<!-- node3&#45;&gt;node4 -->\n",
              "<g id=\"edge5\" class=\"edge\">\n",
              "<title>node3:next&#45;&gt;node4:id</title>\n",
              "<path fill=\"none\" stroke=\"black\" d=\"M1136.5,-186C1154.72,-186 1161.62,-186 1175.95,-186\"/>\n",
              "<polygon fill=\"black\" stroke=\"black\" points=\"1176,-189.5 1186,-186 1176,-182.5 1176,-189.5\"/>\n",
              "</g>\n",
              "<!-- node5 -->\n",
              "<g id=\"node7\" class=\"node\">\n",
              "<title>node5</title>\n",
              "<polygon fill=\"none\" stroke=\"black\" points=\"1443.5,-282 1443.5,-303 1507.5,-303 1507.5,-282 1443.5,-282\"/>\n",
              "<text text-anchor=\"start\" x=\"1446.5\" y=\"-288.8\" font-family=\"Times,serif\" font-size=\"14.00\">coefficient</text>\n",
              "<polygon fill=\"none\" stroke=\"black\" points=\"1507.5,-282 1507.5,-303 1550.5,-303 1550.5,-282 1507.5,-282\"/>\n",
              "<text text-anchor=\"start\" x=\"1510.5\" y=\"-288.8\" font-family=\"Times,serif\" font-size=\"14.00\">degree</text>\n",
              "<polygon fill=\"none\" stroke=\"black\" points=\"1550.5,-282 1550.5,-303 1586.5,-303 1586.5,-282 1550.5,-282\"/>\n",
              "<text text-anchor=\"start\" x=\"1556.5\" y=\"-288.8\" font-family=\"Times,serif\" font-size=\"14.00\">next</text>\n",
              "<polygon fill=\"none\" stroke=\"black\" points=\"1443.5,-261 1443.5,-282 1507.5,-282 1507.5,-261 1443.5,-261\"/>\n",
              "<text text-anchor=\"start\" x=\"1472\" y=\"-267.8\" font-family=\"Times,serif\" font-size=\"14.00\">4</text>\n",
              "<polygon fill=\"none\" stroke=\"black\" points=\"1507.5,-261 1507.5,-282 1550.5,-282 1550.5,-261 1507.5,-261\"/>\n",
              "<text text-anchor=\"start\" x=\"1525.5\" y=\"-267.8\" font-family=\"Times,serif\" font-size=\"14.00\">0</text>\n",
              "<polygon fill=\"none\" stroke=\"black\" points=\"1550.5,-261 1550.5,-282 1586.5,-282 1586.5,-261 1550.5,-261\"/>\n",
              "<text text-anchor=\"start\" x=\"1553.5\" y=\"-267.8\" font-family=\"Times,serif\" font-size=\"14.00\">None</text>\n",
              "<polygon fill=\"none\" stroke=\"black\" points=\"1443.5,-240 1443.5,-261 1586.5,-261 1586.5,-240 1443.5,-240\"/>\n",
              "<text text-anchor=\"start\" x=\"1481.5\" y=\"-246.8\" font-family=\"Times,serif\" font-size=\"14.00\">alamat node</text>\n",
              "<polygon fill=\"none\" stroke=\"black\" points=\"1443.5,-219 1443.5,-240 1586.5,-240 1586.5,-219 1443.5,-219\"/>\n",
              "<text text-anchor=\"start\" x=\"1469.5\" y=\"-225.8\" font-family=\"Times,serif\" font-size=\"14.00\">0x7ad70e66df60</text>\n",
              "</g>\n",
              "<!-- node4&#45;&gt;node5 -->\n",
              "<g id=\"edge6\" class=\"edge\">\n",
              "<title>node4:next&#45;&gt;node5:id</title>\n",
              "<path fill=\"none\" stroke=\"black\" d=\"M1392,-229C1410.59,-229 1417.63,-229 1432.25,-229\"/>\n",
              "<polygon fill=\"black\" stroke=\"black\" points=\"1432.5,-232.5 1442.5,-229 1432.5,-225.5 1432.5,-232.5\"/>\n",
              "</g>\n",
              "<!-- node6 -->\n",
              "<g id=\"node8\" class=\"node\">\n",
              "<title>node6</title>\n",
              "<text text-anchor=\"middle\" x=\"1657\" y=\"-268.3\" font-family=\"Times,serif\" font-size=\"14.00\">None</text>\n",
              "</g>\n",
              "<!-- node5&#45;&gt;node6 -->\n",
              "<g id=\"edge7\" class=\"edge\">\n",
              "<title>node5:next&#45;&gt;node6</title>\n",
              "<path fill=\"none\" stroke=\"black\" d=\"M1587.5,-272C1598.02,-272 1609.46,-272 1619.92,-272\"/>\n",
              "<polygon fill=\"black\" stroke=\"black\" points=\"1619.98,-275.5 1629.98,-272 1619.98,-268.5 1619.98,-275.5\"/>\n",
              "</g>\n",
              "</g>\n",
              "</svg>\n"
            ],
            "text/plain": [
              "<graphviz.graphs.Digraph at 0x7ad70e66e0b0>"
            ]
          },
          "execution_count": 20,
          "metadata": {},
          "output_type": "execute_result"
        }
      ],
      "source": [
        "polinomial5.get_digraph()"
      ]
    },
    {
      "cell_type": "markdown",
      "metadata": {
        "id": "I8l4lWTZ6Kcx"
      },
      "source": [
        "**Catatan:  Tampilkan hasil *linked list* untuk soal no 2, 3, dan 5. Anda dibebaskan boleh hanya menggunakan print atau menggunakan graphviz.**"
      ]
    }
  ],
  "metadata": {
    "colab": {
      "provenance": []
    },
    "kernelspec": {
      "display_name": "Python 3",
      "name": "python3"
    },
    "language_info": {
      "name": "python"
    }
  },
  "nbformat": 4,
  "nbformat_minor": 0
}
