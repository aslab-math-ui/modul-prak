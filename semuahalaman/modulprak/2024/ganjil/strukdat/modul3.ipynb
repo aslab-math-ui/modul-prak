{
 "cells": [
  {
   "cell_type": "markdown",
   "metadata": {
    "id": "AvN39AmVPHJL"
   },
   "source": [
    "---\n",
    "title: \"Modul 3 Struktur Data: Graphviz, Linked List\"\n",
    "subtitle: \"Graphviz, Linked List\"\n",
    "image: static\\linked_list.png\n",
    "description: \"Offline di Departemen Matematika\"\n",
    "date: 10/08/2024\n",
    "page-navigation: true\n",
    "format: html\n",
    "---"
   ]
  },
  {
   "cell_type": "markdown",
   "metadata": {
    "id": "BOZ8rSDUPHJM"
   },
   "source": [
    "Kembali ke [Struktur Data](./strukdat2024.qmd)"
   ]
  },
  {
   "cell_type": "markdown",
   "metadata": {
    "id": "r53Y-5qRPHJN"
   },
   "source": [
    "Pada praktikum kali ini, kita akan membahas mengenai *linked list*, serta cara memvisualisasikannya menggunakan yang namanya Graphviz."
   ]
  },
  {
   "cell_type": "markdown",
   "metadata": {
    "id": "27hIwyN4PHJN"
   },
   "source": [
    "Sebelum mengikuti praktikum ini, ada baiknya kalian me-*review* kembali modul berikut:\n",
    "\n",
    "* [Modul 2: Pengantar OOP](./modul2.ipynb)\n",
    "\n",
    "Untuk apa? Kita akan menyusun struktur data *linked list* menggunakan `class` :) semoga kalian sudah cukup paham tentang `class` yaa. Kalau belum pun, semoga kalian akan lebih paham setelah praktikum kali ini :D"
   ]
  },
  {
   "cell_type": "markdown",
   "metadata": {
    "id": "HGSzlEp7PHJN"
   },
   "source": [
    "## Graphviz"
   ]
  },
  {
   "cell_type": "markdown",
   "metadata": {
    "id": "0XqwC7qvPHJN"
   },
   "source": [
    "Graphviz adalah semacam *software* yang bisa membuat visualisasi \"graf\" yang bagus. Mungkin di antara kalian belum semuanya kenal dengan graf, itu tidak masalah. Kurang lebih, suatu graf adalah kumpulan bulet-bulet (disebut simpul, *node*, atau *vertex*) yang disambung oleh \"busur\" (juga disebut *arc* atau *edge*), di mana tiap *edge* bisa berupa garis biasa atau berupa panah."
   ]
  },
  {
   "cell_type": "markdown",
   "metadata": {
    "id": "9RkFByHOPHJN"
   },
   "source": [
    "Berikut contoh graf yang digambar dengan Graphviz:"
   ]
  },
  {
   "cell_type": "markdown",
   "metadata": {
    "id": "bd3h7gvoPHJN"
   },
   "source": [
    "```{dot}\n",
    "digraph \"graf G\" {\n",
    "    A -> B;\n",
    "    B -> A;\n",
    "    A -> C;\n",
    "    D -> C [dir=none];\n",
    "    D -> D;\n",
    "    D -> E [label=\"  tes\"];\n",
    "    E -> F;\n",
    "    B -> F [dir=none];\n",
    "    GHI -> F [label=\"qwerty\"];\n",
    "    C -> E [dir=both];\n",
    "}\n",
    "```"
   ]
  },
  {
   "cell_type": "markdown",
   "metadata": {
    "id": "lkXsXA76PHJN"
   },
   "source": [
    "Lho, di mata kuliah Struktur Data kan ga ada graf. Untuk apa kita pelajari Graphviz?\n",
    "\n",
    "Dengan Graphviz, kita bisa membuat visualisasi untuk berbagai struktur data nantinya, termasuk *linked list* hari ini. Kita bisa meminta Graphviz untuk membuat bentuk *node* yang tidak sederhana, termasuk bentuk *node* yang kita kenal di *linked list*, kemudian membuat *edge* yang berupa panah, sehingga kita benar-benar bisa menggambarkan suatu *linked list* :)"
   ]
  },
  {
   "cell_type": "markdown",
   "metadata": {
    "id": "oi-3lDNxPHJN"
   },
   "source": [
    "### Instalasi Graphviz"
   ]
  },
  {
   "cell_type": "markdown",
   "metadata": {
    "id": "lLJpvrQtPHJO"
   },
   "source": [
    "Sebelum bisa menggunakan Graphviz, perlu di-*install* terlebih dahulu."
   ]
  },
  {
   "cell_type": "markdown",
   "metadata": {
    "id": "iEs2HK9nPHJO"
   },
   "source": [
    "Di Google Colaboratory, kalian tinggal mengetik:\n",
    "\n",
    "`pip install graphviz`"
   ]
  },
  {
   "cell_type": "markdown",
   "metadata": {
    "id": "SrBUvcwPPHJO"
   },
   "source": [
    "Sedangkan, apabila menggunakan Jupyter Notebook melalui Anaconda, buka Anaconda Prompt lalu ketik:\n",
    "\n",
    "`conda install graphviz`\n",
    "\n",
    "Tunggu instalasi selesai, barulah buka Jupyter Notebook dan ketik\n",
    "\n",
    "`pip install graphviz`"
   ]
  },
  {
   "cell_type": "markdown",
   "metadata": {
    "id": "rie437NnPHJO"
   },
   "source": [
    "Note:\n",
    "\n",
    "* Apabila Anda menggunakan Jupyter Notebook tetapi tidak melalui Anaconda, langkah `conda install graphviz` bisa digantikan dengan menginstal Graphviz dari [https://graphviz.gitlab.io/download/](https://graphviz.gitlab.io/download/)\n",
    "\n",
    "* Untuk penulisan `pip`, ada kemungkinan kalian perlu mengetik `!pip` dengan tanda seru di awal. Biasanya tidak perlu, tapi kalau menjadi *error*, boleh dicoba dengan tanda seru."
   ]
  },
  {
   "cell_type": "markdown",
   "metadata": {
    "id": "mAilFY8_PHJO"
   },
   "source": [
    "### Mengenal Graphviz: *node* dan *edge*"
   ]
  },
  {
   "cell_type": "markdown",
   "metadata": {
    "id": "JbU76mRlPHJO"
   },
   "source": [
    "Setelah instalasi selesai, kita bisa import:"
   ]
  },
  {
   "cell_type": "code",
   "execution_count": null,
   "metadata": {
    "id": "D7oKOK3UPHJO"
   },
   "outputs": [],
   "source": [
    "import graphviz as gv"
   ]
  },
  {
   "cell_type": "markdown",
   "metadata": {
    "id": "gKy-IFD0PHJO"
   },
   "source": [
    "Dengan Graphviz, ada dua jenis gambar graf yang bisa kita buat:\n",
    "\n",
    "* `Digraph` (graf berarah, yaitu tiap *edge* bisa berupa panah maupun garis biasa)\n",
    "* `Graph` (graf sederhana, yaitu tiap *edge* hanya bisa berupa garis biasa, bukan panah)"
   ]
  },
  {
   "cell_type": "markdown",
   "metadata": {
    "id": "6Yhg3zoqPHJP"
   },
   "source": [
    "Karena `Digraph` lebih banyak fiturnya, kita akan membuat `Digraph` saja."
   ]
  },
  {
   "cell_type": "markdown",
   "metadata": {
    "id": "3mT4hVIIPHJP"
   },
   "source": [
    "Sebagai contoh sederhana, kita bisa membuat `Digraph` yang terdiri dari dua *node* yaitu A dan B, dengan *edge* berupa panah yang menghubungkan A ke B. Kita buat objek `Digraph` terlebih dahulu:"
   ]
  },
  {
   "cell_type": "code",
   "execution_count": null,
   "metadata": {
    "id": "ez5oU9GMPHJP"
   },
   "outputs": [],
   "source": [
    "graf1 = gv.Digraph()"
   ]
  },
  {
   "cell_type": "markdown",
   "metadata": {
    "id": "e3m3LpZTPHJP"
   },
   "source": [
    "Kemudian, kita bisa menambahkan *node* A dan B sebagai berikut:"
   ]
  },
  {
   "cell_type": "code",
   "execution_count": null,
   "metadata": {
    "id": "Q4pDj-gTPHJP"
   },
   "outputs": [],
   "source": [
    "graf1.node(\"A\")\n",
    "graf1.node(\"B\")"
   ]
  },
  {
   "cell_type": "markdown",
   "metadata": {
    "id": "6Q2bt4BEPHJP"
   },
   "source": [
    "Selanjutnya, kita bisa membuat/menambahkan suatu *edge* dari A ke B, seperti berikut:"
   ]
  },
  {
   "cell_type": "code",
   "execution_count": null,
   "metadata": {
    "id": "SCcy08KCPHJP"
   },
   "outputs": [],
   "source": [
    "graf1.edge(\"A\", \"B\")"
   ]
  },
  {
   "cell_type": "markdown",
   "metadata": {
    "id": "X8q-7WjyPHJP"
   },
   "source": [
    "Sekarang kita bisa lihat grafnya:"
   ]
  },
  {
   "cell_type": "code",
   "execution_count": null,
   "metadata": {
    "colab": {
     "base_uri": "https://localhost:8080/",
     "height": 176
    },
    "id": "6-sQe8cWPHJP",
    "outputId": "571a0468-0afb-4324-c2bb-556a2a624787"
   },
   "outputs": [
    {
     "data": {
      "image/svg+xml": [
       "<?xml version=\"1.0\" encoding=\"UTF-8\" standalone=\"no\"?>\n",
       "<!DOCTYPE svg PUBLIC \"-//W3C//DTD SVG 1.1//EN\"\n",
       " \"http://www.w3.org/Graphics/SVG/1.1/DTD/svg11.dtd\">\n",
       "<!-- Generated by graphviz version 2.43.0 (0)\n",
       " -->\n",
       "<!-- Title: %3 Pages: 1 -->\n",
       "<svg width=\"62pt\" height=\"116pt\"\n",
       " viewBox=\"0.00 0.00 62.00 116.00\" xmlns=\"http://www.w3.org/2000/svg\" xmlns:xlink=\"http://www.w3.org/1999/xlink\">\n",
       "<g id=\"graph0\" class=\"graph\" transform=\"scale(1 1) rotate(0) translate(4 112)\">\n",
       "<title>%3</title>\n",
       "<polygon fill=\"white\" stroke=\"transparent\" points=\"-4,4 -4,-112 58,-112 58,4 -4,4\"/>\n",
       "<!-- A -->\n",
       "<g id=\"node1\" class=\"node\">\n",
       "<title>A</title>\n",
       "<ellipse fill=\"none\" stroke=\"black\" cx=\"27\" cy=\"-90\" rx=\"27\" ry=\"18\"/>\n",
       "<text text-anchor=\"middle\" x=\"27\" y=\"-86.3\" font-family=\"Times,serif\" font-size=\"14.00\">A</text>\n",
       "</g>\n",
       "<!-- B -->\n",
       "<g id=\"node2\" class=\"node\">\n",
       "<title>B</title>\n",
       "<ellipse fill=\"none\" stroke=\"black\" cx=\"27\" cy=\"-18\" rx=\"27\" ry=\"18\"/>\n",
       "<text text-anchor=\"middle\" x=\"27\" y=\"-14.3\" font-family=\"Times,serif\" font-size=\"14.00\">B</text>\n",
       "</g>\n",
       "<!-- A&#45;&gt;B -->\n",
       "<g id=\"edge1\" class=\"edge\">\n",
       "<title>A&#45;&gt;B</title>\n",
       "<path fill=\"none\" stroke=\"black\" d=\"M27,-71.7C27,-63.98 27,-54.71 27,-46.11\"/>\n",
       "<polygon fill=\"black\" stroke=\"black\" points=\"30.5,-46.1 27,-36.1 23.5,-46.1 30.5,-46.1\"/>\n",
       "</g>\n",
       "</g>\n",
       "</svg>\n"
      ],
      "text/plain": [
       "<graphviz.graphs.Digraph at 0x7dd768fb3490>"
      ]
     },
     "metadata": {},
     "output_type": "display_data"
    }
   ],
   "source": [
    "display(graf1)"
   ]
  },
  {
   "cell_type": "markdown",
   "metadata": {
    "id": "6ANbe0iHPHJP"
   },
   "source": [
    "Note: apabila fungsi `display` tidak dikenal, silakan import:\n",
    "\n",
    "`from IPython.display import display`"
   ]
  },
  {
   "cell_type": "markdown",
   "metadata": {
    "id": "upCn1R7GPHJQ"
   },
   "source": [
    "Sebenarnya, kita bisa saja menambahkan *edge* baru tanpa membuat *node* terlebih dahulu. Contohnya, menambahkan *edge* dari A ke C (suatu *node* baru):"
   ]
  },
  {
   "cell_type": "code",
   "execution_count": null,
   "metadata": {
    "id": "ZpHa-3H-PHJQ"
   },
   "outputs": [],
   "source": [
    "graf1.edge(\"A\", \"C\")"
   ]
  },
  {
   "cell_type": "markdown",
   "metadata": {
    "id": "gl9oAdCOPHJQ"
   },
   "source": [
    "Kita bisa lihat lagi:"
   ]
  },
  {
   "cell_type": "code",
   "execution_count": null,
   "metadata": {
    "colab": {
     "base_uri": "https://localhost:8080/",
     "height": 176
    },
    "id": "ds2v46_WPHJQ",
    "outputId": "b9b30d5e-4789-4f30-8d68-fc5b59d50df8"
   },
   "outputs": [
    {
     "data": {
      "image/svg+xml": [
       "<?xml version=\"1.0\" encoding=\"UTF-8\" standalone=\"no\"?>\n",
       "<!DOCTYPE svg PUBLIC \"-//W3C//DTD SVG 1.1//EN\"\n",
       " \"http://www.w3.org/Graphics/SVG/1.1/DTD/svg11.dtd\">\n",
       "<!-- Generated by graphviz version 2.43.0 (0)\n",
       " -->\n",
       "<!-- Title: %3 Pages: 1 -->\n",
       "<svg width=\"134pt\" height=\"116pt\"\n",
       " viewBox=\"0.00 0.00 134.00 116.00\" xmlns=\"http://www.w3.org/2000/svg\" xmlns:xlink=\"http://www.w3.org/1999/xlink\">\n",
       "<g id=\"graph0\" class=\"graph\" transform=\"scale(1 1) rotate(0) translate(4 112)\">\n",
       "<title>%3</title>\n",
       "<polygon fill=\"white\" stroke=\"transparent\" points=\"-4,4 -4,-112 130,-112 130,4 -4,4\"/>\n",
       "<!-- A -->\n",
       "<g id=\"node1\" class=\"node\">\n",
       "<title>A</title>\n",
       "<ellipse fill=\"none\" stroke=\"black\" cx=\"63\" cy=\"-90\" rx=\"27\" ry=\"18\"/>\n",
       "<text text-anchor=\"middle\" x=\"63\" y=\"-86.3\" font-family=\"Times,serif\" font-size=\"14.00\">A</text>\n",
       "</g>\n",
       "<!-- B -->\n",
       "<g id=\"node2\" class=\"node\">\n",
       "<title>B</title>\n",
       "<ellipse fill=\"none\" stroke=\"black\" cx=\"27\" cy=\"-18\" rx=\"27\" ry=\"18\"/>\n",
       "<text text-anchor=\"middle\" x=\"27\" y=\"-14.3\" font-family=\"Times,serif\" font-size=\"14.00\">B</text>\n",
       "</g>\n",
       "<!-- A&#45;&gt;B -->\n",
       "<g id=\"edge1\" class=\"edge\">\n",
       "<title>A&#45;&gt;B</title>\n",
       "<path fill=\"none\" stroke=\"black\" d=\"M54.65,-72.76C50.29,-64.28 44.85,-53.71 39.96,-44.2\"/>\n",
       "<polygon fill=\"black\" stroke=\"black\" points=\"42.99,-42.44 35.3,-35.15 36.77,-45.64 42.99,-42.44\"/>\n",
       "</g>\n",
       "<!-- C -->\n",
       "<g id=\"node3\" class=\"node\">\n",
       "<title>C</title>\n",
       "<ellipse fill=\"none\" stroke=\"black\" cx=\"99\" cy=\"-18\" rx=\"27\" ry=\"18\"/>\n",
       "<text text-anchor=\"middle\" x=\"99\" y=\"-14.3\" font-family=\"Times,serif\" font-size=\"14.00\">C</text>\n",
       "</g>\n",
       "<!-- A&#45;&gt;C -->\n",
       "<g id=\"edge2\" class=\"edge\">\n",
       "<title>A&#45;&gt;C</title>\n",
       "<path fill=\"none\" stroke=\"black\" d=\"M71.35,-72.76C75.71,-64.28 81.15,-53.71 86.04,-44.2\"/>\n",
       "<polygon fill=\"black\" stroke=\"black\" points=\"89.23,-45.64 90.7,-35.15 83.01,-42.44 89.23,-45.64\"/>\n",
       "</g>\n",
       "</g>\n",
       "</svg>\n"
      ],
      "text/plain": [
       "<graphviz.graphs.Digraph at 0x7dd768fb3490>"
      ]
     },
     "metadata": {},
     "output_type": "display_data"
    }
   ],
   "source": [
    "display(graf1)"
   ]
  },
  {
   "cell_type": "markdown",
   "metadata": {
    "id": "YYpjVs5SPHJQ"
   },
   "source": [
    "Bahkan, kita bisa membuat ulang graf di atas dengan cara seperti berikut:"
   ]
  },
  {
   "cell_type": "code",
   "execution_count": null,
   "metadata": {
    "id": "j1BJABB0PHJQ"
   },
   "outputs": [],
   "source": [
    "graf2 = gv.Digraph()\n",
    "graf2.edge(\"A\", \"B\")\n",
    "graf2.edge(\"A\", \"C\")"
   ]
  },
  {
   "cell_type": "code",
   "execution_count": null,
   "metadata": {
    "colab": {
     "base_uri": "https://localhost:8080/",
     "height": 176
    },
    "id": "OBnpmBrqPHJQ",
    "outputId": "3beaa798-1be2-448a-883a-15ceeb519847"
   },
   "outputs": [
    {
     "data": {
      "image/svg+xml": [
       "<?xml version=\"1.0\" encoding=\"UTF-8\" standalone=\"no\"?>\n",
       "<!DOCTYPE svg PUBLIC \"-//W3C//DTD SVG 1.1//EN\"\n",
       " \"http://www.w3.org/Graphics/SVG/1.1/DTD/svg11.dtd\">\n",
       "<!-- Generated by graphviz version 2.43.0 (0)\n",
       " -->\n",
       "<!-- Title: %3 Pages: 1 -->\n",
       "<svg width=\"134pt\" height=\"116pt\"\n",
       " viewBox=\"0.00 0.00 134.00 116.00\" xmlns=\"http://www.w3.org/2000/svg\" xmlns:xlink=\"http://www.w3.org/1999/xlink\">\n",
       "<g id=\"graph0\" class=\"graph\" transform=\"scale(1 1) rotate(0) translate(4 112)\">\n",
       "<title>%3</title>\n",
       "<polygon fill=\"white\" stroke=\"transparent\" points=\"-4,4 -4,-112 130,-112 130,4 -4,4\"/>\n",
       "<!-- A -->\n",
       "<g id=\"node1\" class=\"node\">\n",
       "<title>A</title>\n",
       "<ellipse fill=\"none\" stroke=\"black\" cx=\"63\" cy=\"-90\" rx=\"27\" ry=\"18\"/>\n",
       "<text text-anchor=\"middle\" x=\"63\" y=\"-86.3\" font-family=\"Times,serif\" font-size=\"14.00\">A</text>\n",
       "</g>\n",
       "<!-- B -->\n",
       "<g id=\"node2\" class=\"node\">\n",
       "<title>B</title>\n",
       "<ellipse fill=\"none\" stroke=\"black\" cx=\"27\" cy=\"-18\" rx=\"27\" ry=\"18\"/>\n",
       "<text text-anchor=\"middle\" x=\"27\" y=\"-14.3\" font-family=\"Times,serif\" font-size=\"14.00\">B</text>\n",
       "</g>\n",
       "<!-- A&#45;&gt;B -->\n",
       "<g id=\"edge1\" class=\"edge\">\n",
       "<title>A&#45;&gt;B</title>\n",
       "<path fill=\"none\" stroke=\"black\" d=\"M54.65,-72.76C50.29,-64.28 44.85,-53.71 39.96,-44.2\"/>\n",
       "<polygon fill=\"black\" stroke=\"black\" points=\"42.99,-42.44 35.3,-35.15 36.77,-45.64 42.99,-42.44\"/>\n",
       "</g>\n",
       "<!-- C -->\n",
       "<g id=\"node3\" class=\"node\">\n",
       "<title>C</title>\n",
       "<ellipse fill=\"none\" stroke=\"black\" cx=\"99\" cy=\"-18\" rx=\"27\" ry=\"18\"/>\n",
       "<text text-anchor=\"middle\" x=\"99\" y=\"-14.3\" font-family=\"Times,serif\" font-size=\"14.00\">C</text>\n",
       "</g>\n",
       "<!-- A&#45;&gt;C -->\n",
       "<g id=\"edge2\" class=\"edge\">\n",
       "<title>A&#45;&gt;C</title>\n",
       "<path fill=\"none\" stroke=\"black\" d=\"M71.35,-72.76C75.71,-64.28 81.15,-53.71 86.04,-44.2\"/>\n",
       "<polygon fill=\"black\" stroke=\"black\" points=\"89.23,-45.64 90.7,-35.15 83.01,-42.44 89.23,-45.64\"/>\n",
       "</g>\n",
       "</g>\n",
       "</svg>\n"
      ],
      "text/plain": [
       "<graphviz.graphs.Digraph at 0x7dd768fb3700>"
      ]
     },
     "metadata": {},
     "output_type": "display_data"
    }
   ],
   "source": [
    "display(graf2)"
   ]
  },
  {
   "cell_type": "markdown",
   "metadata": {
    "id": "1ArrTrZPPHJQ"
   },
   "source": [
    "Menariknya, kita bisa saja membuat panah yang menunjuk ke dirinya sendiri."
   ]
  },
  {
   "cell_type": "code",
   "execution_count": null,
   "metadata": {
    "id": "vZ7emh1hPHJQ"
   },
   "outputs": [],
   "source": [
    "graf3 = gv.Digraph()\n",
    "graf3.edge(\"A\", \"B\")\n",
    "graf3.edge(\"B\", \"B\")"
   ]
  },
  {
   "cell_type": "code",
   "execution_count": null,
   "metadata": {
    "colab": {
     "base_uri": "https://localhost:8080/",
     "height": 176
    },
    "id": "uOilb_jvPHJQ",
    "outputId": "6aaf1ea1-14e8-432f-8c05-7bdd0a38f33b"
   },
   "outputs": [
    {
     "data": {
      "image/svg+xml": [
       "<?xml version=\"1.0\" encoding=\"UTF-8\" standalone=\"no\"?>\n",
       "<!DOCTYPE svg PUBLIC \"-//W3C//DTD SVG 1.1//EN\"\n",
       " \"http://www.w3.org/Graphics/SVG/1.1/DTD/svg11.dtd\">\n",
       "<!-- Generated by graphviz version 2.43.0 (0)\n",
       " -->\n",
       "<!-- Title: %3 Pages: 1 -->\n",
       "<svg width=\"80pt\" height=\"116pt\"\n",
       " viewBox=\"0.00 0.00 80.00 116.00\" xmlns=\"http://www.w3.org/2000/svg\" xmlns:xlink=\"http://www.w3.org/1999/xlink\">\n",
       "<g id=\"graph0\" class=\"graph\" transform=\"scale(1 1) rotate(0) translate(4 112)\">\n",
       "<title>%3</title>\n",
       "<polygon fill=\"white\" stroke=\"transparent\" points=\"-4,4 -4,-112 76,-112 76,4 -4,4\"/>\n",
       "<!-- A -->\n",
       "<g id=\"node1\" class=\"node\">\n",
       "<title>A</title>\n",
       "<ellipse fill=\"none\" stroke=\"black\" cx=\"27\" cy=\"-90\" rx=\"27\" ry=\"18\"/>\n",
       "<text text-anchor=\"middle\" x=\"27\" y=\"-86.3\" font-family=\"Times,serif\" font-size=\"14.00\">A</text>\n",
       "</g>\n",
       "<!-- B -->\n",
       "<g id=\"node2\" class=\"node\">\n",
       "<title>B</title>\n",
       "<ellipse fill=\"none\" stroke=\"black\" cx=\"27\" cy=\"-18\" rx=\"27\" ry=\"18\"/>\n",
       "<text text-anchor=\"middle\" x=\"27\" y=\"-14.3\" font-family=\"Times,serif\" font-size=\"14.00\">B</text>\n",
       "</g>\n",
       "<!-- A&#45;&gt;B -->\n",
       "<g id=\"edge1\" class=\"edge\">\n",
       "<title>A&#45;&gt;B</title>\n",
       "<path fill=\"none\" stroke=\"black\" d=\"M27,-71.7C27,-63.98 27,-54.71 27,-46.11\"/>\n",
       "<polygon fill=\"black\" stroke=\"black\" points=\"30.5,-46.1 27,-36.1 23.5,-46.1 30.5,-46.1\"/>\n",
       "</g>\n",
       "<!-- B&#45;&gt;B -->\n",
       "<g id=\"edge2\" class=\"edge\">\n",
       "<title>B&#45;&gt;B</title>\n",
       "<path fill=\"none\" stroke=\"black\" d=\"M46.9,-30.43C59.69,-33.68 72,-29.53 72,-18 72,-9.62 65.5,-5.14 57.04,-4.56\"/>\n",
       "<polygon fill=\"black\" stroke=\"black\" points=\"56.5,-1.1 46.9,-5.57 57.19,-8.07 56.5,-1.1\"/>\n",
       "</g>\n",
       "</g>\n",
       "</svg>\n"
      ],
      "text/plain": [
       "<graphviz.graphs.Digraph at 0x7dd768fb3820>"
      ]
     },
     "metadata": {},
     "output_type": "display_data"
    }
   ],
   "source": [
    "display(graf3)"
   ]
  },
  {
   "cell_type": "markdown",
   "metadata": {
    "id": "5IXqAIQcPHJQ"
   },
   "source": [
    "Kita juga bisa membuat dua panah berlawanan arah di antara dua *node* seperti berikut:"
   ]
  },
  {
   "cell_type": "code",
   "execution_count": null,
   "metadata": {
    "id": "0WuY6veAPHJR"
   },
   "outputs": [],
   "source": [
    "graf4 = gv.Digraph()\n",
    "graf4.edge(\"A\", \"B\")\n",
    "graf4.edge(\"B\", \"A\")"
   ]
  },
  {
   "cell_type": "code",
   "execution_count": null,
   "metadata": {
    "colab": {
     "base_uri": "https://localhost:8080/",
     "height": 176
    },
    "id": "mDxKFchoPHJR",
    "outputId": "ecbc4f99-0bfc-4e2c-cb4f-d53036abecad"
   },
   "outputs": [
    {
     "data": {
      "image/svg+xml": [
       "<?xml version=\"1.0\" encoding=\"UTF-8\" standalone=\"no\"?>\n",
       "<!DOCTYPE svg PUBLIC \"-//W3C//DTD SVG 1.1//EN\"\n",
       " \"http://www.w3.org/Graphics/SVG/1.1/DTD/svg11.dtd\">\n",
       "<!-- Generated by graphviz version 2.43.0 (0)\n",
       " -->\n",
       "<!-- Title: %3 Pages: 1 -->\n",
       "<svg width=\"62pt\" height=\"116pt\"\n",
       " viewBox=\"0.00 0.00 62.00 116.00\" xmlns=\"http://www.w3.org/2000/svg\" xmlns:xlink=\"http://www.w3.org/1999/xlink\">\n",
       "<g id=\"graph0\" class=\"graph\" transform=\"scale(1 1) rotate(0) translate(4 112)\">\n",
       "<title>%3</title>\n",
       "<polygon fill=\"white\" stroke=\"transparent\" points=\"-4,4 -4,-112 58,-112 58,4 -4,4\"/>\n",
       "<!-- A -->\n",
       "<g id=\"node1\" class=\"node\">\n",
       "<title>A</title>\n",
       "<ellipse fill=\"none\" stroke=\"black\" cx=\"27\" cy=\"-90\" rx=\"27\" ry=\"18\"/>\n",
       "<text text-anchor=\"middle\" x=\"27\" y=\"-86.3\" font-family=\"Times,serif\" font-size=\"14.00\">A</text>\n",
       "</g>\n",
       "<!-- B -->\n",
       "<g id=\"node2\" class=\"node\">\n",
       "<title>B</title>\n",
       "<ellipse fill=\"none\" stroke=\"black\" cx=\"27\" cy=\"-18\" rx=\"27\" ry=\"18\"/>\n",
       "<text text-anchor=\"middle\" x=\"27\" y=\"-14.3\" font-family=\"Times,serif\" font-size=\"14.00\">B</text>\n",
       "</g>\n",
       "<!-- A&#45;&gt;B -->\n",
       "<g id=\"edge1\" class=\"edge\">\n",
       "<title>A&#45;&gt;B</title>\n",
       "<path fill=\"none\" stroke=\"black\" d=\"M21.16,-72.41C20.3,-64.51 20.05,-54.85 20.41,-45.94\"/>\n",
       "<polygon fill=\"black\" stroke=\"black\" points=\"23.9,-46.18 21.12,-35.96 16.92,-45.68 23.9,-46.18\"/>\n",
       "</g>\n",
       "<!-- B&#45;&gt;A -->\n",
       "<g id=\"edge2\" class=\"edge\">\n",
       "<title>B&#45;&gt;A</title>\n",
       "<path fill=\"none\" stroke=\"black\" d=\"M32.88,-35.96C33.71,-43.83 33.95,-53.37 33.58,-62.19\"/>\n",
       "<polygon fill=\"black\" stroke=\"black\" points=\"30.07,-62.18 32.84,-72.41 37.06,-62.69 30.07,-62.18\"/>\n",
       "</g>\n",
       "</g>\n",
       "</svg>\n"
      ],
      "text/plain": [
       "<graphviz.graphs.Digraph at 0x7dd768fb34f0>"
      ]
     },
     "metadata": {},
     "output_type": "display_data"
    }
   ],
   "source": [
    "display(graf4)"
   ]
  },
  {
   "cell_type": "markdown",
   "metadata": {
    "id": "aJP6_4ddPHJR"
   },
   "source": [
    "Membuat satu panah yang dua arah juga bisa, dengan menentukan `dir` atau *direction* dari *edge* tersebut menjadi `\"both\"` seperti berikut:"
   ]
  },
  {
   "cell_type": "code",
   "execution_count": null,
   "metadata": {
    "id": "sf-zW7S_PHJR"
   },
   "outputs": [],
   "source": [
    "graf5 = gv.Digraph()\n",
    "graf5.edge(\"A\", \"B\", dir=\"both\")"
   ]
  },
  {
   "cell_type": "code",
   "execution_count": null,
   "metadata": {
    "colab": {
     "base_uri": "https://localhost:8080/",
     "height": 176
    },
    "id": "hDbsE8efPHJR",
    "outputId": "ca33cf60-43f6-4ebd-b4aa-38c8b9d258f2"
   },
   "outputs": [
    {
     "data": {
      "image/svg+xml": [
       "<?xml version=\"1.0\" encoding=\"UTF-8\" standalone=\"no\"?>\n",
       "<!DOCTYPE svg PUBLIC \"-//W3C//DTD SVG 1.1//EN\"\n",
       " \"http://www.w3.org/Graphics/SVG/1.1/DTD/svg11.dtd\">\n",
       "<!-- Generated by graphviz version 2.43.0 (0)\n",
       " -->\n",
       "<!-- Title: %3 Pages: 1 -->\n",
       "<svg width=\"62pt\" height=\"116pt\"\n",
       " viewBox=\"0.00 0.00 62.00 116.00\" xmlns=\"http://www.w3.org/2000/svg\" xmlns:xlink=\"http://www.w3.org/1999/xlink\">\n",
       "<g id=\"graph0\" class=\"graph\" transform=\"scale(1 1) rotate(0) translate(4 112)\">\n",
       "<title>%3</title>\n",
       "<polygon fill=\"white\" stroke=\"transparent\" points=\"-4,4 -4,-112 58,-112 58,4 -4,4\"/>\n",
       "<!-- A -->\n",
       "<g id=\"node1\" class=\"node\">\n",
       "<title>A</title>\n",
       "<ellipse fill=\"none\" stroke=\"black\" cx=\"27\" cy=\"-90\" rx=\"27\" ry=\"18\"/>\n",
       "<text text-anchor=\"middle\" x=\"27\" y=\"-86.3\" font-family=\"Times,serif\" font-size=\"14.00\">A</text>\n",
       "</g>\n",
       "<!-- B -->\n",
       "<g id=\"node2\" class=\"node\">\n",
       "<title>B</title>\n",
       "<ellipse fill=\"none\" stroke=\"black\" cx=\"27\" cy=\"-18\" rx=\"27\" ry=\"18\"/>\n",
       "<text text-anchor=\"middle\" x=\"27\" y=\"-14.3\" font-family=\"Times,serif\" font-size=\"14.00\">B</text>\n",
       "</g>\n",
       "<!-- A&#45;&gt;B -->\n",
       "<g id=\"edge1\" class=\"edge\">\n",
       "<title>A&#45;&gt;B</title>\n",
       "<path fill=\"none\" stroke=\"black\" d=\"M27,-61.67C27,-56.69 27,-51.49 27,-46.51\"/>\n",
       "<polygon fill=\"black\" stroke=\"black\" points=\"23.5,-61.7 27,-71.7 30.5,-61.7 23.5,-61.7\"/>\n",
       "<polygon fill=\"black\" stroke=\"black\" points=\"30.5,-46.1 27,-36.1 23.5,-46.1 30.5,-46.1\"/>\n",
       "</g>\n",
       "</g>\n",
       "</svg>\n"
      ],
      "text/plain": [
       "<graphviz.graphs.Digraph at 0x7dd768ffc340>"
      ]
     },
     "metadata": {},
     "output_type": "display_data"
    }
   ],
   "source": [
    "display(graf5)"
   ]
  },
  {
   "cell_type": "markdown",
   "metadata": {
    "id": "hZnE52KuPHJR"
   },
   "source": [
    "Daripada panah, kita juga bisa membuat *edge* berupa garis biasa, dengan `dir=\"none\"` (bukan `None` ya!)"
   ]
  },
  {
   "cell_type": "code",
   "execution_count": null,
   "metadata": {
    "id": "mFMhrZ4GPHJR"
   },
   "outputs": [],
   "source": [
    "graf6 = gv.Digraph()\n",
    "graf6.edge(\"A\", \"B\", dir=\"none\")"
   ]
  },
  {
   "cell_type": "code",
   "execution_count": null,
   "metadata": {
    "colab": {
     "base_uri": "https://localhost:8080/",
     "height": 176
    },
    "id": "Hku31fpPPHJR",
    "outputId": "da29c6a7-fc3a-48c0-ac1c-82724140b8ca"
   },
   "outputs": [
    {
     "data": {
      "image/svg+xml": [
       "<?xml version=\"1.0\" encoding=\"UTF-8\" standalone=\"no\"?>\n",
       "<!DOCTYPE svg PUBLIC \"-//W3C//DTD SVG 1.1//EN\"\n",
       " \"http://www.w3.org/Graphics/SVG/1.1/DTD/svg11.dtd\">\n",
       "<!-- Generated by graphviz version 2.43.0 (0)\n",
       " -->\n",
       "<!-- Title: %3 Pages: 1 -->\n",
       "<svg width=\"62pt\" height=\"116pt\"\n",
       " viewBox=\"0.00 0.00 62.00 116.00\" xmlns=\"http://www.w3.org/2000/svg\" xmlns:xlink=\"http://www.w3.org/1999/xlink\">\n",
       "<g id=\"graph0\" class=\"graph\" transform=\"scale(1 1) rotate(0) translate(4 112)\">\n",
       "<title>%3</title>\n",
       "<polygon fill=\"white\" stroke=\"transparent\" points=\"-4,4 -4,-112 58,-112 58,4 -4,4\"/>\n",
       "<!-- A -->\n",
       "<g id=\"node1\" class=\"node\">\n",
       "<title>A</title>\n",
       "<ellipse fill=\"none\" stroke=\"black\" cx=\"27\" cy=\"-90\" rx=\"27\" ry=\"18\"/>\n",
       "<text text-anchor=\"middle\" x=\"27\" y=\"-86.3\" font-family=\"Times,serif\" font-size=\"14.00\">A</text>\n",
       "</g>\n",
       "<!-- B -->\n",
       "<g id=\"node2\" class=\"node\">\n",
       "<title>B</title>\n",
       "<ellipse fill=\"none\" stroke=\"black\" cx=\"27\" cy=\"-18\" rx=\"27\" ry=\"18\"/>\n",
       "<text text-anchor=\"middle\" x=\"27\" y=\"-14.3\" font-family=\"Times,serif\" font-size=\"14.00\">B</text>\n",
       "</g>\n",
       "<!-- A&#45;&gt;B -->\n",
       "<g id=\"edge1\" class=\"edge\">\n",
       "<title>A&#45;&gt;B</title>\n",
       "<path fill=\"none\" stroke=\"black\" d=\"M27,-71.7C27,-60.85 27,-46.92 27,-36.1\"/>\n",
       "</g>\n",
       "</g>\n",
       "</svg>\n"
      ],
      "text/plain": [
       "<graphviz.graphs.Digraph at 0x7dd768ffcb80>"
      ]
     },
     "metadata": {},
     "output_type": "display_data"
    }
   ],
   "source": [
    "display(graf6)"
   ]
  },
  {
   "cell_type": "markdown",
   "metadata": {
    "id": "E16YRTk1PHJS"
   },
   "source": [
    "Sejauh ini, grafnya selalu cenderung \"dari atas ke bawah\". Daripada seperti itu, kita bisa mengubahnya menjadi kiri ke kanan untuk keseluruhan graf. Caranya, kita memasang `graph_attr` atau atribut graf, berbentuk `dict`, dan di dalamnya kita buat `\"rankdir\": \"LR\"` (*left-right*) seperti di bawah ini.\n",
    "\n",
    "Setelah objek `Digraph` dibuat, barulah tiap *edge* yang kita tambahkan akan dari kiri ke kanan."
   ]
  },
  {
   "cell_type": "code",
   "execution_count": null,
   "metadata": {
    "id": "oRRZSIpLPHJS"
   },
   "outputs": [],
   "source": [
    "graf7 = gv.Digraph(graph_attr={\"rankdir\": \"LR\"})\n",
    "graf7.edge(\"A\", \"B\")"
   ]
  },
  {
   "cell_type": "code",
   "execution_count": null,
   "metadata": {
    "colab": {
     "base_uri": "https://localhost:8080/",
     "height": 80
    },
    "id": "-62JiFcoPHJS",
    "outputId": "11d6d4e2-9557-4b78-e32d-6f17aa5a7619"
   },
   "outputs": [
    {
     "data": {
      "image/svg+xml": [
       "<?xml version=\"1.0\" encoding=\"UTF-8\" standalone=\"no\"?>\n",
       "<!DOCTYPE svg PUBLIC \"-//W3C//DTD SVG 1.1//EN\"\n",
       " \"http://www.w3.org/Graphics/SVG/1.1/DTD/svg11.dtd\">\n",
       "<!-- Generated by graphviz version 2.43.0 (0)\n",
       " -->\n",
       "<!-- Title: %3 Pages: 1 -->\n",
       "<svg width=\"152pt\" height=\"44pt\"\n",
       " viewBox=\"0.00 0.00 152.00 44.00\" xmlns=\"http://www.w3.org/2000/svg\" xmlns:xlink=\"http://www.w3.org/1999/xlink\">\n",
       "<g id=\"graph0\" class=\"graph\" transform=\"scale(1 1) rotate(0) translate(4 40)\">\n",
       "<title>%3</title>\n",
       "<polygon fill=\"white\" stroke=\"transparent\" points=\"-4,4 -4,-40 148,-40 148,4 -4,4\"/>\n",
       "<!-- A -->\n",
       "<g id=\"node1\" class=\"node\">\n",
       "<title>A</title>\n",
       "<ellipse fill=\"none\" stroke=\"black\" cx=\"27\" cy=\"-18\" rx=\"27\" ry=\"18\"/>\n",
       "<text text-anchor=\"middle\" x=\"27\" y=\"-14.3\" font-family=\"Times,serif\" font-size=\"14.00\">A</text>\n",
       "</g>\n",
       "<!-- B -->\n",
       "<g id=\"node2\" class=\"node\">\n",
       "<title>B</title>\n",
       "<ellipse fill=\"none\" stroke=\"black\" cx=\"117\" cy=\"-18\" rx=\"27\" ry=\"18\"/>\n",
       "<text text-anchor=\"middle\" x=\"117\" y=\"-14.3\" font-family=\"Times,serif\" font-size=\"14.00\">B</text>\n",
       "</g>\n",
       "<!-- A&#45;&gt;B -->\n",
       "<g id=\"edge1\" class=\"edge\">\n",
       "<title>A&#45;&gt;B</title>\n",
       "<path fill=\"none\" stroke=\"black\" d=\"M54.4,-18C62.39,-18 71.31,-18 79.82,-18\"/>\n",
       "<polygon fill=\"black\" stroke=\"black\" points=\"79.92,-21.5 89.92,-18 79.92,-14.5 79.92,-21.5\"/>\n",
       "</g>\n",
       "</g>\n",
       "</svg>\n"
      ],
      "text/plain": [
       "<graphviz.graphs.Digraph at 0x7dd768ffd060>"
      ]
     },
     "metadata": {},
     "output_type": "display_data"
    }
   ],
   "source": [
    "display(graf7)"
   ]
  },
  {
   "cell_type": "markdown",
   "metadata": {
    "id": "A6E0OHrXPHJS"
   },
   "source": [
    "Selain *node* diberi nama, *edge* juga bisa diberi keterangan, lho! Caranya, pasang nilai `label` ketika membuat *edge* baru:"
   ]
  },
  {
   "cell_type": "code",
   "execution_count": null,
   "metadata": {
    "id": "_Aunc8oGPHJS"
   },
   "outputs": [],
   "source": [
    "graf8 = gv.Digraph(graph_attr={\"rankdir\": \"LR\"})\n",
    "graf8.edge(\"A\", \"B\", label=\"test\")"
   ]
  },
  {
   "cell_type": "code",
   "execution_count": null,
   "metadata": {
    "colab": {
     "base_uri": "https://localhost:8080/",
     "height": 80
    },
    "id": "H4Ua_1IOPHJS",
    "outputId": "7b21f7d8-6ac8-4205-9d81-0b0a9a76a37f"
   },
   "outputs": [
    {
     "data": {
      "image/svg+xml": [
       "<?xml version=\"1.0\" encoding=\"UTF-8\" standalone=\"no\"?>\n",
       "<!DOCTYPE svg PUBLIC \"-//W3C//DTD SVG 1.1//EN\"\n",
       " \"http://www.w3.org/Graphics/SVG/1.1/DTD/svg11.dtd\">\n",
       "<!-- Generated by graphviz version 2.43.0 (0)\n",
       " -->\n",
       "<!-- Title: %3 Pages: 1 -->\n",
       "<svg width=\"171pt\" height=\"44pt\"\n",
       " viewBox=\"0.00 0.00 171.00 44.00\" xmlns=\"http://www.w3.org/2000/svg\" xmlns:xlink=\"http://www.w3.org/1999/xlink\">\n",
       "<g id=\"graph0\" class=\"graph\" transform=\"scale(1 1) rotate(0) translate(4 40)\">\n",
       "<title>%3</title>\n",
       "<polygon fill=\"white\" stroke=\"transparent\" points=\"-4,4 -4,-40 167,-40 167,4 -4,4\"/>\n",
       "<!-- A -->\n",
       "<g id=\"node1\" class=\"node\">\n",
       "<title>A</title>\n",
       "<ellipse fill=\"none\" stroke=\"black\" cx=\"27\" cy=\"-18\" rx=\"27\" ry=\"18\"/>\n",
       "<text text-anchor=\"middle\" x=\"27\" y=\"-14.3\" font-family=\"Times,serif\" font-size=\"14.00\">A</text>\n",
       "</g>\n",
       "<!-- B -->\n",
       "<g id=\"node2\" class=\"node\">\n",
       "<title>B</title>\n",
       "<ellipse fill=\"none\" stroke=\"black\" cx=\"136\" cy=\"-18\" rx=\"27\" ry=\"18\"/>\n",
       "<text text-anchor=\"middle\" x=\"136\" y=\"-14.3\" font-family=\"Times,serif\" font-size=\"14.00\">B</text>\n",
       "</g>\n",
       "<!-- A&#45;&gt;B -->\n",
       "<g id=\"edge1\" class=\"edge\">\n",
       "<title>A&#45;&gt;B</title>\n",
       "<path fill=\"none\" stroke=\"black\" d=\"M54.18,-18C67.52,-18 83.96,-18 98.52,-18\"/>\n",
       "<polygon fill=\"black\" stroke=\"black\" points=\"98.72,-21.5 108.72,-18 98.72,-14.5 98.72,-21.5\"/>\n",
       "<text text-anchor=\"middle\" x=\"81.5\" y=\"-21.8\" font-family=\"Times,serif\" font-size=\"14.00\">test</text>\n",
       "</g>\n",
       "</g>\n",
       "</svg>\n"
      ],
      "text/plain": [
       "<graphviz.graphs.Digraph at 0x7dd768ffd120>"
      ]
     },
     "metadata": {},
     "output_type": "display_data"
    }
   ],
   "source": [
    "display(graf8)"
   ]
  },
  {
   "cell_type": "markdown",
   "metadata": {
    "id": "UmLExdo7PHJS"
   },
   "source": [
    "Sebenarnya, di dalam suatu *node*, ada yang namanya `name` (atau ID) dan ada juga yang disebut `label`.\n",
    "\n",
    "* `label` adalah tulisan yang tampil di gambar pada *node* tersebut\n",
    "* `name` atau ID adalah sebutan yang dikenal oleh Graphviz ketika misalnya ingin membuat *edge*\n",
    "\n",
    "Selama ini, yang kita tentukan adalah `name`. Kebetulan, khusus *node*, apabila `label` tidak ditentukan, maka otomatis akan diambil dari `name`."
   ]
  },
  {
   "cell_type": "markdown",
   "metadata": {
    "id": "igBKnsTsPHJS"
   },
   "source": [
    "Berikut ini, kita bisa coba menentukan `name` dan `label` sekaligus ketika membuat *node*:"
   ]
  },
  {
   "cell_type": "code",
   "execution_count": null,
   "metadata": {
    "id": "-EDv0wZ2PHJS"
   },
   "outputs": [],
   "source": [
    "graf9 = gv.Digraph()\n",
    "graf9.node(\"matkul1\", label=\"Alprog\")\n",
    "graf9.node(\"matkul2\", label=\"Strukdat\")\n",
    "graf9.edge(\"matkul1\", \"matkul2\")"
   ]
  },
  {
   "cell_type": "code",
   "execution_count": null,
   "metadata": {
    "colab": {
     "base_uri": "https://localhost:8080/",
     "height": 176
    },
    "id": "ETa6giR0PHJS",
    "outputId": "77aa1254-d3cb-48cd-cc41-b0d4ae9b14b2"
   },
   "outputs": [
    {
     "data": {
      "image/svg+xml": [
       "<?xml version=\"1.0\" encoding=\"UTF-8\" standalone=\"no\"?>\n",
       "<!DOCTYPE svg PUBLIC \"-//W3C//DTD SVG 1.1//EN\"\n",
       " \"http://www.w3.org/Graphics/SVG/1.1/DTD/svg11.dtd\">\n",
       "<!-- Generated by graphviz version 2.43.0 (0)\n",
       " -->\n",
       "<!-- Title: %3 Pages: 1 -->\n",
       "<svg width=\"89pt\" height=\"116pt\"\n",
       " viewBox=\"0.00 0.00 88.59 116.00\" xmlns=\"http://www.w3.org/2000/svg\" xmlns:xlink=\"http://www.w3.org/1999/xlink\">\n",
       "<g id=\"graph0\" class=\"graph\" transform=\"scale(1 1) rotate(0) translate(4 112)\">\n",
       "<title>%3</title>\n",
       "<polygon fill=\"white\" stroke=\"transparent\" points=\"-4,4 -4,-112 84.59,-112 84.59,4 -4,4\"/>\n",
       "<!-- matkul1 -->\n",
       "<g id=\"node1\" class=\"node\">\n",
       "<title>matkul1</title>\n",
       "<ellipse fill=\"none\" stroke=\"black\" cx=\"40.3\" cy=\"-90\" rx=\"36\" ry=\"18\"/>\n",
       "<text text-anchor=\"middle\" x=\"40.3\" y=\"-86.3\" font-family=\"Times,serif\" font-size=\"14.00\">Alprog</text>\n",
       "</g>\n",
       "<!-- matkul2 -->\n",
       "<g id=\"node2\" class=\"node\">\n",
       "<title>matkul2</title>\n",
       "<ellipse fill=\"none\" stroke=\"black\" cx=\"40.3\" cy=\"-18\" rx=\"40.09\" ry=\"18\"/>\n",
       "<text text-anchor=\"middle\" x=\"40.3\" y=\"-14.3\" font-family=\"Times,serif\" font-size=\"14.00\">Strukdat</text>\n",
       "</g>\n",
       "<!-- matkul1&#45;&gt;matkul2 -->\n",
       "<g id=\"edge1\" class=\"edge\">\n",
       "<title>matkul1&#45;&gt;matkul2</title>\n",
       "<path fill=\"none\" stroke=\"black\" d=\"M40.3,-71.7C40.3,-63.98 40.3,-54.71 40.3,-46.11\"/>\n",
       "<polygon fill=\"black\" stroke=\"black\" points=\"43.8,-46.1 40.3,-36.1 36.8,-46.1 43.8,-46.1\"/>\n",
       "</g>\n",
       "</g>\n",
       "</svg>\n"
      ],
      "text/plain": [
       "<graphviz.graphs.Digraph at 0x7dd768ffc2e0>"
      ]
     },
     "metadata": {},
     "output_type": "display_data"
    }
   ],
   "source": [
    "display(graf9)"
   ]
  },
  {
   "cell_type": "markdown",
   "metadata": {
    "id": "snmxQvo_PHJT"
   },
   "source": [
    "Perlu dicatat, apabila kita menambahkan *edge* sekaligus membuat *node* baru, kita tidak bisa memasang `label` untuk *node* baru tersebut.\n",
    "\n",
    "Sehingga, apabila kalian ingin membuat *node* dengan `label` tertentu, yang nantinya akan disambung ke *node* lain dengan *edge*, maka sebaiknya *node* baru tersebut dibuat dengan `.node()` terlebih dahulu, barulah `name` nya digunakan ketika membuat `.edge()`"
   ]
  },
  {
   "cell_type": "markdown",
   "metadata": {
    "id": "MsDvhxDRPHJT"
   },
   "source": [
    "Selain itu, bahkan graf itu sendiri juga bisa memiliki nama, yang ditentukan ketika membuat objek grafnya."
   ]
  },
  {
   "cell_type": "code",
   "execution_count": null,
   "metadata": {
    "id": "yghsXk14PHJT"
   },
   "outputs": [],
   "source": [
    "graf10 = gv.Digraph(\"Nama graf\")\n",
    "graf10.edge(\"A\", \"B\")\n",
    "graf10.edge(\"B\", \"C\")"
   ]
  },
  {
   "cell_type": "code",
   "execution_count": null,
   "metadata": {
    "colab": {
     "base_uri": "https://localhost:8080/",
     "height": 272
    },
    "id": "DDr8lni1PHJT",
    "outputId": "e1567416-78d1-4f05-c466-141d4cc9b794"
   },
   "outputs": [
    {
     "data": {
      "image/svg+xml": [
       "<?xml version=\"1.0\" encoding=\"UTF-8\" standalone=\"no\"?>\n",
       "<!DOCTYPE svg PUBLIC \"-//W3C//DTD SVG 1.1//EN\"\n",
       " \"http://www.w3.org/Graphics/SVG/1.1/DTD/svg11.dtd\">\n",
       "<!-- Generated by graphviz version 2.43.0 (0)\n",
       " -->\n",
       "<!-- Title: Nama graf Pages: 1 -->\n",
       "<svg width=\"62pt\" height=\"188pt\"\n",
       " viewBox=\"0.00 0.00 62.00 188.00\" xmlns=\"http://www.w3.org/2000/svg\" xmlns:xlink=\"http://www.w3.org/1999/xlink\">\n",
       "<g id=\"graph0\" class=\"graph\" transform=\"scale(1 1) rotate(0) translate(4 184)\">\n",
       "<title>Nama graf</title>\n",
       "<polygon fill=\"white\" stroke=\"transparent\" points=\"-4,4 -4,-184 58,-184 58,4 -4,4\"/>\n",
       "<!-- A -->\n",
       "<g id=\"node1\" class=\"node\">\n",
       "<title>A</title>\n",
       "<ellipse fill=\"none\" stroke=\"black\" cx=\"27\" cy=\"-162\" rx=\"27\" ry=\"18\"/>\n",
       "<text text-anchor=\"middle\" x=\"27\" y=\"-158.3\" font-family=\"Times,serif\" font-size=\"14.00\">A</text>\n",
       "</g>\n",
       "<!-- B -->\n",
       "<g id=\"node2\" class=\"node\">\n",
       "<title>B</title>\n",
       "<ellipse fill=\"none\" stroke=\"black\" cx=\"27\" cy=\"-90\" rx=\"27\" ry=\"18\"/>\n",
       "<text text-anchor=\"middle\" x=\"27\" y=\"-86.3\" font-family=\"Times,serif\" font-size=\"14.00\">B</text>\n",
       "</g>\n",
       "<!-- A&#45;&gt;B -->\n",
       "<g id=\"edge1\" class=\"edge\">\n",
       "<title>A&#45;&gt;B</title>\n",
       "<path fill=\"none\" stroke=\"black\" d=\"M27,-143.7C27,-135.98 27,-126.71 27,-118.11\"/>\n",
       "<polygon fill=\"black\" stroke=\"black\" points=\"30.5,-118.1 27,-108.1 23.5,-118.1 30.5,-118.1\"/>\n",
       "</g>\n",
       "<!-- C -->\n",
       "<g id=\"node3\" class=\"node\">\n",
       "<title>C</title>\n",
       "<ellipse fill=\"none\" stroke=\"black\" cx=\"27\" cy=\"-18\" rx=\"27\" ry=\"18\"/>\n",
       "<text text-anchor=\"middle\" x=\"27\" y=\"-14.3\" font-family=\"Times,serif\" font-size=\"14.00\">C</text>\n",
       "</g>\n",
       "<!-- B&#45;&gt;C -->\n",
       "<g id=\"edge2\" class=\"edge\">\n",
       "<title>B&#45;&gt;C</title>\n",
       "<path fill=\"none\" stroke=\"black\" d=\"M27,-71.7C27,-63.98 27,-54.71 27,-46.11\"/>\n",
       "<polygon fill=\"black\" stroke=\"black\" points=\"30.5,-46.1 27,-36.1 23.5,-46.1 30.5,-46.1\"/>\n",
       "</g>\n",
       "</g>\n",
       "</svg>\n"
      ],
      "text/plain": [
       "<graphviz.graphs.Digraph at 0x7dd768ffdea0>"
      ]
     },
     "metadata": {},
     "output_type": "display_data"
    }
   ],
   "source": [
    "display(graf10)"
   ]
  },
  {
   "cell_type": "markdown",
   "metadata": {
    "id": "_ywE3f3hPHJT"
   },
   "source": [
    "Coba letakkan *mouse* kalian pada gambarnya selama beberapa detik. Akan muncul tulisan \"Nama graf\". (Kalau tidak muncul, coba klik kanan dulu, pencet \"Open image in New Tab\" atau semacamnya.)"
   ]
  },
  {
   "cell_type": "markdown",
   "metadata": {
    "id": "W4QuJC_lPHJT"
   },
   "source": [
    "Apabila kalian ingin menentukan misalnya `rankdir`, tuliskan setelah nama grafnya."
   ]
  },
  {
   "cell_type": "code",
   "execution_count": null,
   "metadata": {
    "id": "cVAB1Ek7PHJT"
   },
   "outputs": [],
   "source": [
    "graf11 = gv.Digraph(\"Graf ke kanan\", graph_attr={\"rankdir\": \"LR\"})\n",
    "graf11.edge(\"A\", \"B\")\n",
    "graf11.edge(\"B\", \"C\")"
   ]
  },
  {
   "cell_type": "code",
   "execution_count": null,
   "metadata": {
    "colab": {
     "base_uri": "https://localhost:8080/",
     "height": 80
    },
    "id": "TWLzYE1tPHJT",
    "outputId": "687364b3-8325-4d55-c036-29d22e367b44"
   },
   "outputs": [
    {
     "data": {
      "image/svg+xml": [
       "<?xml version=\"1.0\" encoding=\"UTF-8\" standalone=\"no\"?>\n",
       "<!DOCTYPE svg PUBLIC \"-//W3C//DTD SVG 1.1//EN\"\n",
       " \"http://www.w3.org/Graphics/SVG/1.1/DTD/svg11.dtd\">\n",
       "<!-- Generated by graphviz version 2.43.0 (0)\n",
       " -->\n",
       "<!-- Title: Graf ke kanan Pages: 1 -->\n",
       "<svg width=\"242pt\" height=\"44pt\"\n",
       " viewBox=\"0.00 0.00 242.00 44.00\" xmlns=\"http://www.w3.org/2000/svg\" xmlns:xlink=\"http://www.w3.org/1999/xlink\">\n",
       "<g id=\"graph0\" class=\"graph\" transform=\"scale(1 1) rotate(0) translate(4 40)\">\n",
       "<title>Graf ke kanan</title>\n",
       "<polygon fill=\"white\" stroke=\"transparent\" points=\"-4,4 -4,-40 238,-40 238,4 -4,4\"/>\n",
       "<!-- A -->\n",
       "<g id=\"node1\" class=\"node\">\n",
       "<title>A</title>\n",
       "<ellipse fill=\"none\" stroke=\"black\" cx=\"27\" cy=\"-18\" rx=\"27\" ry=\"18\"/>\n",
       "<text text-anchor=\"middle\" x=\"27\" y=\"-14.3\" font-family=\"Times,serif\" font-size=\"14.00\">A</text>\n",
       "</g>\n",
       "<!-- B -->\n",
       "<g id=\"node2\" class=\"node\">\n",
       "<title>B</title>\n",
       "<ellipse fill=\"none\" stroke=\"black\" cx=\"117\" cy=\"-18\" rx=\"27\" ry=\"18\"/>\n",
       "<text text-anchor=\"middle\" x=\"117\" y=\"-14.3\" font-family=\"Times,serif\" font-size=\"14.00\">B</text>\n",
       "</g>\n",
       "<!-- A&#45;&gt;B -->\n",
       "<g id=\"edge1\" class=\"edge\">\n",
       "<title>A&#45;&gt;B</title>\n",
       "<path fill=\"none\" stroke=\"black\" d=\"M54.4,-18C62.39,-18 71.31,-18 79.82,-18\"/>\n",
       "<polygon fill=\"black\" stroke=\"black\" points=\"79.92,-21.5 89.92,-18 79.92,-14.5 79.92,-21.5\"/>\n",
       "</g>\n",
       "<!-- C -->\n",
       "<g id=\"node3\" class=\"node\">\n",
       "<title>C</title>\n",
       "<ellipse fill=\"none\" stroke=\"black\" cx=\"207\" cy=\"-18\" rx=\"27\" ry=\"18\"/>\n",
       "<text text-anchor=\"middle\" x=\"207\" y=\"-14.3\" font-family=\"Times,serif\" font-size=\"14.00\">C</text>\n",
       "</g>\n",
       "<!-- B&#45;&gt;C -->\n",
       "<g id=\"edge2\" class=\"edge\">\n",
       "<title>B&#45;&gt;C</title>\n",
       "<path fill=\"none\" stroke=\"black\" d=\"M144.4,-18C152.39,-18 161.31,-18 169.82,-18\"/>\n",
       "<polygon fill=\"black\" stroke=\"black\" points=\"169.92,-21.5 179.92,-18 169.92,-14.5 169.92,-21.5\"/>\n",
       "</g>\n",
       "</g>\n",
       "</svg>\n"
      ],
      "text/plain": [
       "<graphviz.graphs.Digraph at 0x7dd768ffcd90>"
      ]
     },
     "metadata": {},
     "output_type": "display_data"
    }
   ],
   "source": [
    "display(graf11)"
   ]
  },
  {
   "cell_type": "markdown",
   "metadata": {
    "id": "pPE2oguWopQY"
   },
   "source": [
    "## Graphviz (Pengayaan)"
   ]
  },
  {
   "cell_type": "markdown",
   "metadata": {
    "id": "MugmPnPJPHJT"
   },
   "source": [
    "### Import/export, bahasa DOT, file `.gv`"
   ]
  },
  {
   "cell_type": "markdown",
   "metadata": {
    "id": "EmRzvoOePHJT"
   },
   "source": [
    "Sebenarnya, Graphviz melibatkan yang namanya bahasa DOT (dibaca \"dot\"), yaitu semacam \"bahasa komputer\" untuk mendeskripsikan graf, yang kemudian diolah oleh Graphviz menjadi gambar.\n",
    "\n",
    "(Sebenarnya, bahasa DOT mudah dipahami dan bisa kalian pelajari sendiri kalo iseng :D)"
   ]
  },
  {
   "cell_type": "markdown",
   "metadata": {
    "id": "tmTJtZd3PHJT"
   },
   "source": [
    "Tiap kali kita membuat graf baru dengan Graphviz melalui Python ini, Graphviz selalu menyusun bahasa DOT terlebih dahulu, baru mengolah bahasa DOT tersebut menjadi gambar."
   ]
  },
  {
   "cell_type": "markdown",
   "metadata": {
    "id": "ht05vGsxPHJT"
   },
   "source": [
    "Kita bisa melihat bahasa DOT untuk tiap graf melalui atribut `.source` seperti berikut:"
   ]
  },
  {
   "cell_type": "code",
   "execution_count": null,
   "metadata": {
    "colab": {
     "base_uri": "https://localhost:8080/"
    },
    "id": "31Y3EXP6PHJT",
    "outputId": "758c1365-b6b5-4531-d338-70dc31536ebf"
   },
   "outputs": [
    {
     "name": "stdout",
     "output_type": "stream",
     "text": [
      "digraph \"Graf ke kanan\" {\n",
      "\tgraph [rankdir=LR]\n",
      "\tA -> B\n",
      "\tB -> C\n",
      "}\n",
      "\n"
     ]
    }
   ],
   "source": [
    "print(graf11.source)"
   ]
  },
  {
   "cell_type": "markdown",
   "metadata": {
    "id": "OCfZmxQrPHJT"
   },
   "source": [
    "Kemudian, kita bisa memasukkan bahasa DOT tersebut ke dalam semacam *software* yang bisa mengolah bahasa DOT menjadi gambar. Contohnya adalah *link* berikut:\n",
    "\n",
    "[https://dreampuf.github.io/GraphvizOnline/](https://dreampuf.github.io/GraphvizOnline/)"
   ]
  },
  {
   "cell_type": "markdown",
   "metadata": {
    "id": "RwCpiZiZPHJU"
   },
   "source": [
    "Sebaliknya, dari bahasa DOT, Graphviz juga bisa membuat objek `Digraph` misalnya, menggunakan `graphviz.Source()` seperti berikut:"
   ]
  },
  {
   "cell_type": "code",
   "execution_count": null,
   "metadata": {
    "id": "8SEI83CQPHJU"
   },
   "outputs": [],
   "source": [
    "graf12 = gv.Source(\"\"\"\n",
    "digraph \"Graf ke kanan\" {\n",
    "\tgraph [rankdir=LR]\n",
    "\tA -> B\n",
    "\tB -> C\n",
    "}\n",
    "\"\"\")"
   ]
  },
  {
   "cell_type": "code",
   "execution_count": null,
   "metadata": {
    "colab": {
     "base_uri": "https://localhost:8080/",
     "height": 80
    },
    "id": "Wr55S7J5PHJU",
    "outputId": "7a033d12-5144-4619-e15d-dfacfe13b7bd"
   },
   "outputs": [
    {
     "data": {
      "image/svg+xml": [
       "<?xml version=\"1.0\" encoding=\"UTF-8\" standalone=\"no\"?>\n",
       "<!DOCTYPE svg PUBLIC \"-//W3C//DTD SVG 1.1//EN\"\n",
       " \"http://www.w3.org/Graphics/SVG/1.1/DTD/svg11.dtd\">\n",
       "<!-- Generated by graphviz version 2.43.0 (0)\n",
       " -->\n",
       "<!-- Title: Graf ke kanan Pages: 1 -->\n",
       "<svg width=\"242pt\" height=\"44pt\"\n",
       " viewBox=\"0.00 0.00 242.00 44.00\" xmlns=\"http://www.w3.org/2000/svg\" xmlns:xlink=\"http://www.w3.org/1999/xlink\">\n",
       "<g id=\"graph0\" class=\"graph\" transform=\"scale(1 1) rotate(0) translate(4 40)\">\n",
       "<title>Graf ke kanan</title>\n",
       "<polygon fill=\"white\" stroke=\"transparent\" points=\"-4,4 -4,-40 238,-40 238,4 -4,4\"/>\n",
       "<!-- A -->\n",
       "<g id=\"node1\" class=\"node\">\n",
       "<title>A</title>\n",
       "<ellipse fill=\"none\" stroke=\"black\" cx=\"27\" cy=\"-18\" rx=\"27\" ry=\"18\"/>\n",
       "<text text-anchor=\"middle\" x=\"27\" y=\"-14.3\" font-family=\"Times,serif\" font-size=\"14.00\">A</text>\n",
       "</g>\n",
       "<!-- B -->\n",
       "<g id=\"node2\" class=\"node\">\n",
       "<title>B</title>\n",
       "<ellipse fill=\"none\" stroke=\"black\" cx=\"117\" cy=\"-18\" rx=\"27\" ry=\"18\"/>\n",
       "<text text-anchor=\"middle\" x=\"117\" y=\"-14.3\" font-family=\"Times,serif\" font-size=\"14.00\">B</text>\n",
       "</g>\n",
       "<!-- A&#45;&gt;B -->\n",
       "<g id=\"edge1\" class=\"edge\">\n",
       "<title>A&#45;&gt;B</title>\n",
       "<path fill=\"none\" stroke=\"black\" d=\"M54.4,-18C62.39,-18 71.31,-18 79.82,-18\"/>\n",
       "<polygon fill=\"black\" stroke=\"black\" points=\"79.92,-21.5 89.92,-18 79.92,-14.5 79.92,-21.5\"/>\n",
       "</g>\n",
       "<!-- C -->\n",
       "<g id=\"node3\" class=\"node\">\n",
       "<title>C</title>\n",
       "<ellipse fill=\"none\" stroke=\"black\" cx=\"207\" cy=\"-18\" rx=\"27\" ry=\"18\"/>\n",
       "<text text-anchor=\"middle\" x=\"207\" y=\"-14.3\" font-family=\"Times,serif\" font-size=\"14.00\">C</text>\n",
       "</g>\n",
       "<!-- B&#45;&gt;C -->\n",
       "<g id=\"edge2\" class=\"edge\">\n",
       "<title>B&#45;&gt;C</title>\n",
       "<path fill=\"none\" stroke=\"black\" d=\"M144.4,-18C152.39,-18 161.31,-18 169.82,-18\"/>\n",
       "<polygon fill=\"black\" stroke=\"black\" points=\"169.92,-21.5 179.92,-18 169.92,-14.5 169.92,-21.5\"/>\n",
       "</g>\n",
       "</g>\n",
       "</svg>\n"
      ],
      "text/plain": [
       "<graphviz.sources.Source at 0x7dd768ffd3c0>"
      ]
     },
     "metadata": {},
     "output_type": "display_data"
    }
   ],
   "source": [
    "display(graf12)"
   ]
  },
  {
   "cell_type": "markdown",
   "metadata": {
    "id": "r7CAbot8PHJU"
   },
   "source": [
    "Selain import seperti itu, baik bahasa DOT maupun gambar yang dibuat oleh Graphviz bisa di-*export* dengan menetapkan `.format` terlebih dahulu (misalnya \"svg\" atau \"png\"), lalu menggunakan `.render()` sebagai berikut:"
   ]
  },
  {
   "cell_type": "code",
   "execution_count": null,
   "metadata": {
    "colab": {
     "base_uri": "https://localhost:8080/",
     "height": 36
    },
    "id": "WpCdOrvJPHJU",
    "outputId": "a6f31f7b-36ea-40aa-e447-696201938871"
   },
   "outputs": [
    {
     "data": {
      "application/vnd.google.colaboratory.intrinsic+json": {
       "type": "string"
      },
      "text/plain": [
       "'Graf ke kanan.gv.svg'"
      ]
     },
     "execution_count": 31,
     "metadata": {},
     "output_type": "execute_result"
    }
   ],
   "source": [
    "graf11.format = \"svg\"\n",
    "graf11.render()"
   ]
  },
  {
   "cell_type": "markdown",
   "metadata": {
    "id": "4WWF1vTjPHJU"
   },
   "source": [
    "Maka ada *file* baru yang muncul.\n",
    "\n",
    "* Apabila menggunakan Google Colaboratory, silakan tekan tombol folder di sebelah kiri.\n",
    "* Apabila menggunakan Jupyter Notebook, silakan periksa folder yang di dalamnya ada *file* `.ipynb` yang sedang kalian gunakan.\n",
    "\n",
    "Akan muncul dua *file* baru, yaitu:\n",
    "\n",
    "1. `Graf ke kanan.gv`\n",
    "2. `Graf ke kanan.gv.svg`\n",
    "\n",
    "*File* pertama adalah *file* `.gv` (Graphviz) yang mengandung bahasa DOT yang disusun sebelum diolah menjadi gambar. *File* kedua adalah *file* gambar yang diolah, dalam format sesuai dengan yang kita tentukan."
   ]
  },
  {
   "cell_type": "markdown",
   "metadata": {
    "id": "hOUpn8doPHJU"
   },
   "source": [
    "Kita bisa membaca isi `Graf ke kanan.gv` sebagaimana kita membaca isi *text file*:"
   ]
  },
  {
   "cell_type": "code",
   "execution_count": null,
   "metadata": {
    "colab": {
     "base_uri": "https://localhost:8080/"
    },
    "id": "jynjAobEPHJU",
    "outputId": "758f63fd-aa5d-4a68-beec-b7604eaa0553"
   },
   "outputs": [
    {
     "name": "stdout",
     "output_type": "stream",
     "text": [
      "digraph \"Graf ke kanan\" {\n",
      "\tgraph [rankdir=LR]\n",
      "\tA -> B\n",
      "\tB -> C\n",
      "}\n",
      "\n"
     ]
    }
   ],
   "source": [
    "with open(\"Graf ke kanan.gv\", \"r\") as isi:\n",
    "    print(isi.read())"
   ]
  },
  {
   "cell_type": "markdown",
   "metadata": {
    "id": "pm4QlhEcPHJU"
   },
   "source": [
    "Selain itu, perhatikan bahwa nama *file* nya sesuai dengan nama graf yang kita tentukan ketika membuat objek `graf11` tadi. Kalau lupa, kita bisa memeriksa nama graf melalui atribut `.nama`"
   ]
  },
  {
   "cell_type": "code",
   "execution_count": null,
   "metadata": {
    "colab": {
     "base_uri": "https://localhost:8080/"
    },
    "id": "ZaTj1Jg8PHJU",
    "outputId": "fae3d3f2-aa21-42ab-82db-d31630fdbfa6"
   },
   "outputs": [
    {
     "name": "stdout",
     "output_type": "stream",
     "text": [
      "Graf ke kanan\n"
     ]
    }
   ],
   "source": [
    "print(graf11.name)"
   ]
  },
  {
   "cell_type": "markdown",
   "metadata": {
    "id": "0RmE20REPHJU"
   },
   "source": [
    "Dengan atribut itu pula, kita bisa mengubah nama grafnya:"
   ]
  },
  {
   "cell_type": "code",
   "execution_count": null,
   "metadata": {
    "id": "s5DIcgYIPHJU"
   },
   "outputs": [],
   "source": [
    "graf11.name = \"Nama baru\""
   ]
  },
  {
   "cell_type": "markdown",
   "metadata": {
    "id": "yQo_0aqPPHJU"
   },
   "source": [
    "Sehingga, ketika misalnya Graphviz menyusun bahasa DOT, akan digunakan nama yang baru:"
   ]
  },
  {
   "cell_type": "code",
   "execution_count": null,
   "metadata": {
    "colab": {
     "base_uri": "https://localhost:8080/"
    },
    "id": "VWJMs3MHPHJV",
    "outputId": "e76b236a-f03e-41e5-9b33-325676d67ded"
   },
   "outputs": [
    {
     "name": "stdout",
     "output_type": "stream",
     "text": [
      "digraph \"Nama baru\" {\n",
      "\tgraph [rankdir=LR]\n",
      "\tA -> B\n",
      "\tB -> C\n",
      "}\n",
      "\n"
     ]
    }
   ],
   "source": [
    "print(graf11.source)"
   ]
  },
  {
   "cell_type": "markdown",
   "metadata": {
    "id": "ysOJ5pRsPHJV"
   },
   "source": [
    "### Variasi *node* dengan *HTML-like labels*"
   ]
  },
  {
   "cell_type": "markdown",
   "metadata": {
    "id": "7bFvRwWPPHJV"
   },
   "source": [
    "Ingat atribut `label` yang bisa dipasang ketika membuat suatu *node*? Sebenarnya, kita bisa memanfaatkan atribut tersebut untuk membuat bentuk *node* sesuka hati kita, lho! Terutama, kita bisa membuat *node* dengan bentuk seperti tabel."
   ]
  },
  {
   "cell_type": "markdown",
   "metadata": {
    "id": "vh8xoL9tPHJV"
   },
   "source": [
    "Penulisan `label` seperti tabel ini mirip seperti struktur bahasa HTML, sehingga disebut ***HTML-like labels***."
   ]
  },
  {
   "cell_type": "markdown",
   "metadata": {
    "id": "HVGQSA8BPHJV"
   },
   "source": [
    "Perhatikan *syntax* (penulisan) berikut."
   ]
  },
  {
   "cell_type": "code",
   "execution_count": null,
   "metadata": {
    "id": "xkRHuxPOPHJV"
   },
   "outputs": [],
   "source": [
    "graf13 = gv.Digraph()\n",
    "graf13.node(\"A\", shape=\"none\", label=\"\"\"<\n",
    "<TABLE>\n",
    "    <TR>\n",
    "        <TD>P</TD>\n",
    "        <TD>Q</TD>\n",
    "    </TR>\n",
    "    <TR>\n",
    "        <TD>R</TD>\n",
    "        <TD>S</TD>\n",
    "    </TR>\n",
    "</TABLE>\n",
    ">\"\"\")\n",
    "\n",
    "graf13.node(\"B\") # node biasa\n",
    "graf13.edge(\"A\", \"B\")"
   ]
  },
  {
   "cell_type": "code",
   "execution_count": null,
   "metadata": {
    "colab": {
     "base_uri": "https://localhost:8080/",
     "height": 205
    },
    "id": "TjWNq84vPHJV",
    "outputId": "3d7d97b4-9842-4634-f986-99bc7e1c6cfc"
   },
   "outputs": [
    {
     "data": {
      "image/svg+xml": [
       "<?xml version=\"1.0\" encoding=\"UTF-8\" standalone=\"no\"?>\n",
       "<!DOCTYPE svg PUBLIC \"-//W3C//DTD SVG 1.1//EN\"\n",
       " \"http://www.w3.org/Graphics/SVG/1.1/DTD/svg11.dtd\">\n",
       "<!-- Generated by graphviz version 2.43.0 (0)\n",
       " -->\n",
       "<!-- Title: %3 Pages: 1 -->\n",
       "<svg width=\"64pt\" height=\"138pt\"\n",
       " viewBox=\"0.00 0.00 64.00 138.00\" xmlns=\"http://www.w3.org/2000/svg\" xmlns:xlink=\"http://www.w3.org/1999/xlink\">\n",
       "<g id=\"graph0\" class=\"graph\" transform=\"scale(1 1) rotate(0) translate(4 134)\">\n",
       "<title>%3</title>\n",
       "<polygon fill=\"white\" stroke=\"transparent\" points=\"-4,4 -4,-134 60,-134 60,4 -4,4\"/>\n",
       "<!-- A -->\n",
       "<g id=\"node1\" class=\"node\">\n",
       "<title>A</title>\n",
       "<polygon fill=\"none\" stroke=\"black\" points=\"11,-102 11,-123 27,-123 27,-102 11,-102\"/>\n",
       "<text text-anchor=\"start\" x=\"15\" y=\"-108.8\" font-family=\"Times,serif\" font-size=\"14.00\">P</text>\n",
       "<polygon fill=\"none\" stroke=\"black\" points=\"29,-102 29,-123 45,-123 45,-102 29,-102\"/>\n",
       "<text text-anchor=\"start\" x=\"32\" y=\"-108.8\" font-family=\"Times,serif\" font-size=\"14.00\">Q</text>\n",
       "<polygon fill=\"none\" stroke=\"black\" points=\"11,-79 11,-100 27,-100 27,-79 11,-79\"/>\n",
       "<text text-anchor=\"start\" x=\"14\" y=\"-85.8\" font-family=\"Times,serif\" font-size=\"14.00\">R</text>\n",
       "<polygon fill=\"none\" stroke=\"black\" points=\"29,-79 29,-100 45,-100 45,-79 29,-79\"/>\n",
       "<text text-anchor=\"start\" x=\"33\" y=\"-85.8\" font-family=\"Times,serif\" font-size=\"14.00\">S</text>\n",
       "<polygon fill=\"none\" stroke=\"black\" points=\"8,-76 8,-126 48,-126 48,-76 8,-76\"/>\n",
       "</g>\n",
       "<!-- B -->\n",
       "<g id=\"node2\" class=\"node\">\n",
       "<title>B</title>\n",
       "<ellipse fill=\"none\" stroke=\"black\" cx=\"28\" cy=\"-18\" rx=\"27\" ry=\"18\"/>\n",
       "<text text-anchor=\"middle\" x=\"28\" y=\"-14.3\" font-family=\"Times,serif\" font-size=\"14.00\">B</text>\n",
       "</g>\n",
       "<!-- A&#45;&gt;B -->\n",
       "<g id=\"edge1\" class=\"edge\">\n",
       "<title>A&#45;&gt;B</title>\n",
       "<path fill=\"none\" stroke=\"black\" d=\"M28,-71.67C28,-63.42 28,-54.43 28,-46.25\"/>\n",
       "<polygon fill=\"black\" stroke=\"black\" points=\"31.5,-46.1 28,-36.1 24.5,-46.1 31.5,-46.1\"/>\n",
       "</g>\n",
       "</g>\n",
       "</svg>\n"
      ],
      "text/plain": [
       "<graphviz.graphs.Digraph at 0x7dd768fff5b0>"
      ]
     },
     "metadata": {},
     "output_type": "display_data"
    }
   ],
   "source": [
    "display(graf13)"
   ]
  },
  {
   "cell_type": "markdown",
   "metadata": {
    "id": "oW-DM5zvPHJV"
   },
   "source": [
    "Perhatikan,\n",
    "\n",
    "1. Ketika membuat *node* yang ingin berbentuk tabel, ditambahkan atribut `shape=\"none\"` (bukan `None`) di samping menulis `label` nya.\n",
    "2. `label` berupa *long string*, sehingga diawali dan diakhiri dengan tiga tanda kutip.\n",
    "3. Karakter pertama dari *long string* tersebut haruslah `<` dan karakter terakhir haruslah `>`\n",
    "4. Kemudian, penulisan tabel diawali dengan penulisan `<TABLE>`, kemudian `<TR>` (*table row*) untuk tiap baris, lalu `<TD>` (*table data*) untuk tiap sel. Masing-masing selalu ditutup dengan `</TD>`, `</TR>`, dan `</TABLE>`, bagaikan keberadaan `endif`, `endfor`, `endwhile` dan sebagainya di *pseudocode*."
   ]
  },
  {
   "cell_type": "markdown",
   "metadata": {
    "id": "qb9UAW8-PHJV"
   },
   "source": [
    "Agar lebih bagus, di bagian `<TABLE>` kita bisa menambahkan:\n",
    "\n",
    "`BORDER=\"0\" CELLBORDER=\"1\" CELLSPACING=\"0\"`\n",
    "\n",
    "Seperti berikut:"
   ]
  },
  {
   "cell_type": "code",
   "execution_count": null,
   "metadata": {
    "id": "j_n8mjKRPHJV"
   },
   "outputs": [],
   "source": [
    "graf14 = gv.Digraph()\n",
    "graf14.node(\"A\", shape=\"none\", label=\"\"\"<\n",
    "<TABLE BORDER=\"0\" CELLBORDER=\"1\" CELLSPACING=\"0\">\n",
    "    <TR>\n",
    "        <TD>P</TD>\n",
    "        <TD>Q</TD>\n",
    "    </TR>\n",
    "    <TR>\n",
    "        <TD>R</TD>\n",
    "        <TD>S</TD>\n",
    "    </TR>\n",
    "</TABLE>\n",
    ">\"\"\")\n",
    "\n",
    "graf14.node(\"B\")\n",
    "graf14.edge(\"A\", \"B\")"
   ]
  },
  {
   "cell_type": "code",
   "execution_count": null,
   "metadata": {
    "colab": {
     "base_uri": "https://localhost:8080/",
     "height": 194
    },
    "id": "BvjjuhYDPHJV",
    "outputId": "06aded07-7c38-4e8c-a510-48753a1f4251"
   },
   "outputs": [
    {
     "data": {
      "image/svg+xml": [
       "<?xml version=\"1.0\" encoding=\"UTF-8\" standalone=\"no\"?>\n",
       "<!DOCTYPE svg PUBLIC \"-//W3C//DTD SVG 1.1//EN\"\n",
       " \"http://www.w3.org/Graphics/SVG/1.1/DTD/svg11.dtd\">\n",
       "<!-- Generated by graphviz version 2.43.0 (0)\n",
       " -->\n",
       "<!-- Title: %3 Pages: 1 -->\n",
       "<svg width=\"62pt\" height=\"130pt\"\n",
       " viewBox=\"0.00 0.00 62.00 130.00\" xmlns=\"http://www.w3.org/2000/svg\" xmlns:xlink=\"http://www.w3.org/1999/xlink\">\n",
       "<g id=\"graph0\" class=\"graph\" transform=\"scale(1 1) rotate(0) translate(4 126)\">\n",
       "<title>%3</title>\n",
       "<polygon fill=\"white\" stroke=\"transparent\" points=\"-4,4 -4,-126 58,-126 58,4 -4,4\"/>\n",
       "<!-- A -->\n",
       "<g id=\"node1\" class=\"node\">\n",
       "<title>A</title>\n",
       "<polygon fill=\"none\" stroke=\"black\" points=\"11,-97 11,-118 27,-118 27,-97 11,-97\"/>\n",
       "<text text-anchor=\"start\" x=\"15\" y=\"-103.8\" font-family=\"Times,serif\" font-size=\"14.00\">P</text>\n",
       "<polygon fill=\"none\" stroke=\"black\" points=\"27,-97 27,-118 43,-118 43,-97 27,-97\"/>\n",
       "<text text-anchor=\"start\" x=\"30\" y=\"-103.8\" font-family=\"Times,serif\" font-size=\"14.00\">Q</text>\n",
       "<polygon fill=\"none\" stroke=\"black\" points=\"11,-76 11,-97 27,-97 27,-76 11,-76\"/>\n",
       "<text text-anchor=\"start\" x=\"14\" y=\"-82.8\" font-family=\"Times,serif\" font-size=\"14.00\">R</text>\n",
       "<polygon fill=\"none\" stroke=\"black\" points=\"27,-76 27,-97 43,-97 43,-76 27,-76\"/>\n",
       "<text text-anchor=\"start\" x=\"31\" y=\"-82.8\" font-family=\"Times,serif\" font-size=\"14.00\">S</text>\n",
       "</g>\n",
       "<!-- B -->\n",
       "<g id=\"node2\" class=\"node\">\n",
       "<title>B</title>\n",
       "<ellipse fill=\"none\" stroke=\"black\" cx=\"27\" cy=\"-18\" rx=\"27\" ry=\"18\"/>\n",
       "<text text-anchor=\"middle\" x=\"27\" y=\"-14.3\" font-family=\"Times,serif\" font-size=\"14.00\">B</text>\n",
       "</g>\n",
       "<!-- A&#45;&gt;B -->\n",
       "<g id=\"edge1\" class=\"edge\">\n",
       "<title>A&#45;&gt;B</title>\n",
       "<path fill=\"none\" stroke=\"black\" d=\"M27,-71.64C27,-63.67 27,-54.77 27,-46.58\"/>\n",
       "<polygon fill=\"black\" stroke=\"black\" points=\"30.5,-46.38 27,-36.38 23.5,-46.38 30.5,-46.38\"/>\n",
       "</g>\n",
       "</g>\n",
       "</svg>\n"
      ],
      "text/plain": [
       "<graphviz.graphs.Digraph at 0x7dd768fff0d0>"
      ]
     },
     "metadata": {},
     "output_type": "display_data"
    }
   ],
   "source": [
    "display(graf14)"
   ]
  },
  {
   "cell_type": "markdown",
   "metadata": {
    "id": "64sSdMH5PHJV"
   },
   "source": [
    "Bagaimana kalau misalnya kita ingin panahnya seperti \"berasal\" dari sel tertentu? Caranya, kita bisa membuat yang namanya `port`, misalnya di sel R, kemudian *edge* yang dibuat akan kita sambung dari port tersebut, seperti berikut:"
   ]
  },
  {
   "cell_type": "code",
   "execution_count": null,
   "metadata": {
    "id": "7lM21ilPPHJV"
   },
   "outputs": [],
   "source": [
    "graf15 = gv.Digraph()\n",
    "graf15.node(\"A\", shape=\"none\", label=\"\"\"<\n",
    "<TABLE BORDER=\"0\" CELLBORDER=\"1\" CELLSPACING=\"0\">\n",
    "    <TR>\n",
    "        <TD>P</TD>\n",
    "        <TD>Q</TD>\n",
    "    </TR>\n",
    "    <TR>\n",
    "        <TD PORT=\"port1\">R</TD>\n",
    "        <TD>S</TD>\n",
    "    </TR>\n",
    "</TABLE>\n",
    ">\"\"\")\n",
    "\n",
    "graf15.node(\"B\")\n",
    "graf15.edge(\"A:port1\", \"B\")"
   ]
  },
  {
   "cell_type": "code",
   "execution_count": null,
   "metadata": {
    "colab": {
     "base_uri": "https://localhost:8080/",
     "height": 194
    },
    "id": "avDsIx2RPHJV",
    "outputId": "232c979e-867a-483d-96c6-4be0504eee60"
   },
   "outputs": [
    {
     "data": {
      "image/svg+xml": [
       "<?xml version=\"1.0\" encoding=\"UTF-8\" standalone=\"no\"?>\n",
       "<!DOCTYPE svg PUBLIC \"-//W3C//DTD SVG 1.1//EN\"\n",
       " \"http://www.w3.org/Graphics/SVG/1.1/DTD/svg11.dtd\">\n",
       "<!-- Generated by graphviz version 2.43.0 (0)\n",
       " -->\n",
       "<!-- Title: %3 Pages: 1 -->\n",
       "<svg width=\"70pt\" height=\"130pt\"\n",
       " viewBox=\"0.00 0.00 70.00 130.00\" xmlns=\"http://www.w3.org/2000/svg\" xmlns:xlink=\"http://www.w3.org/1999/xlink\">\n",
       "<g id=\"graph0\" class=\"graph\" transform=\"scale(1 1) rotate(0) translate(4 126)\">\n",
       "<title>%3</title>\n",
       "<polygon fill=\"white\" stroke=\"transparent\" points=\"-4,4 -4,-126 66,-126 66,4 -4,4\"/>\n",
       "<!-- A -->\n",
       "<g id=\"node1\" class=\"node\">\n",
       "<title>A</title>\n",
       "<polygon fill=\"none\" stroke=\"black\" points=\"19,-97 19,-118 35,-118 35,-97 19,-97\"/>\n",
       "<text text-anchor=\"start\" x=\"23\" y=\"-103.8\" font-family=\"Times,serif\" font-size=\"14.00\">P</text>\n",
       "<polygon fill=\"none\" stroke=\"black\" points=\"35,-97 35,-118 51,-118 51,-97 35,-97\"/>\n",
       "<text text-anchor=\"start\" x=\"38\" y=\"-103.8\" font-family=\"Times,serif\" font-size=\"14.00\">Q</text>\n",
       "<polygon fill=\"none\" stroke=\"black\" points=\"19,-76 19,-97 35,-97 35,-76 19,-76\"/>\n",
       "<text text-anchor=\"start\" x=\"22\" y=\"-82.8\" font-family=\"Times,serif\" font-size=\"14.00\">R</text>\n",
       "<polygon fill=\"none\" stroke=\"black\" points=\"35,-76 35,-97 51,-97 51,-76 35,-76\"/>\n",
       "<text text-anchor=\"start\" x=\"39\" y=\"-82.8\" font-family=\"Times,serif\" font-size=\"14.00\">S</text>\n",
       "</g>\n",
       "<!-- B -->\n",
       "<g id=\"node2\" class=\"node\">\n",
       "<title>B</title>\n",
       "<ellipse fill=\"none\" stroke=\"black\" cx=\"27\" cy=\"-18\" rx=\"27\" ry=\"18\"/>\n",
       "<text text-anchor=\"middle\" x=\"27\" y=\"-14.3\" font-family=\"Times,serif\" font-size=\"14.00\">B</text>\n",
       "</g>\n",
       "<!-- A&#45;&gt;B -->\n",
       "<g id=\"edge1\" class=\"edge\">\n",
       "<title>A:port1&#45;&gt;B</title>\n",
       "<path fill=\"none\" stroke=\"black\" d=\"M27,-75C27,-65.64 27,-55.39 27,-46.25\"/>\n",
       "<polygon fill=\"black\" stroke=\"black\" points=\"30.5,-46.16 27,-36.16 23.5,-46.16 30.5,-46.16\"/>\n",
       "</g>\n",
       "</g>\n",
       "</svg>\n"
      ],
      "text/plain": [
       "<graphviz.graphs.Digraph at 0x7dd769038100>"
      ]
     },
     "metadata": {},
     "output_type": "display_data"
    }
   ],
   "source": [
    "display(graf15)"
   ]
  },
  {
   "cell_type": "markdown",
   "metadata": {
    "id": "iSLff9E4PHJV"
   },
   "source": [
    "Kalau di Microsoft Excel atau Google Sheets, kita bisa melakukan *merge* beberapa sel, entah secara horizontal atau vertikal atau bahkan dua-duanya. Ketika menyusun *HTML-like labels*, kita bisa menggunakan `COLSPAN` (merentang beberapa kolom) dan `ROWSPAN` (merentang beberapa baris) untuk membuat efek seperti di-*merge*."
   ]
  },
  {
   "cell_type": "code",
   "execution_count": null,
   "metadata": {
    "id": "JT1cFnpNPHJV"
   },
   "outputs": [],
   "source": [
    "graf16 = gv.Digraph()\n",
    "graf16.node(\"A\", shape=\"none\", label=\"\"\"<\n",
    "<TABLE BORDER=\"0\" CELLBORDER=\"1\" CELLSPACING=\"0\">\n",
    "    <TR>\n",
    "        <TD ROWSPAN=\"2\">P</TD>\n",
    "        <TD COLSPAN=\"2\">Q</TD>\n",
    "    </TR>\n",
    "    <TR>\n",
    "        <TD>R</TD>\n",
    "        <TD>S</TD>\n",
    "    </TR>\n",
    "</TABLE>\n",
    ">\"\"\")\n",
    "\n",
    "graf16.node(\"B\")\n",
    "graf16.edge(\"A\", \"B\")"
   ]
  },
  {
   "cell_type": "code",
   "execution_count": null,
   "metadata": {
    "colab": {
     "base_uri": "https://localhost:8080/",
     "height": 194
    },
    "id": "lIvUDtnGPHJW",
    "outputId": "fe26462b-fcf3-4004-ad7c-bcd4eb7d8a68"
   },
   "outputs": [
    {
     "data": {
      "image/svg+xml": [
       "<?xml version=\"1.0\" encoding=\"UTF-8\" standalone=\"no\"?>\n",
       "<!DOCTYPE svg PUBLIC \"-//W3C//DTD SVG 1.1//EN\"\n",
       " \"http://www.w3.org/Graphics/SVG/1.1/DTD/svg11.dtd\">\n",
       "<!-- Generated by graphviz version 2.43.0 (0)\n",
       " -->\n",
       "<!-- Title: %3 Pages: 1 -->\n",
       "<svg width=\"68pt\" height=\"130pt\"\n",
       " viewBox=\"0.00 0.00 68.00 130.00\" xmlns=\"http://www.w3.org/2000/svg\" xmlns:xlink=\"http://www.w3.org/1999/xlink\">\n",
       "<g id=\"graph0\" class=\"graph\" transform=\"scale(1 1) rotate(0) translate(4 126)\">\n",
       "<title>%3</title>\n",
       "<polygon fill=\"white\" stroke=\"transparent\" points=\"-4,4 -4,-126 64,-126 64,4 -4,4\"/>\n",
       "<!-- A -->\n",
       "<g id=\"node1\" class=\"node\">\n",
       "<title>A</title>\n",
       "<polygon fill=\"none\" stroke=\"black\" points=\"8,-76 8,-118 22,-118 22,-76 8,-76\"/>\n",
       "<text text-anchor=\"start\" x=\"11\" y=\"-93.3\" font-family=\"Times,serif\" font-size=\"14.00\">P</text>\n",
       "<polygon fill=\"none\" stroke=\"black\" points=\"22,-97 22,-118 52,-118 52,-97 22,-97\"/>\n",
       "<text text-anchor=\"start\" x=\"32\" y=\"-103.8\" font-family=\"Times,serif\" font-size=\"14.00\">Q</text>\n",
       "<polygon fill=\"none\" stroke=\"black\" points=\"22,-76 22,-97 38,-97 38,-76 22,-76\"/>\n",
       "<text text-anchor=\"start\" x=\"25\" y=\"-82.8\" font-family=\"Times,serif\" font-size=\"14.00\">R</text>\n",
       "<polygon fill=\"none\" stroke=\"black\" points=\"38,-76 38,-97 52,-97 52,-76 38,-76\"/>\n",
       "<text text-anchor=\"start\" x=\"41\" y=\"-82.8\" font-family=\"Times,serif\" font-size=\"14.00\">S</text>\n",
       "</g>\n",
       "<!-- B -->\n",
       "<g id=\"node2\" class=\"node\">\n",
       "<title>B</title>\n",
       "<ellipse fill=\"none\" stroke=\"black\" cx=\"30\" cy=\"-18\" rx=\"27\" ry=\"18\"/>\n",
       "<text text-anchor=\"middle\" x=\"30\" y=\"-14.3\" font-family=\"Times,serif\" font-size=\"14.00\">B</text>\n",
       "</g>\n",
       "<!-- A&#45;&gt;B -->\n",
       "<g id=\"edge1\" class=\"edge\">\n",
       "<title>A&#45;&gt;B</title>\n",
       "<path fill=\"none\" stroke=\"black\" d=\"M30,-71.64C30,-63.67 30,-54.77 30,-46.58\"/>\n",
       "<polygon fill=\"black\" stroke=\"black\" points=\"33.5,-46.38 30,-36.38 26.5,-46.38 33.5,-46.38\"/>\n",
       "</g>\n",
       "</g>\n",
       "</svg>\n"
      ],
      "text/plain": [
       "<graphviz.graphs.Digraph at 0x7dd769038a60>"
      ]
     },
     "metadata": {},
     "output_type": "display_data"
    }
   ],
   "source": [
    "display(graf16)"
   ]
  },
  {
   "cell_type": "markdown",
   "metadata": {
    "id": "VHXuiCa2PHJW"
   },
   "source": [
    "## *(Singly) Linked List*"
   ]
  },
  {
   "cell_type": "markdown",
   "metadata": {
    "id": "Kx4yLgx8PHJW"
   },
   "source": [
    "*Singly-linked list* (seringkali disebut *linked list* saja) adalah semacam \"rantai\" dari *node*, di mana tiap *node* berisi 2 nilai, yaitu `data` dan `next` (yaitu *pointer* ke *node* lain). *Node* yang paling pertama itu ditunjuk oleh suatu *pointer* bernama `head`, yang menjadi awal dari *linked list*.\n",
    "\n",
    "(Terkadang, *pointer* `next` ditulis `LINK`. Artinya dan kegunaannya sama.)"
   ]
  },
  {
   "cell_type": "markdown",
   "metadata": {
    "id": "8YSOZTwsPHJW"
   },
   "source": [
    "Pertama-tama, kita buat struktur *node* terlebih dahulu menggunakan `class`. (Apabila *pointer* `next` tidak menunjuk ke apapun, biasanya ditulis `NULL` atau di sini `None`.)\n",
    "\n",
    "Biasanya, di kuliah, disebutnya `class Node` atau `Node` saja. Namun, berhubung modul ini akan membahas *doubly-linked list* dengan struktur yang agak berbeda, maka *node* untuk *singly-linked list* akan kita sebut `SLNode` (*singly-linked node*) agar berbeda."
   ]
  },
  {
   "cell_type": "code",
   "execution_count": null,
   "metadata": {
    "id": "KheZldUPPHJW"
   },
   "outputs": [],
   "source": [
    "class SLNode:\n",
    "    def __init__(self, data, next=None):\n",
    "        self.data = data\n",
    "        self.next = next"
   ]
  },
  {
   "cell_type": "markdown",
   "metadata": {
    "id": "44sHPIKnPHJW"
   },
   "source": [
    "Kita bisa bermain-main dengan *node* ini sebagaimana yang dibahas di kuliah. Misalnya, kita buat *node* baru yang menyimpan data 15:"
   ]
  },
  {
   "cell_type": "code",
   "execution_count": null,
   "metadata": {
    "id": "hRwtmIWrPHJW"
   },
   "outputs": [],
   "source": [
    "p = SLNode(15)"
   ]
  },
  {
   "cell_type": "markdown",
   "metadata": {
    "id": "h-Cq2IdrPHJW"
   },
   "source": [
    "Saat ini, *node* tersebut ditunjuk oleh *pointer* yang di sini kita sebut `p`. Secara tidak langsung, kita telah membuat *linked list* dengan `head` nya adalah `p`."
   ]
  },
  {
   "cell_type": "markdown",
   "metadata": {
    "id": "hURDIsRyPHJW"
   },
   "source": [
    "Kita bisa mengakses data yang disimpan di `data` dan juga alamat yang tersimpan di `next`:"
   ]
  },
  {
   "cell_type": "code",
   "execution_count": null,
   "metadata": {
    "colab": {
     "base_uri": "https://localhost:8080/"
    },
    "id": "k3a2FNX8PHJW",
    "outputId": "439ab7ec-f991-408f-b281-2b05ec233d10"
   },
   "outputs": [
    {
     "name": "stdout",
     "output_type": "stream",
     "text": [
      "15\n"
     ]
    }
   ],
   "source": [
    "print(p.data)"
   ]
  },
  {
   "cell_type": "code",
   "execution_count": null,
   "metadata": {
    "colab": {
     "base_uri": "https://localhost:8080/"
    },
    "id": "_t8FxzhMPHJW",
    "outputId": "02b3980a-bac6-4a57-c518-da08f36b9514"
   },
   "outputs": [
    {
     "name": "stdout",
     "output_type": "stream",
     "text": [
      "None\n"
     ]
    }
   ],
   "source": [
    "print(p.next)"
   ]
  },
  {
   "cell_type": "markdown",
   "metadata": {
    "id": "MQRw8mmVPHJW"
   },
   "source": [
    "Saat ini, *node* yang ditunjuk oleh `p` itu belum menunjuk ke manapun, sehingga `p.next` masih bernilai `None`."
   ]
  },
  {
   "cell_type": "markdown",
   "metadata": {
    "id": "End49NeVPHJW"
   },
   "source": [
    "Kita bisa melihat alamat dari *node* itu sendiri menggunakan `id`:"
   ]
  },
  {
   "cell_type": "code",
   "execution_count": null,
   "metadata": {
    "colab": {
     "base_uri": "https://localhost:8080/"
    },
    "id": "jo-Tmb0bPHJW",
    "outputId": "32f40246-efd1-48ea-99a3-485da28e734c"
   },
   "outputs": [
    {
     "name": "stdout",
     "output_type": "stream",
     "text": [
      "138364133282848\n"
     ]
    }
   ],
   "source": [
    "print(id(p))"
   ]
  },
  {
   "cell_type": "markdown",
   "metadata": {
    "id": "m3C8i2YlPHJW"
   },
   "source": [
    "Alamat ini akan selalu berbeda tiap kali kita membuat *node* baru, dan di antara dua komputer kemungkinan besar juga berbeda. Memang wajar apabila alamat yang kalian dapatkan itu berbeda dengan yang tertera di modul."
   ]
  },
  {
   "cell_type": "markdown",
   "metadata": {
    "id": "8dcOJrVRPHJW"
   },
   "source": [
    "Namun, alamat biasanya ditampilkan dalam bentuk heksadesimal (*base-16*), sedangkan yang kita dapatkan dengan `id` masih berupa bilangan bulat desimal (*base-10*). Kita bisa menggunakan `hex` untuk mengubah *base-10* menjadi *base-16*:"
   ]
  },
  {
   "cell_type": "code",
   "execution_count": null,
   "metadata": {
    "colab": {
     "base_uri": "https://localhost:8080/"
    },
    "id": "Os8bnKYvPHJX",
    "outputId": "1e171a67-37d9-40fc-b300-32d486ec7340"
   },
   "outputs": [
    {
     "name": "stdout",
     "output_type": "stream",
     "text": [
      "0x7dd769039420\n"
     ]
    }
   ],
   "source": [
    "print(hex(id(p)))"
   ]
  },
  {
   "cell_type": "markdown",
   "metadata": {
    "id": "ZHQsoan4PHJX"
   },
   "source": [
    "Awalan `0x` itu hanya penanda bahwa bilangannya berupa heksadesimal."
   ]
  },
  {
   "cell_type": "markdown",
   "metadata": {
    "id": "i2u_u4H9PHJX"
   },
   "source": [
    "Selanjutnya, kita bisa membuat *node* baru di `p.next`, yaitu yang ditunjuk oleh `p`, sebagai berikut:"
   ]
  },
  {
   "cell_type": "code",
   "execution_count": null,
   "metadata": {
    "id": "1SxFREWvPHJX"
   },
   "outputs": [],
   "source": [
    "p.next = SLNode(28)"
   ]
  },
  {
   "cell_type": "markdown",
   "metadata": {
    "id": "w3yYbZO3PHJX"
   },
   "source": [
    "Sehingga, data 28 itu bisa diakses dari `p` seperti berikut:"
   ]
  },
  {
   "cell_type": "code",
   "execution_count": null,
   "metadata": {
    "colab": {
     "base_uri": "https://localhost:8080/"
    },
    "id": "UdKfWUayPHJX",
    "outputId": "38b4124a-9b21-47ff-97ab-2c8b26a25dac"
   },
   "outputs": [
    {
     "name": "stdout",
     "output_type": "stream",
     "text": [
      "28\n"
     ]
    }
   ],
   "source": [
    "print(p.next.data)"
   ]
  },
  {
   "cell_type": "markdown",
   "metadata": {
    "id": "GUyOmX29PHJX"
   },
   "source": [
    "Sedangkan, setelah *node* berisi 15 dan *node* berisi 28, belum ada *node* lagi, sehingga:"
   ]
  },
  {
   "cell_type": "code",
   "execution_count": null,
   "metadata": {
    "colab": {
     "base_uri": "https://localhost:8080/"
    },
    "id": "EZ4kEXlrPHJX",
    "outputId": "42185dbf-10bd-4db9-f7a9-4fe032b026ee"
   },
   "outputs": [
    {
     "name": "stdout",
     "output_type": "stream",
     "text": [
      "None\n"
     ]
    }
   ],
   "source": [
    "print(p.next.next)"
   ]
  },
  {
   "cell_type": "markdown",
   "metadata": {
    "id": "oV_9m9cZPHJX"
   },
   "source": [
    "Mari kita buat *node* baru lagi setelah *node* berisi 28:"
   ]
  },
  {
   "cell_type": "code",
   "execution_count": null,
   "metadata": {
    "id": "yznECCjXPHJX"
   },
   "outputs": [],
   "source": [
    "p.next.next = SLNode(-3)"
   ]
  },
  {
   "cell_type": "markdown",
   "metadata": {
    "id": "F0qcEQ0sPHJX"
   },
   "source": [
    "Sehingga, kita bisa mengakses data masing-masing *node* dari `p`:"
   ]
  },
  {
   "cell_type": "code",
   "execution_count": null,
   "metadata": {
    "colab": {
     "base_uri": "https://localhost:8080/"
    },
    "id": "Re70h73BPHJX",
    "outputId": "21a5235d-687a-407c-e72b-5bdda4e41996"
   },
   "outputs": [
    {
     "name": "stdout",
     "output_type": "stream",
     "text": [
      "15\n",
      "28\n",
      "-3\n"
     ]
    }
   ],
   "source": [
    "print(p.data)\n",
    "print(p.next.data)\n",
    "print(p.next.next.data)"
   ]
  },
  {
   "cell_type": "markdown",
   "metadata": {
    "id": "vpQenYq2PHJX"
   },
   "source": [
    "Kita bisa juga membuat *pointer* baru yang menunjuk ke *node* yang sudah ada. Misalnya, kita bisa membuat *pointer* bernama `q` yang menunjuk ke *node* yang berisi 28, seperti berikut:"
   ]
  },
  {
   "cell_type": "code",
   "execution_count": null,
   "metadata": {
    "id": "VWOBo4UFPHJY"
   },
   "outputs": [],
   "source": [
    "q = p.next"
   ]
  },
  {
   "cell_type": "markdown",
   "metadata": {
    "id": "hMUB0EuMPHJY"
   },
   "source": [
    "Sehingga, `p.next.next` bisa diakses dengan `q.next`:"
   ]
  },
  {
   "cell_type": "code",
   "execution_count": null,
   "metadata": {
    "colab": {
     "base_uri": "https://localhost:8080/"
    },
    "id": "FTEDpvCgPHJY",
    "outputId": "b5f2cfe0-f94f-4079-ca5b-31886ac43311"
   },
   "outputs": [
    {
     "name": "stdout",
     "output_type": "stream",
     "text": [
      "-3\n",
      "-3\n"
     ]
    }
   ],
   "source": [
    "print(p.next.next.data)\n",
    "print(q.next.data)"
   ]
  },
  {
   "cell_type": "markdown",
   "metadata": {
    "id": "lD7KtHvJPHJY"
   },
   "source": [
    "Bahkan, kita bisa mengubah data -3 menjadi yang lain melalui `q`, dan itu akan berubah juga jika diakses melalui `p`:"
   ]
  },
  {
   "cell_type": "code",
   "execution_count": null,
   "metadata": {
    "colab": {
     "base_uri": "https://localhost:8080/"
    },
    "id": "8JvqIws0PHJY",
    "outputId": "330ecc10-b2af-42e0-b5d5-c9d8424e4df1"
   },
   "outputs": [
    {
     "name": "stdout",
     "output_type": "stream",
     "text": [
      "-63\n",
      "-63\n"
     ]
    }
   ],
   "source": [
    "q.next.data = -63\n",
    "print(q.next.data)\n",
    "print(p.next.next.data)"
   ]
  },
  {
   "cell_type": "markdown",
   "metadata": {
    "id": "mHvCahPNPHJY"
   },
   "source": [
    "Kok bisa? Karena, sesuai yang sudah kita tetapkan, `q` menunjuk ke *node* yang sama dengan `p.next`. Kita bisa periksa alamatnya:"
   ]
  },
  {
   "cell_type": "code",
   "execution_count": null,
   "metadata": {
    "colab": {
     "base_uri": "https://localhost:8080/"
    },
    "id": "ZaH_A0L_PHJY",
    "outputId": "c80fcc5e-3d58-45ba-d55b-248270b230bc"
   },
   "outputs": [
    {
     "name": "stdout",
     "output_type": "stream",
     "text": [
      "0x7dd769039480\n",
      "0x7dd769039480\n"
     ]
    }
   ],
   "source": [
    "print(hex(id(q)))\n",
    "print(hex(id(p.next)))"
   ]
  },
  {
   "cell_type": "markdown",
   "metadata": {
    "id": "57zc-fAzPHJY"
   },
   "source": [
    "Sehingga alamat dari *node* yang ditunjuk oleh `q.next` akan sama dengan yang ditunjuk oleh `p.next.next`:"
   ]
  },
  {
   "cell_type": "code",
   "execution_count": null,
   "metadata": {
    "colab": {
     "base_uri": "https://localhost:8080/"
    },
    "id": "EKCv3PuvPHJY",
    "outputId": "ab4322f3-f400-4a2d-d78f-1ebc3ffb922b"
   },
   "outputs": [
    {
     "name": "stdout",
     "output_type": "stream",
     "text": [
      "0x7dd76903a980\n",
      "0x7dd76903a980\n"
     ]
    }
   ],
   "source": [
    "print(hex(id(q.next)))\n",
    "print(hex(id(p.next.next)))"
   ]
  },
  {
   "cell_type": "markdown",
   "metadata": {
    "id": "WZ_DwfCZPHJY"
   },
   "source": [
    "Sejauh ini, kita sudah bermain dengan *node* dan membuat *linked list* secara manual. Sebenarnya, kita juga bisa membuat suatu `class` untuk suatu *linked list* secara keseluruhan. Di dalam `class` itu, kita bisa membuat atribut (variabel) yang menyimpan `head`, serta berbagai *method* (fungsi) untuk algoritma-algoritma operasi dasar yang kita pelajari di kuliah, seperti insert *node* di awal/akhir dan delete *node* di awal/akhir. Dengan begitu, kita bisa menggunakan *linked list* dengan lebih nyaman."
   ]
  },
  {
   "cell_type": "markdown",
   "metadata": {
    "id": "v2SY_vNAPHJY"
   },
   "source": [
    "Kita akan menyebutnya `class SLList` (*singly-linked list*)."
   ]
  },
  {
   "cell_type": "code",
   "execution_count": null,
   "metadata": {
    "id": "O9dSlOitPHJY"
   },
   "outputs": [],
   "source": [
    "class SLList:\n",
    "    def __init__(self):\n",
    "        self.head = None\n",
    "\n",
    "    # Memeriksa apakah linked list kosong\n",
    "    def is_empty(self):\n",
    "        if self.head == None:\n",
    "            return True\n",
    "        else:\n",
    "            return False\n",
    "\n",
    "    # Traversal, hanya untuk menghitung banyaknya node di linked list\n",
    "    def get_size(self):\n",
    "        count = 0\n",
    "        current = self.head\n",
    "        while current != None:\n",
    "            count += 1\n",
    "            current = current.next\n",
    "        return count\n",
    "\n",
    "    # Traversal, print masing-masing data node dari awal sampai akhir\n",
    "    def print_all(self):\n",
    "        print(\"head -> \", end=\"\")\n",
    "        temp = self.head\n",
    "        while temp != None:\n",
    "            print(temp.data, end = \" -> \")\n",
    "            temp = temp.next\n",
    "        print(\"None\")\n",
    "\n",
    "    # Traversal, semacam linear search, cari letak node dengan data tertentu\n",
    "    def get_pos(self, x):\n",
    "        pos = -1\n",
    "        current = self.head\n",
    "        while current != None:\n",
    "            pos += 1\n",
    "            if current.data == x:\n",
    "                return pos\n",
    "            current = current.next\n",
    "        return -1\n",
    "\n",
    "    # Insert node baru di depan\n",
    "    def ins_front(self, newdata):\n",
    "        newnode = SLNode(newdata)\n",
    "        newnode.next = self.head\n",
    "        self.head = newnode\n",
    "\n",
    "    # Insert node baru di belakang, ide nya perlu dilakukan traversal hingga node terakhir kemudian lakukan insert\n",
    "    def ins_end(self, newdata):\n",
    "        newnode = SLNode(newdata)\n",
    "        if self.is_empty():\n",
    "            self.head = newnode\n",
    "        else:\n",
    "            temp = self.head\n",
    "            while temp.next != None:\n",
    "                temp = temp.next\n",
    "\n",
    "            # sekarang temp sudah di node terakhir\n",
    "            temp.next = newnode\n",
    "\n",
    "    # Insert node baru di tengah\n",
    "    def ins_pos(self, newdata, pos):\n",
    "        if pos == 0:\n",
    "            self.ins_front(newdata)\n",
    "        else:\n",
    "            current_pos = 0\n",
    "            current = self.head\n",
    "            while (current != None) and (current_pos != pos-1):\n",
    "                current = current.next\n",
    "                current_pos += 1\n",
    "            # Keluar loop, bisa karena current == None atau current_pos == pos-1\n",
    "            # Kalau karena current_pos == pos-1, bisa insert\n",
    "            if (current_pos == pos-1):\n",
    "                newnode = SLNode(newdata)\n",
    "                temp = current.next\n",
    "                current.next = newnode\n",
    "                newnode.next = temp\n",
    "            # Tapi kalau karena current == None,\n",
    "            # berarti posisi yang diminta melampaui panjang linked list\n",
    "            else:\n",
    "                print(\"Error: posisi melebihi panjang linked list\")\n",
    "\n",
    "    # Delete node di depan\n",
    "    def del_front(self):\n",
    "        if self.is_empty():\n",
    "            print(\"Error: linked list sudah kosong\")\n",
    "        else:\n",
    "            temp = self.head.next\n",
    "            del self.head\n",
    "            self.head = temp\n",
    "\n",
    "    # Delete node di belakang\n",
    "    def del_end(self):\n",
    "        if self.is_empty():\n",
    "            print(\"Error: linked list sudah kosong\")\n",
    "        else:\n",
    "            temp = self.head\n",
    "            while temp.next.next != None:\n",
    "                temp = temp.next\n",
    "\n",
    "            # sekarang temp ada di node sebelum terakhir\n",
    "            del temp.next\n",
    "            temp.next = None\n",
    "\n",
    "    # Delete node di tengah. Mirip ins_pos, hanya berbeda di bagian current_pos == pos-1\n",
    "    def del_pos(self, pos):\n",
    "        if pos == 0:\n",
    "            self.del_front()\n",
    "        else:\n",
    "            current_pos = 0\n",
    "            current = self.head\n",
    "            while (current != None) and (current_pos != pos-1):\n",
    "                current = current.next\n",
    "                current_pos += 1\n",
    "            # Keluar loop, bisa karena current == None atau current_pos == pos-1\n",
    "            # Kalau karena current_pos == pos-1, maka bisa dihapus selama\n",
    "            # current.next yang mau dihapus itu memang ada\n",
    "            if (current_pos == pos-1) and (current.next != None):\n",
    "                temp = current.next.next\n",
    "                del current.next\n",
    "                current.next = temp\n",
    "            # Tapi kalau karena current == None, atau current.next tidak ada,\n",
    "            # berarti posisi yang diminta melampaui panjang linked list\n",
    "            else:\n",
    "                print(\"Error: posisi melebihi panjang linked list\")\n",
    "\n",
    "    # Menghapus semua node di linked list\n",
    "    def del_all(self):\n",
    "        while (not self.is_empty()):\n",
    "            self.del_front()\n",
    "\n",
    "    # Method untuk memperoleh digraph yang menggambarkan linked list nya :D\n",
    "    def get_digraph(self):\n",
    "        # Buat digraph baru yang sifatnya dari kiri ke kanan\n",
    "        new_digraph = gv.Digraph(graph_attr={\"rankdir\": \"LR\"})\n",
    "\n",
    "        # Pointer untuk menunjuk ke tiap node, mulai dari node pertama\n",
    "        # (akan dilakukan traversal)\n",
    "        current = self.head\n",
    "\n",
    "        # Untuk menghitung node ke-sekian untuk nama node di Graphviz,\n",
    "        # sehingga head menunjuk ke node0, lalu node0 menunjuk ke node1, dst\n",
    "        counter = 0\n",
    "\n",
    "        # Memperoleh alamat yang sedang disimpan di head\n",
    "        # - asumsi awal: tidak ada alamat (None)\n",
    "        next_id = None\n",
    "        next_name = \"node0\" # ini nanti untuk nama node berikutnya di Graphviz\n",
    "        # - kalau ternyata ada alamat...\n",
    "        if current != None:\n",
    "            # maka simpan alamat tersebut\n",
    "            next_id = hex(id(current))\n",
    "            # kita buat lebih spesifik untuk node berikutnya, tunjuk ke port id\n",
    "            next_name = \"node0:id\"\n",
    "\n",
    "        # Label (tabel) untuk pointer head\n",
    "        # - pembuka tabel\n",
    "        str_label = \"<\"\n",
    "        str_label += \"<TABLE BORDER=\\\"0\\\" CELLBORDER=\\\"1\\\" CELLSPACING=\\\"0\\\">\"\n",
    "        # - baris head\n",
    "        str_label += \"<TR><TD>head</TD></TR>\"\n",
    "        # - baris alamat (sekalian membuat port namanya \"contents\")\n",
    "        str_label += \"<TR><TD PORT=\\\"contents\\\">\" + str(next_id) + \"</TD></TR>\"\n",
    "        # - penutup tabel\n",
    "        str_label += \"</TABLE>\"\n",
    "        str_label += \">\"\n",
    "\n",
    "        # Membuat node head, membuat edge dari head ke node berikutnya\n",
    "        new_digraph.node(\"head\", shape=\"none\", label=str_label)\n",
    "        new_digraph.edge(\"head:contents\", next_name)\n",
    "        # dari port \"contents\" ke node berikutnya, yang namanya next_name\n",
    "\n",
    "        # Selama node yang ditunjuk bukan None, buatlah node nya di Graphviz,\n",
    "        # lalu lanjut ke node selanjutnya (ini traversal)\n",
    "        while current != None:\n",
    "            # Alamat yang tersimpan pada current.next\n",
    "            # - asumsi awal: tidak ada alamat; current adalah node terakhir\n",
    "            next_id = None\n",
    "            # - kalau ternyata ada alamat...\n",
    "            if current.next != None:\n",
    "                # maka simpan alamat tersebut\n",
    "                next_id = hex(id(current.next))\n",
    "\n",
    "            # Persiapan label (tabel) untuk node\n",
    "            # - pembuka tabel\n",
    "            str_label = \"<\"\n",
    "            str_label += \"<TABLE BORDER=\\\"0\\\" CELLBORDER=\\\"1\\\" CELLSPACING=\\\"0\\\">\"\n",
    "            # - baris tulisan \"data\", \"next\"\n",
    "            str_label += \"<TR><TD>data</TD><TD>next</TD></TR>\"\n",
    "            # - baris untuk isi data dan isi next\n",
    "            str_label += \"<TR>\"\n",
    "            str_label += \"<TD>\" + str(current.data) + \"</TD>\"\n",
    "            str_label += \"<TD PORT=\\\"next\\\">\" + str(next_id) + \"</TD>\"\n",
    "            str_label += \"</TR>\"\n",
    "            # - baris tulisan \"alamat node\", merentang dua kolom\n",
    "            str_label += \"<TR><TD COLSPAN=\\\"2\\\">alamat node</TD></TR>\"\n",
    "            # - baris untuk isi alamat node, merentang dua kolom\n",
    "            str_label += \"<TR>\"\n",
    "            str_label += \"<TD PORT=\\\"id\\\" COLSPAN=\\\"2\\\">\"\n",
    "            str_label += str(hex(id(current)))\n",
    "            str_label += \"</TD>\"\n",
    "            str_label += \"</TR>\"\n",
    "            # - penutup tabel\n",
    "            str_label += \"</TABLE>\"\n",
    "            str_label += \">\"\n",
    "\n",
    "            # Membuat node baru di Graphviz dengan label (tabel) tersebut\n",
    "            new_digraph.node(\"node\" + str(counter), shape=\"none\", label = str_label)\n",
    "\n",
    "            # Menentukan nama dua port yang bakal disambung dengan edge,\n",
    "            # yaitu (node saat ini):next disambung ke node(berikutnya):id\n",
    "            # yaitu bagian \"next\" disambung ke bagian alamat di node berikutnya\n",
    "            nama_node_next = \"node\" + str(counter) + \":next\"\n",
    "            if current.next != None:\n",
    "                nama_alamat_node_berikutnya = \"node\" + str(counter+1) + \":id\"\n",
    "            # atau ke node(berikutnya) saja tanpa id kalau itu ternyata None,\n",
    "            # karena None tidak akan memiliki port id\n",
    "            else:\n",
    "                nama_alamat_node_berikutnya = \"node\" + str(counter+1)\n",
    "\n",
    "            # Menyambung keduanya\n",
    "            new_digraph.edge(nama_node_next, nama_alamat_node_berikutnya)\n",
    "\n",
    "            # Lanjut ke node selanjutnya\n",
    "            current = current.next\n",
    "            counter += 1\n",
    "        # Kalau sudah keluar loop, artinya current menunjuk ke None\n",
    "        # Berarti tinggal membuat \"node\" terakhir berisi tulisan None\n",
    "        # (karena sambungannya sudah dibuat di dalam loop, tinggal node nya)\n",
    "        new_digraph.node(\"node\" + str(counter), shape=\"none\", label=\"None\")\n",
    "\n",
    "        # Digraph sudah jadi\n",
    "        return new_digraph"
   ]
  },
  {
   "cell_type": "code",
   "execution_count": null,
   "metadata": {
    "id": "19oWheo9PHJZ"
   },
   "outputs": [],
   "source": [
    "test = SLList()\n",
    "test.ins_front(5)\n",
    "test.ins_front(15)\n",
    "test.ins_front(25)\n",
    "test.ins_front(35)"
   ]
  },
  {
   "cell_type": "code",
   "execution_count": null,
   "metadata": {
    "colab": {
     "base_uri": "https://localhost:8080/"
    },
    "id": "adHeMpAQPHJZ",
    "outputId": "6dc0d9b4-1614-4995-e212-a4ed77cb33de"
   },
   "outputs": [
    {
     "name": "stdout",
     "output_type": "stream",
     "text": [
      "head -> 35 -> 25 -> 15 -> 5 -> None\n"
     ]
    }
   ],
   "source": [
    "test.print_all()"
   ]
  },
  {
   "cell_type": "code",
   "execution_count": null,
   "metadata": {
    "colab": {
     "base_uri": "https://localhost:8080/"
    },
    "id": "x2cCsO9APHJZ",
    "outputId": "c19e624d-f174-4e8e-dbd8-aa993a9f464b"
   },
   "outputs": [
    {
     "name": "stdout",
     "output_type": "stream",
     "text": [
      "2\n"
     ]
    }
   ],
   "source": [
    "print(test.get_pos(15))"
   ]
  },
  {
   "cell_type": "code",
   "execution_count": null,
   "metadata": {
    "colab": {
     "base_uri": "https://localhost:8080/"
    },
    "id": "5sx9ijlLPHJZ",
    "outputId": "db07f7bf-af2f-440c-e615-5ee939476446"
   },
   "outputs": [
    {
     "name": "stdout",
     "output_type": "stream",
     "text": [
      "-1\n"
     ]
    }
   ],
   "source": [
    "print(test.get_pos(39))"
   ]
  },
  {
   "cell_type": "code",
   "execution_count": null,
   "metadata": {
    "id": "SHt7nHdjPHJZ"
   },
   "outputs": [],
   "source": [
    "test.ins_end(100)"
   ]
  },
  {
   "cell_type": "code",
   "execution_count": null,
   "metadata": {
    "colab": {
     "base_uri": "https://localhost:8080/"
    },
    "id": "2PMdp0o3PHJZ",
    "outputId": "6a265513-7e72-4d48-d86d-1d42bca73d73"
   },
   "outputs": [
    {
     "name": "stdout",
     "output_type": "stream",
     "text": [
      "head -> 35 -> 25 -> 15 -> 5 -> 100 -> None\n"
     ]
    }
   ],
   "source": [
    "test.print_all()"
   ]
  },
  {
   "cell_type": "code",
   "execution_count": null,
   "metadata": {
    "id": "UphrF0NUPHJZ"
   },
   "outputs": [],
   "source": [
    "test.del_front()\n",
    "test.del_front()"
   ]
  },
  {
   "cell_type": "code",
   "execution_count": null,
   "metadata": {
    "colab": {
     "base_uri": "https://localhost:8080/"
    },
    "id": "iH31sAziPHJZ",
    "outputId": "c410ce73-d51d-4534-eac4-c54306c84c7c"
   },
   "outputs": [
    {
     "name": "stdout",
     "output_type": "stream",
     "text": [
      "head -> 15 -> 5 -> 100 -> None\n"
     ]
    }
   ],
   "source": [
    "test.print_all()"
   ]
  },
  {
   "cell_type": "code",
   "execution_count": null,
   "metadata": {
    "colab": {
     "base_uri": "https://localhost:8080/"
    },
    "id": "arQebOM4PHJZ",
    "outputId": "9c589c66-83c4-40bd-e557-493b90e17b44"
   },
   "outputs": [
    {
     "name": "stdout",
     "output_type": "stream",
     "text": [
      "Error: posisi melebihi panjang linked list\n"
     ]
    }
   ],
   "source": [
    "test.del_pos(3)"
   ]
  },
  {
   "cell_type": "code",
   "execution_count": null,
   "metadata": {
    "id": "w8akqhF8PHJZ"
   },
   "outputs": [],
   "source": [
    "test.del_pos(2)"
   ]
  },
  {
   "cell_type": "code",
   "execution_count": null,
   "metadata": {
    "colab": {
     "base_uri": "https://localhost:8080/"
    },
    "id": "8rcpMZ08PHJZ",
    "outputId": "629ab4cb-f128-444f-edd4-7bd99fb4d217"
   },
   "outputs": [
    {
     "name": "stdout",
     "output_type": "stream",
     "text": [
      "head -> 15 -> 5 -> None\n"
     ]
    }
   ],
   "source": [
    "test.print_all()"
   ]
  },
  {
   "cell_type": "code",
   "execution_count": null,
   "metadata": {
    "colab": {
     "base_uri": "https://localhost:8080/"
    },
    "id": "sgTK9Y7KPHJZ",
    "outputId": "692c062f-fc76-4bd7-e427-1c5979ae3d11"
   },
   "outputs": [
    {
     "name": "stdout",
     "output_type": "stream",
     "text": [
      "Error: posisi melebihi panjang linked list\n"
     ]
    }
   ],
   "source": [
    "test.ins_pos(-42, 7)"
   ]
  },
  {
   "cell_type": "code",
   "execution_count": null,
   "metadata": {
    "id": "BF9cOykDPHJZ"
   },
   "outputs": [],
   "source": [
    "test.ins_pos(76, 1)"
   ]
  },
  {
   "cell_type": "code",
   "execution_count": null,
   "metadata": {
    "colab": {
     "base_uri": "https://localhost:8080/"
    },
    "id": "VXNZ2OMgPHJa",
    "outputId": "30c694ff-2861-4559-c0ab-b5c7784fcfca"
   },
   "outputs": [
    {
     "name": "stdout",
     "output_type": "stream",
     "text": [
      "head -> 15 -> 76 -> 5 -> None\n"
     ]
    }
   ],
   "source": [
    "test.print_all()"
   ]
  },
  {
   "cell_type": "code",
   "execution_count": null,
   "metadata": {
    "id": "ZCwvdSpRPHJa"
   },
   "outputs": [],
   "source": [
    "gambar = test.get_digraph()"
   ]
  },
  {
   "cell_type": "code",
   "execution_count": null,
   "metadata": {
    "colab": {
     "base_uri": "https://localhost:8080/",
     "height": 269
    },
    "id": "E-2PJMHIPHJa",
    "outputId": "50eeb009-0a4d-49b0-9a1e-cbcf0803da36"
   },
   "outputs": [
    {
     "data": {
      "image/svg+xml": [
       "<?xml version=\"1.0\" encoding=\"UTF-8\" standalone=\"no\"?>\n",
       "<!DOCTYPE svg PUBLIC \"-//W3C//DTD SVG 1.1//EN\"\n",
       " \"http://www.w3.org/Graphics/SVG/1.1/DTD/svg11.dtd\">\n",
       "<!-- Generated by graphviz version 2.43.0 (0)\n",
       " -->\n",
       "<!-- Title: %3 Pages: 1 -->\n",
       "<svg width=\"729pt\" height=\"186pt\"\n",
       " viewBox=\"0.00 0.00 729.00 186.00\" xmlns=\"http://www.w3.org/2000/svg\" xmlns:xlink=\"http://www.w3.org/1999/xlink\">\n",
       "<g id=\"graph0\" class=\"graph\" transform=\"scale(1 1) rotate(0) translate(4 182)\">\n",
       "<title>%3</title>\n",
       "<polygon fill=\"white\" stroke=\"transparent\" points=\"-4,4 -4,-182 725,-182 725,4 -4,4\"/>\n",
       "<!-- head -->\n",
       "<g id=\"node1\" class=\"node\">\n",
       "<title>head</title>\n",
       "<polygon fill=\"none\" stroke=\"black\" points=\"8,-25 8,-46 108,-46 108,-25 8,-25\"/>\n",
       "<text text-anchor=\"start\" x=\"45\" y=\"-31.8\" font-family=\"Times,serif\" font-size=\"14.00\">head</text>\n",
       "<polygon fill=\"none\" stroke=\"black\" points=\"8,-4 8,-25 108,-25 108,-4 8,-4\"/>\n",
       "<text text-anchor=\"start\" x=\"11\" y=\"-10.8\" font-family=\"Times,serif\" font-size=\"14.00\">0x7dd7686776a0</text>\n",
       "</g>\n",
       "<!-- node0 -->\n",
       "<g id=\"node2\" class=\"node\">\n",
       "<title>node0</title>\n",
       "<polygon fill=\"none\" stroke=\"black\" points=\"160,-67 160,-88 189,-88 189,-67 160,-67\"/>\n",
       "<text text-anchor=\"start\" x=\"163\" y=\"-73.8\" font-family=\"Times,serif\" font-size=\"14.00\">data</text>\n",
       "<polygon fill=\"none\" stroke=\"black\" points=\"189,-67 189,-88 290,-88 290,-67 189,-67\"/>\n",
       "<text text-anchor=\"start\" x=\"227.5\" y=\"-73.8\" font-family=\"Times,serif\" font-size=\"14.00\">next</text>\n",
       "<polygon fill=\"none\" stroke=\"black\" points=\"160,-46 160,-67 189,-67 189,-46 160,-46\"/>\n",
       "<text text-anchor=\"start\" x=\"167.5\" y=\"-52.8\" font-family=\"Times,serif\" font-size=\"14.00\">15</text>\n",
       "<polygon fill=\"none\" stroke=\"black\" points=\"189,-46 189,-67 290,-67 290,-46 189,-46\"/>\n",
       "<text text-anchor=\"start\" x=\"192\" y=\"-52.8\" font-family=\"Times,serif\" font-size=\"14.00\">0x7dd768675420</text>\n",
       "<polygon fill=\"none\" stroke=\"black\" points=\"160,-25 160,-46 290,-46 290,-25 160,-25\"/>\n",
       "<text text-anchor=\"start\" x=\"191.5\" y=\"-31.8\" font-family=\"Times,serif\" font-size=\"14.00\">alamat node</text>\n",
       "<polygon fill=\"none\" stroke=\"black\" points=\"160,-4 160,-25 290,-25 290,-4 160,-4\"/>\n",
       "<text text-anchor=\"start\" x=\"178\" y=\"-10.8\" font-family=\"Times,serif\" font-size=\"14.00\">0x7dd7686776a0</text>\n",
       "</g>\n",
       "<!-- head&#45;&gt;node0 -->\n",
       "<g id=\"edge1\" class=\"edge\">\n",
       "<title>head:contents&#45;&gt;node0:id</title>\n",
       "<path fill=\"none\" stroke=\"black\" d=\"M109,-14C127.4,-14 134.38,-14 148.85,-14\"/>\n",
       "<polygon fill=\"black\" stroke=\"black\" points=\"149,-17.5 159,-14 149,-10.5 149,-17.5\"/>\n",
       "</g>\n",
       "<!-- node1 -->\n",
       "<g id=\"node3\" class=\"node\">\n",
       "<title>node1</title>\n",
       "<polygon fill=\"none\" stroke=\"black\" points=\"342.5,-110 342.5,-131 371.5,-131 371.5,-110 342.5,-110\"/>\n",
       "<text text-anchor=\"start\" x=\"345.5\" y=\"-116.8\" font-family=\"Times,serif\" font-size=\"14.00\">data</text>\n",
       "<polygon fill=\"none\" stroke=\"black\" points=\"371.5,-110 371.5,-131 471.5,-131 471.5,-110 371.5,-110\"/>\n",
       "<text text-anchor=\"start\" x=\"409.5\" y=\"-116.8\" font-family=\"Times,serif\" font-size=\"14.00\">next</text>\n",
       "<polygon fill=\"none\" stroke=\"black\" points=\"342.5,-89 342.5,-110 371.5,-110 371.5,-89 342.5,-89\"/>\n",
       "<text text-anchor=\"start\" x=\"350\" y=\"-95.8\" font-family=\"Times,serif\" font-size=\"14.00\">76</text>\n",
       "<polygon fill=\"none\" stroke=\"black\" points=\"371.5,-89 371.5,-110 471.5,-110 471.5,-89 371.5,-89\"/>\n",
       "<text text-anchor=\"start\" x=\"374.5\" y=\"-95.8\" font-family=\"Times,serif\" font-size=\"14.00\">0x7dd768677ca0</text>\n",
       "<polygon fill=\"none\" stroke=\"black\" points=\"342.5,-68 342.5,-89 471.5,-89 471.5,-68 342.5,-68\"/>\n",
       "<text text-anchor=\"start\" x=\"373.5\" y=\"-74.8\" font-family=\"Times,serif\" font-size=\"14.00\">alamat node</text>\n",
       "<polygon fill=\"none\" stroke=\"black\" points=\"342.5,-47 342.5,-68 471.5,-68 471.5,-47 342.5,-47\"/>\n",
       "<text text-anchor=\"start\" x=\"359.5\" y=\"-53.8\" font-family=\"Times,serif\" font-size=\"14.00\">0x7dd768675420</text>\n",
       "</g>\n",
       "<!-- node0&#45;&gt;node1 -->\n",
       "<g id=\"edge2\" class=\"edge\">\n",
       "<title>node0:next&#45;&gt;node1:id</title>\n",
       "<path fill=\"none\" stroke=\"black\" d=\"M291,-57C309.59,-57 316.63,-57 331.25,-57\"/>\n",
       "<polygon fill=\"black\" stroke=\"black\" points=\"331.5,-60.5 341.5,-57 331.5,-53.5 331.5,-60.5\"/>\n",
       "</g>\n",
       "<!-- node2 -->\n",
       "<g id=\"node4\" class=\"node\">\n",
       "<title>node2</title>\n",
       "<polygon fill=\"none\" stroke=\"black\" points=\"523,-153 523,-174 569,-174 569,-153 523,-153\"/>\n",
       "<text text-anchor=\"start\" x=\"534.5\" y=\"-159.8\" font-family=\"Times,serif\" font-size=\"14.00\">data</text>\n",
       "<polygon fill=\"none\" stroke=\"black\" points=\"569,-153 569,-174 623,-174 623,-153 569,-153\"/>\n",
       "<text text-anchor=\"start\" x=\"584\" y=\"-159.8\" font-family=\"Times,serif\" font-size=\"14.00\">next</text>\n",
       "<polygon fill=\"none\" stroke=\"black\" points=\"523,-132 523,-153 569,-153 569,-132 523,-132\"/>\n",
       "<text text-anchor=\"start\" x=\"542.5\" y=\"-138.8\" font-family=\"Times,serif\" font-size=\"14.00\">5</text>\n",
       "<polygon fill=\"none\" stroke=\"black\" points=\"569,-132 569,-153 623,-153 623,-132 569,-132\"/>\n",
       "<text text-anchor=\"start\" x=\"581\" y=\"-138.8\" font-family=\"Times,serif\" font-size=\"14.00\">None</text>\n",
       "<polygon fill=\"none\" stroke=\"black\" points=\"523,-111 523,-132 623,-132 623,-111 523,-111\"/>\n",
       "<text text-anchor=\"start\" x=\"539.5\" y=\"-117.8\" font-family=\"Times,serif\" font-size=\"14.00\">alamat node</text>\n",
       "<polygon fill=\"none\" stroke=\"black\" points=\"523,-90 523,-111 623,-111 623,-90 523,-90\"/>\n",
       "<text text-anchor=\"start\" x=\"526\" y=\"-96.8\" font-family=\"Times,serif\" font-size=\"14.00\">0x7dd768677ca0</text>\n",
       "</g>\n",
       "<!-- node1&#45;&gt;node2 -->\n",
       "<g id=\"edge3\" class=\"edge\">\n",
       "<title>node1:next&#45;&gt;node2:id</title>\n",
       "<path fill=\"none\" stroke=\"black\" d=\"M472.5,-100C490.72,-100 497.62,-100 511.95,-100\"/>\n",
       "<polygon fill=\"black\" stroke=\"black\" points=\"512,-103.5 522,-100 512,-96.5 512,-103.5\"/>\n",
       "</g>\n",
       "<!-- node3 -->\n",
       "<g id=\"node5\" class=\"node\">\n",
       "<title>node3</title>\n",
       "<text text-anchor=\"middle\" x=\"694\" y=\"-139.3\" font-family=\"Times,serif\" font-size=\"14.00\">None</text>\n",
       "</g>\n",
       "<!-- node2&#45;&gt;node3 -->\n",
       "<g id=\"edge4\" class=\"edge\">\n",
       "<title>node2:next&#45;&gt;node3</title>\n",
       "<path fill=\"none\" stroke=\"black\" d=\"M624,-143C634.6,-143 646.12,-143 656.65,-143\"/>\n",
       "<polygon fill=\"black\" stroke=\"black\" points=\"656.79,-146.5 666.79,-143 656.79,-139.5 656.79,-146.5\"/>\n",
       "</g>\n",
       "</g>\n",
       "</svg>\n"
      ],
      "text/plain": [
       "<graphviz.graphs.Digraph at 0x7dd768677340>"
      ]
     },
     "metadata": {},
     "output_type": "display_data"
    }
   ],
   "source": [
    "display(gambar)"
   ]
  },
  {
   "cell_type": "markdown",
   "metadata": {
    "id": "McD0kt0YPHJa"
   },
   "source": [
    "## *Doubly Linked List*"
   ]
  },
  {
   "cell_type": "code",
   "execution_count": null,
   "metadata": {
    "id": "-pS20KRQPHJa"
   },
   "outputs": [],
   "source": [
    "class DLNode:\n",
    "    def __init__(self, data, next=None, prev=None):\n",
    "        self.data = data\n",
    "        self.next = next\n",
    "        self.prev = prev"
   ]
  },
  {
   "cell_type": "code",
   "execution_count": null,
   "metadata": {
    "id": "LnMvJ1X2PHJa"
   },
   "outputs": [],
   "source": [
    "class DLList:\n",
    "    def __init__(self):\n",
    "        self.head = None\n",
    "        self.tail = None\n",
    "\n",
    "    # Masih sama persis dengan singly linked list\n",
    "    def is_empty(self):\n",
    "        if self.head == None:\n",
    "            return True\n",
    "        else:\n",
    "            return False\n",
    "\n",
    "    # Traversal, hanya untuk menghitung banyaknya node di linked list\n",
    "    # Masih sama persis dengan singly linked list\n",
    "    def get_size(self):\n",
    "        count = 0\n",
    "        current = self.head\n",
    "        while current != None:\n",
    "            count += 1\n",
    "            current = current.next\n",
    "        return count\n",
    "\n",
    "    # Traversal, print masing-masing data node dari awal sampai akhir\n",
    "    def print_all(self):\n",
    "        print(\"head -> \", end=\"\")\n",
    "        temp = self.head\n",
    "        while (temp != None) and (temp.next != None):\n",
    "            print(temp.data, end = \" <-> \")\n",
    "            temp = temp.next\n",
    "        # Khusus node terakhir:\n",
    "        if (temp != None) and (temp.next == None):\n",
    "            print(temp.data, end = \" <- \")\n",
    "        print(\"tail\")\n",
    "\n",
    "    def ins_front(self, newdata):\n",
    "        newnode = DLNode(newdata)\n",
    "        newnode.next = self.head\n",
    "        if self.head != None:\n",
    "            self.head.prev = newnode\n",
    "        self.head = newnode\n",
    "        if self.tail == None: # jika tadinya doubly linked list kosong,\n",
    "            # maka newnode menjadi node pertama, ditunjuk oleh head dan tail\n",
    "            self.tail = newnode\n",
    "\n",
    "    # Berbeda dengan singly linked list, tinggal insert di tail;\n",
    "    # tidak perlu traversal\n",
    "    def ins_end(self, newdata):\n",
    "        newnode = DLNode(newdata)\n",
    "        newnode.prev = self.tail\n",
    "        if self.tail != None:\n",
    "            self.tail.next = newnode\n",
    "        self.tail = newnode\n",
    "        if self.head == None: # jika tadinya doubly linked list kosong,\n",
    "            # maka newnode menjadi node pertama, ditunjuk oleh head dan tail\n",
    "            self.head = newnode\n",
    "\n",
    "    def ins_pos(self, newdata, pos):\n",
    "        if pos == 0:\n",
    "            self.ins_front(newdata)\n",
    "            return\n",
    "        n = self.get_size()\n",
    "        if pos == n:\n",
    "            self.ins_end(newdata)\n",
    "        elif pos > n:\n",
    "            print(\"Error: posisi melebihi panjang linked list\")\n",
    "        else:\n",
    "            current_pos = 0\n",
    "            current = self.head\n",
    "            while (current_pos != pos-1):\n",
    "                current = current.next\n",
    "                current_pos += 1\n",
    "            # Keluar loop berarti current_pos == pos-1\n",
    "            newnode = DLNode(newdata)\n",
    "            newnode.prev = current\n",
    "            newnode.next = current.next\n",
    "            current.next = newnode\n",
    "            # Sudah pasti newnode.next != None,\n",
    "            # karena kasus pos == n sudah ditangani\n",
    "            newnode.next.prev = newnode\n",
    "\n",
    "    def del_front(self):\n",
    "        if self.is_empty():\n",
    "            print(\"Error: linked list sudah kosong\")\n",
    "        else:\n",
    "            temp = self.head.next\n",
    "            del self.head\n",
    "            self.head = temp\n",
    "            if temp != None:\n",
    "                temp.prev = None\n",
    "            else: # jika temp == None, maka self.head == None,\n",
    "                # berarti sekarang doubly linkd list kosong,\n",
    "                # sehingga tail juga menunjuk ke None\n",
    "                self.tail = None\n",
    "\n",
    "    def del_end(self):\n",
    "        if self.is_empty():\n",
    "            print(\"Error: linked list sudah kosong\")\n",
    "        else:\n",
    "            temp = self.tail.prev\n",
    "            del self.tail\n",
    "            self.tail = temp\n",
    "            if temp != None:\n",
    "                temp.next = None\n",
    "            else: # jika temp == None, maka self.tail == None,\n",
    "                # berarti sekarang doubly linkd list kosong,\n",
    "                # sehingga head juga menunjuk ke None\n",
    "                self.head = None\n",
    "\n",
    "    def del_pos(self, pos):\n",
    "        if pos == 0:\n",
    "            self.del_front()\n",
    "            return\n",
    "        n = self.get_size()\n",
    "        if pos == n-1:\n",
    "            self.del_end()\n",
    "        elif pos > n-1:\n",
    "            print(\"Error: posisi melebihi panjang linked list\")\n",
    "        else:\n",
    "            current_pos = 0\n",
    "            current = self.head\n",
    "            while (current_pos != pos-1):\n",
    "                current = current.next\n",
    "                current_pos += 1\n",
    "            temp = current.next.next\n",
    "            del current.next\n",
    "            current.next = temp\n",
    "            # Sudah pasti temp != None,\n",
    "            # karena kasus pos == (n-1) sudah ditangani\n",
    "            temp.prev = current\n",
    "\n",
    "    # Method untuk memperoleh digraph yang menggambarkan linked list nya :D\n",
    "    def get_digraph(self):\n",
    "        # Buat digraph baru yang sifatnya dari kiri ke kanan\n",
    "        new_digraph = gv.Digraph(graph_attr={\"rankdir\": \"LR\"})\n",
    "\n",
    "        # Pointer untuk menunjuk ke tiap node, mulai dari node pertama\n",
    "        # (akan dilakukan traversal)\n",
    "        current = self.head\n",
    "\n",
    "        # Untuk menghitung node ke-sekian untuk nama node di Graphviz,\n",
    "        # sehingga head menunjuk ke node0, lalu node0 menunjuk ke node1, dst\n",
    "        counter = 0\n",
    "\n",
    "        # Memperoleh alamat yang sedang disimpan di head\n",
    "        # - asumsi awal: tidak ada alamat (None)\n",
    "        next_id = None\n",
    "        next_name = \"node0\" # ini nanti untuk nama node berikutnya di Graphviz\n",
    "        # - kalau ternyata ada alamat...\n",
    "        if current != None:\n",
    "            # maka simpan alamat tersebut\n",
    "            next_id = hex(id(current))\n",
    "            # kita buat lebih spesifik untuk node berikutnya, tunjuk ke port id\n",
    "            next_name = \"node0:id\"\n",
    "\n",
    "        # Label (tabel) untuk pointer head\n",
    "        # - pembuka tabel\n",
    "        str_label = \"<\"\n",
    "        str_label += \"<TABLE BORDER=\\\"0\\\" CELLBORDER=\\\"1\\\" CELLSPACING=\\\"0\\\">\"\n",
    "        # - baris head\n",
    "        str_label += \"<TR><TD>head</TD></TR>\"\n",
    "        # - baris alamat (sekalian membuat port namanya \"contents\")\n",
    "        str_label += \"<TR><TD PORT=\\\"contents\\\">\" + str(next_id) + \"</TD></TR>\"\n",
    "        # - penutup tabel\n",
    "        str_label += \"</TABLE>\"\n",
    "        str_label += \">\"\n",
    "\n",
    "        # Membuat node head, membuat edge dari head ke node berikutnya\n",
    "        new_digraph.node(\"head\", shape=\"none\", label=str_label)\n",
    "        new_digraph.edge(\"head:contents\", next_name)\n",
    "        # dari port \"contents\" ke node berikutnya, yang namanya next_name\n",
    "\n",
    "        # Selama node yang ditunjuk bukan None, buatlah node nya di Graphviz,\n",
    "        # lalu lanjut ke node selanjutnya (ini traversal)\n",
    "        while current != None:\n",
    "            # Alamat yang tersimpan pada current.next\n",
    "            # - asumsi awal: tidak ada alamat; current adalah node terakhir\n",
    "            next_id = None\n",
    "            # - kalau ternyata ada alamat...\n",
    "            if current.next != None:\n",
    "                # maka simpan alamat tersebut\n",
    "                next_id = hex(id(current.next))\n",
    "\n",
    "            # serupa untuk prev\n",
    "            prev_id = None\n",
    "            if current.prev != None:\n",
    "                prev_id = hex(id(current.prev))\n",
    "\n",
    "            # Persiapan label (tabel) untuk node\n",
    "            # - pembuka tabel\n",
    "            str_label = \"<\"\n",
    "            str_label += \"<TABLE BORDER=\\\"0\\\" CELLBORDER=\\\"1\\\" CELLSPACING=\\\"0\\\">\"\n",
    "            # - baris tulisan \"prev\", \"data\", \"next\"\n",
    "            str_label += \"<TR><TD>prev</TD><TD>data</TD><TD>next</TD></TR>\"\n",
    "            # - baris untuk isi prev, isi data, dan isi next\n",
    "            str_label += \"<TR>\"\n",
    "            str_label += \"<TD PORT=\\\"prev\\\">\" + str(prev_id) + \"</TD>\"\n",
    "            str_label += \"<TD>\" + str(current.data) + \"</TD>\"\n",
    "            str_label += \"<TD PORT=\\\"next\\\">\" + str(next_id) + \"</TD>\"\n",
    "            str_label += \"</TR>\"\n",
    "            # - baris tulisan \"alamat node\", merentang dua kolom\n",
    "            str_label += \"<TR><TD COLSPAN=\\\"3\\\">alamat node</TD></TR>\"\n",
    "            # - baris untuk isi alamat node, merentang dua kolom\n",
    "            str_label += \"<TR>\"\n",
    "            str_label += \"<TD PORT=\\\"id\\\" COLSPAN=\\\"3\\\">\"\n",
    "            str_label += str(hex(id(current)))\n",
    "            str_label += \"</TD>\"\n",
    "            str_label += \"</TR>\"\n",
    "            # - penutup tabel\n",
    "            str_label += \"</TABLE>\"\n",
    "            str_label += \">\"\n",
    "\n",
    "            # Membuat node baru di Graphviz dengan label (tabel) tersebut\n",
    "            new_digraph.node(\"node\" + str(counter), shape=\"none\", label = str_label)\n",
    "\n",
    "            # Menentukan nama dua port yang bakal disambung dengan edge,\n",
    "            # yaitu (node saat ini):next disambung ke node(berikutnya):id\n",
    "            # yaitu bagian \"next\" disambung ke bagian alamat di node berikutnya\n",
    "            nama_node_next = \"node\" + str(counter) + \":next\"\n",
    "\n",
    "            # tambahan untuk doubly linked list\n",
    "            nama_node_prev = \"node\" + str(counter) + \":prev\"\n",
    "\n",
    "            if current.next != None:\n",
    "                nama_alamat_node_berikutnya = \"node\" + str(counter+1) + \":id\"\n",
    "            # atau ke node(berikutnya) saja tanpa id kalau itu ternyata None,\n",
    "            # karena None tidak akan memiliki port id\n",
    "            else:\n",
    "                nama_alamat_node_berikutnya = \"node\" + str(counter+1)\n",
    "\n",
    "            # Menyambung keduanya\n",
    "            new_digraph.edge(nama_node_next, nama_alamat_node_berikutnya)\n",
    "\n",
    "            # tambahan untuk doubly linked list\n",
    "            if current.prev != None:\n",
    "                nama_alamat_node_sebelumnya = \"node\" + str(counter-1) + \":id\"\n",
    "            else:\n",
    "                nama_alamat_node_sebelumnya = \"node\" + str(counter-1)\n",
    "            if current == self.head:\n",
    "                new_digraph.node(\"node-1\", shape=\"none\", label=\"None\")\n",
    "            new_digraph.edge(nama_node_prev, nama_alamat_node_sebelumnya)\n",
    "\n",
    "            # Lanjut ke node selanjutnya\n",
    "            current = current.next\n",
    "            counter += 1\n",
    "        # Kalau sudah keluar loop, artinya current menunjuk ke None\n",
    "        # Berarti tinggal membuat \"node\" terakhir berisi tulisan None\n",
    "        # (karena sambungannya sudah dibuat di dalam loop, tinggal node nya)\n",
    "        new_digraph.node(\"node\" + str(counter), shape=\"none\", label=\"None\")\n",
    "\n",
    "        # Tambah pointer tail\n",
    "        # - asumsi awal: tidak ada alamat (None)\n",
    "        tail_id = None\n",
    "        tail_name = \"node\" + str(counter-1) # ini nanti untuk nama node tail\n",
    "        # - kalau ternyata ada alamat...\n",
    "        if self.tail != None:\n",
    "            # maka simpan alamat tersebut\n",
    "            tail_id = hex(id(self.tail))\n",
    "            # kita buat lebih spesifik untuk node berikutnya, tunjuk ke port id\n",
    "            tail_name += \":id\"\n",
    "\n",
    "        # Label (tabel) untuk pointer tail\n",
    "        # - pembuka tabel\n",
    "        str_label = \"<\"\n",
    "        str_label += \"<TABLE BORDER=\\\"0\\\" CELLBORDER=\\\"1\\\" CELLSPACING=\\\"0\\\">\"\n",
    "        # - baris head\n",
    "        str_label += \"<TR><TD>tail</TD></TR>\"\n",
    "        # - baris alamat (sekalian membuat port namanya \"contents\")\n",
    "        str_label += \"<TR><TD PORT=\\\"contents\\\">\" + str(tail_id) + \"</TD></TR>\"\n",
    "        # - penutup tabel\n",
    "        str_label += \"</TABLE>\"\n",
    "        str_label += \">\"\n",
    "\n",
    "        # Membuat node tail, membuat edge dari tail ke node nya\n",
    "        new_digraph.node(\"tail\", shape=\"none\", label=str_label)\n",
    "        new_digraph.edge(\"tail:contents\", tail_name)\n",
    "        # dari port \"contents\" ke node yang ditunjuk tail, namanya tail_name\n",
    "\n",
    "        # Digraph sudah jadi\n",
    "        return new_digraph"
   ]
  },
  {
   "cell_type": "code",
   "execution_count": null,
   "metadata": {
    "id": "bSxt1bpePHJa"
   },
   "outputs": [],
   "source": [
    "testDL = DLList()\n",
    "testDL.ins_front(5)\n",
    "testDL.ins_front(15)\n",
    "testDL.ins_front(25)\n",
    "testDL.ins_front(35)"
   ]
  },
  {
   "cell_type": "code",
   "execution_count": null,
   "metadata": {
    "colab": {
     "base_uri": "https://localhost:8080/"
    },
    "id": "AujC_6M5PHJa",
    "outputId": "ea3cc204-e0e0-4bfb-e228-cab1559cb002"
   },
   "outputs": [
    {
     "name": "stdout",
     "output_type": "stream",
     "text": [
      "head -> 35 <-> 25 <-> 15 <-> 5 <- tail\n"
     ]
    }
   ],
   "source": [
    "testDL.print_all()"
   ]
  },
  {
   "cell_type": "code",
   "execution_count": null,
   "metadata": {
    "id": "joYZ7aU3PHJa"
   },
   "outputs": [],
   "source": [
    "gambarDL = testDL.get_digraph()"
   ]
  },
  {
   "cell_type": "code",
   "execution_count": null,
   "metadata": {
    "colab": {
     "base_uri": "https://localhost:8080/",
     "height": 381
    },
    "id": "zICjptHZPHJb",
    "outputId": "c4416a1c-9383-4645-c79b-28b8f2aec995"
   },
   "outputs": [
    {
     "data": {
      "image/svg+xml": [
       "<?xml version=\"1.0\" encoding=\"UTF-8\" standalone=\"no\"?>\n",
       "<!DOCTYPE svg PUBLIC \"-//W3C//DTD SVG 1.1//EN\"\n",
       " \"http://www.w3.org/Graphics/SVG/1.1/DTD/svg11.dtd\">\n",
       "<!-- Generated by graphviz version 2.43.0 (0)\n",
       " -->\n",
       "<!-- Title: %3 Pages: 1 -->\n",
       "<svg width=\"1205pt\" height=\"255pt\"\n",
       " viewBox=\"0.00 0.00 1205.00 254.83\" xmlns=\"http://www.w3.org/2000/svg\" xmlns:xlink=\"http://www.w3.org/1999/xlink\">\n",
       "<g id=\"graph0\" class=\"graph\" transform=\"scale(1 1) rotate(0) translate(4 250.83)\">\n",
       "<title>%3</title>\n",
       "<polygon fill=\"white\" stroke=\"transparent\" points=\"-4,4 -4,-250.83 1201,-250.83 1201,4 -4,4\"/>\n",
       "<!-- head -->\n",
       "<g id=\"node1\" class=\"node\">\n",
       "<title>head</title>\n",
       "<polygon fill=\"none\" stroke=\"black\" points=\"8.5,-136 8.5,-157 107.5,-157 107.5,-136 8.5,-136\"/>\n",
       "<text text-anchor=\"start\" x=\"45\" y=\"-142.8\" font-family=\"Times,serif\" font-size=\"14.00\">head</text>\n",
       "<polygon fill=\"none\" stroke=\"black\" points=\"8.5,-115 8.5,-136 107.5,-136 107.5,-115 8.5,-115\"/>\n",
       "<text text-anchor=\"start\" x=\"11.5\" y=\"-121.8\" font-family=\"Times,serif\" font-size=\"14.00\">0x7dd768fb3430</text>\n",
       "</g>\n",
       "<!-- node0 -->\n",
       "<g id=\"node2\" class=\"node\">\n",
       "<title>node0</title>\n",
       "<polygon fill=\"none\" stroke=\"black\" points=\"159,-178 159,-199 195,-199 195,-178 159,-178\"/>\n",
       "<text text-anchor=\"start\" x=\"164.5\" y=\"-184.8\" font-family=\"Times,serif\" font-size=\"14.00\">prev</text>\n",
       "<polygon fill=\"none\" stroke=\"black\" points=\"195,-178 195,-199 224,-199 224,-178 195,-178\"/>\n",
       "<text text-anchor=\"start\" x=\"198\" y=\"-184.8\" font-family=\"Times,serif\" font-size=\"14.00\">data</text>\n",
       "<polygon fill=\"none\" stroke=\"black\" points=\"224,-178 224,-199 323,-199 323,-178 224,-178\"/>\n",
       "<text text-anchor=\"start\" x=\"261.5\" y=\"-184.8\" font-family=\"Times,serif\" font-size=\"14.00\">next</text>\n",
       "<polygon fill=\"none\" stroke=\"black\" points=\"159,-157 159,-178 195,-178 195,-157 159,-157\"/>\n",
       "<text text-anchor=\"start\" x=\"162\" y=\"-163.8\" font-family=\"Times,serif\" font-size=\"14.00\">None</text>\n",
       "<polygon fill=\"none\" stroke=\"black\" points=\"195,-157 195,-178 224,-178 224,-157 195,-157\"/>\n",
       "<text text-anchor=\"start\" x=\"202.5\" y=\"-163.8\" font-family=\"Times,serif\" font-size=\"14.00\">35</text>\n",
       "<polygon fill=\"none\" stroke=\"black\" points=\"224,-157 224,-178 323,-178 323,-157 224,-157\"/>\n",
       "<text text-anchor=\"start\" x=\"227\" y=\"-163.8\" font-family=\"Times,serif\" font-size=\"14.00\">0x7dd768fb39d0</text>\n",
       "<polygon fill=\"none\" stroke=\"black\" points=\"159,-136 159,-157 323,-157 323,-136 159,-136\"/>\n",
       "<text text-anchor=\"start\" x=\"207.5\" y=\"-142.8\" font-family=\"Times,serif\" font-size=\"14.00\">alamat node</text>\n",
       "<polygon fill=\"none\" stroke=\"black\" points=\"159,-115 159,-136 323,-136 323,-115 159,-115\"/>\n",
       "<text text-anchor=\"start\" x=\"194.5\" y=\"-121.8\" font-family=\"Times,serif\" font-size=\"14.00\">0x7dd768fb3430</text>\n",
       "</g>\n",
       "<!-- head&#45;&gt;node0 -->\n",
       "<g id=\"edge1\" class=\"edge\">\n",
       "<title>head:contents&#45;&gt;node0:id</title>\n",
       "<path fill=\"none\" stroke=\"black\" d=\"M108.5,-125C126.72,-125 133.62,-125 147.95,-125\"/>\n",
       "<polygon fill=\"black\" stroke=\"black\" points=\"148,-128.5 158,-125 148,-121.5 148,-128.5\"/>\n",
       "</g>\n",
       "<!-- node1 -->\n",
       "<g id=\"node3\" class=\"node\">\n",
       "<title>node1</title>\n",
       "<polygon fill=\"none\" stroke=\"black\" points=\"375.5,-135 375.5,-156 474.5,-156 474.5,-135 375.5,-135\"/>\n",
       "<text text-anchor=\"start\" x=\"412.5\" y=\"-141.8\" font-family=\"Times,serif\" font-size=\"14.00\">prev</text>\n",
       "<polygon fill=\"none\" stroke=\"black\" points=\"474.5,-135 474.5,-156 503.5,-156 503.5,-135 474.5,-135\"/>\n",
       "<text text-anchor=\"start\" x=\"477.5\" y=\"-141.8\" font-family=\"Times,serif\" font-size=\"14.00\">data</text>\n",
       "<polygon fill=\"none\" stroke=\"black\" points=\"503.5,-135 503.5,-156 602.5,-156 602.5,-135 503.5,-135\"/>\n",
       "<text text-anchor=\"start\" x=\"541\" y=\"-141.8\" font-family=\"Times,serif\" font-size=\"14.00\">next</text>\n",
       "<polygon fill=\"none\" stroke=\"black\" points=\"375.5,-114 375.5,-135 474.5,-135 474.5,-114 375.5,-114\"/>\n",
       "<text text-anchor=\"start\" x=\"378.5\" y=\"-120.8\" font-family=\"Times,serif\" font-size=\"14.00\">0x7dd768fb3430</text>\n",
       "<polygon fill=\"none\" stroke=\"black\" points=\"474.5,-114 474.5,-135 503.5,-135 503.5,-114 474.5,-114\"/>\n",
       "<text text-anchor=\"start\" x=\"482\" y=\"-120.8\" font-family=\"Times,serif\" font-size=\"14.00\">25</text>\n",
       "<polygon fill=\"none\" stroke=\"black\" points=\"503.5,-114 503.5,-135 602.5,-135 602.5,-114 503.5,-114\"/>\n",
       "<text text-anchor=\"start\" x=\"506.5\" y=\"-120.8\" font-family=\"Times,serif\" font-size=\"14.00\">0x7dd768fb3790</text>\n",
       "<polygon fill=\"none\" stroke=\"black\" points=\"375.5,-93 375.5,-114 602.5,-114 602.5,-93 375.5,-93\"/>\n",
       "<text text-anchor=\"start\" x=\"455.5\" y=\"-99.8\" font-family=\"Times,serif\" font-size=\"14.00\">alamat node</text>\n",
       "<polygon fill=\"none\" stroke=\"black\" points=\"375.5,-72 375.5,-93 602.5,-93 602.5,-72 375.5,-72\"/>\n",
       "<text text-anchor=\"start\" x=\"442.5\" y=\"-78.8\" font-family=\"Times,serif\" font-size=\"14.00\">0x7dd768fb39d0</text>\n",
       "</g>\n",
       "<!-- node0&#45;&gt;node1 -->\n",
       "<g id=\"edge2\" class=\"edge\">\n",
       "<title>node0:next&#45;&gt;node1:id</title>\n",
       "<path fill=\"none\" stroke=\"black\" d=\"M324,-168C364.34,-168 336.36,-96.76 364.43,-83.96\"/>\n",
       "<polygon fill=\"black\" stroke=\"black\" points=\"365.35,-87.34 374.5,-82 364.02,-80.47 365.35,-87.34\"/>\n",
       "</g>\n",
       "<!-- node&#45;1 -->\n",
       "<g id=\"node4\" class=\"node\">\n",
       "<title>node&#45;1</title>\n",
       "<text text-anchor=\"middle\" x=\"488.5\" y=\"-192.3\" font-family=\"Times,serif\" font-size=\"14.00\">None</text>\n",
       "</g>\n",
       "<!-- node0&#45;&gt;node&#45;1 -->\n",
       "<g id=\"edge3\" class=\"edge\">\n",
       "<title>node0:prev&#45;&gt;node&#45;1</title>\n",
       "<path fill=\"none\" stroke=\"black\" d=\"M158,-168C142.44,-168 147.84,-192.15 159,-203 237.96,-279.73 384.58,-236.78 451.96,-211\"/>\n",
       "<polygon fill=\"black\" stroke=\"black\" points=\"453.28,-214.24 461.31,-207.34 450.72,-207.73 453.28,-214.24\"/>\n",
       "</g>\n",
       "<!-- node1&#45;&gt;node0 -->\n",
       "<g id=\"edge5\" class=\"edge\">\n",
       "<title>node1:prev&#45;&gt;node0:id</title>\n",
       "<path fill=\"none\" stroke=\"black\" d=\"M374.5,-125C355.91,-125 348.87,-125 334.25,-125\"/>\n",
       "<polygon fill=\"black\" stroke=\"black\" points=\"334,-121.5 324,-125 334,-128.5 334,-121.5\"/>\n",
       "</g>\n",
       "<!-- node2 -->\n",
       "<g id=\"node5\" class=\"node\">\n",
       "<title>node2</title>\n",
       "<polygon fill=\"none\" stroke=\"black\" points=\"654.5,-135 654.5,-156 753.5,-156 753.5,-135 654.5,-135\"/>\n",
       "<text text-anchor=\"start\" x=\"691.5\" y=\"-141.8\" font-family=\"Times,serif\" font-size=\"14.00\">prev</text>\n",
       "<polygon fill=\"none\" stroke=\"black\" points=\"753.5,-135 753.5,-156 782.5,-156 782.5,-135 753.5,-135\"/>\n",
       "<text text-anchor=\"start\" x=\"756.5\" y=\"-141.8\" font-family=\"Times,serif\" font-size=\"14.00\">data</text>\n",
       "<polygon fill=\"none\" stroke=\"black\" points=\"782.5,-135 782.5,-156 883.5,-156 883.5,-135 782.5,-135\"/>\n",
       "<text text-anchor=\"start\" x=\"821\" y=\"-141.8\" font-family=\"Times,serif\" font-size=\"14.00\">next</text>\n",
       "<polygon fill=\"none\" stroke=\"black\" points=\"654.5,-114 654.5,-135 753.5,-135 753.5,-114 654.5,-114\"/>\n",
       "<text text-anchor=\"start\" x=\"657.5\" y=\"-120.8\" font-family=\"Times,serif\" font-size=\"14.00\">0x7dd768fb39d0</text>\n",
       "<polygon fill=\"none\" stroke=\"black\" points=\"753.5,-114 753.5,-135 782.5,-135 782.5,-114 753.5,-114\"/>\n",
       "<text text-anchor=\"start\" x=\"761\" y=\"-120.8\" font-family=\"Times,serif\" font-size=\"14.00\">15</text>\n",
       "<polygon fill=\"none\" stroke=\"black\" points=\"782.5,-114 782.5,-135 883.5,-135 883.5,-114 782.5,-114\"/>\n",
       "<text text-anchor=\"start\" x=\"785.5\" y=\"-120.8\" font-family=\"Times,serif\" font-size=\"14.00\">0x7dd76993bd00</text>\n",
       "<polygon fill=\"none\" stroke=\"black\" points=\"654.5,-93 654.5,-114 883.5,-114 883.5,-93 654.5,-93\"/>\n",
       "<text text-anchor=\"start\" x=\"735.5\" y=\"-99.8\" font-family=\"Times,serif\" font-size=\"14.00\">alamat node</text>\n",
       "<polygon fill=\"none\" stroke=\"black\" points=\"654.5,-72 654.5,-93 883.5,-93 883.5,-72 654.5,-72\"/>\n",
       "<text text-anchor=\"start\" x=\"722.5\" y=\"-78.8\" font-family=\"Times,serif\" font-size=\"14.00\">0x7dd768fb3790</text>\n",
       "</g>\n",
       "<!-- node1&#45;&gt;node2 -->\n",
       "<g id=\"edge4\" class=\"edge\">\n",
       "<title>node1:next&#45;&gt;node2:id</title>\n",
       "<path fill=\"none\" stroke=\"black\" d=\"M603.5,-125C628.92,-125 625.81,-92.66 643.65,-84.07\"/>\n",
       "<polygon fill=\"black\" stroke=\"black\" points=\"644.44,-87.49 653.5,-82 642.99,-80.64 644.44,-87.49\"/>\n",
       "</g>\n",
       "<!-- node2&#45;&gt;node1 -->\n",
       "<g id=\"edge7\" class=\"edge\">\n",
       "<title>node2:prev&#45;&gt;node1:id</title>\n",
       "<path fill=\"none\" stroke=\"black\" d=\"M653.5,-125C628.08,-125 631.19,-92.66 613.35,-84.07\"/>\n",
       "<polygon fill=\"black\" stroke=\"black\" points=\"614.01,-80.64 603.5,-82 612.56,-87.49 614.01,-80.64\"/>\n",
       "</g>\n",
       "<!-- node3 -->\n",
       "<g id=\"node6\" class=\"node\">\n",
       "<title>node3</title>\n",
       "<polygon fill=\"none\" stroke=\"black\" points=\"935,-92 935,-113 1034,-113 1034,-92 935,-92\"/>\n",
       "<text text-anchor=\"start\" x=\"972\" y=\"-98.8\" font-family=\"Times,serif\" font-size=\"14.00\">prev</text>\n",
       "<polygon fill=\"none\" stroke=\"black\" points=\"1034,-92 1034,-113 1063,-113 1063,-92 1034,-92\"/>\n",
       "<text text-anchor=\"start\" x=\"1037\" y=\"-98.8\" font-family=\"Times,serif\" font-size=\"14.00\">data</text>\n",
       "<polygon fill=\"none\" stroke=\"black\" points=\"1063,-92 1063,-113 1099,-113 1099,-92 1063,-92\"/>\n",
       "<text text-anchor=\"start\" x=\"1069\" y=\"-98.8\" font-family=\"Times,serif\" font-size=\"14.00\">next</text>\n",
       "<polygon fill=\"none\" stroke=\"black\" points=\"935,-71 935,-92 1034,-92 1034,-71 935,-71\"/>\n",
       "<text text-anchor=\"start\" x=\"938\" y=\"-77.8\" font-family=\"Times,serif\" font-size=\"14.00\">0x7dd768fb3790</text>\n",
       "<polygon fill=\"none\" stroke=\"black\" points=\"1034,-71 1034,-92 1063,-92 1063,-71 1034,-71\"/>\n",
       "<text text-anchor=\"start\" x=\"1045\" y=\"-77.8\" font-family=\"Times,serif\" font-size=\"14.00\">5</text>\n",
       "<polygon fill=\"none\" stroke=\"black\" points=\"1063,-71 1063,-92 1099,-92 1099,-71 1063,-71\"/>\n",
       "<text text-anchor=\"start\" x=\"1066\" y=\"-77.8\" font-family=\"Times,serif\" font-size=\"14.00\">None</text>\n",
       "<polygon fill=\"none\" stroke=\"black\" points=\"935,-50 935,-71 1099,-71 1099,-50 935,-50\"/>\n",
       "<text text-anchor=\"start\" x=\"983.5\" y=\"-56.8\" font-family=\"Times,serif\" font-size=\"14.00\">alamat node</text>\n",
       "<polygon fill=\"none\" stroke=\"black\" points=\"935,-29 935,-50 1099,-50 1099,-29 935,-29\"/>\n",
       "<text text-anchor=\"start\" x=\"969.5\" y=\"-35.8\" font-family=\"Times,serif\" font-size=\"14.00\">0x7dd76993bd00</text>\n",
       "</g>\n",
       "<!-- node2&#45;&gt;node3 -->\n",
       "<g id=\"edge6\" class=\"edge\">\n",
       "<title>node2:next&#45;&gt;node3:id</title>\n",
       "<path fill=\"none\" stroke=\"black\" d=\"M884.5,-125C924.64,-125 896.18,-53.76 924,-40.96\"/>\n",
       "<polygon fill=\"black\" stroke=\"black\" points=\"924.86,-44.36 934,-39 923.51,-37.49 924.86,-44.36\"/>\n",
       "</g>\n",
       "<!-- node3&#45;&gt;node2 -->\n",
       "<g id=\"edge9\" class=\"edge\">\n",
       "<title>node3:prev&#45;&gt;node2:id</title>\n",
       "<path fill=\"none\" stroke=\"black\" d=\"M934,-82C915.78,-82 908.88,-82 894.55,-82\"/>\n",
       "<polygon fill=\"black\" stroke=\"black\" points=\"894.5,-78.5 884.5,-82 894.5,-85.5 894.5,-78.5\"/>\n",
       "</g>\n",
       "<!-- node4 -->\n",
       "<g id=\"node7\" class=\"node\">\n",
       "<title>node4</title>\n",
       "<text text-anchor=\"middle\" x=\"1170\" y=\"-78.3\" font-family=\"Times,serif\" font-size=\"14.00\">None</text>\n",
       "</g>\n",
       "<!-- node3&#45;&gt;node4 -->\n",
       "<g id=\"edge8\" class=\"edge\">\n",
       "<title>node3:next&#45;&gt;node4</title>\n",
       "<path fill=\"none\" stroke=\"black\" d=\"M1100,-82C1110.6,-82 1122.12,-82 1132.65,-82\"/>\n",
       "<polygon fill=\"black\" stroke=\"black\" points=\"1132.79,-85.5 1142.79,-82 1132.79,-78.5 1132.79,-85.5\"/>\n",
       "</g>\n",
       "<!-- tail -->\n",
       "<g id=\"node8\" class=\"node\">\n",
       "<title>tail</title>\n",
       "<polygon fill=\"none\" stroke=\"black\" points=\"718.5,-25 718.5,-46 819.5,-46 819.5,-25 718.5,-25\"/>\n",
       "<text text-anchor=\"start\" x=\"760\" y=\"-31.8\" font-family=\"Times,serif\" font-size=\"14.00\">tail</text>\n",
       "<polygon fill=\"none\" stroke=\"black\" points=\"718.5,-4 718.5,-25 819.5,-25 819.5,-4 718.5,-4\"/>\n",
       "<text text-anchor=\"start\" x=\"721.5\" y=\"-10.8\" font-family=\"Times,serif\" font-size=\"14.00\">0x7dd76993bd00</text>\n",
       "</g>\n",
       "<!-- tail&#45;&gt;node3 -->\n",
       "<g id=\"edge10\" class=\"edge\">\n",
       "<title>tail:contents&#45;&gt;node3:id</title>\n",
       "<path fill=\"none\" stroke=\"black\" d=\"M820.5,-14C868.62,-14 880.76,-35.7 923.96,-38.67\"/>\n",
       "<polygon fill=\"black\" stroke=\"black\" points=\"923.89,-42.16 934,-39 924.12,-35.17 923.89,-42.16\"/>\n",
       "</g>\n",
       "</g>\n",
       "</svg>\n"
      ],
      "text/plain": [
       "<graphviz.graphs.Digraph at 0x7dd768f8c670>"
      ]
     },
     "metadata": {},
     "output_type": "display_data"
    }
   ],
   "source": [
    "display(gambarDL)"
   ]
  }
 ],
 "metadata": {
  "colab": {
   "provenance": [],
   "toc_visible": true
  },
  "kernelspec": {
   "display_name": "Python 3",
   "language": "python",
   "name": "python3"
  },
  "language_info": {
   "codemirror_mode": {
    "name": "ipython",
    "version": 3
   },
   "file_extension": ".py",
   "mimetype": "text/x-python",
   "name": "python",
   "nbconvert_exporter": "python",
   "pygments_lexer": "ipython3",
   "version": "3.10.11"
  }
 },
 "nbformat": 4,
 "nbformat_minor": 0
}
