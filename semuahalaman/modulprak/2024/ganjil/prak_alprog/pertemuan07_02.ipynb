{
  "cells": [
    {
      "cell_type": "markdown",
      "metadata": {},
      "source": [
        "---\n",
        "title: \"(Pertemuan 07.2) Sesi Review untuk UTS\"\n",
        "subtitle: \"Review Session for Midterm Exam\"\n",
        "author: \"Aslab Mata Kuliah Praktikum Algoritma dan Pemrograman\"\n",
        "description: \"Offline di Departemen Matematika\"\n",
        "date: 10/10/2024\n",
        "page-navigation: true\n",
        "format: html\n",
        "---\n",
        "\n",
        "Kembali ke [Mata Kuliah Praktikum Algoritma dan Pemrograman](./prak_alprog_2024.qmd)"
      ]
    },
    {
      "cell_type": "markdown",
      "metadata": {},
      "source": [
        "Atas kesepakatan dengan dosen, asisten lab mengadakan pertemuan praktikum berisi *review* materi UTS untuk mata kuliah Prak Alprog (Praktikum Algoritma dan Pemrograman). Konsep *review* di sini adalah sekaligus latihan, yaitu mengerjakan soal sembari mengingat materi Prak Alprog.\n",
        "\n",
        "Soal-soal berikut, serta solusinya, telah disiapkan sepenuhnya oleh aslab, berdasarkan materi Prak Alprog yang sebelumnya telah diajarkan oleh dosen. Kami harap sesi *review* ini bermanfaat :)"
      ]
    },
    {
      "cell_type": "markdown",
      "metadata": {
        "id": "h8e7PO-jLJbX"
      },
      "source": [
        "# SOAL 1"
      ]
    },
    {
      "cell_type": "markdown",
      "metadata": {},
      "source": [
        "Buat program yang mencetak 10 angka pertama dalam barisan Fibonacci\n",
        "\n",
        "Barisan Fibonacci:\n",
        "\n",
        "0, 1, 1, 2, 3, 5, 8, 13, 21, ..."
      ]
    },
    {
      "cell_type": "raw",
      "metadata": {},
      "source": [
        "::: {.callout-tip collapse=\"true\"}\n",
        "## Solusi dari aslab"
      ]
    },
    {
      "cell_type": "code",
      "execution_count": null,
      "metadata": {
        "colab": {
          "base_uri": "https://localhost:8080/"
        },
        "id": "iossTbd5Mzpd",
        "outputId": "14d94cb9-8d31-4f82-e9f4-040ba5f7f1c1"
      },
      "outputs": [
        {
          "name": "stdout",
          "output_type": "stream",
          "text": [
            "0\n",
            "1\n",
            "1\n",
            "2\n",
            "3\n",
            "5\n",
            "8\n",
            "13\n",
            "21\n",
            "34\n"
          ]
        }
      ],
      "source": [
        "a = 0\n",
        "b = 1\n",
        "for i in range(10):\n",
        "    print(a)\n",
        "    c = a + b\n",
        "    a = b\n",
        "    b = c"
      ]
    },
    {
      "cell_type": "code",
      "execution_count": null,
      "metadata": {
        "colab": {
          "base_uri": "https://localhost:8080/"
        },
        "id": "z7mRd65hNGY8",
        "outputId": "e5d8cce8-5ebb-442b-ca49-f0a9b2b86b24"
      },
      "outputs": [
        {
          "name": "stdout",
          "output_type": "stream",
          "text": [
            "0 1 1 2 3 5 8 13 21 34 "
          ]
        }
      ],
      "source": [
        "a = 0\n",
        "b = 1\n",
        "for i in range(10):\n",
        "    print(a, end = ' ')\n",
        "    c = a + b\n",
        "    a = b\n",
        "    b = c"
      ]
    },
    {
      "cell_type": "raw",
      "metadata": {},
      "source": [
        ":::"
      ]
    },
    {
      "cell_type": "markdown",
      "metadata": {},
      "source": [
        "# SOAL 2"
      ]
    },
    {
      "cell_type": "markdown",
      "metadata": {
        "id": "Rt18_HDGLe4H"
      },
      "source": [
        "Buat program untuk menentukan kuadran titik berdasarkan koordinat (x, y) yang dimasukkan"
      ]
    },
    {
      "cell_type": "raw",
      "metadata": {},
      "source": [
        "::: {.callout-tip collapse=\"true\"}\n",
        "## Solusi dari aslab"
      ]
    },
    {
      "cell_type": "code",
      "execution_count": null,
      "metadata": {
        "colab": {
          "base_uri": "https://localhost:8080/"
        },
        "id": "JzTUmpBJNIou",
        "outputId": "143e8c5b-6eca-43e8-b499-0bbab9a9bea8"
      },
      "outputs": [
        {
          "name": "stdout",
          "output_type": "stream",
          "text": [
            "Masukkan nilai x = 1\n",
            "Masukkan nilai y = 2\n",
            "Kuadran I\n"
          ]
        }
      ],
      "source": [
        "x = float(input(\"Masukkan nilai x = \"))\n",
        "y = float(input(\"Masukkan nilai y = \"))\n",
        "\n",
        "if x > 0 and y > 0:\n",
        "    print(\"Kuadran I\")\n",
        "elif x < 0 and y > 0:\n",
        "    print(\"Kuadran II\")\n",
        "elif x < 0 and y < 0:\n",
        "    print(\"Kuadran III\")\n",
        "elif x > 0 and y < 0:\n",
        "    print(\"Kuadran IV\")\n",
        "else:\n",
        "    print(\"Titik berada di sumbu\")"
      ]
    },
    {
      "cell_type": "raw",
      "metadata": {},
      "source": [
        ":::"
      ]
    },
    {
      "cell_type": "markdown",
      "metadata": {
        "id": "HrYeU3UoMC7x"
      },
      "source": [
        "# SOAL 3"
      ]
    },
    {
      "cell_type": "markdown",
      "metadata": {},
      "source": [
        "Buatlah program yang dapat menghitung banyaknya setiap huruf vokal yang ada dalam suatu string."
      ]
    },
    {
      "cell_type": "raw",
      "metadata": {},
      "source": [
        "::: {.callout-tip collapse=\"true\"}\n",
        "## Solusi dari aslab"
      ]
    },
    {
      "cell_type": "code",
      "execution_count": null,
      "metadata": {
        "colab": {
          "base_uri": "https://localhost:8080/"
        },
        "id": "EqgCEn1TMPhq",
        "outputId": "6e659f42-b9dc-4609-ec0b-4e17a851cd02"
      },
      "outputs": [
        {
          "name": "stdout",
          "output_type": "stream",
          "text": [
            "a = 2\n",
            "i = 1\n",
            "u = 0\n",
            "e = 0\n",
            "o = 1\n"
          ]
        }
      ],
      "source": [
        "mystring = 'halo gais'\n",
        "\n",
        "a = 0\n",
        "i = 0\n",
        "u = 0\n",
        "e = 0\n",
        "o = 0\n",
        "for character in mystring:\n",
        "  if character == 'a':\n",
        "    a = a + 1\n",
        "  elif character == 'i':\n",
        "    i = i + 1\n",
        "  elif character == 'u':\n",
        "    u = u + 1\n",
        "  elif character == 'e':\n",
        "    e = e + 1\n",
        "  elif character == 'o':\n",
        "    o = o + 1\n",
        "\n",
        "print('a =', a)\n",
        "print('i =', i)\n",
        "print('u =', u)\n",
        "print('e =', e)\n",
        "print('o =', o)"
      ]
    },
    {
      "cell_type": "raw",
      "metadata": {},
      "source": [
        ":::"
      ]
    },
    {
      "cell_type": "markdown",
      "metadata": {},
      "source": [
        "# SOAL 4"
      ]
    },
    {
      "cell_type": "markdown",
      "metadata": {
        "id": "v2nzbMu_LgI0"
      },
      "source": [
        "Buat program yang menerima n angka dari pengguna dan menghitung rata-ratanya."
      ]
    },
    {
      "cell_type": "raw",
      "metadata": {},
      "source": [
        "::: {.callout-tip collapse=\"true\"}\n",
        "## Solusi dari aslab"
      ]
    },
    {
      "cell_type": "code",
      "execution_count": null,
      "metadata": {
        "colab": {
          "base_uri": "https://localhost:8080/"
        },
        "id": "sRZFuF8tNMUt",
        "outputId": "77d15984-4b7d-474f-a0d6-fa9533ba40a3"
      },
      "outputs": [
        {
          "name": "stdout",
          "output_type": "stream",
          "text": [
            "Masukkan banyak angka = 5\n",
            "Masukkan angka ke-1 = 1\n",
            "Masukkan angka ke-2 = 9\n",
            "Masukkan angka ke-3 = 4\n",
            "Masukkan angka ke-4 = 8\n",
            "Masukkan angka ke-5 = 3\n",
            "Rata-rata adalah: 5.0\n"
          ]
        }
      ],
      "source": [
        "n = int(input(\"Masukkan banyak angka = \"))\n",
        "jumlah = 0\n",
        "for i in range(n):\n",
        "    num = float(input(\"Masukkan angka ke-\" + str(i + 1) + \" = \"))\n",
        "    jumlah += num\n",
        "\n",
        "rata_rata = jumlah / n\n",
        "print(\"Rata-rata adalah:\", round(rata_rata, 2))"
      ]
    },
    {
      "cell_type": "raw",
      "metadata": {},
      "source": [
        ":::"
      ]
    },
    {
      "cell_type": "markdown",
      "metadata": {},
      "source": [
        "# SOAL 5"
      ]
    },
    {
      "cell_type": "markdown",
      "metadata": {
        "id": "M8Zfd4EGLnbH"
      },
      "source": [
        "Buat program yang meminta pengguna untuk memasukkan 5 angka, menyimpannya dalam list, dan menghitung faktorial dari setiap angka dalam list."
      ]
    },
    {
      "cell_type": "raw",
      "metadata": {},
      "source": [
        "::: {.callout-tip collapse=\"true\"}\n",
        "## Solusi dari aslab"
      ]
    },
    {
      "cell_type": "code",
      "execution_count": null,
      "metadata": {
        "colab": {
          "base_uri": "https://localhost:8080/"
        },
        "id": "k6JCpw5tNSAu",
        "outputId": "6ad8192b-0216-4e9d-b7e5-b633c370f373"
      },
      "outputs": [
        {
          "name": "stdout",
          "output_type": "stream",
          "text": [
            "Masukkan angka ke-1 = 1\n",
            "Masukkan angka ke-2 = 2\n",
            "Masukkan angka ke-3 = 3\n",
            "Masukkan angka ke-4 = 4\n",
            "Masukkan angka ke-5 = 5\n",
            "Faktorial dari angka dalam list adalah: [1, 2, 6, 24, 120]\n"
          ]
        }
      ],
      "source": [
        "list_angka = []\n",
        "for i in range(5):\n",
        "    n = int(input(\"Masukkan angka ke-\" + str(i + 1) + \" = \"))\n",
        "    faktorial = 1\n",
        "    for j in range(1, n + 1):\n",
        "        faktorial *= j\n",
        "    list_angka.append(faktorial)\n",
        "\n",
        "print(\"Faktorial dari angka dalam list adalah:\", list_angka)"
      ]
    },
    {
      "cell_type": "raw",
      "metadata": {},
      "source": [
        ":::"
      ]
    },
    {
      "cell_type": "markdown",
      "metadata": {},
      "source": [
        "# SOAL 6"
      ]
    },
    {
      "cell_type": "markdown",
      "metadata": {
        "id": "D257vR36MLHj"
      },
      "source": [
        "Buatlah program dengan while loop yang dapat menghitung faktorial dari bilangan bulat yang diinput oleh user."
      ]
    },
    {
      "cell_type": "raw",
      "metadata": {},
      "source": [
        "::: {.callout-tip collapse=\"true\"}\n",
        "## Solusi dari aslab"
      ]
    },
    {
      "cell_type": "code",
      "execution_count": null,
      "metadata": {
        "colab": {
          "base_uri": "https://localhost:8080/"
        },
        "id": "4Ss6vFgGMKa6",
        "outputId": "8a3858ce-5825-468f-82a7-1982f59f4f41"
      },
      "outputs": [
        {
          "name": "stdout",
          "output_type": "stream",
          "text": [
            "120\n"
          ]
        }
      ],
      "source": [
        "n = 5\n",
        "# n = input\n",
        "if n >= 0:\n",
        "  faktorial = 1\n",
        "  while n >= 1:\n",
        "    faktorial = faktorial * n\n",
        "    n = n - 1\n",
        "  print(faktorial)\n",
        "else:\n",
        "  print()"
      ]
    },
    {
      "cell_type": "raw",
      "metadata": {},
      "source": [
        ":::"
      ]
    },
    {
      "cell_type": "markdown",
      "metadata": {},
      "source": [
        "# SOAL 7"
      ]
    },
    {
      "cell_type": "markdown",
      "metadata": {
        "id": "P6P_O5RbMQ13"
      },
      "source": [
        "Buatlah program yang dapat menampilkan list yang berisi elemen-elemen unik dari suatu list yang diberikan."
      ]
    },
    {
      "cell_type": "raw",
      "metadata": {},
      "source": [
        "::: {.callout-tip collapse=\"true\"}\n",
        "## Solusi dari aslab"
      ]
    },
    {
      "cell_type": "code",
      "execution_count": null,
      "metadata": {
        "colab": {
          "base_uri": "https://localhost:8080/"
        },
        "id": "eiUtX6JqMW32",
        "outputId": "0215b555-d961-47df-c5b5-bf9f45c618f6"
      },
      "outputs": [
        {
          "name": "stdout",
          "output_type": "stream",
          "text": [
            "[1, 2, 4, 5, 3, 10, 12, 7, 8]\n"
          ]
        }
      ],
      "source": [
        "mylist = [1,1,2,4,5,3,3,3,10,3,4,12,12,7,8]\n",
        "\n",
        "uniquelist = []\n",
        "for elemen in mylist:\n",
        "  if elemen not in uniquelist:\n",
        "    uniquelist.append(elemen)\n",
        "\n",
        "print(uniquelist)"
      ]
    },
    {
      "cell_type": "raw",
      "metadata": {},
      "source": [
        ":::"
      ]
    },
    {
      "cell_type": "markdown",
      "metadata": {},
      "source": [
        "# SOAL 8"
      ]
    },
    {
      "cell_type": "markdown",
      "metadata": {
        "id": "M95pW1u6MdOE"
      },
      "source": [
        "Diberikan 2 list dengan panjang yang sama. Hitunglah dot product dari kedua list tersebut."
      ]
    },
    {
      "cell_type": "raw",
      "metadata": {},
      "source": [
        "::: {.callout-tip collapse=\"true\"}\n",
        "## Solusi dari aslab"
      ]
    },
    {
      "cell_type": "code",
      "execution_count": null,
      "metadata": {
        "colab": {
          "base_uri": "https://localhost:8080/"
        },
        "id": "p5deD-9cMe2E",
        "outputId": "2f985b9e-a9a0-4164-de55-6203d9b32c6c"
      },
      "outputs": [
        {
          "name": "stdout",
          "output_type": "stream",
          "text": [
            "32\n"
          ]
        }
      ],
      "source": [
        "list1 = [1,2,3]\n",
        "list2 = [4,5,6]\n",
        "n = len(list1)\n",
        "\n",
        "dotproduct = 0\n",
        "for i in range(n):\n",
        "  dotproduct = dotproduct + list1[i]*list2[i]\n",
        "\n",
        "print(dotproduct)"
      ]
    },
    {
      "cell_type": "raw",
      "metadata": {},
      "source": [
        ":::"
      ]
    },
    {
      "cell_type": "markdown",
      "metadata": {},
      "source": [
        "# SOAL 9"
      ]
    },
    {
      "cell_type": "markdown",
      "metadata": {
        "id": "WsndS5z3MlEV"
      },
      "source": [
        "Diberikan 3 titik yang masing-masing dalam bentuk array 1 dimensi dengan 2 elemen. Hitunglah keliling dari segitiga yang dibentuk dari 3 titik tersebut."
      ]
    },
    {
      "cell_type": "raw",
      "metadata": {},
      "source": [
        "::: {.callout-tip collapse=\"true\"}\n",
        "## Solusi dari aslab"
      ]
    },
    {
      "cell_type": "code",
      "execution_count": null,
      "metadata": {
        "id": "gucgeBmIMn_O"
      },
      "outputs": [],
      "source": [
        "import numpy as np\n",
        "\n",
        "titik1 = np.array([1,2])\n",
        "titik2 = np.array([2,3])\n",
        "titik3 = np.array([-1,4])\n",
        "\n",
        "sisi1 = np.sqrt((titik1[0]-titik2[0])**2 + (titik1[1]-titik2[1])**2)\n",
        "sisi2 = np.sqrt((titik1[0]-titik3[0])**2 + (titik1[1]-titik3[1])**2)\n",
        "sisi3 = np.sqrt((titik2[0]-titik3[0])**2 + (titik2[1]-titik3[1])**2)\n",
        "\n",
        "keliling = sisi1 + sisi2 + sisi3\n",
        "print(keliling)"
      ]
    },
    {
      "cell_type": "raw",
      "metadata": {},
      "source": [
        ":::"
      ]
    },
    {
      "cell_type": "markdown",
      "metadata": {},
      "source": [
        "# SOAL 10"
      ]
    },
    {
      "cell_type": "markdown",
      "metadata": {
        "id": "8s11ZK_OMoNU"
      },
      "source": [
        "Diberikan suatu matriks berukuran nxn dalam bentuk array 2 dimensi. Buatlah matriks baru dari matriks yang diberikan dengan ketentuan:\n",
        "\n",
        "- Jika n genap, maka tukar baris pertama matrik dengan baris terakhir matriks\n",
        "\n",
        "- Jika n ganjil, maka tukar naris pertama matriks dengan baris tengah matriks\n",
        "\n",
        "Kemudian, hitung hasil perkalian dari kedua matriks tersebut."
      ]
    },
    {
      "cell_type": "raw",
      "metadata": {},
      "source": [
        "::: {.callout-tip collapse=\"true\"}\n",
        "## Solusi dari aslab"
      ]
    },
    {
      "cell_type": "code",
      "execution_count": null,
      "metadata": {
        "colab": {
          "base_uri": "https://localhost:8080/"
        },
        "id": "REIwzNduMuNZ",
        "outputId": "5436ee95-2820-4511-b1d9-3589ed2c74a2"
      },
      "outputs": [
        {
          "name": "stdout",
          "output_type": "stream",
          "text": [
            "A = [[1 2 3]\n",
            " [4 5 6]\n",
            " [7 8 9]]\n",
            "B = [[4 5 6]\n",
            " [1 2 3]\n",
            " [7 8 9]]\n",
            "AxB = [[ 27  33  39]\n",
            " [ 63  78  93]\n",
            " [ 99 123 147]]\n"
          ]
        }
      ],
      "source": [
        "import numpy as np\n",
        "A = np.array([[1,2,3],[4,5,6],[7,8,9]])\n",
        "\n",
        "print('A =', A)\n",
        "B = A.copy()\n",
        "n = len(A)\n",
        "\n",
        "if n % 2 == 0:\n",
        "  temp = B[0].copy()\n",
        "  B[0] = B[n-1]\n",
        "  B[n-1] = temp\n",
        "  print('B =', B)\n",
        "else:\n",
        "  tengah = n//2\n",
        "  temp = B[0].copy()\n",
        "  B[0] = B[tengah]\n",
        "  B[tengah] = temp\n",
        "  print('B =', B)\n",
        "\n",
        "hasilkali = np.matmul(A, B)\n",
        "print('AxB =', hasilkali)"
      ]
    },
    {
      "cell_type": "raw",
      "metadata": {},
      "source": [
        ":::"
      ]
    },
    {
      "cell_type": "markdown",
      "metadata": {},
      "source": [
        "# SOAL 11"
      ]
    },
    {
      "cell_type": "markdown",
      "metadata": {
        "id": "LkOp4knYLyWl"
      },
      "source": [
        "Buat program yang menerima input berupa 5 bilangan bulat, simpan dalam array, lalu tentukan berapa banyak bilangan prima di dalam array tersebut."
      ]
    },
    {
      "cell_type": "raw",
      "metadata": {},
      "source": [
        "::: {.callout-tip collapse=\"true\"}\n",
        "## Solusi dari aslab"
      ]
    },
    {
      "cell_type": "code",
      "execution_count": null,
      "metadata": {
        "colab": {
          "base_uri": "https://localhost:8080/"
        },
        "id": "2KLhvTdEE7xd",
        "outputId": "baac96a7-5b60-484c-e03e-ff96f5d95ae9"
      },
      "outputs": [
        {
          "name": "stdout",
          "output_type": "stream",
          "text": [
            "Masukkan bilangan bulat ke-1 = 3\n",
            "Masukkan bilangan bulat ke-2 = 4\n",
            "Masukkan bilangan bulat ke-3 = 4\n",
            "Masukkan bilangan bulat ke-4 = 5\n",
            "Masukkan bilangan bulat ke-5 = 6\n",
            "Jumlah bilangan prima dalam array adalah: 2\n"
          ]
        }
      ],
      "source": [
        "# Meminta input dari pengguna untuk 5 bilangan bulat\n",
        "list_angka = []\n",
        "for i in range(5):\n",
        "    n = int(input(\"Masukkan bilangan bulat ke-\" + str(i + 1) + \" = \"))\n",
        "    list_angka.append(n)\n",
        "\n",
        "# Menghitung jumlah bilangan prima\n",
        "jumlah_prima = 0\n",
        "for n in list_angka:\n",
        "    if n < 2:\n",
        "        continue\n",
        "    else:\n",
        "      for i in range(2, n):\n",
        "          if n % i == 0:\n",
        "            break\n",
        "          else:  # Jika angka adalah prima\n",
        "            jumlah_prima += 1  # Tambah jumlah bilangan prima\n",
        "            break\n",
        "\n",
        "\n",
        "print(\"Jumlah bilangan prima dalam array adalah:\", jumlah_prima)"
      ]
    },
    {
      "cell_type": "code",
      "execution_count": null,
      "metadata": {
        "colab": {
          "base_uri": "https://localhost:8080/"
        },
        "id": "qWaYUb14NXlX",
        "outputId": "f8a94245-88bb-486c-9a14-d696d453bc85"
      },
      "outputs": [
        {
          "name": "stdout",
          "output_type": "stream",
          "text": [
            "Masukkan bilangan bulat ke-1 = 1\n",
            "Masukkan bilangan bulat ke-2 = 2\n",
            "Masukkan bilangan bulat ke-3 = 3\n",
            "Masukkan bilangan bulat ke-4 = 4\n",
            "Masukkan bilangan bulat ke-5 = 5\n",
            "Jumlah bilangan prima dalam array adalah: 3\n"
          ]
        }
      ],
      "source": [
        "# Meminta input dari pengguna untuk 5 bilangan bulat\n",
        "list_angka = []\n",
        "for i in range(5):\n",
        "    n = int(input(\"Masukkan bilangan bulat ke-\" + str(i + 1) + \" = \"))\n",
        "    list_angka.append(n)\n",
        "\n",
        "# Menghitung jumlah bilangan prima\n",
        "jumlah_prima = 0\n",
        "for n in list_angka:\n",
        "    if n < 2:\n",
        "        continue  # Angka kurang dari 2 tidak dianggap prima\n",
        "\n",
        "    prima = True  # Anggap angka adalah prima\n",
        "    for i in range(2, n):\n",
        "        if n % i == 0:  # Jika angka dapat dibagi habis oleh i\n",
        "            prima = False  # Angka bukan prima\n",
        "            break  # Keluar dari loop jika bukan prima\n",
        "\n",
        "    if prima:  # Jika angka adalah prima\n",
        "        jumlah_prima += 1  # Tambah jumlah bilangan prima\n",
        "\n",
        "print(\"Jumlah bilangan prima dalam array adalah:\", jumlah_prima)"
      ]
    },
    {
      "cell_type": "raw",
      "metadata": {},
      "source": [
        ":::"
      ]
    },
    {
      "cell_type": "markdown",
      "metadata": {},
      "source": [
        "# SOAL 12"
      ]
    },
    {
      "cell_type": "markdown",
      "metadata": {
        "id": "-FUCTT-NL-vm"
      },
      "source": [
        "Buatlah program yang meminta pengguna untuk memasukkan harga dan diskon untuk n produk. Diskon dihitung dalam persen. Program harus menghitung harga akhir setelah diskon."
      ]
    },
    {
      "cell_type": "raw",
      "metadata": {},
      "source": [
        "::: {.callout-tip collapse=\"true\"}\n",
        "## Solusi dari aslab"
      ]
    },
    {
      "cell_type": "code",
      "execution_count": null,
      "metadata": {
        "colab": {
          "base_uri": "https://localhost:8080/"
        },
        "id": "ctXMaLf-Ncrb",
        "outputId": "a718232e-13d7-44a7-b429-e72993472b85"
      },
      "outputs": [
        {
          "name": "stdout",
          "output_type": "stream",
          "text": [
            "Masukkan banyak produk = 3\n",
            "Masukkan harga produk ke-1 = 300000\n",
            "Masukkan diskon produk ke-1 = 25\n",
            "Masukkan harga produk ke-2 = 150000\n",
            "Masukkan diskon produk ke-2 = 10\n",
            "Masukkan harga produk ke-3 = 175000\n",
            "Masukkan diskon produk ke-3 = 15\n",
            "Harga akhir produk ke-1 adalah = 225000.0\n",
            "Harga akhir produk ke-2 adalah = 135000.0\n",
            "Harga akhir produk ke-3 adalah = 148750.0\n",
            "Harga total semua produk adalah =  508750.0\n"
          ]
        }
      ],
      "source": [
        "# Inisialisasi list untuk harga dan diskon\n",
        "harga_produk = []\n",
        "diskon_produk = []\n",
        "\n",
        "# Input harga dan diskon\n",
        "n = int(input(\"Masukkan banyak produk = \"))\n",
        "for i in range(n):\n",
        "    harga = float(input(\"Masukkan harga produk ke-\" + str(i + 1) + \" = \"))\n",
        "    diskon = float(input(\"Masukkan diskon produk ke-\" + str(i + 1) + \" = \"))\n",
        "    harga_produk.append(harga)\n",
        "    diskon_produk.append(diskon)\n",
        "\n",
        "# Hitung harga akhir dan harga akhir total\n",
        "harga_akhir_total = 0\n",
        "for i in range(n):\n",
        "    harga_akhir = harga_produk[i] * (1 - (diskon_produk[i] / 100))\n",
        "    harga_akhir_total += harga_akhir\n",
        "    print(\"Harga akhir produk ke-\" + str(i + 1) + \" adalah = \" + str(harga_akhir))\n",
        "\n",
        "print(\"Harga total semua produk adalah = \", harga_akhir_total)"
      ]
    },
    {
      "cell_type": "raw",
      "metadata": {},
      "source": [
        ":::"
      ]
    }
  ],
  "metadata": {
    "colab": {
      "provenance": []
    },
    "kernelspec": {
      "display_name": "Python 3",
      "name": "python3"
    },
    "language_info": {
      "name": "python"
    }
  },
  "nbformat": 4,
  "nbformat_minor": 0
}
