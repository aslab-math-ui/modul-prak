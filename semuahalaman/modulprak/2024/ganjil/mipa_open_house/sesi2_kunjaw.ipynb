{
  "cells": [
    {
      "cell_type": "markdown",
      "metadata": {},
      "source": [
        "---\n",
        "title: 'Sesi 2: Praktikum Algoritma Pemrograman'\n",
        "description: Offline di Departemen Matematika\n",
        "date: 11/09/2024\n",
        "page-navigation: true\n",
        "format: html\n",
        "engine: jupyter\n",
        "jupyter: python3\n",
        "---\n",
        "\n",
        "Kembali ke [MIPA Open House](./mipa_open_house.qmd)\n",
        "\n",
        "Kalian bisa men-*download* modul ini dalam format `.ipynb` dengan memencet tombol berikut:\n",
        "\n",
        "- Sebagian sel belum diisi: [*Download* `sesi2.ipynb.zip`](./sesi2.ipynb.zip)\n",
        "\n",
        "- Semua kode sudah diisi, seperti di sini: [*Download* `sesi2_kunjaw.ipynb.zip`](./sesi2_kunjaw.ipynb.zip)"
      ]
    },
    {
      "cell_type": "code",
      "execution_count": null,
      "metadata": {},
      "outputs": [],
      "source": [
        "print(\"Hello world!\")"
      ]
    },
    {
      "cell_type": "code",
      "execution_count": null,
      "metadata": {},
      "outputs": [],
      "source": [
        "print(\"Selamat pagi\")\n",
        "print(\"Selamat siang\")\n",
        "print(\"Selamat sore\")"
      ]
    },
    {
      "cell_type": "markdown",
      "metadata": {},
      "source": [
        "Untuk membuat catatan atau *comment*, gunakan `#`"
      ]
    },
    {
      "cell_type": "code",
      "execution_count": null,
      "metadata": {},
      "outputs": [],
      "source": [
        "# ini comment (catatan)"
      ]
    },
    {
      "cell_type": "markdown",
      "metadata": {},
      "source": [
        "## Operasi Dasar\n",
        "\n",
        "- Tambah: `+`\n",
        "\n",
        "- Kurang: `-`\n",
        "\n",
        "- Kali: `*`\n",
        "\n",
        "- Bagi: `/`\n",
        "\n",
        "- Modulo (hasil bagi): `%`\n",
        "\n",
        "- Pangkat: `**`"
      ]
    },
    {
      "cell_type": "code",
      "execution_count": null,
      "metadata": {},
      "outputs": [],
      "source": [
        "# tambah\n",
        "print(1 + 2)"
      ]
    },
    {
      "cell_type": "code",
      "execution_count": null,
      "metadata": {},
      "outputs": [],
      "source": [
        "# kurang\n",
        "print(2-1)"
      ]
    },
    {
      "cell_type": "code",
      "execution_count": null,
      "metadata": {},
      "outputs": [],
      "source": [
        "# kali\n",
        "print(1*2)"
      ]
    },
    {
      "cell_type": "code",
      "execution_count": null,
      "metadata": {},
      "outputs": [],
      "source": [
        "# bagi\n",
        "print(2/1)"
      ]
    },
    {
      "cell_type": "code",
      "execution_count": null,
      "metadata": {},
      "outputs": [],
      "source": [
        "# modulo\n",
        "print(4 % 3)\n",
        "print(5 % 3)\n",
        "print(6 % 3)"
      ]
    },
    {
      "cell_type": "code",
      "execution_count": null,
      "metadata": {},
      "outputs": [],
      "source": [
        "# pangkat\n",
        "print(4**3)"
      ]
    },
    {
      "cell_type": "markdown",
      "metadata": {},
      "source": [
        "$$\\frac{3^2 - 5}{2} + 1 = \\text{ ?}$$"
      ]
    },
    {
      "cell_type": "code",
      "execution_count": null,
      "metadata": {
        "colab": {
          "base_uri": "https://localhost:8080/"
        },
        "executionInfo": {
          "elapsed": 11,
          "status": "ok",
          "timestamp": 1731051902008,
          "user": {
            "displayName": "Komputasi Kelas B",
            "userId": "06926514210856024628"
          },
          "user_tz": -420
        }
      },
      "outputs": [],
      "source": [
        "(3**2 - 5)/2 + 1"
      ]
    },
    {
      "cell_type": "markdown",
      "metadata": {},
      "source": [
        "## Variabel, Input, *String*\n"
      ]
    },
    {
      "cell_type": "code",
      "execution_count": null,
      "metadata": {},
      "outputs": [],
      "source": [
        "a = 2\n",
        "b = 3\n",
        "a = b\n",
        "print(a)\n",
        "print(b)"
      ]
    },
    {
      "cell_type": "code",
      "execution_count": null,
      "metadata": {},
      "outputs": [],
      "source": [
        "nama = input(\"Masukkan nama: \")\n",
        "print(nama)"
      ]
    },
    {
      "cell_type": "code",
      "execution_count": null,
      "metadata": {},
      "outputs": [],
      "source": [
        "kalimat = \"Nama saya \" + nama\n",
        "print(kalimat)"
      ]
    },
    {
      "cell_type": "code",
      "execution_count": null,
      "metadata": {},
      "outputs": [],
      "source": [
        "print(\"Nama saya \" + nama)"
      ]
    },
    {
      "cell_type": "code",
      "execution_count": null,
      "metadata": {},
      "outputs": [],
      "source": [
        "nama = input(\"Masukkan nama: \")\n",
        "print(\"Nama saya \" + nama)"
      ]
    },
    {
      "cell_type": "markdown",
      "metadata": {},
      "source": [
        "Buatlah kode yang menerima input `nama` lalu menghasilkan pesan:\n",
        "\n",
        "> Selamat siang (nama)"
      ]
    },
    {
      "cell_type": "code",
      "execution_count": null,
      "metadata": {},
      "outputs": [],
      "source": [
        "print(\"Selamat siang \" + nama)"
      ]
    },
    {
      "cell_type": "markdown",
      "metadata": {},
      "source": [
        "## Tipe Data"
      ]
    },
    {
      "cell_type": "code",
      "execution_count": null,
      "metadata": {
        "colab": {
          "base_uri": "https://localhost:8080/"
        },
        "executionInfo": {
          "elapsed": 2020,
          "status": "ok",
          "timestamp": 1731054256080,
          "user": {
            "displayName": "Komputasi Kelas B",
            "userId": "06926514210856024628"
          },
          "user_tz": -420
        }
      },
      "outputs": [],
      "source": [
        "nama = input(\"Masukkan nama: \")\n",
        "print(nama)"
      ]
    },
    {
      "cell_type": "code",
      "execution_count": null,
      "metadata": {
        "colab": {
          "base_uri": "https://localhost:8080/"
        },
        "executionInfo": {
          "elapsed": 10,
          "status": "ok",
          "timestamp": 1731054257053,
          "user": {
            "displayName": "Komputasi Kelas B",
            "userId": "06926514210856024628"
          },
          "user_tz": -420
        }
      },
      "outputs": [],
      "source": [
        "print(type(nama))"
      ]
    },
    {
      "cell_type": "code",
      "execution_count": null,
      "metadata": {
        "colab": {
          "base_uri": "https://localhost:8080/"
        },
        "executionInfo": {
          "elapsed": 3247,
          "status": "ok",
          "timestamp": 1731054261905,
          "user": {
            "displayName": "Komputasi Kelas B",
            "userId": "06926514210856024628"
          },
          "user_tz": -420
        }
      },
      "outputs": [],
      "source": [
        "x_masuk = input(\"Masukkan angka: \")\n",
        "print(x_masuk)"
      ]
    },
    {
      "cell_type": "code",
      "execution_count": null,
      "metadata": {
        "colab": {
          "base_uri": "https://localhost:8080/"
        },
        "executionInfo": {
          "elapsed": 8,
          "status": "ok",
          "timestamp": 1731054263256,
          "user": {
            "displayName": "Komputasi Kelas B",
            "userId": "06926514210856024628"
          },
          "user_tz": -420
        }
      },
      "outputs": [],
      "source": [
        "print(type(x_masuk))"
      ]
    },
    {
      "cell_type": "code",
      "execution_count": null,
      "metadata": {
        "colab": {
          "base_uri": "https://localhost:8080/"
        },
        "executionInfo": {
          "elapsed": 9,
          "status": "ok",
          "timestamp": 1731054264691,
          "user": {
            "displayName": "Komputasi Kelas B",
            "userId": "06926514210856024628"
          },
          "user_tz": -420
        }
      },
      "outputs": [],
      "source": [
        "x_angka = int(x_masuk)\n",
        "print(x_angka)"
      ]
    },
    {
      "cell_type": "code",
      "execution_count": null,
      "metadata": {
        "colab": {
          "base_uri": "https://localhost:8080/"
        },
        "executionInfo": {
          "elapsed": 331,
          "status": "ok",
          "timestamp": 1731054267883,
          "user": {
            "displayName": "Komputasi Kelas B",
            "userId": "06926514210856024628"
          },
          "user_tz": -420
        }
      },
      "outputs": [],
      "source": [
        "print(type(x_angka))"
      ]
    },
    {
      "cell_type": "code",
      "execution_count": null,
      "metadata": {
        "colab": {
          "base_uri": "https://localhost:8080/"
        },
        "executionInfo": {
          "elapsed": 4929,
          "status": "ok",
          "timestamp": 1731054277854,
          "user": {
            "displayName": "Komputasi Kelas B",
            "userId": "06926514210856024628"
          },
          "user_tz": -420
        }
      },
      "outputs": [],
      "source": [
        "y = int(input(\"Masukkan angka: \"))\n",
        "print(y)"
      ]
    },
    {
      "cell_type": "code",
      "execution_count": null,
      "metadata": {
        "colab": {
          "base_uri": "https://localhost:8080/"
        },
        "executionInfo": {
          "elapsed": 6,
          "status": "ok",
          "timestamp": 1731054278326,
          "user": {
            "displayName": "Komputasi Kelas B",
            "userId": "06926514210856024628"
          },
          "user_tz": -420
        }
      },
      "outputs": [],
      "source": [
        "print(type(y))"
      ]
    },
    {
      "cell_type": "markdown",
      "metadata": {},
      "source": [
        "## Pernyataan Bersyarat/Kondisional: `if`, `elif` (else if), `else`"
      ]
    },
    {
      "cell_type": "code",
      "execution_count": null,
      "metadata": {
        "colab": {
          "base_uri": "https://localhost:8080/"
        },
        "executionInfo": {
          "elapsed": 1715,
          "status": "ok",
          "timestamp": 1731054291197,
          "user": {
            "displayName": "Komputasi Kelas B",
            "userId": "06926514210856024628"
          },
          "user_tz": -420
        }
      },
      "outputs": [],
      "source": [
        "x = int(input(\"Masukkan angka: \"))\n",
        "if (x % 2 == 0):\n",
        "  print(\"Genap\")\n",
        "else:\n",
        "  print(\"Ganjil\")"
      ]
    },
    {
      "cell_type": "markdown",
      "metadata": {},
      "source": [
        "## Pernyataan Berulang: `for`, `while`\n",
        "\n",
        "Problem: hitung\n",
        "\n",
        "$$1 + 2 + 3 + \\dots + 100 = \\text{ ?}$$"
      ]
    },
    {
      "cell_type": "code",
      "execution_count": null,
      "metadata": {
        "colab": {
          "base_uri": "https://localhost:8080/"
        },
        "executionInfo": {
          "elapsed": 355,
          "status": "ok",
          "timestamp": 1731053359652,
          "user": {
            "displayName": "Komputasi Kelas B",
            "userId": "06926514210856024628"
          },
          "user_tz": -420
        }
      },
      "outputs": [],
      "source": [
        "hasil = 0\n",
        "for i in range(1, 100+1):\n",
        "  hasil = hasil + i\n",
        "print(hasil)"
      ]
    },
    {
      "cell_type": "markdown",
      "metadata": {},
      "source": [
        "Problem: ..."
      ]
    },
    {
      "cell_type": "code",
      "execution_count": null,
      "metadata": {
        "colab": {
          "base_uri": "https://localhost:8080/"
        },
        "executionInfo": {
          "elapsed": 348,
          "status": "ok",
          "timestamp": 1731053134749,
          "user": {
            "displayName": "Komputasi Kelas B",
            "userId": "06926514210856024628"
          },
          "user_tz": -420
        }
      },
      "outputs": [],
      "source": [
        "n = 0\n",
        "hasil = 1\n",
        "while (hasil < 1000):\n",
        "  hasil = hasil * 2\n",
        "  n = n + 1\n",
        "print(n)\n",
        "print(hasil)"
      ]
    },
    {
      "cell_type": "code",
      "execution_count": null,
      "metadata": {
        "colab": {
          "base_uri": "https://localhost:8080/"
        },
        "executionInfo": {
          "elapsed": 387,
          "status": "ok",
          "timestamp": 1731053145945,
          "user": {
            "displayName": "Komputasi Kelas B",
            "userId": "06926514210856024628"
          },
          "user_tz": -420
        }
      },
      "outputs": [],
      "source": [
        "print(2**10)"
      ]
    },
    {
      "cell_type": "markdown",
      "metadata": {},
      "source": [
        "## List"
      ]
    },
    {
      "cell_type": "code",
      "execution_count": null,
      "metadata": {},
      "outputs": [],
      "source": [
        "buah = [\"apel\", \"jeruk\", \"pisang\"]"
      ]
    },
    {
      "cell_type": "code",
      "execution_count": null,
      "metadata": {
        "colab": {
          "base_uri": "https://localhost:8080/"
        },
        "executionInfo": {
          "elapsed": 13,
          "status": "ok",
          "timestamp": 1731053559907,
          "user": {
            "displayName": "Komputasi Kelas B",
            "userId": "06926514210856024628"
          },
          "user_tz": -420
        }
      },
      "outputs": [],
      "source": [
        "print(buah[0])"
      ]
    },
    {
      "cell_type": "code",
      "execution_count": null,
      "metadata": {
        "colab": {
          "base_uri": "https://localhost:8080/"
        },
        "executionInfo": {
          "elapsed": 7,
          "status": "ok",
          "timestamp": 1731053559907,
          "user": {
            "displayName": "Komputasi Kelas B",
            "userId": "06926514210856024628"
          },
          "user_tz": -420
        }
      },
      "outputs": [],
      "source": [
        "print(buah[1])"
      ]
    },
    {
      "cell_type": "code",
      "execution_count": null,
      "metadata": {
        "colab": {
          "base_uri": "https://localhost:8080/"
        },
        "executionInfo": {
          "elapsed": 6,
          "status": "ok",
          "timestamp": 1731053560322,
          "user": {
            "displayName": "Komputasi Kelas B",
            "userId": "06926514210856024628"
          },
          "user_tz": -420
        }
      },
      "outputs": [],
      "source": [
        "print(buah[2])"
      ]
    },
    {
      "cell_type": "code",
      "execution_count": null,
      "metadata": {
        "colab": {
          "base_uri": "https://localhost:8080/"
        },
        "executionInfo": {
          "elapsed": 454,
          "status": "ok",
          "timestamp": 1731054477072,
          "user": {
            "displayName": "Komputasi Kelas B",
            "userId": "06926514210856024628"
          },
          "user_tz": -420
        }
      },
      "outputs": [],
      "source": [
        "print(len(buah))"
      ]
    },
    {
      "cell_type": "code",
      "execution_count": null,
      "metadata": {
        "colab": {
          "base_uri": "https://localhost:8080/"
        },
        "executionInfo": {
          "elapsed": 4,
          "status": "ok",
          "timestamp": 1731054554406,
          "user": {
            "displayName": "Komputasi Kelas B",
            "userId": "06926514210856024628"
          },
          "user_tz": -420
        }
      },
      "outputs": [],
      "source": [
        "for x in buah:\n",
        "  print(\"Saya suka \" + x)"
      ]
    },
    {
      "cell_type": "code",
      "execution_count": null,
      "metadata": {
        "colab": {
          "base_uri": "https://localhost:8080/"
        },
        "executionInfo": {
          "elapsed": 388,
          "status": "ok",
          "timestamp": 1731054604940,
          "user": {
            "displayName": "Komputasi Kelas B",
            "userId": "06926514210856024628"
          },
          "user_tz": -420
        }
      },
      "outputs": [],
      "source": [
        "print(buah)"
      ]
    },
    {
      "cell_type": "code",
      "execution_count": null,
      "metadata": {},
      "outputs": [],
      "source": [
        "buah[2] = \"anggur\""
      ]
    },
    {
      "cell_type": "code",
      "execution_count": null,
      "metadata": {
        "colab": {
          "base_uri": "https://localhost:8080/"
        },
        "executionInfo": {
          "elapsed": 7,
          "status": "ok",
          "timestamp": 1731054605284,
          "user": {
            "displayName": "Komputasi Kelas B",
            "userId": "06926514210856024628"
          },
          "user_tz": -420
        }
      },
      "outputs": [],
      "source": [
        "print(buah)"
      ]
    },
    {
      "cell_type": "markdown",
      "metadata": {},
      "source": [
        "## Fungsi\n",
        "\n",
        "Buatlah fungsi `jumlahkan` yang menerima input `n` lalu menghitung\n",
        "\n",
        "$$1 + 2 + 3 + \\dots + n = \\text{ ?}$$"
      ]
    },
    {
      "cell_type": "code",
      "execution_count": null,
      "metadata": {},
      "outputs": [],
      "source": [
        "def jumlahkan(n):\n",
        "  hasil = 0\n",
        "  for i in range(1, n+1):\n",
        "    hasil = hasil + i\n",
        "  return hasil"
      ]
    },
    {
      "cell_type": "code",
      "execution_count": null,
      "metadata": {
        "colab": {
          "base_uri": "https://localhost:8080/"
        },
        "executionInfo": {
          "elapsed": 354,
          "status": "ok",
          "timestamp": 1731053302588,
          "user": {
            "displayName": "Komputasi Kelas B",
            "userId": "06926514210856024628"
          },
          "user_tz": -420
        }
      },
      "outputs": [],
      "source": [
        "print(jumlahkan(3))"
      ]
    },
    {
      "cell_type": "code",
      "execution_count": null,
      "metadata": {
        "colab": {
          "base_uri": "https://localhost:8080/"
        },
        "executionInfo": {
          "elapsed": 339,
          "status": "ok",
          "timestamp": 1731053373399,
          "user": {
            "displayName": "Komputasi Kelas B",
            "userId": "06926514210856024628"
          },
          "user_tz": -420
        }
      },
      "outputs": [],
      "source": [
        "print(jumlahkan(100))"
      ]
    },
    {
      "cell_type": "markdown",
      "metadata": {},
      "source": [
        "## Fungsi Rekursif\n",
        "\n",
        "Barisan Fibonacci: 0, 1, 1, 2, 3, 5, 8, ...\n",
        "\n",
        "$$F_0 = 0, \\quad F_1 = 1$$\n",
        "\n",
        "$$F_n = F_{n-1} + F_{n-2}$$"
      ]
    },
    {
      "cell_type": "code",
      "execution_count": null,
      "metadata": {},
      "outputs": [],
      "source": [
        "def fib(n):\n",
        "  if (n == 0):\n",
        "    return 0\n",
        "  elif (n == 1):\n",
        "    return 1\n",
        "  else:\n",
        "    return fib(n-1) + fib(n-2)"
      ]
    },
    {
      "cell_type": "markdown",
      "metadata": {},
      "source": [
        "$$F_{10} = \\text{ ?}$$"
      ]
    },
    {
      "cell_type": "code",
      "execution_count": null,
      "metadata": {
        "colab": {
          "base_uri": "https://localhost:8080/"
        },
        "executionInfo": {
          "elapsed": 7,
          "status": "ok",
          "timestamp": 1731054644499,
          "user": {
            "displayName": "Komputasi Kelas B",
            "userId": "06926514210856024628"
          },
          "user_tz": -420
        }
      },
      "outputs": [],
      "source": [
        "fib(10)"
      ]
    },
    {
      "cell_type": "markdown",
      "metadata": {},
      "source": [
        "Faktorial:\n",
        "\n",
        "$$0! = 1$$\n",
        "\n",
        "$$n! = n * (n-1)!$$\n",
        "\n",
        "Contoh:\n",
        "\n",
        "\\begin{align*}\n",
        "5! &= 5 * 4! \\\\\n",
        "&= 5 * 4 * 3! \\\\\n",
        "&= 5 * 4 * 3 * 2! \\\\\n",
        "&= 5 * 4 * 3 * 2 * 1! \\\\\n",
        "&= 5 * 4 * 3 * 2 * 1 * 0! \\\\\n",
        "&= 5 * 4 * 3 * 2 * 1 * 1 \\\\\n",
        "&= 120\n",
        "\\end{align*}"
      ]
    },
    {
      "cell_type": "code",
      "execution_count": null,
      "metadata": {},
      "outputs": [],
      "source": [
        "def fact(n):\n",
        "  if (n == 0):\n",
        "    return 1\n",
        "  else:\n",
        "    return n * fact(n-1)"
      ]
    },
    {
      "cell_type": "markdown",
      "metadata": {},
      "source": [
        "$$10! = \\text{ ?}$$"
      ]
    },
    {
      "cell_type": "code",
      "execution_count": null,
      "metadata": {},
      "outputs": [],
      "source": [
        "fact(10)"
      ]
    }
  ],
  "metadata": {
    "kernelspec": {
      "display_name": "Python (Umum)",
      "language": "python",
      "name": "venv_umum",
      "path": "C:\\Users\\ZakiZ\\AppData\\Local\\Programs\\Python\\Python313\\share\\jupyter\\kernels\\python3"
    }
  },
  "nbformat": 4,
  "nbformat_minor": 4
}
