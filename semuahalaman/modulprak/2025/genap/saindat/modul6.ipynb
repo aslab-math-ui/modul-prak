{
  "cells": [
    {
      "cell_type": "markdown",
      "metadata": {
        "id": "MKY6Wu232W-Y"
      },
      "source": [
        "---\n",
        "title: \"Modul 6 Sains Data: Neural Network dengan Tensorflow dan Keras\"\n",
        "subtitle: Pengantar Neural Network dengan TensorFlow dan Keras\"\n",
        "image: static\\aggarwal_nndl_hal18.png\n",
        "description: \"Offline di Departemen Matematika\"\n",
        "date: 04/28/2025\n",
        "page-navigation: true\n",
        "format: html\n",
        "---"
      ]
    },
    {
      "cell_type": "markdown",
      "metadata": {
        "id": "F3EunJRY2W-Z"
      },
      "source": [
        "Kembali ke [Sains Data](./saindat2025genap.qmd)"
      ]
    },
    {
      "cell_type": "markdown",
      "metadata": {
        "id": "v0ZDnxKR2W-Z"
      },
      "source": [
        "Sekarang kita sudah masuk ke materi *artificial neural network* (ANN) atau biasa disebut *neural network* (NN), yang mendasari dunia *deep learning*."
      ]
    },
    {
      "cell_type": "markdown",
      "metadata": {
        "id": "TvLz3FS12W-a"
      },
      "source": [
        "Saat modul praktikum ini disusun (April 2024), ada dua *framework* utama untuk *deep learning* di Python, yaitu:\n",
        "\n",
        "1. TensorFlow: <https://www.tensorflow.org/>\n",
        "\n",
        "    (dan Keras di dalamnya: <https://keras.io/>)\n",
        "\n",
        "2. PyTorch: <https://pytorch.org/>\n",
        "\n",
        "Kedua *framework* ini bersaing. Umumnya, TensorFlow lebih sering digunakan di industri, sedangkan PyTorch lebih sering digunakan dalam riset/penelitian."
      ]
    },
    {
      "cell_type": "markdown",
      "metadata": {
        "id": "lyjFM4Wl2W-a"
      },
      "source": [
        "Di pertemuan kali ini, kita akan membahas TensorFlow, baik penggunaannya secara sendiri (*pure TensorFlow*, yaitu tanpa Keras) maupun dengan bantuan Keras. Kalau belum punya, instal terlebih dahulu:"
      ]
    },
    {
      "cell_type": "code",
      "execution_count": null,
      "metadata": {
        "id": "aNNhZ4PX2W-a"
      },
      "outputs": [],
      "source": [
        "pip install tensorflow"
      ]
    },
    {
      "cell_type": "markdown",
      "metadata": {
        "id": "U6oeq5Jp2W-b"
      },
      "source": [
        "Keras terinstal bersama TensorFlow (karena Keras ada di dalamnya)."
      ]
    },
    {
      "cell_type": "markdown",
      "metadata": {
        "id": "SYyM1uQE2W-b"
      },
      "source": [
        "Lalu import:"
      ]
    },
    {
      "cell_type": "code",
      "execution_count": 28,
      "metadata": {
        "id": "QEjv48j42W-b"
      },
      "outputs": [],
      "source": [
        "import tensorflow as tf\n",
        "from tensorflow import keras\n",
        "import numpy as np\n",
        "import pandas as pd\n",
        "import matplotlib.pyplot as plt"
      ]
    },
    {
      "cell_type": "code",
      "source": [
        "tfversion = tf.__version__\n",
        "print(tfversion)"
      ],
      "metadata": {
        "colab": {
          "base_uri": "https://localhost:8080/"
        },
        "id": "lmnacYFt4SMB",
        "outputId": "0e2a10e0-9558-41a6-e64b-d88a3b0e71d7"
      },
      "execution_count": null,
      "outputs": [
        {
          "output_type": "stream",
          "name": "stdout",
          "text": [
            "2.18.0\n"
          ]
        }
      ]
    },
    {
      "cell_type": "code",
      "source": [
        "kerasversion = keras.__version__\n",
        "print(kerasversion)"
      ],
      "metadata": {
        "colab": {
          "base_uri": "https://localhost:8080/"
        },
        "id": "CqMvXlDg4W35",
        "outputId": "3f9b4437-6ecb-4361-c569-f5788270af1d"
      },
      "execution_count": null,
      "outputs": [
        {
          "output_type": "stream",
          "name": "stdout",
          "text": [
            "3.8.0\n"
          ]
        }
      ]
    },
    {
      "cell_type": "markdown",
      "metadata": {
        "id": "u6HS6wOI2W-c"
      },
      "source": [
        "# Teori *Neural Network*"
      ]
    },
    {
      "cell_type": "markdown",
      "metadata": {
        "id": "Vcmu0bxe2W-c"
      },
      "source": [
        "*Overview:*\n",
        "\n",
        "- Secara umum, suatu *neural network* terdiri dari sejumlah *layer* atau lapisan (minimal dua).\n",
        "\n",
        "- *Layer* pertama disebut *input layer*, dan *layer* terakhir disebut *output layer*.\n",
        "\n",
        "- Tiap *layer* terdiri dari sejumlah *neuron*, yang masing-masing bisa menyimpan suatu nilai.\n",
        "\n",
        "- Kecuali *input layer*, tiap *neuron* terhubung dengan sejumlah *neuron* di *layer* sebelumnya.\n",
        "\n",
        "- Tiap sambungan terdiri dari nilai *weight* (sebagai pengali), nilai *bias* (sebagai pergeseran), dan suatu \"fungsi aktivasi\" yang menghasilkan nilai untuk *neuron* tujuan.\n",
        "\n",
        "- *Weight* maupun *bias* disebut **parameter** dari *neural network*.\n",
        "\n",
        "- Proses *training* adalah terus-menerus memperbarui parameter hingga hasil prediksi *neural network* sudah cukup baik, dengan meminimumkan suatu ***loss function*** atau fungsi objektif (yang intinya menghitung *error*).\n",
        "\n",
        "- Suatu *neural network* bisa memiliki sejumlah *layer*, masing-masing dengan banyaknya *neuron* tertentu dan fungsi-fungsi aktivasi tertentu. Hal-hal itu disebut\n",
        "***hyperparameter*** dari *neural network*. Suatu **arsitektur** adalah suatu pilihan/konfigurasi *hyperparameter*."
      ]
    },
    {
      "cell_type": "markdown",
      "metadata": {
        "id": "8VtudaUy2W-c"
      },
      "source": [
        "## SLP: *(Single-Layer) Perceptron*"
      ]
    },
    {
      "cell_type": "markdown",
      "metadata": {
        "id": "bYZFqbAv2W-c"
      },
      "source": [
        "ANN paling pertama adalah *perceptron* (juga disebut SLP atau *single-layer perceptron*) yang dirancang oleh Frank Rosenblatt pada tahun 1957 (Géron, 2019). Ini adalah *neural network* yang paling sederhana, bahkan ini bisa disebut *building block* dari semua ANN (apabila diberi kebebasan untuk modifikasi). Konsep dasar *neural network* bisa kita pelajari di sini."
      ]
    },
    {
      "cell_type": "markdown",
      "metadata": {
        "id": "vwB-EHyj2W-d"
      },
      "source": [
        "![](./static/aggarwal_nndl_hal5.png)\n",
        "\n",
        "Sumber gambar: Aggarwal (2018) hal. 5"
      ]
    },
    {
      "cell_type": "markdown",
      "metadata": {
        "id": "63aNvmwV2W-d"
      },
      "source": [
        "*Perceptron* hanya terdiri dari satu *input layer* dan satu *output layer*. Bahkan, aslinya hanya ada satu *neuron* di *output layer*."
      ]
    },
    {
      "cell_type": "markdown",
      "metadata": {
        "id": "R-m4RtO22W-d"
      },
      "source": [
        "Apabila dibutuhkan lebih dari satu *neuron* di *output layer*, itu bisa dianggap menggunakan lebih dari satu *perceptron* (yaitu menggunakan banyaknya *perceptron* sesuai banyaknya *neuron* di *output layer*), yang saling \"ditumpuk\":"
      ]
    },
    {
      "cell_type": "markdown",
      "metadata": {
        "id": "gjycP35h2W-d"
      },
      "source": [
        "![](./static/goodfellow_dl_hal337_crop.png)\n",
        "\n",
        "Sumber gambar: Goodfellow, et. al. (2016) hal. 337"
      ]
    },
    {
      "cell_type": "markdown",
      "metadata": {
        "id": "TtT3YBwL2W-d"
      },
      "source": [
        "Perhatikan bahwa, tiap *neuron* di *layer* asal terhubung dengan tiap *neuron* di *layer* tujuan. *Layer* tujuan seperti ini disebut ***dense*** (padat). Kebalikan dari *dense* adalah *sparse*."
      ]
    },
    {
      "cell_type": "markdown",
      "metadata": {
        "id": "1ZydvL_s2W-d"
      },
      "source": [
        "Aslinya, fungsi aktivasi yang digunakan oleh *perceptron* adalah *Heaviside step function* $H(v)$ yang mungkin kalian kenal dari mata kuliah PDB, atau juga disebut *threshold activation function*:\n",
        "\n",
        "$$H(v) = \\begin{cases}\n",
        "    1, & v \\ge 0 \\\\\n",
        "    0, & v < 0\n",
        "\\end{cases}$$"
      ]
    },
    {
      "cell_type": "markdown",
      "metadata": {
        "id": "9teKq1XI2W-d"
      },
      "source": [
        "Sehingga, untuk *output neuron* ke-$j$ yang disambung dari $n$ *input neuron*, model *perceptron* bisa dirumuskan sebagai berikut:\n",
        "\n",
        "$$y_j = H\\left(\\left(\\sum_{i=1}^{n} w_{ij} x_i \\right) + b_j\\right)$$\n",
        "\n",
        "dengan\n",
        "\n",
        "- $x_i$ adalah nilai pada *input neuron* ke-$i$\n",
        "\n",
        "- $y_j$ adalah nilai pada *output neuron* ke-$j$\n",
        "\n",
        "- $w_{ij}$ adalah parameter *weight* untuk sambungan *input neuron* ke-$i$ menuju *output neuron* ke-$j$\n",
        "\n",
        "- $b_j$ adalah parameter *bias* untuk *output neuron* ke-$j$"
      ]
    },
    {
      "cell_type": "markdown",
      "metadata": {
        "id": "gjYhOkGK2W-d"
      },
      "source": [
        "Lebih umumnya,\n",
        "\n",
        "$$y_j = \\Phi\\left(\\left(\\sum_{i=1}^{n} w_{ij} x_i \\right) + b_j\\right)$$\n",
        "\n",
        "dengan $\\Phi(v)$ adalah sembarang fungsi aktivasi."
      ]
    },
    {
      "cell_type": "markdown",
      "metadata": {
        "id": "WFpRD6Af2W-d"
      },
      "source": [
        "*Note:* seperti di gambar, sebenarnya *bias* juga bisa dianggap *neuron* istimewa yang nilai $x_i$ nya selalu satu."
      ]
    },
    {
      "cell_type": "markdown",
      "metadata": {
        "id": "32sU1KWr2W-d"
      },
      "source": [
        "Biasanya, semua nilai di *layer* selanjutnya dihitung secara sekaligus menggunakan perkalian matriks, dengan perumusan:\n",
        "\n",
        "$$\\textbf{y} = \\Phi\\left(W^T \\textbf{x} + \\textbf{b}\\right)$$\n",
        "\n",
        "dengan $\\textbf{x} = [x_i]$, $\\textbf{y} = [y_j]$, dan $\\textbf{b} = [b_j]$ adalah vektor **kolom**, serta $W = \\left[w_{ij}\\right]$ adalah matriks."
      ]
    },
    {
      "cell_type": "markdown",
      "metadata": {
        "id": "gRmHZfj62W-d"
      },
      "source": [
        "Itu untuk satu buah data *training*."
      ]
    },
    {
      "cell_type": "markdown",
      "metadata": {
        "id": "BrWToy8k2W-d"
      },
      "source": [
        "Bisa saja, beberapa data *training* diperhitungkan sekaligus. Caranya, vektor kolom $\\textbf{x}$ itu kita \"lebarkan\" ke samping sehingga menjadi matriks $X = [x_{it}]$, sehingga data *training* ke-$t$ ada di kolom ke-$t$. Dengan demikian, *output* nya akan berupa matriks $Y = [y_{jt}]$ dengan hasil untuk data *training* ke-$t$ ada di kolom ke-$t$. Selain itu, vektor $\\textbf{b}$ perlu diperluas menjadi matriks $B$ dengan tiap kolom identik, dan fungsi aktivasi $\\Phi$ dihitung per kolom.\n",
        "\n",
        "$$Y = \\Phi\\left(W^T X + B\\right)$$"
      ]
    },
    {
      "cell_type": "markdown",
      "metadata": {
        "id": "ivUpPeKJ2W-d"
      },
      "source": [
        "Kembali ke kasus satu buah data *training*. Biasanya, dataset disajikan dengan tiap fitur di kolom sendiri, tidak seperti perumusan kita sejauh ini dengan tiap fitur di baris tersendiri. Untuk menyesuaikan, kita bisa men-*transpose* semuanya:\n",
        "\n",
        "$$\\textbf{y} = \\Phi\\left(\\textbf{x} W + \\textbf{b}\\right)$$\n",
        "\n",
        "dengan $\\textbf{x} = [x_i]$, $\\textbf{y} = [y_j]$, dan $\\textbf{b} = [b_j]$ adalah vektor **baris**, serta $W = \\left[w_{ji}\\right]$ adalah matriks berisi bobot untuk menyambung ke *output neuron* ke-$j$ dari *input neuron* ke-$i$."
      ]
    },
    {
      "cell_type": "markdown",
      "metadata": {
        "id": "OBx33KQk2W-d"
      },
      "source": [
        "## MLP: *Multilayer Perceptron*"
      ]
    },
    {
      "cell_type": "markdown",
      "metadata": {
        "id": "wGwzyzX_2W-e"
      },
      "source": [
        "Konsep *single-layer perceptron* bisa diperumum menjadi *multilayer perceptron* atau *neural network* yang biasa kita kenal, dengan menambahkan beberapa *layer* di antara *input layer* dan *output layer*. Semua *layer* selain *input layer* dan *output layer* disebut *hidden layer*."
      ]
    },
    {
      "cell_type": "markdown",
      "metadata": {
        "id": "nfk5FgSC2W-e"
      },
      "source": [
        "![](./static/aggarwal_nndl_hal18.png)\n",
        "\n",
        "Sumber gambar: Aggarwal (2018) hal. 18"
      ]
    },
    {
      "cell_type": "markdown",
      "metadata": {
        "id": "Dn9GFOJx2W-e"
      },
      "source": [
        "Konsep perhitungan antara tiap *layer* tetap sama, yaitu\n",
        "\n",
        "$$\\textbf{y} = \\Phi\\left(\\textbf{w}^T \\textbf{x} + \\textbf{b}\\right)$$\n",
        "\n",
        "(versi vektor kolom), atau\n",
        "\n",
        "$$\\textbf{y} = \\Phi\\left(\\textbf{x} W + \\textbf{b}\\right)$$\n",
        "\n",
        "(versi vektor baris)"
      ]
    },
    {
      "cell_type": "markdown",
      "metadata": {
        "id": "sIK_DocH2W-e"
      },
      "source": [
        "## Fungsi Aktivasi"
      ]
    },
    {
      "cell_type": "markdown",
      "metadata": {
        "id": "mHdpZTdR2W-e"
      },
      "source": [
        "![](./static/aggarwal_nndl_hal13.png)\n",
        "\n",
        "Sumber gambar: Aggarwal (2018) hal. 13"
      ]
    },
    {
      "cell_type": "markdown",
      "metadata": {
        "id": "KCSmnxPQ2W-e"
      },
      "source": [
        "Beberapa fungsi aktivasi adalah (Aggarwal, 2018, hal. 12-13):\n",
        "\n",
        "a. \"Linier\" atau identitas\n",
        "\n",
        "$$\\Phi(v) = v$$\n",
        "\n",
        "b. *Sign* (fungsi tanda): $\\text{sign}(v)$ atau $\\text{sgn}(v)$\n",
        "\n",
        "$$\n",
        "\\Phi(v) = \\text{sign}(v) = \\begin{cases}\n",
        "    1, & v > 0 \\\\\n",
        "    0, & v = 0 \\\\\n",
        "    -1, & v < 0\n",
        "\\end{cases}\n",
        "$$\n",
        "\n",
        "c. Sigmoid, terkadang dilambangkan $\\sigma(v)$ dan terkadang disebut fungsi aktivasi logistik\n",
        "\n",
        "$$\\Phi(v) = \\frac{1}{1 + e^{-v}}$$\n",
        "\n",
        "d. *(Soft)* tanh: $\\tanh(v)$\n",
        "\n",
        "$$\\Phi(v) = \\frac{e^{2v} - 1}{e^{2v} + 1} = 2 * \\text{sigmoid}(2v) - 1$$\n",
        "\n",
        "e. *Rectified Linear Unit* (ReLU)\n",
        "\n",
        "$$\\Phi(v) = \\max\\{v, 0\\}$$\n",
        "\n",
        "f. *Hard tanh*\n",
        "\n",
        "$$\\Phi(v) = \\max\\{\\min\\{v, 1\\}, -1\\}$$"
      ]
    },
    {
      "cell_type": "markdown",
      "metadata": {
        "id": "fYeVCrs82W-e"
      },
      "source": [
        "Fungsi aktivasi yang paling sering digunakan adalah ReLU, kecuali untuk *output layer*."
      ]
    },
    {
      "cell_type": "markdown",
      "metadata": {
        "id": "cjPDUMiy2W-e"
      },
      "source": [
        "Untuk *output layer*, biasanya,\n",
        "\n",
        "- untuk regresi, banyaknya *neuron* sesuai banyaknya nilai prediksi (umumnya hanya satu), dan digunakan fungsi aktivasi linier\n",
        "\n",
        "- untuk klasifikasi *multiclass* (lebih dari dua kelas), biasanya banyaknya *output neuron* sesuai banyaknya kelas, dan digunakan fungsi aktivasi ***softmax*** sebagai berikut, agar *output* berupa peluang tiap kelas:\n",
        "\n",
        "$$\\Phi(\\overline{v})_i = \\frac{\\exp(v_i)}{\\sum_{j=1}^k \\exp(v_j)}$$\n",
        "\n",
        "- untuk klasifikasi biner, hanya ada satu *neuron* di *output layer*, dan digunakan fungsi aktivasi *sigmoid*. (Keberadaan hanya satu *output neuron* lebih hemat daripada menggunakan dua *output neuron*)"
      ]
    },
    {
      "cell_type": "markdown",
      "metadata": {
        "id": "pun1mvoP2W-e"
      },
      "source": [
        "## *Loss function*"
      ]
    },
    {
      "cell_type": "markdown",
      "metadata": {
        "id": "eD0dih422W-e"
      },
      "source": [
        "Misalkan $y_i$ adalah nilai sebenarnya dan $\\hat{y}_i$ adalah hasil prediksi."
      ]
    },
    {
      "cell_type": "markdown",
      "metadata": {
        "id": "srRcl3UP2W-e"
      },
      "source": [
        "Untuk regresi, biasa digunakan MSE *(mean squared error)*, juga disebut *L2 loss*:\n",
        "\n",
        "$$\\text{MSE}(y, \\hat{y}) = \\frac{1}{n} \\sum_{i=1}^{n} \\left( y_i - \\hat{y}_i \\right)^2$$"
      ]
    },
    {
      "cell_type": "markdown",
      "metadata": {
        "id": "eReZPOKk2W-e"
      },
      "source": [
        "Untuk klasifikasi, biasa digunakan yang namanya *cross-entropy loss*, juga disebut *logistic loss* atau *log loss*:\n",
        "\n",
        "$$L_{\\text{log}}(y,\\hat{y}) = -(y \\ln (\\hat{y}) + (1 - y) \\ln (1 - \\hat{y}))$$"
      ]
    },
    {
      "cell_type": "markdown",
      "metadata": {
        "id": "xRcEsqyr2W-k"
      },
      "source": [
        "## Proses *training*"
      ]
    },
    {
      "cell_type": "markdown",
      "metadata": {
        "id": "BmYHXL0a2W-k"
      },
      "source": [
        "Proses *training* untuk *neural network* dilakukan secara iteratif, yaitu tiap iterasi akan memperbarui parameter sehingga nilai *loss function* menjadi lebih kecil."
      ]
    },
    {
      "cell_type": "markdown",
      "metadata": {
        "id": "XCpX_y7a2W-k"
      },
      "source": [
        "Tiap iterasi melakukan langkah-langkah berikut untuk tiap data *training*:\n",
        "\n",
        "1. *Forward pass*: menghitung nilai *output* akhir, yaitu $\\hat{y}$ (hasil prediksi), berdasarkan *input* data *training*.\n",
        "\n",
        "2. Menghitung *loss* antara $y$ (nilai asli) dan $\\hat{y}$\n",
        "\n",
        "3. *Backpropagation*: menghitung gradien dari *loss* terhadap tiap parameter, secara \"mundur\"\n",
        "\n",
        "4. *Update optimizer*: menggunakan algoritma *optimizer* seperti *gradient descent* untuk memperbarui parameter-parameter (*weights and biases*) berdasarkan gradien dari *loss*\n",
        "\n",
        "    Note: ada banyak *optimizer*, seperti *gradient descent*, SGD (*stochastic gradient descent*), dan *Adam* (*adaptive moment estimation*). Pilihan *optimizer* (serta parameter-parameter yang bisa diatur untuk *optimizer*, seperti *learning rate*) juga menjadi *hyperparameter* untuk *neural network*.\n",
        "\n",
        "Note: istilah *backward pass* meliputi langkah *backpropagation* dan *update optimizer*."
      ]
    },
    {
      "cell_type": "markdown",
      "metadata": {
        "id": "HAZGkXXU2W-l"
      },
      "source": [
        "Apabila data *training* sangat banyak, terkadang data *training* tersebut dibagi menjadi beberapa *batch*, dan tiap iterasi menggunakan *batch* yang berbeda. Apabila semua *batch* sudah diproses, sebutannya adalah satu ***epoch***. Sehingga, satu *epoch* terdiri dari sejumlah iterasi sesuai banyaknya *batch*.\n",
        "\n",
        "(Apabila data *training* tidak dibagi menjadi *batch*, maka satu *epoch* sama dengan satu iterasi.)"
      ]
    },
    {
      "cell_type": "markdown",
      "metadata": {
        "id": "rdBafJpT2W-l"
      },
      "source": [
        "## Contoh *optimizer*: metode *gradient descent*"
      ]
    },
    {
      "cell_type": "markdown",
      "metadata": {
        "id": "5OBpJ5om2W-l"
      },
      "source": [
        "Metode *gradient descent* mencari minimum lokal dari suatu fungsi $g$ (dalam hal ini, *loss function*) dengan rumus iterasi seperti berikut:\n",
        "\n",
        "$$\\textbf{x}_{i+1} = \\textbf{x}_i - \\eta \\nabla g\\left(\\textbf{x}_i\\right)$$\n",
        "\n",
        "dengan $\\eta$ adalah *learning rate*. Simbol nabla ($\\nabla$) menandakan perhitungan gradien."
      ]
    },
    {
      "cell_type": "markdown",
      "metadata": {
        "id": "avUG13_72W-l"
      },
      "source": [
        "Perhatikan bahwa gradien menandakan arah tercepat untuk kenaikan fungsi, seringkali disebut *direction of steepest ascent*. Di sini, justru kita mengurangi; atau sama saja, menambah dengan kebalikannya, yaitu arah tercepat untuk penurunan fungsi. Sedangkan, *learning rate* melambangkan seberapa jauh kita melangkah ke arah penurunan tersebut. Harapannya, kita akan cepat konvergen menuju minimum fungsi, karena kita terus melangkah ke arah penurunan tercepat."
      ]
    },
    {
      "cell_type": "markdown",
      "metadata": {
        "id": "erjcfZfZ2W-l"
      },
      "source": [
        "Variasi *gradient descent* adalah SGD *(stochastic gradient descent)*. Bedanya sederhana saja:\n",
        "\n",
        "- *Gradient descent* selalu memanfaatkan keseluruhan data *training* yang diberikan (lebih tepatnya, keseluruhan *batch*) di tiap iterasi.\n",
        "\n",
        "- Sedangkan, SGD selalu memilih sebagian data *training* saja (lebih tepatnya, sebagian dari *batch*), dan cara memilihnya bersifat *random* atau disebut stokastik.\n",
        "\n",
        "Keuntungan SGD dibandingkan *gradient descent* biasa:\n",
        "\n",
        "- Waktu *training* menjadi lebih cepat\n",
        "\n",
        "- Tidak rawan terjebak di minimum lokal: <https://www.youtube.com/watch?v=UmathvAKj80&t=102>"
      ]
    },
    {
      "cell_type": "markdown",
      "metadata": {
        "id": "g4FBp1yX2W-l"
      },
      "source": [
        "## *Train-Validation-Test Split*"
      ]
    },
    {
      "cell_type": "markdown",
      "metadata": {
        "id": "3WYfZjUv2W-l"
      },
      "source": [
        "Ketika menggunakan metode *machine learning* yang di-*training* secara iteratif, seperti *neural network*, biasanya ada juga yang namanya *validation data*. Sehingga, di awal, *dataset* dipisah menjadi data *train*, data *validation*, dan data *test*.\n",
        "\n",
        "Gunanya, kita bisa menguji akurasi model di akhir tiap *epoch*, menggunakan data *validation* daripada data *test*."
      ]
    },
    {
      "cell_type": "markdown",
      "metadata": {
        "id": "iZXKFk8x2W-l"
      },
      "source": [
        "Rasio yang paling sering digunakan adalah 80-10-10, yaitu 80% data *train*, 10% data *validation*, dan 10% data *test*."
      ]
    },
    {
      "cell_type": "markdown",
      "metadata": {
        "id": "lKcb8v972W-l"
      },
      "source": [
        "Apabila menggunakan scikit-learn, untuk melakukan *train-validation-test split*, caranya adalah dengan *split* dua kali, yaitu\n",
        "\n",
        "1. *Split* menjadi data \"train\" dan data *test*\n",
        "\n",
        "2. Data \"train\" itu di-*split* lagi menjadi data *train* sesungguhnya dan data *validation*\n",
        "\n",
        "atau bisa juga\n",
        "\n",
        "1. *Split* menjadi data *train* dan data \"test\"\n",
        "\n",
        "2. Data \"test\" itu di-*split* lagi menjadi data *validation* dan data *test* sesungguhnya"
      ]
    },
    {
      "cell_type": "markdown",
      "metadata": {
        "id": "wG7vRyR92W-m"
      },
      "source": [
        "# Mengenal TensorFlow"
      ]
    },
    {
      "cell_type": "code",
      "execution_count": 1,
      "metadata": {
        "id": "TLkmzusD2W-m"
      },
      "outputs": [],
      "source": [
        "import tensorflow as tf"
      ]
    },
    {
      "cell_type": "markdown",
      "metadata": {
        "id": "2Fy3CJJO2W-m"
      },
      "source": [
        "## *Tensor*, Konstanta"
      ]
    },
    {
      "cell_type": "markdown",
      "metadata": {
        "id": "O3Bjx-EN2W-m"
      },
      "source": [
        "*Tensor* adalah semacam perumuman dari *array*/vektor ataupun *matriks*.\n",
        "\n",
        "- Skalar (bilangan) adalah *tensor* berdimensi nol (atau *rank* nol).\n",
        "\n",
        "- *Array* atau vektor adalah *tensor* berdimensi satu (atau *rank* satu).\n",
        "\n",
        "- Matriks adalah *tensor* berdimensi dua (atau *rank* dua).\n",
        "\n",
        "- Istilah *\"tensor\"* biasanya merujuk pada *tensor* berdimensi tiga (atau *rank* tiga), yaitu semacam matriks tapi tiga dimensi, sehingga ada baris, kolom, dan satu dimensi lagi."
      ]
    },
    {
      "cell_type": "markdown",
      "metadata": {
        "id": "ordtPPfz2W-m"
      },
      "source": [
        "Fitur *tensor* di TensorFlow mirip dengan fitur *array* di numpy, yang memang juga bisa multidimensi."
      ]
    },
    {
      "cell_type": "code",
      "execution_count": 2,
      "metadata": {
        "id": "ax-4aZyC2W-m",
        "outputId": "f7102fbb-d3ee-4b1f-baee-a05d314b159d",
        "colab": {
          "base_uri": "https://localhost:8080/"
        }
      },
      "outputs": [
        {
          "output_type": "stream",
          "name": "stdout",
          "text": [
            "tf.Tensor(\n",
            "[[0. 0. 0. 0.]\n",
            " [0. 0. 0. 0.]\n",
            " [0. 0. 0. 0.]], shape=(3, 4), dtype=float32)\n"
          ]
        }
      ],
      "source": [
        "x = tf.zeros(shape = (3,4))\n",
        "print(x)"
      ]
    },
    {
      "cell_type": "code",
      "execution_count": 3,
      "metadata": {
        "id": "N0v0Z3ml2W-m",
        "outputId": "859005c5-024a-4013-e0ca-48abff165f46",
        "colab": {
          "base_uri": "https://localhost:8080/"
        }
      },
      "outputs": [
        {
          "output_type": "stream",
          "name": "stdout",
          "text": [
            "tf.Tensor(\n",
            "[[1. 1. 1. 1.]\n",
            " [1. 1. 1. 1.]\n",
            " [1. 1. 1. 1.]], shape=(3, 4), dtype=float32)\n"
          ]
        }
      ],
      "source": [
        "x = tf.ones(shape = (3,4))\n",
        "print(x)"
      ]
    },
    {
      "cell_type": "markdown",
      "metadata": {
        "id": "oAq-LrWI2W-n"
      },
      "source": [
        "Untuk menentukan *array* kita sendiri, di numpy digunakan `numpy.array`.\n",
        "\n",
        "Untuk menentukan *tensor* kita sendiri, di TensorFlow digunakan `tensorflow.constant` (agar nilainya tidak bisa diubah) atau `tensorflow.Variable` (nilainya bisa diubah).\n",
        "\n",
        "Pada umumnya (apabila tidak ada keterangan), *tensor* di TensorFlow berupa `tensorflow.constant`"
      ]
    },
    {
      "cell_type": "code",
      "execution_count": 4,
      "metadata": {
        "id": "08an_wi32W-n",
        "outputId": "fc4801a8-f57b-4e72-ad03-2cf3a365b786",
        "colab": {
          "base_uri": "https://localhost:8080/"
        }
      },
      "outputs": [
        {
          "output_type": "stream",
          "name": "stdout",
          "text": [
            "tf.Tensor(1.5, shape=(), dtype=float32)\n"
          ]
        }
      ],
      "source": [
        "const0 = tf.constant(1.5)\n",
        "print(const0)"
      ]
    },
    {
      "cell_type": "code",
      "execution_count": 5,
      "metadata": {
        "id": "Aqq0MLEJ2W-n",
        "outputId": "18f4c1d5-f9d6-4161-e098-78e7be9527a5",
        "colab": {
          "base_uri": "https://localhost:8080/"
        }
      },
      "outputs": [
        {
          "output_type": "stream",
          "name": "stdout",
          "text": [
            "tf.Tensor(0, shape=(), dtype=int32)\n"
          ]
        }
      ],
      "source": [
        "print(tf.rank(const0))"
      ]
    },
    {
      "cell_type": "code",
      "execution_count": 6,
      "metadata": {
        "id": "q5uNRjNl2W-n",
        "outputId": "48eb160c-f274-4c56-8b5b-1aaf07344939",
        "colab": {
          "base_uri": "https://localhost:8080/"
        }
      },
      "outputs": [
        {
          "output_type": "stream",
          "name": "stdout",
          "text": [
            "tf.Tensor([2.31  4.567 8.9  ], shape=(3,), dtype=float32)\n"
          ]
        }
      ],
      "source": [
        "const1 = tf.constant([2.31, 4.567, 8.9])\n",
        "print(const1)"
      ]
    },
    {
      "cell_type": "code",
      "execution_count": 7,
      "metadata": {
        "id": "9G9Wbc3o2W-n",
        "outputId": "26f97841-ff20-400a-867e-b2117a6a4d8e",
        "colab": {
          "base_uri": "https://localhost:8080/"
        }
      },
      "outputs": [
        {
          "output_type": "stream",
          "name": "stdout",
          "text": [
            "tf.Tensor(1, shape=(), dtype=int32)\n"
          ]
        }
      ],
      "source": [
        "print(tf.rank(const1))"
      ]
    },
    {
      "cell_type": "code",
      "execution_count": 8,
      "metadata": {
        "id": "JntCQ7nE2W-n",
        "outputId": "578b1a58-5500-472a-f062-8fc7aa9efa62",
        "colab": {
          "base_uri": "https://localhost:8080/",
          "height": 158
        }
      },
      "outputs": [
        {
          "output_type": "error",
          "ename": "TypeError",
          "evalue": "'tensorflow.python.framework.ops.EagerTensor' object does not support item assignment",
          "traceback": [
            "\u001b[0;31m---------------------------------------------------------------------------\u001b[0m",
            "\u001b[0;31mTypeError\u001b[0m                                 Traceback (most recent call last)",
            "\u001b[0;32m<ipython-input-8-6babe8920968>\u001b[0m in \u001b[0;36m<cell line: 0>\u001b[0;34m()\u001b[0m\n\u001b[0;32m----> 1\u001b[0;31m \u001b[0mconst1\u001b[0m\u001b[0;34m[\u001b[0m\u001b[0;36m0\u001b[0m\u001b[0;34m]\u001b[0m \u001b[0;34m=\u001b[0m \u001b[0;36m52.5\u001b[0m\u001b[0;34m\u001b[0m\u001b[0;34m\u001b[0m\u001b[0m\n\u001b[0m",
            "\u001b[0;31mTypeError\u001b[0m: 'tensorflow.python.framework.ops.EagerTensor' object does not support item assignment"
          ]
        }
      ],
      "source": [
        "const1[0] = 52.5"
      ]
    },
    {
      "cell_type": "code",
      "execution_count": 9,
      "metadata": {
        "id": "6upjt6T62W-o",
        "outputId": "8fe80f68-7405-4aaa-8d11-5a015037b919",
        "colab": {
          "base_uri": "https://localhost:8080/"
        }
      },
      "outputs": [
        {
          "output_type": "stream",
          "name": "stdout",
          "text": [
            "tf.Tensor(\n",
            "[[1.    2.718 3.14 ]\n",
            " [4.    5.    6.28 ]], shape=(2, 3), dtype=float32)\n"
          ]
        }
      ],
      "source": [
        "const2 = tf.constant([\n",
        "    [1, 2.718, 3.14],\n",
        "    [4, 5, 6.28]\n",
        "])\n",
        "print(const2)"
      ]
    },
    {
      "cell_type": "code",
      "execution_count": 10,
      "metadata": {
        "id": "2e-EAeqU2W-o",
        "outputId": "3aa50d49-612d-40f2-cd22-141994d83064",
        "colab": {
          "base_uri": "https://localhost:8080/"
        }
      },
      "outputs": [
        {
          "output_type": "stream",
          "name": "stdout",
          "text": [
            "tf.Tensor(2, shape=(), dtype=int32)\n"
          ]
        }
      ],
      "source": [
        "print(tf.rank(const2))"
      ]
    },
    {
      "cell_type": "markdown",
      "metadata": {
        "id": "3amdploM2W-o"
      },
      "source": [
        "## Variabel dan *assignment* untuk tensor"
      ]
    },
    {
      "cell_type": "code",
      "execution_count": 11,
      "metadata": {
        "id": "fYzx1TgO2W-o",
        "outputId": "e6331e4f-5574-4dd8-c719-b54e6dda85e1",
        "colab": {
          "base_uri": "https://localhost:8080/"
        }
      },
      "outputs": [
        {
          "output_type": "stream",
          "name": "stdout",
          "text": [
            "<tf.Variable 'Variable:0' shape=(2, 3) dtype=float32, numpy=\n",
            "array([[0., 0., 0.],\n",
            "       [0., 0., 0.]], dtype=float32)>\n"
          ]
        }
      ],
      "source": [
        "v = tf.Variable(initial_value = tf.zeros(shape = (2,3)))\n",
        "print(v)"
      ]
    },
    {
      "cell_type": "markdown",
      "metadata": {
        "id": "FYWHBoN62W-o"
      },
      "source": [
        "*Assignment* untuk variabel di TensorFlow dilakukan dengan `.assign`"
      ]
    },
    {
      "cell_type": "code",
      "execution_count": 12,
      "metadata": {
        "id": "Et4peQnh2W-o",
        "outputId": "3856712e-57d0-4e6e-c1df-873a9c280e03",
        "colab": {
          "base_uri": "https://localhost:8080/"
        }
      },
      "outputs": [
        {
          "output_type": "stream",
          "name": "stdout",
          "text": [
            "<tf.Variable 'Variable:0' shape=(2, 3) dtype=float32, numpy=\n",
            "array([[1., 1., 1.],\n",
            "       [1., 1., 1.]], dtype=float32)>\n"
          ]
        }
      ],
      "source": [
        "v.assign(tf.ones(shape = (2,3)))\n",
        "print(v)"
      ]
    },
    {
      "cell_type": "code",
      "execution_count": 13,
      "metadata": {
        "id": "IHpVk8Km2W-o",
        "outputId": "2ac8d888-5fd7-43f9-c1a4-560df0804391",
        "colab": {
          "base_uri": "https://localhost:8080/"
        }
      },
      "outputs": [
        {
          "output_type": "stream",
          "name": "stdout",
          "text": [
            "<tf.Variable 'Variable:0' shape=(2, 3) dtype=float32, numpy=\n",
            "array([[9., 1., 1.],\n",
            "       [1., 1., 1.]], dtype=float32)>\n"
          ]
        }
      ],
      "source": [
        "v[0, 0].assign(9)\n",
        "print(v)"
      ]
    },
    {
      "cell_type": "markdown",
      "metadata": {
        "id": "N1YwWAXi2W-o"
      },
      "source": [
        "Ada juga `.assign_add`, sama saja dengan `+=`"
      ]
    },
    {
      "cell_type": "code",
      "execution_count": 14,
      "metadata": {
        "id": "u87z6Lv62W-p",
        "outputId": "9a3514d4-be67-4491-f95a-a2864a7dc894",
        "colab": {
          "base_uri": "https://localhost:8080/"
        }
      },
      "outputs": [
        {
          "output_type": "stream",
          "name": "stdout",
          "text": [
            "<tf.Variable 'Variable:0' shape=(2, 3) dtype=float32, numpy=\n",
            "array([[10.,  2.,  2.],\n",
            "       [ 2.,  2.,  2.]], dtype=float32)>\n"
          ]
        }
      ],
      "source": [
        "v.assign_add(tf.ones(shape = (2,3)))\n",
        "print(v)"
      ]
    },
    {
      "cell_type": "markdown",
      "metadata": {
        "id": "LhIWLB6x2W-p"
      },
      "source": [
        "Serupa, ada `.assign_sub` yaitu `-=`"
      ]
    },
    {
      "cell_type": "code",
      "execution_count": 15,
      "metadata": {
        "id": "05xiueqP2W-p",
        "outputId": "8f374e91-bc6a-4fb8-d4a5-3a60cfad474c",
        "colab": {
          "base_uri": "https://localhost:8080/"
        }
      },
      "outputs": [
        {
          "output_type": "stream",
          "name": "stdout",
          "text": [
            "<tf.Variable 'Variable:0' shape=(2, 3) dtype=float32, numpy=\n",
            "array([[9., 1., 1.],\n",
            "       [1., 1., 1.]], dtype=float32)>\n"
          ]
        }
      ],
      "source": [
        "v.assign_sub(tf.ones(shape = (2,3)))\n",
        "print(v)"
      ]
    },
    {
      "cell_type": "markdown",
      "metadata": {
        "id": "Njji2oaq2W-p"
      },
      "source": [
        "## Tensor random"
      ]
    },
    {
      "cell_type": "markdown",
      "metadata": {
        "id": "xO5EF4Ou2W-p"
      },
      "source": [
        "Kita bisa membuat *tensor* dengan nilai yang *random*, misalnya dari distribusi normal atau dari distribusi uniform"
      ]
    },
    {
      "cell_type": "code",
      "execution_count": 16,
      "metadata": {
        "id": "SkoudxUs2W-p",
        "outputId": "50d48650-e00e-4ade-90d8-895e5f254ccd",
        "colab": {
          "base_uri": "https://localhost:8080/"
        }
      },
      "outputs": [
        {
          "output_type": "stream",
          "name": "stdout",
          "text": [
            "tf.Tensor(\n",
            "[[ 0.1701715  -1.5403947   0.5286183 ]\n",
            " [-0.6036802   0.27208146 -1.4331723 ]], shape=(2, 3), dtype=float32)\n"
          ]
        }
      ],
      "source": [
        "# dari distribusi normal\n",
        "x = tf.random.normal(shape = (2,3), mean = 0, stddev = 1)\n",
        "print(x)"
      ]
    },
    {
      "cell_type": "code",
      "execution_count": 17,
      "metadata": {
        "id": "qWYprFZ-2W-r",
        "outputId": "03d704bc-1c82-480c-a275-8e2ee6dcb9b1",
        "colab": {
          "base_uri": "https://localhost:8080/"
        }
      },
      "outputs": [
        {
          "output_type": "stream",
          "name": "stdout",
          "text": [
            "tf.Tensor(\n",
            "[[0.81854975 0.95575297 0.9605453 ]\n",
            " [0.36875296 0.45838344 0.62123   ]], shape=(2, 3), dtype=float32)\n"
          ]
        }
      ],
      "source": [
        "# dari distribusi uniform\n",
        "x = tf.random.uniform(shape = (2,3), minval = 0, maxval = 1)\n",
        "print(x)"
      ]
    },
    {
      "cell_type": "markdown",
      "metadata": {
        "id": "bIolkr2V2W-r"
      },
      "source": [
        "## Operasi TensorFlow seperti numpy"
      ]
    },
    {
      "cell_type": "markdown",
      "metadata": {
        "id": "CDod5S5L2W-s"
      },
      "source": [
        "Operasi di TensorFlow mirip dengan numpy"
      ]
    },
    {
      "cell_type": "code",
      "execution_count": 18,
      "metadata": {
        "id": "Y4NCwAKO2W-s",
        "outputId": "0cffe45a-0e45-4c6e-8913-db5bd4574d12",
        "colab": {
          "base_uri": "https://localhost:8080/"
        }
      },
      "outputs": [
        {
          "output_type": "stream",
          "name": "stdout",
          "text": [
            "tf.Tensor(\n",
            "[[4. 4.]\n",
            " [4. 4.]], shape=(2, 2), dtype=float32)\n"
          ]
        }
      ],
      "source": [
        "a = 4 * tf.ones((2, 2))\n",
        "print(a)"
      ]
    },
    {
      "cell_type": "code",
      "execution_count": 19,
      "metadata": {
        "id": "MJsYdgPl2W-s",
        "outputId": "6f569f63-8d57-40ca-ee1e-1b10f495643d",
        "colab": {
          "base_uri": "https://localhost:8080/"
        }
      },
      "outputs": [
        {
          "output_type": "stream",
          "name": "stdout",
          "text": [
            "tf.Tensor(\n",
            "[[16. 16.]\n",
            " [16. 16.]], shape=(2, 2), dtype=float32)\n"
          ]
        }
      ],
      "source": [
        "b = tf.square(a)\n",
        "print(b)"
      ]
    },
    {
      "cell_type": "code",
      "execution_count": 20,
      "metadata": {
        "id": "_ohXdd082W-s",
        "outputId": "d7961a3f-7a36-4b28-9564-9aa2d866aef4",
        "colab": {
          "base_uri": "https://localhost:8080/"
        }
      },
      "outputs": [
        {
          "output_type": "stream",
          "name": "stdout",
          "text": [
            "tf.Tensor(\n",
            "[[2. 2.]\n",
            " [2. 2.]], shape=(2, 2), dtype=float32)\n"
          ]
        }
      ],
      "source": [
        "c = tf.sqrt(a)\n",
        "print(c)"
      ]
    },
    {
      "cell_type": "code",
      "execution_count": 21,
      "metadata": {
        "id": "YGzobH882W-s",
        "outputId": "f27c837a-d2d9-4cf8-ff30-8953e481ff9d",
        "colab": {
          "base_uri": "https://localhost:8080/"
        }
      },
      "outputs": [
        {
          "output_type": "stream",
          "name": "stdout",
          "text": [
            "tf.Tensor(\n",
            "[[18. 18.]\n",
            " [18. 18.]], shape=(2, 2), dtype=float32)\n"
          ]
        }
      ],
      "source": [
        "d = b + c\n",
        "print(d)"
      ]
    },
    {
      "cell_type": "code",
      "execution_count": 22,
      "metadata": {
        "id": "5btizYW62W-s",
        "outputId": "4adda053-a3a5-408b-fdf3-15d9645c9824",
        "colab": {
          "base_uri": "https://localhost:8080/"
        }
      },
      "outputs": [
        {
          "output_type": "stream",
          "name": "stdout",
          "text": [
            "tf.Tensor(\n",
            "[[16. 16.]\n",
            " [16. 16.]], shape=(2, 2), dtype=float32)\n"
          ]
        }
      ],
      "source": [
        "# perkalian matriks\n",
        "e = tf.matmul(a, c)\n",
        "print(e)"
      ]
    },
    {
      "cell_type": "code",
      "execution_count": 23,
      "metadata": {
        "id": "eymkfYMS2W-t",
        "outputId": "bc7f63bf-56ab-4f28-ffcc-37ecb7ff6c13",
        "colab": {
          "base_uri": "https://localhost:8080/"
        }
      },
      "outputs": [
        {
          "output_type": "stream",
          "name": "stdout",
          "text": [
            "tf.Tensor(\n",
            "[[288. 288.]\n",
            " [288. 288.]], shape=(2, 2), dtype=float32)\n"
          ]
        }
      ],
      "source": [
        "# perkalian per elemen\n",
        "e *= d\n",
        "print(e)"
      ]
    },
    {
      "cell_type": "markdown",
      "metadata": {
        "id": "2jKzYoJD2W-t"
      },
      "source": [
        "## *Automatic differentiation* dengan `GradientTape`"
      ]
    },
    {
      "cell_type": "markdown",
      "metadata": {
        "id": "goEI436_2W-t"
      },
      "source": [
        "TensorFlow memiliki fitur yang bernama *automatic differentiation*, juga disebut *autodiff* atau *autograd*. Dengan fitur ini, TensorFlow bisa menghitung turunan/gradien secara otomatis. Fitur ini membedakan antara TensorFlow dengan numpy."
      ]
    },
    {
      "cell_type": "markdown",
      "metadata": {
        "id": "iMNJlk2J2W-t"
      },
      "source": [
        "Caranya adalah menggunakan `GradientTape` seperti berikut. Semua operasi di dalam *with statement* dicatat oleh `GradientTape`, yang kemudian bisa menghitung gradiennya."
      ]
    },
    {
      "cell_type": "markdown",
      "metadata": {
        "id": "ULGWy9uB2W-t"
      },
      "source": [
        "Contohnya, turunan $x^3$ terhadap $x$ di $x=4$ adalah $3(4)^2 = 48$."
      ]
    },
    {
      "cell_type": "code",
      "execution_count": 24,
      "metadata": {
        "id": "w6RvKlhs2W-t",
        "outputId": "56f7ff73-4a16-406c-d187-935427c0d477",
        "colab": {
          "base_uri": "https://localhost:8080/"
        }
      },
      "outputs": [
        {
          "output_type": "stream",
          "name": "stdout",
          "text": [
            "tf.Tensor(48.0, shape=(), dtype=float32)\n"
          ]
        }
      ],
      "source": [
        "x = tf.Variable(4.0)\n",
        "with tf.GradientTape() as tape:\n",
        "    y = x ** 3\n",
        "dy_dx = tape.gradient(y, x)\n",
        "print(dy_dx)"
      ]
    },
    {
      "cell_type": "markdown",
      "metadata": {
        "id": "9GUncI5Y2W-t"
      },
      "source": [
        "Tidak harus dengan `tensorflow.Variable`, bahkan dengan `tensorflow.constant` juga bisa. Namun, kita harus secara eksplisit meminta TensorFlow untuk memperhatikan nilai `x`, yaitu dengan `.watch`"
      ]
    },
    {
      "cell_type": "code",
      "execution_count": 25,
      "metadata": {
        "id": "jfWT2W9Y2W-t",
        "outputId": "04f25f47-5fe6-4224-d36d-6ccc0c2a1255",
        "colab": {
          "base_uri": "https://localhost:8080/"
        }
      },
      "outputs": [
        {
          "output_type": "stream",
          "name": "stdout",
          "text": [
            "tf.Tensor(48.0, shape=(), dtype=float32)\n"
          ]
        }
      ],
      "source": [
        "x = tf.constant(4.0)\n",
        "with tf.GradientTape() as tape:\n",
        "    tape.watch(x)\n",
        "    y = x ** 3\n",
        "dy_dx = tape.gradient(y, x)\n",
        "print(dy_dx)"
      ]
    },
    {
      "cell_type": "markdown",
      "metadata": {
        "id": "xrqzRl8h2W-t"
      },
      "source": [
        "Kita bisa menghitung turunan kedua dengan *nested with statement* seperti berikut, contohnya turunan kedua dari $x^3$ terhadap $x$ di $x=4$ adalah $6(4) = 24$"
      ]
    },
    {
      "cell_type": "code",
      "execution_count": 26,
      "metadata": {
        "id": "KorClNb72W-t",
        "outputId": "26f45bf3-c684-4b36-e716-656136e2d008",
        "colab": {
          "base_uri": "https://localhost:8080/"
        }
      },
      "outputs": [
        {
          "output_type": "stream",
          "name": "stdout",
          "text": [
            "tf.Tensor(24.0, shape=(), dtype=float32)\n"
          ]
        }
      ],
      "source": [
        "x = tf.Variable(4.0)\n",
        "with tf.GradientTape() as tape2:\n",
        "    with tf.GradientTape() as tape1:\n",
        "        y = x ** 3\n",
        "    dy_dx = tape1.gradient(y, x)\n",
        "dy2_dx2 = tape2.gradient(dy_dx, x)\n",
        "print(dy2_dx2)"
      ]
    },
    {
      "cell_type": "markdown",
      "metadata": {
        "id": "O7JOKMrP2W-t"
      },
      "source": [
        "# *(Pure)* TensorFlow: klasifikasi biner dengan *perceptron*"
      ]
    },
    {
      "cell_type": "markdown",
      "metadata": {
        "id": "nVPMQ4l12W-t"
      },
      "source": [
        "*Perceptron* digunakan untuk klasifikasi biner. Mari kita coba buat model *perceptron* dengan *pure* TensorFlow, menggunakannya untuk memprediksi kelas dari titik-titik dua dimensi."
      ]
    },
    {
      "cell_type": "markdown",
      "metadata": {
        "id": "_CZEzLdX2W-t"
      },
      "source": [
        "## *Generate* dataset"
      ]
    },
    {
      "cell_type": "markdown",
      "metadata": {
        "id": "fpmUStEd2W-t"
      },
      "source": [
        "Dataset titik-titik dua dimensi, dengan dua kelas (misalnya \"negatif\" dan \"positif\"), bisa kita *generate*:"
      ]
    },
    {
      "cell_type": "code",
      "execution_count": 29,
      "metadata": {
        "id": "dblRSvrf2W-u"
      },
      "outputs": [],
      "source": [
        "num_samples_per_class, num_classes = 1000, 2\n",
        "negative_samples = np.random.multivariate_normal(mean = [0,3], cov = [[1,0.5],[0.5,1]], size = num_samples_per_class)\n",
        "positive_samples = np.random.multivariate_normal(mean = [3,0], cov = [[1,0.5],[0.5,1]], size = num_samples_per_class)\n",
        "\n",
        "inputs = np.vstack((negative_samples, positive_samples)).astype(np.float32)\n",
        "targets = np.vstack((\n",
        "    np.zeros((num_samples_per_class, 1), dtype = 'float32'),\n",
        "    np.ones((num_samples_per_class, 1), dtype = 'float32')\n",
        "))"
      ]
    },
    {
      "cell_type": "code",
      "execution_count": 30,
      "metadata": {
        "id": "tPlTeeNj2W-u",
        "outputId": "e978c8bb-3db5-4974-8760-765e2a3e3fb3",
        "colab": {
          "base_uri": "https://localhost:8080/"
        }
      },
      "outputs": [
        {
          "output_type": "stream",
          "name": "stdout",
          "text": [
            "(2000, 2)\n",
            "(2000, 1)\n"
          ]
        }
      ],
      "source": [
        "print(inputs.shape)\n",
        "print(targets.shape)"
      ]
    },
    {
      "cell_type": "code",
      "execution_count": 31,
      "metadata": {
        "id": "hfHX4SCA2W-u",
        "outputId": "0c7d666e-8b25-485d-f209-0ed34bcb9652",
        "colab": {
          "base_uri": "https://localhost:8080/",
          "height": 430
        }
      },
      "outputs": [
        {
          "output_type": "display_data",
          "data": {
            "text/plain": [
              "<Figure size 640x480 with 1 Axes>"
            ],
            "image/png": "[encoded data removed]"
          },
          "metadata": {}
        }
      ],
      "source": [
        "plt.scatter(inputs[:, 0], inputs[:, 1], c=targets[:, 0])\n",
        "plt.show()"
      ]
    },
    {
      "cell_type": "markdown",
      "metadata": {
        "id": "lBn5NItY2W-u"
      },
      "source": [
        "Kalau mau, kita bisa susun data ini ke dalam bentuk pandas DataFrame, lalu export ke CSV:"
      ]
    },
    {
      "cell_type": "code",
      "execution_count": 32,
      "metadata": {
        "id": "B1XyxYgj2W-u"
      },
      "outputs": [],
      "source": [
        "titik_negatif_positif_df = pd.DataFrame(\n",
        "    np.hstack([inputs, targets]),\n",
        "    columns = [\"x\", \"y\", \"kelas\"]\n",
        ")"
      ]
    },
    {
      "cell_type": "code",
      "execution_count": 33,
      "metadata": {
        "id": "i-OuIYI42W-u",
        "outputId": "44c6f369-10aa-4e7c-bb2d-c383a2314d71",
        "colab": {
          "base_uri": "https://localhost:8080/",
          "height": 423
        }
      },
      "outputs": [
        {
          "output_type": "execute_result",
          "data": {
            "text/plain": [
              "             x         y  kelas\n",
              "0    -0.109873  2.904561    0.0\n",
              "1    -0.070282  3.484931    0.0\n",
              "2    -0.556087  3.335495    0.0\n",
              "3    -0.314094  3.379053    0.0\n",
              "4    -0.636380  2.201054    0.0\n",
              "...        ...       ...    ...\n",
              "1995  3.338591  0.450919    1.0\n",
              "1996  3.168565  0.507815    1.0\n",
              "1997  1.506407 -0.884150    1.0\n",
              "1998  1.901459 -0.520556    1.0\n",
              "1999  1.771375 -0.421099    1.0\n",
              "\n",
              "[2000 rows x 3 columns]"
            ],
            "text/html": [
              "\n",
              "  <div id=\"df-949667e3-6275-4988-8d3e-a2835125ce1b\" class=\"colab-df-container\">\n",
              "    <div>\n",
              "<style scoped>\n",
              "    .dataframe tbody tr th:only-of-type {\n",
              "        vertical-align: middle;\n",
              "    }\n",
              "\n",
              "    .dataframe tbody tr th {\n",
              "        vertical-align: top;\n",
              "    }\n",
              "\n",
              "    .dataframe thead th {\n",
              "        text-align: right;\n",
              "    }\n",
              "</style>\n",
              "<table border=\"1\" class=\"dataframe\">\n",
              "  <thead>\n",
              "    <tr style=\"text-align: right;\">\n",
              "      <th></th>\n",
              "      <th>x</th>\n",
              "      <th>y</th>\n",
              "      <th>kelas</th>\n",
              "    </tr>\n",
              "  </thead>\n",
              "  <tbody>\n",
              "    <tr>\n",
              "      <th>0</th>\n",
              "      <td>-0.109873</td>\n",
              "      <td>2.904561</td>\n",
              "      <td>0.0</td>\n",
              "    </tr>\n",
              "    <tr>\n",
              "      <th>1</th>\n",
              "      <td>-0.070282</td>\n",
              "      <td>3.484931</td>\n",
              "      <td>0.0</td>\n",
              "    </tr>\n",
              "    <tr>\n",
              "      <th>2</th>\n",
              "      <td>-0.556087</td>\n",
              "      <td>3.335495</td>\n",
              "      <td>0.0</td>\n",
              "    </tr>\n",
              "    <tr>\n",
              "      <th>3</th>\n",
              "      <td>-0.314094</td>\n",
              "      <td>3.379053</td>\n",
              "      <td>0.0</td>\n",
              "    </tr>\n",
              "    <tr>\n",
              "      <th>4</th>\n",
              "      <td>-0.636380</td>\n",
              "      <td>2.201054</td>\n",
              "      <td>0.0</td>\n",
              "    </tr>\n",
              "    <tr>\n",
              "      <th>...</th>\n",
              "      <td>...</td>\n",
              "      <td>...</td>\n",
              "      <td>...</td>\n",
              "    </tr>\n",
              "    <tr>\n",
              "      <th>1995</th>\n",
              "      <td>3.338591</td>\n",
              "      <td>0.450919</td>\n",
              "      <td>1.0</td>\n",
              "    </tr>\n",
              "    <tr>\n",
              "      <th>1996</th>\n",
              "      <td>3.168565</td>\n",
              "      <td>0.507815</td>\n",
              "      <td>1.0</td>\n",
              "    </tr>\n",
              "    <tr>\n",
              "      <th>1997</th>\n",
              "      <td>1.506407</td>\n",
              "      <td>-0.884150</td>\n",
              "      <td>1.0</td>\n",
              "    </tr>\n",
              "    <tr>\n",
              "      <th>1998</th>\n",
              "      <td>1.901459</td>\n",
              "      <td>-0.520556</td>\n",
              "      <td>1.0</td>\n",
              "    </tr>\n",
              "    <tr>\n",
              "      <th>1999</th>\n",
              "      <td>1.771375</td>\n",
              "      <td>-0.421099</td>\n",
              "      <td>1.0</td>\n",
              "    </tr>\n",
              "  </tbody>\n",
              "</table>\n",
              "<p>2000 rows × 3 columns</p>\n",
              "</div>\n",
              "    <div class=\"colab-df-buttons\">\n",
              "\n",
              "  <div class=\"colab-df-container\">\n",
              "    <button class=\"colab-df-convert\" onclick=\"convertToInteractive('df-949667e3-6275-4988-8d3e-a2835125ce1b')\"\n",
              "            title=\"Convert this dataframe to an interactive table.\"\n",
              "            style=\"display:none;\">\n",
              "\n",
              "  <svg xmlns=\"http://www.w3.org/2000/svg\" height=\"24px\" viewBox=\"0 -960 960 960\">\n",
              "    <path d=\"M120-120v-720h720v720H120Zm60-500h600v-160H180v160Zm220 220h160v-160H400v160Zm0 220h160v-160H400v160ZM180-400h160v-160H180v160Zm440 0h160v-160H620v160ZM180-180h160v-160H180v160Zm440 0h160v-160H620v160Z\"/>\n",
              "  </svg>\n",
              "    </button>\n",
              "\n",
              "  <style>\n",
              "    .colab-df-container {\n",
              "      display:flex;\n",
              "      gap: 12px;\n",
              "    }\n",
              "\n",
              "    .colab-df-convert {\n",
              "      background-color: #E8F0FE;\n",
              "      border: none;\n",
              "      border-radius: 50%;\n",
              "      cursor: pointer;\n",
              "      display: none;\n",
              "      fill: #1967D2;\n",
              "      height: 32px;\n",
              "      padding: 0 0 0 0;\n",
              "      width: 32px;\n",
              "    }\n",
              "\n",
              "    .colab-df-convert:hover {\n",
              "      background-color: #E2EBFA;\n",
              "      box-shadow: 0px 1px 2px rgba(60, 64, 67, 0.3), 0px 1px 3px 1px rgba(60, 64, 67, 0.15);\n",
              "      fill: #174EA6;\n",
              "    }\n",
              "\n",
              "    .colab-df-buttons div {\n",
              "      margin-bottom: 4px;\n",
              "    }\n",
              "\n",
              "    [theme=dark] .colab-df-convert {\n",
              "      background-color: #3B4455;\n",
              "      fill: #D2E3FC;\n",
              "    }\n",
              "\n",
              "    [theme=dark] .colab-df-convert:hover {\n",
              "      background-color: #434B5C;\n",
              "      box-shadow: 0px 1px 3px 1px rgba(0, 0, 0, 0.15);\n",
              "      filter: drop-shadow(0px 1px 2px rgba(0, 0, 0, 0.3));\n",
              "      fill: #FFFFFF;\n",
              "    }\n",
              "  </style>\n",
              "\n",
              "    <script>\n",
              "      const buttonEl =\n",
              "        document.querySelector('#df-949667e3-6275-4988-8d3e-a2835125ce1b button.colab-df-convert');\n",
              "      buttonEl.style.display =\n",
              "        google.colab.kernel.accessAllowed ? 'block' : 'none';\n",
              "\n",
              "      async function convertToInteractive(key) {\n",
              "        const element = document.querySelector('#df-949667e3-6275-4988-8d3e-a2835125ce1b');\n",
              "        const dataTable =\n",
              "          await google.colab.kernel.invokeFunction('convertToInteractive',\n",
              "                                                    [key], {});\n",
              "        if (!dataTable) return;\n",
              "\n",
              "        const docLinkHtml = 'Like what you see? Visit the ' +\n",
              "          '<a target=\"_blank\" href=https://colab.research.google.com/notebooks/data_table.ipynb>data table notebook</a>'\n",
              "          + ' to learn more about interactive tables.';\n",
              "        element.innerHTML = '';\n",
              "        dataTable['output_type'] = 'display_data';\n",
              "        await google.colab.output.renderOutput(dataTable, element);\n",
              "        const docLink = document.createElement('div');\n",
              "        docLink.innerHTML = docLinkHtml;\n",
              "        element.appendChild(docLink);\n",
              "      }\n",
              "    </script>\n",
              "  </div>\n",
              "\n",
              "\n",
              "    <div id=\"df-87cd810a-4059-4132-bd10-d24143d0d542\">\n",
              "      <button class=\"colab-df-quickchart\" onclick=\"quickchart('df-87cd810a-4059-4132-bd10-d24143d0d542')\"\n",
              "                title=\"Suggest charts\"\n",
              "                style=\"display:none;\">\n",
              "\n",
              "<svg xmlns=\"http://www.w3.org/2000/svg\" height=\"24px\"viewBox=\"0 0 24 24\"\n",
              "     width=\"24px\">\n",
              "    <g>\n",
              "        <path d=\"M19 3H5c-1.1 0-2 .9-2 2v14c0 1.1.9 2 2 2h14c1.1 0 2-.9 2-2V5c0-1.1-.9-2-2-2zM9 17H7v-7h2v7zm4 0h-2V7h2v10zm4 0h-2v-4h2v4z\"/>\n",
              "    </g>\n",
              "</svg>\n",
              "      </button>\n",
              "\n",
              "<style>\n",
              "  .colab-df-quickchart {\n",
              "      --bg-color: #E8F0FE;\n",
              "      --fill-color: #1967D2;\n",
              "      --hover-bg-color: #E2EBFA;\n",
              "      --hover-fill-color: #174EA6;\n",
              "      --disabled-fill-color: #AAA;\n",
              "      --disabled-bg-color: #DDD;\n",
              "  }\n",
              "\n",
              "  [theme=dark] .colab-df-quickchart {\n",
              "      --bg-color: #3B4455;\n",
              "      --fill-color: #D2E3FC;\n",
              "      --hover-bg-color: #434B5C;\n",
              "      --hover-fill-color: #FFFFFF;\n",
              "      --disabled-bg-color: #3B4455;\n",
              "      --disabled-fill-color: #666;\n",
              "  }\n",
              "\n",
              "  .colab-df-quickchart {\n",
              "    background-color: var(--bg-color);\n",
              "    border: none;\n",
              "    border-radius: 50%;\n",
              "    cursor: pointer;\n",
              "    display: none;\n",
              "    fill: var(--fill-color);\n",
              "    height: 32px;\n",
              "    padding: 0;\n",
              "    width: 32px;\n",
              "  }\n",
              "\n",
              "  .colab-df-quickchart:hover {\n",
              "    background-color: var(--hover-bg-color);\n",
              "    box-shadow: 0 1px 2px rgba(60, 64, 67, 0.3), 0 1px 3px 1px rgba(60, 64, 67, 0.15);\n",
              "    fill: var(--button-hover-fill-color);\n",
              "  }\n",
              "\n",
              "  .colab-df-quickchart-complete:disabled,\n",
              "  .colab-df-quickchart-complete:disabled:hover {\n",
              "    background-color: var(--disabled-bg-color);\n",
              "    fill: var(--disabled-fill-color);\n",
              "    box-shadow: none;\n",
              "  }\n",
              "\n",
              "  .colab-df-spinner {\n",
              "    border: 2px solid var(--fill-color);\n",
              "    border-color: transparent;\n",
              "    border-bottom-color: var(--fill-color);\n",
              "    animation:\n",
              "      spin 1s steps(1) infinite;\n",
              "  }\n",
              "\n",
              "  @keyframes spin {\n",
              "    0% {\n",
              "      border-color: transparent;\n",
              "      border-bottom-color: var(--fill-color);\n",
              "      border-left-color: var(--fill-color);\n",
              "    }\n",
              "    20% {\n",
              "      border-color: transparent;\n",
              "      border-left-color: var(--fill-color);\n",
              "      border-top-color: var(--fill-color);\n",
              "    }\n",
              "    30% {\n",
              "      border-color: transparent;\n",
              "      border-left-color: var(--fill-color);\n",
              "      border-top-color: var(--fill-color);\n",
              "      border-right-color: var(--fill-color);\n",
              "    }\n",
              "    40% {\n",
              "      border-color: transparent;\n",
              "      border-right-color: var(--fill-color);\n",
              "      border-top-color: var(--fill-color);\n",
              "    }\n",
              "    60% {\n",
              "      border-color: transparent;\n",
              "      border-right-color: var(--fill-color);\n",
              "    }\n",
              "    80% {\n",
              "      border-color: transparent;\n",
              "      border-right-color: var(--fill-color);\n",
              "      border-bottom-color: var(--fill-color);\n",
              "    }\n",
              "    90% {\n",
              "      border-color: transparent;\n",
              "      border-bottom-color: var(--fill-color);\n",
              "    }\n",
              "  }\n",
              "</style>\n",
              "\n",
              "      <script>\n",
              "        async function quickchart(key) {\n",
              "          const quickchartButtonEl =\n",
              "            document.querySelector('#' + key + ' button');\n",
              "          quickchartButtonEl.disabled = true;  // To prevent multiple clicks.\n",
              "          quickchartButtonEl.classList.add('colab-df-spinner');\n",
              "          try {\n",
              "            const charts = await google.colab.kernel.invokeFunction(\n",
              "                'suggestCharts', [key], {});\n",
              "          } catch (error) {\n",
              "            console.error('Error during call to suggestCharts:', error);\n",
              "          }\n",
              "          quickchartButtonEl.classList.remove('colab-df-spinner');\n",
              "          quickchartButtonEl.classList.add('colab-df-quickchart-complete');\n",
              "        }\n",
              "        (() => {\n",
              "          let quickchartButtonEl =\n",
              "            document.querySelector('#df-87cd810a-4059-4132-bd10-d24143d0d542 button');\n",
              "          quickchartButtonEl.style.display =\n",
              "            google.colab.kernel.accessAllowed ? 'block' : 'none';\n",
              "        })();\n",
              "      </script>\n",
              "    </div>\n",
              "\n",
              "  <div id=\"id_cdcaadf0-967f-4273-9a3b-7c59f240b962\">\n",
              "    <style>\n",
              "      .colab-df-generate {\n",
              "        background-color: #E8F0FE;\n",
              "        border: none;\n",
              "        border-radius: 50%;\n",
              "        cursor: pointer;\n",
              "        display: none;\n",
              "        fill: #1967D2;\n",
              "        height: 32px;\n",
              "        padding: 0 0 0 0;\n",
              "        width: 32px;\n",
              "      }\n",
              "\n",
              "      .colab-df-generate:hover {\n",
              "        background-color: #E2EBFA;\n",
              "        box-shadow: 0px 1px 2px rgba(60, 64, 67, 0.3), 0px 1px 3px 1px rgba(60, 64, 67, 0.15);\n",
              "        fill: #174EA6;\n",
              "      }\n",
              "\n",
              "      [theme=dark] .colab-df-generate {\n",
              "        background-color: #3B4455;\n",
              "        fill: #D2E3FC;\n",
              "      }\n",
              "\n",
              "      [theme=dark] .colab-df-generate:hover {\n",
              "        background-color: #434B5C;\n",
              "        box-shadow: 0px 1px 3px 1px rgba(0, 0, 0, 0.15);\n",
              "        filter: drop-shadow(0px 1px 2px rgba(0, 0, 0, 0.3));\n",
              "        fill: #FFFFFF;\n",
              "      }\n",
              "    </style>\n",
              "    <button class=\"colab-df-generate\" onclick=\"generateWithVariable('titik_negatif_positif_df')\"\n",
              "            title=\"Generate code using this dataframe.\"\n",
              "            style=\"display:none;\">\n",
              "\n",
              "  <svg xmlns=\"http://www.w3.org/2000/svg\" height=\"24px\"viewBox=\"0 0 24 24\"\n",
              "       width=\"24px\">\n",
              "    <path d=\"M7,19H8.4L18.45,9,17,7.55,7,17.6ZM5,21V16.75L18.45,3.32a2,2,0,0,1,2.83,0l1.4,1.43a1.91,1.91,0,0,1,.58,1.4,1.91,1.91,0,0,1-.58,1.4L9.25,21ZM18.45,9,17,7.55Zm-12,3A5.31,5.31,0,0,0,4.9,8.1,5.31,5.31,0,0,0,1,6.5,5.31,5.31,0,0,0,4.9,4.9,5.31,5.31,0,0,0,6.5,1,5.31,5.31,0,0,0,8.1,4.9,5.31,5.31,0,0,0,12,6.5,5.46,5.46,0,0,0,6.5,12Z\"/>\n",
              "  </svg>\n",
              "    </button>\n",
              "    <script>\n",
              "      (() => {\n",
              "      const buttonEl =\n",
              "        document.querySelector('#id_cdcaadf0-967f-4273-9a3b-7c59f240b962 button.colab-df-generate');\n",
              "      buttonEl.style.display =\n",
              "        google.colab.kernel.accessAllowed ? 'block' : 'none';\n",
              "\n",
              "      buttonEl.onclick = () => {\n",
              "        google.colab.notebook.generateWithVariable('titik_negatif_positif_df');\n",
              "      }\n",
              "      })();\n",
              "    </script>\n",
              "  </div>\n",
              "\n",
              "    </div>\n",
              "  </div>\n"
            ],
            "application/vnd.google.colaboratory.intrinsic+json": {
              "type": "dataframe",
              "variable_name": "titik_negatif_positif_df",
              "summary": "{\n  \"name\": \"titik_negatif_positif_df\",\n  \"rows\": 2000,\n  \"fields\": [\n    {\n      \"column\": \"x\",\n      \"properties\": {\n        \"dtype\": \"float32\",\n        \"num_unique_values\": 2000,\n        \"samples\": [\n          3.8475382328033447,\n          -0.9048328995704651,\n          2.7900784015655518\n        ],\n        \"semantic_type\": \"\",\n        \"description\": \"\"\n      }\n    },\n    {\n      \"column\": \"y\",\n      \"properties\": {\n        \"dtype\": \"float32\",\n        \"num_unique_values\": 2000,\n        \"samples\": [\n          2.176729679107666,\n          4.020837306976318,\n          -1.396789789199829\n        ],\n        \"semantic_type\": \"\",\n        \"description\": \"\"\n      }\n    },\n    {\n      \"column\": \"kelas\",\n      \"properties\": {\n        \"dtype\": \"float32\",\n        \"num_unique_values\": 2,\n        \"samples\": [\n          1.0,\n          0.0\n        ],\n        \"semantic_type\": \"\",\n        \"description\": \"\"\n      }\n    }\n  ]\n}"
            }
          },
          "metadata": {},
          "execution_count": 33
        }
      ],
      "source": [
        "titik_negatif_positif_df"
      ]
    },
    {
      "cell_type": "code",
      "execution_count": 34,
      "metadata": {
        "id": "XO9ortFr2W-u"
      },
      "outputs": [],
      "source": [
        "titik_negatif_positif_df.to_csv(\"./titik_negatif_positif.csv\", index=False)"
      ]
    },
    {
      "cell_type": "markdown",
      "metadata": {
        "id": "Q3aC4QKa2W-u"
      },
      "source": [
        "## *Import* kembali dataset"
      ]
    },
    {
      "cell_type": "markdown",
      "metadata": {
        "id": "e2yxietG2W-u"
      },
      "source": [
        "Tentunya, karena titik-titiknya di-*generate* secara *random*, mungkin saja titik-titik yang kalian peroleh akan sedikit berbeda, bahkan tiap kali di-*run* ulang akan berbeda.\n",
        "\n",
        "Kalau kalian mau menyamakan dengan modul ini, CSV nya bisa di-*download* dari GitHub Pages ini: [titik_negatif_positif.csv](./titik_negatif_positif.csv)"
      ]
    },
    {
      "cell_type": "markdown",
      "metadata": {
        "id": "gUi3t3wm2W-u"
      },
      "source": [
        "Kita bisa import kembali:"
      ]
    },
    {
      "cell_type": "code",
      "execution_count": 35,
      "metadata": {
        "id": "JdwvZB7l2W-u"
      },
      "outputs": [],
      "source": [
        "df = pd.read_csv(\"./titik_negatif_positif.csv\", dtype=\"float32\")"
      ]
    },
    {
      "cell_type": "markdown",
      "metadata": {
        "id": "_ICC-JXT2W-u"
      },
      "source": [
        "Kali ini, kita tambahkan keterangan `dtype=\"float32\"`. Ini penting, karena TensorFlow biasanya menangani `float32` (yaitu tipe data `float` dengan penyimpanan 32-bit), bukan `float64` yang biasa digunakan oleh pandas."
      ]
    },
    {
      "cell_type": "code",
      "execution_count": 36,
      "metadata": {
        "id": "tO03mNIv2W-v",
        "outputId": "b49db711-a500-4d1f-9f7f-a226e25c38c1",
        "colab": {
          "base_uri": "https://localhost:8080/",
          "height": 423
        }
      },
      "outputs": [
        {
          "output_type": "execute_result",
          "data": {
            "text/plain": [
              "             x         y  kelas\n",
              "0    -0.109873  2.904561    0.0\n",
              "1    -0.070282  3.484931    0.0\n",
              "2    -0.556087  3.335495    0.0\n",
              "3    -0.314094  3.379053    0.0\n",
              "4    -0.636380  2.201054    0.0\n",
              "...        ...       ...    ...\n",
              "1995  3.338591  0.450919    1.0\n",
              "1996  3.168565  0.507815    1.0\n",
              "1997  1.506407 -0.884150    1.0\n",
              "1998  1.901459 -0.520556    1.0\n",
              "1999  1.771375 -0.421099    1.0\n",
              "\n",
              "[2000 rows x 3 columns]"
            ],
            "text/html": [
              "\n",
              "  <div id=\"df-0169066e-fc21-4de8-9f67-65c8e59f206e\" class=\"colab-df-container\">\n",
              "    <div>\n",
              "<style scoped>\n",
              "    .dataframe tbody tr th:only-of-type {\n",
              "        vertical-align: middle;\n",
              "    }\n",
              "\n",
              "    .dataframe tbody tr th {\n",
              "        vertical-align: top;\n",
              "    }\n",
              "\n",
              "    .dataframe thead th {\n",
              "        text-align: right;\n",
              "    }\n",
              "</style>\n",
              "<table border=\"1\" class=\"dataframe\">\n",
              "  <thead>\n",
              "    <tr style=\"text-align: right;\">\n",
              "      <th></th>\n",
              "      <th>x</th>\n",
              "      <th>y</th>\n",
              "      <th>kelas</th>\n",
              "    </tr>\n",
              "  </thead>\n",
              "  <tbody>\n",
              "    <tr>\n",
              "      <th>0</th>\n",
              "      <td>-0.109873</td>\n",
              "      <td>2.904561</td>\n",
              "      <td>0.0</td>\n",
              "    </tr>\n",
              "    <tr>\n",
              "      <th>1</th>\n",
              "      <td>-0.070282</td>\n",
              "      <td>3.484931</td>\n",
              "      <td>0.0</td>\n",
              "    </tr>\n",
              "    <tr>\n",
              "      <th>2</th>\n",
              "      <td>-0.556087</td>\n",
              "      <td>3.335495</td>\n",
              "      <td>0.0</td>\n",
              "    </tr>\n",
              "    <tr>\n",
              "      <th>3</th>\n",
              "      <td>-0.314094</td>\n",
              "      <td>3.379053</td>\n",
              "      <td>0.0</td>\n",
              "    </tr>\n",
              "    <tr>\n",
              "      <th>4</th>\n",
              "      <td>-0.636380</td>\n",
              "      <td>2.201054</td>\n",
              "      <td>0.0</td>\n",
              "    </tr>\n",
              "    <tr>\n",
              "      <th>...</th>\n",
              "      <td>...</td>\n",
              "      <td>...</td>\n",
              "      <td>...</td>\n",
              "    </tr>\n",
              "    <tr>\n",
              "      <th>1995</th>\n",
              "      <td>3.338591</td>\n",
              "      <td>0.450919</td>\n",
              "      <td>1.0</td>\n",
              "    </tr>\n",
              "    <tr>\n",
              "      <th>1996</th>\n",
              "      <td>3.168565</td>\n",
              "      <td>0.507815</td>\n",
              "      <td>1.0</td>\n",
              "    </tr>\n",
              "    <tr>\n",
              "      <th>1997</th>\n",
              "      <td>1.506407</td>\n",
              "      <td>-0.884150</td>\n",
              "      <td>1.0</td>\n",
              "    </tr>\n",
              "    <tr>\n",
              "      <th>1998</th>\n",
              "      <td>1.901459</td>\n",
              "      <td>-0.520556</td>\n",
              "      <td>1.0</td>\n",
              "    </tr>\n",
              "    <tr>\n",
              "      <th>1999</th>\n",
              "      <td>1.771375</td>\n",
              "      <td>-0.421099</td>\n",
              "      <td>1.0</td>\n",
              "    </tr>\n",
              "  </tbody>\n",
              "</table>\n",
              "<p>2000 rows × 3 columns</p>\n",
              "</div>\n",
              "    <div class=\"colab-df-buttons\">\n",
              "\n",
              "  <div class=\"colab-df-container\">\n",
              "    <button class=\"colab-df-convert\" onclick=\"convertToInteractive('df-0169066e-fc21-4de8-9f67-65c8e59f206e')\"\n",
              "            title=\"Convert this dataframe to an interactive table.\"\n",
              "            style=\"display:none;\">\n",
              "\n",
              "  <svg xmlns=\"http://www.w3.org/2000/svg\" height=\"24px\" viewBox=\"0 -960 960 960\">\n",
              "    <path d=\"M120-120v-720h720v720H120Zm60-500h600v-160H180v160Zm220 220h160v-160H400v160Zm0 220h160v-160H400v160ZM180-400h160v-160H180v160Zm440 0h160v-160H620v160ZM180-180h160v-160H180v160Zm440 0h160v-160H620v160Z\"/>\n",
              "  </svg>\n",
              "    </button>\n",
              "\n",
              "  <style>\n",
              "    .colab-df-container {\n",
              "      display:flex;\n",
              "      gap: 12px;\n",
              "    }\n",
              "\n",
              "    .colab-df-convert {\n",
              "      background-color: #E8F0FE;\n",
              "      border: none;\n",
              "      border-radius: 50%;\n",
              "      cursor: pointer;\n",
              "      display: none;\n",
              "      fill: #1967D2;\n",
              "      height: 32px;\n",
              "      padding: 0 0 0 0;\n",
              "      width: 32px;\n",
              "    }\n",
              "\n",
              "    .colab-df-convert:hover {\n",
              "      background-color: #E2EBFA;\n",
              "      box-shadow: 0px 1px 2px rgba(60, 64, 67, 0.3), 0px 1px 3px 1px rgba(60, 64, 67, 0.15);\n",
              "      fill: #174EA6;\n",
              "    }\n",
              "\n",
              "    .colab-df-buttons div {\n",
              "      margin-bottom: 4px;\n",
              "    }\n",
              "\n",
              "    [theme=dark] .colab-df-convert {\n",
              "      background-color: #3B4455;\n",
              "      fill: #D2E3FC;\n",
              "    }\n",
              "\n",
              "    [theme=dark] .colab-df-convert:hover {\n",
              "      background-color: #434B5C;\n",
              "      box-shadow: 0px 1px 3px 1px rgba(0, 0, 0, 0.15);\n",
              "      filter: drop-shadow(0px 1px 2px rgba(0, 0, 0, 0.3));\n",
              "      fill: #FFFFFF;\n",
              "    }\n",
              "  </style>\n",
              "\n",
              "    <script>\n",
              "      const buttonEl =\n",
              "        document.querySelector('#df-0169066e-fc21-4de8-9f67-65c8e59f206e button.colab-df-convert');\n",
              "      buttonEl.style.display =\n",
              "        google.colab.kernel.accessAllowed ? 'block' : 'none';\n",
              "\n",
              "      async function convertToInteractive(key) {\n",
              "        const element = document.querySelector('#df-0169066e-fc21-4de8-9f67-65c8e59f206e');\n",
              "        const dataTable =\n",
              "          await google.colab.kernel.invokeFunction('convertToInteractive',\n",
              "                                                    [key], {});\n",
              "        if (!dataTable) return;\n",
              "\n",
              "        const docLinkHtml = 'Like what you see? Visit the ' +\n",
              "          '<a target=\"_blank\" href=https://colab.research.google.com/notebooks/data_table.ipynb>data table notebook</a>'\n",
              "          + ' to learn more about interactive tables.';\n",
              "        element.innerHTML = '';\n",
              "        dataTable['output_type'] = 'display_data';\n",
              "        await google.colab.output.renderOutput(dataTable, element);\n",
              "        const docLink = document.createElement('div');\n",
              "        docLink.innerHTML = docLinkHtml;\n",
              "        element.appendChild(docLink);\n",
              "      }\n",
              "    </script>\n",
              "  </div>\n",
              "\n",
              "\n",
              "    <div id=\"df-23b26410-60a6-4903-91cd-bb7469b0d5aa\">\n",
              "      <button class=\"colab-df-quickchart\" onclick=\"quickchart('df-23b26410-60a6-4903-91cd-bb7469b0d5aa')\"\n",
              "                title=\"Suggest charts\"\n",
              "                style=\"display:none;\">\n",
              "\n",
              "<svg xmlns=\"http://www.w3.org/2000/svg\" height=\"24px\"viewBox=\"0 0 24 24\"\n",
              "     width=\"24px\">\n",
              "    <g>\n",
              "        <path d=\"M19 3H5c-1.1 0-2 .9-2 2v14c0 1.1.9 2 2 2h14c1.1 0 2-.9 2-2V5c0-1.1-.9-2-2-2zM9 17H7v-7h2v7zm4 0h-2V7h2v10zm4 0h-2v-4h2v4z\"/>\n",
              "    </g>\n",
              "</svg>\n",
              "      </button>\n",
              "\n",
              "<style>\n",
              "  .colab-df-quickchart {\n",
              "      --bg-color: #E8F0FE;\n",
              "      --fill-color: #1967D2;\n",
              "      --hover-bg-color: #E2EBFA;\n",
              "      --hover-fill-color: #174EA6;\n",
              "      --disabled-fill-color: #AAA;\n",
              "      --disabled-bg-color: #DDD;\n",
              "  }\n",
              "\n",
              "  [theme=dark] .colab-df-quickchart {\n",
              "      --bg-color: #3B4455;\n",
              "      --fill-color: #D2E3FC;\n",
              "      --hover-bg-color: #434B5C;\n",
              "      --hover-fill-color: #FFFFFF;\n",
              "      --disabled-bg-color: #3B4455;\n",
              "      --disabled-fill-color: #666;\n",
              "  }\n",
              "\n",
              "  .colab-df-quickchart {\n",
              "    background-color: var(--bg-color);\n",
              "    border: none;\n",
              "    border-radius: 50%;\n",
              "    cursor: pointer;\n",
              "    display: none;\n",
              "    fill: var(--fill-color);\n",
              "    height: 32px;\n",
              "    padding: 0;\n",
              "    width: 32px;\n",
              "  }\n",
              "\n",
              "  .colab-df-quickchart:hover {\n",
              "    background-color: var(--hover-bg-color);\n",
              "    box-shadow: 0 1px 2px rgba(60, 64, 67, 0.3), 0 1px 3px 1px rgba(60, 64, 67, 0.15);\n",
              "    fill: var(--button-hover-fill-color);\n",
              "  }\n",
              "\n",
              "  .colab-df-quickchart-complete:disabled,\n",
              "  .colab-df-quickchart-complete:disabled:hover {\n",
              "    background-color: var(--disabled-bg-color);\n",
              "    fill: var(--disabled-fill-color);\n",
              "    box-shadow: none;\n",
              "  }\n",
              "\n",
              "  .colab-df-spinner {\n",
              "    border: 2px solid var(--fill-color);\n",
              "    border-color: transparent;\n",
              "    border-bottom-color: var(--fill-color);\n",
              "    animation:\n",
              "      spin 1s steps(1) infinite;\n",
              "  }\n",
              "\n",
              "  @keyframes spin {\n",
              "    0% {\n",
              "      border-color: transparent;\n",
              "      border-bottom-color: var(--fill-color);\n",
              "      border-left-color: var(--fill-color);\n",
              "    }\n",
              "    20% {\n",
              "      border-color: transparent;\n",
              "      border-left-color: var(--fill-color);\n",
              "      border-top-color: var(--fill-color);\n",
              "    }\n",
              "    30% {\n",
              "      border-color: transparent;\n",
              "      border-left-color: var(--fill-color);\n",
              "      border-top-color: var(--fill-color);\n",
              "      border-right-color: var(--fill-color);\n",
              "    }\n",
              "    40% {\n",
              "      border-color: transparent;\n",
              "      border-right-color: var(--fill-color);\n",
              "      border-top-color: var(--fill-color);\n",
              "    }\n",
              "    60% {\n",
              "      border-color: transparent;\n",
              "      border-right-color: var(--fill-color);\n",
              "    }\n",
              "    80% {\n",
              "      border-color: transparent;\n",
              "      border-right-color: var(--fill-color);\n",
              "      border-bottom-color: var(--fill-color);\n",
              "    }\n",
              "    90% {\n",
              "      border-color: transparent;\n",
              "      border-bottom-color: var(--fill-color);\n",
              "    }\n",
              "  }\n",
              "</style>\n",
              "\n",
              "      <script>\n",
              "        async function quickchart(key) {\n",
              "          const quickchartButtonEl =\n",
              "            document.querySelector('#' + key + ' button');\n",
              "          quickchartButtonEl.disabled = true;  // To prevent multiple clicks.\n",
              "          quickchartButtonEl.classList.add('colab-df-spinner');\n",
              "          try {\n",
              "            const charts = await google.colab.kernel.invokeFunction(\n",
              "                'suggestCharts', [key], {});\n",
              "          } catch (error) {\n",
              "            console.error('Error during call to suggestCharts:', error);\n",
              "          }\n",
              "          quickchartButtonEl.classList.remove('colab-df-spinner');\n",
              "          quickchartButtonEl.classList.add('colab-df-quickchart-complete');\n",
              "        }\n",
              "        (() => {\n",
              "          let quickchartButtonEl =\n",
              "            document.querySelector('#df-23b26410-60a6-4903-91cd-bb7469b0d5aa button');\n",
              "          quickchartButtonEl.style.display =\n",
              "            google.colab.kernel.accessAllowed ? 'block' : 'none';\n",
              "        })();\n",
              "      </script>\n",
              "    </div>\n",
              "\n",
              "  <div id=\"id_86c85d34-e15e-485f-9a22-1d38fe9f7bc8\">\n",
              "    <style>\n",
              "      .colab-df-generate {\n",
              "        background-color: #E8F0FE;\n",
              "        border: none;\n",
              "        border-radius: 50%;\n",
              "        cursor: pointer;\n",
              "        display: none;\n",
              "        fill: #1967D2;\n",
              "        height: 32px;\n",
              "        padding: 0 0 0 0;\n",
              "        width: 32px;\n",
              "      }\n",
              "\n",
              "      .colab-df-generate:hover {\n",
              "        background-color: #E2EBFA;\n",
              "        box-shadow: 0px 1px 2px rgba(60, 64, 67, 0.3), 0px 1px 3px 1px rgba(60, 64, 67, 0.15);\n",
              "        fill: #174EA6;\n",
              "      }\n",
              "\n",
              "      [theme=dark] .colab-df-generate {\n",
              "        background-color: #3B4455;\n",
              "        fill: #D2E3FC;\n",
              "      }\n",
              "\n",
              "      [theme=dark] .colab-df-generate:hover {\n",
              "        background-color: #434B5C;\n",
              "        box-shadow: 0px 1px 3px 1px rgba(0, 0, 0, 0.15);\n",
              "        filter: drop-shadow(0px 1px 2px rgba(0, 0, 0, 0.3));\n",
              "        fill: #FFFFFF;\n",
              "      }\n",
              "    </style>\n",
              "    <button class=\"colab-df-generate\" onclick=\"generateWithVariable('df')\"\n",
              "            title=\"Generate code using this dataframe.\"\n",
              "            style=\"display:none;\">\n",
              "\n",
              "  <svg xmlns=\"http://www.w3.org/2000/svg\" height=\"24px\"viewBox=\"0 0 24 24\"\n",
              "       width=\"24px\">\n",
              "    <path d=\"M7,19H8.4L18.45,9,17,7.55,7,17.6ZM5,21V16.75L18.45,3.32a2,2,0,0,1,2.83,0l1.4,1.43a1.91,1.91,0,0,1,.58,1.4,1.91,1.91,0,0,1-.58,1.4L9.25,21ZM18.45,9,17,7.55Zm-12,3A5.31,5.31,0,0,0,4.9,8.1,5.31,5.31,0,0,0,1,6.5,5.31,5.31,0,0,0,4.9,4.9,5.31,5.31,0,0,0,6.5,1,5.31,5.31,0,0,0,8.1,4.9,5.31,5.31,0,0,0,12,6.5,5.46,5.46,0,0,0,6.5,12Z\"/>\n",
              "  </svg>\n",
              "    </button>\n",
              "    <script>\n",
              "      (() => {\n",
              "      const buttonEl =\n",
              "        document.querySelector('#id_86c85d34-e15e-485f-9a22-1d38fe9f7bc8 button.colab-df-generate');\n",
              "      buttonEl.style.display =\n",
              "        google.colab.kernel.accessAllowed ? 'block' : 'none';\n",
              "\n",
              "      buttonEl.onclick = () => {\n",
              "        google.colab.notebook.generateWithVariable('df');\n",
              "      }\n",
              "      })();\n",
              "    </script>\n",
              "  </div>\n",
              "\n",
              "    </div>\n",
              "  </div>\n"
            ],
            "application/vnd.google.colaboratory.intrinsic+json": {
              "type": "dataframe",
              "variable_name": "df",
              "summary": "{\n  \"name\": \"df\",\n  \"rows\": 2000,\n  \"fields\": [\n    {\n      \"column\": \"x\",\n      \"properties\": {\n        \"dtype\": \"float32\",\n        \"num_unique_values\": 2000,\n        \"samples\": [\n          3.8475382328033447,\n          -0.9048328995704651,\n          2.7900784015655518\n        ],\n        \"semantic_type\": \"\",\n        \"description\": \"\"\n      }\n    },\n    {\n      \"column\": \"y\",\n      \"properties\": {\n        \"dtype\": \"float32\",\n        \"num_unique_values\": 2000,\n        \"samples\": [\n          2.176729679107666,\n          4.020837306976318,\n          -1.396789789199829\n        ],\n        \"semantic_type\": \"\",\n        \"description\": \"\"\n      }\n    },\n    {\n      \"column\": \"kelas\",\n      \"properties\": {\n        \"dtype\": \"float32\",\n        \"num_unique_values\": 2,\n        \"samples\": [\n          1.0,\n          0.0\n        ],\n        \"semantic_type\": \"\",\n        \"description\": \"\"\n      }\n    }\n  ]\n}"
            }
          },
          "metadata": {},
          "execution_count": 36
        }
      ],
      "source": [
        "df"
      ]
    },
    {
      "cell_type": "code",
      "execution_count": 37,
      "metadata": {
        "id": "GQKsD1nj2W-v",
        "outputId": "be51e0f2-b1ee-44b0-dccb-f603cf7129f6",
        "colab": {
          "base_uri": "https://localhost:8080/"
        }
      },
      "outputs": [
        {
          "output_type": "stream",
          "name": "stdout",
          "text": [
            "<class 'pandas.core.frame.DataFrame'>\n",
            "RangeIndex: 2000 entries, 0 to 1999\n",
            "Data columns (total 3 columns):\n",
            " #   Column  Non-Null Count  Dtype  \n",
            "---  ------  --------------  -----  \n",
            " 0   x       2000 non-null   float32\n",
            " 1   y       2000 non-null   float32\n",
            " 2   kelas   2000 non-null   float32\n",
            "dtypes: float32(3)\n",
            "memory usage: 23.6 KB\n"
          ]
        }
      ],
      "source": [
        "df.info()"
      ]
    },
    {
      "cell_type": "code",
      "execution_count": 38,
      "metadata": {
        "id": "wc13cGxX2W-v"
      },
      "outputs": [],
      "source": [
        "inputs_df = df.drop(columns=[\"kelas\"])\n",
        "targets_df = df[[\"kelas\"]]"
      ]
    },
    {
      "cell_type": "code",
      "execution_count": 39,
      "metadata": {
        "id": "EfDbfOTD2W-v",
        "outputId": "edf662db-f40b-4556-b060-c1fdc27c6b3d",
        "colab": {
          "base_uri": "https://localhost:8080/",
          "height": 423
        }
      },
      "outputs": [
        {
          "output_type": "execute_result",
          "data": {
            "text/plain": [
              "             x         y\n",
              "0    -0.109873  2.904561\n",
              "1    -0.070282  3.484931\n",
              "2    -0.556087  3.335495\n",
              "3    -0.314094  3.379053\n",
              "4    -0.636380  2.201054\n",
              "...        ...       ...\n",
              "1995  3.338591  0.450919\n",
              "1996  3.168565  0.507815\n",
              "1997  1.506407 -0.884150\n",
              "1998  1.901459 -0.520556\n",
              "1999  1.771375 -0.421099\n",
              "\n",
              "[2000 rows x 2 columns]"
            ],
            "text/html": [
              "\n",
              "  <div id=\"df-a50e7e64-811e-4c68-9e6c-178a43e5705a\" class=\"colab-df-container\">\n",
              "    <div>\n",
              "<style scoped>\n",
              "    .dataframe tbody tr th:only-of-type {\n",
              "        vertical-align: middle;\n",
              "    }\n",
              "\n",
              "    .dataframe tbody tr th {\n",
              "        vertical-align: top;\n",
              "    }\n",
              "\n",
              "    .dataframe thead th {\n",
              "        text-align: right;\n",
              "    }\n",
              "</style>\n",
              "<table border=\"1\" class=\"dataframe\">\n",
              "  <thead>\n",
              "    <tr style=\"text-align: right;\">\n",
              "      <th></th>\n",
              "      <th>x</th>\n",
              "      <th>y</th>\n",
              "    </tr>\n",
              "  </thead>\n",
              "  <tbody>\n",
              "    <tr>\n",
              "      <th>0</th>\n",
              "      <td>-0.109873</td>\n",
              "      <td>2.904561</td>\n",
              "    </tr>\n",
              "    <tr>\n",
              "      <th>1</th>\n",
              "      <td>-0.070282</td>\n",
              "      <td>3.484931</td>\n",
              "    </tr>\n",
              "    <tr>\n",
              "      <th>2</th>\n",
              "      <td>-0.556087</td>\n",
              "      <td>3.335495</td>\n",
              "    </tr>\n",
              "    <tr>\n",
              "      <th>3</th>\n",
              "      <td>-0.314094</td>\n",
              "      <td>3.379053</td>\n",
              "    </tr>\n",
              "    <tr>\n",
              "      <th>4</th>\n",
              "      <td>-0.636380</td>\n",
              "      <td>2.201054</td>\n",
              "    </tr>\n",
              "    <tr>\n",
              "      <th>...</th>\n",
              "      <td>...</td>\n",
              "      <td>...</td>\n",
              "    </tr>\n",
              "    <tr>\n",
              "      <th>1995</th>\n",
              "      <td>3.338591</td>\n",
              "      <td>0.450919</td>\n",
              "    </tr>\n",
              "    <tr>\n",
              "      <th>1996</th>\n",
              "      <td>3.168565</td>\n",
              "      <td>0.507815</td>\n",
              "    </tr>\n",
              "    <tr>\n",
              "      <th>1997</th>\n",
              "      <td>1.506407</td>\n",
              "      <td>-0.884150</td>\n",
              "    </tr>\n",
              "    <tr>\n",
              "      <th>1998</th>\n",
              "      <td>1.901459</td>\n",
              "      <td>-0.520556</td>\n",
              "    </tr>\n",
              "    <tr>\n",
              "      <th>1999</th>\n",
              "      <td>1.771375</td>\n",
              "      <td>-0.421099</td>\n",
              "    </tr>\n",
              "  </tbody>\n",
              "</table>\n",
              "<p>2000 rows × 2 columns</p>\n",
              "</div>\n",
              "    <div class=\"colab-df-buttons\">\n",
              "\n",
              "  <div class=\"colab-df-container\">\n",
              "    <button class=\"colab-df-convert\" onclick=\"convertToInteractive('df-a50e7e64-811e-4c68-9e6c-178a43e5705a')\"\n",
              "            title=\"Convert this dataframe to an interactive table.\"\n",
              "            style=\"display:none;\">\n",
              "\n",
              "  <svg xmlns=\"http://www.w3.org/2000/svg\" height=\"24px\" viewBox=\"0 -960 960 960\">\n",
              "    <path d=\"M120-120v-720h720v720H120Zm60-500h600v-160H180v160Zm220 220h160v-160H400v160Zm0 220h160v-160H400v160ZM180-400h160v-160H180v160Zm440 0h160v-160H620v160ZM180-180h160v-160H180v160Zm440 0h160v-160H620v160Z\"/>\n",
              "  </svg>\n",
              "    </button>\n",
              "\n",
              "  <style>\n",
              "    .colab-df-container {\n",
              "      display:flex;\n",
              "      gap: 12px;\n",
              "    }\n",
              "\n",
              "    .colab-df-convert {\n",
              "      background-color: #E8F0FE;\n",
              "      border: none;\n",
              "      border-radius: 50%;\n",
              "      cursor: pointer;\n",
              "      display: none;\n",
              "      fill: #1967D2;\n",
              "      height: 32px;\n",
              "      padding: 0 0 0 0;\n",
              "      width: 32px;\n",
              "    }\n",
              "\n",
              "    .colab-df-convert:hover {\n",
              "      background-color: #E2EBFA;\n",
              "      box-shadow: 0px 1px 2px rgba(60, 64, 67, 0.3), 0px 1px 3px 1px rgba(60, 64, 67, 0.15);\n",
              "      fill: #174EA6;\n",
              "    }\n",
              "\n",
              "    .colab-df-buttons div {\n",
              "      margin-bottom: 4px;\n",
              "    }\n",
              "\n",
              "    [theme=dark] .colab-df-convert {\n",
              "      background-color: #3B4455;\n",
              "      fill: #D2E3FC;\n",
              "    }\n",
              "\n",
              "    [theme=dark] .colab-df-convert:hover {\n",
              "      background-color: #434B5C;\n",
              "      box-shadow: 0px 1px 3px 1px rgba(0, 0, 0, 0.15);\n",
              "      filter: drop-shadow(0px 1px 2px rgba(0, 0, 0, 0.3));\n",
              "      fill: #FFFFFF;\n",
              "    }\n",
              "  </style>\n",
              "\n",
              "    <script>\n",
              "      const buttonEl =\n",
              "        document.querySelector('#df-a50e7e64-811e-4c68-9e6c-178a43e5705a button.colab-df-convert');\n",
              "      buttonEl.style.display =\n",
              "        google.colab.kernel.accessAllowed ? 'block' : 'none';\n",
              "\n",
              "      async function convertToInteractive(key) {\n",
              "        const element = document.querySelector('#df-a50e7e64-811e-4c68-9e6c-178a43e5705a');\n",
              "        const dataTable =\n",
              "          await google.colab.kernel.invokeFunction('convertToInteractive',\n",
              "                                                    [key], {});\n",
              "        if (!dataTable) return;\n",
              "\n",
              "        const docLinkHtml = 'Like what you see? Visit the ' +\n",
              "          '<a target=\"_blank\" href=https://colab.research.google.com/notebooks/data_table.ipynb>data table notebook</a>'\n",
              "          + ' to learn more about interactive tables.';\n",
              "        element.innerHTML = '';\n",
              "        dataTable['output_type'] = 'display_data';\n",
              "        await google.colab.output.renderOutput(dataTable, element);\n",
              "        const docLink = document.createElement('div');\n",
              "        docLink.innerHTML = docLinkHtml;\n",
              "        element.appendChild(docLink);\n",
              "      }\n",
              "    </script>\n",
              "  </div>\n",
              "\n",
              "\n",
              "    <div id=\"df-e270c3b9-1d7a-4858-8fdf-7c1c38fad015\">\n",
              "      <button class=\"colab-df-quickchart\" onclick=\"quickchart('df-e270c3b9-1d7a-4858-8fdf-7c1c38fad015')\"\n",
              "                title=\"Suggest charts\"\n",
              "                style=\"display:none;\">\n",
              "\n",
              "<svg xmlns=\"http://www.w3.org/2000/svg\" height=\"24px\"viewBox=\"0 0 24 24\"\n",
              "     width=\"24px\">\n",
              "    <g>\n",
              "        <path d=\"M19 3H5c-1.1 0-2 .9-2 2v14c0 1.1.9 2 2 2h14c1.1 0 2-.9 2-2V5c0-1.1-.9-2-2-2zM9 17H7v-7h2v7zm4 0h-2V7h2v10zm4 0h-2v-4h2v4z\"/>\n",
              "    </g>\n",
              "</svg>\n",
              "      </button>\n",
              "\n",
              "<style>\n",
              "  .colab-df-quickchart {\n",
              "      --bg-color: #E8F0FE;\n",
              "      --fill-color: #1967D2;\n",
              "      --hover-bg-color: #E2EBFA;\n",
              "      --hover-fill-color: #174EA6;\n",
              "      --disabled-fill-color: #AAA;\n",
              "      --disabled-bg-color: #DDD;\n",
              "  }\n",
              "\n",
              "  [theme=dark] .colab-df-quickchart {\n",
              "      --bg-color: #3B4455;\n",
              "      --fill-color: #D2E3FC;\n",
              "      --hover-bg-color: #434B5C;\n",
              "      --hover-fill-color: #FFFFFF;\n",
              "      --disabled-bg-color: #3B4455;\n",
              "      --disabled-fill-color: #666;\n",
              "  }\n",
              "\n",
              "  .colab-df-quickchart {\n",
              "    background-color: var(--bg-color);\n",
              "    border: none;\n",
              "    border-radius: 50%;\n",
              "    cursor: pointer;\n",
              "    display: none;\n",
              "    fill: var(--fill-color);\n",
              "    height: 32px;\n",
              "    padding: 0;\n",
              "    width: 32px;\n",
              "  }\n",
              "\n",
              "  .colab-df-quickchart:hover {\n",
              "    background-color: var(--hover-bg-color);\n",
              "    box-shadow: 0 1px 2px rgba(60, 64, 67, 0.3), 0 1px 3px 1px rgba(60, 64, 67, 0.15);\n",
              "    fill: var(--button-hover-fill-color);\n",
              "  }\n",
              "\n",
              "  .colab-df-quickchart-complete:disabled,\n",
              "  .colab-df-quickchart-complete:disabled:hover {\n",
              "    background-color: var(--disabled-bg-color);\n",
              "    fill: var(--disabled-fill-color);\n",
              "    box-shadow: none;\n",
              "  }\n",
              "\n",
              "  .colab-df-spinner {\n",
              "    border: 2px solid var(--fill-color);\n",
              "    border-color: transparent;\n",
              "    border-bottom-color: var(--fill-color);\n",
              "    animation:\n",
              "      spin 1s steps(1) infinite;\n",
              "  }\n",
              "\n",
              "  @keyframes spin {\n",
              "    0% {\n",
              "      border-color: transparent;\n",
              "      border-bottom-color: var(--fill-color);\n",
              "      border-left-color: var(--fill-color);\n",
              "    }\n",
              "    20% {\n",
              "      border-color: transparent;\n",
              "      border-left-color: var(--fill-color);\n",
              "      border-top-color: var(--fill-color);\n",
              "    }\n",
              "    30% {\n",
              "      border-color: transparent;\n",
              "      border-left-color: var(--fill-color);\n",
              "      border-top-color: var(--fill-color);\n",
              "      border-right-color: var(--fill-color);\n",
              "    }\n",
              "    40% {\n",
              "      border-color: transparent;\n",
              "      border-right-color: var(--fill-color);\n",
              "      border-top-color: var(--fill-color);\n",
              "    }\n",
              "    60% {\n",
              "      border-color: transparent;\n",
              "      border-right-color: var(--fill-color);\n",
              "    }\n",
              "    80% {\n",
              "      border-color: transparent;\n",
              "      border-right-color: var(--fill-color);\n",
              "      border-bottom-color: var(--fill-color);\n",
              "    }\n",
              "    90% {\n",
              "      border-color: transparent;\n",
              "      border-bottom-color: var(--fill-color);\n",
              "    }\n",
              "  }\n",
              "</style>\n",
              "\n",
              "      <script>\n",
              "        async function quickchart(key) {\n",
              "          const quickchartButtonEl =\n",
              "            document.querySelector('#' + key + ' button');\n",
              "          quickchartButtonEl.disabled = true;  // To prevent multiple clicks.\n",
              "          quickchartButtonEl.classList.add('colab-df-spinner');\n",
              "          try {\n",
              "            const charts = await google.colab.kernel.invokeFunction(\n",
              "                'suggestCharts', [key], {});\n",
              "          } catch (error) {\n",
              "            console.error('Error during call to suggestCharts:', error);\n",
              "          }\n",
              "          quickchartButtonEl.classList.remove('colab-df-spinner');\n",
              "          quickchartButtonEl.classList.add('colab-df-quickchart-complete');\n",
              "        }\n",
              "        (() => {\n",
              "          let quickchartButtonEl =\n",
              "            document.querySelector('#df-e270c3b9-1d7a-4858-8fdf-7c1c38fad015 button');\n",
              "          quickchartButtonEl.style.display =\n",
              "            google.colab.kernel.accessAllowed ? 'block' : 'none';\n",
              "        })();\n",
              "      </script>\n",
              "    </div>\n",
              "\n",
              "  <div id=\"id_8b0cb567-1e2c-4e4f-bc07-a854d0157c7f\">\n",
              "    <style>\n",
              "      .colab-df-generate {\n",
              "        background-color: #E8F0FE;\n",
              "        border: none;\n",
              "        border-radius: 50%;\n",
              "        cursor: pointer;\n",
              "        display: none;\n",
              "        fill: #1967D2;\n",
              "        height: 32px;\n",
              "        padding: 0 0 0 0;\n",
              "        width: 32px;\n",
              "      }\n",
              "\n",
              "      .colab-df-generate:hover {\n",
              "        background-color: #E2EBFA;\n",
              "        box-shadow: 0px 1px 2px rgba(60, 64, 67, 0.3), 0px 1px 3px 1px rgba(60, 64, 67, 0.15);\n",
              "        fill: #174EA6;\n",
              "      }\n",
              "\n",
              "      [theme=dark] .colab-df-generate {\n",
              "        background-color: #3B4455;\n",
              "        fill: #D2E3FC;\n",
              "      }\n",
              "\n",
              "      [theme=dark] .colab-df-generate:hover {\n",
              "        background-color: #434B5C;\n",
              "        box-shadow: 0px 1px 3px 1px rgba(0, 0, 0, 0.15);\n",
              "        filter: drop-shadow(0px 1px 2px rgba(0, 0, 0, 0.3));\n",
              "        fill: #FFFFFF;\n",
              "      }\n",
              "    </style>\n",
              "    <button class=\"colab-df-generate\" onclick=\"generateWithVariable('inputs_df')\"\n",
              "            title=\"Generate code using this dataframe.\"\n",
              "            style=\"display:none;\">\n",
              "\n",
              "  <svg xmlns=\"http://www.w3.org/2000/svg\" height=\"24px\"viewBox=\"0 0 24 24\"\n",
              "       width=\"24px\">\n",
              "    <path d=\"M7,19H8.4L18.45,9,17,7.55,7,17.6ZM5,21V16.75L18.45,3.32a2,2,0,0,1,2.83,0l1.4,1.43a1.91,1.91,0,0,1,.58,1.4,1.91,1.91,0,0,1-.58,1.4L9.25,21ZM18.45,9,17,7.55Zm-12,3A5.31,5.31,0,0,0,4.9,8.1,5.31,5.31,0,0,0,1,6.5,5.31,5.31,0,0,0,4.9,4.9,5.31,5.31,0,0,0,6.5,1,5.31,5.31,0,0,0,8.1,4.9,5.31,5.31,0,0,0,12,6.5,5.46,5.46,0,0,0,6.5,12Z\"/>\n",
              "  </svg>\n",
              "    </button>\n",
              "    <script>\n",
              "      (() => {\n",
              "      const buttonEl =\n",
              "        document.querySelector('#id_8b0cb567-1e2c-4e4f-bc07-a854d0157c7f button.colab-df-generate');\n",
              "      buttonEl.style.display =\n",
              "        google.colab.kernel.accessAllowed ? 'block' : 'none';\n",
              "\n",
              "      buttonEl.onclick = () => {\n",
              "        google.colab.notebook.generateWithVariable('inputs_df');\n",
              "      }\n",
              "      })();\n",
              "    </script>\n",
              "  </div>\n",
              "\n",
              "    </div>\n",
              "  </div>\n"
            ],
            "application/vnd.google.colaboratory.intrinsic+json": {
              "type": "dataframe",
              "variable_name": "inputs_df",
              "summary": "{\n  \"name\": \"inputs_df\",\n  \"rows\": 2000,\n  \"fields\": [\n    {\n      \"column\": \"x\",\n      \"properties\": {\n        \"dtype\": \"float32\",\n        \"num_unique_values\": 2000,\n        \"samples\": [\n          3.8475382328033447,\n          -0.9048328995704651,\n          2.7900784015655518\n        ],\n        \"semantic_type\": \"\",\n        \"description\": \"\"\n      }\n    },\n    {\n      \"column\": \"y\",\n      \"properties\": {\n        \"dtype\": \"float32\",\n        \"num_unique_values\": 2000,\n        \"samples\": [\n          2.176729679107666,\n          4.020837306976318,\n          -1.396789789199829\n        ],\n        \"semantic_type\": \"\",\n        \"description\": \"\"\n      }\n    }\n  ]\n}"
            }
          },
          "metadata": {},
          "execution_count": 39
        }
      ],
      "source": [
        "inputs_df"
      ]
    },
    {
      "cell_type": "code",
      "execution_count": 40,
      "metadata": {
        "id": "L5CLb3C_2W-v",
        "outputId": "36f78a83-3d23-42ce-cdc0-ab50abc06a76",
        "colab": {
          "base_uri": "https://localhost:8080/",
          "height": 423
        }
      },
      "outputs": [
        {
          "output_type": "execute_result",
          "data": {
            "text/plain": [
              "      kelas\n",
              "0       0.0\n",
              "1       0.0\n",
              "2       0.0\n",
              "3       0.0\n",
              "4       0.0\n",
              "...     ...\n",
              "1995    1.0\n",
              "1996    1.0\n",
              "1997    1.0\n",
              "1998    1.0\n",
              "1999    1.0\n",
              "\n",
              "[2000 rows x 1 columns]"
            ],
            "text/html": [
              "\n",
              "  <div id=\"df-b685ab95-7e26-45e0-be7e-262e25a0fbc2\" class=\"colab-df-container\">\n",
              "    <div>\n",
              "<style scoped>\n",
              "    .dataframe tbody tr th:only-of-type {\n",
              "        vertical-align: middle;\n",
              "    }\n",
              "\n",
              "    .dataframe tbody tr th {\n",
              "        vertical-align: top;\n",
              "    }\n",
              "\n",
              "    .dataframe thead th {\n",
              "        text-align: right;\n",
              "    }\n",
              "</style>\n",
              "<table border=\"1\" class=\"dataframe\">\n",
              "  <thead>\n",
              "    <tr style=\"text-align: right;\">\n",
              "      <th></th>\n",
              "      <th>kelas</th>\n",
              "    </tr>\n",
              "  </thead>\n",
              "  <tbody>\n",
              "    <tr>\n",
              "      <th>0</th>\n",
              "      <td>0.0</td>\n",
              "    </tr>\n",
              "    <tr>\n",
              "      <th>1</th>\n",
              "      <td>0.0</td>\n",
              "    </tr>\n",
              "    <tr>\n",
              "      <th>2</th>\n",
              "      <td>0.0</td>\n",
              "    </tr>\n",
              "    <tr>\n",
              "      <th>3</th>\n",
              "      <td>0.0</td>\n",
              "    </tr>\n",
              "    <tr>\n",
              "      <th>4</th>\n",
              "      <td>0.0</td>\n",
              "    </tr>\n",
              "    <tr>\n",
              "      <th>...</th>\n",
              "      <td>...</td>\n",
              "    </tr>\n",
              "    <tr>\n",
              "      <th>1995</th>\n",
              "      <td>1.0</td>\n",
              "    </tr>\n",
              "    <tr>\n",
              "      <th>1996</th>\n",
              "      <td>1.0</td>\n",
              "    </tr>\n",
              "    <tr>\n",
              "      <th>1997</th>\n",
              "      <td>1.0</td>\n",
              "    </tr>\n",
              "    <tr>\n",
              "      <th>1998</th>\n",
              "      <td>1.0</td>\n",
              "    </tr>\n",
              "    <tr>\n",
              "      <th>1999</th>\n",
              "      <td>1.0</td>\n",
              "    </tr>\n",
              "  </tbody>\n",
              "</table>\n",
              "<p>2000 rows × 1 columns</p>\n",
              "</div>\n",
              "    <div class=\"colab-df-buttons\">\n",
              "\n",
              "  <div class=\"colab-df-container\">\n",
              "    <button class=\"colab-df-convert\" onclick=\"convertToInteractive('df-b685ab95-7e26-45e0-be7e-262e25a0fbc2')\"\n",
              "            title=\"Convert this dataframe to an interactive table.\"\n",
              "            style=\"display:none;\">\n",
              "\n",
              "  <svg xmlns=\"http://www.w3.org/2000/svg\" height=\"24px\" viewBox=\"0 -960 960 960\">\n",
              "    <path d=\"M120-120v-720h720v720H120Zm60-500h600v-160H180v160Zm220 220h160v-160H400v160Zm0 220h160v-160H400v160ZM180-400h160v-160H180v160Zm440 0h160v-160H620v160ZM180-180h160v-160H180v160Zm440 0h160v-160H620v160Z\"/>\n",
              "  </svg>\n",
              "    </button>\n",
              "\n",
              "  <style>\n",
              "    .colab-df-container {\n",
              "      display:flex;\n",
              "      gap: 12px;\n",
              "    }\n",
              "\n",
              "    .colab-df-convert {\n",
              "      background-color: #E8F0FE;\n",
              "      border: none;\n",
              "      border-radius: 50%;\n",
              "      cursor: pointer;\n",
              "      display: none;\n",
              "      fill: #1967D2;\n",
              "      height: 32px;\n",
              "      padding: 0 0 0 0;\n",
              "      width: 32px;\n",
              "    }\n",
              "\n",
              "    .colab-df-convert:hover {\n",
              "      background-color: #E2EBFA;\n",
              "      box-shadow: 0px 1px 2px rgba(60, 64, 67, 0.3), 0px 1px 3px 1px rgba(60, 64, 67, 0.15);\n",
              "      fill: #174EA6;\n",
              "    }\n",
              "\n",
              "    .colab-df-buttons div {\n",
              "      margin-bottom: 4px;\n",
              "    }\n",
              "\n",
              "    [theme=dark] .colab-df-convert {\n",
              "      background-color: #3B4455;\n",
              "      fill: #D2E3FC;\n",
              "    }\n",
              "\n",
              "    [theme=dark] .colab-df-convert:hover {\n",
              "      background-color: #434B5C;\n",
              "      box-shadow: 0px 1px 3px 1px rgba(0, 0, 0, 0.15);\n",
              "      filter: drop-shadow(0px 1px 2px rgba(0, 0, 0, 0.3));\n",
              "      fill: #FFFFFF;\n",
              "    }\n",
              "  </style>\n",
              "\n",
              "    <script>\n",
              "      const buttonEl =\n",
              "        document.querySelector('#df-b685ab95-7e26-45e0-be7e-262e25a0fbc2 button.colab-df-convert');\n",
              "      buttonEl.style.display =\n",
              "        google.colab.kernel.accessAllowed ? 'block' : 'none';\n",
              "\n",
              "      async function convertToInteractive(key) {\n",
              "        const element = document.querySelector('#df-b685ab95-7e26-45e0-be7e-262e25a0fbc2');\n",
              "        const dataTable =\n",
              "          await google.colab.kernel.invokeFunction('convertToInteractive',\n",
              "                                                    [key], {});\n",
              "        if (!dataTable) return;\n",
              "\n",
              "        const docLinkHtml = 'Like what you see? Visit the ' +\n",
              "          '<a target=\"_blank\" href=https://colab.research.google.com/notebooks/data_table.ipynb>data table notebook</a>'\n",
              "          + ' to learn more about interactive tables.';\n",
              "        element.innerHTML = '';\n",
              "        dataTable['output_type'] = 'display_data';\n",
              "        await google.colab.output.renderOutput(dataTable, element);\n",
              "        const docLink = document.createElement('div');\n",
              "        docLink.innerHTML = docLinkHtml;\n",
              "        element.appendChild(docLink);\n",
              "      }\n",
              "    </script>\n",
              "  </div>\n",
              "\n",
              "\n",
              "    <div id=\"df-99f4151a-c38c-487d-ab91-6e60bd12dd08\">\n",
              "      <button class=\"colab-df-quickchart\" onclick=\"quickchart('df-99f4151a-c38c-487d-ab91-6e60bd12dd08')\"\n",
              "                title=\"Suggest charts\"\n",
              "                style=\"display:none;\">\n",
              "\n",
              "<svg xmlns=\"http://www.w3.org/2000/svg\" height=\"24px\"viewBox=\"0 0 24 24\"\n",
              "     width=\"24px\">\n",
              "    <g>\n",
              "        <path d=\"M19 3H5c-1.1 0-2 .9-2 2v14c0 1.1.9 2 2 2h14c1.1 0 2-.9 2-2V5c0-1.1-.9-2-2-2zM9 17H7v-7h2v7zm4 0h-2V7h2v10zm4 0h-2v-4h2v4z\"/>\n",
              "    </g>\n",
              "</svg>\n",
              "      </button>\n",
              "\n",
              "<style>\n",
              "  .colab-df-quickchart {\n",
              "      --bg-color: #E8F0FE;\n",
              "      --fill-color: #1967D2;\n",
              "      --hover-bg-color: #E2EBFA;\n",
              "      --hover-fill-color: #174EA6;\n",
              "      --disabled-fill-color: #AAA;\n",
              "      --disabled-bg-color: #DDD;\n",
              "  }\n",
              "\n",
              "  [theme=dark] .colab-df-quickchart {\n",
              "      --bg-color: #3B4455;\n",
              "      --fill-color: #D2E3FC;\n",
              "      --hover-bg-color: #434B5C;\n",
              "      --hover-fill-color: #FFFFFF;\n",
              "      --disabled-bg-color: #3B4455;\n",
              "      --disabled-fill-color: #666;\n",
              "  }\n",
              "\n",
              "  .colab-df-quickchart {\n",
              "    background-color: var(--bg-color);\n",
              "    border: none;\n",
              "    border-radius: 50%;\n",
              "    cursor: pointer;\n",
              "    display: none;\n",
              "    fill: var(--fill-color);\n",
              "    height: 32px;\n",
              "    padding: 0;\n",
              "    width: 32px;\n",
              "  }\n",
              "\n",
              "  .colab-df-quickchart:hover {\n",
              "    background-color: var(--hover-bg-color);\n",
              "    box-shadow: 0 1px 2px rgba(60, 64, 67, 0.3), 0 1px 3px 1px rgba(60, 64, 67, 0.15);\n",
              "    fill: var(--button-hover-fill-color);\n",
              "  }\n",
              "\n",
              "  .colab-df-quickchart-complete:disabled,\n",
              "  .colab-df-quickchart-complete:disabled:hover {\n",
              "    background-color: var(--disabled-bg-color);\n",
              "    fill: var(--disabled-fill-color);\n",
              "    box-shadow: none;\n",
              "  }\n",
              "\n",
              "  .colab-df-spinner {\n",
              "    border: 2px solid var(--fill-color);\n",
              "    border-color: transparent;\n",
              "    border-bottom-color: var(--fill-color);\n",
              "    animation:\n",
              "      spin 1s steps(1) infinite;\n",
              "  }\n",
              "\n",
              "  @keyframes spin {\n",
              "    0% {\n",
              "      border-color: transparent;\n",
              "      border-bottom-color: var(--fill-color);\n",
              "      border-left-color: var(--fill-color);\n",
              "    }\n",
              "    20% {\n",
              "      border-color: transparent;\n",
              "      border-left-color: var(--fill-color);\n",
              "      border-top-color: var(--fill-color);\n",
              "    }\n",
              "    30% {\n",
              "      border-color: transparent;\n",
              "      border-left-color: var(--fill-color);\n",
              "      border-top-color: var(--fill-color);\n",
              "      border-right-color: var(--fill-color);\n",
              "    }\n",
              "    40% {\n",
              "      border-color: transparent;\n",
              "      border-right-color: var(--fill-color);\n",
              "      border-top-color: var(--fill-color);\n",
              "    }\n",
              "    60% {\n",
              "      border-color: transparent;\n",
              "      border-right-color: var(--fill-color);\n",
              "    }\n",
              "    80% {\n",
              "      border-color: transparent;\n",
              "      border-right-color: var(--fill-color);\n",
              "      border-bottom-color: var(--fill-color);\n",
              "    }\n",
              "    90% {\n",
              "      border-color: transparent;\n",
              "      border-bottom-color: var(--fill-color);\n",
              "    }\n",
              "  }\n",
              "</style>\n",
              "\n",
              "      <script>\n",
              "        async function quickchart(key) {\n",
              "          const quickchartButtonEl =\n",
              "            document.querySelector('#' + key + ' button');\n",
              "          quickchartButtonEl.disabled = true;  // To prevent multiple clicks.\n",
              "          quickchartButtonEl.classList.add('colab-df-spinner');\n",
              "          try {\n",
              "            const charts = await google.colab.kernel.invokeFunction(\n",
              "                'suggestCharts', [key], {});\n",
              "          } catch (error) {\n",
              "            console.error('Error during call to suggestCharts:', error);\n",
              "          }\n",
              "          quickchartButtonEl.classList.remove('colab-df-spinner');\n",
              "          quickchartButtonEl.classList.add('colab-df-quickchart-complete');\n",
              "        }\n",
              "        (() => {\n",
              "          let quickchartButtonEl =\n",
              "            document.querySelector('#df-99f4151a-c38c-487d-ab91-6e60bd12dd08 button');\n",
              "          quickchartButtonEl.style.display =\n",
              "            google.colab.kernel.accessAllowed ? 'block' : 'none';\n",
              "        })();\n",
              "      </script>\n",
              "    </div>\n",
              "\n",
              "  <div id=\"id_32e45dfd-3978-4619-a5da-08b285708cb9\">\n",
              "    <style>\n",
              "      .colab-df-generate {\n",
              "        background-color: #E8F0FE;\n",
              "        border: none;\n",
              "        border-radius: 50%;\n",
              "        cursor: pointer;\n",
              "        display: none;\n",
              "        fill: #1967D2;\n",
              "        height: 32px;\n",
              "        padding: 0 0 0 0;\n",
              "        width: 32px;\n",
              "      }\n",
              "\n",
              "      .colab-df-generate:hover {\n",
              "        background-color: #E2EBFA;\n",
              "        box-shadow: 0px 1px 2px rgba(60, 64, 67, 0.3), 0px 1px 3px 1px rgba(60, 64, 67, 0.15);\n",
              "        fill: #174EA6;\n",
              "      }\n",
              "\n",
              "      [theme=dark] .colab-df-generate {\n",
              "        background-color: #3B4455;\n",
              "        fill: #D2E3FC;\n",
              "      }\n",
              "\n",
              "      [theme=dark] .colab-df-generate:hover {\n",
              "        background-color: #434B5C;\n",
              "        box-shadow: 0px 1px 3px 1px rgba(0, 0, 0, 0.15);\n",
              "        filter: drop-shadow(0px 1px 2px rgba(0, 0, 0, 0.3));\n",
              "        fill: #FFFFFF;\n",
              "      }\n",
              "    </style>\n",
              "    <button class=\"colab-df-generate\" onclick=\"generateWithVariable('targets_df')\"\n",
              "            title=\"Generate code using this dataframe.\"\n",
              "            style=\"display:none;\">\n",
              "\n",
              "  <svg xmlns=\"http://www.w3.org/2000/svg\" height=\"24px\"viewBox=\"0 0 24 24\"\n",
              "       width=\"24px\">\n",
              "    <path d=\"M7,19H8.4L18.45,9,17,7.55,7,17.6ZM5,21V16.75L18.45,3.32a2,2,0,0,1,2.83,0l1.4,1.43a1.91,1.91,0,0,1,.58,1.4,1.91,1.91,0,0,1-.58,1.4L9.25,21ZM18.45,9,17,7.55Zm-12,3A5.31,5.31,0,0,0,4.9,8.1,5.31,5.31,0,0,0,1,6.5,5.31,5.31,0,0,0,4.9,4.9,5.31,5.31,0,0,0,6.5,1,5.31,5.31,0,0,0,8.1,4.9,5.31,5.31,0,0,0,12,6.5,5.46,5.46,0,0,0,6.5,12Z\"/>\n",
              "  </svg>\n",
              "    </button>\n",
              "    <script>\n",
              "      (() => {\n",
              "      const buttonEl =\n",
              "        document.querySelector('#id_32e45dfd-3978-4619-a5da-08b285708cb9 button.colab-df-generate');\n",
              "      buttonEl.style.display =\n",
              "        google.colab.kernel.accessAllowed ? 'block' : 'none';\n",
              "\n",
              "      buttonEl.onclick = () => {\n",
              "        google.colab.notebook.generateWithVariable('targets_df');\n",
              "      }\n",
              "      })();\n",
              "    </script>\n",
              "  </div>\n",
              "\n",
              "    </div>\n",
              "  </div>\n"
            ],
            "application/vnd.google.colaboratory.intrinsic+json": {
              "type": "dataframe",
              "variable_name": "targets_df",
              "summary": "{\n  \"name\": \"targets_df\",\n  \"rows\": 2000,\n  \"fields\": [\n    {\n      \"column\": \"kelas\",\n      \"properties\": {\n        \"dtype\": \"float32\",\n        \"num_unique_values\": 2,\n        \"samples\": [\n          1.0,\n          0.0\n        ],\n        \"semantic_type\": \"\",\n        \"description\": \"\"\n      }\n    }\n  ]\n}"
            }
          },
          "metadata": {},
          "execution_count": 40
        }
      ],
      "source": [
        "targets_df"
      ]
    },
    {
      "cell_type": "code",
      "execution_count": 42,
      "metadata": {
        "id": "y-fHyRo12W-v",
        "outputId": "91a38c90-21f3-4b5d-b18a-8f1c659eaef4",
        "colab": {
          "base_uri": "https://localhost:8080/",
          "height": 430
        }
      },
      "outputs": [
        {
          "output_type": "display_data",
          "data": {
            "text/plain": [
              "<Figure size 640x480 with 1 Axes>"
            ],
            "image/png": "[encoded data removed]"
          },
          "metadata": {}
        }
      ],
      "source": [
        "plt.scatter(inputs_df[\"x\"], inputs_df[\"y\"], c=targets_df[\"kelas\"])\n",
        "plt.show()"
      ]
    },
    {
      "cell_type": "markdown",
      "metadata": {
        "id": "TI3U3smS2W-v"
      },
      "source": [
        "TensorFlow kurang bisa menangani pandas DataFrame, sehingga harus kita ubah jadi array numpy:"
      ]
    },
    {
      "cell_type": "code",
      "execution_count": 43,
      "metadata": {
        "id": "364H8yfg2W-v"
      },
      "outputs": [],
      "source": [
        "inputs = inputs_df.to_numpy()\n",
        "targets = targets_df.to_numpy()"
      ]
    },
    {
      "cell_type": "code",
      "execution_count": 44,
      "metadata": {
        "id": "RhulfM182W-v",
        "outputId": "ad0d9b5a-3767-4e5d-b95f-1390f21d91d2",
        "colab": {
          "base_uri": "https://localhost:8080/"
        }
      },
      "outputs": [
        {
          "output_type": "stream",
          "name": "stdout",
          "text": [
            "(2000, 2)\n",
            "(2000, 1)\n"
          ]
        }
      ],
      "source": [
        "print(inputs.shape)\n",
        "print(targets.shape)"
      ]
    },
    {
      "cell_type": "markdown",
      "metadata": {
        "id": "3HtNuavl2W-v"
      },
      "source": [
        "## Menyusun model dan *training*"
      ]
    },
    {
      "cell_type": "markdown",
      "metadata": {
        "id": "vf-AtrBi2W-v"
      },
      "source": [
        "Untuk *input* dua dimensi dan klasifikasi biner, kita perlu *perceptron* dengan dua *neuron* di *input layer* dan satu *neuron* di *output layer*. Sebelum proses *training* dimulai, nilai matriks $W$ dan vektor kolom $b$ diisi secara *random* terlebih dahulu."
      ]
    },
    {
      "cell_type": "code",
      "execution_count": 45,
      "metadata": {
        "id": "NK0BANnj2W-v"
      },
      "outputs": [],
      "source": [
        "input_dim = 2\n",
        "output_dim = 1\n",
        "W = tf.Variable(tf.random.normal(shape = (input_dim, output_dim)))\n",
        "b = tf.Variable(tf.random.normal(shape = (output_dim,)))"
      ]
    },
    {
      "cell_type": "code",
      "execution_count": 46,
      "metadata": {
        "id": "i67bXCKi2W-w"
      },
      "outputs": [],
      "source": [
        "# forward pass\n",
        "def model(inputs):\n",
        "    return tf.sigmoid(\n",
        "        tf.matmul(inputs, W) + b\n",
        "    )"
      ]
    },
    {
      "cell_type": "code",
      "execution_count": 47,
      "metadata": {
        "id": "5yw1D9Sv2W-w"
      },
      "outputs": [],
      "source": [
        "# cross entropy loss\n",
        "def entropy_loss(y, yhat):\n",
        "    per_sample_losses = - y * tf.math.log(yhat) - (1-y) * tf.math.log(1-yhat)\n",
        "    return tf.reduce_mean(per_sample_losses)"
      ]
    },
    {
      "cell_type": "code",
      "execution_count": 48,
      "metadata": {
        "id": "5mqdGQQ82W-w"
      },
      "outputs": [],
      "source": [
        "# satu epoch di training loop\n",
        "learning_rate = 0.1\n",
        "def training_step(inputs, targets):\n",
        "    with tf.GradientTape() as tape:\n",
        "        predictions = model(inputs)\n",
        "        loss = entropy_loss(targets, predictions)\n",
        "\n",
        "        grad_loss_wrt_W, grad_loss_wrt_b = tape.gradient(loss, [W, b])\n",
        "\n",
        "        # update menggunakan gradient descent\n",
        "        W.assign_sub(learning_rate * grad_loss_wrt_W)\n",
        "        b.assign_sub(learning_rate * grad_loss_wrt_b)\n",
        "\n",
        "        return loss"
      ]
    },
    {
      "cell_type": "code",
      "execution_count": 49,
      "metadata": {
        "id": "OZCKNaRz2W-w",
        "outputId": "ceac6333-4503-42d3-a9c4-daed9937a8e6",
        "colab": {
          "base_uri": "https://localhost:8080/"
        }
      },
      "outputs": [
        {
          "output_type": "stream",
          "name": "stdout",
          "text": [
            "Loss at epoch 0: 0.37649667263031006\n",
            "Loss at epoch 1: 0.33892661333084106\n",
            "Loss at epoch 2: 0.3085114061832428\n",
            "Loss at epoch 3: 0.28344419598579407\n",
            "Loss at epoch 4: 0.2624468505382538\n",
            "Loss at epoch 5: 0.24460428953170776\n",
            "Loss at epoch 6: 0.2292504459619522\n",
            "Loss at epoch 7: 0.21589185297489166\n",
            "Loss at epoch 8: 0.2041565477848053\n",
            "Loss at epoch 9: 0.19375956058502197\n",
            "Loss at epoch 10: 0.1844790279865265\n",
            "Loss at epoch 11: 0.1761399507522583\n",
            "Loss at epoch 12: 0.1686023324728012\n",
            "Loss at epoch 13: 0.16175292432308197\n",
            "Loss at epoch 14: 0.15549910068511963\n",
            "Loss at epoch 15: 0.14976432919502258\n",
            "Loss at epoch 16: 0.14448483288288116\n",
            "Loss at epoch 17: 0.13960705697536469\n",
            "Loss at epoch 18: 0.13508561253547668\n",
            "Loss at epoch 19: 0.13088177144527435\n",
            "Loss at epoch 20: 0.1269623339176178\n",
            "Loss at epoch 21: 0.12329864501953125\n",
            "Loss at epoch 22: 0.119865782558918\n",
            "Loss at epoch 23: 0.1166420504450798\n",
            "Loss at epoch 24: 0.11360841244459152\n",
            "Loss at epoch 25: 0.11074810475111008\n",
            "Loss at epoch 26: 0.10804630815982819\n",
            "Loss at epoch 27: 0.10548984259366989\n",
            "Loss at epoch 28: 0.10306701809167862\n",
            "Loss at epoch 29: 0.1007673367857933\n",
            "Loss at epoch 30: 0.09858141094446182\n",
            "Loss at epoch 31: 0.09650078415870667\n",
            "Loss at epoch 32: 0.09451782703399658\n",
            "Loss at epoch 33: 0.09262565523386002\n",
            "Loss at epoch 34: 0.09081799536943436\n",
            "Loss at epoch 35: 0.08908917009830475\n",
            "Loss at epoch 36: 0.08743401616811752\n",
            "Loss at epoch 37: 0.08584779500961304\n",
            "Loss at epoch 38: 0.08432614803314209\n",
            "Loss at epoch 39: 0.08286512643098831\n",
            "Loss at epoch 40: 0.08146108686923981\n",
            "Loss at epoch 41: 0.08011066168546677\n",
            "Loss at epoch 42: 0.07881075888872147\n",
            "Loss at epoch 43: 0.07755852490663528\n",
            "Loss at epoch 44: 0.07635130733251572\n",
            "Loss at epoch 45: 0.07518665492534637\n",
            "Loss at epoch 46: 0.0740623027086258\n",
            "Loss at epoch 47: 0.07297613471746445\n",
            "Loss at epoch 48: 0.07192617654800415\n",
            "Loss at epoch 49: 0.07091060280799866\n",
            "Loss at epoch 50: 0.06992770731449127\n",
            "Loss at epoch 51: 0.06897588819265366\n",
            "Loss at epoch 52: 0.06805365532636642\n",
            "Loss at epoch 53: 0.06715962290763855\n",
            "Loss at epoch 54: 0.06629245728254318\n",
            "Loss at epoch 55: 0.06545095145702362\n",
            "Loss at epoch 56: 0.06463393568992615\n",
            "Loss at epoch 57: 0.06384031474590302\n",
            "Loss at epoch 58: 0.06306910514831543\n",
            "Loss at epoch 59: 0.062319304794073105\n",
            "Loss at epoch 60: 0.06159002706408501\n",
            "Loss at epoch 61: 0.06088041514158249\n",
            "Loss at epoch 62: 0.060189660638570786\n",
            "Loss at epoch 63: 0.05951699614524841\n",
            "Loss at epoch 64: 0.05886170268058777\n",
            "Loss at epoch 65: 0.058223091065883636\n",
            "Loss at epoch 66: 0.057600509375333786\n",
            "Loss at epoch 67: 0.056993357837200165\n",
            "Loss at epoch 68: 0.05640103667974472\n",
            "Loss at epoch 69: 0.055823005735874176\n",
            "Loss at epoch 70: 0.05525872856378555\n",
            "Loss at epoch 71: 0.05470770224928856\n",
            "Loss at epoch 72: 0.05416945740580559\n",
            "Loss at epoch 73: 0.05364353582262993\n",
            "Loss at epoch 74: 0.053129516541957855\n",
            "Loss at epoch 75: 0.05262697488069534\n",
            "Loss at epoch 76: 0.05213551968336105\n",
            "Loss at epoch 77: 0.05165477842092514\n",
            "Loss at epoch 78: 0.05118439346551895\n",
            "Loss at epoch 79: 0.050724029541015625\n",
            "Loss at epoch 80: 0.050273347645998\n",
            "Loss at epoch 81: 0.049832046031951904\n",
            "Loss at epoch 82: 0.049399811774492264\n",
            "Loss at epoch 83: 0.04897637292742729\n",
            "Loss at epoch 84: 0.048561446368694305\n",
            "Loss at epoch 85: 0.04815478250384331\n",
            "Loss at epoch 86: 0.04775610938668251\n",
            "Loss at epoch 87: 0.047365207225084305\n",
            "Loss at epoch 88: 0.0469818189740181\n",
            "Loss at epoch 89: 0.04660574346780777\n",
            "Loss at epoch 90: 0.04623674973845482\n",
            "Loss at epoch 91: 0.04587464779615402\n",
            "Loss at epoch 92: 0.045519232749938965\n",
            "Loss at epoch 93: 0.045170318335294724\n",
            "Loss at epoch 94: 0.04482771083712578\n",
            "Loss at epoch 95: 0.044491250067949295\n",
            "Loss at epoch 96: 0.04416074976325035\n",
            "Loss at epoch 97: 0.043836068361997604\n",
            "Loss at epoch 98: 0.04351703077554703\n",
            "Loss at epoch 99: 0.04320349544286728\n"
          ]
        }
      ],
      "source": [
        "# training loop\n",
        "for epoch in range(100):\n",
        "    loss = training_step(inputs, targets)\n",
        "    print(f\"Loss at epoch {epoch}: {loss}\")"
      ]
    },
    {
      "cell_type": "markdown",
      "metadata": {
        "id": "b4BdE2HL2W-w"
      },
      "source": [
        "## Prediksi"
      ]
    },
    {
      "cell_type": "markdown",
      "metadata": {
        "id": "nbZ1a_oK2W-w"
      },
      "source": [
        "Sekarang *training* sudah selesai, kita bisa gunakan model kita untuk memprediksi kelas berdasarkan `inputs` (koordinat titik-titik)"
      ]
    },
    {
      "cell_type": "code",
      "execution_count": 50,
      "metadata": {
        "id": "ecjPLfvQ2W-w"
      },
      "outputs": [],
      "source": [
        "predictions = model(inputs)"
      ]
    },
    {
      "cell_type": "markdown",
      "metadata": {
        "id": "fzUoKbnX2W-w"
      },
      "source": [
        "Akibat penggunaan fungsi aktivasi sigmoid, hasil prediksi cukup jelas, apakah kelas pertama (kelas 0) atau kelas kedua (kelas 1):"
      ]
    },
    {
      "cell_type": "code",
      "execution_count": 51,
      "metadata": {
        "id": "-iUCPxR42W-x",
        "outputId": "4d4a0294-cb3a-4712-eec8-249a9156429b",
        "colab": {
          "base_uri": "https://localhost:8080/"
        }
      },
      "outputs": [
        {
          "output_type": "stream",
          "name": "stdout",
          "text": [
            "tf.Tensor(\n",
            "[[0.01171741]\n",
            " [0.00699979]\n",
            " [0.00357984]\n",
            " ...\n",
            " [0.8950965 ]\n",
            " [0.9203457 ]\n",
            " [0.8933534 ]], shape=(2000, 1), dtype=float32)\n"
          ]
        }
      ],
      "source": [
        "print(predictions)"
      ]
    },
    {
      "cell_type": "markdown",
      "metadata": {
        "id": "UuwtAgU_2W-x"
      },
      "source": [
        "Kita bisa menampilkan hasil prediksi ini dengan aturan pemilihan warna (`c`) seperti berikut:\n",
        "\n",
        "- apabila nilai prediksinya lebih dari 0.5 (pernyataan \"lebih besar dari 0.5\" bernilai benar), ia tergolong kelas 1 (atau sama saja nilai True);\n",
        "\n",
        "- selain itu (pernyataan \"lebih besar dari 0.5\" bernilai salah), ia tergolong kelas 0 (atau sama saja nilai False)."
      ]
    },
    {
      "cell_type": "code",
      "execution_count": 52,
      "metadata": {
        "id": "A8C-iqjp2W-x",
        "outputId": "264caf41-6fd2-4361-8dee-d7550dcd72c7",
        "colab": {
          "base_uri": "https://localhost:8080/",
          "height": 430
        }
      },
      "outputs": [
        {
          "output_type": "display_data",
          "data": {
            "text/plain": [
              "<Figure size 640x480 with 1 Axes>"
            ],
            "image/png": "[encoded data removed]"
          },
          "metadata": {}
        }
      ],
      "source": [
        "plt.scatter(inputs[:, 0], inputs[:, 1], c=predictions[:, 0] > 0.5)\n",
        "plt.show()"
      ]
    },
    {
      "cell_type": "markdown",
      "metadata": {
        "id": "fBsgK_ay2W-x"
      },
      "source": [
        "Kinerja *perceptron* cukup mirip regresi logistik, ataupun SVM dengan kernel linier. Perhatikan bahwa, di hasil prediksi ini, seolah-olah ada perbatasan atau garis pemisah antara kedua kelas. Kalau kita bandingkan dengan data aslinya, sebenarnya ada beberapa titik yang melewati perbatasan tersebut, dan akhirnya terjadi misklasifikasi."
      ]
    },
    {
      "cell_type": "markdown",
      "metadata": {
        "id": "y1mY8tvX2W-x"
      },
      "source": [
        "# Mengenal Keras dengan Sequential API"
      ]
    },
    {
      "cell_type": "markdown",
      "metadata": {
        "id": "W6XfjHr02W-x"
      },
      "source": [
        "Dengan *pure* TensorFlow, banyak hal yang harus kita susun secara manual. Untuk *neural network* kecil seperti *perceptron*, mungkin tidak masalah. Namun, *neural network* pada umumnya sangat \"dalam\" atau *deep*, dengan puluhan *hidden layer* yang bervariasi."
      ]
    },
    {
      "cell_type": "markdown",
      "metadata": {
        "id": "dwjOvKjN2W-x"
      },
      "source": [
        "Daripada benar-benar membuatnya semua secara manual, ada yang namanya Keras yang sangat menyederhanakan proses penyusunan *neural network*. Biasanya, daripada benar-benar membuat *neural network* secara manual dalam *pure* TensorFlow seperti tadi, pengguna TensorFlow memanfaatkan Keras."
      ]
    },
    {
      "cell_type": "markdown",
      "metadata": {
        "id": "c4jdZLun2W-x"
      },
      "source": [
        "Keras tersedia di dalam TensorFlow:"
      ]
    },
    {
      "cell_type": "code",
      "execution_count": 53,
      "metadata": {
        "id": "f_GQfsQE2W-y"
      },
      "outputs": [],
      "source": [
        "from tensorflow import keras"
      ]
    },
    {
      "cell_type": "markdown",
      "metadata": {
        "id": "1x7wm7_q2W-y"
      },
      "source": [
        "Perlu dicatat, ketika menggunakan Keras, sebaiknya semua fungsi/operasi yang kita gunakan juga dari dalam Keras daripada langsung dari TensorFlow. Misalnya, daripada `tf.matmul`, gunakan `keras.ops.matmul`\n",
        "\n",
        "Tapi kalau *error*, tidak masalah masih menggunakan `tf` karena Keras masih dalam pengembangan (menuju Keras versi 3, bisa dibaca di sini: <https://keras.io/guides/migrating_to_keras_3/>). Mungkin, di versi yang akan datang, sudah tidak *error* lagi."
      ]
    },
    {
      "cell_type": "markdown",
      "metadata": {
        "id": "7REld8BR2W-y"
      },
      "source": [
        "Dalam Keras, ada tiga \"cara\" atau API *(application programming interface)* yang bisa kita gunakan untuk menyusun *neural network*, yaitu\n",
        "\n",
        "1. Sequential API\n",
        "\n",
        "2. Functional API\n",
        "\n",
        "3. Subclassing API (yaitu dengan OOP)"
      ]
    },
    {
      "cell_type": "markdown",
      "metadata": {
        "id": "Ql3NGzo92W-y"
      },
      "source": [
        "Di pertemuan kali ini, kita akan mencoba cara yang paling sederhana, yaitu dengan Sequential API."
      ]
    },
    {
      "cell_type": "markdown",
      "metadata": {
        "id": "04cEcpSB2W-y"
      },
      "source": [
        "Datanya sudah siap dari yang tadi:"
      ]
    },
    {
      "cell_type": "code",
      "execution_count": 54,
      "metadata": {
        "id": "UkrW8hCs2W-y",
        "outputId": "b101c6a8-9504-4a15-9615-fa4a020e2150",
        "colab": {
          "base_uri": "https://localhost:8080/"
        }
      },
      "outputs": [
        {
          "output_type": "stream",
          "name": "stdout",
          "text": [
            "(2000, 2)\n",
            "(2000, 1)\n"
          ]
        }
      ],
      "source": [
        "print(inputs.shape)\n",
        "print(targets.shape)"
      ]
    },
    {
      "cell_type": "markdown",
      "metadata": {
        "id": "w_hQEIDp2W-y"
      },
      "source": [
        "## Menyusun *layer*"
      ]
    },
    {
      "cell_type": "markdown",
      "metadata": {
        "id": "GBZnuLX12W-y"
      },
      "source": [
        "Kita susun *layer* nya terlebih dahulu. Kali ini, kita akan membuat *perceptron* seperti yang cara manual / *pure* TensorFlow tadi. Untuk itu, kedua kode ini ekuivalen:"
      ]
    },
    {
      "cell_type": "code",
      "execution_count": 55,
      "metadata": {
        "id": "AyHPAZRx2W-y",
        "colab": {
          "base_uri": "https://localhost:8080/"
        },
        "outputId": "c708c0d5-ced6-4b3b-95d3-39e523624942"
      },
      "outputs": [
        {
          "output_type": "stream",
          "name": "stderr",
          "text": [
            "/usr/local/lib/python3.11/dist-packages/keras/src/layers/core/input_layer.py:27: UserWarning: Argument `input_shape` is deprecated. Use `shape` instead.\n",
            "  warnings.warn(\n"
          ]
        }
      ],
      "source": [
        "# langsung menentukan semua layer di awal, dengan memasukkan list\n",
        "model2 = keras.Sequential(\n",
        "    [\n",
        "        keras.layers.InputLayer(input_shape = (2,)),\n",
        "        keras.layers.Dense(units = 1, activation = 'sigmoid')\n",
        "    ]\n",
        ")"
      ]
    },
    {
      "cell_type": "code",
      "execution_count": 56,
      "metadata": {
        "id": "opufHkg12W-y"
      },
      "outputs": [],
      "source": [
        "# menambahkan layer secara berangsur-angsur\n",
        "model2 = keras.Sequential()\n",
        "model2.add(keras.layers.InputLayer(input_shape = (2,)))\n",
        "model2.add(keras.layers.Dense(units = 1, activation = 'sigmoid'))"
      ]
    },
    {
      "cell_type": "markdown",
      "metadata": {
        "id": "5ua3rclg2W-y"
      },
      "source": [
        "Daripada menggunakan *string*, untuk menentukan fungsi aktivasi di kedua cara di atas, kita juga bisa mengetik `keras.activations.sigmoid` seperti berikut:"
      ]
    },
    {
      "cell_type": "code",
      "execution_count": 57,
      "metadata": {
        "id": "DKseRgdL2W-y"
      },
      "outputs": [],
      "source": [
        "# langsung menentukan semua layer di awal, dengan memasukkan list\n",
        "model2 = keras.Sequential(\n",
        "    [\n",
        "        keras.layers.InputLayer(input_shape = (2,)),\n",
        "        keras.layers.Dense(units = 1, activation = keras.activations.sigmoid)\n",
        "    ]\n",
        ")"
      ]
    },
    {
      "cell_type": "code",
      "execution_count": null,
      "metadata": {
        "id": "dHSe3j9m2W-z"
      },
      "outputs": [],
      "source": [
        "# menambahkan layer secara berangsur-angsur\n",
        "model2 = keras.Sequential()\n",
        "model2.add(keras.layers.InputLayer(input_shape = (2,)))\n",
        "model2.add(keras.layers.Dense(units = 1, activation = keras.activations.sigmoid))"
      ]
    },
    {
      "cell_type": "markdown",
      "metadata": {
        "id": "ebCwNujR2W-z"
      },
      "source": [
        "## Ringkasan dan diagram model"
      ]
    },
    {
      "cell_type": "markdown",
      "metadata": {
        "id": "EAiH0MFp2W-z"
      },
      "source": [
        "Kemudian, kita bisa melihat ringkasan bentuk model yang dihasilkan:"
      ]
    },
    {
      "cell_type": "code",
      "execution_count": 58,
      "metadata": {
        "id": "B4yCbgpE2W-z",
        "outputId": "eaf9c09e-c258-4acf-8c82-f2f3406284d7",
        "colab": {
          "base_uri": "https://localhost:8080/",
          "height": 161
        }
      },
      "outputs": [
        {
          "output_type": "display_data",
          "data": {
            "text/plain": [
              "\u001b[1mModel: \"sequential_2\"\u001b[0m\n"
            ],
            "text/html": [
              "<pre style=\"white-space:pre;overflow-x:auto;line-height:normal;font-family:Menlo,'DejaVu Sans Mono',consolas,'Courier New',monospace\"><span style=\"font-weight: bold\">Model: \"sequential_2\"</span>\n",
              "</pre>\n"
            ]
          },
          "metadata": {}
        },
        {
          "output_type": "display_data",
          "data": {
            "text/plain": [
              "┏━━━━━━━━━━━━━━━━━━━━━━━━━━━━━━━━━┳━━━━━━━━━━━━━━━━━━━━━━━━┳━━━━━━━━━━━━━━━┓\n",
              "┃\u001b[1m \u001b[0m\u001b[1mLayer (type)                   \u001b[0m\u001b[1m \u001b[0m┃\u001b[1m \u001b[0m\u001b[1mOutput Shape          \u001b[0m\u001b[1m \u001b[0m┃\u001b[1m \u001b[0m\u001b[1m      Param #\u001b[0m\u001b[1m \u001b[0m┃\n",
              "┡━━━━━━━━━━━━━━━━━━━━━━━━━━━━━━━━━╇━━━━━━━━━━━━━━━━━━━━━━━━╇━━━━━━━━━━━━━━━┩\n",
              "│ dense_2 (\u001b[38;5;33mDense\u001b[0m)                 │ (\u001b[38;5;45mNone\u001b[0m, \u001b[38;5;34m1\u001b[0m)              │             \u001b[38;5;34m3\u001b[0m │\n",
              "└─────────────────────────────────┴────────────────────────┴───────────────┘\n"
            ],
            "text/html": [
              "<pre style=\"white-space:pre;overflow-x:auto;line-height:normal;font-family:Menlo,'DejaVu Sans Mono',consolas,'Courier New',monospace\">┏━━━━━━━━━━━━━━━━━━━━━━━━━━━━━━━━━┳━━━━━━━━━━━━━━━━━━━━━━━━┳━━━━━━━━━━━━━━━┓\n",
              "┃<span style=\"font-weight: bold\"> Layer (type)                    </span>┃<span style=\"font-weight: bold\"> Output Shape           </span>┃<span style=\"font-weight: bold\">       Param # </span>┃\n",
              "┡━━━━━━━━━━━━━━━━━━━━━━━━━━━━━━━━━╇━━━━━━━━━━━━━━━━━━━━━━━━╇━━━━━━━━━━━━━━━┩\n",
              "│ dense_2 (<span style=\"color: #0087ff; text-decoration-color: #0087ff\">Dense</span>)                 │ (<span style=\"color: #00d7ff; text-decoration-color: #00d7ff\">None</span>, <span style=\"color: #00af00; text-decoration-color: #00af00\">1</span>)              │             <span style=\"color: #00af00; text-decoration-color: #00af00\">3</span> │\n",
              "└─────────────────────────────────┴────────────────────────┴───────────────┘\n",
              "</pre>\n"
            ]
          },
          "metadata": {}
        },
        {
          "output_type": "display_data",
          "data": {
            "text/plain": [
              "\u001b[1m Total params: \u001b[0m\u001b[38;5;34m3\u001b[0m (12.00 B)\n"
            ],
            "text/html": [
              "<pre style=\"white-space:pre;overflow-x:auto;line-height:normal;font-family:Menlo,'DejaVu Sans Mono',consolas,'Courier New',monospace\"><span style=\"font-weight: bold\"> Total params: </span><span style=\"color: #00af00; text-decoration-color: #00af00\">3</span> (12.00 B)\n",
              "</pre>\n"
            ]
          },
          "metadata": {}
        },
        {
          "output_type": "display_data",
          "data": {
            "text/plain": [
              "\u001b[1m Trainable params: \u001b[0m\u001b[38;5;34m3\u001b[0m (12.00 B)\n"
            ],
            "text/html": [
              "<pre style=\"white-space:pre;overflow-x:auto;line-height:normal;font-family:Menlo,'DejaVu Sans Mono',consolas,'Courier New',monospace\"><span style=\"font-weight: bold\"> Trainable params: </span><span style=\"color: #00af00; text-decoration-color: #00af00\">3</span> (12.00 B)\n",
              "</pre>\n"
            ]
          },
          "metadata": {}
        },
        {
          "output_type": "display_data",
          "data": {
            "text/plain": [
              "\u001b[1m Non-trainable params: \u001b[0m\u001b[38;5;34m0\u001b[0m (0.00 B)\n"
            ],
            "text/html": [
              "<pre style=\"white-space:pre;overflow-x:auto;line-height:normal;font-family:Menlo,'DejaVu Sans Mono',consolas,'Courier New',monospace\"><span style=\"font-weight: bold\"> Non-trainable params: </span><span style=\"color: #00af00; text-decoration-color: #00af00\">0</span> (0.00 B)\n",
              "</pre>\n"
            ]
          },
          "metadata": {}
        }
      ],
      "source": [
        "model2.summary()"
      ]
    },
    {
      "cell_type": "markdown",
      "metadata": {
        "id": "qEr9Knkx2W-z"
      },
      "source": [
        "Kita juga bisa menampilkan semacam diagram, bahkan menyimpannya ke dalam *file*:"
      ]
    },
    {
      "cell_type": "code",
      "execution_count": 59,
      "metadata": {
        "id": "AQxsPGig2W-z",
        "colab": {
          "base_uri": "https://localhost:8080/",
          "height": 263
        },
        "outputId": "c5383681-549e-486c-c4c2-9d7f7d24843d"
      },
      "outputs": [
        {
          "output_type": "execute_result",
          "data": {
            "image/png": "[encoded data removed]",
            "text/plain": [
              "<IPython.core.display.Image object>"
            ]
          },
          "metadata": {},
          "execution_count": 59
        }
      ],
      "source": [
        "keras.utils.plot_model(\n",
        "    model2,\n",
        "    show_shapes = True,\n",
        "    show_layer_activations = True,\n",
        "    to_file = \"keras_sequential_model2.png\"\n",
        ")"
      ]
    },
    {
      "cell_type": "markdown",
      "metadata": {
        "id": "wOUH5m0Q2W-z"
      },
      "source": [
        "![](./keras_sequential_model2.png)"
      ]
    },
    {
      "cell_type": "markdown",
      "metadata": {
        "id": "7TaJHr_w2W-z"
      },
      "source": [
        "## Memilih *hyperparameter*"
      ]
    },
    {
      "cell_type": "markdown",
      "metadata": {
        "id": "2_p-al5K2W-z"
      },
      "source": [
        "Untuk memilih *hyperparameter* yaitu *optimizer* dan *loss function* (dan metrik evaluasi), kedua kode berikut ini ekuivalen:"
      ]
    },
    {
      "cell_type": "code",
      "execution_count": 60,
      "metadata": {
        "id": "Ezuir6Ld2W-z"
      },
      "outputs": [],
      "source": [
        "# dengan string\n",
        "model2.compile(\n",
        "    optimizer = \"sgd\",\n",
        "    loss = \"binary_crossentropy\",\n",
        "    metrics = [\"binary_accuracy\"]\n",
        ")"
      ]
    },
    {
      "cell_type": "code",
      "execution_count": 61,
      "metadata": {
        "id": "MDg8js4w2W-z"
      },
      "outputs": [],
      "source": [
        "# dengan objek dari class\n",
        "model2.compile(\n",
        "    optimizer = keras.optimizers.SGD(),\n",
        "    loss = keras.losses.BinaryCrossentropy(),\n",
        "    metrics = [keras.metrics.BinaryAccuracy()]\n",
        ")"
      ]
    },
    {
      "cell_type": "markdown",
      "metadata": {
        "id": "kK_D1Xit2W-z"
      },
      "source": [
        "Dengan cara yang kedua, kita juga bisa menentukan *hyperparameter* seperti *learning rate*:"
      ]
    },
    {
      "cell_type": "code",
      "execution_count": 62,
      "metadata": {
        "id": "9GZpZPuV2W-z"
      },
      "outputs": [],
      "source": [
        "# dengan objek dari class\n",
        "model2.compile(\n",
        "    optimizer = keras.optimizers.SGD(learning_rate = 0.01),\n",
        "    loss = keras.losses.BinaryCrossentropy(),\n",
        "    metrics = [keras.metrics.BinaryAccuracy()]\n",
        ")"
      ]
    },
    {
      "cell_type": "markdown",
      "metadata": {
        "id": "d14F57ha2W-0"
      },
      "source": [
        "## *Training*"
      ]
    },
    {
      "cell_type": "markdown",
      "metadata": {
        "id": "SrQFfdHb2W-0"
      },
      "source": [
        "Selanjutnya, tinggal *training*, menggunakan `.fit` seperti di scikit-learn. Bedanya, `.fit` di sini me-*return* suatu objek \"history\" yang berisi catatan *loss* di tiap *epoch*"
      ]
    },
    {
      "cell_type": "code",
      "execution_count": 63,
      "metadata": {
        "id": "5xZgN-GF2W-0",
        "outputId": "7db80a18-9ac2-4dc9-ccb6-9c9c163d37e4",
        "colab": {
          "base_uri": "https://localhost:8080/"
        }
      },
      "outputs": [
        {
          "output_type": "stream",
          "name": "stdout",
          "text": [
            "Epoch 1/100\n",
            "\u001b[1m50/50\u001b[0m \u001b[32m━━━━━━━━━━━━━━━━━━━━\u001b[0m\u001b[37m\u001b[0m \u001b[1m1s\u001b[0m 7ms/step - binary_accuracy: 0.9829 - loss: 0.1602 - val_binary_accuracy: 0.9775 - val_loss: 0.2491\n",
            "Epoch 2/100\n",
            "\u001b[1m50/50\u001b[0m \u001b[32m━━━━━━━━━━━━━━━━━━━━\u001b[0m\u001b[37m\u001b[0m \u001b[1m0s\u001b[0m 4ms/step - binary_accuracy: 0.9909 - loss: 0.1308 - val_binary_accuracy: 0.9875 - val_loss: 0.1955\n",
            "Epoch 3/100\n",
            "\u001b[1m50/50\u001b[0m \u001b[32m━━━━━━━━━━━━━━━━━━━━\u001b[0m\u001b[37m\u001b[0m \u001b[1m0s\u001b[0m 3ms/step - binary_accuracy: 0.9930 - loss: 0.1074 - val_binary_accuracy: 0.9925 - val_loss: 0.1616\n",
            "Epoch 4/100\n",
            "\u001b[1m50/50\u001b[0m \u001b[32m━━━━━━━━━━━━━━━━━━━━\u001b[0m\u001b[37m\u001b[0m \u001b[1m0s\u001b[0m 3ms/step - binary_accuracy: 0.9975 - loss: 0.0915 - val_binary_accuracy: 0.9950 - val_loss: 0.1385\n",
            "Epoch 5/100\n",
            "\u001b[1m50/50\u001b[0m \u001b[32m━━━━━━━━━━━━━━━━━━━━\u001b[0m\u001b[37m\u001b[0m \u001b[1m0s\u001b[0m 3ms/step - binary_accuracy: 0.9981 - loss: 0.0834 - val_binary_accuracy: 1.0000 - val_loss: 0.1218\n",
            "Epoch 6/100\n",
            "\u001b[1m50/50\u001b[0m \u001b[32m━━━━━━━━━━━━━━━━━━━━\u001b[0m\u001b[37m\u001b[0m \u001b[1m0s\u001b[0m 3ms/step - binary_accuracy: 0.9963 - loss: 0.0775 - val_binary_accuracy: 1.0000 - val_loss: 0.1092\n",
            "Epoch 7/100\n",
            "\u001b[1m50/50\u001b[0m \u001b[32m━━━━━━━━━━━━━━━━━━━━\u001b[0m\u001b[37m\u001b[0m \u001b[1m0s\u001b[0m 3ms/step - binary_accuracy: 0.9953 - loss: 0.0732 - val_binary_accuracy: 1.0000 - val_loss: 0.0993\n",
            "Epoch 8/100\n",
            "\u001b[1m50/50\u001b[0m \u001b[32m━━━━━━━━━━━━━━━━━━━━\u001b[0m\u001b[37m\u001b[0m \u001b[1m0s\u001b[0m 3ms/step - binary_accuracy: 0.9981 - loss: 0.0700 - val_binary_accuracy: 1.0000 - val_loss: 0.0914\n",
            "Epoch 9/100\n",
            "\u001b[1m50/50\u001b[0m \u001b[32m━━━━━━━━━━━━━━━━━━━━\u001b[0m\u001b[37m\u001b[0m \u001b[1m0s\u001b[0m 3ms/step - binary_accuracy: 0.9993 - loss: 0.0607 - val_binary_accuracy: 1.0000 - val_loss: 0.0847\n",
            "Epoch 10/100\n",
            "\u001b[1m50/50\u001b[0m \u001b[32m━━━━━━━━━━━━━━━━━━━━\u001b[0m\u001b[37m\u001b[0m \u001b[1m0s\u001b[0m 3ms/step - binary_accuracy: 0.9990 - loss: 0.0581 - val_binary_accuracy: 1.0000 - val_loss: 0.0792\n",
            "Epoch 11/100\n",
            "\u001b[1m50/50\u001b[0m \u001b[32m━━━━━━━━━━━━━━━━━━━━\u001b[0m\u001b[37m\u001b[0m \u001b[1m0s\u001b[0m 4ms/step - binary_accuracy: 0.9981 - loss: 0.0590 - val_binary_accuracy: 1.0000 - val_loss: 0.0744\n",
            "Epoch 12/100\n",
            "\u001b[1m50/50\u001b[0m \u001b[32m━━━━━━━━━━━━━━━━━━━━\u001b[0m\u001b[37m\u001b[0m \u001b[1m0s\u001b[0m 3ms/step - binary_accuracy: 0.9994 - loss: 0.0585 - val_binary_accuracy: 1.0000 - val_loss: 0.0703\n",
            "Epoch 13/100\n",
            "\u001b[1m50/50\u001b[0m \u001b[32m━━━━━━━━━━━━━━━━━━━━\u001b[0m\u001b[37m\u001b[0m \u001b[1m0s\u001b[0m 3ms/step - binary_accuracy: 0.9999 - loss: 0.0521 - val_binary_accuracy: 1.0000 - val_loss: 0.0667\n",
            "Epoch 14/100\n",
            "\u001b[1m50/50\u001b[0m \u001b[32m━━━━━━━━━━━━━━━━━━━━\u001b[0m\u001b[37m\u001b[0m \u001b[1m0s\u001b[0m 3ms/step - binary_accuracy: 0.9987 - loss: 0.0479 - val_binary_accuracy: 1.0000 - val_loss: 0.0635\n",
            "Epoch 15/100\n",
            "\u001b[1m50/50\u001b[0m \u001b[32m━━━━━━━━━━━━━━━━━━━━\u001b[0m\u001b[37m\u001b[0m \u001b[1m0s\u001b[0m 3ms/step - binary_accuracy: 0.9990 - loss: 0.0466 - val_binary_accuracy: 1.0000 - val_loss: 0.0607\n",
            "Epoch 16/100\n",
            "\u001b[1m50/50\u001b[0m \u001b[32m━━━━━━━━━━━━━━━━━━━━\u001b[0m\u001b[37m\u001b[0m \u001b[1m0s\u001b[0m 3ms/step - binary_accuracy: 0.9997 - loss: 0.0442 - val_binary_accuracy: 1.0000 - val_loss: 0.0582\n",
            "Epoch 17/100\n",
            "\u001b[1m50/50\u001b[0m \u001b[32m━━━━━━━━━━━━━━━━━━━━\u001b[0m\u001b[37m\u001b[0m \u001b[1m0s\u001b[0m 3ms/step - binary_accuracy: 0.9995 - loss: 0.0446 - val_binary_accuracy: 1.0000 - val_loss: 0.0559\n",
            "Epoch 18/100\n",
            "\u001b[1m50/50\u001b[0m \u001b[32m━━━━━━━━━━━━━━━━━━━━\u001b[0m\u001b[37m\u001b[0m \u001b[1m0s\u001b[0m 3ms/step - binary_accuracy: 0.9993 - loss: 0.0423 - val_binary_accuracy: 1.0000 - val_loss: 0.0538\n",
            "Epoch 19/100\n",
            "\u001b[1m50/50\u001b[0m \u001b[32m━━━━━━━━━━━━━━━━━━━━\u001b[0m\u001b[37m\u001b[0m \u001b[1m0s\u001b[0m 3ms/step - binary_accuracy: 0.9993 - loss: 0.0410 - val_binary_accuracy: 1.0000 - val_loss: 0.0519\n",
            "Epoch 20/100\n",
            "\u001b[1m50/50\u001b[0m \u001b[32m━━━━━━━━━━━━━━━━━━━━\u001b[0m\u001b[37m\u001b[0m \u001b[1m0s\u001b[0m 3ms/step - binary_accuracy: 0.9994 - loss: 0.0414 - val_binary_accuracy: 1.0000 - val_loss: 0.0501\n",
            "Epoch 21/100\n",
            "\u001b[1m50/50\u001b[0m \u001b[32m━━━━━━━━━━━━━━━━━━━━\u001b[0m\u001b[37m\u001b[0m \u001b[1m0s\u001b[0m 4ms/step - binary_accuracy: 0.9999 - loss: 0.0396 - val_binary_accuracy: 1.0000 - val_loss: 0.0485\n",
            "Epoch 22/100\n",
            "\u001b[1m50/50\u001b[0m \u001b[32m━━━━━━━━━━━━━━━━━━━━\u001b[0m\u001b[37m\u001b[0m \u001b[1m0s\u001b[0m 3ms/step - binary_accuracy: 0.9995 - loss: 0.0345 - val_binary_accuracy: 1.0000 - val_loss: 0.0470\n",
            "Epoch 23/100\n",
            "\u001b[1m50/50\u001b[0m \u001b[32m━━━━━━━━━━━━━━━━━━━━\u001b[0m\u001b[37m\u001b[0m \u001b[1m0s\u001b[0m 3ms/step - binary_accuracy: 0.9998 - loss: 0.0372 - val_binary_accuracy: 1.0000 - val_loss: 0.0456\n",
            "Epoch 24/100\n",
            "\u001b[1m50/50\u001b[0m \u001b[32m━━━━━━━━━━━━━━━━━━━━\u001b[0m\u001b[37m\u001b[0m \u001b[1m0s\u001b[0m 3ms/step - binary_accuracy: 0.9998 - loss: 0.0358 - val_binary_accuracy: 1.0000 - val_loss: 0.0443\n",
            "Epoch 25/100\n",
            "\u001b[1m50/50\u001b[0m \u001b[32m━━━━━━━━━━━━━━━━━━━━\u001b[0m\u001b[37m\u001b[0m \u001b[1m0s\u001b[0m 4ms/step - binary_accuracy: 0.9995 - loss: 0.0342 - val_binary_accuracy: 1.0000 - val_loss: 0.0431\n",
            "Epoch 26/100\n",
            "\u001b[1m50/50\u001b[0m \u001b[32m━━━━━━━━━━━━━━━━━━━━\u001b[0m\u001b[37m\u001b[0m \u001b[1m0s\u001b[0m 5ms/step - binary_accuracy: 0.9999 - loss: 0.0330 - val_binary_accuracy: 1.0000 - val_loss: 0.0420\n",
            "Epoch 27/100\n",
            "\u001b[1m50/50\u001b[0m \u001b[32m━━━━━━━━━━━━━━━━━━━━\u001b[0m\u001b[37m\u001b[0m \u001b[1m0s\u001b[0m 5ms/step - binary_accuracy: 0.9999 - loss: 0.0319 - val_binary_accuracy: 1.0000 - val_loss: 0.0409\n",
            "Epoch 28/100\n",
            "\u001b[1m50/50\u001b[0m \u001b[32m━━━━━━━━━━━━━━━━━━━━\u001b[0m\u001b[37m\u001b[0m \u001b[1m0s\u001b[0m 5ms/step - binary_accuracy: 0.9999 - loss: 0.0316 - val_binary_accuracy: 1.0000 - val_loss: 0.0399\n",
            "Epoch 29/100\n",
            "\u001b[1m50/50\u001b[0m \u001b[32m━━━━━━━━━━━━━━━━━━━━\u001b[0m\u001b[37m\u001b[0m \u001b[1m0s\u001b[0m 5ms/step - binary_accuracy: 0.9991 - loss: 0.0316 - val_binary_accuracy: 1.0000 - val_loss: 0.0390\n",
            "Epoch 30/100\n",
            "\u001b[1m50/50\u001b[0m \u001b[32m━━━━━━━━━━━━━━━━━━━━\u001b[0m\u001b[37m\u001b[0m \u001b[1m0s\u001b[0m 5ms/step - binary_accuracy: 0.9999 - loss: 0.0280 - val_binary_accuracy: 1.0000 - val_loss: 0.0381\n",
            "Epoch 31/100\n",
            "\u001b[1m50/50\u001b[0m \u001b[32m━━━━━━━━━━━━━━━━━━━━\u001b[0m\u001b[37m\u001b[0m \u001b[1m0s\u001b[0m 7ms/step - binary_accuracy: 0.9996 - loss: 0.0302 - val_binary_accuracy: 1.0000 - val_loss: 0.0372\n",
            "Epoch 32/100\n",
            "\u001b[1m50/50\u001b[0m \u001b[32m━━━━━━━━━━━━━━━━━━━━\u001b[0m\u001b[37m\u001b[0m \u001b[1m0s\u001b[0m 4ms/step - binary_accuracy: 0.9985 - loss: 0.0287 - val_binary_accuracy: 1.0000 - val_loss: 0.0364\n",
            "Epoch 33/100\n",
            "\u001b[1m50/50\u001b[0m \u001b[32m━━━━━━━━━━━━━━━━━━━━\u001b[0m\u001b[37m\u001b[0m \u001b[1m0s\u001b[0m 3ms/step - binary_accuracy: 0.9994 - loss: 0.0277 - val_binary_accuracy: 1.0000 - val_loss: 0.0357\n",
            "Epoch 34/100\n",
            "\u001b[1m50/50\u001b[0m \u001b[32m━━━━━━━━━━━━━━━━━━━━\u001b[0m\u001b[37m\u001b[0m \u001b[1m0s\u001b[0m 3ms/step - binary_accuracy: 0.9995 - loss: 0.0282 - val_binary_accuracy: 1.0000 - val_loss: 0.0349\n",
            "Epoch 35/100\n",
            "\u001b[1m50/50\u001b[0m \u001b[32m━━━━━━━━━━━━━━━━━━━━\u001b[0m\u001b[37m\u001b[0m \u001b[1m0s\u001b[0m 3ms/step - binary_accuracy: 0.9990 - loss: 0.0257 - val_binary_accuracy: 1.0000 - val_loss: 0.0342\n",
            "Epoch 36/100\n",
            "\u001b[1m50/50\u001b[0m \u001b[32m━━━━━━━━━━━━━━━━━━━━\u001b[0m\u001b[37m\u001b[0m \u001b[1m0s\u001b[0m 3ms/step - binary_accuracy: 0.9998 - loss: 0.0273 - val_binary_accuracy: 1.0000 - val_loss: 0.0336\n",
            "Epoch 37/100\n",
            "\u001b[1m50/50\u001b[0m \u001b[32m━━━━━━━━━━━━━━━━━━━━\u001b[0m\u001b[37m\u001b[0m \u001b[1m0s\u001b[0m 4ms/step - binary_accuracy: 0.9993 - loss: 0.0269 - val_binary_accuracy: 1.0000 - val_loss: 0.0330\n",
            "Epoch 38/100\n",
            "\u001b[1m50/50\u001b[0m \u001b[32m━━━━━━━━━━━━━━━━━━━━\u001b[0m\u001b[37m\u001b[0m \u001b[1m0s\u001b[0m 3ms/step - binary_accuracy: 0.9987 - loss: 0.0259 - val_binary_accuracy: 1.0000 - val_loss: 0.0324\n",
            "Epoch 39/100\n",
            "\u001b[1m50/50\u001b[0m \u001b[32m━━━━━━━━━━━━━━━━━━━━\u001b[0m\u001b[37m\u001b[0m \u001b[1m0s\u001b[0m 4ms/step - binary_accuracy: 0.9994 - loss: 0.0287 - val_binary_accuracy: 1.0000 - val_loss: 0.0318\n",
            "Epoch 40/100\n",
            "\u001b[1m50/50\u001b[0m \u001b[32m━━━━━━━━━━━━━━━━━━━━\u001b[0m\u001b[37m\u001b[0m \u001b[1m0s\u001b[0m 3ms/step - binary_accuracy: 0.9990 - loss: 0.0263 - val_binary_accuracy: 1.0000 - val_loss: 0.0312\n",
            "Epoch 41/100\n",
            "\u001b[1m50/50\u001b[0m \u001b[32m━━━━━━━━━━━━━━━━━━━━\u001b[0m\u001b[37m\u001b[0m \u001b[1m0s\u001b[0m 3ms/step - binary_accuracy: 0.9972 - loss: 0.0269 - val_binary_accuracy: 1.0000 - val_loss: 0.0307\n",
            "Epoch 42/100\n",
            "\u001b[1m50/50\u001b[0m \u001b[32m━━━━━━━━━━━━━━━━━━━━\u001b[0m\u001b[37m\u001b[0m \u001b[1m0s\u001b[0m 3ms/step - binary_accuracy: 0.9995 - loss: 0.0229 - val_binary_accuracy: 1.0000 - val_loss: 0.0302\n",
            "Epoch 43/100\n",
            "\u001b[1m50/50\u001b[0m \u001b[32m━━━━━━━━━━━━━━━━━━━━\u001b[0m\u001b[37m\u001b[0m \u001b[1m0s\u001b[0m 3ms/step - binary_accuracy: 0.9998 - loss: 0.0241 - val_binary_accuracy: 1.0000 - val_loss: 0.0297\n",
            "Epoch 44/100\n",
            "\u001b[1m50/50\u001b[0m \u001b[32m━━━━━━━━━━━━━━━━━━━━\u001b[0m\u001b[37m\u001b[0m \u001b[1m0s\u001b[0m 4ms/step - binary_accuracy: 0.9996 - loss: 0.0246 - val_binary_accuracy: 1.0000 - val_loss: 0.0292\n",
            "Epoch 45/100\n",
            "\u001b[1m50/50\u001b[0m \u001b[32m━━━━━━━━━━━━━━━━━━━━\u001b[0m\u001b[37m\u001b[0m \u001b[1m0s\u001b[0m 3ms/step - binary_accuracy: 0.9991 - loss: 0.0222 - val_binary_accuracy: 1.0000 - val_loss: 0.0288\n",
            "Epoch 46/100\n",
            "\u001b[1m50/50\u001b[0m \u001b[32m━━━━━━━━━━━━━━━━━━━━\u001b[0m\u001b[37m\u001b[0m \u001b[1m0s\u001b[0m 3ms/step - binary_accuracy: 0.9995 - loss: 0.0240 - val_binary_accuracy: 1.0000 - val_loss: 0.0283\n",
            "Epoch 47/100\n",
            "\u001b[1m50/50\u001b[0m \u001b[32m━━━━━━━━━━━━━━━━━━━━\u001b[0m\u001b[37m\u001b[0m \u001b[1m0s\u001b[0m 4ms/step - binary_accuracy: 0.9999 - loss: 0.0226 - val_binary_accuracy: 1.0000 - val_loss: 0.0279\n",
            "Epoch 48/100\n",
            "\u001b[1m50/50\u001b[0m \u001b[32m━━━━━━━━━━━━━━━━━━━━\u001b[0m\u001b[37m\u001b[0m \u001b[1m0s\u001b[0m 4ms/step - binary_accuracy: 0.9987 - loss: 0.0213 - val_binary_accuracy: 1.0000 - val_loss: 0.0275\n",
            "Epoch 49/100\n",
            "\u001b[1m50/50\u001b[0m \u001b[32m━━━━━━━━━━━━━━━━━━━━\u001b[0m\u001b[37m\u001b[0m \u001b[1m0s\u001b[0m 3ms/step - binary_accuracy: 0.9988 - loss: 0.0217 - val_binary_accuracy: 1.0000 - val_loss: 0.0271\n",
            "Epoch 50/100\n",
            "\u001b[1m50/50\u001b[0m \u001b[32m━━━━━━━━━━━━━━━━━━━━\u001b[0m\u001b[37m\u001b[0m \u001b[1m0s\u001b[0m 3ms/step - binary_accuracy: 0.9987 - loss: 0.0250 - val_binary_accuracy: 1.0000 - val_loss: 0.0267\n",
            "Epoch 51/100\n",
            "\u001b[1m50/50\u001b[0m \u001b[32m━━━━━━━━━━━━━━━━━━━━\u001b[0m\u001b[37m\u001b[0m \u001b[1m0s\u001b[0m 4ms/step - binary_accuracy: 0.9984 - loss: 0.0224 - val_binary_accuracy: 1.0000 - val_loss: 0.0264\n",
            "Epoch 52/100\n",
            "\u001b[1m50/50\u001b[0m \u001b[32m━━━━━━━━━━━━━━━━━━━━\u001b[0m\u001b[37m\u001b[0m \u001b[1m0s\u001b[0m 3ms/step - binary_accuracy: 0.9996 - loss: 0.0217 - val_binary_accuracy: 1.0000 - val_loss: 0.0260\n",
            "Epoch 53/100\n",
            "\u001b[1m50/50\u001b[0m \u001b[32m━━━━━━━━━━━━━━━━━━━━\u001b[0m\u001b[37m\u001b[0m \u001b[1m0s\u001b[0m 3ms/step - binary_accuracy: 0.9986 - loss: 0.0192 - val_binary_accuracy: 1.0000 - val_loss: 0.0256\n",
            "Epoch 54/100\n",
            "\u001b[1m50/50\u001b[0m \u001b[32m━━━━━━━━━━━━━━━━━━━━\u001b[0m\u001b[37m\u001b[0m \u001b[1m0s\u001b[0m 3ms/step - binary_accuracy: 0.9999 - loss: 0.0205 - val_binary_accuracy: 1.0000 - val_loss: 0.0253\n",
            "Epoch 55/100\n",
            "\u001b[1m50/50\u001b[0m \u001b[32m━━━━━━━━━━━━━━━━━━━━\u001b[0m\u001b[37m\u001b[0m \u001b[1m0s\u001b[0m 4ms/step - binary_accuracy: 0.9998 - loss: 0.0210 - val_binary_accuracy: 1.0000 - val_loss: 0.0250\n",
            "Epoch 56/100\n",
            "\u001b[1m50/50\u001b[0m \u001b[32m━━━━━━━━━━━━━━━━━━━━\u001b[0m\u001b[37m\u001b[0m \u001b[1m0s\u001b[0m 4ms/step - binary_accuracy: 0.9999 - loss: 0.0185 - val_binary_accuracy: 1.0000 - val_loss: 0.0247\n",
            "Epoch 57/100\n",
            "\u001b[1m50/50\u001b[0m \u001b[32m━━━━━━━━━━━━━━━━━━━━\u001b[0m\u001b[37m\u001b[0m \u001b[1m0s\u001b[0m 3ms/step - binary_accuracy: 0.9986 - loss: 0.0193 - val_binary_accuracy: 1.0000 - val_loss: 0.0244\n",
            "Epoch 58/100\n",
            "\u001b[1m50/50\u001b[0m \u001b[32m━━━━━━━━━━━━━━━━━━━━\u001b[0m\u001b[37m\u001b[0m \u001b[1m0s\u001b[0m 3ms/step - binary_accuracy: 0.9991 - loss: 0.0210 - val_binary_accuracy: 1.0000 - val_loss: 0.0241\n",
            "Epoch 59/100\n",
            "\u001b[1m50/50\u001b[0m \u001b[32m━━━━━━━━━━━━━━━━━━━━\u001b[0m\u001b[37m\u001b[0m \u001b[1m0s\u001b[0m 3ms/step - binary_accuracy: 1.0000 - loss: 0.0216 - val_binary_accuracy: 1.0000 - val_loss: 0.0238\n",
            "Epoch 60/100\n",
            "\u001b[1m50/50\u001b[0m \u001b[32m━━━━━━━━━━━━━━━━━━━━\u001b[0m\u001b[37m\u001b[0m \u001b[1m0s\u001b[0m 3ms/step - binary_accuracy: 0.9999 - loss: 0.0200 - val_binary_accuracy: 1.0000 - val_loss: 0.0235\n",
            "Epoch 61/100\n",
            "\u001b[1m50/50\u001b[0m \u001b[32m━━━━━━━━━━━━━━━━━━━━\u001b[0m\u001b[37m\u001b[0m \u001b[1m0s\u001b[0m 3ms/step - binary_accuracy: 0.9989 - loss: 0.0207 - val_binary_accuracy: 1.0000 - val_loss: 0.0232\n",
            "Epoch 62/100\n",
            "\u001b[1m50/50\u001b[0m \u001b[32m━━━━━━━━━━━━━━━━━━━━\u001b[0m\u001b[37m\u001b[0m \u001b[1m0s\u001b[0m 4ms/step - binary_accuracy: 0.9991 - loss: 0.0184 - val_binary_accuracy: 1.0000 - val_loss: 0.0230\n",
            "Epoch 63/100\n",
            "\u001b[1m50/50\u001b[0m \u001b[32m━━━━━━━━━━━━━━━━━━━━\u001b[0m\u001b[37m\u001b[0m \u001b[1m0s\u001b[0m 3ms/step - binary_accuracy: 0.9990 - loss: 0.0198 - val_binary_accuracy: 1.0000 - val_loss: 0.0227\n",
            "Epoch 64/100\n",
            "\u001b[1m50/50\u001b[0m \u001b[32m━━━━━━━━━━━━━━━━━━━━\u001b[0m\u001b[37m\u001b[0m \u001b[1m0s\u001b[0m 3ms/step - binary_accuracy: 0.9997 - loss: 0.0180 - val_binary_accuracy: 1.0000 - val_loss: 0.0224\n",
            "Epoch 65/100\n",
            "\u001b[1m50/50\u001b[0m \u001b[32m━━━━━━━━━━━━━━━━━━━━\u001b[0m\u001b[37m\u001b[0m \u001b[1m0s\u001b[0m 3ms/step - binary_accuracy: 0.9992 - loss: 0.0187 - val_binary_accuracy: 1.0000 - val_loss: 0.0222\n",
            "Epoch 66/100\n",
            "\u001b[1m50/50\u001b[0m \u001b[32m━━━━━━━━━━━━━━━━━━━━\u001b[0m\u001b[37m\u001b[0m \u001b[1m0s\u001b[0m 4ms/step - binary_accuracy: 0.9999 - loss: 0.0181 - val_binary_accuracy: 1.0000 - val_loss: 0.0220\n",
            "Epoch 67/100\n",
            "\u001b[1m50/50\u001b[0m \u001b[32m━━━━━━━━━━━━━━━━━━━━\u001b[0m\u001b[37m\u001b[0m \u001b[1m0s\u001b[0m 3ms/step - binary_accuracy: 0.9996 - loss: 0.0166 - val_binary_accuracy: 1.0000 - val_loss: 0.0217\n",
            "Epoch 68/100\n",
            "\u001b[1m50/50\u001b[0m \u001b[32m━━━━━━━━━━━━━━━━━━━━\u001b[0m\u001b[37m\u001b[0m \u001b[1m0s\u001b[0m 4ms/step - binary_accuracy: 0.9989 - loss: 0.0183 - val_binary_accuracy: 1.0000 - val_loss: 0.0215\n",
            "Epoch 69/100\n",
            "\u001b[1m50/50\u001b[0m \u001b[32m━━━━━━━━━━━━━━━━━━━━\u001b[0m\u001b[37m\u001b[0m \u001b[1m0s\u001b[0m 3ms/step - binary_accuracy: 0.9998 - loss: 0.0176 - val_binary_accuracy: 1.0000 - val_loss: 0.0213\n",
            "Epoch 70/100\n",
            "\u001b[1m50/50\u001b[0m \u001b[32m━━━━━━━━━━━━━━━━━━━━\u001b[0m\u001b[37m\u001b[0m \u001b[1m0s\u001b[0m 5ms/step - binary_accuracy: 1.0000 - loss: 0.0161 - val_binary_accuracy: 1.0000 - val_loss: 0.0211\n",
            "Epoch 71/100\n",
            "\u001b[1m50/50\u001b[0m \u001b[32m━━━━━━━━━━━━━━━━━━━━\u001b[0m\u001b[37m\u001b[0m \u001b[1m1s\u001b[0m 5ms/step - binary_accuracy: 0.9993 - loss: 0.0180 - val_binary_accuracy: 1.0000 - val_loss: 0.0208\n",
            "Epoch 72/100\n",
            "\u001b[1m50/50\u001b[0m \u001b[32m━━━━━━━━━━━━━━━━━━━━\u001b[0m\u001b[37m\u001b[0m \u001b[1m0s\u001b[0m 5ms/step - binary_accuracy: 0.9989 - loss: 0.0192 - val_binary_accuracy: 1.0000 - val_loss: 0.0206\n",
            "Epoch 73/100\n",
            "\u001b[1m50/50\u001b[0m \u001b[32m━━━━━━━━━━━━━━━━━━━━\u001b[0m\u001b[37m\u001b[0m \u001b[1m1s\u001b[0m 5ms/step - binary_accuracy: 1.0000 - loss: 0.0165 - val_binary_accuracy: 1.0000 - val_loss: 0.0204\n",
            "Epoch 74/100\n",
            "\u001b[1m50/50\u001b[0m \u001b[32m━━━━━━━━━━━━━━━━━━━━\u001b[0m\u001b[37m\u001b[0m \u001b[1m0s\u001b[0m 5ms/step - binary_accuracy: 1.0000 - loss: 0.0179 - val_binary_accuracy: 1.0000 - val_loss: 0.0202\n",
            "Epoch 75/100\n",
            "\u001b[1m50/50\u001b[0m \u001b[32m━━━━━━━━━━━━━━━━━━━━\u001b[0m\u001b[37m\u001b[0m \u001b[1m0s\u001b[0m 3ms/step - binary_accuracy: 0.9988 - loss: 0.0169 - val_binary_accuracy: 1.0000 - val_loss: 0.0200\n",
            "Epoch 76/100\n",
            "\u001b[1m50/50\u001b[0m \u001b[32m━━━━━━━━━━━━━━━━━━━━\u001b[0m\u001b[37m\u001b[0m \u001b[1m0s\u001b[0m 3ms/step - binary_accuracy: 0.9996 - loss: 0.0157 - val_binary_accuracy: 1.0000 - val_loss: 0.0198\n",
            "Epoch 77/100\n",
            "\u001b[1m50/50\u001b[0m \u001b[32m━━━━━━━━━━━━━━━━━━━━\u001b[0m\u001b[37m\u001b[0m \u001b[1m0s\u001b[0m 3ms/step - binary_accuracy: 0.9991 - loss: 0.0186 - val_binary_accuracy: 1.0000 - val_loss: 0.0197\n",
            "Epoch 78/100\n",
            "\u001b[1m50/50\u001b[0m \u001b[32m━━━━━━━━━━━━━━━━━━━━\u001b[0m\u001b[37m\u001b[0m \u001b[1m0s\u001b[0m 3ms/step - binary_accuracy: 0.9996 - loss: 0.0164 - val_binary_accuracy: 1.0000 - val_loss: 0.0195\n",
            "Epoch 79/100\n",
            "\u001b[1m50/50\u001b[0m \u001b[32m━━━━━━━━━━━━━━━━━━━━\u001b[0m\u001b[37m\u001b[0m \u001b[1m0s\u001b[0m 3ms/step - binary_accuracy: 0.9998 - loss: 0.0157 - val_binary_accuracy: 1.0000 - val_loss: 0.0193\n",
            "Epoch 80/100\n",
            "\u001b[1m50/50\u001b[0m \u001b[32m━━━━━━━━━━━━━━━━━━━━\u001b[0m\u001b[37m\u001b[0m \u001b[1m0s\u001b[0m 4ms/step - binary_accuracy: 0.9992 - loss: 0.0143 - val_binary_accuracy: 1.0000 - val_loss: 0.0191\n",
            "Epoch 81/100\n",
            "\u001b[1m50/50\u001b[0m \u001b[32m━━━━━━━━━━━━━━━━━━━━\u001b[0m\u001b[37m\u001b[0m \u001b[1m0s\u001b[0m 3ms/step - binary_accuracy: 1.0000 - loss: 0.0157 - val_binary_accuracy: 1.0000 - val_loss: 0.0190\n",
            "Epoch 82/100\n",
            "\u001b[1m50/50\u001b[0m \u001b[32m━━━━━━━━━━━━━━━━━━━━\u001b[0m\u001b[37m\u001b[0m \u001b[1m0s\u001b[0m 3ms/step - binary_accuracy: 0.9998 - loss: 0.0157 - val_binary_accuracy: 1.0000 - val_loss: 0.0188\n",
            "Epoch 83/100\n",
            "\u001b[1m50/50\u001b[0m \u001b[32m━━━━━━━━━━━━━━━━━━━━\u001b[0m\u001b[37m\u001b[0m \u001b[1m0s\u001b[0m 4ms/step - binary_accuracy: 0.9996 - loss: 0.0153 - val_binary_accuracy: 1.0000 - val_loss: 0.0186\n",
            "Epoch 84/100\n",
            "\u001b[1m50/50\u001b[0m \u001b[32m━━━━━━━━━━━━━━━━━━━━\u001b[0m\u001b[37m\u001b[0m \u001b[1m0s\u001b[0m 3ms/step - binary_accuracy: 1.0000 - loss: 0.0149 - val_binary_accuracy: 1.0000 - val_loss: 0.0185\n",
            "Epoch 85/100\n",
            "\u001b[1m50/50\u001b[0m \u001b[32m━━━━━━━━━━━━━━━━━━━━\u001b[0m\u001b[37m\u001b[0m \u001b[1m0s\u001b[0m 3ms/step - binary_accuracy: 0.9989 - loss: 0.0161 - val_binary_accuracy: 1.0000 - val_loss: 0.0183\n",
            "Epoch 86/100\n",
            "\u001b[1m50/50\u001b[0m \u001b[32m━━━━━━━━━━━━━━━━━━━━\u001b[0m\u001b[37m\u001b[0m \u001b[1m0s\u001b[0m 4ms/step - binary_accuracy: 0.9978 - loss: 0.0161 - val_binary_accuracy: 1.0000 - val_loss: 0.0182\n",
            "Epoch 87/100\n",
            "\u001b[1m50/50\u001b[0m \u001b[32m━━━━━━━━━━━━━━━━━━━━\u001b[0m\u001b[37m\u001b[0m \u001b[1m0s\u001b[0m 3ms/step - binary_accuracy: 0.9998 - loss: 0.0156 - val_binary_accuracy: 1.0000 - val_loss: 0.0180\n",
            "Epoch 88/100\n",
            "\u001b[1m50/50\u001b[0m \u001b[32m━━━━━━━━━━━━━━━━━━━━\u001b[0m\u001b[37m\u001b[0m \u001b[1m0s\u001b[0m 3ms/step - binary_accuracy: 0.9997 - loss: 0.0140 - val_binary_accuracy: 1.0000 - val_loss: 0.0179\n",
            "Epoch 89/100\n",
            "\u001b[1m50/50\u001b[0m \u001b[32m━━━━━━━━━━━━━━━━━━━━\u001b[0m\u001b[37m\u001b[0m \u001b[1m0s\u001b[0m 3ms/step - binary_accuracy: 0.9996 - loss: 0.0151 - val_binary_accuracy: 1.0000 - val_loss: 0.0177\n",
            "Epoch 90/100\n",
            "\u001b[1m50/50\u001b[0m \u001b[32m━━━━━━━━━━━━━━━━━━━━\u001b[0m\u001b[37m\u001b[0m \u001b[1m0s\u001b[0m 3ms/step - binary_accuracy: 0.9999 - loss: 0.0154 - val_binary_accuracy: 1.0000 - val_loss: 0.0176\n",
            "Epoch 91/100\n",
            "\u001b[1m50/50\u001b[0m \u001b[32m━━━━━━━━━━━━━━━━━━━━\u001b[0m\u001b[37m\u001b[0m \u001b[1m0s\u001b[0m 4ms/step - binary_accuracy: 0.9999 - loss: 0.0136 - val_binary_accuracy: 1.0000 - val_loss: 0.0174\n",
            "Epoch 92/100\n",
            "\u001b[1m50/50\u001b[0m \u001b[32m━━━━━━━━━━━━━━━━━━━━\u001b[0m\u001b[37m\u001b[0m \u001b[1m0s\u001b[0m 3ms/step - binary_accuracy: 0.9993 - loss: 0.0138 - val_binary_accuracy: 1.0000 - val_loss: 0.0173\n",
            "Epoch 93/100\n",
            "\u001b[1m50/50\u001b[0m \u001b[32m━━━━━━━━━━━━━━━━━━━━\u001b[0m\u001b[37m\u001b[0m \u001b[1m0s\u001b[0m 3ms/step - binary_accuracy: 0.9991 - loss: 0.0152 - val_binary_accuracy: 1.0000 - val_loss: 0.0172\n",
            "Epoch 94/100\n",
            "\u001b[1m50/50\u001b[0m \u001b[32m━━━━━━━━━━━━━━━━━━━━\u001b[0m\u001b[37m\u001b[0m \u001b[1m0s\u001b[0m 3ms/step - binary_accuracy: 0.9999 - loss: 0.0134 - val_binary_accuracy: 1.0000 - val_loss: 0.0170\n",
            "Epoch 95/100\n",
            "\u001b[1m50/50\u001b[0m \u001b[32m━━━━━━━━━━━━━━━━━━━━\u001b[0m\u001b[37m\u001b[0m \u001b[1m0s\u001b[0m 4ms/step - binary_accuracy: 0.9991 - loss: 0.0143 - val_binary_accuracy: 1.0000 - val_loss: 0.0169\n",
            "Epoch 96/100\n",
            "\u001b[1m50/50\u001b[0m \u001b[32m━━━━━━━━━━━━━━━━━━━━\u001b[0m\u001b[37m\u001b[0m \u001b[1m0s\u001b[0m 3ms/step - binary_accuracy: 0.9987 - loss: 0.0169 - val_binary_accuracy: 1.0000 - val_loss: 0.0168\n",
            "Epoch 97/100\n",
            "\u001b[1m50/50\u001b[0m \u001b[32m━━━━━━━━━━━━━━━━━━━━\u001b[0m\u001b[37m\u001b[0m \u001b[1m0s\u001b[0m 3ms/step - binary_accuracy: 1.0000 - loss: 0.0140 - val_binary_accuracy: 1.0000 - val_loss: 0.0166\n",
            "Epoch 98/100\n",
            "\u001b[1m50/50\u001b[0m \u001b[32m━━━━━━━━━━━━━━━━━━━━\u001b[0m\u001b[37m\u001b[0m \u001b[1m0s\u001b[0m 3ms/step - binary_accuracy: 0.9997 - loss: 0.0142 - val_binary_accuracy: 1.0000 - val_loss: 0.0165\n",
            "Epoch 99/100\n",
            "\u001b[1m50/50\u001b[0m \u001b[32m━━━━━━━━━━━━━━━━━━━━\u001b[0m\u001b[37m\u001b[0m \u001b[1m0s\u001b[0m 3ms/step - binary_accuracy: 0.9990 - loss: 0.0130 - val_binary_accuracy: 1.0000 - val_loss: 0.0164\n",
            "Epoch 100/100\n",
            "\u001b[1m50/50\u001b[0m \u001b[32m━━━━━━━━━━━━━━━━━━━━\u001b[0m\u001b[37m\u001b[0m \u001b[1m0s\u001b[0m 3ms/step - binary_accuracy: 0.9994 - loss: 0.0154 - val_binary_accuracy: 1.0000 - val_loss: 0.0163\n"
          ]
        }
      ],
      "source": [
        "x_train = inputs\n",
        "y_train = targets\n",
        "history2 = model2.fit(x_train, y_train, epochs=100, validation_split=0.2)"
      ]
    },
    {
      "cell_type": "markdown",
      "metadata": {
        "id": "347So2Vt2W-0"
      },
      "source": [
        "Objek \"history\" tersebut memiliki *dictionary* `.history`. Kita bisa lihat, apa saja *key* yang ada:"
      ]
    },
    {
      "cell_type": "code",
      "execution_count": 64,
      "metadata": {
        "id": "5Sl5YQX72W-0",
        "outputId": "065bf64b-6968-4744-a5e7-e235c4f49347",
        "colab": {
          "base_uri": "https://localhost:8080/"
        }
      },
      "outputs": [
        {
          "output_type": "stream",
          "name": "stdout",
          "text": [
            "dict_keys(['binary_accuracy', 'loss', 'val_binary_accuracy', 'val_loss'])\n"
          ]
        }
      ],
      "source": [
        "print(history2.history.keys())"
      ]
    },
    {
      "cell_type": "markdown",
      "metadata": {
        "id": "iaer_V-Y2W-0"
      },
      "source": [
        "Tiap *key* menyimpan data per *epoch*, sehingga ukurannya sama semua. Oleh karena itu, sebenarnya *dictionary* ini bisa diubah menjadi pandas DataFrame, yang kemudian bisa kita simpan ke CSV:"
      ]
    },
    {
      "cell_type": "code",
      "execution_count": 65,
      "metadata": {
        "id": "otJoqb-X2W-0"
      },
      "outputs": [],
      "source": [
        "pd.DataFrame(history2.history).to_csv(\"./keras_sequential_history2.csv\", index=False)"
      ]
    },
    {
      "cell_type": "markdown",
      "metadata": {
        "id": "bG2NEa8C2W-0"
      },
      "source": [
        "Kalau mau menyamakan, *file* nya bisa kalian *download* dari GitHub Pages ini: [keras_sequential_history2.csv](./keras_sequential_history2.csv)"
      ]
    },
    {
      "cell_type": "markdown",
      "metadata": {
        "id": "OW8_v58G2W-0"
      },
      "source": [
        "Kemudian, kita bisa *load* kembali:"
      ]
    },
    {
      "cell_type": "code",
      "execution_count": 66,
      "metadata": {
        "id": "BNpCB0Lv2W-0"
      },
      "outputs": [],
      "source": [
        "history2_df = pd.read_csv(\"./keras_sequential_history2.csv\")"
      ]
    },
    {
      "cell_type": "code",
      "execution_count": 67,
      "metadata": {
        "id": "isXQzBlk2W-1",
        "outputId": "c3308e33-de94-4300-863a-2867313cc360",
        "colab": {
          "base_uri": "https://localhost:8080/",
          "height": 423
        }
      },
      "outputs": [
        {
          "output_type": "execute_result",
          "data": {
            "text/plain": [
              "    binary_accuracy      loss  val_binary_accuracy  val_loss\n",
              "0          0.985000  0.150636               0.9775  0.249056\n",
              "1          0.993125  0.122728               0.9875  0.195455\n",
              "2          0.993750  0.105114               0.9925  0.161598\n",
              "3          0.996250  0.092837               0.9950  0.138501\n",
              "4          0.996875  0.083684               1.0000  0.121808\n",
              "..              ...       ...                  ...       ...\n",
              "95         0.999375  0.014503               1.0000  0.016765\n",
              "96         0.999375  0.014412               1.0000  0.016639\n",
              "97         0.999375  0.014322               1.0000  0.016516\n",
              "98         0.999375  0.014234               1.0000  0.016394\n",
              "99         0.999375  0.014146               1.0000  0.016273\n",
              "\n",
              "[100 rows x 4 columns]"
            ],
            "text/html": [
              "\n",
              "  <div id=\"df-a5c1161e-e6f1-4ef7-9e9c-d2d58a11b629\" class=\"colab-df-container\">\n",
              "    <div>\n",
              "<style scoped>\n",
              "    .dataframe tbody tr th:only-of-type {\n",
              "        vertical-align: middle;\n",
              "    }\n",
              "\n",
              "    .dataframe tbody tr th {\n",
              "        vertical-align: top;\n",
              "    }\n",
              "\n",
              "    .dataframe thead th {\n",
              "        text-align: right;\n",
              "    }\n",
              "</style>\n",
              "<table border=\"1\" class=\"dataframe\">\n",
              "  <thead>\n",
              "    <tr style=\"text-align: right;\">\n",
              "      <th></th>\n",
              "      <th>binary_accuracy</th>\n",
              "      <th>loss</th>\n",
              "      <th>val_binary_accuracy</th>\n",
              "      <th>val_loss</th>\n",
              "    </tr>\n",
              "  </thead>\n",
              "  <tbody>\n",
              "    <tr>\n",
              "      <th>0</th>\n",
              "      <td>0.985000</td>\n",
              "      <td>0.150636</td>\n",
              "      <td>0.9775</td>\n",
              "      <td>0.249056</td>\n",
              "    </tr>\n",
              "    <tr>\n",
              "      <th>1</th>\n",
              "      <td>0.993125</td>\n",
              "      <td>0.122728</td>\n",
              "      <td>0.9875</td>\n",
              "      <td>0.195455</td>\n",
              "    </tr>\n",
              "    <tr>\n",
              "      <th>2</th>\n",
              "      <td>0.993750</td>\n",
              "      <td>0.105114</td>\n",
              "      <td>0.9925</td>\n",
              "      <td>0.161598</td>\n",
              "    </tr>\n",
              "    <tr>\n",
              "      <th>3</th>\n",
              "      <td>0.996250</td>\n",
              "      <td>0.092837</td>\n",
              "      <td>0.9950</td>\n",
              "      <td>0.138501</td>\n",
              "    </tr>\n",
              "    <tr>\n",
              "      <th>4</th>\n",
              "      <td>0.996875</td>\n",
              "      <td>0.083684</td>\n",
              "      <td>1.0000</td>\n",
              "      <td>0.121808</td>\n",
              "    </tr>\n",
              "    <tr>\n",
              "      <th>...</th>\n",
              "      <td>...</td>\n",
              "      <td>...</td>\n",
              "      <td>...</td>\n",
              "      <td>...</td>\n",
              "    </tr>\n",
              "    <tr>\n",
              "      <th>95</th>\n",
              "      <td>0.999375</td>\n",
              "      <td>0.014503</td>\n",
              "      <td>1.0000</td>\n",
              "      <td>0.016765</td>\n",
              "    </tr>\n",
              "    <tr>\n",
              "      <th>96</th>\n",
              "      <td>0.999375</td>\n",
              "      <td>0.014412</td>\n",
              "      <td>1.0000</td>\n",
              "      <td>0.016639</td>\n",
              "    </tr>\n",
              "    <tr>\n",
              "      <th>97</th>\n",
              "      <td>0.999375</td>\n",
              "      <td>0.014322</td>\n",
              "      <td>1.0000</td>\n",
              "      <td>0.016516</td>\n",
              "    </tr>\n",
              "    <tr>\n",
              "      <th>98</th>\n",
              "      <td>0.999375</td>\n",
              "      <td>0.014234</td>\n",
              "      <td>1.0000</td>\n",
              "      <td>0.016394</td>\n",
              "    </tr>\n",
              "    <tr>\n",
              "      <th>99</th>\n",
              "      <td>0.999375</td>\n",
              "      <td>0.014146</td>\n",
              "      <td>1.0000</td>\n",
              "      <td>0.016273</td>\n",
              "    </tr>\n",
              "  </tbody>\n",
              "</table>\n",
              "<p>100 rows × 4 columns</p>\n",
              "</div>\n",
              "    <div class=\"colab-df-buttons\">\n",
              "\n",
              "  <div class=\"colab-df-container\">\n",
              "    <button class=\"colab-df-convert\" onclick=\"convertToInteractive('df-a5c1161e-e6f1-4ef7-9e9c-d2d58a11b629')\"\n",
              "            title=\"Convert this dataframe to an interactive table.\"\n",
              "            style=\"display:none;\">\n",
              "\n",
              "  <svg xmlns=\"http://www.w3.org/2000/svg\" height=\"24px\" viewBox=\"0 -960 960 960\">\n",
              "    <path d=\"M120-120v-720h720v720H120Zm60-500h600v-160H180v160Zm220 220h160v-160H400v160Zm0 220h160v-160H400v160ZM180-400h160v-160H180v160Zm440 0h160v-160H620v160ZM180-180h160v-160H180v160Zm440 0h160v-160H620v160Z\"/>\n",
              "  </svg>\n",
              "    </button>\n",
              "\n",
              "  <style>\n",
              "    .colab-df-container {\n",
              "      display:flex;\n",
              "      gap: 12px;\n",
              "    }\n",
              "\n",
              "    .colab-df-convert {\n",
              "      background-color: #E8F0FE;\n",
              "      border: none;\n",
              "      border-radius: 50%;\n",
              "      cursor: pointer;\n",
              "      display: none;\n",
              "      fill: #1967D2;\n",
              "      height: 32px;\n",
              "      padding: 0 0 0 0;\n",
              "      width: 32px;\n",
              "    }\n",
              "\n",
              "    .colab-df-convert:hover {\n",
              "      background-color: #E2EBFA;\n",
              "      box-shadow: 0px 1px 2px rgba(60, 64, 67, 0.3), 0px 1px 3px 1px rgba(60, 64, 67, 0.15);\n",
              "      fill: #174EA6;\n",
              "    }\n",
              "\n",
              "    .colab-df-buttons div {\n",
              "      margin-bottom: 4px;\n",
              "    }\n",
              "\n",
              "    [theme=dark] .colab-df-convert {\n",
              "      background-color: #3B4455;\n",
              "      fill: #D2E3FC;\n",
              "    }\n",
              "\n",
              "    [theme=dark] .colab-df-convert:hover {\n",
              "      background-color: #434B5C;\n",
              "      box-shadow: 0px 1px 3px 1px rgba(0, 0, 0, 0.15);\n",
              "      filter: drop-shadow(0px 1px 2px rgba(0, 0, 0, 0.3));\n",
              "      fill: #FFFFFF;\n",
              "    }\n",
              "  </style>\n",
              "\n",
              "    <script>\n",
              "      const buttonEl =\n",
              "        document.querySelector('#df-a5c1161e-e6f1-4ef7-9e9c-d2d58a11b629 button.colab-df-convert');\n",
              "      buttonEl.style.display =\n",
              "        google.colab.kernel.accessAllowed ? 'block' : 'none';\n",
              "\n",
              "      async function convertToInteractive(key) {\n",
              "        const element = document.querySelector('#df-a5c1161e-e6f1-4ef7-9e9c-d2d58a11b629');\n",
              "        const dataTable =\n",
              "          await google.colab.kernel.invokeFunction('convertToInteractive',\n",
              "                                                    [key], {});\n",
              "        if (!dataTable) return;\n",
              "\n",
              "        const docLinkHtml = 'Like what you see? Visit the ' +\n",
              "          '<a target=\"_blank\" href=https://colab.research.google.com/notebooks/data_table.ipynb>data table notebook</a>'\n",
              "          + ' to learn more about interactive tables.';\n",
              "        element.innerHTML = '';\n",
              "        dataTable['output_type'] = 'display_data';\n",
              "        await google.colab.output.renderOutput(dataTable, element);\n",
              "        const docLink = document.createElement('div');\n",
              "        docLink.innerHTML = docLinkHtml;\n",
              "        element.appendChild(docLink);\n",
              "      }\n",
              "    </script>\n",
              "  </div>\n",
              "\n",
              "\n",
              "    <div id=\"df-fb67f2b1-af27-4876-ad90-b510a5e2f800\">\n",
              "      <button class=\"colab-df-quickchart\" onclick=\"quickchart('df-fb67f2b1-af27-4876-ad90-b510a5e2f800')\"\n",
              "                title=\"Suggest charts\"\n",
              "                style=\"display:none;\">\n",
              "\n",
              "<svg xmlns=\"http://www.w3.org/2000/svg\" height=\"24px\"viewBox=\"0 0 24 24\"\n",
              "     width=\"24px\">\n",
              "    <g>\n",
              "        <path d=\"M19 3H5c-1.1 0-2 .9-2 2v14c0 1.1.9 2 2 2h14c1.1 0 2-.9 2-2V5c0-1.1-.9-2-2-2zM9 17H7v-7h2v7zm4 0h-2V7h2v10zm4 0h-2v-4h2v4z\"/>\n",
              "    </g>\n",
              "</svg>\n",
              "      </button>\n",
              "\n",
              "<style>\n",
              "  .colab-df-quickchart {\n",
              "      --bg-color: #E8F0FE;\n",
              "      --fill-color: #1967D2;\n",
              "      --hover-bg-color: #E2EBFA;\n",
              "      --hover-fill-color: #174EA6;\n",
              "      --disabled-fill-color: #AAA;\n",
              "      --disabled-bg-color: #DDD;\n",
              "  }\n",
              "\n",
              "  [theme=dark] .colab-df-quickchart {\n",
              "      --bg-color: #3B4455;\n",
              "      --fill-color: #D2E3FC;\n",
              "      --hover-bg-color: #434B5C;\n",
              "      --hover-fill-color: #FFFFFF;\n",
              "      --disabled-bg-color: #3B4455;\n",
              "      --disabled-fill-color: #666;\n",
              "  }\n",
              "\n",
              "  .colab-df-quickchart {\n",
              "    background-color: var(--bg-color);\n",
              "    border: none;\n",
              "    border-radius: 50%;\n",
              "    cursor: pointer;\n",
              "    display: none;\n",
              "    fill: var(--fill-color);\n",
              "    height: 32px;\n",
              "    padding: 0;\n",
              "    width: 32px;\n",
              "  }\n",
              "\n",
              "  .colab-df-quickchart:hover {\n",
              "    background-color: var(--hover-bg-color);\n",
              "    box-shadow: 0 1px 2px rgba(60, 64, 67, 0.3), 0 1px 3px 1px rgba(60, 64, 67, 0.15);\n",
              "    fill: var(--button-hover-fill-color);\n",
              "  }\n",
              "\n",
              "  .colab-df-quickchart-complete:disabled,\n",
              "  .colab-df-quickchart-complete:disabled:hover {\n",
              "    background-color: var(--disabled-bg-color);\n",
              "    fill: var(--disabled-fill-color);\n",
              "    box-shadow: none;\n",
              "  }\n",
              "\n",
              "  .colab-df-spinner {\n",
              "    border: 2px solid var(--fill-color);\n",
              "    border-color: transparent;\n",
              "    border-bottom-color: var(--fill-color);\n",
              "    animation:\n",
              "      spin 1s steps(1) infinite;\n",
              "  }\n",
              "\n",
              "  @keyframes spin {\n",
              "    0% {\n",
              "      border-color: transparent;\n",
              "      border-bottom-color: var(--fill-color);\n",
              "      border-left-color: var(--fill-color);\n",
              "    }\n",
              "    20% {\n",
              "      border-color: transparent;\n",
              "      border-left-color: var(--fill-color);\n",
              "      border-top-color: var(--fill-color);\n",
              "    }\n",
              "    30% {\n",
              "      border-color: transparent;\n",
              "      border-left-color: var(--fill-color);\n",
              "      border-top-color: var(--fill-color);\n",
              "      border-right-color: var(--fill-color);\n",
              "    }\n",
              "    40% {\n",
              "      border-color: transparent;\n",
              "      border-right-color: var(--fill-color);\n",
              "      border-top-color: var(--fill-color);\n",
              "    }\n",
              "    60% {\n",
              "      border-color: transparent;\n",
              "      border-right-color: var(--fill-color);\n",
              "    }\n",
              "    80% {\n",
              "      border-color: transparent;\n",
              "      border-right-color: var(--fill-color);\n",
              "      border-bottom-color: var(--fill-color);\n",
              "    }\n",
              "    90% {\n",
              "      border-color: transparent;\n",
              "      border-bottom-color: var(--fill-color);\n",
              "    }\n",
              "  }\n",
              "</style>\n",
              "\n",
              "      <script>\n",
              "        async function quickchart(key) {\n",
              "          const quickchartButtonEl =\n",
              "            document.querySelector('#' + key + ' button');\n",
              "          quickchartButtonEl.disabled = true;  // To prevent multiple clicks.\n",
              "          quickchartButtonEl.classList.add('colab-df-spinner');\n",
              "          try {\n",
              "            const charts = await google.colab.kernel.invokeFunction(\n",
              "                'suggestCharts', [key], {});\n",
              "          } catch (error) {\n",
              "            console.error('Error during call to suggestCharts:', error);\n",
              "          }\n",
              "          quickchartButtonEl.classList.remove('colab-df-spinner');\n",
              "          quickchartButtonEl.classList.add('colab-df-quickchart-complete');\n",
              "        }\n",
              "        (() => {\n",
              "          let quickchartButtonEl =\n",
              "            document.querySelector('#df-fb67f2b1-af27-4876-ad90-b510a5e2f800 button');\n",
              "          quickchartButtonEl.style.display =\n",
              "            google.colab.kernel.accessAllowed ? 'block' : 'none';\n",
              "        })();\n",
              "      </script>\n",
              "    </div>\n",
              "\n",
              "  <div id=\"id_dbb08cc2-f6ec-4746-b0ce-bd8faa2311bd\">\n",
              "    <style>\n",
              "      .colab-df-generate {\n",
              "        background-color: #E8F0FE;\n",
              "        border: none;\n",
              "        border-radius: 50%;\n",
              "        cursor: pointer;\n",
              "        display: none;\n",
              "        fill: #1967D2;\n",
              "        height: 32px;\n",
              "        padding: 0 0 0 0;\n",
              "        width: 32px;\n",
              "      }\n",
              "\n",
              "      .colab-df-generate:hover {\n",
              "        background-color: #E2EBFA;\n",
              "        box-shadow: 0px 1px 2px rgba(60, 64, 67, 0.3), 0px 1px 3px 1px rgba(60, 64, 67, 0.15);\n",
              "        fill: #174EA6;\n",
              "      }\n",
              "\n",
              "      [theme=dark] .colab-df-generate {\n",
              "        background-color: #3B4455;\n",
              "        fill: #D2E3FC;\n",
              "      }\n",
              "\n",
              "      [theme=dark] .colab-df-generate:hover {\n",
              "        background-color: #434B5C;\n",
              "        box-shadow: 0px 1px 3px 1px rgba(0, 0, 0, 0.15);\n",
              "        filter: drop-shadow(0px 1px 2px rgba(0, 0, 0, 0.3));\n",
              "        fill: #FFFFFF;\n",
              "      }\n",
              "    </style>\n",
              "    <button class=\"colab-df-generate\" onclick=\"generateWithVariable('history2_df')\"\n",
              "            title=\"Generate code using this dataframe.\"\n",
              "            style=\"display:none;\">\n",
              "\n",
              "  <svg xmlns=\"http://www.w3.org/2000/svg\" height=\"24px\"viewBox=\"0 0 24 24\"\n",
              "       width=\"24px\">\n",
              "    <path d=\"M7,19H8.4L18.45,9,17,7.55,7,17.6ZM5,21V16.75L18.45,3.32a2,2,0,0,1,2.83,0l1.4,1.43a1.91,1.91,0,0,1,.58,1.4,1.91,1.91,0,0,1-.58,1.4L9.25,21ZM18.45,9,17,7.55Zm-12,3A5.31,5.31,0,0,0,4.9,8.1,5.31,5.31,0,0,0,1,6.5,5.31,5.31,0,0,0,4.9,4.9,5.31,5.31,0,0,0,6.5,1,5.31,5.31,0,0,0,8.1,4.9,5.31,5.31,0,0,0,12,6.5,5.46,5.46,0,0,0,6.5,12Z\"/>\n",
              "  </svg>\n",
              "    </button>\n",
              "    <script>\n",
              "      (() => {\n",
              "      const buttonEl =\n",
              "        document.querySelector('#id_dbb08cc2-f6ec-4746-b0ce-bd8faa2311bd button.colab-df-generate');\n",
              "      buttonEl.style.display =\n",
              "        google.colab.kernel.accessAllowed ? 'block' : 'none';\n",
              "\n",
              "      buttonEl.onclick = () => {\n",
              "        google.colab.notebook.generateWithVariable('history2_df');\n",
              "      }\n",
              "      })();\n",
              "    </script>\n",
              "  </div>\n",
              "\n",
              "    </div>\n",
              "  </div>\n"
            ],
            "application/vnd.google.colaboratory.intrinsic+json": {
              "type": "dataframe",
              "variable_name": "history2_df",
              "summary": "{\n  \"name\": \"history2_df\",\n  \"rows\": 100,\n  \"fields\": [\n    {\n      \"column\": \"binary_accuracy\",\n      \"properties\": {\n        \"dtype\": \"number\",\n        \"std\": 0.0017105459517764562,\n        \"min\": 0.9850000143051147,\n        \"max\": 0.9993749856948853,\n        \"num_unique_values\": 8,\n        \"samples\": [\n          0.993125021457672,\n          0.9975000023841858,\n          0.9850000143051147\n        ],\n        \"semantic_type\": \"\",\n        \"description\": \"\"\n      }\n    },\n    {\n      \"column\": \"loss\",\n      \"properties\": {\n        \"dtype\": \"number\",\n        \"std\": 0.02348098485984982,\n        \"min\": 0.0141460336744785,\n        \"max\": 0.1506357640028,\n        \"num_unique_values\": 100,\n        \"samples\": [\n          0.0157436653971672,\n          0.0207444783300161,\n          0.0174734536558389\n        ],\n        \"semantic_type\": \"\",\n        \"description\": \"\"\n      }\n    },\n    {\n      \"column\": \"val_binary_accuracy\",\n      \"properties\": {\n        \"dtype\": \"number\",\n        \"std\": 0.002699019882795216,\n        \"min\": 0.977500021457672,\n        \"max\": 1.0,\n        \"num_unique_values\": 5,\n        \"samples\": [\n          0.987500011920929,\n          1.0,\n          0.9925000071525574\n        ],\n        \"semantic_type\": \"\",\n        \"description\": \"\"\n      }\n    },\n    {\n      \"column\": \"val_loss\",\n      \"properties\": {\n        \"dtype\": \"number\",\n        \"std\": 0.03758716137181274,\n        \"min\": 0.0162733104079961,\n        \"max\": 0.2490562796592712,\n        \"num_unique_values\": 100,\n        \"samples\": [\n          0.0184651501476764,\n          0.0253096669912338,\n          0.0208383183926343\n        ],\n        \"semantic_type\": \"\",\n        \"description\": \"\"\n      }\n    }\n  ]\n}"
            }
          },
          "metadata": {},
          "execution_count": 67
        }
      ],
      "source": [
        "history2_df"
      ]
    },
    {
      "cell_type": "markdown",
      "metadata": {
        "id": "szXe-68i2W-1"
      },
      "source": [
        "Dua catatan yang paling sering diperhatikan adalah `loss` *(training loss)* dan juga `val_loss` *(validation loss)*. Bahkan, seringkali kedua nilai ini dibuat gambar plotnya (terhadap *epoch*), untuk menganalisis bagaimana proses *training* model."
      ]
    },
    {
      "cell_type": "code",
      "execution_count": 68,
      "metadata": {
        "id": "sZpK8w9g2W-1",
        "outputId": "4e1df56f-43bd-4c97-e564-2d818efed002",
        "colab": {
          "base_uri": "https://localhost:8080/",
          "height": 449
        }
      },
      "outputs": [
        {
          "output_type": "display_data",
          "data": {
            "text/plain": [
              "<Figure size 640x480 with 1 Axes>"
            ],
            "image/png": "[encoded data removed]"
          },
          "metadata": {}
        }
      ],
      "source": [
        "plt.plot(history2_df[\"loss\"], label = \"training loss\")\n",
        "plt.plot(history2_df[\"val_loss\"], label = \"validation loss\")\n",
        "plt.xlabel(\"epoch\")\n",
        "plt.legend()\n",
        "plt.show()"
      ]
    },
    {
      "cell_type": "markdown",
      "metadata": {
        "id": "UEchp-eo2W-1"
      },
      "source": [
        "Proses *training* tenryata berjalan dengan sangat baik! Kali ini, baik *training loss* maupun *validation loss* turun secara drastis dan terus menuju nol.\n",
        "\n",
        "Biasanya, walaupun *training loss* tidak mungkin naik, terkadang *validation loss* naik turun, yang bisa jadi pertanda *overfitting*."
      ]
    },
    {
      "cell_type": "markdown",
      "metadata": {
        "id": "KIjT74S22W-1"
      },
      "source": [
        "## Menggunakan model"
      ]
    },
    {
      "cell_type": "markdown",
      "metadata": {
        "id": "CUWxttcm2W-1"
      },
      "source": [
        "Seperti di scikit-learn, panggil `.predict()` untuk melakukan prediksi"
      ]
    },
    {
      "cell_type": "code",
      "execution_count": 69,
      "metadata": {
        "id": "nv4z8N4E2W-1",
        "outputId": "051a765a-098c-4910-dc12-1571273ce13a",
        "colab": {
          "base_uri": "https://localhost:8080/"
        }
      },
      "outputs": [
        {
          "output_type": "stream",
          "name": "stdout",
          "text": [
            "\u001b[1m63/63\u001b[0m \u001b[32m━━━━━━━━━━━━━━━━━━━━\u001b[0m\u001b[37m\u001b[0m \u001b[1m0s\u001b[0m 2ms/step  \n"
          ]
        }
      ],
      "source": [
        "predictions2 = model2.predict(inputs)"
      ]
    },
    {
      "cell_type": "markdown",
      "metadata": {
        "id": "V8TpW69z2W-1"
      },
      "source": [
        "Ada sedikit *progress bar*, karena proses prediksi sebenarnya adalah *forward pass*. Kita bisa matikan *progress bar* dengan `verbose=False`"
      ]
    },
    {
      "cell_type": "code",
      "execution_count": 70,
      "metadata": {
        "id": "JOEQyt982W-1"
      },
      "outputs": [],
      "source": [
        "predictions2 = model2.predict(inputs, verbose=False)"
      ]
    },
    {
      "cell_type": "code",
      "execution_count": 71,
      "metadata": {
        "id": "70tIZ3Bl2W-1",
        "outputId": "d1af338e-b0ec-4f3f-df43-21d588593680",
        "colab": {
          "base_uri": "https://localhost:8080/"
        }
      },
      "outputs": [
        {
          "output_type": "stream",
          "name": "stdout",
          "text": [
            "[[2.0281430e-03]\n",
            " [6.6396926e-04]\n",
            " [3.5774685e-04]\n",
            " ...\n",
            " [9.9074566e-01]\n",
            " [9.9079442e-01]\n",
            " [9.8560268e-01]]\n"
          ]
        }
      ],
      "source": [
        "print(predictions2)"
      ]
    },
    {
      "cell_type": "code",
      "execution_count": 72,
      "metadata": {
        "id": "bt0SYiDi2W-1",
        "outputId": "54cfd024-c075-44bd-9544-472656fe8124",
        "colab": {
          "base_uri": "https://localhost:8080/",
          "height": 430
        }
      },
      "outputs": [
        {
          "output_type": "display_data",
          "data": {
            "text/plain": [
              "<Figure size 640x480 with 1 Axes>"
            ],
            "image/png": "[encoded data removed]"
          },
          "metadata": {}
        }
      ],
      "source": [
        "plt.scatter(inputs[:, 0], inputs[:, 1], c=predictions2[:, 0] > 0.5)\n",
        "plt.show()"
      ]
    },
    {
      "cell_type": "markdown",
      "metadata": {
        "id": "00_Idn7w2W-1"
      },
      "source": [
        "## Menyimpan keseluruhan model"
      ]
    },
    {
      "cell_type": "markdown",
      "metadata": {
        "id": "83a0Ar2f2W-1"
      },
      "source": [
        "Perintahnya adalah `.save(path_tempat_penyimpanan)` dengan *file format* `.keras`"
      ]
    },
    {
      "cell_type": "code",
      "execution_count": 73,
      "metadata": {
        "id": "4qmH6Va_2W-2"
      },
      "outputs": [],
      "source": [
        "model2.save(\"./keras_sequential_model2.keras\")"
      ]
    },
    {
      "cell_type": "markdown",
      "metadata": {
        "id": "1h6WCPNI2W-2"
      },
      "source": [
        "Kita bisa *load* kembali model tersebut:"
      ]
    },
    {
      "cell_type": "code",
      "execution_count": 74,
      "metadata": {
        "id": "JzvsarZr2W-2"
      },
      "outputs": [],
      "source": [
        "model3 = keras.models.load_model(\"keras_sequential_model2.keras\")"
      ]
    },
    {
      "cell_type": "markdown",
      "metadata": {
        "id": "atOPidTf2W-2"
      },
      "source": [
        "Hasil prediksinya akan sama (karena modelnya memang sama):"
      ]
    },
    {
      "cell_type": "code",
      "execution_count": 76,
      "metadata": {
        "id": "F_RBJPcQ2W-2",
        "outputId": "a22c289d-6ed0-4173-8678-2aa741757a01",
        "colab": {
          "base_uri": "https://localhost:8080/"
        }
      },
      "outputs": [
        {
          "output_type": "stream",
          "name": "stdout",
          "text": [
            "\u001b[1m63/63\u001b[0m \u001b[32m━━━━━━━━━━━━━━━━━━━━\u001b[0m\u001b[37m\u001b[0m \u001b[1m0s\u001b[0m 2ms/step\n"
          ]
        }
      ],
      "source": [
        "predictions3 = model3.predict(inputs)"
      ]
    },
    {
      "cell_type": "code",
      "execution_count": 77,
      "metadata": {
        "id": "U1oeY05f2W-2",
        "outputId": "134fc07d-ecc3-4cd5-fc6e-fd06d1859cef",
        "colab": {
          "base_uri": "https://localhost:8080/"
        }
      },
      "outputs": [
        {
          "output_type": "execute_result",
          "data": {
            "text/plain": [
              "True"
            ]
          },
          "metadata": {},
          "execution_count": 77
        }
      ],
      "source": [
        "np.array_equal(predictions2, predictions3)"
      ]
    },
    {
      "cell_type": "markdown",
      "metadata": {
        "id": "Lqkkc9V12W-2"
      },
      "source": [
        "## Menyimpan parameter model (saja)"
      ]
    },
    {
      "cell_type": "markdown",
      "metadata": {
        "id": "wdfg8OWk2W-2"
      },
      "source": [
        "Daripada menyimpan keseluruhan model, kita bisa menyimpan *weights* atau parameternya saja, dengan perintah `.save_weights(path_tempat_penyimpanan)` dan *file format* `.weights.h5`"
      ]
    },
    {
      "cell_type": "code",
      "execution_count": 78,
      "metadata": {
        "id": "sZYcMoXw2W-2"
      },
      "outputs": [],
      "source": [
        "model2.save_weights(\"keras_sequential_model2.weights.h5\")"
      ]
    },
    {
      "cell_type": "markdown",
      "metadata": {
        "id": "BcbUbIPa2W-2"
      },
      "source": [
        "Untuk *load* kembali, kita perlu menyusun *layer* model terlebih dahulu, sama persis dengan susunan yang aslinya:"
      ]
    },
    {
      "cell_type": "code",
      "execution_count": 79,
      "metadata": {
        "id": "s3ivH9on2W-3",
        "colab": {
          "base_uri": "https://localhost:8080/"
        },
        "outputId": "4c966c63-462c-4bd2-8e9b-a378ee73e133"
      },
      "outputs": [
        {
          "output_type": "stream",
          "name": "stderr",
          "text": [
            "/usr/local/lib/python3.11/dist-packages/keras/src/layers/core/input_layer.py:27: UserWarning: Argument `input_shape` is deprecated. Use `shape` instead.\n",
            "  warnings.warn(\n"
          ]
        }
      ],
      "source": [
        "model4 = keras.Sequential(\n",
        "    [\n",
        "        keras.layers.InputLayer(input_shape = (2,)),\n",
        "        keras.layers.Dense(units = 1, activation = keras.activations.sigmoid)\n",
        "    ]\n",
        ")"
      ]
    },
    {
      "cell_type": "markdown",
      "metadata": {
        "id": "Py9jkJVq2W-3"
      },
      "source": [
        "Barulah kita gunakan perintah `.load_weights(path_tempat_penyimpanan)`"
      ]
    },
    {
      "cell_type": "code",
      "execution_count": 80,
      "metadata": {
        "id": "nyWh-ZMa2W-3"
      },
      "outputs": [],
      "source": [
        "model4.load_weights(\"./keras_sequential_model2.weights.h5\")"
      ]
    },
    {
      "cell_type": "markdown",
      "metadata": {
        "id": "i9ISD2UZ2W-3"
      },
      "source": [
        "Lagi-lagi, hasil prediksinya akan sama:"
      ]
    },
    {
      "cell_type": "code",
      "execution_count": 81,
      "metadata": {
        "id": "-foV70t-2W-3",
        "outputId": "9dd3b459-56a2-4c3a-a9c1-7ddbb5dd7356",
        "colab": {
          "base_uri": "https://localhost:8080/"
        }
      },
      "outputs": [
        {
          "output_type": "stream",
          "name": "stdout",
          "text": [
            "\u001b[1m63/63\u001b[0m \u001b[32m━━━━━━━━━━━━━━━━━━━━\u001b[0m\u001b[37m\u001b[0m \u001b[1m0s\u001b[0m 2ms/step  \n"
          ]
        }
      ],
      "source": [
        "predictions4 = model4.predict(inputs)"
      ]
    },
    {
      "cell_type": "code",
      "execution_count": 82,
      "metadata": {
        "id": "tfW-_KPI2W-3",
        "outputId": "a059ca12-e6da-4f79-c598-f4e434de6420",
        "colab": {
          "base_uri": "https://localhost:8080/"
        }
      },
      "outputs": [
        {
          "output_type": "execute_result",
          "data": {
            "text/plain": [
              "True"
            ]
          },
          "metadata": {},
          "execution_count": 82
        }
      ],
      "source": [
        "np.array_equal(predictions2, predictions4)"
      ]
    },
    {
      "cell_type": "markdown",
      "metadata": {
        "id": "SWa-Wild2W-3"
      },
      "source": [
        "Perhatikan bahwa kita belum memanggil `model4.compile`, artinya kita belum memasang *hyperparameter*. Meskipun demikian, kita masih bisa melakukan prediksi, karena proses prediksi hanyalah *forward pass*, yang hanya membutuhkan parameter *(weights and biases)*, yang memang sudah di-*load*."
      ]
    },
    {
      "cell_type": "markdown",
      "metadata": {
        "id": "xA2DoQ_G2W-3"
      },
      "source": [
        "Setelah melakukan `model4.compile`, dengan *hyperparameter* yang bahkan tidak harus sama dengan yang aslinya, kita bisa melanjutkan proses *training* kalau mau."
      ]
    },
    {
      "cell_type": "markdown",
      "metadata": {
        "id": "CQP0jF1V2W-3"
      },
      "source": [
        "Mengapa tidak *save* keseluruhan model saja? Selain lebih hemat memori, contoh kasusnya, kita ingin menyimpan *progress* dari *training* model, yang sebenarnya susunan *layer* nya kita ketahui dengan pasti, seperti contoh `model4` di atas."
      ]
    },
    {
      "cell_type": "markdown",
      "metadata": {
        "id": "JbMjeQ5F2W-3"
      },
      "source": [
        "# *(Pengayaan)* Daftar pilihan *hyperparameter* di Keras"
      ]
    },
    {
      "cell_type": "markdown",
      "metadata": {
        "id": "sbYhMpbn2W-4"
      },
      "source": [
        "## Pilihan fungsi aktivasi"
      ]
    },
    {
      "cell_type": "markdown",
      "metadata": {
        "id": "6N2JavYL2W-4"
      },
      "source": [
        "Umum digunakan\n",
        "\n",
        "- Linier (identitas): `keras.activations.linear`\n",
        "\n",
        "- Sigmoid: `keras.activations.sigmoid`\n",
        "\n",
        "- ReLU: `keras.activations.relu`\n",
        "\n",
        "- *(Soft)* tanh: `keras.activations.tanh`\n",
        "\n",
        "- Softmax: `keras.activations.softmax`"
      ]
    },
    {
      "cell_type": "markdown",
      "metadata": {
        "id": "T1kvb6L52W-4"
      },
      "source": [
        "Lainnya\n",
        "\n",
        "- Relu6: `keras.activations.relu6`\n",
        "\n",
        "    $$\\Phi(x) = \\min \\{ \\text{ReLU}(x), 6 \\}$$\n",
        "\n",
        "- Leaky ReLU: `keras.activations.leaky_relu`\n",
        "\n",
        "    bisa dipasang *hyperparameter* $\\alpha \\ge 0$: `negative_slope`\n",
        "\n",
        "    $$\\Phi(x) = \\max \\{x, \\alpha x\\}$$\n",
        "\n",
        "- ELU *(Exponential Linear Unit):* `keras.activations.elu`\n",
        "\n",
        "    bisa dipasang *hyperparameter* $\\alpha \\ge 0$: `alpha`\n",
        "\n",
        "    $$\n",
        "    \\Phi(x) = \\begin{cases}\n",
        "        x & x > 0 \\\\\n",
        "        \\alpha (e^x - 1) & \\text{otherwise}\n",
        "    \\end{cases}\n",
        "    $$\n",
        "\n",
        "- Softplus: `keras.activations.softplus`\n",
        "\n",
        "    $$\\Phi(x) = \\ln (e^x + 1)$$\n",
        "\n",
        "- Softsign: `keras.activations.softsign`\n",
        "\n",
        "    $$\\Phi(x) = \\frac{x}{|x| + 1}$$\n",
        "\n",
        "- Mish: `keras.activations.mish`\n",
        "\n",
        "    $$\\Phi(x) = x \\tanh (\\text{softplus} (x))$$\n",
        "\n",
        "- Exponential: `keras.activations.exponential`\n",
        "\n",
        "- SELU *(Scaled Exponential Linear Unit):* `keras.activations.selu`\n",
        "\n",
        "- GELU *(Gaussian error linear unit):* `keras.activations.gelu`\n",
        "\n",
        "- Swish / Silu: `keras.activatins.silu`\n",
        "\n",
        "- Hard Silu: `keras.activations.hard_silu`\n",
        "\n",
        "- Hard sigmoid: `keras.activations.hard_sigmoid`\n",
        "\n",
        "- Log softmax: `keras.activations.log_softmax`"
      ]
    },
    {
      "cell_type": "markdown",
      "metadata": {
        "id": "5fKcxkN62W-4"
      },
      "source": [
        "Sumber: <https://keras.io/api/layers/activations/>"
      ]
    },
    {
      "cell_type": "markdown",
      "metadata": {
        "id": "JTGkRH8c2W-4"
      },
      "source": [
        "## Pilihan *optimizer*"
      ]
    },
    {
      "cell_type": "markdown",
      "metadata": {
        "id": "qXngboEq2W-4"
      },
      "source": [
        "Umum digunakan\n",
        "\n",
        "- SGD: `keras.optimizers.SGD`\n",
        "\n",
        "- Adam: `keras.optimizers.Adam` (saat ini dianggap *optimizer* terbaik)\n",
        "\n",
        "- RMSprop: `keras.optimizers.RMSprop`\n",
        "\n",
        "- Adagrad: `keras.optimizers.Adagrad`"
      ]
    },
    {
      "cell_type": "markdown",
      "metadata": {
        "id": "zLiiF65u2W-4"
      },
      "source": [
        "Lainnya\n",
        "\n",
        "- AdamW: `keras.optimizers.AdamW`\n",
        "\n",
        "- Adadelta: `keras.optimizers.Adadelta`\n",
        "\n",
        "- Adamax: `keras.optimizers.Adamax`\n",
        "\n",
        "- Adafactor: `keras.optimizers.Adafactor`\n",
        "\n",
        "- Nadam: `keras.optimizers.Nadam`\n",
        "\n",
        "- Ftrl: `keras.optimizers.Ftrl`\n",
        "\n",
        "- Lion: `keras.optimizers.Lion`\n",
        "\n",
        "- Loss Scale Optimizer: `keras.optimizers.LossScaleOptimizer`"
      ]
    },
    {
      "cell_type": "markdown",
      "metadata": {
        "id": "yCSJOp_G2W-4"
      },
      "source": [
        "Kecuali *Loss Scale Optimizer*, semua *optimizer* bisa dipasang *learning rate*. Contohnya seperti berikut:\n",
        "```python\n",
        "keras.optimizers.SGD(learning_rate=0.01)\n",
        "```"
      ]
    },
    {
      "cell_type": "markdown",
      "metadata": {
        "id": "vYwglPMK2W-4"
      },
      "source": [
        "Sumber: <https://keras.io/api/optimizers/>"
      ]
    },
    {
      "cell_type": "markdown",
      "metadata": {
        "id": "M5k4YL3x2W-4"
      },
      "source": [
        "## Pilihan *loss function*"
      ]
    },
    {
      "cell_type": "markdown",
      "metadata": {
        "id": "LKWWYwHm2W-4"
      },
      "source": [
        "Umum digunakan\n",
        "\n",
        "- Binary cross-entropy (untuk klasifikasi biner)\n",
        "\n",
        "    *class*: `keras.losses.BinaryCrossentropy`\n",
        "\n",
        "    fungsi: `keras.losses.binary_crossentropy`\n",
        "\n",
        "- Categorial cross-entropy (untuk klasifikasi *multiclass*)\n",
        "\n",
        "    *class*: `keras.losses.CategoricalCrossentropy`\n",
        "\n",
        "    fungsi: `keras.losses.categorical_crossentropy`\n",
        "\n",
        "- MSE / mean squared error (untuk regresi)\n",
        "\n",
        "    *class*: `keras.losses.MeanSquaredError`\n",
        "\n",
        "    fungsi: `keras.losses.mean_squared_error`"
      ]
    },
    {
      "cell_type": "markdown",
      "metadata": {
        "id": "Q-KKa7HI2W-4"
      },
      "source": [
        "Lainnya, untuk klasifikasi\n",
        "\n",
        "- Sparse categorical cross-entropy\n",
        "\n",
        "    *class*: `keras.losses.SparseCategoricalCrossentropy`\n",
        "\n",
        "    fungsi: `keras.losses.spare_categorical_crossentropy`\n",
        "\n",
        "- Poisson loss\n",
        "\n",
        "    *class*: `keras.losses.Poisson`\n",
        "\n",
        "    fungsi: `keras.losses.poisson`\n",
        "\n",
        "- Kullback-Leibler divergence loss\n",
        "\n",
        "    *class*: `keras.losses.KLDivergence`\n",
        "\n",
        "    fungsi: `keras.losses.kl_divergence`"
      ]
    },
    {
      "cell_type": "markdown",
      "metadata": {
        "id": "bIIFkhG32W-4"
      },
      "source": [
        "Lainnya, untuk regresi\n",
        "\n",
        "- MAE / mean absolute error\n",
        "\n",
        "    *class*: `keras.losses.MeanAbsoluteError`\n",
        "\n",
        "    fungsi: `keras.losses.mean_absolute_error`\n",
        "\n",
        "- Mean absolute percentage error\n",
        "\n",
        "    *class*: `keras.losses.MeanAbsolutePercentageError`\n",
        "\n",
        "    fungsi: `keras.losses.mean_absolute_percentage_error`\n",
        "\n",
        "- Mean squared logarithmic error\n",
        "\n",
        "    *class*: `keras.losses.MeanSquaredLogarithmicError`\n",
        "\n",
        "    fungsi: `keras.losses.mean_squared_logarithmic_error`\n",
        "\n",
        "- Cosine similarity\n",
        "\n",
        "    *class*: `keras.losses.CosineSimilarity`\n",
        "\n",
        "    fungsi: `keras.losses.cosine_similarity`\n",
        "\n",
        "- Huber loss\n",
        "\n",
        "    *class*: `keras.losses.Huber`\n",
        "\n",
        "    fungsi: `keras.losses.huber`\n",
        "\n",
        "- Log Cosh loss\n",
        "\n",
        "    *class*: `keras.losses.LogCosh`\n",
        "\n",
        "    fungsi: `keras.losses.log_cosh`"
      ]
    },
    {
      "cell_type": "markdown",
      "metadata": {
        "id": "744NOBKn2W-5"
      },
      "source": [
        "Sumber: <https://keras.io/api/losses/>"
      ]
    },
    {
      "cell_type": "markdown",
      "metadata": {
        "id": "mpCZRehB2W-5"
      },
      "source": [
        "## Beberapa pilihan metrik evaluasi"
      ]
    },
    {
      "cell_type": "markdown",
      "metadata": {
        "id": "N4icX2sE2W-5"
      },
      "source": [
        "Umum digunakan\n",
        "\n",
        "- Accuracy: `keras.metrics.Accuracy`\n",
        "\n",
        "- $R^2$: `keras.metrics.R2Score`\n",
        "\n",
        "- Binary accuracy: `keras.metrics.BinaryAccuracy`\n",
        "\n",
        "- Categorical accuracy: `keras.metrics.CategoricalAccuracy`"
      ]
    },
    {
      "cell_type": "markdown",
      "metadata": {
        "id": "risRa_fI2W-5"
      },
      "source": [
        "Lainnya, untuk klasifikasi *multiclass*\n",
        "\n",
        "- Sparse categorical accuracy: `keras.metrics.SpareCategoricalAccuracy`\n",
        "\n",
        "- Top K categorical accuracy: `keras.metrics.TopKCategoricalAccuracy`\n",
        "\n",
        "- Spare top K categorical accuracy: `keras.metrics.SpareTopKCategoricalAccuracy`"
      ]
    },
    {
      "cell_type": "markdown",
      "metadata": {
        "id": "Z_Qrj5rd2W-5"
      },
      "source": [
        "Lainnya, untuk klasifikasi biner atau True/False\n",
        "\n",
        "- AUC: `keras.metrics.AUC`\n",
        "\n",
        "- Precision: `keras.metrics.Precision`\n",
        "\n",
        "- Recall: `keras.metrics.Recall`\n",
        "\n",
        "- True Positives: `keras.metrics.TruePositives`\n",
        "\n",
        "- True Negatives: `keras.metrics.TrueNegatives`\n",
        "\n",
        "- False Positives: `keras.metrics.FalsePositives`\n",
        "\n",
        "- False Negatives: `keras.metrics.FalseNegatives`\n",
        "\n",
        "- Precision at recall: `keras.metrics.PrecisionAtRecall`\n",
        "\n",
        "- Recall at precision: `keras.metrics.RecallAtPrecision`\n",
        "\n",
        "- Sensitivity at specificity: `keras.metrics.SensitivityAtSpecificity`\n",
        "\n",
        "- Specificity at sensitivity: `keras.metrics.SpecificityAtSensitivity`\n",
        "\n",
        "- F-1 score: `keras.metrics.F1Score`\n",
        "\n",
        "- F-Beta score: `keras.metrics.FBetaScore`"
      ]
    },
    {
      "cell_type": "markdown",
      "metadata": {
        "id": "UDXqS5Ec2W-5"
      },
      "source": [
        "Semua pilihan *loss function* juga bisa digunakan sebagai metrik evaluasi."
      ]
    },
    {
      "cell_type": "markdown",
      "metadata": {
        "id": "Kumn5eHP2W-5"
      },
      "source": [
        "Sumber: <https://keras.io/api/metrics/>"
      ]
    },
    {
      "cell_type": "markdown",
      "metadata": {
        "id": "cBnDtvj_2W-5"
      },
      "source": [
        "# Referensi"
      ]
    },
    {
      "cell_type": "markdown",
      "metadata": {
        "id": "0veUP72c2W-5"
      },
      "source": [
        "Sumber gambar\n",
        "\n",
        "- Aggarwal, C. Charu. 2018. *Neural Networks and Deep Learning: A Textbook.* Edisi Pertama. Springer.\n",
        "\n",
        "- Goodfellow, Ian; Bengio, Yoshua; & Courville, Aaron. 2016. *Deep Learning*. MIT Press.\n",
        "\n",
        "Buku lainnya\n",
        "\n",
        "- Géron, Aurélien. 2019. *Hands-On Machine Learning with Scikit-Learn, Keras, and TensorFlow: Concepts, Tools, and Techniques to Build Intelligent Systems.* Edisi Kedua. O'Reilly Media.\n",
        "\n",
        "Internet\n",
        "\n",
        "- <https://www.tensorflow.org/api_docs/python/tf>\n",
        "\n",
        "- <https://keras.io/api/>"
      ]
    }
  ],
  "metadata": {
    "kernelspec": {
      "display_name": "Python 3",
      "language": "python",
      "name": "python3"
    },
    "language_info": {
      "codemirror_mode": {
        "name": "ipython",
        "version": 3
      },
      "file_extension": ".py",
      "mimetype": "text/x-python",
      "name": "python",
      "nbconvert_exporter": "python",
      "pygments_lexer": "ipython3",
      "version": "3.11.1"
    },
    "colab": {
      "provenance": [],
      "toc_visible": true
    }
  },
  "nbformat": 4,
  "nbformat_minor": 0
}