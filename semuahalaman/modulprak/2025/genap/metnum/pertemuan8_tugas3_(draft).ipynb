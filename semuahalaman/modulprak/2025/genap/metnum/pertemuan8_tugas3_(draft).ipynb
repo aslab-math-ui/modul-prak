{
  "cells": [
    {
      "cell_type": "markdown",
      "metadata": {
        "id": "lnBgosyl3fxu"
      },
      "source": [
        "---\n",
        "title: \"TUGAS 3 Praktikum Metode Numerik: Sistem Persamaan Linear\"\n",
        "subtitle: \"Assignment\"\n",
        "author:\n",
        "    - \"Laboratorium Komputasi Matematika\"\n",
        "    - \"Departemen Matematika FMIPA UI\"\n",
        "description: \"Online dan Offline di Departemen Matematika\"\n",
        "date: 05/17/2025\n",
        "page-navigation: true\n",
        "format: html\n",
        "execute:\n",
        " enabled: false\n",
        "---\n",
        "\n",
        "<style>\n",
        ".box-grid {\n",
        "    display: grid;\n",
        "    grid-template-columns: 1fr 1fr;\n",
        "    gap: 20px;\n",
        "    margin: 20px 0;\n",
        "}\n",
        "\n",
        ".box-card {\n",
        "    padding: 15px;\n",
        "    border-radius: 10px;\n",
        "    box-shadow: 0 4px 8px rgba(0,0,0,0.1);\n",
        "    transition: transform 0.2s;\n",
        "    background: white;\n",
        "    text-align: center;\n",
        "}\n",
        "\n",
        ".box-card:hover {\n",
        "    transform: translateY(-5px);\n",
        "}\n",
        "\n",
        ".btn {\n",
        "    display: inline-block;\n",
        "    padding: 12px 24px;\n",
        "    background: linear-gradient(45deg, #4CAF50, #45a049);\n",
        "    color: white !important;\n",
        "    text-decoration: none;\n",
        "    border-radius: 25px;\n",
        "    font-weight: bold;\n",
        "    transition: all 0.3s;\n",
        "    border: none;\n",
        "    cursor: pointer;\n",
        "}\n",
        "\n",
        ".btn:hover {\n",
        "    background: linear-gradient(45deg, #45a049, #4CAF50);\n",
        "    box-shadow: 0 4px 15px rgba(0,0,0,0.2);\n",
        "}\n",
        "</style>"
      ]
    },
    {
      "cell_type": "markdown",
      "metadata": {
        "id": "kiZaTRH33fxz"
      },
      "source": [
        "### Petunjuk Umum:"
      ]
    },
    {
      "cell_type": "markdown",
      "metadata": {
        "id": "0GVwdm8Y3fx0"
      },
      "source": [
        "1. Kerjakan secara Individu\n",
        "2. Kerjakan tugas ini menggunakan bahasa pemrograman Python dengan file format berupa interactive Python notebook (yaitu file berbentuk .ipynb BUKAN .py), yang bisa dibuat misalnya menggunakan Jupyter Notebook atau Google Colaboratory.\n",
        "3. **Harap sertakan penjelasan untuk setiap variabel yang digunakan dan setiap proses secara singkat** di samping potongan kode (dengan comment, ‘#'). Selain itu, **sertakan juga penjelasan program** (yang bisa mencakupi idenya apa, bagaimana cara eksekusi program, atau tentang algoritma program yang digunakan) **pada *cell* di sebelah (atas/bawah) program**.\n",
        "4. Format nama *file* untuk Tugas 3 ini adalah:\n",
        "\n",
        "    Nama Lengkap_NPM_Kelas SIAK_Tugas3PrakMetnum.ipynb\n",
        "\n",
        "    Contoh penamaan yang benar:\n",
        "\n",
        "    Luthfi Athallah Herdita Wiryaman_2206826980_Kelas G_Tugas3PrakMetnum.ipynb\n",
        "\n",
        "    Luthfi Athallah Herdita Wiryaman_2206826980_Kelas G_Tugas3PrakMetnum_revisi1.ipynb\n",
        "\n",
        "5. Pengumpulan tugas dilakukan ke Google Forms berikut ini, sesuai dengan kelas Anda di SIAK NG (link akan selalu sama untuk semua tugas praktikum metode numerik):\n",
        "- Kelas A: [https://forms.gle/3xguPQVR2HJGbi456](https://forms.gle/7WhpRfnXv1bvmmRb8)\n",
        "- Kelas B: [https://forms.gle/XfxJAUyAdwDLgMwj6](https://forms.gle/cCM65Q6esQbAzJzp6)\n",
        "- Kelas C: [https://forms.gle/ihiKuSjU65fpxEZ67](https://forms.gle/RDNKibWRkxh24BBa6)\n",
        "- Kelas D: [https://forms.gle/15BVmErcputb5NrX8](https://forms.gle/smY8ca8gDCgeSusw5)\n",
        "- Kelas E: [https://forms.gle/MydWb7kku6iyvdNNA](https://forms.gle/MRdEe2fYUUSzK5xYA)\n",
        "- Kelas F: [https://forms.gle/RuKXWpwQeu7Jbt5YA](https://forms.gle/sfTdcfZ4t8S9AKLn6)\n",
        "\n",
        "6. Tenggat waktu pengerjaan Tugas 3 ini adalah Jumat, 6 Juni 2025 pukul 23.59 WIB.\n",
        "Mohon manfaatkan waktu Anda dengan baik (seperti mencicil pengerjaan, bahkan sudah selesai dari jauh-jauh hari) agar mengumpulkan tugas sebelum deadline. Keterlambatan pengumpulan bisa dikenakan pengurangan nilai atau bahkan dianggap tidak mengumpulkan, tergantung kesepakatan dari dosen. Meskipun demikian, lebih baik terlambat mengumpulkan daripada tidak mengumpulkan sama sekali.\n",
        "\n",
        "7. Sesuai standar Universitas Indonesia, **plagiarisme dilarang keras** dan bisa menyebabkan nilai tugas praktikum **menjadi nol untuk semua pihak yang terlibat, tanpa peringatan apapun**.\n",
        "\n",
        "8. *Module* atau *package* Python yang boleh digunakan (di-import) untuk Tugas 3 ini hanyalah numpy, tabulate, matplotlib, dan sympy. Apabila Anda berniat ingin menggunakan module lain, harap konfirmasikan ke narahubung terlebih dahulu (bisa saja diperbolehkan).\n",
        "Narahubung untuk Tugas 3 Praktikum Metode Numerik adalah:\n",
        "    - 📞 Fasya (LINE: ifasyai)\n",
        "\n"
      ]
    },
    {
      "cell_type": "markdown",
      "metadata": {
        "id": "oijvfZmx3rAZ"
      },
      "source": [
        "### Sistem Persamaan Linier"
      ]
    },
    {
      "cell_type": "markdown",
      "metadata": {
        "id": "2Nod6Fw23unh"
      },
      "source": [
        "Bentuk umum dari suatu sistem persamaan linier (SPL) diberikan oleh :\n",
        "$$\\boldsymbol{Ax} = \\boldsymbol{b}$$\n",
        "\n",
        "Misalkan $a_{i,j}$ menyatakan nilai dari baris ke $i$ dan kolom ke $j$ pada $\\boldsymbol{A}$, dan $b_i$ menyatakan nilai dari baris ke $i$ pada $\\boldsymbol{b}$. Jika didefinisikan $a_{i,j}$ dan $b_i$ sebagai berikut:\n",
        "$$a_{i,j} = \\sum_{m = 1}^i \\frac{(k+1)^{n(i + j - 1)}}{i + j - 1}, \\quad i,j = 1,2,...,n\n",
        "$$\n",
        "\n",
        "$$\n",
        "b_i = \\frac{1}{(i+1)^2} (k+1)^{n(i + 1)}(\\ln((k+1)^{n(i + j - 1)}) - 1), \\quad i = 1,2,...,n\n",
        "$$\n",
        "\n",
        "dengan $k = \\text{NPM} \\mod 4$ dan $n$ adalah banyak persamaan pada sistem\\"
      ]
    },
    {
      "cell_type": "markdown",
      "metadata": {
        "id": "gkM-Bx8a3yNT"
      },
      "source": [
        "### Soal"
      ]
    },
    {
      "cell_type": "markdown",
      "metadata": {
        "id": "aZmlNWOJ30ja"
      },
      "source": [
        "Buatlah suatu program untuk menyelesaikan SPL tersebut secara iteratif menggunakan Gauss-Seidel dengan vektor tebakan awal adalah vektor 0. Input yang diterima program berupa :\n",
        "1. NPM (integer)\n",
        "2. Ukuran matriks (integer)\n",
        "3. Toleransi error (float)\n",
        "4. Batas iterasi (integer)\n",
        "\n",
        "Output program berupa matriks diperbesar yang diperoleh, serta tabel yang menampilkan hasil yang didapat setiap iterasi serta nilai error untuk setiap iterasi"
      ]
    },
    {
      "cell_type": "markdown",
      "metadata": {
        "id": "Z7V-caI4sfxg"
      },
      "source": [
        "### Bonus"
      ]
    },
    {
      "cell_type": "markdown",
      "metadata": {
        "id": "R1mXCIBLsjhB"
      },
      "source": [
        "Ketentuan berikut tidak harus dikerjakan, tetapi dapat menjadi nilai tambah\n",
        "\n",
        "Program Anda bisa berjalan berulang kali (dengan beberapa kali input dan output) sesuai permintaan user, tanpa harus berhenti dan di-*run* ulang secara manual terlebih dahulu."
      ]
    },
    {
      "cell_type": "markdown",
      "metadata": {
        "id": "Snbb72Uys1X8"
      },
      "source": [
        "### Contoh Output"
      ]
    },
    {
      "cell_type": "code",
      "execution_count": null,
      "metadata": {
        "colab": {
          "base_uri": "https://localhost:8080/"
        },
        "id": "wbfJtvxh63wu",
        "outputId": "e4ee2df0-0a33-4e63-d36f-b52fe3d3d818"
      },
      "outputs": [
        {
          "name": "stdout",
          "output_type": "stream",
          "text": [
            "Masukkan banyak variabel yang ingin diselesaikan dengan SPL: 3\n",
            "Masukkan NPM Anda:2206026867\n",
            "maka, nilai k yang digunakan = 3 \n",
            "\n",
            "\n",
            "Matriks diperbesar yang didapat adalah:\n",
            "[[6.40000000e+01 2.04800000e+03 8.73813333e+04 7.49339255e+03]\n",
            " [2.04800000e+03 8.73813333e+04 4.19430400e+06 3.34281638e+05]\n",
            " [8.73813333e+04 4.19430400e+06 2.14748365e+08 1.63950440e+07]]\n",
            "\n",
            "Akan digunakan metode Gauss-Seidel untuk menyelesaikan SPL\n",
            "Masukkan besar toleransi error untuk metode Gauss-Seidel: 10**-7\n",
            "Masukkan banyaknya iterasi maksimal untuk metode Gauss-Seidel: 100\n",
            "\n",
            "Tabel hasil iterasi Gauss Seidel dari matriks diperbesar tersebut adalah \n",
            "╒═══════════╤══════════╤═════════╤════════════╤════════════╕\n",
            "│  iterasi  │    x1    │   x2    │     x3     │   error    │\n",
            "╞═══════════╪══════════╪═════════╪════════════╪════════════╡\n",
            "│     0     │    0     │    0    │     0      │    nan     │\n",
            "│     1     │ 117.084  │ 1.08139 │ 0.00758282 │  117.084   │\n",
            "│     2     │ 72.1268  │ 1.7711  │ 0.0124051  │  44.9575   │\n",
            "│     3     │ 43.4719  │ 2.21123 │ 0.0154684  │  28.6549   │\n",
            "│     4     │ 25.2052  │ 2.49232 │ 0.0174113  │  18.2667   │\n",
            "│     5     │ 13.5579  │ 2.67205 │ 0.0186403  │  11.6473   │\n",
            "│     6     │ 6.12864  │ 2.78718 │ 0.0194146  │  7.42927   │\n",
            "│     7     │ 1.38723  │ 2.86114 │ 0.0198993  │  4.74141   │\n",
            "│     8     │ -1.64134 │ 2.90885 │ 0.0201997  │  3.02857   │\n",
            "│     9     │ -3.57835 │ 2.93983 │ 0.0203828  │  1.93701   │\n",
            "│    10     │ -4.81969 │ 2.96013 │ 0.0204914  │  1.24134   │\n",
            "│    11     │ -5.61762 │ 2.97363 │ 0.0205525  │  0.797922  │\n",
            "│    12     │ -6.13286 │ 2.98277 │ 0.0205837  │  0.515246  │\n",
            "│    13     │ -6.46786 │ 2.98912 │ 0.0205958  │  0.334995  │\n",
            "│    14     │ -6.68787 │ 2.9937  │  0.020596  │  0.220012  │\n",
            "│    15     │ -6.83449 │ 2.99712 │ 0.0205888  │  0.146619  │\n",
            "│    16     │ -6.93422 │ 2.99981 │ 0.0205769  │ 0.0997309  │\n",
            "│    17     │ -7.00395 │ 3.00201 │ 0.0205622  │ 0.0697331  │\n",
            "│    18     │ -7.05445 │ 3.0039  │ 0.0205459  │ 0.0505002  │\n",
            "│    19     │ -7.09258 │ 3.00558 │ 0.0205286  │ 0.0381289  │\n",
            "│    20     │ -7.12271 │ 3.00712 │ 0.0205109  │ 0.0301321  │\n",
            "│    21     │ -7.14764 │ 3.00855 │  0.020493  │ 0.0249248  │\n",
            "│    22     │ -7.16913 │ 3.00991 │ 0.0204752  │ 0.0214972  │\n",
            "│    23     │ -7.18834 │ 3.01122 │ 0.0204574  │ 0.0192057  │\n",
            "│    24     │ -7.20598 │ 3.01248 │ 0.0204399  │ 0.0176401  │\n",
            "│    25     │ -7.22252 │ 3.01371 │ 0.0204227  │ 0.0165391  │\n",
            "│    26     │ -7.23826 │ 3.01491 │ 0.0204057  │ 0.0157361  │\n",
            "│    27     │ -7.25338 │ 3.01608 │  0.020389  │  0.015125  │\n",
            "│    28     │ -7.26802 │ 3.01722 │ 0.0203727  │  0.014638  │\n",
            "│    29     │ -7.28225 │ 3.01834 │ 0.0203566  │ 0.0142319  │\n",
            "│    30     │ -7.29613 │ 3.01944 │ 0.0203408  │ 0.0138793  │\n",
            "│    31     │ -7.30969 │ 3.02051 │ 0.0203253  │ 0.0135626  │\n",
            "│    32     │ -7.32296 │ 3.02157 │ 0.0203101  │ 0.0132704  │\n",
            "│    33     │ -7.33596 │ 3.0226  │ 0.0202952  │ 0.0129957  │\n",
            "│    34     │ -7.34869 │ 3.02361 │ 0.0202806  │ 0.0127337  │\n",
            "│    35     │ -7.36117 │ 3.02461 │ 0.0202663  │ 0.0124815  │\n",
            "│    36     │ -7.37341 │ 3.02558 │ 0.0202522  │ 0.0122373  │\n",
            "│    37     │ -7.38541 │ 3.02654 │ 0.0202384  │ 0.0119996  │\n",
            "│    38     │ -7.39718 │ 3.02748 │ 0.0202249  │ 0.0117677  │\n",
            "│    39     │ -7.40872 │ 3.0284  │ 0.0202116  │ 0.0115411  │\n",
            "│    40     │ -7.42004 │ 3.0293  │ 0.0201986  │ 0.0113193  │\n",
            "│    41     │ -7.43114 │ 3.03019 │ 0.0201858  │ 0.0111021  │\n",
            "│    42     │ -7.44203 │ 3.03105 │ 0.0201733  │ 0.0108892  │\n",
            "│    43     │ -7.45271 │ 3.03191 │  0.020161  │ 0.0106806  │\n",
            "│    44     │ -7.46319 │ 3.03274 │ 0.0201489  │  0.010476  │\n",
            "│    45     │ -7.47346 │ 3.03356 │ 0.0201371  │ 0.0102754  │\n",
            "│    46     │ -7.48354 │ 3.03436 │ 0.0201255  │ 0.0100786  │\n",
            "│    47     │ -7.49343 │ 3.03515 │ 0.0201141  │ 0.00988566 │\n",
            "│    48     │ -7.50312 │ 3.03593 │  0.020103  │ 0.00969642 │\n",
            "│    49     │ -7.51263 │ 3.03668 │  0.020092  │ 0.0095108  │\n",
            "│    50     │ -7.52196 │ 3.03743 │ 0.0200813  │ 0.00932875 │\n",
            "│    51     │ -7.53111 │ 3.03816 │ 0.0200708  │ 0.00915018 │\n",
            "│    52     │ -7.54009 │ 3.03887 │ 0.0200604  │ 0.00897503 │\n",
            "│    53     │ -7.54889 │ 3.03958 │ 0.0200503  │ 0.00880323 │\n",
            "│    54     │ -7.55752 │ 3.04026 │ 0.0200404  │ 0.00863473 │\n",
            "│    55     │ -7.56599 │ 3.04094 │ 0.0200306  │ 0.00846945 │\n",
            "│    56     │ -7.5743  │ 3.0416  │ 0.0200211  │ 0.00830734 │\n",
            "│    57     │ -7.58245 │ 3.04225 │ 0.0200117  │ 0.00814832 │\n",
            "│    58     │ -7.59044 │ 3.04289 │ 0.0200025  │ 0.00799236 │\n",
            "│    59     │ -7.59828 │ 3.04351 │ 0.0199935  │ 0.00783937 │\n",
            "│    60     │ -7.60597 │ 3.04413 │ 0.0199846  │ 0.00768932 │\n",
            "│    61     │ -7.61351 │ 3.04473 │ 0.0199759  │ 0.00754214 │\n",
            "│    62     │ -7.62091 │ 3.04532 │ 0.0199674  │ 0.00739777 │\n",
            "│    63     │ -7.62817 │ 3.0459  │ 0.0199591  │ 0.00725617 │\n",
            "│    64     │ -7.63528 │ 3.04647 │ 0.0199509  │ 0.00711728 │\n",
            "│    65     │ -7.64227 │ 3.04702 │ 0.0199429  │ 0.00698105 │\n",
            "│    66     │ -7.64911 │ 3.04757 │  0.019935  │ 0.00684742 │\n",
            "│    67     │ -7.65583 │ 3.0481  │ 0.0199273  │ 0.00671636 │\n",
            "│    68     │ -7.66242 │ 3.04863 │ 0.0199197  │ 0.0065878  │\n",
            "│    69     │ -7.66888 │ 3.04914 │ 0.0199122  │ 0.0064617  │\n",
            "│    70     │ -7.67522 │ 3.04965 │ 0.0199049  │ 0.00633802 │\n",
            "│    71     │ -7.68143 │ 3.05015 │ 0.0198978  │ 0.0062167  │\n",
            "│    72     │ -7.68753 │ 3.05063 │ 0.0198908  │ 0.00609771 │\n",
            "│    73     │ -7.69351 │ 3.05111 │ 0.0198839  │ 0.00598099 │\n",
            "│    74     │ -7.69938 │ 3.05158 │ 0.0198771  │ 0.00586651 │\n",
            "│    75     │ -7.70513 │ 3.05204 │ 0.0198705  │ 0.00575422 │\n",
            "│    76     │ -7.71078 │ 3.05249 │  0.019864  │ 0.00564407 │\n",
            "│    77     │ -7.71631 │ 3.05293 │ 0.0198577  │ 0.00553604 │\n",
            "│    78     │ -7.72174 │ 3.05336 │ 0.0198514  │ 0.00543007 │\n",
            "│    79     │ -7.72707 │ 3.05379 │ 0.0198453  │ 0.00532614 │\n",
            "│    80     │ -7.73229 │ 3.0542  │ 0.0198393  │ 0.00522419 │\n",
            "│    81     │ -7.73742 │ 3.05461 │ 0.0198334  │ 0.00512419 │\n",
            "│    82     │ -7.74244 │ 3.05501 │ 0.0198276  │ 0.00502611 │\n",
            "│    83     │ -7.74737 │ 3.0554  │ 0.0198219  │ 0.00492991 │\n",
            "│    84     │ -7.75221 │ 3.05579 │ 0.0198164  │ 0.00483554 │\n",
            "│    85     │ -7.75695 │ 3.05617 │ 0.0198109  │ 0.00474298 │\n",
            "│    86     │ -7.7616  │ 3.05654 │ 0.0198055  │ 0.0046522  │\n",
            "│    87     │ -7.76617 │ 3.0569  │ 0.0198003  │ 0.00456315 │\n",
            "│    88     │ -7.77064 │ 3.05726 │ 0.0197951  │ 0.00447581 │\n",
            "│    89     │ -7.77503 │ 3.05761 │ 0.0197901  │ 0.00439013 │\n",
            "│    90     │ -7.77934 │ 3.05795 │ 0.0197851  │ 0.0043061  │\n",
            "│    91     │ -7.78356 │ 3.05829 │ 0.0197803  │ 0.00422368 │\n",
            "│    92     │ -7.78771 │ 3.05862 │ 0.0197755  │ 0.00414283 │\n",
            "│    93     │ -7.79177 │ 3.05894 │ 0.0197708  │ 0.00406354 │\n",
            "│    94     │ -7.79576 │ 3.05926 │ 0.0197663  │ 0.00398576 │\n",
            "│    95     │ -7.79966 │ 3.05957 │ 0.0197618  │ 0.00390946 │\n",
            "│    96     │ -7.8035  │ 3.05988 │ 0.0197573  │ 0.00383463 │\n",
            "│    97     │ -7.80726 │ 3.06018 │  0.019753  │ 0.00376123 │\n",
            "│    98     │ -7.81095 │ 3.06047 │ 0.0197488  │ 0.00368924 │\n",
            "│    99     │ -7.81457 │ 3.06076 │ 0.0197446  │ 0.00361862 │\n",
            "│    100    │ -7.81812 │ 3.06105 │ 0.0197405  │ 0.00354936 │\n",
            "╘═══════════╧══════════╧═════════╧════════════╧════════════╛\n",
            "Didapatkan nilai x1, x2, ...., xn =  [np.float64(-7.8181177629432455), np.float64(3.0610456632726963), np.float64(0.019740524872688004)] \n",
            "\n",
            "Apakah Anda ingin menggunakan program ini lagi? (y/n):n\n",
            "Terima kasih telah menggunakan program ini. (×-×)\n"
          ]
        }
      ],
      "source": [
        "program()"
      ]
    }
  ],
  "metadata": {
    "colab": {
      "provenance": []
    },
    "kernelspec": {
      "display_name": "Python 3",
      "name": "python3"
    },
    "language_info": {
      "codemirror_mode": {
        "name": "ipython",
        "version": 3
      },
      "file_extension": ".py",
      "mimetype": "text/x-python",
      "name": "python",
      "nbconvert_exporter": "python",
      "pygments_lexer": "ipython3",
      "version": "3.12.7"
    }
  },
  "nbformat": 4,
  "nbformat_minor": 0
}
