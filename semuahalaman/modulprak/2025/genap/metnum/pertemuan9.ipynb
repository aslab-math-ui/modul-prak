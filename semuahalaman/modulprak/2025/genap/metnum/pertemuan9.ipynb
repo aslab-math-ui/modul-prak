{
 "cells": [
  {
   "cell_type": "markdown",
   "metadata": {
    "id": "x-vXchUrnqOk"
   },
   "source": [
    "---\n",
    "title: \"(Pertemuan 9) Sistem Persamaan Linear Matriks: LU Factorization, Jacobi, Gauss-Seidel\"\n",
    "subtitle: \"LU Factorization method, Jacobi method, Gauss-Seidel method, SOR method\"\n",
    "author: \"Aslab Mata Kuliah Praktikum Metode Numerik\"\n",
    "description: \"Offline di Departemen Matematika\"\n",
    "date: 05/19/2025\n",
    "page-navigation: true\n",
    "format: html\n",
    "execute: \n",
    " enabled: false\n",
    "---\n",
    "\n",
    "<style>\n",
    ".box-grid {\n",
    "    display: grid;\n",
    "    grid-template-columns: 1fr 1fr;\n",
    "    gap: 20px;\n",
    "    margin: 20px 0;\n",
    "}\n",
    "\n",
    ".box-card {\n",
    "    padding: 15px;\n",
    "    border-radius: 10px;\n",
    "    box-shadow: 0 4px 8px rgba(0,0,0,0.1);\n",
    "    transition: transform 0.2s;\n",
    "    background: white;\n",
    "    text-align: center;\n",
    "}\n",
    "\n",
    ".box-card:hover {\n",
    "    transform: translateY(-5px);\n",
    "}\n",
    "\n",
    ".btn {\n",
    "    display: inline-block;\n",
    "    padding: 12px 24px;\n",
    "    background: linear-gradient(45deg, #4CAF50, #45a049);\n",
    "    color: white !important;\n",
    "    text-decoration: none;\n",
    "    border-radius: 25px;\n",
    "    font-weight: bold;\n",
    "    transition: all 0.3s;\n",
    "    border: none;\n",
    "    cursor: pointer;\n",
    "}\n",
    "\n",
    ".btn:hover {\n",
    "    background: linear-gradient(45deg, #45a049, #4CAF50);\n",
    "    box-shadow: 0 4px 15px rgba(0,0,0,0.2);\n",
    "}\n",
    "</style>"
   ]
  },
  {
   "cell_type": "markdown",
   "metadata": {},
   "source": [
    "Kembali ke [Metode Numerik](./metnum2025genap.qmd)"
   ]
  },
  {
   "cell_type": "markdown",
   "metadata": {},
   "source": [
    "Outline:\n",
    "\n",
    "1. (**Pengayaan**) Faktorisasi LU\n",
    "\n",
    "2. (**Pengayaan**) Metode Jacobi, dalam bentuk matriks (teoritis)\n",
    "\n",
    "3. (**Pengayaan**) Metode Gauss-Seidel, dalam bentuk matriks (teoritis)\n",
    "\n",
    "4. (**Pengayaan**) Metode SOR, dalam bentuk matriks (teoritis)\n",
    "\n",
    "5. Diskusi\n",
    "\n",
    "Praktikum Metode Numerik PTA 2024-2025 <br>\n",
    "Departemen Matematika FMIPA Universitas Indonesia\n",
    "\n",
    "<hr/>"
   ]
  },
  {
   "cell_type": "markdown",
   "metadata": {
    "id": "tmOlapBLx7mN"
   },
   "source": [
    "Modul praktikum ini diawali dengan pembahasan tentang beberapa jenis norm vektor. Kemudian, metode yang dibahas di modul kali ini, utamanya hanyalah \"versi praktis\" untuk algoritma metode Jacobi, metode Gauss-Seidel, dan metode relaksasi (SOR). Metode Gauss-Seidel adalah perbaikan dari metode Jacobi, dan metode SOR adalah perbaikan dari metode Gauss-Seidel. Istilah \"versi praktis\" di sini maksudnya agar dibedakan dari bentuk matriks $T\\textbf{x}+\\textbf{c}$ (sebagai materi pengayaan) untuk metode-metode tersebut.\n",
    "\n",
    "Inti sari dari ketiga metode tersebut adalah perumuman dari metode *fixed-point* (dari bab 2, metode numerik untuk *root-finding*), yang tadinya dilakukan untuk satu variabel/persamaan saja, menjadi dilakukan untuk beberapa variabel/persamaan sekaligus (yang kebetulan membentuk SPL). Langkah paling pertama dalam mempersiapkan penyelesaian SPL dengan metode-metode tersebut adalah seperti melakukan pindah ruas ke sebelah kanan untuk semua suku kecuali variabel pada diagonal, mirip dengan ide substitusi balik. Langkah ini tersirat ketika menuliskan bentuk umum metode-metode tersebut dalam bentuk sumasi. Selain itu, seperti metode *fixed-point*, diperlukan tebakan awal untuk nilai tiap variabel.\n",
    "\n",
    "Untuk perumuman metode *fixed-point* yang lebih umum lagi, yaitu untuk sistem persamaan yang tidak harus linier (tidak harus berbentuk SPL), dibahas di bab 10.1 di buku Burden. Bab 8, 9, dan 10 di buku Burden dibahas di mata kuliah pilihan program studi S1 Matematika yang bernama \"Matematika Numerik\", dengan prasyarat Metode Numerik.\n",
    "\n",
    "Pembahasan teoritis di kelas (perkuliahan) Metode Numerik juga mencakup pembahasan metode Jacobi, metode Gauss-Seidel, dan metode SOR dalam bentuk matriks, dengan bentuk umum $T\\textbf{x}+\\textbf{c}$. Bentuk matriks untuk metode-metode tersebut tidak menjadi fokus di praktikum (bahkan di buku Burden, akhir halaman 452, juga disebut bahwa bentuk matriks tersebut biasanya hanya digunakan untuk pembahasan teoritis), tetapi tetap disediakan di modul praktikum ini sebagai materi pengayaan."
   ]
  },
  {
   "cell_type": "markdown",
   "metadata": {},
   "source": [
    "# 1. (**Materi pengayaan**) Faktorisasi LU"
   ]
  },
  {
   "cell_type": "markdown",
   "metadata": {},
   "source": [
    "Untuk mengurangi banyaknya operasi pada penyelesaian SPL dengan matriks (serta untuk beberapa alasan lainnya), faktorisasi matriks seringkali dilakukan. Ada bermacam-macam faktorisasi matriks, namun yang paling umum digunakan adalah faktorisasi LU (juga disebut dekomposisi LU). Pada faktorisasi LU, matriks A ditulis ulang (difaktorisasi) sebagai **perkalian** (bukan penjumlahan) antara matriks segitiga bawah L (*lower triangular*) dan matriks segitiga atas U (*upper triangular*):\n",
    "\n",
    "$$A = LU$$\n",
    "\n",
    "Ada tiga metode yang paing sering digunakan untuk faktorisasi LU, yaitu\n",
    "1. Metode Doolittle\n",
    "2. Metode Crout\n",
    "3. Metode Cholesky\n",
    "\n",
    "Perbedaan di antara ketiga metode tersebut adalah pada bentuk matriks $L$ dan $U$ yang akan diperoleh, lebih tepatnya pada ketentuan untuk elemen diagonalnya akan seperti apa.\n",
    "\n",
    "Pada bab 6.5 di buku Burden, dibahas metode Doolittle, di mana faktorisasi LU dilakukan dengan menggunakan eliminasi Gauss (sedangkan metode Cholesky dan metode Crout dibahas di bab 6.6, algoritma 6.6 dan 6.7). Berikut ini, kita hanya membahas metode Doolittle.\n",
    "\n",
    "Jika eliminasi Gauss dapat dilakukan pada sistem $A\\overrightarrow{x}=\\overrightarrow{b}$ tanpa melakukan pertukaran baris, maka $A=LU$, di mana $m_{ji} = \\frac{a_{ji}^{(i)}}{a_{ii}^{(i)}}$,\n",
    "\n",
    "$L = \\begin{bmatrix}\n",
    "1 & 0 & \\cdots & 0 \\\\\n",
    "m_{21} & 1 & \\cdots & 0 \\\\\n",
    "\\vdots & \\vdots & \\ddots & \\vdots \\\\\n",
    "m_{n1} & m_{n2} & \\cdots & 1\n",
    "\\end{bmatrix}$\n",
    "\n",
    "$U = \\begin{bmatrix}\n",
    "a_{11}^{(1)} & a_{12}^{(1)} & \\cdots & a_{1n}^{(1)} \\\\\n",
    "0 & a_{22}^{(2)} & \\cdots & a_{2n}^{(2)} \\\\\n",
    "\\vdots & \\vdots & \\ddots & \\vdots \\\\\n",
    "0 & 0 & \\cdots & a_{nn}^{(n)}\n",
    "\\end{bmatrix}$\n",
    "\n",
    "(*Fun fact:* perhatikan bahwa, untuk metode Doolittle, semua elemen diagonal matriks $L$ adalah 1, sedangkan elemen diagonal matriks $U$ tidak harus satu. Untuk metode Crout, terbalik: semua elemen diagonal matriks $U$ harus 1, sedangkan elemen diagonal matriks $L$ boleh selain 1.)"
   ]
  },
  {
   "cell_type": "markdown",
   "metadata": {},
   "source": [
    "**Implementasi Faktorisasi LU dengan Metode Doolittle**"
   ]
  },
  {
   "cell_type": "code",
   "execution_count": null,
   "metadata": {},
   "outputs": [
    {
     "name": "stdout",
     "output_type": "stream",
     "text": [
      "Masukkan matriks yang akan difaktorisasi: [[1,2,3],[4,5,6],[7,8,9]]\n",
      "faktorisasi LU matriksnya adalah :\n",
      "L = \n",
      "[[1. 0. 0.]\n",
      " [4. 1. 0.]\n",
      " [7. 2. 1.]]\n",
      "U = \n",
      "[[ 1.  2.  3.]\n",
      " [ 0. -3. -6.]\n",
      " [ 0.  0.  0.]]\n",
      "Apabila dikalikan, hasilnya menjadi:\n",
      "LU = \n",
      "[[1. 2. 3.]\n",
      " [4. 5. 6.]\n",
      " [7. 8. 9.]]\n"
     ]
    }
   ],
   "source": [
    "import numpy as np\n",
    "matrix = np.array(eval(input('Masukkan matriks yang akan difaktorisasi: ')))\n",
    "\n",
    "def LUFactorization(input_matrix):\n",
    "    matrix = input_matrix.astype(float)\n",
    "\n",
    "    n = np.shape(matrix)[0] #mengambil ukuran baris dari matriks\n",
    "    L = np.identity(n) #mendefinisikan L sebagai matriks identitas nxn\n",
    "    #operasi baris elementer\n",
    "    for i in range(n):\n",
    "        for j in range(i+1, n):\n",
    "            m = matrix[j,i]/matrix[i,i]\n",
    "            L[j,i] = m #Pasang elemen L_ji menjadi multiplisitas m = a_ji/a_ii\n",
    "            matrix[j]= matrix[j]-m*matrix[i]\n",
    "    return (L, matrix)\n",
    "\n",
    "L = LUFactorization(matrix)[0] #mengambil L pada LUFactorization\n",
    "U = LUFactorization(matrix)[1] #mengambil matrix pada LUFactorization\n",
    "\n",
    "print(\"faktorisasi LU matriksnya adalah :\")\n",
    "print(\"L = \\n{0}\".format(L)) #print L\n",
    "#print U\n",
    "print(\"U = \\n{0}\".format(U))\n",
    "\n",
    "print(\"Apabila dikalikan, hasilnya menjadi:\")\n",
    "LU = np.matmul(L,U) #Hasil perkalian L dan U\n",
    "print(\"LU = \\n{0}\".format(LU))"
   ]
  },
  {
   "cell_type": "markdown",
   "metadata": {
    "id": "3l5p9p2uth_C"
   },
   "source": [
    "# 2. (**Pengayaan**) Metode Jacobi, dalam bentuk matriks (teoritis)"
   ]
  },
  {
   "cell_type": "markdown",
   "metadata": {
    "id": "U95pGi0ftm0r"
   },
   "source": [
    "Secara konsep, metode iteratif untuk SPL bisa dianggap sebagai semacam perumuman dari metode *fixed-point*, yang tadinya hanya satu variabel/persamaan menjadi banyak variabel/persamaan. Bentuk sumasi untuk masing-masing metode memang terlihat agak berbeda satu sama lain (seperti tidak bisa disamakan atau dibuat bentuk umumnya), terutama antara metode Jacobi dan metode Gauss-Seidel. Namun, mengingat asal-usulnya sebagai perumuman metode *fixed-point*, dan berhubung sistem persamaan yang ingin diselesaikan bersifat linier (membentuk SPL), metode iteratif untuk SPL bisa dituliskan dalam suatu bentuk umum menggunakan matriks (bentuk matriks), yakni\n",
    "\n",
    "$$\\textbf{x}^{(k)} = T\\textbf{x}^{(k-1)} + \\textbf{c}$$\n",
    "\n",
    "di mana isi matriks $T$ dan vektor konstanta $\\textbf{c}$ ditentukan tergantung metode iteratif yang digunakan: apakah metode Jacobi, metode Gauss-Seidel, atau metode SOR.\n",
    "\n",
    "Sekilas, bentuk umum tersebut memang terlihat lebih sederhana, seperti betapa sederhananya metode *fixed-point*. Namun, secara perhitungan, perkalian matriks bisa memakan waktu yang relatif lama, sehingga versi praktis yang telah dibahas sebelumnya lah yang lebih cocok untuk dibuat program maupun untuk perhitungan manual.\n",
    "\n",
    "Meskipun demikian, bentuk umum di atas masih ada kegunaannya, khususnya untuk mempermudah pembahasan teoritis seperti analisis *error*. Berikut ini, kita tetap akan membahas bentuk matriks untuk ketiga metode tersebut sebagai materi pengayaan."
   ]
  },
  {
   "cell_type": "markdown",
   "metadata": {
    "id": "yT0FBDGN587O"
   },
   "source": [
    "Sebelumnya, dari SPL $A\\textbf{x}=\\textbf{b}$, kita bisa \"memecah\" matriks koefisien $A$ menjadi tiga bagian, yaitu $A = (-L_{neg}) + D + (-U_{neg})$ atau sama saja $A = D - L_{neg} - U_{neg}$:\n",
    "* Matriks $(-L_{neg})$ adalah matriks segitiga bawah menggunakan elemen matriks $A$ yang berada di bawah diagonal, sedangkan sisanya nol.\n",
    "* Matriks $D$ adalah matriks diagonal yang menggunakan elemen diagonal matriks $A$, sedangkan sisanya nol.\n",
    "* Matriks $(-U_{neg})$ adalah matriks segitiga atas yang menggunakan elemen $A$ yang berada di atas diagonal, sedangkan sisanya nol.\n",
    "\n",
    "Perhatikan bahwa matriks $(-L_{neg})$ dan $(-U_{neg})$ dituliskan dengan tanda minus. Sebenarnya, nilai elemen segitiga bawah/atas yang disimpan ke matriks $L_{neg}$ dan $U_{neg}$ ini adalah negatif dari nilai aslinya di matriks $A$. Sehinga, matriks segitiga bawah/atas yang memuat nilai aslinya bisa ditulis dengan minus: $(-L_{neg})$ dan $(-U_{neg})$. Keterangan \"neg\" maksudnya negatif, sehingga minus negatif menjadi kembali positif atau menjadi nilai aslinya. Hati-hati, pembahasan di buku Burden tidak melibatkan keterangan \"neg\", sehingga langsung ditulis misalnya $A=D-L-U$.\n",
    "\n",
    "$$A = \\begin{bmatrix}\n",
    "a_{11} & a_{12} & \\dots & a_{1n} \\\\\n",
    "a_{21} & a_{22} & \\dots & a_{2n} \\\\\n",
    "\\vdots & \\vdots & \\ddots & \\vdots \\\\\n",
    "a_{n1} & a_{n2} & \\dots & a_{nn}\n",
    "\\end{bmatrix}\n",
    "=\n",
    "\\begin{bmatrix}\n",
    "a_{11} & 0 & \\dots & 0 \\\\\n",
    "0 & a_{22} & \\dots & 0 \\\\\n",
    "\\vdots & \\vdots & \\ddots & \\vdots \\\\\n",
    "0 & 0 & \\dots & a_{nn}\n",
    "\\end{bmatrix}\n",
    "-\n",
    "\\begin{bmatrix}\n",
    "0 & 0 & \\dots & 0 \\\\\n",
    "-a_{21} & 0 & \\dots & 0 \\\\\n",
    "\\vdots & \\vdots & \\ddots & \\vdots \\\\\n",
    "-a_{n1} & -a_{n2} & \\dots & 0\n",
    "\\end{bmatrix}\n",
    "-\n",
    "\\begin{bmatrix}\n",
    "0 & -a_{12} & \\dots & -a_{1n} \\\\\n",
    "0 & 0 & \\dots & -a_{2n} \\\\\n",
    "\\vdots & \\vdots & \\ddots & \\vdots \\\\\n",
    "0 & 0 & \\dots & 0\n",
    "\\end{bmatrix}\n",
    "\\\\\n",
    "A = D - L_{neg} - U_{neg}\n",
    "$$"
   ]
  },
  {
   "cell_type": "markdown",
   "metadata": {
    "id": "YQMZ1nnD_6An"
   },
   "source": [
    "Dengan demikian, kita bisa menyusun fungsi untuk memisahkan matriks koefisien $A$ menjadi $D - L_{neg} - U_{neg}$."
   ]
  },
  {
   "cell_type": "code",
   "execution_count": null,
   "metadata": {
    "id": "TjybTr9mADJb"
   },
   "outputs": [],
   "source": [
    "def PisahDLnegUneg(matriks_A):\n",
    "    # memperoleh ukuran n x n dari matriks A, ambil banyaknya baris aja\n",
    "    n = np.shape(matriks_A)[0]\n",
    "\n",
    "    # buat dulu matriks D, Lneg dan Uneg, ukuran n x n, sementara nol semua\n",
    "    D = np.zeros((n,n))\n",
    "    Lneg = np.zeros((n,n))\n",
    "    Uneg = np.zeros((n,n))\n",
    "\n",
    "    # double for loop melihat tiap elemen di matriks A...\n",
    "    for i in range(n): # baris ke-i\n",
    "        for j in range(n): # kolom ke-j\n",
    "            if i == j: # jika elemen diagonal...\n",
    "                # ... maka simpan ke matriks D\n",
    "                D[i, j] = matriks_A[i, j]\n",
    "            elif i > j: # jika lebih ke bawah daripada ke kanan...\n",
    "                # ... maka simpan ke matriks Lneg (karena segitiga bawah)\n",
    "                Lneg[i, j] = -matriks_A[i, j] # (jangan lupa dibuat negatif)\n",
    "            else: # selain itu (berarti segitiga atas)\n",
    "                # simpan ke matriks Uneg, jangan lupa dibuat negatif\n",
    "                Uneg[i, j] = -matriks_A[i, j]\n",
    "    \n",
    "    # return tiga matriks sekaligus sebagai satu kesatuan\n",
    "    return (D, Lneg, Uneg)"
   ]
  },
  {
   "cell_type": "code",
   "execution_count": null,
   "metadata": {
    "colab": {
     "base_uri": "https://localhost:8080/"
    },
    "id": "pwOtZAm8AxXg",
    "outputId": "688aa86a-d292-4e7b-f267-271de8b6a637"
   },
   "outputs": [
    {
     "name": "stdout",
     "output_type": "stream",
     "text": [
      "[[1. 0. 0.]\n",
      " [0. 5. 0.]\n",
      " [0. 0. 9.]]\n",
      "[[ 0.  0.  0.]\n",
      " [-4.  0.  0.]\n",
      " [-7. -8.  0.]]\n",
      "[[ 0. -2. -3.]\n",
      " [ 0.  0. -6.]\n",
      " [ 0.  0.  0.]]\n"
     ]
    }
   ],
   "source": [
    "# Contoh\n",
    "matriks_koef = np.array([\n",
    "    [1, 2, 3],\n",
    "    [4, 5, 6],\n",
    "    [7, 8, 9]\n",
    "])\n",
    "\n",
    "D, Lneg, Uneg = PisahDLnegUneg(matriks_koef)\n",
    "print(D)\n",
    "print(Lneg)\n",
    "print(Uneg)"
   ]
  },
  {
   "cell_type": "markdown",
   "metadata": {
    "id": "02B8B5iH_I5-"
   },
   "source": [
    "Selanjutnya, kita bisa menuliskan matriks $T_j$ dan vektor konstanta $\\textbf{c}_j$ untuk metode Jacobi sebagai berikut:\n",
    "\n",
    "$$T_j = D^{-1}\\left(L_{neg}+U_{neg}\\right), \\hspace{0.5cm} \\textbf{c}_j = D^{-1}\\textbf{b}$$\n",
    "\n",
    "sehingga rumus iterasi metode Jacobi menjadi\n",
    "\n",
    "$$\\textbf{x}^{(k)} = T_j\\textbf{x}^{(k-1)} + \\textbf{c}_j$$"
   ]
  },
  {
   "cell_type": "code",
   "execution_count": null,
   "metadata": {
    "id": "zmzNsxHPtmWs"
   },
   "outputs": [],
   "source": [
    "def JacobiTeoritis(matriks_koefisien, vektor_b, tebakan_awal, tol):\n",
    "    # pisahkan dulu\n",
    "    D, Lneg, Uneg = PisahDLnegUneg(matriks_koefisien)\n",
    "\n",
    "    # susun matriks T_j dan vektor konstanta c_j\n",
    "    D_invers = np.linalg.inv(D)\n",
    "    Tj = np.matmul( D_invers, Lneg+Uneg )\n",
    "    cj = np.matmul( D_invers, vektor_b )\n",
    "\n",
    "    # iterasi pertama\n",
    "\n",
    "    # x^(k-1), salin dari tebakan awal\n",
    "    xk_1 = tebakan_awal.copy()\n",
    "\n",
    "    # x^(k), rumus metode Jacobi bentuk matriks\n",
    "    xk = np.matmul( Tj, xk_1 ) + cj\n",
    "\n",
    "    # iterasi kedua dan seterusnya dalam while loop\n",
    "\n",
    "    while np.linalg.norm(xk_1 - xk, np.inf) > tol: # kriteria pemberhentian\n",
    "        # yang sebelumnya menjadi x^(k) itu sekarang menjadi x^(k-1)\n",
    "        xk_1 = xk\n",
    "\n",
    "        # lakukan iterasi untuk memperoleh x^(k) yang baru\n",
    "        xk = np.matmul( Tj, xk_1 ) + cj\n",
    "\n",
    "    # jika sudah keluar while loop, toleransi sudah terpenuhi\n",
    "    return xk"
   ]
  },
  {
   "cell_type": "code",
   "execution_count": null,
   "metadata": {
    "colab": {
     "base_uri": "https://localhost:8080/"
    },
    "id": "h9kRtJL5_gA8",
    "outputId": "120fe7c6-4745-49df-8126-8a533bec1fbe"
   },
   "outputs": [
    {
     "name": "stdout",
     "output_type": "stream",
     "text": [
      "Masukkan matriks koefisien A: [ [10, -1, 2, 0], [-1, 11, -1, 3], [2, -1, 10, -1], [0, 3, -1, 8] ]\n",
      "Masukkan vektor b: [6, 25, -11, 15]\n",
      "Masukkan tebakan awal: [0, 0, 0, 0]\n",
      "Masukkan toleransi: 10**-4\n",
      "Hasil metode Jacobi (teoritis) adalah:\n",
      "[ 0.99998973  2.00001582 -1.00001257  1.00001924]\n"
     ]
    }
   ],
   "source": [
    "matriks_koef = np.array(eval(input(\"Masukkan matriks koefisien A: \"))).astype(float)\n",
    "vektor_b = np.array(eval(input(\"Masukkan vektor b: \"))).astype(float)\n",
    "tebakan_awal = np.array(eval(input(\"Masukkan tebakan awal: \")), dtype=float)\n",
    "\n",
    "toleransi = eval(input(\"Masukkan toleransi: \"))\n",
    "\n",
    "hasil = JacobiTeoritis(matriks_koef, vektor_b, tebakan_awal, toleransi)\n",
    "print(\"Hasil metode Jacobi (teoritis) adalah:\")\n",
    "print(hasil)"
   ]
  },
  {
   "cell_type": "markdown",
   "metadata": {
    "id": "XO0j-fPit1-a"
   },
   "source": [
    "# 3. (**Pengayaan**) Metode Gauss-Seidel, dalam bentuk matriks (teoritis)"
   ]
  },
  {
   "cell_type": "markdown",
   "metadata": {
    "id": "Uaa2Kf42uJHK"
   },
   "source": [
    "Untuk metode Gauss-Seidel, kita definisikan matriks $T_g$ dan vektor konstanta $\\textbf{c}_g$ sebagai berikut:\n",
    "\n",
    "$$T_g = \\left( D - L_{neg} \\right)^{-1} U_{neg}, \\hspace{0.5cm} \\textbf{c}_g = \\left( D - L_{neg} \\right)^{-1} \\textbf{b}$$\n",
    "\n",
    "Sehingga, rumus iterasi untuk metode Gauss-Seidel bentuk matriks bisa ditulis:\n",
    "\n",
    "$$\\textbf{x}^{(k)} = T_g \\textbf{x}^{(k-1)} + \\textbf{c}_g$$"
   ]
  },
  {
   "cell_type": "code",
   "execution_count": null,
   "metadata": {
    "id": "K6y5i5TZuJQ9"
   },
   "outputs": [],
   "source": [
    "def GaussSeidelTeoritis(matriks_koefisien, vektor_b, tebakan_awal, tol):\n",
    "    # pisahkan dulu\n",
    "    D, Lneg, Uneg = PisahDLnegUneg(matriks_koefisien)\n",
    "\n",
    "    # susun matriks T_g dan vektor konstanta c_g\n",
    "    DminusLneg_invers = np.linalg.inv(D - Lneg)\n",
    "    Tg = np.matmul( DminusLneg_invers, Uneg )\n",
    "    cg = np.matmul( DminusLneg_invers, vektor_b )\n",
    "\n",
    "    # iterasi pertama\n",
    "\n",
    "    # x^(k-1), salin dari tebakan awal\n",
    "    xk_1 = tebakan_awal.copy()\n",
    "\n",
    "    # x^(k), rumus metode Gauss-Seidel bentuk matriks\n",
    "    xk = np.matmul( Tg, xk_1 ) + cg\n",
    "\n",
    "    # iterasi kedua dan seterusnya dalam while loop\n",
    "\n",
    "    while np.linalg.norm(xk_1 - xk, np.inf) > tol: # kriteria pemberhentian\n",
    "        # yang sebelumnya menjadi x^(k) itu sekarang menjadi x^(k-1)\n",
    "        xk_1 = xk\n",
    "\n",
    "        # lakukan iterasi untuk memperoleh x^(k) yang baru\n",
    "        xk = np.matmul( Tg, xk_1 ) + cg\n",
    "\n",
    "    # jika sudah keluar while loop, toleransi sudah terpenuhi\n",
    "    return xk"
   ]
  },
  {
   "cell_type": "code",
   "execution_count": null,
   "metadata": {
    "colab": {
     "base_uri": "https://localhost:8080/"
    },
    "id": "rc57bE1eGZzX",
    "outputId": "ee50a5ff-fd80-4d88-e1ba-b74c548e2b67"
   },
   "outputs": [
    {
     "name": "stdout",
     "output_type": "stream",
     "text": [
      "Masukkan matriks koefisien A: [ [10, -1, 2, 0], [-1, 11, -1, 3], [2, -1, 10, -1], [0, 3, -1, 8] ]\n",
      "Masukkan vektor b: [6, 25, -11, 15]\n",
      "Masukkan tebakan awal: [0, 0, 0, 0]\n",
      "Masukkan toleransi: 10**-4\n",
      "Hasil metode Gauss-Seidel (teoritis) adalah:\n",
      "[ 1.00000836  2.00000117 -1.00000275  0.99999922]\n"
     ]
    }
   ],
   "source": [
    "matriks_koef = np.array(eval(input(\"Masukkan matriks koefisien A: \"))).astype(float)\n",
    "vektor_b = np.array(eval(input(\"Masukkan vektor b: \"))).astype(float)\n",
    "tebakan_awal = np.array(eval(input(\"Masukkan tebakan awal: \")), dtype=float)\n",
    "\n",
    "toleransi = eval(input(\"Masukkan toleransi: \"))\n",
    "\n",
    "hasil = GaussSeidelTeoritis(matriks_koef, vektor_b, tebakan_awal, toleransi)\n",
    "print(\"Hasil metode Gauss-Seidel (teoritis) adalah:\")\n",
    "print(hasil)"
   ]
  },
  {
   "cell_type": "markdown",
   "metadata": {
    "id": "09ClBm2zYuUp"
   },
   "source": [
    "# 4. (**Pengayaan**) Metode SOR, dalam bentuk matriks (teoritis)"
   ]
  },
  {
   "cell_type": "markdown",
   "metadata": {
    "id": "-dW5A3kSYxnA"
   },
   "source": [
    "Untuk metode SOR, diberikan suatu nilai omega, kita definisikan matriks $T_{\\omega}$ dan vektor konstanta $\\textbf{c}_{\\omega}$ sebagai berikut:\n",
    "\n",
    "$$T_{\\omega} = \\left( D-\\omega L \\right)^{-1}\\left[ (1-\\omega)D + \\omega U \\right], \\hspace{0.5cm} \\textbf{c}_{\\omega} = \\omega \\left( D-\\omega L\\right)^{-1} \\textbf{b}$$\n",
    "\n",
    "Sehingga, rumus iterasi untuk metode SOR bentuk matriks bisa ditulis:\n",
    "\n",
    "$$\\textbf{x}^{(k)} = T_{\\omega} \\textbf{x}^{(k-1)} + \\textbf{c}_{\\omega}$$"
   ]
  },
  {
   "cell_type": "code",
   "execution_count": null,
   "metadata": {
    "id": "S3E3aB-pYx1o"
   },
   "outputs": [],
   "source": [
    "def SORTeoritis(matriks_koefisien, vektor_b, tebakan_awal, omega, tol):\n",
    "    # pisahkan dulu\n",
    "    D, Lneg, Uneg = PisahDLnegUneg(matriks_koefisien)\n",
    "\n",
    "    # susun matriks T_omega dan vektor konstanta c_omega\n",
    "    DminusomegaLneg_invers = np.linalg.inv( D - omega * Lneg)\n",
    "    T_omega = np.matmul ( DminusomegaLneg_invers, (1-omega)*D + omega*Uneg )\n",
    "    c_omega = omega * np.matmul( DminusomegaLneg_invers, vektor_b )\n",
    "\n",
    "    # iterasi pertama\n",
    "\n",
    "    # x^(k-1), salin dari tebakan awal\n",
    "    xk_1 = tebakan_awal.copy()\n",
    "\n",
    "    # x^(k), rumus metode SOR bentuk matriks\n",
    "    xk = np.matmul( T_omega, xk_1 ) + c_omega\n",
    "\n",
    "    # iterasi kedua dan seterusnya dalam while loop\n",
    "\n",
    "    while np.linalg.norm(xk_1 - xk, np.inf) > tol: # kriteria pemberhentian\n",
    "        # yang sebelumnya menjadi x^(k) itu sekarang menjadi x^(k-1)\n",
    "        xk_1 = xk\n",
    "\n",
    "        # lakukan iterasi untuk memperoleh x^(k) yang baru\n",
    "        xk = np.matmul( T_omega, xk_1 ) + c_omega\n",
    "\n",
    "    # jika sudah keluar while loop, toleransi sudah terpenuhi\n",
    "    return xk"
   ]
  },
  {
   "cell_type": "code",
   "execution_count": null,
   "metadata": {
    "colab": {
     "base_uri": "https://localhost:8080/"
    },
    "id": "qXpjtqI4IGh0",
    "outputId": "80a560f1-bd38-43b9-da89-1bf499e982d3"
   },
   "outputs": [
    {
     "name": "stdout",
     "output_type": "stream",
     "text": [
      "Masukkan matriks koefisien A: [ [4, 3, 0], [3, 4, -1], [0, -1, 4] ]\n",
      "Masukkan vektor b: [24, 30, -24]\n",
      "Masukkan tebakan awal: [0, 0, 0]\n",
      "Masukkan faktor relaksasi (omega): 1.25\n",
      "Masukkan toleransi: 10**-4\n",
      "Hasil metode SOR (teoritis) adalah:\n",
      "[ 2.99998919  4.00000321 -4.9999937 ]\n"
     ]
    }
   ],
   "source": [
    "matriks_koef = np.array(eval(input(\"Masukkan matriks koefisien A: \"))).astype(float)\n",
    "vektor_b = np.array(eval(input(\"Masukkan vektor b: \"))).astype(float)\n",
    "tebakan_awal = np.array(eval(input(\"Masukkan tebakan awal: \")), dtype=float)\n",
    "omega = eval(input(\"Masukkan faktor relaksasi (omega): \"))\n",
    "toleransi = eval(input(\"Masukkan toleransi: \"))\n",
    "\n",
    "hasil = SORTeoritis(matriks_koef, vektor_b, tebakan_awal, omega, toleransi)\n",
    "print(\"Hasil metode SOR (teoritis) adalah:\")\n",
    "print(hasil)"
   ]
  }
 ],
 "metadata": {
  "colab": {
   "provenance": []
  },
  "kernelspec": {
   "display_name": "Python 3 (ipykernel)",
   "language": "python",
   "name": "python3"
  },
  "language_info": {
   "codemirror_mode": {
    "name": "ipython",
    "version": 3
   },
   "file_extension": ".py",
   "mimetype": "text/x-python",
   "name": "python",
   "nbconvert_exporter": "python",
   "pygments_lexer": "ipython3",
   "version": "3.10.11"
  }
 },
 "nbformat": 4,
 "nbformat_minor": 1
}
