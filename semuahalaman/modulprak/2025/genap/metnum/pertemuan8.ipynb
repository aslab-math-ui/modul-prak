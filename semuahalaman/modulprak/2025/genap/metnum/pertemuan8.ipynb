{
 "cells": [
  {
   "cell_type": "markdown",
   "metadata": {
    "id": "x-vXchUrnqOk"
   },
   "source": [
    "---\n",
    "title: \"(Pertemuan 8) Sistem Persamaan Linear: Jacobi, Gauss-Seidel\"\n",
    "subtitle: \"Jacobi method, Gauss-Seidel method, SOR method\"\n",
    "author: \"Aslab Mata Kuliah Praktikum Metode Numerik\"\n",
    "description: \"Offline di Departemen Matematika\"\n",
    "date: 05/12/2025\n",
    "page-navigation: true\n",
    "format: html\n",
    "execute: \n",
    " enabled: false\n",
    "---\n",
    "\n",
    "<style>\n",
    ".box-grid {\n",
    "    display: grid;\n",
    "    grid-template-columns: 1fr 1fr;\n",
    "    gap: 20px;\n",
    "    margin: 20px 0;\n",
    "}\n",
    "\n",
    ".box-card {\n",
    "    padding: 15px;\n",
    "    border-radius: 10px;\n",
    "    box-shadow: 0 4px 8px rgba(0,0,0,0.1);\n",
    "    transition: transform 0.2s;\n",
    "    background: white;\n",
    "    text-align: center;\n",
    "}\n",
    "\n",
    ".box-card:hover {\n",
    "    transform: translateY(-5px);\n",
    "}\n",
    "\n",
    ".btn {\n",
    "    display: inline-block;\n",
    "    padding: 12px 24px;\n",
    "    background: linear-gradient(45deg, #4CAF50, #45a049);\n",
    "    color: white !important;\n",
    "    text-decoration: none;\n",
    "    border-radius: 25px;\n",
    "    font-weight: bold;\n",
    "    transition: all 0.3s;\n",
    "    border: none;\n",
    "    cursor: pointer;\n",
    "}\n",
    "\n",
    ".btn:hover {\n",
    "    background: linear-gradient(45deg, #45a049, #4CAF50);\n",
    "    box-shadow: 0 4px 15px rgba(0,0,0,0.2);\n",
    "}\n",
    "</style>"
   ]
  },
  {
   "cell_type": "markdown",
   "metadata": {},
   "source": [
    "Kembali ke [Metode Numerik](./metnum2025genap.qmd)"
   ]
  },
  {
   "cell_type": "markdown",
   "metadata": {},
   "source": [
    "**Materi Pembahasan:**\n",
    "\n",
    "1. Beberapa jenis norm vektor\n",
    "\n",
    "2. Masalah *copy* untuk *array* numpy\n",
    "\n",
    "3. Metode Jacobi, algoritma praktis\n",
    "\n",
    "4. Metode Gauss-Seidel, algoritma praktis\n",
    "\n",
    "5. Metode Relaksasi (SOR), algoritma praktis\n",
    "\n",
    "6. Diskusi\n",
    "\n",
    "Praktikum Metode Numerik PTA 2024-2025 <br>\n",
    "Departemen Matematika FMIPA Universitas Indonesia\n",
    "\n",
    "<hr/>"
   ]
  },
  {
   "cell_type": "markdown",
   "metadata": {
    "id": "tmOlapBLx7mN"
   },
   "source": [
    "Modul praktikum ini diawali dengan pembahasan tentang beberapa jenis norm vektor. Kemudian, metode yang dibahas di modul kali ini, utamanya hanyalah \"versi praktis\" untuk algoritma metode Jacobi, metode Gauss-Seidel, dan metode relaksasi (SOR). Metode Gauss-Seidel adalah perbaikan dari metode Jacobi, dan metode SOR adalah perbaikan dari metode Gauss-Seidel. Istilah \"versi praktis\" di sini maksudnya agar dibedakan dari bentuk matriks $T\\textbf{x}+\\textbf{c}$ (sebagai materi pengayaan) untuk metode-metode tersebut.\n",
    "\n",
    "Inti sari dari ketiga metode tersebut adalah perumuman dari metode *fixed-point* (dari bab 2, metode numerik untuk *root-finding*), yang tadinya dilakukan untuk satu variabel/persamaan saja, menjadi dilakukan untuk beberapa variabel/persamaan sekaligus (yang kebetulan membentuk SPL). Langkah paling pertama dalam mempersiapkan penyelesaian SPL dengan metode-metode tersebut adalah seperti melakukan pindah ruas ke sebelah kanan untuk semua suku kecuali variabel pada diagonal, mirip dengan ide substitusi balik. Langkah ini tersirat ketika menuliskan bentuk umum metode-metode tersebut dalam bentuk sumasi. Selain itu, seperti metode *fixed-point*, diperlukan tebakan awal untuk nilai tiap variabel.\n",
    "\n",
    "Untuk perumuman metode *fixed-point* yang lebih umum lagi, yaitu untuk sistem persamaan yang tidak harus linier (tidak harus berbentuk SPL), dibahas di bab 10.1 di buku Burden. Bab 8, 9, dan 10 di buku Burden dibahas di mata kuliah pilihan program studi S1 Matematika yang bernama \"Matematika Numerik\", dengan prasyarat Metode Numerik.\n",
    "\n",
    "Pembahasan teoritis di kelas (perkuliahan) Metode Numerik juga mencakup pembahasan metode Jacobi, metode Gauss-Seidel, dan metode SOR dalam bentuk matriks, dengan bentuk umum $T\\textbf{x}+\\textbf{c}$. Bentuk matriks untuk metode-metode tersebut tidak menjadi fokus di praktikum (bahkan di buku Burden, akhir halaman 452, juga disebut bahwa bentuk matriks tersebut biasanya hanya digunakan untuk pembahasan teoritis), tetapi tetap disediakan di modul praktikum ini sebagai materi pengayaan."
   ]
  },
  {
   "cell_type": "markdown",
   "metadata": {
    "id": "q3xyK7Q7nKzJ"
   },
   "source": [
    "## 1. Beberapa jenis norm vektor"
   ]
  },
  {
   "cell_type": "markdown",
   "metadata": {
    "id": "UAtMRjBbnNvE"
   },
   "source": [
    "Ada beberapa jenis norm vektor, yaitu semacam ukuran \"besar\" (*magnitude*) atau \"panjang\" untuk vektor. Salah satu kegunaannya adalah membandingkan \"ukuran\" antara dua vektor, yang mana yang lebih besar/kecil. Tiga jenis norm yang terkenal adalah:\n",
    "\n",
    "1. Euclidean norm, sering disebut *2-norm* atau $L_2$-norm, dan perhitungannya seperti menggunakan teorema Pythagoras. Penulisan: $||\\textbf{v}||_2$\n",
    "2. Infinity norm (norm tak hingga), terkadang disebut $L_{\\infty}$-norm, yaitu sama saja maksimum dari semua mutlak elemen vektor. Penulisan: $||\\textbf{v}||_{\\infty}$\n",
    "3. Manhattan distance atau Taxicab norm, sering disebut *1-norm* atau $L_1$-norm, yaitu menjumlahkan mutlak tiap elemen vektor. Penulisan: $||\\textbf{v}||_1$"
   ]
  },
  {
   "cell_type": "markdown",
   "metadata": {
    "id": "kXHpHjm9peoj"
   },
   "source": [
    "Numpy bisa menghitung beberapa jenis norm, termasuk ketiga jenis norm di atas, menggunakan `numpy.linalg.norm(vektor, jenis_norm)`, di mana vektor dibuat dengan `numpy.array`."
   ]
  },
  {
   "cell_type": "code",
   "execution_count": null,
   "metadata": {
    "id": "dl2bynrKrd2j"
   },
   "outputs": [],
   "source": [
    "import numpy as np"
   ]
  },
  {
   "cell_type": "code",
   "execution_count": null,
   "metadata": {
    "colab": {
     "base_uri": "https://localhost:8080/"
    },
    "id": "EUt4VVganNW2",
    "outputId": "07b5590d-9de0-4eee-ed09-5aae1aa85fff"
   },
   "outputs": [
    {
     "name": "stdout",
     "output_type": "stream",
     "text": [
      "[ 3 -4]\n"
     ]
    }
   ],
   "source": [
    "vektor_kecil = np.array([3,-4])\n",
    "print(vektor_kecil)"
   ]
  },
  {
   "cell_type": "markdown",
   "metadata": {
    "id": "3YjxQEM6rV2p"
   },
   "source": [
    "Contoh norm-2, dengan *option* `ord=2`:"
   ]
  },
  {
   "cell_type": "code",
   "execution_count": null,
   "metadata": {
    "colab": {
     "base_uri": "https://localhost:8080/"
    },
    "id": "d-V4z7_VrYlw",
    "outputId": "160a0f4c-5f97-4511-d334-ef764e6e8300"
   },
   "outputs": [
    {
     "data": {
      "text/plain": [
       "5.0"
      ]
     },
     "execution_count": null,
     "metadata": {},
     "output_type": "execute_result"
    }
   ],
   "source": [
    "np.linalg.norm(vektor_kecil, ord=2)"
   ]
  },
  {
   "cell_type": "markdown",
   "metadata": {
    "id": "m4T9GiZrr8e0"
   },
   "source": [
    "Output adalah 5, karena $||\\textbf{v}||_2=\\sqrt{3^2+\\left(-4\\right)^2}=\\sqrt{25}=5$."
   ]
  },
  {
   "cell_type": "markdown",
   "metadata": {
    "id": "IW_yI6vtro61"
   },
   "source": [
    "Sebenarnya, \"ord\" tidak harus ditulis:"
   ]
  },
  {
   "cell_type": "code",
   "execution_count": null,
   "metadata": {
    "colab": {
     "base_uri": "https://localhost:8080/"
    },
    "id": "EHKC_FIArtLm",
    "outputId": "8a16f6f9-30ed-4493-ece2-ada2e3a03569"
   },
   "outputs": [
    {
     "data": {
      "text/plain": [
       "5.0"
      ]
     },
     "execution_count": null,
     "metadata": {},
     "output_type": "execute_result"
    }
   ],
   "source": [
    "np.linalg.norm(vektor_kecil, 2)"
   ]
  },
  {
   "cell_type": "markdown",
   "metadata": {
    "id": "jlbQE3Mgrydv"
   },
   "source": [
    "Contoh norm-infinity, dengan *option* `ord=numpy.inf`:"
   ]
  },
  {
   "cell_type": "code",
   "execution_count": null,
   "metadata": {
    "colab": {
     "base_uri": "https://localhost:8080/"
    },
    "id": "UT9IcVSyrzsC",
    "outputId": "49fd448f-248c-4a6a-ecae-dfbb8e36602b"
   },
   "outputs": [
    {
     "data": {
      "text/plain": [
       "4.0"
      ]
     },
     "execution_count": null,
     "metadata": {},
     "output_type": "execute_result"
    }
   ],
   "source": [
    "np.linalg.norm(vektor_kecil, np.inf)"
   ]
  },
  {
   "cell_type": "markdown",
   "metadata": {
    "id": "gWuZd2JfsLWL"
   },
   "source": [
    "Output adalah 4, karena $||\\textbf{v}||_{\\infty} = \\max \\left( |3|, |-4| \\right) = \\max \\left( 3, 4 \\right) = 4$."
   ]
  },
  {
   "cell_type": "markdown",
   "metadata": {
    "id": "7EOge_EgrvhC"
   },
   "source": [
    "Contoh norm-1:"
   ]
  },
  {
   "cell_type": "code",
   "execution_count": null,
   "metadata": {
    "colab": {
     "base_uri": "https://localhost:8080/"
    },
    "id": "plrqqrgirwlx",
    "outputId": "7430f1fe-2a8c-4079-834a-bef85aeff4bb"
   },
   "outputs": [
    {
     "data": {
      "text/plain": [
       "7.0"
      ]
     },
     "execution_count": null,
     "metadata": {},
     "output_type": "execute_result"
    }
   ],
   "source": [
    "np.linalg.norm(vektor_kecil, 1)"
   ]
  },
  {
   "cell_type": "markdown",
   "metadata": {
    "id": "_5olyUYCscsK"
   },
   "source": [
    "Output adalah 7, karena $||\\textbf{v}||_1 = |3| + |-4| = 3+4=7$."
   ]
  },
  {
   "cell_type": "markdown",
   "metadata": {
    "id": "XnCCAh3Ftbo9"
   },
   "source": [
    "Masing-masing jenis norm memiliki kelebihan dan kekurangan. (Untuk ke depannya, kita akan menggunakan norm-infinity, sesuai buku Burden). Apapun jenis norm yang Anda gunakan, untuk perhitungan apapun, pastikan Anda konsisten selalu menggunakan jenis norm yang sama dari awal sampai akhir perhitungan."
   ]
  },
  {
   "cell_type": "markdown",
   "metadata": {
    "id": "SL4szK4qrJwr"
   },
   "source": [
    "Untuk jenis norm lainnya, bisa baca lebih lanjut di dokumentasi numpy (pada keterangan *option* \"ord\"): https://numpy.org/doc/stable/reference/generated/numpy.linalg.norm.html"
   ]
  },
  {
   "cell_type": "markdown",
   "metadata": {
    "id": "fdufS_Knsi7k"
   },
   "source": [
    "## 2. Masalah *copy* untuk *array* numpy"
   ]
  },
  {
   "cell_type": "markdown",
   "metadata": {
    "id": "VdJLyRm6wIt9"
   },
   "source": [
    "Ada satu hal yang perlu dibahas sebelum melanjutkan ke pembahasan metode iteratif untuk SPL.\n",
    "\n",
    "Salah satu kekurangan numpy (dan Python secara umum) adalah bahwa kita tidak bisa meng-*copy* suatu *array* (ataupun *list*) dengan *assignment*. Melakukan *assignment* seolah-olah hanya membuat \"sinonim\", sehingga perubahan pada salah satu *array*/*list* juga akan mengubah *array*/*list* yang satunya (istilahnya *shallow copy*). Perhatikan,"
   ]
  },
  {
   "cell_type": "code",
   "execution_count": null,
   "metadata": {
    "id": "KxSqIFCpsalU"
   },
   "outputs": [],
   "source": [
    "import numpy as np"
   ]
  },
  {
   "cell_type": "code",
   "execution_count": null,
   "metadata": {
    "colab": {
     "base_uri": "https://localhost:8080/"
    },
    "id": "NjTd_DZks752",
    "outputId": "c770c552-3f85-48cd-8f41-eb281a002e77"
   },
   "outputs": [
    {
     "name": "stdout",
     "output_type": "stream",
     "text": [
      "[9 8 7 6]\n"
     ]
    }
   ],
   "source": [
    "array1 = np.array([9, 8, 7, 6])\n",
    "print(array1)"
   ]
  },
  {
   "cell_type": "code",
   "execution_count": null,
   "metadata": {
    "id": "xis1SGK_tJ1f"
   },
   "outputs": [],
   "source": [
    "# Apakah cara copy seperti ini?\n",
    "array2 = array1"
   ]
  },
  {
   "cell_type": "code",
   "execution_count": null,
   "metadata": {
    "colab": {
     "base_uri": "https://localhost:8080/"
    },
    "id": "IrQRsWfetVBV",
    "outputId": "b98b76d9-7897-4804-8c34-14997e426220"
   },
   "outputs": [
    {
     "name": "stdout",
     "output_type": "stream",
     "text": [
      "[9 8 7 6]\n"
     ]
    }
   ],
   "source": [
    "print(array2)"
   ]
  },
  {
   "cell_type": "markdown",
   "metadata": {
    "id": "ANAYf_oBwsSj"
   },
   "source": [
    "Seandainya `array2` diubah..."
   ]
  },
  {
   "cell_type": "code",
   "execution_count": null,
   "metadata": {
    "colab": {
     "base_uri": "https://localhost:8080/"
    },
    "id": "lWLZAEmjtZ2x",
    "outputId": "808e9394-25d7-4ef1-e43b-4308f13d7bbc"
   },
   "outputs": [
    {
     "name": "stdout",
     "output_type": "stream",
     "text": [
      "[ 9  8 15  6]\n"
     ]
    }
   ],
   "source": [
    "array2[2] = 15\n",
    "print(array2)"
   ]
  },
  {
   "cell_type": "markdown",
   "metadata": {
    "id": "JLIidyX1wvRP"
   },
   "source": [
    "... maka `array1` juga mengalami perubahan yang sama."
   ]
  },
  {
   "cell_type": "code",
   "execution_count": null,
   "metadata": {
    "colab": {
     "base_uri": "https://localhost:8080/"
    },
    "id": "3y40mgn_tiat",
    "outputId": "c28d5dc7-d756-4711-8dbc-35421972c98a"
   },
   "outputs": [
    {
     "name": "stdout",
     "output_type": "stream",
     "text": [
      "[ 9  8 15  6]\n"
     ]
    }
   ],
   "source": [
    "print(array1)"
   ]
  },
  {
   "cell_type": "markdown",
   "metadata": {
    "id": "29C3nK3Nwy1f"
   },
   "source": [
    "Cara *copy* yang tepat untuk *array* maupun *list* adalah menggunakan akhiran `.copy()` seperti berikut ini."
   ]
  },
  {
   "cell_type": "code",
   "execution_count": null,
   "metadata": {
    "colab": {
     "base_uri": "https://localhost:8080/"
    },
    "id": "AI3C4AJgt02x",
    "outputId": "258c49f5-a400-4a64-a241-768ec95bbe3d"
   },
   "outputs": [
    {
     "name": "stdout",
     "output_type": "stream",
     "text": [
      "[ 9  8 15  6]\n"
     ]
    }
   ],
   "source": [
    "array3 = array1.copy()\n",
    "print(array3)"
   ]
  },
  {
   "cell_type": "markdown",
   "metadata": {
    "id": "2JcKcVayw5eT"
   },
   "source": [
    "Sehingga, perubahan pada salah satu tidak akan mempengaruhi yang satunya lagi. Artinya, *copy* telah dilakukan secara sempurna (disebut *deep copy*)."
   ]
  },
  {
   "cell_type": "code",
   "execution_count": null,
   "metadata": {
    "colab": {
     "base_uri": "https://localhost:8080/"
    },
    "id": "9FlLQABqt-gc",
    "outputId": "5271e9e7-4e4b-42f0-c116-4e3d63d4a25e"
   },
   "outputs": [
    {
     "name": "stdout",
     "output_type": "stream",
     "text": [
      "[ 9  8 15 20]\n",
      "[ 9  8 15  6]\n"
     ]
    }
   ],
   "source": [
    "array3[3] = 20\n",
    "print(array3)\n",
    "print(array1)"
   ]
  },
  {
   "cell_type": "markdown",
   "metadata": {
    "id": "CekCBUqSxj3E"
   },
   "source": [
    "Untuk ke depannya, kita akan sering menggunakan `.copy()`."
   ]
  },
  {
   "cell_type": "markdown",
   "metadata": {
    "id": "qazfw2AyxKfR"
   },
   "source": [
    "*Fun fact:* sepertinya, permasalahan *shallow copy* ini berhubungan erat dengan cara dibuatnya *library* numpy yang sebenarnya tersambung dengan bahasa pemrograman C, yang juga memiliki keanehan yang serupa untuk *array*."
   ]
  },
  {
   "cell_type": "markdown",
   "metadata": {
    "id": "MiWzHUOdoK01"
   },
   "source": [
    "## 3. Metode Jacobi, algoritma praktis"
   ]
  },
  {
   "cell_type": "markdown",
   "metadata": {
    "id": "I2ZSwYwD1lwj"
   },
   "source": [
    "Misalkan vektor $\\textbf{x}^{(k)} = \\left( x_1^{(k)}, x_2^{(k)}, \\dots, x_n^{(k)} \\right)^t$ (ditranspos agar berupa vektor kolom) adalah hasil aproksimasi pada iterasi ke-k untuk solusi SPL $n$-variabel $A\\textbf{x}=\\textbf{b}$.\n",
    "\n",
    "Metode Jacobi memiliki formula sebagai berikut:\n",
    "\n",
    "$$x_i^{(k)} = \\frac{1}{a_{ii}} \\left[ \\sum_{j=1,j\\ne i}^{n} \\left(-a_{ij}x_j^{(k-1)} \\right) + b_i \\right],\\hspace{0.5cm} i = 1, 2, \\dots, n $$\n",
    "\n",
    "Kriteria pemberhentian iterasi bisa berupa\n",
    "*   *error* mutlak: $||\\textbf{x}^{(k)}-\\textbf{x}^{(k-1)}|| < \\epsilon$\n",
    "*   *error* relatif: $\\frac{||\\textbf{x}^{(k)}-\\textbf{x}^{(k-1)}||}{||\\textbf{x}^{(k)}||} < \\epsilon$"
   ]
  },
  {
   "cell_type": "markdown",
   "metadata": {
    "id": "UDSlbaYa3bwJ"
   },
   "source": [
    "Pada kode berikut ini, kita akan menggunakan *error* mutlak dan norm tak hingga."
   ]
  },
  {
   "cell_type": "code",
   "execution_count": null,
   "metadata": {
    "id": "1a4AQKMsnnB2"
   },
   "outputs": [],
   "source": [
    "import numpy as np\n",
    "\n",
    "def Jacobi(matriks, tebakan_awal, tol):\n",
    "    # banyaknya baris pada matriks, atau sama saja banyaknya variabel\n",
    "    n = np.shape(matriks)[0]\n",
    "\n",
    "    # definisikan vektor x0 sebagai tebakan awal\n",
    "    x0 = tebakan_awal.copy()\n",
    "\n",
    "    # error sementara (karena error belum diketahui), agar masuk while loop\n",
    "    err = tol + 1\n",
    "\n",
    "    while err > tol: # selama kriteria pemberhentian belum terpenuhi,\n",
    "        # anggap x0 sebagai x^(k-1) atau hasil iterasi sebelumnya,\n",
    "        # kemudian nilai yang baru akan disimpan pada vektor x^(k) berikut:\n",
    "        x = x0.copy()\n",
    "\n",
    "        # metode Jacobi untuk tiap i\n",
    "        for i in range(n):\n",
    "            b = matriks[i, n]\n",
    "            for j in range(n):\n",
    "                if j != i:\n",
    "                    b = b - matriks[i,j] * x0[j]\n",
    "                    # perhatikan bahwa selalu digunakan x0,\n",
    "                    # yaitu nilai-nilai x^(k-1), yaitu dari iterasi sebelumnya\n",
    "            x[i] = b/matriks[i,i]\n",
    "        \n",
    "        # update error mutlak\n",
    "        err = np.linalg.norm(x-x0, np.inf)\n",
    "\n",
    "        # memasuki iterasi selanjutnya,\n",
    "        # vektor x0 sekarang adalah vektor x yang barusan dihitung\n",
    "        x0 = x\n",
    "    \n",
    "    # jika keluar while loop maka metode selesai, x(k) adalah vektor hasil akhir\n",
    "    return x"
   ]
  },
  {
   "cell_type": "code",
   "execution_count": null,
   "metadata": {
    "colab": {
     "base_uri": "https://localhost:8080/"
    },
    "id": "YLI9ahdkx3KR",
    "outputId": "ab6ff842-0586-4d5c-d4e5-dfc71e0dcbdb"
   },
   "outputs": [
    {
     "name": "stdout",
     "output_type": "stream",
     "text": [
      "Masukkan matriks diperbesar: [ [10, -1, 2, 0, 6], [-1, 11, -1, 3, 25], [2, -1, 10, -1, -11], [0, 3, -1, 8, 15] ]\n",
      "Masukkan tebakan awal: [0,0,0,0]\n",
      "Masukkan toleransi: 10**-4\n",
      "Hasil metode Jacobi adalah:\n",
      "[ 0.99998973  2.00001582 -1.00001257  1.00001924]\n"
     ]
    }
   ],
   "source": [
    "matriks_diperbesar = np.array(eval(input(\"Masukkan matriks diperbesar: \"))).astype(float)\n",
    "tebakan_awal = np.array(eval(input(\"Masukkan tebakan awal: \")), dtype=float)\n",
    "# catatan: .astype(float) dan dtype=float melakukan hal yang sama,\n",
    "# dengan cara penggunaan yang sedikit berbeda:\n",
    "# - numpy.array(...).astype(float)\n",
    "# - numpy.array(..., dtype=float)\n",
    "# tidak ada salahnya apabila menggunakan salah satu saja (lebih baik konsisten)\n",
    "\n",
    "toleransi = eval(input(\"Masukkan toleransi: \"))\n",
    "\n",
    "hasil = Jacobi(matriks_diperbesar, tebakan_awal, toleransi)\n",
    "print(\"Hasil metode Jacobi adalah:\")\n",
    "print(hasil)"
   ]
  },
  {
   "cell_type": "markdown",
   "metadata": {
    "id": "EoEQ7h7-oMkq"
   },
   "source": [
    "## 4. Metode Gauss-Seidel, algoritma praktis"
   ]
  },
  {
   "cell_type": "markdown",
   "metadata": {
    "id": "2ivuqTCi4UR6"
   },
   "source": [
    "Metode Gauss-Seidel adalah modifikasi/perkembangan dari metode Jacobi, di mana semua nilai $x_i$ yang digunakan untuk perhitungan adalah selalu yang terbaru. Artinya, ketika menghitung $x_i^{(k)}$, meskipun nilai-nilai $x_{i+1}, \\dots, x_n$ yang digunakan adalah dari iterasi sebelumnya, nilai-nilai $x_1, x_2, \\dots, x_{i-1}$ yang digunakan adalah yang baru saja dihitung, yaitu dari iterasi yang sama. Hal ini tidak seperti metode Jacobi yang selalu menggunakan nilai-nilai dari iterasi sebelumnya.\n",
    "\n",
    "Oleh karena itu, untuk metode Gauss-Seidel, penulisan sumasi dipisah menjadi dua bagian, yaitu satu bagian untuk penggunaan nilai-nilai dari iterasi yang sama $(k)$, dan satu bagian untuk penggunaan nilai-nilai dari iterasi sebelumnya $(k-1)$.\n",
    "\n",
    "$$x_i^{(k)} = \\frac{1}{a_{ii}} \\left[ -\\sum_{j=1}^{i-1} \\left( a_{ij}x_j^{(k)} \\right) - \\sum_{j=i+1}^{n} \\left( a_{ij}x_j^{(k-1)} \\right) + b_i \\right],\\hspace{0.5cm} i = 1, 2, \\dots, n $$\n",
    "\n",
    "Akibat selalu menggunakan nilai-nilai terbaru, metode Gauss-Seidel cenderung lebih cepat konvergen memenuhi toleransi daripada metode Jacobi."
   ]
  },
  {
   "cell_type": "markdown",
   "metadata": {},
   "source": [
    "Secara algoritma, perubahan ini pun sebenarnya sangat kecil. Antara metode Jacobi dan metode Gauss-Seidel, perbedaannya hanya di satu baris saja..."
   ]
  },
  {
   "cell_type": "code",
   "execution_count": null,
   "metadata": {
    "id": "5njARortoNpT"
   },
   "outputs": [],
   "source": [
    "import numpy as np\n",
    "\n",
    "def GaussSeidel(matriks, tebakan_awal, tol):\n",
    "    # banyaknya baris pada matriks, atau sama saja banyaknya variabel\n",
    "    n = np.shape(matriks)[0]\n",
    "\n",
    "    # definisikan vektor x0 sebagai tebakan awal\n",
    "    x0 = tebakan_awal.copy()\n",
    "\n",
    "    # error sementara (karena error belum diketahui), agar masuk while loop\n",
    "    err = tol + 1\n",
    "\n",
    "    while err > tol: # selama kriteria pemberhentian belum terpenuhi,\n",
    "        # anggap x0 sebagai x^(k-1) atau hasil iterasi sebelumnya,\n",
    "        # kemudian nilai yang baru akan disimpan pada vektor x^(k) berikut:\n",
    "        x = x0.copy()\n",
    "\n",
    "        # metode Gauss-Seidel untuk tiap i\n",
    "        for i in range(n):\n",
    "            b = matriks[i, n]\n",
    "            for j in range(n):\n",
    "                if j != i:\n",
    "                    # perubahan dari metode Jacobi hanya di baris berikut\n",
    "                    b = b - matriks[i,j] * x[j]\n",
    "                    # perhatikan bahwa selalu digunakan x,\n",
    "                    # yaitu nilai-nilai x^(k), yaitu nilai-nilai terbaru;\n",
    "            x[i] = b/matriks[i,i]\n",
    "        \n",
    "        # update error mutlak\n",
    "        err = np.linalg.norm(x-x0, np.inf)\n",
    "\n",
    "        # memasuki iterasi selanjutnya,\n",
    "        # vektor x0 sekarang adalah vektor x yang barusan dihitung\n",
    "        x0 = x\n",
    "    \n",
    "    # jika keluar while loop maka metode selesai, x(k) adalah vektor hasil akhir\n",
    "    return x"
   ]
  },
  {
   "cell_type": "code",
   "execution_count": null,
   "metadata": {
    "colab": {
     "base_uri": "https://localhost:8080/"
    },
    "id": "Q2vOge4o19Ch",
    "outputId": "f814aee0-cce2-4868-d417-a854c6abf613"
   },
   "outputs": [
    {
     "name": "stdout",
     "output_type": "stream",
     "text": [
      "Masukkan matriks diperbesar: [ [10, -1, 2, 0, 6], [-1, 11, -1, 3, 25], [2, -1, 10, -1, -11], [0, 3, -1, 8, 15] ]\n",
      "Masukkan tebakan awal: [0,0,0,0]\n",
      "Masukkan toleransi: 10**-4\n",
      "Hasil Gauss-Seidel adalah:\n",
      "[ 1.00000836  2.00000117 -1.00000275  0.99999922]\n"
     ]
    }
   ],
   "source": [
    "matriks_diperbesar = np.array(eval(input(\"Masukkan matriks diperbesar: \"))).astype(float)\n",
    "tebakan_awal = np.array(eval(input(\"Masukkan tebakan awal: \")), dtype=float)\n",
    "toleransi = eval(input(\"Masukkan toleransi: \"))\n",
    "\n",
    "hasil = GaussSeidel(matriks_diperbesar, tebakan_awal, toleransi)\n",
    "print(\"Hasil Gauss-Seidel adalah:\")\n",
    "print(hasil)"
   ]
  },
  {
   "cell_type": "markdown",
   "metadata": {
    "id": "O4C3qU9eoOQC"
   },
   "source": [
    "## 5. Metode Relaksasi (SOR), algoritma praktis"
   ]
  },
  {
   "cell_type": "markdown",
   "metadata": {
    "id": "Eg-99ST-61j6"
   },
   "source": [
    "Metode relaksasi (***relaxation methods***) adalah metode untuk mempercepat kekonvergenan dari solusi yang dihasilkan oleh metode iteratif untuk SPL (dalam hal ini, metode Gauss-Seidel). Berdasarkan besar faktor relaksasi $\\omega$, metode relaksasi terbagi menjadi dua jenis, yaitu\n",
    "*   metode *under relaxation* jika $0 < \\omega < 1$\n",
    "*   metode *over relaxation* jika $\\omega > 1$\n",
    "\n",
    "Sesuai buku Burden, pembahasan kita akan fokus ke metode *over relaxation*. Metode *over relaxation* yang diterapkan terus-menerus untuk tiap iterasi Gauss-Seidel disebut metode ***Successive Over-Relaxation*** (SOR).\n",
    "\n",
    "Untuk sembarang nilai omega, rumus metode relaksasi sebagai modifikasi Gauss-Seidel bisa dituliskan sebagai berikut:\n",
    "\n",
    "$$x_i^{(k)} = \\left(1-\\omega\\right)x_i^{(k-1)} + \\frac{\\omega}{a_{ii}} \\left[ -\\sum_{j=1}^{i-1} \\left( a_{ij}x_j^{(k)} \\right) - \\sum_{j=i+1}^{n} \\left( a_{ij}x_j^{(k-1)} \\right) + b_i \\right],\\hspace{0.5cm} i = 1, 2, \\dots, n $$\n",
    "\n",
    "Catatan: jika $\\omega = 1$, diperoleh metode Gauss-Seidel yang telah dibahas sebelumnya (tanpa relaksasi)."
   ]
  },
  {
   "cell_type": "markdown",
   "metadata": {},
   "source": [
    "Lagi-lagi, perbedaan kode antara metode Gauss-Seidel dan metode SOR hanya di satu baris saja..."
   ]
  },
  {
   "cell_type": "code",
   "execution_count": null,
   "metadata": {},
   "outputs": [],
   "source": [
    "import numpy as np\n",
    "\n",
    "def SOR(matriks, tebakan_awal, tol, omega=1):\n",
    "    # banyaknya baris pada matriks, atau sama saja banyaknya variabel\n",
    "    n = np.shape(matriks)[0]\n",
    "\n",
    "    # definisikan vektor x0 sebagai tebakan awal\n",
    "    x0 = tebakan_awal.copy()\n",
    "\n",
    "    # error sementara (karena error belum diketahui), agar masuk while loop\n",
    "    err = tol + 1\n",
    "\n",
    "    while err > tol: # selama kriteria pemberhentian belum terpenuhi,\n",
    "        # anggap x0 sebagai x^(k-1) atau hasil iterasi sebelumnya,\n",
    "        # kemudian nilai yang baru akan disimpan pada vektor x^(k) berikut:\n",
    "        x = x0.copy()\n",
    "\n",
    "        # metode Gauss-Seidel untuk tiap i\n",
    "        for i in range(n):\n",
    "            b = matriks[i, n]\n",
    "            for j in range(n):\n",
    "                if j != i:\n",
    "                    b = b - matriks[i,j] * x[j]\n",
    "                    # perhatikan bahwa selalu digunakan x,\n",
    "                    # yaitu nilai-nilai x^(k), yaitu nilai-nilai terbaru;\n",
    "            # bedanya dengan metode Gauss-Seidel hanya di baris berikut:\n",
    "            x[i] = (1-omega) * x0[i] + omega*b/matriks[i,i] # hasil SOR\n",
    "        \n",
    "        # update error mutlak\n",
    "        err = np.linalg.norm(x-x0, np.inf)\n",
    "\n",
    "        # memasuki iterasi selanjutnya,\n",
    "        # vektor x0 sekarang adalah vektor x yang barusan dihitung\n",
    "        x0 = x\n",
    "    \n",
    "    # jika keluar while loop maka metode selesai, x(k) adalah vektor hasil akhir\n",
    "    return x"
   ]
  },
  {
   "cell_type": "code",
   "execution_count": null,
   "metadata": {
    "colab": {
     "base_uri": "https://localhost:8080/"
    },
    "id": "uVmFqQB27rhQ",
    "outputId": "e5e277ae-1039-415a-d939-92923886f9c0"
   },
   "outputs": [
    {
     "name": "stdout",
     "output_type": "stream",
     "text": [
      "Masukkan matriks diperbesar: [ [4, 3, 0, 24], [3, 4, -1, 30], [0, -1, 4, -24] ]\n",
      "Masukkan tebakan awal: [0,0,0]\n",
      "Masukkan faktor relaksasi (omega): 1.25\n",
      "Masukkan toleransi: 10**-4\n",
      "Hasil SOR adalah:\n",
      "[ 2.99998919  4.00000321 -4.9999937 ]\n"
     ]
    }
   ],
   "source": [
    "matriks_diperbesar = np.array(eval(input(\"Masukkan matriks diperbesar: \"))).astype(float)\n",
    "tebakan_awal = np.array(eval(input(\"Masukkan tebakan awal: \")), dtype=float)\n",
    "omega = eval(input(\"Masukkan faktor relaksasi (omega): \"))\n",
    "toleransi = eval(input(\"Masukkan toleransi: \"))\n",
    "\n",
    "hasil = SOR(matriks_diperbesar, tebakan_awal, toleransi, omega)\n",
    "print(\"Hasil SOR adalah:\")\n",
    "print(hasil)"
   ]
  }
 ],
 "metadata": {
  "colab": {
   "provenance": []
  },
  "kernelspec": {
   "display_name": "Python 3 (ipykernel)",
   "language": "python",
   "name": "python3"
  },
  "language_info": {
   "codemirror_mode": {
    "name": "ipython",
    "version": 3
   },
   "file_extension": ".py",
   "mimetype": "text/x-python",
   "name": "python",
   "nbconvert_exporter": "python",
   "pygments_lexer": "ipython3",
   "version": "3.10.11"
  }
 },
 "nbformat": 4,
 "nbformat_minor": 1
}
