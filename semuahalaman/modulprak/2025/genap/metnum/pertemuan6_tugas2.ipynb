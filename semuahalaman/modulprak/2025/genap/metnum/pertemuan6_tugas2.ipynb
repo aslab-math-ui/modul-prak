{
  "cells": [
    {
      "cell_type": "markdown",
      "metadata": {},
      "source": [
        "---\n",
        "title: \"TUGAS 2 Praktikum Metode Numerik: Ekstrapolasi dan Integrasi\"\n",
        "subtitle: \"Assignment\"\n",
        "author: \n",
        "    - \"Laboratorium Komputasi Matematika\"\n",
        "    - \"Departemen Matematika FMIPA UI\"\n",
        "description: \"Online dan Offline di Departemen Matematika\"\n",
        "date: 05/02/2025\n",
        "page-navigation: true\n",
        "format: html\n",
        "execute: \n",
        " enabled: false\n",
        "---\n",
        "\n",
        "<style>\n",
        ".box-grid {\n",
        "    display: grid;\n",
        "    grid-template-columns: 1fr 1fr;\n",
        "    gap: 20px;\n",
        "    margin: 20px 0;\n",
        "}\n",
        "\n",
        ".box-card {\n",
        "    padding: 15px;\n",
        "    border-radius: 10px;\n",
        "    box-shadow: 0 4px 8px rgba(0,0,0,0.1);\n",
        "    transition: transform 0.2s;\n",
        "    background: white;\n",
        "    text-align: center;\n",
        "}\n",
        "\n",
        ".box-card:hover {\n",
        "    transform: translateY(-5px);\n",
        "}\n",
        "\n",
        ".btn {\n",
        "    display: inline-block;\n",
        "    padding: 12px 24px;\n",
        "    background: linear-gradient(45deg, #4CAF50, #45a049);\n",
        "    color: white !important;\n",
        "    text-decoration: none;\n",
        "    border-radius: 25px;\n",
        "    font-weight: bold;\n",
        "    transition: all 0.3s;\n",
        "    border: none;\n",
        "    cursor: pointer;\n",
        "}\n",
        "\n",
        ".btn:hover {\n",
        "    background: linear-gradient(45deg, #45a049, #4CAF50);\n",
        "    box-shadow: 0 4px 15px rgba(0,0,0,0.2);\n",
        "}\n",
        "</style>"
      ]
    },
    {
      "cell_type": "markdown",
      "metadata": {},
      "source": [
        "### Petunjuk Umum:"
      ]
    },
    {
      "cell_type": "markdown",
      "metadata": {},
      "source": [
        "1. Kerjakan secara Individu\n",
        "2. Kerjakan tugas ini menggunakan bahasa pemrograman Python dengan file format berupa interactive Python notebook (yaitu file berbentuk .ipynb BUKAN .py), yang bisa dibuat misalnya menggunakan Jupyter Notebook atau Google Colaboratory.\n",
        "3. **Harap sertakan penjelasan untuk setiap variabel yang digunakan dan setiap proses secara singkat** di samping potongan kode (dengan comment, ‘#'). Selain itu, **sertakan juga penjelasan program** (yang bisa mencakupi idenya apa, bagaimana cara eksekusi program, atau tentang algoritma program yang digunakan) **pada *cell* di sebelah (atas/bawah) program**.\n",
        "4. Format nama *file* untuk Tugas 2 ini adalah:\n",
        "\n",
        "    Nama Lengkap_NPM_Kelas SIAK_Tugas2PrakMetnum.ipynb\n",
        "\n",
        "    Contoh penamaan yang benar:\n",
        "\n",
        "    Luthfi Athallah Herdita Wiryaman_2206826980_Kelas G_Tugas1PrakMetnum_OnSite.ipynb\n",
        "\n",
        "    Luthfi Athallah Herdita Wiryaman_2206826980_Kelas G_Tugas1PrakMetnum_OnSite_revisi1.ipynb\n",
        "\n",
        "5. Pengumpulan tugas dilakukan ke Google Forms berikut ini, sesuai dengan kelas Anda di SIAK NG (link akan selalu sama untuk semua tugas praktikum metode numerik):\n",
        "- Kelas A: [https://forms.gle/3xguPQVR2HJGbi456](https://forms.gle/3xguPQVR2HJGbi456)\n",
        "- Kelas B: [https://forms.gle/XfxJAUyAdwDLgMwj6](https://forms.gle/XfxJAUyAdwDLgMwj6)\n",
        "- Kelas C: [https://forms.gle/ihiKuSjU65fpxEZ67](https://forms.gle/ihiKuSjU65fpxEZ67)\n",
        "- Kelas D: [https://forms.gle/15BVmErcputb5NrX8](https://forms.gle/15BVmErcputb5NrX8)\n",
        "- Kelas E: [https://forms.gle/MydWb7kku6iyvdNNA](https://forms.gle/MydWb7kku6iyvdNNA)\n",
        "- Kelas F: [https://forms.gle/RuKXWpwQeu7Jbt5YA](https://forms.gle/RuKXWpwQeu7Jbt5YA)\n",
        "\n",
        "6. Durasi pengerjaan Tugas 2 ini adalah 9 (sembilan) hari, dan tenggat waktu (deadline) pengumpulan Tugas 2 ini adalah Sabtu, 10 Mei 2025 pukul 23.59 WIB.\n",
        "Mohon manfaatkan waktu Anda dengan baik (seperti mencicil pengerjaan, bahkan sudah selesai dari jauh-jauh hari) agar mengumpulkan tugas sebelum deadline. Keterlambatan pengumpulan bisa dikenakan pengurangan nilai atau bahkan dianggap tidak mengumpulkan, tergantung kesepakatan dari dosen. Meskipun demikian, lebih baik terlambat mengumpulkan daripada tidak mengumpulkan sama sekali.\n",
        "\n",
        "7. Sesuai standar Universitas Indonesia, **plagiarisme dilarang keras** dan bisa menyebabkan nilai tugas praktikum **menjadi nol untuk semua pihak yang terlibat, tanpa peringatan apapun**.\n",
        "\n",
        "8. *Module* atau *package* Python yang boleh digunakan (di-import) untuk Tugas 2 ini hanyalah numpy, tabulate, matplotlib, dan sympy. Apabila Anda berniat ingin menggunakan module lain, harap konfirmasikan ke narahubung terlebih dahulu (bisa saja diperbolehkan).\n",
        "Narahubung untuk Tugas 1 Praktikum Metode Numerik adalah:\n",
        "    - 📞 Fasya (LINE: ifasyai)\n",
        "\n"
      ]
    },
    {
      "cell_type": "markdown",
      "metadata": {},
      "source": [
        "### Diferensiasi Numerik"
      ]
    },
    {
      "cell_type": "markdown",
      "metadata": {},
      "source": [
        "Buatlah suatu program dengan nama **turunkan()** yaitu program yang menerima sembarang input berupa fungsi $f(x)$, titik evaluasi fungsi $x_0$, dan stepsize $h$ untuk dilakukan diferensiasi numerik.\n",
        "\n",
        "Isi program tersebut meliputi:\n",
        "1. Input fungsi yang bisa ditetapkan pengguna sesuka hati.\n",
        "2. Input nilai $x_0$ dan stepsize $h$ yang ditetapkan bersamaan dengan fungsi.\n",
        "3. Kondisi untuk mengulang program berkali-kali.\n",
        "4. Handling error yang mungkin dapat terjadi.\n",
        "\n",
        "Output program berupa tabel yang berisi nilai eksak turunan fungsi, hasil diferensiasi numerik Metode Forward-Backward, Three-Point, dan Five-Point (Three point dan five point termasuk juga).\n",
        "\n",
        "Lalu, menurut anda berdasarkan fungsi-fungsi yang telah anda gunakan sebagai output (minimal 5 fungsi), metode mana yang terbaik dalam mengaproksimasi nilai turunan dari fungsi-fungsi tersebut, jelaskan pada cell markdown!\n",
        "\n",
        "Contoh Output sebagai berikut."
      ]
    },
    {
      "cell_type": "code",
      "execution_count": 16,
      "metadata": {
        "colab": {
          "base_uri": "https://localhost:8080/"
        },
        "id": "WM-sxlUjE1-s",
        "outputId": "5af80406-9f38-4a90-db8a-fc2dfc7e89a4"
      },
      "outputs": [
        {
          "name": "stdout",
          "output_type": "stream",
          "text": [
            "===========================================================================\n",
            "Program ini akan mencari nilai turunan dari fungsi yang diberikan\n",
            "Masukkan fungsi yang ingin diaproksimasi nilai turunannya.\n",
            "Turunan eksaknya adalah:\n",
            "⎛   2       ⎞                    2                2          \n",
            "⎝tan (x) + 1⎠⋅sin(x)⋅cos(x) - sin (x)⋅tan(x) + cos (x)⋅tan(x)\n",
            "+-------+-------+------------------------+------------------------+-----------------------+-----------------------+-----------------------+\n",
            "|       | Eksak |     F/B Difference     |  Three-Point Endpoint  | Three-Point Midpoint  |  Five-Point Endpoint  |  Five-Point Midpoint  |\n",
            "+-------+-------+------------------------+------------------------+-----------------------+-----------------------+-----------------------+\n",
            "|  (x)  |  2.0  | -9.999778782798785e-07 | 1.1102230246251565e-10 | 5.551115123125783e-11 | 6.661338147750939e-10 | 5.551115123125783e-11 |\n",
            "| Error |   -   |   2.0000009999778783   |   1.9999999998889777   |  1.9999999999444888   |  1.9999999993338662   |  1.9999999999444888   |\n",
            "+-------+-------+------------------------+------------------------+-----------------------+-----------------------+-----------------------+\n",
            "tung-tung-tung-tung jalankan program...\n",
            "===========================================================================\n",
            "Masukkan fungsi yang ingin diaproksimasi nilai turunannya.\n",
            "Turunan eksaknya adalah:\n",
            "          ⎛ 2⎞        \n",
            "      -sin⎝x ⎠    ⎛ 2⎞\n",
            "-2⋅x⋅ℯ        ⋅cos⎝x ⎠\n",
            "+-------+---------------------+-----------------------+------------------------+------------------------+-----------------------+-----------------------+\n",
            "|       |        Eksak        |    F/B Difference     |  Three-Point Endpoint  |  Three-Point Midpoint  |  Five-Point Endpoint  |  Five-Point Midpoint  |\n",
            "+-------+---------------------+-----------------------+------------------------+------------------------+-----------------------+-----------------------+\n",
            "|  (x)  | -0.5462056901443965 |  -0.5462064225358887  |  -0.5462056902882928   |  -0.5462056901217593   |  -0.5462056909359229  |  -0.5462056900940038  |\n",
            "| Error |          -          | 7.323914922308106e-07 | 1.4389633928857393e-10 | 2.2637114405199554e-11 | 7.915263999791478e-10 | 5.039269002082847e-11 |\n",
            "+-------+---------------------+-----------------------+------------------------+------------------------+-----------------------+-----------------------+\n",
            "Sayonara...\n",
            "===========================================================================\n"
          ]
        }
      ],
      "source": [
        "turunkan()"
      ]
    },
    {
      "cell_type": "markdown",
      "metadata": {
        "id": "C_GT_MEdzpo8"
      },
      "source": [
        "### Ekstrapolasi Numerik"
      ]
    },
    {
      "cell_type": "markdown",
      "metadata": {
        "id": "6jcBYmJtH4HD"
      },
      "source": [
        "Diberikan suatu fungsi $f(x)$ yang ingin dicari nilai turunannya menggunakan Metode Ekstrapolasi Richardson untuk $h$ pangkat genap.\n",
        "\n",
        "Buatlah suatu program yang dinamakan **PrintAll()** yang menerima input berupa sembarang fungsi $f(x)$, nilai evaluasi turunan $x_0$ dan $h$!\n",
        "\n",
        "Output fungsi berupa tabel yang berisi perbandingan hasil ekstrapolasi menggunakan metode-metode turunan Numerik hingga $O(h^{16})$. Tambahan nilai jika anda membuat program dapat ditambahkan suku $O(h^{2j})$ berikutnya."
      ]
    },
    {
      "cell_type": "markdown",
      "metadata": {},
      "source": [
        "Berikut contoh output menggunakan fungsi $f(x) = x^2 $."
      ]
    },
    {
      "cell_type": "code",
      "execution_count": 23,
      "metadata": {},
      "outputs": [
        {
          "name": "stdout",
          "output_type": "stream",
          "text": [
            "Metode Forward-Backward Difference\n",
            "|   O(h^2) | O(h^4)             | O(h^6)             | O(h^8)             | O(h^10)            | O(h^12)           | O(h^14)           | O(h^16)           |\n",
            "|----------+--------------------+--------------------+--------------------+--------------------+-------------------+-------------------+-------------------|\n",
            "|  4.005   |                    |                    |                    |                    |                   |                   |                   |\n",
            "|  4.0025  | 4.001666666666696  |                    |                    |                    |                   |                   |                   |\n",
            "|  4.00125 | 4.000833333333749  | 4.000777777778219  |                    |                    |                   |                   |                   |\n",
            "|  4.00062 | 4.000416666665292  | 4.000388888887395  | 4.000382716047858  |                    |                   |                   |                   |\n",
            "|  4.00031 | 4.0002083333372225 | 4.0001944444486845 | 4.0001913580290225 | 4.000190607605419  |                   |                   |                   |\n",
            "|  4.00016 | 4.000104166663239  | 4.000097222218307  | 4.000095679008301  | 4.0000953037964555 | 4.000095210635352 |                   |                   |\n",
            "|  4.00008 | 4.000052083334064  | 4.00004861111212   | 4.00004783950726   | 4.000047651901373  | 4.00004760532083  | 4.000047593695601 |                   |\n",
            "|  4.00004 | 4.000026041664266  | 4.000024305552946  | 4.0000239197504195 | 4.000023825947451  | 4.000023802657174 | 4.000023796844558 | 4.000023795392025 |\n",
            "\n",
            "Metode Three-Point End Point\n",
            "|   O(h^2) | O(h^4)             | O(h^6)             | O(h^8)             | O(h^10)            | O(h^12)           | O(h^14)           | O(h^16)           |\n",
            "|----------+--------------------+--------------------+--------------------+--------------------+-------------------+-------------------+-------------------|\n",
            "|        4 |                    |                    |                    |                    |                   |                   |                   |\n",
            "|        4 | 4.000000000000152  |                    |                    |                    |                   |                   |                   |\n",
            "|        4 | 4.000000000000803  | 4.000000000000846  |                    |                    |                   |                   |                   |\n",
            "|        4 | 3.999999999996836  | 3.999999999996571  | 3.9999999999965032 |                    |                   |                   |                   |\n",
            "|        4 | 4.000000000009152  | 4.0000000000099725 | 4.000000000010186  | 4.000000000010239  |                   |                   |                   |\n",
            "|        4 | 3.9999999999892566 | 3.99999999998793   | 3.99999999998758   | 3.9999999999874913 | 3.999999999987469 |                   |                   |\n",
            "|        4 | 4.0000000000048885 | 4.00000000000593   | 4.000000000006216  | 4.000000000006289  | 4.000000000006308 | 4.000000000006312 |                   |\n",
            "|        4 | 3.999999999994467  | 3.9999999999937725 | 3.9999999999935794 | 3.9999999999935296 | 3.999999999993517 | 3.999999999993514 | 3.999999999993513 |\n",
            "\n",
            "Metode Three-Point Mid Point\n",
            "|   O(h^2) | O(h^4)             | O(h^6)             | O(h^8)             | O(h^10)            | O(h^12)            | O(h^14)            | O(h^16)            |\n",
            "|----------+--------------------+--------------------+--------------------+--------------------+--------------------+--------------------+--------------------|\n",
            "|        4 |                    |                    |                    |                    |                    |                    |                    |\n",
            "|        4 | 3.9999999999999147 |                    |                    |                    |                    |                    |                    |\n",
            "|        4 | 4.000000000000152  | 4.000000000000168  |                    |                    |                    |                    |                    |\n",
            "|        4 | 3.9999999999998557 | 3.999999999999836  | 3.999999999999831  |                    |                    |                    |                    |\n",
            "|        4 | 4.000000000000862  | 4.00000000000093   | 4.000000000000948  | 4.000000000000952  |                    |                    |                    |\n",
            "|        4 | 4.000000000000625  | 4.000000000000609  | 4.000000000000604  | 4.000000000000602  | 4.000000000000602  |                    |                    |\n",
            "|        4 | 3.9999999999987303 | 3.9999999999986042 | 3.9999999999985723 | 3.9999999999985643 | 3.9999999999985625 | 3.999999999998562  |                    |\n",
            "|        4 | 3.999999999995415  | 3.9999999999951936 | 3.9999999999951394 | 3.999999999995126  | 3.9999999999951226 | 3.9999999999951217 | 3.9999999999951217 |\n",
            "\n",
            "Metode Five-Point End Point\n",
            "|   O(h^2) | O(h^4)             | O(h^6)             | O(h^8)             | O(h^10)            | O(h^12)            | O(h^14)            | O(h^16)            |\n",
            "|----------+--------------------+--------------------+--------------------+--------------------+--------------------+--------------------+--------------------|\n",
            "|        4 |                    |                    |                    |                    |                    |                    |                    |\n",
            "|        4 | 4.000000000000823  |                    |                    |                    |                    |                    |                    |\n",
            "|        4 | 4.000000000001218  | 4.000000000001244  |                    |                    |                    |                    |                    |\n",
            "|        4 | 3.999999999996678  | 3.999999999996376  | 3.9999999999962985 |                    |                    |                    |                    |\n",
            "|        4 | 4.000000000024309  | 4.0000000000261515 | 4.000000000026624  | 4.000000000026743  |                    |                    |                    |\n",
            "|        4 | 3.9999999999437823 | 3.9999999999384137 | 3.999999999937021  | 3.9999999999366698 | 3.999999999936582  |                    |                    |\n",
            "|        4 | 3.9999999999976255 | 4.000000000001215  | 4.000000000002212  | 4.000000000002467  | 4.000000000002531  | 4.000000000002547  |                    |\n",
            "|        4 | 3.9999999999685723 | 3.9999999999666356 | 3.9999999999660867 | 3.999999999965945  | 3.9999999999659095 | 3.9999999999659006 | 3.9999999999658984 |\n",
            "\n",
            "Metode Five-Point Mid Point\n",
            "|   O(h^2) | O(h^4)             | O(h^6)             | O(h^8)             | O(h^10)            | O(h^12)            | O(h^14)            | O(h^16)          |\n",
            "|----------+--------------------+--------------------+--------------------+--------------------+--------------------+--------------------+------------------|\n",
            "|        4 |                    |                    |                    |                    |                    |                    |                  |\n",
            "|        4 | 3.9999999999999543 |                    |                    |                    |                    |                    |                  |\n",
            "|        4 | 4.000000000000221  | 4.000000000000239  |                    |                    |                    |                    |                  |\n",
            "|        4 | 3.999999999999836  | 3.9999999999998104 | 3.9999999999998037 |                    |                    |                    |                  |\n",
            "|        4 | 4.000000000001178  | 4.000000000001267  | 4.0000000000012905 | 4.000000000001297  |                    |                    |                  |\n",
            "|        4 | 4.00000000000181   | 4.000000000001852  | 4.000000000001861  | 4.000000000001863  | 4.000000000001864  |                    |                  |\n",
            "|        4 | 3.9999999999958886 | 3.999999999995494  | 3.999999999995393  | 3.9999999999953677 | 3.9999999999953615 | 3.9999999999953597 |                  |\n",
            "|        4 | 3.9999999999960467 | 3.9999999999960574 | 3.9999999999960663 | 3.999999999996069  | 3.99999999999607   | 3.99999999999607   | 3.99999999999607 |\n",
            "\n"
          ]
        }
      ],
      "source": [
        "PrintAll(f, 2, 0.01)"
      ]
    },
    {
      "cell_type": "markdown",
      "metadata": {
        "id": "m4xPvz4PzxJ1"
      },
      "source": [
        "### Integrasi Numerik"
      ]
    },
    {
      "cell_type": "markdown",
      "metadata": {},
      "source": [
        "Soal 1\n",
        "\n",
        "Diberikan fungsi $\n",
        "g(x) = \\cfrac{1}{\\sigma \\sqrt{2\\pi}}e^{-\\cfrac{(x-\\mu)^2}{2\\sigma ^ 2}} \\text{ , pada interval } -1000 + \\mu \\leq x \\leq 1000 + \\mu\n",
        "$\n",
        "\n",
        "di mana $\\mu$ adalah digit terakhir NPM dan $\\sigma$ adalah kode kelas anda. Contoh: 220602512**3** berarti $\\mu = 3$.\n",
        "\n",
        "**Kode Kelas**\n",
        "\n",
        "- A = 1\n",
        "\n",
        "- B = 2\n",
        "\n",
        "- C = 3\n",
        "\n",
        "- D = 4\n",
        "\n",
        "- E = 5\n",
        "\n",
        "- F = 6\n",
        "\n",
        "Buatlah program **IntegrateAll1()** dengan parameter yang sesuai menurut anda untuk melakukan integrasi numerik pada fungsi dengan batas tersebut menggunakan Metode Kuadratur Adaptif dengan semua Metode Newton-Cotes yang sudah anda pelajari pada praktikum (Open dan Closed)! Berikan juga hasil output dari setiap metode dalam satu tabel!\n",
        "\n"
      ]
    },
    {
      "cell_type": "markdown",
      "metadata": {},
      "source": [
        "Contoh output untuk fungsi $g(x) = x^3$ dengan batas $[-1, 1]$"
      ]
    },
    {
      "cell_type": "code",
      "execution_count": 40,
      "metadata": {},
      "outputs": [
        {
          "name": "stdout",
          "output_type": "stream",
          "text": [
            "Tabel Metode Kuadratur Adaptif menggunakan Closed dan Open Newton-Cotes:\n",
            "+--------+-----+------------------------+-----+-------------------------+-----+\n",
            "|   n    |  0  |           1            |  2  |            3            |  4  |\n",
            "+--------+-----+------------------------+-----+-------------------------+-----+\n",
            "| closed |     |          0.0           | 0.0 | -1.1102230246251565e-16 | 0.0 |\n",
            "|  open  | 0.0 | -8.326672684688674e-17 | 0.0 |           0.0           |     |\n",
            "+--------+-----+------------------------+-----+-------------------------+-----+\n"
          ]
        }
      ],
      "source": [
        "def g(x):\n",
        "    return x ** 3\n",
        "\n",
        "IntegrateAll1(g, -1, 1, 0.000001)"
      ]
    },
    {
      "cell_type": "markdown",
      "metadata": {},
      "source": [
        "Soal 2 dibagi menjadi berdasarkan NPM.\n",
        "\n",
        "- Untuk NPM dengan digit terakhir ganjil, diberikan fungsi:\n",
        "\n",
        "$\n",
        "f(x) = \\begin{cases}\n",
        "      \\tan^5(\\sin(\\cos(x^2)) & -3\\leq x\\leq 0 \\\\\n",
        "      -\\tan^5(\\sin(\\cos(x^2)) & 0< x\\leq 3 \\\\\n",
        "   \\end{cases}\n",
        "$\n",
        "\n",
        "- Untuk NPM dengan digit terakhir genap, diberikan fungsi:\n",
        "\n",
        "$\n",
        "f(x) = \\begin{cases}\n",
        "      -\\tan^5(\\sin(\\cos(x^2)) & -3\\leq x\\leq 0 \\\\\n",
        "      \\tan^5(\\sin(\\cos(x^2)) & 0< x\\leq 3 \\\\\n",
        "   \\end{cases}\n",
        "$\n",
        "\n",
        "Buatlah program **IntegrateAll2()** dengan parameter yang sesuai menurut anda untuk melakukan integrasi numerik pada fungsi dengan batas tersebut menggunakan Metode Kuadratur Adaptif dengan semua Metode Newton-Cotes yang sudah anda pelajari pada praktikum (Open dan Closed)! Berikan juga hasil output dari setiap metode dalam satu tabel! \n",
        "\n",
        "Contoh output sama persis dengan contoh output pada nomor 1."
      ]
    }
  ],
  "metadata": {
    "colab": {
      "provenance": []
    },
    "kernelspec": {
      "display_name": "Python 3",
      "name": "python3"
    },
    "language_info": {
      "codemirror_mode": {
        "name": "ipython",
        "version": 3
      },
      "file_extension": ".py",
      "mimetype": "text/x-python",
      "name": "python",
      "nbconvert_exporter": "python",
      "pygments_lexer": "ipython3",
      "version": "3.12.7"
    }
  },
  "nbformat": 4,
  "nbformat_minor": 0
}
