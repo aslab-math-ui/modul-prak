{
 "cells": [
  {
   "cell_type": "markdown",
   "metadata": {
    "id": "Jk8j_eI4oVjD"
   },
   "source": [
    "---\n",
    "title: \"(Pertemuan 1) Pendahuluan Sympy, Tabulate, dan Metode Root-finding\"\n",
    "subtitle: \"Pengenalan Sympy, Tabulate, dan Metode Root-Finding\"\n",
    "author: \"Aslab Mata Kuliah Praktikum Metode Numerik\"\n",
    "description: \"Offline di Departemen Matematika\"\n",
    "date: 03/04/2025\n",
    "page-navigation: true\n",
    "format: html\n",
    "execute: \n",
    " enabled: false\n",
    "---\n",
    "\n",
    "<style>\n",
    ".box-grid {\n",
    "    display: grid;\n",
    "    grid-template-columns: 1fr 1fr;\n",
    "    gap: 20px;\n",
    "    margin: 20px 0;\n",
    "}\n",
    "\n",
    ".box-card {\n",
    "    padding: 15px;\n",
    "    border-radius: 10px;\n",
    "    box-shadow: 0 4px 8px rgba(0,0,0,0.1);\n",
    "    transition: transform 0.2s;\n",
    "    background: white;\n",
    "    text-align: center;\n",
    "}\n",
    "\n",
    ".box-card:hover {\n",
    "    transform: translateY(-5px);\n",
    "}\n",
    "\n",
    ".btn {\n",
    "    display: inline-block;\n",
    "    padding: 12px 24px;\n",
    "    background: linear-gradient(45deg, #4CAF50, #45a049);\n",
    "    color: white !important;\n",
    "    text-decoration: none;\n",
    "    border-radius: 25px;\n",
    "    font-weight: bold;\n",
    "    transition: all 0.3s;\n",
    "    border: none;\n",
    "    cursor: pointer;\n",
    "}\n",
    "\n",
    ".btn:hover {\n",
    "    background: linear-gradient(45deg, #45a049, #4CAF50);\n",
    "    box-shadow: 0 4px 15px rgba(0,0,0,0.2);\n",
    "}\n",
    "</style>"
   ]
  },
  {
   "cell_type": "markdown",
   "metadata": {},
   "source": [
    "Kembali ke [Metode Numerik](./metnum2025genap.qmd)"
   ]
  },
  {
   "cell_type": "markdown",
   "metadata": {},
   "source": [
    "**Selamat datang di praktikum Metode Numerik!**\n",
    "\n",
    "Materi Pembahasan:\n",
    "\n",
    "1. *Tabulate Library*\n",
    "\n",
    "2. *Sympy Library*\n",
    "\n",
    "3. *Bisection Method*\n",
    "\n",
    "4. *Fixed Point Method*\n",
    "\n",
    "5. *Newton Method*\n",
    "\n",
    "6. Diskusi\n",
    "\n",
    "Praktikum Metode Numerik PTA 2024-2025 <br>\n",
    "Departemen Matematika FMIPA Universitas Indonesia\n",
    "\n",
    "<hr/>\n",
    "\n",
    "Pada praktikum ini, kalian akan diajarkan esensial-esensial yang dibutuhkan dan algoritma dasar untuk metode-metode pada Metnum.\n",
    "\n",
    "Semua modul telah diuji menggunakan Jupyter Notebook dengan Python 3.11, serta Google Colaboratory yang menggunakan Python 3.9. Semua kode pada modul masih bisa digunakan untuk semua Python versi 3.6 ke atas.\n",
    "\n",
    "<hr/>\n",
    "\n",
    "There are three alternative types of tools for writing Python programs:\n",
    "\n",
    "* a plain text editor\n",
    "\n",
    "* an integrated development environment (IDE) with a text editor\n",
    "\n",
    "* an IPython notebook\n",
    "\n",
    "Recommendations:\n",
    "\n",
    "* If you are a student a university where Windows is the dominating operating\n",
    "system, and you are a Windows user yourself, install Anaconda. Write and run\n",
    "Python programs in **Spyder**.\n",
    "\n",
    "* If you are uncertain how much you will program with Python and primarily\n",
    "want to get a taste of Python programming first, access Python in the cloud, e.g., through the **Google Colab**."
   ]
  },
  {
   "cell_type": "markdown",
   "metadata": {},
   "source": [
    "Algoritma dan Pemograman adalah syarat dari praktikum ini. Jadi, apabila kalian ada yang lupa beberapa materi praktikum ALPROG (algoritma dan pemograman) kalian bisa akses disini.\n",
    "\n",
    "<div class=\"contact-grid\">\n",
    "<div class=\"contact-card\">\n",
    "<a href=\"https://aslab-math-ui.github.io/modul-prak/semuahalaman/modulprak/2024/genap/metnum/modul0.html\" class=\"btn\">😋Review Python Singkat</a>\n",
    "</div>\n",
    "<div class=\"contact-card\">\n",
    "<a href=\"https://aslab-math-ui.github.io/modul-prak/semuahalaman/modulprak/2024/ganjil/prak_alprog/prak_alprog_2024.html\" class=\"btn\">😥Review Alprog Lengkap</a>\n",
    "</div>\n",
    "</div>"
   ]
  },
  {
   "cell_type": "markdown",
   "metadata": {},
   "source": [
    "## Tabulate"
   ]
  },
  {
   "cell_type": "markdown",
   "metadata": {},
   "source": [
    "Untuk menyajikan hasil iterasi, tabel sering digunakan karena akan mudah membacanya. Di Python, terdapat package untuk membuat tabel dengan cara sederhana. Package tersebut bernama tabulate.\n",
    "\n",
    "Seperti package umumnya, pertama kita import terlebih dahulu."
   ]
  },
  {
   "cell_type": "code",
   "execution_count": null,
   "metadata": {},
   "outputs": [],
   "source": [
    "from tabulate import tabulate"
   ]
  },
  {
   "cell_type": "markdown",
   "metadata": {},
   "source": [
    "Apabila terjadi error (karena tabulate belum terinstall), kalian bisa mengetik `pip install tabulate` (atau `!pip install tabulate` dengan tanda seru)"
   ]
  },
  {
   "cell_type": "code",
   "execution_count": null,
   "metadata": {},
   "outputs": [
    {
     "name": "stdout",
     "output_type": "stream",
     "text": [
      "Requirement already satisfied: tabulate in /Library/Frameworks/Python.framework/Versions/3.11/lib/python3.11/site-packages (0.9.0)\n",
      "Note: you may need to restart the kernel to use updated packages.\n"
     ]
    }
   ],
   "source": [
    "pip install tabulate"
   ]
  },
  {
   "cell_type": "code",
   "execution_count": null,
   "metadata": {},
   "outputs": [],
   "source": [
    "!pip install tabulate"
   ]
  },
  {
   "cell_type": "markdown",
   "metadata": {},
   "source": [
    "dan seperti biasa, setelah instalasi selesai, mungkin kalian perlu menutup kemudian membuka kembali Jupyter Notebook sebelum bisa menggunakan tabulate."
   ]
  },
  {
   "cell_type": "markdown",
   "metadata": {},
   "source": [
    "Sekarang, buat konten tabel. Konten tabel disimpan dalam list/array 2-D dimana setiap array di dalamnya adalah baris.\n",
    "\n",
    "Headers dari tabel dapat kita buat sendiri. Jumlah dari headers harus sama dengan jumlah elemen pada setiap array.\n",
    "\n",
    "'tablefmt' adalah format bentuk tabel. Format yang biasa digunakan adalah \"orgtbl\", dan ada macam-macam format tabel yang bisa dicari di <https://pypi.org/project/tabulate/>"
   ]
  },
  {
   "cell_type": "code",
   "execution_count": null,
   "metadata": {},
   "outputs": [
    {
     "name": "stdout",
     "output_type": "stream",
     "text": [
      "| Buah   |   Kuantitas |\n",
      "|--------+-------------|\n",
      "| Jeruk  |           1 |\n",
      "| Nanas  |           2 |\n"
     ]
    }
   ],
   "source": [
    "table = [[\"Jeruk\", 1], [\"Nanas\", 2]]\n",
    "print(tabulate(table, headers = [\"Buah\", \"Kuantitas\"], tablefmt = \"orgtbl\"))"
   ]
  },
  {
   "cell_type": "markdown",
   "metadata": {},
   "source": [
    "Dalam membuat konten tabel, panjang dari setiap list harus sama dengan banyak headers. Apabila ada baris yang banyak elemennya\n",
    "melebihi banyak headers, maka elemen yang diambil adalah elemen sebanyak headers yang pertama. Kolom paling kiri diisi terlebih\n",
    "dahulu.\n",
    "\n",
    "Perhatikan contoh berikut."
   ]
  },
  {
   "cell_type": "code",
   "execution_count": null,
   "metadata": {},
   "outputs": [
    {
     "name": "stdout",
     "output_type": "stream",
     "text": [
      "| Buah   |   Kuantitas |   Harga |\n",
      "|--------+-------------+---------|\n",
      "| Jeruk  |           1 |       4 |\n",
      "| Nanas  |           2 |       3 |\n",
      "| Mangga |           3 |         |\n"
     ]
    }
   ],
   "source": [
    "table = [[\"Jeruk\", 1, 4], [\"Nanas\", 2, 3, 5], [\"Mangga\", 3]]\n",
    "print(tabulate(table, headers = [\"Buah\", \"Kuantitas\", \"Harga\"], tablefmt = \"orgtbl\"))"
   ]
  },
  {
   "cell_type": "markdown",
   "metadata": {},
   "source": [
    "Apabila baris pertama digunakan sebagai header, banyak kolom akan sama dengan banyak elemen yang paling banyak di antara semua\n",
    "baris tabel. Penamaan kolom dimulai dari kanan.\n",
    "\n",
    "Perhatikan contoh berikut."
   ]
  },
  {
   "cell_type": "code",
   "execution_count": null,
   "metadata": {},
   "outputs": [
    {
     "name": "stdout",
     "output_type": "stream",
     "text": [
      "|        |   Saya |   1 |   4 |\n",
      "|--------+--------+-----+-----|\n",
      "| Tampan |      2 |   3 |   5 |\n",
      "| Banget |      3 |   5 |     |\n"
     ]
    }
   ],
   "source": [
    "table = [[\"Saya\", 1, 4], [\"Tampan\", 2, 3, 5], [\"Banget\", 3, 5]]\n",
    "print(tabulate(table, headers = \"firstrow\", tablefmt = \"orgtbl\"))"
   ]
  },
  {
   "cell_type": "markdown",
   "metadata": {},
   "source": [
    "Tabulate sangat berguna untuk membentuk tabel secara \"otomatis\" atau secara pemrograman. Misalnya, kita bisa memanfaatkan *looping* dan pernyataan kondisional untuk membuat beberapa baris yang mengikuti pola dan syarat tertentu."
   ]
  },
  {
   "cell_type": "markdown",
   "metadata": {},
   "source": [
    "Sebagai contoh, misalnya kita punya *function* yang menghitung bilangan kuadrat ke-i"
   ]
  },
  {
   "cell_type": "code",
   "execution_count": null,
   "metadata": {},
   "outputs": [],
   "source": [
    "def kuadrat(i):\n",
    "    return i**2"
   ]
  },
  {
   "cell_type": "code",
   "execution_count": null,
   "metadata": {},
   "outputs": [
    {
     "name": "stdout",
     "output_type": "stream",
     "text": [
      "25\n"
     ]
    }
   ],
   "source": [
    "print(kuadrat(5))"
   ]
  },
  {
   "cell_type": "markdown",
   "metadata": {},
   "source": [
    "Kita bisa membuat tabel, misalnya, yang menjabarkan bilangan kuadrat ke-1 sampai ke-5. Perhatikan struktur tabel apabila dibuat secara manual:"
   ]
  },
  {
   "cell_type": "code",
   "execution_count": null,
   "metadata": {},
   "outputs": [
    {
     "name": "stdout",
     "output_type": "stream",
     "text": [
      "  i    kuadrat\n",
      "---  ---------\n",
      "  1          1\n",
      "  2          4\n",
      "  3          9\n",
      "  4         16\n",
      "  5         15\n"
     ]
    }
   ],
   "source": [
    "tabel_kuadrat = [\n",
    "    [1, 1],\n",
    "    [2, 4],\n",
    "    [3, 9],\n",
    "    [4, 16],\n",
    "    [5, 15]\n",
    "]\n",
    "print(tabulate(tabel_kuadrat, headers=[\"i\", \"kuadrat\"]))"
   ]
  },
  {
   "cell_type": "markdown",
   "metadata": {},
   "source": [
    "Terlihat bahwa tabel tersebut memiliki lima baris, dan tiap baris berupa list yang merupakan elemen dari list besar `tabel_kuadrat`. Kita bisa membuatnya secara \"otomatis\" atau secara pemrograman:"
   ]
  },
  {
   "cell_type": "code",
   "execution_count": null,
   "metadata": {},
   "outputs": [
    {
     "name": "stdout",
     "output_type": "stream",
     "text": [
      "  i    kuadrat\n",
      "---  ---------\n",
      "  1          1\n",
      "  2          4\n",
      "  3          9\n",
      "  4         16\n",
      "  5         25\n"
     ]
    }
   ],
   "source": [
    "tabel_mentah = []\n",
    "for i in range(1, 6): # mulai dari 1, lanjut selama kurang dari 6\n",
    "    calon_baris = [i, kuadrat(i)] # baris baru\n",
    "    tabel_mentah.append(calon_baris) # menambahkan baris baru ke list besar\n",
    "\n",
    "print(tabulate(tabel_mentah, headers=[\"i\", \"kuadrat\"]))"
   ]
  },
  {
   "cell_type": "markdown",
   "metadata": {},
   "source": [
    "Tentu saja, `calon_baris` tidak harus langsung jadi ketika baru didefinisikan. Tiap bagian dari suatu baris bisa saja ditambahkan secara berangsur-angsur:"
   ]
  },
  {
   "cell_type": "code",
   "execution_count": null,
   "metadata": {},
   "outputs": [
    {
     "name": "stdout",
     "output_type": "stream",
     "text": [
      "  i    kuadrat\n",
      "---  ---------\n",
      "  1          1\n",
      "  2          4\n",
      "  3          9\n",
      "  4         16\n",
      "  5         25\n"
     ]
    }
   ],
   "source": [
    "tabel_mentah = []\n",
    "for i in range(1, 6): # mulai dari 1, lanjut selama kurang dari 6\n",
    "    calon_baris = [] # baris baru\n",
    "    calon_baris.append(i) # bagian pertama pada baris\n",
    "\n",
    "    # bagian kedua pada baris\n",
    "    nilai_kedua = kuadrat(i)\n",
    "    calon_baris.append(nilai_kedua)\n",
    "\n",
    "    tabel_mentah.append(calon_baris) # menambahkan baris baru ke list besar\n",
    "\n",
    "print(tabulate(tabel_mentah, headers=[\"i\", \"kuadrat\"]))"
   ]
  },
  {
   "cell_type": "markdown",
   "metadata": {},
   "source": [
    "Adanya lebih dari dua kolom juga sangat memungkinkan, tinggal ditambahkan ke `calon_baris`:"
   ]
  },
  {
   "cell_type": "code",
   "execution_count": null,
   "metadata": {},
   "outputs": [
    {
     "name": "stdout",
     "output_type": "stream",
     "text": [
      "  i    kuadrat    pangkat tiga    pangkat empat\n",
      "---  ---------  --------------  ---------------\n",
      "  1          1               1                1\n",
      "  2          4               8               16\n",
      "  3          9              27               81\n",
      "  4         16              64              256\n",
      "  5         25             125              625\n"
     ]
    }
   ],
   "source": [
    "tabel_mentah = []\n",
    "for i in range(1, 6): # mulai dari 1, lanjut selama kurang dari 6\n",
    "    calon_baris = [] # baris baru\n",
    "\n",
    "    # bagian pertama pada baris\n",
    "    calon_baris.append(i)\n",
    "\n",
    "    # bagian kedua pada baris\n",
    "    nilai_kedua = kuadrat(i)\n",
    "    calon_baris.append(nilai_kedua)\n",
    "\n",
    "    # bagian ketiga\n",
    "    calon_baris.append(i**3)\n",
    "\n",
    "    # bagian keempat\n",
    "    calon_baris.append(i**4)\n",
    "\n",
    "    tabel_mentah.append(calon_baris) # menambahkan baris baru ke list besar\n",
    "\n",
    "print(tabulate(tabel_mentah, headers=[\"i\", \"kuadrat\", \"pangkat tiga\",\"pangkat empat\"]))"
   ]
  },
  {
   "cell_type": "markdown",
   "metadata": {},
   "source": [
    "Apabila kita sudah memiliki data tiap kolom dalam bentuk list, kita bisa membentuk `calon_baris` pada tiap iterasi for loop dengan mengakses elemen ke-i dari tiap list."
   ]
  },
  {
   "cell_type": "code",
   "execution_count": null,
   "metadata": {},
   "outputs": [
    {
     "name": "stdout",
     "output_type": "stream",
     "text": [
      "  i    kuadrat    pangkat tiga    pangkat empat\n",
      "---  ---------  --------------  ---------------\n",
      "  1          1               1                1\n",
      "  2          4               8               16\n",
      "  3          9              27               81\n",
      "  4         16              64              256\n",
      "  5         25             125              625\n"
     ]
    }
   ],
   "source": [
    "# misalnya data ini sudah ada, atau sudah diolah sebelumnya\n",
    "kolom_awal = [1, 2, 3, 4, 5]\n",
    "kolom_kuadrat = [1, 4, 9, 16, 25]\n",
    "kolom_tiga = [1, 8, 27, 64, 125]\n",
    "kolom_empat = [1, 16, 81, 256, 625]\n",
    "\n",
    "# mari kita buat tabel\n",
    "tabel_mentah = []\n",
    "for i in range(0, 5): # indeks list dimulai dari nol, lanjut selama i < 5\n",
    "    calon_baris = []\n",
    "\n",
    "    # elemen ke-i dari tiap list kolom\n",
    "    calon_baris.append(kolom_awal[i])\n",
    "    calon_baris.append(kolom_kuadrat[i])\n",
    "    calon_baris.append(kolom_tiga[i])\n",
    "    calon_baris.append(kolom_empat[i])\n",
    "\n",
    "    tabel_mentah.append(calon_baris)\n",
    "\n",
    "print(tabulate(tabel_mentah, headers=[\"i\", \"kuadrat\", \"pangkat tiga\",\"pangkat empat\"]))"
   ]
  },
  {
   "cell_type": "markdown",
   "metadata": {},
   "source": [
    "Bagaimana kalau misalnya ada data yang tidak lengkap? Kita bisa saja menggunakan try-except, untuk memasukkan \"X\" ketika ada data yang tidak lengkap, sekaligus menghindari error:"
   ]
  },
  {
   "cell_type": "code",
   "execution_count": null,
   "metadata": {},
   "outputs": [
    {
     "name": "stdout",
     "output_type": "stream",
     "text": [
      "  i  kuadrat\n",
      "---  ---------\n",
      "  1  1\n",
      "  2  4\n",
      "  3  9\n",
      "  4  16\n",
      "  5  25\n",
      "  6  X\n",
      "  7  X\n",
      "  8  X\n",
      "  9  X\n",
      " 10  X\n"
     ]
    }
   ],
   "source": [
    "# contoh data\n",
    "kolom_awal = [1, 2, 3, 4, 5, 6, 7, 8, 9, 10]\n",
    "kolom_kuadrat = [1, 4, 9, 16, 25]\n",
    "\n",
    "tabel_mentah = []\n",
    "for i in range(0, 10): # indeks list dimulai dari nol, lanjut selama i < 10\n",
    "    calon_baris = []\n",
    "\n",
    "    # elemen ke-i dari tiap list kolom\n",
    "    calon_baris.append(kolom_awal[i])\n",
    "    \n",
    "    try:\n",
    "        calon_baris.append(kolom_kuadrat[i])\n",
    "    except IndexError:\n",
    "        calon_baris.append(\"X\")\n",
    "\n",
    "    tabel_mentah.append(calon_baris)\n",
    "\n",
    "print(tabulate(tabel_mentah, headers=[\"i\", \"kuadrat\"]))"
   ]
  },
  {
   "cell_type": "markdown",
   "metadata": {},
   "source": [
    "NumPy juga memiliki semacam tipe data atau nilai yang standar untuk menandakan data yang hilang atau tidak tersedia, yaitu NaN (*Not a Number*), melalui `numpy.nan`. Sehingga, `\"X\"` pada kode di atas bisa diganti dengan `numpy.nan`:"
   ]
  },
  {
   "cell_type": "code",
   "execution_count": null,
   "metadata": {},
   "outputs": [
    {
     "name": "stdout",
     "output_type": "stream",
     "text": [
      "  i    kuadrat\n",
      "---  ---------\n",
      "  1          1\n",
      "  2          4\n",
      "  3          9\n",
      "  4         16\n",
      "  5         25\n",
      "  6        nan\n",
      "  7        nan\n",
      "  8        nan\n",
      "  9        nan\n",
      " 10        nan\n"
     ]
    }
   ],
   "source": [
    "# contoh data\n",
    "kolom_awal = [1, 2, 3, 4, 5, 6, 7, 8, 9, 10]\n",
    "kolom_kuadrat = [1, 4, 9, 16, 25]\n",
    "\n",
    "tabel_mentah = []\n",
    "for i in range(0, 10): # indeks list dimulai dari nol, lanjut selama i < 10\n",
    "    calon_baris = []\n",
    "\n",
    "    # elemen ke-i dari tiap list kolom\n",
    "    calon_baris.append(kolom_awal[i])\n",
    "    \n",
    "    try:\n",
    "        calon_baris.append(kolom_kuadrat[i])\n",
    "    except IndexError:\n",
    "        calon_baris.append(np.nan)\n",
    "\n",
    "    tabel_mentah.append(calon_baris)\n",
    "\n",
    "print(tabulate(tabel_mentah, headers=[\"i\", \"kuadrat\"]))"
   ]
  },
  {
   "cell_type": "markdown",
   "metadata": {},
   "source": [
    "## SymPy"
   ]
  },
  {
   "cell_type": "markdown",
   "metadata": {
    "id": "JHtq_JzKD5ZP"
   },
   "source": [
    "Dalam pembelajaran metode numerik, seringkali kita perlu membandingkan hasil aproksimasi kita dengan nilai yang sesungguhnya. Seringkali pula, sebenarnya nilai yang sesungguhnya itu dapat kita peroleh (karena kita masih dalam tahap belajar; penerapan metode numerik di dunia nyata adalah pada kasus di mana nilai eksak tidak dapat diperoleh).\n",
    "\n",
    "Hasil perhitungan eksak (seperti perhitungan menggunakan aljabar biasa atau ilmu kalkulus) juga disebut hasil perhitungan analitik atau simbolik. Istilah \"analitik\" bisa dianggap antonim dari istilah \"numerik\".\n",
    "\n",
    "Di Python, ada module/package bernama SymPy (*symbolic Python*) yang dapat melakukan perhitungan simbolik, seperti menghitung turunan, yang misalnya digunakan di metode Newton.\n",
    "\n",
    "(Fun fact: aplikasi/package di komputer yang dapat melakukan perhitungan simbolik disebut *Computer Algebra System* (CAS). Beberapa contoh CAS adalah SymPy, Wolfram Mathematica, dan Maple.)"
   ]
  },
  {
   "cell_type": "markdown",
   "metadata": {
    "id": "aDizWFjYIrhl"
   },
   "source": [
    "Mari kita import sympy:"
   ]
  },
  {
   "cell_type": "code",
   "execution_count": 1,
   "metadata": {
    "id": "7OFOMNQPF5zn"
   },
   "outputs": [],
   "source": [
    "import sympy"
   ]
  },
  {
   "cell_type": "markdown",
   "metadata": {
    "id": "iI2yTjQnK96N"
   },
   "source": [
    "Seperti untuk NumPy dan tabulate, apabila terjadi error karena sympy tidak ditemukan, artinya package sympy belum terinstall, dan bisa di-install menggunakan `pip install sympy` (atau dengan tanda seru: `!pip install sympy`)"
   ]
  },
  {
   "cell_type": "code",
   "execution_count": 2,
   "metadata": {
    "colab": {
     "base_uri": "https://localhost:8080/"
    },
    "id": "LmsrWEZLLFfb",
    "outputId": "e02f0634-926a-400f-e357-7f55d5fdbeea"
   },
   "outputs": [
    {
     "name": "stdout",
     "output_type": "stream",
     "text": [
      "Requirement already satisfied: sympy in /Library/Frameworks/Python.framework/Versions/3.11/lib/python3.11/site-packages (1.11.1)\n",
      "Requirement already satisfied: mpmath>=0.19 in /Library/Frameworks/Python.framework/Versions/3.11/lib/python3.11/site-packages (from sympy) (1.2.1)\n",
      "Note: you may need to restart the kernel to use updated packages.\n"
     ]
    }
   ],
   "source": [
    "pip install sympy"
   ]
  },
  {
   "cell_type": "markdown",
   "metadata": {
    "id": "ik_3Jz-5F6a-"
   },
   "source": [
    "Tentunya, penggunaan SymPy melibatkan variabel. Misalnya, kita ingin melakukan perhitungan simbolik dengan variabel $x$. Kita perlu memberitahu SymPy, dengan syntax seperti berikut:"
   ]
  },
  {
   "cell_type": "code",
   "execution_count": 3,
   "metadata": {
    "id": "7e2oILJ3Hel1"
   },
   "outputs": [],
   "source": [
    "x = sympy.symbols(\"x\")"
   ]
  },
  {
   "cell_type": "markdown",
   "metadata": {
    "id": "6-g-LmOcH2Fw"
   },
   "source": [
    "Artinya, kita baru saja memberitahu SymPy bahwa, pada string apapun yang dijumpai oleh SymPy, huruf \"x\" perlu dianggap sebagai simbol, atau lebih tepatnya sebagai variabel.\n",
    "\n",
    "Perhatikan pula bahwa kode di atas adalah *assignment* ke variabel pemrograman yang juga bernama `x`. Dengan demikian, untuk ke depannya, variabel `x` yang kita ketik di mana saja pada program kita akan dianggap sebagai variabel \"x\" oleh SymPy."
   ]
  },
  {
   "cell_type": "markdown",
   "metadata": {
    "id": "1_jyrAnXIvKc"
   },
   "source": [
    "Dengan variabel `x` tersebut, kita dapat mendefinisikan suatu *expression* (ekspresi atau kalimat matematika), misal $5x^4$, seperti berikut:"
   ]
  },
  {
   "cell_type": "code",
   "execution_count": 4,
   "metadata": {
    "colab": {
     "base_uri": "https://localhost:8080/"
    },
    "id": "D7hBo-3OIuwg",
    "outputId": "eee4bf1d-5b54-4298-af97-cf5ecb604ed0"
   },
   "outputs": [
    {
     "name": "stdout",
     "output_type": "stream",
     "text": [
      "5*x**4/2\n"
     ]
    }
   ],
   "source": [
    "polinom = 5 * (x ** 4) / 2\n",
    "print(polinom)"
   ]
  },
  {
   "cell_type": "markdown",
   "metadata": {
    "id": "Q4-Sa7R6JCyx"
   },
   "source": [
    "SymPy memiliki fitur `pprint` (*pretty print*), yaitu menampilkan suatu ekspresi secara cantik atau indah, layaknya seperti kita tulis di kertas:"
   ]
  },
  {
   "cell_type": "code",
   "execution_count": 5,
   "metadata": {
    "colab": {
     "base_uri": "https://localhost:8080/"
    },
    "id": "JFzOHzI1I88e",
    "outputId": "99662fef-797f-416d-cd25-67c37352f568"
   },
   "outputs": [
    {
     "name": "stdout",
     "output_type": "stream",
     "text": [
      "   4\n",
      "5⋅x \n",
      "────\n",
      " 2  \n"
     ]
    }
   ],
   "source": [
    "sympy.pprint(polinom)"
   ]
  },
  {
   "cell_type": "markdown",
   "metadata": {
    "id": "TNlcXk_iKWh0"
   },
   "source": [
    "Untuk melakukan diferensiasi atau menghitung turunan (dalam hal ini secara simbolik/analitik), gunakan ``sympy.diff``:"
   ]
  },
  {
   "cell_type": "code",
   "execution_count": 6,
   "metadata": {
    "colab": {
     "base_uri": "https://localhost:8080/"
    },
    "id": "9xvAohJYKZxM",
    "outputId": "619b90bc-6184-4505-c5fc-3534a0d3e43e"
   },
   "outputs": [
    {
     "name": "stdout",
     "output_type": "stream",
     "text": [
      "    3\n",
      "10⋅x \n"
     ]
    }
   ],
   "source": [
    "turunan = sympy.diff(polinom, x)\n",
    "sympy.pprint(turunan)"
   ]
  },
  {
   "cell_type": "markdown",
   "metadata": {
    "id": "jEGYUE8NoAUB"
   },
   "source": [
    "dengan begitu, SymPy menghitung turunan dari ekspresi `polinom` yang kita berikan itu, terhadap variabel `x`. Sebenarnya, mengetik `sympy.diff(polinom)` saja sudah cukup, tapi lebih lengkap lebih baik.\n",
    "\n"
   ]
  },
  {
   "cell_type": "markdown",
   "metadata": {
    "id": "tjsLLukGMAPu"
   },
   "source": [
    "Sejauh ini, semua ekspresi yang kita jumpai masih berbentuk simbol/tulisan, sehingga kita belum bisa men-substitusi variabel x dengan sembarang nilai. Misalnya kita ingin menjadikan ekspresi di atas sebagai suatu fungsi `func(x)`, di mana kita bisa memasukkan nilai `x` apapun dan mendapatkan hasil. Caranya adalah menggunakan `sympy.lambdify`:"
   ]
  },
  {
   "cell_type": "code",
   "execution_count": 7,
   "metadata": {
    "colab": {
     "base_uri": "https://localhost:8080/"
    },
    "id": "nOPT15vNNACK",
    "outputId": "3069d3fc-beef-4721-d604-807c8c78fda3"
   },
   "outputs": [
    {
     "name": "stdout",
     "output_type": "stream",
     "text": [
      "1250\n"
     ]
    }
   ],
   "source": [
    "func = sympy.lambdify(x, turunan)\n",
    "print(func(5))"
   ]
  },
  {
   "cell_type": "markdown",
   "metadata": {
    "id": "aVlCOs7yNMl8"
   },
   "source": [
    "Pada syntax `lambdify` di atas, kita perlu memberitahu SymPy terlebih dahulu, variabel apa yang digunakan pada ekspresi tersebut; barulah kita tuliskan ekspresinya. Dalam hal ini, kita mengetik `sympy.lambdify(x, turunan)` karena sedang menggunakan variabel `x` untuk ekspresi `turunan` yang ingin kita ubah menjadi fungsi yang bisa di-substitusi nilai x nya."
   ]
  },
  {
   "cell_type": "markdown",
   "metadata": {
    "id": "Gu0LIf_ZNqoC"
   },
   "source": [
    "Fungsi hasil `lambdify` sudah bisa digunakan seperti fungsi lainnya pada Python. Bahkan, kita bisa mencampur penggunaan SymPy dengan NumPy (maupun *package* lainnya). Contohnya, setelah tadi memperoleh `func(x)` dari SymPy:"
   ]
  },
  {
   "cell_type": "code",
   "execution_count": 8,
   "metadata": {
    "id": "PLUPYl0XN0Yh"
   },
   "outputs": [],
   "source": [
    "import numpy as np"
   ]
  },
  {
   "cell_type": "code",
   "execution_count": 9,
   "metadata": {
    "colab": {
     "base_uri": "https://localhost:8080/"
    },
    "id": "aDdBdfZ3N1Dm",
    "outputId": "f2f9871e-7a07-4d18-9f3f-b95685afa64a"
   },
   "outputs": [
    {
     "name": "stdout",
     "output_type": "stream",
     "text": [
      "[   80   270  1250 10000]\n"
     ]
    }
   ],
   "source": [
    "arr = np.array([2, 3, 5, 10])\n",
    "print(func(arr))"
   ]
  },
  {
   "cell_type": "markdown",
   "metadata": {
    "id": "jR7DikyoOif9"
   },
   "source": [
    "Seperti NumPy, SymPy juga memiliki fungsi `sin`, `cos`, `log`, `exp` dll, sehingga kita bisa melakukan perhitungan analitik yang melibatkan fungsi-fungsi tersebut."
   ]
  },
  {
   "cell_type": "code",
   "execution_count": 10,
   "metadata": {
    "colab": {
     "base_uri": "https://localhost:8080/"
    },
    "id": "WOBvWkqEOyiO",
    "outputId": "838fcd4b-cc60-44d3-df57-a08f314db048",
    "scrolled": true
   },
   "outputs": [
    {
     "name": "stdout",
     "output_type": "stream",
     "text": [
      "Fungsinya:\n",
      " 2           -5⋅x\n",
      "x ⋅cos(x) + ℯ    \n",
      "Turunannya:\n",
      "   2                          -5⋅x\n",
      "- x ⋅sin(x) + 2⋅x⋅cos(x) - 5⋅ℯ    \n"
     ]
    }
   ],
   "source": [
    "g = x**2 * sympy.cos(x) + sympy.exp(-5*x)\n",
    "print(\"Fungsinya:\")\n",
    "sympy.pprint(g)\n",
    "\n",
    "gp = sympy.diff(g, x)\n",
    "print(\"Turunannya:\")\n",
    "sympy.pprint(gp)"
   ]
  },
  {
   "cell_type": "markdown",
   "metadata": {
    "id": "847brsJrPPlD"
   },
   "source": [
    "Meskipun kita bisa saja melakukan, misalnya, `from sympy import cos`, hal tersebut tidak disarankan, apalagi ketika program kita juga menggunkaan NumPy dengan `from numpy import cos` atau bahkan `from numpy import *`. Alasannya, dengan begitu, program bisa menjadi membingungkan, karena tidak ada pembeda antara `cos` dari NumPy (numerik) dengan `cos` dari SymPy (analitik/simbolik).\n",
    "\n",
    "Namun, kalau Anda berhati-hati dan hanya melakukan hal tersebut untuk salah satu package saja, silakan."
   ]
  },
  {
   "cell_type": "markdown",
   "metadata": {
    "id": "BrGeLCPMsh0y"
   },
   "source": [
    "Menariknya, SymPy bisa jadi lebih unggul daripada NumPy untuk beberapa perhitungan yang melibatkan akurasi tinggi, terutama untuk perhitungan yang sebenarnya bersifat analitik. Misalnya, kita tahu bahwa $\\sin(\\pi) = 0$. Menurut SymPy,"
   ]
  },
  {
   "cell_type": "code",
   "execution_count": 11,
   "metadata": {
    "colab": {
     "base_uri": "https://localhost:8080/"
    },
    "id": "Sw2do1iOs0pF",
    "outputId": "e94d48c2-dabc-4bd6-ced8-9063904b1747"
   },
   "outputs": [
    {
     "name": "stdout",
     "output_type": "stream",
     "text": [
      "Menurut SymPy, sin(pi) = 0\n"
     ]
    }
   ],
   "source": [
    "print(\"Menurut SymPy, sin(pi) = \" + str(sympy.sin(sympy.pi)))"
   ]
  },
  {
   "cell_type": "markdown",
   "metadata": {
    "id": "07jIejmctE1E"
   },
   "source": [
    "karena SumPy menghitung nilai sin dari $\\pi$ secara analitik, yaitu tanpa perlu menghitung nilai $\\pi$ (karena nilainya sudah jelas nol berdasarkan sifat fungsi sin). Sedangkan, NumPy mengaproksimasi nilai $\\pi$ terlebih dahulu, barulah hasil aproksimasi tersebut yang masuk ke fungsi sin. Hasil perhitungan fungsi sin tersebut pun juga aproksimasi, sehingga didapatkan hasil seperti berikut, yaitu sangat kecil tetapi bukan nol:"
   ]
  },
  {
   "cell_type": "code",
   "execution_count": 12,
   "metadata": {
    "colab": {
     "base_uri": "https://localhost:8080/"
    },
    "id": "2Qw4LqBZtcLz",
    "outputId": "ccc77ade-7cec-4300-e8be-632cb7439608"
   },
   "outputs": [
    {
     "name": "stdout",
     "output_type": "stream",
     "text": [
      "Menurut NumPy, sin(pi) = 1.2246467991473532e-16\n"
     ]
    }
   ],
   "source": [
    "print(\"Menurut NumPy, sin(pi) = \" + str(np.sin(np.pi)))"
   ]
  },
  {
   "cell_type": "markdown",
   "metadata": {
    "id": "QPV8202stya2"
   },
   "source": [
    "di mana \"e-16\" artinya \"dikali 10 pangkat -16\"."
   ]
  },
  {
   "cell_type": "markdown",
   "metadata": {
    "id": "C29H0QaLtEo8"
   },
   "source": [
    "## Metode Bisection"
   ]
  },
  {
   "cell_type": "markdown",
   "metadata": {
    "id": "yKf_WkhsuDxG"
   },
   "source": [
    "Metode Bisection adalah salah satu metode yang dapat kita gunakan dalam masalah pencarian akar (**root finding**). Akar dari suatu persamaan didefinisikan sebagai nilai $x$ yang memenuhi $f(x) = 0$. Misalkan $f$ adalah suatu fungsi kontinu terdefinisi di $[a,b]$, di mana $f(a)$ dan $f(b)$ berlawanan tanda (sehingga pasti ada akar pada interval tersebut, menurut Teorema Nilai Antara / *Intermediate Value Theorem*).\n",
    "\n",
    "Inti sari dari metode Bisection adalah\n",
    "\n",
    "1. menebak bahwa akar suatu persamaan ada di dalam interval tertentu $[a, b]$;\n",
    "2. menelusuri nilai fungsi pada nilai tengah atau rata-rata dari interval tersebut;\n",
    "3. mempersempit interval dengan memanfaatkan hasil rata-rata tersebut; dan\n",
    "4. terus mencari nilai tengah dari interval yang baru, yang kemudian dipersempit lalu dicari nilai tengahnya, dan seterusnya hingga akar ditemukan, atau hingga ukuran interval sudah cukup kecil sehingga memuaskan (yaitu sudah lebih kecil dari toleransi).\n",
    "\n",
    "Didefinisikan nilai tengah dari interval:\n",
    "\n",
    "$$p=\\frac{(a+b)}{2}$$\n",
    "\n",
    "Akan dicari $f(p)$ dengan syarat sebagai berikut:\n",
    "\n",
    "* jika $f(p) = 0$, maka $p$ adalah akar dari $f$\n",
    "* jika $f(p)f(a) > 0$, maka $\\text{sign}(f(p)) = \\text{sign}(f(a))$. Sehingga, kita dapat mempersempit interval dengan memilih batasan baru yaitu a = p dan b tidak berubah.\n",
    "* jika $f(p)f(a) < 0$, maka $\\text{sign}(f(p)) \\neq \\text{sign} (f(a))$, atau $\\text{sign}(f(p)) = \\text{sign}(f(b))$. Sehingga, kita dapat mempersempit interval dengan memilih batasan baru yaitu a tidak berubah dan b = p.\n",
    "\n",
    "Metode Bisection memiliki *order of convergence* = 1, atau disebut memiliki kekonvergenan linier (*linear convergence*). Artinya, dalam proses menemukan akar persamaan (konvergen menuju jawabannya), metode Bisection tidak secepat beberapa metode lainnya yang memiliki *order of convergence* yang lebih tinggi."
   ]
  },
  {
   "cell_type": "code",
   "execution_count": 12,
   "metadata": {
    "colab": {
     "base_uri": "https://localhost:8080/"
    },
    "id": "mMyYYNR_ylFz",
    "outputId": "ae6cf364-ab0a-43dd-eeda-15b6b2d6d656"
   },
   "outputs": [],
   "source": [
    "def Bisection(f, lower, upper, tol):\n",
    "    if f(lower)*f(upper)<0:\n",
    "        p0=lower\n",
    "        p=(lower+upper)/2\n",
    "\n",
    "        if f(p)==0:\n",
    "            return p\n",
    "        elif f(p)*f(lower)>0:\n",
    "            lower=p\n",
    "        elif f(p)*f(lower)<0:\n",
    "            upper=p\n",
    " \n",
    "        abs_error=abs(p0-p)\n",
    "        p0=p\n",
    " \n",
    "        while abs_error > tol:\n",
    "            p=(lower+upper)/2\n",
    "            \n",
    "            if f(p)==0:\n",
    "                break\n",
    "            elif f(p)*f(lower)>0:\n",
    "                lower=p\n",
    "            elif f(p)*f(lower)<0:\n",
    "                upper=p\n",
    "        \n",
    "            abs_error=abs(p0-p)\n",
    "            p0=p\n",
    " \n",
    "        return p\n",
    " \n",
    "    elif f(lower)*f(upper)>0:\n",
    "        return \"Metode gagal mengaproksimasi akar. Silakan ubah batas atas atau batas bawah\"\n",
    "    elif f(lower)==0:\n",
    "        return lower\n",
    "    else: #f(upper)==0\n",
    "        return upper"
   ]
  },
  {
   "cell_type": "code",
   "execution_count": 13,
   "metadata": {},
   "outputs": [
    {
     "name": "stdout",
     "output_type": "stream",
     "text": [
      "Masukkan formula fungsi: 2*x - 3*cos(x) + exp(-5*x) - 9\n",
      "Masukkan batas bawah interval: -3\n",
      "Masukkan batas atas interval: 2\n",
      "Masukkan toleransi aproksimasi: 10**(-7)\n",
      "Akar persamaan 2*x - 3*cos(x) + exp(-5*x) - 9 = 0 adalah x = -0.5073225051164627\n"
     ]
    }
   ],
   "source": [
    "from numpy import sin, cos, tan, log, exp, sqrt, pi\n",
    "\n",
    "formula = input('Masukkan formula fungsi: ')\n",
    "\n",
    "def f(x):\n",
    "    return eval(formula)\n",
    "\n",
    "low_bound = eval(input(\"Masukkan batas bawah interval: \"))\n",
    "up_bound = eval(input(\"Masukkan batas atas interval: \"))\n",
    "toleransi = eval(input(\"Masukkan toleransi aproksimasi: \"))\n",
    "\n",
    "akar_bisection=Bisection(f, low_bound, up_bound, toleransi)\n",
    "\n",
    "try:\n",
    "    print(f\"Akar persamaan {formula} = 0 adalah x = {akar_bisection}\")\n",
    "except ValueError:\n",
    "    print(akar_bisection)"
   ]
  },
  {
   "cell_type": "markdown",
   "metadata": {
    "id": "69NiwrDn2E0B"
   },
   "source": [
    "## Metode Fixed-Point"
   ]
  },
  {
   "cell_type": "markdown",
   "metadata": {
    "id": "NKw1NPlm2J62"
   },
   "source": [
    "Inti sari dari Metode Fixed-Point adalah mencari *fixed-point* (titik tetap) dari suatu fungsi (misal fungsi $g(x)$), yaitu suatu nilai $p$ sehingga $p = g(p)$, atau $p - g(p) = 0$. Titik $p$ disebut titik tetap, karena ketika nilai $p$ dimasukkan ke fungsi $g(x)$, hasilnya tetaplah $p$. Untuk nilai $x$ yang dekat dengan $p$, biasanya ada kecenderungan nilai $g(x)$ menjadi semakin mendekati $p$.\n",
    "\n",
    "Perhatikan bahwa, sembarang persamaan $f(x) = 0$ bisa diubah bentuknya dengan mendefinisikan fungsi $g(x) = x - f(x)$ (sehingga $f(x) = x - g(x)$). Dengan demikian, permasalahan mencari akar berubah menjadi permasalahan mencari fixed-point, yaitu mencari nilai $p$ sehingga $p = g(p)$ atau $p - g(p) = 0$ (sehingga nilai $p$ tersebut juga menyebabkan $f(p) = 0$).\n",
    "\n",
    "(Tentu saja, itu bukanlah satu-satunya cara untuk mengubah permasalahan mencari akar menjadi permasalahan mencari fixed-point. Bahkan, tidak semua pilihan $g(x)$ yang memungkinkan itu dijamin memiliki fixed-point.)\n",
    "\n",
    "Misalkan $g$ adalah fungsi **kontinu** dan memiliki **fixed-point** $p$ pada interval $[a,b]$ (dan diasumsikan bahwa $g$ memenuhi persyaratan untuk kekonvergenan metode fixed-point). Artinya, ada $p \\in [a,b]$ sehingga $g(x) = x$. Untuk mengaproksimasi penyelesaian dari persamaan $g(x) = x$, diperlukan suatu tebakan awal $p_0$, kemudian iterasinya adalah:\n",
    "\n",
    "$$p_n = g(p_{n-1})$$\n",
    "\n",
    "Nilai tersebut terus dimasukkan ke dalam $g$ sehingga, diharapkan, nilai $p_n$ menjadi semakin mendekati suatu nilai $p$ yang membuat $g(p) = p$.\n",
    "\n",
    "Pada umumnya, metode fixed-point memiliki kekonvergenan linier. Ketika $g(x)$ dijamin memliki tepat satu fixed-point (atau fixed-point yang unik) pada suatu interval $[a,b]$, maka Metode Fixed-Point dengan $p_0$ pada interval tersebut pasti memiliki kekonvergenan linier. Terkadang Metode Fixed-Point lebih cepat daripada Metode Bisection, dan terkadang Metode Bisection lebih cepat daripada Metode Fixed-Point.\n",
    "\n",
    "Hati-hati, ada kemungkinan bahwa $g(p_n)$ malah menjauhi $p$, contohnya untuk $g(x) = x^2$ dan $p_0 > 1$ (padahal $g(1) = 1$). Pada kasus seperti itu, metode fixed-point tidak dijamin konvergen (artinya tidak dijamin bisa menemukan fixed-point)."
   ]
  },
  {
   "cell_type": "markdown",
   "metadata": {
    "id": "vGlrRBuOWoNf"
   },
   "source": [
    "Sebagai contoh penggunaan metode fixed-point, kalian bisa mencoba untuk menyelesaikan persamaan (masalah mencari akar) berikut ini,\n",
    "\n",
    "$$f(x) = x^2 - x - 1 = 0$$\n",
    "\n",
    "dengan sedikit manipulasi aljabar (dibagi $x$, pindah ruas) agar mendapatkan bentuk $x = g(x)$,\n",
    "\n",
    "$$x = 1 + \\frac{1}{x}$$\n",
    "\n",
    "sehingga, dengan $g(x) = 1 + \\frac{1}{x}$ bisa digunakan metode fixed-point, misal dengan tebakan awal $x = 2$ atau $x = -3$.\n",
    "\n",
    "(Jelas metode ini akan gagal untuk $g(x)$ tersebut apabila dipilih tebakan awal seperti $x=0$, $x=-1$, atau bahkan $x=-\\frac{1}{2}$ karena akan terjadi pembagian nol. Kemungkinan terjadinya pembagian nol itu bukan hanya dari metodenya seperti metode Newton, tetapi juga dari fungsi $f(x)$ atau $g(x)$ yang digunakan.)\n",
    "\n",
    "Silakan coba dengan kode di bawah ini!\n",
    "\n",
    "Sebagai pembanding, kalian bisa menyelesaikan persamaan kuadrat $f(x) = x^2 - x - 1 = 0$ di atas, dan mendapatkan solusi\n",
    "\n",
    "$$x_1 = \\frac{1+\\sqrt{5}}{2} \\approx 1.618$$\n",
    "\n",
    "$$x_2 = \\frac{1-\\sqrt{5}}{2} \\approx -0.618$$\n",
    "\n",
    "Kebetulan, konstanta berikut ini yang berlambang phi kecil ($\\phi$),\n",
    "\n",
    "$$\\phi = \\frac{1+\\sqrt{5}}{2}$$\n",
    "\n",
    "adalah konstanta istimewa yang bernama *golden ratio*."
   ]
  },
  {
   "cell_type": "code",
   "execution_count": 14,
   "metadata": {
    "colab": {
     "base_uri": "https://localhost:8080/"
    },
    "id": "1MbTJI_A3AbY",
    "outputId": "1d44dfb6-a6c7-439d-ffe5-e192c6f24ac1"
   },
   "outputs": [],
   "source": [
    "from tabulate import tabulate\n",
    "\n",
    "def FixedPoint(g, p0, tol):\n",
    "    table = [[\"iterasi\",\"Aproksimasi\"]]\n",
    "    iterasi = []\n",
    "    \n",
    "    i = 1\n",
    "    p = g(p0)\n",
    "    abs_error = abs(p-p0)\n",
    "    p0 = p\n",
    "    iterasi.append(i)\n",
    "    iterasi.append(p)\n",
    "    table.append(iterasi)\n",
    "\n",
    "    while abs_error > tol:\n",
    "        iterasi = []\n",
    "        i += 1\n",
    "        p = g(p0)\n",
    "        abs_error = abs(p-p0)\n",
    "        p0 = p\n",
    "        iterasi.append(i)\n",
    "        iterasi.append(p)\n",
    "        table.append(iterasi)\n",
    "    \n",
    "    tabel_siap_print = tabulate(table,headers = 'firstrow',tablefmt=\"pretty\")\n",
    "    return p0, tabel_siap_print"
   ]
  },
  {
   "cell_type": "code",
   "execution_count": 15,
   "metadata": {},
   "outputs": [
    {
     "name": "stdout",
     "output_type": "stream",
     "text": [
      "Masukkan formula g(x): 1 + 1/x\n",
      "Masukkan titik awal iterasi: 2\n",
      "Masukkan batas toleransi: 10**(-7)\n",
      "+---------+--------------------+\n",
      "| iterasi |    Aproksimasi     |\n",
      "+---------+--------------------+\n",
      "|    1    |        1.5         |\n",
      "|    2    | 1.6666666666666665 |\n",
      "|    3    |        1.6         |\n",
      "|    4    |       1.625        |\n",
      "|    5    | 1.6153846153846154 |\n",
      "|    6    | 1.619047619047619  |\n",
      "|    7    | 1.6176470588235294 |\n",
      "|    8    | 1.6181818181818182 |\n",
      "|    9    | 1.6179775280898876 |\n",
      "|   10    | 1.6180555555555556 |\n",
      "|   11    | 1.6180257510729614 |\n",
      "|   12    | 1.6180371352785146 |\n",
      "|   13    | 1.6180327868852458 |\n",
      "|   14    | 1.618034447821682  |\n",
      "|   15    | 1.618033813400125  |\n",
      "|   16    | 1.6180340557275543 |\n",
      "|   17    | 1.6180339631667064 |\n",
      "+---------+--------------------+\n",
      "Ditemukan fixed point dari g(x) = 1 + 1/x yaitu x = 1.6180339631667064\n"
     ]
    }
   ],
   "source": [
    "from numpy import cos, sin, tan, log, exp, sqrt\n",
    "\n",
    "formula = input(\"Masukkan formula g(x): \")\n",
    "\n",
    "def g(x):\n",
    "    return eval(formula)\n",
    "\n",
    "tebakan_awal = eval(input(\"Masukkan titik awal iterasi: \"))\n",
    "toleransi = eval(input(\"Masukkan batas toleransi: \"))\n",
    "\n",
    "fixed_point, tabel = FixedPoint(g, tebakan_awal, toleransi)\n",
    "\n",
    "print(tabel)\n",
    "print(f\"Ditemukan fixed point dari g(x) = {formula} yaitu x = {fixed_point}\")"
   ]
  },
  {
   "cell_type": "markdown",
   "metadata": {
    "id": "cXAgtNhoLN9T"
   },
   "source": [
    "## Metode Newton biasa (dengan turunan analitik)"
   ]
  },
  {
   "cell_type": "markdown",
   "metadata": {
    "id": "Ym6AZp6uLSU4"
   },
   "source": [
    "Misalkan $f$ kontinu dan terturunkan (memiliki turunan) di $[a,b]$ dan ada tebakan awal $p_0 \\in$ $[a,b]$ sedemikian sehingga $f'(p_0) \\neq 0$. Iterasi pada metode Newton untuk menyelesaian $f(x) = 0$ adalah sebagai berikut:\n",
    "\n",
    "$$p_n = p_{n-1} - \\frac{f(p_{n-1})}{f'(p_{n-1})}$$\n",
    "\n",
    "Diharapkan bahwa, setelah banyak iterasi, nilai $p_n$ yang diperoleh akan membuat $f(p) = 0$ atau setidaknya sangat dekat dengan nol (lebih kecil dari batas toleransi yang kita anggap sudah memuaskan).\n",
    "\n",
    "Metode Newton juga dapat dipandang sebagai metode fixed-point dengan $g(x) = x - \\frac{f(x)}{f'(x)}$\n",
    "\n",
    "Metode Newton gagal apabila, pada suatu iterasi, tiba-tiba $f'(p_n) = 0$.\n",
    "\n",
    "Pada umumnya, Metode Newton memiliki *order of convergence* = 2, atau juga disebut memiliki kekonvergenan kuadratik (*quadratic convergence*). Artinya, selama berhasil, Metode Newton lebih cepat daripada Metode Bisection maupun Metode Fixed-Point."
   ]
  },
  {
   "cell_type": "code",
   "execution_count": 6,
   "metadata": {
    "colab": {
     "base_uri": "https://localhost:8080/"
    },
    "id": "HVbsGM--LRWp",
    "outputId": "387cad9f-b6a7-4ab6-918d-86450c871bb3"
   },
   "outputs": [],
   "source": [
    "def NewtonAnalitik(f,fp,p0,tolerance):\n",
    "    p = p0 - f(p0)/fp(p0)\n",
    "    abs_error = abs(p-p0)\n",
    "    p0 = p\n",
    "\n",
    "    while abs_error > tolerance:\n",
    "\n",
    "        try:\n",
    "            p = p0 - f(p0)/fp(p0)\n",
    "        except ZeroDivisionError:\n",
    "            return \"Metode gagal mengaproksimasi akar. Silakan pilih tebakan awal lain\"\n",
    "        \n",
    "        abs_error = abs(p-p0)\n",
    "        p0 = p\n",
    "    return p"
   ]
  },
  {
   "cell_type": "code",
   "execution_count": 16,
   "metadata": {},
   "outputs": [
    {
     "name": "stdout",
     "output_type": "stream",
     "text": [
      "Masukkan fungsi: 2*x - 3*cos(x) + exp(-5*x) - 9\n",
      "Masukkan tebakan awal / titik awal iterasi: -1\n",
      "Masukkan toleransi aproksimasi: 10**(-7)\n",
      "Akar dari persamaan f(x) = 2*x - 3*cos(x) + exp(-5*x) - 9 adalah x = -0.5073224866379573\n"
     ]
    }
   ],
   "source": [
    "import sympy\n",
    "from numpy import sin, cos, tan, log, exp, sqrt\n",
    "\n",
    "formula = input(\"Masukkan fungsi: \")\n",
    "def f(x):\n",
    "    return eval(formula)\n",
    "\n",
    "x = sympy.symbols(\"x\")\n",
    "\n",
    "df_string = str(sympy.diff(formula, x))\n",
    "def fp(x): # turunan f\n",
    "    return eval(df_string)\n",
    "\n",
    "tebakan_awal = eval(input(\"Masukkan tebakan awal / titik awal iterasi: \"))\n",
    "tolerance = eval(input(\"Masukkan toleransi aproksimasi: \"))\n",
    "\n",
    "akar_newton = NewtonAnalitik(f, fp, tebakan_awal, tolerance)\n",
    "\n",
    "print(f\"Akar dari persamaan f(x) = {formula} adalah x = {akar_newton}\")"
   ]
  }
 ],
 "metadata": {
  "colab": {
   "provenance": []
  },
  "kernelspec": {
   "display_name": "Python 3 (ipykernel)",
   "language": "python",
   "name": "python3"
  },
  "language_info": {
   "codemirror_mode": {
    "name": "ipython",
    "version": 3
   },
   "file_extension": ".py",
   "mimetype": "text/x-python",
   "name": "python",
   "nbconvert_exporter": "python",
   "pygments_lexer": "ipython3",
   "version": "3.10.11"
  }
 },
 "nbformat": 4,
 "nbformat_minor": 1
}
