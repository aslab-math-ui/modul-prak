{
 "cells": [
  {
   "cell_type": "markdown",
   "metadata": {
    "id": "Jk8j_eI4oVjD"
   },
   "source": [
    "---\n",
    "title: \"(Pertemuan 2) Metode Root-Finding: Secant, Regula-Falsi, Finite-Difference\"\n",
    "subtitle: \"Secant Method, Regula-Falsi Method, Finite-Difference\"\n",
    "author: \"Aslab Mata Kuliah Praktikum Metode Numerik\"\n",
    "description: \"Offline di Departemen Matematika\"\n",
    "date: 03/10/2025\n",
    "page-navigation: true\n",
    "format: html\n",
    "execute: \n",
    " enabled: false\n",
    "---\n",
    "\n",
    "<style>\n",
    ".box-grid {\n",
    "    display: grid;\n",
    "    grid-template-columns: 1fr 1fr;\n",
    "    gap: 20px;\n",
    "    margin: 20px 0;\n",
    "}\n",
    "\n",
    ".box-card {\n",
    "    padding: 15px;\n",
    "    border-radius: 10px;\n",
    "    box-shadow: 0 4px 8px rgba(0,0,0,0.1);\n",
    "    transition: transform 0.2s;\n",
    "    background: white;\n",
    "    text-align: center;\n",
    "}\n",
    "\n",
    ".box-card:hover {\n",
    "    transform: translateY(-5px);\n",
    "}\n",
    "\n",
    ".btn {\n",
    "    display: inline-block;\n",
    "    padding: 12px 24px;\n",
    "    background: linear-gradient(45deg, #4CAF50, #45a049);\n",
    "    color: white !important;\n",
    "    text-decoration: none;\n",
    "    border-radius: 25px;\n",
    "    font-weight: bold;\n",
    "    transition: all 0.3s;\n",
    "    border: none;\n",
    "    cursor: pointer;\n",
    "}\n",
    "\n",
    ".btn:hover {\n",
    "    background: linear-gradient(45deg, #45a049, #4CAF50);\n",
    "    box-shadow: 0 4px 15px rgba(0,0,0,0.2);\n",
    "}\n",
    "</style>"
   ]
  },
  {
   "cell_type": "markdown",
   "metadata": {},
   "source": [
    "Kembali ke [Metode Numerik](./metnum2025genap.qmd)"
   ]
  },
  {
   "cell_type": "markdown",
   "metadata": {},
   "source": [
    "**Materi Pembahasan:**\n",
    "\n",
    "1. *Finite-Difference Newton Method*\n",
    "\n",
    "2. *Secant Method*\n",
    "\n",
    "3. *Regula-False Method*\n",
    "\n",
    "4. Sequence Barisan\n",
    "\n",
    "5. *Aitken Method*\n",
    "\n",
    "6. *Steffensen Method*\n",
    "\n",
    "7. Diskusi\n",
    "\n",
    "Praktikum Metode Numerik PTA 2024-2025 <br>\n",
    "Departemen Matematika FMIPA Universitas Indonesia\n",
    "\n",
    "<hr/>"
   ]
  },
  {
   "cell_type": "markdown",
   "metadata": {
    "id": "ITmGJUunJVYG"
   },
   "source": [
    "## Metode Newton dengan Beda Hingga (*Finite-Difference Newton's Method*)"
   ]
  },
  {
   "cell_type": "markdown",
   "metadata": {
    "id": "mtgOXNBWJbWK"
   },
   "source": [
    "Salah satu kekurangan Metode Newton yang biasa adalah harus mengetahui rumus turunannya secara analitik. Sebelum adanya CAS seperti SymPy, turunan analitik harus dihitung secara manual dengan kalkulus. Kalau bentuk rumus untuk $f(x)$ sangat rumit, perhitungan turunan menjadi jauh lebih rumit. Untuk menghindari menghitung turunan secara analitik, kita dapat menggunakan definisi turunan (yang menggunakan limit):\n",
    "\n",
    "$$f'(x) = \\lim_{h \\rightarrow 0} \\frac{f(x+h) - f(x)}{h}$$\n",
    "\n",
    "dengan memilih nilai $h$ yang cukup kecil (sayangnya, kita tidak bisa membuat limit $h$ menuju nol). Nilai $h$ yang cukup kecil itu disebut suatu beda hingga (*finite difference*).\n",
    "\n",
    "Sehingga, modifikasi metode Newton ini bisa disebut Metode Newton dengan Beda Hingga (*Finite-Difference Newton's Method*). Untuk fungsi $f$ yang kontinu, akar persamaan $f(x) = 0$ bisa ditentukan dengan iterasi sebagai berikut:\n",
    "\n",
    "\\begin{align*}\n",
    "p_n &= p_{n-1} - \\frac{f(p_{n-1})}{\\left(\\frac{f\\left(p_{n-1}+h\\right)-f(p_{n-1})}{h}\\right)} \\\\\n",
    "&= p_{n-1} - \\frac{f(p_{n-1})h}{f(p_{n-1}+h)-f(p_{n-1})}\n",
    "\\end{align*}\n",
    "\n",
    "dengan tebakan awal $p_0$. Perhatikan bahwa $f'(p_{n-1})$ pada metode Newton yang biasa itu telah digantikan dengan\n",
    "\n",
    "$$f'(p_{n-1}) \\approx \\frac{f(p_{n-1}+h) - f(p_{n-1})}{h}$$\n",
    "\n",
    "Tujuan modifikasi tersebut adalah agar iterasi dapat dilakukan pada titik di mana turunannya tidak ada, atau ketika turunan analitik sulit diperoleh."
   ]
  },
  {
   "cell_type": "code",
   "execution_count": 8,
   "metadata": {},
   "outputs": [],
   "source": [
    "def FiniteDifferenceNewton(f,fp,p0,tolerance):\n",
    "    p = p0 - f(p0)/fp(p0)\n",
    "    abs_error = abs(p-p0)\n",
    "    p0 = p\n",
    "\n",
    "    while abs_error > tolerance:\n",
    "        p = p0 - f(p0)/fp(p0)\n",
    "        abs_error = abs(p-p0)\n",
    "        p0 = p\n",
    "    return p"
   ]
  },
  {
   "cell_type": "code",
   "execution_count": 17,
   "metadata": {
    "colab": {
     "base_uri": "https://localhost:8080/"
    },
    "id": "uhckTUOpKBym",
    "outputId": "bd10a9c3-0485-4029-e174-d5b4f8ab141f"
   },
   "outputs": [
    {
     "name": "stdout",
     "output_type": "stream",
     "text": [
      "Masukkan fungsi: 2*x - 3*cos(x) + exp(-5*x) - 9\n",
      "Masukkan titik awal iterasi: -1\n",
      "Masukkan toleransi aproksimasi: 10**(-7)\n",
      "Akar dari persamaan f(x) = 2*x - 3*cos(x) + exp(-5*x) - 9 adalah x = -0.5073224866379543\n"
     ]
    }
   ],
   "source": [
    "from numpy import sin, cos, tan, log, exp, sqrt\n",
    "\n",
    "formula = input(\"Masukkan fungsi: \")\n",
    "def f(x):\n",
    "    return eval(formula)\n",
    "\n",
    "def fp(x, h=10**(-12)):\n",
    "    return (f(x+h)-f(x))/h\n",
    "\n",
    "starting_point = eval(input(\"Masukkan titik awal iterasi: \"))\n",
    "tolerance = eval(input(\"Masukkan toleransi aproksimasi: \"))\n",
    "\n",
    "akar_fd = FiniteDifferenceNewton(f,fp,starting_point,tolerance)\n",
    "\n",
    "print(f\"Akar dari persamaan f(x) = {formula} adalah x = {akar_fd}\")"
   ]
  },
  {
   "cell_type": "markdown",
   "metadata": {
    "id": "c66Ka0e4BIgF"
   },
   "source": [
    "## Metode Secant"
   ]
  },
  {
   "cell_type": "markdown",
   "metadata": {
    "id": "lZ_cBCh7Eoil"
   },
   "source": [
    "Pada Metode Newton dengan Beda Hingga, nilai $h$ konstan. Kalau kita punya dua tebakan awal yang saling dekat, misal $p_0$ dan $p_1$, kita bisa saja memanfaatkannya dengan memasang $h = p_1 - p_0$. Bahkan, ketika iterasi $p_n$ sudah semakin dekat menuju akar, jarak antara $p_{n-1}$ dan $p_{n-2}$ menjadi semakin kecil. Sehingga, dengan memasang nilai $h = p_{n-2} - p_{n-1}$ atau $h = p_{n-1} - p_{n-2}$, kita berhasil membuat limit $h$ menuju nol.\n",
    "\n",
    "Modifikasi ini disebut Metode Secant, dengan iterasi sebagai berikut untuk menentukan penyelesaian $f(x) = 0$ dengan fungsi $f$ yang kontinu:\n",
    "\n",
    "\\begin{align*}\n",
    "p_n &= p_{n-1} - \\frac{f(p_{n-1})}{\\left(\\frac{f(p_{n-1})-f(p_{n-2})}{p_{n-1}-p_{n-2}}\\right)} \\\\\n",
    "&= p_{n-1} - \\frac{f(p_{n-1})(p_{n-1} - p_{n-2})}{f(p_{n-1}) - f(p_{n-2})}\n",
    "\\end{align*}\n",
    "\n",
    "Dibandingkan Metode Newton yang biasa, Metode Secant menggantikan $f'(p_{n-1})$ dengan\n",
    "\n",
    "$$f'(p_{n-1}) \\approx \\frac{f(p_{n-1}) - f(p_{n-2})}{p_{n-1} - p_{n-2}}$$\n",
    "\n",
    "sehingga, tidak seperti Metode Newton yang hanya memerlukan satu tebakan awal, Metode Secant membutuhkan dua tebakan awal, yaitu $p_0$ dan $p_1$. Namun, dibandingkan dengan Metode Newton dengan Beda Hingga, nilai $h$ atau beda hingga tersebut tidak perlu ditentukan secara manual.\n",
    "\n",
    "Menariknya, Metode Secant memiliki *order of convergence = $\\phi \\approx 1.618$.*"
   ]
  },
  {
   "cell_type": "code",
   "execution_count": 10,
   "metadata": {},
   "outputs": [],
   "source": [
    "def Secant(f,p0,p1,tolerance):\n",
    "    p = p1 - (f(p1)*(p1-p0))/(f(p1)-f(p0))\n",
    "    abs_error = abs(p-p1)\n",
    "    p0 = p1\n",
    "    p1 = p\n",
    "\n",
    "    while abs_error > tolerance:\n",
    "        p = p1 - (f(p1)*(p1-p0))/(f(p1)-f(p0))\n",
    "        abs_error = abs(p-p1)\n",
    "        p0 = p1\n",
    "        p1 = p\n",
    "    return p"
   ]
  },
  {
   "cell_type": "code",
   "execution_count": 18,
   "metadata": {
    "colab": {
     "base_uri": "https://localhost:8080/"
    },
    "id": "Pmn-doK4GWvB",
    "outputId": "7cb488cd-20e7-4972-b370-0105b2e9ed82"
   },
   "outputs": [
    {
     "name": "stdout",
     "output_type": "stream",
     "text": [
      "Masukkan formula fungsi: 2*x - 3*cos(x) + exp(-5*x) - 9\n",
      "Masukkan titik awal pertama: -1\n",
      "Masukkan titik awal kedua: -2\n",
      "Masukkan toleransi aproksimasi: 10**(-7)\n",
      "Akar dari persamaan f(x) = 2*x - 3*cos(x) + exp(-5*x) - 9 adalah x = -0.5073224866425831\n"
     ]
    }
   ],
   "source": [
    "from numpy import sin, cos, tan, log, exp, sqrt\n",
    "formula = input(\"Masukkan formula fungsi: \")\n",
    "\n",
    "def f(x):\n",
    "    return eval(formula)\n",
    "\n",
    "titik_1 = eval(input(\"Masukkan titik awal pertama: \"))\n",
    "titik_2 = eval(input(\"Masukkan titik awal kedua: \"))\n",
    "tolerance = eval(input(\"Masukkan toleransi aproksimasi: \"))\n",
    "\n",
    "akar_secant = Secant(f,titik_1,titik_2,tolerance)\n",
    "\n",
    "print(f\"Akar dari persamaan f(x) = {formula} adalah x = {akar_secant}\")"
   ]
  },
  {
   "cell_type": "markdown",
   "metadata": {
    "id": "16YblU9VWO_u"
   },
   "source": [
    "## Metode Regula Falsi"
   ]
  },
  {
   "cell_type": "markdown",
   "metadata": {
    "id": "XvZFJuDuWQb6"
   },
   "source": [
    "Sejauh ini, kita sudah membahas beberapa metode *root-finding* atau aproksimasi akar, yaitu:\n",
    "\n",
    "* Metode Bisection\n",
    "* Metode Fixed-Point\n",
    "* Metode Newton biasa (dengan turunan analitik)\n",
    "* Metode Newton dengan Beda Hingga (*finite-difference Newton's method*)\n",
    "* Metode Secant\n",
    "\n",
    "Di antara semua metode tersebut, hanya Metode Bisection yang dijamin konvergen menuju akar di interval yang diberikan; semua metode lain ada kemungkinan divergen (menjauh dari akar, seperti metode fixed-point) atau gagal karena terjadi pembagian nol. Sayangnya, Metode Bisection termasuk metode yang pelan di antara metode numerik lainnya.\n",
    "\n",
    "Untuk menjaga jaminan kekonvergenan oleh Metode Bisection tetapi memperbaiki kecepatan kekonvergenannya, kita bisa memodifikasi Metode Bisection, yaitu memodifikasi cara menentukan $p$ yang baru yang akan mempersempit interval. Perhatikan bahwa Metode Bisection membutuhkan dua \"tebakan awal\" (lebih tepatnya dua batasan interval), sedangkan metode di atas yang juga membutuhkan dua tebakan awal hanyalah Metode Secant.\n",
    "\n",
    "Apakah kita bisa menggunakan Metode Bisection, tetapi dengan modifikasi menentukan $p$ seperti Metode Secant, agar mendapatkan *order of convergence* seperti Metode Secant?\n",
    "\n",
    "Jawabannya adalah bisa, dan modifikasi tersebut dinamakan Metode Regula Falsi. Sehingga, Metode Regula Falsi bisa disebut perpaduan antara Metode Bisection dan Metode Secant.\n",
    "\n",
    "Sebenarnya, perbedaan algoritma Metode Bisection dan Metode Regula Falsi hanya di satu baris saja, yaitu mengubah baris\n",
    "\n",
    "$$p=\\frac{a+b}{2}$$\n",
    "\n",
    "menjadi\n",
    "\n",
    "$$p = b - \\frac{f(b)(b-a)}{f(b) - f(a)}$$\n",
    "\n",
    "sesuai Metode Secant. Perhatikan bahwa Metode Secant biasanya membutuhkan dua tebakan awal yang tidak harus sama dengan batasan interval, sedangkan Metode Regula Falsi secara otomatis menggunakan kedua batasan interval $[a,b]$ sebagai dua tebakan awal.\n",
    "\n",
    "Untuk pembuatan kode Metode Regula Falsi, kami serahkan ke kalian. Gampang, kok! Tinggal mengubah beberapa baris saja (baris yang menentukan nilai $p$ yang baru) pada kode Metode Bisection, yaitu mengambil baris tersebut dari kode Metode Secant, kemudian menyesuaikan kedua tebakan awal menjadi kedua batasan interval.\n",
    "\n",
    "Seperti Metode Secant, Metode Regula Falsi juga memiliki *order of convergence = $\\phi \\approx 1.618$.*"
   ]
  },
  {
   "cell_type": "code",
   "execution_count": null,
   "metadata": {},
   "outputs": [],
   "source": [
    "def RegulaFalsi(f, p0, p1, tol, n = 1000):\n",
    "\n",
    "    i = 2\n",
    "    q0 = f(p0)\n",
    "    q1 = f(p1)\n",
    "\n",
    "    while i < n:\n",
    "        p = p1 - q1*(p1 - p0)/(q1 - q0)\n",
    "\n",
    "        if abs(p - p1) < tol:\n",
    "            return p\n",
    "\n",
    "        i += 1\n",
    "\n",
    "        q = f(p)\n",
    "\n",
    "        if q * q1 < 0 :\n",
    "            p0 = p1\n",
    "            q0 = q1\n",
    "\n",
    "        p1 = p\n",
    "        q1 = q\n",
    "\n",
    "    return \"Aproksimasi Gagal\""
   ]
  },
  {
   "cell_type": "code",
   "execution_count": null,
   "metadata": {},
   "outputs": [],
   "source": [
    "from numpy import sin, cos, tan, log, exp, sqrt, pi\n",
    "formula = input(\"Masukkan formula fungsi: \")\n",
    "\n",
    "def f(x):\n",
    "    return eval(formula)\n",
    "\n",
    "titik_1 = eval(input(\"Masukkan titik awal pertama: \"))\n",
    "titik_2 = eval(input(\"Masukkan titik awal kedua: \"))\n",
    "tolerance = eval(input(\"Masukkan toleransi aproksimasi: \"))\n",
    "\n",
    "akar_falsi = RegulaFalsi(f, titik_1, titik_2, tolerance)\n",
    "\n",
    "print(f\"Akar dari persamaan f(x) = {formula} adalah x = {akar_falsi}\")"
   ]
  },
  {
   "cell_type": "markdown",
   "metadata": {
    "id": "BQcz7A8SumF2"
   },
   "source": [
    "### Apa itu barisan? (penjelasan tanpa kode)"
   ]
  },
  {
   "cell_type": "markdown",
   "metadata": {
    "id": "eBsiN2enuoXx"
   },
   "source": [
    "Suatu \"barisan\" (*sequence*) adalah sekumpulan angka yang berurut. Artinya, pada suatu barisan, ada yang bisa disebut angka pertama (atau suku pertama), angka kedua (suku kedua), angka ketiga (suku ketiga), dan sebagainya. Banyaknya suku bisa berhingga maupun tak terhingga.\n",
    "\n",
    "Suku-suku pada suatu barisan itu bisa saja ditentukan secara manual atau sesuka hati, atau bisa juga menggunakan rumus. Intinya, suku-suku suatu barisan itu bisa diperoleh dari manapun, bahkan dari hasil iterasi metode numerik ($p_0$, $p_1$, $p_2$, $p_3$, ...) juga bisa.\n",
    "\n",
    "Oleh karena itu, contoh barisan berhingga adalah hasil iterasi fixed-point, misalnya dengan $g(x) = 1 + \\frac{1}{x}$, tebakan awal $p_0 = 2$, dan batas toleransi $10^{-7}$:\n",
    "\n",
    "\\begin{align*}\n",
    "(& 1.5, 1.6666666666666665, 1.6, \\\\\n",
    "& 1.625, 1.6153846153846154, \\\\\n",
    "& 1.619047619047619, \\dots, \\\\\n",
    "& 1.6180339631667064)\n",
    "\\end{align*}\n",
    "\n",
    "Proses tersebut berakhir setelah 17 iterasi, sehingga barisan tersebut memiliki 17 suku.\n",
    "\n",
    "Barisan tersebut bisa diberi nama, seperti $p_n$ dengan $n = 1, 2, 3, \\dots, 17$, yang bisa dituliskan $\\left\\{p_n\\right\\}_{n=1}^{17}$ dengan kurung kurawal.\n",
    "\n",
    "Contoh barisan tak berhingga adalah barisan aritmetika dan barisan geometri, seperti:\n",
    "\n",
    "$$(-5, -2, 1, 4, 7, 10, 13, 16, 19, \\dots)$$\n",
    "\n",
    "$$\\left(16, 8, 4, 2, 1, \\frac{1}{2}, \\frac{1}{4}, \\frac{1}{8}, \\dots\\right)$$\n",
    "\n",
    "Barisan tak berhingga dengan nama $p_n$ yang mulai dari suku $n=1$ bisa ditulis $\\left\\{p_n\\right\\}_{n=1}^{\\infty}$ dengan kurung kurawal, atau singkatnya $(p_n)$ saja dengan kurung biasa (dengan begitu, biasanya ada asumsi bahwa barisan tersebut tak berhingga)."
   ]
  },
  {
   "cell_type": "markdown",
   "metadata": {
    "id": "GPi2kbG2WVf-"
   },
   "source": [
    "## Metode Aitken\n"
   ]
  },
  {
   "cell_type": "markdown",
   "metadata": {
    "id": "o7vE1edR8nyJ"
   },
   "source": [
    "Alexander Aitken menemukan bahwa, untuk sembarang barisan (termasuk sembarang metode numerik) yang memiliki kekonvergenan linier, untuk nilai $n$ yang besar, berlaku\n",
    "\n",
    "$$\\frac{p_{n+1} - p}{p_n - p} \\approx \\frac{p_{n+2} - p}{p_{n+1} - p}$$\n",
    "\n",
    "di mana $p$ adalah nilai yang ingin dicari, sedangkan $p_n$, $p_{n+1}$, dan $p_{n+2}$ adalah tiga suku barisan (atau tiga hasil aproksimasi) berturut-turut. Artinya, perbandingan error (*error ratio*) antar dua pasang hasil iterasi (diperoleh dari tiga hasil iterasi berturut-turut) menjadi kurang lebih sama. Dengan manipulasi aljabar, diperoleh\n",
    "\n",
    "$$p \\approx p_n - \\frac{\\left(p_{n+1} - p_n\\right)^2}{p_{n+2} - 2p_{n+1} + p_n}$$\n",
    "\n",
    "seolah-olah ada jalur pintas untuk langsung mendapatkan nilai yang ingin dicari.\n",
    "\n",
    "Tentu saja, sebelum menggunakan rumus ini, kita perlu menemukan tiga hasil aproksimasi pertama, yaitu $p_0$, $p_1$, dan $p_2$. Kemudian, barulah kita tentukan $p_3$ menggunakan rumus Aitken (hasil rumus Aitken biasa disebut $\\hat{p}_n$, sehingga bisa ditulis $p_3 = \\hat{p}_0$, karena perhitungan $p_3$ memanfaatkan $p_0$, $p_1$ dan $p_2$).\n",
    "\n",
    "Variabel $\\hat{p}$ biasa disebut *p-hat* atau *p-cap* (kata \"hat\" atau \"cap\" artinya topi).\n",
    "\n",
    "Apabila kita definisikan $\\Delta p_n = p_{n+1} - p_n$ dan $\\Delta^2 p_n = p_{n+2} - 2p_{n+1} + p_n$, rumus Aitken bisa ditulis\n",
    "\n",
    "$$\\hat{p}_n = p_n - \\frac{(\\Delta p_n)^2}{\\Delta^2 p_n}$$\n",
    "\n",
    "sehingga teknik ini biasa disebut *Aitken's delta-squared ($\\Delta^2$) method*.\n",
    "\n",
    "**Catatan**: dalam pembahasan metode Aitken/Steffensen, penulisan $\\Delta^2$ BUKAN berarti $(\\Delta)^2$. Itu hanya penulisan saja.\n",
    "\n",
    "Secara umum, apabila kita punya suku-suku suatu barisan yang berturut-turut yaitu $p_1, p_2, p_3, \\dots, p_{k-3}, p_{k-2}, p_{k-1}, p_{k}$, maka rumus Aitken bisa digunakan untuk menentukan $\\hat{p}_1, \\hat{p}_2, \\hat{p}_3, \\dots, \\hat{p}_{k-3}, \\hat{p}_{k-2}$, yang semuanya merupakan aproksimasi nilai yang lebih akurat untuk hasil konvergen dari barisan tersebut (dengan asumsi kekonvergenan linier).\n",
    "\n",
    "Perhatikan:\n",
    "- Kita hanya bisa berhenti sampai $\\hat{p}_{k-2}$, karena perhitungannya membutuhkan $p_{k-2}$, $p_{k-1}$ dan $p_k$.\n",
    "- Harus ada minimal 3 suku yang diketahui, artinya $k \\ge 3$."
   ]
  },
  {
   "cell_type": "code",
   "execution_count": null,
   "metadata": {},
   "outputs": [],
   "source": [
    "def Aitken(p):\n",
    "    k = len(p)\n",
    "    if k < 3:\n",
    "        return \"Maaf, dibutuhkan minimal 3 suku yang diketahui.\"\n",
    "    \n",
    "    # kalau lanjut ke sini, artinya k >= 3\n",
    "    list_phat = []\n",
    "    for i in range(k-2):\n",
    "        Delta = p[i+1] - p[i]\n",
    "        DeltaSquared = p[i+2] - 2 * p[i+1] + p[i]\n",
    "        phat = p[i] - (Delta)**2 / DeltaSquared\n",
    "        list_phat.append(phat)\n",
    "    return list_phat"
   ]
  },
  {
   "cell_type": "code",
   "execution_count": 18,
   "metadata": {
    "colab": {
     "base_uri": "https://localhost:8080/"
    },
    "id": "VeuLUP2XCGFm",
    "outputId": "83602a68-58d8-44f9-e9c1-6d5a5426ab9c"
   },
   "outputs": [
    {
     "name": "stdout",
     "output_type": "stream",
     "text": [
      "Masukkan list suku-suku yang diketahui: [2, 1.5, 1.6666666666666665, 1.6, 1.625]\n",
      "Berikut hasil metode Aitken:\n",
      "[1.625, 1.619047619047619, 1.6181818181818182]\n"
     ]
    }
   ],
   "source": [
    "try:\n",
    "    # input suatu list\n",
    "    p = eval(input(\"Masukkan list suku-suku yang diketahui: \"))\n",
    "except:\n",
    "    print(\"Maaf, terjadi error. Harap masukkan list dengan benar.\")\n",
    "else: # kalau tidak terjadi error \n",
    "    print(\"Berikut hasil metode Aitken:\") \n",
    "    print(Aitken(p))"
   ]
  },
  {
   "cell_type": "markdown",
   "metadata": {
    "id": "CBH84y5KWdgT"
   },
   "source": [
    "## Metode Steffensen: Penerapan Metode Aitken pada Metode Fixed Point"
   ]
  },
  {
   "cell_type": "markdown",
   "metadata": {
    "id": "HwBsEjpPAXiL"
   },
   "source": [
    "Aitken hanya menemukan rumus. Johan Frederik Steffensen menemukan bahwa, karena Metode Fixed-Point memiliki kekonvergen linier, metode Aitken bisa digunakan untuk mempercepat Metode Fixed-Point.\n",
    "\n",
    "Secara umum, apabila kita berselang-seling antara menggunakan suatu metode dan rumus Aitken (misalnya setelah memperoleh tiga hasil aproksimasi), kita dapat mempercepat kekonvergenan (*accelerating convergence*), seolah-olah *order of convergence* menjadi lebih besar dari 1. Namun, bagaimana cara selang-selingnya?\n",
    "\n",
    "Menurut Steffensen, rumus Aitken bisa digunakan tiap tiga iterasi fixed-point, yaitu untuk $p_3$, $p_6$, $p_9$, dan seterusnya.\n",
    "\n",
    "Kita bisa memodifikasi rumus Aitken dengan menggeser indeks $n$, yaitu menukar $n$ dengan $n-3$, untuk mendapatkan rumus iterasi:\n",
    "\n",
    "$$\\hat{p} = p_{n-3} - \\frac{\\left(p_{n-2} - p_{n-3}\\right)^2}{p_{n-1} - 2p_{n-2} + p_{n-3}}$$\n",
    "\n",
    "dan dalam hal ini, kita juga bisa mendefinisikan $\\Delta_1 = p_{n-2} - p_{n-3}$ dan $\\Delta_2 = p_{n-1} - 2p_{n-2} + p_{n-3}$ untuk mendapatkan bentuk:\n",
    "\n",
    "$$\\hat{p} = p_{n-3} - \\frac{(\\Delta_1)^2}{(\\Delta_2)}$$"
   ]
  },
  {
   "cell_type": "code",
   "execution_count": 22,
   "metadata": {},
   "outputs": [],
   "source": [
    "def Steffensen(g, p0, tolerance):\n",
    "    # list semua nilai p agar mudah diakses\n",
    "    list_p = [p0]\n",
    "\n",
    "    # nilai sementara\n",
    "    abs_error = tolerance + 1 \n",
    "\n",
    "    iterasi = 1 # penghitung banyaknya iterasi\n",
    "    while abs_error >= tolerance:\n",
    "        if iterasi % 3 == 0: # untuk kelipatan tiga, gunakan rumus Aitken\n",
    "            pn_3 = list_p[iterasi - 3] # p_(n-3)\n",
    "            pn_2 = list_p[iterasi - 2] # p_(n-2)\n",
    "            pn_1 = list_p[iterasi - 1] # p_(n-1)\n",
    "            Delta1 = pn_2 - pn_3\n",
    "            Delta2 = pn_1 - 2 * pn_2 + pn_3\n",
    "            pn = pn_3 - (Delta1)**2 / Delta2\n",
    "        else: # selain kelipatan 3, gunakan fixed point\n",
    "            pn_1 = list_p[iterasi - 1]\n",
    "            pn = g(pn_1)\n",
    "        \n",
    "        list_p.append(pn)\n",
    "        abs_error = abs( pn - pn_1 )\n",
    "        iterasi += 1\n",
    "    \n",
    "    # return bukan hanya p, tetapi juga banyaknya iterasi\n",
    "    return pn, iterasi"
   ]
  },
  {
   "cell_type": "code",
   "execution_count": 25,
   "metadata": {
    "colab": {
     "base_uri": "https://localhost:8080/"
    },
    "id": "zhdrLaJRiUNB",
    "outputId": "ca037e0b-f371-4a1e-b0e5-655c56b83675",
    "scrolled": false
   },
   "outputs": [
    {
     "name": "stdout",
     "output_type": "stream",
     "text": [
      "Masukkan formula g(x): 1 + 1/x\n",
      "Masukkan titik awal iterasi: 2\n",
      "Masukkan batas toleransi: 10**(-7)\n",
      "Metode Steffensen\n",
      "Hasil: 1.618033988749648\n",
      "setelah banyaknya iterasi: 11\n",
      "Bandingkan banyaknya iterasi dengan Metode Fixed-Point biasa:\n",
      "+---------+--------------------+\n",
      "| iterasi |    Aproksimasi     |\n",
      "+---------+--------------------+\n",
      "|    1    |        1.5         |\n",
      "|    2    | 1.6666666666666665 |\n",
      "|    3    |        1.6         |\n",
      "|    4    |       1.625        |\n",
      "|    5    | 1.6153846153846154 |\n",
      "|    6    | 1.619047619047619  |\n",
      "|    7    | 1.6176470588235294 |\n",
      "|    8    | 1.6181818181818182 |\n",
      "|    9    | 1.6179775280898876 |\n",
      "|   10    | 1.6180555555555556 |\n",
      "|   11    | 1.6180257510729614 |\n",
      "|   12    | 1.6180371352785146 |\n",
      "|   13    | 1.6180327868852458 |\n",
      "|   14    | 1.618034447821682  |\n",
      "|   15    | 1.618033813400125  |\n",
      "|   16    | 1.6180340557275543 |\n",
      "|   17    | 1.6180339631667064 |\n",
      "+---------+--------------------+\n"
     ]
    }
   ],
   "source": [
    "from numpy import sin, cos, tan, log, exp, sqrt\n",
    "\n",
    "formula = input(\"Masukkan formula g(x): \")\n",
    "\n",
    "def g(x):\n",
    "    return eval(formula)\n",
    "\n",
    "starting_point = eval(input(\"Masukkan titik awal iterasi: \"))\n",
    "tolerance = eval(input(\"Masukkan batas toleransi: \"))\n",
    "\n",
    "p_steffensen, i_steffensen = Steffensen(g, starting_point, tolerance)\n",
    "\n",
    "print(\"Metode Steffensen\")\n",
    "print(\"Hasil: \" + str(p_steffensen))\n",
    "print(\"setelah banyaknya iterasi: \" + str(i_steffensen))\n",
    "\n",
    "print(\"Bandingkan banyaknya iterasi dengan Metode Fixed-Point biasa:\")\n",
    "\n",
    "fixpoint_hasil, fixpoint_tabel = FixedPoint(g, starting_point, tolerance)\n",
    "print(fixpoint_tabel)"
   ]
  }
 ],
 "metadata": {
  "colab": {
   "provenance": []
  },
  "kernelspec": {
   "display_name": "Python 3 (ipykernel)",
   "language": "python",
   "name": "python3"
  },
  "language_info": {
   "codemirror_mode": {
    "name": "ipython",
    "version": 3
   },
   "file_extension": ".py",
   "mimetype": "text/x-python",
   "name": "python",
   "nbconvert_exporter": "python",
   "pygments_lexer": "ipython3",
   "version": "3.10.11"
  }
 },
 "nbformat": 4,
 "nbformat_minor": 1
}
