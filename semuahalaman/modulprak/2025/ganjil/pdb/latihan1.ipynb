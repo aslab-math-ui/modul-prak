{
 "cells": [
  {
   "cell_type": "markdown",
   "id": "e2a107fd",
   "metadata": {},
   "source": [
    "# Latihan 1 Praktikum Persamaan Diferensial Biasa: Metode Euler"
   ]
  },
  {
   "cell_type": "markdown",
   "id": "feb6a4be",
   "metadata": {},
   "source": [
    "## Soal"
   ]
  },
  {
   "cell_type": "markdown",
   "id": "9fb7a7c0",
   "metadata": {},
   "source": [
    "Diberikan suatu masalah nilai awal (*Initial Value Problem*):\n",
    "\n",
    "$$\n",
    "\\begin{align*}\n",
    "    y' &= 1 + \\cfrac{y}{t} + \\left(\\cfrac{y}{t}\\right)^2\\\\\n",
    "       & y(1) = 0 \\nonumber\n",
    "\\end{align*}\n",
    "$$\n",
    "\n",
    "Diberikan pada interval $1\\leq t\\leq 3$ dengan stepsize $h = 0.2$\n",
    "\n",
    "Diketahui bahwa solusi eksak dari model diberikan oleh\n",
    "\n",
    "$$\n",
    "\\begin{align*}\n",
    "    y(t) = t \\tan{(\\ln t)}\n",
    "\\end{align*}\n",
    "$$\n",
    "\n",
    "- Buatlah *script file* `nama_kelas_npm.m` (contoh: Pandu Adjie_C_1234567890.m) berisi penggunaan metode Euler untuk mengaproksimasi solusi dari model secara numerik !\n",
    "- Tunjukkan solusi aproksimasi anda dalam bentuk plot dan tentukan 1 dari aproksimasi dibandingkan dengan solusi eksak !"
   ]
  },
  {
   "cell_type": "markdown",
   "id": "44dbb3be",
   "metadata": {},
   "source": [
    "## Solusi"
   ]
  },
  {
   "cell_type": "markdown",
   "id": "3a42ea77",
   "metadata": {},
   "source": [
    "Pertama, buat *function file* `euler.m` terlebih dahulu pada direktori anda, misalnya seperti pada folder **F:\\Coding\\Octave**."
   ]
  },
  {
   "cell_type": "markdown",
   "id": "9df43cad",
   "metadata": {},
   "source": [
    "::: {.callout-note}\n",
    "### *Function file* `euler.m` - nama *file* harus sama dengan nama fungsi"
   ]
  },
  {
   "cell_type": "code",
   "execution_count": null,
   "id": "4a9381b4",
   "metadata": {},
   "outputs": [],
   "source": [
    "function [t, w] = euler(f, a, b, N, alpha)\n",
    "    h = (b - a) / N;\n",
    "    t = zeros(N + 1, 1);\n",
    "    w = zeros(N + 1, 1);\n",
    "    t(1) = a;\n",
    "    w(1) = alpha;\n",
    "\n",
    "    for i = 1 : N\n",
    "        t(i + 1) = t(i) + h;\n",
    "        m1 = f(t(i), w(i));\n",
    "        w(i + 1) = w(i) + h * m1;\n",
    "    endfor\n",
    "endfunction"
   ]
  },
  {
   "cell_type": "markdown",
   "id": "2ee261a6",
   "metadata": {},
   "source": [
    ":::"
   ]
  },
  {
   "cell_type": "markdown",
   "id": "f147a7cd",
   "metadata": {},
   "source": [
    "Langkah berikutnya anda membuat *script file* dengan nama file bebas, berisi instruksi untuk menjalankan metode euler berdasarkan nilai awal yang diketahui sebagai berikut."
   ]
  },
  {
   "cell_type": "code",
   "execution_count": null,
   "id": "ddfb7256",
   "metadata": {},
   "outputs": [],
   "source": [
    "% full-setup\n",
    "f = @(t, y) (1 + y/t + (y/t)^2);\n",
    "a = 1;\n",
    "b = 3;\n",
    "N = 10;\n",
    "alpha= 0;\n",
    "\n",
    "\n",
    "[t_euler, w_euler] = euler(f, a, b, N, alpha);\n",
    "\n",
    "\n",
    "sln = @(t) (t).*tan(log(t));\n",
    "y_eksak = sln(t_euler); \n",
    "\n",
    "\n",
    "err_euler = abs(y_eksak - w_euler);\n",
    "\n",
    "err_euler_total = sum(err_euler);\n",
    "\n",
    "\n",
    "disp(\"Tabel aproksimasi w, solusi eksak y, dan error:\");\n",
    "[t_euler, w_euler, y_eksak, err_euler]\n",
    "\n",
    "disp(\"Error total (norm L1):\");\n",
    "disp(err_euler_total);\n",
    "\n",
    "\n",
    "hold on;\n",
    "fplot(sln, [a, b], 'b');\n",
    "scatter(t_euler, w_euler, 'r');\n",
    "legend('Solusi eksak', 'Metode Euler');\n",
    "title(\"Metode Euler\");"
   ]
  },
  {
   "cell_type": "markdown",
   "id": "9f9b23a0",
   "metadata": {},
   "source": [
    "```text\n",
    "Tabel aproksimasi w, solusi eksak y, dan error:\n",
    "ans =\n",
    "\n",
    "   1.0000        0        0        0\n",
    "   1.2000   0.2000   0.2212   0.0212\n",
    "   1.4000   0.4389   0.4897   0.0508\n",
    "   1.6000   0.7212   0.8128   0.0915\n",
    "   1.8000   1.0520   1.1994   0.1474\n",
    "   2.0000   1.4373   1.6613   0.2240\n",
    "   2.2000   1.8843   2.2135   0.3292\n",
    "   2.4000   2.4023   2.8766   0.4743\n",
    "   2.6000   3.0028   3.6785   0.6756\n",
    "   2.8000   3.7006   4.6587   0.9581\n",
    "   3.0000   4.5143   5.8741   1.3598\n",
    "\n",
    "Error total (norm L1):\n",
    "4.3320\n",
    "```"
   ]
  },
  {
   "cell_type": "markdown",
   "id": "4cfc753e",
   "metadata": {},
   "source": [
    "![Output Octave](output_latihan1.png)"
   ]
  },
  {
   "cell_type": "markdown",
   "id": "b7525d47",
   "metadata": {},
   "source": []
  }
 ],
 "metadata": {
  "kernelspec": {
   "display_name": "Python 3",
   "language": "python",
   "name": "python3"
  },
  "language_info": {
   "codemirror_mode": {
    "name": "ipython",
    "version": 3
   },
   "file_extension": ".py",
   "mimetype": "text/x-python",
   "name": "python",
   "nbconvert_exporter": "python",
   "pygments_lexer": "ipython3",
   "version": "3.12.10"
  }
 },
 "nbformat": 4,
 "nbformat_minor": 5
}
