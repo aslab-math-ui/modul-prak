{
 "cells": [
  {
   "cell_type": "markdown",
   "metadata": {
    "id": "ylfY-Ycgl6CS"
   },
   "source": [
    "---\n",
    "title: \"Tugas 3 Praktikum Struktur Data: *Tree*\"\n",
    "subtitle: \"Assignment 3: Tree\"\n",
    "description: \"Online dari Rumah\"\n",
    "date: \"12/10/2024\"\n",
    "page-navigation: true\n",
    "format: html\n",
    "---"
   ]
  },
  {
   "cell_type": "markdown",
   "metadata": {
    "id": "LoFA3GAyl6CT"
   },
   "source": [
    "Kembali ke [Struktur Data](./strukdat2024.qmd)"
   ]
  },
  {
   "cell_type": "markdown",
   "metadata": {
    "id": "FABfyZUxl6CU"
   },
   "source": [
    "Tugas ini diberikan pada hari dan tanggal: Selasa, 10 Desember 2024"
   ]
  },
  {
   "cell_type": "markdown",
   "metadata": {},
   "source": [
    "## Petunjuk Umum:"
   ]
  },
  {
   "cell_type": "markdown",
   "metadata": {
    "id": "GrN8J-iil6CU"
   },
   "source": [
    "1. Kerjakan secara individu.\n",
    "\n",
    "2. Kerjakan tugas ini menggunakan bahasa pemrograman Python dengan *file format* berupa *interactive Python notebook* (yaitu *file* berbentuk .ipynb BUKAN .py), yang bisa dibuat misalnya menggunakan Jupyter Notebook atau Google Colaboratory.\n",
    "\n",
    "3. **Harap sertakan penjelasan untuk setiap variabel yang digunakan dan setiap proses secara singkat** di sebelah (atas/bawah/kanan) barisnya (dengan comment, `#`). Selain itu, **sertakan juga penjelasan kode** (yang bisa mencakupi idenya apa, bagaimana cara eksekusinya, atau tentang algoritma yang digunakan) **pada *cell* di sebelah (atas/bawah) kode**.\n",
    "\n",
    "4. Format nama *file* untuk Tugas 3 ini adalah:\n",
    "\n",
    "    Kelas SIAK_Tugas3PrakStrukdat_Nama Lengkap_NPM.ipynb\n",
    "\n",
    "    Contoh penamaan yang benar:\n",
    "\n",
    "    Kelas C_Tugas3PrakStrukdat_Haikal Fikri Rabani_2206823713.ipynb\n",
    "\n",
    "5. Pengumpulan Tugas 3 dilakukan ke Google Forms berikut ini:\n",
    "\n",
    "    [https://bit.ly/KumpulTugas1PrakStrukdat2024Ganjil](https://bit.ly/KumpulTugas1PrakStrukdat2024Ganjil)\n",
    "\n",
    "6. Apabila ada yang ingin direvisi setelah pengumpulan, lakukan pengumpulan ulang di Google Forms yang sama, tambahkan keterangan bahwa ada revisi, dan tambahkan kata “revisi” pada bagian akhir nama file, contohnya menjadi\n",
    "\n",
    "    Kelas C_Tugas3PrakStrukdat_Haikal Fikri Rabani_2206823713_revisi.ipynb\n",
    "\n",
    "    Kelas C_Tugas3PrakStrukdat_Haikal Fikri Rabani_2206823713_revisi2.ipynb\n",
    "\n",
    "    Kelas C_Tugas3PrakStrukdat_Haikal Fikri Rabani_2206823713_revisi3.ipynb\n",
    "\n",
    "    (Revisi boleh dilakukan berkali-kali.)\n",
    "\n",
    "7. Dengan durasi pengerjaan sekitar **3 (tiga) minggu**, tenggat waktu (*deadline*) pengumpulan Tugas 3 ini (termasuk revisi) adalah **Selasa, 31 Desember 2024, 23.59 WIB**.\n",
    "\n",
    "8. Sesuai standar Universitas Indonesia, **plagiarisme dilarang keras** dan bisa menyebabkan nilai tugas praktikum **menjadi nol untuk semua pihak yang terlibat, tanpa peringatan apapun.** Namun, Anda boleh langsung menggunakan kode yang ada di [modul praktikum](./strukdat2024.qmd).\n",
    "\n",
    "9. *Module* atau *package* Python yang boleh digunakan (di-*import*) untuk Tugas 3 ini hanyalah numpy dan graphviz. Apabila Anda berniat ingin menggunakan *module* lain, harap konfirmasikan ke narahubung terlebih dahulu (bisa saja diperbolehkan).\n",
    "\n",
    "10. Narahubung untuk Tugas 3 Praktikum Struktur Data adalah:\n",
    "\n",
    "    Muhammad Fasya Syaifullah (ID LINE: ifasyai)\n",
    "\n",
    "    Silakan hubungi narahubung di atas apabila ada yang ingin ditanyakan atau dikonfirmasikan."
   ]
  },
  {
   "cell_type": "markdown",
   "metadata": {
    "id": "BhkzYfRLl6CV"
   },
   "source": [
    "## Soal\n",
    "\n",
    "**Tugas ini dibagi menjadi dua yaitu untuk mahasiswa dengan NPM genap dan mahasiswa dengan NPM ganjil. Untuk NPM ganjil harap mengerjakan bagian 1 dan untuk NPM genap harap kerjakan bagian dua.**\n",
    "\n",
    "Heap tree masih bisa digunakan di luar dari bilangan bulat. Maka dari itu buatlah heap tree yang berisi huruf-huruf alfabet pada nama lengkap anda. Heap tree yang digunakan adalah MaxHeap dan MinHeap. Harap masing-masing mahasiswa hanya mengerjakan satu bagian saja seperti pada ketentuan sebelumnya.\n",
    "\n",
    "Lalu, gunakan *pywidgets* untuk memodifikasi tree yang anda punya yaitu menambahkan huruf dan mengeluarkan huruf pada tree.\n",
    "\n",
    "Catatan:\n",
    "1. Huruf alfabet pada nama hanya digunakan huruf kecil saja, yaitu:<br><br>\n",
    "$$\n",
    "     [a, b, c, d, e, ..., z]\n",
    "$$<br>\n",
    "2. Pendefinisian urutan pada huruf adalah sebagai berikut: <br><br>\n",
    "$$\n",
    "     a < b < c < d < ... < z\n",
    "$$<br>\n",
    "\n",
    "3. *Error-handling* dapat anda modifikasi sendiri."
   ]
  },
  {
   "cell_type": "markdown",
   "metadata": {
    "id": "1vkmroMVW--w"
   },
   "source": [
    "### Bagian 1\n",
    "\n",
    "Misalkan nama yang digunakan adalah **fasya**, maka buatlah tree dan tampilan berikut. <br>"
   ]
  },
  {
   "cell_type": "code",
   "execution_count": null,
   "metadata": {
    "colab": {
     "base_uri": "https://localhost:8080/",
     "height": 645,
     "referenced_widgets": [
      "345e5fa8e9794006bada698b7127f2a4",
      "5dd80235128a4834910e5f6b85933947",
      "20ea2a421e7b42799de2bc32b3dfc350",
      "118f0d119b1a4d25b8e3a3222ef22653",
      "2e1a089b02c3478d9a9808531ffbd4d2",
      "c092674addd6482ba56f18716d24fb0a",
      "ea88fd4781524a698d750580ff1a5d31",
      "7acb85f2e7e044dc980eabc3e60794ea",
      "843ade6874164d94b26ebddc99cc09c9",
      "bd00daed17074e4abeb600422e1862eb",
      "0d3dd75e65d04ddea374ce1a26875256"
     ]
    },
    "id": "fFINvj_Iddbj",
    "outputId": "5925e2e2-ba62-4642-fec1-627df068fc81"
   },
   "outputs": [
    {
     "name": "stdout",
     "output_type": "stream",
     "text": [
      "Masukkan nama anda: fasya\n",
      "Berikut adalah tree dari huruf pada nama anda :D\n"
     ]
    },
    {
     "data": {
      "image/svg+xml": [
       "<?xml version=\"1.0\" encoding=\"UTF-8\" standalone=\"no\"?>\n",
       "<!DOCTYPE svg PUBLIC \"-//W3C//DTD SVG 1.1//EN\"\n",
       " \"http://www.w3.org/Graphics/SVG/1.1/DTD/svg11.dtd\">\n",
       "<!-- Generated by graphviz version 2.43.0 (0)\n",
       " -->\n",
       "<!-- Title: %3 Pages: 1 -->\n",
       "<svg width=\"350pt\" height=\"260pt\"\n",
       " viewBox=\"0.00 0.00 350.00 260.00\" xmlns=\"http://www.w3.org/2000/svg\" xmlns:xlink=\"http://www.w3.org/1999/xlink\">\n",
       "<g id=\"graph0\" class=\"graph\" transform=\"scale(1 1) rotate(0) translate(4 256)\">\n",
       "<title>%3</title>\n",
       "<polygon fill=\"white\" stroke=\"transparent\" points=\"-4,4 -4,-256 346,-256 346,4 -4,4\"/>\n",
       "<!-- node0 -->\n",
       "<g id=\"node1\" class=\"node\">\n",
       "<title>node0</title>\n",
       "<ellipse fill=\"none\" stroke=\"black\" cx=\"207\" cy=\"-234\" rx=\"27\" ry=\"18\"/>\n",
       "<text text-anchor=\"middle\" x=\"207\" y=\"-230.3\" font-family=\"Times,serif\" font-size=\"14.00\">y</text>\n",
       "</g>\n",
       "<!-- node1 -->\n",
       "<g id=\"node2\" class=\"node\">\n",
       "<title>node1</title>\n",
       "<ellipse fill=\"none\" stroke=\"black\" cx=\"171\" cy=\"-162\" rx=\"27\" ry=\"18\"/>\n",
       "<text text-anchor=\"middle\" x=\"171\" y=\"-158.3\" font-family=\"Times,serif\" font-size=\"14.00\">s</text>\n",
       "</g>\n",
       "<!-- node0&#45;&gt;node1 -->\n",
       "<g id=\"edge1\" class=\"edge\">\n",
       "<title>node0&#45;&gt;node1</title>\n",
       "<path fill=\"none\" stroke=\"black\" d=\"M198.65,-216.76C194.29,-208.28 188.85,-197.71 183.96,-188.2\"/>\n",
       "<polygon fill=\"black\" stroke=\"black\" points=\"186.99,-186.44 179.3,-179.15 180.77,-189.64 186.99,-186.44\"/>\n",
       "</g>\n",
       "<!-- node2 -->\n",
       "<g id=\"node3\" class=\"node\">\n",
       "<title>node2</title>\n",
       "<ellipse fill=\"none\" stroke=\"black\" cx=\"243\" cy=\"-162\" rx=\"27\" ry=\"18\"/>\n",
       "<text text-anchor=\"middle\" x=\"243\" y=\"-158.3\" font-family=\"Times,serif\" font-size=\"14.00\">f</text>\n",
       "</g>\n",
       "<!-- node0&#45;&gt;node2 -->\n",
       "<g id=\"edge2\" class=\"edge\">\n",
       "<title>node0&#45;&gt;node2</title>\n",
       "<path fill=\"none\" stroke=\"black\" d=\"M215.35,-216.76C219.71,-208.28 225.15,-197.71 230.04,-188.2\"/>\n",
       "<polygon fill=\"black\" stroke=\"black\" points=\"233.23,-189.64 234.7,-179.15 227.01,-186.44 233.23,-189.64\"/>\n",
       "</g>\n",
       "<!-- node3 -->\n",
       "<g id=\"node4\" class=\"node\">\n",
       "<title>node3</title>\n",
       "<ellipse fill=\"none\" stroke=\"black\" cx=\"99\" cy=\"-90\" rx=\"27\" ry=\"18\"/>\n",
       "<text text-anchor=\"middle\" x=\"99\" y=\"-86.3\" font-family=\"Times,serif\" font-size=\"14.00\">a</text>\n",
       "</g>\n",
       "<!-- node1&#45;&gt;node3 -->\n",
       "<g id=\"edge3\" class=\"edge\">\n",
       "<title>node1&#45;&gt;node3</title>\n",
       "<path fill=\"none\" stroke=\"black\" d=\"M156.43,-146.83C146.25,-136.94 132.48,-123.55 120.97,-112.36\"/>\n",
       "<polygon fill=\"black\" stroke=\"black\" points=\"123.41,-109.85 113.8,-105.38 118.53,-114.87 123.41,-109.85\"/>\n",
       "</g>\n",
       "<!-- node4 -->\n",
       "<g id=\"node5\" class=\"node\">\n",
       "<title>node4</title>\n",
       "<ellipse fill=\"none\" stroke=\"black\" cx=\"171\" cy=\"-90\" rx=\"27\" ry=\"18\"/>\n",
       "<text text-anchor=\"middle\" x=\"171\" y=\"-86.3\" font-family=\"Times,serif\" font-size=\"14.00\">a</text>\n",
       "</g>\n",
       "<!-- node1&#45;&gt;node4 -->\n",
       "<g id=\"edge4\" class=\"edge\">\n",
       "<title>node1&#45;&gt;node4</title>\n",
       "<path fill=\"none\" stroke=\"black\" d=\"M171,-143.7C171,-135.98 171,-126.71 171,-118.11\"/>\n",
       "<polygon fill=\"black\" stroke=\"black\" points=\"174.5,-118.1 171,-108.1 167.5,-118.1 174.5,-118.1\"/>\n",
       "</g>\n",
       "<!-- node5 -->\n",
       "<g id=\"node6\" class=\"node\">\n",
       "<title>node5</title>\n",
       "<text text-anchor=\"middle\" x=\"243\" y=\"-86.3\" font-family=\"Times,serif\" font-size=\"14.00\">NULL</text>\n",
       "</g>\n",
       "<!-- node2&#45;&gt;node5 -->\n",
       "<g id=\"edge5\" class=\"edge\">\n",
       "<title>node2&#45;&gt;node5</title>\n",
       "<path fill=\"none\" stroke=\"black\" d=\"M243,-143.7C243,-135.98 243,-126.71 243,-118.11\"/>\n",
       "<polygon fill=\"black\" stroke=\"black\" points=\"246.5,-118.1 243,-108.1 239.5,-118.1 246.5,-118.1\"/>\n",
       "</g>\n",
       "<!-- node6 -->\n",
       "<g id=\"node7\" class=\"node\">\n",
       "<title>node6</title>\n",
       "<text text-anchor=\"middle\" x=\"315\" y=\"-86.3\" font-family=\"Times,serif\" font-size=\"14.00\">NULL</text>\n",
       "</g>\n",
       "<!-- node2&#45;&gt;node6 -->\n",
       "<g id=\"edge6\" class=\"edge\">\n",
       "<title>node2&#45;&gt;node6</title>\n",
       "<path fill=\"none\" stroke=\"black\" d=\"M257.57,-146.83C266.92,-137.75 279.3,-125.71 290.17,-115.14\"/>\n",
       "<polygon fill=\"black\" stroke=\"black\" points=\"292.67,-117.59 297.4,-108.11 287.79,-112.57 292.67,-117.59\"/>\n",
       "</g>\n",
       "<!-- node7 -->\n",
       "<g id=\"node8\" class=\"node\">\n",
       "<title>node7</title>\n",
       "<text text-anchor=\"middle\" x=\"27\" y=\"-14.3\" font-family=\"Times,serif\" font-size=\"14.00\">NULL</text>\n",
       "</g>\n",
       "<!-- node3&#45;&gt;node7 -->\n",
       "<g id=\"edge7\" class=\"edge\">\n",
       "<title>node3&#45;&gt;node7</title>\n",
       "<path fill=\"none\" stroke=\"black\" d=\"M84.43,-74.83C75.08,-65.75 62.7,-53.71 51.83,-43.14\"/>\n",
       "<polygon fill=\"black\" stroke=\"black\" points=\"54.21,-40.57 44.6,-36.11 49.33,-45.59 54.21,-40.57\"/>\n",
       "</g>\n",
       "<!-- node8 -->\n",
       "<g id=\"node9\" class=\"node\">\n",
       "<title>node8</title>\n",
       "<text text-anchor=\"middle\" x=\"99\" y=\"-14.3\" font-family=\"Times,serif\" font-size=\"14.00\">NULL</text>\n",
       "</g>\n",
       "<!-- node3&#45;&gt;node8 -->\n",
       "<g id=\"edge8\" class=\"edge\">\n",
       "<title>node3&#45;&gt;node8</title>\n",
       "<path fill=\"none\" stroke=\"black\" d=\"M99,-71.7C99,-63.98 99,-54.71 99,-46.11\"/>\n",
       "<polygon fill=\"black\" stroke=\"black\" points=\"102.5,-46.1 99,-36.1 95.5,-46.1 102.5,-46.1\"/>\n",
       "</g>\n",
       "<!-- node9 -->\n",
       "<g id=\"node10\" class=\"node\">\n",
       "<title>node9</title>\n",
       "<text text-anchor=\"middle\" x=\"171\" y=\"-14.3\" font-family=\"Times,serif\" font-size=\"14.00\">NULL</text>\n",
       "</g>\n",
       "<!-- node4&#45;&gt;node9 -->\n",
       "<g id=\"edge9\" class=\"edge\">\n",
       "<title>node4&#45;&gt;node9</title>\n",
       "<path fill=\"none\" stroke=\"black\" d=\"M171,-71.7C171,-63.98 171,-54.71 171,-46.11\"/>\n",
       "<polygon fill=\"black\" stroke=\"black\" points=\"174.5,-46.1 171,-36.1 167.5,-46.1 174.5,-46.1\"/>\n",
       "</g>\n",
       "<!-- node10 -->\n",
       "<g id=\"node11\" class=\"node\">\n",
       "<title>node10</title>\n",
       "<text text-anchor=\"middle\" x=\"243\" y=\"-14.3\" font-family=\"Times,serif\" font-size=\"14.00\">NULL</text>\n",
       "</g>\n",
       "<!-- node4&#45;&gt;node10 -->\n",
       "<g id=\"edge10\" class=\"edge\">\n",
       "<title>node4&#45;&gt;node10</title>\n",
       "<path fill=\"none\" stroke=\"black\" d=\"M185.57,-74.83C194.92,-65.75 207.3,-53.71 218.17,-43.14\"/>\n",
       "<polygon fill=\"black\" stroke=\"black\" points=\"220.67,-45.59 225.4,-36.11 215.79,-40.57 220.67,-45.59\"/>\n",
       "</g>\n",
       "</g>\n",
       "</svg>\n"
      ],
      "text/plain": [
       "<graphviz.graphs.Digraph at 0x7adbd7634520>"
      ]
     },
     "metadata": {},
     "output_type": "display_data"
    },
    {
     "data": {
      "application/vnd.jupyter.widget-view+json": {
       "model_id": "345e5fa8e9794006bada698b7127f2a4",
       "version_major": 2,
       "version_minor": 0
      },
      "text/plain": [
       "Text(value='', description='tambah')"
      ]
     },
     "metadata": {},
     "output_type": "display_data"
    },
    {
     "data": {
      "application/vnd.jupyter.widget-view+json": {
       "model_id": "118f0d119b1a4d25b8e3a3222ef22653",
       "version_major": 2,
       "version_minor": 0
      },
      "text/plain": [
       "Button(description='Tambah huruf: ', style=ButtonStyle())"
      ]
     },
     "metadata": {},
     "output_type": "display_data"
    },
    {
     "data": {
      "application/vnd.jupyter.widget-view+json": {
       "model_id": "ea88fd4781524a698d750580ff1a5d31",
       "version_major": 2,
       "version_minor": 0
      },
      "text/plain": [
       "Button(description='Keluarkan huruf: ', style=ButtonStyle())"
      ]
     },
     "metadata": {},
     "output_type": "display_data"
    },
    {
     "data": {
      "application/vnd.jupyter.widget-view+json": {
       "model_id": "bd00daed17074e4abeb600422e1862eb",
       "version_major": 2,
       "version_minor": 0
      },
      "text/plain": [
       "Image(value=b'\\x89PNG\\r\\n\\x1a\\n\\x00\\x00\\x00\\rIHDR\\x00\\x00\\x01\\xd3\\x00\\x00\\x01[\\x08\\x06\\x00\\x00\\x00\\x8e\\x1dd\\x1…"
      ]
     },
     "metadata": {},
     "output_type": "display_data"
    }
   ],
   "source": [
    "urutan_nama_naik() # Untuk urutan naik"
   ]
  },
  {
   "cell_type": "markdown",
   "metadata": {
    "id": "dnMOrL0xouoM"
   },
   "source": [
    "**Penjelasan:**<br>\n",
    "Perhatikan bahwa dari huruf pada nama fasya berlaku:\n",
    "$$\n",
    "a < f < l < s < y < z\n",
    "$$\n",
    "maka dari itu terbentuklah tree tersebut."
   ]
  },
  {
   "cell_type": "markdown",
   "metadata": {
    "id": "AOd4wT9onXc7"
   },
   "source": [
    "### Bagian 2\n",
    "\n",
    "Misalkan nama yang digunakan adalah **fasya**, maka buatlah tree dan tampilan berikut."
   ]
  },
  {
   "cell_type": "code",
   "execution_count": null,
   "metadata": {
    "colab": {
     "base_uri": "https://localhost:8080/",
     "height": 645,
     "referenced_widgets": [
      "2aff11023f0b47d0ab61d7aa17dac4bb",
      "208a03e073ba4c31ab740f4e8d10aea6",
      "1efd41f040e84b93ac972036fc9cd138",
      "170504c128744dd3ab7169ab1354be0a",
      "9bbc0ca46ef44a10acba00172e2bbb15",
      "1bb262822e374b7f93dc6ae155d71c9e",
      "1f8e8922f7704f40862063f681df5fb4",
      "a012fca7ff734ac4a902bc67eae84ad4",
      "5c110faa9e634b3b9eb477ddb2857f8d",
      "1ca0db4f1eb44aedb0d011d930e09a1b",
      "c1a062afc68d4a99b9d1549b66c34d93"
     ]
    },
    "id": "YNe2xs1zg75c",
    "outputId": "5bc38df4-e426-46a2-b6b3-bf8bb8e83314"
   },
   "outputs": [
    {
     "name": "stdout",
     "output_type": "stream",
     "text": [
      "Masukkan nama anda: fasya\n",
      "Berikut adalah tree dari huruf pada nama anda :D\n"
     ]
    },
    {
     "data": {
      "image/svg+xml": [
       "<?xml version=\"1.0\" encoding=\"UTF-8\" standalone=\"no\"?>\n",
       "<!DOCTYPE svg PUBLIC \"-//W3C//DTD SVG 1.1//EN\"\n",
       " \"http://www.w3.org/Graphics/SVG/1.1/DTD/svg11.dtd\">\n",
       "<!-- Generated by graphviz version 2.43.0 (0)\n",
       " -->\n",
       "<!-- Title: %3 Pages: 1 -->\n",
       "<svg width=\"350pt\" height=\"260pt\"\n",
       " viewBox=\"0.00 0.00 350.00 260.00\" xmlns=\"http://www.w3.org/2000/svg\" xmlns:xlink=\"http://www.w3.org/1999/xlink\">\n",
       "<g id=\"graph0\" class=\"graph\" transform=\"scale(1 1) rotate(0) translate(4 256)\">\n",
       "<title>%3</title>\n",
       "<polygon fill=\"white\" stroke=\"transparent\" points=\"-4,4 -4,-256 346,-256 346,4 -4,4\"/>\n",
       "<!-- node0 -->\n",
       "<g id=\"node1\" class=\"node\">\n",
       "<title>node0</title>\n",
       "<ellipse fill=\"none\" stroke=\"black\" cx=\"207\" cy=\"-234\" rx=\"27\" ry=\"18\"/>\n",
       "<text text-anchor=\"middle\" x=\"207\" y=\"-230.3\" font-family=\"Times,serif\" font-size=\"14.00\">a</text>\n",
       "</g>\n",
       "<!-- node1 -->\n",
       "<g id=\"node2\" class=\"node\">\n",
       "<title>node1</title>\n",
       "<ellipse fill=\"none\" stroke=\"black\" cx=\"171\" cy=\"-162\" rx=\"27\" ry=\"18\"/>\n",
       "<text text-anchor=\"middle\" x=\"171\" y=\"-158.3\" font-family=\"Times,serif\" font-size=\"14.00\">a</text>\n",
       "</g>\n",
       "<!-- node0&#45;&gt;node1 -->\n",
       "<g id=\"edge1\" class=\"edge\">\n",
       "<title>node0&#45;&gt;node1</title>\n",
       "<path fill=\"none\" stroke=\"black\" d=\"M198.65,-216.76C194.29,-208.28 188.85,-197.71 183.96,-188.2\"/>\n",
       "<polygon fill=\"black\" stroke=\"black\" points=\"186.99,-186.44 179.3,-179.15 180.77,-189.64 186.99,-186.44\"/>\n",
       "</g>\n",
       "<!-- node2 -->\n",
       "<g id=\"node3\" class=\"node\">\n",
       "<title>node2</title>\n",
       "<ellipse fill=\"none\" stroke=\"black\" cx=\"243\" cy=\"-162\" rx=\"27\" ry=\"18\"/>\n",
       "<text text-anchor=\"middle\" x=\"243\" y=\"-158.3\" font-family=\"Times,serif\" font-size=\"14.00\">s</text>\n",
       "</g>\n",
       "<!-- node0&#45;&gt;node2 -->\n",
       "<g id=\"edge2\" class=\"edge\">\n",
       "<title>node0&#45;&gt;node2</title>\n",
       "<path fill=\"none\" stroke=\"black\" d=\"M215.35,-216.76C219.71,-208.28 225.15,-197.71 230.04,-188.2\"/>\n",
       "<polygon fill=\"black\" stroke=\"black\" points=\"233.23,-189.64 234.7,-179.15 227.01,-186.44 233.23,-189.64\"/>\n",
       "</g>\n",
       "<!-- node3 -->\n",
       "<g id=\"node4\" class=\"node\">\n",
       "<title>node3</title>\n",
       "<ellipse fill=\"none\" stroke=\"black\" cx=\"99\" cy=\"-90\" rx=\"27\" ry=\"18\"/>\n",
       "<text text-anchor=\"middle\" x=\"99\" y=\"-86.3\" font-family=\"Times,serif\" font-size=\"14.00\">y</text>\n",
       "</g>\n",
       "<!-- node1&#45;&gt;node3 -->\n",
       "<g id=\"edge3\" class=\"edge\">\n",
       "<title>node1&#45;&gt;node3</title>\n",
       "<path fill=\"none\" stroke=\"black\" d=\"M156.43,-146.83C146.25,-136.94 132.48,-123.55 120.97,-112.36\"/>\n",
       "<polygon fill=\"black\" stroke=\"black\" points=\"123.41,-109.85 113.8,-105.38 118.53,-114.87 123.41,-109.85\"/>\n",
       "</g>\n",
       "<!-- node4 -->\n",
       "<g id=\"node5\" class=\"node\">\n",
       "<title>node4</title>\n",
       "<ellipse fill=\"none\" stroke=\"black\" cx=\"171\" cy=\"-90\" rx=\"27\" ry=\"18\"/>\n",
       "<text text-anchor=\"middle\" x=\"171\" y=\"-86.3\" font-family=\"Times,serif\" font-size=\"14.00\">f</text>\n",
       "</g>\n",
       "<!-- node1&#45;&gt;node4 -->\n",
       "<g id=\"edge4\" class=\"edge\">\n",
       "<title>node1&#45;&gt;node4</title>\n",
       "<path fill=\"none\" stroke=\"black\" d=\"M171,-143.7C171,-135.98 171,-126.71 171,-118.11\"/>\n",
       "<polygon fill=\"black\" stroke=\"black\" points=\"174.5,-118.1 171,-108.1 167.5,-118.1 174.5,-118.1\"/>\n",
       "</g>\n",
       "<!-- node5 -->\n",
       "<g id=\"node6\" class=\"node\">\n",
       "<title>node5</title>\n",
       "<text text-anchor=\"middle\" x=\"243\" y=\"-86.3\" font-family=\"Times,serif\" font-size=\"14.00\">NULL</text>\n",
       "</g>\n",
       "<!-- node2&#45;&gt;node5 -->\n",
       "<g id=\"edge5\" class=\"edge\">\n",
       "<title>node2&#45;&gt;node5</title>\n",
       "<path fill=\"none\" stroke=\"black\" d=\"M243,-143.7C243,-135.98 243,-126.71 243,-118.11\"/>\n",
       "<polygon fill=\"black\" stroke=\"black\" points=\"246.5,-118.1 243,-108.1 239.5,-118.1 246.5,-118.1\"/>\n",
       "</g>\n",
       "<!-- node6 -->\n",
       "<g id=\"node7\" class=\"node\">\n",
       "<title>node6</title>\n",
       "<text text-anchor=\"middle\" x=\"315\" y=\"-86.3\" font-family=\"Times,serif\" font-size=\"14.00\">NULL</text>\n",
       "</g>\n",
       "<!-- node2&#45;&gt;node6 -->\n",
       "<g id=\"edge6\" class=\"edge\">\n",
       "<title>node2&#45;&gt;node6</title>\n",
       "<path fill=\"none\" stroke=\"black\" d=\"M257.57,-146.83C266.92,-137.75 279.3,-125.71 290.17,-115.14\"/>\n",
       "<polygon fill=\"black\" stroke=\"black\" points=\"292.67,-117.59 297.4,-108.11 287.79,-112.57 292.67,-117.59\"/>\n",
       "</g>\n",
       "<!-- node7 -->\n",
       "<g id=\"node8\" class=\"node\">\n",
       "<title>node7</title>\n",
       "<text text-anchor=\"middle\" x=\"27\" y=\"-14.3\" font-family=\"Times,serif\" font-size=\"14.00\">NULL</text>\n",
       "</g>\n",
       "<!-- node3&#45;&gt;node7 -->\n",
       "<g id=\"edge7\" class=\"edge\">\n",
       "<title>node3&#45;&gt;node7</title>\n",
       "<path fill=\"none\" stroke=\"black\" d=\"M84.43,-74.83C75.08,-65.75 62.7,-53.71 51.83,-43.14\"/>\n",
       "<polygon fill=\"black\" stroke=\"black\" points=\"54.21,-40.57 44.6,-36.11 49.33,-45.59 54.21,-40.57\"/>\n",
       "</g>\n",
       "<!-- node8 -->\n",
       "<g id=\"node9\" class=\"node\">\n",
       "<title>node8</title>\n",
       "<text text-anchor=\"middle\" x=\"99\" y=\"-14.3\" font-family=\"Times,serif\" font-size=\"14.00\">NULL</text>\n",
       "</g>\n",
       "<!-- node3&#45;&gt;node8 -->\n",
       "<g id=\"edge8\" class=\"edge\">\n",
       "<title>node3&#45;&gt;node8</title>\n",
       "<path fill=\"none\" stroke=\"black\" d=\"M99,-71.7C99,-63.98 99,-54.71 99,-46.11\"/>\n",
       "<polygon fill=\"black\" stroke=\"black\" points=\"102.5,-46.1 99,-36.1 95.5,-46.1 102.5,-46.1\"/>\n",
       "</g>\n",
       "<!-- node9 -->\n",
       "<g id=\"node10\" class=\"node\">\n",
       "<title>node9</title>\n",
       "<text text-anchor=\"middle\" x=\"171\" y=\"-14.3\" font-family=\"Times,serif\" font-size=\"14.00\">NULL</text>\n",
       "</g>\n",
       "<!-- node4&#45;&gt;node9 -->\n",
       "<g id=\"edge9\" class=\"edge\">\n",
       "<title>node4&#45;&gt;node9</title>\n",
       "<path fill=\"none\" stroke=\"black\" d=\"M171,-71.7C171,-63.98 171,-54.71 171,-46.11\"/>\n",
       "<polygon fill=\"black\" stroke=\"black\" points=\"174.5,-46.1 171,-36.1 167.5,-46.1 174.5,-46.1\"/>\n",
       "</g>\n",
       "<!-- node10 -->\n",
       "<g id=\"node11\" class=\"node\">\n",
       "<title>node10</title>\n",
       "<text text-anchor=\"middle\" x=\"243\" y=\"-14.3\" font-family=\"Times,serif\" font-size=\"14.00\">NULL</text>\n",
       "</g>\n",
       "<!-- node4&#45;&gt;node10 -->\n",
       "<g id=\"edge10\" class=\"edge\">\n",
       "<title>node4&#45;&gt;node10</title>\n",
       "<path fill=\"none\" stroke=\"black\" d=\"M185.57,-74.83C194.92,-65.75 207.3,-53.71 218.17,-43.14\"/>\n",
       "<polygon fill=\"black\" stroke=\"black\" points=\"220.67,-45.59 225.4,-36.11 215.79,-40.57 220.67,-45.59\"/>\n",
       "</g>\n",
       "</g>\n",
       "</svg>\n"
      ],
      "text/plain": [
       "<graphviz.graphs.Digraph at 0x7adbd75ba050>"
      ]
     },
     "metadata": {},
     "output_type": "display_data"
    },
    {
     "data": {
      "application/vnd.jupyter.widget-view+json": {
       "model_id": "2aff11023f0b47d0ab61d7aa17dac4bb",
       "version_major": 2,
       "version_minor": 0
      },
      "text/plain": [
       "Text(value='', description='tambah')"
      ]
     },
     "metadata": {},
     "output_type": "display_data"
    },
    {
     "data": {
      "application/vnd.jupyter.widget-view+json": {
       "model_id": "170504c128744dd3ab7169ab1354be0a",
       "version_major": 2,
       "version_minor": 0
      },
      "text/plain": [
       "Button(description='Tambah huruf: ', style=ButtonStyle())"
      ]
     },
     "metadata": {},
     "output_type": "display_data"
    },
    {
     "data": {
      "application/vnd.jupyter.widget-view+json": {
       "model_id": "1f8e8922f7704f40862063f681df5fb4",
       "version_major": 2,
       "version_minor": 0
      },
      "text/plain": [
       "Button(description='Keluarkan huruf: ', style=ButtonStyle())"
      ]
     },
     "metadata": {},
     "output_type": "display_data"
    },
    {
     "data": {
      "application/vnd.jupyter.widget-view+json": {
       "model_id": "1ca0db4f1eb44aedb0d011d930e09a1b",
       "version_major": 2,
       "version_minor": 0
      },
      "text/plain": [
       "Image(value=b'\\x89PNG\\r\\n\\x1a\\n\\x00\\x00\\x00\\rIHDR\\x00\\x00\\x01\\xd3\\x00\\x00\\x01[\\x08\\x06\\x00\\x00\\x00\\x8e\\x1dd\\x1…"
      ]
     },
     "metadata": {},
     "output_type": "display_data"
    }
   ],
   "source": [
    "urutan_nama_turun()"
   ]
  },
  {
   "cell_type": "markdown",
   "metadata": {
    "id": "9w2cN1G2pDST"
   },
   "source": [
    "**Penjelasan:**<br>\n",
    "Perhatikan bahwa dari huruf pada nama fasya berlaku:\n",
    "$$\n",
    "a < f < l < s < y < z\n",
    "$$\n",
    "maka dari itu terbentuklah tree tersebut."
   ]
  }
 ],
 "metadata": {
  "colab": {
   "provenance": []
  },
  "kernelspec": {
   "display_name": "Python 3",
   "language": "python",
   "name": "python3"
  },
  "language_info": {
   "codemirror_mode": {
    "name": "ipython",
    "version": 3
   },
   "file_extension": ".py",
   "mimetype": "text/x-python",
   "name": "python",
   "nbconvert_exporter": "python",
   "pygments_lexer": "ipython3",
   "version": "3.11.1"
  },
  "widgets": {
   "application/vnd.jupyter.widget-state+json": {
    "0d3dd75e65d04ddea374ce1a26875256": {
     "model_module": "@jupyter-widgets/base",
     "model_module_version": "1.2.0",
     "model_name": "LayoutModel",
     "state": {
      "_model_module": "@jupyter-widgets/base",
      "_model_module_version": "1.2.0",
      "_model_name": "LayoutModel",
      "_view_count": null,
      "_view_module": "@jupyter-widgets/base",
      "_view_module_version": "1.2.0",
      "_view_name": "LayoutView",
      "align_content": null,
      "align_items": null,
      "align_self": null,
      "border": null,
      "bottom": null,
      "display": null,
      "flex": null,
      "flex_flow": null,
      "grid_area": null,
      "grid_auto_columns": null,
      "grid_auto_flow": null,
      "grid_auto_rows": null,
      "grid_column": null,
      "grid_gap": null,
      "grid_row": null,
      "grid_template_areas": null,
      "grid_template_columns": null,
      "grid_template_rows": null,
      "height": null,
      "justify_content": null,
      "justify_items": null,
      "left": null,
      "margin": null,
      "max_height": null,
      "max_width": null,
      "min_height": null,
      "min_width": null,
      "object_fit": null,
      "object_position": null,
      "order": null,
      "overflow": null,
      "overflow_x": null,
      "overflow_y": null,
      "padding": null,
      "right": null,
      "top": null,
      "visibility": null,
      "width": null
     }
    },
    "118f0d119b1a4d25b8e3a3222ef22653": {
     "model_module": "@jupyter-widgets/controls",
     "model_module_version": "1.5.0",
     "model_name": "ButtonModel",
     "state": {
      "_dom_classes": [],
      "_model_module": "@jupyter-widgets/controls",
      "_model_module_version": "1.5.0",
      "_model_name": "ButtonModel",
      "_view_count": null,
      "_view_module": "@jupyter-widgets/controls",
      "_view_module_version": "1.5.0",
      "_view_name": "ButtonView",
      "button_style": "",
      "description": "Tambah huruf: ",
      "disabled": false,
      "icon": "",
      "layout": "IPY_MODEL_2e1a089b02c3478d9a9808531ffbd4d2",
      "style": "IPY_MODEL_c092674addd6482ba56f18716d24fb0a",
      "tooltip": ""
     }
    },
    "170504c128744dd3ab7169ab1354be0a": {
     "model_module": "@jupyter-widgets/controls",
     "model_module_version": "1.5.0",
     "model_name": "ButtonModel",
     "state": {
      "_dom_classes": [],
      "_model_module": "@jupyter-widgets/controls",
      "_model_module_version": "1.5.0",
      "_model_name": "ButtonModel",
      "_view_count": null,
      "_view_module": "@jupyter-widgets/controls",
      "_view_module_version": "1.5.0",
      "_view_name": "ButtonView",
      "button_style": "",
      "description": "Tambah huruf: ",
      "disabled": false,
      "icon": "",
      "layout": "IPY_MODEL_9bbc0ca46ef44a10acba00172e2bbb15",
      "style": "IPY_MODEL_1bb262822e374b7f93dc6ae155d71c9e",
      "tooltip": ""
     }
    },
    "1bb262822e374b7f93dc6ae155d71c9e": {
     "model_module": "@jupyter-widgets/controls",
     "model_module_version": "1.5.0",
     "model_name": "ButtonStyleModel",
     "state": {
      "_model_module": "@jupyter-widgets/controls",
      "_model_module_version": "1.5.0",
      "_model_name": "ButtonStyleModel",
      "_view_count": null,
      "_view_module": "@jupyter-widgets/base",
      "_view_module_version": "1.2.0",
      "_view_name": "StyleView",
      "button_color": null,
      "font_weight": ""
     }
    },
    "1ca0db4f1eb44aedb0d011d930e09a1b": {
     "model_module": "@jupyter-widgets/controls",
     "model_module_version": "1.5.0",
     "model_name": "ImageModel",
     "state": {
      "_dom_classes": [],
      "_model_module": "@jupyter-widgets/controls",
      "_model_module_version": "1.5.0",
      "_model_name": "ImageModel",
      "_view_count": null,
      "_view_module": "@jupyter-widgets/controls",
      "_view_module_version": "1.5.0",
      "_view_name": "ImageView",
      "format": "png",
      "height": "400",
      "layout": "IPY_MODEL_c1a062afc68d4a99b9d1549b66c34d93",
      "width": "300"
     }
    },
    "1efd41f040e84b93ac972036fc9cd138": {
     "model_module": "@jupyter-widgets/controls",
     "model_module_version": "1.5.0",
     "model_name": "DescriptionStyleModel",
     "state": {
      "_model_module": "@jupyter-widgets/controls",
      "_model_module_version": "1.5.0",
      "_model_name": "DescriptionStyleModel",
      "_view_count": null,
      "_view_module": "@jupyter-widgets/base",
      "_view_module_version": "1.2.0",
      "_view_name": "StyleView",
      "description_width": ""
     }
    },
    "1f8e8922f7704f40862063f681df5fb4": {
     "model_module": "@jupyter-widgets/controls",
     "model_module_version": "1.5.0",
     "model_name": "ButtonModel",
     "state": {
      "_dom_classes": [],
      "_model_module": "@jupyter-widgets/controls",
      "_model_module_version": "1.5.0",
      "_model_name": "ButtonModel",
      "_view_count": null,
      "_view_module": "@jupyter-widgets/controls",
      "_view_module_version": "1.5.0",
      "_view_name": "ButtonView",
      "button_style": "",
      "description": "Keluarkan huruf: ",
      "disabled": false,
      "icon": "",
      "layout": "IPY_MODEL_a012fca7ff734ac4a902bc67eae84ad4",
      "style": "IPY_MODEL_5c110faa9e634b3b9eb477ddb2857f8d",
      "tooltip": ""
     }
    },
    "208a03e073ba4c31ab740f4e8d10aea6": {
     "model_module": "@jupyter-widgets/base",
     "model_module_version": "1.2.0",
     "model_name": "LayoutModel",
     "state": {
      "_model_module": "@jupyter-widgets/base",
      "_model_module_version": "1.2.0",
      "_model_name": "LayoutModel",
      "_view_count": null,
      "_view_module": "@jupyter-widgets/base",
      "_view_module_version": "1.2.0",
      "_view_name": "LayoutView",
      "align_content": null,
      "align_items": null,
      "align_self": null,
      "border": null,
      "bottom": null,
      "display": null,
      "flex": null,
      "flex_flow": null,
      "grid_area": null,
      "grid_auto_columns": null,
      "grid_auto_flow": null,
      "grid_auto_rows": null,
      "grid_column": null,
      "grid_gap": null,
      "grid_row": null,
      "grid_template_areas": null,
      "grid_template_columns": null,
      "grid_template_rows": null,
      "height": null,
      "justify_content": null,
      "justify_items": null,
      "left": null,
      "margin": null,
      "max_height": null,
      "max_width": null,
      "min_height": null,
      "min_width": null,
      "object_fit": null,
      "object_position": null,
      "order": null,
      "overflow": null,
      "overflow_x": null,
      "overflow_y": null,
      "padding": null,
      "right": null,
      "top": null,
      "visibility": null,
      "width": null
     }
    },
    "20ea2a421e7b42799de2bc32b3dfc350": {
     "model_module": "@jupyter-widgets/controls",
     "model_module_version": "1.5.0",
     "model_name": "DescriptionStyleModel",
     "state": {
      "_model_module": "@jupyter-widgets/controls",
      "_model_module_version": "1.5.0",
      "_model_name": "DescriptionStyleModel",
      "_view_count": null,
      "_view_module": "@jupyter-widgets/base",
      "_view_module_version": "1.2.0",
      "_view_name": "StyleView",
      "description_width": ""
     }
    },
    "2aff11023f0b47d0ab61d7aa17dac4bb": {
     "model_module": "@jupyter-widgets/controls",
     "model_module_version": "1.5.0",
     "model_name": "TextModel",
     "state": {
      "_dom_classes": [],
      "_model_module": "@jupyter-widgets/controls",
      "_model_module_version": "1.5.0",
      "_model_name": "TextModel",
      "_view_count": null,
      "_view_module": "@jupyter-widgets/controls",
      "_view_module_version": "1.5.0",
      "_view_name": "TextView",
      "continuous_update": true,
      "description": "tambah",
      "description_tooltip": null,
      "disabled": false,
      "layout": "IPY_MODEL_208a03e073ba4c31ab740f4e8d10aea6",
      "placeholder": "​",
      "style": "IPY_MODEL_1efd41f040e84b93ac972036fc9cd138",
      "value": "l"
     }
    },
    "2e1a089b02c3478d9a9808531ffbd4d2": {
     "model_module": "@jupyter-widgets/base",
     "model_module_version": "1.2.0",
     "model_name": "LayoutModel",
     "state": {
      "_model_module": "@jupyter-widgets/base",
      "_model_module_version": "1.2.0",
      "_model_name": "LayoutModel",
      "_view_count": null,
      "_view_module": "@jupyter-widgets/base",
      "_view_module_version": "1.2.0",
      "_view_name": "LayoutView",
      "align_content": null,
      "align_items": null,
      "align_self": null,
      "border": null,
      "bottom": null,
      "display": null,
      "flex": null,
      "flex_flow": null,
      "grid_area": null,
      "grid_auto_columns": null,
      "grid_auto_flow": null,
      "grid_auto_rows": null,
      "grid_column": null,
      "grid_gap": null,
      "grid_row": null,
      "grid_template_areas": null,
      "grid_template_columns": null,
      "grid_template_rows": null,
      "height": null,
      "justify_content": null,
      "justify_items": null,
      "left": null,
      "margin": null,
      "max_height": null,
      "max_width": null,
      "min_height": null,
      "min_width": null,
      "object_fit": null,
      "object_position": null,
      "order": null,
      "overflow": null,
      "overflow_x": null,
      "overflow_y": null,
      "padding": null,
      "right": null,
      "top": null,
      "visibility": null,
      "width": null
     }
    },
    "345e5fa8e9794006bada698b7127f2a4": {
     "model_module": "@jupyter-widgets/controls",
     "model_module_version": "1.5.0",
     "model_name": "TextModel",
     "state": {
      "_dom_classes": [],
      "_model_module": "@jupyter-widgets/controls",
      "_model_module_version": "1.5.0",
      "_model_name": "TextModel",
      "_view_count": null,
      "_view_module": "@jupyter-widgets/controls",
      "_view_module_version": "1.5.0",
      "_view_name": "TextView",
      "continuous_update": true,
      "description": "tambah",
      "description_tooltip": null,
      "disabled": false,
      "layout": "IPY_MODEL_5dd80235128a4834910e5f6b85933947",
      "placeholder": "​",
      "style": "IPY_MODEL_20ea2a421e7b42799de2bc32b3dfc350",
      "value": "l"
     }
    },
    "5c110faa9e634b3b9eb477ddb2857f8d": {
     "model_module": "@jupyter-widgets/controls",
     "model_module_version": "1.5.0",
     "model_name": "ButtonStyleModel",
     "state": {
      "_model_module": "@jupyter-widgets/controls",
      "_model_module_version": "1.5.0",
      "_model_name": "ButtonStyleModel",
      "_view_count": null,
      "_view_module": "@jupyter-widgets/base",
      "_view_module_version": "1.2.0",
      "_view_name": "StyleView",
      "button_color": null,
      "font_weight": ""
     }
    },
    "5dd80235128a4834910e5f6b85933947": {
     "model_module": "@jupyter-widgets/base",
     "model_module_version": "1.2.0",
     "model_name": "LayoutModel",
     "state": {
      "_model_module": "@jupyter-widgets/base",
      "_model_module_version": "1.2.0",
      "_model_name": "LayoutModel",
      "_view_count": null,
      "_view_module": "@jupyter-widgets/base",
      "_view_module_version": "1.2.0",
      "_view_name": "LayoutView",
      "align_content": null,
      "align_items": null,
      "align_self": null,
      "border": null,
      "bottom": null,
      "display": null,
      "flex": null,
      "flex_flow": null,
      "grid_area": null,
      "grid_auto_columns": null,
      "grid_auto_flow": null,
      "grid_auto_rows": null,
      "grid_column": null,
      "grid_gap": null,
      "grid_row": null,
      "grid_template_areas": null,
      "grid_template_columns": null,
      "grid_template_rows": null,
      "height": null,
      "justify_content": null,
      "justify_items": null,
      "left": null,
      "margin": null,
      "max_height": null,
      "max_width": null,
      "min_height": null,
      "min_width": null,
      "object_fit": null,
      "object_position": null,
      "order": null,
      "overflow": null,
      "overflow_x": null,
      "overflow_y": null,
      "padding": null,
      "right": null,
      "top": null,
      "visibility": null,
      "width": null
     }
    },
    "7acb85f2e7e044dc980eabc3e60794ea": {
     "model_module": "@jupyter-widgets/base",
     "model_module_version": "1.2.0",
     "model_name": "LayoutModel",
     "state": {
      "_model_module": "@jupyter-widgets/base",
      "_model_module_version": "1.2.0",
      "_model_name": "LayoutModel",
      "_view_count": null,
      "_view_module": "@jupyter-widgets/base",
      "_view_module_version": "1.2.0",
      "_view_name": "LayoutView",
      "align_content": null,
      "align_items": null,
      "align_self": null,
      "border": null,
      "bottom": null,
      "display": null,
      "flex": null,
      "flex_flow": null,
      "grid_area": null,
      "grid_auto_columns": null,
      "grid_auto_flow": null,
      "grid_auto_rows": null,
      "grid_column": null,
      "grid_gap": null,
      "grid_row": null,
      "grid_template_areas": null,
      "grid_template_columns": null,
      "grid_template_rows": null,
      "height": null,
      "justify_content": null,
      "justify_items": null,
      "left": null,
      "margin": null,
      "max_height": null,
      "max_width": null,
      "min_height": null,
      "min_width": null,
      "object_fit": null,
      "object_position": null,
      "order": null,
      "overflow": null,
      "overflow_x": null,
      "overflow_y": null,
      "padding": null,
      "right": null,
      "top": null,
      "visibility": null,
      "width": null
     }
    },
    "843ade6874164d94b26ebddc99cc09c9": {
     "model_module": "@jupyter-widgets/controls",
     "model_module_version": "1.5.0",
     "model_name": "ButtonStyleModel",
     "state": {
      "_model_module": "@jupyter-widgets/controls",
      "_model_module_version": "1.5.0",
      "_model_name": "ButtonStyleModel",
      "_view_count": null,
      "_view_module": "@jupyter-widgets/base",
      "_view_module_version": "1.2.0",
      "_view_name": "StyleView",
      "button_color": null,
      "font_weight": ""
     }
    },
    "9bbc0ca46ef44a10acba00172e2bbb15": {
     "model_module": "@jupyter-widgets/base",
     "model_module_version": "1.2.0",
     "model_name": "LayoutModel",
     "state": {
      "_model_module": "@jupyter-widgets/base",
      "_model_module_version": "1.2.0",
      "_model_name": "LayoutModel",
      "_view_count": null,
      "_view_module": "@jupyter-widgets/base",
      "_view_module_version": "1.2.0",
      "_view_name": "LayoutView",
      "align_content": null,
      "align_items": null,
      "align_self": null,
      "border": null,
      "bottom": null,
      "display": null,
      "flex": null,
      "flex_flow": null,
      "grid_area": null,
      "grid_auto_columns": null,
      "grid_auto_flow": null,
      "grid_auto_rows": null,
      "grid_column": null,
      "grid_gap": null,
      "grid_row": null,
      "grid_template_areas": null,
      "grid_template_columns": null,
      "grid_template_rows": null,
      "height": null,
      "justify_content": null,
      "justify_items": null,
      "left": null,
      "margin": null,
      "max_height": null,
      "max_width": null,
      "min_height": null,
      "min_width": null,
      "object_fit": null,
      "object_position": null,
      "order": null,
      "overflow": null,
      "overflow_x": null,
      "overflow_y": null,
      "padding": null,
      "right": null,
      "top": null,
      "visibility": null,
      "width": null
     }
    },
    "a012fca7ff734ac4a902bc67eae84ad4": {
     "model_module": "@jupyter-widgets/base",
     "model_module_version": "1.2.0",
     "model_name": "LayoutModel",
     "state": {
      "_model_module": "@jupyter-widgets/base",
      "_model_module_version": "1.2.0",
      "_model_name": "LayoutModel",
      "_view_count": null,
      "_view_module": "@jupyter-widgets/base",
      "_view_module_version": "1.2.0",
      "_view_name": "LayoutView",
      "align_content": null,
      "align_items": null,
      "align_self": null,
      "border": null,
      "bottom": null,
      "display": null,
      "flex": null,
      "flex_flow": null,
      "grid_area": null,
      "grid_auto_columns": null,
      "grid_auto_flow": null,
      "grid_auto_rows": null,
      "grid_column": null,
      "grid_gap": null,
      "grid_row": null,
      "grid_template_areas": null,
      "grid_template_columns": null,
      "grid_template_rows": null,
      "height": null,
      "justify_content": null,
      "justify_items": null,
      "left": null,
      "margin": null,
      "max_height": null,
      "max_width": null,
      "min_height": null,
      "min_width": null,
      "object_fit": null,
      "object_position": null,
      "order": null,
      "overflow": null,
      "overflow_x": null,
      "overflow_y": null,
      "padding": null,
      "right": null,
      "top": null,
      "visibility": null,
      "width": null
     }
    },
    "bd00daed17074e4abeb600422e1862eb": {
     "model_module": "@jupyter-widgets/controls",
     "model_module_version": "1.5.0",
     "model_name": "ImageModel",
     "state": {
      "_dom_classes": [],
      "_model_module": "@jupyter-widgets/controls",
      "_model_module_version": "1.5.0",
      "_model_name": "ImageModel",
      "_view_count": null,
      "_view_module": "@jupyter-widgets/controls",
      "_view_module_version": "1.5.0",
      "_view_name": "ImageView",
      "format": "png",
      "height": "400",
      "layout": "IPY_MODEL_0d3dd75e65d04ddea374ce1a26875256",
      "width": "300"
     }
    },
    "c092674addd6482ba56f18716d24fb0a": {
     "model_module": "@jupyter-widgets/controls",
     "model_module_version": "1.5.0",
     "model_name": "ButtonStyleModel",
     "state": {
      "_model_module": "@jupyter-widgets/controls",
      "_model_module_version": "1.5.0",
      "_model_name": "ButtonStyleModel",
      "_view_count": null,
      "_view_module": "@jupyter-widgets/base",
      "_view_module_version": "1.2.0",
      "_view_name": "StyleView",
      "button_color": null,
      "font_weight": ""
     }
    },
    "c1a062afc68d4a99b9d1549b66c34d93": {
     "model_module": "@jupyter-widgets/base",
     "model_module_version": "1.2.0",
     "model_name": "LayoutModel",
     "state": {
      "_model_module": "@jupyter-widgets/base",
      "_model_module_version": "1.2.0",
      "_model_name": "LayoutModel",
      "_view_count": null,
      "_view_module": "@jupyter-widgets/base",
      "_view_module_version": "1.2.0",
      "_view_name": "LayoutView",
      "align_content": null,
      "align_items": null,
      "align_self": null,
      "border": null,
      "bottom": null,
      "display": null,
      "flex": null,
      "flex_flow": null,
      "grid_area": null,
      "grid_auto_columns": null,
      "grid_auto_flow": null,
      "grid_auto_rows": null,
      "grid_column": null,
      "grid_gap": null,
      "grid_row": null,
      "grid_template_areas": null,
      "grid_template_columns": null,
      "grid_template_rows": null,
      "height": null,
      "justify_content": null,
      "justify_items": null,
      "left": null,
      "margin": null,
      "max_height": null,
      "max_width": null,
      "min_height": null,
      "min_width": null,
      "object_fit": null,
      "object_position": null,
      "order": null,
      "overflow": null,
      "overflow_x": null,
      "overflow_y": null,
      "padding": null,
      "right": null,
      "top": null,
      "visibility": null,
      "width": null
     }
    },
    "ea88fd4781524a698d750580ff1a5d31": {
     "model_module": "@jupyter-widgets/controls",
     "model_module_version": "1.5.0",
     "model_name": "ButtonModel",
     "state": {
      "_dom_classes": [],
      "_model_module": "@jupyter-widgets/controls",
      "_model_module_version": "1.5.0",
      "_model_name": "ButtonModel",
      "_view_count": null,
      "_view_module": "@jupyter-widgets/controls",
      "_view_module_version": "1.5.0",
      "_view_name": "ButtonView",
      "button_style": "",
      "description": "Keluarkan huruf: ",
      "disabled": false,
      "icon": "",
      "layout": "IPY_MODEL_7acb85f2e7e044dc980eabc3e60794ea",
      "style": "IPY_MODEL_843ade6874164d94b26ebddc99cc09c9",
      "tooltip": ""
     }
    }
   }
  }
 },
 "nbformat": 4,
 "nbformat_minor": 0
}
