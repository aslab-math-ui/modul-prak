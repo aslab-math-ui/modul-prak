{
 "cells": [
  {
   "cell_type": "markdown",
   "metadata": {},
   "source": [
    "# Modul 7 Praktikum Sains Data"
   ]
  },
  {
   "cell_type": "markdown",
   "metadata": {},
   "source": [
    "## Outline\n",
    "\n",
    "Pendahuluan Artificial Neural Network dan Deep learning :\n",
    "- Forward Propagation\n",
    "- Activation Function"
   ]
  },
  {
   "cell_type": "markdown",
   "metadata": {},
   "source": [
    "# Artificial Neural Network"
   ]
  },
  {
   "cell_type": "markdown",
   "metadata": {},
   "source": [
    "## Forward Propagation"
   ]
  },
  {
   "cell_type": "markdown",
   "metadata": {},
   "source": [
    "![](./fwdprop.jpg)\n",
    "\n",
    "Gambar diatas adalah contoh Artificial Neural Network sederhana dengan metode *Forward Propagation*. Sesuai namanya, metode tersebut memiliki alur maju dalam menghitung dan menyimpan variabel pada neural network. Yaitu dari input, hidden layer, hingga ke output. \n",
    "\n",
    "Pada praktikum kali ini kita akan membahas konsep dasar dari Deep Learning."
   ]
  },
  {
   "cell_type": "code",
   "execution_count": 1,
   "metadata": {},
   "outputs": [],
   "source": [
    "#import modul\n",
    "import numpy as np"
   ]
  },
  {
   "cell_type": "code",
   "execution_count": 2,
   "metadata": {},
   "outputs": [],
   "source": [
    "#implementasi forward propagation untuk artificial neural network (ann) pada gambar di atas\n",
    "\n",
    "#input data dalam bentuk array\n",
    "input_data = ([2, 3])\n",
    "#masukkan weights pada masing masing node\n",
    "weights = {'node_0': np.array([1,1]), 'node_1': np.array([-1,1]), 'output':np.array([2,-1])}\n",
    "#lakukan \"dot product\" pada weights dan input\n",
    "node_0_val = (input_data*weights['node_0']).sum()\n",
    "node_1_val = (input_data*weights['node_1']).sum()"
   ]
  },
  {
   "cell_type": "code",
   "execution_count": 3,
   "metadata": {},
   "outputs": [
    {
     "name": "stdout",
     "output_type": "stream",
     "text": [
      "[5 1]\n"
     ]
    }
   ],
   "source": [
    "#menentukan nilai node pada hidden layer\n",
    "hidden_layer_values = np.array([node_0_val,node_1_val])\n",
    "print(hidden_layer_values)"
   ]
  },
  {
   "cell_type": "code",
   "execution_count": 4,
   "metadata": {},
   "outputs": [
    {
     "name": "stdout",
     "output_type": "stream",
     "text": [
      "9\n"
     ]
    }
   ],
   "source": [
    "#output\n",
    "output = (hidden_layer_values*weights['output']).sum()\n",
    "print(output)"
   ]
  },
  {
   "cell_type": "markdown",
   "metadata": {},
   "source": [
    "## Activation Function"
   ]
  },
  {
   "cell_type": "markdown",
   "metadata": {},
   "source": [
    "### Tanh"
   ]
  },
  {
   "cell_type": "code",
   "execution_count": 5,
   "metadata": {},
   "outputs": [
    {
     "name": "stdout",
     "output_type": "stream",
     "text": [
      "[0.99505475 0.99999997]\n"
     ]
    }
   ],
   "source": [
    "#contoh penggunaan activation function, tanh\n",
    "input_data2 = np.array([-1,2])\n",
    "weights2 = {'node_0':np.array([3,3]),'node_1':np.array([1,5]),'output':np.array([2,-1])}\n",
    "node_0_input = (input_data2*weights2['node_0']).sum()\n",
    "node_0_output = np.tanh(node_0_input)\n",
    "\n",
    "node_1_input = (input_data2*weights2['node_1']).sum()\n",
    "node_1_output = np.tanh(node_1_input)\n",
    "\n",
    "hidden_layer_outputs = np.array([node_0_output,node_1_output])\n",
    "print(hidden_layer_outputs)"
   ]
  },
  {
   "cell_type": "code",
   "execution_count": 6,
   "metadata": {},
   "outputs": [
    {
     "name": "stdout",
     "output_type": "stream",
     "text": [
      "0.99010953783342\n"
     ]
    }
   ],
   "source": [
    "output = (hidden_layer_outputs * weights2['output']).sum()\n",
    "print(output)"
   ]
  },
  {
   "cell_type": "markdown",
   "metadata": {},
   "source": [
    "### ReLu"
   ]
  },
  {
   "cell_type": "code",
   "execution_count": 7,
   "metadata": {},
   "outputs": [
    {
     "name": "stdout",
     "output_type": "stream",
     "text": [
      "[3 9]\n",
      "-3\n"
     ]
    }
   ],
   "source": [
    "#definisikan activation fuction ReLu\n",
    "def relu (input):\n",
    " output = max(input,0)\n",
    " return output\n",
    "\n",
    "#contoh penggunaan activation function, relu\n",
    "input_data2 = np.array([-1,2])\n",
    "weights2 = {'node_0':np.array([3,3]),'node_1':np.array([1,5]),'output':np.array([2,-1])}\n",
    "node_0_input = (input_data2*weights2['node_0']).sum()\n",
    "node_0_output_relu = relu(node_0_input)\n",
    "\n",
    "node_1_input = (input_data2*weights2['node_1']).sum()\n",
    "node_1_output_relu = relu(node_1_input)\n",
    "\n",
    "hidden_layer_outputs_relu = np.array([node_0_output_relu,node_1_output_relu])\n",
    "output_relu = (hidden_layer_outputs_relu * weights2['output']).sum()\n",
    "print(hidden_layer_outputs_relu)\n",
    "print(output_relu)"
   ]
  },
  {
   "cell_type": "code",
   "execution_count": 8,
   "metadata": {},
   "outputs": [],
   "source": [
    "#contoh dengan beberapa input, dapat menggunakan loop\n",
    "input_data3 = [np.array([3,5]),np.array([1,-1]),np.array([8,4])]\n",
    "weights3 = {'node_0': np.array([2,4]), 'node_1':np.array([4,-5]), 'output':np.array([2,7])}"
   ]
  },
  {
   "cell_type": "code",
   "execution_count": 9,
   "metadata": {},
   "outputs": [
    {
     "name": "stdout",
     "output_type": "stream",
     "text": [
      "[26, 0, 32]\n"
     ]
    }
   ],
   "source": [
    "def network_pred(input_data_row,weights3):\n",
    " node_0_input = (input_data_row*weights3['node_0']).sum()\n",
    " node_0_output = relu(node_0_input)\n",
    " \n",
    " node_1_input = (input_data_row*weights3['node_1']).sum()\n",
    " node_1_output = relu(node_0_input)\n",
    " \n",
    " hidden_layer_outputs = np.array([node_0_output,node_1_output])\n",
    " \n",
    " input_output = (hidden_layer_outputs*weights['output']).sum()\n",
    " model_output = relu(input_output)\n",
    " \n",
    " return (model_output)\n",
    "\n",
    "results = []\n",
    "for input_data_row in input_data3:\n",
    " results.append(network_pred(input_data_row,weights3))\n",
    " \n",
    "print(results)"
   ]
  },
  {
   "cell_type": "markdown",
   "metadata": {},
   "source": [
    "# Deep Neural Network"
   ]
  },
  {
   "cell_type": "markdown",
   "metadata": {},
   "source": [
    "![](./dnn.jpg)\n",
    "\n",
    "Deep Neural Network adalah Neural Network dengan lebih dari satu hidden layer. Berikut adalah contoh melakukan prediksi dari input menggunakan deep neural network."
   ]
  },
  {
   "cell_type": "code",
   "execution_count": 10,
   "metadata": {},
   "outputs": [],
   "source": [
    "#definisikan input dan weight pada layer layernya\n",
    "input4 = np.array([3,5])\n",
    "weights4 = {'node_0_0':np.array([2,4]), \n",
    "            'node_0_1':np.array([4, -5]), \n",
    "            'node_1_0':np.array([-1,2]), \n",
    "            'node_1_1':np.array([1,2]), \n",
    "            'output': np.array([2,7])}"
   ]
  },
  {
   "cell_type": "code",
   "execution_count": 11,
   "metadata": {},
   "outputs": [
    {
     "name": "stdout",
     "output_type": "stream",
     "text": [
      "26 0 7 13\n",
      "105\n"
     ]
    }
   ],
   "source": [
    "#contoh prediksi menggunakan DNN\n",
    "def network_prediction(input4, weights4):\n",
    " node_0_0_input = (input4*weights4['node_0_0']).sum()\n",
    " node_0_0_output = relu(node_0_0_input)\n",
    " \n",
    " node_0_1_input = (input4*weights4['node_0_1']).sum()\n",
    " node_0_1_output = relu(node_0_1_input)\n",
    " \n",
    " node_1_0_input = (input4*weights4['node_1_0']).sum()\n",
    " node_1_0_output = relu(node_1_0_input)\n",
    " \n",
    " node_1_1_input = (input4*weights4['node_1_1']).sum()\n",
    " node_1_1_output = relu(node_1_1_input)\n",
    " \n",
    " hidden_output = np.array([node_1_0_output,node_1_1_output])\n",
    " \n",
    " model_output = (hidden_output*weights4['output']).sum()\n",
    " \n",
    " print(node_0_0_output, node_0_1_output,node_1_0_output, node_1_1_output)\n",
    " return (model_output)\n",
    "\n",
    "result_dnn = network_prediction(input4, weights4)\n",
    "print(result_dnn)"
   ]
  }
 ],
 "metadata": {
  "kernelspec": {
   "display_name": "Python 3",
   "language": "python",
   "name": "python3"
  },
  "language_info": {
   "codemirror_mode": {
    "name": "ipython",
    "version": 3
   },
   "file_extension": ".py",
   "mimetype": "text/x-python",
   "name": "python",
   "nbconvert_exporter": "python",
   "pygments_lexer": "ipython3",
   "version": "3.12.1"
  }
 },
 "nbformat": 4,
 "nbformat_minor": 2
}
