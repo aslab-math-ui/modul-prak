{
 "cells": [
  {
   "cell_type": "markdown",
   "metadata": {},
   "source": [
    "# Modul 4 | *Linked List*, *Stack*, dan *Queue*"
   ]
  },
  {
   "cell_type": "markdown",
   "metadata": {},
   "source": [
    "Kembali ke [Struktur Data](strukdat2022.qmd)"
   ]
  },
  {
   "cell_type": "markdown",
   "metadata": {},
   "source": [
    "## *Linked List*"
   ]
  },
  {
   "cell_type": "markdown",
   "metadata": {},
   "source": [
    "*Linked list* terdiri dari *node*, di mana tiap *node* berisi kurang lebih 2 *value*, yaitu data dan *pointer* ke *node* lain."
   ]
  },
  {
   "cell_type": "markdown",
   "metadata": {},
   "source": [
    "Pertama akan dibuat *node* terlebih dahulu menggunakan `class`."
   ]
  },
  {
   "cell_type": "code",
   "execution_count": 2,
   "metadata": {},
   "outputs": [],
   "source": [
    "class Node:\n",
    "    def __init__(self, data, next):\n",
    "        self.data = data\n",
    "        self.next = \"None\""
   ]
  },
  {
   "cell_type": "markdown",
   "metadata": {},
   "source": [
    "Selanjutnya akan dibuat `class` untuk *linked list*."
   ]
  },
  {
   "cell_type": "code",
   "execution_count": 1,
   "metadata": {},
   "outputs": [],
   "source": [
    "class LL:\n",
    "    def __init__(self):\n",
    "        self.head = \"None\"\n",
    "        self.size = 0\n",
    "    \n",
    "    def __iter__(self):\n",
    "        temp = self.head\n",
    "        while temp != \"None\":\n",
    "            yield temp.data\n",
    "            temp = temp.next\n",
    "\n",
    "    def is_empty(self):\n",
    "        return self.size == 0\n",
    "    \n",
    "    def len(self):\n",
    "        return self.size\n",
    "    \n",
    "    def ins_front(self, data):\n",
    "        new = Node(data, \"None\")\n",
    "        new.next = self.head\n",
    "        self.head = new\n",
    "        self.size += 1\n",
    "    \n",
    "    def ins_end(self, data):\n",
    "        new = Node(data, \"None\")\n",
    "        temp = self.head\n",
    "        while temp.next != \"None\":\n",
    "            temp = temp.next\n",
    "        temp.next = new\n",
    "        self.size += 1\n",
    "    \n",
    "    def del_front(self):\n",
    "        if self.is_empty():\n",
    "            print(\"List is already empty\")\n",
    "            return\n",
    "        self.head = self.head.next\n",
    "        self.size -= 1\n",
    "    \n",
    "    def del_end(self):\n",
    "        if self.is_empty():\n",
    "            print(\"List is already empty\")\n",
    "            return\n",
    "        temp = self.head\n",
    "        while temp.next.next != \"None\":\n",
    "            temp = temp.next\n",
    "        temp.next = \"None\"\n",
    "        self.size -= 1\n",
    "    \n",
    "    def print_all(self):\n",
    "        temp = self.head\n",
    "        while temp != \"None\":\n",
    "            print(temp.data, end = \" -> \")\n",
    "            temp = temp.next"
   ]
  },
  {
   "cell_type": "code",
   "execution_count": 3,
   "metadata": {},
   "outputs": [],
   "source": [
    "test = LL()\n",
    "test.ins_front(5)\n",
    "test.ins_front(15)\n",
    "test.ins_front(25)\n",
    "test.ins_front(35)\n",
    "test.ins_front(45)"
   ]
  },
  {
   "cell_type": "code",
   "execution_count": 4,
   "metadata": {},
   "outputs": [
    {
     "name": "stdout",
     "output_type": "stream",
     "text": [
      "45 -> 35 -> 25 -> 15 -> 5 -> "
     ]
    }
   ],
   "source": [
    "test.print_all()"
   ]
  },
  {
   "cell_type": "code",
   "execution_count": 5,
   "metadata": {},
   "outputs": [
    {
     "name": "stdout",
     "output_type": "stream",
     "text": [
      "45\n",
      "35\n",
      "25\n",
      "15\n",
      "5\n"
     ]
    }
   ],
   "source": [
    "for i in test:\n",
    "    print(i)"
   ]
  },
  {
   "cell_type": "markdown",
   "metadata": {},
   "source": [
    "## *Stack*"
   ]
  },
  {
   "cell_type": "markdown",
   "metadata": {},
   "source": [
    "*Stack* menganut paham LIFO, jadi yang terakhir dimasukin, kalo ada perintah keluar, yang itu yang keluar."
   ]
  },
  {
   "cell_type": "markdown",
   "metadata": {},
   "source": [
    "Di Python, implementasi *stack* pake *array* udah agak *redundant* karena banyaknya *method* buat *array*, jadi sekarang dikasih implementasinya buat *linked list* yang udah kita bikin tadi."
   ]
  },
  {
   "cell_type": "code",
   "execution_count": 6,
   "metadata": {},
   "outputs": [],
   "source": [
    "class Stack:\n",
    "    def __init__(self):\n",
    "        self.head = \"None\"\n",
    "        self.size = 0\n",
    "    \n",
    "    def is_empty(self):\n",
    "        return self.size == 0\n",
    "    \n",
    "    def len(self):\n",
    "        return self.size\n",
    "    \n",
    "    def push(self, data):\n",
    "        new = Node(data, \"None\")\n",
    "        new.next = self.head\n",
    "        self.head = new\n",
    "        self.size += 1\n",
    "    \n",
    "    def pop(self):\n",
    "        if self.is_empty():\n",
    "            print(\"Stack is already empty\")\n",
    "            return\n",
    "        self.head = self.head.next\n",
    "        self.size -= 1\n",
    "    \n",
    "    def top(self):\n",
    "        if self.is_empty():\n",
    "            print(\"Stack is empty.\")\n",
    "            return\n",
    "        return self.head.data\n",
    "\n",
    "    def print(self):\n",
    "        temp = self.head\n",
    "        while temp != \"None\":\n",
    "            print(temp.data)\n",
    "            temp = temp.next"
   ]
  },
  {
   "cell_type": "code",
   "execution_count": 8,
   "metadata": {},
   "outputs": [
    {
     "name": "stdout",
     "output_type": "stream",
     "text": [
      "Stack is empty.\n"
     ]
    }
   ],
   "source": [
    "test = Stack()\n",
    "test.top()"
   ]
  },
  {
   "cell_type": "code",
   "execution_count": 9,
   "metadata": {},
   "outputs": [
    {
     "name": "stdout",
     "output_type": "stream",
     "text": [
      "100\n",
      "80\n",
      "5\n"
     ]
    }
   ],
   "source": [
    "test.push(5)\n",
    "test.push(80)\n",
    "test.push(100)\n",
    "test.print()"
   ]
  },
  {
   "cell_type": "code",
   "execution_count": 10,
   "metadata": {},
   "outputs": [],
   "source": [
    "test.pop()"
   ]
  },
  {
   "cell_type": "code",
   "execution_count": 11,
   "metadata": {},
   "outputs": [
    {
     "name": "stdout",
     "output_type": "stream",
     "text": [
      "80\n",
      "5\n"
     ]
    }
   ],
   "source": [
    "test.print()"
   ]
  },
  {
   "cell_type": "code",
   "execution_count": 12,
   "metadata": {},
   "outputs": [
    {
     "data": {
      "text/plain": [
       "2"
      ]
     },
     "execution_count": 12,
     "metadata": {},
     "output_type": "execute_result"
    }
   ],
   "source": [
    "test.len()"
   ]
  },
  {
   "cell_type": "markdown",
   "metadata": {},
   "source": [
    "## *Queue*"
   ]
  },
  {
   "cell_type": "markdown",
   "metadata": {},
   "source": [
    "Berbeda dengan *stack*, *queue* menganut paham FIFO (*First In First Out*). Berarti, yang masuk pertama, bakal keluar pertama."
   ]
  },
  {
   "cell_type": "code",
   "execution_count": 13,
   "metadata": {},
   "outputs": [],
   "source": [
    "class Queue:\n",
    "    def __init__(self):\n",
    "        self.head = \"None\"\n",
    "        self.size = 0\n",
    "    \n",
    "    def is_empty(self):\n",
    "        return self.size == 0\n",
    "    \n",
    "    def len(self):\n",
    "        return self.size\n",
    "\n",
    "    def ins_end(self, data):\n",
    "        new = Node(data, \"None\")\n",
    "        temp = self.head\n",
    "        while temp.next != \"None\":\n",
    "            temp = temp.next\n",
    "        temp.next = new\n",
    "        self.size += 1\n",
    "    \n",
    "    def del_front(self):\n",
    "        if self.is_empty():\n",
    "            print(\"Queue is already empty\")\n",
    "            return\n",
    "        self.head = self.head.next\n",
    "        self.size -= 1\n",
    "    \n",
    "    def print_all(self):\n",
    "        temp = self.head\n",
    "        while temp != \"None\":\n",
    "            print(temp.data, end = \" -> \")\n",
    "            temp = temp.next"
   ]
  }
 ],
 "metadata": {
  "kernelspec": {
   "display_name": "Python 3",
   "language": "python",
   "name": "python3"
  },
  "language_info": {
   "codemirror_mode": {
    "name": "ipython",
    "version": 3
   },
   "file_extension": ".py",
   "mimetype": "text/x-python",
   "name": "python",
   "nbconvert_exporter": "python",
   "pygments_lexer": "ipython3",
   "version": "3.9.13"
  }
 },
 "nbformat": 4,
 "nbformat_minor": 2
}
