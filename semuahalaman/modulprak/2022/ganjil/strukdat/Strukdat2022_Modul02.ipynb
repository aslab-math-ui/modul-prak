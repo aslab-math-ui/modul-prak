{
 "cells": [
  {
   "cell_type": "markdown",
   "metadata": {},
   "source": [
    "# Modul 2 | Searching dan Sorting"
   ]
  },
  {
   "cell_type": "markdown",
   "metadata": {},
   "source": [
    "Kembali ke [Struktur Data](strukdat2022.qmd)"
   ]
  },
  {
   "cell_type": "markdown",
   "metadata": {},
   "source": [
    "Selamat datang di pertemuan kedua praktikum StrukDat. Pada pertemuan kedua kita akan melihat beberapa algoritma-algoritma searching dan sorting."
   ]
  },
  {
   "cell_type": "markdown",
   "metadata": {},
   "source": [
    "OUTLINE:\n",
    "\n",
    "* Linear Search\n",
    "* Binary Search\n",
    "* Bubble Sort\n",
    "* Insertion Sort\n",
    "* Selection Sort\n",
    "* Quick Sort\n",
    "* Merge Sort"
   ]
  },
  {
   "cell_type": "markdown",
   "metadata": {},
   "source": [
    "## Searching"
   ]
  },
  {
   "cell_type": "markdown",
   "metadata": {},
   "source": [
    "Algoritma searching, seperti namanya, adalah algoritma yang digunakan untu kmencari sesuatu dalam suatu list. Umumnya, algoritma semacam ini memiliki 2 input, yang suatu key yang ingin dicari, dan suatu list tempat pencarian key tersebut."
   ]
  },
  {
   "cell_type": "markdown",
   "metadata": {},
   "source": [
    "Terdapat 2 algoritma umum untuk searching, yaitu:\n",
    "\n",
    "* Linear Search\n",
    "* Binary Search"
   ]
  },
  {
   "cell_type": "markdown",
   "metadata": {},
   "source": [
    "### Linear Search"
   ]
  },
  {
   "cell_type": "markdown",
   "metadata": {},
   "source": [
    "Linear search adalah algoritma searching dimana setiap elemen pada list dibandingkan satu persatu dengan key. Pada algoritma ini, kita akan mencoba untuk mencari keberadaan key pada list, serta index dari key tersebut (jika ada)."
   ]
  },
  {
   "cell_type": "code",
   "execution_count": 3,
   "metadata": {},
   "outputs": [],
   "source": [
    "def linear_search(lis, key):\n",
    "    for i in range(len(lis)):\n",
    "        if lis[i] == key:\n",
    "            print(\"Key ditemukan.\")\n",
    "            print(\"Index =\", i)\n",
    "            return lis[i]\n",
    "    else:\n",
    "        print(\"Key tidak ditemukan.\")"
   ]
  },
  {
   "cell_type": "code",
   "execution_count": 4,
   "metadata": {},
   "outputs": [
    {
     "name": "stdout",
     "output_type": "stream",
     "text": [
      "Key ditemukan.\n",
      "Index = 5\n"
     ]
    },
    {
     "data": {
      "text/plain": [
       "8"
      ]
     },
     "execution_count": 4,
     "metadata": {},
     "output_type": "execute_result"
    }
   ],
   "source": [
    "A = [1, 5, 2, 3, 4, 8, 7, 6, 10, 9]\n",
    "linear_search(A, 8)"
   ]
  },
  {
   "cell_type": "markdown",
   "metadata": {},
   "source": [
    "### Binary Search"
   ]
  },
  {
   "cell_type": "markdown",
   "metadata": {},
   "source": [
    "Binary search adalah algoritma searching dimana suatu list dicek apakah nilai tengahnya adalah key. Jika tidak, list dipecah dua dan searching dilanjut tergantung posisi key relatif dari nilai tengah tsb (apakah lebih kecil atau lebih besar)."
   ]
  },
  {
   "cell_type": "code",
   "execution_count": 5,
   "metadata": {},
   "outputs": [],
   "source": [
    "def binary_search(A, key):\n",
    "    le = 0\n",
    "    ri = len(A)\n",
    "    while True:\n",
    "        ctr = (le + ri) // 2\n",
    "        if key == A[ctr]:\n",
    "            print('Key ditemukan.')\n",
    "            print('Index =', ctr)\n",
    "            return A[ctr]\n",
    "        elif key < A[ctr]:\n",
    "            ri = ctr-1\n",
    "        else:\n",
    "            le = ctr+1"
   ]
  },
  {
   "cell_type": "code",
   "execution_count": 6,
   "metadata": {},
   "outputs": [
    {
     "name": "stdout",
     "output_type": "stream",
     "text": [
      "Key ditemukan.\n",
      "Index = 6\n"
     ]
    },
    {
     "data": {
      "text/plain": [
       "14"
      ]
     },
     "execution_count": 6,
     "metadata": {},
     "output_type": "execute_result"
    }
   ],
   "source": [
    "A = [2, 4, 6, 8, 10, 12, 14, 16, 18, 20]\n",
    "binary_search(A, 14)"
   ]
  },
  {
   "cell_type": "markdown",
   "metadata": {},
   "source": [
    "## Sorting"
   ]
  },
  {
   "cell_type": "markdown",
   "metadata": {},
   "source": [
    "Terdapat 5 algoritma umum dalam sorting yang akan dijelaskan, yaitu:\n",
    "\n",
    "* Bubble Sort\n",
    "* Insertion Sort\n",
    "* Selection Sort\n",
    "* Quick Sort\n",
    "* Merge Sort"
   ]
  },
  {
   "cell_type": "markdown",
   "metadata": {},
   "source": [
    "### Bubble Sort"
   ]
  },
  {
   "cell_type": "markdown",
   "metadata": {},
   "source": [
    "Bubble sort adalah algoritma sorting yang cara kerjanya adalah dengan membandingkan elemen yang bersebelahan secara berurutan, lalu ditukar jika urutannya salah."
   ]
  },
  {
   "cell_type": "code",
   "execution_count": 7,
   "metadata": {},
   "outputs": [],
   "source": [
    "def bubble_sort(A):\n",
    "    n = len(A)\n",
    "    for i in range(n-1):\n",
    "        for j in range(n-1):\n",
    "            if A[j] > A[j+1]:\n",
    "                A[j], A[j+1] = A[j+1], A[j]\n",
    "    return A"
   ]
  },
  {
   "cell_type": "code",
   "execution_count": 8,
   "metadata": {},
   "outputs": [
    {
     "data": {
      "text/plain": [
       "[1, 2, 3, 4, 5, 6, 7, 8, 9, 10]"
      ]
     },
     "execution_count": 8,
     "metadata": {},
     "output_type": "execute_result"
    }
   ],
   "source": [
    "A = [1, 5, 2, 3, 4, 8, 7, 6, 10, 9]\n",
    "bubble_sort(A)"
   ]
  },
  {
   "cell_type": "markdown",
   "metadata": {},
   "source": [
    "### Insertion Sort"
   ]
  },
  {
   "cell_type": "markdown",
   "metadata": {},
   "source": [
    "Cara kerja dari insertion sort adalah dengan membandingkan elemen baru dengan elemen sebelumnya dan ditempatkan di tempat yang sesuai. Insertion sort mulai dari indeks ke-1, yang mana elemen pada indeks tersebut dibandingkan dengan indeks sebelumnya. Jika posisinya tidak sesuai, maka elemen ditukar, dan seterusnya hingga posisinya sesuai. Lalu iterasi dilanjutkan dengan elemen indeks ke-2, hingga elemen telah diiterasi semua."
   ]
  },
  {
   "cell_type": "code",
   "execution_count": 9,
   "metadata": {},
   "outputs": [],
   "source": [
    "def insertion_sort(A):\n",
    "    n = len(A)\n",
    "    for i in range(1, n):\n",
    "        j = i\n",
    "        while A[j] < A[j-1]:\n",
    "            A[j], A[j-1] = A[j-1], A[j]\n",
    "            j -= 1\n",
    "            if j == 0:\n",
    "                break\n",
    "    return A"
   ]
  },
  {
   "cell_type": "code",
   "execution_count": 10,
   "metadata": {},
   "outputs": [
    {
     "data": {
      "text/plain": [
       "[1, 2, 3, 4, 5, 6, 7, 8, 9, 10]"
      ]
     },
     "execution_count": 10,
     "metadata": {},
     "output_type": "execute_result"
    }
   ],
   "source": [
    "A = [1, 5, 2, 3, 4, 8, 7, 6, 10, 9]\n",
    "insertion_sort(A)"
   ]
  },
  {
   "cell_type": "markdown",
   "metadata": {},
   "source": [
    "### Selection Sort"
   ]
  },
  {
   "cell_type": "markdown",
   "metadata": {},
   "source": [
    "Selection sort melakukan sorting dengan memasukkan nilai minimum dari suatu list. Jika diberikan suatu list $A[0..(n-1)]$, maka algoritma mencari nilai minimum dari $A[0..(n-1)]$, lalu ditukar dengan elemen $A[0]$. Selanjutnya algoritma mencari nilai minimum dari $A[1..(n-1)]$, lalu ditukar dengan elemen $A[1]$, dan seterusnya."
   ]
  },
  {
   "cell_type": "code",
   "execution_count": 11,
   "metadata": {},
   "outputs": [],
   "source": [
    "def selection_sort(A):\n",
    "    n = len(A)\n",
    "    for i in range(n-1):\n",
    "        min = A[i]\n",
    "        mindx = i\n",
    "        for j in range(i+1, n):\n",
    "            if A[j] < min:\n",
    "                min = A[j]\n",
    "                mindx = j\n",
    "        A[i], A[mindx] = A[mindx], A[i]\n",
    "    return A"
   ]
  },
  {
   "cell_type": "code",
   "execution_count": 12,
   "metadata": {},
   "outputs": [
    {
     "data": {
      "text/plain": [
       "[1, 2, 3, 4, 5, 6, 7, 8, 9, 10]"
      ]
     },
     "execution_count": 12,
     "metadata": {},
     "output_type": "execute_result"
    }
   ],
   "source": [
    "A = [1, 5, 2, 3, 4, 8, 7, 6, 10, 9]\n",
    "selection_sort(A)"
   ]
  },
  {
   "cell_type": "markdown",
   "metadata": {},
   "source": [
    "### Quicksort"
   ]
  },
  {
   "cell_type": "markdown",
   "metadata": {},
   "source": [
    "Untuk melakukan sorting dengan quicksort pada list $A[0..(n-1)]$, algoritma mengambil satu elemen untuk dijadikan pivot (dalam hal ini, elemen pertama pada list). Lalu dibuat dua sub-list, yang pertama berisi elemen yang nilainya lebih kecil dari pivot, dan yang kedua berisi elemen yang nilainya lebih besar dari pivot. Lalu pivot diletakkan di antara kedua sub-list. Selanjutnya, langkah pivoting dan seterusnya diulang pada tiap sub-list, hingga sub-list menjadi tersisa 1 elemen. Selanjutnya, sub-list terakhir tersebut digabungkan hingga membentuk list utuh kembali."
   ]
  },
  {
   "cell_type": "code",
   "execution_count": 13,
   "metadata": {},
   "outputs": [],
   "source": [
    "def partition(A, p, r):\n",
    "    x = A[r]\n",
    "    i = p - 1\n",
    "    for j in range(p, r):\n",
    "        if A[j] <= x:\n",
    "            i = i + 1\n",
    "            A[i], A[j] = A[j], A[i]\n",
    "    A[i+1], A[r] = A[r], A[i+1]\n",
    "    return i+1"
   ]
  },
  {
   "cell_type": "code",
   "execution_count": 14,
   "metadata": {},
   "outputs": [],
   "source": [
    "def quicksort(A, p=0, r=len(A)-1):\n",
    "    if p < r:\n",
    "        q = partition(A, p, r)\n",
    "        quicksort(A, p, q-1)\n",
    "        quicksort(A, q+1, r)\n",
    "    return A"
   ]
  },
  {
   "cell_type": "code",
   "execution_count": 15,
   "metadata": {},
   "outputs": [
    {
     "data": {
      "text/plain": [
       "[1, 2, 3, 4, 5, 6, 7, 8, 9, 10]"
      ]
     },
     "execution_count": 15,
     "metadata": {},
     "output_type": "execute_result"
    }
   ],
   "source": [
    "A = [1, 5, 2, 3, 4, 8, 7, 6, 10, 9]\n",
    "quicksort(A)"
   ]
  },
  {
   "cell_type": "markdown",
   "metadata": {},
   "source": [
    "### Merge Sort"
   ]
  },
  {
   "cell_type": "markdown",
   "metadata": {},
   "source": [
    "Merge sort melakukan sort dengan memecah list menjadi dua secara rekursif. Lalu sorting dilakukan dengan melakukan merge pada hasil pecahan list. Merge adalah proses pada dua list yang menyatukan dua list terurut menjadi satu list terurut. Merge dilakukan hingga list utuh kembali."
   ]
  },
  {
   "cell_type": "code",
   "execution_count": 16,
   "metadata": {},
   "outputs": [],
   "source": [
    "def merge_sort(A):\n",
    "    n = len(A)\n",
    "    if len(A) > 1:\n",
    "        m = n//2\n",
    "        A1 = A[:m]\n",
    "        A2 = A[m:]\n",
    "        merge_sort(A1)\n",
    "        merge_sort(A2)\n",
    "        i = j = k = 0\n",
    "        while i < len(A1) and j < len(A2):\n",
    "            if A1[i] <= A2[j]:\n",
    "                A[k] = A1[i]\n",
    "                i += 1\n",
    "            else:\n",
    "                A[k] = A2[j]\n",
    "                j += 1\n",
    "            k += 1\n",
    "\n",
    "        # Checking if any element was left\n",
    "        while i < len(A1):\n",
    "            A[k] = A1[i]\n",
    "            i += 1\n",
    "            k += 1\n",
    "        \n",
    "        while j < len(A2):\n",
    "            A[k] = A2[j]\n",
    "            j += 1\n",
    "            k += 1\n",
    "    return A"
   ]
  },
  {
   "cell_type": "code",
   "execution_count": 17,
   "metadata": {},
   "outputs": [
    {
     "data": {
      "text/plain": [
       "[1, 2, 3, 4, 5, 6, 7, 8, 9, 10]"
      ]
     },
     "execution_count": 17,
     "metadata": {},
     "output_type": "execute_result"
    }
   ],
   "source": [
    "A = [1, 5, 2, 3, 4, 8, 7, 6, 10, 9]\n",
    "merge_sort(A)"
   ]
  },
  {
   "cell_type": "code",
   "execution_count": null,
   "metadata": {},
   "outputs": [],
   "source": []
  }
 ],
 "metadata": {
  "kernelspec": {
   "display_name": "Python 3",
   "language": "python",
   "name": "python3"
  },
  "language_info": {
   "codemirror_mode": {
    "name": "ipython",
    "version": 3
   },
   "file_extension": ".py",
   "mimetype": "text/x-python",
   "name": "python",
   "nbconvert_exporter": "python",
   "pygments_lexer": "ipython3",
   "version": "3.10.11"
  },
  "orig_nbformat": 4
 },
 "nbformat": 4,
 "nbformat_minor": 2
}
