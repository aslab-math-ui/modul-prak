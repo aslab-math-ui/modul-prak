{
 "cells": [
  {
   "cell_type": "markdown",
   "metadata": {},
   "source": [
    "# Modul 6 | *Tree* (2)"
   ]
  },
  {
   "cell_type": "markdown",
   "metadata": {},
   "source": [
    "Kembali ke [Struktur Data](strukdat2022.qmd)"
   ]
  },
  {
   "cell_type": "markdown",
   "metadata": {},
   "source": [
    "## B-Tree"
   ]
  },
  {
   "cell_type": "markdown",
   "metadata": {},
   "source": [
    "B-Tree adalah struktur data berbentuk tree di mana tiap node memiliki lebih dari satu key, dan tiap key tersebut mempunyai child-nya sendiri. B-Tree mempunyai sifat meminimalkan height dari tree yang terbeentuk, karena biasanya B-Tree digunakan untuk mengurangi akses antar disk."
   ]
  },
  {
   "cell_type": "code",
   "execution_count": 1,
   "metadata": {},
   "outputs": [],
   "source": [
    "class BTreeNode:\n",
    "    def __init__(self, leaf=False):\n",
    "        self.leaf = leaf\n",
    "        self.keys = []\n",
    "        self.child = []"
   ]
  },
  {
   "cell_type": "code",
   "execution_count": 4,
   "metadata": {},
   "outputs": [],
   "source": [
    "class BTree:\n",
    "    def __init__(self, m):\n",
    "        self.root = BTreeNode(True)\n",
    "        self.m = m\n",
    "    \n",
    "    # Insert node\n",
    "    def insert(self, k):\n",
    "        root = self.root\n",
    "        if len(root.keys) == self.m - 1:\n",
    "            temp = BTreeNode()\n",
    "            self.root = temp\n",
    "            temp.child.insert(0, root)\n",
    "            self.split(temp, 0)\n",
    "            self.__ins__(temp, k)\n",
    "        else:\n",
    "            self.__ins__(root, k)\n",
    "    \n",
    "    # Insert nonfull\n",
    "    def __ins__(self, x, k):\n",
    "        i = len(x.keys) - 1\n",
    "        if x.leaf:\n",
    "            x.keys.append((None, None))\n",
    "            while i >= 0 and k[0] < x.keys[i][0]:\n",
    "                x.keys[i + 1] = x.keys[i]\n",
    "                i -= 1\n",
    "            x.keys[i + 1] = k\n",
    "        else:\n",
    "            while i >= 0 and k[0] < x.keys[i][0]:\n",
    "                i -= 1\n",
    "            i += 1\n",
    "            if len(x.child[i].keys) == self.m:\n",
    "                self.split(x, i)\n",
    "                if k[0] > x.keys[i][0]:\n",
    "                    i += 1\n",
    "            self.__ins__(x.child[i], k)\n",
    "        \n",
    "    # Split the child\n",
    "    def split(self, x, i):\n",
    "        t = self.m // 2\n",
    "        y = x.child[i]\n",
    "        z = BTreeNode(y.leaf)\n",
    "        x.child.insert(i + 1, z)\n",
    "        x.keys.insert(i, y.keys[t - 1])\n",
    "        z.keys = y.keys[t: self.m]\n",
    "        y.keys = y.keys[0: t - 1]\n",
    "        if not y.leaf:\n",
    "            z.child = y.child[t: self.m]\n",
    "            y.child = y.child[0: t - 1]\n",
    "        \n",
    "    # Print the tree\n",
    "    def print_tree(self, x, l=0):\n",
    "        print(\"Level \", l, \" \", len(x.keys), end=\":\")\n",
    "        for i in x.keys:\n",
    "            print(i[1], end=\" \")\n",
    "        print()\n",
    "        l += 1\n",
    "        if len(x.child) > 0:\n",
    "            for i in x.child:\n",
    "                self.print_tree(i, l)"
   ]
  },
  {
   "cell_type": "code",
   "execution_count": 5,
   "metadata": {},
   "outputs": [
    {
     "name": "stdout",
     "output_type": "stream",
     "text": [
      "Level  0   3:4 8 12 \n",
      "Level  1   1:2 \n",
      "Level  1   1:6 \n",
      "Level  1   1:10 \n",
      "Level  1   4:14 16 18 20 \n"
     ]
    }
   ],
   "source": [
    "B = BTree(5)\n",
    "for i in range(1, 11):\n",
    "    B.insert((i, 2*i))\n",
    "\n",
    "B.print_tree(B.root)"
   ]
  },
  {
   "cell_type": "markdown",
   "metadata": {},
   "source": [
    "## Heap"
   ]
  },
  {
   "cell_type": "markdown",
   "metadata": {},
   "source": [
    "Heap adalah salah satu struktur data tree di mana nilai dari child lebih kecil dari parent (untuk max-heap). Bentuk dari heap adalah almost complete binary tree, dan dalam implementasinya, heap  dibuat sedemikian rupa sehingga dapat menggunakan array."
   ]
  },
  {
   "cell_type": "code",
   "execution_count": 6,
   "metadata": {},
   "outputs": [],
   "source": [
    "# Max-Heap data structure in Python\n",
    "\n",
    "def heapify(arr, n, i):\n",
    "    largest = i\n",
    "    l = 2 * i + 1\n",
    "    r = 2 * i + 2\n",
    "\n",
    "    if l < n and arr[i] < arr[l]:\n",
    "        largest = l\n",
    "    \n",
    "    if r < n and arr[largest] < arr[r]:\n",
    "        largest = r\n",
    "    \n",
    "    if largest != i:\n",
    "        arr[i], arr[largest] = arr[largest], arr[i]\n",
    "        heapify(arr, n, largest)\n",
    "\n",
    "def insert(array, newNum):\n",
    "    size = len(array)\n",
    "    if size == 0:\n",
    "        array.append(newNum)\n",
    "    else:\n",
    "        array.append(newNum)\n",
    "        for i in range((size//2)-1, -1, -1):\n",
    "            heapify(array, size, i)\n",
    "\n",
    "def delete(array, num):\n",
    "    size = len(array)\n",
    "    i = 0\n",
    "    for i in range(0, size):\n",
    "        if num == array[i]:\n",
    "            break\n",
    "    array[i], array[size-1] = array[size-1], array[i]\n",
    "\n",
    "    array.remove(num)\n",
    "\n",
    "    for i in range((len(array)//2)-1, -1, -1):\n",
    "        heapify(array, len(array), i)"
   ]
  },
  {
   "cell_type": "code",
   "execution_count": 7,
   "metadata": {},
   "outputs": [
    {
     "name": "stdout",
     "output_type": "stream",
     "text": [
      "[42, 35, 11, 10, 22]\n"
     ]
    }
   ],
   "source": [
    "A = [10, 42, 11, 35, 22]\n",
    "B = []\n",
    "for i in A:\n",
    "    insert(B, i)\n",
    "print(B)"
   ]
  },
  {
   "cell_type": "markdown",
   "metadata": {},
   "source": []
  }
 ],
 "metadata": {
  "kernelspec": {
   "display_name": "Python 3",
   "language": "python",
   "name": "python3"
  },
  "language_info": {
   "codemirror_mode": {
    "name": "ipython",
    "version": 3
   },
   "file_extension": ".py",
   "mimetype": "text/x-python",
   "name": "python",
   "nbconvert_exporter": "python",
   "pygments_lexer": "ipython3",
   "version": "3.10.11"
  }
 },
 "nbformat": 4,
 "nbformat_minor": 2
}
