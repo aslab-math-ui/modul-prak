{
 "cells": [
  {
   "cell_type": "markdown",
   "metadata": {},
   "source": [
    "# Modul 5 | *Tree* (1)"
   ]
  },
  {
   "cell_type": "markdown",
   "metadata": {},
   "source": [
    "Kembali ke [Struktur Data](strukdat2022.qmd)"
   ]
  },
  {
   "cell_type": "markdown",
   "metadata": {},
   "source": [
    "*Tree* adalah struktur data yang jenisnya hierarki. *Tree* terdiri dari sebuah *node* yang terhubung dengan *node* lain tanpa membuat suatu *cycle*. Hubungan antar *node* pada *tree* adalah berupa *parent* dan *child*. Satu *node* bisa menjadi *parent* dari banyak *child*, namun, setiap *child* hanya mempunyai satu *parent*. Pada praktikum kali ini, akan dibuat dua jenis *tree*, yaitu *binary tree* dan *binary search tree*."
   ]
  },
  {
   "cell_type": "markdown",
   "metadata": {},
   "source": [
    "## *Binary Tree*"
   ]
  },
  {
   "cell_type": "markdown",
   "metadata": {},
   "source": [
    "*Binary tree* adalah *tree* yang tiap *parent* hanya memiliki maksimum dua *child*. Umumnya, kedua *child* tersebut dinamakan *left child* dan *right\n",
    "child*."
   ]
  },
  {
   "cell_type": "markdown",
   "metadata": {},
   "source": [
    "Dalam pendefinisian *binary tree* yang akan kita buat, *tree* akan dibentuk menggunakan `dict`, dan *node*-nya adalah elemen dari `dict` tersebut, dengan `key`-nya melambangkan suatu *node*, dan `value`-nya terdiri dari 3 nilai, yaitu *parent*, *left child*, dan *right child*"
   ]
  },
  {
   "cell_type": "markdown",
   "metadata": {},
   "source": [
    "Pertama, akan dibuat `class` dengan `__init__` terlebih dahulu, yang akan mengkonstruksi *binary tree kosong.*"
   ]
  },
  {
   "cell_type": "code",
   "execution_count": null,
   "metadata": {},
   "outputs": [],
   "source": [
    "class BinaryTree:\n",
    "    def __init__(self):\n",
    "        self.tree = {}\n",
    "        self.root = None"
   ]
  },
  {
   "cell_type": "markdown",
   "metadata": {},
   "source": []
  },
  {
   "cell_type": "code",
   "execution_count": null,
   "metadata": {},
   "outputs": [],
   "source": [
    "    def is_empty(self):\n",
    "        return self.root is None\n",
    "\n",
    "    def is_root(self, val):\n",
    "        return self.root == val\n",
    "\n",
    "    def parent(self, val):\n",
    "        return self.tree[val][0]\n",
    "\n",
    "    def left_child(self, val):\n",
    "        return self.tree[val][1]\n",
    "\n",
    "    def right_child(self, val):\n",
    "        return self.tree[val][2]\n",
    "\n",
    "    def is_leaf(self, val):\n",
    "        return self.tree[val][1:3] == [None, None]\n",
    "\n",
    "    def sibling(self, val):\n",
    "        par = self.tree[val][0]\n",
    "        if self.left_child(par) == val:\n",
    "            return self.right_child(par)\n",
    "        return self.left_child(par)"
   ]
  },
  {
   "cell_type": "markdown",
   "metadata": {},
   "source": []
  },
  {
   "cell_type": "code",
   "execution_count": null,
   "metadata": {},
   "outputs": [],
   "source": [
    "    def add(self, par, val, pos):\n",
    "        if self.is_empty():\n",
    "            self.tree[val] = [None, None, None]\n",
    "            self.root = val\n",
    "            return\n",
    "        if val in self.tree:\n",
    "            print('Element already exists.')\n",
    "            return\n",
    "        if par not in self.tree:\n",
    "            print('Parent doesn\\'t exist')\n",
    "            return\n",
    "        if pos == 'l':\n",
    "            self.tree[par][1] = val\n",
    "        if pos == 'r':\n",
    "            self.tree[par][2] = val\n",
    "        self.tree[val] = [par, None, None]"
   ]
  },
  {
   "cell_type": "markdown",
   "metadata": {},
   "source": []
  },
  {
   "cell_type": "code",
   "execution_count": null,
   "metadata": {},
   "outputs": [],
   "source": [
    "    def rem(self, val):\n",
    "        if val not in self.tree:\n",
    "            print('Element doesn\\'t exist')\n",
    "            return\n",
    "        if not self.is_leaf(val):\n",
    "            print('Element has a child. Pick a leaf node instead.')\n",
    "            return\n",
    "        par = self.tree[val][0]\n",
    "        for i in range(1, 3):\n",
    "            if self.tree[par][i] == val:\n",
    "                self.tree[par][i] = None\n",
    "        del self.tree[val]\n",
    "        if val == self.root:\n",
    "            self.root = None"
   ]
  },
  {
   "cell_type": "markdown",
   "metadata": {},
   "source": []
  },
  {
   "cell_type": "code",
   "execution_count": null,
   "metadata": {},
   "outputs": [],
   "source": [
    "    def preorder(self, root, lis = []):\n",
    "        lis.append(root)\n",
    "        lchild = self.left_child(root)\n",
    "        if lchild != None:\n",
    "            self.preorder(lchild)\n",
    "        rchild = self.right_child(root)\n",
    "        if rchild != None:\n",
    "            self.preorder(rchild)\n",
    "        return lis\n",
    "    \n",
    "    def inorder(self, root, lis = []):\n",
    "        lchild = self.left_child(root)\n",
    "        if lchild != None:\n",
    "            self.inorder(lchild)\n",
    "        lis.append(root)\n",
    "        rchild = self.right_child(root)\n",
    "        if rchild != None:\n",
    "            self.inorder(rchild)\n",
    "        return lis\n",
    "    \n",
    "    def postorder(self, root, lis = []):\n",
    "        lchild = self.left_child(root)\n",
    "        if lchild != None:\n",
    "            self.postorder(lchild)\n",
    "        rchild = self.right_child(root)\n",
    "        if rchild != None:\n",
    "            self.postorder(rchild)\n",
    "        lis.append(root)\n",
    "        return lis"
   ]
  },
  {
   "cell_type": "markdown",
   "metadata": {},
   "source": [
    "Maka pada akhirnya kita akan mendapatkan `class` utuh berikut:"
   ]
  },
  {
   "cell_type": "code",
   "execution_count": 2,
   "metadata": {},
   "outputs": [],
   "source": [
    "class BinaryTree:\n",
    "    def __init__(self):\n",
    "        self.tree = {}\n",
    "        self.root = None\n",
    "\n",
    "    def is_empty(self):\n",
    "        return self.root is None\n",
    "\n",
    "    def is_root(self, val):\n",
    "        return self.root == val\n",
    "\n",
    "    def parent(self, val):\n",
    "        return self.tree[val][0]\n",
    "\n",
    "    def left_child(self, val):\n",
    "        return self.tree[val][1]\n",
    "\n",
    "    def right_child(self, val):\n",
    "        return self.tree[val][2]\n",
    "\n",
    "    def is_leaf(self, val):\n",
    "        return self.tree[val][1:3] == [None, None]\n",
    "\n",
    "    def sibling(self, val):\n",
    "        par = self.tree[val][0]\n",
    "        if self.left_child(par) == val:\n",
    "            return self.right_child(par)\n",
    "        return self.left_child(par)\n",
    "    \n",
    "    def add(self, par, val, pos):\n",
    "        if self.is_empty():\n",
    "            self.tree[val] = [None, None, None]\n",
    "            self.root = val\n",
    "            return\n",
    "        if val in self.tree:\n",
    "            print('Element already exists.')\n",
    "            return\n",
    "        if par not in self.tree:\n",
    "            print('Parent doesn\\'t exist')\n",
    "            return\n",
    "        if pos == 'l':\n",
    "            self.tree[par][1] = val\n",
    "        if pos == 'r':\n",
    "            self.tree[par][2] = val\n",
    "        self.tree[val] = [par, None, None]\n",
    "    \n",
    "    def rem(self, val):\n",
    "        if val not in self.tree:\n",
    "            print('Element doesn\\'t exist')\n",
    "            return\n",
    "        if not self.is_leaf(val):\n",
    "            print('Element has a child. Pick a leaf node instead.')\n",
    "            return\n",
    "        par = self.tree[val][0]\n",
    "        for i in range(1, 3):\n",
    "            if self.tree[par][i] == val:\n",
    "                self.tree[par][i] = None\n",
    "        del self.tree[val]\n",
    "        if val == self.root:\n",
    "            self.root = None\n",
    "    \n",
    "    def preorder(self, root, lis = []):\n",
    "        lis.append(root)\n",
    "        lchild = self.left_child(root)\n",
    "        if lchild != None:\n",
    "            self.preorder(lchild)\n",
    "        rchild = self.right_child(root)\n",
    "        if rchild != None:\n",
    "            self.preorder(rchild)\n",
    "        return lis\n",
    "    \n",
    "    def inorder(self, root, lis = []):\n",
    "        lchild = self.left_child(root)\n",
    "        if lchild != None:\n",
    "            self.inorder(lchild)\n",
    "        lis.append(root)\n",
    "        rchild = self.right_child(root)\n",
    "        if rchild != None:\n",
    "            self.inorder(rchild)\n",
    "        return lis\n",
    "    \n",
    "    def postorder(self, root, lis = []):\n",
    "        lchild = self.left_child(root)\n",
    "        if lchild != None:\n",
    "            self.postorder(lchild)\n",
    "        rchild = self.right_child(root)\n",
    "        if rchild != None:\n",
    "            self.postorder(rchild)\n",
    "        lis.append(root)\n",
    "        return lis"
   ]
  },
  {
   "cell_type": "markdown",
   "metadata": {},
   "source": [
    "Sekarang akan kita coba."
   ]
  },
  {
   "cell_type": "code",
   "execution_count": 3,
   "metadata": {},
   "outputs": [],
   "source": [
    "T = BinaryTree()"
   ]
  },
  {
   "cell_type": "code",
   "execution_count": 4,
   "metadata": {},
   "outputs": [
    {
     "name": "stdout",
     "output_type": "stream",
     "text": [
      "Parent doesn't exist\n"
     ]
    }
   ],
   "source": [
    "T.add(None, 12, None) # karena root, maka yang dibaca hanya value tengah\n",
    "T.add(12, 15, 'l')\n",
    "T.add(12, 18, 'r')\n",
    "T.add(14, 21, 'l') # akan meng-print pesan kesalahan karena 14 tidak ada di tree."
   ]
  },
  {
   "cell_type": "code",
   "execution_count": 5,
   "metadata": {},
   "outputs": [
    {
     "name": "stdout",
     "output_type": "stream",
     "text": [
      "{12: [None, 15, 18], 15: [12, None, None], 18: [12, None, None]}\n"
     ]
    }
   ],
   "source": [
    "print(T.tree)"
   ]
  },
  {
   "cell_type": "code",
   "execution_count": 6,
   "metadata": {},
   "outputs": [
    {
     "name": "stdout",
     "output_type": "stream",
     "text": [
      "Element has a child. Pick a leaf node instead.\n"
     ]
    }
   ],
   "source": [
    "T.rem(12) # Tidak bisa karena bukan leaf node"
   ]
  },
  {
   "cell_type": "code",
   "execution_count": 7,
   "metadata": {},
   "outputs": [
    {
     "name": "stdout",
     "output_type": "stream",
     "text": [
      "{12: [None, None, 18], 18: [12, None, None]}\n"
     ]
    }
   ],
   "source": [
    "T.rem(15)\n",
    "print(T.tree)"
   ]
  },
  {
   "cell_type": "code",
   "execution_count": 9,
   "metadata": {},
   "outputs": [
    {
     "name": "stdout",
     "output_type": "stream",
     "text": [
      "{12: [None, 15, 18], 18: [12, 27, None], 15: [12, 21, 24], 21: [15, None, None], 24: [15, None, None], 27: [18, None, None]}\n"
     ]
    }
   ],
   "source": [
    "T.add(12, 15, 'l')\n",
    "T.add(15, 21, 'l')\n",
    "T.add(15, 24, 'r')\n",
    "T.add(18, 27, 'l')\n",
    "print(T.tree)"
   ]
  },
  {
   "cell_type": "code",
   "execution_count": 10,
   "metadata": {},
   "outputs": [
    {
     "name": "stdout",
     "output_type": "stream",
     "text": [
      "True\n",
      "False\n"
     ]
    }
   ],
   "source": [
    "print(T.is_root(12))\n",
    "print(T.is_root(24))"
   ]
  },
  {
   "cell_type": "code",
   "execution_count": 11,
   "metadata": {},
   "outputs": [
    {
     "ename": "KeyError",
     "evalue": "None",
     "output_type": "error",
     "traceback": [
      "\u001b[0;31m---------------------------------------------------------------------------\u001b[0m",
      "\u001b[0;31mKeyError\u001b[0m                                  Traceback (most recent call last)",
      "\u001b[1;32m/Users/Bisma/Documents/Files/University, S1/2022 2024 Aslab/Modul Struktur Data 2023/Lab Praktikum Departemen Matematika FMIPA UI/modul-prak/semuahalaman/modulprak/2022/ganjil/strukdat/Strukdat2022_Modul05.ipynb Cell 27\u001b[0m line \u001b[0;36m1\n\u001b[0;32m----> <a href='vscode-notebook-cell:/Users/Bisma/Documents/Files/University%2C%20S1/2022%202024%20Aslab/Modul%20Struktur%20Data%202023/Lab%20Praktikum%20Departemen%20Matematika%20FMIPA%20UI/modul-prak/semuahalaman/modulprak/2022/ganjil/strukdat/Strukdat2022_Modul05.ipynb#X42sZmlsZQ%3D%3D?line=0'>1</a>\u001b[0m \u001b[39mprint\u001b[39m(T\u001b[39m.\u001b[39;49msibling(\u001b[39m12\u001b[39;49m)) \u001b[39m# Root tidak punya sibling\u001b[39;00m\n",
      "\u001b[1;32m/Users/Bisma/Documents/Files/University, S1/2022 2024 Aslab/Modul Struktur Data 2023/Lab Praktikum Departemen Matematika FMIPA UI/modul-prak/semuahalaman/modulprak/2022/ganjil/strukdat/Strukdat2022_Modul05.ipynb Cell 27\u001b[0m line \u001b[0;36m2\n\u001b[1;32m     <a href='vscode-notebook-cell:/Users/Bisma/Documents/Files/University%2C%20S1/2022%202024%20Aslab/Modul%20Struktur%20Data%202023/Lab%20Praktikum%20Departemen%20Matematika%20FMIPA%20UI/modul-prak/semuahalaman/modulprak/2022/ganjil/strukdat/Strukdat2022_Modul05.ipynb#X42sZmlsZQ%3D%3D?line=23'>24</a>\u001b[0m \u001b[39mdef\u001b[39;00m \u001b[39msibling\u001b[39m(\u001b[39mself\u001b[39m, val):\n\u001b[1;32m     <a href='vscode-notebook-cell:/Users/Bisma/Documents/Files/University%2C%20S1/2022%202024%20Aslab/Modul%20Struktur%20Data%202023/Lab%20Praktikum%20Departemen%20Matematika%20FMIPA%20UI/modul-prak/semuahalaman/modulprak/2022/ganjil/strukdat/Strukdat2022_Modul05.ipynb#X42sZmlsZQ%3D%3D?line=24'>25</a>\u001b[0m     par \u001b[39m=\u001b[39m \u001b[39mself\u001b[39m\u001b[39m.\u001b[39mtree[val][\u001b[39m0\u001b[39m]\n\u001b[0;32m---> <a href='vscode-notebook-cell:/Users/Bisma/Documents/Files/University%2C%20S1/2022%202024%20Aslab/Modul%20Struktur%20Data%202023/Lab%20Praktikum%20Departemen%20Matematika%20FMIPA%20UI/modul-prak/semuahalaman/modulprak/2022/ganjil/strukdat/Strukdat2022_Modul05.ipynb#X42sZmlsZQ%3D%3D?line=25'>26</a>\u001b[0m     \u001b[39mif\u001b[39;00m \u001b[39mself\u001b[39;49m\u001b[39m.\u001b[39;49mleft_child(par) \u001b[39m==\u001b[39m val:\n\u001b[1;32m     <a href='vscode-notebook-cell:/Users/Bisma/Documents/Files/University%2C%20S1/2022%202024%20Aslab/Modul%20Struktur%20Data%202023/Lab%20Praktikum%20Departemen%20Matematika%20FMIPA%20UI/modul-prak/semuahalaman/modulprak/2022/ganjil/strukdat/Strukdat2022_Modul05.ipynb#X42sZmlsZQ%3D%3D?line=26'>27</a>\u001b[0m         \u001b[39mreturn\u001b[39;00m \u001b[39mself\u001b[39m\u001b[39m.\u001b[39mright_child(par)\n\u001b[1;32m     <a href='vscode-notebook-cell:/Users/Bisma/Documents/Files/University%2C%20S1/2022%202024%20Aslab/Modul%20Struktur%20Data%202023/Lab%20Praktikum%20Departemen%20Matematika%20FMIPA%20UI/modul-prak/semuahalaman/modulprak/2022/ganjil/strukdat/Strukdat2022_Modul05.ipynb#X42sZmlsZQ%3D%3D?line=27'>28</a>\u001b[0m     \u001b[39mreturn\u001b[39;00m \u001b[39mself\u001b[39m\u001b[39m.\u001b[39mleft_child(par)\n",
      "\u001b[1;32m/Users/Bisma/Documents/Files/University, S1/2022 2024 Aslab/Modul Struktur Data 2023/Lab Praktikum Departemen Matematika FMIPA UI/modul-prak/semuahalaman/modulprak/2022/ganjil/strukdat/Strukdat2022_Modul05.ipynb Cell 27\u001b[0m line \u001b[0;36m1\n\u001b[1;32m     <a href='vscode-notebook-cell:/Users/Bisma/Documents/Files/University%2C%20S1/2022%202024%20Aslab/Modul%20Struktur%20Data%202023/Lab%20Praktikum%20Departemen%20Matematika%20FMIPA%20UI/modul-prak/semuahalaman/modulprak/2022/ganjil/strukdat/Strukdat2022_Modul05.ipynb#X42sZmlsZQ%3D%3D?line=14'>15</a>\u001b[0m \u001b[39mdef\u001b[39;00m \u001b[39mleft_child\u001b[39m(\u001b[39mself\u001b[39m, val):\n\u001b[0;32m---> <a href='vscode-notebook-cell:/Users/Bisma/Documents/Files/University%2C%20S1/2022%202024%20Aslab/Modul%20Struktur%20Data%202023/Lab%20Praktikum%20Departemen%20Matematika%20FMIPA%20UI/modul-prak/semuahalaman/modulprak/2022/ganjil/strukdat/Strukdat2022_Modul05.ipynb#X42sZmlsZQ%3D%3D?line=15'>16</a>\u001b[0m     \u001b[39mreturn\u001b[39;00m \u001b[39mself\u001b[39;49m\u001b[39m.\u001b[39;49mtree[val][\u001b[39m1\u001b[39m]\n",
      "\u001b[0;31mKeyError\u001b[0m: None"
     ]
    }
   ],
   "source": [
    "print(T.sibling(12)) # Root tidak punya sibling"
   ]
  },
  {
   "cell_type": "code",
   "execution_count": 12,
   "metadata": {},
   "outputs": [
    {
     "name": "stdout",
     "output_type": "stream",
     "text": [
      "{12: [None, 15, 18], 18: [12, 27, None], 15: [12, 21, 24], 21: [15, None, None], 24: [15, None, None], 27: [18, None, None]}\n"
     ]
    }
   ],
   "source": [
    "print(T.tree)"
   ]
  },
  {
   "cell_type": "code",
   "execution_count": 13,
   "metadata": {},
   "outputs": [
    {
     "name": "stdout",
     "output_type": "stream",
     "text": [
      "[12, 15, 21, 24, 18, 27]\n",
      "[21, 15, 24, 12, 27, 18]\n",
      "[21, 24, 15, 27, 18, 12]\n"
     ]
    }
   ],
   "source": [
    "print(T.preorder(T.root)) # hasil print: 12, 15, 21, 24, 18, 27\n",
    "print(T.inorder(T.root)) # hasil print: 21, 15, 24, 12, 18, 27\n",
    "print(T.postorder(T.root)) # hasil print: 21, 24, 15, 27, 18, 12"
   ]
  },
  {
   "cell_type": "markdown",
   "metadata": {},
   "source": [
    "## *Binary Search Tree*"
   ]
  },
  {
   "cell_type": "markdown",
   "metadata": {},
   "source": [
    "Binary search tree adalah binary tree yang nilai left child-nya lebih kecil dari parent-nya, dan nilai right child-nya lebih besar dari parent-nya. Umumnya, binary search tree dibuat dari suatu list angka."
   ]
  },
  {
   "cell_type": "markdown",
   "metadata": {},
   "source": [
    "Berikut adalah `class` yang digunakan untuk membuat binary search tree. Karena hasil dari binary search tree sejatinya adalah binary tree, maka kita akan meng-inherit   yang telah kita buat sebelumnya, namun dengan mengubah `__init__` nya agar dapat langsung membuat binary tree saat `__init__`"
   ]
  },
  {
   "cell_type": "code",
   "execution_count": null,
   "metadata": {},
   "outputs": [],
   "source": [
    "class BinarySearchTree(BinaryTree):\n",
    "    def __init__(self, lis):\n",
    "        self.tree = {}\n",
    "        self.root = None\n",
    "        self.add(None, lis[0], None)\n",
    "        for i in range(1, len(lis)):\n",
    "            root = self.root\n",
    "            while True:\n",
    "                if lis[i] < root:\n",
    "                    if self.left_child(root) is None:\n",
    "                        self.add(root, lis[i], 'l')\n",
    "                        break\n",
    "                    else:\n",
    "                        root = self.left_child(root)\n",
    "                else:\n",
    "                    if self.right_child(root) is None:\n",
    "                        self.add(root, lis[i], 'r')\n",
    "                        break\n",
    "                    else:\n",
    "                        root = self.right_child(root)"
   ]
  },
  {
   "cell_type": "markdown",
   "metadata": {},
   "source": [
    "Sesuai namanya, binary search tree digunakan untuk binary search. Berikut algoritma binary search menggunakan binary search tree."
   ]
  },
  {
   "cell_type": "code",
   "execution_count": null,
   "metadata": {},
   "outputs": [],
   "source": [
    "def search(self, val):\n",
    "    root = self.root\n",
    "    while True:\n",
    "        if val < root:\n",
    "            if self.left_child(root) is None:\n",
    "                print('Element is not in the tree')\n",
    "                return\n",
    "            else:\n",
    "                root = self.left_child(root)\n",
    "        elif val > root:\n",
    "            if self.right_child(root) is None:\n",
    "                print('Element is not in the tree')\n",
    "                return\n",
    "            else:\n",
    "                root = self.right_child(root)\n",
    "        else:\n",
    "            return val"
   ]
  },
  {
   "cell_type": "markdown",
   "metadata": {},
   "source": [
    "Maka, hasil akhir `class`-nya adalah sebagai berikut:"
   ]
  },
  {
   "cell_type": "code",
   "execution_count": 15,
   "metadata": {},
   "outputs": [],
   "source": [
    "class BinarySearchTree(BinaryTree):\n",
    "    def __init__(self, lis):\n",
    "        self.tree = {}\n",
    "        self.root = None\n",
    "        self.add(None, lis[0], None)\n",
    "        for i in range(1, len(lis)):\n",
    "            root = self.root\n",
    "            while True:\n",
    "                if lis[i] < root:\n",
    "                    if self.left_child(root) is None:\n",
    "                        self.add(root, lis[i], 'l')\n",
    "                        break\n",
    "                    else:\n",
    "                        root = self.left_child(root)\n",
    "                else:\n",
    "                    if self.right_child(root) is None:\n",
    "                        self.add(root, lis[i], 'r')\n",
    "                        break\n",
    "                    else:\n",
    "                        root = self.right_child(root)\n",
    "\n",
    "    def search(self, val):\n",
    "        root = self.root\n",
    "        while True:\n",
    "            if val < root:\n",
    "                if self.left_child(root) is None:\n",
    "                    print('Element is not in the tree')\n",
    "                    return\n",
    "                else:\n",
    "                    root = self.left_child(root)\n",
    "            elif val > root:\n",
    "                if self.right_child(root) is None:\n",
    "                    print('Element is not in the tree')\n",
    "                    return\n",
    "                else:\n",
    "                    root = self.right_child(root)\n",
    "            else:\n",
    "                return val"
   ]
  },
  {
   "cell_type": "markdown",
   "metadata": {},
   "source": [
    "Sekarang akan kita coba membuat binary search tree."
   ]
  },
  {
   "cell_type": "code",
   "execution_count": 16,
   "metadata": {},
   "outputs": [],
   "source": [
    "C = BinarySearchTree([23, 10, 12, 5, 4, 91, 18, 2, 28])"
   ]
  },
  {
   "cell_type": "markdown",
   "metadata": {},
   "source": [
    "Karena `BinarySearchTree` meng-*inherit* dari `BinaryTree`, kita dapat menggunakan *method* yang ada pada `BinryTree` di `BinarySearchTree`"
   ]
  },
  {
   "cell_type": "code",
   "execution_count": 17,
   "metadata": {},
   "outputs": [
    {
     "name": "stdout",
     "output_type": "stream",
     "text": [
      "{23: [None, 10, 91], 10: [23, 5, 12], 12: [10, None, 18], 5: [10, 4, None], 4: [5, 2, None], 91: [23, 28, None], 18: [12, None, None], 2: [4, None, None], 28: [91, None, None]}\n"
     ]
    }
   ],
   "source": [
    "print(C.tree)"
   ]
  },
  {
   "cell_type": "code",
   "execution_count": 18,
   "metadata": {},
   "outputs": [
    {
     "data": {
      "text/plain": [
       "True"
      ]
     },
     "execution_count": 18,
     "metadata": {},
     "output_type": "execute_result"
    }
   ],
   "source": [
    "C.is_root(23)"
   ]
  },
  {
   "cell_type": "code",
   "execution_count": 19,
   "metadata": {},
   "outputs": [
    {
     "data": {
      "text/plain": [
       "True"
      ]
     },
     "execution_count": 19,
     "metadata": {},
     "output_type": "execute_result"
    }
   ],
   "source": [
    "C.is_leaf(18)"
   ]
  },
  {
   "cell_type": "markdown",
   "metadata": {},
   "source": [
    "Sekarang akan kita coba searching."
   ]
  },
  {
   "cell_type": "code",
   "execution_count": 20,
   "metadata": {},
   "outputs": [
    {
     "data": {
      "text/plain": [
       "18"
      ]
     },
     "execution_count": 20,
     "metadata": {},
     "output_type": "execute_result"
    }
   ],
   "source": [
    "C.search(18)"
   ]
  },
  {
   "cell_type": "code",
   "execution_count": 21,
   "metadata": {},
   "outputs": [
    {
     "name": "stdout",
     "output_type": "stream",
     "text": [
      "Element is not in the tree\n"
     ]
    }
   ],
   "source": [
    "C.search(15) # tidak ada di binary search tree"
   ]
  },
  {
   "cell_type": "code",
   "execution_count": null,
   "metadata": {},
   "outputs": [],
   "source": []
  }
 ],
 "metadata": {
  "kernelspec": {
   "display_name": "Python 3",
   "language": "python",
   "name": "python3"
  },
  "language_info": {
   "codemirror_mode": {
    "name": "ipython",
    "version": 3
   },
   "file_extension": ".py",
   "mimetype": "text/x-python",
   "name": "python",
   "nbconvert_exporter": "python",
   "pygments_lexer": "ipython3",
   "version": "3.10.11"
  }
 },
 "nbformat": 4,
 "nbformat_minor": 2
}
