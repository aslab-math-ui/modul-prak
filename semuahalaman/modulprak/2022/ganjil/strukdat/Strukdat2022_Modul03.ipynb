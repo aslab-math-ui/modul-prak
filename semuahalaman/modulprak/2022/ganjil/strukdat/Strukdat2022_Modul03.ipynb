{
 "cells": [
  {
   "cell_type": "markdown",
   "metadata": {},
   "source": [
    "# Modul 3 | Pengenalan `class`"
   ]
  },
  {
   "cell_type": "markdown",
   "metadata": {},
   "source": [
    "Kembali ke [Struktur Data](strukdat2022.qmd)"
   ]
  },
  {
   "cell_type": "markdown",
   "metadata": {},
   "source": [
    "Pada praktikum kali ini, kita akan membahas tentang `class`, yang nantinya akan kita gunakan untuk membuat berbagai jenis struktur data."
   ]
  },
  {
   "cell_type": "markdown",
   "metadata": {},
   "source": [
    "## Class"
   ]
  },
  {
   "cell_type": "markdown",
   "metadata": {},
   "source": [
    "Class dapat digambarkan sebagai pabrik dari suatu objek. Dengan kata lain, class mengandung *blueprint* yang menggambarkan cara membuat objek tersebut. Setiap objek (atau instansi) akan mempunyai atribut dan *method*. Atribut adalah variabel yang menggambarkan karakteristik dari objek tersebut, dan *method* adalah fungsi yang dapat dilakukan oleh objek tersebut."
   ]
  },
  {
   "cell_type": "markdown",
   "metadata": {},
   "source": [
    "Syntax untuk membuat class pada Python adalah:\n",
    "\n",
    "```{.python}\n",
    "class ClassName:\n",
    "    <statement>\n",
    "    <statement>\n",
    "    .\n",
    "    .\n",
    "    .\n",
    "    <statement>\n",
    "```"
   ]
  },
  {
   "cell_type": "markdown",
   "metadata": {},
   "source": [
    "Sebagai contoh, kita akan membuat suatu class kosong menggunakan syntax `pass`."
   ]
  },
  {
   "cell_type": "code",
   "execution_count": 1,
   "metadata": {},
   "outputs": [],
   "source": [
    "class MyClass:\n",
    "    pass"
   ]
  },
  {
   "cell_type": "markdown",
   "metadata": {},
   "source": [
    "Pada contoh di atas, `MyClass` adalah nama dari class, dan `pass` adalah salah satu statement pada class tersebut. Untuk membuat suatu instansi dari class yang telah kita buat, mirip seperti memanggil fungsi:"
   ]
  },
  {
   "cell_type": "code",
   "execution_count": 3,
   "metadata": {},
   "outputs": [
    {
     "name": "stdout",
     "output_type": "stream",
     "text": [
      "<__main__.MyClass object at 0x1058f6cb0>\n",
      "<__main__.MyClass object at 0x1057cebc0>\n"
     ]
    }
   ],
   "source": [
    "obj_1 = MyClass()\n",
    "print(obj_1)\n",
    "obj_2 = MyClass()\n",
    "print(obj_2)"
   ]
  },
  {
   "cell_type": "markdown",
   "metadata": {},
   "source": [
    "Kedua variabel tersebut adalah instansi dari `MyClass` yang telah kita buat. Kode hex di akhir print adalah *address* dari instansi tersebut pada memori."
   ]
  },
  {
   "cell_type": "markdown",
   "metadata": {},
   "source": [
    "Sekarang kita akan mendefinisikan variabel pada kelas `MyClass`:"
   ]
  },
  {
   "cell_type": "code",
   "execution_count": 4,
   "metadata": {},
   "outputs": [],
   "source": [
    "class MyClass:\n",
    "    var = 9"
   ]
  },
  {
   "cell_type": "markdown",
   "metadata": {},
   "source": [
    "Untuk memanggil variabel tersebut, kita panggil instansi yang telah dibuat, diikuti dengan titik, lalu nama variabel tersebut"
   ]
  },
  {
   "cell_type": "code",
   "execution_count": 5,
   "metadata": {},
   "outputs": [
    {
     "name": "stdout",
     "output_type": "stream",
     "text": [
      "9\n",
      "9\n"
     ]
    }
   ],
   "source": [
    "obj_1 = MyClass()\n",
    "print(obj_1.var)\n",
    "\n",
    "obj_2 = MyClass()\n",
    "print(obj_2.var)"
   ]
  },
  {
   "cell_type": "markdown",
   "metadata": {},
   "source": [
    "## *Method* Instansi"
   ]
  },
  {
   "cell_type": "markdown",
   "metadata": {},
   "source": [
    "Suatu fungsi yang didefinisikan pada class disebut *method*. Suatu *method* dari instansi membutuhkan instansi tersebut agar bisa dipanggil. Dalam membuat method, parameter pertama selalu `self`. `self` adalah parameter dari instansi yang dibuat."
   ]
  },
  {
   "cell_type": "code",
   "execution_count": 2,
   "metadata": {},
   "outputs": [],
   "source": [
    "class MyClass:\n",
    "    var = 9\n",
    "\n",
    "    def firstM(self):\n",
    "        print('hello, World')"
   ]
  },
  {
   "cell_type": "code",
   "execution_count": 3,
   "metadata": {},
   "outputs": [
    {
     "name": "stdout",
     "output_type": "stream",
     "text": [
      "9\n",
      "hello, World\n"
     ]
    }
   ],
   "source": [
    "obj = MyClass()\n",
    "print(obj.var)\n",
    "obj.firstM()"
   ]
  },
  {
   "cell_type": "markdown",
   "metadata": {},
   "source": [
    "## Enkapsulasi"
   ]
  },
  {
   "cell_type": "markdown",
   "metadata": {},
   "source": [
    "Enkapsulasi adalah salah satu teknik fundamental pada OOP. Enkapsulasi memberikan mekanisme dalam me-*restrict* akses ke beberapa komponen dari objek. Aksesnya biasanya diambil dari metode yang umumnya disebut *getters* and *setters*."
   ]
  },
  {
   "cell_type": "code",
   "execution_count": 4,
   "metadata": {},
   "outputs": [],
   "source": [
    "class MyClass:\n",
    "    def setAge(self, num):\n",
    "        self.age = num\n",
    "    \n",
    "    def getAge(self):\n",
    "        return self.age"
   ]
  },
  {
   "cell_type": "code",
   "execution_count": 5,
   "metadata": {},
   "outputs": [
    {
     "name": "stdout",
     "output_type": "stream",
     "text": [
      "20\n"
     ]
    }
   ],
   "source": [
    "kobo = MyClass()\n",
    "kobo.setAge(20)\n",
    "print(kobo.getAge())"
   ]
  },
  {
   "cell_type": "markdown",
   "metadata": {},
   "source": [
    "## `__init__`"
   ]
  },
  {
   "cell_type": "markdown",
   "metadata": {},
   "source": [
    "`__init__`, sesuai namanya, adala inisialisasi dari suatu class. `__init__` akan dipanggil langsung setela suatu instansi dibuat. `__init__` juga terkadang disebut sebagai konstruktor.\n",
    "\n",
    "Banyak class yang lebih baik membuat objek yang sudah mempunyai suatu *initial state*. Di sinilah `__init__` digunakan:"
   ]
  },
  {
   "cell_type": "code",
   "execution_count": 6,
   "metadata": {},
   "outputs": [],
   "source": [
    "class MyClass:\n",
    "    def __init__(self, aaa, bbb):\n",
    "        self.a = aaa\n",
    "        self.b = bbb"
   ]
  },
  {
   "cell_type": "markdown",
   "metadata": {},
   "source": [
    "Untuk memanggil konstruktor `__init__` nya, kita berikan parameter yang sesuai saat membuat instansi baru (dalam contoh di atas berarti `aaa` dan `bbb`)."
   ]
  },
  {
   "cell_type": "code",
   "execution_count": 7,
   "metadata": {},
   "outputs": [
    {
     "name": "stdout",
     "output_type": "stream",
     "text": [
      "4.5 3\n"
     ]
    }
   ],
   "source": [
    "x = MyClass(4.5, 3)\n",
    "print(x.a, x.b)"
   ]
  },
  {
   "cell_type": "markdown",
   "metadata": {},
   "source": [
    "## Atribut `class`"
   ]
  },
  {
   "cell_type": "markdown",
   "metadata": {},
   "source": [
    "Atribut yang didefinisikan pada class akan disebut sebagai atribut class, dan atribut yang didefinisikan pada fungsi, atau atribut yang didefinisikan untuk instansi akan disebut 'atribut instansi'. Saat pendefinisian, atribut ini tidak menggunakan *prefix* `self`, karena merupakan atribut dari suatu class dan bukan atribut dari suatu instansi.\n",
    "\n",
    "Atribut class dapat diakses oleh class itu sendiri (class attribute) ataupun oleh suatu instansi (instance attribute). Dengan kata lain, suatu instansi dapat mengakses atribut instansi sekaligus atribut kelas."
   ]
  },
  {
   "cell_type": "code",
   "execution_count": 8,
   "metadata": {},
   "outputs": [],
   "source": [
    "class myclass:\n",
    "    age = 21"
   ]
  },
  {
   "cell_type": "code",
   "execution_count": 9,
   "metadata": {},
   "outputs": [
    {
     "data": {
      "text/plain": [
       "21"
      ]
     },
     "execution_count": 9,
     "metadata": {},
     "output_type": "execute_result"
    }
   ],
   "source": [
    "myclass.age"
   ]
  },
  {
   "cell_type": "code",
   "execution_count": 10,
   "metadata": {},
   "outputs": [
    {
     "data": {
      "text/plain": [
       "21"
      ]
     },
     "execution_count": 10,
     "metadata": {},
     "output_type": "execute_result"
    }
   ],
   "source": [
    "x = myclass()\n",
    "x.age"
   ]
  },
  {
   "cell_type": "markdown",
   "metadata": {},
   "source": [
    "Atribut class dapat ditimpa pada instansi"
   ]
  },
  {
   "cell_type": "code",
   "execution_count": 11,
   "metadata": {},
   "outputs": [],
   "source": [
    "class myclass:\n",
    "    classy = 'Class Attrib'"
   ]
  },
  {
   "cell_type": "code",
   "execution_count": 12,
   "metadata": {},
   "outputs": [
    {
     "name": "stdout",
     "output_type": "stream",
     "text": [
      "Class Attrib\n"
     ]
    }
   ],
   "source": [
    "dd = myclass()\n",
    "print(dd.classy)"
   ]
  },
  {
   "cell_type": "markdown",
   "metadata": {},
   "source": [
    "## Data class dan data instansi"
   ]
  },
  {
   "cell_type": "markdown",
   "metadata": {},
   "source": [
    "Pada magian ini, akan dijelaskan bagaimana data class berhubungan dengan data instansi. Kita dapat menyimpan suatu data baik pada class maupun pada instansi. Ketika kita membuat suatu class, kita menentukan apaka suatu data lebih cocok disimpan di instansi atau di kelas.\n",
    "\n",
    "Suatu instansi dapat mengakses data class yang membuatnya. Ketika kita membuat banyak instansi, maka instansi-instansi tersebut dapat mengakses atribut instansinya masing-masing, serta mengakses data class keseluruhan. Maka, data class adalah data yang dapat diakses semua instansi yang dimuat di class tersebut."
   ]
  },
  {
   "cell_type": "code",
   "execution_count": 13,
   "metadata": {},
   "outputs": [],
   "source": [
    "class InstanceCounter:\n",
    "    count = 0  # Atribut class, dapat diakses oleh semua instansi\n",
    "\n",
    "    def __init__(self, val):\n",
    "        self.val = val\n",
    "        InstanceCounter.count += 1 # Menambahkan value dari atribut class\n",
    "    \n",
    "    def set_val(self, newval):\n",
    "        self.val = newval\n",
    "    \n",
    "    def get_val(self):\n",
    "        return self.val\n",
    "\n",
    "    def get_count(self):\n",
    "        return InstanceCounter.count"
   ]
  },
  {
   "cell_type": "code",
   "execution_count": 14,
   "metadata": {},
   "outputs": [
    {
     "name": "stdout",
     "output_type": "stream",
     "text": [
      "val of obj: 9\n",
      "count: 3\n",
      "val of obj: 18\n",
      "count: 3\n",
      "val of obj: 27\n",
      "count: 3\n"
     ]
    }
   ],
   "source": [
    "a = InstanceCounter(9)\n",
    "b = InstanceCounter(18)\n",
    "c = InstanceCounter(27)\n",
    "\n",
    "for obj in (a, b, c):\n",
    "    print('val of obj: %s' % (obj.get_val())) # Nilai inisialisasi (9, 18, 27)\n",
    "    print('count: %s' % (obj.get_count())) # Nilai dari variabel count (akan selalu 3)"
   ]
  },
  {
   "cell_type": "markdown",
   "metadata": {},
   "source": [
    "## *Inheritance*"
   ]
  },
  {
   "cell_type": "markdown",
   "metadata": {},
   "source": [
    "Salah satu keuntungan dari OOP adalah kemampuannya untuk me-*reuse* sesuatu. Salah satu mekanismenya adalah *inheritance*. *Inheritance* adalah mekanisme yang membuat para programmer dapat membuat suatu class dasar, lalu diperluas ke class yang lebih specific. Dengan kata lain, kita dapat membuat class di dalam class.\n",
    "\n",
    "Menggunakan *inheritance* ini, kita dapat menggunakan data pada class dasar, lalu ditambah data yang spesifik pada class spesifik.\n",
    "\n",
    "Dalam terminologi OOP, ketika suatu class X memperluas class Y, maka Y disebut sebagai superclass/parent class/base class, dan X disebut sebagai subclass/child class/derived class."
   ]
  },
  {
   "cell_type": "markdown",
   "metadata": {},
   "source": [
    "Syntax dari *derived class* ini adalah:\n",
    "\n",
    "```{.python}\n",
    "class BaseClass:\n",
    "    <body>\n",
    "class DerivedClass(BaseClass):\n",
    "    <body>\n",
    "```"
   ]
  },
  {
   "cell_type": "markdown",
   "metadata": {},
   "source": [
    "Instansi pada derived class dapat mengakses atribut pada base class:"
   ]
  },
  {
   "cell_type": "code",
   "execution_count": 15,
   "metadata": {},
   "outputs": [],
   "source": [
    "class Date:\n",
    "    def get_date(self):\n",
    "        return '11-10-2022'\n",
    "\n",
    "class Time(Date):\n",
    "    def get_time(self):\n",
    "        return '08:30'"
   ]
  },
  {
   "cell_type": "code",
   "execution_count": 16,
   "metadata": {},
   "outputs": [
    {
     "name": "stdout",
     "output_type": "stream",
     "text": [
      "Data dari class Date:  11-10-2022\n",
      "Data dari class Time:  08:30\n",
      "Data dari class Date, dipanggil dari class Time:  11-10-2022\n"
     ]
    }
   ],
   "source": [
    "dt = Date()\n",
    "print('Data dari class Date: ', dt.get_date())\n",
    "tm = Time()\n",
    "print('Data dari class Time: ', tm.get_time())\n",
    "\n",
    "# Memanggil get date dari instansi Time\n",
    "print('Data dari class Date, dipanggil dari class Time: ', tm.get_date())"
   ]
  },
  {
   "cell_type": "markdown",
   "metadata": {},
   "source": [
    "Hierarki untuk lookup atribut dari suatu instansi:\n",
    "\n",
    "* Instansi\n",
    "* Class\n",
    "* Parent class yang mem-parent-kan class sebelumnya"
   ]
  },
  {
   "cell_type": "markdown",
   "metadata": {},
   "source": [
    "Sebagai contoh, kita akan membuat beberapa class.\n",
    "\n",
    "* Pokemon: Kelas yang berisi Pokemon (ceritanya)\n",
    "* Flying: Subclass dari Pokemon\n",
    "* Ground: Subclass dari Pokemon\n",
    "\n",
    "Konstruktor dari subclass akan selalu memanggil konstruktor parent class nya terlebi dahulu, lalu meng-assign attribut untuk subclass tersebut."
   ]
  },
  {
   "cell_type": "code",
   "execution_count": 17,
   "metadata": {},
   "outputs": [],
   "source": [
    "class Pokemon:\n",
    "\n",
    "    def __init__(self, name):\n",
    "        self.name = name\n",
    "    def faint(self):\n",
    "        print('%s fainted.' % (self.name))\n",
    "\n",
    "class Flying(Pokemon):\n",
    "    def SkyAttack(self):\n",
    "        print('%s used Sky Attack' % (self.name))\n",
    "\n",
    "class Ground(Pokemon):\n",
    "    def Eartquake(self):\n",
    "        print('%s used Earthquake' % (self.name))"
   ]
  },
  {
   "cell_type": "code",
   "execution_count": 18,
   "metadata": {},
   "outputs": [
    {
     "name": "stdout",
     "output_type": "stream",
     "text": [
      "Moltres used Sky Attack\n",
      "Diglett used Earthquake\n",
      "Moltres fainted.\n",
      "Diglett fainted.\n"
     ]
    }
   ],
   "source": [
    "f = Flying('Moltres')\n",
    "g = Ground('Diglett')\n",
    "\n",
    "# Akses class sendiri\n",
    "f.SkyAttack()\n",
    "g.Eartquake()\n",
    "\n",
    "# Akses parent class\n",
    "f.faint()\n",
    "g.faint()"
   ]
  },
  {
   "cell_type": "code",
   "execution_count": 19,
   "metadata": {},
   "outputs": [
    {
     "ename": "AttributeError",
     "evalue": "'Flying' object has no attribute 'Eartquake'",
     "output_type": "error",
     "traceback": [
      "\u001b[0;31m---------------------------------------------------------------------------\u001b[0m",
      "\u001b[0;31mAttributeError\u001b[0m                            Traceback (most recent call last)",
      "\u001b[1;32m/Users/Bisma/Documents/Files/University, S1/2022 2024 Aslab/Modul Struktur Data 2023/Lab Praktikum Departemen Matematika FMIPA UI/modul-prak/semuahalaman/modulprak/2022/ganjil/strukdat/Strukdat2022_Modul03.ipynb Cell 50\u001b[0m line \u001b[0;36m2\n\u001b[1;32m      <a href='vscode-notebook-cell:/Users/Bisma/Documents/Files/University%2C%20S1/2022%202024%20Aslab/Modul%20Struktur%20Data%202023/Lab%20Praktikum%20Departemen%20Matematika%20FMIPA%20UI/modul-prak/semuahalaman/modulprak/2022/ganjil/strukdat/Strukdat2022_Modul03.ipynb#Y101sZmlsZQ%3D%3D?line=0'>1</a>\u001b[0m \u001b[39m# Error karena tidak bisa mengakses class\u001b[39;00m\n\u001b[0;32m----> <a href='vscode-notebook-cell:/Users/Bisma/Documents/Files/University%2C%20S1/2022%202024%20Aslab/Modul%20Struktur%20Data%202023/Lab%20Praktikum%20Departemen%20Matematika%20FMIPA%20UI/modul-prak/semuahalaman/modulprak/2022/ganjil/strukdat/Strukdat2022_Modul03.ipynb#Y101sZmlsZQ%3D%3D?line=1'>2</a>\u001b[0m f\u001b[39m.\u001b[39;49mEartquake\n",
      "\u001b[0;31mAttributeError\u001b[0m: 'Flying' object has no attribute 'Eartquake'"
     ]
    }
   ],
   "source": [
    "# Error karena tidak bisa mengakses class\n",
    "f.Eartquake"
   ]
  },
  {
   "cell_type": "code",
   "execution_count": null,
   "metadata": {},
   "outputs": [],
   "source": []
  }
 ],
 "metadata": {
  "kernelspec": {
   "display_name": "Python 3",
   "language": "python",
   "name": "python3"
  },
  "language_info": {
   "codemirror_mode": {
    "name": "ipython",
    "version": 3
   },
   "file_extension": ".py",
   "mimetype": "text/x-python",
   "name": "python",
   "nbconvert_exporter": "python",
   "pygments_lexer": "ipython3",
   "version": "3.10.11"
  },
  "orig_nbformat": 4
 },
 "nbformat": 4,
 "nbformat_minor": 2
}
