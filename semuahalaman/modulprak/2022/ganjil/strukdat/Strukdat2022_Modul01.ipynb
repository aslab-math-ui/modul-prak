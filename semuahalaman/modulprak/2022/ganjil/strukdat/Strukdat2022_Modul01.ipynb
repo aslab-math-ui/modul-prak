{
 "cells": [
  {
   "cell_type": "markdown",
   "metadata": {},
   "source": [
    "# Modul 1 | Tipe Data di Python"
   ]
  },
  {
   "cell_type": "markdown",
   "metadata": {},
   "source": [
    "Kembali ke [Struktur Data](strukdat2022.qmd)"
   ]
  },
  {
   "cell_type": "markdown",
   "metadata": {},
   "source": [
    "Selamat dataing di praktikum pertama StrukDat. Pada pertemuan pertama akan di-review lagi beberapa materi AlProg dengan beberapa tambahan. Kita juga akan memperkenalkan kelas objek baru, yaitu `dict`."
   ]
  },
  {
   "cell_type": "markdown",
   "metadata": {},
   "source": [
    "## Review Tipe Data\n",
    "Pada AlProg, ada beberapa jenis tipe data yang kalian pelajari, yaitu:\n",
    "\n",
    "- Numerik: `int`, `float`, `complex`\n",
    "- Teks: `string`\n",
    "- List, Tuple"
   ]
  },
  {
   "cell_type": "markdown",
   "metadata": {},
   "source": [
    "## Tipe Numerik"
   ]
  },
  {
   "cell_type": "code",
   "execution_count": 1,
   "metadata": {},
   "outputs": [
    {
     "name": "stdout",
     "output_type": "stream",
     "text": [
      "<class 'int'>\n",
      "<class 'int'>\n"
     ]
    }
   ],
   "source": [
    "# Tipe Data Integer\n",
    "a1 = 5\n",
    "a2 = -180\n",
    "\n",
    "# Mengecek tipe data menggunakan syntax type\n",
    "print(type(a1))\n",
    "print(type(a2))"
   ]
  },
  {
   "cell_type": "code",
   "execution_count": 2,
   "metadata": {},
   "outputs": [
    {
     "name": "stdout",
     "output_type": "stream",
     "text": [
      "<class 'float'>\n",
      "<class 'float'>\n",
      "<class 'float'>\n"
     ]
    }
   ],
   "source": [
    "# Tipe data float\n",
    "b1 = 2.54\n",
    "b2 = -3.141592\n",
    "b3 = float('inf') # memasukkan infinity sebagai float\n",
    "\n",
    "# Mengecek tipe data\n",
    "print(type(b1))\n",
    "print(type(b2))\n",
    "print(type(b3))"
   ]
  },
  {
   "cell_type": "code",
   "execution_count": 3,
   "metadata": {},
   "outputs": [
    {
     "name": "stdout",
     "output_type": "stream",
     "text": [
      "-175\n",
      "-7.979643680000001\n",
      "59.618879710940476\n",
      "3.141592\n",
      "<class 'float'>\n"
     ]
    }
   ],
   "source": [
    "# Operasi pada numerik\n",
    "print(a1 + a2)\n",
    "print(b1 * b2)\n",
    "print(a1 ** b1)\n",
    "print(abs(b2))\n",
    "\n",
    "# Jika int bertemu float, maka tipe datanya akan menjadi float,\n",
    "# walaupun float nya sebenarnya bulat\n",
    "print(type(a1 ** b1))"
   ]
  },
  {
   "cell_type": "markdown",
   "metadata": {},
   "source": [
    "## Tipe Teks"
   ]
  },
  {
   "cell_type": "code",
   "execution_count": 4,
   "metadata": {},
   "outputs": [
    {
     "name": "stdout",
     "output_type": "stream",
     "text": [
      "<class 'str'>\n",
      "<class 'str'>\n"
     ]
    }
   ],
   "source": [
    "# Tipe Data String\n",
    "c1 = 'string biasa'\n",
    "c2 = '''string\n",
    "sampe\n",
    "bawah'''\n",
    "\n",
    "# Mengecek Tipe Data\n",
    "print(type(c1))\n",
    "print(type(c2))"
   ]
  },
  {
   "cell_type": "markdown",
   "metadata": {},
   "source": [
    "Pada `string` dapat dilakukan penggabungan (`s + s`), penggandaan (`s * n`), *slicing* (`s[a:b]`), cari panjang (`len`), maksimum-minimum (max-min di sini diliat dari urutannya di ASCII), dll. *Method* bisa lebih banyak lagi"
   ]
  },
  {
   "cell_type": "code",
   "execution_count": 5,
   "metadata": {},
   "outputs": [
    {
     "name": "stdout",
     "output_type": "stream",
     "text": [
      "ayamgeprek\n",
      "es jerukes jerukes jerukes jerukes jeruk\n"
     ]
    }
   ],
   "source": [
    "print('ayam' + 'geprek')\n",
    "print(5 * 'es jeruk') # dia ga nambahin whitespace yaa"
   ]
  },
  {
   "cell_type": "markdown",
   "metadata": {},
   "source": [
    "## List, Tuple, dan Set"
   ]
  },
  {
   "cell_type": "markdown",
   "metadata": {},
   "source": [
    "Ketiganya dapat digunakan untuk menyimpan banyak item sekaligus. Karena list sudah dijelaskan, akan dijelaskan mengenai tuple dan set"
   ]
  },
  {
   "cell_type": "code",
   "execution_count": 6,
   "metadata": {},
   "outputs": [
    {
     "name": "stdout",
     "output_type": "stream",
     "text": [
      "('k', 'a', 'c', 'a', 'n', 'g')\n"
     ]
    }
   ],
   "source": [
    "# Membuat tuple\n",
    "t1 = (2, 3)\n",
    "t2 = (4, 'abc')\n",
    "t3 = tuple('kacang')\n",
    "\n",
    "print(t3)"
   ]
  },
  {
   "cell_type": "markdown",
   "metadata": {},
   "source": [
    "Tuple dapat dianggap sebagai list yang isinya tidak bisa diganti, ditambah, ataupun dihapus. Namun masih berlaku operasi list yang tidak termasuk editing. Kelebihan tuple adalah bisa menjadi key untuk dict (akan dijelaskan kemudian)"
   ]
  },
  {
   "cell_type": "code",
   "execution_count": 7,
   "metadata": {},
   "outputs": [
    {
     "name": "stdout",
     "output_type": "stream",
     "text": [
      "{'bebek', 'kuda', 'ayam'}\n",
      "{'k', 'g', 'c', 'a', 'n'}\n"
     ]
    }
   ],
   "source": [
    "# Membuat set\n",
    "s1 = {'ayam', 'bebek', 'ayam', 'kuda'}\n",
    "s2 = set(list('kacang'))\n",
    "\n",
    "print(s1)\n",
    "print(s2)"
   ]
  },
  {
   "cell_type": "markdown",
   "metadata": {},
   "source": [
    "Set dianggap sebagai list yang tidak mempunyai urutan, sehingga tidak ada indexing dan slicing. Kelebihan utamanya adalah set hanya bisa mempunyai elemen yang unik (tidak bisa ada elemen yang sama di set). Hal ini berguna jika kalian mempunyai list yang kalian ingin hilangkan dobel-dobelnya (efek sampingnya, indeksnya jadi hilang sehingga bisa saja isinya tak beraturan)."
   ]
  },
  {
   "cell_type": "markdown",
   "metadata": {},
   "source": [
    "Beberapa operator himpunan matematika juga ada di set, seperti subset, superset, disjoint, union, intersection, dll."
   ]
  },
  {
   "cell_type": "code",
   "execution_count": 8,
   "metadata": {},
   "outputs": [
    {
     "name": "stdout",
     "output_type": "stream",
     "text": [
      "{'t', 'm', 'e', 'i', 'k', 'a'}\n",
      "{'t', 'i', 'k', 'a', 's'}\n",
      "{'t', 'k', 'r', 'i', 'a', 'u'}\n"
     ]
    }
   ],
   "source": [
    "s3 = set('matematika')\n",
    "s4 = set('statistika')\n",
    "s5 = set('aktuaria')\n",
    "\n",
    "print(s3)\n",
    "print(s4)\n",
    "print(s5)"
   ]
  },
  {
   "cell_type": "code",
   "execution_count": 9,
   "metadata": {},
   "outputs": [
    {
     "name": "stdout",
     "output_type": "stream",
     "text": [
      "{'t', 'a', 'i', 'k'}\n",
      "{'t', 'm', 'e', 'k', 'i', 'a', 's'}\n"
     ]
    }
   ],
   "source": [
    "print(s3 & s4) # Irisan\n",
    "print(s3 | s4) # Gabungan"
   ]
  },
  {
   "cell_type": "markdown",
   "metadata": {},
   "source": [
    "## List Comprehension"
   ]
  },
  {
   "cell_type": "markdown",
   "metadata": {},
   "source": [
    "Terkadang kita membangun list menggunakan `for` loop, dan for loop tersebut bisa saja memakan beberapa *line* dari kode kalian. Dengan list comprehension, kita dapat membangun list tersebut hanya menggunakan 1 line dan bisa saja kode kita menjadi lebih enak untuk dibaca."
   ]
  },
  {
   "cell_type": "markdown",
   "metadata": {},
   "source": [
    "Sebagai contoh, kita ingin membuat list yang berisi nilai dari $2^x$:"
   ]
  },
  {
   "cell_type": "code",
   "execution_count": 10,
   "metadata": {},
   "outputs": [
    {
     "name": "stdout",
     "output_type": "stream",
     "text": [
      "[1, 2, 4, 8, 16, 32]\n"
     ]
    }
   ],
   "source": [
    "expo = []\n",
    "for i in range(6):\n",
    "    expo.append(2**i)\n",
    "\n",
    "print(expo)"
   ]
  },
  {
   "cell_type": "markdown",
   "metadata": {},
   "source": [
    "Jika menggunakan list comprehension, akan menjadi seperti ini:"
   ]
  },
  {
   "cell_type": "code",
   "execution_count": 11,
   "metadata": {},
   "outputs": [
    {
     "name": "stdout",
     "output_type": "stream",
     "text": [
      "[1, 2, 4, 8, 16, 32]\n"
     ]
    }
   ],
   "source": [
    "expo = [2 ** i for i in range(6)]\n",
    "\n",
    "print(expo)"
   ]
  },
  {
   "cell_type": "markdown",
   "metadata": {},
   "source": [
    "List comprehension dibuat dengan membuat list yang berisi suatu ekspresi lalu diikuti dengan `for`, dan jika diinginkan, bisa ditambah lagi for atau if. Hasilnya akan membuat seolah kita menjalankan `for` loop untuk membuat list tersebut, namun hanya menggunakan satu line.\n",
    "\n",
    "Seperti disinggung sebelumnya, list comprehension dapat menggunakan lebih dari satu variabel pada ekspresinya. Hal ini ekivalen dengan jika kita menggunakan nested `for` loop untuk membuat list tersebut."
   ]
  },
  {
   "cell_type": "markdown",
   "metadata": {},
   "source": [
    "Sebagai contoh:"
   ]
  },
  {
   "cell_type": "code",
   "execution_count": 12,
   "metadata": {},
   "outputs": [
    {
     "name": "stdout",
     "output_type": "stream",
     "text": [
      "[(1, 2), (1, 4), (1, 6), (3, 2), (3, 4), (3, 6), (5, 2), (5, 4), (5, 6)]\n"
     ]
    }
   ],
   "source": [
    "crossprod = [(x, y) for x in [1, 3, 5] for y in [2, 4, 6]]\n",
    "print(crossprod)"
   ]
  },
  {
   "cell_type": "markdown",
   "metadata": {},
   "source": [
    "Potongan kode di atas ekivalen dengan:"
   ]
  },
  {
   "cell_type": "code",
   "execution_count": 13,
   "metadata": {},
   "outputs": [
    {
     "name": "stdout",
     "output_type": "stream",
     "text": [
      "[(1, 2), (1, 4), (1, 6), (3, 2), (3, 4), (3, 6), (5, 2), (5, 4), (5, 6)]\n"
     ]
    }
   ],
   "source": [
    "crossprod = []\n",
    "for x in [1, 3, 5]:\n",
    "    for y in [2, 4, 6]:\n",
    "        crossprod.append((x, y))\n",
    "\n",
    "print(crossprod)"
   ]
  },
  {
   "cell_type": "markdown",
   "metadata": {},
   "source": [
    "Ingat bahwa urutan pembacaan setiap ekspresi `for` dan `if` pada list comprehension adalah dari kiri ke kanan."
   ]
  },
  {
   "cell_type": "markdown",
   "metadata": {},
   "source": [
    "List comprehension pun juga bisa di-nesting."
   ]
  },
  {
   "cell_type": "code",
   "execution_count": 14,
   "metadata": {},
   "outputs": [
    {
     "name": "stdout",
     "output_type": "stream",
     "text": [
      "[[1, 4, 7], [2, 5, 8], [3, 6, 9]]\n"
     ]
    }
   ],
   "source": [
    "mat = [[1, 2, 3],\n",
    "       [4, 5, 6],\n",
    "       [7, 8, 9]]\n",
    "\n",
    "mattr = [[ro[i] for ro in mat] for i in range(len(mat))]\n",
    "print(mattr)"
   ]
  },
  {
   "cell_type": "markdown",
   "metadata": {},
   "source": [
    "## Dictionary"
   ]
  },
  {
   "cell_type": "markdown",
   "metadata": {},
   "source": [
    "Dictionary dapat dianggap sebagai set yang tiap elemennya memiliki 2 jenis nilai, yaitu key dan value. Strukturnya adalah `{key1:value1, key2:value2, ....}`."
   ]
  },
  {
   "cell_type": "code",
   "execution_count": 15,
   "metadata": {},
   "outputs": [],
   "source": [
    "# Membuat dictionary\n",
    "d1 = {'a': 1, 'b': 2, 'c': 3}\n",
    "d2 = {'kopi': 6000, 'teh': 5000, 'susu': 7000}"
   ]
  },
  {
   "cell_type": "markdown",
   "metadata": {},
   "source": [
    "Tidak seperti list yang diindeks menggunakan suatu range bilangan, dictionary diindeks meenggunakan key. Tipe data dari value boleh bebas, namun untuk key harus yang immutable (agak oversimplification tapi artinya tidak bisa diubah), sehingga tuple juga berguna untuk menjadi key dari dictionary"
   ]
  },
  {
   "cell_type": "code",
   "execution_count": 16,
   "metadata": {},
   "outputs": [
    {
     "name": "stdout",
     "output_type": "stream",
     "text": [
      "{(2, 3): 6, (3, 4): 12}\n"
     ]
    }
   ],
   "source": [
    "d3 = {(2, 3): 6, (3, 4): 12}\n",
    "print(d3)"
   ]
  },
  {
   "cell_type": "markdown",
   "metadata": {},
   "source": [
    "Untuk memanggil suatu value, panggil layaknya list, namun indeksnya menggunakan key"
   ]
  },
  {
   "cell_type": "code",
   "execution_count": 17,
   "metadata": {},
   "outputs": [
    {
     "name": "stdout",
     "output_type": "stream",
     "text": [
      "12\n"
     ]
    }
   ],
   "source": [
    "print(d3[(3, 4)])"
   ]
  },
  {
   "cell_type": "markdown",
   "metadata": {},
   "source": [
    "Untuk meneambah suatu pasangan key:value baru, cukup menggunakan `d[key] = value`, dan akan masuk ke dict tersebut."
   ]
  },
  {
   "cell_type": "code",
   "execution_count": 18,
   "metadata": {},
   "outputs": [
    {
     "name": "stdout",
     "output_type": "stream",
     "text": [
      "{(2, 3): 6, (3, 4): 12, (3, 5): 15}\n"
     ]
    }
   ],
   "source": [
    "d3[(3, 5)] = 15\n",
    "print(d3)"
   ]
  },
  {
   "cell_type": "markdown",
   "metadata": {},
   "source": [
    "Jika ingin menghapus elemen pada dict, dapat menggunakan `del`"
   ]
  },
  {
   "cell_type": "code",
   "execution_count": 19,
   "metadata": {},
   "outputs": [
    {
     "name": "stdout",
     "output_type": "stream",
     "text": [
      "{(3, 4): 12, (3, 5): 15}\n"
     ]
    }
   ],
   "source": [
    "del d3[(2, 3)]\n",
    "print(d3)"
   ]
  }
 ],
 "metadata": {
  "kernelspec": {
   "display_name": "Python 3",
   "language": "python",
   "name": "python3"
  },
  "language_info": {
   "codemirror_mode": {
    "name": "ipython",
    "version": 3
   },
   "file_extension": ".py",
   "mimetype": "text/x-python",
   "name": "python",
   "nbconvert_exporter": "python",
   "pygments_lexer": "ipython3",
   "version": "3.10.11"
  },
  "orig_nbformat": 4
 },
 "nbformat": 4,
 "nbformat_minor": 2
}
