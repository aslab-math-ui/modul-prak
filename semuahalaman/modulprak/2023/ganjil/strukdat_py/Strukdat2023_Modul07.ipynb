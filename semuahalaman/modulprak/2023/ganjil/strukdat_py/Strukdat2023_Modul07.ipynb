{
 "cells": [
  {
   "cell_type": "markdown",
   "metadata": {},
   "source": [
    "# Modul 7 Struktur Data: *Queue* dan berbagai implementasinya"
   ]
  },
  {
   "cell_type": "markdown",
   "metadata": {},
   "source": [
    "Kembali ke [Struktur Data (dengan Python)](strukdat2023.qmd)"
   ]
  },
  {
   "cell_type": "markdown",
   "metadata": {},
   "source": [
    "Di praktikum kali ini, kita akan membahas tentang struktur data *queue* serta berbagai \"implementasi\"nya dalam Python (yaitu berbagai cara membuat struktur data *queue* di Python), baik menggunakan *array* maupun *linked list*."
   ]
  },
  {
   "cell_type": "markdown",
   "metadata": {},
   "source": [
    "*Queue* itu sendiri adalah suatu struktur data dengan dua ujung, di mana data bisa dimasukkan dari salah satu ujung tertentu (yang disebut *rear*) dan data bisa dikeluarkan dari ujung yang satunya lagi (yang disebut *front*). *Queue* dikatakan menganut prinsip FIFO (*First In First Out*), karena data yang pertama masuk akan menjadi data yang pertama keluar."
   ]
  },
  {
   "cell_type": "markdown",
   "metadata": {},
   "source": [
    "Kita akan menggunakan *array* dari numpy, sehingga perlu melakukan import:"
   ]
  },
  {
   "cell_type": "code",
   "execution_count": 18,
   "metadata": {},
   "outputs": [],
   "source": [
    "import numpy as np"
   ]
  },
  {
   "cell_type": "markdown",
   "metadata": {},
   "source": [
    "## Implementasi (*linear*) *queue* dengan *array*"
   ]
  },
  {
   "cell_type": "code",
   "execution_count": 19,
   "metadata": {},
   "outputs": [],
   "source": [
    "class ArrayLinQueue:\n",
    "    def __init__(self, dtype, array_max):\n",
    "        self.dtype = dtype\n",
    "        self.array_max = array_max\n",
    "        self.array = np.empty(array_max, dtype=dtype)\n",
    "        self.front = -1\n",
    "        self.rear = -1\n",
    "    \n",
    "    def get_size(self):\n",
    "        size = (self.rear - self.front) + 1\n",
    "        return size\n",
    "\n",
    "    def get_capacity_array(self):\n",
    "        return self.array_max\n",
    "\n",
    "    def get_capacity_queue(self):\n",
    "        if self.front == -1:\n",
    "            capacity_queue = self.array_max\n",
    "        else:\n",
    "            capacity_queue = self.array_max - self.front\n",
    "        return capacity_queue\n",
    "    \n",
    "    def is_empty(self):\n",
    "        if self.front == -1:\n",
    "            return True\n",
    "        else:\n",
    "            return False\n",
    "    \n",
    "    def is_full(self):\n",
    "        if self.rear == self.array_max - 1:\n",
    "            return True\n",
    "        else:\n",
    "            return False\n",
    "    \n",
    "    def enqueue(self, newdata):\n",
    "        if self.is_full():\n",
    "            print(\"Error enqueue: queue sudah penuh sebelumnya\")\n",
    "        elif self.front == -1:\n",
    "            self.front += 1\n",
    "            self.rear += 1\n",
    "            self.array[self.rear] = newdata\n",
    "        else:\n",
    "            self.rear += 1\n",
    "            self.array[self.rear] = newdata\n",
    "    \n",
    "    def peek(self):\n",
    "        if self.is_empty():\n",
    "            print(\"Error peek: queue sedang kosong\")\n",
    "        else:\n",
    "            return self.array[self.front]\n",
    "    \n",
    "    def dequeue(self):\n",
    "        if self.is_empty():\n",
    "            print(\"Error dequeue: queue sudah kosong sebelumnya\")\n",
    "            return None\n",
    "        elif (self.get_size() == 1):\n",
    "            # Jika di queue hanya ada satu elemen, dan ingin di-dequeue,\n",
    "            # maka queue akan kosong setelah itu\n",
    "            output = self.array[self.front]\n",
    "            self.front = -1\n",
    "            self.rear = -1\n",
    "            return output\n",
    "        else:\n",
    "            output = self.array[self.front]\n",
    "            self.front += 1\n",
    "            return output\n",
    "    \n",
    "    def print_storage(self):\n",
    "        print(self.array)\n",
    "\n",
    "    def print_queue(self):\n",
    "        print(\"front : \", end=\"\")\n",
    "        if self.is_empty():\n",
    "            print(\"(tidak ada data) : rear\")\n",
    "        else:\n",
    "            for i in range(self.front, self.rear): # i = front, ..., rear-1\n",
    "                print(self.array[i], end=\" | \")\n",
    "            print(self.array[self.rear], end=\"\") # untuk i = rear\n",
    "            print(\" : rear\")"
   ]
  },
  {
   "cell_type": "code",
   "execution_count": 33,
   "metadata": {},
   "outputs": [],
   "source": [
    "arraylinqueue = ArrayLinQueue(int, 5)"
   ]
  },
  {
   "cell_type": "code",
   "execution_count": 34,
   "metadata": {},
   "outputs": [
    {
     "name": "stdout",
     "output_type": "stream",
     "text": [
      "front : (tidak ada data) : rear\n"
     ]
    }
   ],
   "source": [
    "arraylinqueue.print_queue()"
   ]
  },
  {
   "cell_type": "code",
   "execution_count": 35,
   "metadata": {},
   "outputs": [
    {
     "name": "stdout",
     "output_type": "stream",
     "text": [
      "[                  0 4602678819172646912 4607182418800017408\n",
      " 4609434218613702656 4611686018427387904]\n"
     ]
    }
   ],
   "source": [
    "arraylinqueue.print_storage()"
   ]
  },
  {
   "cell_type": "code",
   "execution_count": 36,
   "metadata": {},
   "outputs": [],
   "source": [
    "arraylinqueue.enqueue(-18)\n",
    "arraylinqueue.enqueue(67)\n",
    "arraylinqueue.enqueue(32)"
   ]
  },
  {
   "cell_type": "code",
   "execution_count": 37,
   "metadata": {},
   "outputs": [
    {
     "name": "stdout",
     "output_type": "stream",
     "text": [
      "front : -18 | 67 | 32 : rear\n"
     ]
    }
   ],
   "source": [
    "arraylinqueue.print_queue()"
   ]
  },
  {
   "cell_type": "code",
   "execution_count": 38,
   "metadata": {},
   "outputs": [
    {
     "name": "stdout",
     "output_type": "stream",
     "text": [
      "[                -18                  67                  32\n",
      " 4609434218613702656 4611686018427387904]\n"
     ]
    }
   ],
   "source": [
    "arraylinqueue.print_storage()"
   ]
  },
  {
   "cell_type": "code",
   "execution_count": 39,
   "metadata": {},
   "outputs": [
    {
     "name": "stdout",
     "output_type": "stream",
     "text": [
      "0\n",
      "2\n"
     ]
    }
   ],
   "source": [
    "print(arraylinqueue.front)\n",
    "print(arraylinqueue.rear)"
   ]
  },
  {
   "cell_type": "code",
   "execution_count": 40,
   "metadata": {},
   "outputs": [],
   "source": [
    "arraylinqueue.enqueue(-29)"
   ]
  },
  {
   "cell_type": "code",
   "execution_count": 41,
   "metadata": {},
   "outputs": [
    {
     "name": "stdout",
     "output_type": "stream",
     "text": [
      "front : -18 | 67 | 32 | -29 : rear\n"
     ]
    }
   ],
   "source": [
    "arraylinqueue.print_queue()"
   ]
  },
  {
   "cell_type": "code",
   "execution_count": 42,
   "metadata": {},
   "outputs": [
    {
     "name": "stdout",
     "output_type": "stream",
     "text": [
      "[                -18                  67                  32\n",
      "                 -29 4611686018427387904]\n"
     ]
    }
   ],
   "source": [
    "arraylinqueue.print_storage()"
   ]
  },
  {
   "cell_type": "code",
   "execution_count": 43,
   "metadata": {},
   "outputs": [
    {
     "name": "stdout",
     "output_type": "stream",
     "text": [
      "0\n",
      "3\n"
     ]
    }
   ],
   "source": [
    "print(arraylinqueue.front)\n",
    "print(arraylinqueue.rear)"
   ]
  },
  {
   "cell_type": "code",
   "execution_count": 44,
   "metadata": {},
   "outputs": [
    {
     "name": "stdout",
     "output_type": "stream",
     "text": [
      "-18\n"
     ]
    }
   ],
   "source": [
    "print(arraylinqueue.peek())"
   ]
  },
  {
   "cell_type": "code",
   "execution_count": 45,
   "metadata": {},
   "outputs": [
    {
     "name": "stdout",
     "output_type": "stream",
     "text": [
      "front : -18 | 67 | 32 | -29 : rear\n"
     ]
    }
   ],
   "source": [
    "arraylinqueue.print_queue()"
   ]
  },
  {
   "cell_type": "code",
   "execution_count": 46,
   "metadata": {},
   "outputs": [
    {
     "name": "stdout",
     "output_type": "stream",
     "text": [
      "-18\n"
     ]
    }
   ],
   "source": [
    "nilai = arraylinqueue.dequeue()\n",
    "print(nilai)"
   ]
  },
  {
   "cell_type": "code",
   "execution_count": 47,
   "metadata": {},
   "outputs": [
    {
     "name": "stdout",
     "output_type": "stream",
     "text": [
      "front : 67 | 32 | -29 : rear\n"
     ]
    }
   ],
   "source": [
    "arraylinqueue.print_queue()"
   ]
  },
  {
   "cell_type": "code",
   "execution_count": 48,
   "metadata": {},
   "outputs": [
    {
     "name": "stdout",
     "output_type": "stream",
     "text": [
      "[                -18                  67                  32\n",
      "                 -29 4611686018427387904]\n"
     ]
    }
   ],
   "source": [
    "arraylinqueue.print_storage()"
   ]
  },
  {
   "cell_type": "code",
   "execution_count": 49,
   "metadata": {},
   "outputs": [
    {
     "name": "stdout",
     "output_type": "stream",
     "text": [
      "1\n",
      "3\n"
     ]
    }
   ],
   "source": [
    "print(arraylinqueue.front)\n",
    "print(arraylinqueue.rear)"
   ]
  },
  {
   "cell_type": "code",
   "execution_count": 50,
   "metadata": {},
   "outputs": [
    {
     "name": "stdout",
     "output_type": "stream",
     "text": [
      "67\n"
     ]
    }
   ],
   "source": [
    "print(arraylinqueue.dequeue())"
   ]
  },
  {
   "cell_type": "code",
   "execution_count": 51,
   "metadata": {},
   "outputs": [
    {
     "name": "stdout",
     "output_type": "stream",
     "text": [
      "front : 32 | -29 : rear\n"
     ]
    }
   ],
   "source": [
    "arraylinqueue.print_queue()"
   ]
  },
  {
   "cell_type": "code",
   "execution_count": 54,
   "metadata": {},
   "outputs": [
    {
     "name": "stdout",
     "output_type": "stream",
     "text": [
      "32\n",
      "-29\n"
     ]
    }
   ],
   "source": [
    "print(arraylinqueue.dequeue())\n",
    "print(arraylinqueue.dequeue())"
   ]
  },
  {
   "cell_type": "code",
   "execution_count": 55,
   "metadata": {},
   "outputs": [
    {
     "name": "stdout",
     "output_type": "stream",
     "text": [
      "front : (tidak ada data) : rear\n"
     ]
    }
   ],
   "source": [
    "arraylinqueue.print_queue()"
   ]
  },
  {
   "cell_type": "code",
   "execution_count": 56,
   "metadata": {},
   "outputs": [
    {
     "name": "stdout",
     "output_type": "stream",
     "text": [
      "-1\n",
      "-1\n"
     ]
    }
   ],
   "source": [
    "print(arraylinqueue.front)\n",
    "print(arraylinqueue.rear)"
   ]
  },
  {
   "cell_type": "code",
   "execution_count": 57,
   "metadata": {},
   "outputs": [
    {
     "name": "stdout",
     "output_type": "stream",
     "text": [
      "Error dequeue: queue sudah kosong sebelumnya\n",
      "None\n"
     ]
    }
   ],
   "source": [
    "print(arraylinqueue.dequeue())"
   ]
  },
  {
   "cell_type": "code",
   "execution_count": 58,
   "metadata": {},
   "outputs": [],
   "source": [
    "arraylinqueue.enqueue(-25)\n",
    "arraylinqueue.enqueue(13)\n",
    "arraylinqueue.enqueue(48)\n",
    "arraylinqueue.enqueue(-87)\n",
    "arraylinqueue.enqueue(38)"
   ]
  },
  {
   "cell_type": "code",
   "execution_count": 59,
   "metadata": {},
   "outputs": [
    {
     "name": "stdout",
     "output_type": "stream",
     "text": [
      "front : -25 | 13 | 48 | -87 | 38 : rear\n"
     ]
    }
   ],
   "source": [
    "arraylinqueue.print_queue()"
   ]
  },
  {
   "cell_type": "code",
   "execution_count": 60,
   "metadata": {},
   "outputs": [
    {
     "name": "stdout",
     "output_type": "stream",
     "text": [
      "[-25  13  48 -87  38]\n"
     ]
    }
   ],
   "source": [
    "arraylinqueue.print_storage()"
   ]
  },
  {
   "cell_type": "code",
   "execution_count": 61,
   "metadata": {},
   "outputs": [
    {
     "name": "stdout",
     "output_type": "stream",
     "text": [
      "True\n"
     ]
    }
   ],
   "source": [
    "print(arraylinqueue.is_full())"
   ]
  },
  {
   "cell_type": "code",
   "execution_count": 62,
   "metadata": {},
   "outputs": [
    {
     "name": "stdout",
     "output_type": "stream",
     "text": [
      "0\n",
      "4\n"
     ]
    }
   ],
   "source": [
    "print(arraylinqueue.front)\n",
    "print(arraylinqueue.rear)"
   ]
  },
  {
   "cell_type": "code",
   "execution_count": 67,
   "metadata": {},
   "outputs": [
    {
     "name": "stdout",
     "output_type": "stream",
     "text": [
      "Error enqueue: queue sudah penuh sebelumnya\n"
     ]
    }
   ],
   "source": [
    "arraylinqueue.enqueue(-53)"
   ]
  },
  {
   "cell_type": "code",
   "execution_count": 63,
   "metadata": {},
   "outputs": [
    {
     "name": "stdout",
     "output_type": "stream",
     "text": [
      "-25\n",
      "13\n"
     ]
    }
   ],
   "source": [
    "print(arraylinqueue.dequeue())\n",
    "print(arraylinqueue.dequeue())"
   ]
  },
  {
   "cell_type": "code",
   "execution_count": 64,
   "metadata": {},
   "outputs": [
    {
     "name": "stdout",
     "output_type": "stream",
     "text": [
      "front : 48 | -87 | 38 : rear\n"
     ]
    }
   ],
   "source": [
    "arraylinqueue.print_queue()"
   ]
  },
  {
   "cell_type": "code",
   "execution_count": 65,
   "metadata": {},
   "outputs": [
    {
     "name": "stdout",
     "output_type": "stream",
     "text": [
      "[-25  13  48 -87  38]\n"
     ]
    }
   ],
   "source": [
    "arraylinqueue.print_storage()"
   ]
  },
  {
   "cell_type": "code",
   "execution_count": 66,
   "metadata": {},
   "outputs": [
    {
     "name": "stdout",
     "output_type": "stream",
     "text": [
      "2\n",
      "4\n"
     ]
    }
   ],
   "source": [
    "print(arraylinqueue.front)\n",
    "print(arraylinqueue.rear)"
   ]
  },
  {
   "cell_type": "code",
   "execution_count": 68,
   "metadata": {},
   "outputs": [
    {
     "name": "stdout",
     "output_type": "stream",
     "text": [
      "Error enqueue: queue sudah penuh sebelumnya\n"
     ]
    }
   ],
   "source": [
    "arraylinqueue.enqueue(-53)"
   ]
  },
  {
   "cell_type": "markdown",
   "metadata": {},
   "source": [
    "## Implementasi *circular queue* dengan *array*"
   ]
  },
  {
   "cell_type": "code",
   "execution_count": 72,
   "metadata": {},
   "outputs": [],
   "source": [
    "class ArrayCircQueue:\n",
    "    def __init__(self, dtype, max):\n",
    "        self.dtype = dtype\n",
    "        self.max = max\n",
    "        self.array = np.empty(max, dtype=dtype)\n",
    "        self.front = -1\n",
    "        self.rear = -1\n",
    "    \n",
    "    def is_empty(self):\n",
    "        if self.front == -1:\n",
    "            return True\n",
    "        else:\n",
    "            return False\n",
    "    \n",
    "    def is_full(self):\n",
    "        if self.front == (self.rear + 1) % self.max:\n",
    "            return True\n",
    "        else:\n",
    "            return False\n",
    "\n",
    "    def get_size(self):\n",
    "        if self.is_empty():\n",
    "            size = 0\n",
    "        elif self.front <= self.rear:\n",
    "            size = (self.rear - self.front) + 1\n",
    "        else:\n",
    "            size = self.max - (self.front - self.rear - 1)\n",
    "        return size\n",
    "\n",
    "    def get_capacity(self):\n",
    "        return self.max\n",
    "    \n",
    "    def enqueue(self, newdata):\n",
    "        if self.is_full():\n",
    "            print(\"Error enqueue: queue sudah penuh sebelumnya\")\n",
    "        elif self.front == -1:\n",
    "            self.front += 1\n",
    "            self.rear += 1\n",
    "            self.array[self.rear] = newdata\n",
    "        else:\n",
    "            self.rear = (self.rear + 1) % self.max # hanya berbeda di sini\n",
    "            self.array[self.rear] = newdata\n",
    "    \n",
    "    # Masih sama persis\n",
    "    def peek(self):\n",
    "        if self.is_empty():\n",
    "            print(\"Error peek: queue sedang kosong\")\n",
    "        else:\n",
    "            return self.array[self.front]\n",
    "    \n",
    "    def dequeue(self):\n",
    "        if self.is_empty():\n",
    "            print(\"Error dequeue: queue sudah kosong sebelumnya\")\n",
    "            return None\n",
    "        elif (self.get_size() == 1):\n",
    "            # Jika di queue hanya ada satu elemen, dan ingin di-dequeue,\n",
    "            # maka queue akan kosong setelah itu\n",
    "            output = self.array[self.front]\n",
    "            self.front = -1\n",
    "            self.rear = -1\n",
    "            return output\n",
    "        else:\n",
    "            output = self.array[self.front]\n",
    "            self.front = (self.front + 1) % self.max # hanya berbeda di sini\n",
    "            return output\n",
    "    \n",
    "    def print_storage(self):\n",
    "        print(self.array)\n",
    "\n",
    "    def print_queue(self):\n",
    "        print(\"front : \", end=\"\")\n",
    "        if self.is_empty():\n",
    "            print(\"(tidak ada data) : rear\")\n",
    "        else:\n",
    "            # i = front, ..., rear-1 (kurang lebih begitu)\n",
    "            i = self.front\n",
    "            while i != self.rear:\n",
    "                print(self.array[i], end=\" | \")\n",
    "                i = (i + 1) % self.max\n",
    "            # untuk i = rear\n",
    "            print(self.array[self.rear], end=\"\") \n",
    "            print(\" : rear\")"
   ]
  },
  {
   "cell_type": "code",
   "execution_count": 142,
   "metadata": {},
   "outputs": [
    {
     "name": "stdout",
     "output_type": "stream",
     "text": [
      "front : (tidak ada data) : rear\n"
     ]
    }
   ],
   "source": [
    "arraycircqueue = ArrayCircQueue(int, 5)\n",
    "arraycircqueue.print_queue()"
   ]
  },
  {
   "cell_type": "code",
   "execution_count": 145,
   "metadata": {},
   "outputs": [
    {
     "name": "stdout",
     "output_type": "stream",
     "text": [
      "[4607182418800017408 4613374868287651840 4618441417868443648\n",
      " 4622241330054037504 4625478292286210048]\n"
     ]
    }
   ],
   "source": [
    "arraycircqueue.print_storage()"
   ]
  },
  {
   "cell_type": "code",
   "execution_count": 146,
   "metadata": {},
   "outputs": [],
   "source": [
    "arraycircqueue.enqueue(65)\n",
    "arraycircqueue.enqueue(-11)\n",
    "arraycircqueue.enqueue(43)"
   ]
  },
  {
   "cell_type": "code",
   "execution_count": 147,
   "metadata": {},
   "outputs": [
    {
     "name": "stdout",
     "output_type": "stream",
     "text": [
      "front : 65 | -11 | 43 : rear\n"
     ]
    }
   ],
   "source": [
    "arraycircqueue.print_queue()"
   ]
  },
  {
   "cell_type": "code",
   "execution_count": 148,
   "metadata": {},
   "outputs": [
    {
     "name": "stdout",
     "output_type": "stream",
     "text": [
      "[                 65                 -11                  43\n",
      " 4622241330054037504 4625478292286210048]\n"
     ]
    }
   ],
   "source": [
    "arraycircqueue.print_storage()"
   ]
  },
  {
   "cell_type": "code",
   "execution_count": 149,
   "metadata": {},
   "outputs": [
    {
     "name": "stdout",
     "output_type": "stream",
     "text": [
      "0\n",
      "2\n"
     ]
    }
   ],
   "source": [
    "print(arraycircqueue.front)\n",
    "print(arraycircqueue.rear)"
   ]
  },
  {
   "cell_type": "code",
   "execution_count": 150,
   "metadata": {},
   "outputs": [],
   "source": [
    "arraycircqueue.enqueue(97)\n",
    "arraycircqueue.enqueue(-12)"
   ]
  },
  {
   "cell_type": "code",
   "execution_count": 151,
   "metadata": {},
   "outputs": [
    {
     "name": "stdout",
     "output_type": "stream",
     "text": [
      "front : 65 | -11 | 43 | 97 | -12 : rear\n"
     ]
    }
   ],
   "source": [
    "arraycircqueue.print_queue()"
   ]
  },
  {
   "cell_type": "code",
   "execution_count": 152,
   "metadata": {},
   "outputs": [
    {
     "name": "stdout",
     "output_type": "stream",
     "text": [
      "Error enqueue: queue sudah penuh sebelumnya\n"
     ]
    }
   ],
   "source": [
    "arraycircqueue.enqueue(41)"
   ]
  },
  {
   "cell_type": "code",
   "execution_count": 153,
   "metadata": {},
   "outputs": [
    {
     "name": "stdout",
     "output_type": "stream",
     "text": [
      "[ 65 -11  43  97 -12]\n"
     ]
    }
   ],
   "source": [
    "arraycircqueue.print_storage()"
   ]
  },
  {
   "cell_type": "code",
   "execution_count": 154,
   "metadata": {},
   "outputs": [
    {
     "name": "stdout",
     "output_type": "stream",
     "text": [
      "0\n",
      "4\n"
     ]
    }
   ],
   "source": [
    "print(arraycircqueue.front)\n",
    "print(arraycircqueue.rear)"
   ]
  },
  {
   "cell_type": "code",
   "execution_count": 155,
   "metadata": {},
   "outputs": [
    {
     "name": "stdout",
     "output_type": "stream",
     "text": [
      "65\n"
     ]
    }
   ],
   "source": [
    "print(arraycircqueue.peek())"
   ]
  },
  {
   "cell_type": "code",
   "execution_count": 156,
   "metadata": {},
   "outputs": [
    {
     "name": "stdout",
     "output_type": "stream",
     "text": [
      "front : 65 | -11 | 43 | 97 | -12 : rear\n"
     ]
    }
   ],
   "source": [
    "arraycircqueue.print_queue()"
   ]
  },
  {
   "cell_type": "code",
   "execution_count": 157,
   "metadata": {},
   "outputs": [
    {
     "name": "stdout",
     "output_type": "stream",
     "text": [
      "65\n"
     ]
    }
   ],
   "source": [
    "print(arraycircqueue.dequeue())"
   ]
  },
  {
   "cell_type": "code",
   "execution_count": 158,
   "metadata": {},
   "outputs": [
    {
     "name": "stdout",
     "output_type": "stream",
     "text": [
      "front : -11 | 43 | 97 | -12 : rear\n"
     ]
    }
   ],
   "source": [
    "arraycircqueue.print_queue()"
   ]
  },
  {
   "cell_type": "code",
   "execution_count": 159,
   "metadata": {},
   "outputs": [
    {
     "name": "stdout",
     "output_type": "stream",
     "text": [
      "[ 65 -11  43  97 -12]\n"
     ]
    }
   ],
   "source": [
    "arraycircqueue.print_storage()"
   ]
  },
  {
   "cell_type": "code",
   "execution_count": 160,
   "metadata": {},
   "outputs": [
    {
     "name": "stdout",
     "output_type": "stream",
     "text": [
      "1\n",
      "4\n"
     ]
    }
   ],
   "source": [
    "print(arraycircqueue.front)\n",
    "print(arraycircqueue.rear)"
   ]
  },
  {
   "cell_type": "code",
   "execution_count": 161,
   "metadata": {},
   "outputs": [
    {
     "name": "stdout",
     "output_type": "stream",
     "text": [
      "-11\n",
      "43\n"
     ]
    }
   ],
   "source": [
    "print(arraycircqueue.dequeue())\n",
    "print(arraycircqueue.dequeue())"
   ]
  },
  {
   "cell_type": "code",
   "execution_count": 162,
   "metadata": {},
   "outputs": [
    {
     "name": "stdout",
     "output_type": "stream",
     "text": [
      "front : 97 | -12 : rear\n"
     ]
    }
   ],
   "source": [
    "arraycircqueue.print_queue()"
   ]
  },
  {
   "cell_type": "code",
   "execution_count": 163,
   "metadata": {},
   "outputs": [
    {
     "name": "stdout",
     "output_type": "stream",
     "text": [
      "3\n",
      "4\n"
     ]
    }
   ],
   "source": [
    "print(arraycircqueue.front)\n",
    "print(arraycircqueue.rear)"
   ]
  },
  {
   "cell_type": "code",
   "execution_count": 164,
   "metadata": {},
   "outputs": [
    {
     "name": "stdout",
     "output_type": "stream",
     "text": [
      "[ 65 -11  43  97 -12]\n"
     ]
    }
   ],
   "source": [
    "arraycircqueue.print_storage()"
   ]
  },
  {
   "cell_type": "code",
   "execution_count": 165,
   "metadata": {},
   "outputs": [],
   "source": [
    "arraycircqueue.enqueue(-74)"
   ]
  },
  {
   "cell_type": "code",
   "execution_count": 166,
   "metadata": {},
   "outputs": [
    {
     "name": "stdout",
     "output_type": "stream",
     "text": [
      "front : 97 | -12 | -74 : rear\n"
     ]
    }
   ],
   "source": [
    "arraycircqueue.print_queue()"
   ]
  },
  {
   "cell_type": "code",
   "execution_count": 167,
   "metadata": {},
   "outputs": [
    {
     "name": "stdout",
     "output_type": "stream",
     "text": [
      "[-74 -11  43  97 -12]\n"
     ]
    }
   ],
   "source": [
    "arraycircqueue.print_storage()"
   ]
  },
  {
   "cell_type": "code",
   "execution_count": 169,
   "metadata": {},
   "outputs": [
    {
     "name": "stdout",
     "output_type": "stream",
     "text": [
      "3\n",
      "0\n"
     ]
    }
   ],
   "source": [
    "print(arraycircqueue.front)\n",
    "print(arraycircqueue.rear)"
   ]
  },
  {
   "cell_type": "code",
   "execution_count": 170,
   "metadata": {},
   "outputs": [],
   "source": [
    "arraycircqueue.enqueue(19)"
   ]
  },
  {
   "cell_type": "code",
   "execution_count": 171,
   "metadata": {},
   "outputs": [
    {
     "name": "stdout",
     "output_type": "stream",
     "text": [
      "front : 97 | -12 | -74 | 19 : rear\n"
     ]
    }
   ],
   "source": [
    "arraycircqueue.print_queue()"
   ]
  },
  {
   "cell_type": "code",
   "execution_count": 172,
   "metadata": {},
   "outputs": [
    {
     "name": "stdout",
     "output_type": "stream",
     "text": [
      "[-74  19  43  97 -12]\n"
     ]
    }
   ],
   "source": [
    "arraycircqueue.print_storage()"
   ]
  },
  {
   "cell_type": "code",
   "execution_count": 173,
   "metadata": {},
   "outputs": [
    {
     "name": "stdout",
     "output_type": "stream",
     "text": [
      "3\n",
      "1\n"
     ]
    }
   ],
   "source": [
    "print(arraycircqueue.front)\n",
    "print(arraycircqueue.rear)"
   ]
  },
  {
   "cell_type": "code",
   "execution_count": 174,
   "metadata": {},
   "outputs": [],
   "source": [
    "arraycircqueue.enqueue(85)"
   ]
  },
  {
   "cell_type": "code",
   "execution_count": 175,
   "metadata": {},
   "outputs": [
    {
     "name": "stdout",
     "output_type": "stream",
     "text": [
      "front : 97 | -12 | -74 | 19 | 85 : rear\n"
     ]
    }
   ],
   "source": [
    "arraycircqueue.print_queue()"
   ]
  },
  {
   "cell_type": "code",
   "execution_count": 176,
   "metadata": {},
   "outputs": [
    {
     "name": "stdout",
     "output_type": "stream",
     "text": [
      "[-74  19  85  97 -12]\n"
     ]
    }
   ],
   "source": [
    "arraycircqueue.print_storage()"
   ]
  },
  {
   "cell_type": "code",
   "execution_count": 177,
   "metadata": {},
   "outputs": [
    {
     "name": "stdout",
     "output_type": "stream",
     "text": [
      "3\n",
      "2\n"
     ]
    }
   ],
   "source": [
    "print(arraycircqueue.front)\n",
    "print(arraycircqueue.rear)"
   ]
  },
  {
   "cell_type": "code",
   "execution_count": 178,
   "metadata": {},
   "outputs": [
    {
     "name": "stdout",
     "output_type": "stream",
     "text": [
      "Error enqueue: queue sudah penuh sebelumnya\n"
     ]
    }
   ],
   "source": [
    "arraycircqueue.enqueue(-31)"
   ]
  },
  {
   "cell_type": "code",
   "execution_count": 179,
   "metadata": {},
   "outputs": [
    {
     "name": "stdout",
     "output_type": "stream",
     "text": [
      "97\n"
     ]
    }
   ],
   "source": [
    "print(arraycircqueue.dequeue())"
   ]
  },
  {
   "cell_type": "code",
   "execution_count": 180,
   "metadata": {},
   "outputs": [
    {
     "name": "stdout",
     "output_type": "stream",
     "text": [
      "front : -12 | -74 | 19 | 85 : rear\n"
     ]
    }
   ],
   "source": [
    "arraycircqueue.print_queue()"
   ]
  },
  {
   "cell_type": "code",
   "execution_count": 181,
   "metadata": {},
   "outputs": [
    {
     "name": "stdout",
     "output_type": "stream",
     "text": [
      "[-74  19  85  97 -12]\n"
     ]
    }
   ],
   "source": [
    "arraycircqueue.print_storage()"
   ]
  },
  {
   "cell_type": "code",
   "execution_count": 182,
   "metadata": {},
   "outputs": [
    {
     "name": "stdout",
     "output_type": "stream",
     "text": [
      "4\n",
      "2\n"
     ]
    }
   ],
   "source": [
    "print(arraycircqueue.front)\n",
    "print(arraycircqueue.rear)"
   ]
  },
  {
   "cell_type": "code",
   "execution_count": 183,
   "metadata": {},
   "outputs": [
    {
     "name": "stdout",
     "output_type": "stream",
     "text": [
      "-12\n"
     ]
    }
   ],
   "source": [
    "print(arraycircqueue.dequeue())"
   ]
  },
  {
   "cell_type": "code",
   "execution_count": 184,
   "metadata": {},
   "outputs": [
    {
     "name": "stdout",
     "output_type": "stream",
     "text": [
      "front : -74 | 19 | 85 : rear\n"
     ]
    }
   ],
   "source": [
    "arraycircqueue.print_queue()"
   ]
  },
  {
   "cell_type": "code",
   "execution_count": 185,
   "metadata": {},
   "outputs": [
    {
     "name": "stdout",
     "output_type": "stream",
     "text": [
      "[-74  19  85  97 -12]\n"
     ]
    }
   ],
   "source": [
    "arraycircqueue.print_storage()"
   ]
  },
  {
   "cell_type": "code",
   "execution_count": 186,
   "metadata": {},
   "outputs": [
    {
     "name": "stdout",
     "output_type": "stream",
     "text": [
      "0\n",
      "2\n"
     ]
    }
   ],
   "source": [
    "print(arraycircqueue.front)\n",
    "print(arraycircqueue.rear)"
   ]
  },
  {
   "cell_type": "code",
   "execution_count": 187,
   "metadata": {},
   "outputs": [],
   "source": [
    "arraycircqueue.enqueue(27)"
   ]
  },
  {
   "cell_type": "code",
   "execution_count": 188,
   "metadata": {},
   "outputs": [
    {
     "name": "stdout",
     "output_type": "stream",
     "text": [
      "front : -74 | 19 | 85 | 27 : rear\n"
     ]
    }
   ],
   "source": [
    "arraycircqueue.print_queue()"
   ]
  },
  {
   "cell_type": "code",
   "execution_count": 189,
   "metadata": {},
   "outputs": [
    {
     "name": "stdout",
     "output_type": "stream",
     "text": [
      "[-74  19  85  27 -12]\n"
     ]
    }
   ],
   "source": [
    "arraycircqueue.print_storage()"
   ]
  },
  {
   "cell_type": "code",
   "execution_count": 190,
   "metadata": {},
   "outputs": [
    {
     "name": "stdout",
     "output_type": "stream",
     "text": [
      "0\n",
      "3\n"
     ]
    }
   ],
   "source": [
    "print(arraycircqueue.front)\n",
    "print(arraycircqueue.rear)"
   ]
  },
  {
   "cell_type": "code",
   "execution_count": 191,
   "metadata": {},
   "outputs": [
    {
     "name": "stdout",
     "output_type": "stream",
     "text": [
      "-74\n"
     ]
    }
   ],
   "source": [
    "print(arraycircqueue.dequeue())"
   ]
  },
  {
   "cell_type": "code",
   "execution_count": 192,
   "metadata": {},
   "outputs": [
    {
     "name": "stdout",
     "output_type": "stream",
     "text": [
      "front : 19 | 85 | 27 : rear\n"
     ]
    }
   ],
   "source": [
    "arraycircqueue.print_queue()"
   ]
  },
  {
   "cell_type": "code",
   "execution_count": 193,
   "metadata": {},
   "outputs": [
    {
     "name": "stdout",
     "output_type": "stream",
     "text": [
      "[-74  19  85  27 -12]\n"
     ]
    }
   ],
   "source": [
    "arraycircqueue.print_storage()"
   ]
  },
  {
   "cell_type": "code",
   "execution_count": 194,
   "metadata": {},
   "outputs": [
    {
     "name": "stdout",
     "output_type": "stream",
     "text": [
      "1\n",
      "3\n"
     ]
    }
   ],
   "source": [
    "print(arraycircqueue.front)\n",
    "print(arraycircqueue.rear)"
   ]
  },
  {
   "cell_type": "markdown",
   "metadata": {},
   "source": [
    "## Implementasi (*linear*) *queue* dengan *linked list*"
   ]
  },
  {
   "cell_type": "code",
   "execution_count": 4,
   "metadata": {},
   "outputs": [],
   "source": [
    "class SLNode:\n",
    "    def __init__(self, data, next=None):\n",
    "        self.data = data\n",
    "        self.next = next"
   ]
  },
  {
   "cell_type": "code",
   "execution_count": 70,
   "metadata": {},
   "outputs": [],
   "source": [
    "class SLLinQueue:\n",
    "    def __init__(self):\n",
    "        # head=front, tail=rear\n",
    "        self.front = None\n",
    "        self.rear = None\n",
    "    \n",
    "    def is_empty(self):\n",
    "        if self.front == None:\n",
    "            return True\n",
    "        else:\n",
    "            return False\n",
    "    \n",
    "    def get_size(self):\n",
    "        size = 0\n",
    "        temp = self.front\n",
    "        while (temp != None):\n",
    "            size += 1\n",
    "            temp = temp.next\n",
    "        return size\n",
    "\n",
    "    # insert di akhir linked list\n",
    "    def enqueue(self, newdata):\n",
    "        newnode = SLNode(newdata)\n",
    "        if self.is_empty():\n",
    "            self.front = newnode\n",
    "            self.rear = newnode\n",
    "        else:\n",
    "            self.rear.next = newnode\n",
    "            self.rear = newnode\n",
    "    \n",
    "    def peek(self):\n",
    "        if self.is_empty():\n",
    "            print(\"Error peek: queue sedang kosong\")\n",
    "            return None\n",
    "        else:\n",
    "            return self.front.data\n",
    "\n",
    "    # hapus di awal linked list\n",
    "    def dequeue(self):\n",
    "        if self.is_empty():\n",
    "            print(\"Error dequeue: queue sudah kosong sebelumnya\")\n",
    "            return None\n",
    "        else:\n",
    "            output = self.front.data\n",
    "            temp = self.front\n",
    "            self.front = self.front.next\n",
    "            del temp\n",
    "            return output\n",
    "    \n",
    "    def print_queue(self):\n",
    "        print(\"front : \", end=\"\")\n",
    "        if self.is_empty():\n",
    "            print(\"(tidak ada data) : rear\")\n",
    "        else:\n",
    "            temp = self.front\n",
    "            while temp != None:\n",
    "                if temp.next != None:\n",
    "                    print(temp.data, end = \" | \")\n",
    "                else:\n",
    "                    print(temp.data, end=\"\")\n",
    "                temp = temp.next\n",
    "            print(\" : rear\")\n",
    "\n",
    "    def print_storage(self):\n",
    "        print(\"front -> \", end=\"\")\n",
    "        if self.is_empty():\n",
    "            print(\"None <- rear\")\n",
    "        else:\n",
    "            temp = self.front\n",
    "            while temp != None:\n",
    "                if temp.next != None:\n",
    "                    print(temp.data, end = \" -> \")\n",
    "                else:\n",
    "                    print(temp.data, end = \" <- \")\n",
    "                temp = temp.next\n",
    "            print(\"rear\")"
   ]
  },
  {
   "cell_type": "code",
   "execution_count": 9,
   "metadata": {},
   "outputs": [
    {
     "name": "stdout",
     "output_type": "stream",
     "text": [
      "front : (tidak ada data) : rear\n",
      "front -> None <- rear\n"
     ]
    }
   ],
   "source": [
    "sllinqueue = SLLinQueue()\n",
    "sllinqueue.print_queue()\n",
    "sllinqueue.print_storage()"
   ]
  },
  {
   "cell_type": "code",
   "execution_count": 10,
   "metadata": {},
   "outputs": [
    {
     "name": "stdout",
     "output_type": "stream",
     "text": [
      "front : 10 : rear\n",
      "front -> 10 <- rear\n"
     ]
    }
   ],
   "source": [
    "sllinqueue.enqueue(10)\n",
    "sllinqueue.print_queue()\n",
    "sllinqueue.print_storage()"
   ]
  },
  {
   "cell_type": "code",
   "execution_count": 11,
   "metadata": {},
   "outputs": [
    {
     "name": "stdout",
     "output_type": "stream",
     "text": [
      "front : 10 | 98 : rear\n",
      "front -> 10 -> 98 <- rear\n"
     ]
    }
   ],
   "source": [
    "sllinqueue.enqueue(98)\n",
    "sllinqueue.print_queue()\n",
    "sllinqueue.print_storage()"
   ]
  },
  {
   "cell_type": "code",
   "execution_count": 12,
   "metadata": {},
   "outputs": [
    {
     "name": "stdout",
     "output_type": "stream",
     "text": [
      "front : 10 | 98 | -43 : rear\n",
      "front -> 10 -> 98 -> -43 <- rear\n"
     ]
    }
   ],
   "source": [
    "sllinqueue.enqueue(-43)\n",
    "sllinqueue.print_queue()\n",
    "sllinqueue.print_storage()"
   ]
  },
  {
   "cell_type": "code",
   "execution_count": 13,
   "metadata": {},
   "outputs": [
    {
     "name": "stdout",
     "output_type": "stream",
     "text": [
      "10\n"
     ]
    }
   ],
   "source": [
    "print(sllinqueue.peek())"
   ]
  },
  {
   "cell_type": "code",
   "execution_count": 14,
   "metadata": {},
   "outputs": [
    {
     "name": "stdout",
     "output_type": "stream",
     "text": [
      "front : 10 | 98 | -43 : rear\n",
      "front -> 10 -> 98 -> -43 <- rear\n"
     ]
    }
   ],
   "source": [
    "sllinqueue.print_queue()\n",
    "sllinqueue.print_storage()"
   ]
  },
  {
   "cell_type": "code",
   "execution_count": 15,
   "metadata": {},
   "outputs": [
    {
     "name": "stdout",
     "output_type": "stream",
     "text": [
      "10\n"
     ]
    }
   ],
   "source": [
    "print(sllinqueue.dequeue())"
   ]
  },
  {
   "cell_type": "code",
   "execution_count": 16,
   "metadata": {},
   "outputs": [
    {
     "name": "stdout",
     "output_type": "stream",
     "text": [
      "front : 98 | -43 : rear\n",
      "front -> 98 -> -43 <- rear\n"
     ]
    }
   ],
   "source": [
    "sllinqueue.print_queue()\n",
    "sllinqueue.print_storage()"
   ]
  },
  {
   "cell_type": "markdown",
   "metadata": {},
   "source": [
    "## Implementasi *circular queue* dengan (*circular*) *linked list*"
   ]
  },
  {
   "cell_type": "code",
   "execution_count": 13,
   "metadata": {},
   "outputs": [],
   "source": [
    "class SLCircQueue:\n",
    "    def __init__(self):\n",
    "        # head=front, tail=rear\n",
    "        self.front = None\n",
    "        self.rear = None\n",
    "    \n",
    "    def is_empty(self):\n",
    "        if self.front == None:\n",
    "            return True\n",
    "        else:\n",
    "            return False\n",
    "    \n",
    "    def get_size(self):\n",
    "        size = 0\n",
    "        temp = self.front\n",
    "        if temp == None:\n",
    "            return size\n",
    "        else:\n",
    "            size += 1\n",
    "            temp = temp.next\n",
    "        while (temp != self.front):\n",
    "            size += 1\n",
    "            temp = temp.next\n",
    "        return size\n",
    "\n",
    "    def enqueue(self, newdata):\n",
    "        newnode = SLNode(newdata)\n",
    "        if self.is_empty():\n",
    "            self.front = newnode\n",
    "            self.rear = newnode\n",
    "            newnode.next = newnode\n",
    "        else:\n",
    "            self.rear.next = newnode\n",
    "            self.rear = newnode\n",
    "            newnode.next = self.front\n",
    "    \n",
    "    # masih sama persis\n",
    "    def peek(self):\n",
    "        if self.is_empty():\n",
    "            print(\"Error peek: queue sedang kosong\")\n",
    "            return None\n",
    "        else:\n",
    "            return self.front.data\n",
    "\n",
    "    def dequeue(self):\n",
    "        if self.is_empty():\n",
    "            print(\"Error dequeue: queue sudah kosong sebelumnya\")\n",
    "            return None\n",
    "        elif (self.front == self.rear): # sama saja self.get_size() == 1\n",
    "            output = self.front.data\n",
    "            del self.front\n",
    "            self.front = None\n",
    "            self.rear = None\n",
    "            return output\n",
    "        else:\n",
    "            output = self.front.data\n",
    "            temp = self.front\n",
    "            self.front = self.front.next\n",
    "            del temp\n",
    "            self.rear.next = self.front\n",
    "            return output\n",
    "    \n",
    "    def print_queue(self):\n",
    "        print(\"front : \", end=\"\")\n",
    "        if self.is_empty():\n",
    "            print(\"(tidak ada data) : rear\")\n",
    "        else:\n",
    "            temp = self.front\n",
    "            while temp.next != self.front:\n",
    "                print(temp.data, end = \" | \")\n",
    "                temp = temp.next\n",
    "            print(temp.data, end=\"\")\n",
    "            print(\" : rear\")\n",
    "\n",
    "    def print_storage(self):\n",
    "        print(\"front -> \", end=\"\")\n",
    "        if self.is_empty():\n",
    "            print(\"None (<- rear)\")\n",
    "        else:\n",
    "            temp = self.front\n",
    "            while temp.next != self.front:\n",
    "                print(temp.data, end = \" -> \")\n",
    "                temp = temp.next\n",
    "            print(temp.data, end = \"\")\n",
    "            print(\" (<- rear) -> front\")"
   ]
  },
  {
   "cell_type": "code",
   "execution_count": 14,
   "metadata": {},
   "outputs": [
    {
     "name": "stdout",
     "output_type": "stream",
     "text": [
      "front : (tidak ada data) : rear\n",
      "front -> None (<- rear)\n"
     ]
    }
   ],
   "source": [
    "slcircqueue = SLCircQueue()\n",
    "slcircqueue.print_queue()\n",
    "slcircqueue.print_storage()"
   ]
  },
  {
   "cell_type": "code",
   "execution_count": 15,
   "metadata": {},
   "outputs": [
    {
     "name": "stdout",
     "output_type": "stream",
     "text": [
      "front : -91 : rear\n",
      "front -> -91 (<- rear) -> front\n"
     ]
    }
   ],
   "source": [
    "slcircqueue.enqueue(-91)\n",
    "slcircqueue.print_queue()\n",
    "slcircqueue.print_storage()"
   ]
  },
  {
   "cell_type": "code",
   "execution_count": 16,
   "metadata": {},
   "outputs": [
    {
     "name": "stdout",
     "output_type": "stream",
     "text": [
      "front : -91 | 14 : rear\n",
      "front -> -91 -> 14 (<- rear) -> front\n"
     ]
    }
   ],
   "source": [
    "slcircqueue.enqueue(14)\n",
    "slcircqueue.print_queue()\n",
    "slcircqueue.print_storage()"
   ]
  },
  {
   "cell_type": "code",
   "execution_count": 17,
   "metadata": {},
   "outputs": [
    {
     "name": "stdout",
     "output_type": "stream",
     "text": [
      "front : -91 | 14 | 30 : rear\n",
      "front -> -91 -> 14 -> 30 (<- rear) -> front\n"
     ]
    }
   ],
   "source": [
    "slcircqueue.enqueue(30)\n",
    "slcircqueue.print_queue()\n",
    "slcircqueue.print_storage()"
   ]
  },
  {
   "cell_type": "code",
   "execution_count": 18,
   "metadata": {},
   "outputs": [
    {
     "data": {
      "text/plain": [
       "-91"
      ]
     },
     "execution_count": 18,
     "metadata": {},
     "output_type": "execute_result"
    }
   ],
   "source": [
    "slcircqueue.peek()"
   ]
  },
  {
   "cell_type": "code",
   "execution_count": 19,
   "metadata": {},
   "outputs": [
    {
     "name": "stdout",
     "output_type": "stream",
     "text": [
      "front : -91 | 14 | 30 : rear\n",
      "front -> -91 -> 14 -> 30 (<- rear) -> front\n"
     ]
    }
   ],
   "source": [
    "slcircqueue.print_queue()\n",
    "slcircqueue.print_storage()"
   ]
  },
  {
   "cell_type": "code",
   "execution_count": 20,
   "metadata": {},
   "outputs": [
    {
     "name": "stdout",
     "output_type": "stream",
     "text": [
      "-91\n"
     ]
    }
   ],
   "source": [
    "print(slcircqueue.dequeue())"
   ]
  },
  {
   "cell_type": "code",
   "execution_count": 21,
   "metadata": {},
   "outputs": [
    {
     "name": "stdout",
     "output_type": "stream",
     "text": [
      "front : 14 | 30 : rear\n",
      "front -> 14 -> 30 (<- rear) -> front\n"
     ]
    }
   ],
   "source": [
    "slcircqueue.print_queue()\n",
    "slcircqueue.print_storage()"
   ]
  },
  {
   "cell_type": "markdown",
   "metadata": {},
   "source": [
    "## (TODO) Pengayaan: *Deque* atau *double-ended queue* (DEQ)"
   ]
  }
 ],
 "metadata": {
  "kernelspec": {
   "display_name": "Python 3",
   "language": "python",
   "name": "python3"
  },
  "language_info": {
   "codemirror_mode": {
    "name": "ipython",
    "version": 3
   },
   "file_extension": ".py",
   "mimetype": "text/x-python",
   "name": "python",
   "nbconvert_exporter": "python",
   "pygments_lexer": "ipython3",
   "version": "3.10.11"
  }
 },
 "nbformat": 4,
 "nbformat_minor": 2
}
