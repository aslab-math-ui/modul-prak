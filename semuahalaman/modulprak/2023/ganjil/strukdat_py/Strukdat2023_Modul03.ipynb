{
 "cells": [
  {
   "cell_type": "markdown",
   "metadata": {},
   "source": [
    "# Modul 3 Struktur Data: I/O, CodeChef"
   ]
  },
  {
   "cell_type": "markdown",
   "metadata": {},
   "source": [
    "Kembali ke [Struktur Data (dengan Python)](strukdat2023.qmd)"
   ]
  },
  {
   "cell_type": "markdown",
   "metadata": {},
   "source": [
    "Di praktikum kali ini, kita akan belajar tentang I/O (input/*output*), yaitu cara berurusan dengan input dan *output* di Python. Bukan hanya sekadar `print` dan `input`, tetapi juga cara berurusan dengan *text file*.\n",
    "\n",
    "~~Selain itu, kita akan belajar tentang Graphviz, yang bisa kita gunakan untuk membuat berbagai gambar \"graf\", dan bisa digunakan untuk menggambar berbagai jenis struktur data nantinya.~~\n",
    "Pembahasan tentang Graphviz ditunda ke praktikum yang akan datang.\n",
    "\n",
    "Terakhir, untuk melatih dan mendalami urusan input/*output*, kita akan berkenalan dengan [CodeChef](https://www.codechef.com/) ([https://www.codechef.com/](https://www.codechef.com/)), suatu situs \"*competitive programming*\". Kesannya seolah-olah untuk persiapan lomba, tetapi maksudnya situs tersebut punya \"bank soal\", lebih tepatnya di link berikut (jangan lupa membuat akun terlebih dahulu):\n",
    "\n",
    "* [https://www.codechef.com/practice](https://www.codechef.com/practice) (sudah dikategorikan tetapi banyak soal yang berbayar)\n",
    "\n",
    "* [https://www.codechef.com/practice-old](https://www.codechef.com/practice-old) (lebih lengkap, bisa *searching*, dan gratis semua)\n",
    "\n",
    "Ada banyak latihan soal yang bisa kita coba untuk melatih kemampuan pemrograman kita. Siapa tahu, kalian akan mengambil soal dari situ dan menyesuaikan untuk proyek akhir Struktur Data :)"
   ]
  },
  {
   "cell_type": "markdown",
   "metadata": {},
   "source": [
    "## I/O (*input/output*)"
   ]
  },
  {
   "cell_type": "markdown",
   "metadata": {},
   "source": [
    "### Seputar `print`"
   ]
  },
  {
   "cell_type": "markdown",
   "metadata": {},
   "source": [
    "Kegunaan utama `print` adalah untuk menampilkan *string* (`str`)."
   ]
  },
  {
   "cell_type": "code",
   "execution_count": 1,
   "metadata": {},
   "outputs": [
    {
     "name": "stdout",
     "output_type": "stream",
     "text": [
      "Hello, world!\n"
     ]
    }
   ],
   "source": [
    "print(\"Hello, world!\")"
   ]
  },
  {
   "cell_type": "code",
   "execution_count": 3,
   "metadata": {},
   "outputs": [
    {
     "name": "stdout",
     "output_type": "stream",
     "text": [
      "Selamat sore!\n"
     ]
    }
   ],
   "source": [
    "teks1 = \"Selamat sore!\"\n",
    "print(teks1)"
   ]
  },
  {
   "cell_type": "markdown",
   "metadata": {},
   "source": [
    "Kita bisa menampilkan beberapa *string* sekaligus di dalam satu `print`, memisakan tiap *string* dengan koma."
   ]
  },
  {
   "cell_type": "code",
   "execution_count": 14,
   "metadata": {},
   "outputs": [
    {
     "name": "stdout",
     "output_type": "stream",
     "text": [
      "Saya sudah makan siang\n"
     ]
    }
   ],
   "source": [
    "print(\"Saya\", \"sudah\", \"makan\", \"siang\")"
   ]
  },
  {
   "cell_type": "markdown",
   "metadata": {},
   "source": [
    "Sebenarnya, kita bisa menggunakan `print` untuk menampilkan tipe data apapun."
   ]
  },
  {
   "cell_type": "code",
   "execution_count": 4,
   "metadata": {},
   "outputs": [
    {
     "name": "stdout",
     "output_type": "stream",
     "text": [
      "-45\n",
      "10.6\n"
     ]
    }
   ],
   "source": [
    "angka = -45\n",
    "harga = 10.6\n",
    "print(angka)\n",
    "print(harga)"
   ]
  },
  {
   "cell_type": "markdown",
   "metadata": {},
   "source": [
    "Sehingga, kita bisa menuliskan seperti ini:"
   ]
  },
  {
   "cell_type": "code",
   "execution_count": 15,
   "metadata": {},
   "outputs": [
    {
     "name": "stdout",
     "output_type": "stream",
     "text": [
      "Suhu: -45\n"
     ]
    }
   ],
   "source": [
    "print(\"Suhu:\", angka)"
   ]
  },
  {
   "cell_type": "markdown",
   "metadata": {},
   "source": [
    "Kalau mau, kita juga bisa menyiapkan suatu *string* yang utuh terlebih dahulu (mengubah tipe data lain menjadi *string* dengan `str`), baru menampilkan *string* yang utuh tersebut:"
   ]
  },
  {
   "cell_type": "code",
   "execution_count": 17,
   "metadata": {},
   "outputs": [
    {
     "name": "stdout",
     "output_type": "stream",
     "text": [
      "Suhu: -45\n"
     ]
    }
   ],
   "source": [
    "string_utuh = \"Suhu: \" + str(angka)\n",
    "print(string_utuh)"
   ]
  },
  {
   "cell_type": "markdown",
   "metadata": {},
   "source": [
    "Apabila kita `print` suatu `list` begitu saja, maka akan ditampilkan sebagai `list`."
   ]
  },
  {
   "cell_type": "code",
   "execution_count": 5,
   "metadata": {},
   "outputs": [
    {
     "name": "stdout",
     "output_type": "stream",
     "text": [
      "['pisang', 42, -5.1, 'apel', 'jeruk']\n"
     ]
    }
   ],
   "source": [
    "beberapa_buah = [\"pisang\", 42, -5.1, \"apel\", \"jeruk\"]\n",
    "print(beberapa_buah)"
   ]
  },
  {
   "cell_type": "markdown",
   "metadata": {},
   "source": [
    "Namun, kita bisa saja menggunakan *for loop* untuk menampilkan tiap elemen."
   ]
  },
  {
   "cell_type": "code",
   "execution_count": 6,
   "metadata": {},
   "outputs": [
    {
     "name": "stdout",
     "output_type": "stream",
     "text": [
      "pisang\n",
      "42\n",
      "-5.1\n",
      "apel\n",
      "jeruk\n"
     ]
    }
   ],
   "source": [
    "for elemen in beberapa_buah:\n",
    "    print(elemen)"
   ]
  },
  {
   "cell_type": "markdown",
   "metadata": {},
   "source": [
    "Begitu juga untuk `set` (tentu saja urutannya tidak menentu):"
   ]
  },
  {
   "cell_type": "code",
   "execution_count": 7,
   "metadata": {},
   "outputs": [
    {
     "name": "stdout",
     "output_type": "stream",
     "text": [
      "{'merah', 'biru', 'kuning', 'hijau'}\n"
     ]
    }
   ],
   "source": [
    "beberapa_warna = {\"merah\", \"hijau\", \"biru\", \"kuning\"}\n",
    "print(beberapa_warna)"
   ]
  },
  {
   "cell_type": "code",
   "execution_count": 8,
   "metadata": {},
   "outputs": [
    {
     "name": "stdout",
     "output_type": "stream",
     "text": [
      "merah\n",
      "biru\n",
      "kuning\n",
      "hijau\n"
     ]
    }
   ],
   "source": [
    "for warna in beberapa_warna:\n",
    "    print(warna)"
   ]
  },
  {
   "cell_type": "markdown",
   "metadata": {},
   "source": [
    "Untuk suatu `dict`, kita bisa menampilkan `dict` seutuhnya:"
   ]
  },
  {
   "cell_type": "code",
   "execution_count": 9,
   "metadata": {},
   "outputs": [
    {
     "name": "stdout",
     "output_type": "stream",
     "text": [
      "{'kopi': 6000, 'teh': 5000, 'susu': 7000}\n"
     ]
    }
   ],
   "source": [
    "harga_toko = {\"kopi\": 6000, \"teh\": 5000, \"susu\": 7000}\n",
    "print(harga_toko)"
   ]
  },
  {
   "cell_type": "markdown",
   "metadata": {},
   "source": [
    "Kita bisa memperoleh `set` yang berisi `key` nya saja dengan `dict.keys()`, baru menampilkan `set` tersebut:"
   ]
  },
  {
   "cell_type": "code",
   "execution_count": 12,
   "metadata": {},
   "outputs": [
    {
     "name": "stdout",
     "output_type": "stream",
     "text": [
      "{'kopi', 'teh', 'susu'}\n"
     ]
    }
   ],
   "source": [
    "yang_dijual = set(harga_toko.keys())\n",
    "print(yang_dijual)"
   ]
  },
  {
   "cell_type": "markdown",
   "metadata": {},
   "source": [
    "Serupa, kita bisa memperoleh `set` yang berisi `value` nya saja menggunakan `dict.values()`:"
   ]
  },
  {
   "cell_type": "code",
   "execution_count": 13,
   "metadata": {},
   "outputs": [
    {
     "name": "stdout",
     "output_type": "stream",
     "text": [
      "{6000, 7000, 5000}\n"
     ]
    }
   ],
   "source": [
    "semua_harga = set(harga_toko.values())\n",
    "print(semua_harga)"
   ]
  },
  {
   "cell_type": "markdown",
   "metadata": {},
   "source": [
    "Kalau mau, kita bisa melakukan *for loop* untuk tiap `key`:"
   ]
  },
  {
   "cell_type": "code",
   "execution_count": 18,
   "metadata": {},
   "outputs": [
    {
     "name": "stdout",
     "output_type": "stream",
     "text": [
      "kopi 6000\n",
      "teh 5000\n",
      "susu 7000\n"
     ]
    }
   ],
   "source": [
    "for key in harga_toko.keys():\n",
    "    print(key, harga_toko[key])"
   ]
  },
  {
   "cell_type": "markdown",
   "metadata": {},
   "source": [
    "Bahkan, kita bisa melakukan *for loop* untuk tiap `key` dan `value` sekaligus, dengan `dict.items()`:"
   ]
  },
  {
   "cell_type": "code",
   "execution_count": 19,
   "metadata": {},
   "outputs": [
    {
     "name": "stdout",
     "output_type": "stream",
     "text": [
      "kopi harganya 6000\n",
      "teh harganya 5000\n",
      "susu harganya 7000\n"
     ]
    }
   ],
   "source": [
    "for key, value in harga_toko.items():\n",
    "    print(key, \"harganya\", value)"
   ]
  },
  {
   "cell_type": "markdown",
   "metadata": {},
   "source": [
    "Umumnya, tiap kali kita menggunakan `print`, baris baru selalu ditambahkan secara otomatis, sehingga `print` yang selanjutnya akan ditampilkan di baris berikutnya. Sebenarnya, hal ini bisa diatur dengan *setting* `end=` seperti berikut:"
   ]
  },
  {
   "cell_type": "code",
   "execution_count": 20,
   "metadata": {},
   "outputs": [
    {
     "name": "stdout",
     "output_type": "stream",
     "text": [
      "Hari\n",
      "ini\n",
      "Jum'at\n"
     ]
    }
   ],
   "source": [
    "print(\"Hari\", end=\"\\n\")\n",
    "print(\"ini\", end=\"\\n\")\n",
    "print(\"Jum'at\", end=\"\\n\")"
   ]
  },
  {
   "cell_type": "markdown",
   "metadata": {},
   "source": [
    "`end=` bisa berupa apa saja:"
   ]
  },
  {
   "cell_type": "code",
   "execution_count": 21,
   "metadata": {},
   "outputs": [
    {
     "name": "stdout",
     "output_type": "stream",
     "text": [
      "Hari|ini|Jum'at|"
     ]
    }
   ],
   "source": [
    "print(\"Hari\", end=\"|\")\n",
    "print(\"ini\", end=\"|\")\n",
    "print(\"Jum'at\", end=\"|\")"
   ]
  },
  {
   "cell_type": "markdown",
   "metadata": {},
   "source": [
    "Bahkan, kita bisa mengkosongkan `end=` (membuatnya menjadi *string* kosong atau `\"\"` atau `''`) apabila kita mengharapkan tidak ada \"pemisah\" antara tiap *output*:"
   ]
  },
  {
   "cell_type": "code",
   "execution_count": 22,
   "metadata": {},
   "outputs": [
    {
     "name": "stdout",
     "output_type": "stream",
     "text": [
      "HariiniJum'at"
     ]
    }
   ],
   "source": [
    "print(\"Hari\", end=\"\")\n",
    "print(\"ini\", end=\"\")\n",
    "print(\"Jum'at\", end=\"\")"
   ]
  },
  {
   "cell_type": "markdown",
   "metadata": {},
   "source": [
    "### Seputar `input`"
   ]
  },
  {
   "cell_type": "markdown",
   "metadata": {},
   "source": [
    "Mneggunakan `input`, kita bisa menerima masukkan data berupa *string*."
   ]
  },
  {
   "cell_type": "code",
   "execution_count": 23,
   "metadata": {},
   "outputs": [
    {
     "name": "stdout",
     "output_type": "stream",
     "text": [
      "Halo Bisma\n"
     ]
    }
   ],
   "source": [
    "nama = input()\n",
    "print(\"Halo\", nama)"
   ]
  },
  {
   "cell_type": "markdown",
   "metadata": {},
   "source": [
    "Kita bisa menggunakan *prompt* berupa *string* dalam `input`, yaitu semacam \"pertanyaan\" agar jelas data apa yang diperlukan."
   ]
  },
  {
   "cell_type": "code",
   "execution_count": 24,
   "metadata": {},
   "outputs": [
    {
     "name": "stdout",
     "output_type": "stream",
     "text": [
      "Masukkan nama: Bisma\n",
      "Halo Bisma\n"
     ]
    }
   ],
   "source": [
    "nama = input(\"Masukkan nama: \")\n",
    "print(\"Halo\", nama)"
   ]
  },
  {
   "cell_type": "markdown",
   "metadata": {},
   "source": [
    "Apabila `input` yang kita inginkan adalah selain *string*, kita harus mengakali. Contohnya, bisa saja kita langsung mengkonversi *string* yang masuk menjadi tipe data lain:"
   ]
  },
  {
   "cell_type": "code",
   "execution_count": 27,
   "metadata": {},
   "outputs": [
    {
     "name": "stdout",
     "output_type": "stream",
     "text": [
      "Masukkan umur: 19\n",
      "Tahun depan, Anda akan berumur 20 tahun\n"
     ]
    }
   ],
   "source": [
    "umur = int(input(\"Masukkan umur: \"))\n",
    "print(\"Tahun depan, Anda akan berumur\", umur+1, \"tahun\")"
   ]
  },
  {
   "cell_type": "markdown",
   "metadata": {},
   "source": [
    "Bahkan menjadi `list` juga bisa, menggunakan `split` untuk memecah suatu *string* menjadi beberapa bagian (dalam suatu `list`) berdasarkan suatu pemisah (di sini `,`):"
   ]
  },
  {
   "cell_type": "code",
   "execution_count": 33,
   "metadata": {},
   "outputs": [
    {
     "name": "stdout",
     "output_type": "stream",
     "text": [
      "Masukkan beberapa angka: -10, 5.6, 3, -7, 82\n",
      "Input yang masuk: ['-10', ' 5.6', ' 3', ' -7', ' 82']\n",
      "Totalnya adalah 73.6\n"
     ]
    }
   ],
   "source": [
    "beberapa_angka = input(\"Masukkan beberapa angka: \").split(\",\")\n",
    "print(\"Input yang masuk:\", beberapa_angka)\n",
    "sum = 0\n",
    "for angka in beberapa_angka:\n",
    "    sum += float(angka)\n",
    "print(\"Totalnya adalah\", sum)"
   ]
  },
  {
   "cell_type": "markdown",
   "metadata": {},
   "source": [
    "### Berurusan dengan *text file*"
   ]
  },
  {
   "cell_type": "markdown",
   "metadata": {},
   "source": [
    "Di Python, kita bisa membuka, mengedit, dan menutup *text file*, yaitu *file* yang berakhiran `.txt`"
   ]
  },
  {
   "cell_type": "markdown",
   "metadata": {},
   "source": [
    "Ketika membuka suatu *text file*, ada beberapa pilihan \"mode\":\n",
    "\n",
    "* `r`: *read-only*, jika kita hanya ingin membaca isinya. Kalau *file* nya tidak ada, *error*.\n",
    "* `a`: *append-only*, jika kita hanya ingin menambahkan isi di akhir *text file* (sehingga tidak bisa melihat isi yang sudah ada). Kalau *file* nya belum ada, akan dibuat.\n",
    "* `w`: *write-only*, jika kita hanya ingin menulis (tanpa bisa membaca isi yang sudah ada) dan menimpa apapun tulisan yang sudah ada. Kalau *file* nya belum ada, akan dibuat.\n",
    "* `r+`: *read and write*. Kalau *file* nya tidak ada, *error*.\n",
    "* `a+`: *append and read*. Kalau *file* nya belum ada, akan dibuat.\n",
    "* `w+`: *write and read*. Kalau *file* nya belum ada, akan dibuat."
   ]
  },
  {
   "cell_type": "markdown",
   "metadata": {},
   "source": [
    "Untuk fitur yang paling lengkap (tetapi bisa berbahaya apabila kita tidak berhati-hati), bisa digunakan *mode* `w+`."
   ]
  },
  {
   "cell_type": "markdown",
   "metadata": {},
   "source": [
    "Kita bisa membuka suatu *file* dengan `open`. Dengan begitu, kita akan memperoleh suatu objek *file*. Objek ini memiliki beberapa atribut seperti `.mode`, dan beberapa *method* seperti:\n",
    "\n",
    "* `.write()` untuk menulis\n",
    "* `.read()` untuk membaca (memperoleh isinya sebagai *string*)\n",
    "* `.seek()` agar \"*cursor*\" lompat ke posisi tertentu (misalnya `.seek(0)` untuk kembali ke awal *file*)\n",
    "* `.close()` untuk menutup *file* setelah selesai digunakan\n",
    "\n",
    "(Apabila kita ingin mengubah *mode*, kita bisa melakukan `.close()` terlebih dahulu, baru `open` lagi dengan *mode* yang baru.)"
   ]
  },
  {
   "cell_type": "markdown",
   "metadata": {},
   "source": [
    "Di kode di bawah ini, kita akan membuka suatu *file*, menuliskan `Hello, world!` di dalamnya, lalu menutup *file* nya."
   ]
  },
  {
   "cell_type": "code",
   "execution_count": 57,
   "metadata": {},
   "outputs": [],
   "source": [
    "teks = open(\"test.txt\", 'w+')\n",
    "teks.write(\"Hello, world!\")\n",
    "teks.close()"
   ]
  },
  {
   "cell_type": "markdown",
   "metadata": {},
   "source": [
    "Setelah *running* kode di atas, coba cek folder kalian yang menyimpan *file* `.ipynb` yang sedang kalian gunakan. Harusnya, ada *file* baru yang muncul bernama `test.txt` dan isinya `Hello, world!`\n",
    "\n",
    "* Di Jupyter Notebook, kalian bisa kembali ke *tab* yang terbuka di browser kalian di mana kalian tadinya sudah membuat *new notebook*. Coba *double-click* `test.txt`\n",
    "* Di Google Colaboratory, kalian bisa menekan tombol *folder* yang ada di sebelah kiri. Coba *download* `test.txt` lalu buka isinya"
   ]
  },
  {
   "cell_type": "markdown",
   "metadata": {},
   "source": [
    "Mari kita coba gunakan `.write()` untuk menuliskan sesuatu di dalamnya, lalu `.seek(0)` untuk kembali ke awal *file*, kemudian `.read()` untuk membaca isinya (mulai dari awal *file* sesuai yang ditentukan oleh `.seek()`)"
   ]
  },
  {
   "cell_type": "code",
   "execution_count": 58,
   "metadata": {},
   "outputs": [
    {
     "name": "stdout",
     "output_type": "stream",
     "text": [
      "Selamat pagi\n"
     ]
    }
   ],
   "source": [
    "teks = open(\"test.txt\", 'w+')\n",
    "teks.write(\"Selamat pagi\")\n",
    "teks.seek(0)\n",
    "print(teks.read())\n",
    "teks.close()"
   ]
  },
  {
   "cell_type": "markdown",
   "metadata": {},
   "source": [
    "Setelah *running* kode di atas, kalau mau, silakan dibuka kembali.\n",
    "\n",
    "* Menggunakan Jupyter Notebook: kalau tadinya sudah dibuka, ditutup dulu, baru dibuka lagi.\n",
    "* Menggunakan Google Colaboratory: tunggu sebentar, *download* lagi, lalu buka isinya.\n",
    "\n",
    "Pasti ada isinya, yaitu tulisan `Selamat pagi`\n",
    "\n",
    "Tulisan `Selamat pagi` yang tadi tertimpa, karena kita menggunakan *mode* `w`, bukan `a`.\n",
    "\n",
    "Sebenarnya, kalaupun tidak diperiksa isinya, kita bisa yakin bahwa isinya sudah berubah sesuai yang kita inginkan, karena kita sudah melihat isi yang baru dengan `.read()`"
   ]
  },
  {
   "cell_type": "markdown",
   "metadata": {},
   "source": [
    "Mari kita coba menuliskan hal lain."
   ]
  },
  {
   "cell_type": "code",
   "execution_count": 55,
   "metadata": {},
   "outputs": [
    {
     "name": "stdout",
     "output_type": "stream",
     "text": [
      "Selamat siang\n"
     ]
    }
   ],
   "source": [
    "teks = open(\"test.txt\", 'w+')\n",
    "teks.write(\"Selamat siang\")\n",
    "teks.seek(0)\n",
    "print(teks.read())\n",
    "teks.close()"
   ]
  },
  {
   "cell_type": "markdown",
   "metadata": {},
   "source": [
    "Kalau kita buka kembali, sekarang tulisannya adalah `Selamat siang`"
   ]
  },
  {
   "cell_type": "markdown",
   "metadata": {},
   "source": [
    "Ada cara penulisan lain agar Python akan menutup *file* secara otomatis, yaitu menggunakan yang namanya *context manager* atau `with` *statement*. *Syntax* nya sebagai berikut:"
   ]
  },
  {
   "cell_type": "code",
   "execution_count": 56,
   "metadata": {},
   "outputs": [
    {
     "name": "stdout",
     "output_type": "stream",
     "text": [
      "Selamat sore\n"
     ]
    }
   ],
   "source": [
    "with open(\"test.txt\", 'w+') as teks:\n",
    "    teks.write(\"Selamat sore\")\n",
    "    teks.seek(0)\n",
    "    print(teks.read())"
   ]
  },
  {
   "cell_type": "markdown",
   "metadata": {},
   "source": [
    "Yang tadinya kita tulis `teks = open(\"test.txt\", 'w+')`, sekarang kita tulis dengan `with ... as ...` dengan titik dua di akhir. Lalu, semua hal yang mau kita lakukan dengan *file* tersebut (yang di sini sekarang namanya `teks`) itu kita lakukan di dalam `with` *statement* tersebut, dengan indentasi, seperti dalam *for loop* misalnya.\n",
    "\n",
    "Begitu keluar dari `with` *statement*, *file* akan ditutup secara otomatis. Dengan demikian, kita tidak perlu lagi melakukan `.close()`"
   ]
  },
  {
   "cell_type": "markdown",
   "metadata": {},
   "source": [
    "*Anyway*, boleh diperiksa lagi *file* nya, sekarang tulisannya menjadi `Selamat sore`"
   ]
  },
  {
   "cell_type": "markdown",
   "metadata": {},
   "source": [
    "Kalau mau, kita bisa saja melakukan `.write()` berkali-kali untuk menambahkan tulisan berbaris-baris:"
   ]
  },
  {
   "cell_type": "code",
   "execution_count": 61,
   "metadata": {},
   "outputs": [
    {
     "name": "stdout",
     "output_type": "stream",
     "text": [
      "Selamat pagiSelamat siangSelamat soreSelamat malam\n"
     ]
    }
   ],
   "source": [
    "with open(\"test.txt\", 'w+') as teks:\n",
    "    teks.write(\"Selamat pagi\")\n",
    "    teks.write(\"Selamat siang\")\n",
    "    teks.write(\"Selamat sore\")\n",
    "    teks.write(\"Selamat malam\")\n",
    "    teks.seek(0)\n",
    "    print(teks.read())"
   ]
  },
  {
   "cell_type": "markdown",
   "metadata": {},
   "source": [
    "Oops, jangan lupa tambahkan `\\n` di akhir, ya!"
   ]
  },
  {
   "cell_type": "code",
   "execution_count": 63,
   "metadata": {},
   "outputs": [
    {
     "name": "stdout",
     "output_type": "stream",
     "text": [
      "Selamat pagi\n",
      "Selamat siang\n",
      "Selamat sore\n",
      "Selamat malam\n"
     ]
    }
   ],
   "source": [
    "with open(\"test.txt\", 'w+') as teks:\n",
    "    teks.write(\"Selamat pagi\\n\")\n",
    "    teks.write(\"Selamat siang\\n\")\n",
    "    teks.write(\"Selamat sore\\n\")\n",
    "    teks.write(\"Selamat malam\")\n",
    "    teks.seek(0)\n",
    "    print(teks.read())"
   ]
  },
  {
   "cell_type": "markdown",
   "metadata": {},
   "source": [
    "Kalau iseng, kita bisa melakukan misalnya `teks.seek(21)` untuk melompat 21 karakter dari awal *file*, sebelum melakukan `.read()`:"
   ]
  },
  {
   "cell_type": "code",
   "execution_count": 64,
   "metadata": {},
   "outputs": [
    {
     "name": "stdout",
     "output_type": "stream",
     "text": [
      "siang\n",
      "Selamat sore\n",
      "Selamat malam\n"
     ]
    }
   ],
   "source": [
    "with open(\"test.txt\", 'w+') as teks:\n",
    "    teks.write(\"Selamat pagi\\n\")\n",
    "    teks.write(\"Selamat siang\\n\")\n",
    "    teks.write(\"Selamat sore\\n\")\n",
    "    teks.write(\"Selamat malam\")\n",
    "    teks.seek(21)\n",
    "    print(teks.read())"
   ]
  },
  {
   "cell_type": "markdown",
   "metadata": {},
   "source": [
    "Dengan demikian, `.read()` hanya akan membaca tulisan yang ada mulai dari posisi ke-21 tersebut."
   ]
  },
  {
   "cell_type": "markdown",
   "metadata": {},
   "source": [
    "Kalau mau, kita bisa saja hanya membaca beberapa karakter, misalnya hanya 5 karakter:"
   ]
  },
  {
   "cell_type": "code",
   "execution_count": 65,
   "metadata": {},
   "outputs": [
    {
     "name": "stdout",
     "output_type": "stream",
     "text": [
      "siang\n"
     ]
    }
   ],
   "source": [
    "with open(\"test.txt\", 'w+') as teks:\n",
    "    teks.write(\"Selamat pagi\\n\")\n",
    "    teks.write(\"Selamat siang\\n\")\n",
    "    teks.write(\"Selamat sore\\n\")\n",
    "    teks.write(\"Selamat malam\")\n",
    "    teks.seek(21)\n",
    "    print(teks.read(5))"
   ]
  },
  {
   "cell_type": "markdown",
   "metadata": {},
   "source": [
    "Kita bahkan bisa `.seek()` lagi setelah `.read()`, lalu `.read()` lagi, `.seek()` lagi, dan seterusnya sesuka hati."
   ]
  },
  {
   "cell_type": "code",
   "execution_count": 81,
   "metadata": {},
   "outputs": [
    {
     "name": "stdout",
     "output_type": "stream",
     "text": [
      "siang\n",
      "malam\n",
      "sore\n"
     ]
    }
   ],
   "source": [
    "with open(\"test.txt\", 'w+') as teks:\n",
    "    teks.write(\"Selamat pagi\\n\")\n",
    "    teks.write(\"Selamat siang\\n\")\n",
    "    teks.write(\"Selamat sore\\n\")\n",
    "    teks.write(\"Selamat malam\")\n",
    "    teks.seek(21)\n",
    "    print(teks.read(5))\n",
    "    teks.seek(48)\n",
    "    print(teks.read(5))\n",
    "    teks.seek(35)\n",
    "    print(teks.read(4))"
   ]
  },
  {
   "cell_type": "markdown",
   "metadata": {},
   "source": [
    "Setelah melakukan *read*, sebenarnya *cursor* akan ikut maju! Seandainya kita melakukan *read* dua kali berturut-turut, perhatikan:"
   ]
  },
  {
   "cell_type": "code",
   "execution_count": 78,
   "metadata": {},
   "outputs": [
    {
     "name": "stdout",
     "output_type": "stream",
     "text": [
      "siang\n",
      "Selama"
     ]
    }
   ],
   "source": [
    "with open(\"test.txt\", 'w+') as teks:\n",
    "    teks.write(\"Selamat pagi\\n\")\n",
    "    teks.write(\"Selamat siang\\n\")\n",
    "    teks.write(\"Selamat sore\\n\")\n",
    "    teks.write(\"Selamat malam\")\n",
    "    teks.seek(21)\n",
    "    print(teks.read(5), end=\"\")\n",
    "    print(teks.read(7), end=\"\")"
   ]
  },
  {
   "cell_type": "markdown",
   "metadata": {},
   "source": [
    "Di sini, kita menggunakan `end=\"\"` agar `print` tidak menambahkan baris baru. Lho, tapi ada baris baru? Baris baru itu sebenarnya dari *file* itu sendiri :)\n",
    "\n",
    "Perhatikan juga bahwa baris baru `\\n` itu terhitung sebagai satu karakter dengan sendirinya, sehingga yang tadinya kita mau membaca `Selamat` (7 karakter) itu malah hanya menjadi `Selama` (6 karakter), karena jatah satu karakter sudah digunakan untuk baris baru."
   ]
  },
  {
   "cell_type": "markdown",
   "metadata": {},
   "source": [
    "Seandainya kita tidak menggunakan `.seek()` sama sekali, maka setelah selesai `.write()`, *cursor* akan terletak di akhir *file* (karena tadinya sudah selesai menulis sampai situ) sehingga `.read()` tidak akan memberikan *output* apapun:"
   ]
  },
  {
   "cell_type": "code",
   "execution_count": 66,
   "metadata": {},
   "outputs": [
    {
     "name": "stdout",
     "output_type": "stream",
     "text": [
      "\n"
     ]
    }
   ],
   "source": [
    "with open(\"test.txt\", 'w+') as teks:\n",
    "    teks.write(\"Selamat pagi\\n\")\n",
    "    teks.write(\"Selamat siang\\n\")\n",
    "    teks.write(\"Selamat sore\\n\")\n",
    "    teks.write(\"Selamat malam\")\n",
    "    print(teks.read())"
   ]
  },
  {
   "cell_type": "markdown",
   "metadata": {},
   "source": [
    "Kita bisa melihat posisi *cursor* saat ini dengan `.tell()`"
   ]
  },
  {
   "cell_type": "code",
   "execution_count": 75,
   "metadata": {},
   "outputs": [
    {
     "name": "stdout",
     "output_type": "stream",
     "text": [
      "53\n"
     ]
    }
   ],
   "source": [
    "with open(\"test.txt\", 'w+') as teks:\n",
    "    teks.write(\"Selamat pagi\\n\")\n",
    "    teks.write(\"Selamat siang\\n\")\n",
    "    teks.write(\"Selamat sore\\n\")\n",
    "    teks.write(\"Selamat malam\")\n",
    "    print(teks.tell())"
   ]
  },
  {
   "cell_type": "markdown",
   "metadata": {},
   "source": [
    "Wow, jauh ya! Tidak heran, tidak ada lagi yang perlu dibaca."
   ]
  },
  {
   "cell_type": "markdown",
   "metadata": {},
   "source": [
    "Kalau misalnya kita muak dengan `.seek()`, kita bisa saja menutup *file* setelah menulis, barulah kemudian membuka *file* lagi untuk melihat isinya. Kita bisa melakukan itu dengan dua kali `with` *statement*. (Ada baiknya kita menggunakan *mode* yang sesuai, misalnya `w` saja untuk menulis saja, lalu `r` saja untuk membaca saja.)"
   ]
  },
  {
   "cell_type": "code",
   "execution_count": 67,
   "metadata": {},
   "outputs": [
    {
     "name": "stdout",
     "output_type": "stream",
     "text": [
      "Selamat pagi\n",
      "Selamat siang\n",
      "Selamat sore\n",
      "Selamat malam\n"
     ]
    }
   ],
   "source": [
    "with open(\"test.txt\", 'w') as teks:\n",
    "    teks.write(\"Selamat pagi\\n\")\n",
    "    teks.write(\"Selamat siang\\n\")\n",
    "    teks.write(\"Selamat sore\\n\")\n",
    "    teks.write(\"Selamat malam\")\n",
    "\n",
    "with open(\"test.txt\", 'r') as teks:\n",
    "    print(teks.read())"
   ]
  },
  {
   "cell_type": "markdown",
   "metadata": {},
   "source": [
    "Kok bisa? Karena, setelah *file* ditutup, ketika dibuka lagi, *cursor* akan kembali ke posisi awal. Sehingga, kita tidak perlu menggunakan `.seek()` untuk meminta agar kembali ke posisi awal. Lihat saja:"
   ]
  },
  {
   "cell_type": "code",
   "execution_count": 76,
   "metadata": {},
   "outputs": [
    {
     "name": "stdout",
     "output_type": "stream",
     "text": [
      "0\n",
      "Selamat pagi\n",
      "Selamat siang\n",
      "Selamat sore\n",
      "Selamat malam\n"
     ]
    }
   ],
   "source": [
    "with open(\"test.txt\", 'w') as teks:\n",
    "    teks.write(\"Selamat pagi\\n\")\n",
    "    teks.write(\"Selamat siang\\n\")\n",
    "    teks.write(\"Selamat sore\\n\")\n",
    "    teks.write(\"Selamat malam\")\n",
    "\n",
    "with open(\"test.txt\", 'r') as teks:\n",
    "    print(teks.tell()) # output 0 karena berada di awal file\n",
    "    print(teks.read())"
   ]
  },
  {
   "cell_type": "markdown",
   "metadata": {},
   "source": [
    "Selain `.read()` beberapa karakter, kita juga bisa membaca satu baris (yaitu berhenti di baris baru) menggunakan `.readline()`"
   ]
  },
  {
   "cell_type": "code",
   "execution_count": 71,
   "metadata": {},
   "outputs": [
    {
     "name": "stdout",
     "output_type": "stream",
     "text": [
      "Selamat pagi\n"
     ]
    }
   ],
   "source": [
    "with open(\"test.txt\", 'w') as teks:\n",
    "    teks.write(\"Selamat pagi\\n\")\n",
    "    teks.write(\"Selamat siang\\n\")\n",
    "    teks.write(\"Selamat sore\\n\")\n",
    "    teks.write(\"Selamat malam\")\n",
    "\n",
    "with open(\"test.txt\", 'r') as teks:\n",
    "    print(teks.readline(), end=\"\")"
   ]
  },
  {
   "cell_type": "markdown",
   "metadata": {},
   "source": [
    "Kalau kita lakukan berkali-kali, akan terbaca beberapa baris:"
   ]
  },
  {
   "cell_type": "code",
   "execution_count": 72,
   "metadata": {},
   "outputs": [
    {
     "name": "stdout",
     "output_type": "stream",
     "text": [
      "Selamat pagi\n",
      "Selamat siang\n",
      "Selamat sore\n"
     ]
    }
   ],
   "source": [
    "with open(\"test.txt\", 'w') as teks:\n",
    "    teks.write(\"Selamat pagi\\n\")\n",
    "    teks.write(\"Selamat siang\\n\")\n",
    "    teks.write(\"Selamat sore\\n\")\n",
    "    teks.write(\"Selamat malam\")\n",
    "\n",
    "with open(\"test.txt\", 'r') as teks:\n",
    "    print(teks.readline(), end=\"\")\n",
    "    print(teks.readline(), end=\"\")\n",
    "    print(teks.readline(), end=\"\")"
   ]
  },
  {
   "cell_type": "markdown",
   "metadata": {},
   "source": [
    "Bahkan, kita bisa menggunakan *for loop* untuk mengiterasi pada tiap baris:"
   ]
  },
  {
   "cell_type": "code",
   "execution_count": 74,
   "metadata": {},
   "outputs": [
    {
     "name": "stdout",
     "output_type": "stream",
     "text": [
      "Selamat pagi\n",
      "Selamat siang\n",
      "Selamat sore\n",
      "Selamat malam"
     ]
    }
   ],
   "source": [
    "with open(\"test.txt\", 'w') as teks:\n",
    "    teks.write(\"Selamat pagi\\n\")\n",
    "    teks.write(\"Selamat siang\\n\")\n",
    "    teks.write(\"Selamat sore\\n\")\n",
    "    teks.write(\"Selamat malam\")\n",
    "\n",
    "with open(\"test.txt\", 'r') as teks:\n",
    "    for baris in teks:\n",
    "        print(baris, end=\"\")"
   ]
  },
  {
   "cell_type": "markdown",
   "metadata": {},
   "source": [
    "Kita juga bisa memperoleh suatu `list` yang terdiri dari tiap baris, menggunakan `.readlines()`:"
   ]
  },
  {
   "cell_type": "code",
   "execution_count": 82,
   "metadata": {},
   "outputs": [
    {
     "name": "stdout",
     "output_type": "stream",
     "text": [
      "['Selamat pagi\\n', 'Selamat siang\\n', 'Selamat sore\\n', 'Selamat malam']\n"
     ]
    }
   ],
   "source": [
    "with open(\"test.txt\", 'w') as teks:\n",
    "    teks.write(\"Selamat pagi\\n\")\n",
    "    teks.write(\"Selamat siang\\n\")\n",
    "    teks.write(\"Selamat sore\\n\")\n",
    "    teks.write(\"Selamat malam\")\n",
    "\n",
    "with open(\"test.txt\", 'r') as teks:\n",
    "    semua_baris = teks.readlines()\n",
    "\n",
    "print(semua_baris)"
   ]
  },
  {
   "cell_type": "markdown",
   "metadata": {},
   "source": [
    "Bagaimana kalau kita coba *mode* `a`? Kita coba `.tell()` juga di awal mode `a` agar bisa melihat posisi *cursor* kita membuka *file* dalam *mode* `a`: "
   ]
  },
  {
   "cell_type": "code",
   "execution_count": 85,
   "metadata": {},
   "outputs": [
    {
     "name": "stdout",
     "output_type": "stream",
     "text": [
      "27\n",
      "['Selamat pagi\\n', 'Selamat siang\\n', 'Selamat sore\\n']\n"
     ]
    }
   ],
   "source": [
    "with open(\"test.txt\", 'w') as teks:\n",
    "    teks.write(\"Selamat pagi\\n\")\n",
    "    teks.write(\"Selamat siang\\n\")\n",
    "\n",
    "with open(\"test.txt\", 'a') as teks:\n",
    "    print(teks.tell())\n",
    "    teks.write(\"Selamat sore\\n\")\n",
    "\n",
    "with open(\"test.txt\", 'r') as teks:\n",
    "    semua_baris = teks.readlines()\n",
    "\n",
    "print(semua_baris)"
   ]
  },
  {
   "cell_type": "markdown",
   "metadata": {},
   "source": [
    "Ternyata, ketika membuka *file* dengan *mode* `a`, *cursor* langsung diposisikan di akhir *file*, sehingga kita bisa langsung menulis untuk menambahkan sesuatu di akhir *file*."
   ]
  },
  {
   "cell_type": "markdown",
   "metadata": {},
   "source": [
    "Terakhir, kita akan mencoba untuk meng-*copy* suatu *text file*, dengan cara membuat *text file* baru dan mengisi isinya dari *text file* yang lama. Caranya:\n",
    "\n",
    "1. Buka *file* yang lama dengan *mode* `r`, simpan semua isinya dalam suatu variabel, tutup\n",
    "2. Buka *file* yang baru dengan *mode* `w`, isi dengan variabel tersebut, tutup\n",
    "\n",
    "Setelah itu, kita bisa membuka lagi *file* yang baru dengan *mode* `r` hanya untuk melihat isinya, memastikan sama :)"
   ]
  },
  {
   "cell_type": "code",
   "execution_count": 87,
   "metadata": {},
   "outputs": [
    {
     "name": "stdout",
     "output_type": "stream",
     "text": [
      "Isi file yang lama: \n",
      "Selamat pagi\n",
      "Selamat siang\n",
      "Selamat sore\n",
      "Isi file yang baru:\n",
      "Selamat pagi\n",
      "Selamat siang\n",
      "Selamat sore\n"
     ]
    }
   ],
   "source": [
    "# Memperoleh isi file yang lama\n",
    "with open(\"test.txt\", 'r') as file_lama:\n",
    "    isi_lama = file_lama.read()\n",
    "\n",
    "print(\"Isi file yang lama: \")\n",
    "print(isi_lama, end=\"\")\n",
    "\n",
    "# Menuliskan ke file yang baru\n",
    "with open(\"testcopy.txt\", 'w') as file_baru:\n",
    "    file_baru.write(isi_lama)\n",
    "\n",
    "# Memperoleh isi file yang baru, mau liat aja\n",
    "with open(\"testcopy.txt\", 'r') as file_baru:\n",
    "    isi_baru = file_baru.read()\n",
    "\n",
    "print(\"Isi file yang baru:\")\n",
    "print(isi_baru, end=\"\")"
   ]
  },
  {
   "cell_type": "markdown",
   "metadata": {},
   "source": [
    "Berhasil ya!"
   ]
  },
  {
   "cell_type": "markdown",
   "metadata": {},
   "source": [
    "## CodeChef"
   ]
  },
  {
   "cell_type": "markdown",
   "metadata": {},
   "source": [
    "Kita akan latihan beberapa soal pemrograman di CodeChef. Sebenarnya, yang ditekankan di sini adalah latihan cara menerima input dan memberikan *output* sesuai permintaan soal di CodeChef, agar kalian sudah paham nantinya ketika mencari soal di CodeChef untuk proyek akhir Struktur Data."
   ]
  },
  {
   "cell_type": "markdown",
   "metadata": {},
   "source": [
    "Pertama-tama, silakan buat akun terlebih dahulu di [https://www.codechef.com/](https://www.codechef.com/)"
   ]
  },
  {
   "cell_type": "markdown",
   "metadata": {},
   "source": [
    "Lalu, silakan coba menyelesaikan soal-soal berikut:"
   ]
  },
  {
   "cell_type": "markdown",
   "metadata": {},
   "source": [
    "1. [https://www.codechef.com/problems/START01](https://www.codechef.com/problems/START01)"
   ]
  },
  {
   "cell_type": "markdown",
   "metadata": {},
   "source": [
    "2. [https://www.codechef.com/problems/FLOW001](https://www.codechef.com/problems/FLOW001)"
   ]
  },
  {
   "cell_type": "markdown",
   "metadata": {},
   "source": [
    "3. (tidak jadi dibahas) [https://www.codechef.com/problems/GDTURN](https://www.codechef.com/problems/GDTURN)"
   ]
  },
  {
   "cell_type": "markdown",
   "metadata": {},
   "source": [
    "::: {.callout-tip collapse=\"true\"}\n",
    "## Jawaban no. 1\n",
    "```{.python}\n",
    "N = input()\n",
    "print(N)\n",
    "```\n",
    ":::"
   ]
  },
  {
   "cell_type": "markdown",
   "metadata": {},
   "source": [
    "::: {.callout-tip collapse=\"true\"}\n",
    "## Jawaban no. 2\n",
    "```{.python}\n",
    "T = int(input())\n",
    "for i in range(T):\n",
    "    baris = input().split(\" \")\n",
    "    A = int(baris[0])\n",
    "    B = int(baris[1])\n",
    "    hasil = A + B\n",
    "    print(hasil)\n",
    "```\n",
    ":::"
   ]
  },
  {
   "cell_type": "markdown",
   "metadata": {},
   "source": [
    "## (ditunda ke praktikum yang akan datang) Graphviz"
   ]
  },
  {
   "cell_type": "markdown",
   "metadata": {},
   "source": [
    "Sebelum bisa menggunakan Graphviz, perlu di-*install* terlebih dahulu."
   ]
  },
  {
   "cell_type": "markdown",
   "metadata": {},
   "source": [
    "Di Google Colaboratory, kalian tinggal mengetik:\n",
    "\n",
    "`pip install graphviz`"
   ]
  },
  {
   "cell_type": "markdown",
   "metadata": {},
   "source": [
    "Sedangkan, apabila menggunakan Anaconda, buka Anaconda Prompt atau Command Prompt (cmd) lalu ketik:\n",
    "\n",
    "`conda install graphviz`\n",
    "\n",
    "Tunggu instalasi selesai, barulah buka Jupyter Notebook dan ketik\n",
    "\n",
    "`pip install graphviz`"
   ]
  },
  {
   "cell_type": "markdown",
   "metadata": {},
   "source": [
    "Kemudian, kita bisa import:"
   ]
  },
  {
   "cell_type": "code",
   "execution_count": 88,
   "metadata": {},
   "outputs": [],
   "source": [
    "import graphviz as gv"
   ]
  },
  {
   "cell_type": "markdown",
   "metadata": {},
   "source": [
    "(tunggu praktikum yang akan datang yaa)"
   ]
  }
 ],
 "metadata": {
  "kernelspec": {
   "display_name": "Python 3",
   "language": "python",
   "name": "python3"
  },
  "language_info": {
   "codemirror_mode": {
    "name": "ipython",
    "version": 3
   },
   "file_extension": ".py",
   "mimetype": "text/x-python",
   "name": "python",
   "nbconvert_exporter": "python",
   "pygments_lexer": "ipython3",
   "version": "3.10.11"
  },
  "orig_nbformat": 4
 },
 "nbformat": 4,
 "nbformat_minor": 2
}
