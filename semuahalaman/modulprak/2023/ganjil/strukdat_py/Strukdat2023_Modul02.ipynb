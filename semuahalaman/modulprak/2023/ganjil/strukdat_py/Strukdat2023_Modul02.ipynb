{
 "cells": [
  {
   "cell_type": "markdown",
   "metadata": {},
   "source": [
    "# Modul 2 Struktur Data: Pengantar OOP"
   ]
  },
  {
   "cell_type": "markdown",
   "metadata": {},
   "source": [
    "Kembali ke [Struktur Data (dengan Python)](strukdat2023.qmd)"
   ]
  },
  {
   "cell_type": "markdown",
   "metadata": {},
   "source": [
    "Pada praktikum kali ini, kita akan membahas tentang `class`, yang nantinya akan kita gunakan untuk membuat berbagai jenis struktur data. Sekaligus, kita juga akan membahas tentang *object-oriented programming* atau OOP (pemrograman berorientasi objek atau PBO), yaitu semacam \"paradigma pemrograman\" (gaya pemrograman) di mana kita sering berurusan dengan `class`.\n",
    "\n",
    "Intinya, hari ini kita akan membahas tentang `class` dan serba-serbi (filosofi) penggunaannya."
   ]
  },
  {
   "cell_type": "markdown",
   "metadata": {},
   "source": [
    "## Apa itu `class`? Apa itu OOP?"
   ]
  },
  {
   "cell_type": "markdown",
   "metadata": {},
   "source": [
    "Di pertemuan sebelumnya, ketika belajar tentang tipe data di Python, kita sering menjumpai nama tipe data disertai istilah `class`. Sebelum memahami apa itu `class`, kita bisa paham dulu tentang konsep \"objek\"."
   ]
  },
  {
   "cell_type": "markdown",
   "metadata": {},
   "source": [
    "Di Python (dan banyak bahasa pemrograman lainnya yang \"mendukung OOP\"), sebuah \"objek\" adalah sesuatu yang bisa memiliki variabel-variabel tersendiri (disebut atribut) serta fungsi-fungsi tersendiri (disebut *method*) di bawah satu nama yang sama (yaitu objek tersebut)."
   ]
  },
  {
   "cell_type": "markdown",
   "metadata": {},
   "source": [
    "Kemudian, sebuah `class` adalah semacam *blueprint* untuk membuat objek. Ketika kita ingin membuat objek, kita harus membuat definisi `class` nya terlebih dahulu sebagai *blueprint* untuk objek tersebut. Barulah, setelah definisi `class` nya ada, kita bisa membuat objek sebanyak-banyaknya dari `class` yang sama."
   ]
  },
  {
   "cell_type": "markdown",
   "metadata": {},
   "source": [
    "Sebagai *blueprint* untuk membuat objek, suatu definisi `class` mencakupi atribut serta *method* yang akan terdefinisi untuk objek yang akan dibuat. Artinya, semua objek yang dibuat dari `class` yang sama itu akan memiliki \"struktur\" yang sama, baik variabel-variabel maupun fungsi-fungsi yang terkandung di dalam tiap objek."
   ]
  },
  {
   "cell_type": "markdown",
   "metadata": {},
   "source": [
    "(Itulah mengapa tipe data dianggap sebagai `class` di Python. Misalnya, untuk tipe data `str`, yaitu `<class 'str'>`, semua *string* di Python tentunya \"memiliki sifat yang sama\", seperti bisa di-*format* dengan *method* `.format`)"
   ]
  },
  {
   "cell_type": "markdown",
   "metadata": {},
   "source": [
    "Agar lebih paham, mari kita coba membuat `class` pertama kita, yaitu `class Orang`, untuk menyimpan data orang yang terdiri dari nama dan umur. Kemudian, kita akan membuat beberapa objek, yaitu beberapa `Orang`, yang masing-masing bisa memiliki data nama dan umur tersendiri."
   ]
  },
  {
   "cell_type": "code",
   "execution_count": 1,
   "metadata": {},
   "outputs": [],
   "source": [
    "class Orang:\n",
    "    def __init__(self, nama, umur):\n",
    "        self.nama = nama\n",
    "        self.umur = umur"
   ]
  },
  {
   "cell_type": "markdown",
   "metadata": {},
   "source": [
    "Pada definisi `class Orang` di atas, kita baru merancang atribut apa saja yang akan terkandung dalam objek, yaitu `nama` dan `umur`.\n",
    "\n",
    "* Pada baris pertama, kita menuliskan kata `class` untuk memulai suatu definisi `class` baru, diikuti dengan nama `class` nya (di sini namanya `Orang`).\n",
    "* Pada baris kedua, kita memulai definisi suatu *method* istimewa yang bernama `__init__` yang dimulai dan diakhiri dengan dua garis bawah. *Method* yang satu ini harus selalu ada di tiap definisi `class`, dan istilahnya adalah *constructor*. Argumen yang masuk ke dalam *method* ini adalah `self` yang merujuk ke \"diri sendiri\" (objek yang bersangkutan), kemudian dua atribut yang bisa ditentukan ketika objek dibuat, yaitu `nama` dan `umur`\n",
    "* Di dalam definisi `__init__` di atas (baris ketiga dan keempat), nilai `self.nama` dan `self.umur` akan dipasangkan menjadi `nama` dan `umur` yang \"masuk ke dalam *method*\" (yaitu ditentukan ketika objek dibuat)."
   ]
  },
  {
   "cell_type": "markdown",
   "metadata": {},
   "source": [
    "Kalau baru pertama kali lihat, mungkin *syntax* definisi `class` rasanya sangat aneh dan asing. Tidak masalah, itu normal. Ketiknya pelan-pelan saja. Kalau belum begitu paham, juga tidak masalah, ikuti saja. Perlahan, kita akan terus-menerus memberi tambahan ke definisi `class Orang` tersebut agar lebih paham."
   ]
  },
  {
   "cell_type": "markdown",
   "metadata": {},
   "source": [
    "Semoga menjadi lebih jelas setelah melihat *syntax* pembuatan objek:"
   ]
  },
  {
   "cell_type": "code",
   "execution_count": 2,
   "metadata": {},
   "outputs": [],
   "source": [
    "orang1 = Orang(\"Bisma\", 19)\n",
    "orang2 = Orang(\"Vero\", 20)"
   ]
  },
  {
   "cell_type": "markdown",
   "metadata": {},
   "source": [
    "Kemudian, kita bisa melihat atribut objek seperti berikut:"
   ]
  },
  {
   "cell_type": "code",
   "execution_count": 3,
   "metadata": {},
   "outputs": [
    {
     "name": "stdout",
     "output_type": "stream",
     "text": [
      "Bisma\n",
      "19\n"
     ]
    }
   ],
   "source": [
    "print(orang1.nama)\n",
    "print(orang1.umur)"
   ]
  },
  {
   "cell_type": "code",
   "execution_count": 4,
   "metadata": {},
   "outputs": [
    {
     "name": "stdout",
     "output_type": "stream",
     "text": [
      "Vero\n",
      "20\n"
     ]
    }
   ],
   "source": [
    "print(orang2.nama)\n",
    "print(orang2.umur)"
   ]
  },
  {
   "cell_type": "markdown",
   "metadata": {},
   "source": [
    "Perhatikan bahwa masing-masing atribut diakses melalui objek yang bersangkutan. Terlihat kegunaan objek sebagai penampung beberapa variabel (atribut) di bawah satu nama yang sama."
   ]
  },
  {
   "cell_type": "markdown",
   "metadata": {},
   "source": [
    "Selain melihat, tentunya kita juga bisa melakukan *assignment*:"
   ]
  },
  {
   "cell_type": "code",
   "execution_count": 5,
   "metadata": {},
   "outputs": [
    {
     "name": "stdout",
     "output_type": "stream",
     "text": [
      "21\n"
     ]
    }
   ],
   "source": [
    "orang1.umur = 21\n",
    "print(orang1.umur)"
   ]
  },
  {
   "cell_type": "markdown",
   "metadata": {},
   "source": [
    "Bahkan, kita bisa melakukan variasi *assignment* lainnya seperti biasa, misalnya `+=`"
   ]
  },
  {
   "cell_type": "code",
   "execution_count": 6,
   "metadata": {},
   "outputs": [
    {
     "name": "stdout",
     "output_type": "stream",
     "text": [
      "24\n"
     ]
    }
   ],
   "source": [
    "orang1.umur += 3\n",
    "print(orang1.umur)"
   ]
  },
  {
   "cell_type": "markdown",
   "metadata": {},
   "source": [
    "Kalau dirasa perlu, kita dapat membuat fungsi yang akan menerima suatu objek `Orang` lalu akan mengubah data `umur`.`"
   ]
  },
  {
   "cell_type": "code",
   "execution_count": 7,
   "metadata": {},
   "outputs": [],
   "source": [
    "def ulangtahun(orang):\n",
    "    orang.umur += 1"
   ]
  },
  {
   "cell_type": "markdown",
   "metadata": {},
   "source": [
    "Sehingga, bisa digunakan seperti berikut:"
   ]
  },
  {
   "cell_type": "code",
   "execution_count": 8,
   "metadata": {},
   "outputs": [
    {
     "name": "stdout",
     "output_type": "stream",
     "text": [
      "25\n"
     ]
    }
   ],
   "source": [
    "ulangtahun(orang1)\n",
    "print(orang1.umur)"
   ]
  },
  {
   "cell_type": "markdown",
   "metadata": {},
   "source": [
    "Perhatikan bahwa objek di Python bersifat *pass-by-reference*! Artinya, apabila suatu objek dimasukkan ke dalam fungsi, kemudian dimodifikasi di dalam fungsi tersebut, maka modifikasi tersebut juga berdampak hingga di luar fungsi."
   ]
  },
  {
   "cell_type": "markdown",
   "metadata": {},
   "source": [
    "Definisi fungsi `ulangtahun` yang telah kita buat di atas sebenarnya bisa dimasukkan ke dalam definisi `class Orang` sebagai suatu *method*."
   ]
  },
  {
   "cell_type": "code",
   "execution_count": 9,
   "metadata": {},
   "outputs": [],
   "source": [
    "class Orang:\n",
    "    def __init__(self, nama, umur):\n",
    "        self.nama = nama\n",
    "        self.umur = umur\n",
    "    def ulangtahun(self):\n",
    "        self.umur += 1"
   ]
  },
  {
   "cell_type": "markdown",
   "metadata": {},
   "source": [
    "Perhatikan, ini adalah pendefinisian ulang! Ini adalah definisi baru untuk `class Orang`. Sedangkan, objek-objek yang sudah kita buat sebelumnya masih menganut definisi yang lama. Sehingga, setelah ini, kita harus membuat ulang objek agar mengikuti definisi `class Orang` yang baru."
   ]
  },
  {
   "cell_type": "markdown",
   "metadata": {},
   "source": [
    "Perhatikan juga, ada sedikit perbedaan istilah pada fungsi `ulangtahun`: tadinya, objek yang masuk itu kita sebut `orang`, sekarang kita sebut `self`. Istilah `self` ini memang sudah menjadi kebiasaan di Python untuk merujuk ke diri sendiri, yaitu objek yang bersangkutan. Tiap definisi *method* selalu harus diawali dengan masuknya objek yang bersangkutan (yang biasa disebut `self`), sudah menjadi formalitas di Python.\n",
    "\n",
    "Itulah mengapa, di definisi `__init__` seolah-olah ada tiga variabel yang masuk yaitu `self`, `nama`, dan `umur`, meskipun yang diperlukan ketika membuat objeknya hanyalah `nama` dan `umur`."
   ]
  },
  {
   "cell_type": "markdown",
   "metadata": {},
   "source": [
    "Mari kita buat ulang `orang1`:"
   ]
  },
  {
   "cell_type": "code",
   "execution_count": 10,
   "metadata": {},
   "outputs": [],
   "source": [
    "orang1 = Orang(\"Bisma\", 19)"
   ]
  },
  {
   "cell_type": "markdown",
   "metadata": {},
   "source": [
    "Kita bisa melihat atributnya:"
   ]
  },
  {
   "cell_type": "code",
   "execution_count": 11,
   "metadata": {},
   "outputs": [
    {
     "name": "stdout",
     "output_type": "stream",
     "text": [
      "Bisma\n",
      "19\n"
     ]
    }
   ],
   "source": [
    "print(orang1.nama)\n",
    "print(orang1.umur)"
   ]
  },
  {
   "cell_type": "markdown",
   "metadata": {},
   "source": [
    "Kemudian, kita bisa menggunakan *method* `ulangtahun` yang telah kita buat, lalu melihat data umur terbaru:"
   ]
  },
  {
   "cell_type": "code",
   "execution_count": 12,
   "metadata": {},
   "outputs": [
    {
     "name": "stdout",
     "output_type": "stream",
     "text": [
      "20\n"
     ]
    }
   ],
   "source": [
    "orang1.ulangtahun()\n",
    "print(orang1.umur)"
   ]
  },
  {
   "cell_type": "markdown",
   "metadata": {},
   "source": [
    "Penggunaan *method* memang seperti itu, sangat mirip dengan mengakses atribut, bedanya adalah bahwa *method* berupa fungsi. Di sini, kita bisa melihat, baik atribut maupun *method* suatu objek itu sama-sama berada di bawah satu nama yang sama, yaitu objek yang bersangkutan (di sini, baik atribut `umur` maupun *method* `ulangtahun` diakses melalui `orang1`)."
   ]
  },
  {
   "cell_type": "markdown",
   "metadata": {},
   "source": [
    "Kalau mau, kita bisa melakukannya lagi:"
   ]
  },
  {
   "cell_type": "code",
   "execution_count": 13,
   "metadata": {},
   "outputs": [
    {
     "name": "stdout",
     "output_type": "stream",
     "text": [
      "21\n"
     ]
    }
   ],
   "source": [
    "orang1.ulangtahun()\n",
    "print(orang1.umur)"
   ]
  },
  {
   "cell_type": "markdown",
   "metadata": {},
   "source": [
    "Tentu saja, kegunaan `class` tidak sebatas itu. Bahkan, ada semacam \"paradigma pemrograman\" (gaya pemrograman) di mana kita sering berurusan dengan `class`, yang disebut OOP. Agar lebih paham juga tentang `class` dan kegunaannya, kita akan mempelajari dasar-dasar OOP, yang tercakup oleh empat pilar (tiang) OOP."
   ]
  },
  {
   "cell_type": "markdown",
   "metadata": {},
   "source": [
    "## Empat pilar OOP"
   ]
  },
  {
   "cell_type": "markdown",
   "metadata": {},
   "source": [
    "Empat pilar OOP adalah:\n",
    "\n",
    "1. *Encapsulation* (pembungkusan)\n",
    "2. *Abstraction* (abstraksi; kebalikan dari \"mendetail\")\n",
    "3. *Inheritance* (pewarisan sifat)\n",
    "4. *Polymorphism* (\"banyak bentuk\")\n",
    "\n",
    "Istilah prinsip *polymorphism* memang sulit diterjemahkan. Kita akan membahas masing-masing keempat prinsip OOP tersebut."
   ]
  },
  {
   "cell_type": "markdown",
   "metadata": {},
   "source": [
    "### *Encapsulation* dan *Abstraction*"
   ]
  },
  {
   "cell_type": "markdown",
   "metadata": {},
   "source": [
    "Sejauh ini, kita sudah merasakan bagaimana variabel (atribut) dan fungsi (*method*) sama-sama berada di bawah satu nama yang sama, yaitu objek yang bersangkutan. Seolah-olah, atribut dan *method* tersebut dibungkus ke dalam objek tersebut. Inilah yang dinamakan prinsip ***encapsulation*** atau pembungkusan."
   ]
  },
  {
   "cell_type": "markdown",
   "metadata": {},
   "source": [
    "Namun, ada juga konsep *data hiding*, di mana atribut objek sebaiknya diakses dan dimodifikasi melalui *method* saja. *Method* untuk memperoleh (mengakses) nilai atribut tertentu disebut *getter*, dan *method* untuk memasang nilai baru untuk atribut tertentu disebut *setter*.\n",
    "\n",
    "Prinsip *data hiding* seringkali dianggap bagian dari prinsip *encapsulation* (tetapi terkadang dianggap bagian dari *abstraction* yang akan kita bahas selanjutnya)."
   ]
  },
  {
   "cell_type": "markdown",
   "metadata": {},
   "source": [
    "Kita akan mendefinisikan ulang `class Orang` agar memiliki *getter* dan *setter* untuk atribut `umur`."
   ]
  },
  {
   "cell_type": "code",
   "execution_count": 14,
   "metadata": {},
   "outputs": [],
   "source": [
    "class Orang:\n",
    "    def __init__(self, nama, umur):\n",
    "        self.nama = nama\n",
    "        self.umur = umur\n",
    "    def ulangtahun(self):\n",
    "        self.umur += 1\n",
    "    def get_umur(self):\n",
    "        return self.umur\n",
    "    def set_umur(self, baru):\n",
    "        self.umur = baru"
   ]
  },
  {
   "cell_type": "markdown",
   "metadata": {},
   "source": [
    "Perhatikan bahwa *method* `get_umur` melakukan `return`. Penggunaannya akan mirip dengan fungsi seperti biasanya. Kemudian, *method* `set_umur` akan menerima satu input di dalam kurungnya (sedangkan `self` hanya untuk formalitas)."
   ]
  },
  {
   "cell_type": "markdown",
   "metadata": {},
   "source": [
    "Kita bisa membuat objek seperti biasa..."
   ]
  },
  {
   "cell_type": "code",
   "execution_count": 15,
   "metadata": {},
   "outputs": [],
   "source": [
    "orang1 = Orang(\"Bisma\", 19)"
   ]
  },
  {
   "cell_type": "markdown",
   "metadata": {},
   "source": [
    "Lalu kita bisa melihat umurnya seperti ini:"
   ]
  },
  {
   "cell_type": "code",
   "execution_count": 17,
   "metadata": {},
   "outputs": [
    {
     "name": "stdout",
     "output_type": "stream",
     "text": [
      "19\n"
     ]
    }
   ],
   "source": [
    "print(orang1.get_umur())"
   ]
  },
  {
   "cell_type": "markdown",
   "metadata": {},
   "source": [
    "Atau bahkan kita bisa membuat variabel baru yang menyimpan umur yang diperoleh:"
   ]
  },
  {
   "cell_type": "code",
   "execution_count": 18,
   "metadata": {},
   "outputs": [
    {
     "name": "stdout",
     "output_type": "stream",
     "text": [
      "19\n"
     ]
    }
   ],
   "source": [
    "berapa_tahun = orang1.get_umur()\n",
    "print(berapa_tahun)"
   ]
  },
  {
   "cell_type": "markdown",
   "metadata": {},
   "source": [
    "Kemudian, kita bisa memasang nilai baru untuk atribut umur:"
   ]
  },
  {
   "cell_type": "code",
   "execution_count": 19,
   "metadata": {},
   "outputs": [],
   "source": [
    "orang1.set_umur(30)"
   ]
  },
  {
   "cell_type": "markdown",
   "metadata": {},
   "source": [
    "Lalu memperoleh kembali umur yang baru:"
   ]
  },
  {
   "cell_type": "code",
   "execution_count": 22,
   "metadata": {},
   "outputs": [
    {
     "data": {
      "text/plain": [
       "30"
      ]
     },
     "execution_count": 22,
     "metadata": {},
     "output_type": "execute_result"
    }
   ],
   "source": [
    "orang1.get_umur()"
   ]
  },
  {
   "cell_type": "markdown",
   "metadata": {},
   "source": [
    "Sebenarnya, tujuan *getter* dan *setter* adalah untuk berjaga-jaga agar tidak terjadi hal yang aneh. Misalnya, saat ini, kita masih bisa memasang umur menjadi negatif:"
   ]
  },
  {
   "cell_type": "code",
   "execution_count": 23,
   "metadata": {},
   "outputs": [
    {
     "name": "stdout",
     "output_type": "stream",
     "text": [
      "-5\n"
     ]
    }
   ],
   "source": [
    "orang1.umur = -5\n",
    "print(orang1.umur)"
   ]
  },
  {
   "cell_type": "markdown",
   "metadata": {},
   "source": [
    "Kita dapat menambahkan *if statement* pada definisi *method* `set_umur` di definisi `class Orang` untuk mencegah umur dipasang menjadi negatif: "
   ]
  },
  {
   "cell_type": "code",
   "execution_count": 24,
   "metadata": {},
   "outputs": [],
   "source": [
    "class Orang:\n",
    "    def __init__(self, nama, umur):\n",
    "        self.nama = nama\n",
    "        self.umur = umur\n",
    "    def ulangtahun(self):\n",
    "        self.umur += 1\n",
    "    def get_umur(self):\n",
    "        return self.umur\n",
    "    def set_umur(self, baru):\n",
    "        if baru >= 0:\n",
    "            self.umur = baru\n",
    "        else:\n",
    "            print(\"error: umur tidak bisa negatif\")"
   ]
  },
  {
   "cell_type": "markdown",
   "metadata": {},
   "source": [
    "Sehingga, setelah membuat objek, kita bisa mencoba:"
   ]
  },
  {
   "cell_type": "code",
   "execution_count": 25,
   "metadata": {},
   "outputs": [],
   "source": [
    "orang1 = Orang(\"Bisma\", 19)"
   ]
  },
  {
   "cell_type": "code",
   "execution_count": 26,
   "metadata": {},
   "outputs": [
    {
     "name": "stdout",
     "output_type": "stream",
     "text": [
      "error: umur tidak bisa negatif\n"
     ]
    }
   ],
   "source": [
    "orang1.set_umur(-5)"
   ]
  },
  {
   "cell_type": "markdown",
   "metadata": {},
   "source": [
    "Dengan begitu, data `umur` masih aman:"
   ]
  },
  {
   "cell_type": "code",
   "execution_count": 27,
   "metadata": {},
   "outputs": [
    {
     "data": {
      "text/plain": [
       "19"
      ]
     },
     "execution_count": 27,
     "metadata": {},
     "output_type": "execute_result"
    }
   ],
   "source": [
    "orang1.get_umur()"
   ]
  },
  {
   "cell_type": "markdown",
   "metadata": {},
   "source": [
    "Sedangkan, pemasangan umur menjadi bilangan yang tidak negatif tetap berjalan dengan lancar:"
   ]
  },
  {
   "cell_type": "code",
   "execution_count": 28,
   "metadata": {},
   "outputs": [
    {
     "name": "stdout",
     "output_type": "stream",
     "text": [
      "25\n"
     ]
    }
   ],
   "source": [
    "orang1.set_umur(25)\n",
    "print(orang1.get_umur())"
   ]
  },
  {
   "cell_type": "markdown",
   "metadata": {},
   "source": [
    "Apakah kemudian kita masih bisa menuliskan misalnya `orang1.umur = -5`? Masih bisa, tetapi setidaknya, sekarang dengan adanya *getter* dan *setter* untuk atribut `umur`, kita bisa menjadikan kebiasaan agar selalu menggunakan `get_umur` dan `set_umur` ketika ingin berurusan dengan data umur, tidak lagi melalui `self.umur`, agar terjamin tidak akan terjadi keanehan seperti itu. Biasanya, istilahnya, atribut `umur` disebut *private*, karena diharapkan tidak bisa diakses dari luar secara langsung, hanya boleh melalui *method*."
   ]
  },
  {
   "cell_type": "markdown",
   "metadata": {},
   "source": [
    "Bahkan, kita dapat menggunakan *getter* dan *setter* di dalam definisi *method* lainnya. Contohnya, yang tadinya *method* `ulangtahun` didefinisikan sebagai `self.umur += 1`, kita bisa menggantikannya dengan `get_umur` dan `set_umur`:"
   ]
  },
  {
   "cell_type": "code",
   "execution_count": 29,
   "metadata": {},
   "outputs": [],
   "source": [
    "class Orang:\n",
    "    def __init__(self, nama, umur):\n",
    "        self.nama = nama\n",
    "        self.umur = umur\n",
    "    def ulangtahun(self):\n",
    "        self.set_umur(self.get_umur() + 1)\n",
    "    def get_umur(self):\n",
    "        return self.umur\n",
    "    def set_umur(self, baru):\n",
    "        if baru >= 0:\n",
    "            self.umur = baru\n",
    "        else:\n",
    "            print(\"error: umur tidak bisa negatif\")"
   ]
  },
  {
   "cell_type": "markdown",
   "metadata": {},
   "source": [
    "Pada definisi baru di atas untuk *method* `ulangtahun`, konsepnya sebagai berikut:\n",
    "\n",
    "1. Peroleh umur saat ini dengan `self.get_umur`\n",
    "2. Tambah satu\n",
    "3. Hasil yang baru itu dijadikan umur yang baru menggunakan `self.set_umur`"
   ]
  },
  {
   "cell_type": "markdown",
   "metadata": {},
   "source": [
    "Saat ini, `orang1` masih menggunakan definisi *method* `ulangtahun` yang lama. Mari kita buat objek baru dari definisi `class Orang` yang baru bernama `orang3`, agar bisa dibandingkan:"
   ]
  },
  {
   "cell_type": "code",
   "execution_count": 30,
   "metadata": {},
   "outputs": [],
   "source": [
    "orang3 = Orang(\"Bisma\", 19)\n",
    "orang1.set_umur(19) # kita samakan dulu umurnya"
   ]
  },
  {
   "cell_type": "markdown",
   "metadata": {},
   "source": [
    "Kemudian, kita gunakan *method* `ulangtahun` pada keduanya:"
   ]
  },
  {
   "cell_type": "code",
   "execution_count": 31,
   "metadata": {},
   "outputs": [],
   "source": [
    "orang1.ulangtahun()\n",
    "orang3.ulangtahun()"
   ]
  },
  {
   "cell_type": "markdown",
   "metadata": {},
   "source": [
    "Kita bisa melihat umur baru masing-masing:"
   ]
  },
  {
   "cell_type": "code",
   "execution_count": 32,
   "metadata": {},
   "outputs": [
    {
     "name": "stdout",
     "output_type": "stream",
     "text": [
      "20\n",
      "20\n"
     ]
    }
   ],
   "source": [
    "print(orang1.get_umur())\n",
    "print(orang3.get_umur())"
   ]
  },
  {
   "cell_type": "markdown",
   "metadata": {},
   "source": [
    "Ternyata hasilnya sama. Artinya, kedua cara mendefinisikan *method* `ulangtahun` itu memberikan hasil yang sama."
   ]
  },
  {
   "cell_type": "markdown",
   "metadata": {},
   "source": [
    "Perhatikan bahwa, dari segi penggunaan, untuk menambahkan satu ke data `umur`, kita tinggal memanggil *method* `ulangtahun`. Kita tidak perlu memikirkan internalnya seperti apa. Bahkan, kita bisa mengubah definisinya secara internal, tetapi cara penggunaannya dari luar tetap sama.\n",
    "\n",
    "Selain itu, untuk memasang data umur baru tanpa pusing, kita bisa langsung menggunakan `set_umur`. Bahkan, kita tidak perlu mengkhawatirkan kasus umur negatif; *method* tersebut bisa langsung menanganinya. Sehingga, kapanpun kita ingin memasang data umur yang baru, kita tidak perlu lagi membuat *if statement* untuk memastikan umurnya tidak negatif, karena sudah ditangani oleh `set_umur`.\n",
    "\n",
    "Kedua contoh *method* di atas menggambarkan bagaimana *method* bisa sangat mempermudah proses pemrograman kita dengan objek. Prinsip ***abstraction*** menekankan penggunaan *method* dengan cara seperti itu agar kita tidak perlu terlalu memusingkan detailnya. Misalnya, kita tidak perlu memusingkan cara mendefinisikan *method* `ulangtahun`, dan kita tidak perlu memusingkan kasus umur negatif berkat adanya *method* `set_umur`, pokoknya tinggal pakai. Lagipula, maksudnya \"abstraksi\" adalah kebalikan dari \"mendetail\"."
   ]
  },
  {
   "cell_type": "markdown",
   "metadata": {},
   "source": [
    "Selain tidak pusing, manfaat lain dari *abstraction* adalah, kapanpun kita mau, kita bisa memodifikasi definisi *method* di definisi `class` nya saja, tanpa harus mengubah kode yang menggunakan *method* tersebut.\n",
    "\n",
    "Bayangkan apabila tidak ada *method* `ulangtahun`, sehingga kita menjadi harus mengubah `self.umur += 1` menjadi `self.set_umur(self.get_umur() + 1)` di mana-mana. Betapa ribetnya."
   ]
  },
  {
   "cell_type": "markdown",
   "metadata": {},
   "source": [
    "### *Inheritance* (pewarisan sifat)"
   ]
  },
  {
   "cell_type": "markdown",
   "metadata": {},
   "source": [
    "Sebelum belajar tentang *inheritance*, mari kita buat satu *method* lagi yaitu `perkenalan`:"
   ]
  },
  {
   "cell_type": "code",
   "execution_count": 35,
   "metadata": {},
   "outputs": [],
   "source": [
    "class Orang:\n",
    "    def __init__(self, nama, umur):\n",
    "        self.nama = nama\n",
    "        self.umur = umur\n",
    "    def ulangtahun(self):\n",
    "        self.set_umur(self.get_umur() + 1)\n",
    "    def get_umur(self):\n",
    "        return self.umur\n",
    "    def set_umur(self, baru):\n",
    "        if baru >= 0:\n",
    "            self.umur = baru\n",
    "        else:\n",
    "            print(\"error: umur tidak bisa negatif\")\n",
    "    def perkenalan(self):\n",
    "        print(\"Halo, nama saya \" + self.nama + \" dan umur saya \" + str(self.umur) + \" tahun.\")"
   ]
  },
  {
   "cell_type": "markdown",
   "metadata": {},
   "source": [
    "Seperti biasa, kita bisa membuat objek:"
   ]
  },
  {
   "cell_type": "code",
   "execution_count": 38,
   "metadata": {},
   "outputs": [],
   "source": [
    "orang1 = Orang(\"Bisma\", 19)\n",
    "orang2 = Orang(\"Vero\", 20)"
   ]
  },
  {
   "cell_type": "markdown",
   "metadata": {},
   "source": [
    "Kemudian, kita bisa memanggil *method* `perkenalan`"
   ]
  },
  {
   "cell_type": "code",
   "execution_count": 39,
   "metadata": {},
   "outputs": [
    {
     "name": "stdout",
     "output_type": "stream",
     "text": [
      "Halo, nama saya Bisma dan umur saya 19 tahun.\n",
      "Halo, nama saya Vero dan umur saya 20 tahun.\n"
     ]
    }
   ],
   "source": [
    "orang1.perkenalan()\n",
    "orang2.perkenalan()"
   ]
  },
  {
   "cell_type": "markdown",
   "metadata": {},
   "source": [
    "Lalu, misalnya, kita ingin membuat `class` baru yaitu `class Mahasiswa`, yang akan memiliki atribut tambahan yaitu NPM.\n",
    "\n",
    "Tentunya, mahasiswa adalah orang, sehingga kita harapkan bahwa semua yang bisa dilakukan oleh objek dari `class Orang` juga bisa dilakukan oleh objek dari `class Mahasiswa`.\n",
    "\n",
    "Untungnya, daripada harus *copy-paste* semua *method* yang ada di `class Orang` ke dalam definisi `class Mahasiswa`, kita tinggal memanfaatkan ***inheritance*** (pewarisan sifat), dengan *syntax* yang bisa dilihat di baris pertama di kode berikut:"
   ]
  },
  {
   "cell_type": "code",
   "execution_count": 40,
   "metadata": {},
   "outputs": [],
   "source": [
    "class Mahasiswa(Orang):\n",
    "    def __init__(self, nama, umur, NPM):\n",
    "        self.nama = nama\n",
    "        self.umur = umur\n",
    "        self.NPM = NPM"
   ]
  },
  {
   "cell_type": "markdown",
   "metadata": {},
   "source": [
    "Sesingkat itu! Kita tinggal menyediakan *constructor* `__init__` yang baru yang lebih sesuai untuk `class Mahasiswa`, karena adanya atribut baru yaitu NPM. Semua *method* lainnya akan tetap dimiliki oleh objek dari `class Mahasiswa` karena sudah diwariskan dari `class Orang`, hanya dengan menuliskan `class Mahasiswa(Orang)` pada baris pertama definisi `class Mahasiswa`."
   ]
  },
  {
   "cell_type": "markdown",
   "metadata": {},
   "source": [
    "`class` yang asli (di sini `class Orang`) biasa disebut *parent class*, *base class*, atau *superclass*, sedangkan `class` yang mewariskan (di sini `class Mahasiswa`) biasa disebut *child class*, *derived class*, atau *subclass*."
   ]
  },
  {
   "cell_type": "markdown",
   "metadata": {},
   "source": [
    "Kemudian, pembuatan objek dari `class Mahasiswa` dilakukan seperti biasa (jangan lupa, kali ini ada tiga atribut):"
   ]
  },
  {
   "cell_type": "code",
   "execution_count": 41,
   "metadata": {},
   "outputs": [],
   "source": [
    "mhs1 = Mahasiswa(\"Bisma\", 19, 2106635581)"
   ]
  },
  {
   "cell_type": "markdown",
   "metadata": {},
   "source": [
    "Seperti biasa, kita bisa lihat isi atributnya satu per satu:"
   ]
  },
  {
   "cell_type": "code",
   "execution_count": 42,
   "metadata": {},
   "outputs": [
    {
     "name": "stdout",
     "output_type": "stream",
     "text": [
      "Bisma\n",
      "19\n",
      "2106635581\n"
     ]
    }
   ],
   "source": [
    "print(mhs1.nama)\n",
    "print(mhs1.umur)\n",
    "print(mhs1.NPM)"
   ]
  },
  {
   "cell_type": "markdown",
   "metadata": {},
   "source": [
    "Semua *method* yang dimiliki oleh objek `Orang` itu juga dimiliki oleh objek `Mahasiswa`. Misalnya, kita bisa menggunakan *method* `ulangtahun` dan `get_umur`:"
   ]
  },
  {
   "cell_type": "code",
   "execution_count": 43,
   "metadata": {},
   "outputs": [
    {
     "name": "stdout",
     "output_type": "stream",
     "text": [
      "20\n"
     ]
    }
   ],
   "source": [
    "mhs1.ulangtahun()\n",
    "print(mhs1.get_umur())"
   ]
  },
  {
   "cell_type": "markdown",
   "metadata": {},
   "source": [
    "Kita juga bisa melakukan `perkenalan`"
   ]
  },
  {
   "cell_type": "code",
   "execution_count": 44,
   "metadata": {},
   "outputs": [
    {
     "name": "stdout",
     "output_type": "stream",
     "text": [
      "Halo, nama saya Bisma dan umur saya 20 tahun.\n"
     ]
    }
   ],
   "source": [
    "mhs1.perkenalan()"
   ]
  },
  {
   "cell_type": "markdown",
   "metadata": {},
   "source": [
    "Namun, isi perkenalannya sama persis seperti objek `Orang`, bahkan tidak ada keterangan NPM. Bagaimana kalau kita mau mahasiswa melakukan perkenalan dengan NPM juga? Apakah kita bisa memodifikasi *method* ini khusus untuk `class Mahasiswa`? Jawabannya adalah bisa, berkat prinsip *polymorphism*."
   ]
  },
  {
   "cell_type": "markdown",
   "metadata": {},
   "source": [
    "### *Polymorphism* (\"banyak bentuk\")"
   ]
  },
  {
   "cell_type": "markdown",
   "metadata": {},
   "source": [
    "Setelah melakukan *inheritance*, seandainya ada *method* yang diwaris yang dirasa perlu diubah atau dibedakan dari *parent class*, kita tinggal mendefinisikan ulang *method* tersebut di dalam definisi *child class* yang bersangkutan."
   ]
  },
  {
   "cell_type": "markdown",
   "metadata": {},
   "source": [
    "Misalnya, kita bisa mendefinisikan ulang *method* `perkenalan` di dalam definisi `class Mahasiswa` agar berbeda dengan `perkenalan` di `class Orang`:"
   ]
  },
  {
   "cell_type": "code",
   "execution_count": 45,
   "metadata": {},
   "outputs": [],
   "source": [
    "class Mahasiswa(Orang):\n",
    "    def __init__(self, nama, umur, NPM):\n",
    "        self.nama = nama\n",
    "        self.umur = umur\n",
    "        self.NPM = NPM\n",
    "    def perkenalan(self):\n",
    "        print(\"Perkenalkan, saya \" + self.nama + \" dengan NPM \" + str(self.NPM) )"
   ]
  },
  {
   "cell_type": "markdown",
   "metadata": {},
   "source": [
    "Kita sudah memiliki `orang1` sebagai objek dari `class Orang`, sehingga bisa kita bandingkan dengan objek dari `class Mahasiswa` yang perlu kita buat ulang:"
   ]
  },
  {
   "cell_type": "code",
   "execution_count": 46,
   "metadata": {},
   "outputs": [],
   "source": [
    "mhs1 = Mahasiswa(\"Bisma\", 19, 2106635581)"
   ]
  },
  {
   "cell_type": "markdown",
   "metadata": {},
   "source": [
    "Sekarang kita lakukan `perkenalan` untuk masing-masing:"
   ]
  },
  {
   "cell_type": "code",
   "execution_count": 47,
   "metadata": {},
   "outputs": [
    {
     "name": "stdout",
     "output_type": "stream",
     "text": [
      "Halo, nama saya Bisma dan umur saya 19 tahun.\n",
      "Perkenalkan, saya Bisma dengan NPM 2106635581\n"
     ]
    }
   ],
   "source": [
    "orang1.perkenalan()\n",
    "mhs1.perkenalan()"
   ]
  },
  {
   "cell_type": "markdown",
   "metadata": {},
   "source": [
    "Hasilnya berbeda, sesuai harapan. Namun, nama *method* nya tetap sama, yaitu `perkenalan`. Seolah-olah, *method* `perkenalan` ini adalah \"*method* yang sama\" tetapi \"memiliki bentuk yang berbeda-beda\", yaitu berbeda antara di `class Orang` dengan `class Mahasiswa`.\n",
    "\n",
    "Bahkan, kalau mau, kita bisa membuat *child class* yang baru lagi dari `class Orang`, dan mendefinisikan ulang atau \"menimpa\" lagi *method* `perkenalan` untuk *child class* tersebut. Sehingga, *method* `perkenalan` ini seperti memiliki banyak bentuk.\n",
    "\n",
    "\"Banyak bentuk\" itulah yang dimaksud dengan ***polymorphism***. Kita bisa melakukan *inheritance* berkali-kali, kemudian \"menimpa\" suatu *method* pada *child class* dengan definisi yang berbeda daripada di *parent class*."
   ]
  },
  {
   "cell_type": "markdown",
   "metadata": {},
   "source": [
    "Penerapan lain dari prinsip *polymorphism* adalah fitur yang bernama *operator overloading*, yang kebetulan dimiliki oleh Python dan sejumlah \"bahasa OOP\" lainnya (bahasa yang \"mendukung OOP\", yaitu memiliki fitur `class`, *inheritance* dan sebagainya sesuai dengan empat pilar OOP)."
   ]
  },
  {
   "cell_type": "markdown",
   "metadata": {},
   "source": [
    "## *Operator overloading*"
   ]
  },
  {
   "cell_type": "markdown",
   "metadata": {},
   "source": [
    "Misalnya kita membuat `class Pecahan` yang terdiri dari atribut `pembilang` dan `penyebut`:"
   ]
  },
  {
   "cell_type": "code",
   "execution_count": 48,
   "metadata": {},
   "outputs": [],
   "source": [
    "class Pecahan:\n",
    "    def __init__(self, pembilang, penyebut):\n",
    "        self.pembilang = pembilang\n",
    "        self.penyebut = penyebut"
   ]
  },
  {
   "cell_type": "markdown",
   "metadata": {},
   "source": [
    "Kita bisa membuat pecahan setengah seperti berikut:"
   ]
  },
  {
   "cell_type": "code",
   "execution_count": 49,
   "metadata": {},
   "outputs": [],
   "source": [
    "frac1 = Pecahan(1, 2)"
   ]
  },
  {
   "cell_type": "markdown",
   "metadata": {},
   "source": [
    "Kita bisa melihat isi atribut `pembilang` dan `penyebut`:"
   ]
  },
  {
   "cell_type": "code",
   "execution_count": 50,
   "metadata": {},
   "outputs": [
    {
     "name": "stdout",
     "output_type": "stream",
     "text": [
      "1\n",
      "2\n"
     ]
    }
   ],
   "source": [
    "print(frac1.pembilang)\n",
    "print(frac1.penyebut)"
   ]
  },
  {
   "cell_type": "markdown",
   "metadata": {},
   "source": [
    "Misalnya kita ada pecahan lain..."
   ]
  },
  {
   "cell_type": "code",
   "execution_count": 51,
   "metadata": {},
   "outputs": [],
   "source": [
    "frac2 = Pecahan(3, 5)"
   ]
  },
  {
   "cell_type": "markdown",
   "metadata": {},
   "source": [
    "... alangkah indahnya kalau kita bisa menjumlahkannya begitu saja..."
   ]
  },
  {
   "cell_type": "code",
   "execution_count": 52,
   "metadata": {},
   "outputs": [
    {
     "ename": "TypeError",
     "evalue": "unsupported operand type(s) for +: 'Pecahan' and 'Pecahan'",
     "output_type": "error",
     "traceback": [
      "\u001b[0;31m---------------------------------------------------------------------------\u001b[0m",
      "\u001b[0;31mTypeError\u001b[0m                                 Traceback (most recent call last)",
      "\u001b[1;32m/Users/Bisma/Documents/Files/University, S1/2022 2024 Aslab/Modul Struktur Data 2023/Lab Praktikum Departemen Matematika FMIPA UI/modul-prak/semuahalaman/modulprak/2023/ganjil/strukdat_py/Strukdat2023_Modul02.ipynb Cell 125\u001b[0m line \u001b[0;36m1\n\u001b[0;32m----> <a href='vscode-notebook-cell:/Users/Bisma/Documents/Files/University%2C%20S1/2022%202024%20Aslab/Modul%20Struktur%20Data%202023/Lab%20Praktikum%20Departemen%20Matematika%20FMIPA%20UI/modul-prak/semuahalaman/modulprak/2023/ganjil/strukdat_py/Strukdat2023_Modul02.ipynb#Y301sZmlsZQ%3D%3D?line=0'>1</a>\u001b[0m frac1 \u001b[39m+\u001b[39;49m frac2\n",
      "\u001b[0;31mTypeError\u001b[0m: unsupported operand type(s) for +: 'Pecahan' and 'Pecahan'"
     ]
    }
   ],
   "source": [
    "frac1 + frac2"
   ]
  },
  {
   "cell_type": "markdown",
   "metadata": {},
   "source": [
    "Terjadi *error*, karena saat ini, operator + belum ada artinya untuk objek `Pecahan`."
   ]
  },
  {
   "cell_type": "markdown",
   "metadata": {},
   "source": [
    "Akan tetapi, ada *method* istimewa yang bisa kita definisikan agar operator + menjadi terdefinisi, lho! Namanya adalah `__add__`."
   ]
  },
  {
   "cell_type": "markdown",
   "metadata": {},
   "source": [
    "Secara matematis, penjumlahan pecahan bisa dituliskan seperti berikut:"
   ]
  },
  {
   "cell_type": "markdown",
   "metadata": {},
   "source": [
    "$$\\frac{a}{b} + \\frac{c}{d} = \\frac{ad + bc}{bd}$$"
   ]
  },
  {
   "cell_type": "markdown",
   "metadata": {},
   "source": [
    "Sehingga, kita bisa mendefinisikan *method* `__add__` sebagai berikut:"
   ]
  },
  {
   "cell_type": "code",
   "execution_count": 54,
   "metadata": {},
   "outputs": [],
   "source": [
    "class Pecahan:\n",
    "    def __init__(self, pembilang, penyebut):\n",
    "        self.pembilang = pembilang\n",
    "        self.penyebut = penyebut\n",
    "    def __add__(self, pecahan2):\n",
    "        a = self.pembilang\n",
    "        b = self.penyebut\n",
    "        c = pecahan2.pembilang\n",
    "        d = pecahan2.penyebut\n",
    "        atas = a*d + b*c\n",
    "        bawah = b*d\n",
    "        hasil = Pecahan(atas, bawah)\n",
    "        return hasil"
   ]
  },
  {
   "cell_type": "markdown",
   "metadata": {},
   "source": [
    "Lalu, kita bisa membuat ulang kedua pecahan yang tadi, mencoba menjumlahkannya, dan melihat data atribut `pembilang` dan `penyebut` di hasil jumlahannya:"
   ]
  },
  {
   "cell_type": "code",
   "execution_count": 55,
   "metadata": {},
   "outputs": [],
   "source": [
    "frac1 = Pecahan(1, 2)\n",
    "frac2 = Pecahan(3, 5)"
   ]
  },
  {
   "cell_type": "code",
   "execution_count": 56,
   "metadata": {},
   "outputs": [
    {
     "name": "stdout",
     "output_type": "stream",
     "text": [
      "11\n",
      "10\n"
     ]
    }
   ],
   "source": [
    "frac3 = frac1 + frac2\n",
    "print(frac3.pembilang)\n",
    "print(frac3.penyebut)"
   ]
  },
  {
   "cell_type": "markdown",
   "metadata": {},
   "source": [
    "Wow, keren! Hasilnya benar ya!"
   ]
  },
  {
   "cell_type": "markdown",
   "metadata": {},
   "source": [
    "Selain penjumlahan, kita bisa mendefinisikan banyak operator lainnya untuk `class`. Pendefinisian operator untuk `class` disebut *operator overloading* (\"menimpa operator\"), dan selalu melibatkan *method* istimewa atau ***magic methods*** (juga disebut *dunder methods* atau *double underscore methods*) yang sudah memiliki nama tertentu. Kebetulan, *constructor* yang dinamakan `__init__` juga termasuk *magic method*."
   ]
  },
  {
   "cell_type": "markdown",
   "metadata": {},
   "source": [
    "Kalian bisa membaca lebih lanjut tentang *operator overloading* dan *magic method* lainnya di link berikut:\n",
    "\n",
    "[https://www.geeksforgeeks.org/operator-overloading-in-python/](https://www.geeksforgeeks.org/operator-overloading-in-python/)"
   ]
  }
 ],
 "metadata": {
  "kernelspec": {
   "display_name": "Python 3",
   "language": "python",
   "name": "python3"
  },
  "language_info": {
   "codemirror_mode": {
    "name": "ipython",
    "version": 3
   },
   "file_extension": ".py",
   "mimetype": "text/x-python",
   "name": "python",
   "nbconvert_exporter": "python",
   "pygments_lexer": "ipython3",
   "version": "3.10.11"
  },
  "orig_nbformat": 4
 },
 "nbformat": 4,
 "nbformat_minor": 2
}
