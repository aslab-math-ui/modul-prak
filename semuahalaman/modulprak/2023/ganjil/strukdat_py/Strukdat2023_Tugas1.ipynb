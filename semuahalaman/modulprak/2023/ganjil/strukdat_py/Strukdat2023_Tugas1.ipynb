{
 "cells": [
  {
   "cell_type": "markdown",
   "metadata": {},
   "source": [
    "# Tugas 1 Praktikum Struktur Data: Array, Linked List, OOP"
   ]
  },
  {
   "cell_type": "markdown",
   "metadata": {},
   "source": [
    "Kembali ke [Struktur Data (dengan Python)](strukdat2023.qmd)"
   ]
  },
  {
   "cell_type": "markdown",
   "metadata": {},
   "source": [
    "Tugas ini diberikan pada hari dan tanggal: Minggu, 22 Oktober 2023"
   ]
  },
  {
   "cell_type": "markdown",
   "metadata": {},
   "source": [
    "Link soal dan petunjuk tugas (yaitu link menuju halaman ini):\n",
    "\n",
    "[https://bit.ly/SoalTugas1PrakStrukdat2023Ganjil](https://bit.ly/SoalTugas1PrakStrukdat2023Ganjil)"
   ]
  },
  {
   "cell_type": "markdown",
   "metadata": {},
   "source": [
    "## Petunjuk umum:"
   ]
  },
  {
   "cell_type": "markdown",
   "metadata": {},
   "source": [
    "1. Kerjakan secara individu.\n",
    "\n",
    "2. Kerjakan tugas ini menggunakan bahasa pemrograman Python dengan *file format* berupa *interactive Python notebook* (yaitu *file* berbentuk .ipynb BUKAN .py), yang bisa dibuat misalnya menggunakan Jupyter Notebook atau Google Colaboratory.\n",
    "\n",
    "3. **Harap sertakan penjelasan untuk setiap variabel yang digunakan dan setiap proses secara singkat** di sebelah (atas/bawah/kanan) barisnya (dengan comment, `#`). Selain itu, **sertakan juga penjelasan kode** (yang bisa mencakupi idenya apa, bagaimana cara eksekusinya, atau tentang algoritma yang digunakan) **pada *cell* di sebelah (atas/bawah) kode**.\n",
    "\n",
    "4. Format nama *file* untuk Tugas 1 ini adalah:\n",
    "\n",
    "    Kelas SIAK_Tugas1PrakStrukdat_Nama Lengkap_NPM.ipynb\n",
    "\n",
    "    Contoh penamaan yang benar:\n",
    "\n",
    "    Kelas C_Tugas1PrakStrukdat_Charles Antony Richard Hoare_2234567890.ipynb\n",
    "\n",
    "5. Pengumpulan Tugas 1 dilakukan ke Google Forms berikut ini:\n",
    "\n",
    "    [https://bit.ly/KumpulTugas1PrakStrukdat2023Ganjil](https://bit.ly/KumpulTugas1PrakStrukdat2023Ganjil)\n",
    "\n",
    "6. Apabila ada yang ingin direvisi setelah pengumpulan, lakukan pengumpulan ulang di Google Forms yang sama, tambahkan keterangan bahwa ada revisi, dan tambahkan kata “revisi” pada bagian akhir nama file, contohnya menjadi\n",
    "\n",
    "    Kelas C_Tugas1PrakStrukdat_Charles Antony Richard Hoare_2234567890_revisi.ipynb\n",
    "\n",
    "    Kelas C_Tugas1PrakStrukdat_Charles Antony Richard Hoare_2234567890_revisi2.ipynb\n",
    "\n",
    "    Kelas C_Tugas1PrakStrukdat_Charles Antony Richard Hoare_2234567890_revisi3.ipynb\n",
    "\n",
    "    (Revisi boleh dilakukan berkali-kali.)\n",
    "\n",
    "7. Dengan durasi pengerjaan sekitar **2 (dua) minggu**, tenggat waktu (*deadline*) pengumpulan Tugas 1 ini (termasuk revisi) adalah **Minggu, 5 November 2023, 23.59 WIB**.\n",
    "\n",
    "8. Sesuai standar Universitas Indonesia, **plagiarisme dilarang keras** dan bisa menyebabkan nilai tugas praktikum **menjadi nol untuk semua pihak yang terlibat, tanpa peringatan apapun.** Namun, Anda boleh langsung menggunakan kode yang ada di [modul praktikum](./strukdat2023.qmd).\n",
    "\n",
    "9. *Module* atau *package* Python yang boleh digunakan (di-*import*) untuk Tugas 1 ini hanyalah numpy dan graphviz. Apabila Anda berniat ingin menggunakan *module* lain, harap konfirmasikan ke narahubung terlebih dahulu (bisa saja diperbolehkan).\n",
    "\n",
    "10. Narahubung untuk Tugas 1 Praktikum Struktur Data adalah:\n",
    "\n",
    "    Bisma Rohpanca Joyosumarto (ID LINE: bisma_joyosumarto)\n",
    "    \n",
    "    Silakan hubungi narahubung di atas apabila ada yang ingin ditanyakan atau dikonfirmasikan."
   ]
  },
  {
   "cell_type": "markdown",
   "metadata": {},
   "source": [
    "## Soal:"
   ]
  },
  {
   "cell_type": "markdown",
   "metadata": {},
   "source": [
    "Untuk masing-masing dari kelima soal berikut ini, setelah menulis kode Anda, buatlah contoh *running* atau contoh penggunaannya (angka/data yang digunakan tidak harus sama dengan contoh di soal).\n",
    "\n",
    "Nilai maksimal apabila tiap *linked list* yang terlibat di contoh *running* yang Anda buat juga ditampilkan dengan `print_all` dan juga graphviz."
   ]
  },
  {
   "cell_type": "markdown",
   "metadata": {},
   "source": [
    "1. Menambahkan elemen *array* ke ujung *linked list*\n",
    "    \n",
    "    a. Diberikan suatu *linked list* dan suatu *array* atau *list*, buatlah fungsi `add_array_to_sllist` yang menambahkan masing-masing elemen *array* atau *list* tersebut ke ujung *linked list*.\n",
    "    \n",
    "    b. Mengingat bahwa *insertion* pada ujung *linked list* adalah O(n), bagaimana kompleksitas waktu (*time complexity*) dari fungsi yang Anda buat? Berikan argumen atas jawaban Anda (tidak harus berupa tabel *running time*, boleh berupa paragraf).\n",
    "    \n",
    "    Nilai maksimal apabila Anda berhasil membuat fungsi yang O(n) (atau lebih tepatnya O(n) + O(m), di mana n adalah ukuran mula-mula dari *linked list* dan m adalah ukuran *array*).\n",
    "\n",
    "    Contoh penggunaan fungsi:\n",
    "\n",
    "    ```\n",
    "    >>> linkedlist1 = SLList()\n",
    "    >>> linkedlist1.head = SLNode(89)\n",
    "    >>> linkedlist1.head.next = SLNode(43)\n",
    "    >>> array1 = np.array([64, -12, 35, 98])\n",
    "    >>> add_array_to_sllist(linkedlist1, array1)\n",
    "    >>> linkedlist1.print_all()\n",
    "    head -> 89 -> 43 -> 64 -> -12 -> 35 -> 98 -> None\n",
    "    ```"
   ]
  },
  {
   "cell_type": "markdown",
   "metadata": {},
   "source": [
    "2. *Linked list* menjadi *array*\n",
    "\n",
    "    Diberikan suatu *linked list*, buatlah fungsi `sllist_to_array` yang mengubahnya menjadi *array*. Nilai maksimal apabila definisi fungsi tidak melibatkan fitur `.append` maupun comprehension (baik list comprehension, set comprehension, maupun tuple comprehension).\n",
    "\n",
    "    Contoh penggunaan fungsi:\n",
    "\n",
    "    ```\n",
    "    >>> linkedlist1 = SLList()\n",
    "    >>> array1 = np.array([10, 30, -47, 73])\n",
    "    >>> add_array_to_sllist(linkedlist1, array1)\n",
    "    >>> linkedlist1.print_all()\n",
    "    head -> 10 -> 30 -> -47 -> 73 -> None\n",
    "    >>> array2 = sllist_to_array(linkedlist1)\n",
    "    >>> print(array2)\n",
    "    [ 10  30 -47  73]\n",
    "    ```"
   ]
  },
  {
   "cell_type": "markdown",
   "metadata": {},
   "source": [
    "3. *Sorting* suatu *linked list*\n",
    "\n",
    "    a. Diberikan suatu *linked list*, buatlah fungsi `get_sorted_sllist` yang mengembalikan (`return`) *linked list* tersebut dalam keadaan sudah terurut, di mana *node* dengan nilai data terkecil lah yang ditunjuk oleh *head* (sedangkan *node* dengan data terbesar ada di ujung *linked list*).\n",
    "\n",
    "    b. Bagaimana kompleksitas waktu (*time complexity*) dari fungsi yang Anda buat? Berikan argumen atas jawaban Anda (tidak harus berupa tabel *running time*, boleh berupa paragraf).\n",
    "\n",
    "    Nilai maksimal apabila\n",
    "    \n",
    "    * Anda berhasil membuat fungsi yang O(n log n)\n",
    "\n",
    "    * Fungsi yang Anda buat menghasilkan *linked list* baru tanpa mengubah *linked list* yang menjadi input\n",
    "\n",
    "    Contoh penggunaan fungsi:\n",
    "\n",
    "    ```\n",
    "    >>> linkedlist1 = SLList()\n",
    "    >>> array1 = np.array([10, -3, 97, -48])\n",
    "    >>> add_array_to_sllist(linkedlist1, array1)\n",
    "    >>> linkedlist2 = get_sorted_sllist(linkedlist1)\n",
    "    >>> linkedlist2.print_all()\n",
    "    head -> -48 -> -3 -> 10 -> 97 -> None\n",
    "    ```\n",
    "\n",
    "    Hint: untuk soal ini, tidak ada larangan, *linked list* akan diperlakukan bagaimana hingga nantinya memperoleh *linked list* yang sudah terurut. Bahkan, apabila misalnya *linked list* ingin diubah menjadi bentuk lain terlebih dahulu, yang nantinya diubah kembali menjadi *linked list*, itu juga tidak masalah. Selama hasilnya adalah *linked list* yang terurut, tidak ada cara yang salah. Silakan berkreativitas :)"
   ]
  },
  {
   "cell_type": "markdown",
   "metadata": {},
   "source": [
    "4. Membuat *method*\n",
    "\n",
    "    Modifikasi definisi class *linked list* agar fungsi yang telah Anda buat di soal nomor 1, 2, dan 3 bisa digunakan sebagai *method*, misalnya bernama `add_array`, `to_array`, dan `get_sorted`\n",
    "\n",
    "    Contoh penggunaan *method*:\n",
    "\n",
    "    ```\n",
    "    >>> linkedlist1 = SLList()\n",
    "    >>> array1 = np.array([81, -45, -27, 39])\n",
    "    >>> linkedlist1.add_array(array1)\n",
    "    >>> linkedlist2 = linkedlist1.get_sorted()\n",
    "    >>> array2 = linkedlist2.to_array()\n",
    "    >>> print(array2)\n",
    "    [-45 -27  39  81]\n",
    "    ```"
   ]
  },
  {
   "cell_type": "markdown",
   "metadata": {},
   "source": [
    "5. Penggabungan *linked list* dengan `+`\n",
    "\n",
    "    Modifikasi definisi class *linked list* agar dua *linked list* bisa \"ditambahkan\". Berikut contoh yang berhasil:\n",
    "\n",
    "    ```\n",
    "    >>> linkedlist1 = SLList()\n",
    "    >>> linkedlist1.add_array([9, 6, 2, 7])\n",
    "    >>> linkedlist2 = SLList()\n",
    "    >>> linkedlist2.add_array([10, 58, 3])\n",
    "    >>> linkedlist3 = linkedlist1 + linkedlist2\n",
    "    >>> linkedlist3.print_all()\n",
    "    head -> 9 -> 6 -> 2 -> 7 -> 10 -> 58 -> 3 -> None\n",
    "    ```\n",
    "\n",
    "    Hint: gunakan *operator overloading*."
   ]
  },
  {
   "cell_type": "markdown",
   "metadata": {},
   "source": []
  }
 ],
 "metadata": {
  "language_info": {
   "name": "python"
  }
 },
 "nbformat": 4,
 "nbformat_minor": 2
}
