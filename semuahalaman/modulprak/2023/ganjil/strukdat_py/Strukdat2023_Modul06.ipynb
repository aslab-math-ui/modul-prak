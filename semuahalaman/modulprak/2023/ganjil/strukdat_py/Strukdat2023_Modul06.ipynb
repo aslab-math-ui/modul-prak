{
 "cells": [
  {
   "cell_type": "markdown",
   "metadata": {},
   "source": [
    "# Modul 6 Struktur Data: *Stack* dan urusan notasi *prefix*, *infix*, *postfix*"
   ]
  },
  {
   "cell_type": "markdown",
   "metadata": {},
   "source": [
    "Kembali ke [Struktur Data (dengan Python)](strukdat2023.qmd)"
   ]
  },
  {
   "cell_type": "markdown",
   "metadata": {},
   "source": [
    "Di praktikum kali ini tentang *stack*, kita akan membahas implementasi *stack* (baik dengan *array* maupun dengan *linked list*) serta contoh penggunaannya. Selain itu, kita akan membahas tentang penggunaan *stack* ketika berurusan dengan notasi *prefix*, *infix*, dan *postfix*."
   ]
  },
  {
   "cell_type": "code",
   "execution_count": 2,
   "metadata": {},
   "outputs": [],
   "source": [
    "import numpy as np\n",
    "import graphviz as gv"
   ]
  },
  {
   "cell_type": "markdown",
   "metadata": {},
   "source": [
    "## Implementasi dan contoh penggunaan *stack*"
   ]
  },
  {
   "cell_type": "markdown",
   "metadata": {},
   "source": [
    "### Implementasi *stack* dengan *array*"
   ]
  },
  {
   "cell_type": "code",
   "execution_count": 3,
   "metadata": {},
   "outputs": [],
   "source": [
    "class ArrayStack:\n",
    "    def __init__(self, dtype, max):\n",
    "        self.dtype = dtype\n",
    "        self.max = max\n",
    "        self.array = np.empty(max, dtype=dtype)\n",
    "        self.top = -1\n",
    "    \n",
    "    def get_size(self):\n",
    "        return self.top + 1\n",
    "    \n",
    "    def get_capacity(self):\n",
    "        return self.max\n",
    "    \n",
    "    def get_dtype(self):\n",
    "        return self.dtype\n",
    "\n",
    "    def is_empty(self):\n",
    "        if self.get_size() > 0:\n",
    "            return False\n",
    "        else:\n",
    "            return True\n",
    "    \n",
    "    def is_full(self):\n",
    "        if self.get_size() >= self.get_capacity():\n",
    "            # if top+1 >= max\n",
    "            # atau sama saja, if top >= max-1\n",
    "            return True\n",
    "        else:\n",
    "            return False\n",
    "\n",
    "    def push(self, newdata):\n",
    "        if self.is_full():\n",
    "            print(\"Error push: stack sudah penuh.\")\n",
    "        else:\n",
    "            self.top += 1\n",
    "            self.array[self.top] = newdata\n",
    "    \n",
    "    def peek(self):\n",
    "        if self.is_empty():\n",
    "            print(\"Error peek: stack sedang kosong.\")\n",
    "            return None\n",
    "        else:\n",
    "            return self.array[self.top]\n",
    "    \n",
    "    def pop(self):\n",
    "        if self.is_empty():\n",
    "            print(\"Error pop: stack sudah kosong sebelumnya.\")\n",
    "            return None\n",
    "        else:\n",
    "            output = self.array[self.top]\n",
    "            self.top -= 1\n",
    "            return output\n",
    "\n",
    "    def print_stack(self):\n",
    "        i = self.top\n",
    "        while i >= 0:\n",
    "            print(self.array[i])\n",
    "            i -= 1\n",
    "\n",
    "    # print array\n",
    "    def print_storage(self):\n",
    "        print(self.array)\n",
    "    \n",
    "    def get_digraph_stack(self):\n",
    "        new_digraph = gv.Digraph()\n",
    "        # gambar akan terdiri dari satu tabel saja, satu kolom,\n",
    "        # dan tiap baris adalah tiap elemen di stack\n",
    "\n",
    "        tabel_besar = \"<\"\n",
    "        # pembuka tabel\n",
    "        tabel_besar += \"<TABLE BORDER=\\\"0\\\" CELLBORDER=\\\"1\\\" CELLSPACING=\\\"0\\\">\"\n",
    "        # menambahkan tiap elemen sebagai baris tersendiri\n",
    "        i = self.top\n",
    "        if i < 0:\n",
    "            tabel_besar += \"<TR><TD>\"\n",
    "            tabel_besar += \"(Stack sedang kosong; tidak ada data sama sekali.)\"\n",
    "            tabel_besar += \"</TD></TR>\"\n",
    "        while i >= 0:\n",
    "            tabel_besar += \"<TR><TD>\"\n",
    "            tabel_besar += str(self.array[i])\n",
    "            tabel_besar += \"</TD></TR>\"\n",
    "            i -= 1\n",
    "        # penutup tabel\n",
    "        tabel_besar += \"</TABLE>\"\n",
    "        tabel_besar += \">\"\n",
    "        new_digraph.node(\"ArrayStack\", shape=\"none\", label=tabel_besar)\n",
    "        return new_digraph\n",
    "\n",
    "    def get_digraph_storage(self):\n",
    "        # menggambar array\n",
    "        new_digraph = gv.Digraph()\n",
    "\n",
    "        # pembuka tabel\n",
    "        tabel_besar = \"<\"\n",
    "        tabel_besar += \"<TABLE BORDER=\\\"0\\\" CELLBORDER=\\\"1\\\" CELLSPACING=\\\"0\\\">\"\n",
    "        # tabel hanya terdiri dari satu baris\n",
    "        tabel_besar += \"<TR>\"\n",
    "        # satu elemen per kolom\n",
    "        for i in range(self.get_capacity()):\n",
    "            tabel_besar += \"<TD>\"\n",
    "            tabel_besar += str(self.array[i])\n",
    "            tabel_besar += \"</TD>\"\n",
    "        # penutup baris\n",
    "        tabel_besar += \"</TR>\"\n",
    "        # penutup tabel\n",
    "        tabel_besar += \"</TABLE>\"\n",
    "        tabel_besar += \">\"\n",
    "        new_digraph.node(\"array\", shape=\"none\", label=tabel_besar)\n",
    "        return new_digraph"
   ]
  },
  {
   "cell_type": "code",
   "execution_count": 31,
   "metadata": {},
   "outputs": [],
   "source": [
    "arraystack = ArrayStack(int, 5)\n",
    "arraystack.push(5)\n",
    "arraystack.push(80)\n",
    "arraystack.push(100)"
   ]
  },
  {
   "cell_type": "code",
   "execution_count": 32,
   "metadata": {},
   "outputs": [
    {
     "name": "stdout",
     "output_type": "stream",
     "text": [
      "100\n",
      "80\n",
      "5\n"
     ]
    }
   ],
   "source": [
    "arraystack.print_stack()"
   ]
  },
  {
   "cell_type": "code",
   "execution_count": 33,
   "metadata": {},
   "outputs": [
    {
     "name": "stdout",
     "output_type": "stream",
     "text": [
      "5\n"
     ]
    }
   ],
   "source": [
    "print(arraystack.get_capacity())"
   ]
  },
  {
   "cell_type": "code",
   "execution_count": 34,
   "metadata": {},
   "outputs": [
    {
     "name": "stdout",
     "output_type": "stream",
     "text": [
      "[                  5                  80                 100\n",
      " 4622241330054037504 4625478292286210048]\n"
     ]
    }
   ],
   "source": [
    "arraystack.print_storage()"
   ]
  },
  {
   "cell_type": "code",
   "execution_count": 35,
   "metadata": {},
   "outputs": [
    {
     "name": "stdout",
     "output_type": "stream",
     "text": [
      "100\n"
     ]
    }
   ],
   "source": [
    "print(arraystack.peek())"
   ]
  },
  {
   "cell_type": "code",
   "execution_count": 36,
   "metadata": {},
   "outputs": [
    {
     "name": "stdout",
     "output_type": "stream",
     "text": [
      "100\n",
      "80\n",
      "5\n"
     ]
    }
   ],
   "source": [
    "arraystack.print_stack()"
   ]
  },
  {
   "cell_type": "code",
   "execution_count": 37,
   "metadata": {},
   "outputs": [
    {
     "name": "stdout",
     "output_type": "stream",
     "text": [
      "100\n"
     ]
    }
   ],
   "source": [
    "nilai = arraystack.pop()\n",
    "print(nilai)"
   ]
  },
  {
   "cell_type": "code",
   "execution_count": 38,
   "metadata": {},
   "outputs": [
    {
     "name": "stdout",
     "output_type": "stream",
     "text": [
      "80\n",
      "5\n"
     ]
    }
   ],
   "source": [
    "arraystack.print_stack()"
   ]
  },
  {
   "cell_type": "code",
   "execution_count": 39,
   "metadata": {},
   "outputs": [
    {
     "name": "stdout",
     "output_type": "stream",
     "text": [
      "[                  5                  80                 100\n",
      " 4622241330054037504 4625478292286210048]\n"
     ]
    }
   ],
   "source": [
    "arraystack.print_storage()"
   ]
  },
  {
   "cell_type": "code",
   "execution_count": 40,
   "metadata": {},
   "outputs": [],
   "source": [
    "arraystack.push(-10)\n",
    "arraystack.push(57)"
   ]
  },
  {
   "cell_type": "code",
   "execution_count": 41,
   "metadata": {},
   "outputs": [
    {
     "name": "stdout",
     "output_type": "stream",
     "text": [
      "57\n",
      "-10\n",
      "80\n",
      "5\n"
     ]
    }
   ],
   "source": [
    "arraystack.print_stack()"
   ]
  },
  {
   "cell_type": "code",
   "execution_count": 42,
   "metadata": {},
   "outputs": [
    {
     "name": "stdout",
     "output_type": "stream",
     "text": [
      "[                  5                  80                 -10\n",
      "                  57 4625478292286210048]\n"
     ]
    }
   ],
   "source": [
    "arraystack.print_storage()"
   ]
  },
  {
   "cell_type": "code",
   "execution_count": 43,
   "metadata": {},
   "outputs": [],
   "source": [
    "graf1 = arraystack.get_digraph_stack()"
   ]
  },
  {
   "cell_type": "code",
   "execution_count": 44,
   "metadata": {},
   "outputs": [
    {
     "data": {
      "image/svg+xml": [
       "<?xml version=\"1.0\" encoding=\"UTF-8\" standalone=\"no\"?>\n",
       "<!DOCTYPE svg PUBLIC \"-//W3C//DTD SVG 1.1//EN\"\n",
       " \"http://www.w3.org/Graphics/SVG/1.1/DTD/svg11.dtd\">\n",
       "<!-- Generated by graphviz version 8.1.0 (20230707.0739)\n",
       " -->\n",
       "<!-- Pages: 1 -->\n",
       "<svg width=\"62pt\" height=\"107pt\"\n",
       " viewBox=\"0.00 0.00 62.00 107.20\" xmlns=\"http://www.w3.org/2000/svg\" xmlns:xlink=\"http://www.w3.org/1999/xlink\">\n",
       "<g id=\"graph0\" class=\"graph\" transform=\"scale(1 1) rotate(0) translate(4 103.2)\">\n",
       "<polygon fill=\"white\" stroke=\"none\" points=\"-4,4 -4,-103.2 58,-103.2 58,4 -4,4\"/>\n",
       "<!-- ArrayStack -->\n",
       "<g id=\"node1\" class=\"node\">\n",
       "<title>ArrayStack</title>\n",
       "<polygon fill=\"none\" stroke=\"black\" points=\"14.67,-72.4 14.67,-95.2 39.33,-95.2 39.33,-72.4 14.67,-72.4\"/>\n",
       "<text text-anchor=\"start\" x=\"20\" y=\"-79.6\" font-family=\"Times,serif\" font-size=\"14.00\">57</text>\n",
       "<polygon fill=\"none\" stroke=\"black\" points=\"14.67,-49.6 14.67,-72.4 39.33,-72.4 39.33,-49.6 14.67,-49.6\"/>\n",
       "<text text-anchor=\"start\" x=\"17.67\" y=\"-56.8\" font-family=\"Times,serif\" font-size=\"14.00\">&#45;10</text>\n",
       "<polygon fill=\"none\" stroke=\"black\" points=\"14.67,-26.8 14.67,-49.6 39.33,-49.6 39.33,-26.8 14.67,-26.8\"/>\n",
       "<text text-anchor=\"start\" x=\"20\" y=\"-34\" font-family=\"Times,serif\" font-size=\"14.00\">80</text>\n",
       "<polygon fill=\"none\" stroke=\"black\" points=\"14.67,-4 14.67,-26.8 39.33,-26.8 39.33,-4 14.67,-4\"/>\n",
       "<text text-anchor=\"start\" x=\"23.5\" y=\"-11.2\" font-family=\"Times,serif\" font-size=\"14.00\">5</text>\n",
       "</g>\n",
       "</g>\n",
       "</svg>\n"
      ],
      "text/plain": [
       "<graphviz.graphs.Digraph at 0x1170d3040>"
      ]
     },
     "metadata": {},
     "output_type": "display_data"
    }
   ],
   "source": [
    "display(graf1)"
   ]
  },
  {
   "cell_type": "code",
   "execution_count": 45,
   "metadata": {},
   "outputs": [],
   "source": [
    "graf2 = arraystack.get_digraph_storage()"
   ]
  },
  {
   "cell_type": "code",
   "execution_count": 46,
   "metadata": {},
   "outputs": [
    {
     "data": {
      "image/svg+xml": [
       "<?xml version=\"1.0\" encoding=\"UTF-8\" standalone=\"no\"?>\n",
       "<!DOCTYPE svg PUBLIC \"-//W3C//DTD SVG 1.1//EN\"\n",
       " \"http://www.w3.org/Graphics/SVG/1.1/DTD/svg11.dtd\">\n",
       "<!-- Generated by graphviz version 8.1.0 (20230707.0739)\n",
       " -->\n",
       "<!-- Pages: 1 -->\n",
       "<svg width=\"241pt\" height=\"44pt\"\n",
       " viewBox=\"0.00 0.00 240.66 44.00\" xmlns=\"http://www.w3.org/2000/svg\" xmlns:xlink=\"http://www.w3.org/1999/xlink\">\n",
       "<g id=\"graph0\" class=\"graph\" transform=\"scale(1 1) rotate(0) translate(4 40)\">\n",
       "<polygon fill=\"white\" stroke=\"none\" points=\"-4,4 -4,-40 236.66,-40 236.66,4 -4,4\"/>\n",
       "<!-- array -->\n",
       "<g id=\"node1\" class=\"node\">\n",
       "<title>array</title>\n",
       "<polygon fill=\"none\" stroke=\"black\" points=\"8,-6.6 8,-29.4 21,-29.4 21,-6.6 8,-6.6\"/>\n",
       "<text text-anchor=\"start\" x=\"11\" y=\"-13.8\" font-family=\"Times,serif\" font-size=\"14.00\">5</text>\n",
       "<polygon fill=\"none\" stroke=\"black\" points=\"21,-6.6 21,-29.4 41,-29.4 41,-6.6 21,-6.6\"/>\n",
       "<text text-anchor=\"start\" x=\"24\" y=\"-13.8\" font-family=\"Times,serif\" font-size=\"14.00\">80</text>\n",
       "<polygon fill=\"none\" stroke=\"black\" points=\"41,-6.6 41,-29.4 65.66,-29.4 65.66,-6.6 41,-6.6\"/>\n",
       "<text text-anchor=\"start\" x=\"44\" y=\"-13.8\" font-family=\"Times,serif\" font-size=\"14.00\">&#45;10</text>\n",
       "<polygon fill=\"none\" stroke=\"black\" points=\"65.66,-6.6 65.66,-29.4 85.66,-29.4 85.66,-6.6 65.66,-6.6\"/>\n",
       "<text text-anchor=\"start\" x=\"68.66\" y=\"-13.8\" font-family=\"Times,serif\" font-size=\"14.00\">57</text>\n",
       "<polygon fill=\"none\" stroke=\"black\" points=\"85.66,-6.6 85.66,-29.4 224.66,-29.4 224.66,-6.6 85.66,-6.6\"/>\n",
       "<text text-anchor=\"start\" x=\"88.66\" y=\"-13.8\" font-family=\"Times,serif\" font-size=\"14.00\">4625478292286210048</text>\n",
       "</g>\n",
       "</g>\n",
       "</svg>\n"
      ],
      "text/plain": [
       "<graphviz.graphs.Digraph at 0x1170d23b0>"
      ]
     },
     "metadata": {},
     "output_type": "display_data"
    }
   ],
   "source": [
    "display(graf2)"
   ]
  },
  {
   "cell_type": "code",
   "execution_count": 47,
   "metadata": {},
   "outputs": [],
   "source": [
    "arraystack.push(90)"
   ]
  },
  {
   "cell_type": "code",
   "execution_count": 48,
   "metadata": {},
   "outputs": [
    {
     "name": "stdout",
     "output_type": "stream",
     "text": [
      "Error push: stack sudah penuh.\n"
     ]
    }
   ],
   "source": [
    "arraystack.push(46)"
   ]
  },
  {
   "cell_type": "code",
   "execution_count": 49,
   "metadata": {},
   "outputs": [
    {
     "name": "stdout",
     "output_type": "stream",
     "text": [
      "[  5  80 -10  57  90]\n"
     ]
    }
   ],
   "source": [
    "arraystack.print_storage()"
   ]
  },
  {
   "cell_type": "code",
   "execution_count": 50,
   "metadata": {},
   "outputs": [
    {
     "name": "stdout",
     "output_type": "stream",
     "text": [
      "90\n",
      "57\n",
      "-10\n",
      "80\n",
      "5\n"
     ]
    }
   ],
   "source": [
    "print(arraystack.pop())\n",
    "print(arraystack.pop())\n",
    "print(arraystack.pop())\n",
    "print(arraystack.pop())\n",
    "print(arraystack.pop())"
   ]
  },
  {
   "cell_type": "code",
   "execution_count": 51,
   "metadata": {},
   "outputs": [
    {
     "name": "stdout",
     "output_type": "stream",
     "text": [
      "Error pop: stack sudah kosong sebelumnya.\n",
      "None\n"
     ]
    }
   ],
   "source": [
    "print(arraystack.pop())"
   ]
  },
  {
   "cell_type": "code",
   "execution_count": 52,
   "metadata": {},
   "outputs": [
    {
     "name": "stdout",
     "output_type": "stream",
     "text": [
      "0\n"
     ]
    }
   ],
   "source": [
    "print(arraystack.get_size())"
   ]
  },
  {
   "cell_type": "code",
   "execution_count": 53,
   "metadata": {},
   "outputs": [],
   "source": [
    "arraystack.print_stack()"
   ]
  },
  {
   "cell_type": "code",
   "execution_count": 54,
   "metadata": {},
   "outputs": [
    {
     "name": "stdout",
     "output_type": "stream",
     "text": [
      "[  5  80 -10  57  90]\n"
     ]
    }
   ],
   "source": [
    "arraystack.print_storage()"
   ]
  },
  {
   "cell_type": "code",
   "execution_count": 55,
   "metadata": {},
   "outputs": [
    {
     "data": {
      "image/svg+xml": [
       "<?xml version=\"1.0\" encoding=\"UTF-8\" standalone=\"no\"?>\n",
       "<!DOCTYPE svg PUBLIC \"-//W3C//DTD SVG 1.1//EN\"\n",
       " \"http://www.w3.org/Graphics/SVG/1.1/DTD/svg11.dtd\">\n",
       "<!-- Generated by graphviz version 8.1.0 (20230707.0739)\n",
       " -->\n",
       "<!-- Pages: 1 -->\n",
       "<svg width=\"314pt\" height=\"44pt\"\n",
       " viewBox=\"0.00 0.00 313.80 44.00\" xmlns=\"http://www.w3.org/2000/svg\" xmlns:xlink=\"http://www.w3.org/1999/xlink\">\n",
       "<g id=\"graph0\" class=\"graph\" transform=\"scale(1 1) rotate(0) translate(4 40)\">\n",
       "<polygon fill=\"white\" stroke=\"none\" points=\"-4,4 -4,-40 309.8,-40 309.8,4 -4,4\"/>\n",
       "<!-- ArrayStack -->\n",
       "<g id=\"node1\" class=\"node\">\n",
       "<title>ArrayStack</title>\n",
       "<polygon fill=\"none\" stroke=\"black\" points=\"8,-6.6 8,-29.4 297.8,-29.4 297.8,-6.6 8,-6.6\"/>\n",
       "<text text-anchor=\"start\" x=\"11\" y=\"-13.8\" font-family=\"Times,serif\" font-size=\"14.00\">(Stack sedang kosong; tidak ada data sama sekali.)</text>\n",
       "</g>\n",
       "</g>\n",
       "</svg>\n"
      ],
      "text/plain": [
       "<graphviz.graphs.Digraph at 0x1170d39a0>"
      ]
     },
     "metadata": {},
     "output_type": "display_data"
    }
   ],
   "source": [
    "display(arraystack.get_digraph_stack())"
   ]
  },
  {
   "cell_type": "markdown",
   "metadata": {},
   "source": [
    "### Implementasi *stack* dengan *singly-inked list*"
   ]
  },
  {
   "cell_type": "code",
   "execution_count": 4,
   "metadata": {},
   "outputs": [],
   "source": [
    "class SLNode:\n",
    "    def __init__(self, data, next=None):\n",
    "        self.data = data\n",
    "        self.next = next"
   ]
  },
  {
   "cell_type": "code",
   "execution_count": 5,
   "metadata": {},
   "outputs": [],
   "source": [
    "class SLStack:\n",
    "    def __init__(self):\n",
    "        # \"head\" ganti nama jadi top\n",
    "        self.top = None\n",
    "    \n",
    "    def is_empty(self):\n",
    "        if self.top == None:\n",
    "            return True\n",
    "        else:\n",
    "            return False\n",
    "    \n",
    "    def push(self, newdata):\n",
    "        newnode = SLNode(newdata)\n",
    "        newnode.next = self.top\n",
    "        self.top = newnode\n",
    "    \n",
    "    def peek(self):\n",
    "        if self.is_empty():\n",
    "            print(\"Error peek: stack sedang kosong.\")\n",
    "        else:\n",
    "            return self.top.data\n",
    "    \n",
    "    def pop(self):\n",
    "        if self.is_empty():\n",
    "            print(\"Error pop: stack sudah kosong sebelumnya.\")\n",
    "        else:\n",
    "            output = self.top.data\n",
    "            temp = self.top\n",
    "            self.top = self.top.next\n",
    "            del temp\n",
    "            return output\n",
    "    \n",
    "    def get_size(self):\n",
    "        temp = self.top\n",
    "        size = 0\n",
    "        while temp != None:\n",
    "            size += 1\n",
    "            temp = temp.next\n",
    "        return size\n",
    "\n",
    "    def print_stack(self):\n",
    "        temp = self.top\n",
    "        while temp != None:\n",
    "            print(temp.data)\n",
    "            temp = temp.next\n",
    "    \n",
    "    # print linked list\n",
    "    def print_storage(self):\n",
    "        print(\"top -> \", end=\"\")\n",
    "        temp = self.top\n",
    "        while temp != None:\n",
    "            print(temp.data, end=\" -> \")\n",
    "            temp = temp.next\n",
    "        print(\"None\")\n",
    "    \n",
    "    def get_digraph_stack(self):\n",
    "        new_digraph = gv.Digraph()\n",
    "        # gambar akan terdiri dari satu tabel saja, satu kolom,\n",
    "        # dan tiap baris adalah tiap elemen di stack\n",
    "        tabel_besar = \"\"\n",
    "        tabel_besar += \"<\"\n",
    "        tabel_besar += \"<TABLE BORDER=\\\"0\\\" CELLBORDER=\\\"1\\\" CELLSPACING=\\\"0\\\">\"\n",
    "        temp = self.top\n",
    "        if temp == None:\n",
    "            tabel_besar += \"<TR><TD>\"\n",
    "            tabel_besar += \"(Stack sedang kosong; tidak ada data sama sekali.)\"\n",
    "            tabel_besar += \"</TD></TR>\"\n",
    "        while temp != None:\n",
    "            tabel_besar += \"<TR><TD>\"\n",
    "            tabel_besar += str(temp.data)\n",
    "            tabel_besar += \"</TD></TR>\"\n",
    "            temp = temp.next\n",
    "        # penutup tabel\n",
    "        tabel_besar += \"</TABLE>\"\n",
    "        tabel_besar += \">\"\n",
    "        new_digraph.node(\"SLStack\", shape=\"none\", label=tabel_besar)\n",
    "        return new_digraph\n",
    "\n",
    "    # copas dari modul linked list, tapi head ganti jadi top\n",
    "    def get_digraph_storage(self):\n",
    "        # Buat digraph baru yang sifatnya dari kiri ke kanan\n",
    "        new_digraph = gv.Digraph(graph_attr={\"rankdir\": \"LR\"})\n",
    "        \n",
    "        # Pointer untuk menunjuk ke tiap node, mulai dari node pertama\n",
    "        # (akan dilakukan traversal)\n",
    "        current = self.top\n",
    "\n",
    "        # Untuk menghitung node ke-sekian untuk nama node di Graphviz,\n",
    "        # sehingga top menunjuk ke node0, lalu node0 menunjuk ke node1, dst\n",
    "        counter = 0\n",
    "\n",
    "        # Memperoleh alamat yang sedang disimpan di top\n",
    "        # - asumsi awal: tidak ada alamat (None)\n",
    "        next_id = None\n",
    "        next_name = \"node0\" # ini nanti untuk nama node berikutnya di Graphviz\n",
    "        # - kalau ternyata ada alamat...\n",
    "        if current != None:\n",
    "            # maka simpan alamat tersebut\n",
    "            next_id = hex(id(current))\n",
    "            # kita buat lebih spesifik untuk node berikutnya, tunjuk ke port id\n",
    "            next_name = \"node0:id\"\n",
    "        \n",
    "        # Label (tabel) untuk pointer top\n",
    "        # - pembuka tabel\n",
    "        str_label = \"<\"\n",
    "        str_label += \"<TABLE BORDER=\\\"0\\\" CELLBORDER=\\\"1\\\" CELLSPACING=\\\"0\\\">\"\n",
    "        # - baris top\n",
    "        str_label += \"<TR><TD>top</TD></TR>\"\n",
    "        # - baris alamat (sekalian membuat port namanya \"contents\")\n",
    "        str_label += \"<TR><TD PORT=\\\"contents\\\">\" + str(next_id) + \"</TD></TR>\"\n",
    "        # - penutup tabel\n",
    "        str_label += \"</TABLE>\"\n",
    "        str_label += \">\"\n",
    "\n",
    "        # Membuat node top, membuat edge dari top ke node berikutnya\n",
    "        new_digraph.node(\"top\", shape=\"none\", label=str_label)\n",
    "        new_digraph.edge(\"top:contents\", next_name)\n",
    "        # dari port \"contents\" ke node berikutnya, yang namanya next_name\n",
    "        \n",
    "        # Selama node yang ditunjuk bukan None, buatlah node nya di Graphviz,\n",
    "        # lalu lanjut ke node selanjutnya (ini traversal)\n",
    "        while current != None:\n",
    "            # Alamat yang tersimpan pada current.next\n",
    "            # - asumsi awal: tidak ada alamat; current adalah node terakhir\n",
    "            next_id = None\n",
    "            # - kalau ternyata ada alamat...\n",
    "            if current.next != None:\n",
    "                # maka simpan alamat tersebut\n",
    "                next_id = hex(id(current.next))\n",
    "            \n",
    "            # Persiapan label (tabel) untuk node\n",
    "            # - pembuka tabel\n",
    "            str_label = \"<\"\n",
    "            str_label += \"<TABLE BORDER=\\\"0\\\" CELLBORDER=\\\"1\\\" CELLSPACING=\\\"0\\\">\"\n",
    "            # - baris tulisan \"data\", \"next\"\n",
    "            str_label += \"<TR><TD>data</TD><TD>next</TD></TR>\"\n",
    "            # - baris untuk isi data dan isi next\n",
    "            str_label += \"<TR>\"\n",
    "            str_label += \"<TD>\" + str(current.data) + \"</TD>\"\n",
    "            str_label += \"<TD PORT=\\\"next\\\">\" + str(next_id) + \"</TD>\"\n",
    "            str_label += \"</TR>\"\n",
    "            # - baris tulisan \"alamat node\", merentang dua kolom\n",
    "            str_label += \"<TR><TD COLSPAN=\\\"2\\\">alamat node</TD></TR>\"\n",
    "            # - baris untuk isi alamat node, merentang dua kolom\n",
    "            str_label += \"<TR>\"\n",
    "            str_label += \"<TD PORT=\\\"id\\\" COLSPAN=\\\"2\\\">\"\n",
    "            str_label += str(hex(id(current)))\n",
    "            str_label += \"</TD>\"\n",
    "            str_label += \"</TR>\"\n",
    "            # - penutup tabel\n",
    "            str_label += \"</TABLE>\"\n",
    "            str_label += \">\"\n",
    "\n",
    "            # Membuat node baru di Graphviz dengan label (tabel) tersebut\n",
    "            new_digraph.node(\"node\" + str(counter), shape=\"none\", label = str_label)\n",
    "\n",
    "            # Menentukan nama dua port yang bakal disambung dengan edge,\n",
    "            # yaitu (node saat ini):next disambung ke node(berikutnya):id\n",
    "            # yaitu bagian \"next\" disambung ke bagian alamat di node berikutnya\n",
    "            nama_node_next = \"node\" + str(counter) + \":next\"\n",
    "            if current.next != None:\n",
    "                nama_alamat_node_berikutnya = \"node\" + str(counter+1) + \":id\"\n",
    "            # atau ke node(berikutnya) saja tanpa id kalau itu ternyata None,\n",
    "            # karena None tidak akan memiliki port id\n",
    "            else:\n",
    "                nama_alamat_node_berikutnya = \"node\" + str(counter+1)\n",
    "            \n",
    "            # Menyambung keduanya\n",
    "            new_digraph.edge(nama_node_next, nama_alamat_node_berikutnya)\n",
    "            \n",
    "            # Lanjut ke node selanjutnya\n",
    "            current = current.next\n",
    "            counter += 1\n",
    "        # Kalau sudah keluar loop, artinya current menunjuk ke None\n",
    "        # Berarti tinggal membuat \"node\" terakhir berisi tulisan None\n",
    "        # (karena sambungannya sudah dibuat di dalam loop, tinggal node nya)\n",
    "        new_digraph.node(\"node\" + str(counter), shape=\"none\", label=\"None\")\n",
    "\n",
    "        # Digraph sudah jadi\n",
    "        return new_digraph"
   ]
  },
  {
   "cell_type": "code",
   "execution_count": 103,
   "metadata": {},
   "outputs": [
    {
     "name": "stdout",
     "output_type": "stream",
     "text": [
      "top -> None\n"
     ]
    }
   ],
   "source": [
    "slstack = SLStack()\n",
    "slstack.print_storage()"
   ]
  },
  {
   "cell_type": "code",
   "execution_count": 104,
   "metadata": {},
   "outputs": [],
   "source": [
    "slstack.push(\"abc\")\n",
    "slstack.push(\"fg\")\n",
    "slstack.push(\"ijk\")\n",
    "slstack.push(\"pqrs\")\n",
    "slstack.push(\"xyz\")"
   ]
  },
  {
   "cell_type": "code",
   "execution_count": 105,
   "metadata": {},
   "outputs": [
    {
     "name": "stdout",
     "output_type": "stream",
     "text": [
      "xyz\n",
      "pqrs\n",
      "ijk\n",
      "fg\n",
      "abc\n"
     ]
    }
   ],
   "source": [
    "slstack.print_stack()"
   ]
  },
  {
   "cell_type": "code",
   "execution_count": 106,
   "metadata": {},
   "outputs": [
    {
     "name": "stdout",
     "output_type": "stream",
     "text": [
      "top -> xyz -> pqrs -> ijk -> fg -> abc -> None\n"
     ]
    }
   ],
   "source": [
    "slstack.print_storage()"
   ]
  },
  {
   "cell_type": "code",
   "execution_count": 107,
   "metadata": {},
   "outputs": [
    {
     "data": {
      "image/svg+xml": [
       "<?xml version=\"1.0\" encoding=\"UTF-8\" standalone=\"no\"?>\n",
       "<!DOCTYPE svg PUBLIC \"-//W3C//DTD SVG 1.1//EN\"\n",
       " \"http://www.w3.org/Graphics/SVG/1.1/DTD/svg11.dtd\">\n",
       "<!-- Generated by graphviz version 8.1.0 (20230707.0739)\n",
       " -->\n",
       "<!-- Pages: 1 -->\n",
       "<svg width=\"62pt\" height=\"130pt\"\n",
       " viewBox=\"0.00 0.00 62.00 130.00\" xmlns=\"http://www.w3.org/2000/svg\" xmlns:xlink=\"http://www.w3.org/1999/xlink\">\n",
       "<g id=\"graph0\" class=\"graph\" transform=\"scale(1 1) rotate(0) translate(4 126)\">\n",
       "<polygon fill=\"white\" stroke=\"none\" points=\"-4,4 -4,-126 58,-126 58,4 -4,4\"/>\n",
       "<!-- SLStack -->\n",
       "<g id=\"node1\" class=\"node\">\n",
       "<title>SLStack</title>\n",
       "<polygon fill=\"none\" stroke=\"black\" points=\"11.94,-95.2 11.94,-118 42.06,-118 42.06,-95.2 11.94,-95.2\"/>\n",
       "<text text-anchor=\"start\" x=\"16.89\" y=\"-102.4\" font-family=\"Times,serif\" font-size=\"14.00\">xyz</text>\n",
       "<polygon fill=\"none\" stroke=\"black\" points=\"11.94,-72.4 11.94,-95.2 42.06,-95.2 42.06,-72.4 11.94,-72.4\"/>\n",
       "<text text-anchor=\"start\" x=\"14.94\" y=\"-79.6\" font-family=\"Times,serif\" font-size=\"14.00\">pqrs</text>\n",
       "<polygon fill=\"none\" stroke=\"black\" points=\"11.94,-49.6 11.94,-72.4 42.06,-72.4 42.06,-49.6 11.94,-49.6\"/>\n",
       "<text text-anchor=\"start\" x=\"19.61\" y=\"-56.8\" font-family=\"Times,serif\" font-size=\"14.00\">ijk</text>\n",
       "<polygon fill=\"none\" stroke=\"black\" points=\"11.94,-26.8 11.94,-49.6 42.06,-49.6 42.06,-26.8 11.94,-26.8\"/>\n",
       "<text text-anchor=\"start\" x=\"21.17\" y=\"-34\" font-family=\"Times,serif\" font-size=\"14.00\">fg</text>\n",
       "<polygon fill=\"none\" stroke=\"black\" points=\"11.94,-4 11.94,-26.8 42.06,-26.8 42.06,-4 11.94,-4\"/>\n",
       "<text text-anchor=\"start\" x=\"17.29\" y=\"-11.2\" font-family=\"Times,serif\" font-size=\"14.00\">abc</text>\n",
       "</g>\n",
       "</g>\n",
       "</svg>\n"
      ],
      "text/plain": [
       "<graphviz.graphs.Digraph at 0x1170d20e0>"
      ]
     },
     "metadata": {},
     "output_type": "display_data"
    }
   ],
   "source": [
    "display(slstack.get_digraph_stack())"
   ]
  },
  {
   "cell_type": "code",
   "execution_count": 108,
   "metadata": {},
   "outputs": [
    {
     "name": "stdout",
     "output_type": "stream",
     "text": [
      "xyz\n",
      "pqrs\n",
      "ijk\n"
     ]
    }
   ],
   "source": [
    "print(slstack.pop())\n",
    "print(slstack.pop())\n",
    "print(slstack.pop())"
   ]
  },
  {
   "cell_type": "code",
   "execution_count": 109,
   "metadata": {},
   "outputs": [
    {
     "name": "stdout",
     "output_type": "stream",
     "text": [
      "fg\n",
      "abc\n"
     ]
    }
   ],
   "source": [
    "slstack.print_stack()"
   ]
  },
  {
   "cell_type": "code",
   "execution_count": 110,
   "metadata": {},
   "outputs": [
    {
     "name": "stdout",
     "output_type": "stream",
     "text": [
      "top -> fg -> abc -> None\n"
     ]
    }
   ],
   "source": [
    "slstack.print_storage()"
   ]
  },
  {
   "cell_type": "code",
   "execution_count": 111,
   "metadata": {},
   "outputs": [
    {
     "data": {
      "image/svg+xml": [
       "<?xml version=\"1.0\" encoding=\"UTF-8\" standalone=\"no\"?>\n",
       "<!DOCTYPE svg PUBLIC \"-//W3C//DTD SVG 1.1//EN\"\n",
       " \"http://www.w3.org/Graphics/SVG/1.1/DTD/svg11.dtd\">\n",
       "<!-- Generated by graphviz version 8.1.0 (20230707.0739)\n",
       " -->\n",
       "<!-- Pages: 1 -->\n",
       "<svg width=\"62pt\" height=\"62pt\"\n",
       " viewBox=\"0.00 0.00 62.00 61.60\" xmlns=\"http://www.w3.org/2000/svg\" xmlns:xlink=\"http://www.w3.org/1999/xlink\">\n",
       "<g id=\"graph0\" class=\"graph\" transform=\"scale(1 1) rotate(0) translate(4 57.6)\">\n",
       "<polygon fill=\"white\" stroke=\"none\" points=\"-4,4 -4,-57.6 58,-57.6 58,4 -4,4\"/>\n",
       "<!-- SLStack -->\n",
       "<g id=\"node1\" class=\"node\">\n",
       "<title>SLStack</title>\n",
       "<polygon fill=\"none\" stroke=\"black\" points=\"14.29,-26.8 14.29,-49.6 39.71,-49.6 39.71,-26.8 14.29,-26.8\"/>\n",
       "<text text-anchor=\"start\" x=\"21.17\" y=\"-34\" font-family=\"Times,serif\" font-size=\"14.00\">fg</text>\n",
       "<polygon fill=\"none\" stroke=\"black\" points=\"14.29,-4 14.29,-26.8 39.71,-26.8 39.71,-4 14.29,-4\"/>\n",
       "<text text-anchor=\"start\" x=\"17.29\" y=\"-11.2\" font-family=\"Times,serif\" font-size=\"14.00\">abc</text>\n",
       "</g>\n",
       "</g>\n",
       "</svg>\n"
      ],
      "text/plain": [
       "<graphviz.graphs.Digraph at 0x1170d2650>"
      ]
     },
     "metadata": {},
     "output_type": "display_data"
    }
   ],
   "source": [
    "display(slstack.get_digraph_stack())"
   ]
  },
  {
   "cell_type": "markdown",
   "metadata": {},
   "source": [
    "### Contoh sederhana: *reverse* suatu *list*/*array*"
   ]
  },
  {
   "cell_type": "code",
   "execution_count": 11,
   "metadata": {},
   "outputs": [],
   "source": [
    "def reverse_array_arraystack(array_old):\n",
    "    array = array_old.copy()\n",
    "\n",
    "    # memeriksa tipe data dari elemen pertama\n",
    "    tipe_data = type(array[0])\n",
    "    # khusus array, bisa juga menggunakan array.dtype\n",
    "\n",
    "    arraystack = ArrayStack(tipe_data, len(array))\n",
    "    for i in range(len(array)):\n",
    "        arraystack.push(array[i])\n",
    "    for i in range(len(array)):\n",
    "        array[i] = arraystack.pop()\n",
    "    return array"
   ]
  },
  {
   "cell_type": "code",
   "execution_count": 12,
   "metadata": {},
   "outputs": [
    {
     "name": "stdout",
     "output_type": "stream",
     "text": [
      "['k', 'e', 't', 'a', 'm']\n"
     ]
    }
   ],
   "source": [
    "list1 = [\"m\", \"a\", \"t\", \"e\", \"k\"]\n",
    "list2 = reverse_array_arraystack(list1)\n",
    "print(list2)"
   ]
  },
  {
   "cell_type": "code",
   "execution_count": 13,
   "metadata": {},
   "outputs": [],
   "source": [
    "def reverse_array_slstack(array_old):\n",
    "    array = array_old.copy()\n",
    "    slstack = SLStack()\n",
    "    for i in range(len(array)):\n",
    "        slstack.push(array[i])\n",
    "    for i in range(len(array)):\n",
    "        array[i] = slstack.pop()\n",
    "    return array"
   ]
  },
  {
   "cell_type": "code",
   "execution_count": 14,
   "metadata": {},
   "outputs": [
    {
     "name": "stdout",
     "output_type": "stream",
     "text": [
      "['k' 'e' 't' 'a' 'm']\n"
     ]
    }
   ],
   "source": [
    "array1 = np.array([\"m\", \"a\", \"t\", \"e\", \"k\"])\n",
    "array2 = reverse_array_slstack(array1)\n",
    "print(array2)"
   ]
  },
  {
   "cell_type": "markdown",
   "metadata": {},
   "source": [
    "## (TODO) Notasi *prefix*, *infix*, dan *postfix*"
   ]
  },
  {
   "cell_type": "markdown",
   "metadata": {},
   "source": [
    "Notasi *prefix*, *infix*, dan *postfix* adalah tiga jenis notasi (cara penulisan) untuk menuliskan operasi aritmetika seperti penjumlahan, perkalian, dan sebagainya."
   ]
  },
  {
   "cell_type": "markdown",
   "metadata": {},
   "source": [
    "Misalnya, kita bisa menuliskan penjumlahan `3 + 5`, di mana dua angka, 3 dan 5, dioperasikan oleh suatu \"operator\" yaitu + (plus). Perhatikan bahwa operator berada di tengah, di antara kedua angka. Penulisan seperti ini disebut notasi *infix*, dan inilah penulisan yang biasa kita kenal."
   ]
  },
  {
   "cell_type": "markdown",
   "metadata": {},
   "source": [
    "Ada juga cara penulisan di mana operator ditempatkan sebelum kedua angka, disebut notasi *prefix*, seperti berikut: `+ 3 5`"
   ]
  },
  {
   "cell_type": "markdown",
   "metadata": {},
   "source": [
    "Walaupun terlihat agak aneh, kita bisa saja mendefinisikan fungsi seperti *pseuducode* berikut:\n",
    "\n",
    "```default\n",
    "function add(x, y)\n",
    "    return x+y\n",
    "endfunction\n",
    "```\n",
    "\n",
    "Kemudian penggunaannya adalah `add(3, 5)`, secara tidak langsung menggunakan notasi *prefix* :)"
   ]
  },
  {
   "cell_type": "markdown",
   "metadata": {},
   "source": [
    "Selain *prefix* untuk di awal dan *infix* untuk di tengah, kita juga bisa menempatkan operator setelah kedua angka, disebut notasi *postfix*. Contohnya: `3 5 +`"
   ]
  },
  {
   "cell_type": "markdown",
   "metadata": {},
   "source": [
    "Notasi *postfix* sebenarnya tidak terlalu asing, karena misalnya untuk menuliskan faktorial itu biasanya menggunakan tanda seru **setelah** angkanya, lagi-lagi secara tidak langsung menggunakan notasi *postfix*, seperti: `4!`"
   ]
  },
  {
   "cell_type": "markdown",
   "metadata": {},
   "source": [
    "Salah satu keuntungan menggunakan notasi *prefix* maupun *postfix* adalah bisa menghilangkan kurung tanpa menyebabkan ambigu. Contohnya, dalam notasi *infix* kita bisa menuliskan `5 * (6 + 7)` agar penjumlahan dilakukan terlebih dahulu. Sedangkan, notasi *prefix* maupun *postfix* dijamin tidak membutuhkan kurung:\n",
    "\n",
    "* *Prefix*: `* 5 + 6 7`\n",
    "* *Postfix*: `6 7 + 5 *`"
   ]
  },
  {
   "cell_type": "markdown",
   "metadata": {},
   "source": [
    "*Stack* bisa sangat membantu untuk mengubah antara notasi *prefix*, *infix*, dan *postfix*."
   ]
  },
  {
   "cell_type": "markdown",
   "metadata": {},
   "source": [
    "### Tokenisasi"
   ]
  },
  {
   "cell_type": "markdown",
   "metadata": {},
   "source": [
    "Sebelum membahas konversi antara notasi *prefix*, *infix*, dan *postfix*, kita perlu membahas sebentar mengenai \"tokenisasi\" (*tokenization*), yaitu proses \"memecah\" suatu string yang utuh menjadi \"bagian-bagiannya\".\n",
    "\n",
    "Misalnya, kalau kita punya notasi *infix* dalam *string* `\"3 + 5\"`, kita bisa melakukan *tokenization* untuk memecahnya menjadi `[\"3\", \"+\", \"5\"]`.\n",
    "\n",
    "Cara mudah untuk melakukan tokenisasi, bisa dengan sekedar menganggap tiap \"bagian\" atau tiap \"token\" terpisahkan oleh spasi, sehingga bisa di-*split* begitu saja:"
   ]
  },
  {
   "cell_type": "code",
   "execution_count": 1,
   "metadata": {},
   "outputs": [],
   "source": [
    "def tokenize(string_utuh):\n",
    "    hasil = string_utuh.split(\" \") # string berisi satu spasi\n",
    "    return hasil"
   ]
  },
  {
   "cell_type": "code",
   "execution_count": 2,
   "metadata": {},
   "outputs": [
    {
     "name": "stdout",
     "output_type": "stream",
     "text": [
      "['3', '+', '5']\n"
     ]
    }
   ],
   "source": [
    "print(tokenize(\"3 + 5\"))"
   ]
  },
  {
   "cell_type": "markdown",
   "metadata": {},
   "source": [
    "Agar cara mudah ini berhasil (terutama untuk notasi *infix*), bahkan antara kurung buka/tutup juga harus diberi spasi, ya!"
   ]
  },
  {
   "cell_type": "code",
   "execution_count": 4,
   "metadata": {},
   "outputs": [
    {
     "name": "stdout",
     "output_type": "stream",
     "text": [
      "['5', '*', '(', '6', '+', '7', ')']\n"
     ]
    }
   ],
   "source": [
    "print(tokenize(\"5 * ( 6 + 7 )\"))"
   ]
  },
  {
   "cell_type": "markdown",
   "metadata": {},
   "source": [
    "### *Precedence* dan *associativity*"
   ]
  },
  {
   "cell_type": "markdown",
   "metadata": {},
   "source": [
    "Sebelumnya, telah disebutkan bahwa salah satu keuntungan notasi *prefix* maupun *postfix* dibandingkan notasi *infix* adalah penulisan yang tidak ambigu tanpa diperlukannya kurung. Agar bisa mengubah notasi *infix* menjadi notasi *prefix* ataupun notasi *postfix*, tentunya kita harus bisa membaca notasi *infix* secara tidak ambigu. Artinya, kita harus kenal dengan aturan **urutan pengoperasian**."
   ]
  },
  {
   "cell_type": "markdown",
   "metadata": {},
   "source": [
    "Urusan urutan pengoperasian terbagi menjadi dua:\n",
    "\n",
    "* *Precedence*, semacam tingkatan prioritas antara operasi yang berbeda, yang mana yang dilakukan duluan (apalagi kalau tidak ada tanda kurung)\n",
    "* *Associativity*, urutan pengoperasian antara dua operasi yang *precedence* nya sama, apakah dari kiri ke kanan atau kanan ke kiri"
   ]
  },
  {
   "cell_type": "markdown",
   "metadata": {},
   "source": [
    "Misalkan ada penulisan notasi *infix*: `9 + 8 * 7`\n",
    "\n",
    "Tentunya perkalian dilakukan terlebih dahulu, barulah penjumlahan. Artinya, perkalian memiliki ***higher precedence*** (atau *precedence* yang lebih tinggi) daripada penjumlahan; bisa juga dikatakan, penjumlahan memiliki ***lower precedence*** (atau *precedence* yang lebih rendah) daripada perkalian."
   ]
  },
  {
   "cell_type": "markdown",
   "metadata": {},
   "source": [
    "Sedangkan, misal ada penulisan notasi *infix*: `8 / 4 * 2` dan `8 * 4 / 2`\n",
    "\n",
    "Keduanya dilakukan dari kiri ke kanan. Artinya:\n",
    "\n",
    "* Tidak ada prioritas yang lebih utama antara pembagian maupun perkalian, sehingga keduanya memiliki ***equal precedence*** (atau *precedence* yang sama).\n",
    "* *Associativity* dari pembagian maupun perkalian bersifat *left-to-right*."
   ]
  },
  {
   "cell_type": "markdown",
   "metadata": {},
   "source": [
    "*Precedence* dan *associativity* dari beberapa operator bisa didata:"
   ]
  },
  {
   "cell_type": "markdown",
   "metadata": {},
   "source": [
    "|*Precedence*|Operator|*Associativity*|\n",
    "|:----------:|:------:|:-------------:|\n",
    "|3|`^`|*right-to-left*|\n",
    "|2|`*` `/`|*left-to-right*|\n",
    "|1|`+` `-`|*left-to-right*|"
   ]
  },
  {
   "cell_type": "markdown",
   "metadata": {},
   "source": [
    "Perhatikan:\n",
    "\n",
    "* Perpangkatan bersifat *right-to-left* karena $a^{b^c} = a^{\\left(b^c\\right)}$.\n",
    "* Pembagian maupun pengurangan bersifat *left-to-right* karena\n",
    "\n",
    "    $a/b/c = \\left(a/b\\right)/c$ dan\n",
    "\n",
    "    $a-b-c = (a-b)-c$.\n",
    "\n",
    "* Kebetulan, perkalian maupun penjumlahan memiliki sifat asosiatif, yaitu\n",
    "\n",
    "    $(a*b)*c = a*(b*c)$\n",
    "\n",
    "    $(a+b)+c = a+(b+c)$\n",
    "\n",
    "    sehingga perkalian maupun penjumlahan sebenarnya bersifat *left-to-right* maupun *right-to-left* sekaligus, yaitu\n",
    "    \n",
    "    $a*b*c = (a*b)*c = a*(b*c)$\n",
    "\n",
    "    $a+b+c = (a+b)+c = a+(b+c)$\n",
    "\n",
    "    Namun, untuk mempermudah klasifikasi, kita bisa mengkategorikan perkalian dan penjumlahan bersifat *left-to-right*."
   ]
  },
  {
   "cell_type": "markdown",
   "metadata": {},
   "source": [
    "## (TODO) Urusan notasi *prefix*, *infix*, dan *postfix* dengan *stack*"
   ]
  },
  {
   "cell_type": "markdown",
   "metadata": {},
   "source": [
    "### Notasi *infix* menjadi *postfix*"
   ]
  },
  {
   "cell_type": "markdown",
   "metadata": {},
   "source": [
    "Setelah tokenisasi, berikut langkah mengubah notasi *infix* menjadi *postfix*."
   ]
  },
  {
   "cell_type": "markdown",
   "metadata": {},
   "source": [
    "Siapkan suatu *stack* kosong, serta tempat (misal *string* kosong) untuk menyimpan hasil infix. Lalu, *scanning* (melihat satu-per-satu) tiap token dari kiri ke kanan, dan ikuti ketentuan berikut:\n",
    "\n",
    "1. Apabila token adalah operand/angka, langsung tambahkan ke hasil infix\n",
    "2. Apabila *stack* kosong, atau apabila elemen teratas pada *stack* adalah kurung kiri, maka push token tersebut ke dalam *stack*\n",
    "3. Apabila token adalah kurung kiri yaitu \"(\", push ke dalam *stack*\n",
    "4. Apabila token adalah kurung kanan yaitu \")\", lakukan while loop: lakukan pop pada stack, masukkan hasil pop tersebut ke hasil infix, hentikan while loop apabila hasil pop tersebut adalah kurung kiri.\n",
    "5. Apabila token memiliki *precedence* yang lebih tinggi daripada elemen teratas pada *stack*, maka push token tersebut ke dalam *stack*.\n",
    "6. Apabila token memiliki *precedence* yang lebih rendah daripada elemen teratas pada *stack*, lakukan langkah berikut: lakukan pop pada stack, lalu masukkan hasil pop tersebut ke hasil infix.\n",
    "7. Apabila token memiliki *precedence* yang setara dengan elemen teratas pada *stack*, perhatikan *associativity* dari operator tersebut, lalu:\n",
    "\n",
    "    a. Apabila untuk operator tersebut bersifat left-to-right: lakukan pop pada stack, masukkan hasil pop ke hasil infix, lalu push token\n",
    "    \n",
    "    b. Sedangkan apabila bersifat right-to-left: push token tersebut ke dalam stack\n",
    "\n",
    "Setelah suatu token teratasi, tentunya langsung lanjut melihat token berikutnya. Apabila semua token sudah teratasi sedangkan stack belum kosong, maka ulangi sampai stack kosong: lakukan pop, masukkan hasil pop ke hasil infix."
   ]
  },
  {
   "cell_type": "code",
   "execution_count": null,
   "metadata": {},
   "outputs": [],
   "source": []
  },
  {
   "cell_type": "markdown",
   "metadata": {},
   "source": [
    "### Notasi *infix* menjadi *prefix*"
   ]
  },
  {
   "cell_type": "markdown",
   "metadata": {},
   "source": []
  },
  {
   "cell_type": "code",
   "execution_count": null,
   "metadata": {},
   "outputs": [],
   "source": []
  },
  {
   "cell_type": "markdown",
   "metadata": {},
   "source": [
    "### Evaluasi notasi *prefix*"
   ]
  },
  {
   "cell_type": "code",
   "execution_count": null,
   "metadata": {},
   "outputs": [],
   "source": []
  },
  {
   "cell_type": "markdown",
   "metadata": {},
   "source": [
    "### Evaluasi notasi *postfix*"
   ]
  },
  {
   "cell_type": "code",
   "execution_count": null,
   "metadata": {},
   "outputs": [],
   "source": []
  },
  {
   "cell_type": "markdown",
   "metadata": {},
   "source": [
    "### Notasi *postfix* menjadi *infix*"
   ]
  },
  {
   "cell_type": "code",
   "execution_count": null,
   "metadata": {},
   "outputs": [],
   "source": []
  },
  {
   "cell_type": "markdown",
   "metadata": {},
   "source": [
    "### Notasi *prefix* menjadi *infix*"
   ]
  },
  {
   "cell_type": "code",
   "execution_count": null,
   "metadata": {},
   "outputs": [],
   "source": []
  }
 ],
 "metadata": {
  "kernelspec": {
   "display_name": "Python 3",
   "language": "python",
   "name": "python3"
  },
  "language_info": {
   "codemirror_mode": {
    "name": "ipython",
    "version": 3
   },
   "file_extension": ".py",
   "mimetype": "text/x-python",
   "name": "python",
   "nbconvert_exporter": "python",
   "pygments_lexer": "ipython3",
   "version": "3.10.11"
  }
 },
 "nbformat": 4,
 "nbformat_minor": 2
}
