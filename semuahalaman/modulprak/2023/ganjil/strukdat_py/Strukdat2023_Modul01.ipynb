{
 "cells": [
  {
   "cell_type": "markdown",
   "metadata": {},
   "source": [
    "# Modul 1 Struktur Data: Tipe Data di Python"
   ]
  },
  {
   "cell_type": "markdown",
   "metadata": {},
   "source": [
    "Kembali ke [Struktur Data (dengan Python)](strukdat2023.qmd)"
   ]
  },
  {
   "cell_type": "markdown",
   "metadata": {},
   "source": [
    "Selamat datang di praktikum Struktur Data! Sesuai nama mata kuliahnya, kita akan mempelajari cara mengimplementasikan (membuat) berbagai jenis struktur data dengan bahasa pemrograman Python. Nantinya, berbagai struktur data akan dibentuk \"di atas\" struktur data *array* dan yang namanya *linked list*, tetapi yang lebih mendasar lagi daripada keduanya adalah **tipe data**.\n",
    "\n",
    "Di pertemuan pertama ini, kita akan membahas tentang berbagai tipe data yang ada di Python, baik yang sudah kita kenal di mata kuliah Algoritma dan Pemrograman (pasti tersedia di semua bahasa pemrograman) maupun beberapa tipe data khusus yang ada di Python tetapi belum tentu ada di bahasa pemrograman lain. Tujuannya agar kalian lebih mahir dan lebih mudah ketika menggunakan Python untuk menyelesaikan berbagai masalah dalam kehidupan sehari-hari :D\n",
    "\n",
    "Kita juga akan membahas tentang *array* dari `numpy` di Python (bisa disebut *static homogeneous array* atau biasa disebut *array* saja), dan bedanya dengan `list` di Python (*dynamic heterogeneous array*)."
   ]
  },
  {
   "cell_type": "markdown",
   "metadata": {},
   "source": [
    "## Review Tipe Data\n",
    "Pada AlProg, ada beberapa jenis tipe data yang kalian pelajari, yaitu:\n",
    "\n",
    "- Numerik: `int`, `float`\n",
    "- Teks: `string`\n",
    "- List"
   ]
  },
  {
   "cell_type": "markdown",
   "metadata": {},
   "source": [
    "### Tipe Numerik"
   ]
  },
  {
   "cell_type": "code",
   "execution_count": 1,
   "metadata": {},
   "outputs": [
    {
     "name": "stdout",
     "output_type": "stream",
     "text": [
      "5\n",
      "-180\n"
     ]
    }
   ],
   "source": [
    "# Tipe Data Integer\n",
    "a1 = 5\n",
    "a2 = -180\n",
    "\n",
    "# Melihat isinya\n",
    "print(a1)\n",
    "print(a2)"
   ]
  },
  {
   "cell_type": "code",
   "execution_count": 2,
   "metadata": {},
   "outputs": [
    {
     "name": "stdout",
     "output_type": "stream",
     "text": [
      "<class 'int'>\n",
      "<class 'int'>\n"
     ]
    }
   ],
   "source": [
    "# Mengecek tipe data menggunakan syntax type\n",
    "print(type(a1))\n",
    "print(type(a2))"
   ]
  },
  {
   "cell_type": "markdown",
   "metadata": {},
   "source": [
    "Menurut *output* yang diperoleh, variabel `a1` dan `a2` saat ini berupa bilangan bulat atau *integer*. Python punya \"kode\" atau nama tersendiri untuk tiap tipe data. Untuk bilangan bulat, namanya adalah `int`. Nama ini sudah ketetapan dari sananya; kapanpun kita berurusan dengan bilangan bulat di Python, sebutannya selalu `int`.\n",
    "\n",
    "Kebetulan, Python juga menyebut istilah `class`. Kita akan belajar lebih lanjut tentang `class` di pertemuan berikutnya. Untuk sekarang ini, terima saja dulu ya: kurang lebih, maksud dari istilah `class` adalah tipe data. Jadi intinya, Python memberi tahu bahwa tipe data nya adalah `int`."
   ]
  },
  {
   "cell_type": "markdown",
   "metadata": {},
   "source": [
    "Hasil jumlahan bilangan bulat pasti juga bilangan bulat."
   ]
  },
  {
   "cell_type": "code",
   "execution_count": 3,
   "metadata": {},
   "outputs": [
    {
     "name": "stdout",
     "output_type": "stream",
     "text": [
      "-175\n",
      "<class 'int'>\n"
     ]
    }
   ],
   "source": [
    "a3 = a1 + a2\n",
    "print(a3)\n",
    "print(type(a3))"
   ]
  },
  {
   "cell_type": "markdown",
   "metadata": {},
   "source": [
    "Selanjutnya, kita bahas tentang `float` atau *floating-point number*. Intinya ya koma-komaan atau bilangan rasional. Kenapa disebut \"floating-point\", itu karena menurut komputer, titik nya itu bisa dengan mudah dipindah-pindah. Barangkali pernah dibahas dulu di awal kuliah Metode Numerik. Tapi detil itu tidak penting, intinya terima saja, namanya `float`"
   ]
  },
  {
   "cell_type": "code",
   "execution_count": 4,
   "metadata": {},
   "outputs": [
    {
     "name": "stdout",
     "output_type": "stream",
     "text": [
      "2.54\n",
      "-3.141592\n",
      "inf\n",
      "<class 'float'>\n",
      "<class 'float'>\n",
      "<class 'float'>\n"
     ]
    }
   ],
   "source": [
    "# Tipe data float\n",
    "b1 = 2.54\n",
    "b2 = -3.141592\n",
    "b3 = float('inf') # memasukkan infinity sebagai float\n",
    "\n",
    "# Melihat isinya\n",
    "print(b1)\n",
    "print(b2)\n",
    "print(b3)\n",
    "\n",
    "# Mengecek tipe data\n",
    "print(type(b1))\n",
    "print(type(b2))\n",
    "print(type(b3))"
   ]
  },
  {
   "cell_type": "markdown",
   "metadata": {},
   "source": [
    "`float(\"inf\")` atau `float('inf')` yang melambangkan tak hingga ini gunanya untuk perbandingan, barangkali sewaktu-waktu kalian membutuhkan suatu bilangan yang selalu lebih besar daripada semua bilangan lain."
   ]
  },
  {
   "cell_type": "code",
   "execution_count": 5,
   "metadata": {},
   "outputs": [
    {
     "name": "stdout",
     "output_type": "stream",
     "text": [
      "lebih kecil\n"
     ]
    }
   ],
   "source": [
    "# apapun itu, pasti lebih kecil daripada b3 yaitu tak hingga\n",
    "if (b1 < b3):\n",
    "    print(\"lebih kecil\")\n",
    "else:\n",
    "    print(\"lebih besar\")"
   ]
  },
  {
   "cell_type": "markdown",
   "metadata": {},
   "source": [
    "Ada juga `float(\"-inf\")` atau `float('-inf')` yang melambangkan negatif tak hingga, yang selalu lebih kecil daripada semua bilangan lain."
   ]
  },
  {
   "cell_type": "code",
   "execution_count": 6,
   "metadata": {},
   "outputs": [
    {
     "name": "stdout",
     "output_type": "stream",
     "text": [
      "masih lebih besar dari -inf\n"
     ]
    }
   ],
   "source": [
    "b4 = float(\"-inf\")\n",
    "if (-123456789 > b4):\n",
    "    print(\"masih lebih besar dari -inf\")\n",
    "else:\n",
    "    print(\"lebih kecil dari -inf\")"
   ]
  },
  {
   "cell_type": "code",
   "execution_count": 7,
   "metadata": {},
   "outputs": [
    {
     "name": "stdout",
     "output_type": "stream",
     "text": [
      "-7.979643680000001\n",
      "59.618879710940476\n",
      "3.141592\n"
     ]
    }
   ],
   "source": [
    "# Operasi dengan int dan float\n",
    "print(b1 * b2)\n",
    "print(a1 ** b1)\n",
    "print(abs(b2))"
   ]
  },
  {
   "cell_type": "code",
   "execution_count": 8,
   "metadata": {},
   "outputs": [
    {
     "name": "stdout",
     "output_type": "stream",
     "text": [
      "<class 'float'>\n"
     ]
    }
   ],
   "source": [
    "# Jika int bertemu float, maka tipe datanya akan menjadi float,\n",
    "# walaupun float nya sebenarnya bulat\n",
    "print(type(a1 ** b1))"
   ]
  },
  {
   "cell_type": "code",
   "execution_count": 9,
   "metadata": {},
   "outputs": [
    {
     "name": "stdout",
     "output_type": "stream",
     "text": [
      "5.0\n",
      "<class 'float'>\n"
     ]
    }
   ],
   "source": [
    "print(10.0 / 2)\n",
    "print(type(10.0 / 2))"
   ]
  },
  {
   "cell_type": "markdown",
   "metadata": {},
   "source": [
    "### Tipe Teks"
   ]
  },
  {
   "cell_type": "markdown",
   "metadata": {},
   "source": [
    "Untuk menyimpan teks atau \"tulisan\" di Python, kita gunakan tipe data *string*, yang menurut Python sebutannya `str`. Penulisannya bisa menggunakan tanda petik `'` atau tanda kutip `\"` itu sama saja, sama-sama *string*, yang penting konsisten."
   ]
  },
  {
   "cell_type": "code",
   "execution_count": 10,
   "metadata": {},
   "outputs": [
    {
     "name": "stdout",
     "output_type": "stream",
     "text": [
      "string biasa\n",
      "string lagi\n"
     ]
    }
   ],
   "source": [
    "# Tipe Data String\n",
    "c1 = \"string biasa\"\n",
    "c2 = 'string lagi'\n",
    "\n",
    "# Print isinya\n",
    "print(c1)\n",
    "print(c2)"
   ]
  },
  {
   "cell_type": "code",
   "execution_count": 11,
   "metadata": {},
   "outputs": [
    {
     "name": "stdout",
     "output_type": "stream",
     "text": [
      "<class 'str'>\n",
      "<class 'str'>\n"
     ]
    }
   ],
   "source": [
    "# Mengecek Tipe Data\n",
    "print(type(c1))\n",
    "print(type(c2))"
   ]
  },
  {
   "cell_type": "markdown",
   "metadata": {},
   "source": [
    "Apabila tanda petik atau tanda kutip itu diketik tiga kali berturut-turut, *string* nya bisa berbaris-baris (disebut *multiline string*)."
   ]
  },
  {
   "cell_type": "code",
   "execution_count": 12,
   "metadata": {},
   "outputs": [
    {
     "name": "stdout",
     "output_type": "stream",
     "text": [
      "string\n",
      "sampe\n",
      "bawah\n",
      "<class 'str'>\n"
     ]
    }
   ],
   "source": [
    "c3 = '''string\n",
    "sampe\n",
    "bawah'''\n",
    "\n",
    "print(c3)\n",
    "print(type(c3))"
   ]
  },
  {
   "cell_type": "markdown",
   "metadata": {},
   "source": [
    "Sebenarnya, secara internal, baris baru atau *newline* itu berupa **\"huruf\"** atau karakter tersendiri. Ada cara penulisan khusus, yaitu `\\n` untuk *newline character*. Dengan demikian, kita bisa mengadakan baris baru tanpa menekan tombol Enter."
   ]
  },
  {
   "cell_type": "code",
   "execution_count": 13,
   "metadata": {},
   "outputs": [
    {
     "name": "stdout",
     "output_type": "stream",
     "text": [
      "Selamat\n",
      "sore\n",
      "semuanya\n",
      "<class 'str'>\n"
     ]
    }
   ],
   "source": [
    "c4 = \"Selamat\\nsore\\nsemuanya\"\n",
    "print(c4)\n",
    "print(type(c4))"
   ]
  },
  {
   "cell_type": "markdown",
   "metadata": {},
   "source": [
    "Cara penulisan khusus seperti `\\n` itu disebut *escape character*. Maksudnya, yang tadinya berupa huruf \"n\" itu diawali garis miring `\\` sehingga maknanya berubah."
   ]
  },
  {
   "cell_type": "markdown",
   "metadata": {},
   "source": [
    "Pada `string` dapat dilakukan penggabungan (`s + s`), penggandaan (`s * n`), *slicing* (`s[a:b]`), cari panjang (`len`), maksimum-minimum (max-min di sini diliat dari urutannya di ASCII), dll."
   ]
  },
  {
   "cell_type": "code",
   "execution_count": 14,
   "metadata": {},
   "outputs": [
    {
     "name": "stdout",
     "output_type": "stream",
     "text": [
      "ayamgeprek\n"
     ]
    }
   ],
   "source": [
    "print('ayam' + 'geprek')"
   ]
  },
  {
   "cell_type": "code",
   "execution_count": 15,
   "metadata": {},
   "outputs": [
    {
     "name": "stdout",
     "output_type": "stream",
     "text": [
      "ayam geprek\n"
     ]
    }
   ],
   "source": [
    "print('ayam' + ' ' + 'geprek')"
   ]
  },
  {
   "cell_type": "code",
   "execution_count": 16,
   "metadata": {},
   "outputs": [
    {
     "name": "stdout",
     "output_type": "stream",
     "text": [
      "es jerukes jerukes jerukes jerukes jeruk\n"
     ]
    }
   ],
   "source": [
    "# Penjumlahan berulang adalah perkalian :)\n",
    "print('es jeruk' * 5)"
   ]
  },
  {
   "cell_type": "code",
   "execution_count": 17,
   "metadata": {},
   "outputs": [
    {
     "name": "stdout",
     "output_type": "stream",
     "text": [
      "es jeruk, es jeruk, es jeruk, es jeruk, es jeruk, \n"
     ]
    }
   ],
   "source": [
    "print('es jeruk, ' * 5)"
   ]
  },
  {
   "cell_type": "markdown",
   "metadata": {},
   "source": [
    "## List, Tuple, dan Set"
   ]
  },
  {
   "cell_type": "markdown",
   "metadata": {},
   "source": [
    "Ketiganya dapat digunakan untuk menyimpan banyak item sekaligus."
   ]
  },
  {
   "cell_type": "code",
   "execution_count": 18,
   "metadata": {},
   "outputs": [
    {
     "name": "stdout",
     "output_type": "stream",
     "text": [
      "[10, -1, 13.7]\n",
      "['apel', 'pisang', 'mangga']\n",
      "[-75, 'kartu', True]\n",
      "['r', 'u', 'm', 'p', 'u', 't']\n"
     ]
    }
   ],
   "source": [
    "# Membuat list\n",
    "list1 = [10, -1, 13.7]\n",
    "list2 = [\"apel\", \"pisang\", \"mangga\"]\n",
    "list3 = [-75, \"kartu\", True]\n",
    "list4 = list(\"rumput\")\n",
    "\n",
    "print(list1)\n",
    "print(list2)\n",
    "print(list3)\n",
    "print(list4)"
   ]
  },
  {
   "cell_type": "markdown",
   "metadata": {},
   "source": [
    "Perhatikan bahwa kita dapat menyimpan berbagai tipe data yang berbeda-beda di dalam `list` yang sama. Kita juga dapat memodifikasi `list`:"
   ]
  },
  {
   "cell_type": "code",
   "execution_count": 19,
   "metadata": {},
   "outputs": [
    {
     "name": "stdout",
     "output_type": "stream",
     "text": [
      "[100, 75, 55, 60]\n"
     ]
    }
   ],
   "source": [
    "nilai = [100, 75, 30, 60]\n",
    "nilai[2] = 55\n",
    "\n",
    "print(nilai)"
   ]
  },
  {
   "cell_type": "markdown",
   "metadata": {},
   "source": [
    "Bahkan, kita dapat dengan mudah menambahkan elemen di belakang `list`:"
   ]
  },
  {
   "cell_type": "code",
   "execution_count": 20,
   "metadata": {},
   "outputs": [
    {
     "name": "stdout",
     "output_type": "stream",
     "text": [
      "['merah', 'hijau', 'biru', 'kuning', 'putih', 'hitam']\n"
     ]
    }
   ],
   "source": [
    "warna = [\"merah\", \"hijau\", \"biru\"]\n",
    "warna.append(\"kuning\")\n",
    "warna.append(\"putih\")\n",
    "warna.append(\"hitam\")\n",
    "\n",
    "print(warna)"
   ]
  },
  {
   "cell_type": "markdown",
   "metadata": {},
   "source": [
    "Kita dapat memperoleh panjangnya (banyaknya elemen; isinya ada berapa) menggunakan `len` seperti berikut"
   ]
  },
  {
   "cell_type": "code",
   "execution_count": 21,
   "metadata": {},
   "outputs": [
    {
     "name": "stdout",
     "output_type": "stream",
     "text": [
      "6\n"
     ]
    }
   ],
   "source": [
    "print(len(warna))"
   ]
  },
  {
   "cell_type": "markdown",
   "metadata": {},
   "source": [
    "Selanjutnya, mari kita coba membuat `tuple`."
   ]
  },
  {
   "cell_type": "code",
   "execution_count": 22,
   "metadata": {},
   "outputs": [
    {
     "name": "stdout",
     "output_type": "stream",
     "text": [
      "(2, 3)\n",
      "(4, 'abc')\n",
      "('k', 'a', 'c', 'a', 'n', 'g')\n"
     ]
    }
   ],
   "source": [
    "# Membuat tuple\n",
    "t1 = (2, 3)\n",
    "t2 = (4, 'abc')\n",
    "t3 = tuple('kacang')\n",
    "\n",
    "print(t1)\n",
    "print(t2)\n",
    "print(t3)"
   ]
  },
  {
   "cell_type": "code",
   "execution_count": 23,
   "metadata": {},
   "outputs": [
    {
     "name": "stdout",
     "output_type": "stream",
     "text": [
      "<class 'tuple'>\n",
      "<class 'tuple'>\n",
      "<class 'tuple'>\n"
     ]
    }
   ],
   "source": [
    "print(type(t1))\n",
    "print(type(t2))\n",
    "print(type(t3))"
   ]
  },
  {
   "cell_type": "markdown",
   "metadata": {},
   "source": [
    "Tuple dapat dianggap sebagai list yang isinya tidak bisa diganti, ditambah, ataupun dihapus. Namun masih berlaku operasi list yang tidak termasuk editing. Kelebihan tuple adalah bisa menjadi key untuk dict (akan dijelaskan kemudian)"
   ]
  },
  {
   "cell_type": "code",
   "execution_count": 24,
   "metadata": {},
   "outputs": [
    {
     "ename": "TypeError",
     "evalue": "'tuple' object does not support item assignment",
     "output_type": "error",
     "traceback": [
      "\u001b[0;31m---------------------------------------------------------------------------\u001b[0m",
      "\u001b[0;31mTypeError\u001b[0m                                 Traceback (most recent call last)",
      "\u001b[1;32m/Users/Bisma/Documents/Files/University, S1/2022 2024 Aslab/Modul Struktur Data 2023/Lab Praktikum Departemen Matematika FMIPA UI/modul-prak/semuahalaman/modulprak/2023/ganjil/strukdat_py/Strukdat2023_Modul01.ipynb Cell 47\u001b[0m line \u001b[0;36m2\n\u001b[1;32m      <a href='vscode-notebook-cell:/Users/Bisma/Documents/Files/University%2C%20S1/2022%202024%20Aslab/Modul%20Struktur%20Data%202023/Lab%20Praktikum%20Departemen%20Matematika%20FMIPA%20UI/modul-prak/semuahalaman/modulprak/2023/ganjil/strukdat_py/Strukdat2023_Modul01.ipynb#Y152sZmlsZQ%3D%3D?line=0'>1</a>\u001b[0m \u001b[39m# Kalau mencoba edit tuple, pasti error\u001b[39;00m\n\u001b[0;32m----> <a href='vscode-notebook-cell:/Users/Bisma/Documents/Files/University%2C%20S1/2022%202024%20Aslab/Modul%20Struktur%20Data%202023/Lab%20Praktikum%20Departemen%20Matematika%20FMIPA%20UI/modul-prak/semuahalaman/modulprak/2023/ganjil/strukdat_py/Strukdat2023_Modul01.ipynb#Y152sZmlsZQ%3D%3D?line=1'>2</a>\u001b[0m t2[\u001b[39m1\u001b[39;49m] \u001b[39m=\u001b[39m \u001b[39m'\u001b[39m\u001b[39mxyz\u001b[39m\u001b[39m'\u001b[39m\n",
      "\u001b[0;31mTypeError\u001b[0m: 'tuple' object does not support item assignment"
     ]
    }
   ],
   "source": [
    "# Kalau mencoba edit tuple, pasti error\n",
    "t2[1] = 'xyz'"
   ]
  },
  {
   "cell_type": "markdown",
   "metadata": {},
   "source": [
    "Kata *error* nya sih, ga ada fitur *assignment*. Ini memang disengaja, `tuple` itu dimaksudkan sebagai `list` yang tidak bisa diubah.\n",
    "\n",
    "Barangkali sewaktu-waktu kalian perlu menyimpan data yang sudah pasti tidak berubah. Kalian bisa menggunakan `tuple` untuk berjaga-jaga, takutnya kalian ga sengaja mengubah datanya, nah itu akan error agar kalian ingat bahwa tidak bisa diubah."
   ]
  },
  {
   "cell_type": "markdown",
   "metadata": {},
   "source": [
    "Kemudian, mari kita mencoba membuat *set* atau himpunan. Penulisannya menggunakan kurung kurawal. Konsep set atau himpunan di Python ini diharapkan sama seperti himpunan yang kalian pelajari di mata kuliah Logika dan Himpunan (LDH)."
   ]
  },
  {
   "cell_type": "code",
   "execution_count": 25,
   "metadata": {},
   "outputs": [
    {
     "name": "stdout",
     "output_type": "stream",
     "text": [
      "{'ayam', 'bebek', 'kuda'}\n",
      "{'a', 'g', 'k', 'n', 'c'}\n"
     ]
    }
   ],
   "source": [
    "# Membuat set\n",
    "s1 = {'ayam', 'bebek', 'ayam', 'kuda'}\n",
    "s2 = set(list('kacang'))\n",
    "\n",
    "print(s1)\n",
    "print(s2)"
   ]
  },
  {
   "cell_type": "markdown",
   "metadata": {},
   "source": [
    "Bisa jadi, hasil di atas itu agak berbeda dengan hasil kalian, karena memang agak *random*, urutan elemen di himpunan itu benar-benar tidak diperhatikan di Python.\n",
    "\n",
    "Set bisa dianggap sebagai list yang tidak mempunyai urutan, sehingga tidak ada indexing dan slicing. Kelebihan utamanya adalah set hanya bisa mempunyai elemen yang unik (tidak bisa ada elemen yang sama di set). Hal ini berguna jika kalian mempunyai list yang kalian ingin hilangkan dobel-dobelnya (efek sampingnya, indeksnya jadi hilang sehingga bisa saja isinya tak beraturan)."
   ]
  },
  {
   "cell_type": "markdown",
   "metadata": {},
   "source": [
    "Atau bisa jadi, mungkin kalian memang memerlukan konsep himpunan dari LDH itu di dalam Python, seperti memeriksa apakah suatu elemen ada atau tidak ada di himpunan."
   ]
  },
  {
   "cell_type": "code",
   "execution_count": 26,
   "metadata": {},
   "outputs": [
    {
     "name": "stdout",
     "output_type": "stream",
     "text": [
      "ada ayam\n"
     ]
    }
   ],
   "source": [
    "if ('ayam' in s1):\n",
    "    print(\"ada ayam\")\n",
    "else:\n",
    "    print(\"ayam habis\")"
   ]
  },
  {
   "cell_type": "markdown",
   "metadata": {},
   "source": [
    "Beberapa operator himpunan matematika juga ada di set, seperti subset, superset, disjoint, union, intersection, dll."
   ]
  },
  {
   "cell_type": "code",
   "execution_count": 27,
   "metadata": {},
   "outputs": [
    {
     "name": "stdout",
     "output_type": "stream",
     "text": [
      "{'a', 'm', 'k', 't', 'e', 'i'}\n",
      "{'a', 's', 'k', 't', 'i'}\n",
      "{'a', 'k', 'u', 't', 'i', 'r'}\n"
     ]
    }
   ],
   "source": [
    "s3 = set('matematika')\n",
    "s4 = set('statistika')\n",
    "s5 = set('aktuaria')\n",
    "\n",
    "print(s3)\n",
    "print(s4)\n",
    "print(s5)"
   ]
  },
  {
   "cell_type": "code",
   "execution_count": 28,
   "metadata": {},
   "outputs": [
    {
     "name": "stdout",
     "output_type": "stream",
     "text": [
      "{'a', 'i', 't', 'k'}\n"
     ]
    }
   ],
   "source": [
    "print(s3 & s4) # irisan/intersection"
   ]
  },
  {
   "cell_type": "code",
   "execution_count": 29,
   "metadata": {},
   "outputs": [
    {
     "name": "stdout",
     "output_type": "stream",
     "text": [
      "{'a', 'm', 's', 'k', 't', 'e', 'i'}\n"
     ]
    }
   ],
   "source": [
    "print(s3 | s4) # gabungan/union"
   ]
  },
  {
   "cell_type": "code",
   "execution_count": 67,
   "metadata": {},
   "outputs": [
    {
     "name": "stdout",
     "output_type": "stream",
     "text": [
      "False\n",
      "True\n"
     ]
    }
   ],
   "source": [
    "# subset\n",
    "print(s4 <= s5)\n",
    "print( {3, 4} <= {1, 2, 3, 4, 5} )"
   ]
  },
  {
   "cell_type": "code",
   "execution_count": 68,
   "metadata": {},
   "outputs": [
    {
     "name": "stdout",
     "output_type": "stream",
     "text": [
      "False\n",
      "True\n"
     ]
    }
   ],
   "source": [
    "# superset\n",
    "print(s4 >= s3)\n",
    "print( {3, 4, 5, 6, 7, 8} >= {7, 4} )"
   ]
  },
  {
   "cell_type": "markdown",
   "metadata": {},
   "source": [
    "## Set/List/Tuple Comprehension"
   ]
  },
  {
   "cell_type": "markdown",
   "metadata": {},
   "source": [
    "Istilah set/list/tuple comprehension itu konsepnya sama saja, mungkin kita bahas di set/himpunan dulu yaa."
   ]
  },
  {
   "cell_type": "markdown",
   "metadata": {},
   "source": [
    "Misalnya kalian punya himpunan ini:\n",
    "\n",
    "$B = \\{ 1, 2, 3, 4, 5 \\}$"
   ]
  },
  {
   "cell_type": "code",
   "execution_count": 30,
   "metadata": {},
   "outputs": [
    {
     "name": "stdout",
     "output_type": "stream",
     "text": [
      "{1, 2, 3, 4, 5}\n",
      "<class 'set'>\n"
     ]
    }
   ],
   "source": [
    "B = {1, 2, 3, 4, 5}\n",
    "print(B)\n",
    "print(type(B))"
   ]
  },
  {
   "cell_type": "markdown",
   "metadata": {},
   "source": [
    "Terus misalnya kalian ingin membangun himpunan baru (seperti di LDH) seperti berikut:\n",
    "\n",
    "$C = \\{ 2x : x \\in B \\}$"
   ]
  },
  {
   "cell_type": "markdown",
   "metadata": {},
   "source": [
    "Menariknya, di Python, kalian tinggal mengetik seperti ini:"
   ]
  },
  {
   "cell_type": "code",
   "execution_count": 31,
   "metadata": {},
   "outputs": [
    {
     "name": "stdout",
     "output_type": "stream",
     "text": [
      "{2, 4, 6, 8, 10}\n"
     ]
    }
   ],
   "source": [
    "C = {2*x for x in B}\n",
    "print(C)"
   ]
  },
  {
   "cell_type": "markdown",
   "metadata": {},
   "source": [
    "Bahkan kita juga bisa menambahkan syarat tambahan, misalnya:\n",
    "\n",
    "$D = \\{ 2x : x \\in B, x < 3 \\}$"
   ]
  },
  {
   "cell_type": "code",
   "execution_count": 32,
   "metadata": {},
   "outputs": [
    {
     "name": "stdout",
     "output_type": "stream",
     "text": [
      "{2, 4}\n"
     ]
    }
   ],
   "source": [
    "D = {2*x for x in B if x < 3}\n",
    "print(D)"
   ]
  },
  {
   "cell_type": "markdown",
   "metadata": {},
   "source": [
    "Jangan lupa, himpunan itu tidak memperhatikan urutan (di sini kebetulan aja lagi berurut, tumben). Untungnya, penulisan *set comprehension* ini juga berlaku sama persis di `list` maupun `tuple`, sehingga ada istilah *list comprehension* dan *tuple comprehension* kalau dilakukan di `list` maupun `tuple`."
   ]
  },
  {
   "cell_type": "markdown",
   "metadata": {},
   "source": [
    "Walaupun fitur ini mungkin hanya ada di Python, *set/list/tuple comprehension* ini bisa sangat mempersingkat kode kita. Terkadang kita membangun list menggunakan `for` loop, dan for loop tersebut bisa saja memakan beberapa *line*. Dengan list comprehension, kita dapat membangun list tersebut hanya menggunakan 1 line dan kode kita menjadi lebih enak untuk dibaca."
   ]
  },
  {
   "cell_type": "markdown",
   "metadata": {},
   "source": [
    "Sebagai contoh, misal kita ingin membuat list yang berisi nilai dari $2^x$:"
   ]
  },
  {
   "cell_type": "code",
   "execution_count": 33,
   "metadata": {},
   "outputs": [
    {
     "name": "stdout",
     "output_type": "stream",
     "text": [
      "[1, 2, 4, 8, 16, 32]\n"
     ]
    }
   ],
   "source": [
    "expo = []\n",
    "for i in range(6):\n",
    "    expo.append(2**i)\n",
    "\n",
    "print(expo)"
   ]
  },
  {
   "cell_type": "markdown",
   "metadata": {},
   "source": [
    "Jika menggunakan list comprehension, akan menjadi seperti ini:"
   ]
  },
  {
   "cell_type": "code",
   "execution_count": 34,
   "metadata": {},
   "outputs": [
    {
     "name": "stdout",
     "output_type": "stream",
     "text": [
      "[1, 2, 4, 8, 16, 32]\n"
     ]
    }
   ],
   "source": [
    "expo = [2 ** i for i in range(6)]\n",
    "\n",
    "print(expo)"
   ]
  },
  {
   "cell_type": "markdown",
   "metadata": {},
   "source": [
    "*List comprehension* dibuat dengan membuat `list` yang berisi suatu ekspresi lalu diikuti dengan `for`, dan jika diinginkan, bisa ditambah lagi `for` atau `if`. Hasilnya seolah-olah kita menjalankan `for` loop untuk membuat `list` tersebut, namun hanya menggunakan satu baris kode.\n",
    "\n",
    "*List comprehension* dapat menggunakan lebih dari satu variabel pada ekspresinya. Hal ini ekivalen dengan menggunakan nested `for` loop untuk membuat `list` tersebut."
   ]
  },
  {
   "cell_type": "markdown",
   "metadata": {},
   "source": [
    "Contohnya, ada konsep *cartesian product* dari dua himpunan, yaitu memasangkan tiap elemen pertama dengan tiap elemen kedua, seperti berikut:\n",
    "\n",
    "$\\{ 1, 2 \\} \\times \\{ a, b, c \\} = \\{ (1, a), (1, b), (1, c), (2, a), (2, b), (2, c) \\}$"
   ]
  },
  {
   "cell_type": "markdown",
   "metadata": {},
   "source": [
    "Di Python, kita bisa menggunakan *list comprehension* untuk membuat `list` hasil *cartesian product* dengan mudah, yaitu dengan dua `for`:"
   ]
  },
  {
   "cell_type": "code",
   "execution_count": 35,
   "metadata": {},
   "outputs": [
    {
     "name": "stdout",
     "output_type": "stream",
     "text": [
      "[(1, 'a'), (1, 'b'), (1, 'c'), (2, 'a'), (2, 'b'), (2, 'c')]\n"
     ]
    }
   ],
   "source": [
    "cartesian_prod = [(x, y) for x in [1, 2] for y in ['a', 'b', 'c']]\n",
    "print(cartesian_prod)"
   ]
  },
  {
   "cell_type": "markdown",
   "metadata": {},
   "source": [
    "(Tentu saja, daripada menggunakan `list`, kita bisa menggunakan `set` atau bahkan `tuple`.)"
   ]
  },
  {
   "cell_type": "markdown",
   "metadata": {},
   "source": [
    "Potongan kode di atas ekivalen dengan:"
   ]
  },
  {
   "cell_type": "code",
   "execution_count": 36,
   "metadata": {},
   "outputs": [
    {
     "name": "stdout",
     "output_type": "stream",
     "text": [
      "[(1, 'a'), (1, 'b'), (1, 'c'), (2, 'a'), (2, 'b'), (2, 'c')]\n"
     ]
    }
   ],
   "source": [
    "cartesian_prod = []\n",
    "for x in [1, 2]:\n",
    "    for y in ['a', 'b', 'c']:\n",
    "        cartesian_prod.append((x, y))\n",
    "\n",
    "print(cartesian_prod)"
   ]
  },
  {
   "cell_type": "markdown",
   "metadata": {},
   "source": [
    "Ingat bahwa urutan pembacaan setiap ekspresi `for` dan `if` pada list comprehension adalah dari kiri ke kanan."
   ]
  },
  {
   "cell_type": "markdown",
   "metadata": {},
   "source": [
    "*List comprehension* pun juga bisa di-*nesting*."
   ]
  },
  {
   "cell_type": "code",
   "execution_count": 37,
   "metadata": {},
   "outputs": [
    {
     "name": "stdout",
     "output_type": "stream",
     "text": [
      "[[1, 4, 7], [2, 5, 8], [3, 6, 9]]\n"
     ]
    }
   ],
   "source": [
    "mat = [[1, 2, 3],\n",
    "       [4, 5, 6],\n",
    "       [7, 8, 9]]\n",
    "\n",
    "mat_transpos = [[baris[j] for baris in mat] for j in range(len(mat))]\n",
    "print(mat_transpos)"
   ]
  },
  {
   "cell_type": "markdown",
   "metadata": {},
   "source": [
    "## Dictionary"
   ]
  },
  {
   "cell_type": "markdown",
   "metadata": {},
   "source": [
    "*Dictionary* ini secara harfiah memang artinya \"kamus\" ya. Di dalam kamus, ada kata dan ada definisi, sebagai pasangan, di mana kita memiliki kata dan kita mencari definisi.\n",
    "\n",
    "Di Python, *dictionary* seperti semacam \"perumuman\" dari konsep pasangan kata-definisi untuk kamus, di mana \"kata\" disebut \"key\" atau kunci dan \"definisi\" menjadi \"value\" atau nilai atau data yang sedang dicari berdasarkan *key* nya.\n",
    "\n",
    "Kita juga bisa memandang *dictionary* sebagai `list` yang indeksnya tidak harus berupa bilangan bulat (tetapi, seperti `set`, tidak ada urutan).\n",
    "\n",
    "Strukturnya adalah `{key1:value1, key2:value2, ....}`.\n",
    "\n",
    "*Dictionary* dalam hal ini juga terkadang disebut *associative array*."
   ]
  },
  {
   "cell_type": "code",
   "execution_count": 38,
   "metadata": {},
   "outputs": [
    {
     "name": "stdout",
     "output_type": "stream",
     "text": [
      "{'a': 1, 'b': 2, 'c': 3}\n",
      "{'kopi': 6000, 'teh': 5000, 'susu': 7000}\n",
      "<class 'dict'>\n",
      "<class 'dict'>\n"
     ]
    }
   ],
   "source": [
    "# Membuat dictionary\n",
    "d1 = {'a': 1, 'b': 2, 'c': 3}\n",
    "d2 = {'kopi': 6000, 'teh': 5000, 'susu': 7000}\n",
    "\n",
    "print(d1)\n",
    "print(d2)\n",
    "print(type(d1))\n",
    "print(type(d2))"
   ]
  },
  {
   "cell_type": "markdown",
   "metadata": {},
   "source": [
    "Tidak seperti `list` yang diindeks menggunakan suatu range bilangan, dictionary diindeks menggunakan key. Jadi, untuk memanggil suatu value, panggil layaknya list, namun indeksnya menggunakan key"
   ]
  },
  {
   "cell_type": "code",
   "execution_count": 39,
   "metadata": {},
   "outputs": [
    {
     "name": "stdout",
     "output_type": "stream",
     "text": [
      "6000\n"
     ]
    }
   ],
   "source": [
    "print(d2['kopi'])"
   ]
  },
  {
   "cell_type": "markdown",
   "metadata": {},
   "source": [
    "Tipe data dari value boleh bebas, namun untuk key itu harus yang *immutable* (kurang lebih artinya tidak bisa diubah). Seandainya kita coba membuat *dictionary* dengan key berupa tipe data yang *mutable* (bisa diubah) seperti `list`, akan error:"
   ]
  },
  {
   "cell_type": "code",
   "execution_count": 40,
   "metadata": {},
   "outputs": [
    {
     "ename": "TypeError",
     "evalue": "unhashable type: 'list'",
     "output_type": "error",
     "traceback": [
      "\u001b[0;31m---------------------------------------------------------------------------\u001b[0m",
      "\u001b[0;31mTypeError\u001b[0m                                 Traceback (most recent call last)",
      "\u001b[1;32m/Users/Bisma/Documents/Files/University, S1/2022 2024 Aslab/Modul Struktur Data 2023/Lab Praktikum Departemen Matematika FMIPA UI/modul-prak/semuahalaman/modulprak/2023/ganjil/strukdat_py/Strukdat2023_Modul01.ipynb Cell 89\u001b[0m line \u001b[0;36m1\n\u001b[0;32m----> <a href='vscode-notebook-cell:/Users/Bisma/Documents/Files/University%2C%20S1/2022%202024%20Aslab/Modul%20Struktur%20Data%202023/Lab%20Praktikum%20Departemen%20Matematika%20FMIPA%20UI/modul-prak/semuahalaman/modulprak/2023/ganjil/strukdat_py/Strukdat2023_Modul01.ipynb#Y214sZmlsZQ%3D%3D?line=0'>1</a>\u001b[0m d3 \u001b[39m=\u001b[39m { [\u001b[39m2\u001b[39m, \u001b[39m3\u001b[39m]: \u001b[39m6\u001b[39m, [\u001b[39m3\u001b[39m, \u001b[39m4\u001b[39m]: \u001b[39m12\u001b[39m }\n\u001b[1;32m      <a href='vscode-notebook-cell:/Users/Bisma/Documents/Files/University%2C%20S1/2022%202024%20Aslab/Modul%20Struktur%20Data%202023/Lab%20Praktikum%20Departemen%20Matematika%20FMIPA%20UI/modul-prak/semuahalaman/modulprak/2023/ganjil/strukdat_py/Strukdat2023_Modul01.ipynb#Y214sZmlsZQ%3D%3D?line=1'>2</a>\u001b[0m \u001b[39mprint\u001b[39m(d3)\n",
      "\u001b[0;31mTypeError\u001b[0m: unhashable type: 'list'"
     ]
    }
   ],
   "source": [
    "d3 = { [2, 3]: 6, [3, 4]: 12 }\n",
    "print(d3)"
   ]
  },
  {
   "cell_type": "markdown",
   "metadata": {},
   "source": [
    "Sehingga, kita harus menggunakan `tuple`:"
   ]
  },
  {
   "cell_type": "code",
   "execution_count": 41,
   "metadata": {},
   "outputs": [
    {
     "name": "stdout",
     "output_type": "stream",
     "text": [
      "{(2, 3): 6, (3, 4): 12}\n"
     ]
    }
   ],
   "source": [
    "d3 = {(2, 3): 6, (3, 4): 12}\n",
    "print(d3)"
   ]
  },
  {
   "cell_type": "code",
   "execution_count": 42,
   "metadata": {},
   "outputs": [
    {
     "name": "stdout",
     "output_type": "stream",
     "text": [
      "12\n"
     ]
    }
   ],
   "source": [
    "print(d3[(3, 4)])"
   ]
  },
  {
   "cell_type": "markdown",
   "metadata": {},
   "source": [
    "Untuk menambah suatu pasangan key:value baru, cukup menggunakan `d[key] = value`, dan akan masuk ke `dict` tersebut."
   ]
  },
  {
   "cell_type": "code",
   "execution_count": 43,
   "metadata": {},
   "outputs": [
    {
     "name": "stdout",
     "output_type": "stream",
     "text": [
      "{(2, 3): 6, (3, 4): 12, (3, 5): 15}\n"
     ]
    }
   ],
   "source": [
    "d3[(3, 5)] = 15\n",
    "print(d3)"
   ]
  },
  {
   "cell_type": "markdown",
   "metadata": {},
   "source": [
    "Jika ingin menghapus elemen pada `dict`, dapat menggunakan `del`"
   ]
  },
  {
   "cell_type": "code",
   "execution_count": 44,
   "metadata": {},
   "outputs": [
    {
     "name": "stdout",
     "output_type": "stream",
     "text": [
      "{(3, 4): 12, (3, 5): 15}\n"
     ]
    }
   ],
   "source": [
    "del d3[(2, 3)]\n",
    "print(d3)"
   ]
  },
  {
   "cell_type": "markdown",
   "metadata": {},
   "source": [
    "## Bagaimana dengan *array*?"
   ]
  },
  {
   "cell_type": "markdown",
   "metadata": {},
   "source": [
    "Sebenarnya, `list` yang ada di Python itu sedikit berbeda dengan *array* (larik) yang biasa dibahas di Alprog. Suatu *array*:\n",
    "\n",
    "* harus statis, yaitu ukurannya tidak dapat berubah;\n",
    "* harus homogen, yaitu tipe datanya harus sama semua.\n",
    "\n",
    "Di Python, kita bisa menggunakan *array* melalui `numpy`. Mari kita coba, import `numpy` dulu:"
   ]
  },
  {
   "cell_type": "code",
   "execution_count": 45,
   "metadata": {},
   "outputs": [],
   "source": [
    "import numpy as np"
   ]
  },
  {
   "cell_type": "markdown",
   "metadata": {},
   "source": [
    "Ada \"cara cepat\" untuk membuat *array* yang berisi nol semua atau berisi satu semua, yaitu dengan `numpy.zeros` dan `numpy.ones`:"
   ]
  },
  {
   "cell_type": "code",
   "execution_count": 46,
   "metadata": {},
   "outputs": [
    {
     "name": "stdout",
     "output_type": "stream",
     "text": [
      "[0. 0. 0. 0. 0.]\n",
      "[1. 1. 1.]\n",
      "<class 'numpy.ndarray'>\n",
      "<class 'numpy.ndarray'>\n"
     ]
    }
   ],
   "source": [
    "array1 = np.zeros(5)\n",
    "array2 = np.ones(3)\n",
    "\n",
    "print(array1)\n",
    "print(array2)\n",
    "print(type(array1))\n",
    "print(type(array2))"
   ]
  },
  {
   "cell_type": "markdown",
   "metadata": {},
   "source": [
    "Maksud dari istilah `ndarray` adalah *n-dimensional array* atau *array* yang dimensinya bisa berupa bilangan asli apapun."
   ]
  },
  {
   "cell_type": "markdown",
   "metadata": {},
   "source": [
    "Apabila kita memasukkan `tuple`, kita bisa membuat *array* dengan dimensi yang lebih tinggi."
   ]
  },
  {
   "cell_type": "code",
   "execution_count": 47,
   "metadata": {},
   "outputs": [
    {
     "name": "stdout",
     "output_type": "stream",
     "text": [
      "[[1. 1.]\n",
      " [1. 1.]\n",
      " [1. 1.]]\n"
     ]
    }
   ],
   "source": [
    "# Memasukkan tuple (3, 2) untuk ukuran 3 x 2\n",
    "array3 = np.ones((3, 2))\n",
    "print(array3)"
   ]
  },
  {
   "cell_type": "code",
   "execution_count": 48,
   "metadata": {},
   "outputs": [
    {
     "name": "stdout",
     "output_type": "stream",
     "text": [
      "[  0.   0.   0. -15.   0.]\n"
     ]
    }
   ],
   "source": [
    "array1[3] = -15\n",
    "print(array1)"
   ]
  },
  {
   "cell_type": "code",
   "execution_count": 49,
   "metadata": {},
   "outputs": [
    {
     "ename": "AttributeError",
     "evalue": "'numpy.ndarray' object has no attribute 'append'",
     "output_type": "error",
     "traceback": [
      "\u001b[0;31m---------------------------------------------------------------------------\u001b[0m",
      "\u001b[0;31mAttributeError\u001b[0m                            Traceback (most recent call last)",
      "\u001b[1;32m/Users/Bisma/Documents/Files/University, S1/2022 2024 Aslab/Modul Struktur Data 2023/Lab Praktikum Departemen Matematika FMIPA UI/modul-prak/semuahalaman/modulprak/2023/ganjil/strukdat_py/Strukdat2023_Modul01.ipynb Cell 106\u001b[0m line \u001b[0;36m1\n\u001b[0;32m----> <a href='vscode-notebook-cell:/Users/Bisma/Documents/Files/University%2C%20S1/2022%202024%20Aslab/Modul%20Struktur%20Data%202023/Lab%20Praktikum%20Departemen%20Matematika%20FMIPA%20UI/modul-prak/semuahalaman/modulprak/2023/ganjil/strukdat_py/Strukdat2023_Modul01.ipynb#Y226sZmlsZQ%3D%3D?line=0'>1</a>\u001b[0m array1\u001b[39m.\u001b[39;49mappend(\u001b[39m7\u001b[39m)\n",
      "\u001b[0;31mAttributeError\u001b[0m: 'numpy.ndarray' object has no attribute 'append'"
     ]
    }
   ],
   "source": [
    "array1.append(7)"
   ]
  },
  {
   "cell_type": "markdown",
   "metadata": {},
   "source": [
    "Mungkin di beberapa referensi pemrograman yang membahas *array*, ada istilah deklarasi dan inisialisasi. Deklarasi itu sekedar menyatakan bahwa *array* akan memiliki ukuran sekian, sedangkan inisialisasi adalah memasang nilai awal.\n",
    "\n",
    "Dengan `numpy`, kita bisa menggunakan `numpy.empty(ukuran)` untuk deklarasi saja, atau `numpy.array(list_isinya)` untuk sekaligus memasang nilai awal."
   ]
  },
  {
   "cell_type": "markdown",
   "metadata": {},
   "source": [
    "Misalnya, kita coba deklarasi + inisialisasi sekaligus:"
   ]
  },
  {
   "cell_type": "code",
   "execution_count": 50,
   "metadata": {},
   "outputs": [
    {
     "name": "stdout",
     "output_type": "stream",
     "text": [
      "[10 -5  2 17]\n"
     ]
    }
   ],
   "source": [
    "array4 = np.array([10, -5, 2, 17])\n",
    "print(array4)"
   ]
  },
  {
   "cell_type": "markdown",
   "metadata": {},
   "source": [
    "Perhatikan bahwa `array4` yang sudah kita buat ini berisi bilangan bulat semua. Setelah membuat *array* tersebut, **ukurannya sudah tetap dan tipe datanya juga sudah tetap (dan harus seragam)**."
   ]
  },
  {
   "cell_type": "markdown",
   "metadata": {},
   "source": [
    "Seandainya kita mencoba memasang `float` ke *array* bilangan bulat, akan dipaksakan menjadi bilangan bulat:"
   ]
  },
  {
   "cell_type": "code",
   "execution_count": 51,
   "metadata": {},
   "outputs": [
    {
     "name": "stdout",
     "output_type": "stream",
     "text": [
      "[10 -5  2  3]\n"
     ]
    }
   ],
   "source": [
    "array4[3] = 3.14\n",
    "print(array4)"
   ]
  },
  {
   "cell_type": "markdown",
   "metadata": {},
   "source": [
    "Seandainya mencoba memasang `str` ke *array* bilangan bulat, Python menyerah dan menjadi error:"
   ]
  },
  {
   "cell_type": "code",
   "execution_count": 52,
   "metadata": {},
   "outputs": [
    {
     "ename": "ValueError",
     "evalue": "invalid literal for int() with base 10: 'string'",
     "output_type": "error",
     "traceback": [
      "\u001b[0;31m---------------------------------------------------------------------------\u001b[0m",
      "\u001b[0;31mValueError\u001b[0m                                Traceback (most recent call last)",
      "\u001b[1;32m/Users/Bisma/Documents/Files/University, S1/2022 2024 Aslab/Modul Struktur Data 2023/Lab Praktikum Departemen Matematika FMIPA UI/modul-prak/semuahalaman/modulprak/2023/ganjil/strukdat_py/Strukdat2023_Modul01.ipynb Cell 111\u001b[0m line \u001b[0;36m1\n\u001b[0;32m----> <a href='vscode-notebook-cell:/Users/Bisma/Documents/Files/University%2C%20S1/2022%202024%20Aslab/Modul%20Struktur%20Data%202023/Lab%20Praktikum%20Departemen%20Matematika%20FMIPA%20UI/modul-prak/semuahalaman/modulprak/2023/ganjil/strukdat_py/Strukdat2023_Modul01.ipynb#Y231sZmlsZQ%3D%3D?line=0'>1</a>\u001b[0m array4[\u001b[39m3\u001b[39;49m] \u001b[39m=\u001b[39m \u001b[39m\"\u001b[39m\u001b[39mstring\u001b[39m\u001b[39m\"\u001b[39m\n\u001b[1;32m      <a href='vscode-notebook-cell:/Users/Bisma/Documents/Files/University%2C%20S1/2022%202024%20Aslab/Modul%20Struktur%20Data%202023/Lab%20Praktikum%20Departemen%20Matematika%20FMIPA%20UI/modul-prak/semuahalaman/modulprak/2023/ganjil/strukdat_py/Strukdat2023_Modul01.ipynb#Y231sZmlsZQ%3D%3D?line=1'>2</a>\u001b[0m \u001b[39mprint\u001b[39m(array4)\n",
      "\u001b[0;31mValueError\u001b[0m: invalid literal for int() with base 10: 'string'"
     ]
    }
   ],
   "source": [
    "array4[3] = \"string\"\n",
    "print(array4)"
   ]
  },
  {
   "cell_type": "markdown",
   "metadata": {},
   "source": [
    "Bagaimana kalau kita ingin membuat *array* `float` meskipun data kita kebetulan bilangan bulat semua? Salah satu caranya adalah menambahkan `.0` ke salah satu elemennya:"
   ]
  },
  {
   "cell_type": "code",
   "execution_count": 53,
   "metadata": {},
   "outputs": [
    {
     "name": "stdout",
     "output_type": "stream",
     "text": [
      "[10. -5.  2. 17.]\n"
     ]
    }
   ],
   "source": [
    "array5 = np.array([10.0, -5, 2, 17])\n",
    "print(array5)"
   ]
  },
  {
   "cell_type": "markdown",
   "metadata": {},
   "source": [
    "Dengan demikian, kita bisa memasang `float`:"
   ]
  },
  {
   "cell_type": "code",
   "execution_count": 54,
   "metadata": {},
   "outputs": [
    {
     "name": "stdout",
     "output_type": "stream",
     "text": [
      "[10.   -5.    2.    3.14]\n"
     ]
    }
   ],
   "source": [
    "array5[3] = 3.14\n",
    "print(array5)"
   ]
  },
  {
   "cell_type": "markdown",
   "metadata": {},
   "source": [
    "Cara lain adalah dengan memberitahu `numpy`, melalui `dtype` yaitu tipe data yang kita tentukan. Perhatikan, untuk `dtype`, di sini kita menggunakan nama yang dikenal oleh Python. Misalnya, `float` untuk koma-komaan dan `int` untuk bilangan bulat."
   ]
  },
  {
   "cell_type": "code",
   "execution_count": 55,
   "metadata": {},
   "outputs": [
    {
     "name": "stdout",
     "output_type": "stream",
     "text": [
      "[10. -5.  2. 17.]\n"
     ]
    }
   ],
   "source": [
    "array6 = np.array([10, -5, 2, 17], dtype=float)\n",
    "print(array6)"
   ]
  },
  {
   "cell_type": "markdown",
   "metadata": {},
   "source": [
    "Kita bahkan bisa membuat *array* berisi *string* yaitu `str`"
   ]
  },
  {
   "cell_type": "code",
   "execution_count": 56,
   "metadata": {},
   "outputs": [
    {
     "name": "stdout",
     "output_type": "stream",
     "text": [
      "['p' 'r' 'a' 'k']\n"
     ]
    }
   ],
   "source": [
    "array7 = np.array(['p', 'r', 'a', 'k'], dtype=str)\n",
    "print(array7)"
   ]
  },
  {
   "cell_type": "markdown",
   "metadata": {},
   "source": [
    "Namun, ingat bahwa *array* bersifat ***fixed size***. Bahkan, di sini kita sudah terlanjur membuat *array* berisi 4 *string* dan masing-masing satu huruf. Maka, *array* ini sudah terlanjur hanya bisa menampung 4 *string* dengan masing-masing *string* hanya sebesar satu karakter."
   ]
  },
  {
   "cell_type": "code",
   "execution_count": 57,
   "metadata": {},
   "outputs": [
    {
     "name": "stdout",
     "output_type": "stream",
     "text": [
      "['p' 'r' 'a' 'p']\n"
     ]
    }
   ],
   "source": [
    "array7[3] = \"praktikum\"\n",
    "print(array7)"
   ]
  },
  {
   "cell_type": "markdown",
   "metadata": {},
   "source": [
    "Terakhir, tentang deklarasi menggunakan `numpy.empty`. Kalau kita hanya melakukan deklarasi, kita hanya menyatakan ukurannya, tanpa memberitahu isinya apa. Dengan demikian, komputer kita akan mencari memori yang sedang tidak digunakan, lalu langsung menggunakannya untuk *array* baru kita. **Kemungkinan besar, memori yang sudah ditemukan itu tadinya bekas data lain yang sudah terhapus.**"
   ]
  },
  {
   "cell_type": "markdown",
   "metadata": {},
   "source": [
    "Cara menggunakan `numpy.empty` serupa dengan `numpy.ones` atau `numpy.zeros`:"
   ]
  },
  {
   "cell_type": "code",
   "execution_count": 64,
   "metadata": {},
   "outputs": [
    {
     "name": "stdout",
     "output_type": "stream",
     "text": [
      "[3.10503618e+231 1.49457044e-154 3.95252517e-323 0.00000000e+000\n",
      " 0.00000000e+000 0.00000000e+000 3.10503618e+231 3.10503618e+231]\n"
     ]
    }
   ],
   "source": [
    "array8 = np.empty(8)\n",
    "print(array8)"
   ]
  },
  {
   "cell_type": "markdown",
   "metadata": {},
   "source": [
    "Lho, muncul angka-angka ga jelas. Mungkin di kalian akan berbeda. Inilah bekas dari data yang sudah terhapus."
   ]
  },
  {
   "cell_type": "markdown",
   "metadata": {},
   "source": [
    "Tahukah kalian, ketika kalian menghapus *file*, sebenarnya data itu belum tentu benar-benar terhapus? Datanya hanya **diberi tanda \"terhapus\"**, bukan benar-benar dihilangkan. Data bekas seperti itu disebut ***garbage value***."
   ]
  },
  {
   "cell_type": "markdown",
   "metadata": {},
   "source": [
    "Biasanya, ketika kita membuat *file* baru, barulah komputer mencari memori yang \"kosong\", yaitu **berisi *garbage value***, kemudian komputer menimpa data yang baru di atas data yang lama (*garbage value*) tersebut."
   ]
  },
  {
   "cell_type": "markdown",
   "metadata": {},
   "source": [
    "Tentu saja, *array* hasil deklarasi ini kemudian bisa dipasang nilainya satu-per-satu (*assignment*):"
   ]
  },
  {
   "cell_type": "code",
   "execution_count": 72,
   "metadata": {},
   "outputs": [
    {
     "name": "stdout",
     "output_type": "stream",
     "text": [
      "[-17.6   24.3    2.5    3.75   5.     6.25   7.5    8.75]\n"
     ]
    }
   ],
   "source": [
    "# bisa manual tiap indeks\n",
    "array8[0] = -17.6\n",
    "array8[1] = 24.3\n",
    "\n",
    "# bisa juga dengan for loop\n",
    "for i in range(2, len(array8)): # dari i=2 sampai i=7\n",
    "    array8[i] = 5*i/4\n",
    "\n",
    "print(array8)"
   ]
  },
  {
   "cell_type": "markdown",
   "metadata": {},
   "source": [
    "Kebetulan, hasil `numpy.empty` berisi `float`, sehingga tipe data *array* nya otomatis menjadi `float`. Namun, tentu saja, kita bisa menentukan `dtype` yang kita inginkan (begitu juga untuk `numpy.ones` dan `numpy.zeros`, sama seperti `numpy.array`)."
   ]
  },
  {
   "cell_type": "markdown",
   "metadata": {},
   "source": [
    "Contohnya, dengan `dtype=str` kita mendapatkan *array* yang tiap elemennya berupa *string* yang hanya bisa menampung satu karakter (secara teori juga disebut tipe data karakter atau `char`):"
   ]
  },
  {
   "cell_type": "code",
   "execution_count": 81,
   "metadata": {},
   "outputs": [
    {
     "name": "stdout",
     "output_type": "stream",
     "text": [
      "['' '' '' '']\n",
      "['' '' 'c' '']\n"
     ]
    }
   ],
   "source": [
    "array9 = np.empty(4, dtype=str)\n",
    "print(array9)\n",
    "\n",
    "array9[2] = \"coba\"\n",
    "print(array9)"
   ]
  },
  {
   "cell_type": "markdown",
   "metadata": {},
   "source": [
    "Untuk *string* dengan panjang maksimum $n$ karakter, gunakan `dtype='<Un'` atau `dtype=\"<Un\"`. Misalnya, `dtype='<U3'` atau `dtype=\"<U3\"` untuk tiga karakter:"
   ]
  },
  {
   "cell_type": "code",
   "execution_count": 84,
   "metadata": {},
   "outputs": [
    {
     "name": "stdout",
     "output_type": "stream",
     "text": [
      "['' '' '' '' '']\n",
      "['' '' 'per' '' '']\n"
     ]
    }
   ],
   "source": [
    "array10 = np.empty(5, dtype=\"<U3\")\n",
    "print(array10)\n",
    "\n",
    "array10[2] = \"percobaan\"\n",
    "print(array10)"
   ]
  },
  {
   "cell_type": "markdown",
   "metadata": {},
   "source": [
    "Untuk bilangan bulat, seperti biasa, gunakan `dtype=int`"
   ]
  },
  {
   "cell_type": "code",
   "execution_count": 85,
   "metadata": {},
   "outputs": [
    {
     "name": "stdout",
     "output_type": "stream",
     "text": [
      "[8070450532247928832 1152930267120700532                   6\n",
      "                   0                   0 3832119515839358315\n",
      " 3271410370466756915 3762814858193679157 4120005537702227256\n",
      " 3977580307635332705 8386112019188900194]\n"
     ]
    }
   ],
   "source": [
    "array11 = np.empty(11, dtype=int)\n",
    "print(array11)"
   ]
  },
  {
   "cell_type": "markdown",
   "metadata": {},
   "source": [
    "Sangat *random* ya! Lagi-lagi, isi dari hasil `numpy.empty` sangat mungkin berbeda-beda untuk tiap komputer dan di tiap saat. Intinya, kita hanya meminta *array* dengan ukuran tertentu, tanpa menentukan isinya (tidak seperti `numpy.ones` dan `numpy.zeros` yang isinya sudah pasti, atau `numpy.array` di mana kita manual menentukan isinya), sehingga isinya bisa berupa apa saja. Begitulah jadinya, jika *array* hanya dideklarasi tanpa ditentukan isinya.\n",
    "\n",
    "Pada prakteknya, deklarasi *array* selalu diikuti dengan menentukan isinya, seperti dengan *assignment* atau contoh *for loop* di atas (atau kalau mau, kita bisa saja menggunakan `numpy.ones`, `numpy.zeros`, atau bahkan `numpy.array` agar tidak pusing)."
   ]
  },
  {
   "cell_type": "markdown",
   "metadata": {},
   "source": [
    "## Selanjutnya bahas apa?"
   ]
  },
  {
   "cell_type": "markdown",
   "metadata": {},
   "source": [
    "Sekian praktikum Struktur Data minggu ini. Di pertemuan selanjutnya, kita akan belajar tentang `class`, di mana kita seolah-olah bisa membuat tipe data sendiri lho! Selain itu, fitur `class` ini akan sering kita gunakan untuk membuat berbagai struktur data ke depannya. Sekalian, kita akan membahas juga tentang *object-oriented programming* atau biasa disingkat OOP (atau dalam bahasa Indonesia: pemrograman berorientasi objek, biasa disingkat PBO), yaitu semacam \"paradigma pemrograman\" atau \"gaya pemrograman\" di mana kita sering berurusan dengan `class`. Sampai jumpa!"
   ]
  },
  {
   "cell_type": "markdown",
   "metadata": {},
   "source": []
  }
 ],
 "metadata": {
  "kernelspec": {
   "display_name": "Python 3",
   "language": "python",
   "name": "python3"
  },
  "language_info": {
   "codemirror_mode": {
    "name": "ipython",
    "version": 3
   },
   "file_extension": ".py",
   "mimetype": "text/x-python",
   "name": "python",
   "nbconvert_exporter": "python",
   "pygments_lexer": "ipython3",
   "version": "3.10.11"
  },
  "orig_nbformat": 4
 },
 "nbformat": 4,
 "nbformat_minor": 2
}
