{
 "cells": [
  {
   "cell_type": "markdown",
   "metadata": {},
   "source": [
    "# Tugas 2 Praktikum Struktur Data: *Stack*, *Queue*, dan berbagai *Binary Tree*"
   ]
  },
  {
   "cell_type": "markdown",
   "metadata": {},
   "source": [
    "Kembali ke [Struktur Data (dengan Python)](strukdat2023.qmd)"
   ]
  },
  {
   "cell_type": "markdown",
   "metadata": {},
   "source": [
    "Tugas ini diberikan pada hari dan tanggal: Sabtu, 25 November 2023"
   ]
  },
  {
   "cell_type": "markdown",
   "metadata": {},
   "source": [
    "Link soal dan petunjuk tugas (yaitu link menuju halaman ini):\n",
    "\n",
    "[https://bit.ly/SoalTugas2PrakStrukdat2023Ganjil](https://bit.ly/SoalTugas2PrakStrukdat2023Ganjil)"
   ]
  },
  {
   "cell_type": "markdown",
   "metadata": {},
   "source": [
    "## Petunjuk umum:"
   ]
  },
  {
   "cell_type": "markdown",
   "metadata": {},
   "source": [
    "1. Kerjakan secara individu.\n",
    "\n",
    "2. Kerjakan tugas ini menggunakan bahasa pemrograman Python dengan *file format* berupa *interactive Python notebook* (yaitu *file* berbentuk .ipynb BUKAN .py), yang bisa dibuat misalnya menggunakan Jupyter Notebook atau Google Colaboratory.\n",
    "\n",
    "3. **Harap sertakan penjelasan untuk setiap variabel yang digunakan dan setiap proses secara singkat** di sebelah (atas/bawah/kanan) barisnya (dengan comment, `#`). Selain itu, **sertakan juga penjelasan kode** (yang bisa mencakupi idenya apa, bagaimana cara eksekusinya, atau tentang algoritma yang digunakan) **pada *cell* di sebelah (atas/bawah) kode**.\n",
    "\n",
    "4. Format nama *file* untuk Tugas 2 ini adalah:\n",
    "\n",
    "    Kelas SIAK_Tugas2PrakStrukdat_Nama Lengkap_NPM.ipynb\n",
    "\n",
    "    Contoh penamaan yang benar:\n",
    "\n",
    "    Kelas C_Tugas2PrakStrukdat_Evgenii Mikhailovich Landis_2234567890.ipynb\n",
    "\n",
    "5. Pengumpulan Tugas 2 dilakukan ke Google Forms berikut ini:\n",
    "\n",
    "    [https://bit.ly/KumpulTugas2PrakStrukdat2023Ganjil](https://bit.ly/KumpulTugas2PrakStrukdat2023Ganjil)\n",
    "\n",
    "6. Apabila ada yang ingin direvisi setelah pengumpulan, lakukan pengumpulan ulang di Google Forms yang sama, tambahkan keterangan bahwa ada revisi, dan tambahkan kata “revisi” pada bagian akhir nama file, contohnya menjadi\n",
    "\n",
    "    Kelas C_Tugas2PrakStrukdat_Evgenii Mikhailovich Landis_2234567890_revisi.ipynb\n",
    "\n",
    "    Kelas C_Tugas2PrakStrukdat_Evgenii Mikhailovich Landis_2234567890_revisi2.ipynb\n",
    "\n",
    "    Kelas C_Tugas2PrakStrukdat_Evgenii Mikhailovich Landis_2234567890_revisi3.ipynb\n",
    "\n",
    "    (Revisi boleh dilakukan berkali-kali.)\n",
    "\n",
    "7. Dengan durasi pengerjaan sekitar **2 (dua) minggu**, tenggat waktu (*deadline*) pengumpulan Tugas 2 ini (termasuk revisi) adalah **Sabtu, 9 Desember 2023, 23.59 WIB**.\n",
    "\n",
    "8. Sesuai standar Universitas Indonesia, **plagiarisme dilarang keras** dan bisa menyebabkan nilai tugas praktikum **menjadi nol untuk semua pihak yang terlibat, tanpa peringatan apapun.** Namun, Anda boleh langsung menggunakan kode yang ada di [modul praktikum](./strukdat2023.qmd).\n",
    "\n",
    "9. *Module* atau *package* Python yang boleh digunakan (di-*import*) untuk Tugas 2 ini hanyalah numpy dan graphviz. Apabila Anda berniat ingin menggunakan *module* lain, harap konfirmasikan ke narahubung terlebih dahulu (bisa saja diperbolehkan).\n",
    "\n",
    "10. Narahubung untuk Tugas 2 Praktikum Struktur Data adalah:\n",
    "\n",
    "    Bisma Rohpanca Joyosumarto (ID LINE: bisma_joyosumarto)\n",
    "    \n",
    "    Silakan hubungi narahubung di atas apabila ada yang ingin ditanyakan atau dikonfirmasikan."
   ]
  },
  {
   "cell_type": "markdown",
   "metadata": {},
   "source": [
    "## Soal:"
   ]
  },
  {
   "cell_type": "markdown",
   "metadata": {},
   "source": [
    "1. Buatlah fungsi `print_reverse()` yang menerima satu *string*, membuat suatu `ArrayStack` (untuk tipe data atau `dtype` yang sesuai, dengan ukuran yang memadai), memasukkan tiap huruf/karakter dari *string* yang diinput ke dalam *stack* tersebut, kemudian melakukan *pop* terus-menerus hingga *stack* kosong sambil menampilkan tiap huruf yang di-*pop*. Pastikan tiap huruf ditampilkan di baris yang sama (kecuali apabila memang ada *newline* di dalam *string* yang menjadi input).\n",
    "\n",
    "    Contoh penggunaan fungsi:\n",
    "    \n",
    "    ```python\n",
    "    >>> print_reverse(\"Satu dua tiga\")\n",
    "    agit aud utaS\n",
    "    ```\n",
    "\n",
    "    *Hint*: `dtype` yang sesuai adalah untuk menyimpan huruf/karakter (di mana tiap elemen di *array* berupa *string* dengan panjang $\\le 1$), yaitu `dtype=str` atau sama saja `dtype=\"<U1\"`"
   ]
  },
  {
   "cell_type": "markdown",
   "metadata": {},
   "source": [
    "2. Buatlah fungsi `odd_even_others_sep()` yang menerima suatu list, lalu menggunakan sejumlah `SLQueue` (boleh memilih antara `SLLinQueue` atau `SLCircQueue`, sama saja) untuk memisahkan antara tiga kategori yaitu\n",
    "\n",
    "    a. bilangan ganjil\n",
    "\n",
    "    b. bilangan genap\n",
    "    \n",
    "    c. data selain bilangan bulat\n",
    "    \n",
    "    dengan menjaga *relative order* (yaitu tanpa mengubah urutan data di kategori yang sama), kemudian mengembalikan list baru di mana ketiga kategori tersebut sudah dikelompokkan/terpisah dengan baik.\n",
    "\n",
    "    Contoh penggunaan fungsi:\n",
    "    \n",
    "    ```python\n",
    "    >>> list_lama = [1, 2, \"rumput\", 3.14, 5, 6, 7, \"mobil\", 8]\n",
    "    >>> hasil = odd_even_others_sep(list_lama)\n",
    "    >>> print(hasil)\n",
    "    [1, 5, 7, 2, 6, 8, \"rumput\", 3.14, \"mobil\"]\n",
    "    ```\n",
    "\n",
    "    *Hint:* cobalah satu *queue* per kategori."
   ]
  },
  {
   "cell_type": "markdown",
   "metadata": {},
   "source": [
    "3. Buatlah fungsi `get_char_tree()` yang menerima suatu *string* (misal memiliki panjang n), lalu membuat suatu `ArrayBintree` untuk menyimpan huruf/karakter (pilih `dtype` yang sesuai), dengan *height* yang memadai, kemudian memasang n elemen pertama di representasi array nya menjadi n huruf/karakter yang ada di *string*, sisanya string kosong (dengan `emptydata=\"\"`). Lalu, `ArrayBintree` tersebut di-*return*. Berikan contoh penggunaan fungsinya dan tampilkan gambar dari pohon yang dihasilkan.\n",
    "\n",
    "    Contoh penggunaan fungsi:\n",
    "    \n",
    "    ```python\n",
    "    >>> testpohon = get_char_tree(\"strukturdata\")\n",
    "    >>> display(testpohon.get_digraph_simple())\n",
    "    ```\n",
    "\n",
    "    ![testpohon4](./tugas2%20no3%20arraybintree%20strukturdata3.svg)\n",
    "\n",
    "    *Hint:*\n",
    "\n",
    "    * Jika n adalah panjang/ukuran string, *height* yang sesuai untuk `ArrayBintree` adalah\n",
    "    \n",
    "    $$h = \\lceil \\log_2 \\left(n+1\\right) \\rceil -1$$\n",
    "\n",
    "    * numpy menyediakan fungsi logaritma `np.log` yaitu $\\ln \\left( x \\right)$, dan juga fungsi *ceiling* `np.ceil` yaitu $\\lceil x \\rceil$ (jangan lupa meng-*convert* hasil `np.ceil` menjadi tipe data `int`)\n",
    "\n",
    "    * Berdasarkan sifat logaritma, $\\log_2 \\left(x\\right) = \\frac{\\ln x}{\\ln 2}$"
   ]
  },
  {
   "cell_type": "markdown",
   "metadata": {},
   "source": [
    "4. Buatlah fungsi `max_heap_sort_descending()` yang menerima suatu array numpy (bukan list), memasukkan semua elemen array yang diinput ke dalam suatu `ArrayMaxHeap`, kemudian membentuk suatu array baru dengan mengeluarkan satu-satu elemen dari *max heap* tersebut, lalu me-*return* array baru tersebut.\n",
    "\n",
    "    Contoh penggunaan fungsi:\n",
    "    \n",
    "    ```python\n",
    "    >>> array1 = np.array([10, 5, 20, 70, 30, 45])\n",
    "    >>> array2 = max_heap_sort_descending(array1)\n",
    "    >>> print(array2)\n",
    "    [70 45 30 20 10  5]\n",
    "    ```\n",
    "\n",
    "    *Hint:* `dtype` untuk `ArrayMaxHeap` bisa disamakan dengan tipe data dari elemen-elemen yang ada di array yang diinput."
   ]
  },
  {
   "cell_type": "markdown",
   "metadata": {},
   "source": [
    "5. BST vs. AVL\n",
    "\n",
    "    a. Buatlah fungsi `get_bst()` yang menerima suatu list atau array, melakukan *insertion* untuk tiap elemen list/array ke suatu `LinkedBST`, kemudian me-*return* `LinkedBST` tersebut.\n",
    "\n",
    "    b. Serupa, buatlah fungsi `get_avl()` yang menerima suatu list atau array, melakukan *insertion* untuk tiap elemen list/array ke suatu `LinkedAVL`, kemudian me-*return* `LinkedAVL` tersebut.\n",
    "\n",
    "    c. Buatlah array numpy berisi tiap digit di NPM Anda.\n",
    "\n",
    "    d. Gunakan fungsi `max_heap_sort_descending()` dengan array yang Anda buat di poin (c) untuk memperoleh array baru yang terurut secara menurun.\n",
    "\n",
    "    e. Gunakan fungsi `get_bst()` dan `get_avl()` tersebut untuk memperoleh suatu `LinkedBST` dan suatu `LinkedAVL` dari array yang Anda peroleh di soal poin (d). Abaikan error *insertion*. Kemudian, tampilkan gambar keduanya.\n",
    "\n",
    "    f. *Binary tree* memiliki *height* -1 jika kosong, memiliki *height* 0 jika berisi satu *node* saja, dan memiliki *height* 1 jika berisi dua *node* saja (atau tiga *node* jika *complete*). Berapa kah *height* dari `LinkedBST` dan dari `LinkedAVL` yang Anda peroleh di soal poin (e)? Mana yang lebih dangkal/pendek?\n",
    "\n",
    "    Contoh penggunaan fungsi:\n",
    "    \n",
    "    ```python\n",
    "    >>> arrayNPM = np.array([2, 1, 0, 6, 6, 3, 5, 5, 8, 1])\n",
    "    >>> arrdesc = max_heap_sort_descending(arrayNPM)\n",
    "    >>> contohbst = get_bst(arrdesc)\n",
    "    >>> contohavl = get_avl(arrdesc)\n",
    "    >>> display(contohbst.get_digraph_simple())\n",
    "    ```\n",
    "\n",
    "    ![contohbst](./tugas2%20no5e%20bst.svg)\n",
    "\n",
    "    ```python\n",
    "    >>> display(contohavl.get_digraph_simple())\n",
    "    ```\n",
    "\n",
    "    ![contohavl](./tugas2%20no5e%20avl.svg)"
   ]
  },
  {
   "cell_type": "markdown",
   "metadata": {},
   "source": []
  }
 ],
 "metadata": {
  "kernelspec": {
   "display_name": "Python 3 (ipykernel)",
   "language": "python",
   "name": "python3"
  },
  "language_info": {
   "codemirror_mode": {
    "name": "ipython",
    "version": 3
   },
   "file_extension": ".py",
   "mimetype": "text/x-python",
   "name": "python",
   "nbconvert_exporter": "python",
   "pygments_lexer": "ipython3",
   "version": "3.10.11"
  }
 },
 "nbformat": 4,
 "nbformat_minor": 4
}
