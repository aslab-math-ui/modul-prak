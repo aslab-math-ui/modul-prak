{
 "cells": [
  {
   "cell_type": "markdown",
   "metadata": {},
   "source": [
    "# Modul 10 Struktur Data: Pengantar *database* dengan SQLite"
   ]
  },
  {
   "cell_type": "markdown",
   "metadata": {},
   "source": [
    "Kembali ke [Struktur Data (dengan Python)](strukdat2023.qmd)"
   ]
  },
  {
   "cell_type": "markdown",
   "metadata": {},
   "source": [
    "Selamat datang di praktikum terakhir Struktur Data tahun 2023 ini :)"
   ]
  },
  {
   "cell_type": "markdown",
   "metadata": {},
   "source": [
    "Agak berbeda dengan beberapa praktikum sebelumnya, kali ini, kita akan membahas tentang *database* (terkadang disebut \"basis data\") menggunakan yang namanya SQLite."
   ]
  },
  {
   "cell_type": "markdown",
   "metadata": {},
   "source": [
    "Sebelum kita mulai, singkat cerita:\n",
    "\n",
    "* Suatu *database* adalah tempat menyimpan sekumpulan data yang saling berhubungan\n",
    "\n",
    "* *Database* biasanya berupa sekumpulan tabel yang saling berkaitan. Jenis *database* ini disebut ***relational database***\n",
    "\n",
    "* Untuk mengelola suatu *database*, digunakan yang namanya *database management system* (DBMS). Khusus *relational database*, ada istilah *relational database management system* (RDBMS)\n",
    "\n",
    "* Untuk *relational database* yang tidak terlalu besar, salah satu RDBMS yang sering digunakan adalah SQLite, dan itulah yang kita bahas di sini. Ada juga Microsoft Access\n",
    "\n",
    "* Untuk penggunaan *relational database* di server atau internet, apalagi kalau ukuran datanya besar, contoh RDBMS yang biasa digunakan adalah MySQL, PostgreSQL, MariaDB, Microsoft SQL Server, Oracle Database\n",
    "\n",
    "* SQLite bisa dioperasikan melalui Python, dengan *module*/*package* `sqlite3` yang harusnya sudah terinstal bersama Python (kalau belum, bisa diinstal dengan `pip install sqlite3`, tapi jangan lupa `conda install sqlite` terlebih dahulu kalau menggunakan Anaconda)\n",
    "\n",
    "* *File extension* atau akhiran nama *file* untuk suatu *database* SQLite bisa berupa `.db` atau `.sqlite` atau lebih spesifiknya `.sqlite3` (atau yang jarang digunakan: `.db3`, `.s3db`, `.sl3`)\n",
    "\n",
    "* Pada tiap *database*, bisa dilakukan yang namanya *querying*, yaitu melakukan *filtering* untuk memperoleh data yang memenuhi kriteria yang kita tentukan\n",
    "\n",
    "* Sudah ada bahasa bernama SQL (*Structured Query Language*) yang terstandarisasi untuk melakukan *querying* (maupun modifikasi) pada *relational database*, apapun RDBMS yang digunakan"
   ]
  },
  {
   "cell_type": "code",
   "execution_count": 2,
   "metadata": {},
   "outputs": [],
   "source": [
    "import sqlite3"
   ]
  },
  {
   "cell_type": "markdown",
   "metadata": {},
   "source": [
    "## Membuat *database* dan tabel"
   ]
  },
  {
   "cell_type": "markdown",
   "metadata": {},
   "source": [
    "Membuat *database* baru (atau membuka *database* yang sudah ada, kalau ada) dengan nama *file* yang ditentukan"
   ]
  },
  {
   "cell_type": "code",
   "execution_count": 3,
   "metadata": {},
   "outputs": [],
   "source": [
    "conn = sqlite3.connect(\"pasar.sqlite3\")"
   ]
  },
  {
   "cell_type": "code",
   "execution_count": 3,
   "metadata": {},
   "outputs": [],
   "source": [
    "cur = conn.cursor()"
   ]
  },
  {
   "cell_type": "code",
   "execution_count": 4,
   "metadata": {},
   "outputs": [],
   "source": [
    "# Menjalankan perintah SQL\n",
    "cur.execute(\"\"\"CREATE TABLE IF NOT EXISTS tabel_produk (\n",
    "    product_id INTEGER PRIMARY KEY NOT NULL,\n",
    "    nama TEXT,\n",
    "    stok INTEGER,\n",
    "    berat_kg REAL,\n",
    "    harga_ribu_rp REAL\n",
    ")\"\"\")\n",
    "\n",
    "# Menyimpan hasil eksekusi SQL\n",
    "conn.commit()"
   ]
  },
  {
   "cell_type": "markdown",
   "metadata": {},
   "source": [
    "*Storage class* atau \"kategori tipe data\" di SQLite ada lima:\n",
    "\n",
    "* NULL\n",
    "\n",
    "* INTEGER\n",
    "\n",
    "* REAL\n",
    "\n",
    "* TEXT\n",
    "\n",
    "* BLOB (untuk data lainnya)"
   ]
  },
  {
   "cell_type": "code",
   "execution_count": 5,
   "metadata": {},
   "outputs": [],
   "source": [
    "# Menutup koneksi\n",
    "conn.close()"
   ]
  },
  {
   "cell_type": "markdown",
   "metadata": {},
   "source": [
    "## Menambahkan dan melihat data"
   ]
  },
  {
   "cell_type": "markdown",
   "metadata": {},
   "source": [
    "Menambahkan data ke *database*"
   ]
  },
  {
   "cell_type": "code",
   "execution_count": 11,
   "metadata": {},
   "outputs": [],
   "source": [
    "conn = sqlite3.connect(\"pasar.sqlite3\")\n",
    "cur = conn.cursor()\n",
    "\n",
    "cur.execute(\"INSERT INTO tabel_produk VALUES (123, 'Apel', 10, 0.2, 3.5)\")\n",
    "conn.commit()\n",
    "\n",
    "cur.execute(\"INSERT INTO tabel_produk VALUES (456, 'Jeruk', 15, 0.15, 2.1)\")\n",
    "conn.commit()\n",
    "\n",
    "cur.execute(\"INSERT INTO tabel_produk VALUES (789, 'Pisang', 40, 0.05, 1.25)\")\n",
    "conn.commit()\n",
    "\n",
    "conn.close()"
   ]
  },
  {
   "cell_type": "markdown",
   "metadata": {},
   "source": [
    "Melihat semua data yang ada di *database*"
   ]
  },
  {
   "cell_type": "code",
   "execution_count": 12,
   "metadata": {},
   "outputs": [
    {
     "name": "stdout",
     "output_type": "stream",
     "text": [
      "[(123, 'Apel', 10, 0.2, 3.5), (456, 'Jeruk', 15, 0.15, 2.1), (789, 'Pisang', 40, 0.05, 1.25)]\n"
     ]
    }
   ],
   "source": [
    "conn = sqlite3.connect(\"pasar.sqlite3\")\n",
    "cur = conn.cursor()\n",
    "\n",
    "cur.execute(\"SELECT * FROM tabel_produk\")\n",
    "print(cur.fetchall())\n",
    "\n",
    "conn.close()"
   ]
  },
  {
   "cell_type": "code",
   "execution_count": 13,
   "metadata": {},
   "outputs": [
    {
     "name": "stdout",
     "output_type": "stream",
     "text": [
      "[(123, 'Apel', 10, 0.2, 3.5), (456, 'Jeruk', 15, 0.15, 2.1), (789, 'Pisang', 40, 0.05, 1.25)]\n"
     ]
    }
   ],
   "source": [
    "conn = sqlite3.connect(\"pasar.sqlite3\")\n",
    "cur = conn.cursor()\n",
    "\n",
    "cur.execute(\"SELECT * FROM tabel_produk\")\n",
    "semua_baris = cur.fetchall()\n",
    "print(semua_baris)\n",
    "\n",
    "conn.close()"
   ]
  },
  {
   "cell_type": "code",
   "execution_count": 14,
   "metadata": {},
   "outputs": [
    {
     "name": "stdout",
     "output_type": "stream",
     "text": [
      "(123, 'Apel', 10, 0.2, 3.5)\n",
      "(456, 'Jeruk', 15, 0.15, 2.1)\n",
      "(789, 'Pisang', 40, 0.05, 1.25)\n"
     ]
    }
   ],
   "source": [
    "conn = sqlite3.connect(\"pasar.sqlite3\")\n",
    "cur = conn.cursor()\n",
    "\n",
    "cur.execute(\"SELECT * FROM tabel_produk\")\n",
    "semua_baris = cur.fetchall()\n",
    "for baris in semua_baris:\n",
    "    print(baris)\n",
    "\n",
    "conn.close()"
   ]
  },
  {
   "cell_type": "markdown",
   "metadata": {},
   "source": [
    "Melihat nama kolom"
   ]
  },
  {
   "cell_type": "markdown",
   "metadata": {},
   "source": [
    "Sayangnya, tidak ada cara langsung untuk memperoleh nama kolom. Namun, kita bisa melihat atribut `.description` pada cursor, yang berisi nama tiap kolom, disertai dengan beberapa data lainnya yang maknanya tidak perlu kita pahami."
   ]
  },
  {
   "cell_type": "code",
   "execution_count": 15,
   "metadata": {},
   "outputs": [
    {
     "name": "stdout",
     "output_type": "stream",
     "text": [
      "(('product_id', None, None, None, None, None, None), ('nama', None, None, None, None, None, None), ('stok', None, None, None, None, None, None), ('berat_kg', None, None, None, None, None, None), ('harga_ribu_rp', None, None, None, None, None, None))\n"
     ]
    }
   ],
   "source": [
    "conn = sqlite3.connect(\"pasar.sqlite3\")\n",
    "cur = conn.cursor()\n",
    "\n",
    "cur.execute(\"SELECT * FROM tabel_produk\")\n",
    "print(cur.description)\n",
    "\n",
    "conn.close()"
   ]
  },
  {
   "cell_type": "markdown",
   "metadata": {},
   "source": [
    "Dengan *list comprehension*, kita ambil bagian pertama saja:"
   ]
  },
  {
   "cell_type": "code",
   "execution_count": 16,
   "metadata": {},
   "outputs": [
    {
     "name": "stdout",
     "output_type": "stream",
     "text": [
      "['product_id', 'nama', 'stok', 'berat_kg', 'harga_ribu_rp']\n"
     ]
    }
   ],
   "source": [
    "conn = sqlite3.connect(\"pasar.sqlite3\")\n",
    "cur = conn.cursor()\n",
    "\n",
    "cur.execute(\"SELECT * FROM tabel_produk\")\n",
    "nama_kolom = [x[0] for x in cur.description]\n",
    "print(nama_kolom)\n",
    "\n",
    "conn.close()"
   ]
  },
  {
   "cell_type": "markdown",
   "metadata": {},
   "source": [
    "Melihat data di kolom-kolom tertentu saja"
   ]
  },
  {
   "cell_type": "code",
   "execution_count": 17,
   "metadata": {},
   "outputs": [
    {
     "name": "stdout",
     "output_type": "stream",
     "text": [
      "[(123, 'Apel'), (456, 'Jeruk'), (789, 'Pisang')]\n"
     ]
    }
   ],
   "source": [
    "conn = sqlite3.connect(\"pasar.sqlite3\")\n",
    "cur = conn.cursor()\n",
    "\n",
    "cur.execute(\"SELECT product_id, nama FROM tabel_produk\")\n",
    "print(cur.fetchall())\n",
    "\n",
    "conn.close()"
   ]
  },
  {
   "cell_type": "code",
   "execution_count": 18,
   "metadata": {},
   "outputs": [
    {
     "name": "stdout",
     "output_type": "stream",
     "text": [
      "[('Apel', 10), ('Jeruk', 15), ('Pisang', 40)]\n"
     ]
    }
   ],
   "source": [
    "conn = sqlite3.connect(\"pasar.sqlite3\")\n",
    "cur = conn.cursor()\n",
    "\n",
    "cur.execute(\"SELECT nama, stok FROM tabel_produk\")\n",
    "print(cur.fetchall())\n",
    "\n",
    "conn.close()"
   ]
  },
  {
   "cell_type": "code",
   "execution_count": 19,
   "metadata": {},
   "outputs": [
    {
     "name": "stdout",
     "output_type": "stream",
     "text": [
      "[('Apel', 0.2, 3.5), ('Jeruk', 0.15, 2.1), ('Pisang', 0.05, 1.25)]\n"
     ]
    }
   ],
   "source": [
    "conn = sqlite3.connect(\"pasar.sqlite3\")\n",
    "cur = conn.cursor()\n",
    "\n",
    "cur.execute(\"SELECT nama, berat_kg, harga_ribu_rp FROM tabel_produk\")\n",
    "print(cur.fetchall())\n",
    "\n",
    "conn.close()"
   ]
  },
  {
   "cell_type": "markdown",
   "metadata": {},
   "source": [
    "Menambahkan data"
   ]
  },
  {
   "cell_type": "code",
   "execution_count": 20,
   "metadata": {},
   "outputs": [],
   "source": [
    "conn = sqlite3.connect(\"pasar.sqlite3\")\n",
    "cur = conn.cursor()\n",
    "\n",
    "data_baru = [\n",
    "    (987, 'Brokoli', 70, 0.05, 1.5),\n",
    "    (321, 'Wortel', 30, 0.1, 1.8),\n",
    "    (135, 'Stroberi', 120, 0.04, 2)\n",
    "]\n",
    "\n",
    "cur.executemany(\"INSERT INTO tabel_produk VALUES (?, ?, ?, ?, ?)\", data_baru)\n",
    "conn.commit()\n",
    "\n",
    "conn.close()"
   ]
  },
  {
   "cell_type": "code",
   "execution_count": 21,
   "metadata": {},
   "outputs": [
    {
     "name": "stdout",
     "output_type": "stream",
     "text": [
      "[(123, 'Apel', 10, 0.2, 3.5), (135, 'Stroberi', 120, 0.04, 2.0), (321, 'Wortel', 30, 0.1, 1.8), (456, 'Jeruk', 15, 0.15, 2.1), (789, 'Pisang', 40, 0.05, 1.25), (987, 'Brokoli', 70, 0.05, 1.5)]\n"
     ]
    }
   ],
   "source": [
    "conn = sqlite3.connect(\"pasar.sqlite3\")\n",
    "cur = conn.cursor()\n",
    "\n",
    "cur.execute(\"SELECT * FROM tabel_produk\")\n",
    "print(cur.fetchall())\n",
    "\n",
    "conn.close()"
   ]
  },
  {
   "cell_type": "code",
   "execution_count": 22,
   "metadata": {},
   "outputs": [
    {
     "name": "stdout",
     "output_type": "stream",
     "text": [
      "(123, 'Apel', 10, 0.2, 3.5)\n",
      "(135, 'Stroberi', 120, 0.04, 2.0)\n",
      "(321, 'Wortel', 30, 0.1, 1.8)\n",
      "(456, 'Jeruk', 15, 0.15, 2.1)\n",
      "(789, 'Pisang', 40, 0.05, 1.25)\n",
      "(987, 'Brokoli', 70, 0.05, 1.5)\n"
     ]
    }
   ],
   "source": [
    "conn = sqlite3.connect(\"pasar.sqlite3\")\n",
    "cur = conn.cursor()\n",
    "\n",
    "cur.execute(\"SELECT * FROM tabel_produk\")\n",
    "semua_baris = cur.fetchall()\n",
    "for baris in semua_baris:\n",
    "    print(baris)\n",
    "\n",
    "conn.close()"
   ]
  },
  {
   "cell_type": "markdown",
   "metadata": {},
   "source": [
    "## *Querying*"
   ]
  },
  {
   "cell_type": "code",
   "execution_count": 23,
   "metadata": {},
   "outputs": [
    {
     "name": "stdout",
     "output_type": "stream",
     "text": [
      "(123, 'Apel', 10, 0.2, 3.5)\n",
      "(321, 'Wortel', 30, 0.1, 1.8)\n",
      "(456, 'Jeruk', 15, 0.15, 2.1)\n",
      "(789, 'Pisang', 40, 0.05, 1.25)\n"
     ]
    }
   ],
   "source": [
    "conn = sqlite3.connect(\"pasar.sqlite3\")\n",
    "cur = conn.cursor()\n",
    "\n",
    "cur.execute(\"SELECT * FROM tabel_produk WHERE stok < 50\")\n",
    "semua_baris = cur.fetchall()\n",
    "for baris in semua_baris:\n",
    "    print(baris)\n",
    "\n",
    "conn.close()"
   ]
  },
  {
   "cell_type": "code",
   "execution_count": 24,
   "metadata": {},
   "outputs": [
    {
     "name": "stdout",
     "output_type": "stream",
     "text": [
      "(123, 'Apel', 10, 0.2, 3.5)\n",
      "(456, 'Jeruk', 15, 0.15, 2.1)\n"
     ]
    }
   ],
   "source": [
    "conn = sqlite3.connect(\"pasar.sqlite3\")\n",
    "cur = conn.cursor()\n",
    "\n",
    "cur.execute(\"SELECT * FROM tabel_produk WHERE harga_ribu_rp > 2\")\n",
    "semua_baris = cur.fetchall()\n",
    "for baris in semua_baris:\n",
    "    print(baris)\n",
    "\n",
    "conn.close()"
   ]
  },
  {
   "cell_type": "code",
   "execution_count": 25,
   "metadata": {},
   "outputs": [
    {
     "name": "stdout",
     "output_type": "stream",
     "text": [
      "(135, 'Stroberi', 120, 0.04, 2.0)\n"
     ]
    }
   ],
   "source": [
    "conn = sqlite3.connect(\"pasar.sqlite3\")\n",
    "cur = conn.cursor()\n",
    "\n",
    "cur.execute(\"SELECT * FROM tabel_produk WHERE nama == 'Stroberi'\")\n",
    "semua_baris = cur.fetchall()\n",
    "for baris in semua_baris:\n",
    "    print(baris)\n",
    "\n",
    "conn.close()"
   ]
  },
  {
   "cell_type": "code",
   "execution_count": 26,
   "metadata": {},
   "outputs": [
    {
     "name": "stdout",
     "output_type": "stream",
     "text": [
      "(987, 'Brokoli', 70, 0.05, 1.5)\n"
     ]
    }
   ],
   "source": [
    "conn = sqlite3.connect(\"pasar.sqlite3\")\n",
    "cur = conn.cursor()\n",
    "\n",
    "cur.execute(\"SELECT * FROM tabel_produk WHERE product_id == 987\")\n",
    "semua_baris = cur.fetchall()\n",
    "for baris in semua_baris:\n",
    "    print(baris)\n",
    "\n",
    "conn.close()"
   ]
  },
  {
   "cell_type": "code",
   "execution_count": 27,
   "metadata": {},
   "outputs": [
    {
     "name": "stdout",
     "output_type": "stream",
     "text": [
      "(456, 'Jeruk', 15, 0.15, 2.1)\n"
     ]
    }
   ],
   "source": [
    "conn = sqlite3.connect(\"pasar.sqlite3\")\n",
    "cur = conn.cursor()\n",
    "\n",
    "cur.execute(\"SELECT * FROM tabel_produk WHERE product_id LIKE '45%'\")\n",
    "semua_baris = cur.fetchall()\n",
    "for baris in semua_baris:\n",
    "    print(baris)\n",
    "\n",
    "conn.close()"
   ]
  },
  {
   "cell_type": "code",
   "execution_count": 28,
   "metadata": {},
   "outputs": [
    {
     "name": "stdout",
     "output_type": "stream",
     "text": [
      "(789, 'Pisang', 40, 0.05, 1.25)\n"
     ]
    }
   ],
   "source": [
    "conn = sqlite3.connect(\"pasar.sqlite3\")\n",
    "cur = conn.cursor()\n",
    "\n",
    "cur.execute(\"SELECT * FROM tabel_produk WHERE product_id LIKE '%9'\")\n",
    "semua_baris = cur.fetchall()\n",
    "for baris in semua_baris:\n",
    "    print(baris)\n",
    "\n",
    "conn.close()"
   ]
  },
  {
   "cell_type": "code",
   "execution_count": 29,
   "metadata": {},
   "outputs": [
    {
     "name": "stdout",
     "output_type": "stream",
     "text": [
      "(123, 'Apel', 10, 0.2, 3.5)\n",
      "(135, 'Stroberi', 120, 0.04, 2.0)\n"
     ]
    }
   ],
   "source": [
    "conn = sqlite3.connect(\"pasar.sqlite3\")\n",
    "cur = conn.cursor()\n",
    "\n",
    "cur.execute(\"SELECT * FROM tabel_produk WHERE product_id LIKE '1%'\")\n",
    "semua_baris = cur.fetchall()\n",
    "for baris in semua_baris:\n",
    "    print(baris)\n",
    "\n",
    "conn.close()"
   ]
  },
  {
   "cell_type": "code",
   "execution_count": 30,
   "metadata": {},
   "outputs": [
    {
     "name": "stdout",
     "output_type": "stream",
     "text": [
      "(123, 'Apel', 10, 0.2, 3.5)\n"
     ]
    }
   ],
   "source": [
    "conn = sqlite3.connect(\"pasar.sqlite3\")\n",
    "cur = conn.cursor()\n",
    "\n",
    "cur.execute(\"SELECT * FROM tabel_produk WHERE (stok < 50) AND (product_id LIKE '1%')\")\n",
    "semua_baris = cur.fetchall()\n",
    "for baris in semua_baris:\n",
    "    print(baris)\n",
    "\n",
    "conn.close()"
   ]
  },
  {
   "cell_type": "code",
   "execution_count": 31,
   "metadata": {},
   "outputs": [
    {
     "name": "stdout",
     "output_type": "stream",
     "text": [
      "(123, 'Apel', 10, 0.2, 3.5)\n",
      "(456, 'Jeruk', 15, 0.15, 2.1)\n"
     ]
    }
   ],
   "source": [
    "conn = sqlite3.connect(\"pasar.sqlite3\")\n",
    "cur = conn.cursor()\n",
    "\n",
    "cur.execute(\"SELECT * FROM tabel_produk WHERE (stok <= 10) OR (harga_ribu_rp > 2)\")\n",
    "semua_baris = cur.fetchall()\n",
    "for baris in semua_baris:\n",
    "    print(baris)\n",
    "\n",
    "conn.close()"
   ]
  },
  {
   "cell_type": "markdown",
   "metadata": {},
   "source": [
    "## *Update* data"
   ]
  },
  {
   "cell_type": "code",
   "execution_count": 32,
   "metadata": {},
   "outputs": [],
   "source": [
    "conn = sqlite3.connect(\"pasar.sqlite3\")\n",
    "cur = conn.cursor()\n",
    "\n",
    "cur.execute(\"UPDATE tabel_produk SET stok = 200 WHERE product_id == 123\")\n",
    "conn.commit()\n",
    "\n",
    "conn.close()"
   ]
  },
  {
   "cell_type": "code",
   "execution_count": 33,
   "metadata": {},
   "outputs": [
    {
     "name": "stdout",
     "output_type": "stream",
     "text": [
      "(123, 'Apel', 200, 0.2, 3.5)\n",
      "(135, 'Stroberi', 120, 0.04, 2.0)\n",
      "(321, 'Wortel', 30, 0.1, 1.8)\n",
      "(456, 'Jeruk', 15, 0.15, 2.1)\n",
      "(789, 'Pisang', 40, 0.05, 1.25)\n",
      "(987, 'Brokoli', 70, 0.05, 1.5)\n"
     ]
    }
   ],
   "source": [
    "conn = sqlite3.connect(\"pasar.sqlite3\")\n",
    "cur = conn.cursor()\n",
    "\n",
    "cur.execute(\"SELECT * FROM tabel_produk\")\n",
    "semua_baris = cur.fetchall()\n",
    "for baris in semua_baris:\n",
    "    print(baris)\n",
    "\n",
    "conn.close()"
   ]
  },
  {
   "cell_type": "code",
   "execution_count": 34,
   "metadata": {},
   "outputs": [],
   "source": [
    "conn = sqlite3.connect(\"pasar.sqlite3\")\n",
    "cur = conn.cursor()\n",
    "\n",
    "cur.execute(\"UPDATE tabel_produk SET nama = 'Jeruk nipis' WHERE product_id == 456\")\n",
    "conn.commit()\n",
    "\n",
    "conn.close()"
   ]
  },
  {
   "cell_type": "code",
   "execution_count": 35,
   "metadata": {},
   "outputs": [
    {
     "name": "stdout",
     "output_type": "stream",
     "text": [
      "(123, 'Apel', 200, 0.2, 3.5)\n",
      "(135, 'Stroberi', 120, 0.04, 2.0)\n",
      "(321, 'Wortel', 30, 0.1, 1.8)\n",
      "(456, 'Jeruk nipis', 15, 0.15, 2.1)\n",
      "(789, 'Pisang', 40, 0.05, 1.25)\n",
      "(987, 'Brokoli', 70, 0.05, 1.5)\n"
     ]
    }
   ],
   "source": [
    "conn = sqlite3.connect(\"pasar.sqlite3\")\n",
    "cur = conn.cursor()\n",
    "\n",
    "cur.execute(\"SELECT * FROM tabel_produk\")\n",
    "semua_baris = cur.fetchall()\n",
    "for baris in semua_baris:\n",
    "    print(baris)\n",
    "\n",
    "conn.close()"
   ]
  },
  {
   "cell_type": "code",
   "execution_count": 36,
   "metadata": {},
   "outputs": [],
   "source": [
    "conn = sqlite3.connect(\"pasar.sqlite3\")\n",
    "cur = conn.cursor()\n",
    "\n",
    "cur.execute(\"UPDATE tabel_produk SET harga_ribu_rp = 2.5 WHERE product_id == 321\")\n",
    "conn.commit()\n",
    "\n",
    "conn.close()"
   ]
  },
  {
   "cell_type": "code",
   "execution_count": 37,
   "metadata": {},
   "outputs": [
    {
     "name": "stdout",
     "output_type": "stream",
     "text": [
      "(123, 'Apel', 200, 0.2, 3.5)\n",
      "(135, 'Stroberi', 120, 0.04, 2.0)\n",
      "(321, 'Wortel', 30, 0.1, 2.5)\n",
      "(456, 'Jeruk nipis', 15, 0.15, 2.1)\n",
      "(789, 'Pisang', 40, 0.05, 1.25)\n",
      "(987, 'Brokoli', 70, 0.05, 1.5)\n"
     ]
    }
   ],
   "source": [
    "conn = sqlite3.connect(\"pasar.sqlite3\")\n",
    "cur = conn.cursor()\n",
    "\n",
    "cur.execute(\"SELECT * FROM tabel_produk\")\n",
    "semua_baris = cur.fetchall()\n",
    "for baris in semua_baris:\n",
    "    print(baris)\n",
    "\n",
    "conn.close()"
   ]
  },
  {
   "cell_type": "code",
   "execution_count": 38,
   "metadata": {},
   "outputs": [],
   "source": [
    "conn = sqlite3.connect(\"pasar.sqlite3\")\n",
    "cur = conn.cursor()\n",
    "\n",
    "cur.execute(\"UPDATE tabel_produk SET stok = 10 WHERE product_id == 789\")\n",
    "conn.commit()\n",
    "\n",
    "conn.close()"
   ]
  },
  {
   "cell_type": "code",
   "execution_count": 39,
   "metadata": {},
   "outputs": [
    {
     "name": "stdout",
     "output_type": "stream",
     "text": [
      "(123, 'Apel', 200, 0.2, 3.5)\n",
      "(135, 'Stroberi', 120, 0.04, 2.0)\n",
      "(321, 'Wortel', 30, 0.1, 2.5)\n",
      "(456, 'Jeruk nipis', 15, 0.15, 2.1)\n",
      "(789, 'Pisang', 10, 0.05, 1.25)\n",
      "(987, 'Brokoli', 70, 0.05, 1.5)\n"
     ]
    }
   ],
   "source": [
    "conn = sqlite3.connect(\"pasar.sqlite3\")\n",
    "cur = conn.cursor()\n",
    "\n",
    "cur.execute(\"SELECT * FROM tabel_produk\")\n",
    "semua_baris = cur.fetchall()\n",
    "for baris in semua_baris:\n",
    "    print(baris)\n",
    "\n",
    "conn.close()"
   ]
  },
  {
   "cell_type": "markdown",
   "metadata": {},
   "source": [
    "## Hapus baris"
   ]
  },
  {
   "cell_type": "code",
   "execution_count": 40,
   "metadata": {},
   "outputs": [],
   "source": [
    "conn = sqlite3.connect(\"pasar.sqlite3\")\n",
    "cur = conn.cursor()\n",
    "\n",
    "cur.execute(\"DELETE FROM tabel_produk WHERE product_id == 789\")\n",
    "conn.commit()\n",
    "\n",
    "conn.close()"
   ]
  },
  {
   "cell_type": "code",
   "execution_count": 41,
   "metadata": {},
   "outputs": [
    {
     "name": "stdout",
     "output_type": "stream",
     "text": [
      "(123, 'Apel', 200, 0.2, 3.5)\n",
      "(135, 'Stroberi', 120, 0.04, 2.0)\n",
      "(321, 'Wortel', 30, 0.1, 2.5)\n",
      "(456, 'Jeruk nipis', 15, 0.15, 2.1)\n",
      "(987, 'Brokoli', 70, 0.05, 1.5)\n"
     ]
    }
   ],
   "source": [
    "conn = sqlite3.connect(\"pasar.sqlite3\")\n",
    "cur = conn.cursor()\n",
    "\n",
    "cur.execute(\"SELECT * FROM tabel_produk\")\n",
    "semua_baris = cur.fetchall()\n",
    "for baris in semua_baris:\n",
    "    print(baris)\n",
    "\n",
    "conn.close()"
   ]
  },
  {
   "cell_type": "markdown",
   "metadata": {},
   "source": [
    "## `ORDER BY` dan `LIMIT`"
   ]
  },
  {
   "cell_type": "code",
   "execution_count": 42,
   "metadata": {},
   "outputs": [
    {
     "name": "stdout",
     "output_type": "stream",
     "text": [
      "(123, 'Apel', 200, 0.2, 3.5)\n",
      "(987, 'Brokoli', 70, 0.05, 1.5)\n",
      "(456, 'Jeruk nipis', 15, 0.15, 2.1)\n",
      "(135, 'Stroberi', 120, 0.04, 2.0)\n",
      "(321, 'Wortel', 30, 0.1, 2.5)\n"
     ]
    }
   ],
   "source": [
    "conn = sqlite3.connect(\"pasar.sqlite3\")\n",
    "cur = conn.cursor()\n",
    "\n",
    "cur.execute(\"SELECT * FROM tabel_produk ORDER BY nama\")\n",
    "semua_baris = cur.fetchall()\n",
    "for baris in semua_baris:\n",
    "    print(baris)\n",
    "\n",
    "conn.close()"
   ]
  },
  {
   "cell_type": "code",
   "execution_count": 43,
   "metadata": {},
   "outputs": [
    {
     "name": "stdout",
     "output_type": "stream",
     "text": [
      "(321, 'Wortel', 30, 0.1, 2.5)\n",
      "(135, 'Stroberi', 120, 0.04, 2.0)\n",
      "(456, 'Jeruk nipis', 15, 0.15, 2.1)\n",
      "(987, 'Brokoli', 70, 0.05, 1.5)\n",
      "(123, 'Apel', 200, 0.2, 3.5)\n"
     ]
    }
   ],
   "source": [
    "conn = sqlite3.connect(\"pasar.sqlite3\")\n",
    "cur = conn.cursor()\n",
    "\n",
    "cur.execute(\"SELECT * FROM tabel_produk ORDER BY nama DESC\")\n",
    "semua_baris = cur.fetchall()\n",
    "for baris in semua_baris:\n",
    "    print(baris)\n",
    "\n",
    "conn.close()"
   ]
  },
  {
   "cell_type": "code",
   "execution_count": 44,
   "metadata": {},
   "outputs": [
    {
     "name": "stdout",
     "output_type": "stream",
     "text": [
      "(123, 'Apel', 200, 0.2, 3.5)\n",
      "(987, 'Brokoli', 70, 0.05, 1.5)\n",
      "(456, 'Jeruk nipis', 15, 0.15, 2.1)\n",
      "(135, 'Stroberi', 120, 0.04, 2.0)\n",
      "(321, 'Wortel', 30, 0.1, 2.5)\n"
     ]
    }
   ],
   "source": [
    "conn = sqlite3.connect(\"pasar.sqlite3\")\n",
    "cur = conn.cursor()\n",
    "\n",
    "cur.execute(\"SELECT * FROM tabel_produk ORDER BY nama ASC\")\n",
    "semua_baris = cur.fetchall()\n",
    "for baris in semua_baris:\n",
    "    print(baris)\n",
    "\n",
    "conn.close()"
   ]
  },
  {
   "cell_type": "code",
   "execution_count": 45,
   "metadata": {},
   "outputs": [
    {
     "name": "stdout",
     "output_type": "stream",
     "text": [
      "(135, 'Stroberi', 120, 0.04, 2.0)\n",
      "(987, 'Brokoli', 70, 0.05, 1.5)\n",
      "(321, 'Wortel', 30, 0.1, 2.5)\n",
      "(456, 'Jeruk nipis', 15, 0.15, 2.1)\n",
      "(123, 'Apel', 200, 0.2, 3.5)\n"
     ]
    }
   ],
   "source": [
    "conn = sqlite3.connect(\"pasar.sqlite3\")\n",
    "cur = conn.cursor()\n",
    "\n",
    "cur.execute(\"SELECT * FROM tabel_produk ORDER BY berat_kg\")\n",
    "semua_baris = cur.fetchall()\n",
    "for baris in semua_baris:\n",
    "    print(baris)\n",
    "\n",
    "conn.close()"
   ]
  },
  {
   "cell_type": "code",
   "execution_count": 46,
   "metadata": {},
   "outputs": [
    {
     "name": "stdout",
     "output_type": "stream",
     "text": [
      "(987, 'Brokoli', 70, 0.05, 1.5)\n",
      "(135, 'Stroberi', 120, 0.04, 2.0)\n",
      "(456, 'Jeruk nipis', 15, 0.15, 2.1)\n",
      "(321, 'Wortel', 30, 0.1, 2.5)\n",
      "(123, 'Apel', 200, 0.2, 3.5)\n"
     ]
    }
   ],
   "source": [
    "conn = sqlite3.connect(\"pasar.sqlite3\")\n",
    "cur = conn.cursor()\n",
    "\n",
    "cur.execute(\"SELECT * FROM tabel_produk ORDER BY harga_ribu_rp\")\n",
    "semua_baris = cur.fetchall()\n",
    "for baris in semua_baris:\n",
    "    print(baris)\n",
    "\n",
    "conn.close()"
   ]
  },
  {
   "cell_type": "code",
   "execution_count": 47,
   "metadata": {},
   "outputs": [
    {
     "name": "stdout",
     "output_type": "stream",
     "text": [
      "(123, 'Apel', 200, 0.2, 3.5)\n",
      "(321, 'Wortel', 30, 0.1, 2.5)\n",
      "(456, 'Jeruk nipis', 15, 0.15, 2.1)\n",
      "(135, 'Stroberi', 120, 0.04, 2.0)\n",
      "(987, 'Brokoli', 70, 0.05, 1.5)\n"
     ]
    }
   ],
   "source": [
    "conn = sqlite3.connect(\"pasar.sqlite3\")\n",
    "cur = conn.cursor()\n",
    "\n",
    "cur.execute(\"SELECT * FROM tabel_produk ORDER BY harga_ribu_rp DESC\")\n",
    "semua_baris = cur.fetchall()\n",
    "for baris in semua_baris:\n",
    "    print(baris)\n",
    "\n",
    "conn.close()"
   ]
  },
  {
   "cell_type": "code",
   "execution_count": 48,
   "metadata": {},
   "outputs": [
    {
     "name": "stdout",
     "output_type": "stream",
     "text": [
      "(123, 'Apel', 200, 0.2, 3.5)\n",
      "(321, 'Wortel', 30, 0.1, 2.5)\n",
      "(456, 'Jeruk nipis', 15, 0.15, 2.1)\n"
     ]
    }
   ],
   "source": [
    "conn = sqlite3.connect(\"pasar.sqlite3\")\n",
    "cur = conn.cursor()\n",
    "\n",
    "cur.execute(\"SELECT * FROM tabel_produk ORDER BY harga_ribu_rp DESC LIMIT 3\")\n",
    "semua_baris = cur.fetchall()\n",
    "for baris in semua_baris:\n",
    "    print(baris)\n",
    "\n",
    "conn.close()"
   ]
  },
  {
   "cell_type": "code",
   "execution_count": 49,
   "metadata": {},
   "outputs": [
    {
     "name": "stdout",
     "output_type": "stream",
     "text": [
      "(123, 'Apel', 200, 0.2, 3.5)\n",
      "(135, 'Stroberi', 120, 0.04, 2.0)\n",
      "(321, 'Wortel', 30, 0.1, 2.5)\n"
     ]
    }
   ],
   "source": [
    "conn = sqlite3.connect(\"pasar.sqlite3\")\n",
    "cur = conn.cursor()\n",
    "\n",
    "cur.execute(\"SELECT * FROM tabel_produk ORDER BY product_id LIMIT 3\")\n",
    "semua_baris = cur.fetchall()\n",
    "for baris in semua_baris:\n",
    "    print(baris)\n",
    "\n",
    "conn.close()"
   ]
  },
  {
   "cell_type": "code",
   "execution_count": 50,
   "metadata": {},
   "outputs": [
    {
     "name": "stdout",
     "output_type": "stream",
     "text": [
      "(123, 'Apel', 200, 0.2, 3.5)\n",
      "(135, 'Stroberi', 120, 0.04, 2.0)\n",
      "(321, 'Wortel', 30, 0.1, 2.5)\n"
     ]
    }
   ],
   "source": [
    "conn = sqlite3.connect(\"pasar.sqlite3\")\n",
    "cur = conn.cursor()\n",
    "\n",
    "cur.execute(\"SELECT * FROM tabel_produk LIMIT 3\")\n",
    "semua_baris = cur.fetchall()\n",
    "for baris in semua_baris:\n",
    "    print(baris)\n",
    "\n",
    "conn.close()"
   ]
  },
  {
   "cell_type": "code",
   "execution_count": 51,
   "metadata": {},
   "outputs": [
    {
     "name": "stdout",
     "output_type": "stream",
     "text": [
      "(123, 'Apel', 200, 0.2, 3.5)\n",
      "(135, 'Stroberi', 120, 0.04, 2.0)\n",
      "(321, 'Wortel', 30, 0.1, 2.5)\n",
      "(456, 'Jeruk nipis', 15, 0.15, 2.1)\n",
      "(987, 'Brokoli', 70, 0.05, 1.5)\n"
     ]
    }
   ],
   "source": [
    "conn = sqlite3.connect(\"pasar.sqlite3\")\n",
    "cur = conn.cursor()\n",
    "\n",
    "cur.execute(\"SELECT * FROM tabel_produk ORDER BY product_id\")\n",
    "semua_baris = cur.fetchall()\n",
    "for baris in semua_baris:\n",
    "    print(baris)\n",
    "\n",
    "conn.close()"
   ]
  },
  {
   "cell_type": "code",
   "execution_count": 52,
   "metadata": {},
   "outputs": [
    {
     "name": "stdout",
     "output_type": "stream",
     "text": [
      "(123, 'Apel', 200, 0.2, 3.5)\n",
      "(135, 'Stroberi', 120, 0.04, 2.0)\n",
      "(321, 'Wortel', 30, 0.1, 2.5)\n",
      "(456, 'Jeruk nipis', 15, 0.15, 2.1)\n",
      "(987, 'Brokoli', 70, 0.05, 1.5)\n"
     ]
    }
   ],
   "source": [
    "conn = sqlite3.connect(\"pasar.sqlite3\")\n",
    "cur = conn.cursor()\n",
    "\n",
    "cur.execute(\"SELECT * FROM tabel_produk\")\n",
    "semua_baris = cur.fetchall()\n",
    "for baris in semua_baris:\n",
    "    print(baris)\n",
    "\n",
    "conn.close()"
   ]
  },
  {
   "cell_type": "markdown",
   "metadata": {},
   "source": [
    "## Tabel baru di *database* yang sama"
   ]
  },
  {
   "cell_type": "code",
   "execution_count": 55,
   "metadata": {},
   "outputs": [],
   "source": [
    "conn = sqlite3.connect(\"pasar.sqlite3\")\n",
    "cur = conn.cursor()\n",
    "\n",
    "cur.execute(\"\"\"CREATE TABLE IF NOT EXISTS tabel_pesanan (\n",
    "    order_id INTEGER PRIMARY KEY NOT NULL,\n",
    "    tanggal TEXT,\n",
    "    jam TEXT,\n",
    "    kode_produk INTEGER,\n",
    "    jumlah INTEGER,\n",
    "    sudah_dibayar INTEGER,\n",
    "    FOREIGN KEY(kode_produk) REFERENCES tabel_produk(product_id)\n",
    ")\n",
    "\"\"\")\n",
    "conn.commit()\n",
    "\n",
    "conn.close()"
   ]
  },
  {
   "cell_type": "code",
   "execution_count": 57,
   "metadata": {},
   "outputs": [],
   "source": [
    "conn = sqlite3.connect(\"pasar.sqlite3\")\n",
    "cur = conn.cursor()\n",
    "\n",
    "data_baru = [\n",
    "    (1, '2023-11-05', '14:38:27', 123, 10, 0),\n",
    "    (2, '2023-11-16', '09:01:03', 456, 5, 0),\n",
    "    (3, '2023-11-17', '23:59:58', 987, 15, 0)\n",
    "]\n",
    "\n",
    "cur.executemany(\"INSERT INTO tabel_pesanan VALUES (?,?,?,?,?,?)\", data_baru)\n",
    "conn.commit()\n",
    "\n",
    "conn.close()"
   ]
  },
  {
   "cell_type": "code",
   "execution_count": 90,
   "metadata": {},
   "outputs": [
    {
     "name": "stdout",
     "output_type": "stream",
     "text": [
      "(1, '2023-11-05', '14:38:27', 123, 10, 0)\n",
      "(2, '2023-11-16', '09:01:03', 456, 5, 0)\n",
      "(3, '2023-11-17', '23:59:58', 987, 15, 0)\n"
     ]
    }
   ],
   "source": [
    "conn = sqlite3.connect(\"pasar.sqlite3\")\n",
    "cur = conn.cursor()\n",
    "\n",
    "cur.execute(\"SELECT * FROM tabel_pesanan\")\n",
    "semua_baris = cur.fetchall()\n",
    "for baris in semua_baris:\n",
    "    print(baris)\n",
    "\n",
    "conn.close()"
   ]
  },
  {
   "cell_type": "code",
   "execution_count": 91,
   "metadata": {},
   "outputs": [],
   "source": [
    "conn = sqlite3.connect(\"pasar.sqlite3\")\n",
    "cur = conn.cursor()\n",
    "\n",
    "data_baru = [\n",
    "    ('2023-11-16', '00:09:32', 456, 20, 0),\n",
    "    ('2023-11-15', '12:29:17', 135, 5, 0),\n",
    "    ('2023-11-17', '15:42:19', 321, 10, 0)\n",
    "]\n",
    "\n",
    "cur.executemany(\"\"\"INSERT INTO tabel_pesanan\n",
    "                (tanggal, jam, kode_produk, jumlah, sudah_dibayar)\n",
    "                VALUES (?,?,?,?,?)\"\"\", data_baru)\n",
    "conn.commit()\n",
    "\n",
    "conn.close()"
   ]
  },
  {
   "cell_type": "code",
   "execution_count": 94,
   "metadata": {},
   "outputs": [
    {
     "name": "stdout",
     "output_type": "stream",
     "text": [
      "(1, '2023-11-05', '14:38:27', 123, 10, 0)\n",
      "(2, '2023-11-16', '09:01:03', 456, 5, 0)\n",
      "(3, '2023-11-17', '23:59:58', 987, 15, 0)\n",
      "(4, '2023-11-16', '00:09:32', 456, 20, 0)\n",
      "(5, '2023-11-15', '12:29:17', 135, 5, 0)\n",
      "(6, '2023-11-17', '15:42:19', 321, 10, 0)\n"
     ]
    }
   ],
   "source": [
    "conn = sqlite3.connect(\"pasar.sqlite3\")\n",
    "cur = conn.cursor()\n",
    "\n",
    "cur.execute(\"SELECT * FROM tabel_pesanan\")\n",
    "semua_baris = cur.fetchall()\n",
    "for baris in semua_baris:\n",
    "    print(baris)\n",
    "\n",
    "conn.close()"
   ]
  },
  {
   "cell_type": "code",
   "execution_count": 95,
   "metadata": {},
   "outputs": [
    {
     "name": "stdout",
     "output_type": "stream",
     "text": [
      "(1, '2023-11-05', '14:38:27', 123, 10, 0)\n",
      "(5, '2023-11-15', '12:29:17', 135, 5, 0)\n",
      "(2, '2023-11-16', '09:01:03', 456, 5, 0)\n",
      "(4, '2023-11-16', '00:09:32', 456, 20, 0)\n",
      "(3, '2023-11-17', '23:59:58', 987, 15, 0)\n",
      "(6, '2023-11-17', '15:42:19', 321, 10, 0)\n"
     ]
    }
   ],
   "source": [
    "conn = sqlite3.connect(\"pasar.sqlite3\")\n",
    "cur = conn.cursor()\n",
    "\n",
    "cur.execute(\"SELECT * FROM tabel_pesanan ORDER BY tanggal\")\n",
    "semua_baris = cur.fetchall()\n",
    "for baris in semua_baris:\n",
    "    print(baris)\n",
    "\n",
    "conn.close()"
   ]
  },
  {
   "cell_type": "code",
   "execution_count": 96,
   "metadata": {},
   "outputs": [
    {
     "name": "stdout",
     "output_type": "stream",
     "text": [
      "(1, '2023-11-05', '14:38:27', 123, 10, 0)\n",
      "(5, '2023-11-15', '12:29:17', 135, 5, 0)\n",
      "(4, '2023-11-16', '00:09:32', 456, 20, 0)\n",
      "(2, '2023-11-16', '09:01:03', 456, 5, 0)\n",
      "(6, '2023-11-17', '15:42:19', 321, 10, 0)\n",
      "(3, '2023-11-17', '23:59:58', 987, 15, 0)\n"
     ]
    }
   ],
   "source": [
    "conn = sqlite3.connect(\"pasar.sqlite3\")\n",
    "cur = conn.cursor()\n",
    "\n",
    "cur.execute(\"SELECT * FROM tabel_pesanan ORDER BY tanggal, jam\")\n",
    "semua_baris = cur.fetchall()\n",
    "for baris in semua_baris:\n",
    "    print(baris)\n",
    "\n",
    "conn.close()"
   ]
  },
  {
   "cell_type": "code",
   "execution_count": 98,
   "metadata": {},
   "outputs": [
    {
     "name": "stdout",
     "output_type": "stream",
     "text": [
      "(3, '2023-11-17', '23:59:58', 987, 15, 0)\n",
      "(6, '2023-11-17', '15:42:19', 321, 10, 0)\n",
      "(2, '2023-11-16', '09:01:03', 456, 5, 0)\n",
      "(4, '2023-11-16', '00:09:32', 456, 20, 0)\n",
      "(5, '2023-11-15', '12:29:17', 135, 5, 0)\n",
      "(1, '2023-11-05', '14:38:27', 123, 10, 0)\n"
     ]
    }
   ],
   "source": [
    "conn = sqlite3.connect(\"pasar.sqlite3\")\n",
    "cur = conn.cursor()\n",
    "\n",
    "cur.execute(\"SELECT * FROM tabel_pesanan ORDER BY tanggal DESC, jam DESC\")\n",
    "semua_baris = cur.fetchall()\n",
    "for baris in semua_baris:\n",
    "    print(baris)\n",
    "\n",
    "conn.close()"
   ]
  },
  {
   "cell_type": "code",
   "execution_count": 99,
   "metadata": {},
   "outputs": [
    {
     "name": "stdout",
     "output_type": "stream",
     "text": [
      "(1, '2023-11-05', '14:38:27', 123, 10, 0)\n",
      "(3, '2023-11-17', '23:59:58', 987, 15, 0)\n",
      "(5, '2023-11-15', '12:29:17', 135, 5, 0)\n",
      "(6, '2023-11-17', '15:42:19', 321, 10, 0)\n"
     ]
    }
   ],
   "source": [
    "conn = sqlite3.connect(\"pasar.sqlite3\")\n",
    "cur = conn.cursor()\n",
    "\n",
    "cur.execute(\"SELECT * FROM tabel_pesanan WHERE jam > '12:00:00'\")\n",
    "semua_baris = cur.fetchall()\n",
    "for baris in semua_baris:\n",
    "    print(baris)\n",
    "\n",
    "conn.close()"
   ]
  },
  {
   "cell_type": "code",
   "execution_count": 100,
   "metadata": {},
   "outputs": [
    {
     "name": "stdout",
     "output_type": "stream",
     "text": [
      "(1, '2023-11-05', '14:38:27', 123, 10, 0)\n",
      "(5, '2023-11-15', '12:29:17', 135, 5, 0)\n",
      "(6, '2023-11-17', '15:42:19', 321, 10, 0)\n",
      "(3, '2023-11-17', '23:59:58', 987, 15, 0)\n"
     ]
    }
   ],
   "source": [
    "conn = sqlite3.connect(\"pasar.sqlite3\")\n",
    "cur = conn.cursor()\n",
    "\n",
    "cur.execute(\"SELECT * FROM tabel_pesanan WHERE jam > '12:00:00' ORDER BY tanggal, jam\")\n",
    "semua_baris = cur.fetchall()\n",
    "for baris in semua_baris:\n",
    "    print(baris)\n",
    "\n",
    "conn.close()"
   ]
  },
  {
   "cell_type": "markdown",
   "metadata": {},
   "source": [
    "## *Querying* dan *inner join* melalui *foreign key*"
   ]
  },
  {
   "cell_type": "code",
   "execution_count": 7,
   "metadata": {},
   "outputs": [
    {
     "name": "stdout",
     "output_type": "stream",
     "text": [
      "=== Tabel produk ===\n",
      "(123, 'Apel', 200, 0.2, 3.5)\n",
      "(135, 'Stroberi', 120, 0.04, 2.0)\n",
      "(321, 'Wortel', 30, 0.1, 2.5)\n",
      "(456, 'Jeruk nipis', 15, 0.15, 2.1)\n",
      "(987, 'Brokoli', 70, 0.05, 1.5)\n",
      "=== Tabel pesanan ===\n",
      "(1, '2023-11-05', '14:38:27', 123, 10, 0)\n",
      "(2, '2023-11-16', '09:01:03', 456, 5, 0)\n",
      "(3, '2023-11-17', '23:59:58', 987, 15, 0)\n",
      "(4, '2023-11-16', '00:09:32', 456, 20, 0)\n",
      "(5, '2023-11-15', '12:29:17', 135, 5, 0)\n",
      "(6, '2023-11-17', '15:42:19', 321, 10, 0)\n"
     ]
    }
   ],
   "source": [
    "conn = sqlite3.connect(\"pasar.sqlite3\")\n",
    "cur = conn.cursor()\n",
    "\n",
    "print(\"=== Tabel produk ===\")\n",
    "cur.execute(\"\"\"SELECT * FROM tabel_produk\"\"\")\n",
    "semua_baris = cur.fetchall()\n",
    "for baris in semua_baris:\n",
    "    print(baris)\n",
    "\n",
    "print(\"=== Tabel pesanan ===\")\n",
    "cur.execute(\"\"\"SELECT * FROM tabel_pesanan\"\"\")\n",
    "semua_baris = cur.fetchall()\n",
    "for baris in semua_baris:\n",
    "    print(baris)\n",
    "\n",
    "conn.close()"
   ]
  },
  {
   "cell_type": "code",
   "execution_count": 9,
   "metadata": {},
   "outputs": [
    {
     "name": "stdout",
     "output_type": "stream",
     "text": [
      "(456, 'Jeruk nipis', 15, 0.15, 2.1)\n"
     ]
    }
   ],
   "source": [
    "conn = sqlite3.connect(\"pasar.sqlite3\")\n",
    "cur = conn.cursor()\n",
    "\n",
    "cur.execute(\"SELECT * FROM tabel_produk WHERE product_id == 456\")\n",
    "semua_baris = cur.fetchall()\n",
    "for baris in semua_baris:\n",
    "    print(baris)\n",
    "\n",
    "conn.close()"
   ]
  },
  {
   "cell_type": "code",
   "execution_count": 10,
   "metadata": {},
   "outputs": [
    {
     "name": "stdout",
     "output_type": "stream",
     "text": [
      "(2, '2023-11-16', '09:01:03', 456, 5, 0)\n",
      "(4, '2023-11-16', '00:09:32', 456, 20, 0)\n"
     ]
    }
   ],
   "source": [
    "conn = sqlite3.connect(\"pasar.sqlite3\")\n",
    "cur = conn.cursor()\n",
    "\n",
    "cur.execute(\"SELECT * FROM tabel_pesanan WHERE kode_produk == 456\")\n",
    "semua_baris = cur.fetchall()\n",
    "for baris in semua_baris:\n",
    "    print(baris)\n",
    "\n",
    "conn.close()"
   ]
  },
  {
   "cell_type": "code",
   "execution_count": 13,
   "metadata": {},
   "outputs": [
    {
     "name": "stdout",
     "output_type": "stream",
     "text": [
      "(123, 'Apel', 200, 0.2, 3.5, 1, '2023-11-05', '14:38:27', 123, 10, 0)\n",
      "(456, 'Jeruk nipis', 15, 0.15, 2.1, 2, '2023-11-16', '09:01:03', 456, 5, 0)\n",
      "(987, 'Brokoli', 70, 0.05, 1.5, 3, '2023-11-17', '23:59:58', 987, 15, 0)\n",
      "(456, 'Jeruk nipis', 15, 0.15, 2.1, 4, '2023-11-16', '00:09:32', 456, 20, 0)\n",
      "(135, 'Stroberi', 120, 0.04, 2.0, 5, '2023-11-15', '12:29:17', 135, 5, 0)\n",
      "(321, 'Wortel', 30, 0.1, 2.5, 6, '2023-11-17', '15:42:19', 321, 10, 0)\n"
     ]
    }
   ],
   "source": [
    "conn = sqlite3.connect(\"pasar.sqlite3\")\n",
    "cur = conn.cursor()\n",
    "\n",
    "cur.execute(\"\"\"SELECT *\n",
    "            FROM tabel_produk INNER JOIN tabel_pesanan\n",
    "            ON tabel_produk.product_id == tabel_pesanan.kode_produk\n",
    "            \"\"\")\n",
    "semua_baris = cur.fetchall()\n",
    "for baris in semua_baris:\n",
    "    print(baris)\n",
    "\n",
    "conn.close()"
   ]
  },
  {
   "cell_type": "code",
   "execution_count": 14,
   "metadata": {},
   "outputs": [
    {
     "name": "stdout",
     "output_type": "stream",
     "text": [
      "(1, '2023-11-05', '14:38:27', 123, 10, 0, 123, 'Apel', 200, 0.2, 3.5)\n",
      "(2, '2023-11-16', '09:01:03', 456, 5, 0, 456, 'Jeruk nipis', 15, 0.15, 2.1)\n",
      "(3, '2023-11-17', '23:59:58', 987, 15, 0, 987, 'Brokoli', 70, 0.05, 1.5)\n",
      "(4, '2023-11-16', '00:09:32', 456, 20, 0, 456, 'Jeruk nipis', 15, 0.15, 2.1)\n",
      "(5, '2023-11-15', '12:29:17', 135, 5, 0, 135, 'Stroberi', 120, 0.04, 2.0)\n",
      "(6, '2023-11-17', '15:42:19', 321, 10, 0, 321, 'Wortel', 30, 0.1, 2.5)\n"
     ]
    }
   ],
   "source": [
    "conn = sqlite3.connect(\"pasar.sqlite3\")\n",
    "cur = conn.cursor()\n",
    "\n",
    "cur.execute(\"\"\"SELECT *\n",
    "            FROM tabel_pesanan INNER JOIN tabel_produk\n",
    "            ON tabel_pesanan.kode_produk == tabel_produk.product_id\n",
    "            \"\"\")\n",
    "semua_baris = cur.fetchall()\n",
    "for baris in semua_baris:\n",
    "    print(baris)\n",
    "\n",
    "conn.close()"
   ]
  },
  {
   "cell_type": "code",
   "execution_count": 16,
   "metadata": {},
   "outputs": [
    {
     "name": "stdout",
     "output_type": "stream",
     "text": [
      "('2023-11-05', 'Apel', 10)\n",
      "('2023-11-16', 'Jeruk nipis', 5)\n",
      "('2023-11-17', 'Brokoli', 15)\n",
      "('2023-11-16', 'Jeruk nipis', 20)\n",
      "('2023-11-15', 'Stroberi', 5)\n",
      "('2023-11-17', 'Wortel', 10)\n"
     ]
    }
   ],
   "source": [
    "conn = sqlite3.connect(\"pasar.sqlite3\")\n",
    "cur = conn.cursor()\n",
    "\n",
    "cur.execute(\"\"\"SELECT tabel_pesanan.tanggal, tabel_produk.nama, tabel_pesanan.jumlah\n",
    "            FROM tabel_pesanan INNER JOIN tabel_produk\n",
    "            ON tabel_pesanan.kode_produk == tabel_produk.product_id\n",
    "            \"\"\")\n",
    "semua_baris = cur.fetchall()\n",
    "for baris in semua_baris:\n",
    "    print(baris)\n",
    "\n",
    "conn.close()"
   ]
  },
  {
   "cell_type": "code",
   "execution_count": 18,
   "metadata": {},
   "outputs": [
    {
     "name": "stdout",
     "output_type": "stream",
     "text": [
      "('2023-11-05', 'Apel', 10)\n",
      "('2023-11-17', 'Brokoli', 15)\n",
      "('2023-11-15', 'Stroberi', 5)\n",
      "('2023-11-17', 'Wortel', 10)\n"
     ]
    }
   ],
   "source": [
    "conn = sqlite3.connect(\"pasar.sqlite3\")\n",
    "cur = conn.cursor()\n",
    "\n",
    "cur.execute(\"\"\"SELECT tabel_pesanan.tanggal, tabel_produk.nama, tabel_pesanan.jumlah\n",
    "            FROM tabel_pesanan INNER JOIN tabel_produk\n",
    "            ON tabel_pesanan.kode_produk == tabel_produk.product_id\n",
    "            WHERE tabel_pesanan.jam > '12:00:00'\n",
    "            \"\"\")\n",
    "semua_baris = cur.fetchall()\n",
    "for baris in semua_baris:\n",
    "    print(baris)\n",
    "\n",
    "conn.close()"
   ]
  },
  {
   "cell_type": "code",
   "execution_count": null,
   "metadata": {},
   "outputs": [],
   "source": []
  }
 ],
 "metadata": {
  "kernelspec": {
   "display_name": "Python 3",
   "language": "python",
   "name": "python3"
  },
  "language_info": {
   "codemirror_mode": {
    "name": "ipython",
    "version": 3
   },
   "file_extension": ".py",
   "mimetype": "text/x-python",
   "name": "python",
   "nbconvert_exporter": "python",
   "pygments_lexer": "ipython3",
   "version": "3.10.11"
  }
 },
 "nbformat": 4,
 "nbformat_minor": 2
}
