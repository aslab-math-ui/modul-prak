{
 "cells": [
  {
   "cell_type": "markdown",
   "metadata": {},
   "source": [
    "# Modul 5 Struktur Data: Graphviz, *Linked List*"
   ]
  },
  {
   "cell_type": "markdown",
   "metadata": {},
   "source": [
    "Kembali ke [Struktur Data (dengan Python)](strukdat2023.qmd)"
   ]
  },
  {
   "cell_type": "markdown",
   "metadata": {},
   "source": [
    "Pada praktikum kali ini, kita akan membahas mengenai *linked list*, serta cara memvisualisasikannya menggunakan yang namanya Graphviz."
   ]
  },
  {
   "cell_type": "markdown",
   "metadata": {},
   "source": [
    "Sebelum mengikuti praktikum ini, ada baiknya kalian me-*review* kembali modul berikut:\n",
    "\n",
    "* [Modul 2: Pengantar OOP](./Strukdat2023_Modul02.ipynb)\n",
    "\n",
    "Untuk apa? Kita akan menyusun struktur data *linked list* menggunakan `class` :) semoga kalian sudah cukup paham tentang `class` yaa. Kalau belum pun, semoga kalian akan lebih paham setelah praktikum kali ini :D"
   ]
  },
  {
   "cell_type": "markdown",
   "metadata": {},
   "source": [
    "## Graphviz"
   ]
  },
  {
   "cell_type": "markdown",
   "metadata": {},
   "source": [
    "Graphviz adalah semacam *software* yang bisa membuat visualisasi \"graf\" yang bagus. Mungkin di antara kalian belum semuanya kenal dengan graf, itu tidak masalah. Kurang lebih, suatu graf adalah kumpulan bulet-bulet (disebut simpul, *node*, atau *vertex*) yang disambung oleh \"busur\" (juga disebut *arc* atau *edge*), di mana tiap *edge* bisa berupa garis biasa atau berupa panah."
   ]
  },
  {
   "cell_type": "markdown",
   "metadata": {},
   "source": [
    "Berikut contoh graf yang digambar dengan Graphviz:"
   ]
  },
  {
   "cell_type": "markdown",
   "metadata": {},
   "source": [
    "```{dot}\n",
    "digraph \"graf G\" {\n",
    "    A -> B;\n",
    "    B -> A;\n",
    "    A -> C;\n",
    "    D -> C [dir=none];\n",
    "    D -> D;\n",
    "    D -> E [label=\"  tes\"];\n",
    "    E -> F;\n",
    "    B -> F [dir=none];\n",
    "    GHI -> F [label=\"qwerty\"];\n",
    "    C -> E [dir=both];\n",
    "}\n",
    "```"
   ]
  },
  {
   "cell_type": "markdown",
   "metadata": {},
   "source": [
    "Lho, di mata kuliah Struktur Data kan ga ada graf. Untuk apa kita pelajari Graphviz?\n",
    "\n",
    "Dengan Graphviz, kita bisa membuat visualisasi untuk berbagai struktur data nantinya, termasuk *linked list* hari ini. Kita bisa meminta Graphviz untuk membuat bentuk *node* yang tidak sederhana, termasuk bentuk *node* yang kita kenal di *linked list*, kemudian membuat *edge* yang berupa panah, sehingga kita benar-benar bisa menggambarkan suatu *linked list* :)"
   ]
  },
  {
   "cell_type": "markdown",
   "metadata": {},
   "source": [
    "### Instalasi Graphviz"
   ]
  },
  {
   "cell_type": "markdown",
   "metadata": {},
   "source": [
    "Sebelum bisa menggunakan Graphviz, perlu di-*install* terlebih dahulu."
   ]
  },
  {
   "cell_type": "markdown",
   "metadata": {},
   "source": [
    "Di Google Colaboratory, kalian tinggal mengetik:\n",
    "\n",
    "`pip install graphviz`"
   ]
  },
  {
   "cell_type": "markdown",
   "metadata": {},
   "source": [
    "Sedangkan, apabila menggunakan Jupyter Notebook melalui Anaconda, buka Anaconda Prompt lalu ketik:\n",
    "\n",
    "`conda install graphviz`\n",
    "\n",
    "Tunggu instalasi selesai, barulah buka Jupyter Notebook dan ketik\n",
    "\n",
    "`pip install graphviz`"
   ]
  },
  {
   "cell_type": "markdown",
   "metadata": {},
   "source": [
    "Note:\n",
    "\n",
    "* Apabila Anda menggunakan Jupyter Notebook tetapi tidak melalui Anaconda, langkah `conda install graphviz` bisa digantikan dengan menginstal Graphviz dari [https://graphviz.gitlab.io/download/](https://graphviz.gitlab.io/download/)\n",
    "\n",
    "* Untuk penulisan `pip`, ada kemungkinan kalian perlu mengetik `!pip` dengan tanda seru di awal. Biasanya tidak perlu, tapi kalau menjadi *error*, boleh dicoba dengan tanda seru."
   ]
  },
  {
   "cell_type": "markdown",
   "metadata": {},
   "source": [
    "### Mengenal Graphviz: *node* dan *edge*"
   ]
  },
  {
   "cell_type": "markdown",
   "metadata": {},
   "source": [
    "Setelah instalasi selesai, kita bisa import:"
   ]
  },
  {
   "cell_type": "code",
   "execution_count": 21,
   "metadata": {},
   "outputs": [],
   "source": [
    "import graphviz as gv"
   ]
  },
  {
   "cell_type": "markdown",
   "metadata": {},
   "source": [
    "Dengan Graphviz, ada dua jenis gambar graf yang bisa kita buat:\n",
    "\n",
    "* `Digraph` (graf berarah, yaitu tiap *edge* bisa berupa panah maupun garis biasa)\n",
    "* `Graph` (graf sederhana, yaitu tiap *edge* hanya bisa berupa garis biasa, bukan panah)"
   ]
  },
  {
   "cell_type": "markdown",
   "metadata": {},
   "source": [
    "Karena `Digraph` lebih banyak fiturnya, kita akan membuat `Digraph` saja."
   ]
  },
  {
   "cell_type": "markdown",
   "metadata": {},
   "source": [
    "Sebagai contoh sederhana, kita bisa membuat `Digraph` yang terdiri dari dua *node* yaitu A dan B, dengan *edge* berupa panah yang menghubungkan A ke B. Kita buat objek `Digraph` terlebih dahulu:"
   ]
  },
  {
   "cell_type": "code",
   "execution_count": 47,
   "metadata": {},
   "outputs": [],
   "source": [
    "graf1 = gv.Digraph()"
   ]
  },
  {
   "cell_type": "markdown",
   "metadata": {},
   "source": [
    "Kemudian, kita bisa menambahkan *node* A dan B sebagai berikut:"
   ]
  },
  {
   "cell_type": "code",
   "execution_count": 48,
   "metadata": {},
   "outputs": [],
   "source": [
    "graf1.node(\"A\")\n",
    "graf1.node(\"B\")"
   ]
  },
  {
   "cell_type": "markdown",
   "metadata": {},
   "source": [
    "Selanjutnya, kita bisa membuat/menambahkan suatu *edge* dari A ke B, seperti berikut:"
   ]
  },
  {
   "cell_type": "code",
   "execution_count": 49,
   "metadata": {},
   "outputs": [],
   "source": [
    "graf1.edge(\"A\", \"B\")"
   ]
  },
  {
   "cell_type": "markdown",
   "metadata": {},
   "source": [
    "Sekarang kita bisa lihat grafnya:"
   ]
  },
  {
   "cell_type": "code",
   "execution_count": 50,
   "metadata": {},
   "outputs": [
    {
     "data": {
      "image/svg+xml": [
       "<?xml version=\"1.0\" encoding=\"UTF-8\" standalone=\"no\"?>\n",
       "<!DOCTYPE svg PUBLIC \"-//W3C//DTD SVG 1.1//EN\"\n",
       " \"http://www.w3.org/Graphics/SVG/1.1/DTD/svg11.dtd\">\n",
       "<!-- Generated by graphviz version 8.1.0 (20230707.0739)\n",
       " -->\n",
       "<!-- Pages: 1 -->\n",
       "<svg width=\"62pt\" height=\"116pt\"\n",
       " viewBox=\"0.00 0.00 62.00 116.00\" xmlns=\"http://www.w3.org/2000/svg\" xmlns:xlink=\"http://www.w3.org/1999/xlink\">\n",
       "<g id=\"graph0\" class=\"graph\" transform=\"scale(1 1) rotate(0) translate(4 112)\">\n",
       "<polygon fill=\"white\" stroke=\"none\" points=\"-4,4 -4,-112 58,-112 58,4 -4,4\"/>\n",
       "<!-- A -->\n",
       "<g id=\"node1\" class=\"node\">\n",
       "<title>A</title>\n",
       "<ellipse fill=\"none\" stroke=\"black\" cx=\"27\" cy=\"-90\" rx=\"27\" ry=\"18\"/>\n",
       "<text text-anchor=\"middle\" x=\"27\" y=\"-85.8\" font-family=\"Times,serif\" font-size=\"14.00\">A</text>\n",
       "</g>\n",
       "<!-- B -->\n",
       "<g id=\"node2\" class=\"node\">\n",
       "<title>B</title>\n",
       "<ellipse fill=\"none\" stroke=\"black\" cx=\"27\" cy=\"-18\" rx=\"27\" ry=\"18\"/>\n",
       "<text text-anchor=\"middle\" x=\"27\" y=\"-13.8\" font-family=\"Times,serif\" font-size=\"14.00\">B</text>\n",
       "</g>\n",
       "<!-- A&#45;&gt;B -->\n",
       "<g id=\"edge1\" class=\"edge\">\n",
       "<title>A&#45;&gt;B</title>\n",
       "<path fill=\"none\" stroke=\"black\" d=\"M27,-71.7C27,-64.24 27,-55.32 27,-46.97\"/>\n",
       "<polygon fill=\"black\" stroke=\"black\" points=\"30.5,-47.1 27,-37.1 23.5,-47.1 30.5,-47.1\"/>\n",
       "</g>\n",
       "</g>\n",
       "</svg>\n"
      ],
      "text/plain": [
       "<graphviz.graphs.Digraph at 0x1051a88e0>"
      ]
     },
     "metadata": {},
     "output_type": "display_data"
    }
   ],
   "source": [
    "display(graf1)"
   ]
  },
  {
   "cell_type": "markdown",
   "metadata": {},
   "source": [
    "Note: apabila fungsi `display` tidak dikenal, silakan import:\n",
    "\n",
    "`from IPython.display import display`"
   ]
  },
  {
   "cell_type": "markdown",
   "metadata": {},
   "source": [
    "Sebenarnya, kita bisa saja menambahkan *edge* baru tanpa membuat *node* terlebih dahulu. Contohnya, menambahkan *edge* dari A ke C (suatu *node* baru):"
   ]
  },
  {
   "cell_type": "code",
   "execution_count": 51,
   "metadata": {},
   "outputs": [],
   "source": [
    "graf1.edge(\"A\", \"C\")"
   ]
  },
  {
   "cell_type": "markdown",
   "metadata": {},
   "source": [
    "Kita bisa lihat lagi:"
   ]
  },
  {
   "cell_type": "code",
   "execution_count": 52,
   "metadata": {},
   "outputs": [
    {
     "data": {
      "image/svg+xml": [
       "<?xml version=\"1.0\" encoding=\"UTF-8\" standalone=\"no\"?>\n",
       "<!DOCTYPE svg PUBLIC \"-//W3C//DTD SVG 1.1//EN\"\n",
       " \"http://www.w3.org/Graphics/SVG/1.1/DTD/svg11.dtd\">\n",
       "<!-- Generated by graphviz version 8.1.0 (20230707.0739)\n",
       " -->\n",
       "<!-- Pages: 1 -->\n",
       "<svg width=\"134pt\" height=\"116pt\"\n",
       " viewBox=\"0.00 0.00 134.00 116.00\" xmlns=\"http://www.w3.org/2000/svg\" xmlns:xlink=\"http://www.w3.org/1999/xlink\">\n",
       "<g id=\"graph0\" class=\"graph\" transform=\"scale(1 1) rotate(0) translate(4 112)\">\n",
       "<polygon fill=\"white\" stroke=\"none\" points=\"-4,4 -4,-112 130,-112 130,4 -4,4\"/>\n",
       "<!-- A -->\n",
       "<g id=\"node1\" class=\"node\">\n",
       "<title>A</title>\n",
       "<ellipse fill=\"none\" stroke=\"black\" cx=\"63\" cy=\"-90\" rx=\"27\" ry=\"18\"/>\n",
       "<text text-anchor=\"middle\" x=\"63\" y=\"-85.8\" font-family=\"Times,serif\" font-size=\"14.00\">A</text>\n",
       "</g>\n",
       "<!-- B -->\n",
       "<g id=\"node2\" class=\"node\">\n",
       "<title>B</title>\n",
       "<ellipse fill=\"none\" stroke=\"black\" cx=\"27\" cy=\"-18\" rx=\"27\" ry=\"18\"/>\n",
       "<text text-anchor=\"middle\" x=\"27\" y=\"-13.8\" font-family=\"Times,serif\" font-size=\"14.00\">B</text>\n",
       "</g>\n",
       "<!-- A&#45;&gt;B -->\n",
       "<g id=\"edge1\" class=\"edge\">\n",
       "<title>A&#45;&gt;B</title>\n",
       "<path fill=\"none\" stroke=\"black\" d=\"M54.65,-72.76C50.38,-64.46 45.08,-54.15 40.27,-44.79\"/>\n",
       "<polygon fill=\"black\" stroke=\"black\" points=\"42.99,-43.44 35.3,-36.15 36.77,-46.64 42.99,-43.44\"/>\n",
       "</g>\n",
       "<!-- C -->\n",
       "<g id=\"node3\" class=\"node\">\n",
       "<title>C</title>\n",
       "<ellipse fill=\"none\" stroke=\"black\" cx=\"99\" cy=\"-18\" rx=\"27\" ry=\"18\"/>\n",
       "<text text-anchor=\"middle\" x=\"99\" y=\"-13.8\" font-family=\"Times,serif\" font-size=\"14.00\">C</text>\n",
       "</g>\n",
       "<!-- A&#45;&gt;C -->\n",
       "<g id=\"edge2\" class=\"edge\">\n",
       "<title>A&#45;&gt;C</title>\n",
       "<path fill=\"none\" stroke=\"black\" d=\"M71.35,-72.76C75.62,-64.46 80.92,-54.15 85.73,-44.79\"/>\n",
       "<polygon fill=\"black\" stroke=\"black\" points=\"89.23,-46.64 90.7,-36.15 83.01,-43.44 89.23,-46.64\"/>\n",
       "</g>\n",
       "</g>\n",
       "</svg>\n"
      ],
      "text/plain": [
       "<graphviz.graphs.Digraph at 0x1051a88e0>"
      ]
     },
     "metadata": {},
     "output_type": "display_data"
    }
   ],
   "source": [
    "display(graf1)"
   ]
  },
  {
   "cell_type": "markdown",
   "metadata": {},
   "source": [
    "Bahkan, kita bisa membuat ulang graf di atas dengan cara seperti berikut:"
   ]
  },
  {
   "cell_type": "code",
   "execution_count": 53,
   "metadata": {},
   "outputs": [],
   "source": [
    "graf2 = gv.Digraph()\n",
    "graf2.edge(\"A\", \"B\")\n",
    "graf2.edge(\"A\", \"C\")"
   ]
  },
  {
   "cell_type": "code",
   "execution_count": 54,
   "metadata": {},
   "outputs": [
    {
     "data": {
      "image/svg+xml": [
       "<?xml version=\"1.0\" encoding=\"UTF-8\" standalone=\"no\"?>\n",
       "<!DOCTYPE svg PUBLIC \"-//W3C//DTD SVG 1.1//EN\"\n",
       " \"http://www.w3.org/Graphics/SVG/1.1/DTD/svg11.dtd\">\n",
       "<!-- Generated by graphviz version 8.1.0 (20230707.0739)\n",
       " -->\n",
       "<!-- Pages: 1 -->\n",
       "<svg width=\"134pt\" height=\"116pt\"\n",
       " viewBox=\"0.00 0.00 134.00 116.00\" xmlns=\"http://www.w3.org/2000/svg\" xmlns:xlink=\"http://www.w3.org/1999/xlink\">\n",
       "<g id=\"graph0\" class=\"graph\" transform=\"scale(1 1) rotate(0) translate(4 112)\">\n",
       "<polygon fill=\"white\" stroke=\"none\" points=\"-4,4 -4,-112 130,-112 130,4 -4,4\"/>\n",
       "<!-- A -->\n",
       "<g id=\"node1\" class=\"node\">\n",
       "<title>A</title>\n",
       "<ellipse fill=\"none\" stroke=\"black\" cx=\"63\" cy=\"-90\" rx=\"27\" ry=\"18\"/>\n",
       "<text text-anchor=\"middle\" x=\"63\" y=\"-85.8\" font-family=\"Times,serif\" font-size=\"14.00\">A</text>\n",
       "</g>\n",
       "<!-- B -->\n",
       "<g id=\"node2\" class=\"node\">\n",
       "<title>B</title>\n",
       "<ellipse fill=\"none\" stroke=\"black\" cx=\"27\" cy=\"-18\" rx=\"27\" ry=\"18\"/>\n",
       "<text text-anchor=\"middle\" x=\"27\" y=\"-13.8\" font-family=\"Times,serif\" font-size=\"14.00\">B</text>\n",
       "</g>\n",
       "<!-- A&#45;&gt;B -->\n",
       "<g id=\"edge1\" class=\"edge\">\n",
       "<title>A&#45;&gt;B</title>\n",
       "<path fill=\"none\" stroke=\"black\" d=\"M54.65,-72.76C50.38,-64.46 45.08,-54.15 40.27,-44.79\"/>\n",
       "<polygon fill=\"black\" stroke=\"black\" points=\"42.99,-43.44 35.3,-36.15 36.77,-46.64 42.99,-43.44\"/>\n",
       "</g>\n",
       "<!-- C -->\n",
       "<g id=\"node3\" class=\"node\">\n",
       "<title>C</title>\n",
       "<ellipse fill=\"none\" stroke=\"black\" cx=\"99\" cy=\"-18\" rx=\"27\" ry=\"18\"/>\n",
       "<text text-anchor=\"middle\" x=\"99\" y=\"-13.8\" font-family=\"Times,serif\" font-size=\"14.00\">C</text>\n",
       "</g>\n",
       "<!-- A&#45;&gt;C -->\n",
       "<g id=\"edge2\" class=\"edge\">\n",
       "<title>A&#45;&gt;C</title>\n",
       "<path fill=\"none\" stroke=\"black\" d=\"M71.35,-72.76C75.62,-64.46 80.92,-54.15 85.73,-44.79\"/>\n",
       "<polygon fill=\"black\" stroke=\"black\" points=\"89.23,-46.64 90.7,-36.15 83.01,-43.44 89.23,-46.64\"/>\n",
       "</g>\n",
       "</g>\n",
       "</svg>\n"
      ],
      "text/plain": [
       "<graphviz.graphs.Digraph at 0x1050b6f80>"
      ]
     },
     "metadata": {},
     "output_type": "display_data"
    }
   ],
   "source": [
    "display(graf2)"
   ]
  },
  {
   "cell_type": "markdown",
   "metadata": {},
   "source": [
    "Menariknya, kita bisa saja membuat panah yang menunjuk ke dirinya sendiri."
   ]
  },
  {
   "cell_type": "code",
   "execution_count": 55,
   "metadata": {},
   "outputs": [],
   "source": [
    "graf3 = gv.Digraph()\n",
    "graf3.edge(\"A\", \"B\")\n",
    "graf3.edge(\"B\", \"B\")"
   ]
  },
  {
   "cell_type": "code",
   "execution_count": 56,
   "metadata": {},
   "outputs": [
    {
     "data": {
      "image/svg+xml": [
       "<?xml version=\"1.0\" encoding=\"UTF-8\" standalone=\"no\"?>\n",
       "<!DOCTYPE svg PUBLIC \"-//W3C//DTD SVG 1.1//EN\"\n",
       " \"http://www.w3.org/Graphics/SVG/1.1/DTD/svg11.dtd\">\n",
       "<!-- Generated by graphviz version 8.1.0 (20230707.0739)\n",
       " -->\n",
       "<!-- Pages: 1 -->\n",
       "<svg width=\"80pt\" height=\"116pt\"\n",
       " viewBox=\"0.00 0.00 80.00 116.00\" xmlns=\"http://www.w3.org/2000/svg\" xmlns:xlink=\"http://www.w3.org/1999/xlink\">\n",
       "<g id=\"graph0\" class=\"graph\" transform=\"scale(1 1) rotate(0) translate(4 112)\">\n",
       "<polygon fill=\"white\" stroke=\"none\" points=\"-4,4 -4,-112 76,-112 76,4 -4,4\"/>\n",
       "<!-- A -->\n",
       "<g id=\"node1\" class=\"node\">\n",
       "<title>A</title>\n",
       "<ellipse fill=\"none\" stroke=\"black\" cx=\"27\" cy=\"-90\" rx=\"27\" ry=\"18\"/>\n",
       "<text text-anchor=\"middle\" x=\"27\" y=\"-85.8\" font-family=\"Times,serif\" font-size=\"14.00\">A</text>\n",
       "</g>\n",
       "<!-- B -->\n",
       "<g id=\"node2\" class=\"node\">\n",
       "<title>B</title>\n",
       "<ellipse fill=\"none\" stroke=\"black\" cx=\"27\" cy=\"-18\" rx=\"27\" ry=\"18\"/>\n",
       "<text text-anchor=\"middle\" x=\"27\" y=\"-13.8\" font-family=\"Times,serif\" font-size=\"14.00\">B</text>\n",
       "</g>\n",
       "<!-- A&#45;&gt;B -->\n",
       "<g id=\"edge1\" class=\"edge\">\n",
       "<title>A&#45;&gt;B</title>\n",
       "<path fill=\"none\" stroke=\"black\" d=\"M27,-71.7C27,-64.24 27,-55.32 27,-46.97\"/>\n",
       "<polygon fill=\"black\" stroke=\"black\" points=\"30.5,-47.1 27,-37.1 23.5,-47.1 30.5,-47.1\"/>\n",
       "</g>\n",
       "<!-- B&#45;&gt;B -->\n",
       "<g id=\"edge2\" class=\"edge\">\n",
       "<title>B&#45;&gt;B</title>\n",
       "<path fill=\"none\" stroke=\"black\" d=\"M46.9,-30.43C59.69,-33.68 72,-29.53 72,-18 72,-9.89 65.91,-5.44 57.85,-4.63\"/>\n",
       "<polygon fill=\"black\" stroke=\"black\" points=\"57.56,-1.23 47.9,-5.57 58.16,-8.2 57.56,-1.23\"/>\n",
       "</g>\n",
       "</g>\n",
       "</svg>\n"
      ],
      "text/plain": [
       "<graphviz.graphs.Digraph at 0x1051a8fa0>"
      ]
     },
     "metadata": {},
     "output_type": "display_data"
    }
   ],
   "source": [
    "display(graf3)"
   ]
  },
  {
   "cell_type": "markdown",
   "metadata": {},
   "source": [
    "Kita juga bisa membuat dua panah berlawanan arah di antara dua *node* seperti berikut:"
   ]
  },
  {
   "cell_type": "code",
   "execution_count": 57,
   "metadata": {},
   "outputs": [],
   "source": [
    "graf4 = gv.Digraph()\n",
    "graf4.edge(\"A\", \"B\")\n",
    "graf4.edge(\"B\", \"A\")"
   ]
  },
  {
   "cell_type": "code",
   "execution_count": 58,
   "metadata": {},
   "outputs": [
    {
     "data": {
      "image/svg+xml": [
       "<?xml version=\"1.0\" encoding=\"UTF-8\" standalone=\"no\"?>\n",
       "<!DOCTYPE svg PUBLIC \"-//W3C//DTD SVG 1.1//EN\"\n",
       " \"http://www.w3.org/Graphics/SVG/1.1/DTD/svg11.dtd\">\n",
       "<!-- Generated by graphviz version 8.1.0 (20230707.0739)\n",
       " -->\n",
       "<!-- Pages: 1 -->\n",
       "<svg width=\"62pt\" height=\"116pt\"\n",
       " viewBox=\"0.00 0.00 62.00 116.00\" xmlns=\"http://www.w3.org/2000/svg\" xmlns:xlink=\"http://www.w3.org/1999/xlink\">\n",
       "<g id=\"graph0\" class=\"graph\" transform=\"scale(1 1) rotate(0) translate(4 112)\">\n",
       "<polygon fill=\"white\" stroke=\"none\" points=\"-4,4 -4,-112 58,-112 58,4 -4,4\"/>\n",
       "<!-- A -->\n",
       "<g id=\"node1\" class=\"node\">\n",
       "<title>A</title>\n",
       "<ellipse fill=\"none\" stroke=\"black\" cx=\"27\" cy=\"-90\" rx=\"27\" ry=\"18\"/>\n",
       "<text text-anchor=\"middle\" x=\"27\" y=\"-85.8\" font-family=\"Times,serif\" font-size=\"14.00\">A</text>\n",
       "</g>\n",
       "<!-- B -->\n",
       "<g id=\"node2\" class=\"node\">\n",
       "<title>B</title>\n",
       "<ellipse fill=\"none\" stroke=\"black\" cx=\"27\" cy=\"-18\" rx=\"27\" ry=\"18\"/>\n",
       "<text text-anchor=\"middle\" x=\"27\" y=\"-13.8\" font-family=\"Times,serif\" font-size=\"14.00\">B</text>\n",
       "</g>\n",
       "<!-- A&#45;&gt;B -->\n",
       "<g id=\"edge1\" class=\"edge\">\n",
       "<title>A&#45;&gt;B</title>\n",
       "<path fill=\"none\" stroke=\"black\" d=\"M21.12,-72.05C20.31,-64.4 20.06,-55.16 20.39,-46.56\"/>\n",
       "<polygon fill=\"black\" stroke=\"black\" points=\"23.93,-47.01 21.14,-36.79 16.95,-46.52 23.93,-47.01\"/>\n",
       "</g>\n",
       "<!-- B&#45;&gt;A -->\n",
       "<g id=\"edge2\" class=\"edge\">\n",
       "<title>B&#45;&gt;A</title>\n",
       "<path fill=\"none\" stroke=\"black\" d=\"M32.86,-35.79C33.68,-43.42 33.93,-52.65 33.62,-61.27\"/>\n",
       "<polygon fill=\"black\" stroke=\"black\" points=\"30.07,-60.84 32.88,-71.05 37.06,-61.32 30.07,-60.84\"/>\n",
       "</g>\n",
       "</g>\n",
       "</svg>\n"
      ],
      "text/plain": [
       "<graphviz.graphs.Digraph at 0x104942950>"
      ]
     },
     "metadata": {},
     "output_type": "display_data"
    }
   ],
   "source": [
    "display(graf4)"
   ]
  },
  {
   "cell_type": "markdown",
   "metadata": {},
   "source": [
    "Membuat satu panah yang dua arah juga bisa, dengan menentukan `dir` atau *direction* dari *edge* tersebut menjadi `\"both\"` seperti berikut:"
   ]
  },
  {
   "cell_type": "code",
   "execution_count": 59,
   "metadata": {},
   "outputs": [],
   "source": [
    "graf5 = gv.Digraph()\n",
    "graf5.edge(\"A\", \"B\", dir=\"both\")"
   ]
  },
  {
   "cell_type": "code",
   "execution_count": 60,
   "metadata": {},
   "outputs": [
    {
     "data": {
      "image/svg+xml": [
       "<?xml version=\"1.0\" encoding=\"UTF-8\" standalone=\"no\"?>\n",
       "<!DOCTYPE svg PUBLIC \"-//W3C//DTD SVG 1.1//EN\"\n",
       " \"http://www.w3.org/Graphics/SVG/1.1/DTD/svg11.dtd\">\n",
       "<!-- Generated by graphviz version 8.1.0 (20230707.0739)\n",
       " -->\n",
       "<!-- Pages: 1 -->\n",
       "<svg width=\"62pt\" height=\"116pt\"\n",
       " viewBox=\"0.00 0.00 62.00 116.00\" xmlns=\"http://www.w3.org/2000/svg\" xmlns:xlink=\"http://www.w3.org/1999/xlink\">\n",
       "<g id=\"graph0\" class=\"graph\" transform=\"scale(1 1) rotate(0) translate(4 112)\">\n",
       "<polygon fill=\"white\" stroke=\"none\" points=\"-4,4 -4,-112 58,-112 58,4 -4,4\"/>\n",
       "<!-- A -->\n",
       "<g id=\"node1\" class=\"node\">\n",
       "<title>A</title>\n",
       "<ellipse fill=\"none\" stroke=\"black\" cx=\"27\" cy=\"-90\" rx=\"27\" ry=\"18\"/>\n",
       "<text text-anchor=\"middle\" x=\"27\" y=\"-85.8\" font-family=\"Times,serif\" font-size=\"14.00\">A</text>\n",
       "</g>\n",
       "<!-- B -->\n",
       "<g id=\"node2\" class=\"node\">\n",
       "<title>B</title>\n",
       "<ellipse fill=\"none\" stroke=\"black\" cx=\"27\" cy=\"-18\" rx=\"27\" ry=\"18\"/>\n",
       "<text text-anchor=\"middle\" x=\"27\" y=\"-13.8\" font-family=\"Times,serif\" font-size=\"14.00\">B</text>\n",
       "</g>\n",
       "<!-- A&#45;&gt;B -->\n",
       "<g id=\"edge1\" class=\"edge\">\n",
       "<title>A&#45;&gt;B</title>\n",
       "<path fill=\"none\" stroke=\"black\" d=\"M27,-60.81C27,-56.24 27,-51.5 27,-46.93\"/>\n",
       "<polygon fill=\"black\" stroke=\"black\" points=\"23.5,-60.7 27,-70.7 30.5,-60.7 23.5,-60.7\"/>\n",
       "<polygon fill=\"black\" stroke=\"black\" points=\"30.5,-47.1 27,-37.1 23.5,-47.1 30.5,-47.1\"/>\n",
       "</g>\n",
       "</g>\n",
       "</svg>\n"
      ],
      "text/plain": [
       "<graphviz.graphs.Digraph at 0x1051a8ca0>"
      ]
     },
     "metadata": {},
     "output_type": "display_data"
    }
   ],
   "source": [
    "display(graf5)"
   ]
  },
  {
   "cell_type": "markdown",
   "metadata": {},
   "source": [
    "Daripada panah, kita juga bisa membuat *edge* berupa garis biasa, dengan `dir=\"none\"` (bukan `None` ya!)"
   ]
  },
  {
   "cell_type": "code",
   "execution_count": 61,
   "metadata": {},
   "outputs": [],
   "source": [
    "graf6 = gv.Digraph()\n",
    "graf6.edge(\"A\", \"B\", dir=\"none\")"
   ]
  },
  {
   "cell_type": "code",
   "execution_count": 62,
   "metadata": {},
   "outputs": [
    {
     "data": {
      "image/svg+xml": [
       "<?xml version=\"1.0\" encoding=\"UTF-8\" standalone=\"no\"?>\n",
       "<!DOCTYPE svg PUBLIC \"-//W3C//DTD SVG 1.1//EN\"\n",
       " \"http://www.w3.org/Graphics/SVG/1.1/DTD/svg11.dtd\">\n",
       "<!-- Generated by graphviz version 8.1.0 (20230707.0739)\n",
       " -->\n",
       "<!-- Pages: 1 -->\n",
       "<svg width=\"62pt\" height=\"116pt\"\n",
       " viewBox=\"0.00 0.00 62.00 116.00\" xmlns=\"http://www.w3.org/2000/svg\" xmlns:xlink=\"http://www.w3.org/1999/xlink\">\n",
       "<g id=\"graph0\" class=\"graph\" transform=\"scale(1 1) rotate(0) translate(4 112)\">\n",
       "<polygon fill=\"white\" stroke=\"none\" points=\"-4,4 -4,-112 58,-112 58,4 -4,4\"/>\n",
       "<!-- A -->\n",
       "<g id=\"node1\" class=\"node\">\n",
       "<title>A</title>\n",
       "<ellipse fill=\"none\" stroke=\"black\" cx=\"27\" cy=\"-90\" rx=\"27\" ry=\"18\"/>\n",
       "<text text-anchor=\"middle\" x=\"27\" y=\"-85.8\" font-family=\"Times,serif\" font-size=\"14.00\">A</text>\n",
       "</g>\n",
       "<!-- B -->\n",
       "<g id=\"node2\" class=\"node\">\n",
       "<title>B</title>\n",
       "<ellipse fill=\"none\" stroke=\"black\" cx=\"27\" cy=\"-18\" rx=\"27\" ry=\"18\"/>\n",
       "<text text-anchor=\"middle\" x=\"27\" y=\"-13.8\" font-family=\"Times,serif\" font-size=\"14.00\">B</text>\n",
       "</g>\n",
       "<!-- A&#45;&gt;B -->\n",
       "<g id=\"edge1\" class=\"edge\">\n",
       "<title>A&#45;&gt;B</title>\n",
       "<path fill=\"none\" stroke=\"black\" d=\"M27,-71.7C27,-60.85 27,-46.92 27,-36.1\"/>\n",
       "</g>\n",
       "</g>\n",
       "</svg>\n"
      ],
      "text/plain": [
       "<graphviz.graphs.Digraph at 0x1051a8850>"
      ]
     },
     "metadata": {},
     "output_type": "display_data"
    }
   ],
   "source": [
    "display(graf6)"
   ]
  },
  {
   "cell_type": "markdown",
   "metadata": {},
   "source": [
    "Sejauh ini, grafnya selalu cenderung \"dari atas ke bawah\". Daripada seperti itu, kita bisa mengubahnya menjadi kiri ke kanan untuk keseluruhan graf. Caranya, kita memasang `graph_attr` atau atribut graf, berbentuk `dict`, dan di dalamnya kita buat `\"rankdir\": \"LR\"` (*left-right*) seperti di bawah ini.\n",
    "\n",
    "Setelah objek `Digraph` dibuat, barulah tiap *edge* yang kita tambahkan akan dari kiri ke kanan."
   ]
  },
  {
   "cell_type": "code",
   "execution_count": 67,
   "metadata": {},
   "outputs": [],
   "source": [
    "graf7 = gv.Digraph(graph_attr={\"rankdir\": \"LR\"})\n",
    "graf7.edge(\"A\", \"B\")"
   ]
  },
  {
   "cell_type": "code",
   "execution_count": 68,
   "metadata": {},
   "outputs": [
    {
     "data": {
      "image/svg+xml": [
       "<?xml version=\"1.0\" encoding=\"UTF-8\" standalone=\"no\"?>\n",
       "<!DOCTYPE svg PUBLIC \"-//W3C//DTD SVG 1.1//EN\"\n",
       " \"http://www.w3.org/Graphics/SVG/1.1/DTD/svg11.dtd\">\n",
       "<!-- Generated by graphviz version 8.1.0 (20230707.0739)\n",
       " -->\n",
       "<!-- Pages: 1 -->\n",
       "<svg width=\"152pt\" height=\"44pt\"\n",
       " viewBox=\"0.00 0.00 152.00 44.00\" xmlns=\"http://www.w3.org/2000/svg\" xmlns:xlink=\"http://www.w3.org/1999/xlink\">\n",
       "<g id=\"graph0\" class=\"graph\" transform=\"scale(1 1) rotate(0) translate(4 40)\">\n",
       "<polygon fill=\"white\" stroke=\"none\" points=\"-4,4 -4,-40 148,-40 148,4 -4,4\"/>\n",
       "<!-- A -->\n",
       "<g id=\"node1\" class=\"node\">\n",
       "<title>A</title>\n",
       "<ellipse fill=\"none\" stroke=\"black\" cx=\"27\" cy=\"-18\" rx=\"27\" ry=\"18\"/>\n",
       "<text text-anchor=\"middle\" x=\"27\" y=\"-13.8\" font-family=\"Times,serif\" font-size=\"14.00\">A</text>\n",
       "</g>\n",
       "<!-- B -->\n",
       "<g id=\"node2\" class=\"node\">\n",
       "<title>B</title>\n",
       "<ellipse fill=\"none\" stroke=\"black\" cx=\"117\" cy=\"-18\" rx=\"27\" ry=\"18\"/>\n",
       "<text text-anchor=\"middle\" x=\"117\" y=\"-13.8\" font-family=\"Times,serif\" font-size=\"14.00\">B</text>\n",
       "</g>\n",
       "<!-- A&#45;&gt;B -->\n",
       "<g id=\"edge1\" class=\"edge\">\n",
       "<title>A&#45;&gt;B</title>\n",
       "<path fill=\"none\" stroke=\"black\" d=\"M54.4,-18C62.06,-18 70.57,-18 78.76,-18\"/>\n",
       "<polygon fill=\"black\" stroke=\"black\" points=\"78.62,-21.5 88.62,-18 78.62,-14.5 78.62,-21.5\"/>\n",
       "</g>\n",
       "</g>\n",
       "</svg>\n"
      ],
      "text/plain": [
       "<graphviz.graphs.Digraph at 0x1051a9030>"
      ]
     },
     "metadata": {},
     "output_type": "display_data"
    }
   ],
   "source": [
    "display(graf7)"
   ]
  },
  {
   "cell_type": "markdown",
   "metadata": {},
   "source": [
    "Selain *node* diberi nama, *edge* juga bisa diberi keterangan, lho! Caranya, pasang nilai `label` ketika membuat *edge* baru:"
   ]
  },
  {
   "cell_type": "code",
   "execution_count": 69,
   "metadata": {},
   "outputs": [],
   "source": [
    "graf8 = gv.Digraph(graph_attr={\"rankdir\": \"LR\"})\n",
    "graf8.edge(\"A\", \"B\", label=\"test\")"
   ]
  },
  {
   "cell_type": "code",
   "execution_count": 70,
   "metadata": {},
   "outputs": [
    {
     "data": {
      "image/svg+xml": [
       "<?xml version=\"1.0\" encoding=\"UTF-8\" standalone=\"no\"?>\n",
       "<!DOCTYPE svg PUBLIC \"-//W3C//DTD SVG 1.1//EN\"\n",
       " \"http://www.w3.org/Graphics/SVG/1.1/DTD/svg11.dtd\">\n",
       "<!-- Generated by graphviz version 8.1.0 (20230707.0739)\n",
       " -->\n",
       "<!-- Pages: 1 -->\n",
       "<svg width=\"171pt\" height=\"44pt\"\n",
       " viewBox=\"0.00 0.00 171.44 44.00\" xmlns=\"http://www.w3.org/2000/svg\" xmlns:xlink=\"http://www.w3.org/1999/xlink\">\n",
       "<g id=\"graph0\" class=\"graph\" transform=\"scale(1 1) rotate(0) translate(4 40)\">\n",
       "<polygon fill=\"white\" stroke=\"none\" points=\"-4,4 -4,-40 167.44,-40 167.44,4 -4,4\"/>\n",
       "<!-- A -->\n",
       "<g id=\"node1\" class=\"node\">\n",
       "<title>A</title>\n",
       "<ellipse fill=\"none\" stroke=\"black\" cx=\"27\" cy=\"-18\" rx=\"27\" ry=\"18\"/>\n",
       "<text text-anchor=\"middle\" x=\"27\" y=\"-13.8\" font-family=\"Times,serif\" font-size=\"14.00\">A</text>\n",
       "</g>\n",
       "<!-- B -->\n",
       "<g id=\"node2\" class=\"node\">\n",
       "<title>B</title>\n",
       "<ellipse fill=\"none\" stroke=\"black\" cx=\"136.44\" cy=\"-18\" rx=\"27\" ry=\"18\"/>\n",
       "<text text-anchor=\"middle\" x=\"136.44\" y=\"-13.8\" font-family=\"Times,serif\" font-size=\"14.00\">B</text>\n",
       "</g>\n",
       "<!-- A&#45;&gt;B -->\n",
       "<g id=\"edge1\" class=\"edge\">\n",
       "<title>A&#45;&gt;B</title>\n",
       "<path fill=\"none\" stroke=\"black\" d=\"M54.28,-18C67.55,-18 83.87,-18 98.39,-18\"/>\n",
       "<polygon fill=\"black\" stroke=\"black\" points=\"98.06,-21.5 108.06,-18 98.06,-14.5 98.06,-21.5\"/>\n",
       "<text text-anchor=\"middle\" x=\"81.72\" y=\"-22.2\" font-family=\"Times,serif\" font-size=\"14.00\">test</text>\n",
       "</g>\n",
       "</g>\n",
       "</svg>\n"
      ],
      "text/plain": [
       "<graphviz.graphs.Digraph at 0x1051a8a30>"
      ]
     },
     "metadata": {},
     "output_type": "display_data"
    }
   ],
   "source": [
    "display(graf8)"
   ]
  },
  {
   "cell_type": "markdown",
   "metadata": {},
   "source": [
    "Sebenarnya, di dalam suatu *node*, ada yang namanya `name` (atau ID) dan ada juga yang disebut `label`.\n",
    "\n",
    "* `label` adalah tulisan yang tampil di gambar pada *node* tersebut\n",
    "* `name` atau ID adalah sebutan yang dikenal oleh Graphviz ketika misalnya ingin membuat *edge*\n",
    "\n",
    "Selama ini, yang kita tentukan adalah `name`. Kebetulan, khusus *node*, apabila `label` tidak ditentukan, maka otomatis akan diambil dari `name`."
   ]
  },
  {
   "cell_type": "markdown",
   "metadata": {},
   "source": [
    "Berikut ini, kita bisa coba menentukan `name` dan `label` sekaligus ketika membuat *node*:"
   ]
  },
  {
   "cell_type": "code",
   "execution_count": 75,
   "metadata": {},
   "outputs": [],
   "source": [
    "graf9 = gv.Digraph()\n",
    "graf9.node(\"matkul1\", label=\"Alprog\")\n",
    "graf9.node(\"matkul2\", label=\"Strukdat\")\n",
    "graf9.edge(\"matkul1\", \"matkul2\")"
   ]
  },
  {
   "cell_type": "code",
   "execution_count": 76,
   "metadata": {},
   "outputs": [
    {
     "data": {
      "image/svg+xml": [
       "<?xml version=\"1.0\" encoding=\"UTF-8\" standalone=\"no\"?>\n",
       "<!DOCTYPE svg PUBLIC \"-//W3C//DTD SVG 1.1//EN\"\n",
       " \"http://www.w3.org/Graphics/SVG/1.1/DTD/svg11.dtd\">\n",
       "<!-- Generated by graphviz version 8.1.0 (20230707.0739)\n",
       " -->\n",
       "<!-- Pages: 1 -->\n",
       "<svg width=\"96pt\" height=\"116pt\"\n",
       " viewBox=\"0.00 0.00 95.52 116.00\" xmlns=\"http://www.w3.org/2000/svg\" xmlns:xlink=\"http://www.w3.org/1999/xlink\">\n",
       "<g id=\"graph0\" class=\"graph\" transform=\"scale(1 1) rotate(0) translate(4 112)\">\n",
       "<polygon fill=\"white\" stroke=\"none\" points=\"-4,4 -4,-112 91.52,-112 91.52,4 -4,4\"/>\n",
       "<!-- matkul1 -->\n",
       "<g id=\"node1\" class=\"node\">\n",
       "<title>matkul1</title>\n",
       "<ellipse fill=\"none\" stroke=\"black\" cx=\"43.76\" cy=\"-90\" rx=\"38.39\" ry=\"18\"/>\n",
       "<text text-anchor=\"middle\" x=\"43.76\" y=\"-85.8\" font-family=\"Times,serif\" font-size=\"14.00\">Alprog</text>\n",
       "</g>\n",
       "<!-- matkul2 -->\n",
       "<g id=\"node2\" class=\"node\">\n",
       "<title>matkul2</title>\n",
       "<ellipse fill=\"none\" stroke=\"black\" cx=\"43.76\" cy=\"-18\" rx=\"43.76\" ry=\"18\"/>\n",
       "<text text-anchor=\"middle\" x=\"43.76\" y=\"-13.8\" font-family=\"Times,serif\" font-size=\"14.00\">Strukdat</text>\n",
       "</g>\n",
       "<!-- matkul1&#45;&gt;matkul2 -->\n",
       "<g id=\"edge1\" class=\"edge\">\n",
       "<title>matkul1&#45;&gt;matkul2</title>\n",
       "<path fill=\"none\" stroke=\"black\" d=\"M43.76,-71.7C43.76,-64.24 43.76,-55.32 43.76,-46.97\"/>\n",
       "<polygon fill=\"black\" stroke=\"black\" points=\"47.26,-47.1 43.76,-37.1 40.26,-47.1 47.26,-47.1\"/>\n",
       "</g>\n",
       "</g>\n",
       "</svg>\n"
      ],
      "text/plain": [
       "<graphviz.graphs.Digraph at 0x1050fa050>"
      ]
     },
     "metadata": {},
     "output_type": "display_data"
    }
   ],
   "source": [
    "display(graf9)"
   ]
  },
  {
   "cell_type": "markdown",
   "metadata": {},
   "source": [
    "Perlu dicatat, apabila kita menambahkan *edge* sekaligus membuat *node* baru, kita tidak bisa memasang `label` untuk *node* baru tersebut. \n",
    "\n",
    "Sehingga, apabila kalian ingin membuat *node* dengan `label` tertentu, yang nantinya akan disambung ke *node* lain dengan *edge*, maka sebaiknya *node* baru tersebut dibuat dengan `.node()` terlebih dahulu, barulah `name` nya digunakan ketika membuat `.edge()`"
   ]
  },
  {
   "cell_type": "markdown",
   "metadata": {},
   "source": [
    "Selain itu, bahkan graf itu sendiri juga bisa memiliki nama, yang ditentukan ketika membuat objek grafnya."
   ]
  },
  {
   "cell_type": "code",
   "execution_count": 77,
   "metadata": {},
   "outputs": [],
   "source": [
    "graf10 = gv.Digraph(\"Nama graf\")\n",
    "graf10.edge(\"A\", \"B\")\n",
    "graf10.edge(\"B\", \"C\")"
   ]
  },
  {
   "cell_type": "code",
   "execution_count": 78,
   "metadata": {},
   "outputs": [
    {
     "data": {
      "image/svg+xml": [
       "<?xml version=\"1.0\" encoding=\"UTF-8\" standalone=\"no\"?>\n",
       "<!DOCTYPE svg PUBLIC \"-//W3C//DTD SVG 1.1//EN\"\n",
       " \"http://www.w3.org/Graphics/SVG/1.1/DTD/svg11.dtd\">\n",
       "<!-- Generated by graphviz version 8.1.0 (20230707.0739)\n",
       " -->\n",
       "<!-- Title: Nama graf Pages: 1 -->\n",
       "<svg width=\"62pt\" height=\"188pt\"\n",
       " viewBox=\"0.00 0.00 62.00 188.00\" xmlns=\"http://www.w3.org/2000/svg\" xmlns:xlink=\"http://www.w3.org/1999/xlink\">\n",
       "<g id=\"graph0\" class=\"graph\" transform=\"scale(1 1) rotate(0) translate(4 184)\">\n",
       "<title>Nama graf</title>\n",
       "<polygon fill=\"white\" stroke=\"none\" points=\"-4,4 -4,-184 58,-184 58,4 -4,4\"/>\n",
       "<!-- A -->\n",
       "<g id=\"node1\" class=\"node\">\n",
       "<title>A</title>\n",
       "<ellipse fill=\"none\" stroke=\"black\" cx=\"27\" cy=\"-162\" rx=\"27\" ry=\"18\"/>\n",
       "<text text-anchor=\"middle\" x=\"27\" y=\"-157.8\" font-family=\"Times,serif\" font-size=\"14.00\">A</text>\n",
       "</g>\n",
       "<!-- B -->\n",
       "<g id=\"node2\" class=\"node\">\n",
       "<title>B</title>\n",
       "<ellipse fill=\"none\" stroke=\"black\" cx=\"27\" cy=\"-90\" rx=\"27\" ry=\"18\"/>\n",
       "<text text-anchor=\"middle\" x=\"27\" y=\"-85.8\" font-family=\"Times,serif\" font-size=\"14.00\">B</text>\n",
       "</g>\n",
       "<!-- A&#45;&gt;B -->\n",
       "<g id=\"edge1\" class=\"edge\">\n",
       "<title>A&#45;&gt;B</title>\n",
       "<path fill=\"none\" stroke=\"black\" d=\"M27,-143.7C27,-136.24 27,-127.32 27,-118.97\"/>\n",
       "<polygon fill=\"black\" stroke=\"black\" points=\"30.5,-119.1 27,-109.1 23.5,-119.1 30.5,-119.1\"/>\n",
       "</g>\n",
       "<!-- C -->\n",
       "<g id=\"node3\" class=\"node\">\n",
       "<title>C</title>\n",
       "<ellipse fill=\"none\" stroke=\"black\" cx=\"27\" cy=\"-18\" rx=\"27\" ry=\"18\"/>\n",
       "<text text-anchor=\"middle\" x=\"27\" y=\"-13.8\" font-family=\"Times,serif\" font-size=\"14.00\">C</text>\n",
       "</g>\n",
       "<!-- B&#45;&gt;C -->\n",
       "<g id=\"edge2\" class=\"edge\">\n",
       "<title>B&#45;&gt;C</title>\n",
       "<path fill=\"none\" stroke=\"black\" d=\"M27,-71.7C27,-64.24 27,-55.32 27,-46.97\"/>\n",
       "<polygon fill=\"black\" stroke=\"black\" points=\"30.5,-47.1 27,-37.1 23.5,-47.1 30.5,-47.1\"/>\n",
       "</g>\n",
       "</g>\n",
       "</svg>\n"
      ],
      "text/plain": [
       "<graphviz.graphs.Digraph at 0x103f035b0>"
      ]
     },
     "metadata": {},
     "output_type": "display_data"
    }
   ],
   "source": [
    "display(graf10)"
   ]
  },
  {
   "cell_type": "markdown",
   "metadata": {},
   "source": [
    "Coba letakkan *mouse* kalian pada gambarnya selama beberapa detik. Akan muncul tulisan \"Nama graf\". (Kalau tidak muncul, coba klik kanan dulu, pencet \"Open image in New Tab\" atau semacamnya.)"
   ]
  },
  {
   "cell_type": "markdown",
   "metadata": {},
   "source": [
    "Apabila kalian ingin menentukan misalnya `rankdir`, tuliskan setelah nama grafnya."
   ]
  },
  {
   "cell_type": "code",
   "execution_count": 79,
   "metadata": {},
   "outputs": [],
   "source": [
    "graf11 = gv.Digraph(\"Graf ke kanan\", graph_attr={\"rankdir\": \"LR\"})\n",
    "graf11.edge(\"A\", \"B\")\n",
    "graf11.edge(\"B\", \"C\")"
   ]
  },
  {
   "cell_type": "code",
   "execution_count": 80,
   "metadata": {},
   "outputs": [
    {
     "data": {
      "image/svg+xml": [
       "<?xml version=\"1.0\" encoding=\"UTF-8\" standalone=\"no\"?>\n",
       "<!DOCTYPE svg PUBLIC \"-//W3C//DTD SVG 1.1//EN\"\n",
       " \"http://www.w3.org/Graphics/SVG/1.1/DTD/svg11.dtd\">\n",
       "<!-- Generated by graphviz version 8.1.0 (20230707.0739)\n",
       " -->\n",
       "<!-- Title: Graf ke kanan Pages: 1 -->\n",
       "<svg width=\"242pt\" height=\"44pt\"\n",
       " viewBox=\"0.00 0.00 242.00 44.00\" xmlns=\"http://www.w3.org/2000/svg\" xmlns:xlink=\"http://www.w3.org/1999/xlink\">\n",
       "<g id=\"graph0\" class=\"graph\" transform=\"scale(1 1) rotate(0) translate(4 40)\">\n",
       "<title>Graf ke kanan</title>\n",
       "<polygon fill=\"white\" stroke=\"none\" points=\"-4,4 -4,-40 238,-40 238,4 -4,4\"/>\n",
       "<!-- A -->\n",
       "<g id=\"node1\" class=\"node\">\n",
       "<title>A</title>\n",
       "<ellipse fill=\"none\" stroke=\"black\" cx=\"27\" cy=\"-18\" rx=\"27\" ry=\"18\"/>\n",
       "<text text-anchor=\"middle\" x=\"27\" y=\"-13.8\" font-family=\"Times,serif\" font-size=\"14.00\">A</text>\n",
       "</g>\n",
       "<!-- B -->\n",
       "<g id=\"node2\" class=\"node\">\n",
       "<title>B</title>\n",
       "<ellipse fill=\"none\" stroke=\"black\" cx=\"117\" cy=\"-18\" rx=\"27\" ry=\"18\"/>\n",
       "<text text-anchor=\"middle\" x=\"117\" y=\"-13.8\" font-family=\"Times,serif\" font-size=\"14.00\">B</text>\n",
       "</g>\n",
       "<!-- A&#45;&gt;B -->\n",
       "<g id=\"edge1\" class=\"edge\">\n",
       "<title>A&#45;&gt;B</title>\n",
       "<path fill=\"none\" stroke=\"black\" d=\"M54.4,-18C62.06,-18 70.57,-18 78.76,-18\"/>\n",
       "<polygon fill=\"black\" stroke=\"black\" points=\"78.62,-21.5 88.62,-18 78.62,-14.5 78.62,-21.5\"/>\n",
       "</g>\n",
       "<!-- C -->\n",
       "<g id=\"node3\" class=\"node\">\n",
       "<title>C</title>\n",
       "<ellipse fill=\"none\" stroke=\"black\" cx=\"207\" cy=\"-18\" rx=\"27\" ry=\"18\"/>\n",
       "<text text-anchor=\"middle\" x=\"207\" y=\"-13.8\" font-family=\"Times,serif\" font-size=\"14.00\">C</text>\n",
       "</g>\n",
       "<!-- B&#45;&gt;C -->\n",
       "<g id=\"edge2\" class=\"edge\">\n",
       "<title>B&#45;&gt;C</title>\n",
       "<path fill=\"none\" stroke=\"black\" d=\"M144.4,-18C152.06,-18 160.57,-18 168.76,-18\"/>\n",
       "<polygon fill=\"black\" stroke=\"black\" points=\"168.62,-21.5 178.62,-18 168.62,-14.5 168.62,-21.5\"/>\n",
       "</g>\n",
       "</g>\n",
       "</svg>\n"
      ],
      "text/plain": [
       "<graphviz.graphs.Digraph at 0x1050f9120>"
      ]
     },
     "metadata": {},
     "output_type": "display_data"
    }
   ],
   "source": [
    "display(graf11)"
   ]
  },
  {
   "cell_type": "markdown",
   "metadata": {},
   "source": [
    "### Import/export, bahasa DOT, file `.gv`"
   ]
  },
  {
   "cell_type": "markdown",
   "metadata": {},
   "source": [
    "Sebenarnya, Graphviz melibatkan yang namanya bahasa DOT (dibaca \"dot\"), yaitu semacam \"bahasa komputer\" untuk mendeskripsikan graf, yang kemudian diolah oleh Graphviz menjadi gambar.\n",
    "\n",
    "(Sebenarnya, bahasa DOT mudah dipahami dan bisa kalian pelajari sendiri kalo iseng :D)"
   ]
  },
  {
   "cell_type": "markdown",
   "metadata": {},
   "source": [
    "Tiap kali kita membuat graf baru dengan Graphviz melalui Python ini, Graphviz selalu menyusun bahasa DOT terlebih dahulu, baru mengolah bahasa DOT tersebut menjadi gambar."
   ]
  },
  {
   "cell_type": "markdown",
   "metadata": {},
   "source": [
    "Kita bisa melihat bahasa DOT untuk tiap graf melalui atribut `.source` seperti berikut:"
   ]
  },
  {
   "cell_type": "code",
   "execution_count": 81,
   "metadata": {},
   "outputs": [
    {
     "name": "stdout",
     "output_type": "stream",
     "text": [
      "digraph \"Graf ke kanan\" {\n",
      "\tgraph [rankdir=LR]\n",
      "\tA -> B\n",
      "\tB -> C\n",
      "}\n",
      "\n"
     ]
    }
   ],
   "source": [
    "print(graf11.source)"
   ]
  },
  {
   "cell_type": "markdown",
   "metadata": {},
   "source": [
    "Kemudian, kita bisa memasukkan bahasa DOT tersebut ke dalam semacam *software* yang bisa mengolah bahasa DOT menjadi gambar. Contohnya adalah *link* berikut:\n",
    "\n",
    "[https://dreampuf.github.io/GraphvizOnline/](https://dreampuf.github.io/GraphvizOnline/)"
   ]
  },
  {
   "cell_type": "markdown",
   "metadata": {},
   "source": [
    "Sebaliknya, dari bahasa DOT, Graphviz juga bisa membuat objek `Digraph` misalnya, menggunakan `graphviz.Source()` seperti berikut:"
   ]
  },
  {
   "cell_type": "code",
   "execution_count": 82,
   "metadata": {},
   "outputs": [],
   "source": [
    "graf12 = gv.Source(\"\"\"\n",
    "digraph \"Graf ke kanan\" {\n",
    "\tgraph [rankdir=LR]\n",
    "\tA -> B\n",
    "\tB -> C\n",
    "}\n",
    "\"\"\")"
   ]
  },
  {
   "cell_type": "code",
   "execution_count": 83,
   "metadata": {},
   "outputs": [
    {
     "data": {
      "image/svg+xml": [
       "<?xml version=\"1.0\" encoding=\"UTF-8\" standalone=\"no\"?>\n",
       "<!DOCTYPE svg PUBLIC \"-//W3C//DTD SVG 1.1//EN\"\n",
       " \"http://www.w3.org/Graphics/SVG/1.1/DTD/svg11.dtd\">\n",
       "<!-- Generated by graphviz version 8.1.0 (20230707.0739)\n",
       " -->\n",
       "<!-- Title: Graf ke kanan Pages: 1 -->\n",
       "<svg width=\"242pt\" height=\"44pt\"\n",
       " viewBox=\"0.00 0.00 242.00 44.00\" xmlns=\"http://www.w3.org/2000/svg\" xmlns:xlink=\"http://www.w3.org/1999/xlink\">\n",
       "<g id=\"graph0\" class=\"graph\" transform=\"scale(1 1) rotate(0) translate(4 40)\">\n",
       "<title>Graf ke kanan</title>\n",
       "<polygon fill=\"white\" stroke=\"none\" points=\"-4,4 -4,-40 238,-40 238,4 -4,4\"/>\n",
       "<!-- A -->\n",
       "<g id=\"node1\" class=\"node\">\n",
       "<title>A</title>\n",
       "<ellipse fill=\"none\" stroke=\"black\" cx=\"27\" cy=\"-18\" rx=\"27\" ry=\"18\"/>\n",
       "<text text-anchor=\"middle\" x=\"27\" y=\"-13.8\" font-family=\"Times,serif\" font-size=\"14.00\">A</text>\n",
       "</g>\n",
       "<!-- B -->\n",
       "<g id=\"node2\" class=\"node\">\n",
       "<title>B</title>\n",
       "<ellipse fill=\"none\" stroke=\"black\" cx=\"117\" cy=\"-18\" rx=\"27\" ry=\"18\"/>\n",
       "<text text-anchor=\"middle\" x=\"117\" y=\"-13.8\" font-family=\"Times,serif\" font-size=\"14.00\">B</text>\n",
       "</g>\n",
       "<!-- A&#45;&gt;B -->\n",
       "<g id=\"edge1\" class=\"edge\">\n",
       "<title>A&#45;&gt;B</title>\n",
       "<path fill=\"none\" stroke=\"black\" d=\"M54.4,-18C62.06,-18 70.57,-18 78.76,-18\"/>\n",
       "<polygon fill=\"black\" stroke=\"black\" points=\"78.62,-21.5 88.62,-18 78.62,-14.5 78.62,-21.5\"/>\n",
       "</g>\n",
       "<!-- C -->\n",
       "<g id=\"node3\" class=\"node\">\n",
       "<title>C</title>\n",
       "<ellipse fill=\"none\" stroke=\"black\" cx=\"207\" cy=\"-18\" rx=\"27\" ry=\"18\"/>\n",
       "<text text-anchor=\"middle\" x=\"207\" y=\"-13.8\" font-family=\"Times,serif\" font-size=\"14.00\">C</text>\n",
       "</g>\n",
       "<!-- B&#45;&gt;C -->\n",
       "<g id=\"edge2\" class=\"edge\">\n",
       "<title>B&#45;&gt;C</title>\n",
       "<path fill=\"none\" stroke=\"black\" d=\"M144.4,-18C152.06,-18 160.57,-18 168.76,-18\"/>\n",
       "<polygon fill=\"black\" stroke=\"black\" points=\"168.62,-21.5 178.62,-18 168.62,-14.5 168.62,-21.5\"/>\n",
       "</g>\n",
       "</g>\n",
       "</svg>\n"
      ],
      "text/plain": [
       "<graphviz.sources.Source at 0x104c47700>"
      ]
     },
     "metadata": {},
     "output_type": "display_data"
    }
   ],
   "source": [
    "display(graf12)"
   ]
  },
  {
   "cell_type": "markdown",
   "metadata": {},
   "source": [
    "Selain import seperti itu, baik bahasa DOT maupun gambar yang dibuat oleh Graphviz bisa di-*export* dengan menetapkan `.format` terlebih dahulu (misalnya \"svg\" atau \"png\"), lalu menggunakan `.render()` sebagai berikut:"
   ]
  },
  {
   "cell_type": "code",
   "execution_count": 85,
   "metadata": {},
   "outputs": [
    {
     "data": {
      "text/plain": [
       "'Graf ke kanan.gv.svg'"
      ]
     },
     "execution_count": 85,
     "metadata": {},
     "output_type": "execute_result"
    }
   ],
   "source": [
    "graf11.format = \"svg\"\n",
    "graf11.render()"
   ]
  },
  {
   "cell_type": "markdown",
   "metadata": {},
   "source": [
    "Seperti di [Modul 3](./Strukdat2023_Modul03.ipynb) kemarin ketika membahas I/O, ada *file* baru yang muncul.\n",
    "\n",
    "* Apabila menggunakan Google Colaboratory, silakan tekan tombol folder di sebelah kiri.\n",
    "* Apabila menggunakan Jupyter Notebook, silakan periksa folder yang di dalamnya ada *file* `.ipynb` yang sedang kalian gunakan.\n",
    "\n",
    "Akan muncul dua *file* baru, yaitu:\n",
    "\n",
    "1. `Graf ke kanan.gv`\n",
    "2. `Graf ke kanan.gv.svg`\n",
    "\n",
    "*File* pertama adalah *file* `.gv` (Graphviz) yang mengandung bahasa DOT yang disusun sebelum diolah menjadi gambar. *File* kedua adalah *file* gambar yang diolah, dalam format sesuai dengan yang kita tentukan."
   ]
  },
  {
   "cell_type": "markdown",
   "metadata": {},
   "source": [
    "Kita bisa membaca isi `Graf ke kanan.gv` sebagaimana kita membaca isi *text file*:"
   ]
  },
  {
   "cell_type": "code",
   "execution_count": 97,
   "metadata": {},
   "outputs": [
    {
     "name": "stdout",
     "output_type": "stream",
     "text": [
      "digraph \"Graf ke kanan\" {\n",
      "\tgraph [rankdir=LR]\n",
      "\tA -> B\n",
      "\tB -> C\n",
      "}\n",
      "\n"
     ]
    }
   ],
   "source": [
    "with open(\"Graf ke kanan.gv\", \"r\") as isi:\n",
    "    print(isi.read())"
   ]
  },
  {
   "cell_type": "markdown",
   "metadata": {},
   "source": [
    "Selain itu, perhatikan bahwa nama *file* nya sesuai dengan nama graf yang kita tentukan ketika membuat objek `graf11` tadi. Kalau lupa, kita bisa memeriksa nama graf melalui atribut `.nama`"
   ]
  },
  {
   "cell_type": "code",
   "execution_count": 86,
   "metadata": {},
   "outputs": [
    {
     "name": "stdout",
     "output_type": "stream",
     "text": [
      "Graf ke kanan\n"
     ]
    }
   ],
   "source": [
    "print(graf11.name)"
   ]
  },
  {
   "cell_type": "markdown",
   "metadata": {},
   "source": [
    "Dengan atribut itu pula, kita bisa mengubah nama grafnya:"
   ]
  },
  {
   "cell_type": "code",
   "execution_count": 93,
   "metadata": {},
   "outputs": [],
   "source": [
    "graf11.name = \"Nama baru\""
   ]
  },
  {
   "cell_type": "markdown",
   "metadata": {},
   "source": [
    "Sehingga, ketika misalnya Graphviz menyusun bahasa DOT, akan digunakan nama yang baru:"
   ]
  },
  {
   "cell_type": "code",
   "execution_count": 94,
   "metadata": {},
   "outputs": [
    {
     "name": "stdout",
     "output_type": "stream",
     "text": [
      "digraph \"Nama baru\" {\n",
      "\tgraph [rankdir=LR]\n",
      "\tA -> B\n",
      "\tB -> C\n",
      "}\n",
      "\n"
     ]
    }
   ],
   "source": [
    "print(graf11.source)"
   ]
  },
  {
   "cell_type": "markdown",
   "metadata": {},
   "source": [
    "### Variasi *node* dengan *HTML-like labels*"
   ]
  },
  {
   "cell_type": "markdown",
   "metadata": {},
   "source": [
    "Ingat atribut `label` yang bisa dipasang ketika membuat suatu *node*? Sebenarnya, kita bisa memanfaatkan atribut tersebut untuk membuat bentuk *node* sesuka hati kita, lho! Terutama, kita bisa membuat *node* dengan bentuk seperti tabel."
   ]
  },
  {
   "cell_type": "markdown",
   "metadata": {},
   "source": [
    "Penulisan `label` seperti tabel ini mirip seperti struktur bahasa HTML, sehingga disebut ***HTML-like labels***."
   ]
  },
  {
   "cell_type": "markdown",
   "metadata": {},
   "source": [
    "Perhatikan *syntax* (penulisan) berikut."
   ]
  },
  {
   "cell_type": "code",
   "execution_count": 127,
   "metadata": {},
   "outputs": [],
   "source": [
    "graf13 = gv.Digraph()\n",
    "graf13.node(\"A\", shape=\"none\", label=\"\"\"<\n",
    "<TABLE>\n",
    "    <TR>\n",
    "        <TD>P</TD>\n",
    "        <TD>Q</TD>\n",
    "    </TR>\n",
    "    <TR>\n",
    "        <TD>R</TD>\n",
    "        <TD>S</TD>\n",
    "    </TR>\n",
    "</TABLE>\n",
    ">\"\"\")\n",
    "\n",
    "graf13.node(\"B\") # node biasa\n",
    "graf13.edge(\"A\", \"B\")"
   ]
  },
  {
   "cell_type": "code",
   "execution_count": 128,
   "metadata": {},
   "outputs": [
    {
     "data": {
      "image/svg+xml": [
       "<?xml version=\"1.0\" encoding=\"UTF-8\" standalone=\"no\"?>\n",
       "<!DOCTYPE svg PUBLIC \"-//W3C//DTD SVG 1.1//EN\"\n",
       " \"http://www.w3.org/Graphics/SVG/1.1/DTD/svg11.dtd\">\n",
       "<!-- Generated by graphviz version 8.1.0 (20230707.0739)\n",
       " -->\n",
       "<!-- Pages: 1 -->\n",
       "<svg width=\"63pt\" height=\"140pt\"\n",
       " viewBox=\"0.00 0.00 63.00 140.00\" xmlns=\"http://www.w3.org/2000/svg\" xmlns:xlink=\"http://www.w3.org/1999/xlink\">\n",
       "<g id=\"graph0\" class=\"graph\" transform=\"scale(1 1) rotate(0) translate(4 136)\">\n",
       "<polygon fill=\"white\" stroke=\"none\" points=\"-4,4 -4,-136 59,-136 59,4 -4,4\"/>\n",
       "<!-- A -->\n",
       "<g id=\"node1\" class=\"node\">\n",
       "<title>A</title>\n",
       "<polygon fill=\"none\" stroke=\"black\" points=\"11,-103 11,-125 26,-125 26,-103 11,-103\"/>\n",
       "<text text-anchor=\"start\" x=\"14.61\" y=\"-109.4\" font-family=\"Times,serif\" font-size=\"14.00\">P</text>\n",
       "<polygon fill=\"none\" stroke=\"black\" points=\"28,-103 28,-125 44,-125 44,-103 28,-103\"/>\n",
       "<text text-anchor=\"start\" x=\"30.94\" y=\"-109.4\" font-family=\"Times,serif\" font-size=\"14.00\">Q</text>\n",
       "<polygon fill=\"none\" stroke=\"black\" points=\"11,-79 11,-101 26,-101 26,-79 11,-79\"/>\n",
       "<text text-anchor=\"start\" x=\"13.83\" y=\"-85.4\" font-family=\"Times,serif\" font-size=\"14.00\">R</text>\n",
       "<polygon fill=\"none\" stroke=\"black\" points=\"28,-79 28,-101 44,-101 44,-79 28,-79\"/>\n",
       "<text text-anchor=\"start\" x=\"32.11\" y=\"-85.4\" font-family=\"Times,serif\" font-size=\"14.00\">S</text>\n",
       "<polygon fill=\"none\" stroke=\"black\" points=\"8,-76 8,-128 47,-128 47,-76 8,-76\"/>\n",
       "</g>\n",
       "<!-- B -->\n",
       "<g id=\"node2\" class=\"node\">\n",
       "<title>B</title>\n",
       "<ellipse fill=\"none\" stroke=\"black\" cx=\"27.5\" cy=\"-18\" rx=\"27\" ry=\"18\"/>\n",
       "<text text-anchor=\"middle\" x=\"27.5\" y=\"-13.8\" font-family=\"Times,serif\" font-size=\"14.00\">B</text>\n",
       "</g>\n",
       "<!-- A&#45;&gt;B -->\n",
       "<g id=\"edge1\" class=\"edge\">\n",
       "<title>A&#45;&gt;B</title>\n",
       "<path fill=\"none\" stroke=\"black\" d=\"M27.5,-72.32C27.5,-64.16 27.5,-55.28 27.5,-47.15\"/>\n",
       "<polygon fill=\"black\" stroke=\"black\" points=\"31,-47.31 27.5,-37.31 24,-47.31 31,-47.31\"/>\n",
       "</g>\n",
       "</g>\n",
       "</svg>\n"
      ],
      "text/plain": [
       "<graphviz.graphs.Digraph at 0x10611ebf0>"
      ]
     },
     "metadata": {},
     "output_type": "display_data"
    }
   ],
   "source": [
    "display(graf13)"
   ]
  },
  {
   "cell_type": "markdown",
   "metadata": {},
   "source": [
    "Perhatikan,\n",
    "\n",
    "1. Ketika membuat *node* yang ingin berbentuk tabel, ditambahkan atribut `shape=\"none\"` (bukan `None`) di samping menulis `label` nya.\n",
    "2. `label` berupa *long string*, sehingga diawali dan diakhiri dengan tiga tanda kutip.\n",
    "3. Karakter pertama dari *long string* tersebut haruslah `<` dan karakter terakhir haruslah `>`\n",
    "4. Kemudian, penulisan tabel diawali dengan penulisan `<TABLE>`, kemudian `<TR>` (*table row*) untuk tiap baris, lalu `<TD>` (*table data*) untuk tiap sel. Masing-masing selalu ditutup dengan `</TD>`, `</TR>`, dan `</TABLE>`, bagaikan keberadaan `endif`, `endfor`, `endwhile` dan sebagainya di *pseudocode*."
   ]
  },
  {
   "cell_type": "markdown",
   "metadata": {},
   "source": [
    "Agar lebih bagus, di bagian `<TABLE>` kita bisa menambahkan:\n",
    "\n",
    "`BORDER=\"0\" CELLBORDER=\"1\" CELLSPACING=\"0\"`\n",
    "\n",
    "Seperti berikut:"
   ]
  },
  {
   "cell_type": "code",
   "execution_count": 129,
   "metadata": {},
   "outputs": [],
   "source": [
    "graf14 = gv.Digraph()\n",
    "graf14.node(\"A\", shape=\"none\", label=\"\"\"<\n",
    "<TABLE BORDER=\"0\" CELLBORDER=\"1\" CELLSPACING=\"0\">\n",
    "    <TR>\n",
    "        <TD>P</TD>\n",
    "        <TD>Q</TD>\n",
    "    </TR>\n",
    "    <TR>\n",
    "        <TD>R</TD>\n",
    "        <TD>S</TD>\n",
    "    </TR>\n",
    "</TABLE>\n",
    ">\"\"\")\n",
    "\n",
    "graf14.node(\"B\")\n",
    "graf14.edge(\"A\", \"B\")"
   ]
  },
  {
   "cell_type": "code",
   "execution_count": 130,
   "metadata": {},
   "outputs": [
    {
     "data": {
      "image/svg+xml": [
       "<?xml version=\"1.0\" encoding=\"UTF-8\" standalone=\"no\"?>\n",
       "<!DOCTYPE svg PUBLIC \"-//W3C//DTD SVG 1.1//EN\"\n",
       " \"http://www.w3.org/Graphics/SVG/1.1/DTD/svg11.dtd\">\n",
       "<!-- Generated by graphviz version 8.1.0 (20230707.0739)\n",
       " -->\n",
       "<!-- Pages: 1 -->\n",
       "<svg width=\"62pt\" height=\"132pt\"\n",
       " viewBox=\"0.00 0.00 62.00 132.00\" xmlns=\"http://www.w3.org/2000/svg\" xmlns:xlink=\"http://www.w3.org/1999/xlink\">\n",
       "<g id=\"graph0\" class=\"graph\" transform=\"scale(1 1) rotate(0) translate(4 128)\">\n",
       "<polygon fill=\"white\" stroke=\"none\" points=\"-4,4 -4,-128 58,-128 58,4 -4,4\"/>\n",
       "<!-- A -->\n",
       "<g id=\"node1\" class=\"node\">\n",
       "<title>A</title>\n",
       "<polygon fill=\"none\" stroke=\"black\" points=\"11.5,-98 11.5,-120 26.5,-120 26.5,-98 11.5,-98\"/>\n",
       "<text text-anchor=\"start\" x=\"15.11\" y=\"-104.4\" font-family=\"Times,serif\" font-size=\"14.00\">P</text>\n",
       "<polygon fill=\"none\" stroke=\"black\" points=\"26.5,-98 26.5,-120 42.5,-120 42.5,-98 26.5,-98\"/>\n",
       "<text text-anchor=\"start\" x=\"29.44\" y=\"-104.4\" font-family=\"Times,serif\" font-size=\"14.00\">Q</text>\n",
       "<polygon fill=\"none\" stroke=\"black\" points=\"11.5,-76 11.5,-98 26.5,-98 26.5,-76 11.5,-76\"/>\n",
       "<text text-anchor=\"start\" x=\"14.33\" y=\"-82.4\" font-family=\"Times,serif\" font-size=\"14.00\">R</text>\n",
       "<polygon fill=\"none\" stroke=\"black\" points=\"26.5,-76 26.5,-98 42.5,-98 42.5,-76 26.5,-76\"/>\n",
       "<text text-anchor=\"start\" x=\"30.61\" y=\"-82.4\" font-family=\"Times,serif\" font-size=\"14.00\">S</text>\n",
       "</g>\n",
       "<!-- B -->\n",
       "<g id=\"node2\" class=\"node\">\n",
       "<title>B</title>\n",
       "<ellipse fill=\"none\" stroke=\"black\" cx=\"27\" cy=\"-18\" rx=\"27\" ry=\"18\"/>\n",
       "<text text-anchor=\"middle\" x=\"27\" y=\"-13.8\" font-family=\"Times,serif\" font-size=\"14.00\">B</text>\n",
       "</g>\n",
       "<!-- A&#45;&gt;B -->\n",
       "<g id=\"edge1\" class=\"edge\">\n",
       "<title>A&#45;&gt;B</title>\n",
       "<path fill=\"none\" stroke=\"black\" d=\"M27,-72.32C27,-64.22 27,-55.16 27,-46.84\"/>\n",
       "<polygon fill=\"black\" stroke=\"black\" points=\"30.5,-47.12 27,-37.12 23.5,-47.12 30.5,-47.12\"/>\n",
       "</g>\n",
       "</g>\n",
       "</svg>\n"
      ],
      "text/plain": [
       "<graphviz.graphs.Digraph at 0x10611fb80>"
      ]
     },
     "metadata": {},
     "output_type": "display_data"
    }
   ],
   "source": [
    "display(graf14)"
   ]
  },
  {
   "cell_type": "markdown",
   "metadata": {},
   "source": [
    "Bagaimana kalau misalnya kita ingin panahnya seperti \"berasal\" dari sel tertentu? Caranya, kita bisa membuat yang namanya `port`, misalnya di sel R, kemudian *edge* yang dibuat akan kita sambung dari port tersebut, seperti berikut:"
   ]
  },
  {
   "cell_type": "code",
   "execution_count": 131,
   "metadata": {},
   "outputs": [],
   "source": [
    "graf15 = gv.Digraph()\n",
    "graf15.node(\"A\", shape=\"none\", label=\"\"\"<\n",
    "<TABLE BORDER=\"0\" CELLBORDER=\"1\" CELLSPACING=\"0\">\n",
    "    <TR>\n",
    "        <TD>P</TD>\n",
    "        <TD>Q</TD>\n",
    "    </TR>\n",
    "    <TR>\n",
    "        <TD PORT=\"port1\">R</TD>\n",
    "        <TD>S</TD>\n",
    "    </TR>\n",
    "</TABLE>\n",
    ">\"\"\")\n",
    "\n",
    "graf15.node(\"B\")\n",
    "graf15.edge(\"A:port1\", \"B\")"
   ]
  },
  {
   "cell_type": "code",
   "execution_count": 132,
   "metadata": {},
   "outputs": [
    {
     "data": {
      "image/svg+xml": [
       "<?xml version=\"1.0\" encoding=\"UTF-8\" standalone=\"no\"?>\n",
       "<!DOCTYPE svg PUBLIC \"-//W3C//DTD SVG 1.1//EN\"\n",
       " \"http://www.w3.org/Graphics/SVG/1.1/DTD/svg11.dtd\">\n",
       "<!-- Generated by graphviz version 8.1.0 (20230707.0739)\n",
       " -->\n",
       "<!-- Pages: 1 -->\n",
       "<svg width=\"70pt\" height=\"132pt\"\n",
       " viewBox=\"0.00 0.00 70.00 132.00\" xmlns=\"http://www.w3.org/2000/svg\" xmlns:xlink=\"http://www.w3.org/1999/xlink\">\n",
       "<g id=\"graph0\" class=\"graph\" transform=\"scale(1 1) rotate(0) translate(4 128)\">\n",
       "<polygon fill=\"white\" stroke=\"none\" points=\"-4,4 -4,-128 66,-128 66,4 -4,4\"/>\n",
       "<!-- A -->\n",
       "<g id=\"node1\" class=\"node\">\n",
       "<title>A</title>\n",
       "<polygon fill=\"none\" stroke=\"black\" points=\"19.5,-98 19.5,-120 34.5,-120 34.5,-98 19.5,-98\"/>\n",
       "<text text-anchor=\"start\" x=\"23.11\" y=\"-104.4\" font-family=\"Times,serif\" font-size=\"14.00\">P</text>\n",
       "<polygon fill=\"none\" stroke=\"black\" points=\"34.5,-98 34.5,-120 50.5,-120 50.5,-98 34.5,-98\"/>\n",
       "<text text-anchor=\"start\" x=\"37.44\" y=\"-104.4\" font-family=\"Times,serif\" font-size=\"14.00\">Q</text>\n",
       "<polygon fill=\"none\" stroke=\"black\" points=\"19.5,-76 19.5,-98 34.5,-98 34.5,-76 19.5,-76\"/>\n",
       "<text text-anchor=\"start\" x=\"22.33\" y=\"-82.4\" font-family=\"Times,serif\" font-size=\"14.00\">R</text>\n",
       "<polygon fill=\"none\" stroke=\"black\" points=\"34.5,-76 34.5,-98 50.5,-98 50.5,-76 34.5,-76\"/>\n",
       "<text text-anchor=\"start\" x=\"38.61\" y=\"-82.4\" font-family=\"Times,serif\" font-size=\"14.00\">S</text>\n",
       "</g>\n",
       "<!-- B -->\n",
       "<g id=\"node2\" class=\"node\">\n",
       "<title>B</title>\n",
       "<ellipse fill=\"none\" stroke=\"black\" cx=\"27\" cy=\"-18\" rx=\"27\" ry=\"18\"/>\n",
       "<text text-anchor=\"middle\" x=\"27\" y=\"-13.8\" font-family=\"Times,serif\" font-size=\"14.00\">B</text>\n",
       "</g>\n",
       "<!-- A&#45;&gt;B -->\n",
       "<g id=\"edge1\" class=\"edge\">\n",
       "<title>A:port1&#45;&gt;B</title>\n",
       "<path fill=\"none\" stroke=\"black\" d=\"M27,-75C27,-65.94 27,-56.06 27,-47.15\"/>\n",
       "<polygon fill=\"black\" stroke=\"black\" points=\"30.5,-47.16 27,-37.16 23.5,-47.16 30.5,-47.16\"/>\n",
       "</g>\n",
       "</g>\n",
       "</svg>\n"
      ],
      "text/plain": [
       "<graphviz.graphs.Digraph at 0x10527bd00>"
      ]
     },
     "metadata": {},
     "output_type": "display_data"
    }
   ],
   "source": [
    "display(graf15)"
   ]
  },
  {
   "cell_type": "markdown",
   "metadata": {},
   "source": [
    "Kalau di Microsoft Excel atau Google Sheets, kita bisa melakukan *merge* beberapa sel, entah secara horizontal atau vertikal atau bahkan dua-duanya. Ketika menyusun *HTML-like labels*, kita bisa menggunakan `COLSPAN` (merentang beberapa kolom) dan `ROWSPAN` (merentang beberapa baris) untuk membuat efek seperti di-*merge*."
   ]
  },
  {
   "cell_type": "code",
   "execution_count": 141,
   "metadata": {},
   "outputs": [],
   "source": [
    "graf16 = gv.Digraph()\n",
    "graf16.node(\"A\", shape=\"none\", label=\"\"\"<\n",
    "<TABLE BORDER=\"0\" CELLBORDER=\"1\" CELLSPACING=\"0\">\n",
    "    <TR>\n",
    "        <TD ROWSPAN=\"2\">P</TD>\n",
    "        <TD COLSPAN=\"2\">Q</TD>\n",
    "    </TR>\n",
    "    <TR>\n",
    "        <TD>R</TD>\n",
    "        <TD>S</TD>\n",
    "    </TR>\n",
    "</TABLE>\n",
    ">\"\"\")\n",
    "\n",
    "graf16.node(\"B\")\n",
    "graf16.edge(\"A\", \"B\")"
   ]
  },
  {
   "cell_type": "code",
   "execution_count": 142,
   "metadata": {},
   "outputs": [
    {
     "data": {
      "image/svg+xml": [
       "<?xml version=\"1.0\" encoding=\"UTF-8\" standalone=\"no\"?>\n",
       "<!DOCTYPE svg PUBLIC \"-//W3C//DTD SVG 1.1//EN\"\n",
       " \"http://www.w3.org/Graphics/SVG/1.1/DTD/svg11.dtd\">\n",
       "<!-- Generated by graphviz version 8.1.0 (20230707.0739)\n",
       " -->\n",
       "<!-- Pages: 1 -->\n",
       "<svg width=\"65pt\" height=\"132pt\"\n",
       " viewBox=\"0.00 0.00 65.00 132.00\" xmlns=\"http://www.w3.org/2000/svg\" xmlns:xlink=\"http://www.w3.org/1999/xlink\">\n",
       "<g id=\"graph0\" class=\"graph\" transform=\"scale(1 1) rotate(0) translate(4 128)\">\n",
       "<polygon fill=\"white\" stroke=\"none\" points=\"-4,4 -4,-128 61,-128 61,4 -4,4\"/>\n",
       "<!-- A -->\n",
       "<g id=\"node1\" class=\"node\">\n",
       "<title>A</title>\n",
       "<polygon fill=\"none\" stroke=\"black\" points=\"8,-76 8,-120 21,-120 21,-76 8,-76\"/>\n",
       "<text text-anchor=\"start\" x=\"10.61\" y=\"-93.8\" font-family=\"Times,serif\" font-size=\"14.00\">P</text>\n",
       "<polygon fill=\"none\" stroke=\"black\" points=\"21,-98 21,-120 49,-120 49,-98 21,-98\"/>\n",
       "<text text-anchor=\"start\" x=\"29.94\" y=\"-104.4\" font-family=\"Times,serif\" font-size=\"14.00\">Q</text>\n",
       "<polygon fill=\"none\" stroke=\"black\" points=\"21,-76 21,-98 36,-98 36,-76 21,-76\"/>\n",
       "<text text-anchor=\"start\" x=\"23.83\" y=\"-82.4\" font-family=\"Times,serif\" font-size=\"14.00\">R</text>\n",
       "<polygon fill=\"none\" stroke=\"black\" points=\"36,-76 36,-98 49,-98 49,-76 36,-76\"/>\n",
       "<text text-anchor=\"start\" x=\"38.61\" y=\"-82.4\" font-family=\"Times,serif\" font-size=\"14.00\">S</text>\n",
       "</g>\n",
       "<!-- B -->\n",
       "<g id=\"node2\" class=\"node\">\n",
       "<title>B</title>\n",
       "<ellipse fill=\"none\" stroke=\"black\" cx=\"28.5\" cy=\"-18\" rx=\"27\" ry=\"18\"/>\n",
       "<text text-anchor=\"middle\" x=\"28.5\" y=\"-13.8\" font-family=\"Times,serif\" font-size=\"14.00\">B</text>\n",
       "</g>\n",
       "<!-- A&#45;&gt;B -->\n",
       "<g id=\"edge1\" class=\"edge\">\n",
       "<title>A&#45;&gt;B</title>\n",
       "<path fill=\"none\" stroke=\"black\" d=\"M28.5,-72.32C28.5,-64.22 28.5,-55.16 28.5,-46.84\"/>\n",
       "<polygon fill=\"black\" stroke=\"black\" points=\"32,-47.12 28.5,-37.12 25,-47.12 32,-47.12\"/>\n",
       "</g>\n",
       "</g>\n",
       "</svg>\n"
      ],
      "text/plain": [
       "<graphviz.graphs.Digraph at 0x10527b7c0>"
      ]
     },
     "metadata": {},
     "output_type": "display_data"
    }
   ],
   "source": [
    "display(graf16)"
   ]
  },
  {
   "cell_type": "markdown",
   "metadata": {},
   "source": [
    "## *(Singly) Linked List*"
   ]
  },
  {
   "cell_type": "markdown",
   "metadata": {},
   "source": [
    "*Singly-linked list* (seringkali disebut *linked list* saja) adalah semacam \"rantai\" dari *node*, di mana tiap *node* berisi 2 nilai, yaitu `data` dan `next` (yaitu *pointer* ke *node* lain). *Node* yang paling pertama itu ditunjuk oleh suatu *pointer* bernama `head`, yang menjadi awal dari *linked list*.\n",
    "\n",
    "(Terkadang, *pointer* `next` ditulis `LINK`. Artinya dan kegunaannya sama.)"
   ]
  },
  {
   "cell_type": "markdown",
   "metadata": {},
   "source": [
    "Pertama-tama, kita buat struktur *node* terlebih dahulu menggunakan `class`. (Apabila *pointer* `next` tidak menunjuk ke apapun, biasanya ditulis `NULL` atau di sini `None`.)\n",
    "\n",
    "Biasanya, di kuliah, disebutnya `class Node` atau `Node` saja. Namun, berhubung modul ini akan membahas *doubly-linked list* dengan struktur yang agak berbeda, maka *node* untuk *singly-linked list* akan kita sebut `SLNode` (*singly-linked node*) agar berbeda."
   ]
  },
  {
   "cell_type": "code",
   "execution_count": 4,
   "metadata": {},
   "outputs": [],
   "source": [
    "class SLNode:\n",
    "    def __init__(self, data, next=None):\n",
    "        self.data = data\n",
    "        self.next = next"
   ]
  },
  {
   "cell_type": "markdown",
   "metadata": {},
   "source": [
    "Kita bisa bermain-main dengan *node* ini sebagaimana yang dibahas di kuliah. Misalnya, kita buat *node* baru yang menyimpan data 15:"
   ]
  },
  {
   "cell_type": "code",
   "execution_count": 245,
   "metadata": {},
   "outputs": [],
   "source": [
    "p = SLNode(15)"
   ]
  },
  {
   "cell_type": "markdown",
   "metadata": {},
   "source": [
    "Saat ini, *node* tersebut ditunjuk oleh *pointer* yang di sini kita sebut `p`. Secara tidak langsung, kita telah membuat *linked list* dengan `head` nya adalah `p`."
   ]
  },
  {
   "cell_type": "markdown",
   "metadata": {},
   "source": [
    "Kita bisa mengakses data yang disimpan di `data` dan juga alamat yang tersimpan di `next`:"
   ]
  },
  {
   "cell_type": "code",
   "execution_count": 246,
   "metadata": {},
   "outputs": [
    {
     "name": "stdout",
     "output_type": "stream",
     "text": [
      "15\n"
     ]
    }
   ],
   "source": [
    "print(p.data)"
   ]
  },
  {
   "cell_type": "code",
   "execution_count": 247,
   "metadata": {},
   "outputs": [
    {
     "name": "stdout",
     "output_type": "stream",
     "text": [
      "None\n"
     ]
    }
   ],
   "source": [
    "print(p.next)"
   ]
  },
  {
   "cell_type": "markdown",
   "metadata": {},
   "source": [
    "Saat ini, *node* yang ditunjuk oleh `p` itu belum menunjuk ke manapun, sehingga `p.next` masih bernilai `None`."
   ]
  },
  {
   "cell_type": "markdown",
   "metadata": {},
   "source": [
    "Kita bisa melihat alamat dari *node* itu sendiri menggunakan `id`:"
   ]
  },
  {
   "cell_type": "code",
   "execution_count": 248,
   "metadata": {},
   "outputs": [
    {
     "name": "stdout",
     "output_type": "stream",
     "text": [
      "4404463888\n"
     ]
    }
   ],
   "source": [
    "print(id(p))"
   ]
  },
  {
   "cell_type": "markdown",
   "metadata": {},
   "source": [
    "Alamat ini akan selalu berbeda tiap kali kita membuat *node* baru, dan di antara dua komputer kemungkinan besar juga berbeda. Memang wajar apabila alamat yang kalian dapatkan itu berbeda dengan yang tertera di modul."
   ]
  },
  {
   "cell_type": "markdown",
   "metadata": {},
   "source": [
    "Namun, alamat biasanya ditampilkan dalam bentuk heksadesimal (*base-16*), sedangkan yang kita dapatkan dengan `id` masih berupa bilangan bulat desimal (*base-10*). Kita bisa menggunakan `hex` untuk mengubah *base-10* menjadi *base-16*:"
   ]
  },
  {
   "cell_type": "code",
   "execution_count": 249,
   "metadata": {},
   "outputs": [
    {
     "name": "stdout",
     "output_type": "stream",
     "text": [
      "0x10686c910\n"
     ]
    }
   ],
   "source": [
    "print(hex(id(p)))"
   ]
  },
  {
   "cell_type": "markdown",
   "metadata": {},
   "source": [
    "Awalan `0x` itu hanya penanda bahwa bilangannya berupa heksadesimal."
   ]
  },
  {
   "cell_type": "markdown",
   "metadata": {},
   "source": [
    "Selanjutnya, kita bisa membuat *node* baru di `p.next`, yaitu yang ditunjuk oleh `p`, sebagai berikut:"
   ]
  },
  {
   "cell_type": "code",
   "execution_count": 250,
   "metadata": {},
   "outputs": [],
   "source": [
    "p.next = SLNode(28)"
   ]
  },
  {
   "cell_type": "markdown",
   "metadata": {},
   "source": [
    "Sehingga, data 28 itu bisa diakses dari `p` seperti berikut:"
   ]
  },
  {
   "cell_type": "code",
   "execution_count": 251,
   "metadata": {},
   "outputs": [
    {
     "name": "stdout",
     "output_type": "stream",
     "text": [
      "28\n"
     ]
    }
   ],
   "source": [
    "print(p.next.data)"
   ]
  },
  {
   "cell_type": "markdown",
   "metadata": {},
   "source": [
    "Sedangkan, setelah *node* berisi 15 dan *node* berisi 28, belum ada *node* lagi, sehingga:"
   ]
  },
  {
   "cell_type": "code",
   "execution_count": 252,
   "metadata": {},
   "outputs": [
    {
     "name": "stdout",
     "output_type": "stream",
     "text": [
      "None\n"
     ]
    }
   ],
   "source": [
    "print(p.next.next)"
   ]
  },
  {
   "cell_type": "markdown",
   "metadata": {},
   "source": [
    "Mari kita buat *node* baru lagi setelah *node* berisi 28:"
   ]
  },
  {
   "cell_type": "code",
   "execution_count": 253,
   "metadata": {},
   "outputs": [],
   "source": [
    "p.next.next = SLNode(-3)"
   ]
  },
  {
   "cell_type": "markdown",
   "metadata": {},
   "source": [
    "Sehingga, kita bisa mengakses data masing-masing *node* dari `p`:"
   ]
  },
  {
   "cell_type": "code",
   "execution_count": 254,
   "metadata": {},
   "outputs": [
    {
     "name": "stdout",
     "output_type": "stream",
     "text": [
      "15\n",
      "28\n",
      "-3\n"
     ]
    }
   ],
   "source": [
    "print(p.data)\n",
    "print(p.next.data)\n",
    "print(p.next.next.data)"
   ]
  },
  {
   "cell_type": "markdown",
   "metadata": {},
   "source": [
    "Kita bisa juga membuat *pointer* baru yang menunjuk ke *node* yang sudah ada. Misalnya, kita bisa membuat *pointer* bernama `q` yang menunjuk ke *node* yang berisi 28, seperti berikut:"
   ]
  },
  {
   "cell_type": "code",
   "execution_count": 255,
   "metadata": {},
   "outputs": [],
   "source": [
    "q = p.next"
   ]
  },
  {
   "cell_type": "markdown",
   "metadata": {},
   "source": [
    "Sehingga, `p.next.next` bisa diakses dengan `q.next`:"
   ]
  },
  {
   "cell_type": "code",
   "execution_count": 256,
   "metadata": {},
   "outputs": [
    {
     "name": "stdout",
     "output_type": "stream",
     "text": [
      "-3\n",
      "-3\n"
     ]
    }
   ],
   "source": [
    "print(p.next.next.data)\n",
    "print(q.next.data)"
   ]
  },
  {
   "cell_type": "markdown",
   "metadata": {},
   "source": [
    "Bahkan, kita bisa mengubah data -3 menjadi yang lain melalui `q`, dan itu akan berubah juga jika diakses melalui `p`:"
   ]
  },
  {
   "cell_type": "code",
   "execution_count": 257,
   "metadata": {},
   "outputs": [
    {
     "name": "stdout",
     "output_type": "stream",
     "text": [
      "-63\n",
      "-63\n"
     ]
    }
   ],
   "source": [
    "q.next.data = -63\n",
    "print(q.next.data)\n",
    "print(p.next.next.data)"
   ]
  },
  {
   "cell_type": "markdown",
   "metadata": {},
   "source": [
    "Kok bisa? Karena, sesuai yang sudah kita tetapkan, `q` menunjuk ke *node* yang sama dengan `p.next`. Kita bisa periksa alamatnya:"
   ]
  },
  {
   "cell_type": "code",
   "execution_count": 258,
   "metadata": {},
   "outputs": [
    {
     "name": "stdout",
     "output_type": "stream",
     "text": [
      "0x10686d780\n",
      "0x10686d780\n"
     ]
    }
   ],
   "source": [
    "print(hex(id(q)))\n",
    "print(hex(id(p.next)))"
   ]
  },
  {
   "cell_type": "markdown",
   "metadata": {},
   "source": [
    "Sehingga alamat dari *node* yang ditunjuk oleh `q.next` akan sama dengan yang ditunjuk oleh `p.next.next`:"
   ]
  },
  {
   "cell_type": "code",
   "execution_count": 259,
   "metadata": {},
   "outputs": [
    {
     "name": "stdout",
     "output_type": "stream",
     "text": [
      "0x10686d000\n",
      "0x10686d000\n"
     ]
    }
   ],
   "source": [
    "print(hex(id(q.next)))\n",
    "print(hex(id(p.next.next)))"
   ]
  },
  {
   "cell_type": "markdown",
   "metadata": {},
   "source": [
    "Sejauh ini, kita sudah bermain dengan *node* dan membuat *linked list* secara manual. Sebenarnya, kita juga bisa membuat suatu `class` untuk suatu *linked list* secara keseluruhan. Di dalam `class` itu, kita bisa membuat atribut (variabel) yang menyimpan `head`, serta berbagai *method* (fungsi) untuk algoritma-algoritma operasi dasar yang kita pelajari di kuliah, seperti insert *node* di awal/akhir dan delete *node* di awal/akhir. Dengan begitu, kita bisa menggunakan *linked list* dengan lebih nyaman."
   ]
  },
  {
   "cell_type": "markdown",
   "metadata": {},
   "source": [
    "Kita akan menyebutnya `class SLList` (*singly-linked list*)."
   ]
  },
  {
   "cell_type": "code",
   "execution_count": 63,
   "metadata": {},
   "outputs": [],
   "source": [
    "class SLList:\n",
    "    def __init__(self):\n",
    "        self.head = None\n",
    "\n",
    "    def is_empty(self):\n",
    "        if self.head == None:\n",
    "            return True\n",
    "        else:\n",
    "            return False\n",
    "\n",
    "    # Traversal, hanya untuk menghitung banyaknya node di linked list\n",
    "    def get_size(self):\n",
    "        count = 0\n",
    "        current = self.head\n",
    "        while current != None:\n",
    "            count += 1\n",
    "            current = current.next\n",
    "        return count\n",
    "\n",
    "    # Traversal, print masing-masing data node dari awal sampai akhir\n",
    "    def print_all(self):\n",
    "        print(\"head -> \", end=\"\")\n",
    "        temp = self.head\n",
    "        while temp != None:\n",
    "            print(temp.data, end = \" -> \")\n",
    "            temp = temp.next\n",
    "        print(\"None\")\n",
    "    \n",
    "    # Traversal, semacam linear search, cari letak node dengan data tertentu\n",
    "    def get_pos(self, x):\n",
    "        pos = -1\n",
    "        current = self.head\n",
    "        while current != None:\n",
    "            pos += 1\n",
    "            if current.data == x:\n",
    "                return pos\n",
    "            current = current.next\n",
    "        return -1\n",
    "    \n",
    "    def ins_front(self, newdata):\n",
    "        newnode = SLNode(newdata)\n",
    "        newnode.next = self.head\n",
    "        self.head = newnode\n",
    "    \n",
    "    def ins_end(self, newdata):\n",
    "        newnode = SLNode(newdata)\n",
    "        if self.is_empty():\n",
    "            self.head = newnode\n",
    "        else:\n",
    "            temp = self.head\n",
    "            while temp.next != None:\n",
    "                temp = temp.next\n",
    "            \n",
    "            # sekarang temp sudah di node terakhir\n",
    "            temp.next = newnode\n",
    "    \n",
    "    def ins_pos(self, newdata, pos):\n",
    "        if pos == 0:\n",
    "            self.ins_front(newdata)\n",
    "        else:\n",
    "            current_pos = 0\n",
    "            current = self.head\n",
    "            while (current != None) and (current_pos != pos-1):\n",
    "                current = current.next\n",
    "                current_pos += 1\n",
    "            # Keluar loop, bisa karena current == None atau current_pos == pos-1\n",
    "            # Kalau karena current_pos == pos-1, bisa insert\n",
    "            if (current_pos == pos-1):\n",
    "                newnode = SLNode(newdata)\n",
    "                temp = current.next\n",
    "                current.next = newnode\n",
    "                newnode.next = temp\n",
    "            # Tapi kalau karena current == None,\n",
    "            # berarti posisi yang diminta melampaui panjang linked list\n",
    "            else:\n",
    "                print(\"Error: posisi melebihi panjang linked list\")\n",
    "    \n",
    "    def del_front(self):\n",
    "        if self.is_empty():\n",
    "            print(\"Error: linked list sudah kosong\")\n",
    "        else:\n",
    "            temp = self.head.next\n",
    "            del self.head\n",
    "            self.head = temp\n",
    "    \n",
    "    def del_end(self):\n",
    "        if self.is_empty():\n",
    "            print(\"Error: linked list sudah kosong\")\n",
    "        else:\n",
    "            temp = self.head\n",
    "            while temp.next.next != None:\n",
    "                temp = temp.next\n",
    "            \n",
    "            # sekarang temp ada di node sebelum terakhir\n",
    "            del temp.next\n",
    "            temp.next = None\n",
    "    \n",
    "    # Mirip ins_pos, hanya berbeda di bagian current_pos == pos-1\n",
    "    def del_pos(self, pos):\n",
    "        if pos == 0:\n",
    "            self.del_front()\n",
    "        else:\n",
    "            current_pos = 0\n",
    "            current = self.head\n",
    "            while (current != None) and (current_pos != pos-1):\n",
    "                current = current.next\n",
    "                current_pos += 1\n",
    "            # Keluar loop, bisa karena current == None atau current_pos == pos-1\n",
    "            # Kalau karena current_pos == pos-1, maka bisa dihapus selama \n",
    "            # current.next yang mau dihapus itu memang ada\n",
    "            if (current_pos == pos-1) and (current.next != None):\n",
    "                temp = current.next.next\n",
    "                del current.next\n",
    "                current.next = temp\n",
    "            # Tapi kalau karena current == None, atau current.next tidak ada,\n",
    "            # berarti posisi yang diminta melampaui panjang linked list\n",
    "            else:\n",
    "                print(\"Error: posisi melebihi panjang linked list\")\n",
    "\n",
    "    # Menghapus semua node di linked list\n",
    "    def del_all(self):\n",
    "        while (not self.is_empty()):\n",
    "            self.del_front()\n",
    "\n",
    "    # Method untuk memperoleh digraph yang menggambarkan linked list nya :D\n",
    "    def get_digraph(self):\n",
    "        # Buat digraph baru yang sifatnya dari kiri ke kanan\n",
    "        new_digraph = gv.Digraph(graph_attr={\"rankdir\": \"LR\"})\n",
    "        \n",
    "        # Pointer untuk menunjuk ke tiap node, mulai dari node pertama\n",
    "        # (akan dilakukan traversal)\n",
    "        current = self.head\n",
    "\n",
    "        # Untuk menghitung node ke-sekian untuk nama node di Graphviz,\n",
    "        # sehingga head menunjuk ke node0, lalu node0 menunjuk ke node1, dst\n",
    "        counter = 0\n",
    "\n",
    "        # Memperoleh alamat yang sedang disimpan di head\n",
    "        # - asumsi awal: tidak ada alamat (None)\n",
    "        next_id = None\n",
    "        next_name = \"node0\" # ini nanti untuk nama node berikutnya di Graphviz\n",
    "        # - kalau ternyata ada alamat...\n",
    "        if current != None:\n",
    "            # maka simpan alamat tersebut\n",
    "            next_id = hex(id(current))\n",
    "            # kita buat lebih spesifik untuk node berikutnya, tunjuk ke port id\n",
    "            next_name = \"node0:id\"\n",
    "        \n",
    "        # Label (tabel) untuk pointer head\n",
    "        # - pembuka tabel\n",
    "        str_label = \"<\"\n",
    "        str_label += \"<TABLE BORDER=\\\"0\\\" CELLBORDER=\\\"1\\\" CELLSPACING=\\\"0\\\">\"\n",
    "        # - baris head\n",
    "        str_label += \"<TR><TD>head</TD></TR>\"\n",
    "        # - baris alamat (sekalian membuat port namanya \"contents\")\n",
    "        str_label += \"<TR><TD PORT=\\\"contents\\\">\" + str(next_id) + \"</TD></TR>\"\n",
    "        # - penutup tabel\n",
    "        str_label += \"</TABLE>\"\n",
    "        str_label += \">\"\n",
    "\n",
    "        # Membuat node head, membuat edge dari head ke node berikutnya\n",
    "        new_digraph.node(\"head\", shape=\"none\", label=str_label)\n",
    "        new_digraph.edge(\"head:contents\", next_name)\n",
    "        # dari port \"contents\" ke node berikutnya, yang namanya next_name\n",
    "        \n",
    "        # Selama node yang ditunjuk bukan None, buatlah node nya di Graphviz,\n",
    "        # lalu lanjut ke node selanjutnya (ini traversal)\n",
    "        while current != None:\n",
    "            # Alamat yang tersimpan pada current.next\n",
    "            # - asumsi awal: tidak ada alamat; current adalah node terakhir\n",
    "            next_id = None\n",
    "            # - kalau ternyata ada alamat...\n",
    "            if current.next != None:\n",
    "                # maka simpan alamat tersebut\n",
    "                next_id = hex(id(current.next))\n",
    "            \n",
    "            # Persiapan label (tabel) untuk node\n",
    "            # - pembuka tabel\n",
    "            str_label = \"<\"\n",
    "            str_label += \"<TABLE BORDER=\\\"0\\\" CELLBORDER=\\\"1\\\" CELLSPACING=\\\"0\\\">\"\n",
    "            # - baris tulisan \"data\", \"next\"\n",
    "            str_label += \"<TR><TD>data</TD><TD>next</TD></TR>\"\n",
    "            # - baris untuk isi data dan isi next\n",
    "            str_label += \"<TR>\"\n",
    "            str_label += \"<TD>\" + str(current.data) + \"</TD>\"\n",
    "            str_label += \"<TD PORT=\\\"next\\\">\" + str(next_id) + \"</TD>\"\n",
    "            str_label += \"</TR>\"\n",
    "            # - baris tulisan \"alamat node\", merentang dua kolom\n",
    "            str_label += \"<TR><TD COLSPAN=\\\"2\\\">alamat node</TD></TR>\"\n",
    "            # - baris untuk isi alamat node, merentang dua kolom\n",
    "            str_label += \"<TR>\"\n",
    "            str_label += \"<TD PORT=\\\"id\\\" COLSPAN=\\\"2\\\">\"\n",
    "            str_label += str(hex(id(current)))\n",
    "            str_label += \"</TD>\"\n",
    "            str_label += \"</TR>\"\n",
    "            # - penutup tabel\n",
    "            str_label += \"</TABLE>\"\n",
    "            str_label += \">\"\n",
    "\n",
    "            # Membuat node baru di Graphviz dengan label (tabel) tersebut\n",
    "            new_digraph.node(\"node\" + str(counter), shape=\"none\", label = str_label)\n",
    "\n",
    "            # Menentukan nama dua port yang bakal disambung dengan edge,\n",
    "            # yaitu (node saat ini):next disambung ke node(berikutnya):id\n",
    "            # yaitu bagian \"next\" disambung ke bagian alamat di node berikutnya\n",
    "            nama_node_next = \"node\" + str(counter) + \":next\"\n",
    "            if current.next != None:\n",
    "                nama_alamat_node_berikutnya = \"node\" + str(counter+1) + \":id\"\n",
    "            # atau ke node(berikutnya) saja tanpa id kalau itu ternyata None,\n",
    "            # karena None tidak akan memiliki port id\n",
    "            else:\n",
    "                nama_alamat_node_berikutnya = \"node\" + str(counter+1)\n",
    "            \n",
    "            # Menyambung keduanya\n",
    "            new_digraph.edge(nama_node_next, nama_alamat_node_berikutnya)\n",
    "            \n",
    "            # Lanjut ke node selanjutnya\n",
    "            current = current.next\n",
    "            counter += 1\n",
    "        # Kalau sudah keluar loop, artinya current menunjuk ke None\n",
    "        # Berarti tinggal membuat \"node\" terakhir berisi tulisan None\n",
    "        # (karena sambungannya sudah dibuat di dalam loop, tinggal node nya)\n",
    "        new_digraph.node(\"node\" + str(counter), shape=\"none\", label=\"None\")\n",
    "\n",
    "        # Digraph sudah jadi\n",
    "        return new_digraph"
   ]
  },
  {
   "cell_type": "code",
   "execution_count": 81,
   "metadata": {},
   "outputs": [],
   "source": [
    "test = SLList()\n",
    "test.ins_front(5)\n",
    "test.ins_front(15)\n",
    "test.ins_front(25)\n",
    "test.ins_front(35)"
   ]
  },
  {
   "cell_type": "code",
   "execution_count": 82,
   "metadata": {},
   "outputs": [
    {
     "name": "stdout",
     "output_type": "stream",
     "text": [
      "head -> 35 -> 25 -> 15 -> 5 -> None\n"
     ]
    }
   ],
   "source": [
    "test.print_all()"
   ]
  },
  {
   "cell_type": "code",
   "execution_count": 83,
   "metadata": {},
   "outputs": [
    {
     "name": "stdout",
     "output_type": "stream",
     "text": [
      "2\n"
     ]
    }
   ],
   "source": [
    "print(test.get_pos(15))"
   ]
  },
  {
   "cell_type": "code",
   "execution_count": 84,
   "metadata": {},
   "outputs": [
    {
     "name": "stdout",
     "output_type": "stream",
     "text": [
      "-1\n"
     ]
    }
   ],
   "source": [
    "print(test.get_pos(39))"
   ]
  },
  {
   "cell_type": "code",
   "execution_count": 85,
   "metadata": {},
   "outputs": [],
   "source": [
    "test.ins_end(100)"
   ]
  },
  {
   "cell_type": "code",
   "execution_count": 86,
   "metadata": {},
   "outputs": [
    {
     "name": "stdout",
     "output_type": "stream",
     "text": [
      "head -> 35 -> 25 -> 15 -> 5 -> 100 -> None\n"
     ]
    }
   ],
   "source": [
    "test.print_all()"
   ]
  },
  {
   "cell_type": "code",
   "execution_count": 87,
   "metadata": {},
   "outputs": [],
   "source": [
    "test.del_front()\n",
    "test.del_front()"
   ]
  },
  {
   "cell_type": "code",
   "execution_count": 88,
   "metadata": {},
   "outputs": [
    {
     "name": "stdout",
     "output_type": "stream",
     "text": [
      "head -> 15 -> 5 -> 100 -> None\n"
     ]
    }
   ],
   "source": [
    "test.print_all()"
   ]
  },
  {
   "cell_type": "code",
   "execution_count": 89,
   "metadata": {},
   "outputs": [
    {
     "name": "stdout",
     "output_type": "stream",
     "text": [
      "Error: posisi melebihi panjang linked list\n"
     ]
    }
   ],
   "source": [
    "test.del_pos(3)"
   ]
  },
  {
   "cell_type": "code",
   "execution_count": 90,
   "metadata": {},
   "outputs": [],
   "source": [
    "test.del_pos(2)"
   ]
  },
  {
   "cell_type": "code",
   "execution_count": 95,
   "metadata": {},
   "outputs": [
    {
     "name": "stdout",
     "output_type": "stream",
     "text": [
      "head -> 15 -> 5 -> None\n"
     ]
    }
   ],
   "source": [
    "test.print_all()"
   ]
  },
  {
   "cell_type": "code",
   "execution_count": 96,
   "metadata": {},
   "outputs": [
    {
     "name": "stdout",
     "output_type": "stream",
     "text": [
      "Error: posisi melebihi panjang linked list\n"
     ]
    }
   ],
   "source": [
    "test.ins_pos(-42, 7)"
   ]
  },
  {
   "cell_type": "code",
   "execution_count": 97,
   "metadata": {},
   "outputs": [],
   "source": [
    "test.ins_pos(76, 1)"
   ]
  },
  {
   "cell_type": "code",
   "execution_count": 98,
   "metadata": {},
   "outputs": [
    {
     "name": "stdout",
     "output_type": "stream",
     "text": [
      "head -> 15 -> 76 -> 5 -> None\n"
     ]
    }
   ],
   "source": [
    "test.print_all()"
   ]
  },
  {
   "cell_type": "code",
   "execution_count": 99,
   "metadata": {},
   "outputs": [],
   "source": [
    "gambar = test.get_digraph()"
   ]
  },
  {
   "cell_type": "code",
   "execution_count": 100,
   "metadata": {},
   "outputs": [
    {
     "data": {
      "image/svg+xml": [
       "<?xml version=\"1.0\" encoding=\"UTF-8\" standalone=\"no\"?>\n",
       "<!DOCTYPE svg PUBLIC \"-//W3C//DTD SVG 1.1//EN\"\n",
       " \"http://www.w3.org/Graphics/SVG/1.1/DTD/svg11.dtd\">\n",
       "<!-- Generated by graphviz version 8.1.0 (20230707.0739)\n",
       " -->\n",
       "<!-- Pages: 1 -->\n",
       "<svg width=\"645pt\" height=\"193pt\"\n",
       " viewBox=\"0.00 0.00 644.66 192.80\" xmlns=\"http://www.w3.org/2000/svg\" xmlns:xlink=\"http://www.w3.org/1999/xlink\">\n",
       "<g id=\"graph0\" class=\"graph\" transform=\"scale(1 1) rotate(0) translate(4 188.8)\">\n",
       "<polygon fill=\"white\" stroke=\"none\" points=\"-4,4 -4,-188.8 640.66,-188.8 640.66,4 -4,4\"/>\n",
       "<!-- head -->\n",
       "<g id=\"node1\" class=\"node\">\n",
       "<title>head</title>\n",
       "<polygon fill=\"none\" stroke=\"black\" points=\"8,-26.8 8,-49.6 88.66,-49.6 88.66,-26.8 8,-26.8\"/>\n",
       "<text text-anchor=\"start\" x=\"35.12\" y=\"-34\" font-family=\"Times,serif\" font-size=\"14.00\">head</text>\n",
       "<polygon fill=\"none\" stroke=\"black\" points=\"8,-4 8,-26.8 88.66,-26.8 88.66,-4 8,-4\"/>\n",
       "<text text-anchor=\"start\" x=\"11\" y=\"-11.2\" font-family=\"Times,serif\" font-size=\"14.00\">0x112f60700</text>\n",
       "</g>\n",
       "<!-- node0 -->\n",
       "<g id=\"node2\" class=\"node\">\n",
       "<title>node0</title>\n",
       "<polygon fill=\"none\" stroke=\"black\" points=\"140.66,-70.8 140.66,-92.8 169.66,-92.8 169.66,-70.8 140.66,-70.8\"/>\n",
       "<text text-anchor=\"start\" x=\"143.5\" y=\"-77.2\" font-family=\"Times,serif\" font-size=\"14.00\">data</text>\n",
       "<polygon fill=\"none\" stroke=\"black\" points=\"169.66,-70.8 169.66,-92.8 247.66,-92.8 247.66,-70.8 169.66,-70.8\"/>\n",
       "<text text-anchor=\"start\" x=\"196.61\" y=\"-77.2\" font-family=\"Times,serif\" font-size=\"14.00\">next</text>\n",
       "<polygon fill=\"none\" stroke=\"black\" points=\"140.66,-48.8 140.66,-70.8 169.66,-70.8 169.66,-48.8 140.66,-48.8\"/>\n",
       "<text text-anchor=\"start\" x=\"148.16\" y=\"-55.2\" font-family=\"Times,serif\" font-size=\"14.00\">15</text>\n",
       "<polygon fill=\"none\" stroke=\"black\" points=\"169.66,-48.8 169.66,-70.8 247.66,-70.8 247.66,-48.8 169.66,-48.8\"/>\n",
       "<text text-anchor=\"start\" x=\"172.5\" y=\"-55.2\" font-family=\"Times,serif\" font-size=\"14.00\">0x112f604f0</text>\n",
       "<polygon fill=\"none\" stroke=\"black\" points=\"140.66,-26.8 140.66,-48.8 247.66,-48.8 247.66,-26.8 140.66,-26.8\"/>\n",
       "<text text-anchor=\"start\" x=\"160.15\" y=\"-33.2\" font-family=\"Times,serif\" font-size=\"14.00\">alamat node</text>\n",
       "<polygon fill=\"none\" stroke=\"black\" points=\"140.66,-4.8 140.66,-26.8 247.66,-26.8 247.66,-4.8 140.66,-4.8\"/>\n",
       "<text text-anchor=\"start\" x=\"156.83\" y=\"-11.2\" font-family=\"Times,serif\" font-size=\"14.00\">0x112f60700</text>\n",
       "</g>\n",
       "<!-- head&#45;&gt;node0 -->\n",
       "<g id=\"edge1\" class=\"edge\">\n",
       "<title>head:contents&#45;&gt;node0:id</title>\n",
       "<path fill=\"none\" stroke=\"black\" d=\"M89.33,-15.8C107.33,-15.8 114.35,-15.8 128.24,-15.8\"/>\n",
       "<polygon fill=\"black\" stroke=\"black\" points=\"128.16,-19.3 138.16,-15.8 128.16,-12.3 128.16,-19.3\"/>\n",
       "</g>\n",
       "<!-- node1 -->\n",
       "<g id=\"node3\" class=\"node\">\n",
       "<title>node1</title>\n",
       "<polygon fill=\"none\" stroke=\"black\" points=\"299.66,-114.8 299.66,-136.8 328.66,-136.8 328.66,-114.8 299.66,-114.8\"/>\n",
       "<text text-anchor=\"start\" x=\"302.5\" y=\"-121.2\" font-family=\"Times,serif\" font-size=\"14.00\">data</text>\n",
       "<polygon fill=\"none\" stroke=\"black\" points=\"328.66,-114.8 328.66,-136.8 407.66,-136.8 407.66,-114.8 328.66,-114.8\"/>\n",
       "<text text-anchor=\"start\" x=\"356.11\" y=\"-121.2\" font-family=\"Times,serif\" font-size=\"14.00\">next</text>\n",
       "<polygon fill=\"none\" stroke=\"black\" points=\"299.66,-92.8 299.66,-114.8 328.66,-114.8 328.66,-92.8 299.66,-92.8\"/>\n",
       "<text text-anchor=\"start\" x=\"307.16\" y=\"-99.2\" font-family=\"Times,serif\" font-size=\"14.00\">76</text>\n",
       "<polygon fill=\"none\" stroke=\"black\" points=\"328.66,-92.8 328.66,-114.8 407.66,-114.8 407.66,-92.8 328.66,-92.8\"/>\n",
       "<text text-anchor=\"start\" x=\"331.22\" y=\"-99.2\" font-family=\"Times,serif\" font-size=\"14.00\">0x112f606a0</text>\n",
       "<polygon fill=\"none\" stroke=\"black\" points=\"299.66,-70.8 299.66,-92.8 407.66,-92.8 407.66,-70.8 299.66,-70.8\"/>\n",
       "<text text-anchor=\"start\" x=\"319.65\" y=\"-77.2\" font-family=\"Times,serif\" font-size=\"14.00\">alamat node</text>\n",
       "<polygon fill=\"none\" stroke=\"black\" points=\"299.66,-48.8 299.66,-70.8 407.66,-70.8 407.66,-48.8 299.66,-48.8\"/>\n",
       "<text text-anchor=\"start\" x=\"317.5\" y=\"-55.2\" font-family=\"Times,serif\" font-size=\"14.00\">0x112f604f0</text>\n",
       "</g>\n",
       "<!-- node0&#45;&gt;node1 -->\n",
       "<g id=\"edge2\" class=\"edge\">\n",
       "<title>node0:next&#45;&gt;node1:id</title>\n",
       "<path fill=\"none\" stroke=\"black\" d=\"M249.16,-59.8C267.04,-59.8 274.02,-59.8 287.81,-59.8\"/>\n",
       "<polygon fill=\"black\" stroke=\"black\" points=\"287.66,-63.3 297.66,-59.8 287.66,-56.3 287.66,-63.3\"/>\n",
       "</g>\n",
       "<!-- node2 -->\n",
       "<g id=\"node4\" class=\"node\">\n",
       "<title>node2</title>\n",
       "<polygon fill=\"none\" stroke=\"black\" points=\"459.66,-158.8 459.66,-180.8 495.66,-180.8 495.66,-158.8 459.66,-158.8\"/>\n",
       "<text text-anchor=\"start\" x=\"466\" y=\"-165.2\" font-family=\"Times,serif\" font-size=\"14.00\">data</text>\n",
       "<polygon fill=\"none\" stroke=\"black\" points=\"495.66,-158.8 495.66,-180.8 538.66,-180.8 538.66,-158.8 495.66,-158.8\"/>\n",
       "<text text-anchor=\"start\" x=\"505.11\" y=\"-165.2\" font-family=\"Times,serif\" font-size=\"14.00\">next</text>\n",
       "<polygon fill=\"none\" stroke=\"black\" points=\"459.66,-136.8 459.66,-158.8 495.66,-158.8 495.66,-136.8 459.66,-136.8\"/>\n",
       "<text text-anchor=\"start\" x=\"474.16\" y=\"-143.2\" font-family=\"Times,serif\" font-size=\"14.00\">5</text>\n",
       "<polygon fill=\"none\" stroke=\"black\" points=\"495.66,-136.8 495.66,-158.8 538.66,-158.8 538.66,-136.8 495.66,-136.8\"/>\n",
       "<text text-anchor=\"start\" x=\"502\" y=\"-143.2\" font-family=\"Times,serif\" font-size=\"14.00\">None</text>\n",
       "<polygon fill=\"none\" stroke=\"black\" points=\"459.66,-114.8 459.66,-136.8 538.66,-136.8 538.66,-114.8 459.66,-114.8\"/>\n",
       "<text text-anchor=\"start\" x=\"465.15\" y=\"-121.2\" font-family=\"Times,serif\" font-size=\"14.00\">alamat node</text>\n",
       "<polygon fill=\"none\" stroke=\"black\" points=\"459.66,-92.8 459.66,-114.8 538.66,-114.8 538.66,-92.8 459.66,-92.8\"/>\n",
       "<text text-anchor=\"start\" x=\"462.22\" y=\"-99.2\" font-family=\"Times,serif\" font-size=\"14.00\">0x112f606a0</text>\n",
       "</g>\n",
       "<!-- node1&#45;&gt;node2 -->\n",
       "<g id=\"edge3\" class=\"edge\">\n",
       "<title>node1:next&#45;&gt;node2:id</title>\n",
       "<path fill=\"none\" stroke=\"black\" d=\"M408.66,-103.8C426.54,-103.8 433.52,-103.8 447.31,-103.8\"/>\n",
       "<polygon fill=\"black\" stroke=\"black\" points=\"447.16,-107.3 457.16,-103.8 447.16,-100.3 447.16,-107.3\"/>\n",
       "</g>\n",
       "<!-- node3 -->\n",
       "<g id=\"node5\" class=\"node\">\n",
       "<title>node3</title>\n",
       "<text text-anchor=\"middle\" x=\"609.66\" y=\"-143.6\" font-family=\"Times,serif\" font-size=\"14.00\">None</text>\n",
       "</g>\n",
       "<!-- node2&#45;&gt;node3 -->\n",
       "<g id=\"edge4\" class=\"edge\">\n",
       "<title>node2:next&#45;&gt;node3</title>\n",
       "<path fill=\"none\" stroke=\"black\" d=\"M540.16,-147.8C550.55,-147.8 561.83,-147.8 572.18,-147.8\"/>\n",
       "<polygon fill=\"black\" stroke=\"black\" points=\"571.96,-151.3 581.96,-147.8 571.96,-144.3 571.96,-151.3\"/>\n",
       "</g>\n",
       "</g>\n",
       "</svg>\n"
      ],
      "text/plain": [
       "<graphviz.graphs.Digraph at 0x112f600a0>"
      ]
     },
     "metadata": {},
     "output_type": "display_data"
    }
   ],
   "source": [
    "display(gambar)"
   ]
  },
  {
   "cell_type": "markdown",
   "metadata": {},
   "source": [
    "## *Doubly Linked List*"
   ]
  },
  {
   "cell_type": "code",
   "execution_count": 80,
   "metadata": {},
   "outputs": [],
   "source": [
    "class DLNode:\n",
    "    def __init__(self, data, next=None, prev=None):\n",
    "        self.data = data\n",
    "        self.next = next\n",
    "        self.prev = prev"
   ]
  },
  {
   "cell_type": "code",
   "execution_count": 122,
   "metadata": {},
   "outputs": [],
   "source": [
    "class DLList:\n",
    "    def __init__(self):\n",
    "        self.head = None\n",
    "        self.tail = None\n",
    "    \n",
    "    # Masih sama persis dengan singly linked list\n",
    "    def is_empty(self):\n",
    "        if self.head == None:\n",
    "            return True\n",
    "        else:\n",
    "            return False\n",
    "    \n",
    "    # Traversal, hanya untuk menghitung banyaknya node di linked list\n",
    "    # Masih sama persis dengan singly linked list\n",
    "    def get_size(self):\n",
    "        count = 0\n",
    "        current = self.head\n",
    "        while current != None:\n",
    "            count += 1\n",
    "            current = current.next\n",
    "        return count\n",
    "\n",
    "    # Traversal, print masing-masing data node dari awal sampai akhir\n",
    "    def print_all(self):\n",
    "        print(\"head -> \", end=\"\")\n",
    "        temp = self.head\n",
    "        while (temp != None) and (temp.next != None):\n",
    "            print(temp.data, end = \" <-> \")\n",
    "            temp = temp.next\n",
    "        # Khusus node terakhir:\n",
    "        if (temp != None) and (temp.next == None):\n",
    "            print(temp.data, end = \" <- \")\n",
    "        print(\"tail\")\n",
    "    \n",
    "    def ins_front(self, newdata):\n",
    "        newnode = DLNode(newdata)\n",
    "        newnode.next = self.head\n",
    "        if self.head != None:\n",
    "            self.head.prev = newnode\n",
    "        self.head = newnode\n",
    "        if self.tail == None: # jika tadinya doubly linked list kosong,\n",
    "            # maka newnode menjadi node pertama, ditunjuk oleh head dan tail\n",
    "            self.tail = newnode\n",
    "\n",
    "    # Berbeda dengan singly linked list, tinggal insert di tail;\n",
    "    # tidak perlu traversal\n",
    "    def ins_end(self, newdata):\n",
    "        newnode = DLNode(newdata)\n",
    "        newnode.prev = self.tail\n",
    "        if self.tail != None:\n",
    "            self.tail.next = newnode\n",
    "        self.tail = newnode\n",
    "        if self.head == None: # jika tadinya doubly linked list kosong,\n",
    "            # maka newnode menjadi node pertama, ditunjuk oleh head dan tail\n",
    "            self.head = newnode\n",
    "    \n",
    "    def ins_pos(self, newdata, pos):\n",
    "        if pos == 0:\n",
    "            self.ins_front(newdata)\n",
    "            return\n",
    "        n = self.get_size()\n",
    "        if pos == n:\n",
    "            self.ins_end(newdata)\n",
    "        elif pos > n:\n",
    "            print(\"Error: posisi melebihi panjang linked list\")\n",
    "        else:\n",
    "            current_pos = 0\n",
    "            current = self.head\n",
    "            while (current_pos != pos-1):\n",
    "                current = current.next\n",
    "                current_pos += 1\n",
    "            # Keluar loop berarti current_pos == pos-1\n",
    "            newnode = DLNode(newdata)\n",
    "            newnode.prev = current\n",
    "            newnode.next = current.next\n",
    "            current.next = newnode\n",
    "            # Sudah pasti newnode.next != None,\n",
    "            # karena kasus pos == n sudah ditangani\n",
    "            newnode.next.prev = newnode\n",
    "    \n",
    "    def del_front(self):\n",
    "        if self.is_empty():\n",
    "            print(\"Error: linked list sudah kosong\")\n",
    "        else:\n",
    "            temp = self.head.next\n",
    "            del self.head\n",
    "            self.head = temp\n",
    "            if temp != None:\n",
    "                temp.prev = None\n",
    "            else: # jika temp == None, maka self.head == None,\n",
    "                # berarti sekarang doubly linkd list kosong,\n",
    "                # sehingga tail juga menunjuk ke None\n",
    "                self.tail = None\n",
    "    \n",
    "    def del_end(self):\n",
    "        if self.is_empty():\n",
    "            print(\"Error: linked list sudah kosong\")\n",
    "        else:\n",
    "            temp = self.tail.prev\n",
    "            del self.tail\n",
    "            self.tail = temp\n",
    "            if temp != None:\n",
    "                temp.next = None\n",
    "            else: # jika temp == None, maka self.tail == None,\n",
    "                # berarti sekarang doubly linkd list kosong,\n",
    "                # sehingga head juga menunjuk ke None\n",
    "                self.head = None\n",
    "    \n",
    "    def del_pos(self, pos):\n",
    "        if pos == 0:\n",
    "            self.del_front()\n",
    "            return\n",
    "        n = self.get_size()\n",
    "        if pos == n-1:\n",
    "            self.del_end()\n",
    "        elif pos > n-1:\n",
    "            print(\"Error: posisi melebihi panjang linked list\")\n",
    "        else:\n",
    "            current_pos = 0\n",
    "            current = self.head\n",
    "            while (current_pos != pos-1):\n",
    "                current = current.next\n",
    "                current_pos += 1\n",
    "            temp = current.next.next\n",
    "            del current.next\n",
    "            current.next = temp\n",
    "            # Sudah pasti temp != None,\n",
    "            # karena kasus pos == (n-1) sudah ditangani\n",
    "            temp.prev = current\n",
    "    \n",
    "    # Method untuk memperoleh digraph yang menggambarkan linked list nya :D\n",
    "    def get_digraph(self):\n",
    "        # Buat digraph baru yang sifatnya dari kiri ke kanan\n",
    "        new_digraph = gv.Digraph(graph_attr={\"rankdir\": \"LR\"})\n",
    "        \n",
    "        # Pointer untuk menunjuk ke tiap node, mulai dari node pertama\n",
    "        # (akan dilakukan traversal)\n",
    "        current = self.head\n",
    "\n",
    "        # Untuk menghitung node ke-sekian untuk nama node di Graphviz,\n",
    "        # sehingga head menunjuk ke node0, lalu node0 menunjuk ke node1, dst\n",
    "        counter = 0\n",
    "\n",
    "        # Memperoleh alamat yang sedang disimpan di head\n",
    "        # - asumsi awal: tidak ada alamat (None)\n",
    "        next_id = None\n",
    "        next_name = \"node0\" # ini nanti untuk nama node berikutnya di Graphviz\n",
    "        # - kalau ternyata ada alamat...\n",
    "        if current != None:\n",
    "            # maka simpan alamat tersebut\n",
    "            next_id = hex(id(current))\n",
    "            # kita buat lebih spesifik untuk node berikutnya, tunjuk ke port id\n",
    "            next_name = \"node0:id\"\n",
    "        \n",
    "        # Label (tabel) untuk pointer head\n",
    "        # - pembuka tabel\n",
    "        str_label = \"<\"\n",
    "        str_label += \"<TABLE BORDER=\\\"0\\\" CELLBORDER=\\\"1\\\" CELLSPACING=\\\"0\\\">\"\n",
    "        # - baris head\n",
    "        str_label += \"<TR><TD>head</TD></TR>\"\n",
    "        # - baris alamat (sekalian membuat port namanya \"contents\")\n",
    "        str_label += \"<TR><TD PORT=\\\"contents\\\">\" + str(next_id) + \"</TD></TR>\"\n",
    "        # - penutup tabel\n",
    "        str_label += \"</TABLE>\"\n",
    "        str_label += \">\"\n",
    "\n",
    "        # Membuat node head, membuat edge dari head ke node berikutnya\n",
    "        new_digraph.node(\"head\", shape=\"none\", label=str_label)\n",
    "        new_digraph.edge(\"head:contents\", next_name)\n",
    "        # dari port \"contents\" ke node berikutnya, yang namanya next_name\n",
    "        \n",
    "        # Selama node yang ditunjuk bukan None, buatlah node nya di Graphviz,\n",
    "        # lalu lanjut ke node selanjutnya (ini traversal)\n",
    "        while current != None:\n",
    "            # Alamat yang tersimpan pada current.next\n",
    "            # - asumsi awal: tidak ada alamat; current adalah node terakhir\n",
    "            next_id = None\n",
    "            # - kalau ternyata ada alamat...\n",
    "            if current.next != None:\n",
    "                # maka simpan alamat tersebut\n",
    "                next_id = hex(id(current.next))\n",
    "\n",
    "            # serupa untuk prev\n",
    "            prev_id = None\n",
    "            if current.prev != None:\n",
    "                prev_id = hex(id(current.prev))\n",
    "            \n",
    "            # Persiapan label (tabel) untuk node\n",
    "            # - pembuka tabel\n",
    "            str_label = \"<\"\n",
    "            str_label += \"<TABLE BORDER=\\\"0\\\" CELLBORDER=\\\"1\\\" CELLSPACING=\\\"0\\\">\"\n",
    "            # - baris tulisan \"prev\", \"data\", \"next\"\n",
    "            str_label += \"<TR><TD>prev</TD><TD>data</TD><TD>next</TD></TR>\"\n",
    "            # - baris untuk isi prev, isi data, dan isi next\n",
    "            str_label += \"<TR>\"\n",
    "            str_label += \"<TD PORT=\\\"prev\\\">\" + str(prev_id) + \"</TD>\"\n",
    "            str_label += \"<TD>\" + str(current.data) + \"</TD>\"\n",
    "            str_label += \"<TD PORT=\\\"next\\\">\" + str(next_id) + \"</TD>\"\n",
    "            str_label += \"</TR>\"\n",
    "            # - baris tulisan \"alamat node\", merentang dua kolom\n",
    "            str_label += \"<TR><TD COLSPAN=\\\"3\\\">alamat node</TD></TR>\"\n",
    "            # - baris untuk isi alamat node, merentang dua kolom\n",
    "            str_label += \"<TR>\"\n",
    "            str_label += \"<TD PORT=\\\"id\\\" COLSPAN=\\\"3\\\">\"\n",
    "            str_label += str(hex(id(current)))\n",
    "            str_label += \"</TD>\"\n",
    "            str_label += \"</TR>\"\n",
    "            # - penutup tabel\n",
    "            str_label += \"</TABLE>\"\n",
    "            str_label += \">\"\n",
    "\n",
    "            # Membuat node baru di Graphviz dengan label (tabel) tersebut\n",
    "            new_digraph.node(\"node\" + str(counter), shape=\"none\", label = str_label)\n",
    "\n",
    "            # Menentukan nama dua port yang bakal disambung dengan edge,\n",
    "            # yaitu (node saat ini):next disambung ke node(berikutnya):id\n",
    "            # yaitu bagian \"next\" disambung ke bagian alamat di node berikutnya\n",
    "            nama_node_next = \"node\" + str(counter) + \":next\"\n",
    "\n",
    "            # tambahan untuk doubly linked list\n",
    "            nama_node_prev = \"node\" + str(counter) + \":prev\"\n",
    "\n",
    "            if current.next != None:\n",
    "                nama_alamat_node_berikutnya = \"node\" + str(counter+1) + \":id\"\n",
    "            # atau ke node(berikutnya) saja tanpa id kalau itu ternyata None,\n",
    "            # karena None tidak akan memiliki port id\n",
    "            else:\n",
    "                nama_alamat_node_berikutnya = \"node\" + str(counter+1)\n",
    "            \n",
    "            # Menyambung keduanya\n",
    "            new_digraph.edge(nama_node_next, nama_alamat_node_berikutnya)\n",
    "\n",
    "            # tambahan untuk doubly linked list\n",
    "            if current.prev != None:\n",
    "                nama_alamat_node_sebelumnya = \"node\" + str(counter-1) + \":id\"\n",
    "            else:\n",
    "                nama_alamat_node_sebelumnya = \"node\" + str(counter-1)\n",
    "            if current == self.head:\n",
    "                new_digraph.node(\"node-1\", shape=\"none\", label=\"None\")\n",
    "            new_digraph.edge(nama_node_prev, nama_alamat_node_sebelumnya)\n",
    "            \n",
    "            # Lanjut ke node selanjutnya\n",
    "            current = current.next\n",
    "            counter += 1\n",
    "        # Kalau sudah keluar loop, artinya current menunjuk ke None\n",
    "        # Berarti tinggal membuat \"node\" terakhir berisi tulisan None\n",
    "        # (karena sambungannya sudah dibuat di dalam loop, tinggal node nya)\n",
    "        new_digraph.node(\"node\" + str(counter), shape=\"none\", label=\"None\")\n",
    "\n",
    "        # Tambah pointer tail\n",
    "        # - asumsi awal: tidak ada alamat (None)\n",
    "        tail_id = None\n",
    "        tail_name = \"node\" + str(counter-1) # ini nanti untuk nama node tail\n",
    "        # - kalau ternyata ada alamat...\n",
    "        if self.tail != None:\n",
    "            # maka simpan alamat tersebut\n",
    "            tail_id = hex(id(self.tail))\n",
    "            # kita buat lebih spesifik untuk node berikutnya, tunjuk ke port id\n",
    "            tail_name += \":id\"\n",
    "        \n",
    "        # Label (tabel) untuk pointer tail\n",
    "        # - pembuka tabel\n",
    "        str_label = \"<\"\n",
    "        str_label += \"<TABLE BORDER=\\\"0\\\" CELLBORDER=\\\"1\\\" CELLSPACING=\\\"0\\\">\"\n",
    "        # - baris head\n",
    "        str_label += \"<TR><TD>tail</TD></TR>\"\n",
    "        # - baris alamat (sekalian membuat port namanya \"contents\")\n",
    "        str_label += \"<TR><TD PORT=\\\"contents\\\">\" + str(tail_id) + \"</TD></TR>\"\n",
    "        # - penutup tabel\n",
    "        str_label += \"</TABLE>\"\n",
    "        str_label += \">\"\n",
    "\n",
    "        # Membuat node tail, membuat edge dari tail ke node nya\n",
    "        new_digraph.node(\"tail\", shape=\"none\", label=str_label)\n",
    "        new_digraph.edge(\"tail:contents\", tail_name)\n",
    "        # dari port \"contents\" ke node yang ditunjuk tail, namanya tail_name\n",
    "\n",
    "        # Digraph sudah jadi\n",
    "        return new_digraph"
   ]
  },
  {
   "cell_type": "code",
   "execution_count": 123,
   "metadata": {},
   "outputs": [],
   "source": [
    "testDL = DLList()\n",
    "testDL.ins_front(5)\n",
    "testDL.ins_front(15)\n",
    "testDL.ins_front(25)\n",
    "testDL.ins_front(35)"
   ]
  },
  {
   "cell_type": "code",
   "execution_count": 124,
   "metadata": {},
   "outputs": [
    {
     "name": "stdout",
     "output_type": "stream",
     "text": [
      "head -> 35 <-> 25 <-> 15 <-> 5 <- tail\n"
     ]
    }
   ],
   "source": [
    "testDL.print_all()"
   ]
  },
  {
   "cell_type": "code",
   "execution_count": 125,
   "metadata": {},
   "outputs": [],
   "source": [
    "gambarDL = testDL.get_digraph()"
   ]
  },
  {
   "cell_type": "code",
   "execution_count": 126,
   "metadata": {},
   "outputs": [
    {
     "data": {
      "image/svg+xml": [
       "<?xml version=\"1.0\" encoding=\"UTF-8\" standalone=\"no\"?>\n",
       "<!DOCTYPE svg PUBLIC \"-//W3C//DTD SVG 1.1//EN\"\n",
       " \"http://www.w3.org/Graphics/SVG/1.1/DTD/svg11.dtd\">\n",
       "<!-- Generated by graphviz version 8.1.0 (20230707.0739)\n",
       " -->\n",
       "<!-- Pages: 1 -->\n",
       "<svg width=\"1065pt\" height=\"258pt\"\n",
       " viewBox=\"0.00 0.00 1064.88 257.87\" xmlns=\"http://www.w3.org/2000/svg\" xmlns:xlink=\"http://www.w3.org/1999/xlink\">\n",
       "<g id=\"graph0\" class=\"graph\" transform=\"scale(1 1) rotate(0) translate(4 253.87)\">\n",
       "<polygon fill=\"white\" stroke=\"none\" points=\"-4,4 -4,-253.87 1060.88,-253.87 1060.88,4 -4,4\"/>\n",
       "<!-- head -->\n",
       "<g id=\"node1\" class=\"node\">\n",
       "<title>head</title>\n",
       "<polygon fill=\"none\" stroke=\"black\" points=\"8,-141.8 8,-164.6 87.88,-164.6 87.88,-141.8 8,-141.8\"/>\n",
       "<text text-anchor=\"start\" x=\"34.72\" y=\"-149\" font-family=\"Times,serif\" font-size=\"14.00\">head</text>\n",
       "<polygon fill=\"none\" stroke=\"black\" points=\"8,-119 8,-141.8 87.88,-141.8 87.88,-119 8,-119\"/>\n",
       "<text text-anchor=\"start\" x=\"11\" y=\"-126.2\" font-family=\"Times,serif\" font-size=\"14.00\">0x112f3a620</text>\n",
       "</g>\n",
       "<!-- node0 -->\n",
       "<g id=\"node2\" class=\"node\">\n",
       "<title>node0</title>\n",
       "<polygon fill=\"none\" stroke=\"black\" points=\"139.88,-185.8 139.88,-207.8 175.88,-207.8 175.88,-185.8 139.88,-185.8\"/>\n",
       "<text text-anchor=\"start\" x=\"145.44\" y=\"-192.2\" font-family=\"Times,serif\" font-size=\"14.00\">prev</text>\n",
       "<polygon fill=\"none\" stroke=\"black\" points=\"175.88,-185.8 175.88,-207.8 204.88,-207.8 204.88,-185.8 175.88,-185.8\"/>\n",
       "<text text-anchor=\"start\" x=\"178.72\" y=\"-192.2\" font-family=\"Times,serif\" font-size=\"14.00\">data</text>\n",
       "<polygon fill=\"none\" stroke=\"black\" points=\"204.88,-185.8 204.88,-207.8 283.88,-207.8 283.88,-185.8 204.88,-185.8\"/>\n",
       "<text text-anchor=\"start\" x=\"232.32\" y=\"-192.2\" font-family=\"Times,serif\" font-size=\"14.00\">next</text>\n",
       "<polygon fill=\"none\" stroke=\"black\" points=\"139.88,-163.8 139.88,-185.8 175.88,-185.8 175.88,-163.8 139.88,-163.8\"/>\n",
       "<text text-anchor=\"start\" x=\"142.71\" y=\"-170.2\" font-family=\"Times,serif\" font-size=\"14.00\">None</text>\n",
       "<polygon fill=\"none\" stroke=\"black\" points=\"175.88,-163.8 175.88,-185.8 204.88,-185.8 204.88,-163.8 175.88,-163.8\"/>\n",
       "<text text-anchor=\"start\" x=\"183.38\" y=\"-170.2\" font-family=\"Times,serif\" font-size=\"14.00\">35</text>\n",
       "<polygon fill=\"none\" stroke=\"black\" points=\"204.88,-163.8 204.88,-185.8 283.88,-185.8 283.88,-163.8 204.88,-163.8\"/>\n",
       "<text text-anchor=\"start\" x=\"207.44\" y=\"-170.2\" font-family=\"Times,serif\" font-size=\"14.00\">0x112f3bbe0</text>\n",
       "<polygon fill=\"none\" stroke=\"black\" points=\"139.88,-141.8 139.88,-163.8 283.88,-163.8 283.88,-141.8 139.88,-141.8\"/>\n",
       "<text text-anchor=\"start\" x=\"177.86\" y=\"-148.2\" font-family=\"Times,serif\" font-size=\"14.00\">alamat node</text>\n",
       "<polygon fill=\"none\" stroke=\"black\" points=\"139.88,-119.8 139.88,-141.8 283.88,-141.8 283.88,-119.8 139.88,-119.8\"/>\n",
       "<text text-anchor=\"start\" x=\"174.94\" y=\"-126.2\" font-family=\"Times,serif\" font-size=\"14.00\">0x112f3a620</text>\n",
       "</g>\n",
       "<!-- head&#45;&gt;node0 -->\n",
       "<g id=\"edge1\" class=\"edge\">\n",
       "<title>head:contents&#45;&gt;node0:id</title>\n",
       "<path fill=\"none\" stroke=\"black\" d=\"M88.94,-130.8C106.97,-130.8 114.02,-130.8 127.93,-130.8\"/>\n",
       "<polygon fill=\"black\" stroke=\"black\" points=\"127.88,-134.3 137.88,-130.8 127.88,-127.3 127.88,-134.3\"/>\n",
       "</g>\n",
       "<!-- node1 -->\n",
       "<g id=\"node3\" class=\"node\">\n",
       "<title>node1</title>\n",
       "<polygon fill=\"none\" stroke=\"black\" points=\"335.88,-141.8 335.88,-163.8 414.88,-163.8 414.88,-141.8 335.88,-141.8\"/>\n",
       "<text text-anchor=\"start\" x=\"362.94\" y=\"-148.2\" font-family=\"Times,serif\" font-size=\"14.00\">prev</text>\n",
       "<polygon fill=\"none\" stroke=\"black\" points=\"414.88,-141.8 414.88,-163.8 443.88,-163.8 443.88,-141.8 414.88,-141.8\"/>\n",
       "<text text-anchor=\"start\" x=\"417.72\" y=\"-148.2\" font-family=\"Times,serif\" font-size=\"14.00\">data</text>\n",
       "<polygon fill=\"none\" stroke=\"black\" points=\"443.88,-141.8 443.88,-163.8 522.88,-163.8 522.88,-141.8 443.88,-141.8\"/>\n",
       "<text text-anchor=\"start\" x=\"471.32\" y=\"-148.2\" font-family=\"Times,serif\" font-size=\"14.00\">next</text>\n",
       "<polygon fill=\"none\" stroke=\"black\" points=\"335.88,-119.8 335.88,-141.8 414.88,-141.8 414.88,-119.8 335.88,-119.8\"/>\n",
       "<text text-anchor=\"start\" x=\"338.44\" y=\"-126.2\" font-family=\"Times,serif\" font-size=\"14.00\">0x112f3a620</text>\n",
       "<polygon fill=\"none\" stroke=\"black\" points=\"414.88,-119.8 414.88,-141.8 443.88,-141.8 443.88,-119.8 414.88,-119.8\"/>\n",
       "<text text-anchor=\"start\" x=\"422.38\" y=\"-126.2\" font-family=\"Times,serif\" font-size=\"14.00\">25</text>\n",
       "<polygon fill=\"none\" stroke=\"black\" points=\"443.88,-119.8 443.88,-141.8 522.88,-141.8 522.88,-119.8 443.88,-119.8\"/>\n",
       "<text text-anchor=\"start\" x=\"446.44\" y=\"-126.2\" font-family=\"Times,serif\" font-size=\"14.00\">0x112f3add0</text>\n",
       "<polygon fill=\"none\" stroke=\"black\" points=\"335.88,-97.8 335.88,-119.8 522.88,-119.8 522.88,-97.8 335.88,-97.8\"/>\n",
       "<text text-anchor=\"start\" x=\"395.36\" y=\"-104.2\" font-family=\"Times,serif\" font-size=\"14.00\">alamat node</text>\n",
       "<polygon fill=\"none\" stroke=\"black\" points=\"335.88,-75.8 335.88,-97.8 522.88,-97.8 522.88,-75.8 335.88,-75.8\"/>\n",
       "<text text-anchor=\"start\" x=\"392.44\" y=\"-82.2\" font-family=\"Times,serif\" font-size=\"14.00\">0x112f3bbe0</text>\n",
       "</g>\n",
       "<!-- node0&#45;&gt;node1 -->\n",
       "<g id=\"edge2\" class=\"edge\">\n",
       "<title>node0:next&#45;&gt;node1:id</title>\n",
       "<path fill=\"none\" stroke=\"black\" d=\"M284.88,-174.8C325.54,-174.8 296.3,-102.53 323.86,-88.98\"/>\n",
       "<polygon fill=\"black\" stroke=\"black\" points=\"324.29,-92.25 333.38,-86.8 322.87,-85.4 324.29,-92.25\"/>\n",
       "</g>\n",
       "<!-- node&#45;1 -->\n",
       "<g id=\"node4\" class=\"node\">\n",
       "<title>node&#45;1</title>\n",
       "<text text-anchor=\"middle\" x=\"429.38\" y=\"-199.6\" font-family=\"Times,serif\" font-size=\"14.00\">None</text>\n",
       "</g>\n",
       "<!-- node0&#45;&gt;node&#45;1 -->\n",
       "<g id=\"edge3\" class=\"edge\">\n",
       "<title>node0:prev&#45;&gt;node&#45;1</title>\n",
       "<path fill=\"none\" stroke=\"black\" d=\"M138.88,-174.8C122.43,-174.8 128.09,-200.33 139.88,-211.8 207.42,-277.54 331.48,-242.35 392.53,-219.06\"/>\n",
       "<polygon fill=\"black\" stroke=\"black\" points=\"393.43,-222.07 401.46,-215.16 390.88,-215.55 393.43,-222.07\"/>\n",
       "</g>\n",
       "<!-- node1&#45;&gt;node0 -->\n",
       "<g id=\"edge5\" class=\"edge\">\n",
       "<title>node1:prev&#45;&gt;node0:id</title>\n",
       "<path fill=\"none\" stroke=\"black\" d=\"M334.38,-130.8C316.5,-130.8 309.52,-130.8 295.73,-130.8\"/>\n",
       "<polygon fill=\"black\" stroke=\"black\" points=\"295.88,-127.3 285.88,-130.8 295.88,-134.3 295.88,-127.3\"/>\n",
       "</g>\n",
       "<!-- node2 -->\n",
       "<g id=\"node5\" class=\"node\">\n",
       "<title>node2</title>\n",
       "<polygon fill=\"none\" stroke=\"black\" points=\"574.88,-141.8 574.88,-163.8 653.88,-163.8 653.88,-141.8 574.88,-141.8\"/>\n",
       "<text text-anchor=\"start\" x=\"601.94\" y=\"-148.2\" font-family=\"Times,serif\" font-size=\"14.00\">prev</text>\n",
       "<polygon fill=\"none\" stroke=\"black\" points=\"653.88,-141.8 653.88,-163.8 682.88,-163.8 682.88,-141.8 653.88,-141.8\"/>\n",
       "<text text-anchor=\"start\" x=\"656.72\" y=\"-148.2\" font-family=\"Times,serif\" font-size=\"14.00\">data</text>\n",
       "<polygon fill=\"none\" stroke=\"black\" points=\"682.88,-141.8 682.88,-163.8 762.88,-163.8 762.88,-141.8 682.88,-141.8\"/>\n",
       "<text text-anchor=\"start\" x=\"710.82\" y=\"-148.2\" font-family=\"Times,serif\" font-size=\"14.00\">next</text>\n",
       "<polygon fill=\"none\" stroke=\"black\" points=\"574.88,-119.8 574.88,-141.8 653.88,-141.8 653.88,-119.8 574.88,-119.8\"/>\n",
       "<text text-anchor=\"start\" x=\"577.44\" y=\"-126.2\" font-family=\"Times,serif\" font-size=\"14.00\">0x112f3bbe0</text>\n",
       "<polygon fill=\"none\" stroke=\"black\" points=\"653.88,-119.8 653.88,-141.8 682.88,-141.8 682.88,-119.8 653.88,-119.8\"/>\n",
       "<text text-anchor=\"start\" x=\"661.38\" y=\"-126.2\" font-family=\"Times,serif\" font-size=\"14.00\">15</text>\n",
       "<polygon fill=\"none\" stroke=\"black\" points=\"682.88,-119.8 682.88,-141.8 762.88,-141.8 762.88,-119.8 682.88,-119.8\"/>\n",
       "<text text-anchor=\"start\" x=\"685.54\" y=\"-126.2\" font-family=\"Times,serif\" font-size=\"14.00\">0x112f3b670</text>\n",
       "<polygon fill=\"none\" stroke=\"black\" points=\"574.88,-97.8 574.88,-119.8 762.88,-119.8 762.88,-97.8 574.88,-97.8\"/>\n",
       "<text text-anchor=\"start\" x=\"634.86\" y=\"-104.2\" font-family=\"Times,serif\" font-size=\"14.00\">alamat node</text>\n",
       "<polygon fill=\"none\" stroke=\"black\" points=\"574.88,-75.8 574.88,-97.8 762.88,-97.8 762.88,-75.8 574.88,-75.8\"/>\n",
       "<text text-anchor=\"start\" x=\"631.94\" y=\"-82.2\" font-family=\"Times,serif\" font-size=\"14.00\">0x112f3add0</text>\n",
       "</g>\n",
       "<!-- node1&#45;&gt;node2 -->\n",
       "<g id=\"edge4\" class=\"edge\">\n",
       "<title>node1:next&#45;&gt;node2:id</title>\n",
       "<path fill=\"none\" stroke=\"black\" d=\"M524.38,-130.8C549.67,-130.8 546.31,-98.3 563.54,-89.17\"/>\n",
       "<polygon fill=\"black\" stroke=\"black\" points=\"563.91,-92.44 572.88,-86.8 562.35,-85.62 563.91,-92.44\"/>\n",
       "</g>\n",
       "<!-- node2&#45;&gt;node1 -->\n",
       "<g id=\"edge7\" class=\"edge\">\n",
       "<title>node2:prev&#45;&gt;node1:id</title>\n",
       "<path fill=\"none\" stroke=\"black\" d=\"M573.88,-130.8C548.58,-130.8 551.94,-98.3 534.71,-89.17\"/>\n",
       "<polygon fill=\"black\" stroke=\"black\" points=\"535.9,-85.62 525.38,-86.8 534.34,-92.44 535.9,-85.62\"/>\n",
       "</g>\n",
       "<!-- node3 -->\n",
       "<g id=\"node6\" class=\"node\">\n",
       "<title>node3</title>\n",
       "<polygon fill=\"none\" stroke=\"black\" points=\"814.88,-97.8 814.88,-119.8 893.88,-119.8 893.88,-97.8 814.88,-97.8\"/>\n",
       "<text text-anchor=\"start\" x=\"841.94\" y=\"-104.2\" font-family=\"Times,serif\" font-size=\"14.00\">prev</text>\n",
       "<polygon fill=\"none\" stroke=\"black\" points=\"893.88,-97.8 893.88,-119.8 922.88,-119.8 922.88,-97.8 893.88,-97.8\"/>\n",
       "<text text-anchor=\"start\" x=\"896.72\" y=\"-104.2\" font-family=\"Times,serif\" font-size=\"14.00\">data</text>\n",
       "<polygon fill=\"none\" stroke=\"black\" points=\"922.88,-97.8 922.88,-119.8 958.88,-119.8 958.88,-97.8 922.88,-97.8\"/>\n",
       "<text text-anchor=\"start\" x=\"928.82\" y=\"-104.2\" font-family=\"Times,serif\" font-size=\"14.00\">next</text>\n",
       "<polygon fill=\"none\" stroke=\"black\" points=\"814.88,-75.8 814.88,-97.8 893.88,-97.8 893.88,-75.8 814.88,-75.8\"/>\n",
       "<text text-anchor=\"start\" x=\"817.44\" y=\"-82.2\" font-family=\"Times,serif\" font-size=\"14.00\">0x112f3add0</text>\n",
       "<polygon fill=\"none\" stroke=\"black\" points=\"893.88,-75.8 893.88,-97.8 922.88,-97.8 922.88,-75.8 893.88,-75.8\"/>\n",
       "<text text-anchor=\"start\" x=\"904.88\" y=\"-82.2\" font-family=\"Times,serif\" font-size=\"14.00\">5</text>\n",
       "<polygon fill=\"none\" stroke=\"black\" points=\"922.88,-75.8 922.88,-97.8 958.88,-97.8 958.88,-75.8 922.88,-75.8\"/>\n",
       "<text text-anchor=\"start\" x=\"925.71\" y=\"-82.2\" font-family=\"Times,serif\" font-size=\"14.00\">None</text>\n",
       "<polygon fill=\"none\" stroke=\"black\" points=\"814.88,-53.8 814.88,-75.8 958.88,-75.8 958.88,-53.8 814.88,-53.8\"/>\n",
       "<text text-anchor=\"start\" x=\"852.86\" y=\"-60.2\" font-family=\"Times,serif\" font-size=\"14.00\">alamat node</text>\n",
       "<polygon fill=\"none\" stroke=\"black\" points=\"814.88,-31.8 814.88,-53.8 958.88,-53.8 958.88,-31.8 814.88,-31.8\"/>\n",
       "<text text-anchor=\"start\" x=\"849.54\" y=\"-38.2\" font-family=\"Times,serif\" font-size=\"14.00\">0x112f3b670</text>\n",
       "</g>\n",
       "<!-- node2&#45;&gt;node3 -->\n",
       "<g id=\"edge6\" class=\"edge\">\n",
       "<title>node2:next&#45;&gt;node3:id</title>\n",
       "<path fill=\"none\" stroke=\"black\" d=\"M763.88,-130.8C804.64,-130.8 775.64,-58.53 803.32,-44.98\"/>\n",
       "<polygon fill=\"black\" stroke=\"black\" points=\"803.79,-48.25 812.88,-42.8 802.38,-41.39 803.79,-48.25\"/>\n",
       "</g>\n",
       "<!-- node3&#45;&gt;node2 -->\n",
       "<g id=\"edge9\" class=\"edge\">\n",
       "<title>node3:prev&#45;&gt;node2:id</title>\n",
       "<path fill=\"none\" stroke=\"black\" d=\"M813.88,-86.8C795.82,-86.8 788.77,-86.8 774.84,-86.8\"/>\n",
       "<polygon fill=\"black\" stroke=\"black\" points=\"774.88,-83.3 764.88,-86.8 774.88,-90.3 774.88,-83.3\"/>\n",
       "</g>\n",
       "<!-- node4 -->\n",
       "<g id=\"node7\" class=\"node\">\n",
       "<title>node4</title>\n",
       "<text text-anchor=\"middle\" x=\"1029.88\" y=\"-82.6\" font-family=\"Times,serif\" font-size=\"14.00\">None</text>\n",
       "</g>\n",
       "<!-- node3&#45;&gt;node4 -->\n",
       "<g id=\"edge8\" class=\"edge\">\n",
       "<title>node3:next&#45;&gt;node4</title>\n",
       "<path fill=\"none\" stroke=\"black\" d=\"M959.88,-86.8C970.34,-86.8 981.71,-86.8 992.13,-86.8\"/>\n",
       "<polygon fill=\"black\" stroke=\"black\" points=\"991.99,-90.3 1001.99,-86.8 991.99,-83.3 991.99,-90.3\"/>\n",
       "</g>\n",
       "<!-- tail -->\n",
       "<g id=\"node8\" class=\"node\">\n",
       "<title>tail</title>\n",
       "<polygon fill=\"none\" stroke=\"black\" points=\"628.54,-26.8 628.54,-49.6 709.21,-49.6 709.21,-26.8 628.54,-26.8\"/>\n",
       "<text text-anchor=\"start\" x=\"659.93\" y=\"-34\" font-family=\"Times,serif\" font-size=\"14.00\">tail</text>\n",
       "<polygon fill=\"none\" stroke=\"black\" points=\"628.54,-4 628.54,-26.8 709.21,-26.8 709.21,-4 628.54,-4\"/>\n",
       "<text text-anchor=\"start\" x=\"631.54\" y=\"-11.2\" font-family=\"Times,serif\" font-size=\"14.00\">0x112f3b670</text>\n",
       "</g>\n",
       "<!-- tail&#45;&gt;node3 -->\n",
       "<g id=\"edge10\" class=\"edge\">\n",
       "<title>tail:contents&#45;&gt;node3:id</title>\n",
       "<path fill=\"none\" stroke=\"black\" d=\"M709.88,-15.8C753.9,-15.8 764.56,-38.75 803.37,-42.33\"/>\n",
       "<polygon fill=\"black\" stroke=\"black\" points=\"802.73,-45.85 812.88,-42.8 803.04,-38.86 802.73,-45.85\"/>\n",
       "</g>\n",
       "</g>\n",
       "</svg>\n"
      ],
      "text/plain": [
       "<graphviz.graphs.Digraph at 0x112f3ada0>"
      ]
     },
     "metadata": {},
     "output_type": "display_data"
    }
   ],
   "source": [
    "display(gambarDL)"
   ]
  },
  {
   "cell_type": "code",
   "execution_count": null,
   "metadata": {},
   "outputs": [],
   "source": []
  }
 ],
 "metadata": {
  "kernelspec": {
   "display_name": "Python 3",
   "language": "python",
   "name": "python3"
  },
  "language_info": {
   "codemirror_mode": {
    "name": "ipython",
    "version": 3
   },
   "file_extension": ".py",
   "mimetype": "text/x-python",
   "name": "python",
   "nbconvert_exporter": "python",
   "pygments_lexer": "ipython3",
   "version": "3.10.11"
  }
 },
 "nbformat": 4,
 "nbformat_minor": 2
}
