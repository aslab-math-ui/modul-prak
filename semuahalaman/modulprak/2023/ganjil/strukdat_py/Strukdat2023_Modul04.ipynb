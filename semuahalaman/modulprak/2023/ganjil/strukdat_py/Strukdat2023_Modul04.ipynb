{
 "cells": [
  {
   "cell_type": "markdown",
   "metadata": {},
   "source": [
    "# Modul 4 Struktur Data: Array, Searching, Sorting"
   ]
  },
  {
   "cell_type": "markdown",
   "metadata": {},
   "source": [
    "Kembali ke [Struktur Data (dengan Python)](strukdat2023.qmd)"
   ]
  },
  {
   "cell_type": "markdown",
   "metadata": {},
   "source": [
    "Pada pertemuan ini, kita akan membahas tentang operasi pada array, termasuk melihat beberapa algoritma-algoritma searching dan sorting pada array."
   ]
  },
  {
   "cell_type": "markdown",
   "metadata": {},
   "source": [
    "## Operasi pada array"
   ]
  },
  {
   "cell_type": "markdown",
   "metadata": {},
   "source": [
    "Sebagian besar pembahasan di praktikum kali ini bisa menggunakan `list` biasa atau menggunakan *array* dari `numpy`, terutama materi searching dan sorting. Namun, untuk materi operasi pada *array*, kita akan menggunakan *array* dari `numpy`."
   ]
  },
  {
   "cell_type": "code",
   "execution_count": 45,
   "metadata": {},
   "outputs": [],
   "source": [
    "import numpy as np"
   ]
  },
  {
   "cell_type": "markdown",
   "metadata": {},
   "source": [
    "### Traversal"
   ]
  },
  {
   "cell_type": "markdown",
   "metadata": {},
   "source": [
    "Traversal pada *array* adalah \"mengunjungi\" elemen *array* satu per satu, dari awal sampai akhir. Tujuannya bisa untuk print saja, atau untuk menjumlahkan, atau yang lain. Apapun tujuannya, kalau itu melibatkan mengunjungi elemen *array* satu per satu, maka itu termasuk traversal."
   ]
  },
  {
   "cell_type": "markdown",
   "metadata": {},
   "source": [
    "Kita bisa mendeklarasikan suatu *array* dengan ukurannya saja, kemudian mengisi elemennya satu-per-satu."
   ]
  },
  {
   "cell_type": "code",
   "execution_count": 49,
   "metadata": {},
   "outputs": [],
   "source": [
    "A = np.empty(5)"
   ]
  },
  {
   "cell_type": "code",
   "execution_count": 50,
   "metadata": {},
   "outputs": [
    {
     "name": "stdout",
     "output_type": "stream",
     "text": [
      "[0.  0.5 1.  1.5 2. ]\n"
     ]
    }
   ],
   "source": [
    "print(A) # isinya masih garbage value"
   ]
  },
  {
   "cell_type": "code",
   "execution_count": 51,
   "metadata": {},
   "outputs": [],
   "source": [
    "A[0] = 5\n",
    "A[1] = 20\n",
    "A[2] = -3\n",
    "A[3] = 7\n",
    "A[4] = -11"
   ]
  },
  {
   "cell_type": "code",
   "execution_count": 52,
   "metadata": {},
   "outputs": [
    {
     "name": "stdout",
     "output_type": "stream",
     "text": [
      "[  5.  20.  -3.   7. -11.]\n"
     ]
    }
   ],
   "source": [
    "print(A)"
   ]
  },
  {
   "cell_type": "markdown",
   "metadata": {},
   "source": [
    "Alternatifnya, kita bisa langsung saja menentukan elemen *array* sejak awal dibuat."
   ]
  },
  {
   "cell_type": "code",
   "execution_count": 46,
   "metadata": {},
   "outputs": [
    {
     "name": "stdout",
     "output_type": "stream",
     "text": [
      "[  5  20  -3   7 -11]\n"
     ]
    }
   ],
   "source": [
    "A = np.array([5, 20, -3, 7, -11])\n",
    "print(A)"
   ]
  },
  {
   "cell_type": "markdown",
   "metadata": {},
   "source": [
    "Berikut beberapa contoh traversal pada *array*."
   ]
  },
  {
   "cell_type": "code",
   "execution_count": 47,
   "metadata": {},
   "outputs": [
    {
     "name": "stdout",
     "output_type": "stream",
     "text": [
      "5\n",
      "20\n",
      "-3\n",
      "7\n",
      "-11\n"
     ]
    }
   ],
   "source": [
    "for i in range(0, len(A)):\n",
    "    print(A[i])"
   ]
  },
  {
   "cell_type": "code",
   "execution_count": 48,
   "metadata": {},
   "outputs": [
    {
     "name": "stdout",
     "output_type": "stream",
     "text": [
      "18\n"
     ]
    }
   ],
   "source": [
    "sum = 0\n",
    "for i in range(0, len(A)):\n",
    "    sum += A[i]\n",
    "print(sum)"
   ]
  },
  {
   "cell_type": "markdown",
   "metadata": {},
   "source": [
    "### \"Insertion\""
   ]
  },
  {
   "cell_type": "markdown",
   "metadata": {},
   "source": [
    "*Array* memiliki ukuran yang tetap. Terkadang, ketika kita membuat *array*, belum tentu keseluruhan *array* itu langsung kita gunakan semua. Bisa jadi, di awal kita hanya menggunakan sebagian saja, namun nantinya akan kita gunakan seutuhnya. Sehingga, untuk mengelola data yang kita simpan di dalam *array* (sebagai struktur data), perlu ada mekanisme \"memasukkan\" dan \"menghapus\" data pada *array*."
   ]
  },
  {
   "cell_type": "markdown",
   "metadata": {},
   "source": [
    "(Pembahasan \"insertion\" dan \"deletion\" pada *array* mungkin agak aneh, tetapi sangat masuk akal untuk berbagai struktur data yang akan kita pelajari ke depannya, sehingga kita bahas terlebih dahulu untuk *array*."
   ]
  },
  {
   "cell_type": "markdown",
   "metadata": {},
   "source": [
    "Misalkan kita hanya mendeklarasikan suatu *array*. Belum ada data yang dimasukkan, sehingga kita bisa menyimpan variabel untuk \"ukuran\" *array* saat ini adalah nol."
   ]
  },
  {
   "cell_type": "code",
   "execution_count": 60,
   "metadata": {},
   "outputs": [],
   "source": [
    "B = np.empty(5)\n",
    "B_size = 0"
   ]
  },
  {
   "cell_type": "markdown",
   "metadata": {},
   "source": [
    "Saat ini, *array* tersebut masih sepenuhnya berisi *garbage value*."
   ]
  },
  {
   "cell_type": "code",
   "execution_count": 61,
   "metadata": {},
   "outputs": [
    {
     "name": "stdout",
     "output_type": "stream",
     "text": [
      "[13. 20.  3.  7. 11.]\n"
     ]
    }
   ],
   "source": [
    "print(B)"
   ]
  },
  {
   "cell_type": "markdown",
   "metadata": {},
   "source": [
    "Kita bisa memasukkan elemen, misalnya 13, seperti berikut."
   ]
  },
  {
   "cell_type": "code",
   "execution_count": 62,
   "metadata": {},
   "outputs": [],
   "source": [
    "# insert 97\n",
    "B[B_size] = 97\n",
    "\n",
    "# update data \"ukuran\" array,\n",
    "# bertambah satu karena memasukkan satu elemen baru\n",
    "B_size += 1"
   ]
  },
  {
   "cell_type": "markdown",
   "metadata": {},
   "source": [
    "Dengan begitu, *array* menjadi seperti ini:"
   ]
  },
  {
   "cell_type": "code",
   "execution_count": 63,
   "metadata": {},
   "outputs": [
    {
     "name": "stdout",
     "output_type": "stream",
     "text": [
      "[97. 20.  3.  7. 11.]\n"
     ]
    }
   ],
   "source": [
    "print(B)"
   ]
  },
  {
   "cell_type": "markdown",
   "metadata": {},
   "source": [
    "Perhatikan nilai variabel \"ukuran\" yang kita simpan:"
   ]
  },
  {
   "cell_type": "code",
   "execution_count": 64,
   "metadata": {},
   "outputs": [
    {
     "name": "stdout",
     "output_type": "stream",
     "text": [
      "1\n"
     ]
    }
   ],
   "source": [
    "print(B_size)"
   ]
  },
  {
   "cell_type": "markdown",
   "metadata": {},
   "source": [
    "Saat ini, baru satu elemen yang kita masukkan ke dalam *array*. Sehingga, semua elemen lainnya itu tidak kita anggap, karena masih berupa *garbage value* (data sampah)."
   ]
  },
  {
   "cell_type": "code",
   "execution_count": 65,
   "metadata": {},
   "outputs": [],
   "source": [
    "# insert -17\n",
    "B[B_size] = -17\n",
    "B_size += 1"
   ]
  },
  {
   "cell_type": "code",
   "execution_count": 66,
   "metadata": {},
   "outputs": [
    {
     "name": "stdout",
     "output_type": "stream",
     "text": [
      "[ 97. -17.   3.   7.  11.]\n"
     ]
    }
   ],
   "source": [
    "print(B)"
   ]
  },
  {
   "cell_type": "code",
   "execution_count": 67,
   "metadata": {},
   "outputs": [
    {
     "name": "stdout",
     "output_type": "stream",
     "text": [
      "2\n"
     ]
    }
   ],
   "source": [
    "print(B_size)"
   ]
  },
  {
   "cell_type": "code",
   "execution_count": 68,
   "metadata": {},
   "outputs": [],
   "source": [
    "# insert 43\n",
    "B[B_size] = 43\n",
    "B_size += 1"
   ]
  },
  {
   "cell_type": "code",
   "execution_count": 69,
   "metadata": {},
   "outputs": [
    {
     "name": "stdout",
     "output_type": "stream",
     "text": [
      "[ 97. -17.  43.   7.  11.]\n"
     ]
    }
   ],
   "source": [
    "print(B)"
   ]
  },
  {
   "cell_type": "code",
   "execution_count": 70,
   "metadata": {},
   "outputs": [
    {
     "name": "stdout",
     "output_type": "stream",
     "text": [
      "3\n"
     ]
    }
   ],
   "source": [
    "print(B_size)"
   ]
  },
  {
   "cell_type": "markdown",
   "metadata": {},
   "source": [
    "### \"Deletion\""
   ]
  },
  {
   "cell_type": "markdown",
   "metadata": {},
   "source": [
    "Selain memasukkan data, kita juga bisa menghapus data. Kalau kita hanya ingin menghapus elemen \"terakhir\" (di data kita yaitu 43), maka kita tinggal \"melupakan\" elemen tersebut (sehingga statusnya menjadi *garbage value*) dengan mengurangi variabel \"ukuran\":"
   ]
  },
  {
   "cell_type": "code",
   "execution_count": 71,
   "metadata": {},
   "outputs": [],
   "source": [
    "# delete elemen \"terakhir\" (dari yang sudah kita isi)\n",
    "B_size = B_size - 1"
   ]
  },
  {
   "cell_type": "code",
   "execution_count": 72,
   "metadata": {},
   "outputs": [
    {
     "name": "stdout",
     "output_type": "stream",
     "text": [
      "[ 97. -17.  43.   7.  11.]\n"
     ]
    }
   ],
   "source": [
    "print(B)"
   ]
  },
  {
   "cell_type": "code",
   "execution_count": 73,
   "metadata": {},
   "outputs": [
    {
     "name": "stdout",
     "output_type": "stream",
     "text": [
      "2\n"
     ]
    }
   ],
   "source": [
    "print(B_size)"
   ]
  },
  {
   "cell_type": "markdown",
   "metadata": {},
   "source": [
    "Memang *array* nya tidak berubah sama sekali, tapi ini masalah mindset (hehe). Tadinya, kita mengakui bahwa *array* berisi tiga buah data yang kita simpan, tetapi sekarang kita menganggap hanya berisi dua buah data. Sehingga, data ketiga yang tadi kita anggap data, itu sekarang menjadi *garbage value* yang bukan tanggung jawab kita."
   ]
  },
  {
   "cell_type": "markdown",
   "metadata": {},
   "source": [
    "Mari kita coba insert beberapa elemen lagi."
   ]
  },
  {
   "cell_type": "code",
   "execution_count": 74,
   "metadata": {},
   "outputs": [],
   "source": [
    "# insert 53, -98, 71\n",
    "\n",
    "B[B_size] = 53\n",
    "B_size += 1\n",
    "\n",
    "B[B_size] = -98\n",
    "B_size += 1\n",
    "\n",
    "B[B_size] = 71\n",
    "B_size += 1"
   ]
  },
  {
   "cell_type": "code",
   "execution_count": 75,
   "metadata": {},
   "outputs": [
    {
     "name": "stdout",
     "output_type": "stream",
     "text": [
      "[ 97. -17.  53. -98.  71.]\n"
     ]
    }
   ],
   "source": [
    "print(B)"
   ]
  },
  {
   "cell_type": "code",
   "execution_count": 76,
   "metadata": {},
   "outputs": [
    {
     "name": "stdout",
     "output_type": "stream",
     "text": [
      "5\n"
     ]
    }
   ],
   "source": [
    "print(B_size)"
   ]
  },
  {
   "cell_type": "markdown",
   "metadata": {},
   "source": [
    "Sekarang *array* sudah penuh. Bagaimana kalau misalnya kita ingin menghapus elemen pada indeks 2 (yaitu 53)? Kita perlu menggeser elemen indeks 3 menjadi indeks 2, kemudian indeks 4 menjadi indeks 3, sehingga \"ukuran\" *array* menjadi berkurang satu (elemen terakhir menjadi *garbage value*)."
   ]
  },
  {
   "cell_type": "code",
   "execution_count": 77,
   "metadata": {},
   "outputs": [],
   "source": [
    "# delete elemen pada indeks 2\n",
    "for i in range(2, len(B)-1):\n",
    "    B[i] = B[i+1]\n",
    "B_size = B_size - 1"
   ]
  },
  {
   "cell_type": "code",
   "execution_count": 78,
   "metadata": {},
   "outputs": [
    {
     "name": "stdout",
     "output_type": "stream",
     "text": [
      "[ 97. -17. -98.  71.  71.]\n"
     ]
    }
   ],
   "source": [
    "print(B)"
   ]
  },
  {
   "cell_type": "code",
   "execution_count": 79,
   "metadata": {},
   "outputs": [
    {
     "name": "stdout",
     "output_type": "stream",
     "text": [
      "4\n"
     ]
    }
   ],
   "source": [
    "print(B_size)"
   ]
  },
  {
   "cell_type": "markdown",
   "metadata": {},
   "source": [
    "Jangan lupa, sekarang \"ukuran\" data kita hanya empat buah data, sehingga elemen terakhir di situ (yang kebetulan juga 71) adalah *garbage value* yang tidak kita anggap."
   ]
  },
  {
   "cell_type": "markdown",
   "metadata": {},
   "source": [
    "## Searching"
   ]
  },
  {
   "cell_type": "markdown",
   "metadata": {},
   "source": [
    "Algoritma searching, seperti namanya, adalah algoritma yang digunakan untuk mencari sesuatu dalam suatu list. Umumnya, algoritma semacam ini memiliki 2 input, yaitu suatu \"key\" atau elemen yang ingin dicari, dan suatu *array* atau list tempat pencarian key tersebut."
   ]
  },
  {
   "cell_type": "markdown",
   "metadata": {},
   "source": [
    "Terdapat 2 algoritma umum untuk searching, yaitu:\n",
    "\n",
    "* Linear Search\n",
    "* Binary Search"
   ]
  },
  {
   "cell_type": "markdown",
   "metadata": {},
   "source": [
    "### Linear Search"
   ]
  },
  {
   "cell_type": "markdown",
   "metadata": {},
   "source": [
    "Linear search adalah algoritma searching di mana setiap elemen pada list dibandingkan satu per satu dengan key. Pada algoritma ini, kita akan mencoba untuk mencari keberadaan key pada list, serta index dari key tersebut (jika ada). Kalau key tidak ditemukan, kita bisa return -1 (memang sudah tradisi untuk menandakan ketiadaan elemen pada *array*, lagipula mustahil ada indeks -1 pada *array*)."
   ]
  },
  {
   "cell_type": "code",
   "execution_count": 38,
   "metadata": {},
   "outputs": [],
   "source": [
    "def linear_search(arr, key):\n",
    "    for i in range(0, len(arr)):\n",
    "        if arr[i] == key:\n",
    "            return i\n",
    "\n",
    "    # sampai sini, berarti elemen tidak ditemukan\n",
    "    return -1"
   ]
  },
  {
   "cell_type": "code",
   "execution_count": 39,
   "metadata": {},
   "outputs": [
    {
     "data": {
      "text/plain": [
       "5"
      ]
     },
     "execution_count": 39,
     "metadata": {},
     "output_type": "execute_result"
    }
   ],
   "source": [
    "A = [1, 5, 2, 3, 4, 8, 7, 6, 10, 9]\n",
    "linear_search(A, 8)"
   ]
  },
  {
   "cell_type": "markdown",
   "metadata": {},
   "source": [
    "### Binary Search"
   ]
  },
  {
   "cell_type": "markdown",
   "metadata": {},
   "source": [
    "Binary search adalah algoritma searching dimana suatu list dicek apakah nilai tengahnya adalah key. Jika tidak, list dipecah dua dan searching dilanjut tergantung posisi key relatif dari nilai tengah tersebut (apakah lebih kecil atau lebih besar)."
   ]
  },
  {
   "cell_type": "code",
   "execution_count": 40,
   "metadata": {},
   "outputs": [],
   "source": [
    "def binary_search(arr, key):\n",
    "    left_idx = 0\n",
    "    right_idx = len(A)\n",
    "    found = False\n",
    "    while (not found) and (left_idx <= right_idx):\n",
    "        center_idx = int( (left_idx + right_idx) / 2 )\n",
    "        if arr[center_idx] == key:\n",
    "            return center_idx\n",
    "        elif arr[center_idx] > key:\n",
    "            right_idx = center_idx - 1\n",
    "        else:\n",
    "            left_idx = center_idx + 1\n",
    "    # keluar loop berarti tidak ditemukan\n",
    "    return -1"
   ]
  },
  {
   "cell_type": "code",
   "execution_count": 41,
   "metadata": {},
   "outputs": [
    {
     "data": {
      "text/plain": [
       "6"
      ]
     },
     "execution_count": 41,
     "metadata": {},
     "output_type": "execute_result"
    }
   ],
   "source": [
    "A = [2, 4, 6, 8, 10, 12, 14, 16, 18, 20]\n",
    "binary_search(A, 14)"
   ]
  },
  {
   "cell_type": "markdown",
   "metadata": {},
   "source": [
    "## Sorting"
   ]
  },
  {
   "cell_type": "markdown",
   "metadata": {},
   "source": [
    "Terdapat 5 algoritma umum dalam sorting yang akan dijelaskan, yaitu:\n",
    "\n",
    "* Bubble Sort\n",
    "* Insertion Sort\n",
    "* Selection Sort\n",
    "* Quick Sort\n",
    "* Merge Sort"
   ]
  },
  {
   "cell_type": "markdown",
   "metadata": {},
   "source": [
    "### Bubble Sort"
   ]
  },
  {
   "cell_type": "markdown",
   "metadata": {},
   "source": [
    "Bubble sort adalah algoritma sorting yang cara kerjanya adalah dengan membandingkan elemen yang bersebelahan secara berurutan, lalu ditukar jika urutannya salah. Bubble sort melibatkan beberapa kali \"pass\", yaitu beberapa kali melihat *array* dari awal sampai akhir."
   ]
  },
  {
   "cell_type": "markdown",
   "metadata": {},
   "source": [
    "Tentunya, bubble sort akan berhenti ketika *array* sudah terurut. Namun, bagaimana cara mengetahui apakah *array* sudah terurut? Salah satu caranya, di tiap *pass*, kita bisa menganggap *array* sudah terurut (ditandai dengan variabel *boolean*), lalu melakukan *bubble sort*, dan apabila ada elemen yang masih belum terurut, maka ketika ditukar, kita menandai *array* tersebut belum terurut. Sedangkan, apabila semua elemen sudah terurut (tidak terjadi pertukaran), variabel *boolean* tetap bernilai `True`, sehingga *array* sudah terurut dan bubble sort sudah selesai. Untuk itu, digunakan while loop."
   ]
  },
  {
   "cell_type": "code",
   "execution_count": 32,
   "metadata": {},
   "outputs": [],
   "source": [
    "def bubble_sort_while(A):\n",
    "    n = len(A)\n",
    "    # di awal, array belum terurut\n",
    "    selesai = False\n",
    "    while (not selesai):\n",
    "        # di awal pass, asumsi array sudah terurut\n",
    "        selesai = True\n",
    "        for i in range(0, n-1):\n",
    "            # jika ada elemen yang belum terurut (perlu ditukar),\n",
    "            if A[i] > A[i+1]:\n",
    "                # tandai array belum terurut\n",
    "                selesai = False\n",
    "                # lalu tukar\n",
    "                A[i], A[i+1] = A[i+1], A[i]\n",
    "        # pass selesai"
   ]
  },
  {
   "cell_type": "code",
   "execution_count": 34,
   "metadata": {},
   "outputs": [
    {
     "name": "stdout",
     "output_type": "stream",
     "text": [
      "[1, 2, 3, 4, 5, 6, 7, 8, 9, 10]\n"
     ]
    }
   ],
   "source": [
    "A = [1, 5, 2, 3, 4, 8, 7, 6, 10, 9]\n",
    "bubble_sort_while(A)\n",
    "print(A)"
   ]
  },
  {
   "cell_type": "markdown",
   "metadata": {},
   "source": [
    "Sebenarnya, banyaknya pass tidak akan melebihi $(n-1)$. Sehingga, daripada menggunakan while loop dan menandai *array*, kita bisa menggunakan for loop saja, untuk pass ke-i."
   ]
  },
  {
   "cell_type": "code",
   "execution_count": 36,
   "metadata": {},
   "outputs": [],
   "source": [
    "def bubble_sort_for(A):\n",
    "    n = len(A)\n",
    "    # Lakukan pass sebanyak (n-1) kali, yaitu pass ke-i, i=0, 1, ..., (n-2)\n",
    "    for i in range(n-1):\n",
    "        # Iterasi untuk tiap elemen ke-j, j=0, 1, ..., (n-2)\n",
    "        for j in range(n-1):\n",
    "            # Apabila elemen ke-j ternyata lebih besar daripada yang setelahnya,\n",
    "            if A[j] > A[j+1]:\n",
    "                # Maka tukar kedua elemen agar urutannya benar\n",
    "                A[j], A[j+1] = A[j+1], A[j]"
   ]
  },
  {
   "cell_type": "code",
   "execution_count": 37,
   "metadata": {},
   "outputs": [
    {
     "name": "stdout",
     "output_type": "stream",
     "text": [
      "[1, 2, 3, 4, 5, 6, 7, 8, 9, 10]\n"
     ]
    }
   ],
   "source": [
    "A = [1, 5, 2, 3, 4, 8, 7, 6, 10, 9]\n",
    "bubble_sort_for(A)\n",
    "print(A)"
   ]
  },
  {
   "cell_type": "markdown",
   "metadata": {},
   "source": [
    "### Insertion Sort"
   ]
  },
  {
   "cell_type": "markdown",
   "metadata": {},
   "source": [
    "Cara kerja dari insertion sort adalah dengan membandingkan elemen baru dengan elemen sebelumnya dan ditempatkan di tempat yang sesuai. Insertion sort mulai dari indeks ke-1, yang mana elemen pada indeks tersebut dibandingkan dengan indeks sebelumnya. Jika posisinya tidak sesuai, maka elemen ditukar, dan seterusnya hingga posisinya sesuai. Lalu iterasi dilanjutkan dengan elemen indeks ke-2, hingga elemen telah diiterasi semua."
   ]
  },
  {
   "cell_type": "code",
   "execution_count": 9,
   "metadata": {},
   "outputs": [],
   "source": [
    "def insertion_sort(A):\n",
    "    n = len(A)\n",
    "    # Untuk tiap elemen di array... (kecuali elemen paling pertama, indeks 0)\n",
    "    for i in range(1, n):\n",
    "        j = i\n",
    "        # Selama elemen itu lebih kecil daripada elemen di sebelah kirinya,\n",
    "        # tukar (geser elemen itu ke sebelah kirinya) agar menjadi terurut\n",
    "        while A[j] < A[j-1]:\n",
    "            A[j], A[j-1] = A[j-1], A[j]\n",
    "            j -= 1 # j berkurang karena bergeser ke kiri\n",
    "            # Kalau elemen sudah di ujung kiri array,\n",
    "            # udah ga ada elemen di sebelah kirinya lagi, jadi keluar aja\n",
    "            if j == 0:\n",
    "                break"
   ]
  },
  {
   "cell_type": "code",
   "execution_count": 10,
   "metadata": {},
   "outputs": [
    {
     "data": {
      "text/plain": [
       "[1, 2, 3, 4, 5, 6, 7, 8, 9, 10]"
      ]
     },
     "execution_count": 10,
     "metadata": {},
     "output_type": "execute_result"
    }
   ],
   "source": [
    "A = [1, 5, 2, 3, 4, 8, 7, 6, 10, 9]\n",
    "insertion_sort(A)"
   ]
  },
  {
   "cell_type": "markdown",
   "metadata": {},
   "source": [
    "### Selection Sort"
   ]
  },
  {
   "cell_type": "markdown",
   "metadata": {},
   "source": [
    "Selection sort melakukan sorting dengan memasukkan nilai minimum dari suatu list. Jika diberikan suatu list $A[0..(n-1)]$, maka algoritma mencari nilai minimum dari $A[0..(n-1)]$, lalu ditukar dengan elemen $A[0]$. Selanjutnya algoritma mencari nilai minimum dari $A[1..(n-1)]$, lalu ditukar dengan elemen $A[1]$, dan seterusnya."
   ]
  },
  {
   "cell_type": "code",
   "execution_count": 11,
   "metadata": {},
   "outputs": [],
   "source": [
    "def selection_sort(A):\n",
    "    n = len(A)\n",
    "    # Untuk tiap elemen ke-i, akan ditukarkan dengan elemen minimum yang\n",
    "    # ada di sebelah kanannya\n",
    "    for i in range(n-1):\n",
    "        # Asumsi awal: elemen yang sedang dilihat (elemen ke-i) adalah minimum\n",
    "        min_idx = i\n",
    "        min_val = A[min_idx]\n",
    "\n",
    "        # Periksa masing-masing elemen selanjutnya...\n",
    "        for j in range(i+1, n):\n",
    "            # Kalau ternyata ketemu elemen yang lebih kecil lagi...\n",
    "            if A[j] < min_val:\n",
    "                # ... maka itu menjadi minimum yang terbaru\n",
    "                min_val = A[j]\n",
    "                min_idx = j\n",
    "        # Ketika keluar for loop, sudah diperoleh elemen minimum sesungguhnya\n",
    "        # Tukar elemen minimum dengan elemen ke-i\n",
    "        A[i], A[min_idx] = A[min_idx], A[i]"
   ]
  },
  {
   "cell_type": "code",
   "execution_count": 12,
   "metadata": {},
   "outputs": [
    {
     "data": {
      "text/plain": [
       "[1, 2, 3, 4, 5, 6, 7, 8, 9, 10]"
      ]
     },
     "execution_count": 12,
     "metadata": {},
     "output_type": "execute_result"
    }
   ],
   "source": [
    "A = [1, 5, 2, 3, 4, 8, 7, 6, 10, 9]\n",
    "selection_sort(A)"
   ]
  },
  {
   "cell_type": "markdown",
   "metadata": {},
   "source": [
    "### Merge Sort"
   ]
  },
  {
   "cell_type": "markdown",
   "metadata": {},
   "source": [
    "Merge sort melakukan sort dengan memecah list menjadi dua secara rekursif. Lalu sorting dilakukan dengan melakukan merge pada hasil pecahan list. Merge adalah proses pada dua list yang menyatukan dua list terurut menjadi satu list terurut. Merge dilakukan hingga list utuh kembali."
   ]
  },
  {
   "cell_type": "code",
   "execution_count": 80,
   "metadata": {},
   "outputs": [],
   "source": [
    "def merge_sort(A):\n",
    "    n = len(A)\n",
    "    # Seandainya hanya berisi satu elemen, tidak perlu dilakukan apa-apa\n",
    "    if len(A) > 1:\n",
    "        # indeks middle (elemen tengah)\n",
    "        m = int(n/2)\n",
    "        # Array A dipisah menjadi A1 (sebelah kiri) dan A2 (sebelah kanan)\n",
    "        A1 = A[:m]\n",
    "        A2 = A[m:]\n",
    "        # Lakukan merge sort pada keduanya\n",
    "        merge_sort(A1)\n",
    "        merge_sort(A2)\n",
    "\n",
    "        # Di bawah ini adalah proses penggabungan dari A1 dan A2 yang\n",
    "        # masing-masing sudah terurut\n",
    "\n",
    "        i = 0 # indeks untuk A1\n",
    "        j = 0 # indeks untuk A2\n",
    "        k = 0 # indeks untuk array/list baru yang nantinya sudah terurut\n",
    "\n",
    "        # Loop selama kedua array masih punya elemen yang\n",
    "        # belum dimasukkan ke array/list baru\n",
    "        while i < len(A1) and j < len(A2):\n",
    "            # Kalau ternyata elemen pada A1 yang lebih kecil...\n",
    "            if A1[i] <= A2[j]:\n",
    "                # ... maka itulah yang dimasukkan ke array/list baru\n",
    "                A[k] = A1[i]\n",
    "                i += 1 # lanjut ke elemen berikutnya untuk A1\n",
    "            # Selain itu, berarti elemen pada A2 yang lebih kecil...\n",
    "            else:\n",
    "                # ... maka itulah yang dimasukkan\n",
    "                A[k] = A2[j]\n",
    "                j += 1 # lanjut ke elemen berikutnya untuk A2\n",
    "            # Ukuran array baru sudah bertambah satu\n",
    "            k += 1\n",
    "        # Keluar loop, berarti salah satu array sudah habis\n",
    "        # Ada dua kemungkinan, yaitu A1 yang belum habis, atau A2 yang belum.\n",
    "        # Sehingga keduanya perlu \"dihabiskan\"\n",
    "        \n",
    "        # Menghabiskan A1 kalau belum habis\n",
    "        while i < len(A1):\n",
    "            A[k] = A1[i]\n",
    "            i += 1\n",
    "            k += 1\n",
    "        \n",
    "        # Menghabiskan A2 kalau belum habis\n",
    "        while j < len(A2):\n",
    "            A[k] = A2[j]\n",
    "            j += 1\n",
    "            k += 1"
   ]
  },
  {
   "cell_type": "code",
   "execution_count": 81,
   "metadata": {},
   "outputs": [
    {
     "name": "stdout",
     "output_type": "stream",
     "text": [
      "[1, 2, 3, 4, 5, 6, 7, 8, 9, 10]\n"
     ]
    }
   ],
   "source": [
    "A = [1, 5, 2, 3, 4, 8, 7, 6, 10, 9]\n",
    "merge_sort(A)\n",
    "print(A)"
   ]
  },
  {
   "cell_type": "markdown",
   "metadata": {},
   "source": [
    "### Quicksort"
   ]
  },
  {
   "cell_type": "markdown",
   "metadata": {},
   "source": [
    "Secara keseluruhan, algoritma quicksort (yang bersifat rekursif) terdiri dari langkah berikut:\n",
    "\n",
    "1. Apabila *array* kosong atau terdiri dari satu elemen, sorting selesai. Selain itu, lanjut ke langkah berikut.\n",
    "\n",
    "2. Pilih salah satu elemen di *array* sebagai \"pivot\" (Bebas, yang penting konsisten. Biasanya elemen pertama. Kemungkinan lain: elemen tengah, elemen terakhir, dsb)\n",
    "\n",
    "3. Lakukan \"partisi\", yaitu proses yang membuat kondisi *array* menjadi seperti berikut:\n",
    "\n",
    "```\n",
    "-----------------------------------------------------------\n",
    "| semua elemen yang      | pivot | semua elemen yang      |\n",
    "| lebih kecil dari pivot |       | lebih besar dari pivot |\n",
    "-----------------------------------------------------------\n",
    "```\n",
    "\n",
    "4. Lakukan *quicksort* pada sebelah kiri pivot dan pada sebelah kanan pivot.\n",
    "\n",
    "Untuk proses \"partisi\", ada dua cara utama untuk melakukannya (algoritma partisi), yaitu algoritma partisi Hoare dan algoritma partisi Lomuto."
   ]
  },
  {
   "cell_type": "markdown",
   "metadata": {},
   "source": [
    "#### Quicksort dengan partisi Hoare"
   ]
  },
  {
   "cell_type": "code",
   "execution_count": 17,
   "metadata": {},
   "outputs": [],
   "source": [
    "def partition_hoare(A, left_idx, right_idx):\n",
    "    # Buat \"pointer\" low dan high (simpan indeksnya saja)\n",
    "    low_idx = left_idx\n",
    "    high_idx = right_idx\n",
    "\n",
    "    # Diasumsikan array sudah terpartisi dengan baik (padahal belom hehe),\n",
    "    # - tugas low adalah memeriksa dari kiri (apakah benar sudah dipartisi),\n",
    "    # - tugas high adalah memeriksa dari kanan.\n",
    "    # Sudah terpartisi artinya:\n",
    "    # - sebelah kiri pivot adalah yang lebih kecil dari pivot\n",
    "    # - sebelah kanan pivot adalah yang lebih besar dari pivot\n",
    "\n",
    "    # Pilih indeks pivot, bebas, misal elemen paling pertama (paling kiri)\n",
    "    pivot_idx = left_idx\n",
    "    pivot_val = A[pivot_idx]\n",
    "\n",
    "    # Loop selama low belum melewati high\n",
    "    # (syarat ini sangat penting, hingga diperiksa berkali-kali)\n",
    "    while low_idx <= high_idx:\n",
    "\n",
    "        # low lanjut ke kanan hingga menemukan elemen yang posisinya salah,\n",
    "        # yaitu elemen yang nilainya lebih besar dari pivot\n",
    "        while (low_idx <= high_idx) and not (A[low_idx] > pivot_val):\n",
    "            low_idx += 1\n",
    "\n",
    "        # high lanjut ke kiri hingga menemukan elemen yang posisinya salah,\n",
    "        # yaitu elemen yang nilainya lebih kecil dari pivot\n",
    "        while (low_idx <= high_idx) and not (A[high_idx] < pivot_val):\n",
    "            high_idx -= 1\n",
    "\n",
    "        # low dan high sama-sama menunjuk pada elemen yang posisinya salah,\n",
    "        # keduanya akan menjadi benar kalau posisinya ditukar\n",
    "        if low_idx <= high_idx:\n",
    "            A[low_idx], A[high_idx] = A[high_idx], A[low_idx]\n",
    "\n",
    "            # Apabila elemen pivot ternyata ikut ditukar,\n",
    "            # pastikan data posisinya (pivot_idx) di-update.\n",
    "            if pivot_idx == low_idx: # Apabila tadinya pivot di low,\n",
    "                pivot_idx = high_idx # maka sekarang pivot di high.\n",
    "            elif pivot_idx == high_idx: # Namun apabila tadinya pivot di high,\n",
    "                pivot_idx = low_idx # maka sekarang pivot di low.\n",
    "    \n",
    "    # Kalau sudah keluar loop, berarti low sudah melewati high;\n",
    "    # Sudah ketemu garis baginya, yaitu antara low dan high.\n",
    "    # Saat ini, sebelah kiri garis bagi sudah lebih kecil dari pivot,\n",
    "    # dan sebelah kanan garis bagi sudah lebih besar dari pivot.\n",
    "    # Sekarang kita tinggal menempatkan pivot pada garis bagi tersebut\n",
    "\n",
    "    # Tukar pivot dengan high kalau pivot di sebelah kiri high,\n",
    "    if pivot_idx <= high_idx:\n",
    "        A[pivot_idx], A[high_idx] = A[high_idx], A[pivot_idx]\n",
    "        pivot_idx = high_idx\n",
    "    \n",
    "    # atau tukar pivot dengan low kalau pivot di sebelah kanan low\n",
    "    else:\n",
    "        A[pivot_idx], A[low_idx] = A[low_idx], A[pivot_idx]\n",
    "        pivot_idx = low_idx\n",
    "    \n",
    "    # Partisi sudah selesai, return posisi pivot\n",
    "    # supaya jadi tahu di mana garis baginya\n",
    "    return pivot_idx"
   ]
  },
  {
   "cell_type": "code",
   "execution_count": 15,
   "metadata": {},
   "outputs": [],
   "source": [
    "def quicksort_hoare(A, left_idx=None, right_idx=None):\n",
    "    # Kalau left_idx dan right_idx tidak diinput, otomatis menjadi None\n",
    "    # dan kalau begitu, berarti sebenarnya quicksort mau dilakukan pada\n",
    "    # keseluruhan array, sehingga ujung kiri adalah indeks 0 dan\n",
    "    # ujung kanan adalah indeks terakhir (n-1 di mana n adalah panjang array)\n",
    "    if left_idx == None:\n",
    "        left_idx = 0\n",
    "    if right_idx == None:\n",
    "        right_idx = len(A) - 1\n",
    "    \n",
    "    # Ada if statement untuk memastikan ujung kiri dan ujung kanan masih wajar.\n",
    "    if left_idx < right_idx:\n",
    "        pivot_idx = partition_hoare(A, left_idx, right_idx)\n",
    "        quicksort_hoare(A, left_idx, pivot_idx-1)\n",
    "        quicksort_hoare(A, pivot_idx+1, right_idx)\n",
    "    # Kalau sewaktu-waktu menjadi tidak wajar, berarti array kosong, berarti\n",
    "    # quicksort sudah selesai dan tidak perlu dilakukan apa-apa lagi"
   ]
  },
  {
   "cell_type": "code",
   "execution_count": 16,
   "metadata": {},
   "outputs": [
    {
     "name": "stdout",
     "output_type": "stream",
     "text": [
      "[1, 2, 3, 4, 5, 6, 7, 8, 9, 10]\n"
     ]
    }
   ],
   "source": [
    "A = [1, 5, 2, 3, 4, 8, 7, 6, 10, 9]\n",
    "quicksort_hoare(A)\n",
    "print(A)"
   ]
  },
  {
   "cell_type": "markdown",
   "metadata": {},
   "source": [
    "#### Quicksort dengan partisi Lomuto"
   ]
  },
  {
   "cell_type": "code",
   "execution_count": 29,
   "metadata": {},
   "outputs": [],
   "source": [
    "def partition_lomuto(A, left_idx, right_idx):\n",
    "    # Pilih elemen pivot, sepertinya untuk Lomuto harus elemen terakhir\n",
    "    pivot_idx = right_idx\n",
    "    pivot_val = A[pivot_idx]\n",
    "\n",
    "    # Asumsi awal: semua elemen lebih besar dari nilai pivot,\n",
    "    # sehingga \"separator\" atau \"garis pemisah\" ada di ujung kiri,\n",
    "    # bahkan di sebelah kiri elemen pertama\n",
    "    sep = left_idx - 1\n",
    "\n",
    "    # Periksa tiap elemen...\n",
    "    for j in range(left_idx, right_idx):\n",
    "        # Kalau ternyata ada elemen yang tidak lebih besar dari pivot...\n",
    "        if A[j] <= pivot_val:\n",
    "            # Majukan garis pemisah...\n",
    "            sep = sep + 1\n",
    "            # Lalu tukar elemen itu (yang seharusnya di sebelah kiri pivot),\n",
    "            # agar menjadi di (sebelah kiri) garis pemisah\n",
    "            A[sep], A[j] = A[j], A[sep]\n",
    "            # Nantinya, pivot akan diletakkan di posisi indeks sep+1.\n",
    "            # Data indeks \"sep\" menunjuk pada indeks terakhir yang\n",
    "            # elemennya lebih kecil dari pivot.\n",
    "    \n",
    "    # Keluar for loop, sekarang semua elemen sudah diperiksa,\n",
    "    # indeks sep menunjuk pada elemen terakhir yang lebih kecil dari pivot.\n",
    "    # Maka, pivot bisa diletakkan di posisi sep+1.\n",
    "    # Tukar elemen pivot dengan elemen apapun yang sedang di sep+1.\n",
    "    A[sep+1], A[pivot_idx] = A[pivot_idx], A[sep+1]\n",
    "    # Sekarang, pivot ada di sep+1\n",
    "    pivot_idx = sep+1\n",
    "\n",
    "    # Partisi sudah selesai, return posisi pivot\n",
    "    # supaya jadi tahu di mana garis baginya\n",
    "    return pivot_idx"
   ]
  },
  {
   "cell_type": "code",
   "execution_count": 30,
   "metadata": {},
   "outputs": [],
   "source": [
    "def quicksort_lomuto(A, left_idx=None, right_idx=None):\n",
    "    if left_idx == None:\n",
    "        left_idx = 0\n",
    "    if right_idx == None:\n",
    "        right_idx = len(A) - 1\n",
    "\n",
    "    if left_idx < right_idx:\n",
    "        pivot_idx = partition_lomuto(A, left_idx, right_idx)\n",
    "        quicksort_lomuto(A, left_idx, pivot_idx - 1)\n",
    "        quicksort_lomuto(A, pivot_idx + 1, right_idx)"
   ]
  },
  {
   "cell_type": "code",
   "execution_count": 31,
   "metadata": {},
   "outputs": [
    {
     "name": "stdout",
     "output_type": "stream",
     "text": [
      "[1, 2, 3, 4, 5, 6, 7, 8, 9, 10]\n"
     ]
    }
   ],
   "source": [
    "A = [1, 5, 2, 3, 4, 8, 7, 6, 10, 9]\n",
    "quicksort_lomuto(A)\n",
    "print(A)"
   ]
  },
  {
   "cell_type": "markdown",
   "metadata": {},
   "source": [
    "Perhatikan bahwa, meskipun algoritma partisi Hoare dan partisi Lomuto sangat berbeda, ketika di fungsi `quicksort` (`quicksort_hoare` dan `quicksort_lomuto`), kodenya sama, hanya berbeda di fungsi partisi yang digunakan."
   ]
  },
  {
   "cell_type": "markdown",
   "metadata": {},
   "source": []
  }
 ],
 "metadata": {
  "kernelspec": {
   "display_name": "Python 3",
   "language": "python",
   "name": "python3"
  },
  "language_info": {
   "codemirror_mode": {
    "name": "ipython",
    "version": 3
   },
   "file_extension": ".py",
   "mimetype": "text/x-python",
   "name": "python",
   "nbconvert_exporter": "python",
   "pygments_lexer": "ipython3",
   "version": "3.10.11"
  },
  "orig_nbformat": 4
 },
 "nbformat": 4,
 "nbformat_minor": 2
}
