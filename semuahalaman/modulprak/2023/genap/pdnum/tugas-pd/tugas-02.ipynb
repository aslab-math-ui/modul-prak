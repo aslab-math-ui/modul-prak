{
 "cells": [
  {
   "cell_type": "markdown",
   "id": "aaee2572",
   "metadata": {},
   "source": [
    "# Tugas Praktikum 2 PD Numerik"
   ]
  },
  {
   "cell_type": "markdown",
   "id": "8514480e",
   "metadata": {},
   "source": [
    "Kembali ke [Persamaan Diferensial Numerik](../pdnum2023.qmd)"
   ]
  },
  {
   "attachments": {},
   "cell_type": "markdown",
   "id": "8ef37876",
   "metadata": {},
   "source": [
    "## Petunjuk Pengumpulan Tugas\n",
    "\n",
    "1. Tugas ini dikerjakan secara individu.\n",
    "\n",
    "2. Terdapat satu (1) soal yang harus dijawab.\n",
    "\n",
    "3. File yang harus diunggah terdiri dari:\n",
    "    \n",
    "    a. beberapa function file sesuai kebutuhan. Penamaan untuk function file dibebaskan, selama masih relevan dengan isi fungsinya (dilarang menamakan function file \"adamsorde5.m\" jika isinya adalah metode Runge-Kutta).\n",
    "\n",
    "    b. satu (1) script file untuk jawaban. Penamaannya adalah \"soal.m\" untuk soal yang diberikan.\n",
    "\n",
    "    c. satu (1) file PDF untuk penjelasan keseluruhan soal. Penjelasan diketik dalam Word atau sejenisnya dengan format penamaan \"Penjelasan.pdf\".\n",
    "\n",
    "\n",
    "4. Semua file disatukan dalam satu file .zip dengan format penamaan:\n",
    "\n",
    "    [Nama]\\_[NPM]\\_[Kelas SIAK]_Tugas 2_Prak PDNum.zip\n",
    "\n",
    "    Contoh: \"Cristiano-Ronaldo_2101234567_C_Tugas 2_Prak PDNum.zip\"\n",
    "\n",
    "\n",
    "5. Batas pengumpulan tugas ini adalah Minggu, 16 April 2023, pukul 23.59 WIB.\n",
    "\n",
    "    Tugas dikumpulkan melalui gform sesuai dengan kelas masing-masing:\n",
    "\n",
    "    Link:  [https://bit.ly/Tugas2PrakPDNum](https://bit.ly/Tugas2PrakPDNum)\n",
    "    (akses menggunakan akun @sci atau @ui)\n",
    "\n",
    "\n",
    "6. Dilarang melakukan **plagiarisme**. Jika terdapat mahasisya yang terindikasi melakukan plagiarisme, **maka mahasiswa tersebut memperoleh nilai 0** untuk tugas ini.\n",
    "\n",
    "7. Apabila ada yang ingin ditanyakan anda dapat bertanya pada kolom komentar atau, silakan mengontak salah satu kontak berikut:\n",
    "    * LINE: iamjustin10 (Justin)"
   ]
  },
  {
   "cell_type": "markdown",
   "id": "200b7b9b",
   "metadata": {},
   "source": [
    "## Soal\n",
    "\n",
    "Arthur adalah seorang pelajar yang menyukai matematika dan pemrograman. Suatu hari, saat Arthur sedang membaca kitab Burden, dia menemukan algoritma Adams predictor-corrector dan menyadari jika cara kerja dari metode tersebut merupakan gabungan dari metode one-step Runge-Kutta orde 4, metode multistep eksplisit Adams-Bashforth 4-step, dan metode multistep implisit Adams-Moulton 3-step.\n",
    "\n",
    "Arthur penasaran apakah metode predictor-corrector ini bisa dibuat dengan metode yang berbeda dari jenis yang sama. Dia pun mencoba mengubah metode multistep eksplisit dan implisitnya dengan Adams-Bashforth 5-step dan Adams-Moulton 4-step, dengan harapan aproksimasinya akan lebih akurat.\n",
    "\n",
    "Bantulah Arthur dalam membuat algoritma dari metode buatannya, dan bandingkan dengan metode Adams predictor-corrector sebelumnya. Ujilah menggunakan IVP:\n",
    "\n",
    "$y^{\\prime}=y-t^2+1,\\; 0\\leq t\\leq2,\\; y(0)=0.5$\n",
    "\n",
    "dengan stepsize $h=0.1$, jika diketahui solusi eksak dari IVP tersebut adalah\n",
    "\n",
    "$y(t)=(t+1)^2-0.5 e^t$"
   ]
  }
 ],
 "metadata": {
  "kernelspec": {
   "display_name": "Python 3 (ipykernel)",
   "language": "python",
   "name": "python3"
  },
  "language_info": {
   "codemirror_mode": {
    "name": "ipython",
    "version": 3
   },
   "file_extension": ".py",
   "mimetype": "text/x-python",
   "name": "python",
   "nbconvert_exporter": "python",
   "pygments_lexer": "ipython3",
   "version": "3.9.12"
  }
 },
 "nbformat": 4,
 "nbformat_minor": 5
}
