{
 "cells": [
  {
   "attachments": {},
   "cell_type": "markdown",
   "metadata": {},
   "source": [
    "# Week-05 (Finite Difference Methods)"
   ]
  },
  {
   "cell_type": "markdown",
   "metadata": {},
   "source": [
    "Kembali ke [Persamaan Diferensial Numerik](../pdnum2023.qmd)"
   ]
  },
  {
   "attachments": {},
   "cell_type": "markdown",
   "metadata": {},
   "source": [
    "yang akan dibahas\n",
    "- Metode Beda Hingga untuk Masalah Linear\n",
    "\n",
    "- Metode Beda Hingga untuk Masalah Nonlinear\n"
   ]
  },
  {
   "attachments": {},
   "cell_type": "markdown",
   "metadata": {},
   "source": [
    "Metode ini digunakan untuk mengaproksimasi masalah linear dalam bentuk:"
   ]
  },
  {
   "attachments": {},
   "cell_type": "markdown",
   "metadata": {},
   "source": [
    "\\begin{gathered}\n",
    "y^{\\prime \\prime}=p(x) y^{\\prime}+q(x) y+r(x), \\quad a \\leq x \\leq b \\\\\n",
    "y(a)=\\alpha, y(b)=\\beta\n",
    "\\end{gathered}"
   ]
  },
  {
   "attachments": {},
   "cell_type": "markdown",
   "metadata": {},
   "source": [
    "\\begin{gathered}\n",
    "w_{0}=\\alpha, \\quad w_{n+1}=\\beta \\\\\n",
    "-\\left(1+\\frac{h}{2} p\\left(x_{i}\\right)\\right) w_{i-1}+\\left(2+h^{2} q\\left(x_{i}\\right)\\right) w_{i}-\\left(1-\\frac{h}{2} p\\left(x_{i}\\right)\\right) w_{i+1}=-h^{2} r\\left(x_{i}\\right)\n",
    "\\end{gathered}"
   ]
  },
  {
   "attachments": {},
   "cell_type": "markdown",
   "metadata": {},
   "source": [
    "Bentuk tersebut dapat dibuat sebagai suatu SPL:"
   ]
  },
  {
   "attachments": {},
   "cell_type": "markdown",
   "metadata": {},
   "source": [
    "$$\n",
    "A \\mathbf{w}=\\mathbf{b}\n",
    "$$"
   ]
  },
  {
   "attachments": {},
   "cell_type": "markdown",
   "metadata": {},
   "source": [
    "![](https://cdn.mathpix.com/cropped/2023_05_03_72187752d33b9e46c1d0g-1.jpg?height=519&width=1539&top_left_y=1508&top_left_x=384)"
   ]
  },
  {
   "attachments": {},
   "cell_type": "markdown",
   "metadata": {},
   "source": [
    "$\\mathbf{w}=\\left[\\begin{array}{c}w_{1} \\\\ w_{2} \\\\ \\vdots \\\\ w_{N-1} \\\\ w_{N}\\end{array}\\right], \\quad$ and $\\quad \\mathbf{b}=\\left[\\begin{array}{c}-h^{2} r\\left(x_{1}\\right)+\\left(1+\\frac{h}{2} p\\left(x_{1}\\right)\\right) w_{0} \\\\ -h^{2} r\\left(x_{2}\\right) \\\\ \\vdots \\\\ -h^{2} r\\left(x_{N-1}\\right) \\\\ -h^{2} r\\left(x_{N}\\right)+\\left(1-\\frac{h}{2} p\\left(x_{N}\\right)\\right) w_{N+1}\\end{array}\\right]$."
   ]
  },
  {
   "attachments": {},
   "cell_type": "markdown",
   "metadata": {},
   "source": [
    "\n",
    "SPL tersebut akan diselesaikan dengan metode faktorisasi Crout (lihat algoritma 6.7). (basicly ini nyari inverse A secara linear, makanya runtime dari algortima ini adalah $O(n)$)"
   ]
  },
  {
   "attachments": {},
   "cell_type": "markdown",
   "metadata": {},
   "source": [
    "Algoritma dari metode beda hingga linear:"
   ]
  },
  {
   "attachments": {},
   "cell_type": "markdown",
   "metadata": {},
   "source": [
    "```octave\n",
    "function [xt,w]=linfdm(p,q,r,a_boundary,b_boundary,alpha,beta,n)\n",
    "  h=(b_boundary-a_boundary)/(n+1); %stepsize\n",
    "  a=zeros(n,1); %diagonal sistem persamaannya\n",
    "  b=zeros(n,1); % right diagonal sistem persamaannya\n",
    "  c=zeros(n,1); %left diagonal sistem persamaannya\n",
    "  d=zeros(n,1); %vektor b (Ay=b) pada sistem persamaannya\n",
    "  l=zeros(n,1); % main diagonal of lower triangle matrix\n",
    "  u=zeros(n,1); %right diagonal of upper triangle matrix\n",
    "  z= zeros(n,1); %solution of Lz=b\n",
    "  w=zeros(n+1,1); %solusi aproksimasi dengan linear fdm\n",
    "  xt=[a_boundary:h:b_boundary]; %mesh_point\n",
    "  x=a_boundary+h;\n",
    "\n",
    "  %konstruksi matrix tridiagonalnya\n",
    "  a(1)=2+(h^2)*q(x);\n",
    "  b(1)= -1+(h/2)*p(x);\n",
    "  d(1)=-h^2*r(x) +(1+(h/2)*p(x))*alpha;\n",
    "\n",
    "  for i = 2:n-1\n",
    "    x= a_boundary+i*h;\n",
    "    a(i)=2+h^2*q(x); %diagonal\n",
    "    b(i)=-1+(h/2)*p(x);\n",
    "    c(i)=-1-(h/2)*p(x);\n",
    "    d(i)=-h^2*r(x);\n",
    "  endfor\n",
    "\n",
    "  x=b_boundary-h;\n",
    "  a(n)=2+h^2*q(x);\n",
    "  c(n)=-1-(h/2)*p(x);\n",
    "  d(n)=-h^2*r(x)+(1-(h/2)*p(x))*beta;\n",
    "\n",
    "  %matriks tridiagonalnya sudah didapatkan,\n",
    "  %akan diselesaikan dengan LU Decomposition (crout factorization)\n",
    "\n",
    "  l(1)= a(1);\n",
    "  u(1)=b(1)/a(1);\n",
    "  z(1)=d(1)/l(1);\n",
    "\n",
    "  for i= 2:n-1\n",
    "    l(i)=a(i)-c(i)*u(i-1);\n",
    "    u(i)=b(i)/l(i);\n",
    "    z(i)=(d(i)-c(i)*z(i-1))/l(i);\n",
    "\n",
    "  endfor\n",
    "\n",
    "  l(n)=a(n)-c(n)*u(n-1);\n",
    "  z(n)=(d(n)-c(n)*z(n-1))/l(n);\n",
    "\n",
    "  %konstruksi akhir w-nya\n",
    "  w(n+1)=beta;\n",
    "  w(n)=z(n);\n",
    "  for i = n-1:-1:1\n",
    "    w(i)=z(i)-u(i)*w(i+1);\n",
    "  endfor\n",
    "\n",
    "  w=[alpha;w];\n",
    "  xt=transpose(xt);\n",
    "\n",
    "endfunction\n",
    "\n",
    "```\n",
    "\n",
    "\n"
   ]
  },
  {
   "attachments": {},
   "cell_type": "markdown",
   "metadata": {},
   "source": [
    "Akan kita uji dengan masalah syarat batas:"
   ]
  },
  {
   "attachments": {},
   "cell_type": "markdown",
   "metadata": {},
   "source": [
    "$$\n",
    "\\begin{aligned}\n",
    "y^{\\prime \\prime} & =-\\frac{4}{x} y^{\\prime}-\\frac{2}{x^2} y+\\frac{2 \\ln x}{x^2}, \\quad 1 \\leq x \\leq 2 \\\\\n",
    "y(1) & =\\frac{1}{2}, \\quad y(2)=\\ln 2\n",
    "\\end{aligned}\n",
    "$$\n",
    "Solusi eksak:\n",
    "$$\n",
    "y(x)=\\frac{4}{x}-\\frac{2}{x^2}+\\ln x-\\frac{3}{2}\n",
    "$$"
   ]
  },
  {
   "attachments": {},
   "cell_type": "markdown",
   "metadata": {},
   "source": [
    "```octave\n",
    "p= @(x) (-4/x); %function p(x)\n",
    "q= @(x) (-2/x^2);%function q(x)\n",
    "r=@(x) 2*log(x)/(x^2); %function r(x)\n",
    "a_boundary=1; %batas kiri domain\n",
    "b_boundary=2; %batas kanan domain\n",
    "n=19; %banyaknya partisi (agar h=0.05 pilih n=19)\n",
    "alpha=0.5; %y(a)=alpha\n",
    "beta=log(2); %y(b)=beta\n",
    "[x_grid,w]=linfdm(p,q,r,a_boundary,b_boundary,alpha,beta,n) %memangil fungsinya\n",
    "\n",
    "f_anal=@(x)4./x -2./(x.^2) +log(x)-1.5;\n",
    "sol_anal=f_anal(x_grid)\n",
    "error=abs(sol_anal-w);\n",
    "\n",
    "[x_grid,w,sol_anal,error]\n",
    "\n",
    "\n",
    "%bikint tabel dan grafiknya :D\n",
    "\n",
    "fplot(f_anal, [a_boundary,b_boundary],'b')\n",
    "hold on;\n",
    "scatter(x_grid,w,'r')\n",
    "legend('solusi analitik', 'solusi linear FDM');\n",
    "legend(\"location\", \"northwest\");\n",
    "```"
   ]
  },
  {
   "attachments": {},
   "cell_type": "markdown",
   "metadata": {},
   "source": [
    "Metode ini digunakan untuk mengaproksimasi masalah linear dalam bentuk:"
   ]
  },
  {
   "attachments": {},
   "cell_type": "markdown",
   "metadata": {},
   "source": [
    "$$\n",
    "\\begin{gathered}\n",
    "y^{\\prime \\prime}=f\\left(x, y, y^{\\prime}\\right), \\quad a \\leq x \\leq b \\\\\n",
    "y(a)=\\alpha, y(b)=\\beta\n",
    "\\end{gathered}\n",
    "$$"
   ]
  },
  {
   "attachments": {},
   "cell_type": "markdown",
   "metadata": {},
   "source": [
    "Aproksimasi menggunakan metode ini serupa dengan saat menggunakan metode beda hingga linear, dengan perbedaan kita juga menambahkan metode Newton dalam penyelesaiannya.\n",
    "\n",
    "Algoritma dari metode beda hingga nonlinear:"
   ]
  },
  {
   "attachments": {},
   "cell_type": "markdown",
   "metadata": {},
   "source": [
    "```octave\n",
    "function [t_grid,w]=nonlinear_FDM_naive(f,f_y,f_yprime,a,b,n,alpha,beta,max_iter,TOL)\n",
    "  h=(b-a)/(n+1); %sepsize\n",
    "  w=zeros(n,1); %vektor solusi aproksimasi\n",
    "  t_grid=[a:h:b]; %mesh_poitnya\n",
    "  J=zeros(n,n); %matriks jacobian\n",
    "  F=zeros(n,1); %vektor fungsi  F=(f_1,f_2,...,f_n) yang dievaluasi di x_k\n",
    "\n",
    "  for i=1:n %inisialisasi solusi awal\n",
    "    w(i)=alpha+i*(beta-alpha)/(b-a)*h;\n",
    "  endfor\n",
    "  k=1;\n",
    "  while k<=max_iter %lakukan iterasi jika masih belum didapat kriteria stopnya\n",
    "\n",
    "    %solve nonlinear sistem tersebut dengan metode newton\n",
    "    x=a+h;\n",
    "    %kontruksi matriks Jacobian, dan vektor F-nya\n",
    "    t=(w(2)-alpha)/(2*h);\n",
    "    J(1,1)=2+h^2*f_y(x,w(1),t); %main diagoanal\n",
    "    J(1,2)=-1+(h/2)*f_yprime(x,w(1),t); %right diagonal\n",
    "    F(1)=(2*w(1)-w(2)-alpha+h^2*f(x,w(1),t));\n",
    "    for i =2:n-1\n",
    "      x=a+i*h;\n",
    "      t=(w(i+1)-w(i-1))/(2*h);\n",
    "      J(i,i)=2+h^2*f_y(x,w(i),t); %main diagoanal\n",
    "      J(i,i+1)=-1+(h/2)*f_yprime(x,w(i),t); %main diagoanal\n",
    "      J(i,i-1)=-1-(h/2)*f_yprime(x,w(i),t); %left diagoanal\n",
    "      F(i)=(2*w(i)-w(i+1)-w(i-1)+h^2*f(x,w(i),t));\n",
    "    endfor\n",
    "     x=b-h;\n",
    "     t=(beta-w(n-1))/(2*h);\n",
    "     J(n,n)=2+h^2*f_y(x,w(n),t); %main diagonal\n",
    "     J(n,n-1)=-1-(h/2)*f_yprime(x,w(n),t); %right diagonal\n",
    "     F(n)=(2*w(n)-w(n-1)-beta+h^2*f(x,w(n),t));\n",
    "\n",
    "\n",
    "\n",
    "    v=inverse(J)*F; %vector v adalah product dari J^-1 F\n",
    "    w= w-v; % lakukan update nilai pada w\n",
    "\n",
    "    if norm(v,2)<= TOL %kriteria stop jika norm(v)<=toleransinya\n",
    "      break;\n",
    "     else\n",
    "        k=k+1; %jika belum memenuhi kriteria stop terus lanjut iterasinya (memperbaiki nilai w)\n",
    "    endif\n",
    "  endwhile\n",
    "  w=[alpha ; w ; beta]; %konstruksi akhir w\n",
    "  t_grid=transpose(t_grid); % %transpose meshpoint\n",
    "  % untuk konsistensi dimensi saja\n",
    "\n",
    "endfunction\n",
    "```"
   ]
  },
  {
   "cell_type": "markdown",
   "metadata": {},
   "source": [
    "2. Gunakan metode beda hingga nonlinear dengan $h=0.1$ dan toleransi $10^{-4}$ untuk mengaproksimasi BVP berikut:\n",
    "$$\n",
    "\\begin{aligned}\n",
    "y^{\\prime \\prime} & =y^{\\prime}+2(y-\\ln x)^3-\\frac{1}{x}, \\quad 2 \\leq x \\leq 3 \\\\\n",
    "y(2) & =\\frac{1}{2}+\\ln 2, \\quad y(3)=\\frac{1}{3}+\\ln 3\n",
    "\\end{aligned}\n",
    "$$\n",
    "Solusi eksak:\n",
    "$$\n",
    "y(x)=\\frac{1}{x}+\\ln x\n",
    "$$"
   ]
  },
  {
   "attachments": {},
   "cell_type": "markdown",
   "metadata": {},
   "source": [
    "```octave\n",
    "f=@(x,y,yp) yp+2*(y-log(x))^3-1/x ; %fungsi f pada y=f(x,y,y')\n",
    "f_y=@(x,y,yp) 6*(y-log(x))^2; %turunan fungsi f terhadap y\n",
    "f_yp=@(x,y,yp) 1; %turunan fungsi f terhadap yprime\n",
    "a=2; %left boundary\n",
    "b=3; %right boundary\n",
    "alpha=0.5+log(2); %y(a)\n",
    "beta=1/3+ log(3); %y(b)\n",
    "n=9; %banyaknya partisi (pilih n=9 sehingga h=0.1)\n",
    "maxiter=30; %masksimal iterasi newton methodnya\n",
    "TOL=10^(-4); %toleransi nilai (untuk kriteria stop)\n",
    "\n",
    "%memanggil fungsi nonlinear_FDM_naive\n",
    "[x_grid,w]=nonlinear_FDM_naive(f,f_y,f_yp,a,b,n,alpha,beta,maxiter,TOL)\n",
    "f_anal= @(x) 1./x +log(x); %sol analitik\n",
    "\n",
    "%membuat grafiknya\n",
    "fplot(f_anal, [a,b],'b')\n",
    "hold on;\n",
    "scatter(x_grid,w,'r')\n",
    "legend('solusi analitik', 'solusi linear FDM');\n",
    "legend(\"location\", \"northwest\");\n",
    "\n",
    "\n",
    "\n",
    "\n",
    "%membuat tabel saja.\n",
    "\n",
    "sol_anal=f_anal(x_grid); %sol analitik di meshpoint\n",
    "error=abs(w-sol_anal); %error\n",
    "[x_grid,w,sol_anal,error]\n",
    "\n",
    "```"
   ]
  },
  {
   "cell_type": "markdown",
   "metadata": {},
   "source": []
  }
 ],
 "metadata": {
  "language_info": {
   "name": "python"
  },
  "orig_nbformat": 4
 },
 "nbformat": 4,
 "nbformat_minor": 2
}
