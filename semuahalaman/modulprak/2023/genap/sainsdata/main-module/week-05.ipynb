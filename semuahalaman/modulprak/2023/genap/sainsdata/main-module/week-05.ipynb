{
 "cells": [
  {
   "attachments": {},
   "cell_type": "markdown",
   "metadata": {},
   "source": [
    "# Week 05 (Introduction to Keras and TensorFlow)\n",
    "\n",
    "Kembali ke [Sains Data](../sainsdata2023.qmd)\n",
    "\n",
    "- TensorFlow: Python-based, free, open source machine learning platform developed by Google that enables manipulation of mathematical expressions over numerical tensors, computes gradients automatically, supports CPUs, GPUs, TPUs, allows easy distribution of computation across machines, and can be exported to other runtimes for easy deployment in practical settings.\n",
    "- Keras: a deep learning API for Python, built on top of TensorFlow, known for its convenient model definition and training, initially developed for research with fast experimentation, and can run on various hardware types, including GPU, TPU, and CPU, and scale to multiple machines seamlessly while prioritizing developer experience.\n",
    "\n",
    "![](images/week-05/tf-keras.png)"
   ]
  },
  {
   "cell_type": "markdown",
   "metadata": {},
   "source": []
  },
  {
   "attachments": {},
   "cell_type": "markdown",
   "metadata": {},
   "source": [
    "## prerequisites\n"
   ]
  },
  {
   "cell_type": "code",
   "execution_count": 27,
   "metadata": {},
   "outputs": [],
   "source": [
    "# !pip install tensorflow # uncomment if you don't have tensorflow installed\n",
    "import tensorflow as tf\n",
    "import tensorflow.keras as keras\n",
    "import numpy as np\n",
    "import matplotlib.pyplot as plt"
   ]
  },
  {
   "attachments": {},
   "cell_type": "markdown",
   "metadata": {},
   "source": [
    "##  All about Tensors and Tensorflow"
   ]
  },
  {
   "cell_type": "code",
   "execution_count": 2,
   "metadata": {},
   "outputs": [
    {
     "name": "stdout",
     "output_type": "stream",
     "text": [
      "tf.Tensor(\n",
      "[[1.]\n",
      " [1.]], shape=(2, 1), dtype=float32)\n",
      "tf.Tensor(\n",
      "[[0.]\n",
      " [0.]], shape=(2, 1), dtype=float32)\n"
     ]
    }
   ],
   "source": [
    "# All-ones or all-zeros tensors\n",
    "\n",
    "x = tf.ones(shape = (2,1)) # 2x3 matrix of ones, similar to np.ones((2,1))\n",
    "print(x)\n",
    "\n",
    "x = tf.zeros(shape = (2,1)) # 2x3 matrix of zeros, similar to np.zeros((2,1))\n",
    "print(x)\n",
    "\n"
   ]
  },
  {
   "cell_type": "code",
   "execution_count": 4,
   "metadata": {},
   "outputs": [
    {
     "data": {
      "text/plain": [
       "tensorflow.python.framework.ops.EagerTensor"
      ]
     },
     "execution_count": 4,
     "metadata": {},
     "output_type": "execute_result"
    }
   ],
   "source": [
    "x.__class__"
   ]
  },
  {
   "cell_type": "code",
   "execution_count": 41,
   "metadata": {},
   "outputs": [
    {
     "name": "stdout",
     "output_type": "stream",
     "text": [
      "tf.Tensor(\n",
      "[[ 0.63700163  1.8413717   0.12851602]\n",
      " [-1.0153099  -1.3446143   1.6644784 ]], shape=(2, 3), dtype=float32)\n",
      "tf.Tensor(\n",
      "[[0.838336   0.8172778  0.42057896]\n",
      " [0.21810079 0.07237494 0.9222772 ]], shape=(2, 3), dtype=float32)\n"
     ]
    }
   ],
   "source": [
    "# Random tensors\n",
    "\n",
    "# create a tensor with random values from a normal distribution\n",
    "x = tf.random.normal(shape = (2,3), mean = 0, stddev = 1)\n",
    "print(x)\n",
    "\n",
    "# create a tensor with random values from a uniform distribution\n",
    "x = tf.random.uniform(shape = (2,3), minval = 0, maxval = 1)\n",
    "print(x)"
   ]
  },
  {
   "cell_type": "code",
   "execution_count": 7,
   "metadata": {},
   "outputs": [
    {
     "name": "stdout",
     "output_type": "stream",
     "text": [
      "[[ 1.00000000e+02 -1.25304057e+00 -1.18967720e+00]\n",
      " [ 4.74877369e-01 -8.13430401e-02 -4.57822064e-01]]\n"
     ]
    }
   ],
   "source": [
    "# numpy array are assignable while tensors are not\n",
    "x = np.random.normal(loc = 0, scale = 1, size = (2,3))\n",
    "x[0,0] = 100\n",
    "print(x)"
   ]
  },
  {
   "cell_type": "code",
   "execution_count": 10,
   "metadata": {},
   "outputs": [
    {
     "ename": "TypeError",
     "evalue": "'tensorflow.python.framework.ops.EagerTensor' object does not support item assignment",
     "output_type": "error",
     "traceback": [
      "\u001b[1;31m---------------------------------------------------------------------------\u001b[0m",
      "\u001b[1;31mTypeError\u001b[0m                                 Traceback (most recent call last)",
      "Cell \u001b[1;32mIn[10], line 3\u001b[0m\n\u001b[0;32m      1\u001b[0m \u001b[39m# numpy array are assignable while tensors are not\u001b[39;00m\n\u001b[0;32m      2\u001b[0m x \u001b[39m=\u001b[39m tf\u001b[39m.\u001b[39mones(shape \u001b[39m=\u001b[39m (\u001b[39m2\u001b[39m,\u001b[39m3\u001b[39m))\n\u001b[1;32m----> 3\u001b[0m x[\u001b[39m0\u001b[39;49m,\u001b[39m0\u001b[39;49m] \u001b[39m=\u001b[39m \u001b[39m100\u001b[39m\n\u001b[0;32m      4\u001b[0m \u001b[39mprint\u001b[39m(x)\n",
      "\u001b[1;31mTypeError\u001b[0m: 'tensorflow.python.framework.ops.EagerTensor' object does not support item assignment"
     ]
    }
   ],
   "source": [
    "# numpy array are assignable while tensors are not\n",
    "x = tf.ones(shape = (2,3))\n",
    "x[0,0] = 100\n",
    "print(x)\n"
   ]
  },
  {
   "cell_type": "code",
   "execution_count": 14,
   "metadata": {},
   "outputs": [
    {
     "name": "stdout",
     "output_type": "stream",
     "text": [
      "<tf.Variable 'Variable:0' shape=(2, 3) dtype=float32, numpy=\n",
      "array([[-0.10799041,  2.325188  , -0.20042379],\n",
      "       [ 0.48759696,  0.53195345,  0.29525948]], dtype=float32)>\n",
      "\n",
      "<tf.Variable 'Variable:0' shape=(2, 3) dtype=float32, numpy=\n",
      "array([[0., 0., 0.],\n",
      "       [0., 0., 0.]], dtype=float32)>\n"
     ]
    }
   ],
   "source": [
    "# Creating a TensorFlow variable\n",
    "v = tf.Variable(initial_value = tf.random.normal(shape = (2,3)))\n",
    "print(v)\n",
    "print()\n",
    "\n",
    "v.assign(tf.zeros(shape = (2,3)))\n",
    "print(v)"
   ]
  },
  {
   "cell_type": "code",
   "execution_count": 15,
   "metadata": {},
   "outputs": [
    {
     "name": "stdout",
     "output_type": "stream",
     "text": [
      "<tf.Variable 'Variable:0' shape=(2, 3) dtype=float32, numpy=\n",
      "array([[100.,   0.,   0.],\n",
      "       [  0.,   0.,   0.]], dtype=float32)>\n"
     ]
    }
   ],
   "source": [
    "# Assigning a value to a subset of a TensorFlow variable\n",
    "v[0,0].assign(100)\n",
    "print(v)"
   ]
  },
  {
   "cell_type": "code",
   "execution_count": 17,
   "metadata": {},
   "outputs": [
    {
     "name": "stdout",
     "output_type": "stream",
     "text": [
      "<tf.Variable 'Variable:0' shape=(2, 3) dtype=float32, numpy=\n",
      "array([[101.,   1.,   1.],\n",
      "       [  1.,   1.,   1.]], dtype=float32)>\n"
     ]
    }
   ],
   "source": [
    "# adding to the current value\n",
    "v.assign_add(tf.ones(shape = (2,3)))\n",
    "print(v)\n"
   ]
  },
  {
   "cell_type": "code",
   "execution_count": 19,
   "metadata": {},
   "outputs": [
    {
     "name": "stdout",
     "output_type": "stream",
     "text": [
      "tf.Tensor(\n",
      "[[4. 4.]\n",
      " [4. 4.]], shape=(2, 2), dtype=float32)\n"
     ]
    }
   ],
   "source": [
    "# just like numpy, TensorFlow offers a large collection of tensor operations to express\n",
    "# mathematical formulas.\n",
    "a = tf.ones((2, 2))\n",
    "b = tf.square(a)\n",
    "c = tf.sqrt(a)\n",
    "d = b + c\n",
    "e = tf.matmul(a, b)\n",
    "e *= d\n",
    "print(e)"
   ]
  },
  {
   "attachments": {},
   "cell_type": "markdown",
   "metadata": {},
   "source": [
    "So far, TensorFlow seems to look a lot like NumPy. But here’s something NumPy can’t\n",
    "do: retrieve the gradient of any differentiable expression with respect to any of its\n",
    "inputs. Just open a GradientTape scope, apply some computation to one or several\n",
    "input tensors, and retrieve the gradient of the result with respect to the inputs"
   ]
  },
  {
   "cell_type": "code",
   "execution_count": 20,
   "metadata": {},
   "outputs": [
    {
     "name": "stdout",
     "output_type": "stream",
     "text": [
      "tf.Tensor(6.0, shape=(), dtype=float32)\n"
     ]
    }
   ],
   "source": [
    "# Using the GradientTape\n",
    "input_var = tf.Variable(initial_value = 3.0)\n",
    "with tf.GradientTape() as tape:\n",
    "    result = tf.square(input_var)\n",
    "grad = tape.gradient(result, input_var)\n",
    "print(grad)\n"
   ]
  },
  {
   "cell_type": "code",
   "execution_count": 22,
   "metadata": {},
   "outputs": [
    {
     "name": "stdout",
     "output_type": "stream",
     "text": [
      "tf.Tensor(6.0, shape=(), dtype=float32)\n"
     ]
    }
   ],
   "source": [
    "# Using GradientTape with constant tensor inputs\n",
    "input_var = tf.constant(3.0)\n",
    "with tf.GradientTape() as tape:\n",
    "    tape.watch(input_var)\n",
    "    result = tf.square(input_var)\n",
    "grad = tape.gradient(result, input_var)\n",
    "print(grad)"
   ]
  },
  {
   "cell_type": "code",
   "execution_count": 24,
   "metadata": {},
   "outputs": [
    {
     "name": "stdout",
     "output_type": "stream",
     "text": [
      "tf.Tensor(0.0, shape=(), dtype=float32)\n",
      "tf.Tensor(9.8, shape=(), dtype=float32)\n"
     ]
    }
   ],
   "source": [
    "# Using nested gradient tapes to compute second-order gradients\n",
    "time = tf.Variable(0.0)\n",
    "with tf.GradientTape() as outer_tape:\n",
    "    with tf.GradientTape() as inner_tape:\n",
    "        position = 4.9 * time ** 2\n",
    "    speed = inner_tape.gradient(position, time) \n",
    "acceleration = outer_tape.gradient(speed, time)\n",
    "\n",
    "print(speed)\n",
    "print(acceleration)\n",
    "\n"
   ]
  },
  {
   "attachments": {},
   "cell_type": "markdown",
   "metadata": {},
   "source": [
    "## An end-to-end example: A linear classifier in pure TensorFlow\n"
   ]
  },
  {
   "cell_type": "code",
   "execution_count": 9,
   "metadata": {},
   "outputs": [],
   "source": [
    "# Generating two classes of random points in a 2D plane\n",
    "num_samples_per_class, num_classes = 1000, 2\n",
    "negative_samples = np.random.multivariate_normal(mean = [0,3], cov = [[1,0.5],[0.5,1]], size = num_samples_per_class)\n",
    "positive_samples = np.random.multivariate_normal(mean = [3,0], cov = [[1,0.5],[0.5,1]], size = num_samples_per_class)\n",
    "\n",
    "inputs = np.vstack((negative_samples, positive_samples)).astype(np.float32)\n",
    "targets = np.vstack((np.zeros((num_samples_per_class, 1), dtype = 'float32'), np.ones((num_samples_per_class, 1), dtype = 'float32')))"
   ]
  },
  {
   "cell_type": "code",
   "execution_count": 29,
   "metadata": {},
   "outputs": [
    {
     "data": {
      "image/png": "[encoded data removed]",
      "text/plain": [
       "<Figure size 640x480 with 1 Axes>"
      ]
     },
     "metadata": {},
     "output_type": "display_data"
    }
   ],
   "source": [
    "import matplotlib.pyplot as plt\n",
    "plt.scatter(inputs[:, 0], inputs[:, 1], c=targets[:, 0])\n",
    "plt.show()"
   ]
  },
  {
   "cell_type": "code",
   "execution_count": 48,
   "metadata": {},
   "outputs": [],
   "source": [
    "# Creating the linear classifier variables\n",
    "input_dim = 2\n",
    "output_dim = 1\n",
    "W = tf.Variable(tf.random.normal(shape = (input_dim, output_dim)))\n",
    "b = tf.Variable(tf.random.normal(shape = (output_dim,)))\n",
    "\n"
   ]
  },
  {
   "cell_type": "code",
   "execution_count": 49,
   "metadata": {},
   "outputs": [],
   "source": [
    "# the forward pass\n",
    "def model(inputs):\n",
    "    return tf.sigmoid(tf.matmul(inputs, W) + b)\n",
    "    \n",
    "# The mean squared error loss function\n",
    "\n",
    "def entropy_loss(targets, predictions):\n",
    "    per_sample_losses = - targets * tf.math.log(predictions) - (1 - targets) * tf.math.log(1 - predictions)\n",
    "    return tf.reduce_mean(per_sample_losses)\n",
    "\n",
    "\n",
    "# training step \n",
    "learning_rate = 0.1\n",
    "def training_step(inputs, targets):\n",
    "    with tf.GradientTape() as tape:\n",
    "        predictions = model(inputs)\n",
    "        loss = square_loss(targets, predictions)\n",
    "        grad_loss_wrt_W, grad_loss_wrt_b = tape.gradient(loss, [W, b])\n",
    "        W.assign_sub(learning_rate * grad_loss_wrt_W)\n",
    "        b.assign_sub(learning_rate * grad_loss_wrt_b)\n",
    "        return loss\n",
    "\n",
    "\n",
    "\n"
   ]
  },
  {
   "cell_type": "code",
   "execution_count": 53,
   "metadata": {},
   "outputs": [
    {
     "name": "stdout",
     "output_type": "stream",
     "text": [
      "Loss at step 0: 0.0495\n",
      "Loss at step 1: 0.0473\n",
      "Loss at step 2: 0.0454\n",
      "Loss at step 3: 0.0436\n",
      "Loss at step 4: 0.0420\n",
      "Loss at step 5: 0.0406\n",
      "Loss at step 6: 0.0392\n",
      "Loss at step 7: 0.0380\n",
      "Loss at step 8: 0.0369\n",
      "Loss at step 9: 0.0358\n",
      "Loss at step 10: 0.0348\n",
      "Loss at step 11: 0.0339\n",
      "Loss at step 12: 0.0330\n",
      "Loss at step 13: 0.0322\n",
      "Loss at step 14: 0.0315\n",
      "Loss at step 15: 0.0308\n",
      "Loss at step 16: 0.0301\n",
      "Loss at step 17: 0.0295\n",
      "Loss at step 18: 0.0289\n",
      "Loss at step 19: 0.0283\n",
      "Loss at step 20: 0.0278\n",
      "Loss at step 21: 0.0273\n",
      "Loss at step 22: 0.0268\n",
      "Loss at step 23: 0.0263\n",
      "Loss at step 24: 0.0259\n",
      "Loss at step 25: 0.0255\n",
      "Loss at step 26: 0.0251\n",
      "Loss at step 27: 0.0247\n",
      "Loss at step 28: 0.0243\n",
      "Loss at step 29: 0.0240\n",
      "Loss at step 30: 0.0236\n",
      "Loss at step 31: 0.0233\n",
      "Loss at step 32: 0.0230\n",
      "Loss at step 33: 0.0227\n",
      "Loss at step 34: 0.0224\n",
      "Loss at step 35: 0.0221\n",
      "Loss at step 36: 0.0218\n",
      "Loss at step 37: 0.0215\n",
      "Loss at step 38: 0.0213\n",
      "Loss at step 39: 0.0210\n",
      "Loss at step 40: 0.0208\n",
      "Loss at step 41: 0.0205\n",
      "Loss at step 42: 0.0203\n",
      "Loss at step 43: 0.0201\n",
      "Loss at step 44: 0.0198\n",
      "Loss at step 45: 0.0196\n",
      "Loss at step 46: 0.0194\n",
      "Loss at step 47: 0.0192\n",
      "Loss at step 48: 0.0190\n",
      "Loss at step 49: 0.0188\n",
      "Loss at step 50: 0.0186\n",
      "Loss at step 51: 0.0185\n",
      "Loss at step 52: 0.0183\n",
      "Loss at step 53: 0.0181\n",
      "Loss at step 54: 0.0179\n",
      "Loss at step 55: 0.0178\n",
      "Loss at step 56: 0.0176\n",
      "Loss at step 57: 0.0174\n",
      "Loss at step 58: 0.0173\n",
      "Loss at step 59: 0.0171\n",
      "Loss at step 60: 0.0170\n",
      "Loss at step 61: 0.0168\n",
      "Loss at step 62: 0.0167\n",
      "Loss at step 63: 0.0166\n",
      "Loss at step 64: 0.0164\n",
      "Loss at step 65: 0.0163\n",
      "Loss at step 66: 0.0162\n",
      "Loss at step 67: 0.0160\n",
      "Loss at step 68: 0.0159\n",
      "Loss at step 69: 0.0158\n",
      "Loss at step 70: 0.0157\n",
      "Loss at step 71: 0.0155\n",
      "Loss at step 72: 0.0154\n",
      "Loss at step 73: 0.0153\n",
      "Loss at step 74: 0.0152\n",
      "Loss at step 75: 0.0151\n",
      "Loss at step 76: 0.0150\n",
      "Loss at step 77: 0.0149\n",
      "Loss at step 78: 0.0148\n",
      "Loss at step 79: 0.0147\n",
      "Loss at step 80: 0.0146\n",
      "Loss at step 81: 0.0145\n",
      "Loss at step 82: 0.0144\n",
      "Loss at step 83: 0.0143\n",
      "Loss at step 84: 0.0142\n",
      "Loss at step 85: 0.0141\n",
      "Loss at step 86: 0.0140\n",
      "Loss at step 87: 0.0139\n",
      "Loss at step 88: 0.0138\n",
      "Loss at step 89: 0.0137\n",
      "Loss at step 90: 0.0136\n",
      "Loss at step 91: 0.0135\n",
      "Loss at step 92: 0.0135\n",
      "Loss at step 93: 0.0134\n",
      "Loss at step 94: 0.0133\n",
      "Loss at step 95: 0.0132\n",
      "Loss at step 96: 0.0131\n",
      "Loss at step 97: 0.0131\n",
      "Loss at step 98: 0.0130\n",
      "Loss at step 99: 0.0129\n"
     ]
    }
   ],
   "source": [
    "# training loop/process/epoch\n",
    "for step in range(100):\n",
    "    loss = training_step(inputs, targets)\n",
    "    print(f\"Loss at step {step}: {loss:.4f}\")"
   ]
  },
  {
   "cell_type": "code",
   "execution_count": 54,
   "metadata": {},
   "outputs": [
    {
     "name": "stdout",
     "output_type": "stream",
     "text": [
      "tf.Tensor(\n",
      "[[0.04117302]\n",
      " [0.02456259]\n",
      " [0.00931301]\n",
      " ...\n",
      " [0.9823857 ]\n",
      " [0.9144001 ]\n",
      " [0.98359877]], shape=(2000, 1), dtype=float32)\n"
     ]
    },
    {
     "data": {
      "image/png": "[encoded data removed]",
      "text/plain": [
       "<Figure size 640x480 with 1 Axes>"
      ]
     },
     "metadata": {},
     "output_type": "display_data"
    }
   ],
   "source": [
    "predictions = model(inputs)\n",
    "print(predictions)\n",
    "plt.scatter(inputs[:, 0], inputs[:, 1], c=predictions[:, 0] > 0.5)\n",
    "plt.show()"
   ]
  },
  {
   "attachments": {},
   "cell_type": "markdown",
   "metadata": {},
   "source": [
    "## Deep learning with Keras\n",
    "\n",
    "So, the APIs that we will often use when building a neural network in Keras are `keras.layers` and `keras.models`.\n",
    "\n",
    "Simply put, each `keras.layers` is responsible for data processing (taking input and producing output), while `keras.models` is the API for connecting one `keras.layers` to another."
   ]
  },
  {
   "cell_type": "code",
   "execution_count": 12,
   "metadata": {},
   "outputs": [],
   "source": [
    "# Using the Keras Sequential API to build a linear classifier\n",
    "model = keras.Sequential([\n",
    "    keras.layers.InputLayer(input_shape  = (2,)), # input layers (stateless layer)\n",
    "    keras.layers.Dense(units = 10, activation = 'relu'), # FC  layer (stateful layer)\n",
    "    keras.layers.Dense(units = 1, activation = 'sigmoid'), # FC layer (stateful layer)\n",
    "])\n",
    "\n"
   ]
  },
  {
   "cell_type": "code",
   "execution_count": 14,
   "metadata": {},
   "outputs": [
    {
     "data": {
      "image/png": "[encoded data removed]",
      "text/plain": [
       "<IPython.core.display.Image object>"
      ]
     },
     "execution_count": 14,
     "metadata": {},
     "output_type": "execute_result"
    }
   ],
   "source": [
    "# plotting the model\n",
    "keras.utils.plot_model(model, show_shapes = True, show_layer_names = True, rankdir = 'TB', expand_nested = False, dpi = 96)"
   ]
  },
  {
   "attachments": {},
   "cell_type": "markdown",
   "metadata": {},
   "source": [
    "Once the model architecture is defined, you still have to choose three more things:\n",
    "\n",
    "- Loss function (objective function)—The quantity that will be minimized during training. It represents a measure of success for the task at hand\n",
    "- Optimizer—Determines how the network will be updated based on the loss function. It implements a specific variant of stochastic gradient descent (SGD).\n",
    "- Metrics—The measures of success you want to monitor during training and validation, such as classification accuracy. Unlike the loss, training will not optimize\n",
    "directly for these metrics. As such, metrics don’t need to be differentiable.\n",
    "\n",
    "Once you’ve picked your loss, optimizer, and metrics, you can use the built-in compile()\n",
    "and fit() methods to start training your model. \n"
   ]
  },
  {
   "attachments": {},
   "cell_type": "markdown",
   "metadata": {},
   "source": [
    "The compile() method configures the training process"
   ]
  },
  {
   "cell_type": "code",
   "execution_count": 18,
   "metadata": {},
   "outputs": [],
   "source": [
    "# we can pass strings to the loss and metrics arguments\n",
    "model.compile(optimizer=\"sgd\",\n",
    "              loss=\"sparse_binary_crossentropy\",\n",
    "              metrics=[\"accuracy\"])\n",
    "\n",
    "# or we can pass loss and metrics objects (both produce the same result)\n",
    "model.compile(optimizer=keras.optimizers.RMSprop(),\n",
    "              loss=keras.losses.BinaryCrossentropy(),\n",
    "              metrics=[keras.metrics.BinaryAccuracy()])\n"
   ]
  },
  {
   "cell_type": "code",
   "execution_count": null,
   "metadata": {},
   "outputs": [],
   "source": [
    "# benefit of using objects is that we can configure them\n",
    "# dont run this code\n",
    "\n",
    "class my_custom_loss(keras.losses.Loss):\n",
    "    pass\n",
    "\n",
    "class my_custom_metric_1(keras.metrics.Metric):\n",
    "    pass\n",
    "\n",
    "class my_custom_metric_2(keras.metrics.Metric):\n",
    "    pass \n",
    "\n",
    "model.compile(optimizer=keras.optimizers.RMSprop(learning_rate=1e-4),\n",
    "              loss=my_custom_loss,\n",
    "              metrics=[my_custom_metric_1, my_custom_metric_2]\n",
    ")"
   ]
  },
  {
   "attachments": {},
   "cell_type": "markdown",
   "metadata": {},
   "source": [
    "The built-in loss functions and metrics can be found in keras.losses and keras.metrics documentation."
   ]
  },
  {
   "attachments": {},
   "cell_type": "markdown",
   "metadata": {},
   "source": [
    "After `compile()`, the next method is `fit()`, which implements the training loop itself. The key arguments of `fit()` include the data to train on, which is typically passed as NumPy arrays or a TensorFlow Dataset object. The number of epochs to train for is also specified, indicating how many times the training loop should iterate over the passed data. Additionally, the batch size to use within each epoch of mini-batch gradient descent is specified, indicating the number of training examples considered to compute the gradients for one weight update step."
   ]
  },
  {
   "attachments": {},
   "cell_type": "markdown",
   "metadata": {},
   "source": [
    "The `fit()` method returns a History object, which contains a record of the loss and metric values observed during training. This record is stored as a dictionary, with keys being the name of the metrics and values being a list of values recorded at each epoch."
   ]
  },
  {
   "cell_type": "code",
   "execution_count": 22,
   "metadata": {},
   "outputs": [],
   "source": [
    "model.compile(optimizer=\"rmsprop\",\n",
    "              loss=\"binary_crossentropy\",\n",
    "              metrics=[\"accuracy\"])"
   ]
  },
  {
   "cell_type": "code",
   "execution_count": 23,
   "metadata": {},
   "outputs": [
    {
     "name": "stdout",
     "output_type": "stream",
     "text": [
      "Epoch 1/3\n",
      "25/25 [==============================] - 1s 17ms/step - loss: 0.1882 - accuracy: 0.9937 - val_loss: 0.2297 - val_accuracy: 0.9825\n",
      "Epoch 2/3\n",
      "25/25 [==============================] - 0s 5ms/step - loss: 0.1431 - accuracy: 0.9956 - val_loss: 0.1806 - val_accuracy: 0.9875\n",
      "Epoch 3/3\n",
      "25/25 [==============================] - 0s 5ms/step - loss: 0.1119 - accuracy: 0.9969 - val_loss: 0.1423 - val_accuracy: 0.9875\n"
     ]
    }
   ],
   "source": [
    "x_train = inputs\n",
    "y_train = targets\n",
    "history = model.fit(x_train, y_train, batch_size=64, epochs=3, validation_split=0.2)\n"
   ]
  },
  {
   "cell_type": "code",
   "execution_count": 28,
   "metadata": {},
   "outputs": [
    {
     "data": {
      "text/plain": [
       "<matplotlib.legend.Legend at 0x1a6347daf50>"
      ]
     },
     "execution_count": 28,
     "metadata": {},
     "output_type": "execute_result"
    },
    {
     "data": {
      "image/png": "[encoded data removed]",
      "text/plain": [
       "<Figure size 640x480 with 1 Axes>"
      ]
     },
     "metadata": {},
     "output_type": "display_data"
    }
   ],
   "source": [
    "history.history\n",
    "\n",
    "# plotting the loss and accuracy curves\n",
    "plt.plot(history.history['loss'], label = 'training loss')\n",
    "plt.plot(history.history['val_loss'], label = 'validation loss')\n",
    "plt.legend()"
   ]
  },
  {
   "attachments": {},
   "cell_type": "markdown",
   "metadata": {},
   "source": [
    "## Inference: Using a model after training\n",
    "\n",
    "instead of using model(new_data) to make predictions, we use model.predict(new_data) to make predictions on new data.\n"
   ]
  },
  {
   "cell_type": "code",
   "execution_count": 37,
   "metadata": {},
   "outputs": [
    {
     "name": "stdout",
     "output_type": "stream",
     "text": [
      "2/2 [==============================] - 0s 5ms/step\n"
     ]
    }
   ],
   "source": [
    "new_inputs = np.random.uniform(low = -1, high = 3, size = (256, 2))\n",
    "predictions = model.predict(new_inputs, batch_size=128)"
   ]
  },
  {
   "cell_type": "code",
   "execution_count": 38,
   "metadata": {},
   "outputs": [
    {
     "name": "stdout",
     "output_type": "stream",
     "text": [
      "[[0.08076628]\n",
      " [0.09871415]\n",
      " [0.461069  ]\n",
      " [0.1276516 ]\n",
      " [0.4253592 ]\n",
      " [0.11114225]\n",
      " [0.25637963]\n",
      " [0.6989103 ]\n",
      " [0.30173382]\n",
      " [0.9123289 ]\n",
      " [0.2240395 ]\n",
      " [0.86962867]\n",
      " [0.2930864 ]\n",
      " [0.7623196 ]\n",
      " [0.8919245 ]\n",
      " [0.85015684]\n",
      " [0.9198693 ]\n",
      " [0.3118358 ]\n",
      " [0.29436693]\n",
      " [0.41225567]\n",
      " [0.62281114]\n",
      " [0.20957854]\n",
      " [0.2546269 ]\n",
      " [0.14533882]\n",
      " [0.39954668]\n",
      " [0.72597396]\n",
      " [0.72029203]\n",
      " [0.14848693]\n",
      " [0.89544886]\n",
      " [0.23350693]\n",
      " [0.13677543]\n",
      " [0.6027528 ]\n",
      " [0.04975716]\n",
      " [0.62043774]\n",
      " [0.12495781]\n",
      " [0.41638136]\n",
      " [0.40849304]\n",
      " [0.75599575]\n",
      " [0.10711117]\n",
      " [0.7210298 ]\n",
      " [0.16202773]\n",
      " [0.58192235]\n",
      " [0.08633437]\n",
      " [0.652066  ]\n",
      " [0.2231856 ]\n",
      " [0.24822547]\n",
      " [0.12730986]\n",
      " [0.29572365]\n",
      " [0.49881336]\n",
      " [0.26938245]\n",
      " [0.38568485]\n",
      " [0.541473  ]\n",
      " [0.36511543]\n",
      " [0.8816863 ]\n",
      " [0.19856545]\n",
      " [0.16809542]\n",
      " [0.6914996 ]\n",
      " [0.8430513 ]\n",
      " [0.63214254]\n",
      " [0.58684945]\n",
      " [0.39648739]\n",
      " [0.53129727]\n",
      " [0.28006184]\n",
      " [0.08559055]\n",
      " [0.59670126]\n",
      " [0.59945154]\n",
      " [0.14749527]\n",
      " [0.06490649]\n",
      " [0.8320455 ]\n",
      " [0.05914058]\n",
      " [0.3041497 ]\n",
      " [0.09569068]\n",
      " [0.6649947 ]\n",
      " [0.94342   ]\n",
      " [0.09614404]\n",
      " [0.3644968 ]\n",
      " [0.14465587]\n",
      " [0.26501516]\n",
      " [0.9422459 ]\n",
      " [0.65699536]\n",
      " [0.43875617]\n",
      " [0.8261676 ]\n",
      " [0.3133958 ]\n",
      " [0.08528826]\n",
      " [0.8137045 ]\n",
      " [0.39755583]\n",
      " [0.7245124 ]\n",
      " [0.8646786 ]\n",
      " [0.45526022]\n",
      " [0.1089195 ]\n",
      " [0.8604254 ]\n",
      " [0.1271291 ]\n",
      " [0.79923344]\n",
      " [0.567212  ]\n",
      " [0.6395396 ]\n",
      " [0.21270584]\n",
      " [0.31966135]\n",
      " [0.7625292 ]\n",
      " [0.08406034]\n",
      " [0.19414133]\n",
      " [0.08797505]\n",
      " [0.7415017 ]\n",
      " [0.22738719]\n",
      " [0.10201294]\n",
      " [0.59394836]\n",
      " [0.15788662]\n",
      " [0.17561007]\n",
      " [0.49508384]\n",
      " [0.5141838 ]\n",
      " [0.23656489]\n",
      " [0.06821493]\n",
      " [0.64166445]\n",
      " [0.64123726]\n",
      " [0.1364974 ]\n",
      " [0.48136458]\n",
      " [0.23007919]\n",
      " [0.4225439 ]\n",
      " [0.09589957]\n",
      " [0.59364146]\n",
      " [0.11582101]\n",
      " [0.6668776 ]\n",
      " [0.4442284 ]\n",
      " [0.55769634]\n",
      " [0.2534748 ]\n",
      " [0.16375524]\n",
      " [0.614452  ]\n",
      " [0.30898425]\n",
      " [0.17131504]\n",
      " [0.26918182]\n",
      " [0.7705017 ]\n",
      " [0.17490432]\n",
      " [0.8457906 ]\n",
      " [0.10823403]\n",
      " [0.6434072 ]\n",
      " [0.49629235]\n",
      " [0.74100196]\n",
      " [0.1309076 ]\n",
      " [0.51234263]\n",
      " [0.24122484]\n",
      " [0.28107983]\n",
      " [0.48853737]\n",
      " [0.5556593 ]\n",
      " [0.20772368]\n",
      " [0.14975631]\n",
      " [0.81019986]\n",
      " [0.66698325]\n",
      " [0.24100578]\n",
      " [0.05778646]\n",
      " [0.3698141 ]\n",
      " [0.91120934]\n",
      " [0.13073047]\n",
      " [0.8811323 ]\n",
      " [0.39972985]\n",
      " [0.85394675]\n",
      " [0.66812456]\n",
      " [0.48931998]\n",
      " [0.4537211 ]\n",
      " [0.24272834]\n",
      " [0.46721923]\n",
      " [0.18894011]\n",
      " [0.15586214]\n",
      " [0.9342805 ]\n",
      " [0.30149692]\n",
      " [0.4530156 ]\n",
      " [0.15281224]\n",
      " [0.934635  ]\n",
      " [0.3286551 ]\n",
      " [0.39501598]\n",
      " [0.2766213 ]\n",
      " [0.76871574]\n",
      " [0.67721754]\n",
      " [0.27642325]\n",
      " [0.6427387 ]\n",
      " [0.40615624]\n",
      " [0.48434645]\n",
      " [0.10460112]\n",
      " [0.9212326 ]\n",
      " [0.4006667 ]\n",
      " [0.24021053]\n",
      " [0.08514579]\n",
      " [0.21338533]\n",
      " [0.15677902]\n",
      " [0.30154642]\n",
      " [0.89081264]\n",
      " [0.7027856 ]\n",
      " [0.9134173 ]\n",
      " [0.53125733]\n",
      " [0.8643418 ]\n",
      " [0.18493299]\n",
      " [0.14839399]\n",
      " [0.08097934]\n",
      " [0.775004  ]\n",
      " [0.10088727]\n",
      " [0.06921735]\n",
      " [0.57083726]\n",
      " [0.15554827]\n",
      " [0.52106285]\n",
      " [0.32004246]\n",
      " [0.8300294 ]\n",
      " [0.11779615]\n",
      " [0.38728583]\n",
      " [0.6445805 ]\n",
      " [0.53003836]\n",
      " [0.37730247]\n",
      " [0.27931693]\n",
      " [0.9237554 ]\n",
      " [0.11332725]\n",
      " [0.81208193]\n",
      " [0.71356636]\n",
      " [0.06837884]\n",
      " [0.51704925]\n",
      " [0.0962389 ]\n",
      " [0.48069826]\n",
      " [0.41898265]\n",
      " [0.6878413 ]\n",
      " [0.39789453]\n",
      " [0.45776066]\n",
      " [0.08413587]\n",
      " [0.3788709 ]\n",
      " [0.7022963 ]\n",
      " [0.17948987]\n",
      " [0.25018048]\n",
      " [0.855532  ]\n",
      " [0.37432045]\n",
      " [0.49866596]\n",
      " [0.8766561 ]\n",
      " [0.10196138]\n",
      " [0.17670257]\n",
      " [0.6918482 ]\n",
      " [0.47626173]\n",
      " [0.11777903]\n",
      " [0.16932143]\n",
      " [0.7426942 ]\n",
      " [0.4911234 ]\n",
      " [0.8153233 ]\n",
      " [0.05526225]\n",
      " [0.34923232]\n",
      " [0.8453157 ]\n",
      " [0.06809001]\n",
      " [0.05592364]\n",
      " [0.11232523]\n",
      " [0.07958123]\n",
      " [0.1647198 ]\n",
      " [0.25184157]\n",
      " [0.27640557]\n",
      " [0.66381747]\n",
      " [0.6710669 ]\n",
      " [0.16793445]\n",
      " [0.9276973 ]\n",
      " [0.4350676 ]\n",
      " [0.27129552]\n",
      " [0.22650854]\n",
      " [0.76537824]\n",
      " [0.89772046]\n",
      " [0.3098401 ]\n",
      " [0.79777443]]\n"
     ]
    }
   ],
   "source": [
    "print(predictions)"
   ]
  },
  {
   "cell_type": "code",
   "execution_count": 39,
   "metadata": {},
   "outputs": [
    {
     "name": "stdout",
     "output_type": "stream",
     "text": [
      "(256, 1)\n"
     ]
    }
   ],
   "source": [
    "# check the shape of the predictions\n",
    "print(predictions.shape)"
   ]
  },
  {
   "cell_type": "code",
   "execution_count": 40,
   "metadata": {},
   "outputs": [
    {
     "name": "stdout",
     "output_type": "stream",
     "text": [
      "[[0.]\n",
      " [0.]\n",
      " [0.]\n",
      " [0.]\n",
      " [0.]\n",
      " [0.]\n",
      " [0.]\n",
      " [1.]\n",
      " [0.]\n",
      " [1.]\n",
      " [0.]\n",
      " [1.]\n",
      " [0.]\n",
      " [1.]\n",
      " [1.]\n",
      " [1.]\n",
      " [1.]\n",
      " [0.]\n",
      " [0.]\n",
      " [0.]\n",
      " [1.]\n",
      " [0.]\n",
      " [0.]\n",
      " [0.]\n",
      " [0.]\n",
      " [1.]\n",
      " [1.]\n",
      " [0.]\n",
      " [1.]\n",
      " [0.]\n",
      " [0.]\n",
      " [1.]\n",
      " [0.]\n",
      " [1.]\n",
      " [0.]\n",
      " [0.]\n",
      " [0.]\n",
      " [1.]\n",
      " [0.]\n",
      " [1.]\n",
      " [0.]\n",
      " [1.]\n",
      " [0.]\n",
      " [1.]\n",
      " [0.]\n",
      " [0.]\n",
      " [0.]\n",
      " [0.]\n",
      " [0.]\n",
      " [0.]\n",
      " [0.]\n",
      " [1.]\n",
      " [0.]\n",
      " [1.]\n",
      " [0.]\n",
      " [0.]\n",
      " [1.]\n",
      " [1.]\n",
      " [1.]\n",
      " [1.]\n",
      " [0.]\n",
      " [1.]\n",
      " [0.]\n",
      " [0.]\n",
      " [1.]\n",
      " [1.]\n",
      " [0.]\n",
      " [0.]\n",
      " [1.]\n",
      " [0.]\n",
      " [0.]\n",
      " [0.]\n",
      " [1.]\n",
      " [1.]\n",
      " [0.]\n",
      " [0.]\n",
      " [0.]\n",
      " [0.]\n",
      " [1.]\n",
      " [1.]\n",
      " [0.]\n",
      " [1.]\n",
      " [0.]\n",
      " [0.]\n",
      " [1.]\n",
      " [0.]\n",
      " [1.]\n",
      " [1.]\n",
      " [0.]\n",
      " [0.]\n",
      " [1.]\n",
      " [0.]\n",
      " [1.]\n",
      " [1.]\n",
      " [1.]\n",
      " [0.]\n",
      " [0.]\n",
      " [1.]\n",
      " [0.]\n",
      " [0.]\n",
      " [0.]\n",
      " [1.]\n",
      " [0.]\n",
      " [0.]\n",
      " [1.]\n",
      " [0.]\n",
      " [0.]\n",
      " [0.]\n",
      " [1.]\n",
      " [0.]\n",
      " [0.]\n",
      " [1.]\n",
      " [1.]\n",
      " [0.]\n",
      " [0.]\n",
      " [0.]\n",
      " [0.]\n",
      " [0.]\n",
      " [1.]\n",
      " [0.]\n",
      " [1.]\n",
      " [0.]\n",
      " [1.]\n",
      " [0.]\n",
      " [0.]\n",
      " [1.]\n",
      " [0.]\n",
      " [0.]\n",
      " [0.]\n",
      " [1.]\n",
      " [0.]\n",
      " [1.]\n",
      " [0.]\n",
      " [1.]\n",
      " [0.]\n",
      " [1.]\n",
      " [0.]\n",
      " [1.]\n",
      " [0.]\n",
      " [0.]\n",
      " [0.]\n",
      " [1.]\n",
      " [0.]\n",
      " [0.]\n",
      " [1.]\n",
      " [1.]\n",
      " [0.]\n",
      " [0.]\n",
      " [0.]\n",
      " [1.]\n",
      " [0.]\n",
      " [1.]\n",
      " [0.]\n",
      " [1.]\n",
      " [1.]\n",
      " [0.]\n",
      " [0.]\n",
      " [0.]\n",
      " [0.]\n",
      " [0.]\n",
      " [0.]\n",
      " [1.]\n",
      " [0.]\n",
      " [0.]\n",
      " [0.]\n",
      " [1.]\n",
      " [0.]\n",
      " [0.]\n",
      " [0.]\n",
      " [1.]\n",
      " [1.]\n",
      " [0.]\n",
      " [1.]\n",
      " [0.]\n",
      " [0.]\n",
      " [0.]\n",
      " [1.]\n",
      " [0.]\n",
      " [0.]\n",
      " [0.]\n",
      " [0.]\n",
      " [0.]\n",
      " [0.]\n",
      " [1.]\n",
      " [1.]\n",
      " [1.]\n",
      " [1.]\n",
      " [1.]\n",
      " [0.]\n",
      " [0.]\n",
      " [0.]\n",
      " [1.]\n",
      " [0.]\n",
      " [0.]\n",
      " [1.]\n",
      " [0.]\n",
      " [1.]\n",
      " [0.]\n",
      " [1.]\n",
      " [0.]\n",
      " [0.]\n",
      " [1.]\n",
      " [1.]\n",
      " [0.]\n",
      " [0.]\n",
      " [1.]\n",
      " [0.]\n",
      " [1.]\n",
      " [1.]\n",
      " [0.]\n",
      " [1.]\n",
      " [0.]\n",
      " [0.]\n",
      " [0.]\n",
      " [1.]\n",
      " [0.]\n",
      " [0.]\n",
      " [0.]\n",
      " [0.]\n",
      " [1.]\n",
      " [0.]\n",
      " [0.]\n",
      " [1.]\n",
      " [0.]\n",
      " [0.]\n",
      " [1.]\n",
      " [0.]\n",
      " [0.]\n",
      " [1.]\n",
      " [0.]\n",
      " [0.]\n",
      " [0.]\n",
      " [1.]\n",
      " [0.]\n",
      " [1.]\n",
      " [0.]\n",
      " [0.]\n",
      " [1.]\n",
      " [0.]\n",
      " [0.]\n",
      " [0.]\n",
      " [0.]\n",
      " [0.]\n",
      " [0.]\n",
      " [0.]\n",
      " [1.]\n",
      " [1.]\n",
      " [0.]\n",
      " [1.]\n",
      " [0.]\n",
      " [0.]\n",
      " [0.]\n",
      " [1.]\n",
      " [1.]\n",
      " [0.]\n",
      " [1.]]\n"
     ]
    }
   ],
   "source": [
    "# get class predictions\n",
    "predictions_class = np.round(predictions)\n",
    "print(predictions_class)"
   ]
  },
  {
   "attachments": {},
   "cell_type": "markdown",
   "metadata": {},
   "source": [
    "## Additional Notes\n",
    "\n",
    "For those interested in learning more about TensorFlow and Keras, I personally believe that the documentation available on the web is good enough. However, if you prefer reading a book, I recommend \"Deep Learning with Python\" by Francois Chollet, the creator of Keras. This book essentially summarizes the content of the documentation in a more cohesive and structured manner."
   ]
  },
  {
   "attachments": {},
   "cell_type": "markdown",
   "metadata": {},
   "source": [
    "## References\n",
    "- Chollet, F. (2021). Deep Learning with Python. Manning Publications.\n",
    "- TensorFlow. (n.d.). Retrieved from https://www.tensorflow.org/\n",
    "- Keras. (n.d.). Retrieved from https://keras.io/"
   ]
  }
 ],
 "metadata": {
  "kernelspec": {
   "display_name": "base",
   "language": "python",
   "name": "python3"
  },
  "language_info": {
   "codemirror_mode": {
    "name": "ipython",
    "version": 3
   },
   "file_extension": ".py",
   "mimetype": "text/x-python",
   "name": "python",
   "nbconvert_exporter": "python",
   "pygments_lexer": "ipython3",
   "version": "3.11.3"
  },
  "orig_nbformat": 4
 },
 "nbformat": 4,
 "nbformat_minor": 2
}
