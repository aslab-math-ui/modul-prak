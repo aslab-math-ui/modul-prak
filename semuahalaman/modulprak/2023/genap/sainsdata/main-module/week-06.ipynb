{
  "cells": [
    {
      "cell_type": "markdown",
      "metadata": {
        "id": "ojgFNzNkcCeG"
      },
      "source": [
        "# Week-06 (NN with Keras and Hyperparameter Tuning with Keras-Tuner)\n",
        "\n",
        "Kembali ke [Sains Data](../sainsdata2023.qmd)\n",
        "\n",
        "Pada modul kali ini kita akan mempelajari lebih lanjut implementasi Neural Network menggunakan Keras API serta cara melakukan hyperparameter tuning menggunakan library Keras-Tuner.\n",
        "\n",
        "Penjelasan modul serta code pada modul ini akan dibahas lengkap pada sesi praktikum. Penjelasan pada notebook ini hanyalah ringkasan singkat. "
      ]
    },
    {
      "cell_type": "markdown",
      "metadata": {
        "id": "h9u-yKqFdG3U"
      },
      "source": [
        "## Prerequisites"
      ]
    },
    {
      "cell_type": "code",
      "execution_count": 5,
      "metadata": {
        "colab": {
          "base_uri": "https://localhost:8080/"
        },
        "collapsed": true,
        "id": "eay-ZblsbYnP",
        "outputId": "abe44a1f-db30-4615-d936-33c0cb761c01"
      },
      "outputs": [
        {
          "name": "stdout",
          "output_type": "stream",
          "text": [
            "Looking in indexes: https://pypi.org/simple, https://us-python.pkg.dev/colab-wheels/public/simple/\n",
            "Collecting keras-tuner\n",
            "  Downloading keras_tuner-1.3.5-py3-none-any.whl (176 kB)\n",
            "\u001b[2K     \u001b[90m━━━━━━━━━━━━━━━━━━━━━━━━━━━━━━━━━━━━━━━\u001b[0m \u001b[32m176.1/176.1 kB\u001b[0m \u001b[31m7.5 MB/s\u001b[0m eta \u001b[36m0:00:00\u001b[0m\n",
            "\u001b[?25hRequirement already satisfied: packaging in /usr/local/lib/python3.10/dist-packages (from keras-tuner) (23.1)\n",
            "Requirement already satisfied: requests in /usr/local/lib/python3.10/dist-packages (from keras-tuner) (2.27.1)\n",
            "Collecting kt-legacy\n",
            "  Downloading kt_legacy-1.0.5-py3-none-any.whl (9.6 kB)\n",
            "Requirement already satisfied: idna<4,>=2.5 in /usr/local/lib/python3.10/dist-packages (from requests->keras-tuner) (3.4)\n",
            "Requirement already satisfied: charset-normalizer~=2.0.0 in /usr/local/lib/python3.10/dist-packages (from requests->keras-tuner) (2.0.12)\n",
            "Requirement already satisfied: urllib3<1.27,>=1.21.1 in /usr/local/lib/python3.10/dist-packages (from requests->keras-tuner) (1.26.15)\n",
            "Requirement already satisfied: certifi>=2017.4.17 in /usr/local/lib/python3.10/dist-packages (from requests->keras-tuner) (2022.12.7)\n",
            "Installing collected packages: kt-legacy, keras-tuner\n",
            "Successfully installed keras-tuner-1.3.5 kt-legacy-1.0.5\n"
          ]
        }
      ],
      "source": [
        "!pip install keras-tuner\n",
        "import tensorflow as tf\n",
        "import keras_tuner as kt\n",
        "from sklearn.model_selection import train_test_split\n",
        "from sklearn.preprocessing import StandardScaler\n",
        "from sklearn.datasets import fetch_california_housing\n",
        "import matplotlib.pyplot as plt"
      ]
    },
    {
      "cell_type": "markdown",
      "metadata": {
        "id": "zIbC2Pl7dLGa"
      },
      "source": [
        "## Build Image Classifier with **Sequential API** \n",
        "\n",
        "Keras memiliki tiga macam API yang dapat digunakan, yaitu Sequential, Functional, dan Subclassing. Ketiganya memiliki kelebihan dan kekurangan masing-masing, terutama di sisi kemudahan dan fleksibilitas.\n",
        "\n",
        "**Sequential API** merupakan API yang sangat mudah dipahami bagi semua orang yang ingin mempelajari deep learning, tetapi Sequential tidak cukup fleksibel dalam membuat arsitektur model tingkat lanjut karena sifatnya yang mengharuskan tiap layer terhubung satu sama lain dari input hingga output.\n",
        "\n",
        "**Functional API** merupakan API yang juga cukup mudah dipahami (sedikit lebih kompleks dibandingkan Sequential), tetapi cukup fleksibel dalam mengimplementasikan beragam arsitektur model.\n",
        "\n",
        "**Subclassing API** merupakan API yang cukup sulit dipahami bagi orang yang baru ingin mempelajari deep learning, tetapi di sisi lain API ini merupakan API terfleksibel pada Keras.\n",
        "\n",
        "Pada modul ini, hanya akan dibahas Sequential dan Functional API."
      ]
    },
    {
      "cell_type": "markdown",
      "metadata": {
        "id": "ss3gu6xWQUO0"
      },
      "source": [
        "Pertama, kita akan membuat dua macam model untuk mengklasifikasikan gambar *fashion* (computer vision). Pertama, kita akan membuat model ANN yang cukup simple, kemudian kita coba model CNN untuk meningkatkan akurasi."
      ]
    },
    {
      "cell_type": "markdown",
      "metadata": {
        "id": "ONpYOgBmev3N"
      },
      "source": [
        "### Data Preparation\n",
        "https://keras.io/api/datasets/fashion_mnist/"
      ]
    },
    {
      "cell_type": "code",
      "execution_count": 6,
      "metadata": {
        "id": "G8Va2E84dlhf"
      },
      "outputs": [],
      "source": [
        "fashion_mnist = tf.keras.datasets.fashion_mnist\n",
        "(X_train_full, y_train_full), (X_test, y_test) = fashion_mnist.load_data()"
      ]
    },
    {
      "cell_type": "code",
      "execution_count": 7,
      "metadata": {
        "colab": {
          "base_uri": "https://localhost:8080/"
        },
        "id": "iiFXWQoweCPw",
        "outputId": "885628ae-9b6d-4e63-fbc9-5b3f4df84328"
      },
      "outputs": [
        {
          "name": "stdout",
          "output_type": "stream",
          "text": [
            "X_train_full shape: (60000, 28, 28)\n",
            "y_train_full shape: (60000,)\n",
            "X_test shape: (10000, 28, 28)\n",
            "y_test shape: (10000,)\n"
          ]
        }
      ],
      "source": [
        "print(f'X_train_full shape: {X_train_full.shape}')\n",
        "print(f'y_train_full shape: {y_train_full.shape}')\n",
        "print(f'X_test shape: {X_test.shape}')\n",
        "print(f'y_test shape: {y_test.shape}')"
      ]
    },
    {
      "cell_type": "code",
      "execution_count": 8,
      "metadata": {
        "colab": {
          "base_uri": "https://localhost:8080/"
        },
        "id": "yy-wuEY1eZbl",
        "outputId": "c9f99eb3-a2ea-4aaf-da4e-969bd4ef2577"
      },
      "outputs": [
        {
          "name": "stdout",
          "output_type": "stream",
          "text": [
            "X_train shape: (50000, 28, 28)\n",
            "y_train shape: (50000,)\n",
            "X_val shape: (10000, 28, 28)\n",
            "y_val shape: (10000,)\n",
            "X_test shape: (10000, 28, 28)\n",
            "y_test shape: (10000,)\n"
          ]
        }
      ],
      "source": [
        "X_train, X_val, y_train, y_val = train_test_split(X_train_full, y_train_full, \n",
        "                                                  test_size=1/6, \n",
        "                                                  random_state=42)\n",
        "\n",
        "print(f'X_train shape: {X_train.shape}')\n",
        "print(f'y_train shape: {y_train.shape}')\n",
        "print(f'X_val shape: {X_val.shape}')\n",
        "print(f'y_val shape: {y_val.shape}')\n",
        "print(f'X_test shape: {X_test.shape}')\n",
        "print(f'y_test shape: {y_test.shape}')"
      ]
    },
    {
      "cell_type": "code",
      "execution_count": 9,
      "metadata": {
        "id": "fssCIQ6CfwNI"
      },
      "outputs": [],
      "source": [
        "X_train = X_train / 255\n",
        "X_val = X_val / 255\n",
        "X_test = X_test / 255"
      ]
    },
    {
      "cell_type": "code",
      "execution_count": 10,
      "metadata": {
        "id": "EHy3mZ66gVxx"
      },
      "outputs": [],
      "source": [
        "class_names = [\"T-shirt/top\", \"Trouser\", \"Pullover\", \"Dress\", \"Coat\",\n",
        "               \"Sandal\", \"Shirt\", \"Sneaker\", \"Bag\", \"Ankle boot\"]"
      ]
    },
    {
      "cell_type": "code",
      "execution_count": 11,
      "metadata": {
        "cellView": "form",
        "colab": {
          "base_uri": "https://localhost:8080/",
          "height": 428
        },
        "id": "X7hyPv0veuhF",
        "outputId": "908b8962-4e7c-4a4f-ef09-f2cf916afe57"
      },
      "outputs": [
        {
          "data": {
            "image/png": "[encoded data removed]",
            "text/plain": [
              "<Figure size 640x480 with 1 Axes>"
            ]
          },
          "metadata": {},
          "output_type": "display_data"
        }
      ],
      "source": [
        "#@title Slider to look for some image examples {run: \"auto\"}\n",
        "idx = 21402 #@param {type:\"slider\", min:0, max:49999, step:1}\n",
        "\n",
        "plt.imshow(X_train[idx], cmap='gray')\n",
        "plt.title(class_names[y_train[idx]])\n",
        "plt.axis('OFF')\n",
        "plt.show()"
      ]
    },
    {
      "cell_type": "markdown",
      "metadata": {
        "id": "_B0vXnbXdmK8"
      },
      "source": [
        "### Simple ANN"
      ]
    },
    {
      "cell_type": "markdown",
      "metadata": {
        "id": "Hpq5x3RljKxX"
      },
      "source": [
        "#### Without callbacks"
      ]
    },
    {
      "cell_type": "code",
      "execution_count": 65,
      "metadata": {
        "colab": {
          "base_uri": "https://localhost:8080/"
        },
        "id": "oP5HBvQmdCbB",
        "outputId": "7159d1a3-585b-4d54-c3c1-17372ea06e76"
      },
      "outputs": [
        {
          "name": "stdout",
          "output_type": "stream",
          "text": [
            "Model: \"sequential\"\n",
            "_________________________________________________________________\n",
            " Layer (type)                Output Shape              Param #   \n",
            "=================================================================\n",
            " flatten (Flatten)           (None, 784)               0         \n",
            "                                                                 \n",
            " dense (Dense)               (None, 100)               78500     \n",
            "                                                                 \n",
            " dense_1 (Dense)             (None, 50)                5050      \n",
            "                                                                 \n",
            " dense_2 (Dense)             (None, 10)                510       \n",
            "                                                                 \n",
            "=================================================================\n",
            "Total params: 84,060\n",
            "Trainable params: 84,060\n",
            "Non-trainable params: 0\n",
            "_________________________________________________________________\n"
          ]
        }
      ],
      "source": [
        "model_ann_class = tf.keras.Sequential([\n",
        "    tf.keras.layers.Flatten(input_shape=(28,28)),\n",
        "    tf.keras.layers.Dense(100, activation='relu'),\n",
        "    tf.keras.layers.Dense(50, activation='relu'),\n",
        "    tf.keras.layers.Dense(10, activation='softmax')\n",
        "])\n",
        "\n",
        "opt = tf.keras.optimizers.Adam(learning_rate=1e-3)\n",
        "model_ann_class.compile(optimizer=opt, loss='sparse_categorical_crossentropy',\n",
        "              metrics=['accuracy'])\n",
        "\n",
        "model_ann_class.summary()"
      ]
    },
    {
      "cell_type": "code",
      "execution_count": 67,
      "metadata": {
        "id": "L_MKQTg0mOyE"
      },
      "outputs": [],
      "source": [
        "init_ann_class_weights = model_ann_class.get_weights()"
      ]
    },
    {
      "cell_type": "code",
      "execution_count": 86,
      "metadata": {
        "colab": {
          "base_uri": "https://localhost:8080/"
        },
        "id": "cUynC8f3mSzZ",
        "outputId": "f3200930-fa18-449d-98d6-ca3aab2be6ed"
      },
      "outputs": [
        {
          "name": "stdout",
          "output_type": "stream",
          "text": [
            "<class 'list'>\n",
            "6\n",
            "First dense w: (784, 100)\n",
            "First dense b: (100,)\n",
            "Second dense w: (100, 50)\n",
            "Second dense b: (50,)\n",
            "Last dense w: (50, 10)\n",
            "Last dense b: (10,)\n"
          ]
        }
      ],
      "source": [
        "print(type(init_ann_class_weights))\n",
        "print(len(init_ann_class_weights))\n",
        "print(f'First dense w: {init_ann_class_weights[0].shape}')\n",
        "print(f'First dense b: {init_ann_class_weights[1].shape}')\n",
        "print(f'Second dense w: {init_ann_class_weights[2].shape}')\n",
        "print(f'Second dense b: {init_ann_class_weights[3].shape}')\n",
        "print(f'Last dense w: {init_ann_class_weights[4].shape}')\n",
        "print(f'Last dense b: {init_ann_class_weights[5].shape}')"
      ]
    },
    {
      "cell_type": "code",
      "execution_count": 73,
      "metadata": {
        "colab": {
          "base_uri": "https://localhost:8080/"
        },
        "id": "8Km-7YNCjOg6",
        "outputId": "cf2843c9-77ef-4d3d-d5de-c08e3f812d0a"
      },
      "outputs": [
        {
          "name": "stdout",
          "output_type": "stream",
          "text": [
            "Epoch 1/50\n",
            "196/196 [==============================] - 2s 9ms/step - loss: 0.6681 - accuracy: 0.7688 - val_loss: 0.4915 - val_accuracy: 0.8307\n",
            "Epoch 2/50\n",
            "196/196 [==============================] - 2s 11ms/step - loss: 0.4334 - accuracy: 0.8471 - val_loss: 0.4150 - val_accuracy: 0.8491\n",
            "Epoch 3/50\n",
            "196/196 [==============================] - 1s 7ms/step - loss: 0.3873 - accuracy: 0.8635 - val_loss: 0.4204 - val_accuracy: 0.8503\n",
            "Epoch 4/50\n",
            "196/196 [==============================] - 1s 7ms/step - loss: 0.3637 - accuracy: 0.8700 - val_loss: 0.3839 - val_accuracy: 0.8600\n",
            "Epoch 5/50\n",
            "196/196 [==============================] - 1s 7ms/step - loss: 0.3422 - accuracy: 0.8768 - val_loss: 0.3612 - val_accuracy: 0.8720\n",
            "Epoch 6/50\n",
            "196/196 [==============================] - 1s 7ms/step - loss: 0.3275 - accuracy: 0.8805 - val_loss: 0.3525 - val_accuracy: 0.8732\n",
            "Epoch 7/50\n",
            "196/196 [==============================] - 1s 8ms/step - loss: 0.3116 - accuracy: 0.8868 - val_loss: 0.3400 - val_accuracy: 0.8747\n",
            "Epoch 8/50\n",
            "196/196 [==============================] - 1s 8ms/step - loss: 0.2974 - accuracy: 0.8914 - val_loss: 0.3488 - val_accuracy: 0.8734\n",
            "Epoch 9/50\n",
            "196/196 [==============================] - 1s 7ms/step - loss: 0.2889 - accuracy: 0.8946 - val_loss: 0.3463 - val_accuracy: 0.8732\n",
            "Epoch 10/50\n",
            "196/196 [==============================] - 2s 11ms/step - loss: 0.2777 - accuracy: 0.8982 - val_loss: 0.3333 - val_accuracy: 0.8806\n",
            "Epoch 11/50\n",
            "196/196 [==============================] - 2s 9ms/step - loss: 0.2688 - accuracy: 0.9019 - val_loss: 0.3402 - val_accuracy: 0.8796\n",
            "Epoch 12/50\n",
            "196/196 [==============================] - 1s 7ms/step - loss: 0.2641 - accuracy: 0.9022 - val_loss: 0.3277 - val_accuracy: 0.8807\n",
            "Epoch 13/50\n",
            "196/196 [==============================] - 1s 7ms/step - loss: 0.2556 - accuracy: 0.9067 - val_loss: 0.3177 - val_accuracy: 0.8848\n",
            "Epoch 14/50\n",
            "196/196 [==============================] - 1s 7ms/step - loss: 0.2491 - accuracy: 0.9085 - val_loss: 0.3287 - val_accuracy: 0.8802\n",
            "Epoch 15/50\n",
            "196/196 [==============================] - 1s 7ms/step - loss: 0.2431 - accuracy: 0.9093 - val_loss: 0.3156 - val_accuracy: 0.8868\n",
            "Epoch 16/50\n",
            "196/196 [==============================] - 1s 7ms/step - loss: 0.2358 - accuracy: 0.9119 - val_loss: 0.3266 - val_accuracy: 0.8816\n",
            "Epoch 17/50\n",
            "196/196 [==============================] - 1s 7ms/step - loss: 0.2314 - accuracy: 0.9122 - val_loss: 0.3132 - val_accuracy: 0.8859\n",
            "Epoch 18/50\n",
            "196/196 [==============================] - 2s 8ms/step - loss: 0.2301 - accuracy: 0.9140 - val_loss: 0.3155 - val_accuracy: 0.8863\n",
            "Epoch 19/50\n",
            "196/196 [==============================] - 2s 11ms/step - loss: 0.2193 - accuracy: 0.9189 - val_loss: 0.3328 - val_accuracy: 0.8824\n",
            "Epoch 20/50\n",
            "196/196 [==============================] - 2s 8ms/step - loss: 0.2162 - accuracy: 0.9195 - val_loss: 0.3306 - val_accuracy: 0.8830\n",
            "Epoch 21/50\n",
            "196/196 [==============================] - 1s 7ms/step - loss: 0.2128 - accuracy: 0.9209 - val_loss: 0.3230 - val_accuracy: 0.8834\n",
            "Epoch 22/50\n",
            "196/196 [==============================] - 1s 7ms/step - loss: 0.2053 - accuracy: 0.9236 - val_loss: 0.3350 - val_accuracy: 0.8826\n",
            "Epoch 23/50\n",
            "196/196 [==============================] - 1s 7ms/step - loss: 0.2038 - accuracy: 0.9250 - val_loss: 0.3202 - val_accuracy: 0.8862\n",
            "Epoch 24/50\n",
            "196/196 [==============================] - 1s 7ms/step - loss: 0.1991 - accuracy: 0.9265 - val_loss: 0.3187 - val_accuracy: 0.8872\n",
            "Epoch 25/50\n",
            "196/196 [==============================] - 1s 7ms/step - loss: 0.1948 - accuracy: 0.9294 - val_loss: 0.3424 - val_accuracy: 0.8823\n",
            "Epoch 26/50\n",
            "196/196 [==============================] - 1s 7ms/step - loss: 0.1878 - accuracy: 0.9309 - val_loss: 0.3179 - val_accuracy: 0.8912\n",
            "Epoch 27/50\n",
            "196/196 [==============================] - 2s 9ms/step - loss: 0.1896 - accuracy: 0.9296 - val_loss: 0.3243 - val_accuracy: 0.8900\n",
            "Epoch 28/50\n",
            "196/196 [==============================] - 2s 11ms/step - loss: 0.1812 - accuracy: 0.9325 - val_loss: 0.3260 - val_accuracy: 0.8891\n",
            "Epoch 29/50\n",
            "196/196 [==============================] - 1s 7ms/step - loss: 0.1805 - accuracy: 0.9327 - val_loss: 0.3389 - val_accuracy: 0.8868\n",
            "Epoch 30/50\n",
            "196/196 [==============================] - 1s 7ms/step - loss: 0.1777 - accuracy: 0.9350 - val_loss: 0.3296 - val_accuracy: 0.8858\n",
            "Epoch 31/50\n",
            "196/196 [==============================] - 1s 7ms/step - loss: 0.1716 - accuracy: 0.9368 - val_loss: 0.3398 - val_accuracy: 0.8887\n",
            "Epoch 32/50\n",
            "196/196 [==============================] - 1s 7ms/step - loss: 0.1683 - accuracy: 0.9377 - val_loss: 0.3484 - val_accuracy: 0.8850\n",
            "Epoch 33/50\n",
            "196/196 [==============================] - 1s 7ms/step - loss: 0.1690 - accuracy: 0.9381 - val_loss: 0.3416 - val_accuracy: 0.8880\n",
            "Epoch 34/50\n",
            "196/196 [==============================] - 1s 7ms/step - loss: 0.1635 - accuracy: 0.9391 - val_loss: 0.3423 - val_accuracy: 0.8878\n",
            "Epoch 35/50\n",
            "196/196 [==============================] - 1s 7ms/step - loss: 0.1596 - accuracy: 0.9404 - val_loss: 0.3524 - val_accuracy: 0.8859\n",
            "Epoch 36/50\n",
            "196/196 [==============================] - 2s 11ms/step - loss: 0.1566 - accuracy: 0.9432 - val_loss: 0.3687 - val_accuracy: 0.8840\n",
            "Epoch 37/50\n",
            "196/196 [==============================] - 2s 9ms/step - loss: 0.1561 - accuracy: 0.9420 - val_loss: 0.3525 - val_accuracy: 0.8852\n",
            "Epoch 38/50\n",
            "196/196 [==============================] - 1s 7ms/step - loss: 0.1491 - accuracy: 0.9448 - val_loss: 0.3640 - val_accuracy: 0.8833\n",
            "Epoch 39/50\n",
            "196/196 [==============================] - 1s 7ms/step - loss: 0.1494 - accuracy: 0.9449 - val_loss: 0.3761 - val_accuracy: 0.8867\n",
            "Epoch 40/50\n",
            "196/196 [==============================] - 1s 7ms/step - loss: 0.1446 - accuracy: 0.9467 - val_loss: 0.3758 - val_accuracy: 0.8861\n",
            "Epoch 41/50\n",
            "196/196 [==============================] - 1s 7ms/step - loss: 0.1411 - accuracy: 0.9481 - val_loss: 0.3604 - val_accuracy: 0.8886\n",
            "Epoch 42/50\n",
            "196/196 [==============================] - 2s 9ms/step - loss: 0.1388 - accuracy: 0.9485 - val_loss: 0.3790 - val_accuracy: 0.8840\n",
            "Epoch 43/50\n",
            "196/196 [==============================] - 2s 10ms/step - loss: 0.1399 - accuracy: 0.9479 - val_loss: 0.3736 - val_accuracy: 0.8903\n",
            "Epoch 44/50\n",
            "196/196 [==============================] - 3s 15ms/step - loss: 0.1316 - accuracy: 0.9503 - val_loss: 0.3778 - val_accuracy: 0.8874\n",
            "Epoch 45/50\n",
            "196/196 [==============================] - 3s 14ms/step - loss: 0.1304 - accuracy: 0.9515 - val_loss: 0.4043 - val_accuracy: 0.8816\n",
            "Epoch 46/50\n",
            "196/196 [==============================] - 2s 12ms/step - loss: 0.1283 - accuracy: 0.9528 - val_loss: 0.3941 - val_accuracy: 0.8846\n",
            "Epoch 47/50\n",
            "196/196 [==============================] - 2s 13ms/step - loss: 0.1280 - accuracy: 0.9525 - val_loss: 0.3956 - val_accuracy: 0.8851\n",
            "Epoch 48/50\n",
            "196/196 [==============================] - 2s 10ms/step - loss: 0.1231 - accuracy: 0.9551 - val_loss: 0.3878 - val_accuracy: 0.8890\n",
            "Epoch 49/50\n",
            "196/196 [==============================] - 2s 12ms/step - loss: 0.1206 - accuracy: 0.9560 - val_loss: 0.3860 - val_accuracy: 0.8901\n",
            "Epoch 50/50\n",
            "196/196 [==============================] - 3s 17ms/step - loss: 0.1195 - accuracy: 0.9563 - val_loss: 0.4013 - val_accuracy: 0.8872\n"
          ]
        }
      ],
      "source": [
        "history_ann_class = model_ann_class.fit(X_train, y_train, \n",
        "                                        validation_data=(X_val, y_val),\n",
        "                                        epochs=50, batch_size=256)"
      ]
    },
    {
      "cell_type": "code",
      "execution_count": 74,
      "metadata": {
        "colab": {
          "base_uri": "https://localhost:8080/",
          "height": 314
        },
        "id": "vbfYyqvhjqqk",
        "outputId": "3f1c9ef8-c897-42b3-8218-fe5863c008fe"
      },
      "outputs": [
        {
          "data": {
            "image/png": "[encoded data removed]",
            "text/plain": [
              "<Figure size 800x300 with 2 Axes>"
            ]
          },
          "metadata": {},
          "output_type": "display_data"
        }
      ],
      "source": [
        "loss = history_ann_class.history['loss']\n",
        "val_loss = history_ann_class.history['val_loss']\n",
        "accuracy = history_ann_class.history['accuracy']\n",
        "val_accuracy = history_ann_class.history['val_accuracy']\n",
        "epochs = range(len(loss))\n",
        "\n",
        "fig, ax = plt.subplots(1, 2, figsize=(8,3))\n",
        "ax[0].plot(epochs, loss)\n",
        "ax[0].plot(epochs, val_loss)\n",
        "ax[0].legend(['loss', 'val_loss'], loc='upper right')\n",
        "ax[0].set_title('Train Loss vs Val Loss')\n",
        "ax[1].plot(epochs, accuracy)\n",
        "ax[1].plot(epochs, val_accuracy)\n",
        "ax[1].legend(['accuracy', 'val_accuracy'], loc='lower right')\n",
        "ax[1].set_title('Train Acc vs Val Acc')\n",
        "plt.show()"
      ]
    },
    {
      "cell_type": "code",
      "execution_count": 75,
      "metadata": {
        "colab": {
          "base_uri": "https://localhost:8080/"
        },
        "id": "gCg3xF0BnQFR",
        "outputId": "8b514218-40d7-48e2-b2da-0c97d84b8fcd"
      },
      "outputs": [
        {
          "name": "stdout",
          "output_type": "stream",
          "text": [
            "313/313 [==============================] - 1s 4ms/step - loss: 0.4013 - accuracy: 0.8872\n"
          ]
        },
        {
          "data": {
            "text/plain": [
              "[0.4012959599494934, 0.8871999979019165]"
            ]
          },
          "execution_count": 75,
          "metadata": {},
          "output_type": "execute_result"
        }
      ],
      "source": [
        "model_ann_class.evaluate(X_val, y_val)"
      ]
    },
    {
      "cell_type": "code",
      "execution_count": 76,
      "metadata": {
        "colab": {
          "base_uri": "https://localhost:8080/"
        },
        "id": "4Wgwa7dKnScx",
        "outputId": "5eaaa459-6968-4973-f572-5b6690ec8c59"
      },
      "outputs": [
        {
          "name": "stdout",
          "output_type": "stream",
          "text": [
            "313/313 [==============================] - 1s 4ms/step - loss: 0.4228 - accuracy: 0.8853\n"
          ]
        },
        {
          "data": {
            "text/plain": [
              "[0.42284178733825684, 0.8852999806404114]"
            ]
          },
          "execution_count": 76,
          "metadata": {},
          "output_type": "execute_result"
        }
      ],
      "source": [
        "model_ann_class.evaluate(X_test, y_test)"
      ]
    },
    {
      "cell_type": "markdown",
      "metadata": {
        "id": "aH1Hpki3lsSl"
      },
      "source": [
        "#### With callbacks"
      ]
    },
    {
      "cell_type": "code",
      "execution_count": 77,
      "metadata": {
        "id": "T2NR-aARlt__"
      },
      "outputs": [],
      "source": [
        "model_ann_class.set_weights(init_ann_class_weights)"
      ]
    },
    {
      "cell_type": "code",
      "execution_count": 78,
      "metadata": {
        "colab": {
          "base_uri": "https://localhost:8080/"
        },
        "id": "7KX6sJNFnb1U",
        "outputId": "989cf10c-3e1f-44c5-d5e3-0a8b0dd1dd84"
      },
      "outputs": [
        {
          "name": "stdout",
          "output_type": "stream",
          "text": [
            "313/313 [==============================] - 1s 2ms/step - loss: 2.4112 - accuracy: 0.0420\n"
          ]
        },
        {
          "data": {
            "text/plain": [
              "[2.41121768951416, 0.041999999433755875]"
            ]
          },
          "execution_count": 78,
          "metadata": {},
          "output_type": "execute_result"
        }
      ],
      "source": [
        "model_ann_class.evaluate(X_val, y_val)"
      ]
    },
    {
      "cell_type": "code",
      "execution_count": 80,
      "metadata": {
        "colab": {
          "base_uri": "https://localhost:8080/"
        },
        "id": "3TEHSQ5NndWk",
        "outputId": "cc388172-a165-4821-f5fb-015e0639d0c3"
      },
      "outputs": [
        {
          "name": "stdout",
          "output_type": "stream",
          "text": [
            "Epoch 1/50\n",
            "196/196 [==============================] - 1s 7ms/step - loss: 0.6287 - accuracy: 0.7787 - val_loss: 0.4691 - val_accuracy: 0.8378\n",
            "Epoch 2/50\n",
            "196/196 [==============================] - 1s 7ms/step - loss: 0.4224 - accuracy: 0.8508 - val_loss: 0.4133 - val_accuracy: 0.8549\n",
            "Epoch 3/50\n",
            "196/196 [==============================] - 1s 7ms/step - loss: 0.3808 - accuracy: 0.8663 - val_loss: 0.3827 - val_accuracy: 0.8651\n",
            "Epoch 4/50\n",
            "196/196 [==============================] - 1s 7ms/step - loss: 0.3479 - accuracy: 0.8757 - val_loss: 0.3823 - val_accuracy: 0.8636\n",
            "Epoch 5/50\n",
            "196/196 [==============================] - 2s 9ms/step - loss: 0.3341 - accuracy: 0.8803 - val_loss: 0.3610 - val_accuracy: 0.8732\n",
            "Epoch 6/50\n",
            "196/196 [==============================] - 2s 11ms/step - loss: 0.3199 - accuracy: 0.8852 - val_loss: 0.3534 - val_accuracy: 0.8746\n",
            "Epoch 7/50\n",
            "196/196 [==============================] - 1s 7ms/step - loss: 0.3079 - accuracy: 0.8888 - val_loss: 0.3383 - val_accuracy: 0.8785\n",
            "Epoch 8/50\n",
            "196/196 [==============================] - 1s 7ms/step - loss: 0.2965 - accuracy: 0.8933 - val_loss: 0.3290 - val_accuracy: 0.8810\n",
            "Epoch 9/50\n",
            "196/196 [==============================] - 1s 7ms/step - loss: 0.2862 - accuracy: 0.8964 - val_loss: 0.3333 - val_accuracy: 0.8800\n",
            "Epoch 10/50\n",
            "196/196 [==============================] - 1s 7ms/step - loss: 0.2756 - accuracy: 0.9001 - val_loss: 0.3313 - val_accuracy: 0.8842\n",
            "Epoch 11/50\n",
            "196/196 [==============================] - 1s 7ms/step - loss: 0.2686 - accuracy: 0.9023 - val_loss: 0.3282 - val_accuracy: 0.8787\n",
            "Epoch 12/50\n",
            "196/196 [==============================] - 1s 7ms/step - loss: 0.2642 - accuracy: 0.9035 - val_loss: 0.3204 - val_accuracy: 0.8830\n",
            "Epoch 13/50\n",
            "196/196 [==============================] - 1s 7ms/step - loss: 0.2615 - accuracy: 0.9050 - val_loss: 0.3247 - val_accuracy: 0.8814\n",
            "Epoch 14/50\n",
            "196/196 [==============================] - 2s 10ms/step - loss: 0.2525 - accuracy: 0.9069 - val_loss: 0.3182 - val_accuracy: 0.8874\n",
            "Epoch 15/50\n",
            "196/196 [==============================] - 2s 9ms/step - loss: 0.2407 - accuracy: 0.9117 - val_loss: 0.3150 - val_accuracy: 0.8872\n",
            "Epoch 16/50\n",
            "196/196 [==============================] - 1s 7ms/step - loss: 0.2378 - accuracy: 0.9132 - val_loss: 0.3320 - val_accuracy: 0.8813\n",
            "Epoch 17/50\n",
            "196/196 [==============================] - 1s 7ms/step - loss: 0.2334 - accuracy: 0.9138 - val_loss: 0.3242 - val_accuracy: 0.8843\n",
            "Epoch 18/50\n",
            "196/196 [==============================] - 1s 7ms/step - loss: 0.2265 - accuracy: 0.9167 - val_loss: 0.3242 - val_accuracy: 0.8837\n",
            "Epoch 19/50\n",
            "196/196 [==============================] - 1s 7ms/step - loss: 0.2218 - accuracy: 0.9181 - val_loss: 0.3242 - val_accuracy: 0.8848\n",
            "Epoch 20/50\n",
            "196/196 [==============================] - ETA: 0s - loss: 0.2180 - accuracy: 0.9198Restoring model weights from the end of the best epoch: 15.\n",
            "196/196 [==============================] - 1s 7ms/step - loss: 0.2180 - accuracy: 0.9198 - val_loss: 0.3237 - val_accuracy: 0.8864\n",
            "Epoch 20: early stopping\n"
          ]
        }
      ],
      "source": [
        "early_stop = tf.keras.callbacks.EarlyStopping(patience=5, monitor='val_loss',\n",
        "                                              restore_best_weights=True,\n",
        "                                              verbose=1)\n",
        "\n",
        "history_ann_class = model_ann_class.fit(X_train, y_train, \n",
        "                                        validation_data=(X_val, y_val),\n",
        "                                        epochs=50, batch_size=256,\n",
        "                                        callbacks=[early_stop])"
      ]
    },
    {
      "cell_type": "code",
      "execution_count": 83,
      "metadata": {
        "colab": {
          "base_uri": "https://localhost:8080/",
          "height": 314
        },
        "id": "x0_G-pZOnuYt",
        "outputId": "2f97a4cf-ba53-418f-878f-1c721008812e"
      },
      "outputs": [
        {
          "data": {
            "image/png": "[encoded data removed]",
            "text/plain": [
              "<Figure size 800x300 with 2 Axes>"
            ]
          },
          "metadata": {},
          "output_type": "display_data"
        }
      ],
      "source": [
        "loss = history_ann_class.history['loss']\n",
        "val_loss = history_ann_class.history['val_loss']\n",
        "accuracy = history_ann_class.history['accuracy']\n",
        "val_accuracy = history_ann_class.history['val_accuracy']\n",
        "epochs = range(len(loss))\n",
        "\n",
        "fig, ax = plt.subplots(1, 2, figsize=(8,3))\n",
        "ax[0].plot(epochs, loss)\n",
        "ax[0].plot(epochs, val_loss)\n",
        "ax[0].legend(['loss', 'val_loss'], loc='upper right')\n",
        "ax[0].set_title('Train Loss vs Val Loss')\n",
        "ax[1].plot(epochs, accuracy)\n",
        "ax[1].plot(epochs, val_accuracy)\n",
        "ax[1].legend(['accuracy', 'val_accuracy'], loc='lower right')\n",
        "ax[1].set_title('Train Acc vs Val Acc')\n",
        "plt.show()"
      ]
    },
    {
      "cell_type": "code",
      "execution_count": 84,
      "metadata": {
        "colab": {
          "base_uri": "https://localhost:8080/"
        },
        "id": "UPNehbQ-n6X8",
        "outputId": "ddc05f1b-2ad7-4a33-95e4-3128b1807fd3"
      },
      "outputs": [
        {
          "name": "stdout",
          "output_type": "stream",
          "text": [
            "313/313 [==============================] - 1s 4ms/step - loss: 0.3150 - accuracy: 0.8872\n"
          ]
        },
        {
          "data": {
            "text/plain": [
              "[0.31500566005706787, 0.8871999979019165]"
            ]
          },
          "execution_count": 84,
          "metadata": {},
          "output_type": "execute_result"
        }
      ],
      "source": [
        "model_ann_class.evaluate(X_val, y_val)"
      ]
    },
    {
      "cell_type": "code",
      "execution_count": 85,
      "metadata": {
        "colab": {
          "base_uri": "https://localhost:8080/"
        },
        "id": "rE8WzzyvoEeD",
        "outputId": "078bf618-4e05-4a9d-df4c-9a02664c627e"
      },
      "outputs": [
        {
          "name": "stdout",
          "output_type": "stream",
          "text": [
            "313/313 [==============================] - 2s 5ms/step - loss: 0.3424 - accuracy: 0.8841\n"
          ]
        },
        {
          "data": {
            "text/plain": [
              "[0.342407763004303, 0.8841000199317932]"
            ]
          },
          "execution_count": 85,
          "metadata": {},
          "output_type": "execute_result"
        }
      ],
      "source": [
        "model_ann_class.evaluate(X_test, y_test)"
      ]
    },
    {
      "cell_type": "markdown",
      "metadata": {
        "id": "xUf1m4BipCNd"
      },
      "source": [
        "### CNN"
      ]
    },
    {
      "cell_type": "code",
      "execution_count": 22,
      "metadata": {
        "colab": {
          "base_uri": "https://localhost:8080/"
        },
        "id": "DfuHR2YqoGKu",
        "outputId": "96375383-8e1e-4d32-d924-bec46fba4b67"
      },
      "outputs": [
        {
          "name": "stdout",
          "output_type": "stream",
          "text": [
            "Model: \"sequential\"\n",
            "_________________________________________________________________\n",
            " Layer (type)                Output Shape              Param #   \n",
            "=================================================================\n",
            " conv2d (Conv2D)             (None, 24, 24, 32)        832       \n",
            "                                                                 \n",
            " max_pooling2d (MaxPooling2D  (None, 12, 12, 32)       0         \n",
            " )                                                               \n",
            "                                                                 \n",
            " conv2d_1 (Conv2D)           (None, 10, 10, 64)        18496     \n",
            "                                                                 \n",
            " max_pooling2d_1 (MaxPooling  (None, 5, 5, 64)         0         \n",
            " 2D)                                                             \n",
            "                                                                 \n",
            " flatten (Flatten)           (None, 1600)              0         \n",
            "                                                                 \n",
            " dense (Dense)               (None, 100)               160100    \n",
            "                                                                 \n",
            " dense_1 (Dense)             (None, 50)                5050      \n",
            "                                                                 \n",
            " dense_2 (Dense)             (None, 10)                510       \n",
            "                                                                 \n",
            "=================================================================\n",
            "Total params: 184,988\n",
            "Trainable params: 184,988\n",
            "Non-trainable params: 0\n",
            "_________________________________________________________________\n"
          ]
        }
      ],
      "source": [
        "tf.keras.backend.clear_session()\n",
        "\n",
        "model_cnn = tf.keras.Sequential([\n",
        "    tf.keras.layers.Conv2D(filters=32, kernel_size=(5,5),\n",
        "                           activation='relu', input_shape=(28,28,1)),\n",
        "    tf.keras.layers.MaxPooling2D(pool_size=2),\n",
        "    tf.keras.layers.Conv2D(64, (3,3), activation='relu'),\n",
        "    tf.keras.layers.MaxPooling2D(2),\n",
        "    tf.keras.layers.Flatten(),\n",
        "    tf.keras.layers.Dense(100, activation='relu'),\n",
        "    tf.keras.layers.Dense(50, activation='relu'),\n",
        "    tf.keras.layers.Dense(10, activation='softmax')\n",
        "])\n",
        "\n",
        "model_cnn.compile(optimizer='adam', loss='sparse_categorical_crossentropy',\n",
        "                  metrics='accuracy')\n",
        "\n",
        "model_cnn.summary()"
      ]
    },
    {
      "cell_type": "code",
      "execution_count": 23,
      "metadata": {
        "colab": {
          "base_uri": "https://localhost:8080/"
        },
        "id": "ghbWnBzZpD1p",
        "outputId": "6d779bc6-0d0e-4e14-e293-b881d184c10e"
      },
      "outputs": [
        {
          "name": "stdout",
          "output_type": "stream",
          "text": [
            "Epoch 1/100\n",
            "196/196 [==============================] - 4s 9ms/step - loss: 0.7431 - accuracy: 0.7296 - val_loss: 0.4864 - val_accuracy: 0.8231\n",
            "Epoch 2/100\n",
            "196/196 [==============================] - 1s 7ms/step - loss: 0.4358 - accuracy: 0.8453 - val_loss: 0.4050 - val_accuracy: 0.8536\n",
            "Epoch 3/100\n",
            "196/196 [==============================] - 1s 7ms/step - loss: 0.3686 - accuracy: 0.8686 - val_loss: 0.3497 - val_accuracy: 0.8712\n",
            "Epoch 4/100\n",
            "196/196 [==============================] - 1s 6ms/step - loss: 0.3341 - accuracy: 0.8812 - val_loss: 0.3283 - val_accuracy: 0.8801\n",
            "Epoch 5/100\n",
            "196/196 [==============================] - 1s 6ms/step - loss: 0.3081 - accuracy: 0.8892 - val_loss: 0.3191 - val_accuracy: 0.8836\n",
            "Epoch 6/100\n",
            "196/196 [==============================] - 1s 6ms/step - loss: 0.2845 - accuracy: 0.8986 - val_loss: 0.3178 - val_accuracy: 0.8832\n",
            "Epoch 7/100\n",
            "196/196 [==============================] - 1s 6ms/step - loss: 0.2725 - accuracy: 0.9018 - val_loss: 0.2926 - val_accuracy: 0.8930\n",
            "Epoch 8/100\n",
            "196/196 [==============================] - 1s 6ms/step - loss: 0.2596 - accuracy: 0.9049 - val_loss: 0.2756 - val_accuracy: 0.8989\n",
            "Epoch 9/100\n",
            "196/196 [==============================] - 1s 6ms/step - loss: 0.2430 - accuracy: 0.9127 - val_loss: 0.2777 - val_accuracy: 0.8984\n",
            "Epoch 10/100\n",
            "196/196 [==============================] - 1s 6ms/step - loss: 0.2356 - accuracy: 0.9147 - val_loss: 0.2626 - val_accuracy: 0.9062\n",
            "Epoch 11/100\n",
            "196/196 [==============================] - 1s 7ms/step - loss: 0.2249 - accuracy: 0.9176 - val_loss: 0.2759 - val_accuracy: 0.9008\n",
            "Epoch 12/100\n",
            "196/196 [==============================] - 1s 7ms/step - loss: 0.2127 - accuracy: 0.9226 - val_loss: 0.2729 - val_accuracy: 0.9011\n",
            "Epoch 13/100\n",
            "196/196 [==============================] - 1s 7ms/step - loss: 0.2046 - accuracy: 0.9251 - val_loss: 0.2617 - val_accuracy: 0.9005\n",
            "Epoch 14/100\n",
            "196/196 [==============================] - 1s 6ms/step - loss: 0.1946 - accuracy: 0.9298 - val_loss: 0.2634 - val_accuracy: 0.9064\n",
            "Epoch 15/100\n",
            "196/196 [==============================] - 1s 6ms/step - loss: 0.1821 - accuracy: 0.9333 - val_loss: 0.2505 - val_accuracy: 0.9082\n",
            "Epoch 16/100\n",
            "196/196 [==============================] - 1s 6ms/step - loss: 0.1754 - accuracy: 0.9350 - val_loss: 0.2533 - val_accuracy: 0.9083\n",
            "Epoch 17/100\n",
            "196/196 [==============================] - 1s 6ms/step - loss: 0.1686 - accuracy: 0.9381 - val_loss: 0.2435 - val_accuracy: 0.9122\n",
            "Epoch 18/100\n",
            "196/196 [==============================] - 1s 6ms/step - loss: 0.1602 - accuracy: 0.9408 - val_loss: 0.2461 - val_accuracy: 0.9125\n",
            "Epoch 19/100\n",
            "196/196 [==============================] - 1s 6ms/step - loss: 0.1513 - accuracy: 0.9442 - val_loss: 0.2658 - val_accuracy: 0.9040\n",
            "Epoch 20/100\n",
            "196/196 [==============================] - 1s 6ms/step - loss: 0.1449 - accuracy: 0.9460 - val_loss: 0.2570 - val_accuracy: 0.9161\n",
            "Epoch 21/100\n",
            "196/196 [==============================] - 1s 7ms/step - loss: 0.1357 - accuracy: 0.9506 - val_loss: 0.2469 - val_accuracy: 0.9147\n",
            "Epoch 22/100\n",
            "194/196 [============================>.] - ETA: 0s - loss: 0.1297 - accuracy: 0.9521Restoring model weights from the end of the best epoch: 17.\n",
            "196/196 [==============================] - 1s 7ms/step - loss: 0.1298 - accuracy: 0.9521 - val_loss: 0.2894 - val_accuracy: 0.9066\n",
            "Epoch 22: early stopping\n"
          ]
        }
      ],
      "source": [
        "early_stop = tf.keras.callbacks.EarlyStopping(patience=5, monitor='val_loss',\n",
        "                                              restore_best_weights=True,\n",
        "                                              verbose=1)\n",
        "\n",
        "history_cnn = model_cnn.fit(X_train, y_train, validation_data=(X_val, y_val),\n",
        "                            epochs=100, batch_size=256, \n",
        "                            callbacks=[early_stop])"
      ]
    },
    {
      "cell_type": "code",
      "execution_count": 24,
      "metadata": {
        "colab": {
          "base_uri": "https://localhost:8080/",
          "height": 314
        },
        "id": "B1z4gGcYqsvx",
        "outputId": "6afc4ca9-eb51-47e6-838c-274a12fe2a2f"
      },
      "outputs": [
        {
          "data": {
            "image/png": "[encoded data removed]",
            "text/plain": [
              "<Figure size 800x300 with 2 Axes>"
            ]
          },
          "metadata": {},
          "output_type": "display_data"
        }
      ],
      "source": [
        "loss = history_cnn.history['loss']\n",
        "val_loss = history_cnn.history['val_loss']\n",
        "accuracy = history_cnn.history['accuracy']\n",
        "val_accuracy = history_cnn.history['val_accuracy']\n",
        "epochs = range(len(loss))\n",
        "\n",
        "fig, ax = plt.subplots(1, 2, figsize=(8,3))\n",
        "ax[0].plot(epochs, loss)\n",
        "ax[0].plot(epochs, val_loss)\n",
        "ax[0].legend(['loss', 'val_loss'], loc='upper right')\n",
        "ax[0].set_title('Train Loss vs Val Loss')\n",
        "ax[1].plot(epochs, accuracy)\n",
        "ax[1].plot(epochs, val_accuracy)\n",
        "ax[1].legend(['accuracy', 'val_accuracy'], loc='lower right')\n",
        "ax[1].set_title('Train Acc vs Val Acc')\n",
        "plt.show()"
      ]
    },
    {
      "cell_type": "code",
      "execution_count": 25,
      "metadata": {
        "colab": {
          "base_uri": "https://localhost:8080/"
        },
        "id": "YjEeYm7xrsVN",
        "outputId": "8214438d-423b-466a-ca2b-989f716d49bd"
      },
      "outputs": [
        {
          "name": "stdout",
          "output_type": "stream",
          "text": [
            "313/313 [==============================] - 1s 3ms/step - loss: 0.2435 - accuracy: 0.9122\n"
          ]
        },
        {
          "data": {
            "text/plain": [
              "[0.2434857189655304, 0.9121999740600586]"
            ]
          },
          "execution_count": 25,
          "metadata": {},
          "output_type": "execute_result"
        }
      ],
      "source": [
        "model_cnn.evaluate(X_val, y_val)"
      ]
    },
    {
      "cell_type": "code",
      "execution_count": 26,
      "metadata": {
        "colab": {
          "base_uri": "https://localhost:8080/"
        },
        "id": "zVIxqLn4ryIc",
        "outputId": "78a312ca-40d5-41a0-92b5-5b14e4f37d21"
      },
      "outputs": [
        {
          "name": "stdout",
          "output_type": "stream",
          "text": [
            "313/313 [==============================] - 1s 2ms/step - loss: 0.2664 - accuracy: 0.9079\n"
          ]
        },
        {
          "data": {
            "text/plain": [
              "[0.26635172963142395, 0.9078999757766724]"
            ]
          },
          "execution_count": 26,
          "metadata": {},
          "output_type": "execute_result"
        }
      ],
      "source": [
        "model_cnn.evaluate(X_test, y_test)"
      ]
    },
    {
      "cell_type": "code",
      "execution_count": 31,
      "metadata": {
        "colab": {
          "base_uri": "https://localhost:8080/"
        },
        "id": "x11l9Q4Us0l6",
        "outputId": "59836d1f-46a2-4d01-f5aa-56d045c1cd7f"
      },
      "outputs": [
        {
          "name": "stdout",
          "output_type": "stream",
          "text": [
            "313/313 [==============================] - 1s 2ms/step\n"
          ]
        },
        {
          "data": {
            "text/plain": [
              "(array([9, 2, 1, 1, 6, 1, 4, 6, 5, 7]),\n",
              " array([9, 2, 1, 1, 6, 1, 4, 6, 5, 7], dtype=uint8))"
            ]
          },
          "execution_count": 31,
          "metadata": {},
          "output_type": "execute_result"
        }
      ],
      "source": [
        "y_pred = tf.argmax(model_cnn.predict(X_test), axis=-1).numpy()\n",
        "y_pred[:10], y_test[:10]"
      ]
    },
    {
      "cell_type": "code",
      "execution_count": 53,
      "metadata": {
        "cellView": "form",
        "colab": {
          "base_uri": "https://localhost:8080/",
          "height": 442
        },
        "id": "Y1lI5ZVPtWUZ",
        "outputId": "19c2c218-c60e-48d2-b8f1-acc391406b2d"
      },
      "outputs": [
        {
          "name": "stdout",
          "output_type": "stream",
          "text": [
            "Prediction: Coat\n",
            "Truth: Pullover\n"
          ]
        },
        {
          "data": {
            "image/png": "[encoded data removed]",
            "text/plain": [
              "<Figure size 640x480 with 1 Axes>"
            ]
          },
          "metadata": {},
          "output_type": "display_data"
        }
      ],
      "source": [
        "#@title Wrong Prediction image {run:\"auto\"}\n",
        "\n",
        "wrong_pred = (y_pred != y_test)\n",
        "\n",
        "wrong_pred_idx = 8 #@param {type:\"slider\", min:0, max:20, step:1}\n",
        "\n",
        "print(f'Prediction: {class_names[y_pred[wrong_pred][wrong_pred_idx]]}')\n",
        "print(f'Truth: {class_names[y_test[wrong_pred][wrong_pred_idx]]}')\n",
        "\n",
        "plt.imshow(X_test[wrong_pred][wrong_pred_idx], cmap='gray')\n",
        "plt.axis('OFF')\n",
        "plt.show()"
      ]
    },
    {
      "cell_type": "markdown",
      "metadata": {
        "id": "1po2D-kPsmPn"
      },
      "source": [
        "## Build NN Regressor with **Sequential API**\n",
        "\n",
        "Selanjutnya, kita coba untuk membuat model ANN untuk masalah regresi (harga rumah)."
      ]
    },
    {
      "cell_type": "markdown",
      "metadata": {
        "id": "3y0CU5XVvqaS"
      },
      "source": [
        "### Data Preparation"
      ]
    },
    {
      "cell_type": "code",
      "execution_count": 55,
      "metadata": {
        "colab": {
          "base_uri": "https://localhost:8080/"
        },
        "id": "rKzXD0war1RY",
        "outputId": "97b8384f-a9c9-48ba-e7b4-4449b5002a7e"
      },
      "outputs": [
        {
          "name": "stdout",
          "output_type": "stream",
          "text": [
            "X shape: (20640, 8)\n",
            "y shape: (20640,)\n"
          ]
        }
      ],
      "source": [
        "housing = fetch_california_housing()\n",
        "X = housing['data']\n",
        "y = housing['target']\n",
        "\n",
        "print(f'X shape: {X.shape}')\n",
        "print(f'y shape: {y.shape}')"
      ]
    },
    {
      "cell_type": "code",
      "execution_count": 56,
      "metadata": {
        "colab": {
          "base_uri": "https://localhost:8080/"
        },
        "id": "TY8zGNOtvkRb",
        "outputId": "71baae87-6d32-4d78-c4d9-75aa5a1d806c"
      },
      "outputs": [
        {
          "name": "stdout",
          "output_type": "stream",
          "text": [
            "X_train shape: (12384, 8)\n",
            "y_train shape: (12384,)\n",
            "X_val shape: (4128, 8)\n",
            "y_val shape: (4128,)\n",
            "X_test shape: (4128, 8)\n",
            "y_test shape: (4128,)\n"
          ]
        }
      ],
      "source": [
        "X_train, X_test, y_train, y_test = train_test_split(X, y, test_size=.4,\n",
        "                                                    random_state=42)\n",
        "X_val, X_test, y_val, y_test = train_test_split(X_test, y_test, test_size=.5,\n",
        "                                                random_state=42)\n",
        "\n",
        "print(f'X_train shape: {X_train.shape}')\n",
        "print(f'y_train shape: {y_train.shape}')\n",
        "print(f'X_val shape: {X_val.shape}')\n",
        "print(f'y_val shape: {y_val.shape}')\n",
        "print(f'X_test shape: {X_test.shape}')\n",
        "print(f'y_test shape: {y_test.shape}')"
      ]
    },
    {
      "cell_type": "code",
      "execution_count": 60,
      "metadata": {
        "id": "PzJhPS6swB9p"
      },
      "outputs": [],
      "source": [
        "scaler = StandardScaler()\n",
        "X_train = scaler.fit_transform(X_train)\n",
        "X_val = scaler.transform(X_val)\n",
        "X_test = scaler.transform(X_test)"
      ]
    },
    {
      "cell_type": "code",
      "execution_count": 71,
      "metadata": {
        "colab": {
          "base_uri": "https://localhost:8080/"
        },
        "id": "WtI3exF3ygp4",
        "outputId": "25ea4a8e-ab82-4bc3-b2d6-a35ab595298a"
      },
      "outputs": [
        {
          "name": "stdout",
          "output_type": "stream",
          "text": [
            "y min: 0.14999\n",
            "y max: 5.00001\n"
          ]
        }
      ],
      "source": [
        "print(f'y min: {y_train.min()}')\n",
        "print(f'y max: {y_train.max()}')"
      ]
    },
    {
      "cell_type": "markdown",
      "metadata": {
        "id": "U2kIV-aCw4yM"
      },
      "source": [
        "### Modelling"
      ]
    },
    {
      "cell_type": "code",
      "execution_count": 84,
      "metadata": {
        "colab": {
          "base_uri": "https://localhost:8080/"
        },
        "id": "kHrUily_wplh",
        "outputId": "05ad1498-8e61-460d-d79d-ce2dec332b61"
      },
      "outputs": [
        {
          "name": "stdout",
          "output_type": "stream",
          "text": [
            "Model: \"sequential\"\n",
            "_________________________________________________________________\n",
            " Layer (type)                Output Shape              Param #   \n",
            "=================================================================\n",
            " dense (Dense)               (None, 30)                270       \n",
            "                                                                 \n",
            " dense_1 (Dense)             (None, 1)                 31        \n",
            "                                                                 \n",
            "=================================================================\n",
            "Total params: 301\n",
            "Trainable params: 301\n",
            "Non-trainable params: 0\n",
            "_________________________________________________________________\n"
          ]
        }
      ],
      "source": [
        "tf.keras.backend.clear_session()\n",
        "\n",
        "model_reg = tf.keras.Sequential([\n",
        "    tf.keras.layers.Dense(30, activation='relu',\n",
        "                          input_shape=X_train.shape[1:]),\n",
        "    tf.keras.layers.Dense(1, activation='relu')\n",
        "])\n",
        "\n",
        "model_reg.compile(optimizer='adam', loss='mse')\n",
        "\n",
        "model_reg.summary()"
      ]
    },
    {
      "cell_type": "code",
      "execution_count": 69,
      "metadata": {
        "colab": {
          "base_uri": "https://localhost:8080/"
        },
        "id": "N76qsOSkxZ_0",
        "outputId": "4b29fce2-5a09-49f0-d2d5-84f632080943"
      },
      "outputs": [
        {
          "name": "stdout",
          "output_type": "stream",
          "text": [
            "Epoch 1/500\n",
            "387/387 [==============================] - 2s 3ms/step - loss: 1.1266 - val_loss: 0.6397\n",
            "Epoch 2/500\n",
            "387/387 [==============================] - 1s 3ms/step - loss: 0.5616 - val_loss: 0.5056\n",
            "Epoch 3/500\n",
            "387/387 [==============================] - 1s 3ms/step - loss: 0.4695 - val_loss: 0.4661\n",
            "Epoch 4/500\n",
            "387/387 [==============================] - 1s 3ms/step - loss: 0.4385 - val_loss: 0.4433\n",
            "Epoch 5/500\n",
            "387/387 [==============================] - 1s 3ms/step - loss: 0.4195 - val_loss: 0.4286\n",
            "Epoch 6/500\n",
            "387/387 [==============================] - 1s 3ms/step - loss: 0.4072 - val_loss: 0.4212\n",
            "Epoch 7/500\n",
            "387/387 [==============================] - 1s 3ms/step - loss: 0.3966 - val_loss: 0.4100\n",
            "Epoch 8/500\n",
            "387/387 [==============================] - 1s 3ms/step - loss: 0.3869 - val_loss: 0.4032\n",
            "Epoch 9/500\n",
            "387/387 [==============================] - 1s 4ms/step - loss: 0.3810 - val_loss: 0.3999\n",
            "Epoch 10/500\n",
            "387/387 [==============================] - 1s 3ms/step - loss: 0.3751 - val_loss: 0.3966\n",
            "Epoch 11/500\n",
            "387/387 [==============================] - 1s 3ms/step - loss: 0.3723 - val_loss: 0.3905\n",
            "Epoch 12/500\n",
            "387/387 [==============================] - 1s 3ms/step - loss: 0.3662 - val_loss: 0.3851\n",
            "Epoch 13/500\n",
            "387/387 [==============================] - 1s 3ms/step - loss: 0.3615 - val_loss: 0.3816\n",
            "Epoch 14/500\n",
            "387/387 [==============================] - 1s 3ms/step - loss: 0.3576 - val_loss: 0.3778\n",
            "Epoch 15/500\n",
            "387/387 [==============================] - 1s 3ms/step - loss: 0.3537 - val_loss: 0.3785\n",
            "Epoch 16/500\n",
            "387/387 [==============================] - 1s 3ms/step - loss: 0.3505 - val_loss: 0.3734\n",
            "Epoch 17/500\n",
            "387/387 [==============================] - 1s 3ms/step - loss: 0.3483 - val_loss: 0.3933\n",
            "Epoch 18/500\n",
            "387/387 [==============================] - 1s 3ms/step - loss: 0.3487 - val_loss: 0.3685\n",
            "Epoch 19/500\n",
            "387/387 [==============================] - 3s 8ms/step - loss: 0.3406 - val_loss: 0.3654\n",
            "Epoch 20/500\n",
            "387/387 [==============================] - 1s 3ms/step - loss: 0.3827 - val_loss: 0.3608\n",
            "Epoch 21/500\n",
            "387/387 [==============================] - 1s 3ms/step - loss: 0.3379 - val_loss: 0.3623\n",
            "Epoch 22/500\n",
            "387/387 [==============================] - 1s 3ms/step - loss: 0.3342 - val_loss: 0.3568\n",
            "Epoch 23/500\n",
            "387/387 [==============================] - 1s 3ms/step - loss: 0.3342 - val_loss: 0.3583\n",
            "Epoch 24/500\n",
            "387/387 [==============================] - 1s 3ms/step - loss: 0.3322 - val_loss: 0.3565\n",
            "Epoch 25/500\n",
            "387/387 [==============================] - 1s 3ms/step - loss: 0.3310 - val_loss: 0.3567\n",
            "Epoch 26/500\n",
            "387/387 [==============================] - 1s 3ms/step - loss: 0.3294 - val_loss: 0.3529\n",
            "Epoch 27/500\n",
            "387/387 [==============================] - 1s 3ms/step - loss: 0.3287 - val_loss: 0.3545\n",
            "Epoch 28/500\n",
            "387/387 [==============================] - 1s 3ms/step - loss: 0.3297 - val_loss: 0.3495\n",
            "Epoch 29/500\n",
            "387/387 [==============================] - 1s 3ms/step - loss: 0.3249 - val_loss: 0.3585\n",
            "Epoch 30/500\n",
            "387/387 [==============================] - 1s 4ms/step - loss: 0.3247 - val_loss: 0.3511\n",
            "Epoch 31/500\n",
            "387/387 [==============================] - 1s 3ms/step - loss: 0.3226 - val_loss: 0.3478\n",
            "Epoch 32/500\n",
            "387/387 [==============================] - 1s 3ms/step - loss: 0.3234 - val_loss: 0.3475\n",
            "Epoch 33/500\n",
            "387/387 [==============================] - 1s 3ms/step - loss: 0.3231 - val_loss: 0.3502\n",
            "Epoch 34/500\n",
            "387/387 [==============================] - 1s 3ms/step - loss: 0.3316 - val_loss: 0.3473\n",
            "Epoch 35/500\n",
            "387/387 [==============================] - 1s 3ms/step - loss: 0.3212 - val_loss: 0.3471\n",
            "Epoch 36/500\n",
            "387/387 [==============================] - 1s 3ms/step - loss: 0.3192 - val_loss: 0.3448\n",
            "Epoch 37/500\n",
            "387/387 [==============================] - 1s 3ms/step - loss: 0.3176 - val_loss: 0.3443\n",
            "Epoch 38/500\n",
            "387/387 [==============================] - 1s 3ms/step - loss: 0.3195 - val_loss: 0.3426\n",
            "Epoch 39/500\n",
            "387/387 [==============================] - 1s 3ms/step - loss: 0.3180 - val_loss: 0.3437\n",
            "Epoch 40/500\n",
            "387/387 [==============================] - 1s 3ms/step - loss: 0.3148 - val_loss: 0.3434\n",
            "Epoch 41/500\n",
            "387/387 [==============================] - 1s 4ms/step - loss: 0.3148 - val_loss: 0.3402\n",
            "Epoch 42/500\n",
            "387/387 [==============================] - 1s 3ms/step - loss: 0.3146 - val_loss: 0.3408\n",
            "Epoch 43/500\n",
            "387/387 [==============================] - 1s 3ms/step - loss: 0.3157 - val_loss: 0.3396\n",
            "Epoch 44/500\n",
            "387/387 [==============================] - 1s 3ms/step - loss: 0.3115 - val_loss: 0.3438\n",
            "Epoch 45/500\n",
            "387/387 [==============================] - 1s 3ms/step - loss: 0.3114 - val_loss: 0.3403\n",
            "Epoch 46/500\n",
            "387/387 [==============================] - 1s 3ms/step - loss: 0.3155 - val_loss: 0.3378\n",
            "Epoch 47/500\n",
            "387/387 [==============================] - 1s 3ms/step - loss: 0.3117 - val_loss: 0.3367\n",
            "Epoch 48/500\n",
            "387/387 [==============================] - 1s 3ms/step - loss: 0.3099 - val_loss: 0.3349\n",
            "Epoch 49/500\n",
            "387/387 [==============================] - 1s 3ms/step - loss: 0.3085 - val_loss: 0.3338\n",
            "Epoch 50/500\n",
            "387/387 [==============================] - 1s 3ms/step - loss: 0.3088 - val_loss: 0.3373\n",
            "Epoch 51/500\n",
            "387/387 [==============================] - 1s 3ms/step - loss: 0.3080 - val_loss: 0.3387\n",
            "Epoch 52/500\n",
            "387/387 [==============================] - 1s 4ms/step - loss: 0.3094 - val_loss: 0.3539\n",
            "Epoch 53/500\n",
            "387/387 [==============================] - 2s 6ms/step - loss: 0.3487 - val_loss: 0.3349\n",
            "Epoch 54/500\n",
            "373/387 [===========================>..] - ETA: 0s - loss: 0.3093Restoring model weights from the end of the best epoch: 49.\n",
            "387/387 [==============================] - 2s 6ms/step - loss: 0.3087 - val_loss: 0.3633\n",
            "Epoch 54: early stopping\n"
          ]
        }
      ],
      "source": [
        "early_stop = tf.keras.callbacks.EarlyStopping(patience=5, monitor='val_loss',\n",
        "                                              restore_best_weights=True,\n",
        "                                              verbose=1)\n",
        "\n",
        "history_reg = model_reg.fit(X_train, y_train, validation_data=(X_val, y_val),\n",
        "                            epochs=500, callbacks=[early_stop])"
      ]
    },
    {
      "cell_type": "code",
      "execution_count": 70,
      "metadata": {
        "colab": {
          "base_uri": "https://localhost:8080/",
          "height": 452
        },
        "id": "k_BC1GJhxqWz",
        "outputId": "9d012832-0124-44d4-d117-2c1fcada6dd3"
      },
      "outputs": [
        {
          "data": {
            "image/png": "[encoded data removed]",
            "text/plain": [
              "<Figure size 640x480 with 1 Axes>"
            ]
          },
          "metadata": {},
          "output_type": "display_data"
        }
      ],
      "source": [
        "loss = history_reg.history['loss']\n",
        "val_loss = history_reg.history['val_loss']\n",
        "epochs = range(len(loss))\n",
        "\n",
        "plt.plot(epochs, loss)\n",
        "plt.plot(epochs, val_loss)\n",
        "plt.legend(['loss', 'val_loss'], loc='upper right')\n",
        "plt.title('Train Loss vs Val Loss')\n",
        "plt.show()"
      ]
    },
    {
      "cell_type": "code",
      "execution_count": 72,
      "metadata": {
        "colab": {
          "base_uri": "https://localhost:8080/"
        },
        "id": "iKPR5o9eydsX",
        "outputId": "36588066-1270-44e9-9300-306f968b1616"
      },
      "outputs": [
        {
          "name": "stdout",
          "output_type": "stream",
          "text": [
            "129/129 [==============================] - 1s 3ms/step - loss: 0.3338\n"
          ]
        },
        {
          "data": {
            "text/plain": [
              "0.33384060859680176"
            ]
          },
          "execution_count": 72,
          "metadata": {},
          "output_type": "execute_result"
        }
      ],
      "source": [
        "model_reg.evaluate(X_val, y_val)"
      ]
    },
    {
      "cell_type": "code",
      "execution_count": 73,
      "metadata": {
        "colab": {
          "base_uri": "https://localhost:8080/"
        },
        "id": "NnvjiYpFyqJx",
        "outputId": "b446d1ac-7df0-4e00-b685-eb0abdcbc224"
      },
      "outputs": [
        {
          "name": "stdout",
          "output_type": "stream",
          "text": [
            "129/129 [==============================] - 0s 3ms/step - loss: 0.3242\n"
          ]
        },
        {
          "data": {
            "text/plain": [
              "0.32420143485069275"
            ]
          },
          "execution_count": 73,
          "metadata": {},
          "output_type": "execute_result"
        }
      ],
      "source": [
        "model_reg.evaluate(X_test, y_test)"
      ]
    },
    {
      "cell_type": "code",
      "execution_count": 82,
      "metadata": {
        "colab": {
          "base_uri": "https://localhost:8080/",
          "height": 448
        },
        "id": "tyU0Ftluyrqn",
        "outputId": "b4a2bb2b-d32a-4684-c170-9e91ad1451aa"
      },
      "outputs": [
        {
          "name": "stdout",
          "output_type": "stream",
          "text": [
            "129/129 [==============================] - 0s 3ms/step\n"
          ]
        },
        {
          "data": {
            "image/png": "[encoded data removed]",
            "text/plain": [
              "<Figure size 640x480 with 1 Axes>"
            ]
          },
          "metadata": {},
          "output_type": "display_data"
        }
      ],
      "source": [
        "y_pred = model_reg.predict(X_test)\n",
        "\n",
        "plt.hist(y_pred, color='green', alpha=.6)\n",
        "plt.hist(y_test, color='blue', alpha=.6)\n",
        "plt.legend(['prediction', 'truth'], loc='upper right')\n",
        "plt.show()"
      ]
    },
    {
      "cell_type": "markdown",
      "metadata": {
        "id": "gv4d6gICzwYU"
      },
      "source": [
        "## Functional API\n",
        "\n",
        "Berikut merupakan contoh - contoh penggunaan Functional API. Pada modul ini tidak dibahas banyak karena penggunaannya yang cukup mudah, hanya sedikit berbeda dengan Sequential.\n",
        "\n",
        "Informasi lebih lanjut dapat dipelajari pada link berikut:\n",
        "https://keras.io/guides/functional_api/"
      ]
    },
    {
      "cell_type": "markdown",
      "metadata": {
        "id": "PfSv950yz-du"
      },
      "source": [
        "### Example 1\n",
        "Membuat NN regressor dengan arsitekur yang sama seperti saat menggunakan Sequential API di atas. "
      ]
    },
    {
      "cell_type": "code",
      "execution_count": 85,
      "metadata": {
        "colab": {
          "base_uri": "https://localhost:8080/"
        },
        "id": "ahkNfilyz4y9",
        "outputId": "196dd9f8-b196-4997-f4d8-e134648fc5cb"
      },
      "outputs": [
        {
          "name": "stdout",
          "output_type": "stream",
          "text": [
            "Model: \"model\"\n",
            "_________________________________________________________________\n",
            " Layer (type)                Output Shape              Param #   \n",
            "=================================================================\n",
            " input_1 (InputLayer)        [(None, 8)]               0         \n",
            "                                                                 \n",
            " dense (Dense)               (None, 30)                270       \n",
            "                                                                 \n",
            " dense_1 (Dense)             (None, 1)                 31        \n",
            "                                                                 \n",
            "=================================================================\n",
            "Total params: 301\n",
            "Trainable params: 301\n",
            "Non-trainable params: 0\n",
            "_________________________________________________________________\n"
          ]
        }
      ],
      "source": [
        "tf.keras.backend.clear_session()\n",
        "\n",
        "input_layer = tf.keras.layers.Input(shape=X_train.shape[1:])\n",
        "dense = tf.keras.layers.Dense(30, activation='relu')(input_layer)\n",
        "output_layer = tf.keras.layers.Dense(1, activation='relu')(dense)\n",
        "\n",
        "model = tf.keras.Model(inputs=input_layer, outputs=output_layer)\n",
        "\n",
        "model.compile(optimizer='adam', loss='mse')\n",
        "\n",
        "model.summary()"
      ]
    },
    {
      "cell_type": "markdown",
      "metadata": {
        "id": "jleyNPQS1B6M"
      },
      "source": [
        "### Example 2\n",
        "Membuat arsitektur \"Wide & Deep\" \n",
        "\n",
        "![image.png](data:image/png;base64,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)\n",
        "\n",
        "Reference: \"Hands-On Machine Learning with Scikit-Learn, Keras, and TensorFlow\" by Aurélien Géron"
      ]
    },
    {
      "cell_type": "code",
      "execution_count": 88,
      "metadata": {
        "colab": {
          "base_uri": "https://localhost:8080/"
        },
        "id": "rQJ84LRN06zR",
        "outputId": "391ad14e-21b2-4b60-d54c-a18e0fdb8312"
      },
      "outputs": [
        {
          "name": "stdout",
          "output_type": "stream",
          "text": [
            "Model: \"wide_and_deep\"\n",
            "__________________________________________________________________________________________________\n",
            " Layer (type)                   Output Shape         Param #     Connected to                     \n",
            "==================================================================================================\n",
            " input_1 (InputLayer)           [(None, 8)]          0           []                               \n",
            "                                                                                                  \n",
            " dense (Dense)                  (None, 30)           270         ['input_1[0][0]']                \n",
            "                                                                                                  \n",
            " dense_1 (Dense)                (None, 30)           930         ['dense[0][0]']                  \n",
            "                                                                                                  \n",
            " concatenate (Concatenate)      (None, 38)           0           ['input_1[0][0]',                \n",
            "                                                                  'dense_1[0][0]']                \n",
            "                                                                                                  \n",
            " dense_2 (Dense)                (None, 1)            39          ['concatenate[0][0]']            \n",
            "                                                                                                  \n",
            "==================================================================================================\n",
            "Total params: 1,239\n",
            "Trainable params: 1,239\n",
            "Non-trainable params: 0\n",
            "__________________________________________________________________________________________________\n"
          ]
        }
      ],
      "source": [
        "tf.keras.backend.clear_session()\n",
        "\n",
        "input_layer = tf.keras.layers.Input(shape=X_train.shape[1:])\n",
        "hidden1 = tf.keras.layers.Dense(30, activation=\"relu\")(input_layer)\n",
        "hidden2 = tf.keras.layers.Dense(30, activation=\"relu\")(hidden1)\n",
        "concat = tf.keras.layers.Concatenate()([input_layer, hidden2])\n",
        "output = tf.keras.layers.Dense(1)(concat)\n",
        "\n",
        "model = tf.keras.Model(inputs=input_layer, outputs=output,\n",
        "                       name='wide_and_deep')\n",
        "\n",
        "model.compile(optimizer='adam', loss='mse')\n",
        "\n",
        "model.summary()"
      ]
    },
    {
      "cell_type": "markdown",
      "metadata": {
        "id": "bFBdcbbZ2qYP"
      },
      "source": [
        "### Example 3\n",
        "Membuat arsitektur dengan multiple input\n",
        "\n",
        "![image.png](data:image/png;base64,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)\n",
        "\n",
        "Reference: \"Hands-On Machine Learning with Scikit-Learn, Keras, and TensorFlow\" by Aurélien Géron"
      ]
    },
    {
      "cell_type": "code",
      "execution_count": 89,
      "metadata": {
        "colab": {
          "base_uri": "https://localhost:8080/"
        },
        "id": "UnImiPQ32Q_w",
        "outputId": "fb23d4fb-b071-48dc-eb5f-1a10e1f8fe2f"
      },
      "outputs": [
        {
          "name": "stdout",
          "output_type": "stream",
          "text": [
            "Model: \"multiple_input\"\n",
            "__________________________________________________________________________________________________\n",
            " Layer (type)                   Output Shape         Param #     Connected to                     \n",
            "==================================================================================================\n",
            " deep_input (InputLayer)        [(None, 6)]          0           []                               \n",
            "                                                                                                  \n",
            " dense (Dense)                  (None, 30)           210         ['deep_input[0][0]']             \n",
            "                                                                                                  \n",
            " wide_input (InputLayer)        [(None, 5)]          0           []                               \n",
            "                                                                                                  \n",
            " dense_1 (Dense)                (None, 30)           930         ['dense[0][0]']                  \n",
            "                                                                                                  \n",
            " concatenate (Concatenate)      (None, 35)           0           ['wide_input[0][0]',             \n",
            "                                                                  'dense_1[0][0]']                \n",
            "                                                                                                  \n",
            " output (Dense)                 (None, 1)            36          ['concatenate[0][0]']            \n",
            "                                                                                                  \n",
            "==================================================================================================\n",
            "Total params: 1,176\n",
            "Trainable params: 1,176\n",
            "Non-trainable params: 0\n",
            "__________________________________________________________________________________________________\n"
          ]
        }
      ],
      "source": [
        "tf.keras.backend.clear_session()\n",
        "\n",
        "input_A = tf.keras.layers.Input(shape=[5], name=\"wide_input\")\n",
        "input_B = tf.keras.layers.Input(shape=[6], name=\"deep_input\")\n",
        "hidden1 = tf.keras.layers.Dense(30, activation=\"relu\")(input_B)\n",
        "hidden2 = tf.keras.layers.Dense(30, activation=\"relu\")(hidden1)\n",
        "concat = tf.keras.layers.concatenate([input_A, hidden2])\n",
        "output = tf.keras.layers.Dense(1, name=\"output\")(concat)\n",
        "\n",
        "model = tf.keras.Model(inputs=[input_A, input_B], outputs=[output],\n",
        "                       name='multiple_input')\n",
        "\n",
        "model.compile(optimizer='adam', loss='mse')\n",
        "\n",
        "model.summary()"
      ]
    },
    {
      "cell_type": "markdown",
      "metadata": {
        "id": "z3f0271R3W65"
      },
      "source": [
        "## Hyperparameter Tuning with Keras-Tuner\n",
        "Pada bagian terakhir dari modul ini, kita akan mencoba melakukan hyperparameter tuning untuk menentukan arsitektur NN terbaik yang menghasilkan `val_loss` terendah.\n",
        "\n",
        "Informasi lebih lanjut dapat dilihat pada dokumentasi keras-tuner: https://keras.io/api/keras_tuner/"
      ]
    },
    {
      "cell_type": "code",
      "execution_count": 92,
      "metadata": {
        "id": "STSxWUYb3Mvj"
      },
      "outputs": [],
      "source": [
        "def build_model_reg(hp):\n",
        "    model = tf.keras.Sequential()\n",
        "    n_hid_layers = hp.Int('n_hid_layers', 1, 2)\n",
        "    for layer in range(n_hid_layers):\n",
        "        n_neurons = hp.Int(f'n_neurons_{layer}', 32, 128, step=16)\n",
        "        act = hp.Choice(f'activation_{layer}', \n",
        "                        ['relu', 'linear', 'sigmoid'])\n",
        "        model.add(tf.keras.layers.Dense(n_neurons, activation=act))\n",
        "    \n",
        "    act_output = hp.Choice('activation_output', ['relu', 'linear'])\n",
        "    model.add(tf.keras.layers.Dense(1, activation=act_output))\n",
        "\n",
        "    lr = hp.Float('learning_rate', 1e-5, 1e-2)\n",
        "    opt = tf.keras.optimizers.Adam(learning_rate=lr)\n",
        "    model.compile(optimizer=opt, loss='mse')\n",
        "\n",
        "    return model"
      ]
    },
    {
      "cell_type": "markdown",
      "metadata": {
        "id": "Js1G8hv7JV1Z"
      },
      "source": [
        "### Tuning Process"
      ]
    },
    {
      "cell_type": "code",
      "execution_count": 103,
      "metadata": {
        "colab": {
          "base_uri": "https://localhost:8080/"
        },
        "id": "g0zDNsdWG8Ia",
        "outputId": "6ed71d97-d1ec-4af1-8708-694320501f09"
      },
      "outputs": [
        {
          "name": "stdout",
          "output_type": "stream",
          "text": [
            "Search space summary\n",
            "Default search space size: 5\n",
            "n_hid_layers (Int)\n",
            "{'default': None, 'conditions': [], 'min_value': 1, 'max_value': 2, 'step': 1, 'sampling': 'linear'}\n",
            "n_neurons_0 (Int)\n",
            "{'default': None, 'conditions': [], 'min_value': 32, 'max_value': 128, 'step': 16, 'sampling': 'linear'}\n",
            "activation_0 (Choice)\n",
            "{'default': 'relu', 'conditions': [], 'values': ['relu', 'linear', 'sigmoid'], 'ordered': False}\n",
            "activation_output (Choice)\n",
            "{'default': 'relu', 'conditions': [], 'values': ['relu', 'linear'], 'ordered': False}\n",
            "learning_rate (Float)\n",
            "{'default': 1e-05, 'conditions': [], 'min_value': 1e-05, 'max_value': 0.01, 'step': None, 'sampling': 'linear'}\n"
          ]
        }
      ],
      "source": [
        "tf.keras.backend.clear_session()\n",
        "\n",
        "tuner = kt.BayesianOptimization(hypermodel=build_model_reg,\n",
        "                                objective='val_loss',\n",
        "                                max_trials=10,\n",
        "                                directory='tuner_dir_0',\n",
        "                                project_name='tune_housing_model')\n",
        "\n",
        "tuner.search_space_summary()"
      ]
    },
    {
      "cell_type": "code",
      "execution_count": 104,
      "metadata": {
        "colab": {
          "base_uri": "https://localhost:8080/"
        },
        "id": "ObcKPHU0HqTx",
        "outputId": "e6729e52-665e-4537-e32d-c5e787c41b35"
      },
      "outputs": [
        {
          "name": "stdout",
          "output_type": "stream",
          "text": [
            "Trial 10 Complete [00h 00m 42s]\n",
            "val_loss: 0.27770957350730896\n",
            "\n",
            "Best val_loss So Far: 0.27770957350730896\n",
            "Total elapsed time: 00h 06m 40s\n"
          ]
        }
      ],
      "source": [
        "tuner.search(X_train, y_train, validation_data=(X_val, y_val),\n",
        "             epochs=100, batch_size=256)"
      ]
    },
    {
      "cell_type": "code",
      "execution_count": 105,
      "metadata": {
        "colab": {
          "base_uri": "https://localhost:8080/"
        },
        "id": "40ASbiElICTu",
        "outputId": "800549c9-4829-45ef-8f70-a5506368f1b5"
      },
      "outputs": [
        {
          "name": "stdout",
          "output_type": "stream",
          "text": [
            "Results summary\n",
            "Results in tuner_dir_0/tune_housing_model\n",
            "Showing 3 best trials\n",
            "Objective(name=\"val_loss\", direction=\"min\")\n",
            "\n",
            "Trial 09 summary\n",
            "Hyperparameters:\n",
            "n_hid_layers: 2\n",
            "n_neurons_0: 48\n",
            "activation_0: relu\n",
            "activation_output: linear\n",
            "learning_rate: 0.00724696590440984\n",
            "n_neurons_1: 96\n",
            "activation_1: sigmoid\n",
            "Score: 0.27770957350730896\n",
            "\n",
            "Trial 01 summary\n",
            "Hyperparameters:\n",
            "n_hid_layers: 2\n",
            "n_neurons_0: 128\n",
            "activation_0: sigmoid\n",
            "activation_output: linear\n",
            "learning_rate: 0.009038408225650444\n",
            "n_neurons_1: 64\n",
            "activation_1: relu\n",
            "Score: 0.28969764709472656\n",
            "\n",
            "Trial 02 summary\n",
            "Hyperparameters:\n",
            "n_hid_layers: 1\n",
            "n_neurons_0: 80\n",
            "activation_0: relu\n",
            "activation_output: linear\n",
            "learning_rate: 0.004831622738137635\n",
            "n_neurons_1: 32\n",
            "activation_1: relu\n",
            "Score: 0.3006684482097626\n"
          ]
        }
      ],
      "source": [
        "tuner.results_summary(3)"
      ]
    },
    {
      "cell_type": "markdown",
      "metadata": {
        "id": "ddHTkxmaJo5C"
      },
      "source": [
        "### Retrain best model"
      ]
    },
    {
      "cell_type": "code",
      "execution_count": 108,
      "metadata": {
        "colab": {
          "base_uri": "https://localhost:8080/"
        },
        "id": "Et_1vKm6JaW6",
        "outputId": "641e324c-ed8a-4df3-a006-f963b8a14563"
      },
      "outputs": [
        {
          "name": "stdout",
          "output_type": "stream",
          "text": [
            "Model: \"sequential_2\"\n",
            "_________________________________________________________________\n",
            " Layer (type)                Output Shape              Param #   \n",
            "=================================================================\n",
            " dense_6 (Dense)             (None, 48)                432       \n",
            "                                                                 \n",
            " dense_7 (Dense)             (None, 96)                4704      \n",
            "                                                                 \n",
            " dense_8 (Dense)             (None, 1)                 97        \n",
            "                                                                 \n",
            "=================================================================\n",
            "Total params: 5,233\n",
            "Trainable params: 5,233\n",
            "Non-trainable params: 0\n",
            "_________________________________________________________________\n"
          ]
        }
      ],
      "source": [
        "model = build_model_reg(tuner.get_best_hyperparameters()[0])\n",
        "model.build(input_shape=(None,) + X_train.shape[1:])\n",
        "\n",
        "model.summary()"
      ]
    },
    {
      "cell_type": "code",
      "execution_count": 109,
      "metadata": {
        "colab": {
          "base_uri": "https://localhost:8080/"
        },
        "id": "-SaGabkvJE4f",
        "outputId": "a878026f-88d4-48ba-8f26-e30f2dd1e224"
      },
      "outputs": [
        {
          "name": "stdout",
          "output_type": "stream",
          "text": [
            "Epoch 1/500\n",
            "49/49 [==============================] - 3s 11ms/step - loss: 1.1235 - val_loss: 0.5184\n",
            "Epoch 2/500\n",
            "49/49 [==============================] - 0s 7ms/step - loss: 0.4471 - val_loss: 0.4324\n",
            "Epoch 3/500\n",
            "49/49 [==============================] - 0s 6ms/step - loss: 0.3967 - val_loss: 0.4041\n",
            "Epoch 4/500\n",
            "49/49 [==============================] - 0s 7ms/step - loss: 0.3720 - val_loss: 0.3898\n",
            "Epoch 5/500\n",
            "49/49 [==============================] - 0s 7ms/step - loss: 0.3610 - val_loss: 0.3772\n",
            "Epoch 6/500\n",
            "49/49 [==============================] - 0s 6ms/step - loss: 0.3529 - val_loss: 0.3724\n",
            "Epoch 7/500\n",
            "49/49 [==============================] - 0s 7ms/step - loss: 0.3494 - val_loss: 0.3672\n",
            "Epoch 8/500\n",
            "49/49 [==============================] - 0s 6ms/step - loss: 0.3378 - val_loss: 0.3561\n",
            "Epoch 9/500\n",
            "49/49 [==============================] - 0s 5ms/step - loss: 0.3316 - val_loss: 0.3472\n",
            "Epoch 10/500\n",
            "49/49 [==============================] - 0s 4ms/step - loss: 0.3279 - val_loss: 0.3419\n",
            "Epoch 11/500\n",
            "49/49 [==============================] - 0s 4ms/step - loss: 0.3230 - val_loss: 0.3534\n",
            "Epoch 12/500\n",
            "49/49 [==============================] - 0s 4ms/step - loss: 0.3173 - val_loss: 0.3345\n",
            "Epoch 13/500\n",
            "49/49 [==============================] - 0s 4ms/step - loss: 0.3128 - val_loss: 0.3340\n",
            "Epoch 14/500\n",
            "49/49 [==============================] - 0s 4ms/step - loss: 0.3110 - val_loss: 0.3310\n",
            "Epoch 15/500\n",
            "49/49 [==============================] - 0s 4ms/step - loss: 0.3042 - val_loss: 0.3332\n",
            "Epoch 16/500\n",
            "49/49 [==============================] - 0s 4ms/step - loss: 0.3041 - val_loss: 0.3248\n",
            "Epoch 17/500\n",
            "49/49 [==============================] - 0s 6ms/step - loss: 0.2975 - val_loss: 0.3290\n",
            "Epoch 18/500\n",
            "49/49 [==============================] - 0s 6ms/step - loss: 0.2991 - val_loss: 0.3225\n",
            "Epoch 19/500\n",
            "49/49 [==============================] - 0s 6ms/step - loss: 0.2929 - val_loss: 0.3183\n",
            "Epoch 20/500\n",
            "49/49 [==============================] - 0s 6ms/step - loss: 0.2927 - val_loss: 0.3366\n",
            "Epoch 21/500\n",
            "49/49 [==============================] - 0s 6ms/step - loss: 0.2909 - val_loss: 0.3194\n",
            "Epoch 22/500\n",
            "49/49 [==============================] - 0s 6ms/step - loss: 0.2889 - val_loss: 0.3159\n",
            "Epoch 23/500\n",
            "49/49 [==============================] - 0s 6ms/step - loss: 0.2871 - val_loss: 0.3114\n",
            "Epoch 24/500\n",
            "49/49 [==============================] - 0s 6ms/step - loss: 0.2891 - val_loss: 0.3127\n",
            "Epoch 25/500\n",
            "49/49 [==============================] - 0s 6ms/step - loss: 0.2832 - val_loss: 0.3121\n",
            "Epoch 26/500\n",
            "49/49 [==============================] - 0s 4ms/step - loss: 0.2845 - val_loss: 0.3264\n",
            "Epoch 27/500\n",
            "49/49 [==============================] - 0s 4ms/step - loss: 0.2882 - val_loss: 0.3065\n",
            "Epoch 28/500\n",
            "49/49 [==============================] - 0s 4ms/step - loss: 0.2848 - val_loss: 0.3232\n",
            "Epoch 29/500\n",
            "49/49 [==============================] - 0s 5ms/step - loss: 0.2855 - val_loss: 0.3053\n",
            "Epoch 30/500\n",
            "49/49 [==============================] - 0s 4ms/step - loss: 0.2784 - val_loss: 0.3027\n",
            "Epoch 31/500\n",
            "49/49 [==============================] - 0s 4ms/step - loss: 0.2803 - val_loss: 0.3298\n",
            "Epoch 32/500\n",
            "49/49 [==============================] - 0s 5ms/step - loss: 0.2765 - val_loss: 0.3051\n",
            "Epoch 33/500\n",
            "49/49 [==============================] - 0s 5ms/step - loss: 0.2796 - val_loss: 0.2993\n",
            "Epoch 34/500\n",
            "49/49 [==============================] - 0s 4ms/step - loss: 0.2725 - val_loss: 0.3027\n",
            "Epoch 35/500\n",
            "49/49 [==============================] - 0s 4ms/step - loss: 0.2790 - val_loss: 0.3162\n",
            "Epoch 36/500\n",
            "49/49 [==============================] - 0s 5ms/step - loss: 0.2750 - val_loss: 0.3013\n",
            "Epoch 37/500\n",
            "49/49 [==============================] - 0s 4ms/step - loss: 0.2789 - val_loss: 0.3064\n",
            "Epoch 38/500\n",
            "49/49 [==============================] - 0s 4ms/step - loss: 0.2705 - val_loss: 0.3062\n",
            "Epoch 39/500\n",
            "49/49 [==============================] - 0s 4ms/step - loss: 0.2706 - val_loss: 0.3087\n",
            "Epoch 40/500\n",
            "49/49 [==============================] - 0s 5ms/step - loss: 0.2682 - val_loss: 0.2949\n",
            "Epoch 41/500\n",
            "49/49 [==============================] - 0s 4ms/step - loss: 0.2649 - val_loss: 0.3018\n",
            "Epoch 42/500\n",
            "49/49 [==============================] - 0s 4ms/step - loss: 0.2701 - val_loss: 0.3006\n",
            "Epoch 43/500\n",
            "49/49 [==============================] - 0s 5ms/step - loss: 0.2656 - val_loss: 0.2946\n",
            "Epoch 44/500\n",
            "49/49 [==============================] - 0s 4ms/step - loss: 0.2641 - val_loss: 0.2970\n",
            "Epoch 45/500\n",
            "49/49 [==============================] - 0s 5ms/step - loss: 0.2653 - val_loss: 0.2900\n",
            "Epoch 46/500\n",
            "49/49 [==============================] - 0s 4ms/step - loss: 0.2669 - val_loss: 0.3028\n",
            "Epoch 47/500\n",
            "49/49 [==============================] - 0s 4ms/step - loss: 0.2659 - val_loss: 0.2936\n",
            "Epoch 48/500\n",
            "49/49 [==============================] - 0s 4ms/step - loss: 0.2652 - val_loss: 0.2974\n",
            "Epoch 49/500\n",
            "49/49 [==============================] - 0s 4ms/step - loss: 0.2613 - val_loss: 0.3024\n",
            "Epoch 50/500\n",
            "49/49 [==============================] - 0s 4ms/step - loss: 0.2626 - val_loss: 0.2932\n",
            "Epoch 51/500\n",
            "49/49 [==============================] - 0s 4ms/step - loss: 0.2588 - val_loss: 0.2958\n",
            "Epoch 52/500\n",
            "49/49 [==============================] - 0s 5ms/step - loss: 0.2602 - val_loss: 0.2936\n",
            "Epoch 53/500\n",
            "49/49 [==============================] - 0s 4ms/step - loss: 0.2630 - val_loss: 0.2977\n",
            "Epoch 54/500\n",
            "49/49 [==============================] - 0s 4ms/step - loss: 0.2628 - val_loss: 0.2893\n",
            "Epoch 55/500\n",
            "49/49 [==============================] - 0s 4ms/step - loss: 0.2586 - val_loss: 0.2858\n",
            "Epoch 56/500\n",
            "49/49 [==============================] - 0s 4ms/step - loss: 0.2569 - val_loss: 0.2890\n",
            "Epoch 57/500\n",
            "49/49 [==============================] - 0s 5ms/step - loss: 0.2571 - val_loss: 0.2903\n",
            "Epoch 58/500\n",
            "49/49 [==============================] - 0s 4ms/step - loss: 0.2588 - val_loss: 0.2977\n",
            "Epoch 59/500\n",
            "49/49 [==============================] - 0s 4ms/step - loss: 0.2559 - val_loss: 0.2848\n",
            "Epoch 60/500\n",
            "49/49 [==============================] - 0s 4ms/step - loss: 0.2584 - val_loss: 0.3046\n",
            "Epoch 61/500\n",
            "49/49 [==============================] - 0s 5ms/step - loss: 0.2584 - val_loss: 0.3007\n",
            "Epoch 62/500\n",
            "49/49 [==============================] - 0s 5ms/step - loss: 0.2556 - val_loss: 0.2972\n",
            "Epoch 63/500\n",
            "49/49 [==============================] - 0s 5ms/step - loss: 0.2525 - val_loss: 0.2865\n",
            "Epoch 64/500\n",
            "49/49 [==============================] - 0s 4ms/step - loss: 0.2499 - val_loss: 0.2841\n",
            "Epoch 65/500\n",
            "49/49 [==============================] - 0s 5ms/step - loss: 0.2519 - val_loss: 0.2842\n",
            "Epoch 66/500\n",
            "49/49 [==============================] - 0s 5ms/step - loss: 0.2536 - val_loss: 0.2845\n",
            "Epoch 67/500\n",
            "49/49 [==============================] - 0s 4ms/step - loss: 0.2520 - val_loss: 0.2908\n",
            "Epoch 68/500\n",
            "49/49 [==============================] - 0s 4ms/step - loss: 0.2526 - val_loss: 0.2809\n",
            "Epoch 69/500\n",
            "49/49 [==============================] - 0s 4ms/step - loss: 0.2526 - val_loss: 0.2859\n",
            "Epoch 70/500\n",
            "49/49 [==============================] - 0s 4ms/step - loss: 0.2463 - val_loss: 0.2805\n",
            "Epoch 71/500\n",
            "49/49 [==============================] - 0s 5ms/step - loss: 0.2456 - val_loss: 0.2853\n",
            "Epoch 72/500\n",
            "49/49 [==============================] - 0s 5ms/step - loss: 0.2470 - val_loss: 0.2829\n",
            "Epoch 73/500\n",
            "49/49 [==============================] - 0s 5ms/step - loss: 0.2463 - val_loss: 0.2827\n",
            "Epoch 74/500\n",
            "49/49 [==============================] - 0s 6ms/step - loss: 0.2457 - val_loss: 0.2794\n",
            "Epoch 75/500\n",
            "49/49 [==============================] - 0s 6ms/step - loss: 0.2461 - val_loss: 0.2793\n",
            "Epoch 76/500\n",
            "49/49 [==============================] - 0s 6ms/step - loss: 0.2488 - val_loss: 0.2824\n",
            "Epoch 77/500\n",
            "49/49 [==============================] - 0s 5ms/step - loss: 0.2412 - val_loss: 0.2795\n",
            "Epoch 78/500\n",
            "49/49 [==============================] - 0s 6ms/step - loss: 0.2423 - val_loss: 0.2789\n",
            "Epoch 79/500\n",
            "49/49 [==============================] - 0s 6ms/step - loss: 0.2426 - val_loss: 0.2810\n",
            "Epoch 80/500\n",
            "49/49 [==============================] - 0s 6ms/step - loss: 0.2424 - val_loss: 0.2805\n",
            "Epoch 81/500\n",
            "49/49 [==============================] - 0s 5ms/step - loss: 0.2421 - val_loss: 0.2767\n",
            "Epoch 82/500\n",
            "49/49 [==============================] - 0s 5ms/step - loss: 0.2418 - val_loss: 0.2835\n",
            "Epoch 83/500\n",
            "49/49 [==============================] - 0s 4ms/step - loss: 0.2454 - val_loss: 0.2826\n",
            "Epoch 84/500\n",
            "49/49 [==============================] - 0s 4ms/step - loss: 0.2373 - val_loss: 0.2756\n",
            "Epoch 85/500\n",
            "49/49 [==============================] - 0s 4ms/step - loss: 0.2365 - val_loss: 0.2821\n",
            "Epoch 86/500\n",
            "49/49 [==============================] - 0s 4ms/step - loss: 0.2386 - val_loss: 0.2828\n",
            "Epoch 87/500\n",
            "49/49 [==============================] - 0s 4ms/step - loss: 0.2352 - val_loss: 0.2786\n",
            "Epoch 88/500\n",
            "49/49 [==============================] - 0s 4ms/step - loss: 0.2360 - val_loss: 0.2780\n",
            "Epoch 89/500\n",
            "49/49 [==============================] - 0s 5ms/step - loss: 0.2327 - val_loss: 0.2793\n",
            "Epoch 90/500\n",
            "49/49 [==============================] - 0s 5ms/step - loss: 0.2366 - val_loss: 0.2755\n",
            "Epoch 91/500\n",
            "49/49 [==============================] - 0s 4ms/step - loss: 0.2352 - val_loss: 0.2758\n",
            "Epoch 92/500\n",
            "49/49 [==============================] - 0s 4ms/step - loss: 0.2334 - val_loss: 0.2770\n",
            "Epoch 93/500\n",
            "49/49 [==============================] - 0s 4ms/step - loss: 0.2333 - val_loss: 0.2821\n",
            "Epoch 94/500\n",
            "49/49 [==============================] - 0s 4ms/step - loss: 0.2327 - val_loss: 0.2780\n",
            "Epoch 95/500\n",
            "49/49 [==============================] - 0s 4ms/step - loss: 0.2323 - val_loss: 0.2752\n",
            "Epoch 96/500\n",
            "49/49 [==============================] - 0s 4ms/step - loss: 0.2369 - val_loss: 0.2760\n",
            "Epoch 97/500\n",
            "49/49 [==============================] - 0s 4ms/step - loss: 0.2319 - val_loss: 0.2744\n",
            "Epoch 98/500\n",
            "49/49 [==============================] - 0s 5ms/step - loss: 0.2313 - val_loss: 0.2806\n",
            "Epoch 99/500\n",
            "49/49 [==============================] - 0s 4ms/step - loss: 0.2319 - val_loss: 0.2770\n",
            "Epoch 100/500\n",
            "49/49 [==============================] - 0s 5ms/step - loss: 0.2330 - val_loss: 0.2782\n",
            "Epoch 101/500\n",
            "49/49 [==============================] - 0s 4ms/step - loss: 0.2287 - val_loss: 0.2793\n",
            "Epoch 102/500\n",
            "49/49 [==============================] - 0s 5ms/step - loss: 0.2269 - val_loss: 0.2736\n",
            "Epoch 103/500\n",
            "49/49 [==============================] - 0s 4ms/step - loss: 0.2285 - val_loss: 0.2821\n",
            "Epoch 104/500\n",
            "49/49 [==============================] - 0s 4ms/step - loss: 0.2273 - val_loss: 0.2753\n",
            "Epoch 105/500\n",
            "49/49 [==============================] - 0s 4ms/step - loss: 0.2265 - val_loss: 0.2779\n",
            "Epoch 106/500\n",
            "49/49 [==============================] - 0s 4ms/step - loss: 0.2259 - val_loss: 0.2780\n",
            "Epoch 107/500\n",
            "49/49 [==============================] - 0s 4ms/step - loss: 0.2267 - val_loss: 0.2743\n",
            "Epoch 108/500\n",
            "49/49 [==============================] - 0s 4ms/step - loss: 0.2289 - val_loss: 0.2751\n",
            "Epoch 109/500\n",
            "49/49 [==============================] - 0s 5ms/step - loss: 0.2259 - val_loss: 0.2879\n",
            "Epoch 110/500\n",
            "49/49 [==============================] - 0s 4ms/step - loss: 0.2296 - val_loss: 0.2814\n",
            "Epoch 111/500\n",
            "49/49 [==============================] - 0s 4ms/step - loss: 0.2274 - val_loss: 0.2887\n",
            "Epoch 112/500\n",
            "36/49 [=====================>........] - ETA: 0s - loss: 0.2293Restoring model weights from the end of the best epoch: 102.\n",
            "49/49 [==============================] - 0s 5ms/step - loss: 0.2289 - val_loss: 0.2867\n",
            "Epoch 112: early stopping\n"
          ]
        }
      ],
      "source": [
        "early_stop = tf.keras.callbacks.EarlyStopping(patience=10, monitor='val_loss',\n",
        "                                              restore_best_weights=True,\n",
        "                                              verbose=1)\n",
        "\n",
        "history = model.fit(X_train, y_train, validation_data=(X_val, y_val),\n",
        "                    epochs=500, batch_size=256, callbacks=[early_stop])"
      ]
    },
    {
      "cell_type": "code",
      "execution_count": 110,
      "metadata": {
        "colab": {
          "base_uri": "https://localhost:8080/",
          "height": 452
        },
        "id": "8emmjb5SM56_",
        "outputId": "6a995703-707f-4a35-aa64-c4dbd74773b1"
      },
      "outputs": [
        {
          "data": {
            "image/png": "[encoded data removed]",
            "text/plain": [
              "<Figure size 640x480 with 1 Axes>"
            ]
          },
          "metadata": {},
          "output_type": "display_data"
        }
      ],
      "source": [
        "loss = history.history['loss']\n",
        "val_loss = history.history['val_loss']\n",
        "epochs = range(len(loss))\n",
        "\n",
        "plt.plot(epochs, loss)\n",
        "plt.plot(epochs, val_loss)\n",
        "plt.legend(['loss', 'val_loss'], loc='upper right')\n",
        "plt.title('Train Loss vs Val Loss')\n",
        "plt.show()"
      ]
    },
    {
      "cell_type": "code",
      "execution_count": 111,
      "metadata": {
        "colab": {
          "base_uri": "https://localhost:8080/"
        },
        "id": "NBH7TfNaM57A",
        "outputId": "b59b4c32-0501-4a28-bec1-fdbaf8beb137"
      },
      "outputs": [
        {
          "name": "stdout",
          "output_type": "stream",
          "text": [
            "129/129 [==============================] - 0s 2ms/step - loss: 0.2736\n"
          ]
        },
        {
          "data": {
            "text/plain": [
              "0.2735856771469116"
            ]
          },
          "execution_count": 111,
          "metadata": {},
          "output_type": "execute_result"
        }
      ],
      "source": [
        "model.evaluate(X_val, y_val)"
      ]
    },
    {
      "cell_type": "code",
      "execution_count": 112,
      "metadata": {
        "colab": {
          "base_uri": "https://localhost:8080/"
        },
        "id": "srKUf5buM57B",
        "outputId": "86985424-1e2c-41a7-9c6f-77e424efb80b"
      },
      "outputs": [
        {
          "name": "stdout",
          "output_type": "stream",
          "text": [
            "129/129 [==============================] - 0s 3ms/step - loss: 0.2652\n"
          ]
        },
        {
          "data": {
            "text/plain": [
              "0.2651788592338562"
            ]
          },
          "execution_count": 112,
          "metadata": {},
          "output_type": "execute_result"
        }
      ],
      "source": [
        "model.evaluate(X_test, y_test)"
      ]
    },
    {
      "cell_type": "code",
      "execution_count": 113,
      "metadata": {
        "colab": {
          "base_uri": "https://localhost:8080/",
          "height": 448
        },
        "id": "lCrrbIcMM57B",
        "outputId": "ce5904c8-115f-460c-e36c-5b3ae133dc96"
      },
      "outputs": [
        {
          "name": "stdout",
          "output_type": "stream",
          "text": [
            "129/129 [==============================] - 0s 1ms/step\n"
          ]
        },
        {
          "data": {
            "image/png": "[encoded data removed]",
            "text/plain": [
              "<Figure size 640x480 with 1 Axes>"
            ]
          },
          "metadata": {},
          "output_type": "display_data"
        }
      ],
      "source": [
        "y_pred = model.predict(X_test)\n",
        "\n",
        "plt.hist(y_pred, color='green', alpha=.6)\n",
        "plt.hist(y_test, color='blue', alpha=.6)\n",
        "plt.legend(['prediction', 'truth'], loc='upper right')\n",
        "plt.show()"
      ]
    },
    {
      "cell_type": "markdown",
      "metadata": {
        "id": "vDdTTlFXSSiL"
      },
      "source": [
        "## Valuable Resources to Learn More:\n",
        "\n",
        "- http://neuralnetworksanddeeplearning.com/ (membahas cara kerja neural network secara matematis, cocok untuk yang suka belajar dengan membaca)\n",
        "- http://introtodeeplearning.com/ (membahas cara kerja neural network hingga CNN, RNN, reinforcement learning, dan lain - lain, cocok untuk yang suka belajar dengan menonton video dan ingin mendalami deep learning lebih lanjut)\n",
        "- Buku \"Hands-On Machine Learning with Scikit-Learn, Keras, and TensorFlow\" by Aurélien Géron (membahas implementasi Machine Learning dan Deep Learning pada library-library yang tertera di judulnya)"
      ]
    }
  ],
  "metadata": {
    "accelerator": "GPU",
    "colab": {
      "gpuType": "T4",
      "provenance": [],
      "toc_visible": true
    },
    "gpuClass": "standard",
    "kernelspec": {
      "display_name": "Python 3",
      "name": "python3"
    },
    "language_info": {
      "name": "python"
    }
  },
  "nbformat": 4,
  "nbformat_minor": 0
}
