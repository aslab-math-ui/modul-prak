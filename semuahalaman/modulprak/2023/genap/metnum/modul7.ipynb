{
 "cells": [
  {
   "cell_type": "markdown",
   "metadata": {
    "id": "x-vXchUrnqOk"
   },
   "source": [
    "# Modul 7 Praktikum Metode Numerik: Metode Iteratif untuk SPL"
   ]
  },
  {
   "cell_type": "markdown",
   "metadata": {},
   "source": [
    "Kembali ke [Metode Numerik](./metnum2023genap.qmd)"
   ]
  },
  {
   "cell_type": "markdown",
   "metadata": {},
   "source": [
    "1. Beberapa jenis norm vektor\n",
    "2. Masalah *copy* untuk *array* numpy\n",
    "3. Metode Jacobi, algoritma praktis\n",
    "4. Metode Gauss-Seidel, algoritma praktis\n",
    "5. Metode Relaksasi (SOR), algoritma praktis\n",
    "6. (**Pengayaan**) Metode Jacobi, dalam bentuk matriks (teoritis)\n",
    "7. (**Pengayaan**) Metode Gauss-Seidel, dalam bentuk matriks (teoritis)\n",
    "8. (**Pengayaan**) Metode SOR, dalam bentuk matriks (teoritis)"
   ]
  },
  {
   "cell_type": "markdown",
   "metadata": {
    "id": "tmOlapBLx7mN"
   },
   "source": [
    "Modul praktikum ini diawali dengan pembahasan tentang beberapa jenis norm vektor. Kemudian, metode yang dibahas di modul kali ini, utamanya hanyalah \"versi praktis\" untuk algoritma metode Jacobi, metode Gauss-Seidel, dan metode relaksasi (SOR). Metode Gauss-Seidel adalah perbaikan dari metode Jacobi, dan metode SOR adalah perbaikan dari metode Gauss-Seidel. Istilah \"versi praktis\" di sini maksudnya agar dibedakan dari bentuk matriks $T\\textbf{x}+\\textbf{c}$ (sebagai materi pengayaan) untuk metode-metode tersebut.\n",
    "\n",
    "Inti sari dari ketiga metode tersebut adalah perumuman dari metode *fixed-point* (dari bab 2, metode numerik untuk *root-finding*), yang tadinya dilakukan untuk satu variabel/persamaan saja, menjadi dilakukan untuk beberapa variabel/persamaan sekaligus (yang kebetulan membentuk SPL). Langkah paling pertama dalam mempersiapkan penyelesaian SPL dengan metode-metode tersebut adalah seperti melakukan pindah ruas ke sebelah kanan untuk semua suku kecuali variabel pada diagonal, mirip dengan ide substitusi balik. Langkah ini tersirat ketika menuliskan bentuk umum metode-metode tersebut dalam bentuk sumasi. Selain itu, seperti metode *fixed-point*, diperlukan tebakan awal untuk nilai tiap variabel.\n",
    "\n",
    "Untuk perumuman metode *fixed-point* yang lebih umum lagi, yaitu untuk sistem persamaan yang tidak harus linier (tidak harus berbentuk SPL), dibahas di bab 10.1 di buku Burden. Bab 8, 9, dan 10 di buku Burden dibahas di mata kuliah pilihan program studi S1 Matematika yang bernama \"Matematika Numerik\", dengan prasyarat Metode Numerik.\n",
    "\n",
    "Pembahasan teoritis di kelas (perkuliahan) Metode Numerik juga mencakup pembahasan metode Jacobi, metode Gauss-Seidel, dan metode SOR dalam bentuk matriks, dengan bentuk umum $T\\textbf{x}+\\textbf{c}$. Bentuk matriks untuk metode-metode tersebut tidak menjadi fokus di praktikum (bahkan di buku Burden, akhir halaman 452, juga disebut bahwa bentuk matriks tersebut biasanya hanya digunakan untuk pembahasan teoritis), tetapi tetap disediakan di modul praktikum ini sebagai materi pengayaan."
   ]
  },
  {
   "cell_type": "markdown",
   "metadata": {
    "id": "q3xyK7Q7nKzJ"
   },
   "source": [
    "# 1. Beberapa jenis norm vektor"
   ]
  },
  {
   "cell_type": "markdown",
   "metadata": {
    "id": "UAtMRjBbnNvE"
   },
   "source": [
    "Ada beberapa jenis norm vektor, yaitu semacam ukuran \"besar\" (*magnitude*) atau \"panjang\" untuk vektor. Salah satu kegunaannya adalah membandingkan \"ukuran\" antara dua vektor, yang mana yang lebih besar/kecil. Tiga jenis norm yang terkenal adalah:\n",
    "\n",
    "1. Euclidean norm, sering disebut *2-norm* atau $L_2$-norm, dan perhitungannya seperti menggunakan teorema Pythagoras. Penulisan: $||\\textbf{v}||_2$\n",
    "2. Infinity norm (norm tak hingga), terkadang disebut $L_{\\infty}$-norm, yaitu sama saja maksimum dari semua mutlak elemen vektor. Penulisan: $||\\textbf{v}||_{\\infty}$\n",
    "3. Manhattan distance atau Taxicab norm, sering disebut *1-norm* atau $L_1$-norm, yaitu menjumlahkan mutlak tiap elemen vektor. Penulisan: $||\\textbf{v}||_1$"
   ]
  },
  {
   "cell_type": "markdown",
   "metadata": {
    "id": "kXHpHjm9peoj"
   },
   "source": [
    "Numpy bisa menghitung beberapa jenis norm, termasuk ketiga jenis norm di atas, menggunakan `numpy.linalg.norm(vektor, jenis_norm)`, di mana vektor dibuat dengan `numpy.array`."
   ]
  },
  {
   "cell_type": "code",
   "execution_count": null,
   "metadata": {
    "id": "dl2bynrKrd2j"
   },
   "outputs": [],
   "source": [
    "import numpy as np"
   ]
  },
  {
   "cell_type": "code",
   "execution_count": null,
   "metadata": {
    "colab": {
     "base_uri": "https://localhost:8080/"
    },
    "id": "EUt4VVganNW2",
    "outputId": "07b5590d-9de0-4eee-ed09-5aae1aa85fff"
   },
   "outputs": [
    {
     "name": "stdout",
     "output_type": "stream",
     "text": [
      "[ 3 -4]\n"
     ]
    }
   ],
   "source": [
    "vektor_kecil = np.array([3,-4])\n",
    "print(vektor_kecil)"
   ]
  },
  {
   "cell_type": "markdown",
   "metadata": {
    "id": "3YjxQEM6rV2p"
   },
   "source": [
    "Contoh norm-2, dengan *option* `ord=2`:"
   ]
  },
  {
   "cell_type": "code",
   "execution_count": null,
   "metadata": {
    "colab": {
     "base_uri": "https://localhost:8080/"
    },
    "id": "d-V4z7_VrYlw",
    "outputId": "160a0f4c-5f97-4511-d334-ef764e6e8300"
   },
   "outputs": [
    {
     "data": {
      "text/plain": [
       "5.0"
      ]
     },
     "execution_count": null,
     "metadata": {},
     "output_type": "execute_result"
    }
   ],
   "source": [
    "np.linalg.norm(vektor_kecil, ord=2)"
   ]
  },
  {
   "cell_type": "markdown",
   "metadata": {
    "id": "m4T9GiZrr8e0"
   },
   "source": [
    "Output adalah 5, karena $||\\textbf{v}||_2=\\sqrt{3^2+\\left(-4\\right)^2}=\\sqrt{25}=5$."
   ]
  },
  {
   "cell_type": "markdown",
   "metadata": {
    "id": "IW_yI6vtro61"
   },
   "source": [
    "Sebenarnya, \"ord\" tidak harus ditulis:"
   ]
  },
  {
   "cell_type": "code",
   "execution_count": null,
   "metadata": {
    "colab": {
     "base_uri": "https://localhost:8080/"
    },
    "id": "EHKC_FIArtLm",
    "outputId": "8a16f6f9-30ed-4493-ece2-ada2e3a03569"
   },
   "outputs": [
    {
     "data": {
      "text/plain": [
       "5.0"
      ]
     },
     "execution_count": null,
     "metadata": {},
     "output_type": "execute_result"
    }
   ],
   "source": [
    "np.linalg.norm(vektor_kecil, 2)"
   ]
  },
  {
   "cell_type": "markdown",
   "metadata": {
    "id": "jlbQE3Mgrydv"
   },
   "source": [
    "Contoh norm-infinity, dengan *option* `ord=numpy.inf`:"
   ]
  },
  {
   "cell_type": "code",
   "execution_count": null,
   "metadata": {
    "colab": {
     "base_uri": "https://localhost:8080/"
    },
    "id": "UT9IcVSyrzsC",
    "outputId": "49fd448f-248c-4a6a-ecae-dfbb8e36602b"
   },
   "outputs": [
    {
     "data": {
      "text/plain": [
       "4.0"
      ]
     },
     "execution_count": null,
     "metadata": {},
     "output_type": "execute_result"
    }
   ],
   "source": [
    "np.linalg.norm(vektor_kecil, np.inf)"
   ]
  },
  {
   "cell_type": "markdown",
   "metadata": {
    "id": "gWuZd2JfsLWL"
   },
   "source": [
    "Output adalah 4, karena $||\\textbf{v}||_{\\infty} = \\max \\left( |3|, |-4| \\right) = \\max \\left( 3, 4 \\right) = 4$."
   ]
  },
  {
   "cell_type": "markdown",
   "metadata": {
    "id": "7EOge_EgrvhC"
   },
   "source": [
    "Contoh norm-1:"
   ]
  },
  {
   "cell_type": "code",
   "execution_count": null,
   "metadata": {
    "colab": {
     "base_uri": "https://localhost:8080/"
    },
    "id": "plrqqrgirwlx",
    "outputId": "7430f1fe-2a8c-4079-834a-bef85aeff4bb"
   },
   "outputs": [
    {
     "data": {
      "text/plain": [
       "7.0"
      ]
     },
     "execution_count": null,
     "metadata": {},
     "output_type": "execute_result"
    }
   ],
   "source": [
    "np.linalg.norm(vektor_kecil, 1)"
   ]
  },
  {
   "cell_type": "markdown",
   "metadata": {
    "id": "_5olyUYCscsK"
   },
   "source": [
    "Output adalah 7, karena $||\\textbf{v}||_1 = |3| + |-4| = 3+4=7$."
   ]
  },
  {
   "cell_type": "markdown",
   "metadata": {
    "id": "XnCCAh3Ftbo9"
   },
   "source": [
    "Masing-masing jenis norm memiliki kelebihan dan kekurangan. (Untuk ke depannya, kita akan menggunakan norm-infinity, sesuai buku Burden). Apapun jenis norm yang Anda gunakan, untuk perhitungan apapun, pastikan Anda konsisten selalu menggunakan jenis norm yang sama dari awal sampai akhir perhitungan."
   ]
  },
  {
   "cell_type": "markdown",
   "metadata": {
    "id": "SL4szK4qrJwr"
   },
   "source": [
    "Untuk jenis norm lainnya, bisa baca lebih lanjut di dokumentasi numpy (pada keterangan *option* \"ord\"): https://numpy.org/doc/stable/reference/generated/numpy.linalg.norm.html"
   ]
  },
  {
   "cell_type": "markdown",
   "metadata": {
    "id": "fdufS_Knsi7k"
   },
   "source": [
    "# 2. Masalah *copy* untuk *array* numpy"
   ]
  },
  {
   "cell_type": "markdown",
   "metadata": {
    "id": "VdJLyRm6wIt9"
   },
   "source": [
    "Ada satu hal yang perlu dibahas sebelum melanjutkan ke pembahasan metode iteratif untuk SPL.\n",
    "\n",
    "Salah satu kekurangan numpy (dan Python secara umum) adalah bahwa kita tidak bisa meng-*copy* suatu *array* (ataupun *list*) dengan *assignment*. Melakukan *assignment* seolah-olah hanya membuat \"sinonim\", sehingga perubahan pada salah satu *array*/*list* juga akan mengubah *array*/*list* yang satunya (istilahnya *shallow copy*). Perhatikan,"
   ]
  },
  {
   "cell_type": "code",
   "execution_count": null,
   "metadata": {
    "id": "KxSqIFCpsalU"
   },
   "outputs": [],
   "source": [
    "import numpy as np"
   ]
  },
  {
   "cell_type": "code",
   "execution_count": null,
   "metadata": {
    "colab": {
     "base_uri": "https://localhost:8080/"
    },
    "id": "NjTd_DZks752",
    "outputId": "c770c552-3f85-48cd-8f41-eb281a002e77"
   },
   "outputs": [
    {
     "name": "stdout",
     "output_type": "stream",
     "text": [
      "[9 8 7 6]\n"
     ]
    }
   ],
   "source": [
    "array1 = np.array([9, 8, 7, 6])\n",
    "print(array1)"
   ]
  },
  {
   "cell_type": "code",
   "execution_count": null,
   "metadata": {
    "id": "xis1SGK_tJ1f"
   },
   "outputs": [],
   "source": [
    "# Apakah cara copy seperti ini?\n",
    "array2 = array1"
   ]
  },
  {
   "cell_type": "code",
   "execution_count": null,
   "metadata": {
    "colab": {
     "base_uri": "https://localhost:8080/"
    },
    "id": "IrQRsWfetVBV",
    "outputId": "b98b76d9-7897-4804-8c34-14997e426220"
   },
   "outputs": [
    {
     "name": "stdout",
     "output_type": "stream",
     "text": [
      "[9 8 7 6]\n"
     ]
    }
   ],
   "source": [
    "print(array2)"
   ]
  },
  {
   "cell_type": "markdown",
   "metadata": {
    "id": "ANAYf_oBwsSj"
   },
   "source": [
    "Seandainya `array2` diubah..."
   ]
  },
  {
   "cell_type": "code",
   "execution_count": null,
   "metadata": {
    "colab": {
     "base_uri": "https://localhost:8080/"
    },
    "id": "lWLZAEmjtZ2x",
    "outputId": "808e9394-25d7-4ef1-e43b-4308f13d7bbc"
   },
   "outputs": [
    {
     "name": "stdout",
     "output_type": "stream",
     "text": [
      "[ 9  8 15  6]\n"
     ]
    }
   ],
   "source": [
    "array2[2] = 15\n",
    "print(array2)"
   ]
  },
  {
   "cell_type": "markdown",
   "metadata": {
    "id": "JLIidyX1wvRP"
   },
   "source": [
    "... maka `array1` juga mengalami perubahan yang sama."
   ]
  },
  {
   "cell_type": "code",
   "execution_count": null,
   "metadata": {
    "colab": {
     "base_uri": "https://localhost:8080/"
    },
    "id": "3y40mgn_tiat",
    "outputId": "c28d5dc7-d756-4711-8dbc-35421972c98a"
   },
   "outputs": [
    {
     "name": "stdout",
     "output_type": "stream",
     "text": [
      "[ 9  8 15  6]\n"
     ]
    }
   ],
   "source": [
    "print(array1)"
   ]
  },
  {
   "cell_type": "markdown",
   "metadata": {
    "id": "29C3nK3Nwy1f"
   },
   "source": [
    "Cara *copy* yang tepat untuk *array* maupun *list* adalah menggunakan akhiran `.copy()` seperti berikut ini."
   ]
  },
  {
   "cell_type": "code",
   "execution_count": null,
   "metadata": {
    "colab": {
     "base_uri": "https://localhost:8080/"
    },
    "id": "AI3C4AJgt02x",
    "outputId": "258c49f5-a400-4a64-a241-768ec95bbe3d"
   },
   "outputs": [
    {
     "name": "stdout",
     "output_type": "stream",
     "text": [
      "[ 9  8 15  6]\n"
     ]
    }
   ],
   "source": [
    "array3 = array1.copy()\n",
    "print(array3)"
   ]
  },
  {
   "cell_type": "markdown",
   "metadata": {
    "id": "2JcKcVayw5eT"
   },
   "source": [
    "Sehingga, perubahan pada salah satu tidak akan mempengaruhi yang satunya lagi. Artinya, *copy* telah dilakukan secara sempurna (disebut *deep copy*)."
   ]
  },
  {
   "cell_type": "code",
   "execution_count": null,
   "metadata": {
    "colab": {
     "base_uri": "https://localhost:8080/"
    },
    "id": "9FlLQABqt-gc",
    "outputId": "5271e9e7-4e4b-42f0-c116-4e3d63d4a25e"
   },
   "outputs": [
    {
     "name": "stdout",
     "output_type": "stream",
     "text": [
      "[ 9  8 15 20]\n",
      "[ 9  8 15  6]\n"
     ]
    }
   ],
   "source": [
    "array3[3] = 20\n",
    "print(array3)\n",
    "print(array1)"
   ]
  },
  {
   "cell_type": "markdown",
   "metadata": {
    "id": "CekCBUqSxj3E"
   },
   "source": [
    "Untuk ke depannya, kita akan sering menggunakan `.copy()`."
   ]
  },
  {
   "cell_type": "markdown",
   "metadata": {
    "id": "qazfw2AyxKfR"
   },
   "source": [
    "*Fun fact:* sepertinya, permasalahan *shallow copy* ini berhubungan erat dengan cara dibuatnya module numpy yang sebenarnya tersambung dengan bahasa pemrograman C, yang juga memiliki keanehan yang serupa untuk *array*."
   ]
  },
  {
   "cell_type": "markdown",
   "metadata": {
    "id": "MiWzHUOdoK01"
   },
   "source": [
    "# 3. Metode Jacobi, algoritma praktis"
   ]
  },
  {
   "cell_type": "markdown",
   "metadata": {
    "id": "I2ZSwYwD1lwj"
   },
   "source": [
    "Misalkan vektor $\\textbf{x}^{(k)} = \\left( x_1^{(k)}, x_2^{(k)}, \\dots, x_n^{(k)} \\right)^t$ (ditranspos agar berupa vektor kolom) adalah hasil aproksimasi pada iterasi ke-k untuk solusi SPL $n$-variabel $A\\textbf{x}=\\textbf{b}$.\n",
    "\n",
    "Metode Jacobi memiliki formula sebagai berikut:\n",
    "\n",
    "$$x_i^{(k)} = \\frac{1}{a_{ii}} \\left[ \\sum_{j=1,j\\ne i}^{n} \\left(-a_{ij}x_j^{(k-1)} \\right) + b_i \\right],\\hspace{0.5cm} i = 1, 2, \\dots, n $$\n",
    "\n",
    "Kriteria pemberhentian iterasi bisa berupa\n",
    "*   *error* mutlak: $||\\textbf{x}^{(k)}-\\textbf{x}^{(k-1)}|| < \\epsilon$\n",
    "*   *error* relatif: $\\frac{||\\textbf{x}^{(k)}-\\textbf{x}^{(k-1)}||}{||\\textbf{x}^{(k)}||} < \\epsilon$"
   ]
  },
  {
   "cell_type": "markdown",
   "metadata": {
    "id": "UDSlbaYa3bwJ"
   },
   "source": [
    "Pada kode berikut ini, kita akan menggunakan *error* mutlak dan norm tak hingga."
   ]
  },
  {
   "cell_type": "code",
   "execution_count": null,
   "metadata": {
    "id": "1a4AQKMsnnB2"
   },
   "outputs": [],
   "source": [
    "import numpy as np\n",
    "\n",
    "def Jacobi(matriks, tebakan_awal, tol):\n",
    "    # banyaknya baris pada matriks, atau sama saja banyaknya variabel\n",
    "    n = np.shape(matriks)[0]\n",
    "\n",
    "    # definisikan vektor x0 sebagai tebakan awal\n",
    "    x0 = tebakan_awal.copy()\n",
    "\n",
    "    # yang akan diubah nilainya adalah vektor x,\n",
    "    x = x0.copy()\n",
    "    # sedangkan vektor x0 tetap disimpan,\n",
    "    # agar nanti bisa dibandingkan untuk perhitungan error\n",
    "\n",
    "    # berikut ini, iterasi pertama dilakukan sebelum while loop\n",
    "    # karena error belum diketahui\n",
    "\n",
    "    # metode Jacobi untuk tiap i\n",
    "    for i in range(n):\n",
    "        # konstanta pada SPL\n",
    "        b = matriks[i, n]\n",
    "\n",
    "        # menerapkan rumus metode Jacobi\n",
    "        for j in range(n):\n",
    "            if j != i:\n",
    "                b = b - matriks[i,j] * x0[j]\n",
    "                        # a_ij * x_j\n",
    "        x[i] = b/matriks[i,i] # hasil aproksimasi Jacobi\n",
    "    \n",
    "    # untuk iterasi kedua dan seterusnya, masuk ke while loop\n",
    "\n",
    "    while np.linalg.norm(x-x0, np.inf) > tol: # kriteria pemberhentian\n",
    "        # x0 sudah bukan lagi tebakan awal, tetapi menjadi vektor x(k-1):\n",
    "        x0 = x\n",
    "        # kemudian nilai yang baru akan disimpan pada vektor x(k) berikut:\n",
    "        x = x0.copy()\n",
    "\n",
    "        # metode Jacobi untuk tiap i, kode sama persis dengan yang di atas\n",
    "        for i in range(n):\n",
    "            b = matriks[i, n]\n",
    "            for j in range(n):\n",
    "                if j != i:\n",
    "                    b = b - matriks[i,j] * x0[j]\n",
    "            x[i] = b/matriks[i,i]\n",
    "    \n",
    "    # jika keluar while loop maka metode selesai, x(k) adalah vektor hasil akhir\n",
    "    return x"
   ]
  },
  {
   "cell_type": "code",
   "execution_count": null,
   "metadata": {
    "colab": {
     "base_uri": "https://localhost:8080/"
    },
    "id": "YLI9ahdkx3KR",
    "outputId": "ab6ff842-0586-4d5c-d4e5-dfc71e0dcbdb"
   },
   "outputs": [
    {
     "name": "stdout",
     "output_type": "stream",
     "text": [
      "Masukkan matriks diperbesar: [ [10, -1, 2, 0, 6], [-1, 11, -1, 3, 25], [2, -1, 10, -1, -11], [0, 3, -1, 8, 15] ]\n",
      "Masukkan tebakan awal: [0,0,0,0]\n",
      "Masukkan toleransi: 10**-4\n",
      "Hasil metode Jacobi adalah:\n",
      "[ 0.99998973  2.00001582 -1.00001257  1.00001924]\n"
     ]
    }
   ],
   "source": [
    "matriks_diperbesar = np.array(eval(input(\"Masukkan matriks diperbesar: \"))).astype(float)\n",
    "tebakan_awal = np.array(eval(input(\"Masukkan tebakan awal: \")), dtype=float)\n",
    "# catatan: .astype(float) dan dtype=float melakukan hal yang sama,\n",
    "# dengan cara penggunaan yang sedikit berbeda:\n",
    "# - numpy.array(...).astype(float)\n",
    "# - numpy.array(..., dtype=float)\n",
    "# tidak ada salahnya apabila menggunakan salah satu saja (lebih baik konsisten)\n",
    "\n",
    "toleransi = eval(input(\"Masukkan toleransi: \"))\n",
    "\n",
    "hasil = Jacobi(matriks_diperbesar, tebakan_awal, toleransi)\n",
    "print(\"Hasil metode Jacobi adalah:\")\n",
    "print(hasil)"
   ]
  },
  {
   "cell_type": "markdown",
   "metadata": {
    "id": "EoEQ7h7-oMkq"
   },
   "source": [
    "# 4. Metode Gauss-Seidel, algoritma praktis"
   ]
  },
  {
   "cell_type": "markdown",
   "metadata": {
    "id": "2ivuqTCi4UR6"
   },
   "source": [
    "Metode Gauss-Seidel adalah modifikasi/perkembangan dari metode Jacobi, di mana semua nilai $x_i$ yang digunakan untuk perhitungan adalah selalu yang terbaru. Artinya, ketika menghitung $x_i^{(k)}$, meskipun nilai-nilai $x_{i+1}, \\dots, x_n$ yang digunakan adalah dari iterasi sebelumnya, nilai-nilai $x_1, x_2, \\dots, x_{i-1}$ yang digunakan adalah yang baru saja dihitung, yaitu dari iterasi yang sama. Hal ini tidak seperti metode Jacobi yang selalu menggunakan nilai-nilai dari iterasi sebelumnya.\n",
    "\n",
    "Oleh karena itu, untuk metode Gauss-Seidel, penulisan sumasi dipisah menjadi dua bagian, yaitu satu bagian untuk penggunaan nilai-nilai dari iterasi yang sama $(k)$, dan satu bagian untuk penggunaan nilai-nilai dari iterasi sebelumnya $(k-1)$.\n",
    "\n",
    "$$x_i^{(k)} = \\frac{1}{a_{ii}} \\left[ -\\sum_{j=1}^{i-1} \\left( a_{ij}x_j^{(k)} \\right) - \\sum_{j=i+1}^{n} \\left( a_{ij}x_j^{(k-1)} \\right) + b_i \\right],\\hspace{0.5cm} i = 1, 2, \\dots, n $$\n",
    "\n",
    "Akibat selalu menggunakan nilai-nilai terbaru, metode Gauss-Seidel cenderung lebih cepat konvergen memenuhi toleransi daripada metode Jacobi."
   ]
  },
  {
   "cell_type": "code",
   "execution_count": null,
   "metadata": {
    "id": "5njARortoNpT"
   },
   "outputs": [],
   "source": [
    "import numpy as np\n",
    "\n",
    "def GaussSeidel(matriks, tebakan_awal, tol):\n",
    "    # banyaknya baris pada matriks, atau sama saja banyaknya variabel\n",
    "    n = np.shape(matriks)[0]\n",
    "\n",
    "    # definisikan vektor x0 sebagai tebakan awal\n",
    "    x0 = tebakan_awal.copy()\n",
    "\n",
    "    # yang akan diubah nilainya adalah vektor x,\n",
    "    x = x0.copy()\n",
    "    # sedangkan vektor x0 tetap disimpan,\n",
    "    # karena metode Gauss-Seidel membutuhkan nilai pada iterasi\n",
    "    # sebelumnya dan juga iterasi yang sedang dilakukan\n",
    "\n",
    "    # berikut ini, iterasi pertama dilakukan sebelum while loop\n",
    "    # karena error belum diketahui\n",
    "\n",
    "    # metode Gauss-Seidel untuk tiap i\n",
    "    for i in range(n):\n",
    "        # konstanta pada SPL\n",
    "        b = matriks[i,n]\n",
    "\n",
    "        # menerapkan rumus metode Gauss-Seidel\n",
    "        for j in range(n):\n",
    "            if j != i:\n",
    "                if j < i: # jika di sebelah kiri diagonal, sudah dihitung\n",
    "                    b = b - matriks[i,j] * x[j] # gunakan x_j dari vektor x(k)\n",
    "                else: # jika di sebelah kanan diagonal, belum dihitung\n",
    "                    b = b - matriks[i,j] * x0[j] # gunakan x_j dari x(k-1)\n",
    "        x[i] = b/matriks[i,i] # hasil aproksimasi Gauss-Seidel\n",
    "\n",
    "    # untuk iterasi kedua dan seterusnya, masuk ke while loop\n",
    "    \n",
    "    while np.linalg.norm(x-x0, np.inf) > tol: # kriteria pemberhentian\n",
    "        # x0 sudah bukan lagi tebakan awal, tetapi menjadi vektor x(k-1):\n",
    "        x0 = x\n",
    "        # kemudian nilai yang baru akan disimpan pada vektor x(k) berikut:\n",
    "        x = x0.copy()\n",
    "\n",
    "        # metode Gauss-Seidel untuk tiap i, kode sama persis dengan yang di atas\n",
    "        for i in range(n):\n",
    "            b = matriks[i,n]\n",
    "            for j in range(n):\n",
    "                if j != i:\n",
    "                    if j < i:\n",
    "                        b = b - matriks[i,j] * x[j]\n",
    "                    else:\n",
    "                        b = b - matriks[i,j] * x0[j]\n",
    "            x[i] = b/matriks[i,i]\n",
    "    \n",
    "    # jika keluar while loop maka metode selesai, x(k) adalah vektor hasil akhir\n",
    "    return x"
   ]
  },
  {
   "cell_type": "code",
   "execution_count": null,
   "metadata": {
    "colab": {
     "base_uri": "https://localhost:8080/"
    },
    "id": "Q2vOge4o19Ch",
    "outputId": "f814aee0-cce2-4868-d417-a854c6abf613"
   },
   "outputs": [
    {
     "name": "stdout",
     "output_type": "stream",
     "text": [
      "Masukkan matriks diperbesar: [ [10, -1, 2, 0, 6], [-1, 11, -1, 3, 25], [2, -1, 10, -1, -11], [0, 3, -1, 8, 15] ]\n",
      "Masukkan tebakan awal: [0,0,0,0]\n",
      "Masukkan toleransi: 10**-4\n",
      "Hasil Gauss-Seidel adalah:\n",
      "[ 1.00000836  2.00000117 -1.00000275  0.99999922]\n"
     ]
    }
   ],
   "source": [
    "matriks_diperbesar = np.array(eval(input(\"Masukkan matriks diperbesar: \"))).astype(float)\n",
    "tebakan_awal = np.array(eval(input(\"Masukkan tebakan awal: \")), dtype=float)\n",
    "toleransi = eval(input(\"Masukkan toleransi: \"))\n",
    "\n",
    "hasil = GaussSeidel(matriks_diperbesar, tebakan_awal, toleransi)\n",
    "print(\"Hasil Gauss-Seidel adalah:\")\n",
    "print(hasil)"
   ]
  },
  {
   "cell_type": "markdown",
   "metadata": {
    "id": "O4C3qU9eoOQC"
   },
   "source": [
    "# 5. Metode Relaksasi (SOR), algoritma praktis"
   ]
  },
  {
   "cell_type": "markdown",
   "metadata": {
    "id": "Eg-99ST-61j6"
   },
   "source": [
    "Metode relaksasi (***relaxation methods***) adalah metode untuk mempercepat kekonvergenan dari solusi yang dihasilkan oleh metode iteratif untuk SPL (dalam hal ini, metode Gauss-Seidel). Berdasarkan besar faktor relaksasi $\\omega$, metode relaksasi terbagi menjadi dua jenis, yaitu\n",
    "*   metode *under relaxation* jika $0 < \\omega < 1$\n",
    "*   metode *over relaxation* jika $\\omega > 1$\n",
    "\n",
    "Sesuai buku Burden, pembahasan kita akan fokus ke metode *over relaxation*. Metode *over relaxation* yang diterapkan terus-menerus untuk tiap iterasi Gauss-Seidel disebut metode ***Successive Over-Relaxation*** (SOR).\n",
    "\n",
    "Untuk sembarang nilai omega, rumus metode relaksasi sebagai modifikasi Gauss-Seidel bisa dituliskan sebagai berikut:\n",
    "\n",
    "$$x_i^{(k)} = \\left(1-\\omega\\right)x_i^{(k-1)} + \\frac{\\omega}{a_{ii}} \\left[ -\\sum_{j=1}^{i-1} \\left( a_{ij}x_j^{(k)} \\right) - \\sum_{j=i+1}^{n} \\left( a_{ij}x_j^{(k-1)} \\right) + b_i \\right],\\hspace{0.5cm} i = 1, 2, \\dots, n $$\n",
    "\n",
    "Catatan: jika $\\omega = 1$, diperoleh metode Gauss-Seidel yang telah dibahas sebelumnya (tanpa relaksasi)."
   ]
  },
  {
   "cell_type": "code",
   "execution_count": null,
   "metadata": {
    "id": "I47NE-C7oPZd"
   },
   "outputs": [],
   "source": [
    "import numpy as np\n",
    "\n",
    "def SOR(matriks, tebakan_awal, omega, tol):\n",
    "    # banyaknya baris pada matriks, atau sama saja banyaknya variabel\n",
    "    n = np.shape(matriks)[0]\n",
    "\n",
    "    # definisikan vektor x0 sebagai tebakan awal\n",
    "    x0 = tebakan_awal.copy()\n",
    "\n",
    "    # yang akan diubah nilainya adalah vektor x,\n",
    "    x = x0.copy()\n",
    "    # sedangkan vektor x0 tetap disimpan,\n",
    "    # karena metode SOR (seperti Gauss-Seidel) membutuhkan nilai pada iterasi\n",
    "    # sebelumnya dan juga iterasi yang sedang dilakukan\n",
    "\n",
    "    # berikut ini, iterasi pertama dilakukan sebelum while loop\n",
    "    # karena error belum diketahui\n",
    "\n",
    "    # metode SOR untuk tiap i\n",
    "    for i in range(n):\n",
    "        # sejauh ini masih sama persis dengan Gauss-Seidel:\n",
    "        b = matriks[i,n]\n",
    "        for j in range(n):\n",
    "            if j != i:\n",
    "                if j < i:\n",
    "                    b = b - matriks[i,j] * x[j]\n",
    "                else:\n",
    "                    b = b - matriks[i,j] * x0[j]\n",
    "        \n",
    "        # bedanya dengan metode Gauss-Seidel hanya di baris berikut:\n",
    "        x[i] = (1-omega) * x0[i] + omega*b/matriks[i,i] # hasil aproksimasi SOR\n",
    "    \n",
    "    # untuk iterasi kedua dan seterusnya, masuk ke while loop\n",
    "\n",
    "    while np.linalg.norm(x-x0, np.inf) > tol: # kriteria pemberhentian\n",
    "        # x0 sudah bukan lagi tebakan awal, tetapi menjadi vektor x(k-1):\n",
    "        x0 = x\n",
    "        # kemudian nilai yang baru akan disimpan pada vektor x(k) berikut:\n",
    "        x = x0.copy()\n",
    "\n",
    "        # metode SOR untuk tiap i, kode sama persis dengan yang di atas\n",
    "        for i in range(n):\n",
    "            b = matriks[i,n]\n",
    "            for j in range(n):\n",
    "                if j != i:\n",
    "                    if j < i:\n",
    "                        b = b - matriks[i,j] * x[j]\n",
    "                    else:\n",
    "                        b = b - matriks[i,j] * x0[j]\n",
    "            x[i] = (1-omega) * x0[i] + omega*b/matriks[i,i]\n",
    "    \n",
    "    # jika keluar while loop maka metode selesai, x(k) adalah vektor hasil akhir\n",
    "    return x"
   ]
  },
  {
   "cell_type": "code",
   "execution_count": null,
   "metadata": {
    "colab": {
     "base_uri": "https://localhost:8080/"
    },
    "id": "uVmFqQB27rhQ",
    "outputId": "e5e277ae-1039-415a-d939-92923886f9c0"
   },
   "outputs": [
    {
     "name": "stdout",
     "output_type": "stream",
     "text": [
      "Masukkan matriks diperbesar: [ [4, 3, 0, 24], [3, 4, -1, 30], [0, -1, 4, -24] ]\n",
      "Masukkan tebakan awal: [0,0,0]\n",
      "Masukkan faktor relaksasi (omega): 1.25\n",
      "Masukkan toleransi: 10**-4\n",
      "Hasil SOR adalah:\n",
      "[ 2.99998919  4.00000321 -4.9999937 ]\n"
     ]
    }
   ],
   "source": [
    "matriks_diperbesar = np.array(eval(input(\"Masukkan matriks diperbesar: \"))).astype(float)\n",
    "tebakan_awal = np.array(eval(input(\"Masukkan tebakan awal: \")), dtype=float)\n",
    "omega = eval(input(\"Masukkan faktor relaksasi (omega): \"))\n",
    "toleransi = eval(input(\"Masukkan toleransi: \"))\n",
    "\n",
    "hasil = SOR(matriks_diperbesar, tebakan_awal, omega, toleransi)\n",
    "print(\"Hasil SOR adalah:\")\n",
    "print(hasil)"
   ]
  },
  {
   "cell_type": "markdown",
   "metadata": {
    "id": "3l5p9p2uth_C"
   },
   "source": [
    "# 6. (**Pengayaan**) Metode Jacobi, dalam bentuk matriks (teoritis)"
   ]
  },
  {
   "cell_type": "markdown",
   "metadata": {
    "id": "U95pGi0ftm0r"
   },
   "source": [
    "Secara konsep, metode iteratif untuk SPL bisa dianggap sebagai semacam perumuman dari metode *fixed-point*, yang tadinya hanya satu variabel/persamaan menjadi banyak variabel/persamaan. Bentuk sumasi untuk masing-masing metode memang terlihat agak berbeda satu sama lain (seperti tidak bisa disamakan atau dibuat bentuk umumnya), terutama antara metode Jacobi dan metode Gauss-Seidel. Namun, mengingat asal-usulnya sebagai perumuman metode *fixed-point*, dan berhubung sistem persamaan yang ingin diselesaikan bersifat linier (membentuk SPL), metode iteratif untuk SPL bisa dituliskan dalam suatu bentuk umum menggunakan matriks (bentuk matriks), yakni\n",
    "\n",
    "$$\\textbf{x}^{(k)} = T\\textbf{x}^{(k-1)} + \\textbf{c}$$\n",
    "\n",
    "di mana isi matriks $T$ dan vektor konstanta $\\textbf{c}$ ditentukan tergantung metode iteratif yang digunakan: apakah metode Jacobi, metode Gauss-Seidel, atau metode SOR.\n",
    "\n",
    "Sekilas, bentuk umum tersebut memang terlihat lebih sederhana, seperti betapa sederhananya metode *fixed-point*. Namun, secara perhitungan, perkalian matriks bisa memakan waktu yang relatif lama, sehingga versi praktis yang telah dibahas sebelumnya lah yang lebih cocok untuk dibuat program maupun untuk perhitungan manual.\n",
    "\n",
    "Meskipun demikian, bentuk umum di atas masih ada kegunaannya, khususnya untuk mempermudah pembahasan teoritis seperti analisis *error*. Berikut ini, kita tetap akan membahas bentuk matriks untuk ketiga metode tersebut sebagai materi pengayaan."
   ]
  },
  {
   "cell_type": "markdown",
   "metadata": {
    "id": "yT0FBDGN587O"
   },
   "source": [
    "Sebelumnya, dari SPL $A\\textbf{x}=\\textbf{b}$, kita bisa \"memecah\" matriks koefisien $A$ menjadi tiga bagian, yaitu $A = (-L_{neg}) + D + (-U_{neg})$ atau sama saja $A = D - L_{neg} - U_{neg}$:\n",
    "* Matriks $(-L_{neg})$ adalah matriks segitiga bawah menggunakan elemen matriks $A$ yang berada di bawah diagonal, sedangkan sisanya nol.\n",
    "* Matriks $D$ adalah matriks diagonal yang menggunakan elemen diagonal matriks $A$, sedangkan sisanya nol.\n",
    "* Matriks $(-U_{neg})$ adalah matriks segitiga atas yang menggunakan elemen $A$ yang berada di atas diagonal, sedangkan sisanya nol.\n",
    "\n",
    "Perhatikan bahwa matriks $(-L_{neg})$ dan $(-U_{neg})$ dituliskan dengan tanda minus. Sebenarnya, nilai elemen segitiga bawah/atas yang disimpan ke matriks $L_{neg}$ dan $U_{neg}$ ini adalah negatif dari nilai aslinya di matriks $A$. Sehinga, matriks segitiga bawah/atas yang memuat nilai aslinya bisa ditulis dengan minus: $(-L_{neg})$ dan $(-U_{neg})$. Keterangan \"neg\" maksudnya negatif, sehingga minus negatif menjadi kembali positif atau menjadi nilai aslinya. Hati-hati, pembahasan di buku Burden tidak melibatkan keterangan \"neg\", sehingga langsung ditulis misalnya $A=D-L-U$.\n",
    "\n",
    "$$A = \\begin{bmatrix}\n",
    "a_{11} & a_{12} & \\dots & a_{1n} \\\\\n",
    "a_{21} & a_{22} & \\dots & a_{2n} \\\\\n",
    "\\vdots & \\vdots & \\ddots & \\vdots \\\\\n",
    "a_{n1} & a_{n2} & \\dots & a_{nn}\n",
    "\\end{bmatrix}\n",
    "=\n",
    "\\begin{bmatrix}\n",
    "a_{11} & 0 & \\dots & 0 \\\\\n",
    "0 & a_{22} & \\dots & 0 \\\\\n",
    "\\vdots & \\vdots & \\ddots & \\vdots \\\\\n",
    "0 & 0 & \\dots & a_{nn}\n",
    "\\end{bmatrix}\n",
    "-\n",
    "\\begin{bmatrix}\n",
    "0 & 0 & \\dots & 0 \\\\\n",
    "-a_{21} & 0 & \\dots & 0 \\\\\n",
    "\\vdots & \\vdots & \\ddots & \\vdots \\\\\n",
    "-a_{n1} & -a_{n2} & \\dots & 0\n",
    "\\end{bmatrix}\n",
    "-\n",
    "\\begin{bmatrix}\n",
    "0 & -a_{12} & \\dots & -a_{1n} \\\\\n",
    "0 & 0 & \\dots & -a_{2n} \\\\\n",
    "\\vdots & \\vdots & \\ddots & \\vdots \\\\\n",
    "0 & 0 & \\dots & 0\n",
    "\\end{bmatrix}\n",
    "\\\\\n",
    "A = D - L_{neg} - U_{neg}\n",
    "$$"
   ]
  },
  {
   "cell_type": "markdown",
   "metadata": {
    "id": "YQMZ1nnD_6An"
   },
   "source": [
    "Dengan demikian, kita bisa menyusun fungsi untuk memisahkan matriks koefisien $A$ menjadi $D - L_{neg} - U_{neg}$."
   ]
  },
  {
   "cell_type": "code",
   "execution_count": null,
   "metadata": {
    "id": "TjybTr9mADJb"
   },
   "outputs": [],
   "source": [
    "def PisahDLnegUneg(matriks_A):\n",
    "    # memperoleh ukuran n x n dari matriks A, ambil banyaknya baris aja\n",
    "    n = np.shape(matriks_A)[0]\n",
    "\n",
    "    # buat dulu matriks D, Lneg dan Uneg, ukuran n x n, sementara nol semua\n",
    "    D = np.zeros((n,n))\n",
    "    Lneg = np.zeros((n,n))\n",
    "    Uneg = np.zeros((n,n))\n",
    "\n",
    "    # double for loop melihat tiap elemen di matriks A...\n",
    "    for i in range(n): # baris ke-i\n",
    "        for j in range(n): # kolom ke-j\n",
    "            if i == j: # jika elemen diagonal...\n",
    "                # ... maka simpan ke matriks D\n",
    "                D[i, j] = matriks_A[i, j]\n",
    "            elif i > j: # jika lebih ke bawah daripada ke kanan...\n",
    "                # ... maka simpan ke matriks Lneg (karena segitiga bawah)\n",
    "                Lneg[i, j] = -matriks_A[i, j] # (jangan lupa dibuat negatif)\n",
    "            else: # selain itu (berarti segitiga atas)\n",
    "                # simpan ke matriks Uneg, jangan lupa dibuat negatif\n",
    "                Uneg[i, j] = -matriks_A[i, j]\n",
    "    \n",
    "    # return tiga matriks sekaligus sebagai satu kesatuan\n",
    "    return (D, Lneg, Uneg)"
   ]
  },
  {
   "cell_type": "code",
   "execution_count": null,
   "metadata": {
    "colab": {
     "base_uri": "https://localhost:8080/"
    },
    "id": "pwOtZAm8AxXg",
    "outputId": "688aa86a-d292-4e7b-f267-271de8b6a637"
   },
   "outputs": [
    {
     "name": "stdout",
     "output_type": "stream",
     "text": [
      "[[1. 0. 0.]\n",
      " [0. 5. 0.]\n",
      " [0. 0. 9.]]\n",
      "[[ 0.  0.  0.]\n",
      " [-4.  0.  0.]\n",
      " [-7. -8.  0.]]\n",
      "[[ 0. -2. -3.]\n",
      " [ 0.  0. -6.]\n",
      " [ 0.  0.  0.]]\n"
     ]
    }
   ],
   "source": [
    "# Contoh\n",
    "matriks_koef = np.array([\n",
    "    [1, 2, 3],\n",
    "    [4, 5, 6],\n",
    "    [7, 8, 9]\n",
    "])\n",
    "\n",
    "D, Lneg, Uneg = PisahDLnegUneg(matriks_koef)\n",
    "print(D)\n",
    "print(Lneg)\n",
    "print(Uneg)"
   ]
  },
  {
   "cell_type": "markdown",
   "metadata": {
    "id": "02B8B5iH_I5-"
   },
   "source": [
    "Selanjutnya, kita bisa menuliskan matriks $T_j$ dan vektor konstanta $\\textbf{c}_j$ untuk metode Jacobi sebagai berikut:\n",
    "\n",
    "$$T_j = D^{-1}\\left(L_{neg}+U_{neg}\\right), \\hspace{0.5cm} \\textbf{c}_j = D^{-1}\\textbf{b}$$\n",
    "\n",
    "sehingga rumus iterasi metode Jacobi menjadi\n",
    "\n",
    "$$\\textbf{x}^{(k)} = T_j\\textbf{x}^{(k-1)} + \\textbf{c}_j$$"
   ]
  },
  {
   "cell_type": "code",
   "execution_count": null,
   "metadata": {
    "id": "zmzNsxHPtmWs"
   },
   "outputs": [],
   "source": [
    "def JacobiTeoritis(matriks_koefisien, vektor_b, tebakan_awal, tol):\n",
    "    # pisahkan dulu\n",
    "    D, Lneg, Uneg = PisahDLnegUneg(matriks_koefisien)\n",
    "\n",
    "    # susun matriks T_j dan vektor konstanta c_j\n",
    "    D_invers = np.linalg.inv(D)\n",
    "    Tj = np.matmul( D_invers, Lneg+Uneg )\n",
    "    cj = np.matmul( D_invers, vektor_b )\n",
    "\n",
    "    # iterasi pertama\n",
    "\n",
    "    # x(k-1), salin dari tebakan awal\n",
    "    xk_1 = tebakan_awal.copy()\n",
    "\n",
    "    # x(k), rumus metode Jacobi bentuk matriks\n",
    "    xk = np.matmul( Tj, xk_1 ) + cj\n",
    "\n",
    "    # iterasi kedua dan seterusnya dalam while loop\n",
    "\n",
    "    while np.linalg.norm(xk_1 - xk, np.inf) > tol: # kriteria pemberhentian\n",
    "        # yang sebelumnya menjadi x(k) itu sekarang menjadi x(k-1)\n",
    "        xk_1 = xk\n",
    "\n",
    "        # lakukan iterasi untuk memperoleh x(k) yang baru\n",
    "        xk = np.matmul( Tj, xk_1 ) + cj\n",
    "\n",
    "    # jika sudah keluar while loop, toleransi sudah terpenuhi\n",
    "    return xk"
   ]
  },
  {
   "cell_type": "code",
   "execution_count": null,
   "metadata": {
    "colab": {
     "base_uri": "https://localhost:8080/"
    },
    "id": "h9kRtJL5_gA8",
    "outputId": "120fe7c6-4745-49df-8126-8a533bec1fbe"
   },
   "outputs": [
    {
     "name": "stdout",
     "output_type": "stream",
     "text": [
      "Masukkan matriks koefisien A: [ [10, -1, 2, 0], [-1, 11, -1, 3], [2, -1, 10, -1], [0, 3, -1, 8] ]\n",
      "Masukkan vektor b: [6, 25, -11, 15]\n",
      "Masukkan tebakan awal: [0, 0, 0, 0]\n",
      "Masukkan toleransi: 10**-4\n",
      "Hasil metode Jacobi (teoritis) adalah:\n",
      "[ 0.99998973  2.00001582 -1.00001257  1.00001924]\n"
     ]
    }
   ],
   "source": [
    "matriks_koef = np.array(eval(input(\"Masukkan matriks koefisien A: \"))).astype(float)\n",
    "vektor_b = np.array(eval(input(\"Masukkan vektor b: \"))).astype(float)\n",
    "tebakan_awal = np.array(eval(input(\"Masukkan tebakan awal: \")), dtype=float)\n",
    "\n",
    "toleransi = eval(input(\"Masukkan toleransi: \"))\n",
    "\n",
    "hasil = JacobiTeoritis(matriks_koef, vektor_b, tebakan_awal, toleransi)\n",
    "print(\"Hasil metode Jacobi (teoritis) adalah:\")\n",
    "print(hasil)"
   ]
  },
  {
   "cell_type": "markdown",
   "metadata": {
    "id": "XO0j-fPit1-a"
   },
   "source": [
    "# 7. (**Pengayaan**) Metode Gauss-Seidel, dalam bentuk matriks (teoritis)"
   ]
  },
  {
   "cell_type": "markdown",
   "metadata": {
    "id": "Uaa2Kf42uJHK"
   },
   "source": [
    "Untuk metode Gauss-Seidel, kita definisikan matriks $T_g$ dan vektor konstanta $\\textbf{c}_g$ sebagai berikut:\n",
    "\n",
    "$$T_g = \\left( D - L_{neg} \\right)^{-1} U_{neg}, \\hspace{0.5cm} \\textbf{c}_g = \\left( D - L_{neg} \\right)^{-1} \\textbf{b}$$\n",
    "\n",
    "Sehingga, rumus iterasi untuk metode Gauss-Seidel bentuk matriks bisa ditulis:\n",
    "\n",
    "$$\\textbf{x}^{(k)} = T_g \\textbf{x}^{(k-1)} + \\textbf{c}_g$$"
   ]
  },
  {
   "cell_type": "code",
   "execution_count": null,
   "metadata": {
    "id": "K6y5i5TZuJQ9"
   },
   "outputs": [],
   "source": [
    "def GaussSeidelTeoritis(matriks_koefisien, vektor_b, tebakan_awal, tol):\n",
    "    # pisahkan dulu\n",
    "    D, Lneg, Uneg = PisahDLnegUneg(matriks_koefisien)\n",
    "\n",
    "    # susun matriks T_g dan vektor konstanta c_g\n",
    "    DminusLneg_invers = np.linalg.inv(D - Lneg)\n",
    "    Tg = np.matmul( DminusLneg_invers, Uneg )\n",
    "    cg = np.matmul( DminusLneg_invers, vektor_b )\n",
    "\n",
    "    # iterasi pertama\n",
    "\n",
    "    # x(k-1), salin dari tebakan awal\n",
    "    xk_1 = tebakan_awal.copy()\n",
    "\n",
    "    # x(k), rumus metode Gauss-Seidel bentuk matriks\n",
    "    xk = np.matmul( Tg, xk_1 ) + cg\n",
    "\n",
    "    # iterasi kedua dan seterusnya dalam while loop\n",
    "\n",
    "    while np.linalg.norm(xk_1 - xk, np.inf) > tol: # kriteria pemberhentian\n",
    "        # yang sebelumnya menjadi x(k) itu sekarang menjadi x(k-1)\n",
    "        xk_1 = xk\n",
    "\n",
    "        # lakukan iterasi untuk memperoleh x(k) yang baru\n",
    "        xk = np.matmul( Tg, xk_1 ) + cg\n",
    "\n",
    "    # jika sudah keluar while loop, toleransi sudah terpenuhi\n",
    "    return xk"
   ]
  },
  {
   "cell_type": "code",
   "execution_count": null,
   "metadata": {
    "colab": {
     "base_uri": "https://localhost:8080/"
    },
    "id": "rc57bE1eGZzX",
    "outputId": "ee50a5ff-fd80-4d88-e1ba-b74c548e2b67"
   },
   "outputs": [
    {
     "name": "stdout",
     "output_type": "stream",
     "text": [
      "Masukkan matriks koefisien A: [ [10, -1, 2, 0], [-1, 11, -1, 3], [2, -1, 10, -1], [0, 3, -1, 8] ]\n",
      "Masukkan vektor b: [6, 25, -11, 15]\n",
      "Masukkan tebakan awal: [0, 0, 0, 0]\n",
      "Masukkan toleransi: 10**-4\n",
      "Hasil metode Gauss-Seidel (teoritis) adalah:\n",
      "[ 1.00000836  2.00000117 -1.00000275  0.99999922]\n"
     ]
    }
   ],
   "source": [
    "matriks_koef = np.array(eval(input(\"Masukkan matriks koefisien A: \"))).astype(float)\n",
    "vektor_b = np.array(eval(input(\"Masukkan vektor b: \"))).astype(float)\n",
    "tebakan_awal = np.array(eval(input(\"Masukkan tebakan awal: \")), dtype=float)\n",
    "\n",
    "toleransi = eval(input(\"Masukkan toleransi: \"))\n",
    "\n",
    "hasil = GaussSeidelTeoritis(matriks_koef, vektor_b, tebakan_awal, toleransi)\n",
    "print(\"Hasil metode Gauss-Seidel (teoritis) adalah:\")\n",
    "print(hasil)"
   ]
  },
  {
   "cell_type": "markdown",
   "metadata": {
    "id": "09ClBm2zYuUp"
   },
   "source": [
    "# 8. (**Pengayaan**) Metode SOR, dalam bentuk matriks (teoritis)"
   ]
  },
  {
   "cell_type": "markdown",
   "metadata": {
    "id": "-dW5A3kSYxnA"
   },
   "source": [
    "Untuk metode SOR, diberikan suatu nilai omega, kita definisikan matriks $T_{\\omega}$ dan vektor konstanta $\\textbf{c}_{\\omega}$ sebagai berikut:\n",
    "\n",
    "$$T_{\\omega} = \\left( D-\\omega L \\right)^{-1}\\left[ (1-\\omega)D + \\omega U \\right], \\hspace{0.5cm} \\textbf{c}_{\\omega} = \\omega \\left( D-\\omega L\\right)^{-1} \\textbf{b}$$\n",
    "\n",
    "Sehingga, rumus iterasi untuk metode SOR bentuk matriks bisa ditulis:\n",
    "\n",
    "$$\\textbf{x}^{(k)} = T_{\\omega} \\textbf{x}^{(k-1)} + \\textbf{c}_{\\omega}$$"
   ]
  },
  {
   "cell_type": "code",
   "execution_count": null,
   "metadata": {
    "id": "S3E3aB-pYx1o"
   },
   "outputs": [],
   "source": [
    "def SORTeoritis(matriks_koefisien, vektor_b, tebakan_awal, omega, tol):\n",
    "    # pisahkan dulu\n",
    "    D, Lneg, Uneg = PisahDLnegUneg(matriks_koefisien)\n",
    "\n",
    "    # susun matriks T_omega dan vektor konstanta c_omega\n",
    "    DminusomegaLneg_invers = np.linalg.inv( D - omega * Lneg)\n",
    "    T_omega = np.matmul ( DminusomegaLneg_invers, (1-omega)*D + omega*Uneg )\n",
    "    c_omega = omega * np.matmul( DminusomegaLneg_invers, vektor_b )\n",
    "\n",
    "    # iterasi pertama\n",
    "\n",
    "    # x(k-1), salin dari tebakan awal\n",
    "    xk_1 = tebakan_awal.copy()\n",
    "\n",
    "    # x(k), rumus metode SOR bentuk matriks\n",
    "    xk = np.matmul( T_omega, xk_1 ) + c_omega\n",
    "\n",
    "    # iterasi kedua dan seterusnya dalam while loop\n",
    "\n",
    "    while np.linalg.norm(xk_1 - xk, np.inf) > tol: # kriteria pemberhentian\n",
    "        # yang sebelumnya menjadi x(k) itu sekarang menjadi x(k-1)\n",
    "        xk_1 = xk\n",
    "\n",
    "        # lakukan iterasi untuk memperoleh x(k) yang baru\n",
    "        xk = np.matmul( T_omega, xk_1 ) + c_omega\n",
    "\n",
    "    # jika sudah keluar while loop, toleransi sudah terpenuhi\n",
    "    return xk"
   ]
  },
  {
   "cell_type": "code",
   "execution_count": null,
   "metadata": {
    "colab": {
     "base_uri": "https://localhost:8080/"
    },
    "id": "qXpjtqI4IGh0",
    "outputId": "80a560f1-bd38-43b9-da89-1bf499e982d3"
   },
   "outputs": [
    {
     "name": "stdout",
     "output_type": "stream",
     "text": [
      "Masukkan matriks koefisien A: [ [4, 3, 0], [3, 4, -1], [0, -1, 4] ]\n",
      "Masukkan vektor b: [24, 30, -24]\n",
      "Masukkan tebakan awal: [0, 0, 0]\n",
      "Masukkan faktor relaksasi (omega): 1.25\n",
      "Masukkan toleransi: 10**-4\n",
      "Hasil metode SOR (teoritis) adalah:\n",
      "[ 2.99998919  4.00000321 -4.9999937 ]\n"
     ]
    }
   ],
   "source": [
    "matriks_koef = np.array(eval(input(\"Masukkan matriks koefisien A: \"))).astype(float)\n",
    "vektor_b = np.array(eval(input(\"Masukkan vektor b: \"))).astype(float)\n",
    "tebakan_awal = np.array(eval(input(\"Masukkan tebakan awal: \")), dtype=float)\n",
    "omega = eval(input(\"Masukkan faktor relaksasi (omega): \"))\n",
    "toleransi = eval(input(\"Masukkan toleransi: \"))\n",
    "\n",
    "hasil = SORTeoritis(matriks_koef, vektor_b, tebakan_awal, omega, toleransi)\n",
    "print(\"Hasil metode SOR (teoritis) adalah:\")\n",
    "print(hasil)"
   ]
  }
 ],
 "metadata": {
  "colab": {
   "provenance": []
  },
  "kernelspec": {
   "display_name": "Python 3 (ipykernel)",
   "language": "python",
   "name": "python3"
  },
  "language_info": {
   "codemirror_mode": {
    "name": "ipython",
    "version": 3
   },
   "file_extension": ".py",
   "mimetype": "text/x-python",
   "name": "python",
   "nbconvert_exporter": "python",
   "pygments_lexer": "ipython3",
   "version": "3.10.11"
  }
 },
 "nbformat": 4,
 "nbformat_minor": 1
}
